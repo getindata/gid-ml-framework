{
 "cells": [
  {
   "cell_type": "code",
   "execution_count": null,
   "metadata": {},
   "outputs": [],
   "source": [
    "import pandas as pd\n",
    "import os\n",
    "import sys\n",
    "import pickle"
   ]
  },
  {
   "cell_type": "code",
   "execution_count": null,
   "metadata": {},
   "outputs": [],
   "source": [
    "sys.path.append(\"../src/ga4_mlops/pipelines\")"
   ]
  },
  {
   "cell_type": "code",
   "execution_count": null,
   "metadata": {},
   "outputs": [],
   "source": [
    "from data_preparation_utils import extract_column_names"
   ]
  },
  {
   "cell_type": "code",
   "execution_count": null,
   "metadata": {},
   "outputs": [],
   "source": [
    "def predict(abt_predict: pd.DataFrame, model) -> pd.DataFrame:\n",
    "    \"\"\"Make predictions on a given data frame.\n",
    "\n",
    "    Args:\n",
    "        abt_predict (pd.DataFrame): data frame to predict on\n",
    "        model (): any model with predict_proba method\n",
    "\n",
    "    Returns:\n",
    "        pd.DataFrame: data frame with predicted scores\n",
    "    \"\"\"\n",
    "    # logger.info(\"Applying model to get predictions...\")\n",
    "\n",
    "    info_cols, num_cols, cat_cols, _ = extract_column_names(abt_predict)\n",
    "\n",
    "    scores = model.predict_proba(abt_predict[num_cols + cat_cols])[:, 1]\n",
    "\n",
    "    predictions = abt_predict.loc[:, info_cols]\n",
    "    predictions[\"y_score\"] = scores\n",
    "\n",
    "    return predictions"
   ]
  },
  {
   "cell_type": "code",
   "execution_count": null,
   "metadata": {},
   "outputs": [],
   "source": [
    "abt_test = pd.read_csv('../data/05_model_input/abt_test.csv')"
   ]
  },
  {
   "cell_type": "code",
   "execution_count": null,
   "metadata": {},
   "outputs": [],
   "source": [
    "with open('../data/06_models/model.pkl', 'rb') as pickle_file:\n",
    "    model = pickle.load(pickle_file)"
   ]
  },
  {
   "cell_type": "code",
   "execution_count": null,
   "metadata": {},
   "outputs": [],
   "source": [
    "info_cols, num_cols, cat_cols, target_col = extract_column_names(abt_test)"
   ]
  },
  {
   "cell_type": "code",
   "execution_count": null,
   "metadata": {},
   "outputs": [],
   "source": [
    "model.predict_proba(abt_test[num_cols + cat_cols])"
   ]
  },
  {
   "cell_type": "code",
   "execution_count": null,
   "metadata": {},
   "outputs": [],
   "source": [
    "raw_preds = predict(abt_test, model)\n",
    "raw_preds"
   ]
  },
  {
   "cell_type": "code",
   "execution_count": null,
   "metadata": {},
   "outputs": [],
   "source": [
    "from sklearn.calibration import CalibratedClassifierCV, calibration_curve"
   ]
  },
  {
   "cell_type": "code",
   "execution_count": null,
   "metadata": {},
   "outputs": [],
   "source": [
    "calibration_model = CalibratedClassifierCV(model, method=\"isotonic\", cv=\"prefit\")"
   ]
  },
  {
   "cell_type": "code",
   "execution_count": null,
   "metadata": {},
   "outputs": [],
   "source": [
    "calibration_model.fit(\n",
    "    X = abt_test[num_cols + cat_cols],\n",
    "    y = abt_test[target_col]\n",
    ")"
   ]
  },
  {
   "cell_type": "code",
   "execution_count": null,
   "metadata": {},
   "outputs": [],
   "source": [
    "calibrated_preds = predict(abt_test, calibration_model)\n",
    "calibrated_preds"
   ]
  },
  {
   "cell_type": "code",
   "execution_count": null,
   "metadata": {},
   "outputs": [],
   "source": [
    "import numpy as np"
   ]
  },
  {
   "cell_type": "code",
   "execution_count": null,
   "metadata": {},
   "outputs": [],
   "source": [
    "np.min(raw_preds[\"y_score\"]), np.mean(raw_preds[\"y_score\"]), np.max(raw_preds[\"y_score\"])"
   ]
  },
  {
   "cell_type": "code",
   "execution_count": null,
   "metadata": {},
   "outputs": [],
   "source": [
    "np.min(calibrated_preds[\"y_score\"]), np.mean(calibrated_preds[\"y_score\"]), np.max(calibrated_preds[\"y_score\"])"
   ]
  },
  {
   "cell_type": "code",
   "execution_count": null,
   "metadata": {},
   "outputs": [],
   "source": [
    "# n_bins = int(max(5, abt_test.shape[0]/100))\n",
    "n_bins = 25"
   ]
  },
  {
   "cell_type": "code",
   "execution_count": null,
   "metadata": {},
   "outputs": [],
   "source": [
    "raw_calibration_curve = calibration_curve(abt_test[target_col], raw_preds[\"y_score\"], strategy=\"quantile\", n_bins=n_bins)"
   ]
  },
  {
   "cell_type": "code",
   "execution_count": null,
   "metadata": {},
   "outputs": [],
   "source": [
    "calibrated_calibration_curve = calibration_curve(abt_test[target_col], calibrated_preds[\"y_score\"], strategy=\"quantile\", n_bins=n_bins)"
   ]
  },
  {
   "cell_type": "code",
   "execution_count": null,
   "metadata": {},
   "outputs": [],
   "source": [
    "import matplotlib.pyplot as plt\n",
    "import matplotlib.lines as mlines\n",
    "\n",
    "fig, ax = plt.subplots()\n",
    "plt.plot(raw_calibration_curve[0], raw_calibration_curve[1], marker='o', linewidth=1, label='raw')\n",
    "plt.plot(calibrated_calibration_curve[0], calibrated_calibration_curve[1], marker='o', linewidth=1, label='calibrated')\n",
    "\n",
    "ax.add_line(mlines.Line2D([0, 1], [0, 1], color='black'))\n",
    "fig.suptitle('Calibration plot (test subset)')\n",
    "ax.set_xlabel('Predicted probability')\n",
    "ax.set_ylabel('Fraction od positives')\n",
    "ax.set_xlim(0, 1)\n",
    "ax.set_ylim(0, 1)\n",
    "plt.legend()\n",
    "plt.show()"
   ]
  },
  {
   "cell_type": "code",
   "execution_count": null,
   "metadata": {},
   "outputs": [],
   "source": [
    "raw_preds = model.predict_proba(abt_test[num_cols + cat_cols])[:, 1]\n",
    "cal_preds = calibration_model.predict_proba(abt_test[num_cols + cat_cols])[:, 1]"
   ]
  },
  {
   "cell_type": "code",
   "execution_count": null,
   "metadata": {},
   "outputs": [],
   "source": [
    "type(raw_preds), type(cal_preds)"
   ]
  }
 ],
 "metadata": {
  "kernelspec": {
   "display_name": ".venv",
   "language": "python",
   "name": "python3"
  },
  "language_info": {
   "codemirror_mode": {
    "name": "ipython",
    "version": 3
   },
   "file_extension": ".py",
   "mimetype": "text/x-python",
   "name": "python",
   "nbconvert_exporter": "python",
   "pygments_lexer": "ipython3",
   "version": "3.8.12 (default, Dec  5 2022, 17:36:23) \n[Clang 13.1.6 (clang-1316.0.21.2.5)]"
  },
  "vscode": {
   "interpreter": {
    "hash": "a875e0dc97dd2951fe8b02ffd491226d1f9a0885d9ce603a879586ca268319d5"
   }
  }
 },
 "nbformat": 4,
 "nbformat_minor": 2
}
