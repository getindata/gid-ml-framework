{
 "cells": [
  {
   "cell_type": "code",
   "execution_count": 565,
   "metadata": {},
   "outputs": [],
   "source": [
    "import pandas as pd\n",
    "import os\n",
    "import sys\n",
    "import pickle"
   ]
  },
  {
   "cell_type": "code",
   "execution_count": 566,
   "metadata": {},
   "outputs": [],
   "source": [
    "sys.path.append(\"../src/ga4_mlops/pipelines\")"
   ]
  },
  {
   "cell_type": "code",
   "execution_count": 567,
   "metadata": {},
   "outputs": [],
   "source": [
    "from data_preparation_utils import extract_column_names"
   ]
  },
  {
   "cell_type": "code",
   "execution_count": 568,
   "metadata": {},
   "outputs": [],
   "source": [
    "def predict(abt_predict: pd.DataFrame, model) -> pd.DataFrame:\n",
    "    \"\"\"Make predictions on a given data frame.\n",
    "\n",
    "    Args:\n",
    "        abt_predict (pd.DataFrame): data frame to predict on\n",
    "        model (): any model with predict_proba method\n",
    "\n",
    "    Returns:\n",
    "        pd.DataFrame: data frame with predicted scores\n",
    "    \"\"\"\n",
    "    # logger.info(\"Applying model to get predictions...\")\n",
    "\n",
    "    info_cols, num_cols, cat_cols, _ = extract_column_names(abt_predict)\n",
    "\n",
    "    scores = model.predict_proba(abt_predict[num_cols + cat_cols])[:, 1]\n",
    "\n",
    "    predictions = abt_predict.loc[:, info_cols]\n",
    "    predictions[\"y_score\"] = scores\n",
    "\n",
    "    return predictions"
   ]
  },
  {
   "cell_type": "code",
   "execution_count": 569,
   "metadata": {},
   "outputs": [],
   "source": [
    "abt_test = pd.read_csv('../data/05_model_input/abt_test.csv')"
   ]
  },
  {
   "cell_type": "code",
   "execution_count": 570,
   "metadata": {},
   "outputs": [],
   "source": [
    "with open('../data/06_models/model.pkl', 'rb') as pickle_file:\n",
    "    model = pickle.load(pickle_file)"
   ]
  },
  {
   "cell_type": "code",
   "execution_count": 571,
   "metadata": {},
   "outputs": [],
   "source": [
    "info_cols, num_cols, cat_cols, target_col = extract_column_names(abt_test)"
   ]
  },
  {
   "cell_type": "code",
   "execution_count": 572,
   "metadata": {},
   "outputs": [
    {
     "data": {
      "text/plain": [
       "array([[0.50072634, 0.4992737 ],\n",
       "       [0.50072634, 0.4992737 ],\n",
       "       [0.50072634, 0.4992737 ],\n",
       "       ...,\n",
       "       [0.50072634, 0.4992737 ],\n",
       "       [0.50071234, 0.49928766],\n",
       "       [0.50072634, 0.49927363]], dtype=float32)"
      ]
     },
     "execution_count": 572,
     "metadata": {},
     "output_type": "execute_result"
    }
   ],
   "source": [
    "model.predict_proba(abt_test[num_cols + cat_cols])"
   ]
  },
  {
   "cell_type": "code",
   "execution_count": 573,
   "metadata": {},
   "outputs": [
    {
     "data": {
      "text/html": [
       "<div>\n",
       "<style scoped>\n",
       "    .dataframe tbody tr th:only-of-type {\n",
       "        vertical-align: middle;\n",
       "    }\n",
       "\n",
       "    .dataframe tbody tr th {\n",
       "        vertical-align: top;\n",
       "    }\n",
       "\n",
       "    .dataframe thead th {\n",
       "        text-align: right;\n",
       "    }\n",
       "</style>\n",
       "<table border=\"1\" class=\"dataframe\">\n",
       "  <thead>\n",
       "    <tr style=\"text-align: right;\">\n",
       "      <th></th>\n",
       "      <th>i_full_visitor_id</th>\n",
       "      <th>i_visit_start_time</th>\n",
       "      <th>i_date</th>\n",
       "      <th>y_score</th>\n",
       "    </tr>\n",
       "  </thead>\n",
       "  <tbody>\n",
       "    <tr>\n",
       "      <th>0</th>\n",
       "      <td>6.589392e+06</td>\n",
       "      <td>1.612042e+15</td>\n",
       "      <td>20210130</td>\n",
       "      <td>0.499274</td>\n",
       "    </tr>\n",
       "    <tr>\n",
       "      <th>1</th>\n",
       "      <td>8.733518e+07</td>\n",
       "      <td>1.611970e+15</td>\n",
       "      <td>20210130</td>\n",
       "      <td>0.499274</td>\n",
       "    </tr>\n",
       "    <tr>\n",
       "      <th>2</th>\n",
       "      <td>2.134926e+06</td>\n",
       "      <td>1.612026e+15</td>\n",
       "      <td>20210130</td>\n",
       "      <td>0.499274</td>\n",
       "    </tr>\n",
       "    <tr>\n",
       "      <th>3</th>\n",
       "      <td>4.547660e+09</td>\n",
       "      <td>1.611976e+15</td>\n",
       "      <td>20210130</td>\n",
       "      <td>0.499288</td>\n",
       "    </tr>\n",
       "    <tr>\n",
       "      <th>4</th>\n",
       "      <td>4.154220e+06</td>\n",
       "      <td>1.612008e+15</td>\n",
       "      <td>20210130</td>\n",
       "      <td>0.499274</td>\n",
       "    </tr>\n",
       "    <tr>\n",
       "      <th>...</th>\n",
       "      <td>...</td>\n",
       "      <td>...</td>\n",
       "      <td>...</td>\n",
       "      <td>...</td>\n",
       "    </tr>\n",
       "    <tr>\n",
       "      <th>1995</th>\n",
       "      <td>3.305593e+07</td>\n",
       "      <td>1.612022e+15</td>\n",
       "      <td>20210130</td>\n",
       "      <td>0.499553</td>\n",
       "    </tr>\n",
       "    <tr>\n",
       "      <th>1996</th>\n",
       "      <td>5.512692e+06</td>\n",
       "      <td>1.612046e+15</td>\n",
       "      <td>20210130</td>\n",
       "      <td>0.499274</td>\n",
       "    </tr>\n",
       "    <tr>\n",
       "      <th>1997</th>\n",
       "      <td>7.203708e+07</td>\n",
       "      <td>1.612014e+15</td>\n",
       "      <td>20210130</td>\n",
       "      <td>0.499274</td>\n",
       "    </tr>\n",
       "    <tr>\n",
       "      <th>1998</th>\n",
       "      <td>2.420217e+07</td>\n",
       "      <td>1.612017e+15</td>\n",
       "      <td>20210130</td>\n",
       "      <td>0.499288</td>\n",
       "    </tr>\n",
       "    <tr>\n",
       "      <th>1999</th>\n",
       "      <td>1.387531e+07</td>\n",
       "      <td>1.611983e+15</td>\n",
       "      <td>20210130</td>\n",
       "      <td>0.499274</td>\n",
       "    </tr>\n",
       "  </tbody>\n",
       "</table>\n",
       "<p>2000 rows × 4 columns</p>\n",
       "</div>"
      ],
      "text/plain": [
       "      i_full_visitor_id  i_visit_start_time    i_date   y_score\n",
       "0          6.589392e+06        1.612042e+15  20210130  0.499274\n",
       "1          8.733518e+07        1.611970e+15  20210130  0.499274\n",
       "2          2.134926e+06        1.612026e+15  20210130  0.499274\n",
       "3          4.547660e+09        1.611976e+15  20210130  0.499288\n",
       "4          4.154220e+06        1.612008e+15  20210130  0.499274\n",
       "...                 ...                 ...       ...       ...\n",
       "1995       3.305593e+07        1.612022e+15  20210130  0.499553\n",
       "1996       5.512692e+06        1.612046e+15  20210130  0.499274\n",
       "1997       7.203708e+07        1.612014e+15  20210130  0.499274\n",
       "1998       2.420217e+07        1.612017e+15  20210130  0.499288\n",
       "1999       1.387531e+07        1.611983e+15  20210130  0.499274\n",
       "\n",
       "[2000 rows x 4 columns]"
      ]
     },
     "execution_count": 573,
     "metadata": {},
     "output_type": "execute_result"
    }
   ],
   "source": [
    "raw_preds = predict(abt_test, model)\n",
    "raw_preds"
   ]
  },
  {
   "cell_type": "code",
   "execution_count": 574,
   "metadata": {},
   "outputs": [],
   "source": [
    "from sklearn.calibration import CalibratedClassifierCV, calibration_curve"
   ]
  },
  {
   "cell_type": "code",
   "execution_count": 575,
   "metadata": {},
   "outputs": [],
   "source": [
    "calibration_model = CalibratedClassifierCV(model, method=\"isotonic\", cv=\"prefit\")"
   ]
  },
  {
   "cell_type": "code",
   "execution_count": 576,
   "metadata": {},
   "outputs": [
    {
     "data": {
      "text/html": [
       "<style>#sk-container-id-28 {color: black;background-color: white;}#sk-container-id-28 pre{padding: 0;}#sk-container-id-28 div.sk-toggleable {background-color: white;}#sk-container-id-28 label.sk-toggleable__label {cursor: pointer;display: block;width: 100%;margin-bottom: 0;padding: 0.3em;box-sizing: border-box;text-align: center;}#sk-container-id-28 label.sk-toggleable__label-arrow:before {content: \"▸\";float: left;margin-right: 0.25em;color: #696969;}#sk-container-id-28 label.sk-toggleable__label-arrow:hover:before {color: black;}#sk-container-id-28 div.sk-estimator:hover label.sk-toggleable__label-arrow:before {color: black;}#sk-container-id-28 div.sk-toggleable__content {max-height: 0;max-width: 0;overflow: hidden;text-align: left;background-color: #f0f8ff;}#sk-container-id-28 div.sk-toggleable__content pre {margin: 0.2em;color: black;border-radius: 0.25em;background-color: #f0f8ff;}#sk-container-id-28 input.sk-toggleable__control:checked~div.sk-toggleable__content {max-height: 200px;max-width: 100%;overflow: auto;}#sk-container-id-28 input.sk-toggleable__control:checked~label.sk-toggleable__label-arrow:before {content: \"▾\";}#sk-container-id-28 div.sk-estimator input.sk-toggleable__control:checked~label.sk-toggleable__label {background-color: #d4ebff;}#sk-container-id-28 div.sk-label input.sk-toggleable__control:checked~label.sk-toggleable__label {background-color: #d4ebff;}#sk-container-id-28 input.sk-hidden--visually {border: 0;clip: rect(1px 1px 1px 1px);clip: rect(1px, 1px, 1px, 1px);height: 1px;margin: -1px;overflow: hidden;padding: 0;position: absolute;width: 1px;}#sk-container-id-28 div.sk-estimator {font-family: monospace;background-color: #f0f8ff;border: 1px dotted black;border-radius: 0.25em;box-sizing: border-box;margin-bottom: 0.5em;}#sk-container-id-28 div.sk-estimator:hover {background-color: #d4ebff;}#sk-container-id-28 div.sk-parallel-item::after {content: \"\";width: 100%;border-bottom: 1px solid gray;flex-grow: 1;}#sk-container-id-28 div.sk-label:hover label.sk-toggleable__label {background-color: #d4ebff;}#sk-container-id-28 div.sk-serial::before {content: \"\";position: absolute;border-left: 1px solid gray;box-sizing: border-box;top: 0;bottom: 0;left: 50%;z-index: 0;}#sk-container-id-28 div.sk-serial {display: flex;flex-direction: column;align-items: center;background-color: white;padding-right: 0.2em;padding-left: 0.2em;position: relative;}#sk-container-id-28 div.sk-item {position: relative;z-index: 1;}#sk-container-id-28 div.sk-parallel {display: flex;align-items: stretch;justify-content: center;background-color: white;position: relative;}#sk-container-id-28 div.sk-item::before, #sk-container-id-28 div.sk-parallel-item::before {content: \"\";position: absolute;border-left: 1px solid gray;box-sizing: border-box;top: 0;bottom: 0;left: 50%;z-index: -1;}#sk-container-id-28 div.sk-parallel-item {display: flex;flex-direction: column;z-index: 1;position: relative;background-color: white;}#sk-container-id-28 div.sk-parallel-item:first-child::after {align-self: flex-end;width: 50%;}#sk-container-id-28 div.sk-parallel-item:last-child::after {align-self: flex-start;width: 50%;}#sk-container-id-28 div.sk-parallel-item:only-child::after {width: 0;}#sk-container-id-28 div.sk-dashed-wrapped {border: 1px dashed gray;margin: 0 0.4em 0.5em 0.4em;box-sizing: border-box;padding-bottom: 0.4em;background-color: white;}#sk-container-id-28 div.sk-label label {font-family: monospace;font-weight: bold;display: inline-block;line-height: 1.2em;}#sk-container-id-28 div.sk-label-container {text-align: center;}#sk-container-id-28 div.sk-container {/* jupyter's `normalize.less` sets `[hidden] { display: none; }` but bootstrap.min.css set `[hidden] { display: none !important; }` so we also need the `!important` here to be able to override the default hidden behavior on the sphinx rendered scikit-learn.org. See: https://github.com/scikit-learn/scikit-learn/issues/21755 */display: inline-block !important;position: relative;}#sk-container-id-28 div.sk-text-repr-fallback {display: none;}</style><div id=\"sk-container-id-28\" class=\"sk-top-container\"><div class=\"sk-text-repr-fallback\"><pre>CalibratedClassifierCV(cv=&#x27;prefit&#x27;,\n",
       "                       estimator=XGBClassifier(alpha=3.002149270068002e-08,\n",
       "                                               base_score=0.5, booster=&#x27;gbtree&#x27;,\n",
       "                                               callbacks=None,\n",
       "                                               colsample_bylevel=0.6024218656598881,\n",
       "                                               colsample_bynode=1,\n",
       "                                               colsample_bytree=1,\n",
       "                                               early_stopping_rounds=30,\n",
       "                                               enable_categorical=False,\n",
       "                                               eta=0.0001615729117434752,\n",
       "                                               eval_metric=&#x27;auc&#x27;,\n",
       "                                               feature_types=None, gamma=0,\n",
       "                                               gpu_id=-1,\n",
       "                                               grow_policy=&#x27;lossguide&#x27;,\n",
       "                                               importance_type=None,\n",
       "                                               interaction_constraints=&#x27;&#x27;,\n",
       "                                               lambda=4.983476846377076e-06,\n",
       "                                               learning_rate=0.000161572912,\n",
       "                                               max_bin=256,\n",
       "                                               max_cat_threshold=64,\n",
       "                                               max_cat_to_onehot=4,\n",
       "                                               max_delta_step=0, max_depth=4,\n",
       "                                               max_leaves=0, min_child_weight=1,\n",
       "                                               missing=nan,\n",
       "                                               monotone_constraints=&#x27;()&#x27;,\n",
       "                                               n_estimators=200, n_jobs=0, ...),\n",
       "                       method=&#x27;isotonic&#x27;)</pre><b>In a Jupyter environment, please rerun this cell to show the HTML representation or trust the notebook. <br />On GitHub, the HTML representation is unable to render, please try loading this page with nbviewer.org.</b></div><div class=\"sk-container\" hidden><div class=\"sk-item sk-dashed-wrapped\"><div class=\"sk-label-container\"><div class=\"sk-label sk-toggleable\"><input class=\"sk-toggleable__control sk-hidden--visually\" id=\"sk-estimator-id-82\" type=\"checkbox\" ><label for=\"sk-estimator-id-82\" class=\"sk-toggleable__label sk-toggleable__label-arrow\">CalibratedClassifierCV</label><div class=\"sk-toggleable__content\"><pre>CalibratedClassifierCV(cv=&#x27;prefit&#x27;,\n",
       "                       estimator=XGBClassifier(alpha=3.002149270068002e-08,\n",
       "                                               base_score=0.5, booster=&#x27;gbtree&#x27;,\n",
       "                                               callbacks=None,\n",
       "                                               colsample_bylevel=0.6024218656598881,\n",
       "                                               colsample_bynode=1,\n",
       "                                               colsample_bytree=1,\n",
       "                                               early_stopping_rounds=30,\n",
       "                                               enable_categorical=False,\n",
       "                                               eta=0.0001615729117434752,\n",
       "                                               eval_metric=&#x27;auc&#x27;,\n",
       "                                               feature_types=None, gamma=0,\n",
       "                                               gpu_id=-1,\n",
       "                                               grow_policy=&#x27;lossguide&#x27;,\n",
       "                                               importance_type=None,\n",
       "                                               interaction_constraints=&#x27;&#x27;,\n",
       "                                               lambda=4.983476846377076e-06,\n",
       "                                               learning_rate=0.000161572912,\n",
       "                                               max_bin=256,\n",
       "                                               max_cat_threshold=64,\n",
       "                                               max_cat_to_onehot=4,\n",
       "                                               max_delta_step=0, max_depth=4,\n",
       "                                               max_leaves=0, min_child_weight=1,\n",
       "                                               missing=nan,\n",
       "                                               monotone_constraints=&#x27;()&#x27;,\n",
       "                                               n_estimators=200, n_jobs=0, ...),\n",
       "                       method=&#x27;isotonic&#x27;)</pre></div></div></div><div class=\"sk-parallel\"><div class=\"sk-parallel-item\"><div class=\"sk-item\"><div class=\"sk-label-container\"><div class=\"sk-label sk-toggleable\"><input class=\"sk-toggleable__control sk-hidden--visually\" id=\"sk-estimator-id-83\" type=\"checkbox\" ><label for=\"sk-estimator-id-83\" class=\"sk-toggleable__label sk-toggleable__label-arrow\">estimator: XGBClassifier</label><div class=\"sk-toggleable__content\"><pre>XGBClassifier(alpha=3.002149270068002e-08, base_score=0.5, booster=&#x27;gbtree&#x27;,\n",
       "              callbacks=None, colsample_bylevel=0.6024218656598881,\n",
       "              colsample_bynode=1, colsample_bytree=1, early_stopping_rounds=30,\n",
       "              enable_categorical=False, eta=0.0001615729117434752,\n",
       "              eval_metric=&#x27;auc&#x27;, feature_types=None, gamma=0, gpu_id=-1,\n",
       "              grow_policy=&#x27;lossguide&#x27;, importance_type=None,\n",
       "              interaction_constraints=&#x27;&#x27;, lambda=4.983476846377076e-06,\n",
       "              learning_rate=0.000161572912, max_bin=256, max_cat_threshold=64,\n",
       "              max_cat_to_onehot=4, max_delta_step=0, max_depth=4, max_leaves=0,\n",
       "              min_child_weight=1, missing=nan, monotone_constraints=&#x27;()&#x27;,\n",
       "              n_estimators=200, n_jobs=0, ...)</pre></div></div></div><div class=\"sk-serial\"><div class=\"sk-item\"><div class=\"sk-estimator sk-toggleable\"><input class=\"sk-toggleable__control sk-hidden--visually\" id=\"sk-estimator-id-84\" type=\"checkbox\" ><label for=\"sk-estimator-id-84\" class=\"sk-toggleable__label sk-toggleable__label-arrow\">XGBClassifier</label><div class=\"sk-toggleable__content\"><pre>XGBClassifier(alpha=3.002149270068002e-08, base_score=0.5, booster=&#x27;gbtree&#x27;,\n",
       "              callbacks=None, colsample_bylevel=0.6024218656598881,\n",
       "              colsample_bynode=1, colsample_bytree=1, early_stopping_rounds=30,\n",
       "              enable_categorical=False, eta=0.0001615729117434752,\n",
       "              eval_metric=&#x27;auc&#x27;, feature_types=None, gamma=0, gpu_id=-1,\n",
       "              grow_policy=&#x27;lossguide&#x27;, importance_type=None,\n",
       "              interaction_constraints=&#x27;&#x27;, lambda=4.983476846377076e-06,\n",
       "              learning_rate=0.000161572912, max_bin=256, max_cat_threshold=64,\n",
       "              max_cat_to_onehot=4, max_delta_step=0, max_depth=4, max_leaves=0,\n",
       "              min_child_weight=1, missing=nan, monotone_constraints=&#x27;()&#x27;,\n",
       "              n_estimators=200, n_jobs=0, ...)</pre></div></div></div></div></div></div></div></div></div></div>"
      ],
      "text/plain": [
       "CalibratedClassifierCV(cv='prefit',\n",
       "                       estimator=XGBClassifier(alpha=3.002149270068002e-08,\n",
       "                                               base_score=0.5, booster='gbtree',\n",
       "                                               callbacks=None,\n",
       "                                               colsample_bylevel=0.6024218656598881,\n",
       "                                               colsample_bynode=1,\n",
       "                                               colsample_bytree=1,\n",
       "                                               early_stopping_rounds=30,\n",
       "                                               enable_categorical=False,\n",
       "                                               eta=0.0001615729117434752,\n",
       "                                               eval_metric='auc',\n",
       "                                               feature_types=None, gamma=0,\n",
       "                                               gpu_id=-1,\n",
       "                                               grow_policy='lossguide',\n",
       "                                               importance_type=None,\n",
       "                                               interaction_constraints='',\n",
       "                                               lambda=4.983476846377076e-06,\n",
       "                                               learning_rate=0.000161572912,\n",
       "                                               max_bin=256,\n",
       "                                               max_cat_threshold=64,\n",
       "                                               max_cat_to_onehot=4,\n",
       "                                               max_delta_step=0, max_depth=4,\n",
       "                                               max_leaves=0, min_child_weight=1,\n",
       "                                               missing=nan,\n",
       "                                               monotone_constraints='()',\n",
       "                                               n_estimators=200, n_jobs=0, ...),\n",
       "                       method='isotonic')"
      ]
     },
     "execution_count": 576,
     "metadata": {},
     "output_type": "execute_result"
    }
   ],
   "source": [
    "calibration_model.fit(\n",
    "    X = abt_test[num_cols + cat_cols],\n",
    "    y = abt_test[target_col]\n",
    ")"
   ]
  },
  {
   "cell_type": "code",
   "execution_count": 577,
   "metadata": {},
   "outputs": [
    {
     "data": {
      "text/html": [
       "<div>\n",
       "<style scoped>\n",
       "    .dataframe tbody tr th:only-of-type {\n",
       "        vertical-align: middle;\n",
       "    }\n",
       "\n",
       "    .dataframe tbody tr th {\n",
       "        vertical-align: top;\n",
       "    }\n",
       "\n",
       "    .dataframe thead th {\n",
       "        text-align: right;\n",
       "    }\n",
       "</style>\n",
       "<table border=\"1\" class=\"dataframe\">\n",
       "  <thead>\n",
       "    <tr style=\"text-align: right;\">\n",
       "      <th></th>\n",
       "      <th>i_full_visitor_id</th>\n",
       "      <th>i_visit_start_time</th>\n",
       "      <th>i_date</th>\n",
       "      <th>y_score</th>\n",
       "    </tr>\n",
       "  </thead>\n",
       "  <tbody>\n",
       "    <tr>\n",
       "      <th>0</th>\n",
       "      <td>6.589392e+06</td>\n",
       "      <td>1.612042e+15</td>\n",
       "      <td>20210130</td>\n",
       "      <td>0.000000</td>\n",
       "    </tr>\n",
       "    <tr>\n",
       "      <th>1</th>\n",
       "      <td>8.733518e+07</td>\n",
       "      <td>1.611970e+15</td>\n",
       "      <td>20210130</td>\n",
       "      <td>0.000000</td>\n",
       "    </tr>\n",
       "    <tr>\n",
       "      <th>2</th>\n",
       "      <td>2.134926e+06</td>\n",
       "      <td>1.612026e+15</td>\n",
       "      <td>20210130</td>\n",
       "      <td>0.000000</td>\n",
       "    </tr>\n",
       "    <tr>\n",
       "      <th>3</th>\n",
       "      <td>4.547660e+09</td>\n",
       "      <td>1.611976e+15</td>\n",
       "      <td>20210130</td>\n",
       "      <td>0.005682</td>\n",
       "    </tr>\n",
       "    <tr>\n",
       "      <th>4</th>\n",
       "      <td>4.154220e+06</td>\n",
       "      <td>1.612008e+15</td>\n",
       "      <td>20210130</td>\n",
       "      <td>0.000000</td>\n",
       "    </tr>\n",
       "    <tr>\n",
       "      <th>...</th>\n",
       "      <td>...</td>\n",
       "      <td>...</td>\n",
       "      <td>...</td>\n",
       "      <td>...</td>\n",
       "    </tr>\n",
       "    <tr>\n",
       "      <th>1995</th>\n",
       "      <td>3.305593e+07</td>\n",
       "      <td>1.612022e+15</td>\n",
       "      <td>20210130</td>\n",
       "      <td>0.203125</td>\n",
       "    </tr>\n",
       "    <tr>\n",
       "      <th>1996</th>\n",
       "      <td>5.512692e+06</td>\n",
       "      <td>1.612046e+15</td>\n",
       "      <td>20210130</td>\n",
       "      <td>0.000000</td>\n",
       "    </tr>\n",
       "    <tr>\n",
       "      <th>1997</th>\n",
       "      <td>7.203708e+07</td>\n",
       "      <td>1.612014e+15</td>\n",
       "      <td>20210130</td>\n",
       "      <td>0.000000</td>\n",
       "    </tr>\n",
       "    <tr>\n",
       "      <th>1998</th>\n",
       "      <td>2.420217e+07</td>\n",
       "      <td>1.612017e+15</td>\n",
       "      <td>20210130</td>\n",
       "      <td>0.005682</td>\n",
       "    </tr>\n",
       "    <tr>\n",
       "      <th>1999</th>\n",
       "      <td>1.387531e+07</td>\n",
       "      <td>1.611983e+15</td>\n",
       "      <td>20210130</td>\n",
       "      <td>0.000000</td>\n",
       "    </tr>\n",
       "  </tbody>\n",
       "</table>\n",
       "<p>2000 rows × 4 columns</p>\n",
       "</div>"
      ],
      "text/plain": [
       "      i_full_visitor_id  i_visit_start_time    i_date   y_score\n",
       "0          6.589392e+06        1.612042e+15  20210130  0.000000\n",
       "1          8.733518e+07        1.611970e+15  20210130  0.000000\n",
       "2          2.134926e+06        1.612026e+15  20210130  0.000000\n",
       "3          4.547660e+09        1.611976e+15  20210130  0.005682\n",
       "4          4.154220e+06        1.612008e+15  20210130  0.000000\n",
       "...                 ...                 ...       ...       ...\n",
       "1995       3.305593e+07        1.612022e+15  20210130  0.203125\n",
       "1996       5.512692e+06        1.612046e+15  20210130  0.000000\n",
       "1997       7.203708e+07        1.612014e+15  20210130  0.000000\n",
       "1998       2.420217e+07        1.612017e+15  20210130  0.005682\n",
       "1999       1.387531e+07        1.611983e+15  20210130  0.000000\n",
       "\n",
       "[2000 rows x 4 columns]"
      ]
     },
     "execution_count": 577,
     "metadata": {},
     "output_type": "execute_result"
    }
   ],
   "source": [
    "calibrated_preds = predict(abt_test, calibration_model)\n",
    "calibrated_preds"
   ]
  },
  {
   "cell_type": "code",
   "execution_count": 578,
   "metadata": {},
   "outputs": [],
   "source": [
    "import numpy as np"
   ]
  },
  {
   "cell_type": "code",
   "execution_count": 579,
   "metadata": {},
   "outputs": [
    {
     "data": {
      "text/plain": [
       "(0.4992734, 0.49932778, 0.50013286)"
      ]
     },
     "execution_count": 579,
     "metadata": {},
     "output_type": "execute_result"
    }
   ],
   "source": [
    "np.min(raw_preds[\"y_score\"]), np.mean(raw_preds[\"y_score\"]), np.max(raw_preds[\"y_score\"])"
   ]
  },
  {
   "cell_type": "code",
   "execution_count": 580,
   "metadata": {},
   "outputs": [
    {
     "data": {
      "text/plain": [
       "(0.0, 0.040030278574166, 0.6470588445663452)"
      ]
     },
     "execution_count": 580,
     "metadata": {},
     "output_type": "execute_result"
    }
   ],
   "source": [
    "np.min(calibrated_preds[\"y_score\"]), np.mean(calibrated_preds[\"y_score\"]), np.max(calibrated_preds[\"y_score\"])"
   ]
  },
  {
   "cell_type": "code",
   "execution_count": 581,
   "metadata": {},
   "outputs": [],
   "source": [
    "# n_bins = int(max(5, abt_test.shape[0]/100))\n",
    "n_bins = 25"
   ]
  },
  {
   "cell_type": "code",
   "execution_count": 582,
   "metadata": {},
   "outputs": [],
   "source": [
    "raw_calibration_curve = calibration_curve(abt_test[target_col], raw_preds[\"y_score\"], strategy=\"quantile\", n_bins=n_bins)"
   ]
  },
  {
   "cell_type": "code",
   "execution_count": 583,
   "metadata": {},
   "outputs": [],
   "source": [
    "calibrated_calibration_curve = calibration_curve(abt_test[target_col], calibrated_preds[\"y_score\"], strategy=\"quantile\", n_bins=n_bins)"
   ]
  },
  {
   "cell_type": "code",
   "execution_count": 584,
   "metadata": {},
   "outputs": [
    {
     "data": {
      "image/png": "[encoded data removed]",
      "text/plain": [
       "<Figure size 640x480 with 1 Axes>"
      ]
     },
     "metadata": {},
     "output_type": "display_data"
    }
   ],
   "source": [
    "import matplotlib.pyplot as plt\n",
    "import matplotlib.lines as mlines\n",
    "\n",
    "fig, ax = plt.subplots()\n",
    "plt.plot(raw_calibration_curve[0], raw_calibration_curve[1], marker='o', linewidth=1, label='raw')\n",
    "plt.plot(calibrated_calibration_curve[0], calibrated_calibration_curve[1], marker='o', linewidth=1, label='calibrated')\n",
    "\n",
    "ax.add_line(mlines.Line2D([0, 1], [0, 1], color='black'))\n",
    "fig.suptitle('Calibration plot (test subset)')\n",
    "ax.set_xlabel('Predicted probability')\n",
    "ax.set_ylabel('Fraction od positives')\n",
    "ax.set_xlim(0, 1)\n",
    "ax.set_ylim(0, 1)\n",
    "plt.legend()\n",
    "plt.show()"
   ]
  },
  {
   "cell_type": "code",
   "execution_count": 585,
   "metadata": {},
   "outputs": [
    {
     "data": {
      "text/plain": [
       "sklearn.calibration.CalibratedClassifierCV"
      ]
     },
     "execution_count": 585,
     "metadata": {},
     "output_type": "execute_result"
    }
   ],
   "source": [
    "type(calibration_model)"
   ]
  },
  {
   "cell_type": "code",
   "execution_count": null,
   "metadata": {},
   "outputs": [],
   "source": []
  }
 ],
 "metadata": {
  "kernelspec": {
   "display_name": ".venv",
   "language": "python",
   "name": "python3"
  },
  "language_info": {
   "codemirror_mode": {
    "name": "ipython",
    "version": 3
   },
   "file_extension": ".py",
   "mimetype": "text/x-python",
   "name": "python",
   "nbconvert_exporter": "python",
   "pygments_lexer": "ipython3",
   "version": "3.8.12"
  },
  "orig_nbformat": 4,
  "vscode": {
   "interpreter": {
    "hash": "a875e0dc97dd2951fe8b02ffd491226d1f9a0885d9ce603a879586ca268319d5"
   }
  }
 },
 "nbformat": 4,
 "nbformat_minor": 2
}
