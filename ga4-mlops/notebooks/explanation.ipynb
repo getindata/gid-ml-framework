{
 "cells": [
  {
   "cell_type": "code",
   "execution_count": 136,
   "metadata": {},
   "outputs": [],
   "source": [
    "import pandas as pd\n",
    "import os\n",
    "import sys"
   ]
  },
  {
   "cell_type": "code",
   "execution_count": 137,
   "metadata": {},
   "outputs": [],
   "source": [
    "sys.path.append(\"../src/ga4_mlops/pipelines\")"
   ]
  },
  {
   "cell_type": "code",
   "execution_count": 138,
   "metadata": {},
   "outputs": [],
   "source": [
    "from data_preparation_utils import extract_column_names"
   ]
  },
  {
   "cell_type": "code",
   "execution_count": 139,
   "metadata": {},
   "outputs": [],
   "source": [
    "df = pd.read_csv('../data/05_model_input/abt_test.csv')"
   ]
  },
  {
   "cell_type": "code",
   "execution_count": 140,
   "metadata": {},
   "outputs": [
    {
     "data": {
      "text/plain": [
       "'y_added_to_cart'"
      ]
     },
     "execution_count": 140,
     "metadata": {},
     "output_type": "execute_result"
    }
   ],
   "source": [
    "_, _, _, target_col = extract_column_names(df)\n",
    "target_col"
   ]
  },
  {
   "cell_type": "code",
   "execution_count": 141,
   "metadata": {},
   "outputs": [
    {
     "data": {
      "text/plain": [
       "0    1934\n",
       "1      66\n",
       "Name: y_added_to_cart, dtype: int64"
      ]
     },
     "execution_count": 141,
     "metadata": {},
     "output_type": "execute_result"
    }
   ],
   "source": [
    "df[target_col].value_counts()"
   ]
  },
  {
   "cell_type": "code",
   "execution_count": 142,
   "metadata": {},
   "outputs": [
    {
     "data": {
      "text/plain": [
       "2000"
      ]
     },
     "execution_count": 142,
     "metadata": {},
     "output_type": "execute_result"
    }
   ],
   "source": [
    "df.shape[0]"
   ]
  },
  {
   "cell_type": "code",
   "execution_count": 143,
   "metadata": {},
   "outputs": [
    {
     "data": {
      "text/plain": [
       "0    0.967\n",
       "1    0.033\n",
       "Name: y_added_to_cart, dtype: float64"
      ]
     },
     "execution_count": 143,
     "metadata": {},
     "output_type": "execute_result"
    }
   ],
   "source": [
    "df[target_col].value_counts() / df.shape[0]"
   ]
  },
  {
   "cell_type": "code",
   "execution_count": 144,
   "metadata": {},
   "outputs": [],
   "source": [
    "n_obs = 500\n",
    "seed = 42"
   ]
  },
  {
   "cell_type": "code",
   "execution_count": 145,
   "metadata": {},
   "outputs": [],
   "source": [
    "frac = n_obs / df.shape[0]"
   ]
  },
  {
   "cell_type": "code",
   "execution_count": 146,
   "metadata": {},
   "outputs": [
    {
     "data": {
      "text/html": [
       "<div>\n",
       "<style scoped>\n",
       "    .dataframe tbody tr th:only-of-type {\n",
       "        vertical-align: middle;\n",
       "    }\n",
       "\n",
       "    .dataframe tbody tr th {\n",
       "        vertical-align: top;\n",
       "    }\n",
       "\n",
       "    .dataframe thead th {\n",
       "        text-align: right;\n",
       "    }\n",
       "</style>\n",
       "<table border=\"1\" class=\"dataframe\">\n",
       "  <thead>\n",
       "    <tr style=\"text-align: right;\">\n",
       "      <th></th>\n",
       "      <th>i_full_visitor_id</th>\n",
       "      <th>i_visit_start_time</th>\n",
       "      <th>i_date</th>\n",
       "      <th>c_device_category_tablet</th>\n",
       "      <th>c_device_category_desktop</th>\n",
       "      <th>c_device_category_mobile</th>\n",
       "      <th>c_is_mobile_0</th>\n",
       "      <th>c_is_mobile_1</th>\n",
       "      <th>c_operating_system_Web</th>\n",
       "      <th>c_operating_system_Windows</th>\n",
       "      <th>...</th>\n",
       "      <th>c_is_first_visit_0</th>\n",
       "      <th>c_is_first_visit_1</th>\n",
       "      <th>n_product_pages_viewed</th>\n",
       "      <th>n_total_hits</th>\n",
       "      <th>n_total_pageviews</th>\n",
       "      <th>n_total_visits</th>\n",
       "      <th>n_total_time_on_site</th>\n",
       "      <th>y_added_to_cart</th>\n",
       "      <th>c_weekday</th>\n",
       "      <th>c_visit_start_hour</th>\n",
       "    </tr>\n",
       "  </thead>\n",
       "  <tbody>\n",
       "    <tr>\n",
       "      <th>0</th>\n",
       "      <td>3.088863e+07</td>\n",
       "      <td>1.612025e+15</td>\n",
       "      <td>20210130</td>\n",
       "      <td>0</td>\n",
       "      <td>0</td>\n",
       "      <td>1</td>\n",
       "      <td>1</td>\n",
       "      <td>0</td>\n",
       "      <td>1</td>\n",
       "      <td>0</td>\n",
       "      <td>...</td>\n",
       "      <td>1</td>\n",
       "      <td>0</td>\n",
       "      <td>0.0</td>\n",
       "      <td>10.0</td>\n",
       "      <td>4.0</td>\n",
       "      <td>1.0</td>\n",
       "      <td>986783.0</td>\n",
       "      <td>0</td>\n",
       "      <td>-1.0</td>\n",
       "      <td>9</td>\n",
       "    </tr>\n",
       "    <tr>\n",
       "      <th>1</th>\n",
       "      <td>7.998526e+07</td>\n",
       "      <td>1.611977e+15</td>\n",
       "      <td>20210130</td>\n",
       "      <td>0</td>\n",
       "      <td>1</td>\n",
       "      <td>0</td>\n",
       "      <td>0</td>\n",
       "      <td>1</td>\n",
       "      <td>0</td>\n",
       "      <td>1</td>\n",
       "      <td>...</td>\n",
       "      <td>1</td>\n",
       "      <td>0</td>\n",
       "      <td>0.0</td>\n",
       "      <td>6.0</td>\n",
       "      <td>2.0</td>\n",
       "      <td>1.0</td>\n",
       "      <td>22059.0</td>\n",
       "      <td>0</td>\n",
       "      <td>-1.0</td>\n",
       "      <td>25</td>\n",
       "    </tr>\n",
       "    <tr>\n",
       "      <th>2</th>\n",
       "      <td>8.169996e+07</td>\n",
       "      <td>1.612001e+15</td>\n",
       "      <td>20210130</td>\n",
       "      <td>0</td>\n",
       "      <td>0</td>\n",
       "      <td>1</td>\n",
       "      <td>1</td>\n",
       "      <td>0</td>\n",
       "      <td>1</td>\n",
       "      <td>0</td>\n",
       "      <td>...</td>\n",
       "      <td>1</td>\n",
       "      <td>0</td>\n",
       "      <td>0.0</td>\n",
       "      <td>6.0</td>\n",
       "      <td>2.0</td>\n",
       "      <td>1.0</td>\n",
       "      <td>9369.0</td>\n",
       "      <td>0</td>\n",
       "      <td>-1.0</td>\n",
       "      <td>4</td>\n",
       "    </tr>\n",
       "    <tr>\n",
       "      <th>3</th>\n",
       "      <td>8.528821e+07</td>\n",
       "      <td>1.612001e+15</td>\n",
       "      <td>20210130</td>\n",
       "      <td>0</td>\n",
       "      <td>0</td>\n",
       "      <td>1</td>\n",
       "      <td>1</td>\n",
       "      <td>0</td>\n",
       "      <td>0</td>\n",
       "      <td>0</td>\n",
       "      <td>...</td>\n",
       "      <td>1</td>\n",
       "      <td>0</td>\n",
       "      <td>0.0</td>\n",
       "      <td>5.0</td>\n",
       "      <td>2.0</td>\n",
       "      <td>1.0</td>\n",
       "      <td>11548.0</td>\n",
       "      <td>0</td>\n",
       "      <td>-1.0</td>\n",
       "      <td>4</td>\n",
       "    </tr>\n",
       "    <tr>\n",
       "      <th>4</th>\n",
       "      <td>3.214840e+06</td>\n",
       "      <td>1.611988e+15</td>\n",
       "      <td>20210130</td>\n",
       "      <td>0</td>\n",
       "      <td>1</td>\n",
       "      <td>0</td>\n",
       "      <td>0</td>\n",
       "      <td>1</td>\n",
       "      <td>1</td>\n",
       "      <td>0</td>\n",
       "      <td>...</td>\n",
       "      <td>1</td>\n",
       "      <td>0</td>\n",
       "      <td>0.0</td>\n",
       "      <td>8.0</td>\n",
       "      <td>3.0</td>\n",
       "      <td>1.0</td>\n",
       "      <td>8853.0</td>\n",
       "      <td>0</td>\n",
       "      <td>-1.0</td>\n",
       "      <td>16</td>\n",
       "    </tr>\n",
       "    <tr>\n",
       "      <th>...</th>\n",
       "      <td>...</td>\n",
       "      <td>...</td>\n",
       "      <td>...</td>\n",
       "      <td>...</td>\n",
       "      <td>...</td>\n",
       "      <td>...</td>\n",
       "      <td>...</td>\n",
       "      <td>...</td>\n",
       "      <td>...</td>\n",
       "      <td>...</td>\n",
       "      <td>...</td>\n",
       "      <td>...</td>\n",
       "      <td>...</td>\n",
       "      <td>...</td>\n",
       "      <td>...</td>\n",
       "      <td>...</td>\n",
       "      <td>...</td>\n",
       "      <td>...</td>\n",
       "      <td>...</td>\n",
       "      <td>...</td>\n",
       "      <td>...</td>\n",
       "    </tr>\n",
       "    <tr>\n",
       "      <th>495</th>\n",
       "      <td>8.310014e+07</td>\n",
       "      <td>1.611970e+15</td>\n",
       "      <td>20210130</td>\n",
       "      <td>0</td>\n",
       "      <td>0</td>\n",
       "      <td>1</td>\n",
       "      <td>1</td>\n",
       "      <td>0</td>\n",
       "      <td>1</td>\n",
       "      <td>0</td>\n",
       "      <td>...</td>\n",
       "      <td>0</td>\n",
       "      <td>1</td>\n",
       "      <td>1.0</td>\n",
       "      <td>16.0</td>\n",
       "      <td>6.0</td>\n",
       "      <td>3.0</td>\n",
       "      <td>7013.0</td>\n",
       "      <td>1</td>\n",
       "      <td>-1.0</td>\n",
       "      <td>17</td>\n",
       "    </tr>\n",
       "    <tr>\n",
       "      <th>496</th>\n",
       "      <td>7.747805e+07</td>\n",
       "      <td>1.612003e+15</td>\n",
       "      <td>20210130</td>\n",
       "      <td>0</td>\n",
       "      <td>1</td>\n",
       "      <td>0</td>\n",
       "      <td>0</td>\n",
       "      <td>1</td>\n",
       "      <td>1</td>\n",
       "      <td>0</td>\n",
       "      <td>...</td>\n",
       "      <td>0</td>\n",
       "      <td>1</td>\n",
       "      <td>1.0</td>\n",
       "      <td>194.0</td>\n",
       "      <td>49.0</td>\n",
       "      <td>1.0</td>\n",
       "      <td>74605.0</td>\n",
       "      <td>1</td>\n",
       "      <td>-1.0</td>\n",
       "      <td>4</td>\n",
       "    </tr>\n",
       "    <tr>\n",
       "      <th>497</th>\n",
       "      <td>1.969834e+07</td>\n",
       "      <td>1.612027e+15</td>\n",
       "      <td>20210130</td>\n",
       "      <td>0</td>\n",
       "      <td>1</td>\n",
       "      <td>0</td>\n",
       "      <td>0</td>\n",
       "      <td>1</td>\n",
       "      <td>1</td>\n",
       "      <td>0</td>\n",
       "      <td>...</td>\n",
       "      <td>1</td>\n",
       "      <td>0</td>\n",
       "      <td>1.0</td>\n",
       "      <td>17.0</td>\n",
       "      <td>5.0</td>\n",
       "      <td>1.0</td>\n",
       "      <td>23742.0</td>\n",
       "      <td>1</td>\n",
       "      <td>-1.0</td>\n",
       "      <td>5</td>\n",
       "    </tr>\n",
       "    <tr>\n",
       "      <th>498</th>\n",
       "      <td>3.200577e+06</td>\n",
       "      <td>NaN</td>\n",
       "      <td>20210130</td>\n",
       "      <td>0</td>\n",
       "      <td>0</td>\n",
       "      <td>1</td>\n",
       "      <td>1</td>\n",
       "      <td>0</td>\n",
       "      <td>0</td>\n",
       "      <td>0</td>\n",
       "      <td>...</td>\n",
       "      <td>0</td>\n",
       "      <td>1</td>\n",
       "      <td>1.0</td>\n",
       "      <td>62.0</td>\n",
       "      <td>17.0</td>\n",
       "      <td>2.0</td>\n",
       "      <td>37408.0</td>\n",
       "      <td>1</td>\n",
       "      <td>4.0</td>\n",
       "      <td>14</td>\n",
       "    </tr>\n",
       "    <tr>\n",
       "      <th>499</th>\n",
       "      <td>6.341005e+07</td>\n",
       "      <td>1.611969e+15</td>\n",
       "      <td>20210130</td>\n",
       "      <td>0</td>\n",
       "      <td>1</td>\n",
       "      <td>0</td>\n",
       "      <td>0</td>\n",
       "      <td>1</td>\n",
       "      <td>1</td>\n",
       "      <td>0</td>\n",
       "      <td>...</td>\n",
       "      <td>1</td>\n",
       "      <td>0</td>\n",
       "      <td>1.0</td>\n",
       "      <td>11.0</td>\n",
       "      <td>3.0</td>\n",
       "      <td>2.0</td>\n",
       "      <td>7304.0</td>\n",
       "      <td>1</td>\n",
       "      <td>-1.0</td>\n",
       "      <td>17</td>\n",
       "    </tr>\n",
       "  </tbody>\n",
       "</table>\n",
       "<p>500 rows × 44 columns</p>\n",
       "</div>"
      ],
      "text/plain": [
       "     i_full_visitor_id  i_visit_start_time    i_date  \\\n",
       "0         3.088863e+07        1.612025e+15  20210130   \n",
       "1         7.998526e+07        1.611977e+15  20210130   \n",
       "2         8.169996e+07        1.612001e+15  20210130   \n",
       "3         8.528821e+07        1.612001e+15  20210130   \n",
       "4         3.214840e+06        1.611988e+15  20210130   \n",
       "..                 ...                 ...       ...   \n",
       "495       8.310014e+07        1.611970e+15  20210130   \n",
       "496       7.747805e+07        1.612003e+15  20210130   \n",
       "497       1.969834e+07        1.612027e+15  20210130   \n",
       "498       3.200577e+06                 NaN  20210130   \n",
       "499       6.341005e+07        1.611969e+15  20210130   \n",
       "\n",
       "     c_device_category_tablet  c_device_category_desktop  \\\n",
       "0                           0                          0   \n",
       "1                           0                          1   \n",
       "2                           0                          0   \n",
       "3                           0                          0   \n",
       "4                           0                          1   \n",
       "..                        ...                        ...   \n",
       "495                         0                          0   \n",
       "496                         0                          1   \n",
       "497                         0                          1   \n",
       "498                         0                          0   \n",
       "499                         0                          1   \n",
       "\n",
       "     c_device_category_mobile  c_is_mobile_0  c_is_mobile_1  \\\n",
       "0                           1              1              0   \n",
       "1                           0              0              1   \n",
       "2                           1              1              0   \n",
       "3                           1              1              0   \n",
       "4                           0              0              1   \n",
       "..                        ...            ...            ...   \n",
       "495                         1              1              0   \n",
       "496                         0              0              1   \n",
       "497                         0              0              1   \n",
       "498                         1              1              0   \n",
       "499                         0              0              1   \n",
       "\n",
       "     c_operating_system_Web  c_operating_system_Windows  ...  \\\n",
       "0                         1                           0  ...   \n",
       "1                         0                           1  ...   \n",
       "2                         1                           0  ...   \n",
       "3                         0                           0  ...   \n",
       "4                         1                           0  ...   \n",
       "..                      ...                         ...  ...   \n",
       "495                       1                           0  ...   \n",
       "496                       1                           0  ...   \n",
       "497                       1                           0  ...   \n",
       "498                       0                           0  ...   \n",
       "499                       1                           0  ...   \n",
       "\n",
       "     c_is_first_visit_0  c_is_first_visit_1  n_product_pages_viewed  \\\n",
       "0                     1                   0                     0.0   \n",
       "1                     1                   0                     0.0   \n",
       "2                     1                   0                     0.0   \n",
       "3                     1                   0                     0.0   \n",
       "4                     1                   0                     0.0   \n",
       "..                  ...                 ...                     ...   \n",
       "495                   0                   1                     1.0   \n",
       "496                   0                   1                     1.0   \n",
       "497                   1                   0                     1.0   \n",
       "498                   0                   1                     1.0   \n",
       "499                   1                   0                     1.0   \n",
       "\n",
       "     n_total_hits  n_total_pageviews  n_total_visits  n_total_time_on_site  \\\n",
       "0            10.0                4.0             1.0              986783.0   \n",
       "1             6.0                2.0             1.0               22059.0   \n",
       "2             6.0                2.0             1.0                9369.0   \n",
       "3             5.0                2.0             1.0               11548.0   \n",
       "4             8.0                3.0             1.0                8853.0   \n",
       "..            ...                ...             ...                   ...   \n",
       "495          16.0                6.0             3.0                7013.0   \n",
       "496         194.0               49.0             1.0               74605.0   \n",
       "497          17.0                5.0             1.0               23742.0   \n",
       "498          62.0               17.0             2.0               37408.0   \n",
       "499          11.0                3.0             2.0                7304.0   \n",
       "\n",
       "     y_added_to_cart  c_weekday  c_visit_start_hour  \n",
       "0                  0       -1.0                   9  \n",
       "1                  0       -1.0                  25  \n",
       "2                  0       -1.0                   4  \n",
       "3                  0       -1.0                   4  \n",
       "4                  0       -1.0                  16  \n",
       "..               ...        ...                 ...  \n",
       "495                1       -1.0                  17  \n",
       "496                1       -1.0                   4  \n",
       "497                1       -1.0                   5  \n",
       "498                1        4.0                  14  \n",
       "499                1       -1.0                  17  \n",
       "\n",
       "[500 rows x 44 columns]"
      ]
     },
     "execution_count": 146,
     "metadata": {},
     "output_type": "execute_result"
    }
   ],
   "source": [
    "df_sample = df.groupby(target_col).apply(lambda x: x.sample(frac=frac, random_state=seed)).reset_index(drop=True)\n",
    "df_sample"
   ]
  },
  {
   "cell_type": "code",
   "execution_count": 147,
   "metadata": {},
   "outputs": [
    {
     "data": {
      "text/plain": [
       "0    484\n",
       "1     16\n",
       "Name: y_added_to_cart, dtype: int64"
      ]
     },
     "execution_count": 147,
     "metadata": {},
     "output_type": "execute_result"
    }
   ],
   "source": [
    "df_sample[target_col].value_counts()"
   ]
  },
  {
   "cell_type": "code",
   "execution_count": 148,
   "metadata": {},
   "outputs": [
    {
     "data": {
      "text/plain": [
       "500"
      ]
     },
     "execution_count": 148,
     "metadata": {},
     "output_type": "execute_result"
    }
   ],
   "source": [
    "df_sample.shape[0]"
   ]
  },
  {
   "cell_type": "code",
   "execution_count": 150,
   "metadata": {},
   "outputs": [
    {
     "data": {
      "text/plain": [
       "0    0.968\n",
       "1    0.032\n",
       "Name: y_added_to_cart, dtype: float64"
      ]
     },
     "execution_count": 150,
     "metadata": {},
     "output_type": "execute_result"
    }
   ],
   "source": [
    "proportions = df_sample[target_col].value_counts() / df_sample.shape[0]\n",
    "proportions"
   ]
  },
  {
   "cell_type": "code",
   "execution_count": 153,
   "metadata": {},
   "outputs": [
    {
     "data": {
      "text/plain": [
       "'0    0.968\\n1    0.032'"
      ]
     },
     "execution_count": 153,
     "metadata": {},
     "output_type": "execute_result"
    }
   ],
   "source": [
    "proportions.to_string()"
   ]
  },
  {
   "attachments": {},
   "cell_type": "markdown",
   "metadata": {},
   "source": [
    "---"
   ]
  },
  {
   "cell_type": "code",
   "execution_count": 6,
   "metadata": {},
   "outputs": [],
   "source": [
    "import shap\n",
    "import pandas as pd\n",
    "import xgboost as xgb\n",
    "import pickle\n",
    "sys.path.append(\"../src/ga4_mlops/pipelines\")\n",
    "from data_preparation_utils import extract_column_names"
   ]
  },
  {
   "cell_type": "code",
   "execution_count": 8,
   "metadata": {},
   "outputs": [],
   "source": [
    "def sample_data(abt: pd.DataFrame, n_obs: int, seed: int) -> pd.DataFrame:\n",
    "    \"\"\"Sample model input data preserving target proportions.\n",
    "\n",
    "    Args:\n",
    "        abt (pd.DataFrame): input data frame\n",
    "        n_obs (int): number of observations in a sample\n",
    "\n",
    "    Returns:\n",
    "        pd.DataFrame: data frame sample\n",
    "    \"\"\"\n",
    "    original_n_obs = abt.shape[0]\n",
    "    n_obs = max(1, min(n_obs, original_n_obs))\n",
    "    # logger.info(\n",
    "    #     f\"Sampling data for SHAP explanations. Original size: {original_n_obs}; Sample size: {n_obs}\"\n",
    "    # )\n",
    "\n",
    "    _, _, _, target_col = extract_column_names(abt)\n",
    "    # logger.info(f\"Target name: {target_col}\")\n",
    "\n",
    "    original_proportions = abt[target_col].value_counts() / original_n_obs\n",
    "    # logger.info(f\"Original target proportions:\\n{original_proportions.to_string()}\")\n",
    "\n",
    "    frac = n_obs / original_n_obs\n",
    "    abt_sample = (\n",
    "        abt.groupby(target_col)\n",
    "        .apply(lambda x: x.sample(frac=frac, random_state=seed))\n",
    "        .reset_index(drop=True)\n",
    "    )\n",
    "\n",
    "    proportions = abt_sample[target_col].value_counts() / n_obs\n",
    "    # logger.info(f\"Sample target proportions:\\n{proportions.to_string()}\")\n",
    "\n",
    "    return abt_sample"
   ]
  },
  {
   "cell_type": "code",
   "execution_count": 9,
   "metadata": {},
   "outputs": [],
   "source": [
    "abt = pd.read_csv('../data/05_model_input/abt_test.csv')"
   ]
  },
  {
   "cell_type": "code",
   "execution_count": 10,
   "metadata": {},
   "outputs": [],
   "source": [
    "abt_sample = sample_data(abt, 100, 42)"
   ]
  },
  {
   "cell_type": "code",
   "execution_count": 11,
   "metadata": {},
   "outputs": [],
   "source": [
    "_, num_cols, cat_cols, _ = extract_column_names(abt_sample)"
   ]
  },
  {
   "cell_type": "code",
   "execution_count": 12,
   "metadata": {},
   "outputs": [],
   "source": [
    "with open('../data/06_models/model.pkl', 'rb') as pickle_file:\n",
    "    model = pickle.load(pickle_file)"
   ]
  },
  {
   "cell_type": "code",
   "execution_count": null,
   "metadata": {},
   "outputs": [],
   "source": []
  }
 ],
 "metadata": {
  "kernelspec": {
   "display_name": ".venv",
   "language": "python",
   "name": "python3"
  },
  "language_info": {
   "codemirror_mode": {
    "name": "ipython",
    "version": 3
   },
   "file_extension": ".py",
   "mimetype": "text/x-python",
   "name": "python",
   "nbconvert_exporter": "python",
   "pygments_lexer": "ipython3",
   "version": "3.8.12"
  },
  "orig_nbformat": 4,
  "vscode": {
   "interpreter": {
    "hash": "a875e0dc97dd2951fe8b02ffd491226d1f9a0885d9ce603a879586ca268319d5"
   }
  }
 },
 "nbformat": 4,
 "nbformat_minor": 2
}
