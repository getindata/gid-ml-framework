{
 "cells": [
  {
   "cell_type": "code",
   "execution_count": null,
   "metadata": {},
   "outputs": [],
   "source": [
    "import pandas as pd\n",
    "import os\n",
    "import sys"
   ]
  },
  {
   "cell_type": "code",
   "execution_count": null,
   "metadata": {},
   "outputs": [],
   "source": [
    "sys.path.append(\"../src/ga4_mlops/pipelines\")"
   ]
  },
  {
   "cell_type": "code",
   "execution_count": null,
   "metadata": {},
   "outputs": [],
   "source": [
    "from data_preparation_utils import extract_column_names"
   ]
  },
  {
   "cell_type": "code",
   "execution_count": null,
   "metadata": {},
   "outputs": [],
   "source": [
    "df = pd.read_csv('../data/05_model_input/abt_test.csv')"
   ]
  },
  {
   "cell_type": "code",
   "execution_count": null,
   "metadata": {},
   "outputs": [],
   "source": [
    "_, _, _, target_col = extract_column_names(df)\n",
    "target_col"
   ]
  },
  {
   "cell_type": "code",
   "execution_count": null,
   "metadata": {},
   "outputs": [],
   "source": [
    "df[target_col].value_counts()"
   ]
  },
  {
   "cell_type": "code",
   "execution_count": null,
   "metadata": {},
   "outputs": [],
   "source": [
    "df.shape[0]"
   ]
  },
  {
   "cell_type": "code",
   "execution_count": null,
   "metadata": {},
   "outputs": [],
   "source": [
    "df[target_col].value_counts() / df.shape[0]"
   ]
  },
  {
   "cell_type": "code",
   "execution_count": null,
   "metadata": {},
   "outputs": [],
   "source": [
    "n_obs = 500\n",
    "seed = 42"
   ]
  },
  {
   "cell_type": "code",
   "execution_count": null,
   "metadata": {},
   "outputs": [],
   "source": [
    "frac = n_obs / df.shape[0]"
   ]
  },
  {
   "cell_type": "code",
   "execution_count": null,
   "metadata": {},
   "outputs": [],
   "source": [
    "df_sample = df.groupby(target_col).apply(lambda x: x.sample(frac=frac, random_state=seed)).reset_index(drop=True)\n",
    "df_sample"
   ]
  },
  {
   "cell_type": "code",
   "execution_count": null,
   "metadata": {},
   "outputs": [],
   "source": [
    "df_sample[target_col].value_counts()"
   ]
  },
  {
   "cell_type": "code",
   "execution_count": null,
   "metadata": {},
   "outputs": [],
   "source": [
    "df_sample.shape[0]"
   ]
  },
  {
   "cell_type": "code",
   "execution_count": null,
   "metadata": {},
   "outputs": [],
   "source": [
    "proportions = df_sample[target_col].value_counts() / df_sample.shape[0]\n",
    "proportions"
   ]
  },
  {
   "cell_type": "code",
   "execution_count": null,
   "metadata": {},
   "outputs": [],
   "source": [
    "proportions.to_string()"
   ]
  },
  {
   "attachments": {},
   "cell_type": "markdown",
   "metadata": {},
   "source": [
    "---"
   ]
  },
  {
   "cell_type": "code",
   "execution_count": null,
   "metadata": {},
   "outputs": [],
   "source": [
    "import shap\n",
    "import pandas as pd\n",
    "import numpy as np\n",
    "import xgboost as xgb\n",
    "import pickle\n",
    "sys.path.append(\"../src/ga4_mlops/pipelines\")\n",
    "from data_preparation_utils import extract_column_names"
   ]
  },
  {
   "cell_type": "code",
   "execution_count": null,
   "metadata": {},
   "outputs": [],
   "source": [
    "def sample_data(abt: pd.DataFrame, n_obs: int, seed: int) -> pd.DataFrame:\n",
    "    \"\"\"Sample model input data preserving target proportions.\n",
    "\n",
    "    Args:\n",
    "        abt (pd.DataFrame): input data frame\n",
    "        n_obs (int): number of observations in a sample\n",
    "\n",
    "    Returns:\n",
    "        pd.DataFrame: data frame sample\n",
    "    \"\"\"\n",
    "    original_n_obs = abt.shape[0]\n",
    "    n_obs = max(1, min(n_obs, original_n_obs))\n",
    "    # logger.info(\n",
    "    #     f\"Sampling data for SHAP explanations. Original size: {original_n_obs}; Sample size: {n_obs}\"\n",
    "    # )\n",
    "\n",
    "    _, _, _, target_col = extract_column_names(abt)\n",
    "    # logger.info(f\"Target name: {target_col}\")\n",
    "\n",
    "    original_proportions = abt[target_col].value_counts() / original_n_obs\n",
    "    # logger.info(f\"Original target proportions:\\n{original_proportions.to_string()}\")\n",
    "\n",
    "    frac = n_obs / original_n_obs\n",
    "    abt_sample = (\n",
    "        abt.groupby(target_col)\n",
    "        .apply(lambda x: x.sample(frac=frac, random_state=seed))\n",
    "        .reset_index(drop=True)\n",
    "    )\n",
    "\n",
    "    proportions = abt_sample[target_col].value_counts() / n_obs\n",
    "    # logger.info(f\"Sample target proportions:\\n{proportions.to_string()}\")\n",
    "\n",
    "    return abt_sample"
   ]
  },
  {
   "cell_type": "code",
   "execution_count": null,
   "metadata": {},
   "outputs": [],
   "source": [
    "abt_train = pd.read_csv('../data/05_model_input/abt_train.csv')\n",
    "abt = pd.read_csv('../data/05_model_input/abt_test.csv')"
   ]
  },
  {
   "cell_type": "code",
   "execution_count": null,
   "metadata": {},
   "outputs": [],
   "source": [
    "abt_train_sample = sample_data(abt_train, 100, 42)\n",
    "abt_sample = sample_data(abt, 100, 42)\n",
    "\n",
    "_, num_cols, cat_cols, _ = extract_column_names(abt_train_sample)\n",
    "\n",
    "features_train_sample = abt_train_sample[num_cols + cat_cols]\n",
    "features_sample = abt_sample[num_cols + cat_cols]"
   ]
  },
  {
   "cell_type": "code",
   "execution_count": null,
   "metadata": {},
   "outputs": [],
   "source": [
    "with open('../data/06_models/model.pkl', 'rb') as pickle_file:\n",
    "    model = pickle.load(pickle_file)"
   ]
  },
  {
   "cell_type": "code",
   "execution_count": null,
   "metadata": {},
   "outputs": [],
   "source": [
    "explainer = shap.KernelExplainer(model.predict_proba, features_train_sample)"
   ]
  },
  {
   "cell_type": "code",
   "execution_count": null,
   "metadata": {},
   "outputs": [],
   "source": [
    "shap_values = explainer.shap_values(features_sample)"
   ]
  },
  {
   "cell_type": "code",
   "execution_count": null,
   "metadata": {},
   "outputs": [],
   "source": [
    "shap.summary_plot(shap_values, features=features_sample)"
   ]
  },
  {
   "cell_type": "code",
   "execution_count": null,
   "metadata": {},
   "outputs": [],
   "source": [
    "shap.summary_plot(shap_values, features=features_sample, plot_size=(10, 10))"
   ]
  },
  {
   "cell_type": "code",
   "execution_count": null,
   "metadata": {},
   "outputs": [],
   "source": [
    "features_sample.columns[np.argsort(np.abs(shap_values).mean(0))]"
   ]
  },
  {
   "cell_type": "code",
   "execution_count": null,
   "metadata": {},
   "outputs": [],
   "source": [
    "vals= np.abs(shap_values).mean(0)\n",
    "feature_importance = pd.DataFrame(list(zip(features_sample.columns, sum(vals))), columns=['feature','importance'])\n",
    "feature_importance.sort_values(by=['importance'], ascending=False, inplace=True)\n",
    "feature_importance"
   ]
  },
  {
   "cell_type": "code",
   "execution_count": null,
   "metadata": {},
   "outputs": [],
   "source": [
    "# feature_importance = dict(zip(features_sample.columns, sum(vals)))\n",
    "# feature_importance = dict(sorted(feature_importance.items(), key=lambda item: item[1], reverse=True))\n",
    "# feature_importance"
   ]
  },
  {
   "cell_type": "code",
   "execution_count": null,
   "metadata": {},
   "outputs": [],
   "source": [
    "{k: v for k, v in zip(feature_importance[\"feature\"], feature_importance[\"importance\"])}"
   ]
  },
  {
   "cell_type": "code",
   "execution_count": null,
   "metadata": {},
   "outputs": [],
   "source": [
    "feature_importance.index[:5].to_list()"
   ]
  },
  {
   "cell_type": "code",
   "execution_count": null,
   "metadata": {},
   "outputs": [],
   "source": [
    "# top_5_features = feature_importance[\"feature\"].head(5).to_list()\n",
    "top_5_features = feature_importance.index[:5].to_list()\n",
    "top_5_features"
   ]
  },
  {
   "cell_type": "code",
   "execution_count": null,
   "metadata": {},
   "outputs": [],
   "source": [
    "shap.plots.partial_dependence(30, lambda x: model.predict_proba(x)[:, 1], features_sample)"
   ]
  },
  {
   "cell_type": "code",
   "execution_count": null,
   "metadata": {},
   "outputs": [],
   "source": [
    "for idx in top_5_features:\n",
    "    shap.plots.partial_dependence(idx, lambda x: model.predict_proba(x)[:, 1], features_sample)"
   ]
  },
  {
   "cell_type": "code",
   "execution_count": null,
   "metadata": {},
   "outputs": [],
   "source": [
    "type(shap_values)"
   ]
  },
  {
   "attachments": {},
   "cell_type": "markdown",
   "metadata": {},
   "source": [
    "---"
   ]
  },
  {
   "cell_type": "code",
   "execution_count": null,
   "metadata": {},
   "outputs": [],
   "source": [
    "import matplotlib.pyplot as plt\n",
    "import io"
   ]
  },
  {
   "cell_type": "code",
   "execution_count": null,
   "metadata": {},
   "outputs": [],
   "source": [
    "shap.summary_plot(\n",
    "    shap_values,\n",
    "    features=features_sample,\n",
    "    show=False\n",
    ")\n",
    "fig = plt.gcf()\n",
    "# plt.plot()"
   ]
  },
  {
   "cell_type": "code",
   "execution_count": null,
   "metadata": {},
   "outputs": [],
   "source": [
    "shap.plots.partial_dependence(\n",
    "    0,\n",
    "    lambda x: model.predict_proba(x)[:, 1],\n",
    "    features_sample,\n",
    "    model_expected_value=True,\n",
    "    feature_expected_value=True,\n",
    "    show=False\n",
    ")\n",
    "fig = plt.gcf()\n",
    "# plt.plot()"
   ]
  },
  {
   "cell_type": "code",
   "execution_count": null,
   "metadata": {},
   "outputs": [],
   "source": [
    "plots_dict = dict()\n",
    "for idx in top_5_features:\n",
    "    shap.plots.partial_dependence(\n",
    "        idx,\n",
    "        lambda x: model.predict_proba(x)[:, 1],\n",
    "        features_sample,\n",
    "        model_expected_value=True,\n",
    "        feature_expected_value=True,\n",
    "        show=False\n",
    "    )\n",
    "    feature_name = feature_importance[\"feature\"][idx]\n",
    "    plots_dict[f\"{feature_name}.png\"] = plt.gcf()\n",
    "    # plt.plot()"
   ]
  },
  {
   "cell_type": "code",
   "execution_count": null,
   "metadata": {},
   "outputs": [],
   "source": []
  }
 ],
 "metadata": {
  "kernelspec": {
   "display_name": ".venv",
   "language": "python",
   "name": "python3"
  },
  "language_info": {
   "codemirror_mode": {
    "name": "ipython",
    "version": 3
   },
   "file_extension": ".py",
   "mimetype": "text/x-python",
   "name": "python",
   "nbconvert_exporter": "python",
   "pygments_lexer": "ipython3",
   "version": "3.8.12"
  },
  "vscode": {
   "interpreter": {
    "hash": "a875e0dc97dd2951fe8b02ffd491226d1f9a0885d9ce603a879586ca268319d5"
   }
  }
 },
 "nbformat": 4,
 "nbformat_minor": 2
}
