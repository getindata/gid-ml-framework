{
 "cells": [
  {
   "cell_type": "code",
   "execution_count": null,
   "metadata": {},
   "outputs": [],
   "source": [
    "import category_encoders as ce\n",
    "import pandas as pd\n",
    "import numpy as np\n",
    "import os"
   ]
  },
  {
   "cell_type": "code",
   "execution_count": null,
   "metadata": {},
   "outputs": [],
   "source": [
    "os.getcwd()"
   ]
  },
  {
   "cell_type": "code",
   "execution_count": null,
   "metadata": {},
   "outputs": [],
   "source": [
    "df = pd.read_csv('../data/03_primary/df_train.csv')"
   ]
  },
  {
   "cell_type": "code",
   "execution_count": null,
   "metadata": {},
   "outputs": [],
   "source": [
    "df"
   ]
  },
  {
   "cell_type": "code",
   "execution_count": null,
   "metadata": {},
   "outputs": [],
   "source": [
    "for i in df.columns:\n",
    "    print(i)"
   ]
  },
  {
   "cell_type": "code",
   "execution_count": null,
   "metadata": {},
   "outputs": [],
   "source": [
    "encodings = {\n",
    "    'bool': ['c_is_mobile', 'c_is_first_visit'],\n",
    "    'ohe': ['c_device_category', 'c_operating_system', 'c_browser', 'c_traffic_source', 'c_traffic_medium'],\n",
    "    'int': ['c_country', 'c_city', 'c_traffic_campaign', 'c_weekday', 'c_visit_start_hour']\n",
    "}"
   ]
  },
  {
   "cell_type": "code",
   "execution_count": null,
   "metadata": {},
   "outputs": [],
   "source": [
    "binary_encoder = ce.BinaryEncoder(cols=encodings['bool'])"
   ]
  },
  {
   "cell_type": "code",
   "execution_count": null,
   "metadata": {},
   "outputs": [],
   "source": [
    "binary_encoder.fit(df)\n",
    "binary_encoder.transform(df)"
   ]
  },
  {
   "cell_type": "code",
   "execution_count": null,
   "metadata": {},
   "outputs": [],
   "source": [
    "df_cp = df.copy()\n",
    "df_cp.iloc[39, 12] = None\n",
    "df_cp.iloc[:, 12]"
   ]
  },
  {
   "cell_type": "code",
   "execution_count": null,
   "metadata": {},
   "outputs": [],
   "source": [
    "binary_encoder.fit(df)\n",
    "binary_encoder.transform(df_cp)"
   ]
  },
  {
   "cell_type": "code",
   "execution_count": null,
   "metadata": {},
   "outputs": [],
   "source": [
    "binary_encoder.fit(df_cp)\n",
    "binary_encoder.transform(df_cp)"
   ]
  },
  {
   "cell_type": "code",
   "execution_count": null,
   "metadata": {},
   "outputs": [],
   "source": [
    "onehot_encoder = ce.OneHotEncoder(cols=encodings['ohe'], use_cat_names=True)"
   ]
  },
  {
   "cell_type": "code",
   "execution_count": null,
   "metadata": {},
   "outputs": [],
   "source": [
    "onehot_encoder.fit(df)\n",
    "onehot_encoder.transform(df)"
   ]
  },
  {
   "cell_type": "code",
   "execution_count": null,
   "metadata": {},
   "outputs": [],
   "source": [
    "df_cp = df.copy()\n",
    "df_cp.iloc[39, 3] = None\n",
    "df_cp.iloc[:, 3]"
   ]
  },
  {
   "cell_type": "code",
   "execution_count": null,
   "metadata": {},
   "outputs": [],
   "source": [
    "onehot_encoder.fit(df)\n",
    "onehot_encoder.transform(df_cp)"
   ]
  },
  {
   "cell_type": "code",
   "execution_count": null,
   "metadata": {},
   "outputs": [],
   "source": [
    "onehot_encoder.fit(df_cp)\n",
    "onehot_encoder.transform(df_cp)"
   ]
  },
  {
   "cell_type": "code",
   "execution_count": null,
   "metadata": {},
   "outputs": [],
   "source": [
    "ordinal_encoder = ce.OrdinalEncoder(cols=encodings['int'])"
   ]
  },
  {
   "cell_type": "code",
   "execution_count": null,
   "metadata": {},
   "outputs": [],
   "source": [
    "ordinal_encoder.fit(df)\n",
    "ordinal_encoder.transform(df)"
   ]
  },
  {
   "cell_type": "code",
   "execution_count": null,
   "metadata": {},
   "outputs": [],
   "source": [
    "df_cp = df.copy()\n",
    "df_cp.iloc[39, 7] = None\n",
    "df_cp.iloc[:, 7]"
   ]
  },
  {
   "cell_type": "code",
   "execution_count": null,
   "metadata": {},
   "outputs": [],
   "source": [
    "ordinal_encoder.fit(df)\n",
    "ordinal_encoder.transform(df_cp)"
   ]
  },
  {
   "cell_type": "code",
   "execution_count": null,
   "metadata": {},
   "outputs": [],
   "source": [
    "ordinal_encoder.fit(df_cp)\n",
    "ordinal_encoder.transform(df_cp)"
   ]
  },
  {
   "cell_type": "code",
   "execution_count": null,
   "metadata": {},
   "outputs": [],
   "source": [
    "df_cp2 = df.copy()"
   ]
  },
  {
   "cell_type": "code",
   "execution_count": null,
   "metadata": {},
   "outputs": [],
   "source": [
    "binary_encoder = ce.BinaryEncoder(cols=encodings['bool'])\n",
    "onehot_encoder = ce.OneHotEncoder(cols=encodings['ohe'], use_cat_names=True)\n",
    "ordinal_encoder = ce.OrdinalEncoder(cols=encodings['int'])"
   ]
  },
  {
   "cell_type": "code",
   "execution_count": null,
   "metadata": {},
   "outputs": [],
   "source": [
    "binary_encoder.fit(df_cp2)\n",
    "df_cp2 = binary_encoder.transform(df_cp2)\n",
    "onehot_encoder.fit(df_cp2)\n",
    "df_cp2 = onehot_encoder.transform(df_cp2)\n",
    "ordinal_encoder.fit(df_cp2)\n",
    "df_cp2 = ordinal_encoder.transform(df_cp2)\n",
    "df_cp2"
   ]
  },
  {
   "cell_type": "markdown",
   "metadata": {},
   "source": [
    "---"
   ]
  },
  {
   "cell_type": "code",
   "execution_count": null,
   "metadata": {},
   "outputs": [],
   "source": [
    "df.dtypes"
   ]
  },
  {
   "cell_type": "code",
   "execution_count": null,
   "metadata": {},
   "outputs": [],
   "source": [
    "pd.to_datetime(df['i_visit_start_time'], unit='us')"
   ]
  },
  {
   "cell_type": "code",
   "execution_count": null,
   "metadata": {},
   "outputs": [],
   "source": [
    "pd.to_datetime(df['i_visit_start_time'], unit='us').dt.weekday"
   ]
  },
  {
   "cell_type": "code",
   "execution_count": null,
   "metadata": {},
   "outputs": [],
   "source": [
    "pd.to_datetime(df['i_visit_start_time'], unit='us').dt.hour"
   ]
  },
  {
   "cell_type": "code",
   "execution_count": null,
   "metadata": {},
   "outputs": [],
   "source": [
    "df_cp2['c_weekday'] = pd.to_datetime(df['i_visit_start_time'], unit='us').dt.weekday\n",
    "df_cp2['c_visit_start_hour'] = pd.to_datetime(df['i_visit_start_time'], unit='us').dt.hour\n",
    "df_cp2"
   ]
  },
  {
   "cell_type": "markdown",
   "metadata": {},
   "source": [
    "---"
   ]
  },
  {
   "cell_type": "code",
   "execution_count": null,
   "metadata": {},
   "outputs": [],
   "source": [
    "columns_to_encode = [item for sublist in list(encodings.values()) for item in sublist]\n",
    "columns_to_encode"
   ]
  },
  {
   "cell_type": "code",
   "execution_count": null,
   "metadata": {},
   "outputs": [],
   "source": [
    "df.columns"
   ]
  },
  {
   "cell_type": "code",
   "execution_count": null,
   "metadata": {},
   "outputs": [],
   "source": [
    "[item in df.columns for item in columns_to_encode]"
   ]
  },
  {
   "cell_type": "code",
   "execution_count": null,
   "metadata": {},
   "outputs": [],
   "source": [
    "all(item in df.columns for item in columns_to_encode)"
   ]
  },
  {
   "cell_type": "code",
   "execution_count": null,
   "metadata": {},
   "outputs": [],
   "source": [
    "[item in df.columns for item in columns_to_encode + ['added_col']]"
   ]
  },
  {
   "cell_type": "code",
   "execution_count": null,
   "metadata": {},
   "outputs": [],
   "source": [
    "all(item in df.columns for item in columns_to_encode + ['added_col'])"
   ]
  },
  {
   "cell_type": "markdown",
   "metadata": {},
   "source": [
    "---"
   ]
  },
  {
   "cell_type": "code",
   "execution_count": null,
   "metadata": {},
   "outputs": [],
   "source": [
    "import re\n",
    "from sklearn.impute import SimpleImputer"
   ]
  },
  {
   "cell_type": "code",
   "execution_count": null,
   "metadata": {},
   "outputs": [],
   "source": [
    "df = pd.read_csv('../data/03_primary/df_train.csv')"
   ]
  },
  {
   "cell_type": "code",
   "execution_count": null,
   "metadata": {},
   "outputs": [],
   "source": [
    "df"
   ]
  },
  {
   "cell_type": "code",
   "execution_count": null,
   "metadata": {},
   "outputs": [],
   "source": [
    "df.isnull().sum()"
   ]
  },
  {
   "cell_type": "code",
   "execution_count": null,
   "metadata": {},
   "outputs": [],
   "source": [
    "df.dtypes"
   ]
  },
  {
   "cell_type": "code",
   "execution_count": null,
   "metadata": {},
   "outputs": [],
   "source": [
    "num_cols = [item for item in df.columns if re.compile('^n_').match(item)]\n",
    "cat_cols = [item for item in df.columns if re.compile('^c_').match(item)]"
   ]
  },
  {
   "cell_type": "code",
   "execution_count": null,
   "metadata": {},
   "outputs": [],
   "source": [
    "df[num_cols] = df[num_cols].astype(float)\n",
    "df[cat_cols] = np.where(pd.isnull(df[cat_cols]), df[cat_cols], df[cat_cols].astype(str))"
   ]
  },
  {
   "cell_type": "code",
   "execution_count": null,
   "metadata": {},
   "outputs": [],
   "source": [
    "df.dtypes"
   ]
  },
  {
   "cell_type": "code",
   "execution_count": null,
   "metadata": {},
   "outputs": [],
   "source": [
    "df"
   ]
  },
  {
   "cell_type": "code",
   "execution_count": null,
   "metadata": {},
   "outputs": [],
   "source": [
    "imputation_strategies = {\n",
    "    'mean': ['n_total_time_on_site'],\n",
    "    'zero': [],\n",
    "    'mostfreq': [],\n",
    "    # 'unknown': ['c_traffic_campaign', 'c_weekday', 'c_visit_start_hour'],\n",
    "    'unknown': ['c_traffic_campaign'],\n",
    "}"
   ]
  },
  {
   "cell_type": "code",
   "execution_count": null,
   "metadata": {},
   "outputs": [],
   "source": [
    "df_cp = df.copy()"
   ]
  },
  {
   "cell_type": "code",
   "execution_count": null,
   "metadata": {},
   "outputs": [],
   "source": [
    "if len(imputation_strategies['mean']) > 0:\n",
    "    num_mean_imputer = SimpleImputer(strategy='mean')\n",
    "    num_mean_imputer.fit(df[imputation_strategies['mean']])\n",
    "else:\n",
    "    num_mean_imputer = None\n",
    "\n",
    "if len(imputation_strategies['zero']) > 0:\n",
    "    num_zero_imputer = SimpleImputer(strategy='constant', fill_value=0.)\n",
    "    num_zero_imputer.fit(df[imputation_strategies['zero']])\n",
    "else:\n",
    "    num_zero_imputer = None\n",
    "\n",
    "if len(imputation_strategies['mostfreq']) > 0:\n",
    "    cat_mostfreq_imputer = SimpleImputer(strategy='most_frequent')\n",
    "    cat_mostfreq_imputer.fit(df[imputation_strategies['mostfreq']])\n",
    "else:\n",
    "    cat_mostfreq_imputer = None\n",
    "\n",
    "if len(imputation_strategies['unknown']) > 0:\n",
    "    cat_unknown_imputer = SimpleImputer(strategy='constant', fill_value='UNKNOWN')\n",
    "    cat_unknown_imputer.fit(df[imputation_strategies['unknown']])\n",
    "else:\n",
    "    cat_unknown_imputer = None"
   ]
  },
  {
   "cell_type": "code",
   "execution_count": null,
   "metadata": {},
   "outputs": [],
   "source": [
    "if num_mean_imputer is not None:\n",
    "    df_cp[num_mean_imputer.feature_names_in_] = num_mean_imputer.transform(df_cp[num_mean_imputer.feature_names_in_])\n",
    "\n",
    "if num_zero_imputer is not None:\n",
    "    df_cp[num_zero_imputer.feature_names_in_] = num_zero_imputer.transform(df_cp[num_zero_imputer.feature_names_in_])\n",
    "\n",
    "if cat_mostfreq_imputer is not None:\n",
    "    df_cp[cat_mostfreq_imputer.feature_names_in_] = cat_mostfreq_imputer.transform(df_cp[cat_mostfreq_imputer.feature_names_in_])\n",
    "\n",
    "if cat_unknown_imputer is not None:\n",
    "    df_cp[cat_unknown_imputer.feature_names_in_] = cat_unknown_imputer.transform(df_cp[cat_unknown_imputer.feature_names_in_])"
   ]
  },
  {
   "cell_type": "code",
   "execution_count": null,
   "metadata": {},
   "outputs": [],
   "source": [
    "df_cp.isnull().sum()"
   ]
  },
  {
   "cell_type": "code",
   "execution_count": null,
   "metadata": {},
   "outputs": [],
   "source": [
    "df_cp"
   ]
  },
  {
   "cell_type": "code",
   "execution_count": null,
   "metadata": {},
   "outputs": [],
   "source": [
    "df_test = df = pd.read_csv('../data/03_primary/df_test.csv')"
   ]
  },
  {
   "cell_type": "code",
   "execution_count": null,
   "metadata": {},
   "outputs": [],
   "source": [
    "df_cp = df_test"
   ]
  },
  {
   "cell_type": "code",
   "execution_count": null,
   "metadata": {},
   "outputs": [],
   "source": [
    "df_cp"
   ]
  },
  {
   "cell_type": "code",
   "execution_count": null,
   "metadata": {},
   "outputs": [],
   "source": [
    "if num_mean_imputer is not None:\n",
    "    df_cp[num_mean_imputer.feature_names_in_] = num_mean_imputer.transform(df_cp[num_mean_imputer.feature_names_in_])\n",
    "\n",
    "if num_zero_imputer is not None:\n",
    "    df_cp[num_zero_imputer.feature_names_in_] = num_zero_imputer.transform(df_cp[num_zero_imputer.feature_names_in_])\n",
    "\n",
    "if cat_mostfreq_imputer is not None:\n",
    "    df_cp[cat_mostfreq_imputer.feature_names_in_] = cat_mostfreq_imputer.transform(df_cp[cat_mostfreq_imputer.feature_names_in_])\n",
    "\n",
    "if cat_unknown_imputer is not None:\n",
    "    df_cp[cat_unknown_imputer.feature_names_in_] = cat_unknown_imputer.transform(df_cp[cat_unknown_imputer.feature_names_in_])"
   ]
  },
  {
   "cell_type": "code",
   "execution_count": null,
   "metadata": {},
   "outputs": [],
   "source": [
    "df_cp"
   ]
  },
  {
   "cell_type": "markdown",
   "metadata": {},
   "source": [
    "---"
   ]
  },
  {
   "cell_type": "code",
   "execution_count": null,
   "metadata": {},
   "outputs": [],
   "source": [
    "df = pd.read_csv('../data/04_feature/df_fe_train.csv')"
   ]
  },
  {
   "cell_type": "code",
   "execution_count": null,
   "metadata": {},
   "outputs": [],
   "source": [
    "df"
   ]
  },
  {
   "cell_type": "code",
   "execution_count": null,
   "metadata": {},
   "outputs": [],
   "source": [
    "features_to_exclude = ['c_is_mobile', 'c_operating_system', 'c_weekday', 'n_total_time_on_site']\n",
    "# features_to_exclude = []"
   ]
  },
  {
   "cell_type": "code",
   "execution_count": null,
   "metadata": {},
   "outputs": [],
   "source": [
    "df_cp = df.copy()"
   ]
  },
  {
   "cell_type": "code",
   "execution_count": null,
   "metadata": {},
   "outputs": [],
   "source": [
    "for feature in features_to_exclude:\n",
    "    feature_list = [item for item in df.columns if re.compile(f'^{feature}').match(item)]\n",
    "    df_cp = df_cp.drop(feature_list, axis=1)"
   ]
  },
  {
   "cell_type": "code",
   "execution_count": null,
   "metadata": {},
   "outputs": [],
   "source": [
    "df_cp"
   ]
  },
  {
   "cell_type": "code",
   "execution_count": null,
   "metadata": {},
   "outputs": [],
   "source": []
  }
 ],
 "metadata": {
  "kernelspec": {
   "display_name": "Python 3.8.12 ('.venv': poetry)",
   "language": "python",
   "name": "python3"
  },
  "language_info": {
   "codemirror_mode": {
    "name": "ipython",
    "version": 3
   },
   "file_extension": ".py",
   "mimetype": "text/x-python",
   "name": "python",
   "nbconvert_exporter": "python",
   "pygments_lexer": "ipython3",
   "version": "3.8.12 (default, Dec  5 2022, 17:36:23) \n[Clang 13.1.6 (clang-1316.0.21.2.5)]"
  },
  "vscode": {
   "interpreter": {
    "hash": "a875e0dc97dd2951fe8b02ffd491226d1f9a0885d9ce603a879586ca268319d5"
   }
  }
 },
 "nbformat": 4,
 "nbformat_minor": 2
}
