{
 "cells": [
  {
   "cell_type": "code",
   "execution_count": 48,
   "metadata": {},
   "outputs": [],
   "source": [
    "import pandas as pd\n",
    "import os\n",
    "from pprint import PrettyPrinter"
   ]
  },
  {
   "cell_type": "code",
   "execution_count": 49,
   "metadata": {},
   "outputs": [
    {
     "data": {
      "text/plain": [
       "'/Users/pchaberski/projects/gid-ml-framework/ga4-mlops/notebooks'"
      ]
     },
     "execution_count": 49,
     "metadata": {},
     "output_type": "execute_result"
    }
   ],
   "source": [
    "os.getcwd()"
   ]
  },
  {
   "cell_type": "code",
   "execution_count": 50,
   "metadata": {},
   "outputs": [],
   "source": [
    "pp = PrettyPrinter()"
   ]
  },
  {
   "attachments": {},
   "cell_type": "markdown",
   "metadata": {},
   "source": [
    "# Primary data sample"
   ]
  },
  {
   "cell_type": "code",
   "execution_count": 10,
   "metadata": {},
   "outputs": [],
   "source": [
    "def engineer_features(df: pd.DataFrame) -> pd.DataFrame:\n",
    "    \"\"\"Apply manual feature engineering transformations.\n",
    "\n",
    "    Args:\n",
    "        df (pd.DataFrame): data frame with raw features\n",
    "\n",
    "    Returns:\n",
    "        pd.DataFrame: data frame after feature engineering\n",
    "    \"\"\"\n",
    "    # logger.info(\"Applying manual feature engineering transformations...\")\n",
    "\n",
    "    df[\"c_weekday\"] = pd.to_datetime(df[\"i_visit_start_time\"], unit=\"us\").dt.weekday\n",
    "    df[\"c_visit_start_hour\"] = pd.to_datetime(\n",
    "        df[\"i_visit_start_time\"], unit=\"us\"\n",
    "    ).dt.hour\n",
    "\n",
    "    return df"
   ]
  },
  {
   "cell_type": "code",
   "execution_count": 11,
   "metadata": {},
   "outputs": [],
   "source": [
    "df = pd.read_csv('../data/03_primary/df_train.csv')"
   ]
  },
  {
   "cell_type": "code",
   "execution_count": 31,
   "metadata": {},
   "outputs": [
    {
     "data": {
      "text/html": [
       "<div>\n",
       "<style scoped>\n",
       "    .dataframe tbody tr th:only-of-type {\n",
       "        vertical-align: middle;\n",
       "    }\n",
       "\n",
       "    .dataframe tbody tr th {\n",
       "        vertical-align: top;\n",
       "    }\n",
       "\n",
       "    .dataframe thead th {\n",
       "        text-align: right;\n",
       "    }\n",
       "</style>\n",
       "<table border=\"1\" class=\"dataframe\">\n",
       "  <thead>\n",
       "    <tr style=\"text-align: right;\">\n",
       "      <th></th>\n",
       "      <th>i_full_visitor_id</th>\n",
       "      <th>i_visit_start_time</th>\n",
       "      <th>i_date</th>\n",
       "      <th>c_device_category</th>\n",
       "      <th>c_is_mobile</th>\n",
       "      <th>c_operating_system</th>\n",
       "      <th>c_browser</th>\n",
       "      <th>c_country</th>\n",
       "      <th>c_city</th>\n",
       "      <th>c_traffic_source</th>\n",
       "      <th>c_traffic_medium</th>\n",
       "      <th>c_traffic_campaign</th>\n",
       "      <th>c_is_first_visit</th>\n",
       "      <th>n_product_pages_viewed</th>\n",
       "      <th>n_total_hits</th>\n",
       "      <th>n_total_pageviews</th>\n",
       "      <th>n_total_visits</th>\n",
       "      <th>n_total_time_on_site</th>\n",
       "      <th>y_added_to_cart</th>\n",
       "    </tr>\n",
       "  </thead>\n",
       "  <tbody>\n",
       "    <tr>\n",
       "      <th>2077</th>\n",
       "      <td>6.357417e+06</td>\n",
       "      <td>1.611862e+15</td>\n",
       "      <td>20210128</td>\n",
       "      <td>mobile</td>\n",
       "      <td>1</td>\n",
       "      <td>iOS</td>\n",
       "      <td>Safari</td>\n",
       "      <td>Spain</td>\n",
       "      <td>Valencia</td>\n",
       "      <td>google</td>\n",
       "      <td>organic</td>\n",
       "      <td>NaN</td>\n",
       "      <td>1</td>\n",
       "      <td>0</td>\n",
       "      <td>6</td>\n",
       "      <td>2</td>\n",
       "      <td>1</td>\n",
       "      <td>3427.0</td>\n",
       "      <td>0</td>\n",
       "    </tr>\n",
       "    <tr>\n",
       "      <th>9207</th>\n",
       "      <td>1.744347e+07</td>\n",
       "      <td>1.611662e+15</td>\n",
       "      <td>20210126</td>\n",
       "      <td>desktop</td>\n",
       "      <td>0</td>\n",
       "      <td>Web</td>\n",
       "      <td>Chrome</td>\n",
       "      <td>Belgium</td>\n",
       "      <td>(not set)</td>\n",
       "      <td>(direct)</td>\n",
       "      <td>(none)</td>\n",
       "      <td>NaN</td>\n",
       "      <td>1</td>\n",
       "      <td>0</td>\n",
       "      <td>6</td>\n",
       "      <td>2</td>\n",
       "      <td>1</td>\n",
       "      <td>6878.0</td>\n",
       "      <td>0</td>\n",
       "    </tr>\n",
       "    <tr>\n",
       "      <th>6755</th>\n",
       "      <td>5.524508e+06</td>\n",
       "      <td>1.611768e+15</td>\n",
       "      <td>20210127</td>\n",
       "      <td>desktop</td>\n",
       "      <td>0</td>\n",
       "      <td>Web</td>\n",
       "      <td>Chrome</td>\n",
       "      <td>United States</td>\n",
       "      <td>(not set)</td>\n",
       "      <td>(data deleted)</td>\n",
       "      <td>(data deleted)</td>\n",
       "      <td>NaN</td>\n",
       "      <td>0</td>\n",
       "      <td>1</td>\n",
       "      <td>72</td>\n",
       "      <td>28</td>\n",
       "      <td>2</td>\n",
       "      <td>110816.0</td>\n",
       "      <td>0</td>\n",
       "    </tr>\n",
       "    <tr>\n",
       "      <th>6704</th>\n",
       "      <td>7.090767e+07</td>\n",
       "      <td>1.611673e+15</td>\n",
       "      <td>20210126</td>\n",
       "      <td>desktop</td>\n",
       "      <td>0</td>\n",
       "      <td>Web</td>\n",
       "      <td>Chrome</td>\n",
       "      <td>United States</td>\n",
       "      <td>(not set)</td>\n",
       "      <td>&lt;Other&gt;</td>\n",
       "      <td>organic</td>\n",
       "      <td>NaN</td>\n",
       "      <td>1</td>\n",
       "      <td>0</td>\n",
       "      <td>9</td>\n",
       "      <td>3</td>\n",
       "      <td>1</td>\n",
       "      <td>44856.0</td>\n",
       "      <td>0</td>\n",
       "    </tr>\n",
       "    <tr>\n",
       "      <th>9528</th>\n",
       "      <td>3.972438e+06</td>\n",
       "      <td>1.611868e+15</td>\n",
       "      <td>20210128</td>\n",
       "      <td>mobile</td>\n",
       "      <td>1</td>\n",
       "      <td>Web</td>\n",
       "      <td>Safari</td>\n",
       "      <td>United States</td>\n",
       "      <td>Ashburn</td>\n",
       "      <td>shop.googlemerchandisestore.com</td>\n",
       "      <td>referral</td>\n",
       "      <td>NaN</td>\n",
       "      <td>1</td>\n",
       "      <td>1</td>\n",
       "      <td>9</td>\n",
       "      <td>3</td>\n",
       "      <td>1</td>\n",
       "      <td>14028.0</td>\n",
       "      <td>0</td>\n",
       "    </tr>\n",
       "    <tr>\n",
       "      <th>7421</th>\n",
       "      <td>5.893762e+07</td>\n",
       "      <td>1.611847e+15</td>\n",
       "      <td>20210128</td>\n",
       "      <td>desktop</td>\n",
       "      <td>0</td>\n",
       "      <td>Web</td>\n",
       "      <td>Chrome</td>\n",
       "      <td>India</td>\n",
       "      <td>Mysuru</td>\n",
       "      <td>&lt;Other&gt;</td>\n",
       "      <td>referral</td>\n",
       "      <td>NaN</td>\n",
       "      <td>1</td>\n",
       "      <td>0</td>\n",
       "      <td>6</td>\n",
       "      <td>2</td>\n",
       "      <td>1</td>\n",
       "      <td>4527.0</td>\n",
       "      <td>0</td>\n",
       "    </tr>\n",
       "    <tr>\n",
       "      <th>2578</th>\n",
       "      <td>5.729145e+06</td>\n",
       "      <td>1.611792e+15</td>\n",
       "      <td>20210128</td>\n",
       "      <td>mobile</td>\n",
       "      <td>1</td>\n",
       "      <td>iOS</td>\n",
       "      <td>Chrome</td>\n",
       "      <td>Poland</td>\n",
       "      <td>Krakow</td>\n",
       "      <td>&lt;Other&gt;</td>\n",
       "      <td>&lt;Other&gt;</td>\n",
       "      <td>NaN</td>\n",
       "      <td>1</td>\n",
       "      <td>0</td>\n",
       "      <td>6</td>\n",
       "      <td>2</td>\n",
       "      <td>1</td>\n",
       "      <td>15600.0</td>\n",
       "      <td>0</td>\n",
       "    </tr>\n",
       "    <tr>\n",
       "      <th>9479</th>\n",
       "      <td>8.483017e+06</td>\n",
       "      <td>1.611645e+15</td>\n",
       "      <td>20210126</td>\n",
       "      <td>mobile</td>\n",
       "      <td>1</td>\n",
       "      <td>iOS</td>\n",
       "      <td>Safari</td>\n",
       "      <td>United States</td>\n",
       "      <td>(not set)</td>\n",
       "      <td>&lt;Other&gt;</td>\n",
       "      <td>&lt;Other&gt;</td>\n",
       "      <td>NaN</td>\n",
       "      <td>1</td>\n",
       "      <td>0</td>\n",
       "      <td>10</td>\n",
       "      <td>4</td>\n",
       "      <td>1</td>\n",
       "      <td>19357.0</td>\n",
       "      <td>0</td>\n",
       "    </tr>\n",
       "    <tr>\n",
       "      <th>2176</th>\n",
       "      <td>6.119921e+07</td>\n",
       "      <td>1.611667e+15</td>\n",
       "      <td>20210126</td>\n",
       "      <td>mobile</td>\n",
       "      <td>1</td>\n",
       "      <td>Android</td>\n",
       "      <td>Chrome</td>\n",
       "      <td>United States</td>\n",
       "      <td>Las Vegas</td>\n",
       "      <td>google</td>\n",
       "      <td>organic</td>\n",
       "      <td>NaN</td>\n",
       "      <td>1</td>\n",
       "      <td>0</td>\n",
       "      <td>3</td>\n",
       "      <td>1</td>\n",
       "      <td>1</td>\n",
       "      <td>NaN</td>\n",
       "      <td>0</td>\n",
       "    </tr>\n",
       "    <tr>\n",
       "      <th>8572</th>\n",
       "      <td>7.802003e+09</td>\n",
       "      <td>1.611785e+15</td>\n",
       "      <td>20210127</td>\n",
       "      <td>mobile</td>\n",
       "      <td>1</td>\n",
       "      <td>iOS</td>\n",
       "      <td>Safari</td>\n",
       "      <td>United States</td>\n",
       "      <td>Atlanta</td>\n",
       "      <td>&lt;Other&gt;</td>\n",
       "      <td>&lt;Other&gt;</td>\n",
       "      <td>NaN</td>\n",
       "      <td>1</td>\n",
       "      <td>0</td>\n",
       "      <td>22</td>\n",
       "      <td>11</td>\n",
       "      <td>2</td>\n",
       "      <td>29476.0</td>\n",
       "      <td>0</td>\n",
       "    </tr>\n",
       "    <tr>\n",
       "      <th>7084</th>\n",
       "      <td>2.523674e+07</td>\n",
       "      <td>1.611769e+15</td>\n",
       "      <td>20210127</td>\n",
       "      <td>desktop</td>\n",
       "      <td>0</td>\n",
       "      <td>&lt;Other&gt;</td>\n",
       "      <td>Chrome</td>\n",
       "      <td>Canada</td>\n",
       "      <td>Oakville</td>\n",
       "      <td>&lt;Other&gt;</td>\n",
       "      <td>&lt;Other&gt;</td>\n",
       "      <td>NaN</td>\n",
       "      <td>1</td>\n",
       "      <td>1</td>\n",
       "      <td>6</td>\n",
       "      <td>2</td>\n",
       "      <td>1</td>\n",
       "      <td>1919.0</td>\n",
       "      <td>0</td>\n",
       "    </tr>\n",
       "    <tr>\n",
       "      <th>7941</th>\n",
       "      <td>6.825491e+07</td>\n",
       "      <td>1.611763e+15</td>\n",
       "      <td>20210127</td>\n",
       "      <td>desktop</td>\n",
       "      <td>0</td>\n",
       "      <td>Web</td>\n",
       "      <td>Chrome</td>\n",
       "      <td>India</td>\n",
       "      <td>Jaipur</td>\n",
       "      <td>shop.googlemerchandisestore.com</td>\n",
       "      <td>referral</td>\n",
       "      <td>NaN</td>\n",
       "      <td>0</td>\n",
       "      <td>1</td>\n",
       "      <td>18</td>\n",
       "      <td>6</td>\n",
       "      <td>1</td>\n",
       "      <td>60358.0</td>\n",
       "      <td>1</td>\n",
       "    </tr>\n",
       "    <tr>\n",
       "      <th>4027</th>\n",
       "      <td>2.801272e+07</td>\n",
       "      <td>1.611827e+15</td>\n",
       "      <td>20210128</td>\n",
       "      <td>desktop</td>\n",
       "      <td>0</td>\n",
       "      <td>Macintosh</td>\n",
       "      <td>Chrome</td>\n",
       "      <td>United States</td>\n",
       "      <td>Los Angeles</td>\n",
       "      <td>&lt;Other&gt;</td>\n",
       "      <td>referral</td>\n",
       "      <td>NaN</td>\n",
       "      <td>0</td>\n",
       "      <td>0</td>\n",
       "      <td>10</td>\n",
       "      <td>4</td>\n",
       "      <td>2</td>\n",
       "      <td>3525.0</td>\n",
       "      <td>0</td>\n",
       "    </tr>\n",
       "    <tr>\n",
       "      <th>6406</th>\n",
       "      <td>7.976499e+07</td>\n",
       "      <td>1.611698e+15</td>\n",
       "      <td>20210126</td>\n",
       "      <td>desktop</td>\n",
       "      <td>0</td>\n",
       "      <td>Web</td>\n",
       "      <td>Chrome</td>\n",
       "      <td>Peru</td>\n",
       "      <td>(not set)</td>\n",
       "      <td>&lt;Other&gt;</td>\n",
       "      <td>&lt;Other&gt;</td>\n",
       "      <td>NaN</td>\n",
       "      <td>1</td>\n",
       "      <td>0</td>\n",
       "      <td>4</td>\n",
       "      <td>2</td>\n",
       "      <td>1</td>\n",
       "      <td>NaN</td>\n",
       "      <td>0</td>\n",
       "    </tr>\n",
       "    <tr>\n",
       "      <th>3909</th>\n",
       "      <td>8.053409e+06</td>\n",
       "      <td>1.611638e+15</td>\n",
       "      <td>20210126</td>\n",
       "      <td>desktop</td>\n",
       "      <td>0</td>\n",
       "      <td>Web</td>\n",
       "      <td>Chrome</td>\n",
       "      <td>United States</td>\n",
       "      <td>(not set)</td>\n",
       "      <td>&lt;Other&gt;</td>\n",
       "      <td>&lt;Other&gt;</td>\n",
       "      <td>NaN</td>\n",
       "      <td>0</td>\n",
       "      <td>0</td>\n",
       "      <td>2</td>\n",
       "      <td>0</td>\n",
       "      <td>1</td>\n",
       "      <td>NaN</td>\n",
       "      <td>0</td>\n",
       "    </tr>\n",
       "    <tr>\n",
       "      <th>3945</th>\n",
       "      <td>4.096028e+07</td>\n",
       "      <td>1.611645e+15</td>\n",
       "      <td>20210126</td>\n",
       "      <td>mobile</td>\n",
       "      <td>1</td>\n",
       "      <td>Android</td>\n",
       "      <td>Chrome</td>\n",
       "      <td>United States</td>\n",
       "      <td>(not set)</td>\n",
       "      <td>(data deleted)</td>\n",
       "      <td>(data deleted)</td>\n",
       "      <td>NaN</td>\n",
       "      <td>0</td>\n",
       "      <td>0</td>\n",
       "      <td>11</td>\n",
       "      <td>4</td>\n",
       "      <td>2</td>\n",
       "      <td>9940.0</td>\n",
       "      <td>0</td>\n",
       "    </tr>\n",
       "    <tr>\n",
       "      <th>7099</th>\n",
       "      <td>5.537227e+07</td>\n",
       "      <td>1.611755e+15</td>\n",
       "      <td>20210127</td>\n",
       "      <td>desktop</td>\n",
       "      <td>0</td>\n",
       "      <td>Web</td>\n",
       "      <td>Chrome</td>\n",
       "      <td>France</td>\n",
       "      <td>Lille</td>\n",
       "      <td>google</td>\n",
       "      <td>organic</td>\n",
       "      <td>NaN</td>\n",
       "      <td>1</td>\n",
       "      <td>0</td>\n",
       "      <td>11</td>\n",
       "      <td>4</td>\n",
       "      <td>1</td>\n",
       "      <td>7813.0</td>\n",
       "      <td>0</td>\n",
       "    </tr>\n",
       "    <tr>\n",
       "      <th>3108</th>\n",
       "      <td>4.194350e+07</td>\n",
       "      <td>1.611829e+15</td>\n",
       "      <td>20210128</td>\n",
       "      <td>desktop</td>\n",
       "      <td>0</td>\n",
       "      <td>Windows</td>\n",
       "      <td>Chrome</td>\n",
       "      <td>United States</td>\n",
       "      <td>(not set)</td>\n",
       "      <td>&lt;Other&gt;</td>\n",
       "      <td>&lt;Other&gt;</td>\n",
       "      <td>NaN</td>\n",
       "      <td>1</td>\n",
       "      <td>0</td>\n",
       "      <td>11</td>\n",
       "      <td>4</td>\n",
       "      <td>1</td>\n",
       "      <td>30985.0</td>\n",
       "      <td>0</td>\n",
       "    </tr>\n",
       "    <tr>\n",
       "      <th>3141</th>\n",
       "      <td>7.058287e+07</td>\n",
       "      <td>NaN</td>\n",
       "      <td>20210127</td>\n",
       "      <td>mobile</td>\n",
       "      <td>1</td>\n",
       "      <td>Android</td>\n",
       "      <td>Chrome</td>\n",
       "      <td>United Kingdom</td>\n",
       "      <td>Birmingham</td>\n",
       "      <td>&lt;Other&gt;</td>\n",
       "      <td>organic</td>\n",
       "      <td>NaN</td>\n",
       "      <td>0</td>\n",
       "      <td>0</td>\n",
       "      <td>3</td>\n",
       "      <td>1</td>\n",
       "      <td>2</td>\n",
       "      <td>1151.0</td>\n",
       "      <td>0</td>\n",
       "    </tr>\n",
       "    <tr>\n",
       "      <th>4752</th>\n",
       "      <td>2.016428e+06</td>\n",
       "      <td>1.611860e+15</td>\n",
       "      <td>20210128</td>\n",
       "      <td>desktop</td>\n",
       "      <td>0</td>\n",
       "      <td>Macintosh</td>\n",
       "      <td>Chrome</td>\n",
       "      <td>United States</td>\n",
       "      <td>(not set)</td>\n",
       "      <td>&lt;Other&gt;</td>\n",
       "      <td>&lt;Other&gt;</td>\n",
       "      <td>NaN</td>\n",
       "      <td>1</td>\n",
       "      <td>1</td>\n",
       "      <td>37</td>\n",
       "      <td>14</td>\n",
       "      <td>1</td>\n",
       "      <td>73914.0</td>\n",
       "      <td>1</td>\n",
       "    </tr>\n",
       "  </tbody>\n",
       "</table>\n",
       "</div>"
      ],
      "text/plain": [
       "      i_full_visitor_id  i_visit_start_time    i_date c_device_category  \\\n",
       "2077       6.357417e+06        1.611862e+15  20210128            mobile   \n",
       "9207       1.744347e+07        1.611662e+15  20210126           desktop   \n",
       "6755       5.524508e+06        1.611768e+15  20210127           desktop   \n",
       "6704       7.090767e+07        1.611673e+15  20210126           desktop   \n",
       "9528       3.972438e+06        1.611868e+15  20210128            mobile   \n",
       "7421       5.893762e+07        1.611847e+15  20210128           desktop   \n",
       "2578       5.729145e+06        1.611792e+15  20210128            mobile   \n",
       "9479       8.483017e+06        1.611645e+15  20210126            mobile   \n",
       "2176       6.119921e+07        1.611667e+15  20210126            mobile   \n",
       "8572       7.802003e+09        1.611785e+15  20210127            mobile   \n",
       "7084       2.523674e+07        1.611769e+15  20210127           desktop   \n",
       "7941       6.825491e+07        1.611763e+15  20210127           desktop   \n",
       "4027       2.801272e+07        1.611827e+15  20210128           desktop   \n",
       "6406       7.976499e+07        1.611698e+15  20210126           desktop   \n",
       "3909       8.053409e+06        1.611638e+15  20210126           desktop   \n",
       "3945       4.096028e+07        1.611645e+15  20210126            mobile   \n",
       "7099       5.537227e+07        1.611755e+15  20210127           desktop   \n",
       "3108       4.194350e+07        1.611829e+15  20210128           desktop   \n",
       "3141       7.058287e+07                 NaN  20210127            mobile   \n",
       "4752       2.016428e+06        1.611860e+15  20210128           desktop   \n",
       "\n",
       "      c_is_mobile c_operating_system c_browser       c_country       c_city  \\\n",
       "2077            1                iOS    Safari           Spain     Valencia   \n",
       "9207            0                Web    Chrome         Belgium    (not set)   \n",
       "6755            0                Web    Chrome   United States    (not set)   \n",
       "6704            0                Web    Chrome   United States    (not set)   \n",
       "9528            1                Web    Safari   United States      Ashburn   \n",
       "7421            0                Web    Chrome           India       Mysuru   \n",
       "2578            1                iOS    Chrome          Poland       Krakow   \n",
       "9479            1                iOS    Safari   United States    (not set)   \n",
       "2176            1            Android    Chrome   United States    Las Vegas   \n",
       "8572            1                iOS    Safari   United States      Atlanta   \n",
       "7084            0            <Other>    Chrome          Canada     Oakville   \n",
       "7941            0                Web    Chrome           India       Jaipur   \n",
       "4027            0          Macintosh    Chrome   United States  Los Angeles   \n",
       "6406            0                Web    Chrome            Peru    (not set)   \n",
       "3909            0                Web    Chrome   United States    (not set)   \n",
       "3945            1            Android    Chrome   United States    (not set)   \n",
       "7099            0                Web    Chrome          France        Lille   \n",
       "3108            0            Windows    Chrome   United States    (not set)   \n",
       "3141            1            Android    Chrome  United Kingdom   Birmingham   \n",
       "4752            0          Macintosh    Chrome   United States    (not set)   \n",
       "\n",
       "                     c_traffic_source c_traffic_medium c_traffic_campaign  \\\n",
       "2077                           google          organic                NaN   \n",
       "9207                         (direct)           (none)                NaN   \n",
       "6755                   (data deleted)   (data deleted)                NaN   \n",
       "6704                          <Other>          organic                NaN   \n",
       "9528  shop.googlemerchandisestore.com         referral                NaN   \n",
       "7421                          <Other>         referral                NaN   \n",
       "2578                          <Other>          <Other>                NaN   \n",
       "9479                          <Other>          <Other>                NaN   \n",
       "2176                           google          organic                NaN   \n",
       "8572                          <Other>          <Other>                NaN   \n",
       "7084                          <Other>          <Other>                NaN   \n",
       "7941  shop.googlemerchandisestore.com         referral                NaN   \n",
       "4027                          <Other>         referral                NaN   \n",
       "6406                          <Other>          <Other>                NaN   \n",
       "3909                          <Other>          <Other>                NaN   \n",
       "3945                   (data deleted)   (data deleted)                NaN   \n",
       "7099                           google          organic                NaN   \n",
       "3108                          <Other>          <Other>                NaN   \n",
       "3141                          <Other>          organic                NaN   \n",
       "4752                          <Other>          <Other>                NaN   \n",
       "\n",
       "      c_is_first_visit  n_product_pages_viewed  n_total_hits  \\\n",
       "2077                 1                       0             6   \n",
       "9207                 1                       0             6   \n",
       "6755                 0                       1            72   \n",
       "6704                 1                       0             9   \n",
       "9528                 1                       1             9   \n",
       "7421                 1                       0             6   \n",
       "2578                 1                       0             6   \n",
       "9479                 1                       0            10   \n",
       "2176                 1                       0             3   \n",
       "8572                 1                       0            22   \n",
       "7084                 1                       1             6   \n",
       "7941                 0                       1            18   \n",
       "4027                 0                       0            10   \n",
       "6406                 1                       0             4   \n",
       "3909                 0                       0             2   \n",
       "3945                 0                       0            11   \n",
       "7099                 1                       0            11   \n",
       "3108                 1                       0            11   \n",
       "3141                 0                       0             3   \n",
       "4752                 1                       1            37   \n",
       "\n",
       "      n_total_pageviews  n_total_visits  n_total_time_on_site  y_added_to_cart  \n",
       "2077                  2               1                3427.0                0  \n",
       "9207                  2               1                6878.0                0  \n",
       "6755                 28               2              110816.0                0  \n",
       "6704                  3               1               44856.0                0  \n",
       "9528                  3               1               14028.0                0  \n",
       "7421                  2               1                4527.0                0  \n",
       "2578                  2               1               15600.0                0  \n",
       "9479                  4               1               19357.0                0  \n",
       "2176                  1               1                   NaN                0  \n",
       "8572                 11               2               29476.0                0  \n",
       "7084                  2               1                1919.0                0  \n",
       "7941                  6               1               60358.0                1  \n",
       "4027                  4               2                3525.0                0  \n",
       "6406                  2               1                   NaN                0  \n",
       "3909                  0               1                   NaN                0  \n",
       "3945                  4               2                9940.0                0  \n",
       "7099                  4               1                7813.0                0  \n",
       "3108                  4               1               30985.0                0  \n",
       "3141                  1               2                1151.0                0  \n",
       "4752                 14               1               73914.0                1  "
      ]
     },
     "execution_count": 31,
     "metadata": {},
     "output_type": "execute_result"
    }
   ],
   "source": [
    "dfs = df.sample(20, random_state=22)\n",
    "dfs"
   ]
  },
  {
   "attachments": {},
   "cell_type": "markdown",
   "metadata": {},
   "source": [
    "## Engineer features"
   ]
  },
  {
   "cell_type": "code",
   "execution_count": 13,
   "metadata": {},
   "outputs": [
    {
     "data": {
      "text/plain": [
       "[0, 1, 2]"
      ]
     },
     "execution_count": 13,
     "metadata": {},
     "output_type": "execute_result"
    }
   ],
   "source": [
    "rows_to_select = list(range(3))\n",
    "rows_to_select"
   ]
  },
  {
   "cell_type": "code",
   "execution_count": 14,
   "metadata": {},
   "outputs": [
    {
     "data": {
      "text/plain": [
       "['i_full_visitor_id', 'i_visit_start_time']"
      ]
     },
     "execution_count": 14,
     "metadata": {},
     "output_type": "execute_result"
    }
   ],
   "source": [
    "columns_to_select = [\n",
    "    \"i_full_visitor_id\",\n",
    "    \"i_visit_start_time\"\n",
    "]\n",
    "columns_to_select"
   ]
  },
  {
   "cell_type": "code",
   "execution_count": 32,
   "metadata": {},
   "outputs": [
    {
     "data": {
      "text/html": [
       "<div>\n",
       "<style scoped>\n",
       "    .dataframe tbody tr th:only-of-type {\n",
       "        vertical-align: middle;\n",
       "    }\n",
       "\n",
       "    .dataframe tbody tr th {\n",
       "        vertical-align: top;\n",
       "    }\n",
       "\n",
       "    .dataframe thead th {\n",
       "        text-align: right;\n",
       "    }\n",
       "</style>\n",
       "<table border=\"1\" class=\"dataframe\">\n",
       "  <thead>\n",
       "    <tr style=\"text-align: right;\">\n",
       "      <th></th>\n",
       "      <th>i_full_visitor_id</th>\n",
       "      <th>i_visit_start_time</th>\n",
       "    </tr>\n",
       "  </thead>\n",
       "  <tbody>\n",
       "    <tr>\n",
       "      <th>2077</th>\n",
       "      <td>6.357417e+06</td>\n",
       "      <td>1.611862e+15</td>\n",
       "    </tr>\n",
       "    <tr>\n",
       "      <th>9207</th>\n",
       "      <td>1.744347e+07</td>\n",
       "      <td>1.611662e+15</td>\n",
       "    </tr>\n",
       "    <tr>\n",
       "      <th>6755</th>\n",
       "      <td>5.524508e+06</td>\n",
       "      <td>1.611768e+15</td>\n",
       "    </tr>\n",
       "  </tbody>\n",
       "</table>\n",
       "</div>"
      ],
      "text/plain": [
       "      i_full_visitor_id  i_visit_start_time\n",
       "2077       6.357417e+06        1.611862e+15\n",
       "9207       1.744347e+07        1.611662e+15\n",
       "6755       5.524508e+06        1.611768e+15"
      ]
     },
     "execution_count": 32,
     "metadata": {},
     "output_type": "execute_result"
    }
   ],
   "source": [
    "df_sample = dfs.iloc[rows_to_select, :][columns_to_select]\n",
    "df_sample"
   ]
  },
  {
   "cell_type": "code",
   "execution_count": 16,
   "metadata": {},
   "outputs": [],
   "source": [
    "dict_sample = df_sample.to_dict(orient=\"list\")"
   ]
  },
  {
   "cell_type": "code",
   "execution_count": 17,
   "metadata": {},
   "outputs": [
    {
     "name": "stdout",
     "output_type": "stream",
     "text": [
      "{'i_full_visitor_id': [3033910.355860057, 81793309.0616803, 4293031.296243032],\n",
      " 'i_visit_start_time': [1611619614341157.0,\n",
      "                        1611820704267587.0,\n",
      "                        1611661585573344.0]}\n"
     ]
    }
   ],
   "source": [
    "pp.pprint(dict_sample)"
   ]
  },
  {
   "cell_type": "code",
   "execution_count": 18,
   "metadata": {},
   "outputs": [
    {
     "data": {
      "text/html": [
       "<div>\n",
       "<style scoped>\n",
       "    .dataframe tbody tr th:only-of-type {\n",
       "        vertical-align: middle;\n",
       "    }\n",
       "\n",
       "    .dataframe tbody tr th {\n",
       "        vertical-align: top;\n",
       "    }\n",
       "\n",
       "    .dataframe thead th {\n",
       "        text-align: right;\n",
       "    }\n",
       "</style>\n",
       "<table border=\"1\" class=\"dataframe\">\n",
       "  <thead>\n",
       "    <tr style=\"text-align: right;\">\n",
       "      <th></th>\n",
       "      <th>i_full_visitor_id</th>\n",
       "      <th>i_visit_start_time</th>\n",
       "      <th>c_weekday</th>\n",
       "      <th>c_visit_start_hour</th>\n",
       "    </tr>\n",
       "  </thead>\n",
       "  <tbody>\n",
       "    <tr>\n",
       "      <th>0</th>\n",
       "      <td>3.033910e+06</td>\n",
       "      <td>1.611620e+15</td>\n",
       "      <td>1</td>\n",
       "      <td>0</td>\n",
       "    </tr>\n",
       "    <tr>\n",
       "      <th>1</th>\n",
       "      <td>8.179331e+07</td>\n",
       "      <td>1.611821e+15</td>\n",
       "      <td>3</td>\n",
       "      <td>7</td>\n",
       "    </tr>\n",
       "    <tr>\n",
       "      <th>2</th>\n",
       "      <td>4.293031e+06</td>\n",
       "      <td>1.611662e+15</td>\n",
       "      <td>1</td>\n",
       "      <td>11</td>\n",
       "    </tr>\n",
       "  </tbody>\n",
       "</table>\n",
       "</div>"
      ],
      "text/plain": [
       "   i_full_visitor_id  i_visit_start_time  c_weekday  c_visit_start_hour\n",
       "0       3.033910e+06        1.611620e+15          1                   0\n",
       "1       8.179331e+07        1.611821e+15          3                   7\n",
       "2       4.293031e+06        1.611662e+15          1                  11"
      ]
     },
     "execution_count": 18,
     "metadata": {},
     "output_type": "execute_result"
    }
   ],
   "source": [
    "df_processed = engineer_features(df_sample)\n",
    "df_processed"
   ]
  },
  {
   "cell_type": "code",
   "execution_count": 19,
   "metadata": {},
   "outputs": [],
   "source": [
    "dict_processed = df_processed.to_dict(orient=\"list\")"
   ]
  },
  {
   "cell_type": "code",
   "execution_count": 20,
   "metadata": {},
   "outputs": [
    {
     "name": "stdout",
     "output_type": "stream",
     "text": [
      "{'c_visit_start_hour': [0, 7, 11],\n",
      " 'c_weekday': [1, 3, 1],\n",
      " 'i_full_visitor_id': [3033910.355860057, 81793309.0616803, 4293031.296243032],\n",
      " 'i_visit_start_time': [1611619614341157.0,\n",
      "                        1611820704267587.0,\n",
      "                        1611661585573344.0]}\n"
     ]
    }
   ],
   "source": [
    "pp.pprint(dict_processed)"
   ]
  },
  {
   "cell_type": "code",
   "execution_count": 22,
   "metadata": {},
   "outputs": [],
   "source": [
    "df_expected = pd.DataFrame({\n",
    "        'c_visit_start_hour': [0, 7, 11],\n",
    "        'c_weekday': [1, 3, 1],\n",
    "        'i_full_visitor_id': [3033910.355860057, 81793309.0616803, 4293031.296243032],\n",
    "        'i_visit_start_time': [1611619614341157.0,\n",
    "                                1611820704267587.0,\n",
    "                                1611661585573344.0]\n",
    "    })"
   ]
  },
  {
   "cell_type": "code",
   "execution_count": 23,
   "metadata": {},
   "outputs": [
    {
     "data": {
      "text/html": [
       "<div>\n",
       "<style scoped>\n",
       "    .dataframe tbody tr th:only-of-type {\n",
       "        vertical-align: middle;\n",
       "    }\n",
       "\n",
       "    .dataframe tbody tr th {\n",
       "        vertical-align: top;\n",
       "    }\n",
       "\n",
       "    .dataframe thead th {\n",
       "        text-align: right;\n",
       "    }\n",
       "</style>\n",
       "<table border=\"1\" class=\"dataframe\">\n",
       "  <thead>\n",
       "    <tr style=\"text-align: right;\">\n",
       "      <th></th>\n",
       "      <th>i_full_visitor_id</th>\n",
       "      <th>i_visit_start_time</th>\n",
       "      <th>c_weekday</th>\n",
       "      <th>c_visit_start_hour</th>\n",
       "    </tr>\n",
       "  </thead>\n",
       "  <tbody>\n",
       "    <tr>\n",
       "      <th>0</th>\n",
       "      <td>3.033910e+06</td>\n",
       "      <td>1.611620e+15</td>\n",
       "      <td>1</td>\n",
       "      <td>0</td>\n",
       "    </tr>\n",
       "    <tr>\n",
       "      <th>1</th>\n",
       "      <td>8.179331e+07</td>\n",
       "      <td>1.611821e+15</td>\n",
       "      <td>3</td>\n",
       "      <td>7</td>\n",
       "    </tr>\n",
       "    <tr>\n",
       "      <th>2</th>\n",
       "      <td>4.293031e+06</td>\n",
       "      <td>1.611662e+15</td>\n",
       "      <td>1</td>\n",
       "      <td>11</td>\n",
       "    </tr>\n",
       "  </tbody>\n",
       "</table>\n",
       "</div>"
      ],
      "text/plain": [
       "   i_full_visitor_id  i_visit_start_time  c_weekday  c_visit_start_hour\n",
       "0       3.033910e+06        1.611620e+15          1                   0\n",
       "1       8.179331e+07        1.611821e+15          3                   7\n",
       "2       4.293031e+06        1.611662e+15          1                  11"
      ]
     },
     "execution_count": 23,
     "metadata": {},
     "output_type": "execute_result"
    }
   ],
   "source": [
    "df_processed"
   ]
  },
  {
   "cell_type": "code",
   "execution_count": 24,
   "metadata": {},
   "outputs": [
    {
     "data": {
      "text/html": [
       "<div>\n",
       "<style scoped>\n",
       "    .dataframe tbody tr th:only-of-type {\n",
       "        vertical-align: middle;\n",
       "    }\n",
       "\n",
       "    .dataframe tbody tr th {\n",
       "        vertical-align: top;\n",
       "    }\n",
       "\n",
       "    .dataframe thead th {\n",
       "        text-align: right;\n",
       "    }\n",
       "</style>\n",
       "<table border=\"1\" class=\"dataframe\">\n",
       "  <thead>\n",
       "    <tr style=\"text-align: right;\">\n",
       "      <th></th>\n",
       "      <th>c_visit_start_hour</th>\n",
       "      <th>c_weekday</th>\n",
       "      <th>i_full_visitor_id</th>\n",
       "      <th>i_visit_start_time</th>\n",
       "    </tr>\n",
       "  </thead>\n",
       "  <tbody>\n",
       "    <tr>\n",
       "      <th>0</th>\n",
       "      <td>0</td>\n",
       "      <td>1</td>\n",
       "      <td>3.033910e+06</td>\n",
       "      <td>1.611620e+15</td>\n",
       "    </tr>\n",
       "    <tr>\n",
       "      <th>1</th>\n",
       "      <td>7</td>\n",
       "      <td>3</td>\n",
       "      <td>8.179331e+07</td>\n",
       "      <td>1.611821e+15</td>\n",
       "    </tr>\n",
       "    <tr>\n",
       "      <th>2</th>\n",
       "      <td>11</td>\n",
       "      <td>1</td>\n",
       "      <td>4.293031e+06</td>\n",
       "      <td>1.611662e+15</td>\n",
       "    </tr>\n",
       "  </tbody>\n",
       "</table>\n",
       "</div>"
      ],
      "text/plain": [
       "   c_visit_start_hour  c_weekday  i_full_visitor_id  i_visit_start_time\n",
       "0                   0          1       3.033910e+06        1.611620e+15\n",
       "1                   7          3       8.179331e+07        1.611821e+15\n",
       "2                  11          1       4.293031e+06        1.611662e+15"
      ]
     },
     "execution_count": 24,
     "metadata": {},
     "output_type": "execute_result"
    }
   ],
   "source": [
    "df_expected"
   ]
  },
  {
   "cell_type": "code",
   "execution_count": 25,
   "metadata": {},
   "outputs": [
    {
     "data": {
      "text/plain": [
       "False"
      ]
     },
     "execution_count": 25,
     "metadata": {},
     "output_type": "execute_result"
    }
   ],
   "source": [
    "df_processed.equals(df_expected)"
   ]
  },
  {
   "cell_type": "code",
   "execution_count": 26,
   "metadata": {},
   "outputs": [
    {
     "data": {
      "text/plain": [
       "True"
      ]
     },
     "execution_count": 26,
     "metadata": {},
     "output_type": "execute_result"
    }
   ],
   "source": [
    "df_processed.sort_index(axis=1).equals(df_expected.sort_index(axis=1))"
   ]
  },
  {
   "attachments": {},
   "cell_type": "markdown",
   "metadata": {},
   "source": [
    "## Data preparation utils"
   ]
  },
  {
   "cell_type": "code",
   "execution_count": 14,
   "metadata": {},
   "outputs": [],
   "source": [
    "df = pd.DataFrame(\n",
    "    {\n",
    "        \"c_first_good_colname\": [\"cat1\", \"cat2\", \"cat1\"],\n",
    "        \"n_second_good_colname\": [1, 3, 5],\n",
    "        \"c_first_bad_colname\": [7, 8, 9],\n",
    "        \"n_second_bad_colname\": [\"3.0\", \"2.2\", \"5.6\"],\n",
    "    }\n",
    ")"
   ]
  },
  {
   "cell_type": "code",
   "execution_count": 15,
   "metadata": {},
   "outputs": [
    {
     "data": {
      "text/html": [
       "<div>\n",
       "<style scoped>\n",
       "    .dataframe tbody tr th:only-of-type {\n",
       "        vertical-align: middle;\n",
       "    }\n",
       "\n",
       "    .dataframe tbody tr th {\n",
       "        vertical-align: top;\n",
       "    }\n",
       "\n",
       "    .dataframe thead th {\n",
       "        text-align: right;\n",
       "    }\n",
       "</style>\n",
       "<table border=\"1\" class=\"dataframe\">\n",
       "  <thead>\n",
       "    <tr style=\"text-align: right;\">\n",
       "      <th></th>\n",
       "      <th>c_first_good_colname</th>\n",
       "      <th>n_second_good_colname</th>\n",
       "      <th>c_first_bad_colname</th>\n",
       "      <th>n_second_bad_colname</th>\n",
       "    </tr>\n",
       "  </thead>\n",
       "  <tbody>\n",
       "    <tr>\n",
       "      <th>0</th>\n",
       "      <td>cat1</td>\n",
       "      <td>1</td>\n",
       "      <td>7</td>\n",
       "      <td>3.0</td>\n",
       "    </tr>\n",
       "    <tr>\n",
       "      <th>1</th>\n",
       "      <td>cat2</td>\n",
       "      <td>3</td>\n",
       "      <td>8</td>\n",
       "      <td>2.2</td>\n",
       "    </tr>\n",
       "    <tr>\n",
       "      <th>2</th>\n",
       "      <td>cat1</td>\n",
       "      <td>5</td>\n",
       "      <td>9</td>\n",
       "      <td>5.6</td>\n",
       "    </tr>\n",
       "  </tbody>\n",
       "</table>\n",
       "</div>"
      ],
      "text/plain": [
       "  c_first_good_colname  n_second_good_colname  c_first_bad_colname  \\\n",
       "0                 cat1                      1                    7   \n",
       "1                 cat2                      3                    8   \n",
       "2                 cat1                      5                    9   \n",
       "\n",
       "  n_second_bad_colname  \n",
       "0                  3.0  \n",
       "1                  2.2  \n",
       "2                  5.6  "
      ]
     },
     "execution_count": 15,
     "metadata": {},
     "output_type": "execute_result"
    }
   ],
   "source": [
    "df"
   ]
  },
  {
   "cell_type": "code",
   "execution_count": 16,
   "metadata": {},
   "outputs": [
    {
     "data": {
      "text/plain": [
       "c_first_good_colname     object\n",
       "n_second_good_colname     int64\n",
       "c_first_bad_colname       int64\n",
       "n_second_bad_colname     object\n",
       "dtype: object"
      ]
     },
     "execution_count": 16,
     "metadata": {},
     "output_type": "execute_result"
    }
   ],
   "source": [
    "df.dtypes"
   ]
  },
  {
   "cell_type": "code",
   "execution_count": 17,
   "metadata": {},
   "outputs": [],
   "source": [
    "from ga4_mlops.pipelines.data_preparation_utils import extract_column_names, ensure_column_types"
   ]
  },
  {
   "cell_type": "code",
   "execution_count": 18,
   "metadata": {},
   "outputs": [],
   "source": [
    "_, num_cols, cat_cols, _ = extract_column_names(df)"
   ]
  },
  {
   "cell_type": "code",
   "execution_count": 19,
   "metadata": {},
   "outputs": [],
   "source": [
    "df2 = ensure_column_types(df, num_cols, cat_cols)"
   ]
  },
  {
   "cell_type": "code",
   "execution_count": 20,
   "metadata": {},
   "outputs": [
    {
     "data": {
      "text/html": [
       "<div>\n",
       "<style scoped>\n",
       "    .dataframe tbody tr th:only-of-type {\n",
       "        vertical-align: middle;\n",
       "    }\n",
       "\n",
       "    .dataframe tbody tr th {\n",
       "        vertical-align: top;\n",
       "    }\n",
       "\n",
       "    .dataframe thead th {\n",
       "        text-align: right;\n",
       "    }\n",
       "</style>\n",
       "<table border=\"1\" class=\"dataframe\">\n",
       "  <thead>\n",
       "    <tr style=\"text-align: right;\">\n",
       "      <th></th>\n",
       "      <th>c_first_good_colname</th>\n",
       "      <th>n_second_good_colname</th>\n",
       "      <th>c_first_bad_colname</th>\n",
       "      <th>n_second_bad_colname</th>\n",
       "    </tr>\n",
       "  </thead>\n",
       "  <tbody>\n",
       "    <tr>\n",
       "      <th>0</th>\n",
       "      <td>cat1</td>\n",
       "      <td>1.0</td>\n",
       "      <td>7</td>\n",
       "      <td>3.0</td>\n",
       "    </tr>\n",
       "    <tr>\n",
       "      <th>1</th>\n",
       "      <td>cat2</td>\n",
       "      <td>3.0</td>\n",
       "      <td>8</td>\n",
       "      <td>2.2</td>\n",
       "    </tr>\n",
       "    <tr>\n",
       "      <th>2</th>\n",
       "      <td>cat1</td>\n",
       "      <td>5.0</td>\n",
       "      <td>9</td>\n",
       "      <td>5.6</td>\n",
       "    </tr>\n",
       "  </tbody>\n",
       "</table>\n",
       "</div>"
      ],
      "text/plain": [
       "  c_first_good_colname  n_second_good_colname c_first_bad_colname  \\\n",
       "0                 cat1                    1.0                   7   \n",
       "1                 cat2                    3.0                   8   \n",
       "2                 cat1                    5.0                   9   \n",
       "\n",
       "   n_second_bad_colname  \n",
       "0                   3.0  \n",
       "1                   2.2  \n",
       "2                   5.6  "
      ]
     },
     "execution_count": 20,
     "metadata": {},
     "output_type": "execute_result"
    }
   ],
   "source": [
    "df2"
   ]
  },
  {
   "cell_type": "code",
   "execution_count": 21,
   "metadata": {},
   "outputs": [
    {
     "data": {
      "text/plain": [
       "c_first_good_colname      object\n",
       "n_second_good_colname    float64\n",
       "c_first_bad_colname       object\n",
       "n_second_bad_colname     float64\n",
       "dtype: object"
      ]
     },
     "execution_count": 21,
     "metadata": {},
     "output_type": "execute_result"
    }
   ],
   "source": [
    "df2.dtypes"
   ]
  },
  {
   "cell_type": "code",
   "execution_count": 22,
   "metadata": {},
   "outputs": [
    {
     "data": {
      "text/plain": [
       "[dtype('O'), dtype('float64'), dtype('O'), dtype('float64')]"
      ]
     },
     "execution_count": 22,
     "metadata": {},
     "output_type": "execute_result"
    }
   ],
   "source": [
    "list(df2.dtypes)"
   ]
  },
  {
   "cell_type": "code",
   "execution_count": 27,
   "metadata": {},
   "outputs": [
    {
     "data": {
      "text/plain": [
       "[dtype('O'), dtype('float64'), dtype('O'), dtype('float64')]"
      ]
     },
     "execution_count": 27,
     "metadata": {},
     "output_type": "execute_result"
    }
   ],
   "source": [
    "df2.dtypes.to_list()"
   ]
  },
  {
   "cell_type": "code",
   "execution_count": 28,
   "metadata": {},
   "outputs": [],
   "source": [
    "num_cols = [\"n_second_good_colname\", \"n_second_bad_colname\"]\n",
    "cat_cols = [\"c_first_good_colname\", \"c_first_bad_colname\"]\n",
    "df3 = ensure_column_types(df, num_cols, cat_cols)"
   ]
  },
  {
   "cell_type": "code",
   "execution_count": 29,
   "metadata": {},
   "outputs": [
    {
     "data": {
      "text/html": [
       "<div>\n",
       "<style scoped>\n",
       "    .dataframe tbody tr th:only-of-type {\n",
       "        vertical-align: middle;\n",
       "    }\n",
       "\n",
       "    .dataframe tbody tr th {\n",
       "        vertical-align: top;\n",
       "    }\n",
       "\n",
       "    .dataframe thead th {\n",
       "        text-align: right;\n",
       "    }\n",
       "</style>\n",
       "<table border=\"1\" class=\"dataframe\">\n",
       "  <thead>\n",
       "    <tr style=\"text-align: right;\">\n",
       "      <th></th>\n",
       "      <th>c_first_good_colname</th>\n",
       "      <th>n_second_good_colname</th>\n",
       "      <th>c_first_bad_colname</th>\n",
       "      <th>n_second_bad_colname</th>\n",
       "    </tr>\n",
       "  </thead>\n",
       "  <tbody>\n",
       "    <tr>\n",
       "      <th>0</th>\n",
       "      <td>cat1</td>\n",
       "      <td>1.0</td>\n",
       "      <td>7</td>\n",
       "      <td>3.0</td>\n",
       "    </tr>\n",
       "    <tr>\n",
       "      <th>1</th>\n",
       "      <td>cat2</td>\n",
       "      <td>3.0</td>\n",
       "      <td>8</td>\n",
       "      <td>2.2</td>\n",
       "    </tr>\n",
       "    <tr>\n",
       "      <th>2</th>\n",
       "      <td>cat1</td>\n",
       "      <td>5.0</td>\n",
       "      <td>9</td>\n",
       "      <td>5.6</td>\n",
       "    </tr>\n",
       "  </tbody>\n",
       "</table>\n",
       "</div>"
      ],
      "text/plain": [
       "  c_first_good_colname  n_second_good_colname c_first_bad_colname  \\\n",
       "0                 cat1                    1.0                   7   \n",
       "1                 cat2                    3.0                   8   \n",
       "2                 cat1                    5.0                   9   \n",
       "\n",
       "   n_second_bad_colname  \n",
       "0                   3.0  \n",
       "1                   2.2  \n",
       "2                   5.6  "
      ]
     },
     "execution_count": 29,
     "metadata": {},
     "output_type": "execute_result"
    }
   ],
   "source": [
    "df3"
   ]
  },
  {
   "cell_type": "code",
   "execution_count": 30,
   "metadata": {},
   "outputs": [],
   "source": [
    "from numpy import dtype"
   ]
  },
  {
   "cell_type": "code",
   "execution_count": 31,
   "metadata": {},
   "outputs": [],
   "source": [
    "expected_types = [dtype('O'), dtype('float64'), dtype('O'), dtype('float64')]"
   ]
  },
  {
   "cell_type": "code",
   "execution_count": 32,
   "metadata": {},
   "outputs": [
    {
     "data": {
      "text/plain": [
       "[dtype('O'), dtype('float64'), dtype('O'), dtype('float64')]"
      ]
     },
     "execution_count": 32,
     "metadata": {},
     "output_type": "execute_result"
    }
   ],
   "source": [
    "expected_types"
   ]
  },
  {
   "cell_type": "code",
   "execution_count": 34,
   "metadata": {},
   "outputs": [
    {
     "data": {
      "text/plain": [
       "[dtype('O'), dtype('float64'), dtype('O'), dtype('float64')]"
      ]
     },
     "execution_count": 34,
     "metadata": {},
     "output_type": "execute_result"
    }
   ],
   "source": [
    "df3.dtypes.to_list()"
   ]
  },
  {
   "attachments": {},
   "cell_type": "markdown",
   "metadata": {},
   "source": [
    "## Imputation"
   ]
  },
  {
   "cell_type": "code",
   "execution_count": 26,
   "metadata": {},
   "outputs": [],
   "source": [
    "import pandas as pd\n",
    "import numpy as np"
   ]
  },
  {
   "cell_type": "code",
   "execution_count": 27,
   "metadata": {},
   "outputs": [],
   "source": [
    "imputation_sample = pd.DataFrame(\n",
    "    {\n",
    "        \"i_id_col\": [1, 2, 3, 4, 5],\n",
    "        \"n_num_col_complete\": [4, 2, 6, 1, 0],\n",
    "        \"n_num_col_missing_not_listed\": [4.0, np.nan, 2.1, 3.2, np.nan],\n",
    "        \"n_num_col_missing_for_mean\": [2, np.nan, 5, np.nan, 8],\n",
    "        \"n_num_col_missing_for_zero\": [np.nan, 9.3, -1.2, np.nan, np.nan],\n",
    "        \"c_cat_col_for_mostfreq\": [\"cat1\", np.nan, \"cat2\", \"cat1\", \"cat1\"],\n",
    "        \"c_cat_col_for_unknown\": [\"cat1\", \"cat2\", np.nan, \"cat3\", \"cat2\"],\n",
    "    }\n",
    ")"
   ]
  },
  {
   "cell_type": "code",
   "execution_count": 28,
   "metadata": {},
   "outputs": [
    {
     "data": {
      "text/html": [
       "<div>\n",
       "<style scoped>\n",
       "    .dataframe tbody tr th:only-of-type {\n",
       "        vertical-align: middle;\n",
       "    }\n",
       "\n",
       "    .dataframe tbody tr th {\n",
       "        vertical-align: top;\n",
       "    }\n",
       "\n",
       "    .dataframe thead th {\n",
       "        text-align: right;\n",
       "    }\n",
       "</style>\n",
       "<table border=\"1\" class=\"dataframe\">\n",
       "  <thead>\n",
       "    <tr style=\"text-align: right;\">\n",
       "      <th></th>\n",
       "      <th>i_id_col</th>\n",
       "      <th>n_num_col_complete</th>\n",
       "      <th>n_num_col_missing_not_listed</th>\n",
       "      <th>n_num_col_missing_for_mean</th>\n",
       "      <th>n_num_col_missing_for_zero</th>\n",
       "      <th>c_cat_col_for_mostfreq</th>\n",
       "      <th>c_cat_col_for_unknown</th>\n",
       "    </tr>\n",
       "  </thead>\n",
       "  <tbody>\n",
       "    <tr>\n",
       "      <th>0</th>\n",
       "      <td>1</td>\n",
       "      <td>4</td>\n",
       "      <td>4.0</td>\n",
       "      <td>2.0</td>\n",
       "      <td>NaN</td>\n",
       "      <td>cat1</td>\n",
       "      <td>cat1</td>\n",
       "    </tr>\n",
       "    <tr>\n",
       "      <th>1</th>\n",
       "      <td>2</td>\n",
       "      <td>2</td>\n",
       "      <td>NaN</td>\n",
       "      <td>NaN</td>\n",
       "      <td>9.3</td>\n",
       "      <td>NaN</td>\n",
       "      <td>cat2</td>\n",
       "    </tr>\n",
       "    <tr>\n",
       "      <th>2</th>\n",
       "      <td>3</td>\n",
       "      <td>6</td>\n",
       "      <td>2.1</td>\n",
       "      <td>5.0</td>\n",
       "      <td>-1.2</td>\n",
       "      <td>cat2</td>\n",
       "      <td>NaN</td>\n",
       "    </tr>\n",
       "    <tr>\n",
       "      <th>3</th>\n",
       "      <td>4</td>\n",
       "      <td>1</td>\n",
       "      <td>3.2</td>\n",
       "      <td>NaN</td>\n",
       "      <td>NaN</td>\n",
       "      <td>cat1</td>\n",
       "      <td>cat3</td>\n",
       "    </tr>\n",
       "    <tr>\n",
       "      <th>4</th>\n",
       "      <td>5</td>\n",
       "      <td>0</td>\n",
       "      <td>NaN</td>\n",
       "      <td>8.0</td>\n",
       "      <td>NaN</td>\n",
       "      <td>cat1</td>\n",
       "      <td>cat2</td>\n",
       "    </tr>\n",
       "  </tbody>\n",
       "</table>\n",
       "</div>"
      ],
      "text/plain": [
       "   i_id_col  n_num_col_complete  n_num_col_missing_not_listed  \\\n",
       "0         1                   4                           4.0   \n",
       "1         2                   2                           NaN   \n",
       "2         3                   6                           2.1   \n",
       "3         4                   1                           3.2   \n",
       "4         5                   0                           NaN   \n",
       "\n",
       "   n_num_col_missing_for_mean  n_num_col_missing_for_zero  \\\n",
       "0                         2.0                         NaN   \n",
       "1                         NaN                         9.3   \n",
       "2                         5.0                        -1.2   \n",
       "3                         NaN                         NaN   \n",
       "4                         8.0                         NaN   \n",
       "\n",
       "  c_cat_col_for_mostfreq c_cat_col_for_unknown  \n",
       "0                   cat1                  cat1  \n",
       "1                    NaN                  cat2  \n",
       "2                   cat2                   NaN  \n",
       "3                   cat1                  cat3  \n",
       "4                   cat1                  cat2  "
      ]
     },
     "execution_count": 28,
     "metadata": {},
     "output_type": "execute_result"
    }
   ],
   "source": [
    "imputation_sample"
   ]
  },
  {
   "cell_type": "code",
   "execution_count": 29,
   "metadata": {},
   "outputs": [
    {
     "data": {
      "text/plain": [
       "nan"
      ]
     },
     "execution_count": 29,
     "metadata": {},
     "output_type": "execute_result"
    }
   ],
   "source": [
    "imputation_sample.iloc[1, 3]"
   ]
  },
  {
   "cell_type": "code",
   "execution_count": 30,
   "metadata": {},
   "outputs": [
    {
     "data": {
      "text/plain": [
       "nan"
      ]
     },
     "execution_count": 30,
     "metadata": {},
     "output_type": "execute_result"
    }
   ],
   "source": [
    "imputation_sample.iloc[0, 4]"
   ]
  },
  {
   "cell_type": "code",
   "execution_count": 31,
   "metadata": {},
   "outputs": [],
   "source": [
    "from ga4_mlops.pipelines.feature_engineering.nodes import fit_imputers, apply_imputers"
   ]
  },
  {
   "cell_type": "code",
   "execution_count": 39,
   "metadata": {},
   "outputs": [],
   "source": [
    "expected_df = pd.DataFrame(\n",
    "    {\n",
    "        \"i_id_col\": [1, 2, 3, 4, 5],\n",
    "        \"n_num_col_complete\": [4., 2., 6., 1., 0.],\n",
    "        \"n_num_col_missing_not_listed\": [4.0, np.nan, 2.1, 3.2, np.nan],\n",
    "        \"n_num_col_missing_for_mean\": [2., 5., 5., 5., 8.],\n",
    "        \"n_num_col_missing_for_zero\": [0.0, 9.3, -1.2, 0.0, 0.0],\n",
    "        \"c_cat_col_for_mostfreq\": [\"cat1\", \"cat1\", \"cat2\", \"cat1\", \"cat1\"],\n",
    "        \"c_cat_col_for_unknown\": [\"cat1\", \"cat2\", \"UNKNOWN\", \"cat3\", \"cat2\"],\n",
    "    }\n",
    ")"
   ]
  },
  {
   "cell_type": "code",
   "execution_count": 40,
   "metadata": {},
   "outputs": [
    {
     "data": {
      "text/html": [
       "<div>\n",
       "<style scoped>\n",
       "    .dataframe tbody tr th:only-of-type {\n",
       "        vertical-align: middle;\n",
       "    }\n",
       "\n",
       "    .dataframe tbody tr th {\n",
       "        vertical-align: top;\n",
       "    }\n",
       "\n",
       "    .dataframe thead th {\n",
       "        text-align: right;\n",
       "    }\n",
       "</style>\n",
       "<table border=\"1\" class=\"dataframe\">\n",
       "  <thead>\n",
       "    <tr style=\"text-align: right;\">\n",
       "      <th></th>\n",
       "      <th>i_id_col</th>\n",
       "      <th>n_num_col_complete</th>\n",
       "      <th>n_num_col_missing_not_listed</th>\n",
       "      <th>n_num_col_missing_for_mean</th>\n",
       "      <th>n_num_col_missing_for_zero</th>\n",
       "      <th>c_cat_col_for_mostfreq</th>\n",
       "      <th>c_cat_col_for_unknown</th>\n",
       "    </tr>\n",
       "  </thead>\n",
       "  <tbody>\n",
       "    <tr>\n",
       "      <th>0</th>\n",
       "      <td>1</td>\n",
       "      <td>4.0</td>\n",
       "      <td>4.0</td>\n",
       "      <td>2.0</td>\n",
       "      <td>0.0</td>\n",
       "      <td>cat1</td>\n",
       "      <td>cat1</td>\n",
       "    </tr>\n",
       "    <tr>\n",
       "      <th>1</th>\n",
       "      <td>2</td>\n",
       "      <td>2.0</td>\n",
       "      <td>NaN</td>\n",
       "      <td>5.0</td>\n",
       "      <td>9.3</td>\n",
       "      <td>cat1</td>\n",
       "      <td>cat2</td>\n",
       "    </tr>\n",
       "    <tr>\n",
       "      <th>2</th>\n",
       "      <td>3</td>\n",
       "      <td>6.0</td>\n",
       "      <td>2.1</td>\n",
       "      <td>5.0</td>\n",
       "      <td>-1.2</td>\n",
       "      <td>cat2</td>\n",
       "      <td>UNKNOWN</td>\n",
       "    </tr>\n",
       "    <tr>\n",
       "      <th>3</th>\n",
       "      <td>4</td>\n",
       "      <td>1.0</td>\n",
       "      <td>3.2</td>\n",
       "      <td>5.0</td>\n",
       "      <td>0.0</td>\n",
       "      <td>cat1</td>\n",
       "      <td>cat3</td>\n",
       "    </tr>\n",
       "    <tr>\n",
       "      <th>4</th>\n",
       "      <td>5</td>\n",
       "      <td>0.0</td>\n",
       "      <td>NaN</td>\n",
       "      <td>8.0</td>\n",
       "      <td>0.0</td>\n",
       "      <td>cat1</td>\n",
       "      <td>cat2</td>\n",
       "    </tr>\n",
       "  </tbody>\n",
       "</table>\n",
       "</div>"
      ],
      "text/plain": [
       "   i_id_col  n_num_col_complete  n_num_col_missing_not_listed  \\\n",
       "0         1                 4.0                           4.0   \n",
       "1         2                 2.0                           NaN   \n",
       "2         3                 6.0                           2.1   \n",
       "3         4                 1.0                           3.2   \n",
       "4         5                 0.0                           NaN   \n",
       "\n",
       "   n_num_col_missing_for_mean  n_num_col_missing_for_zero  \\\n",
       "0                         2.0                         0.0   \n",
       "1                         5.0                         9.3   \n",
       "2                         5.0                        -1.2   \n",
       "3                         5.0                         0.0   \n",
       "4                         8.0                         0.0   \n",
       "\n",
       "  c_cat_col_for_mostfreq c_cat_col_for_unknown  \n",
       "0                   cat1                  cat1  \n",
       "1                   cat1                  cat2  \n",
       "2                   cat2               UNKNOWN  \n",
       "3                   cat1                  cat3  \n",
       "4                   cat1                  cat2  "
      ]
     },
     "execution_count": 40,
     "metadata": {},
     "output_type": "execute_result"
    }
   ],
   "source": [
    "expected_df"
   ]
  },
  {
   "cell_type": "code",
   "execution_count": 41,
   "metadata": {},
   "outputs": [],
   "source": [
    "imputation_strategies = {\n",
    "  \"mean\": [\"n_num_col_missing_for_mean\"],   # for numerical: replace NULLs with column mean\n",
    "  \"zero\": [\"n_num_col_missing_for_zero\"],    # for numerical: replace NULLs with zeros\n",
    "  \"mostfreq\": [\"c_cat_col_for_mostfreq\"],    # for categorical: replace NULLs with most frequent value\n",
    "  \"unknown\": [\"c_cat_col_for_unknown\"],    # for categorical: replace NULLs with UNKNOWN token\n",
    "}"
   ]
  },
  {
   "cell_type": "code",
   "execution_count": 42,
   "metadata": {},
   "outputs": [],
   "source": [
    "imputers = fit_imputers(imputation_sample, imputation_strategies)"
   ]
  },
  {
   "cell_type": "code",
   "execution_count": 43,
   "metadata": {},
   "outputs": [
    {
     "data": {
      "text/plain": [
       "{'mean': SimpleImputer(),\n",
       " 'zero': SimpleImputer(fill_value=0.0, strategy='constant'),\n",
       " 'mostfreq': SimpleImputer(strategy='most_frequent'),\n",
       " 'unknown': SimpleImputer(fill_value='UNKNOWN', strategy='constant')}"
      ]
     },
     "execution_count": 43,
     "metadata": {},
     "output_type": "execute_result"
    }
   ],
   "source": [
    "imputers"
   ]
  },
  {
   "cell_type": "code",
   "execution_count": 44,
   "metadata": {},
   "outputs": [],
   "source": [
    "df = apply_imputers(imputation_sample, imputers)"
   ]
  },
  {
   "cell_type": "code",
   "execution_count": 45,
   "metadata": {},
   "outputs": [
    {
     "data": {
      "text/html": [
       "<div>\n",
       "<style scoped>\n",
       "    .dataframe tbody tr th:only-of-type {\n",
       "        vertical-align: middle;\n",
       "    }\n",
       "\n",
       "    .dataframe tbody tr th {\n",
       "        vertical-align: top;\n",
       "    }\n",
       "\n",
       "    .dataframe thead th {\n",
       "        text-align: right;\n",
       "    }\n",
       "</style>\n",
       "<table border=\"1\" class=\"dataframe\">\n",
       "  <thead>\n",
       "    <tr style=\"text-align: right;\">\n",
       "      <th></th>\n",
       "      <th>i_id_col</th>\n",
       "      <th>n_num_col_complete</th>\n",
       "      <th>n_num_col_missing_not_listed</th>\n",
       "      <th>n_num_col_missing_for_mean</th>\n",
       "      <th>n_num_col_missing_for_zero</th>\n",
       "      <th>c_cat_col_for_mostfreq</th>\n",
       "      <th>c_cat_col_for_unknown</th>\n",
       "    </tr>\n",
       "  </thead>\n",
       "  <tbody>\n",
       "    <tr>\n",
       "      <th>0</th>\n",
       "      <td>1</td>\n",
       "      <td>4.0</td>\n",
       "      <td>4.0</td>\n",
       "      <td>2.0</td>\n",
       "      <td>0.0</td>\n",
       "      <td>cat1</td>\n",
       "      <td>cat1</td>\n",
       "    </tr>\n",
       "    <tr>\n",
       "      <th>1</th>\n",
       "      <td>2</td>\n",
       "      <td>2.0</td>\n",
       "      <td>NaN</td>\n",
       "      <td>5.0</td>\n",
       "      <td>9.3</td>\n",
       "      <td>cat1</td>\n",
       "      <td>cat2</td>\n",
       "    </tr>\n",
       "    <tr>\n",
       "      <th>2</th>\n",
       "      <td>3</td>\n",
       "      <td>6.0</td>\n",
       "      <td>2.1</td>\n",
       "      <td>5.0</td>\n",
       "      <td>-1.2</td>\n",
       "      <td>cat2</td>\n",
       "      <td>UNKNOWN</td>\n",
       "    </tr>\n",
       "    <tr>\n",
       "      <th>3</th>\n",
       "      <td>4</td>\n",
       "      <td>1.0</td>\n",
       "      <td>3.2</td>\n",
       "      <td>5.0</td>\n",
       "      <td>0.0</td>\n",
       "      <td>cat1</td>\n",
       "      <td>cat3</td>\n",
       "    </tr>\n",
       "    <tr>\n",
       "      <th>4</th>\n",
       "      <td>5</td>\n",
       "      <td>0.0</td>\n",
       "      <td>NaN</td>\n",
       "      <td>8.0</td>\n",
       "      <td>0.0</td>\n",
       "      <td>cat1</td>\n",
       "      <td>cat2</td>\n",
       "    </tr>\n",
       "  </tbody>\n",
       "</table>\n",
       "</div>"
      ],
      "text/plain": [
       "   i_id_col  n_num_col_complete  n_num_col_missing_not_listed  \\\n",
       "0         1                 4.0                           4.0   \n",
       "1         2                 2.0                           NaN   \n",
       "2         3                 6.0                           2.1   \n",
       "3         4                 1.0                           3.2   \n",
       "4         5                 0.0                           NaN   \n",
       "\n",
       "   n_num_col_missing_for_mean  n_num_col_missing_for_zero  \\\n",
       "0                         2.0                         0.0   \n",
       "1                         5.0                         9.3   \n",
       "2                         5.0                        -1.2   \n",
       "3                         5.0                         0.0   \n",
       "4                         8.0                         0.0   \n",
       "\n",
       "  c_cat_col_for_mostfreq c_cat_col_for_unknown  \n",
       "0                   cat1                  cat1  \n",
       "1                   cat1                  cat2  \n",
       "2                   cat2               UNKNOWN  \n",
       "3                   cat1                  cat3  \n",
       "4                   cat1                  cat2  "
      ]
     },
     "execution_count": 45,
     "metadata": {},
     "output_type": "execute_result"
    }
   ],
   "source": [
    "df"
   ]
  },
  {
   "cell_type": "code",
   "execution_count": 47,
   "metadata": {},
   "outputs": [
    {
     "data": {
      "text/plain": [
       "i_id_col                          int64\n",
       "n_num_col_complete              float64\n",
       "n_num_col_missing_not_listed    float64\n",
       "n_num_col_missing_for_mean      float64\n",
       "n_num_col_missing_for_zero      float64\n",
       "c_cat_col_for_mostfreq           object\n",
       "c_cat_col_for_unknown            object\n",
       "dtype: object"
      ]
     },
     "execution_count": 47,
     "metadata": {},
     "output_type": "execute_result"
    }
   ],
   "source": [
    "df.dtypes"
   ]
  },
  {
   "cell_type": "code",
   "execution_count": 48,
   "metadata": {},
   "outputs": [
    {
     "data": {
      "text/plain": [
       "i_id_col                          int64\n",
       "n_num_col_complete              float64\n",
       "n_num_col_missing_not_listed    float64\n",
       "n_num_col_missing_for_mean      float64\n",
       "n_num_col_missing_for_zero      float64\n",
       "c_cat_col_for_mostfreq           object\n",
       "c_cat_col_for_unknown            object\n",
       "dtype: object"
      ]
     },
     "execution_count": 48,
     "metadata": {},
     "output_type": "execute_result"
    }
   ],
   "source": [
    "expected_df.dtypes"
   ]
  },
  {
   "cell_type": "code",
   "execution_count": 49,
   "metadata": {},
   "outputs": [
    {
     "data": {
      "text/plain": [
       "True"
      ]
     },
     "execution_count": 49,
     "metadata": {},
     "output_type": "execute_result"
    }
   ],
   "source": [
    "df.equals(expected_df)"
   ]
  },
  {
   "attachments": {},
   "cell_type": "markdown",
   "metadata": {},
   "source": [
    "## Encoding"
   ]
  },
  {
   "cell_type": "code",
   "execution_count": 1,
   "metadata": {},
   "outputs": [],
   "source": [
    "import pandas as pd"
   ]
  },
  {
   "cell_type": "code",
   "execution_count": 2,
   "metadata": {},
   "outputs": [],
   "source": [
    "encoding_sample = pd.DataFrame(\n",
    "    {\n",
    "        \"i_id_col\": [1, 2, 3, 4, 5],\n",
    "        \"c_cat_col_for_binary\": [\"0\", \"0\", \"1\", \"0\", \"1\"],\n",
    "        \"c_cat_col_for_onehot\": [\"cat1\", \"cat2\", \"cat3\", \"cat3\", \"cat2\"],\n",
    "        \"c_cat_col_for_ordinal\": [\"cat3\", \"cat2\", \"cat1\", \"cat3\", \"cat2\"],\n",
    "    }\n",
    ")"
   ]
  },
  {
   "cell_type": "code",
   "execution_count": 6,
   "metadata": {},
   "outputs": [
    {
     "data": {
      "text/html": [
       "<div>\n",
       "<style scoped>\n",
       "    .dataframe tbody tr th:only-of-type {\n",
       "        vertical-align: middle;\n",
       "    }\n",
       "\n",
       "    .dataframe tbody tr th {\n",
       "        vertical-align: top;\n",
       "    }\n",
       "\n",
       "    .dataframe thead th {\n",
       "        text-align: right;\n",
       "    }\n",
       "</style>\n",
       "<table border=\"1\" class=\"dataframe\">\n",
       "  <thead>\n",
       "    <tr style=\"text-align: right;\">\n",
       "      <th></th>\n",
       "      <th>i_id_col</th>\n",
       "      <th>c_cat_col_for_binary</th>\n",
       "      <th>c_cat_col_for_onehot</th>\n",
       "      <th>c_cat_col_for_ordinal</th>\n",
       "    </tr>\n",
       "  </thead>\n",
       "  <tbody>\n",
       "    <tr>\n",
       "      <th>0</th>\n",
       "      <td>1</td>\n",
       "      <td>0</td>\n",
       "      <td>cat1</td>\n",
       "      <td>cat3</td>\n",
       "    </tr>\n",
       "    <tr>\n",
       "      <th>1</th>\n",
       "      <td>2</td>\n",
       "      <td>0</td>\n",
       "      <td>cat2</td>\n",
       "      <td>cat2</td>\n",
       "    </tr>\n",
       "    <tr>\n",
       "      <th>2</th>\n",
       "      <td>3</td>\n",
       "      <td>1</td>\n",
       "      <td>cat3</td>\n",
       "      <td>cat1</td>\n",
       "    </tr>\n",
       "    <tr>\n",
       "      <th>3</th>\n",
       "      <td>4</td>\n",
       "      <td>0</td>\n",
       "      <td>cat3</td>\n",
       "      <td>cat3</td>\n",
       "    </tr>\n",
       "    <tr>\n",
       "      <th>4</th>\n",
       "      <td>5</td>\n",
       "      <td>1</td>\n",
       "      <td>cat2</td>\n",
       "      <td>cat2</td>\n",
       "    </tr>\n",
       "  </tbody>\n",
       "</table>\n",
       "</div>"
      ],
      "text/plain": [
       "   i_id_col c_cat_col_for_binary c_cat_col_for_onehot c_cat_col_for_ordinal\n",
       "0         1                    0                 cat1                  cat3\n",
       "1         2                    0                 cat2                  cat2\n",
       "2         3                    1                 cat3                  cat1\n",
       "3         4                    0                 cat3                  cat3\n",
       "4         5                    1                 cat2                  cat2"
      ]
     },
     "execution_count": 6,
     "metadata": {},
     "output_type": "execute_result"
    }
   ],
   "source": [
    "encoding_sample"
   ]
  },
  {
   "cell_type": "code",
   "execution_count": 7,
   "metadata": {},
   "outputs": [],
   "source": [
    "encoder_types = {\n",
    "    \"binary\": [\"c_cat_col_for_binary\"],   # for binary variables\n",
    "    \"onehot\": [\"c_cat_col_for_onehot\"],   # one-hot encoding\n",
    "    \"ordinal\": [\"c_cat_col_for_ordinal\"]   # integer encoding (ordinal, but order does not matter)\n",
    "}"
   ]
  },
  {
   "cell_type": "code",
   "execution_count": 8,
   "metadata": {},
   "outputs": [],
   "source": [
    "from ga4_mlops.pipelines.feature_engineering.nodes import fit_encoders, apply_encoders"
   ]
  },
  {
   "cell_type": "code",
   "execution_count": 9,
   "metadata": {},
   "outputs": [
    {
     "name": "stderr",
     "output_type": "stream",
     "text": [
      "/Users/pchaberski/projects/gid-ml-framework/ga4-mlops/.venv/lib/python3.8/site-packages/category_encoders/one_hot.py:145: FutureWarning: iteritems is deprecated and will be removed in a future version. Use .items instead.\n",
      "  for cat_name, class_ in values.iteritems():\n"
     ]
    }
   ],
   "source": [
    "encoders = fit_encoders(encoding_sample, encoder_types)"
   ]
  },
  {
   "cell_type": "code",
   "execution_count": 10,
   "metadata": {},
   "outputs": [],
   "source": [
    "df = apply_encoders(encoding_sample, encoders)"
   ]
  },
  {
   "cell_type": "code",
   "execution_count": 11,
   "metadata": {},
   "outputs": [
    {
     "data": {
      "text/html": [
       "<div>\n",
       "<style scoped>\n",
       "    .dataframe tbody tr th:only-of-type {\n",
       "        vertical-align: middle;\n",
       "    }\n",
       "\n",
       "    .dataframe tbody tr th {\n",
       "        vertical-align: top;\n",
       "    }\n",
       "\n",
       "    .dataframe thead th {\n",
       "        text-align: right;\n",
       "    }\n",
       "</style>\n",
       "<table border=\"1\" class=\"dataframe\">\n",
       "  <thead>\n",
       "    <tr style=\"text-align: right;\">\n",
       "      <th></th>\n",
       "      <th>i_id_col</th>\n",
       "      <th>c_cat_col_for_binary_0</th>\n",
       "      <th>c_cat_col_for_binary_1</th>\n",
       "      <th>c_cat_col_for_onehot_cat1</th>\n",
       "      <th>c_cat_col_for_onehot_cat2</th>\n",
       "      <th>c_cat_col_for_onehot_cat3</th>\n",
       "      <th>c_cat_col_for_ordinal</th>\n",
       "    </tr>\n",
       "  </thead>\n",
       "  <tbody>\n",
       "    <tr>\n",
       "      <th>0</th>\n",
       "      <td>1</td>\n",
       "      <td>0</td>\n",
       "      <td>1</td>\n",
       "      <td>1</td>\n",
       "      <td>0</td>\n",
       "      <td>0</td>\n",
       "      <td>1</td>\n",
       "    </tr>\n",
       "    <tr>\n",
       "      <th>1</th>\n",
       "      <td>2</td>\n",
       "      <td>0</td>\n",
       "      <td>1</td>\n",
       "      <td>0</td>\n",
       "      <td>1</td>\n",
       "      <td>0</td>\n",
       "      <td>2</td>\n",
       "    </tr>\n",
       "    <tr>\n",
       "      <th>2</th>\n",
       "      <td>3</td>\n",
       "      <td>1</td>\n",
       "      <td>0</td>\n",
       "      <td>0</td>\n",
       "      <td>0</td>\n",
       "      <td>1</td>\n",
       "      <td>3</td>\n",
       "    </tr>\n",
       "    <tr>\n",
       "      <th>3</th>\n",
       "      <td>4</td>\n",
       "      <td>0</td>\n",
       "      <td>1</td>\n",
       "      <td>0</td>\n",
       "      <td>0</td>\n",
       "      <td>1</td>\n",
       "      <td>1</td>\n",
       "    </tr>\n",
       "    <tr>\n",
       "      <th>4</th>\n",
       "      <td>5</td>\n",
       "      <td>1</td>\n",
       "      <td>0</td>\n",
       "      <td>0</td>\n",
       "      <td>1</td>\n",
       "      <td>0</td>\n",
       "      <td>2</td>\n",
       "    </tr>\n",
       "  </tbody>\n",
       "</table>\n",
       "</div>"
      ],
      "text/plain": [
       "   i_id_col  c_cat_col_for_binary_0  c_cat_col_for_binary_1  \\\n",
       "0         1                       0                       1   \n",
       "1         2                       0                       1   \n",
       "2         3                       1                       0   \n",
       "3         4                       0                       1   \n",
       "4         5                       1                       0   \n",
       "\n",
       "   c_cat_col_for_onehot_cat1  c_cat_col_for_onehot_cat2  \\\n",
       "0                          1                          0   \n",
       "1                          0                          1   \n",
       "2                          0                          0   \n",
       "3                          0                          0   \n",
       "4                          0                          1   \n",
       "\n",
       "   c_cat_col_for_onehot_cat3  c_cat_col_for_ordinal  \n",
       "0                          0                      1  \n",
       "1                          0                      2  \n",
       "2                          1                      3  \n",
       "3                          1                      1  \n",
       "4                          0                      2  "
      ]
     },
     "execution_count": 11,
     "metadata": {},
     "output_type": "execute_result"
    }
   ],
   "source": [
    "df"
   ]
  },
  {
   "cell_type": "code",
   "execution_count": 13,
   "metadata": {},
   "outputs": [
    {
     "data": {
      "text/plain": [
       "{'i_id_col': [1, 2, 3, 4, 5],\n",
       " 'c_cat_col_for_binary_0': [0, 0, 1, 0, 1],\n",
       " 'c_cat_col_for_binary_1': [1, 1, 0, 1, 0],\n",
       " 'c_cat_col_for_onehot_cat1': [1, 0, 0, 0, 0],\n",
       " 'c_cat_col_for_onehot_cat2': [0, 1, 0, 0, 1],\n",
       " 'c_cat_col_for_onehot_cat3': [0, 0, 1, 1, 0],\n",
       " 'c_cat_col_for_ordinal': [1, 2, 3, 1, 2]}"
      ]
     },
     "execution_count": 13,
     "metadata": {},
     "output_type": "execute_result"
    }
   ],
   "source": [
    "df.to_dict(orient=\"list\")"
   ]
  },
  {
   "cell_type": "code",
   "execution_count": 14,
   "metadata": {},
   "outputs": [],
   "source": [
    "expected_df = pd.DataFrame(\n",
    "    {\n",
    "        \"i_id_col\": [1, 2, 3, 4, 5],\n",
    "        \"c_cat_col_for_binary_0\": [0, 0, 1, 0, 1],\n",
    "        \"c_cat_col_for_binary_1\": [1, 1, 0, 1, 0],\n",
    "        \"c_cat_col_for_onehot_cat1\": [1, 0, 0, 0, 0],\n",
    "        \"c_cat_col_for_onehot_cat2\": [0, 1, 0, 0, 1],\n",
    "        \"c_cat_col_for_onehot_cat3\": [0, 0, 1, 1, 0],\n",
    "        \"c_cat_col_for_ordinal\": [1, 2, 3, 1, 2]\n",
    "    }\n",
    ")"
   ]
  },
  {
   "cell_type": "code",
   "execution_count": 15,
   "metadata": {},
   "outputs": [
    {
     "data": {
      "text/plain": [
       "True"
      ]
     },
     "execution_count": 15,
     "metadata": {},
     "output_type": "execute_result"
    }
   ],
   "source": [
    "df.equals(expected_df)"
   ]
  },
  {
   "attachments": {},
   "cell_type": "markdown",
   "metadata": {},
   "source": [
    "## Exclusion"
   ]
  },
  {
   "cell_type": "code",
   "execution_count": 21,
   "metadata": {},
   "outputs": [],
   "source": [
    "import pandas as pd"
   ]
  },
  {
   "cell_type": "code",
   "execution_count": 22,
   "metadata": {},
   "outputs": [],
   "source": [
    "exclusion_sample = pd.DataFrame(\n",
    "    {\n",
    "        \"i_id_col\": [1, 2, 3, 4, 5],\n",
    "        \"n_col_to_use\": [3.2, 2.1, 9.8, 0.3, 3.1],\n",
    "        \"c_col_to_use_0\": [0, 1, 0, 0, 0],\n",
    "        \"c_col_to_use_1\": [1, 0, 1, 1, 1],\n",
    "        \"c_first_col_to_exclude\": [1, 3, 2, 1, 2],\n",
    "        \"c_second_col_to_exclude_cat1\": [1, 1, 0, 0, 0],\n",
    "        \"c_second_col_to_exclude_cat2\": [0, 0, 1, 1, 0],\n",
    "        \"c_second_col_to_exclude_cat2\": [0, 0, 0, 0, 1],\n",
    "    }\n",
    ")"
   ]
  },
  {
   "cell_type": "code",
   "execution_count": 23,
   "metadata": {},
   "outputs": [
    {
     "data": {
      "text/html": [
       "<div>\n",
       "<style scoped>\n",
       "    .dataframe tbody tr th:only-of-type {\n",
       "        vertical-align: middle;\n",
       "    }\n",
       "\n",
       "    .dataframe tbody tr th {\n",
       "        vertical-align: top;\n",
       "    }\n",
       "\n",
       "    .dataframe thead th {\n",
       "        text-align: right;\n",
       "    }\n",
       "</style>\n",
       "<table border=\"1\" class=\"dataframe\">\n",
       "  <thead>\n",
       "    <tr style=\"text-align: right;\">\n",
       "      <th></th>\n",
       "      <th>i_id_col</th>\n",
       "      <th>n_col_to_use</th>\n",
       "      <th>c_col_to_use_0</th>\n",
       "      <th>c_col_to_use_1</th>\n",
       "      <th>c_first_col_to_exclude</th>\n",
       "      <th>c_second_col_to_exclude_cat1</th>\n",
       "      <th>c_second_col_to_exclude_cat2</th>\n",
       "    </tr>\n",
       "  </thead>\n",
       "  <tbody>\n",
       "    <tr>\n",
       "      <th>0</th>\n",
       "      <td>1</td>\n",
       "      <td>3.2</td>\n",
       "      <td>0</td>\n",
       "      <td>1</td>\n",
       "      <td>1</td>\n",
       "      <td>1</td>\n",
       "      <td>0</td>\n",
       "    </tr>\n",
       "    <tr>\n",
       "      <th>1</th>\n",
       "      <td>2</td>\n",
       "      <td>2.1</td>\n",
       "      <td>1</td>\n",
       "      <td>0</td>\n",
       "      <td>3</td>\n",
       "      <td>1</td>\n",
       "      <td>0</td>\n",
       "    </tr>\n",
       "    <tr>\n",
       "      <th>2</th>\n",
       "      <td>3</td>\n",
       "      <td>9.8</td>\n",
       "      <td>0</td>\n",
       "      <td>1</td>\n",
       "      <td>2</td>\n",
       "      <td>0</td>\n",
       "      <td>0</td>\n",
       "    </tr>\n",
       "    <tr>\n",
       "      <th>3</th>\n",
       "      <td>4</td>\n",
       "      <td>0.3</td>\n",
       "      <td>0</td>\n",
       "      <td>1</td>\n",
       "      <td>1</td>\n",
       "      <td>0</td>\n",
       "      <td>0</td>\n",
       "    </tr>\n",
       "    <tr>\n",
       "      <th>4</th>\n",
       "      <td>5</td>\n",
       "      <td>3.1</td>\n",
       "      <td>0</td>\n",
       "      <td>1</td>\n",
       "      <td>2</td>\n",
       "      <td>0</td>\n",
       "      <td>1</td>\n",
       "    </tr>\n",
       "  </tbody>\n",
       "</table>\n",
       "</div>"
      ],
      "text/plain": [
       "   i_id_col  n_col_to_use  c_col_to_use_0  c_col_to_use_1  \\\n",
       "0         1           3.2               0               1   \n",
       "1         2           2.1               1               0   \n",
       "2         3           9.8               0               1   \n",
       "3         4           0.3               0               1   \n",
       "4         5           3.1               0               1   \n",
       "\n",
       "   c_first_col_to_exclude  c_second_col_to_exclude_cat1  \\\n",
       "0                       1                             1   \n",
       "1                       3                             1   \n",
       "2                       2                             0   \n",
       "3                       1                             0   \n",
       "4                       2                             0   \n",
       "\n",
       "   c_second_col_to_exclude_cat2  \n",
       "0                             0  \n",
       "1                             0  \n",
       "2                             0  \n",
       "3                             0  \n",
       "4                             1  "
      ]
     },
     "execution_count": 23,
     "metadata": {},
     "output_type": "execute_result"
    }
   ],
   "source": [
    "exclusion_sample"
   ]
  },
  {
   "cell_type": "code",
   "execution_count": 27,
   "metadata": {},
   "outputs": [],
   "source": [
    "features_to_exclude = [\"c_first_col_to_exclude\", \"c_second_col_to_exclude\"]"
   ]
  },
  {
   "cell_type": "code",
   "execution_count": 28,
   "metadata": {},
   "outputs": [],
   "source": [
    "from ga4_mlops.pipelines.feature_engineering.nodes import exclude_features"
   ]
  },
  {
   "cell_type": "code",
   "execution_count": 31,
   "metadata": {},
   "outputs": [],
   "source": [
    "df = exclude_features(exclusion_sample, features_to_exclude)"
   ]
  },
  {
   "cell_type": "code",
   "execution_count": 32,
   "metadata": {},
   "outputs": [
    {
     "data": {
      "text/html": [
       "<div>\n",
       "<style scoped>\n",
       "    .dataframe tbody tr th:only-of-type {\n",
       "        vertical-align: middle;\n",
       "    }\n",
       "\n",
       "    .dataframe tbody tr th {\n",
       "        vertical-align: top;\n",
       "    }\n",
       "\n",
       "    .dataframe thead th {\n",
       "        text-align: right;\n",
       "    }\n",
       "</style>\n",
       "<table border=\"1\" class=\"dataframe\">\n",
       "  <thead>\n",
       "    <tr style=\"text-align: right;\">\n",
       "      <th></th>\n",
       "      <th>i_id_col</th>\n",
       "      <th>n_col_to_use</th>\n",
       "      <th>c_col_to_use_0</th>\n",
       "      <th>c_col_to_use_1</th>\n",
       "    </tr>\n",
       "  </thead>\n",
       "  <tbody>\n",
       "    <tr>\n",
       "      <th>0</th>\n",
       "      <td>1</td>\n",
       "      <td>3.2</td>\n",
       "      <td>0</td>\n",
       "      <td>1</td>\n",
       "    </tr>\n",
       "    <tr>\n",
       "      <th>1</th>\n",
       "      <td>2</td>\n",
       "      <td>2.1</td>\n",
       "      <td>1</td>\n",
       "      <td>0</td>\n",
       "    </tr>\n",
       "    <tr>\n",
       "      <th>2</th>\n",
       "      <td>3</td>\n",
       "      <td>9.8</td>\n",
       "      <td>0</td>\n",
       "      <td>1</td>\n",
       "    </tr>\n",
       "    <tr>\n",
       "      <th>3</th>\n",
       "      <td>4</td>\n",
       "      <td>0.3</td>\n",
       "      <td>0</td>\n",
       "      <td>1</td>\n",
       "    </tr>\n",
       "    <tr>\n",
       "      <th>4</th>\n",
       "      <td>5</td>\n",
       "      <td>3.1</td>\n",
       "      <td>0</td>\n",
       "      <td>1</td>\n",
       "    </tr>\n",
       "  </tbody>\n",
       "</table>\n",
       "</div>"
      ],
      "text/plain": [
       "   i_id_col  n_col_to_use  c_col_to_use_0  c_col_to_use_1\n",
       "0         1           3.2               0               1\n",
       "1         2           2.1               1               0\n",
       "2         3           9.8               0               1\n",
       "3         4           0.3               0               1\n",
       "4         5           3.1               0               1"
      ]
     },
     "execution_count": 32,
     "metadata": {},
     "output_type": "execute_result"
    }
   ],
   "source": [
    "df"
   ]
  },
  {
   "cell_type": "code",
   "execution_count": 33,
   "metadata": {},
   "outputs": [],
   "source": [
    "expected_df = pd.DataFrame(\n",
    "    {\n",
    "        \"i_id_col\": [1, 2, 3, 4, 5],\n",
    "        \"n_col_to_use\": [3.2, 2.1, 9.8, 0.3, 3.1],\n",
    "        \"c_col_to_use_0\": [0, 1, 0, 0, 0],\n",
    "        \"c_col_to_use_1\": [1, 0, 1, 1, 1],\n",
    "    }\n",
    ")"
   ]
  },
  {
   "cell_type": "code",
   "execution_count": 34,
   "metadata": {},
   "outputs": [
    {
     "data": {
      "text/html": [
       "<div>\n",
       "<style scoped>\n",
       "    .dataframe tbody tr th:only-of-type {\n",
       "        vertical-align: middle;\n",
       "    }\n",
       "\n",
       "    .dataframe tbody tr th {\n",
       "        vertical-align: top;\n",
       "    }\n",
       "\n",
       "    .dataframe thead th {\n",
       "        text-align: right;\n",
       "    }\n",
       "</style>\n",
       "<table border=\"1\" class=\"dataframe\">\n",
       "  <thead>\n",
       "    <tr style=\"text-align: right;\">\n",
       "      <th></th>\n",
       "      <th>i_id_col</th>\n",
       "      <th>n_col_to_use</th>\n",
       "      <th>c_col_to_use_0</th>\n",
       "      <th>c_col_to_use_1</th>\n",
       "    </tr>\n",
       "  </thead>\n",
       "  <tbody>\n",
       "    <tr>\n",
       "      <th>0</th>\n",
       "      <td>1</td>\n",
       "      <td>3.2</td>\n",
       "      <td>0</td>\n",
       "      <td>1</td>\n",
       "    </tr>\n",
       "    <tr>\n",
       "      <th>1</th>\n",
       "      <td>2</td>\n",
       "      <td>2.1</td>\n",
       "      <td>1</td>\n",
       "      <td>0</td>\n",
       "    </tr>\n",
       "    <tr>\n",
       "      <th>2</th>\n",
       "      <td>3</td>\n",
       "      <td>9.8</td>\n",
       "      <td>0</td>\n",
       "      <td>1</td>\n",
       "    </tr>\n",
       "    <tr>\n",
       "      <th>3</th>\n",
       "      <td>4</td>\n",
       "      <td>0.3</td>\n",
       "      <td>0</td>\n",
       "      <td>1</td>\n",
       "    </tr>\n",
       "    <tr>\n",
       "      <th>4</th>\n",
       "      <td>5</td>\n",
       "      <td>3.1</td>\n",
       "      <td>0</td>\n",
       "      <td>1</td>\n",
       "    </tr>\n",
       "  </tbody>\n",
       "</table>\n",
       "</div>"
      ],
      "text/plain": [
       "   i_id_col  n_col_to_use  c_col_to_use_0  c_col_to_use_1\n",
       "0         1           3.2               0               1\n",
       "1         2           2.1               1               0\n",
       "2         3           9.8               0               1\n",
       "3         4           0.3               0               1\n",
       "4         5           3.1               0               1"
      ]
     },
     "execution_count": 34,
     "metadata": {},
     "output_type": "execute_result"
    }
   ],
   "source": [
    "expected_df"
   ]
  },
  {
   "cell_type": "code",
   "execution_count": 35,
   "metadata": {},
   "outputs": [
    {
     "data": {
      "text/plain": [
       "True"
      ]
     },
     "execution_count": 35,
     "metadata": {},
     "output_type": "execute_result"
    }
   ],
   "source": [
    "df.equals(expected_df)"
   ]
  },
  {
   "attachments": {},
   "cell_type": "markdown",
   "metadata": {},
   "source": [
    "## Prediction"
   ]
  },
  {
   "cell_type": "code",
   "execution_count": 36,
   "metadata": {},
   "outputs": [],
   "source": [
    "import numpy as np\n",
    "import pandas as pd"
   ]
  },
  {
   "cell_type": "code",
   "execution_count": 40,
   "metadata": {},
   "outputs": [],
   "source": [
    "abt_sample = pd.DataFrame(\n",
    "    {\n",
    "        \"i_id\": [1, 2, 3, 4, 5],\n",
    "        \"i_info_col\": [\"2022\", \"2021\", \"2022\", \"2022\", \"2021\"],\n",
    "        \"n_num_col\": [1.3, 5.6, 2.3, 7.6, 9.2],\n",
    "        \"c_cat_col\": [1, 3, 3, 1, 2],\n",
    "        \"y_target_col\": [1, 0, 0, 1, 0],\n",
    "    }\n",
    ")\n",
    "raw_scores_sample = np.array([0.99, 0.02, 0.01, 0.98, 0.01])\n",
    "calibrated_scores_sample = np.array([0.88, 0.42, 0.23, 0.84, 0.22])"
   ]
  },
  {
   "cell_type": "code",
   "execution_count": 41,
   "metadata": {},
   "outputs": [
    {
     "data": {
      "text/html": [
       "<div>\n",
       "<style scoped>\n",
       "    .dataframe tbody tr th:only-of-type {\n",
       "        vertical-align: middle;\n",
       "    }\n",
       "\n",
       "    .dataframe tbody tr th {\n",
       "        vertical-align: top;\n",
       "    }\n",
       "\n",
       "    .dataframe thead th {\n",
       "        text-align: right;\n",
       "    }\n",
       "</style>\n",
       "<table border=\"1\" class=\"dataframe\">\n",
       "  <thead>\n",
       "    <tr style=\"text-align: right;\">\n",
       "      <th></th>\n",
       "      <th>i_id</th>\n",
       "      <th>i_info_col</th>\n",
       "      <th>n_num_col</th>\n",
       "      <th>c_cat_col</th>\n",
       "      <th>y_target_col</th>\n",
       "    </tr>\n",
       "  </thead>\n",
       "  <tbody>\n",
       "    <tr>\n",
       "      <th>0</th>\n",
       "      <td>1</td>\n",
       "      <td>2022</td>\n",
       "      <td>1.3</td>\n",
       "      <td>1</td>\n",
       "      <td>1</td>\n",
       "    </tr>\n",
       "    <tr>\n",
       "      <th>1</th>\n",
       "      <td>2</td>\n",
       "      <td>2021</td>\n",
       "      <td>5.6</td>\n",
       "      <td>3</td>\n",
       "      <td>0</td>\n",
       "    </tr>\n",
       "    <tr>\n",
       "      <th>2</th>\n",
       "      <td>3</td>\n",
       "      <td>2022</td>\n",
       "      <td>2.3</td>\n",
       "      <td>3</td>\n",
       "      <td>0</td>\n",
       "    </tr>\n",
       "    <tr>\n",
       "      <th>3</th>\n",
       "      <td>4</td>\n",
       "      <td>2022</td>\n",
       "      <td>7.6</td>\n",
       "      <td>1</td>\n",
       "      <td>1</td>\n",
       "    </tr>\n",
       "    <tr>\n",
       "      <th>4</th>\n",
       "      <td>5</td>\n",
       "      <td>2021</td>\n",
       "      <td>9.2</td>\n",
       "      <td>2</td>\n",
       "      <td>0</td>\n",
       "    </tr>\n",
       "  </tbody>\n",
       "</table>\n",
       "</div>"
      ],
      "text/plain": [
       "   i_id i_info_col  n_num_col  c_cat_col  y_target_col\n",
       "0     1       2022        1.3          1             1\n",
       "1     2       2021        5.6          3             0\n",
       "2     3       2022        2.3          3             0\n",
       "3     4       2022        7.6          1             1\n",
       "4     5       2021        9.2          2             0"
      ]
     },
     "execution_count": 41,
     "metadata": {},
     "output_type": "execute_result"
    }
   ],
   "source": [
    "abt_sample"
   ]
  },
  {
   "cell_type": "code",
   "execution_count": 42,
   "metadata": {},
   "outputs": [
    {
     "data": {
      "text/plain": [
       "(array([0.99, 0.02, 0.01, 0.98, 0.01]), array([0.88, 0.42, 0.23, 0.84, 0.22]))"
      ]
     },
     "execution_count": 42,
     "metadata": {},
     "output_type": "execute_result"
    }
   ],
   "source": [
    "raw_scores_sample, calibrated_scores_sample"
   ]
  },
  {
   "cell_type": "code",
   "execution_count": 43,
   "metadata": {},
   "outputs": [],
   "source": [
    "from ga4_mlops.pipelines.prediction.nodes import create_predictions"
   ]
  },
  {
   "cell_type": "code",
   "execution_count": 44,
   "metadata": {},
   "outputs": [],
   "source": [
    "df = create_predictions(\n",
    "    abt_sample,\n",
    "    raw_scores_sample,\n",
    "    calibrated_scores_sample,\n",
    "    threshold=0.3,\n",
    "    classify_on_calibrated=False\n",
    ")"
   ]
  },
  {
   "cell_type": "code",
   "execution_count": 45,
   "metadata": {},
   "outputs": [
    {
     "data": {
      "text/html": [
       "<div>\n",
       "<style scoped>\n",
       "    .dataframe tbody tr th:only-of-type {\n",
       "        vertical-align: middle;\n",
       "    }\n",
       "\n",
       "    .dataframe tbody tr th {\n",
       "        vertical-align: top;\n",
       "    }\n",
       "\n",
       "    .dataframe thead th {\n",
       "        text-align: right;\n",
       "    }\n",
       "</style>\n",
       "<table border=\"1\" class=\"dataframe\">\n",
       "  <thead>\n",
       "    <tr style=\"text-align: right;\">\n",
       "      <th></th>\n",
       "      <th>i_id</th>\n",
       "      <th>i_info_col</th>\n",
       "      <th>y_raw_score</th>\n",
       "      <th>y_calibrated_score</th>\n",
       "      <th>y_predicted_label</th>\n",
       "    </tr>\n",
       "  </thead>\n",
       "  <tbody>\n",
       "    <tr>\n",
       "      <th>0</th>\n",
       "      <td>1</td>\n",
       "      <td>2022</td>\n",
       "      <td>0.99</td>\n",
       "      <td>0.88</td>\n",
       "      <td>1</td>\n",
       "    </tr>\n",
       "    <tr>\n",
       "      <th>1</th>\n",
       "      <td>2</td>\n",
       "      <td>2021</td>\n",
       "      <td>0.02</td>\n",
       "      <td>0.42</td>\n",
       "      <td>0</td>\n",
       "    </tr>\n",
       "    <tr>\n",
       "      <th>2</th>\n",
       "      <td>3</td>\n",
       "      <td>2022</td>\n",
       "      <td>0.01</td>\n",
       "      <td>0.23</td>\n",
       "      <td>0</td>\n",
       "    </tr>\n",
       "    <tr>\n",
       "      <th>3</th>\n",
       "      <td>4</td>\n",
       "      <td>2022</td>\n",
       "      <td>0.98</td>\n",
       "      <td>0.84</td>\n",
       "      <td>1</td>\n",
       "    </tr>\n",
       "    <tr>\n",
       "      <th>4</th>\n",
       "      <td>5</td>\n",
       "      <td>2021</td>\n",
       "      <td>0.01</td>\n",
       "      <td>0.22</td>\n",
       "      <td>0</td>\n",
       "    </tr>\n",
       "  </tbody>\n",
       "</table>\n",
       "</div>"
      ],
      "text/plain": [
       "   i_id i_info_col  y_raw_score  y_calibrated_score  y_predicted_label\n",
       "0     1       2022         0.99                0.88                  1\n",
       "1     2       2021         0.02                0.42                  0\n",
       "2     3       2022         0.01                0.23                  0\n",
       "3     4       2022         0.98                0.84                  1\n",
       "4     5       2021         0.01                0.22                  0"
      ]
     },
     "execution_count": 45,
     "metadata": {},
     "output_type": "execute_result"
    }
   ],
   "source": [
    "df"
   ]
  },
  {
   "cell_type": "code",
   "execution_count": 46,
   "metadata": {},
   "outputs": [],
   "source": [
    "df = create_predictions(\n",
    "    abt_sample,\n",
    "    raw_scores_sample,\n",
    "    calibrated_scores_sample,\n",
    "    threshold=0.3,\n",
    "    classify_on_calibrated=True\n",
    ")"
   ]
  },
  {
   "cell_type": "code",
   "execution_count": 47,
   "metadata": {},
   "outputs": [
    {
     "data": {
      "text/html": [
       "<div>\n",
       "<style scoped>\n",
       "    .dataframe tbody tr th:only-of-type {\n",
       "        vertical-align: middle;\n",
       "    }\n",
       "\n",
       "    .dataframe tbody tr th {\n",
       "        vertical-align: top;\n",
       "    }\n",
       "\n",
       "    .dataframe thead th {\n",
       "        text-align: right;\n",
       "    }\n",
       "</style>\n",
       "<table border=\"1\" class=\"dataframe\">\n",
       "  <thead>\n",
       "    <tr style=\"text-align: right;\">\n",
       "      <th></th>\n",
       "      <th>i_id</th>\n",
       "      <th>i_info_col</th>\n",
       "      <th>y_raw_score</th>\n",
       "      <th>y_calibrated_score</th>\n",
       "      <th>y_predicted_label</th>\n",
       "    </tr>\n",
       "  </thead>\n",
       "  <tbody>\n",
       "    <tr>\n",
       "      <th>0</th>\n",
       "      <td>1</td>\n",
       "      <td>2022</td>\n",
       "      <td>0.99</td>\n",
       "      <td>0.88</td>\n",
       "      <td>1</td>\n",
       "    </tr>\n",
       "    <tr>\n",
       "      <th>1</th>\n",
       "      <td>2</td>\n",
       "      <td>2021</td>\n",
       "      <td>0.02</td>\n",
       "      <td>0.42</td>\n",
       "      <td>1</td>\n",
       "    </tr>\n",
       "    <tr>\n",
       "      <th>2</th>\n",
       "      <td>3</td>\n",
       "      <td>2022</td>\n",
       "      <td>0.01</td>\n",
       "      <td>0.23</td>\n",
       "      <td>0</td>\n",
       "    </tr>\n",
       "    <tr>\n",
       "      <th>3</th>\n",
       "      <td>4</td>\n",
       "      <td>2022</td>\n",
       "      <td>0.98</td>\n",
       "      <td>0.84</td>\n",
       "      <td>1</td>\n",
       "    </tr>\n",
       "    <tr>\n",
       "      <th>4</th>\n",
       "      <td>5</td>\n",
       "      <td>2021</td>\n",
       "      <td>0.01</td>\n",
       "      <td>0.22</td>\n",
       "      <td>0</td>\n",
       "    </tr>\n",
       "  </tbody>\n",
       "</table>\n",
       "</div>"
      ],
      "text/plain": [
       "   i_id i_info_col  y_raw_score  y_calibrated_score  y_predicted_label\n",
       "0     1       2022         0.99                0.88                  1\n",
       "1     2       2021         0.02                0.42                  1\n",
       "2     3       2022         0.01                0.23                  0\n",
       "3     4       2022         0.98                0.84                  1\n",
       "4     5       2021         0.01                0.22                  0"
      ]
     },
     "execution_count": 47,
     "metadata": {},
     "output_type": "execute_result"
    }
   ],
   "source": [
    "df"
   ]
  },
  {
   "cell_type": "code",
   "execution_count": 51,
   "metadata": {},
   "outputs": [
    {
     "data": {
      "text/plain": [
       "{'i_id': [1, 2, 3, 4, 5],\n",
       " 'i_info_col': ['2022', '2021', '2022', '2022', '2021'],\n",
       " 'y_raw_score': [0.99, 0.02, 0.01, 0.98, 0.01],\n",
       " 'y_calibrated_score': [0.88, 0.42, 0.23, 0.84, 0.22],\n",
       " 'y_predicted_label': [1, 1, 0, 1, 0]}"
      ]
     },
     "execution_count": 51,
     "metadata": {},
     "output_type": "execute_result"
    }
   ],
   "source": [
    "df.to_dict(orient=\"list\")"
   ]
  },
  {
   "attachments": {},
   "cell_type": "markdown",
   "metadata": {},
   "source": [
    "## Explanation - sampling"
   ]
  },
  {
   "cell_type": "code",
   "execution_count": 52,
   "metadata": {},
   "outputs": [],
   "source": [
    "import pandas as pd"
   ]
  },
  {
   "cell_type": "code",
   "execution_count": 54,
   "metadata": {},
   "outputs": [],
   "source": [
    "explanation_sample = pd.DataFrame(\n",
    "    {\n",
    "        \"i_id\": list(range(20)),\n",
    "        \"y_target\": [1]*5 + [0]*15\n",
    "    }\n",
    ")"
   ]
  },
  {
   "cell_type": "code",
   "execution_count": 57,
   "metadata": {},
   "outputs": [
    {
     "data": {
      "text/html": [
       "<div>\n",
       "<style scoped>\n",
       "    .dataframe tbody tr th:only-of-type {\n",
       "        vertical-align: middle;\n",
       "    }\n",
       "\n",
       "    .dataframe tbody tr th {\n",
       "        vertical-align: top;\n",
       "    }\n",
       "\n",
       "    .dataframe thead th {\n",
       "        text-align: right;\n",
       "    }\n",
       "</style>\n",
       "<table border=\"1\" class=\"dataframe\">\n",
       "  <thead>\n",
       "    <tr style=\"text-align: right;\">\n",
       "      <th></th>\n",
       "      <th>i_id</th>\n",
       "      <th>y_target</th>\n",
       "    </tr>\n",
       "  </thead>\n",
       "  <tbody>\n",
       "    <tr>\n",
       "      <th>0</th>\n",
       "      <td>0</td>\n",
       "      <td>1</td>\n",
       "    </tr>\n",
       "    <tr>\n",
       "      <th>1</th>\n",
       "      <td>1</td>\n",
       "      <td>1</td>\n",
       "    </tr>\n",
       "    <tr>\n",
       "      <th>2</th>\n",
       "      <td>2</td>\n",
       "      <td>1</td>\n",
       "    </tr>\n",
       "    <tr>\n",
       "      <th>3</th>\n",
       "      <td>3</td>\n",
       "      <td>1</td>\n",
       "    </tr>\n",
       "    <tr>\n",
       "      <th>4</th>\n",
       "      <td>4</td>\n",
       "      <td>1</td>\n",
       "    </tr>\n",
       "    <tr>\n",
       "      <th>5</th>\n",
       "      <td>5</td>\n",
       "      <td>0</td>\n",
       "    </tr>\n",
       "    <tr>\n",
       "      <th>6</th>\n",
       "      <td>6</td>\n",
       "      <td>0</td>\n",
       "    </tr>\n",
       "    <tr>\n",
       "      <th>7</th>\n",
       "      <td>7</td>\n",
       "      <td>0</td>\n",
       "    </tr>\n",
       "    <tr>\n",
       "      <th>8</th>\n",
       "      <td>8</td>\n",
       "      <td>0</td>\n",
       "    </tr>\n",
       "    <tr>\n",
       "      <th>9</th>\n",
       "      <td>9</td>\n",
       "      <td>0</td>\n",
       "    </tr>\n",
       "    <tr>\n",
       "      <th>10</th>\n",
       "      <td>10</td>\n",
       "      <td>0</td>\n",
       "    </tr>\n",
       "    <tr>\n",
       "      <th>11</th>\n",
       "      <td>11</td>\n",
       "      <td>0</td>\n",
       "    </tr>\n",
       "    <tr>\n",
       "      <th>12</th>\n",
       "      <td>12</td>\n",
       "      <td>0</td>\n",
       "    </tr>\n",
       "    <tr>\n",
       "      <th>13</th>\n",
       "      <td>13</td>\n",
       "      <td>0</td>\n",
       "    </tr>\n",
       "    <tr>\n",
       "      <th>14</th>\n",
       "      <td>14</td>\n",
       "      <td>0</td>\n",
       "    </tr>\n",
       "    <tr>\n",
       "      <th>15</th>\n",
       "      <td>15</td>\n",
       "      <td>0</td>\n",
       "    </tr>\n",
       "    <tr>\n",
       "      <th>16</th>\n",
       "      <td>16</td>\n",
       "      <td>0</td>\n",
       "    </tr>\n",
       "    <tr>\n",
       "      <th>17</th>\n",
       "      <td>17</td>\n",
       "      <td>0</td>\n",
       "    </tr>\n",
       "    <tr>\n",
       "      <th>18</th>\n",
       "      <td>18</td>\n",
       "      <td>0</td>\n",
       "    </tr>\n",
       "    <tr>\n",
       "      <th>19</th>\n",
       "      <td>19</td>\n",
       "      <td>0</td>\n",
       "    </tr>\n",
       "  </tbody>\n",
       "</table>\n",
       "</div>"
      ],
      "text/plain": [
       "    i_id  y_target\n",
       "0      0         1\n",
       "1      1         1\n",
       "2      2         1\n",
       "3      3         1\n",
       "4      4         1\n",
       "5      5         0\n",
       "6      6         0\n",
       "7      7         0\n",
       "8      8         0\n",
       "9      9         0\n",
       "10    10         0\n",
       "11    11         0\n",
       "12    12         0\n",
       "13    13         0\n",
       "14    14         0\n",
       "15    15         0\n",
       "16    16         0\n",
       "17    17         0\n",
       "18    18         0\n",
       "19    19         0"
      ]
     },
     "execution_count": 57,
     "metadata": {},
     "output_type": "execute_result"
    }
   ],
   "source": [
    "explanation_sample"
   ]
  },
  {
   "cell_type": "code",
   "execution_count": 55,
   "metadata": {},
   "outputs": [],
   "source": [
    "from ga4_mlops.pipelines.explanation.nodes import sample_data"
   ]
  },
  {
   "cell_type": "code",
   "execution_count": 69,
   "metadata": {},
   "outputs": [],
   "source": [
    "df = sample_data(explanation_sample, n_obs=8, seed=42)"
   ]
  },
  {
   "cell_type": "code",
   "execution_count": 70,
   "metadata": {},
   "outputs": [
    {
     "data": {
      "text/html": [
       "<div>\n",
       "<style scoped>\n",
       "    .dataframe tbody tr th:only-of-type {\n",
       "        vertical-align: middle;\n",
       "    }\n",
       "\n",
       "    .dataframe tbody tr th {\n",
       "        vertical-align: top;\n",
       "    }\n",
       "\n",
       "    .dataframe thead th {\n",
       "        text-align: right;\n",
       "    }\n",
       "</style>\n",
       "<table border=\"1\" class=\"dataframe\">\n",
       "  <thead>\n",
       "    <tr style=\"text-align: right;\">\n",
       "      <th></th>\n",
       "      <th>i_id</th>\n",
       "      <th>y_target</th>\n",
       "    </tr>\n",
       "  </thead>\n",
       "  <tbody>\n",
       "    <tr>\n",
       "      <th>0</th>\n",
       "      <td>14</td>\n",
       "      <td>0</td>\n",
       "    </tr>\n",
       "    <tr>\n",
       "      <th>1</th>\n",
       "      <td>16</td>\n",
       "      <td>0</td>\n",
       "    </tr>\n",
       "    <tr>\n",
       "      <th>2</th>\n",
       "      <td>5</td>\n",
       "      <td>0</td>\n",
       "    </tr>\n",
       "    <tr>\n",
       "      <th>3</th>\n",
       "      <td>18</td>\n",
       "      <td>0</td>\n",
       "    </tr>\n",
       "    <tr>\n",
       "      <th>4</th>\n",
       "      <td>10</td>\n",
       "      <td>0</td>\n",
       "    </tr>\n",
       "    <tr>\n",
       "      <th>5</th>\n",
       "      <td>13</td>\n",
       "      <td>0</td>\n",
       "    </tr>\n",
       "    <tr>\n",
       "      <th>6</th>\n",
       "      <td>1</td>\n",
       "      <td>1</td>\n",
       "    </tr>\n",
       "    <tr>\n",
       "      <th>7</th>\n",
       "      <td>4</td>\n",
       "      <td>1</td>\n",
       "    </tr>\n",
       "  </tbody>\n",
       "</table>\n",
       "</div>"
      ],
      "text/plain": [
       "   i_id  y_target\n",
       "0    14         0\n",
       "1    16         0\n",
       "2     5         0\n",
       "3    18         0\n",
       "4    10         0\n",
       "5    13         0\n",
       "6     1         1\n",
       "7     4         1"
      ]
     },
     "execution_count": 70,
     "metadata": {},
     "output_type": "execute_result"
    }
   ],
   "source": [
    "df"
   ]
  },
  {
   "cell_type": "code",
   "execution_count": 71,
   "metadata": {},
   "outputs": [
    {
     "data": {
      "text/plain": [
       "{'i_id': [14, 16, 5, 18, 10, 13, 1, 4], 'y_target': [0, 0, 0, 0, 0, 0, 1, 1]}"
      ]
     },
     "execution_count": 71,
     "metadata": {},
     "output_type": "execute_result"
    }
   ],
   "source": [
    "df.to_dict(orient=\"list\")"
   ]
  },
  {
   "cell_type": "code",
   "execution_count": null,
   "metadata": {},
   "outputs": [],
   "source": []
  }
 ],
 "metadata": {
  "kernelspec": {
   "display_name": ".venv",
   "language": "python",
   "name": "python3"
  },
  "language_info": {
   "codemirror_mode": {
    "name": "ipython",
    "version": 3
   },
   "file_extension": ".py",
   "mimetype": "text/x-python",
   "name": "python",
   "nbconvert_exporter": "python",
   "pygments_lexer": "ipython3",
   "version": "3.8.12"
  },
  "orig_nbformat": 4,
  "vscode": {
   "interpreter": {
    "hash": "a875e0dc97dd2951fe8b02ffd491226d1f9a0885d9ce603a879586ca268319d5"
   }
  }
 },
 "nbformat": 4,
 "nbformat_minor": 2
}
