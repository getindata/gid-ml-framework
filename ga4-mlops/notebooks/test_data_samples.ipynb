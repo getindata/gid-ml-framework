{
 "cells": [
  {
   "cell_type": "code",
   "execution_count": null,
   "metadata": {},
   "outputs": [],
   "source": [
    "import pandas as pd\n",
    "import os\n",
    "from pprint import PrettyPrinter"
   ]
  },
  {
   "cell_type": "code",
   "execution_count": null,
   "metadata": {},
   "outputs": [],
   "source": [
    "os.getcwd()"
   ]
  },
  {
   "cell_type": "code",
   "execution_count": null,
   "metadata": {},
   "outputs": [],
   "source": [
    "pp = PrettyPrinter()"
   ]
  },
  {
   "attachments": {},
   "cell_type": "markdown",
   "metadata": {},
   "source": [
    "# Primary data sample"
   ]
  },
  {
   "cell_type": "code",
   "execution_count": null,
   "metadata": {},
   "outputs": [],
   "source": [
    "def engineer_features(df: pd.DataFrame) -> pd.DataFrame:\n",
    "    \"\"\"Apply manual feature engineering transformations.\n",
    "\n",
    "    Args:\n",
    "        df (pd.DataFrame): data frame with raw features\n",
    "\n",
    "    Returns:\n",
    "        pd.DataFrame: data frame after feature engineering\n",
    "    \"\"\"\n",
    "    # logger.info(\"Applying manual feature engineering transformations...\")\n",
    "\n",
    "    df[\"c_weekday\"] = pd.to_datetime(df[\"i_visit_start_time\"], unit=\"us\").dt.weekday\n",
    "    df[\"c_visit_start_hour\"] = pd.to_datetime(\n",
    "        df[\"i_visit_start_time\"], unit=\"us\"\n",
    "    ).dt.hour\n",
    "\n",
    "    return df"
   ]
  },
  {
   "cell_type": "code",
   "execution_count": null,
   "metadata": {},
   "outputs": [],
   "source": [
    "df = pd.read_csv('../data/03_primary/df_train.csv')"
   ]
  },
  {
   "cell_type": "code",
   "execution_count": null,
   "metadata": {},
   "outputs": [],
   "source": [
    "dfs = df.sample(20, random_state=22)\n",
    "dfs"
   ]
  },
  {
   "attachments": {},
   "cell_type": "markdown",
   "metadata": {},
   "source": [
    "## Engineer features"
   ]
  },
  {
   "cell_type": "code",
   "execution_count": null,
   "metadata": {},
   "outputs": [],
   "source": [
    "rows_to_select = list(range(3))\n",
    "rows_to_select"
   ]
  },
  {
   "cell_type": "code",
   "execution_count": null,
   "metadata": {},
   "outputs": [],
   "source": [
    "columns_to_select = [\n",
    "    \"i_full_visitor_id\",\n",
    "    \"i_visit_start_time\"\n",
    "]\n",
    "columns_to_select"
   ]
  },
  {
   "cell_type": "code",
   "execution_count": null,
   "metadata": {},
   "outputs": [],
   "source": [
    "df_sample = dfs.iloc[rows_to_select, :][columns_to_select]\n",
    "df_sample"
   ]
  },
  {
   "cell_type": "code",
   "execution_count": null,
   "metadata": {},
   "outputs": [],
   "source": [
    "dict_sample = df_sample.to_dict(orient=\"list\")"
   ]
  },
  {
   "cell_type": "code",
   "execution_count": null,
   "metadata": {},
   "outputs": [],
   "source": [
    "pp.pprint(dict_sample)"
   ]
  },
  {
   "cell_type": "code",
   "execution_count": null,
   "metadata": {},
   "outputs": [],
   "source": [
    "df_processed = engineer_features(df_sample)\n",
    "df_processed"
   ]
  },
  {
   "cell_type": "code",
   "execution_count": null,
   "metadata": {},
   "outputs": [],
   "source": [
    "dict_processed = df_processed.to_dict(orient=\"list\")"
   ]
  },
  {
   "cell_type": "code",
   "execution_count": null,
   "metadata": {},
   "outputs": [],
   "source": [
    "pp.pprint(dict_processed)"
   ]
  },
  {
   "cell_type": "code",
   "execution_count": null,
   "metadata": {},
   "outputs": [],
   "source": [
    "df_expected = pd.DataFrame({\n",
    "        'c_visit_start_hour': [0, 7, 11],\n",
    "        'c_weekday': [1, 3, 1],\n",
    "        'i_full_visitor_id': [3033910.355860057, 81793309.0616803, 4293031.296243032],\n",
    "        'i_visit_start_time': [1611619614341157.0,\n",
    "                                1611820704267587.0,\n",
    "                                1611661585573344.0]\n",
    "    })"
   ]
  },
  {
   "cell_type": "code",
   "execution_count": null,
   "metadata": {},
   "outputs": [],
   "source": [
    "df_processed"
   ]
  },
  {
   "cell_type": "code",
   "execution_count": null,
   "metadata": {},
   "outputs": [],
   "source": [
    "df_expected"
   ]
  },
  {
   "cell_type": "code",
   "execution_count": null,
   "metadata": {},
   "outputs": [],
   "source": [
    "df_processed.equals(df_expected)"
   ]
  },
  {
   "cell_type": "code",
   "execution_count": null,
   "metadata": {},
   "outputs": [],
   "source": [
    "df_processed.sort_index(axis=1).equals(df_expected.sort_index(axis=1))"
   ]
  },
  {
   "attachments": {},
   "cell_type": "markdown",
   "metadata": {},
   "source": [
    "## Data preparation utils"
   ]
  },
  {
   "cell_type": "code",
   "execution_count": null,
   "metadata": {},
   "outputs": [],
   "source": [
    "df = pd.DataFrame(\n",
    "    {\n",
    "        \"c_first_good_colname\": [\"cat1\", \"cat2\", \"cat1\"],\n",
    "        \"n_second_good_colname\": [1, 3, 5],\n",
    "        \"c_first_bad_colname\": [7, 8, 9],\n",
    "        \"n_second_bad_colname\": [\"3.0\", \"2.2\", \"5.6\"],\n",
    "    }\n",
    ")"
   ]
  },
  {
   "cell_type": "code",
   "execution_count": null,
   "metadata": {},
   "outputs": [],
   "source": [
    "df"
   ]
  },
  {
   "cell_type": "code",
   "execution_count": null,
   "metadata": {},
   "outputs": [],
   "source": [
    "df.dtypes"
   ]
  },
  {
   "cell_type": "code",
   "execution_count": null,
   "metadata": {},
   "outputs": [],
   "source": [
    "from ga4_mlops.pipelines.data_preparation_utils import extract_column_names, ensure_column_types"
   ]
  },
  {
   "cell_type": "code",
   "execution_count": null,
   "metadata": {},
   "outputs": [],
   "source": [
    "_, num_cols, cat_cols, _ = extract_column_names(df)"
   ]
  },
  {
   "cell_type": "code",
   "execution_count": null,
   "metadata": {},
   "outputs": [],
   "source": [
    "df2 = ensure_column_types(df, num_cols, cat_cols)"
   ]
  },
  {
   "cell_type": "code",
   "execution_count": null,
   "metadata": {},
   "outputs": [],
   "source": [
    "df2"
   ]
  },
  {
   "cell_type": "code",
   "execution_count": null,
   "metadata": {},
   "outputs": [],
   "source": [
    "df2.dtypes"
   ]
  },
  {
   "cell_type": "code",
   "execution_count": null,
   "metadata": {},
   "outputs": [],
   "source": [
    "list(df2.dtypes)"
   ]
  },
  {
   "cell_type": "code",
   "execution_count": null,
   "metadata": {},
   "outputs": [],
   "source": [
    "df2.dtypes.to_list()"
   ]
  },
  {
   "cell_type": "code",
   "execution_count": null,
   "metadata": {},
   "outputs": [],
   "source": [
    "num_cols = [\"n_second_good_colname\", \"n_second_bad_colname\"]\n",
    "cat_cols = [\"c_first_good_colname\", \"c_first_bad_colname\"]\n",
    "df3 = ensure_column_types(df, num_cols, cat_cols)"
   ]
  },
  {
   "cell_type": "code",
   "execution_count": null,
   "metadata": {},
   "outputs": [],
   "source": [
    "df3"
   ]
  },
  {
   "cell_type": "code",
   "execution_count": null,
   "metadata": {},
   "outputs": [],
   "source": [
    "from numpy import dtype"
   ]
  },
  {
   "cell_type": "code",
   "execution_count": null,
   "metadata": {},
   "outputs": [],
   "source": [
    "expected_types = [dtype('O'), dtype('float64'), dtype('O'), dtype('float64')]"
   ]
  },
  {
   "cell_type": "code",
   "execution_count": null,
   "metadata": {},
   "outputs": [],
   "source": [
    "expected_types"
   ]
  },
  {
   "cell_type": "code",
   "execution_count": null,
   "metadata": {},
   "outputs": [],
   "source": [
    "df3.dtypes.to_list()"
   ]
  },
  {
   "cell_type": "code",
   "execution_count": null,
   "metadata": {},
   "outputs": [],
   "source": [
    "df3[\"n_second_good_colname\"].dtype, df3[\"c_first_good_colname\"].dtype"
   ]
  },
  {
   "attachments": {},
   "cell_type": "markdown",
   "metadata": {},
   "source": [
    "## Imputation"
   ]
  },
  {
   "cell_type": "code",
   "execution_count": null,
   "metadata": {},
   "outputs": [],
   "source": [
    "import pandas as pd\n",
    "import numpy as np"
   ]
  },
  {
   "cell_type": "code",
   "execution_count": null,
   "metadata": {},
   "outputs": [],
   "source": [
    "imputation_sample = pd.DataFrame(\n",
    "    {\n",
    "        \"i_id_col\": [1, 2, 3, 4, 5],\n",
    "        \"n_num_col_complete\": [4, 2, 6, 1, 0],\n",
    "        \"n_num_col_missing_not_listed\": [4.0, np.nan, 2.1, 3.2, np.nan],\n",
    "        \"n_num_col_missing_for_mean\": [2, np.nan, 5, np.nan, 8],\n",
    "        \"n_num_col_missing_for_zero\": [np.nan, 9.3, -1.2, np.nan, np.nan],\n",
    "        \"c_cat_col_for_mostfreq\": [\"cat1\", np.nan, \"cat2\", \"cat1\", \"cat1\"],\n",
    "        \"c_cat_col_for_unknown\": [\"cat1\", \"cat2\", np.nan, \"cat3\", \"cat2\"],\n",
    "    }\n",
    ")"
   ]
  },
  {
   "cell_type": "code",
   "execution_count": null,
   "metadata": {},
   "outputs": [],
   "source": [
    "imputation_sample"
   ]
  },
  {
   "cell_type": "code",
   "execution_count": null,
   "metadata": {},
   "outputs": [],
   "source": [
    "imputation_sample.iloc[1, 3]"
   ]
  },
  {
   "cell_type": "code",
   "execution_count": null,
   "metadata": {},
   "outputs": [],
   "source": [
    "imputation_sample.iloc[0, 4]"
   ]
  },
  {
   "cell_type": "code",
   "execution_count": null,
   "metadata": {},
   "outputs": [],
   "source": [
    "from ga4_mlops.pipelines.feature_engineering.nodes import fit_imputers, apply_imputers"
   ]
  },
  {
   "cell_type": "code",
   "execution_count": null,
   "metadata": {},
   "outputs": [],
   "source": [
    "expected_df = pd.DataFrame(\n",
    "    {\n",
    "        \"i_id_col\": [1, 2, 3, 4, 5],\n",
    "        \"n_num_col_complete\": [4, 2, 6, 1, 0],\n",
    "        \"n_num_col_missing_not_listed\": [4.0, np.nan, 2.1, 3.2, np.nan],\n",
    "        \"n_num_col_missing_for_mean\": [2., 5., 5., 5., 8.],\n",
    "        \"n_num_col_missing_for_zero\": [0.0, 9.3, -1.2, 0.0, 0.0],\n",
    "        \"c_cat_col_for_mostfreq\": [\"cat1\", \"cat1\", \"cat2\", \"cat1\", \"cat1\"],\n",
    "        \"c_cat_col_for_unknown\": [\"cat1\", \"cat2\", \"UNKNOWN\", \"cat3\", \"cat2\"],\n",
    "    }\n",
    ")"
   ]
  },
  {
   "cell_type": "code",
   "execution_count": null,
   "metadata": {},
   "outputs": [],
   "source": [
    "expected_df"
   ]
  },
  {
   "cell_type": "code",
   "execution_count": null,
   "metadata": {},
   "outputs": [],
   "source": [
    "imputation_strategies = {\n",
    "  \"mean\": [\"n_num_col_missing_for_mean\"],   # for numerical: replace NULLs with column mean\n",
    "  \"zero\": [\"n_num_col_missing_for_zero\"],    # for numerical: replace NULLs with zeros\n",
    "  \"mostfreq\": [\"c_cat_col_for_mostfreq\"],    # for categorical: replace NULLs with most frequent value\n",
    "  \"unknown\": [\"c_cat_col_for_unknown\"],    # for categorical: replace NULLs with UNKNOWN token\n",
    "}"
   ]
  },
  {
   "cell_type": "code",
   "execution_count": null,
   "metadata": {},
   "outputs": [],
   "source": [
    "imputers = fit_imputers(imputation_sample, imputation_strategies)"
   ]
  },
  {
   "cell_type": "code",
   "execution_count": null,
   "metadata": {},
   "outputs": [],
   "source": [
    "imputers"
   ]
  },
  {
   "cell_type": "code",
   "execution_count": null,
   "metadata": {},
   "outputs": [],
   "source": [
    "df = apply_imputers(imputation_sample, imputers)"
   ]
  },
  {
   "cell_type": "code",
   "execution_count": null,
   "metadata": {},
   "outputs": [],
   "source": [
    "df"
   ]
  },
  {
   "cell_type": "code",
   "execution_count": null,
   "metadata": {},
   "outputs": [],
   "source": [
    "df.dtypes"
   ]
  },
  {
   "cell_type": "code",
   "execution_count": null,
   "metadata": {},
   "outputs": [],
   "source": [
    "expected_df.dtypes"
   ]
  },
  {
   "cell_type": "code",
   "execution_count": null,
   "metadata": {},
   "outputs": [],
   "source": [
    "df.equals(expected_df)"
   ]
  },
  {
   "attachments": {},
   "cell_type": "markdown",
   "metadata": {},
   "source": [
    "## Encoding"
   ]
  },
  {
   "cell_type": "code",
   "execution_count": null,
   "metadata": {},
   "outputs": [],
   "source": [
    "import pandas as pd"
   ]
  },
  {
   "cell_type": "code",
   "execution_count": null,
   "metadata": {},
   "outputs": [],
   "source": [
    "encoding_sample = pd.DataFrame(\n",
    "    {\n",
    "        \"i_id_col\": [1, 2, 3, 4, 5],\n",
    "        \"c_cat_col_for_binary\": [\"0\", \"0\", \"1\", \"0\", \"1\"],\n",
    "        \"c_cat_col_for_onehot\": [\"cat1\", \"cat2\", \"cat3\", \"cat3\", \"cat2\"],\n",
    "        \"c_cat_col_for_ordinal\": [\"cat3\", \"cat2\", \"cat1\", \"cat3\", \"cat2\"],\n",
    "    }\n",
    ")"
   ]
  },
  {
   "cell_type": "code",
   "execution_count": null,
   "metadata": {},
   "outputs": [],
   "source": [
    "encoding_sample"
   ]
  },
  {
   "cell_type": "code",
   "execution_count": null,
   "metadata": {},
   "outputs": [],
   "source": [
    "encoder_types = {\n",
    "    \"binary\": [\"c_cat_col_for_binary\"],   # for binary variables\n",
    "    \"onehot\": [\"c_cat_col_for_onehot\"],   # one-hot encoding\n",
    "    \"ordinal\": [\"c_cat_col_for_ordinal\"]   # integer encoding (ordinal, but order does not matter)\n",
    "}"
   ]
  },
  {
   "cell_type": "code",
   "execution_count": null,
   "metadata": {},
   "outputs": [],
   "source": [
    "from ga4_mlops.pipelines.feature_engineering.nodes import fit_encoders, apply_encoders"
   ]
  },
  {
   "cell_type": "code",
   "execution_count": null,
   "metadata": {},
   "outputs": [],
   "source": [
    "encoders = fit_encoders(encoding_sample, encoder_types)"
   ]
  },
  {
   "cell_type": "code",
   "execution_count": null,
   "metadata": {},
   "outputs": [],
   "source": [
    "df = apply_encoders(encoding_sample, encoders)"
   ]
  },
  {
   "cell_type": "code",
   "execution_count": null,
   "metadata": {},
   "outputs": [],
   "source": [
    "df"
   ]
  },
  {
   "cell_type": "code",
   "execution_count": null,
   "metadata": {},
   "outputs": [],
   "source": [
    "df.to_dict(orient=\"list\")"
   ]
  },
  {
   "cell_type": "code",
   "execution_count": null,
   "metadata": {},
   "outputs": [],
   "source": [
    "expected_df = pd.DataFrame(\n",
    "    {\n",
    "        \"i_id_col\": [1, 2, 3, 4, 5],\n",
    "        \"c_cat_col_for_binary_0\": [0, 0, 1, 0, 1],\n",
    "        \"c_cat_col_for_binary_1\": [1, 1, 0, 1, 0],\n",
    "        \"c_cat_col_for_onehot_cat1\": [1, 0, 0, 0, 0],\n",
    "        \"c_cat_col_for_onehot_cat2\": [0, 1, 0, 0, 1],\n",
    "        \"c_cat_col_for_onehot_cat3\": [0, 0, 1, 1, 0],\n",
    "        \"c_cat_col_for_ordinal\": [1, 2, 3, 1, 2]\n",
    "    }\n",
    ")"
   ]
  },
  {
   "cell_type": "code",
   "execution_count": null,
   "metadata": {},
   "outputs": [],
   "source": [
    "df.equals(expected_df)"
   ]
  },
  {
   "attachments": {},
   "cell_type": "markdown",
   "metadata": {},
   "source": [
    "## Exclusion"
   ]
  },
  {
   "cell_type": "code",
   "execution_count": null,
   "metadata": {},
   "outputs": [],
   "source": [
    "import pandas as pd"
   ]
  },
  {
   "cell_type": "code",
   "execution_count": null,
   "metadata": {},
   "outputs": [],
   "source": [
    "exclusion_sample = pd.DataFrame(\n",
    "    {\n",
    "        \"i_id_col\": [1, 2, 3, 4, 5],\n",
    "        \"n_col_to_use\": [3.2, 2.1, 9.8, 0.3, 3.1],\n",
    "        \"c_col_to_use_0\": [0, 1, 0, 0, 0],\n",
    "        \"c_col_to_use_1\": [1, 0, 1, 1, 1],\n",
    "        \"c_first_col_to_exclude\": [1, 3, 2, 1, 2],\n",
    "        \"c_second_col_to_exclude_cat1\": [1, 1, 0, 0, 0],\n",
    "        \"c_second_col_to_exclude_cat2\": [0, 0, 1, 1, 0],\n",
    "        \"c_second_col_to_exclude_cat2\": [0, 0, 0, 0, 1],\n",
    "    }\n",
    ")"
   ]
  },
  {
   "cell_type": "code",
   "execution_count": null,
   "metadata": {},
   "outputs": [],
   "source": [
    "exclusion_sample"
   ]
  },
  {
   "cell_type": "code",
   "execution_count": null,
   "metadata": {},
   "outputs": [],
   "source": [
    "features_to_exclude = [\"c_first_col_to_exclude\", \"c_second_col_to_exclude\"]"
   ]
  },
  {
   "cell_type": "code",
   "execution_count": null,
   "metadata": {},
   "outputs": [],
   "source": [
    "from ga4_mlops.pipelines.feature_engineering.nodes import exclude_features"
   ]
  },
  {
   "cell_type": "code",
   "execution_count": null,
   "metadata": {},
   "outputs": [],
   "source": [
    "df = exclude_features(exclusion_sample, features_to_exclude)"
   ]
  },
  {
   "cell_type": "code",
   "execution_count": null,
   "metadata": {},
   "outputs": [],
   "source": [
    "df"
   ]
  },
  {
   "cell_type": "code",
   "execution_count": null,
   "metadata": {},
   "outputs": [],
   "source": [
    "expected_df = pd.DataFrame(\n",
    "    {\n",
    "        \"i_id_col\": [1, 2, 3, 4, 5],\n",
    "        \"n_col_to_use\": [3.2, 2.1, 9.8, 0.3, 3.1],\n",
    "        \"c_col_to_use_0\": [0, 1, 0, 0, 0],\n",
    "        \"c_col_to_use_1\": [1, 0, 1, 1, 1],\n",
    "    }\n",
    ")"
   ]
  },
  {
   "cell_type": "code",
   "execution_count": null,
   "metadata": {},
   "outputs": [],
   "source": [
    "expected_df"
   ]
  },
  {
   "cell_type": "code",
   "execution_count": null,
   "metadata": {},
   "outputs": [],
   "source": [
    "df.equals(expected_df)"
   ]
  },
  {
   "attachments": {},
   "cell_type": "markdown",
   "metadata": {},
   "source": [
    "## Prediction"
   ]
  },
  {
   "cell_type": "code",
   "execution_count": null,
   "metadata": {},
   "outputs": [],
   "source": [
    "import numpy as np\n",
    "import pandas as pd"
   ]
  },
  {
   "cell_type": "code",
   "execution_count": null,
   "metadata": {},
   "outputs": [],
   "source": [
    "abt_sample = pd.DataFrame(\n",
    "    {\n",
    "        \"i_id\": [1, 2, 3, 4, 5],\n",
    "        \"i_info_col\": [\"2022\", \"2021\", \"2022\", \"2022\", \"2021\"],\n",
    "        \"n_num_col\": [1.3, 5.6, 2.3, 7.6, 9.2],\n",
    "        \"c_cat_col\": [1, 3, 3, 1, 2],\n",
    "        \"y_target_col\": [1, 0, 0, 1, 0],\n",
    "    }\n",
    ")\n",
    "raw_scores_sample = np.array([0.99, 0.02, 0.01, 0.98, 0.01])\n",
    "calibrated_scores_sample = np.array([0.88, 0.42, 0.23, 0.84, 0.22])"
   ]
  },
  {
   "cell_type": "code",
   "execution_count": null,
   "metadata": {},
   "outputs": [],
   "source": [
    "abt_sample"
   ]
  },
  {
   "cell_type": "code",
   "execution_count": null,
   "metadata": {},
   "outputs": [],
   "source": [
    "raw_scores_sample, calibrated_scores_sample"
   ]
  },
  {
   "cell_type": "code",
   "execution_count": null,
   "metadata": {},
   "outputs": [],
   "source": [
    "from ga4_mlops.pipelines.prediction.nodes import create_predictions"
   ]
  },
  {
   "cell_type": "code",
   "execution_count": null,
   "metadata": {},
   "outputs": [],
   "source": [
    "df = create_predictions(\n",
    "    abt_sample,\n",
    "    raw_scores_sample,\n",
    "    calibrated_scores_sample,\n",
    "    threshold=0.3,\n",
    "    classify_on_calibrated=False\n",
    ")"
   ]
  },
  {
   "cell_type": "code",
   "execution_count": null,
   "metadata": {},
   "outputs": [],
   "source": [
    "df"
   ]
  },
  {
   "cell_type": "code",
   "execution_count": null,
   "metadata": {},
   "outputs": [],
   "source": [
    "df = create_predictions(\n",
    "    abt_sample,\n",
    "    raw_scores_sample,\n",
    "    calibrated_scores_sample,\n",
    "    threshold=0.3,\n",
    "    classify_on_calibrated=True\n",
    ")"
   ]
  },
  {
   "cell_type": "code",
   "execution_count": null,
   "metadata": {},
   "outputs": [],
   "source": [
    "df"
   ]
  },
  {
   "cell_type": "code",
   "execution_count": null,
   "metadata": {},
   "outputs": [],
   "source": [
    "df.to_dict(orient=\"list\")"
   ]
  },
  {
   "attachments": {},
   "cell_type": "markdown",
   "metadata": {},
   "source": [
    "## Explanation - sampling"
   ]
  },
  {
   "cell_type": "code",
   "execution_count": null,
   "metadata": {},
   "outputs": [],
   "source": [
    "import pandas as pd"
   ]
  },
  {
   "cell_type": "code",
   "execution_count": null,
   "metadata": {},
   "outputs": [],
   "source": [
    "explanation_sample = pd.DataFrame(\n",
    "    {\n",
    "        \"i_id\": list(range(20)),\n",
    "        \"y_target\": [1]*5 + [0]*15\n",
    "    }\n",
    ")"
   ]
  },
  {
   "cell_type": "code",
   "execution_count": null,
   "metadata": {},
   "outputs": [],
   "source": [
    "explanation_sample"
   ]
  },
  {
   "cell_type": "code",
   "execution_count": null,
   "metadata": {},
   "outputs": [],
   "source": [
    "from ga4_mlops.pipelines.explanation.nodes import sample_data"
   ]
  },
  {
   "cell_type": "code",
   "execution_count": null,
   "metadata": {},
   "outputs": [],
   "source": [
    "df = sample_data(explanation_sample, n_obs=8, seed=42)"
   ]
  },
  {
   "cell_type": "code",
   "execution_count": null,
   "metadata": {},
   "outputs": [],
   "source": [
    "df"
   ]
  },
  {
   "cell_type": "code",
   "execution_count": null,
   "metadata": {},
   "outputs": [],
   "source": [
    "df.to_dict(orient=\"list\")"
   ]
  },
  {
   "attachments": {},
   "cell_type": "markdown",
   "metadata": {},
   "source": [
    "## Ensure column types v2"
   ]
  },
  {
   "cell_type": "code",
   "execution_count": null,
   "metadata": {},
   "outputs": [],
   "source": [
    "import numpy as np\n",
    "import pandas as pd"
   ]
  },
  {
   "cell_type": "code",
   "execution_count": null,
   "metadata": {},
   "outputs": [],
   "source": [
    "wrong_column_types_sample = pd.DataFrame(\n",
    "        {\n",
    "            \"c_first_good_coltype\": [\"cat1\", \"cat2\", \"cat1\"],\n",
    "            \"n_second_good_coltype\": [1, 3, 5],\n",
    "            \"c_third_good_coltype\": [\"cat2\", pd.NA, \"cat3\"],\n",
    "            \"n_fourth_good_coltype\": [4.2, np.NaN, 2.9],\n",
    "            \"c_fifth_good_coltype\": [pd.NA, pd.NA, pd.NA],\n",
    "            \"n_sixth_good_coltype\": [np.NaN, np.NaN, np.NaN],\n",
    "            \"c_first_bad_coltype\": [7, 8, 9],\n",
    "            \"c_second_bad_coltype\": [4.1, 2.3, 8.9],\n",
    "            \"n_third_bad_coltype\": [\"3.0\", \"2.2\", \"5.6\"],\n",
    "            \"n_fourth_bad_coltype\": [4.2, pd.NA, 2.9],\n",
    "            \"n_fifth_bad_coltype\": [3, pd.NA, 2],\n",
    "            \"c_sixth_bad_coltype\": [np.NaN, np.NaN, np.NaN],\n",
    "            \"n_seventh_bad_coltype\": [pd.NA, pd.NA, pd.NA],\n",
    "        }\n",
    "    )"
   ]
  },
  {
   "cell_type": "code",
   "execution_count": null,
   "metadata": {},
   "outputs": [],
   "source": [
    "wrong_column_types_sample"
   ]
  },
  {
   "cell_type": "code",
   "execution_count": null,
   "metadata": {},
   "outputs": [],
   "source": [
    "wrong_column_types_sample.dtypes"
   ]
  },
  {
   "cell_type": "code",
   "execution_count": null,
   "metadata": {},
   "outputs": [],
   "source": [
    "from ga4_mlops.pipelines.data_preparation_utils import extract_column_names, ensure_column_types"
   ]
  },
  {
   "cell_type": "code",
   "execution_count": null,
   "metadata": {},
   "outputs": [],
   "source": [
    "_, num_cols, cat_cols, _ = extract_column_names(wrong_column_types_sample)"
   ]
  },
  {
   "cell_type": "code",
   "execution_count": null,
   "metadata": {},
   "outputs": [],
   "source": [
    "df = ensure_column_types(wrong_column_types_sample, num_cols, cat_cols)"
   ]
  },
  {
   "cell_type": "code",
   "execution_count": null,
   "metadata": {},
   "outputs": [],
   "source": [
    "df"
   ]
  },
  {
   "cell_type": "markdown",
   "metadata": {},
   "source": []
  },
  {
   "cell_type": "code",
   "execution_count": null,
   "metadata": {},
   "outputs": [],
   "source": [
    "df.dtypes"
   ]
  },
  {
   "cell_type": "code",
   "execution_count": null,
   "metadata": {},
   "outputs": [],
   "source": [
    "df[\"c_fifth_good_coltype\"]"
   ]
  },
  {
   "cell_type": "code",
   "execution_count": null,
   "metadata": {},
   "outputs": [],
   "source": [
    "type(df[\"c_fifth_good_coltype\"][0])"
   ]
  },
  {
   "cell_type": "code",
   "execution_count": null,
   "metadata": {},
   "outputs": [],
   "source": [
    "df[\"c_sixth_bad_coltype\"]"
   ]
  },
  {
   "cell_type": "code",
   "execution_count": null,
   "metadata": {},
   "outputs": [],
   "source": [
    "type(df[\"c_sixth_bad_coltype\"][0])"
   ]
  },
  {
   "cell_type": "code",
   "execution_count": null,
   "metadata": {},
   "outputs": [],
   "source": [
    "list(df.dtypes)"
   ]
  },
  {
   "cell_type": "code",
   "execution_count": null,
   "metadata": {},
   "outputs": [],
   "source": []
  }
 ],
 "metadata": {
  "kernelspec": {
   "display_name": ".venv",
   "language": "python",
   "name": "python3"
  },
  "language_info": {
   "codemirror_mode": {
    "name": "ipython",
    "version": 3
   },
   "file_extension": ".py",
   "mimetype": "text/x-python",
   "name": "python",
   "nbconvert_exporter": "python",
   "pygments_lexer": "ipython3",
   "version": "3.8.12"
  },
  "vscode": {
   "interpreter": {
    "hash": "a875e0dc97dd2951fe8b02ffd491226d1f9a0885d9ce603a879586ca268319d5"
   }
  }
 },
 "nbformat": 4,
 "nbformat_minor": 2
}
