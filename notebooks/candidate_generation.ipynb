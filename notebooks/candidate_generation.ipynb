{
 "cells": [
  {
   "cell_type": "code",
   "execution_count": 1,
   "id": "6f70d664",
   "metadata": {
    "scrolled": true
   },
   "outputs": [
    {
     "name": "stdout",
     "output_type": "stream",
     "text": [
      "The kedro.extras.extensions.ipython extension is already loaded. To reload it, use:\n",
      "  %reload_ext kedro.extras.extensions.ipython\n"
     ]
    }
   ],
   "source": [
    "%load_ext kedro.extras.extensions.ipython"
   ]
  },
  {
   "cell_type": "code",
   "execution_count": 2,
   "id": "9292b74b",
   "metadata": {},
   "outputs": [
    {
     "name": "stdout",
     "output_type": "stream",
     "text": [
      "2022-07-29 15:18:32,684 - kedro.framework.hooks.manager - INFO - Registered hooks from 1 installed plugin(s): kedro-mlflow-0.8.1\n",
      "2022-07-29 15:18:32,727 - kedro.framework.session.store - INFO - `read()` not implemented for `BaseSessionStore`. Assuming empty store.\n",
      "2022-07-29 15:18:33,224 - root - INFO - ** Kedro project GetInData ML Framework\n",
      "2022-07-29 15:18:33,225 - root - INFO - Defined global variable `context`, `session`, `catalog` and `pipelines`\n",
      "2022-07-29 15:18:33,234 - root - INFO - Registered line magic `run_viz`\n",
      "2022-07-29 15:18:33,234 - root - INFO - Registered line magic `reload_kedro_mlflow`\n"
     ]
    }
   ],
   "source": [
    "%reload_kedro"
   ]
  },
  {
   "cell_type": "code",
   "execution_count": 3,
   "id": "44b0eba7",
   "metadata": {},
   "outputs": [],
   "source": [
    "import pandas as pd\n",
    "import numpy as np"
   ]
  },
  {
   "cell_type": "code",
   "execution_count": 4,
   "id": "f57be39e",
   "metadata": {},
   "outputs": [],
   "source": [
    "pd.set_option('display.float_format', lambda x: '%.4f' % x)"
   ]
  },
  {
   "cell_type": "code",
   "execution_count": 5,
   "id": "99be5e6d",
   "metadata": {},
   "outputs": [
    {
     "data": {
      "text/plain": [
       "['articles',\n",
       " 'customers',\n",
       " 'transactions',\n",
       " 'customers_sample',\n",
       " 'transactions_sample',\n",
       " 'articles_sample',\n",
       " 'input_images',\n",
       " 'resized_images',\n",
       " 'image_embeddings',\n",
       " 'text_embeddings',\n",
       " 'candidates',\n",
       " 'parameters',\n",
       " 'params:image_embeddings_inference',\n",
       " 'params:image_embeddings_inference.run_id',\n",
       " 'params:image_embeddings_inference.image_path',\n",
       " 'params:image_embeddings_inference.batch_size',\n",
       " 'params:candidate_generation',\n",
       " 'params:candidate_generation.global_articles',\n",
       " 'params:candidate_generation.global_articles.n_days',\n",
       " 'params:candidate_generation.global_articles.top_n',\n",
       " 'params:candidate_generation.segment_articles',\n",
       " 'params:candidate_generation.segment_articles.no_segments',\n",
       " 'params:candidate_generation.segment_articles.n_days',\n",
       " 'params:candidate_generation.segment_articles.top_n',\n",
       " 'params:customers',\n",
       " 'params:transactions',\n",
       " 'params:articles',\n",
       " 'params:image_embeddings',\n",
       " 'params:image_embeddings.image_path',\n",
       " 'params:image_embeddings.encoder',\n",
       " 'params:image_embeddings.decoder',\n",
       " 'params:image_embeddings.batch_size',\n",
       " 'params:image_embeddings.image_size',\n",
       " 'params:image_embeddings.embedding_size',\n",
       " 'params:image_embeddings.num_epochs',\n",
       " 'params:image_embeddings.shuffle_reconstructions',\n",
       " 'params:image_embeddings.save_model',\n",
       " 'params:image_embeddings.model_name',\n",
       " 'params:image_embeddings.seed',\n",
       " 'params:image_resizer',\n",
       " 'params:image_resizer.output_size',\n",
       " 'params:image_resizer.method',\n",
       " 'params:sampling',\n",
       " 'params:sampling.cutoff_date',\n",
       " 'params:sampling.customers_sample_size',\n",
       " 'params:sampling.articles_sample_size',\n",
       " 'params:sampling.article_img_dir',\n",
       " 'params:sampling.article_img_sample_dir',\n",
       " 'params:text_embeddings',\n",
       " 'params:text_embeddings.transformer_model']"
      ]
     },
     "execution_count": 5,
     "metadata": {},
     "output_type": "execute_result"
    }
   ],
   "source": [
    "catalog.list()"
   ]
  },
  {
   "cell_type": "code",
   "execution_count": 44,
   "id": "cf81bcf6",
   "metadata": {},
   "outputs": [
    {
     "name": "stdout",
     "output_type": "stream",
     "text": [
      "2022-07-29 15:42:26,775 - kedro.io.data_catalog - INFO - Loading data from `transactions_sample` (CSVDataSet)...\n"
     ]
    }
   ],
   "source": [
    "transactions = context.catalog.load('transactions_sample')"
   ]
  },
  {
   "cell_type": "code",
   "execution_count": 45,
   "id": "b6c0eb71",
   "metadata": {},
   "outputs": [
    {
     "name": "stdout",
     "output_type": "stream",
     "text": [
      "2022-07-29 15:42:27,150 - kedro.io.data_catalog - INFO - Loading data from `customers_sample` (CSVDataSet)...\n"
     ]
    }
   ],
   "source": [
    "customers = context.catalog.load('customers_sample')"
   ]
  },
  {
   "cell_type": "code",
   "execution_count": 46,
   "id": "def921f5",
   "metadata": {},
   "outputs": [
    {
     "name": "stdout",
     "output_type": "stream",
     "text": [
      "2022-07-29 15:42:27,534 - kedro.io.data_catalog - INFO - Loading data from `articles_sample` (CSVDataSet)...\n"
     ]
    }
   ],
   "source": [
    "articles = context.catalog.load('articles_sample')"
   ]
  },
  {
   "cell_type": "code",
   "execution_count": 47,
   "id": "d0249256",
   "metadata": {},
   "outputs": [
    {
     "name": "stdout",
     "output_type": "stream",
     "text": [
      "2022-07-29 15:42:28,073 - kedro.io.data_catalog - INFO - Loading data from `candidates` (ParquetDataSet)...\n"
     ]
    }
   ],
   "source": [
    "candidates = context.catalog.load('candidates')"
   ]
  },
  {
   "cell_type": "code",
   "execution_count": 48,
   "id": "61886505",
   "metadata": {},
   "outputs": [
    {
     "data": {
      "text/plain": [
       "(137198, 5)"
      ]
     },
     "execution_count": 48,
     "metadata": {},
     "output_type": "execute_result"
    }
   ],
   "source": [
    "candidates.shape"
   ]
  },
  {
   "cell_type": "code",
   "execution_count": 50,
   "id": "65898995",
   "metadata": {},
   "outputs": [
    {
     "data": {
      "text/html": [
       "<div>\n",
       "<style scoped>\n",
       "    .dataframe tbody tr th:only-of-type {\n",
       "        vertical-align: middle;\n",
       "    }\n",
       "\n",
       "    .dataframe tbody tr th {\n",
       "        vertical-align: top;\n",
       "    }\n",
       "\n",
       "    .dataframe thead th {\n",
       "        text-align: right;\n",
       "    }\n",
       "</style>\n",
       "<table border=\"1\" class=\"dataframe\">\n",
       "  <thead>\n",
       "    <tr style=\"text-align: right;\">\n",
       "      <th></th>\n",
       "      <th>customer_id</th>\n",
       "      <th>global_articles</th>\n",
       "      <th>segment_articles</th>\n",
       "      <th>previously_bought</th>\n",
       "      <th>previously_bought_prod_name</th>\n",
       "    </tr>\n",
       "  </thead>\n",
       "  <tbody>\n",
       "    <tr>\n",
       "      <th>0</th>\n",
       "      <td>ff18c106287931d170618b59fd402ed0ecc292869aad5f...</td>\n",
       "      <td>0915526001</td>\n",
       "      <td>[0915526001, 0854193002, 0714790020, 081656300...</td>\n",
       "      <td>None</td>\n",
       "      <td>None</td>\n",
       "    </tr>\n",
       "    <tr>\n",
       "      <th>1</th>\n",
       "      <td>136601b1d1f36b13b9a4bbe185f164f24f522c5d476d09...</td>\n",
       "      <td>0854193002</td>\n",
       "      <td>[0915526001, 0854193002, 0714790020, 081656300...</td>\n",
       "      <td>None</td>\n",
       "      <td>None</td>\n",
       "    </tr>\n",
       "    <tr>\n",
       "      <th>2</th>\n",
       "      <td>247a3ee3fe8a153bbf14e41f18c8bb5ebc9d53fe83830d...</td>\n",
       "      <td>0714790020</td>\n",
       "      <td>[0915526001, 0851780001, 0714790020, 081711000...</td>\n",
       "      <td>None</td>\n",
       "      <td>None</td>\n",
       "    </tr>\n",
       "    <tr>\n",
       "      <th>3</th>\n",
       "      <td>d1e601dc9ea370b6dee95cbb983adf7fe5294386410be9...</td>\n",
       "      <td>0778745010</td>\n",
       "      <td>[0915526001, 0854193002, 0816563002, 071479002...</td>\n",
       "      <td>None</td>\n",
       "      <td>None</td>\n",
       "    </tr>\n",
       "    <tr>\n",
       "      <th>4</th>\n",
       "      <td>abc428504037054226353c4194380c7f16aff32b0633ac...</td>\n",
       "      <td>0822115004</td>\n",
       "      <td>[0915526001, 0854193002, 0816563002, 071479002...</td>\n",
       "      <td>None</td>\n",
       "      <td>None</td>\n",
       "    </tr>\n",
       "    <tr>\n",
       "      <th>...</th>\n",
       "      <td>...</td>\n",
       "      <td>...</td>\n",
       "      <td>...</td>\n",
       "      <td>...</td>\n",
       "      <td>...</td>\n",
       "    </tr>\n",
       "    <tr>\n",
       "      <th>137191</th>\n",
       "      <td>062be3be34073fa66d5cf0c3bea79c0216e0bd1a3733ef...</td>\n",
       "      <td>0832481001</td>\n",
       "      <td>[0915526001, 0854193002, 0714790020, 077874501...</td>\n",
       "      <td>None</td>\n",
       "      <td>None</td>\n",
       "    </tr>\n",
       "    <tr>\n",
       "      <th>137192</th>\n",
       "      <td>671925f22ea9e96c81a4cda602b2015149e20889b99cda...</td>\n",
       "      <td>0720125001</td>\n",
       "      <td>[0915526001, 0851780001, 0714790020, 081711000...</td>\n",
       "      <td>None</td>\n",
       "      <td>None</td>\n",
       "    </tr>\n",
       "    <tr>\n",
       "      <th>137194</th>\n",
       "      <td>c321175e12787427aa6d00985519c41650614b362e206f...</td>\n",
       "      <td>0803757019</td>\n",
       "      <td>[0915526001, 0854193002, 0714790020, 077874501...</td>\n",
       "      <td>None</td>\n",
       "      <td>None</td>\n",
       "    </tr>\n",
       "    <tr>\n",
       "      <th>137196</th>\n",
       "      <td>dc066cb0d1be0a395c472b1a31679fcd64035db1a42121...</td>\n",
       "      <td>0797988001</td>\n",
       "      <td>[0915526001, 0854193002, 0816563002, 071479002...</td>\n",
       "      <td>None</td>\n",
       "      <td>None</td>\n",
       "    </tr>\n",
       "    <tr>\n",
       "      <th>137197</th>\n",
       "      <td>4bb1952ea5ae562246737b4904e5db79ee65ec732f7c31...</td>\n",
       "      <td>0908081003</td>\n",
       "      <td>[0915526001, 0854193002, 0714790020, 077874501...</td>\n",
       "      <td>None</td>\n",
       "      <td>None</td>\n",
       "    </tr>\n",
       "  </tbody>\n",
       "</table>\n",
       "<p>88053 rows × 5 columns</p>\n",
       "</div>"
      ],
      "text/plain": [
       "                                              customer_id global_articles  \\\n",
       "0       ff18c106287931d170618b59fd402ed0ecc292869aad5f...      0915526001   \n",
       "1       136601b1d1f36b13b9a4bbe185f164f24f522c5d476d09...      0854193002   \n",
       "2       247a3ee3fe8a153bbf14e41f18c8bb5ebc9d53fe83830d...      0714790020   \n",
       "3       d1e601dc9ea370b6dee95cbb983adf7fe5294386410be9...      0778745010   \n",
       "4       abc428504037054226353c4194380c7f16aff32b0633ac...      0822115004   \n",
       "...                                                   ...             ...   \n",
       "137191  062be3be34073fa66d5cf0c3bea79c0216e0bd1a3733ef...      0832481001   \n",
       "137192  671925f22ea9e96c81a4cda602b2015149e20889b99cda...      0720125001   \n",
       "137194  c321175e12787427aa6d00985519c41650614b362e206f...      0803757019   \n",
       "137196  dc066cb0d1be0a395c472b1a31679fcd64035db1a42121...      0797988001   \n",
       "137197  4bb1952ea5ae562246737b4904e5db79ee65ec732f7c31...      0908081003   \n",
       "\n",
       "                                         segment_articles previously_bought  \\\n",
       "0       [0915526001, 0854193002, 0714790020, 081656300...              None   \n",
       "1       [0915526001, 0854193002, 0714790020, 081656300...              None   \n",
       "2       [0915526001, 0851780001, 0714790020, 081711000...              None   \n",
       "3       [0915526001, 0854193002, 0816563002, 071479002...              None   \n",
       "4       [0915526001, 0854193002, 0816563002, 071479002...              None   \n",
       "...                                                   ...               ...   \n",
       "137191  [0915526001, 0854193002, 0714790020, 077874501...              None   \n",
       "137192  [0915526001, 0851780001, 0714790020, 081711000...              None   \n",
       "137194  [0915526001, 0854193002, 0714790020, 077874501...              None   \n",
       "137196  [0915526001, 0854193002, 0816563002, 071479002...              None   \n",
       "137197  [0915526001, 0854193002, 0714790020, 077874501...              None   \n",
       "\n",
       "       previously_bought_prod_name  \n",
       "0                             None  \n",
       "1                             None  \n",
       "2                             None  \n",
       "3                             None  \n",
       "4                             None  \n",
       "...                            ...  \n",
       "137191                        None  \n",
       "137192                        None  \n",
       "137194                        None  \n",
       "137196                        None  \n",
       "137197                        None  \n",
       "\n",
       "[88053 rows x 5 columns]"
      ]
     },
     "execution_count": 50,
     "metadata": {},
     "output_type": "execute_result"
    }
   ],
   "source": [
    "candidates[candidates.isna().any(axis=1)]"
   ]
  },
  {
   "cell_type": "code",
   "execution_count": 52,
   "id": "57148748",
   "metadata": {},
   "outputs": [
    {
     "data": {
      "text/html": [
       "<div>\n",
       "<style scoped>\n",
       "    .dataframe tbody tr th:only-of-type {\n",
       "        vertical-align: middle;\n",
       "    }\n",
       "\n",
       "    .dataframe tbody tr th {\n",
       "        vertical-align: top;\n",
       "    }\n",
       "\n",
       "    .dataframe thead th {\n",
       "        text-align: right;\n",
       "    }\n",
       "</style>\n",
       "<table border=\"1\" class=\"dataframe\">\n",
       "  <thead>\n",
       "    <tr style=\"text-align: right;\">\n",
       "      <th></th>\n",
       "      <th>t_dat</th>\n",
       "      <th>customer_id</th>\n",
       "      <th>article_id</th>\n",
       "      <th>price</th>\n",
       "      <th>sales_channel_id</th>\n",
       "    </tr>\n",
       "  </thead>\n",
       "  <tbody>\n",
       "  </tbody>\n",
       "</table>\n",
       "</div>"
      ],
      "text/plain": [
       "Empty DataFrame\n",
       "Columns: [t_dat, customer_id, article_id, price, sales_channel_id]\n",
       "Index: []"
      ]
     },
     "execution_count": 52,
     "metadata": {},
     "output_type": "execute_result"
    }
   ],
   "source": [
    "transactions[transactions.customer_id.isin(['ff18c106287931d170618b59fd402ed0ecc292869aad5f'])]"
   ]
  },
  {
   "cell_type": "code",
   "execution_count": 55,
   "id": "93985b4c",
   "metadata": {
    "scrolled": true
   },
   "outputs": [
    {
     "data": {
      "text/html": [
       "<div>\n",
       "<style scoped>\n",
       "    .dataframe tbody tr th:only-of-type {\n",
       "        vertical-align: middle;\n",
       "    }\n",
       "\n",
       "    .dataframe tbody tr th {\n",
       "        vertical-align: top;\n",
       "    }\n",
       "\n",
       "    .dataframe thead th {\n",
       "        text-align: right;\n",
       "    }\n",
       "</style>\n",
       "<table border=\"1\" class=\"dataframe\">\n",
       "  <thead>\n",
       "    <tr style=\"text-align: right;\">\n",
       "      <th></th>\n",
       "      <th>t_dat</th>\n",
       "      <th>customer_id</th>\n",
       "      <th>article_id</th>\n",
       "      <th>price</th>\n",
       "      <th>sales_channel_id</th>\n",
       "    </tr>\n",
       "  </thead>\n",
       "  <tbody>\n",
       "  </tbody>\n",
       "</table>\n",
       "</div>"
      ],
      "text/plain": [
       "Empty DataFrame\n",
       "Columns: [t_dat, customer_id, article_id, price, sales_channel_id]\n",
       "Index: []"
      ]
     },
     "execution_count": 55,
     "metadata": {},
     "output_type": "execute_result"
    }
   ],
   "source": [
    "transactions[transactions.customer_id.isin(candidates[candidates.isna().any(axis=1)].customer_id.to_list())]"
   ]
  },
  {
   "cell_type": "code",
   "execution_count": 56,
   "id": "42e40035",
   "metadata": {
    "scrolled": true
   },
   "outputs": [
    {
     "data": {
      "text/plain": [
       "(157785, 5)"
      ]
     },
     "execution_count": 56,
     "metadata": {},
     "output_type": "execute_result"
    }
   ],
   "source": [
    "transactions[~(transactions.customer_id.isin(candidates[candidates.isna().any(axis=1)].customer_id.to_list()))].shape"
   ]
  },
  {
   "cell_type": "code",
   "execution_count": 57,
   "id": "c6488df6",
   "metadata": {},
   "outputs": [
    {
     "data": {
      "text/plain": [
       "((157785, 5), (137198, 7), (21108, 25))"
      ]
     },
     "execution_count": 57,
     "metadata": {},
     "output_type": "execute_result"
    }
   ],
   "source": [
    "transactions.shape, customers.shape, articles.shape"
   ]
  },
  {
   "cell_type": "code",
   "execution_count": 13,
   "id": "e6941a7f",
   "metadata": {},
   "outputs": [],
   "source": [
    "my_dict = {'01': {'0101', '02020', '03030'}, '02': {'02032', '32131', '321321', '32131321'}}"
   ]
  },
  {
   "cell_type": "code",
   "execution_count": 14,
   "id": "e9c08349",
   "metadata": {},
   "outputs": [
    {
     "data": {
      "text/plain": [
       "{'01': {'0101', '02020', '03030'},\n",
       " '02': {'02032', '32131', '32131321', '321321'}}"
      ]
     },
     "execution_count": 14,
     "metadata": {},
     "output_type": "execute_result"
    }
   ],
   "source": [
    "my_dict"
   ]
  },
  {
   "cell_type": "code",
   "execution_count": 31,
   "id": "63cd6c3d",
   "metadata": {},
   "outputs": [],
   "source": [
    "my_df = pd.DataFrame(my_dict.keys(), columns=['blasda'])"
   ]
  },
  {
   "cell_type": "code",
   "execution_count": 32,
   "id": "e0b64440",
   "metadata": {},
   "outputs": [
    {
     "data": {
      "text/html": [
       "<div>\n",
       "<style scoped>\n",
       "    .dataframe tbody tr th:only-of-type {\n",
       "        vertical-align: middle;\n",
       "    }\n",
       "\n",
       "    .dataframe tbody tr th {\n",
       "        vertical-align: top;\n",
       "    }\n",
       "\n",
       "    .dataframe thead th {\n",
       "        text-align: right;\n",
       "    }\n",
       "</style>\n",
       "<table border=\"1\" class=\"dataframe\">\n",
       "  <thead>\n",
       "    <tr style=\"text-align: right;\">\n",
       "      <th></th>\n",
       "      <th>blasda</th>\n",
       "    </tr>\n",
       "  </thead>\n",
       "  <tbody>\n",
       "    <tr>\n",
       "      <th>0</th>\n",
       "      <td>01</td>\n",
       "    </tr>\n",
       "    <tr>\n",
       "      <th>1</th>\n",
       "      <td>02</td>\n",
       "    </tr>\n",
       "  </tbody>\n",
       "</table>\n",
       "</div>"
      ],
      "text/plain": [
       "  blasda\n",
       "0     01\n",
       "1     02"
      ]
     },
     "execution_count": 32,
     "metadata": {},
     "output_type": "execute_result"
    }
   ],
   "source": [
    "my_df"
   ]
  },
  {
   "cell_type": "code",
   "execution_count": 33,
   "id": "93c6e334",
   "metadata": {},
   "outputs": [],
   "source": [
    "my_df['blabla'] = my_df.loc[:, 'blasda'].map(my_dict)"
   ]
  },
  {
   "cell_type": "code",
   "execution_count": 34,
   "id": "8d3b80a9",
   "metadata": {},
   "outputs": [
    {
     "data": {
      "text/html": [
       "<div>\n",
       "<style scoped>\n",
       "    .dataframe tbody tr th:only-of-type {\n",
       "        vertical-align: middle;\n",
       "    }\n",
       "\n",
       "    .dataframe tbody tr th {\n",
       "        vertical-align: top;\n",
       "    }\n",
       "\n",
       "    .dataframe thead th {\n",
       "        text-align: right;\n",
       "    }\n",
       "</style>\n",
       "<table border=\"1\" class=\"dataframe\">\n",
       "  <thead>\n",
       "    <tr style=\"text-align: right;\">\n",
       "      <th></th>\n",
       "      <th>blasda</th>\n",
       "      <th>blabla</th>\n",
       "    </tr>\n",
       "  </thead>\n",
       "  <tbody>\n",
       "    <tr>\n",
       "      <th>0</th>\n",
       "      <td>01</td>\n",
       "      <td>{02020, 0101, 03030}</td>\n",
       "    </tr>\n",
       "    <tr>\n",
       "      <th>1</th>\n",
       "      <td>02</td>\n",
       "      <td>{32131, 32131321, 02032, 321321}</td>\n",
       "    </tr>\n",
       "  </tbody>\n",
       "</table>\n",
       "</div>"
      ],
      "text/plain": [
       "  blasda                            blabla\n",
       "0     01              {02020, 0101, 03030}\n",
       "1     02  {32131, 32131321, 02032, 321321}"
      ]
     },
     "execution_count": 34,
     "metadata": {},
     "output_type": "execute_result"
    }
   ],
   "source": [
    "my_df"
   ]
  },
  {
   "cell_type": "code",
   "execution_count": 15,
   "id": "86c86360",
   "metadata": {},
   "outputs": [
    {
     "data": {
      "text/html": [
       "<div>\n",
       "<style scoped>\n",
       "    .dataframe tbody tr th:only-of-type {\n",
       "        vertical-align: middle;\n",
       "    }\n",
       "\n",
       "    .dataframe tbody tr th {\n",
       "        vertical-align: top;\n",
       "    }\n",
       "\n",
       "    .dataframe thead th {\n",
       "        text-align: right;\n",
       "    }\n",
       "</style>\n",
       "<table border=\"1\" class=\"dataframe\">\n",
       "  <thead>\n",
       "    <tr style=\"text-align: right;\">\n",
       "      <th></th>\n",
       "      <th>0</th>\n",
       "      <th>1</th>\n",
       "      <th>2</th>\n",
       "      <th>3</th>\n",
       "    </tr>\n",
       "  </thead>\n",
       "  <tbody>\n",
       "    <tr>\n",
       "      <th>01</th>\n",
       "      <td>02020</td>\n",
       "      <td>0101</td>\n",
       "      <td>03030</td>\n",
       "      <td>None</td>\n",
       "    </tr>\n",
       "    <tr>\n",
       "      <th>02</th>\n",
       "      <td>32131</td>\n",
       "      <td>32131321</td>\n",
       "      <td>02032</td>\n",
       "      <td>321321</td>\n",
       "    </tr>\n",
       "  </tbody>\n",
       "</table>\n",
       "</div>"
      ],
      "text/plain": [
       "        0         1      2       3\n",
       "01  02020      0101  03030    None\n",
       "02  32131  32131321  02032  321321"
      ]
     },
     "execution_count": 15,
     "metadata": {},
     "output_type": "execute_result"
    }
   ],
   "source": [
    "pd.DataFrame.from_dict(my_dict, orient='index')"
   ]
  },
  {
   "cell_type": "markdown",
   "id": "84a5ef53",
   "metadata": {},
   "source": [
    "### Popularity items"
   ]
  },
  {
   "cell_type": "markdown",
   "id": "6a39f40b",
   "metadata": {},
   "source": [
    "- recent popular items (1, 3, 7, 30, 90 days), most popular products (overall)\n",
    "- products purchased previously (all)\n",
    "- popular items by SEGMENTS (age, gender) (1, 3, 7, 30, 90 days)\n",
    "- items which have the same `prod_name`\n",
    "<br><br>\n",
    "- IMAGE/TEXT EMBEDDINGS\n",
    "- BASKET MARKET ANALYSIS\n",
    "<br><br>\n",
    "- just choose the `N` that maximizes recall for EACH METHOD"
   ]
  },
  {
   "cell_type": "code",
   "execution_count": 10,
   "id": "96850709",
   "metadata": {},
   "outputs": [],
   "source": [
    "transactions.t_dat = pd.to_datetime(transactions.t_dat)"
   ]
  },
  {
   "cell_type": "code",
   "execution_count": 11,
   "id": "a74a3782",
   "metadata": {},
   "outputs": [
    {
     "data": {
      "text/plain": [
       "min    2020-04-01 00:00:00\n",
       "max    2020-09-22 00:00:00\n",
       "Name: t_dat, dtype: object"
      ]
     },
     "execution_count": 11,
     "metadata": {},
     "output_type": "execute_result"
    }
   ],
   "source": [
    "transactions.t_dat.describe(datetime_is_numeric=True)[['min', 'max']]"
   ]
  },
  {
   "cell_type": "code",
   "execution_count": 12,
   "id": "a57a6aba",
   "metadata": {},
   "outputs": [
    {
     "data": {
      "text/html": [
       "<div>\n",
       "<style scoped>\n",
       "    .dataframe tbody tr th:only-of-type {\n",
       "        vertical-align: middle;\n",
       "    }\n",
       "\n",
       "    .dataframe tbody tr th {\n",
       "        vertical-align: top;\n",
       "    }\n",
       "\n",
       "    .dataframe thead th {\n",
       "        text-align: right;\n",
       "    }\n",
       "</style>\n",
       "<table border=\"1\" class=\"dataframe\">\n",
       "  <thead>\n",
       "    <tr style=\"text-align: right;\">\n",
       "      <th></th>\n",
       "      <th>t_dat</th>\n",
       "      <th>customer_id</th>\n",
       "      <th>article_id</th>\n",
       "      <th>price</th>\n",
       "      <th>sales_channel_id</th>\n",
       "    </tr>\n",
       "  </thead>\n",
       "  <tbody>\n",
       "    <tr>\n",
       "      <th>0</th>\n",
       "      <td>2020-04-01</td>\n",
       "      <td>0090852ad6a446ccf02a7d57ec7385c360ab33a813b870...</td>\n",
       "      <td>0817352006</td>\n",
       "      <td>0.0508</td>\n",
       "      <td>2</td>\n",
       "    </tr>\n",
       "    <tr>\n",
       "      <th>1</th>\n",
       "      <td>2020-04-01</td>\n",
       "      <td>02001d047023157327d7a41fbcb9227dfe589ddccfab3c...</td>\n",
       "      <td>0795790001</td>\n",
       "      <td>0.0339</td>\n",
       "      <td>2</td>\n",
       "    </tr>\n",
       "    <tr>\n",
       "      <th>2</th>\n",
       "      <td>2020-04-01</td>\n",
       "      <td>02001d047023157327d7a41fbcb9227dfe589ddccfab3c...</td>\n",
       "      <td>0756347001</td>\n",
       "      <td>0.0305</td>\n",
       "      <td>2</td>\n",
       "    </tr>\n",
       "    <tr>\n",
       "      <th>3</th>\n",
       "      <td>2020-04-01</td>\n",
       "      <td>021950aab71ee5b077953803dfa182e04996f69baad474...</td>\n",
       "      <td>0351484002</td>\n",
       "      <td>0.0220</td>\n",
       "      <td>2</td>\n",
       "    </tr>\n",
       "    <tr>\n",
       "      <th>4</th>\n",
       "      <td>2020-04-01</td>\n",
       "      <td>026a83da294520e421e709d14b3bcc1da4025bd006d820...</td>\n",
       "      <td>0825318005</td>\n",
       "      <td>0.0163</td>\n",
       "      <td>2</td>\n",
       "    </tr>\n",
       "  </tbody>\n",
       "</table>\n",
       "</div>"
      ],
      "text/plain": [
       "       t_dat                                        customer_id  article_id  \\\n",
       "0 2020-04-01  0090852ad6a446ccf02a7d57ec7385c360ab33a813b870...  0817352006   \n",
       "1 2020-04-01  02001d047023157327d7a41fbcb9227dfe589ddccfab3c...  0795790001   \n",
       "2 2020-04-01  02001d047023157327d7a41fbcb9227dfe589ddccfab3c...  0756347001   \n",
       "3 2020-04-01  021950aab71ee5b077953803dfa182e04996f69baad474...  0351484002   \n",
       "4 2020-04-01  026a83da294520e421e709d14b3bcc1da4025bd006d820...  0825318005   \n",
       "\n",
       "   price  sales_channel_id  \n",
       "0 0.0508                 2  \n",
       "1 0.0339                 2  \n",
       "2 0.0305                 2  \n",
       "3 0.0220                 2  \n",
       "4 0.0163                 2  "
      ]
     },
     "execution_count": 12,
     "metadata": {},
     "output_type": "execute_result"
    }
   ],
   "source": [
    "transactions.head()"
   ]
  },
  {
   "cell_type": "markdown",
   "id": "d2de387b",
   "metadata": {},
   "source": [
    "## global articles"
   ]
  },
  {
   "cell_type": "code",
   "execution_count": 13,
   "id": "fd3a8a33",
   "metadata": {},
   "outputs": [],
   "source": [
    "articles_bought_by_most_customers = (transactions\n",
    "    .groupby(['article_id'])['customer_id']\n",
    "    .nunique()\n",
    "    .reset_index(name='cd_customer_id')\n",
    "    .sort_values(by='cd_customer_id', ascending=False)\n",
    ")"
   ]
  },
  {
   "cell_type": "code",
   "execution_count": 14,
   "id": "8164f14b",
   "metadata": {},
   "outputs": [
    {
     "data": {
      "text/plain": [
       "['0599580038',\n",
       " '0720125001',\n",
       " '0599580052',\n",
       " '0714790020',\n",
       " '0684209013',\n",
       " '0827968001',\n",
       " '0776237020',\n",
       " '0759871001',\n",
       " '0351484002',\n",
       " '0880839001',\n",
       " '0817353008',\n",
       " '0833530002',\n",
       " '0717490010',\n",
       " '0554598003',\n",
       " '0879248001',\n",
       " '0778064003',\n",
       " '0698276009',\n",
       " '0832361001',\n",
       " '0832473001',\n",
       " '0863937003',\n",
       " '0853881001',\n",
       " '0832453002',\n",
       " '0706016015',\n",
       " '0841434003',\n",
       " '0915526001',\n",
       " '0852174001',\n",
       " '0759871004',\n",
       " '0783346016',\n",
       " '0399256005',\n",
       " '0768912001',\n",
       " '0720125041',\n",
       " '0832481002',\n",
       " '0860949002',\n",
       " '0816423002',\n",
       " '0600886011',\n",
       " '0748355002',\n",
       " '0783346020',\n",
       " '0817401002',\n",
       " '0860819001',\n",
       " '0882888002',\n",
       " '0816563002',\n",
       " '0832330002',\n",
       " '0759469001',\n",
       " '0857570001',\n",
       " '0824352001',\n",
       " '0850244003',\n",
       " '0821163003',\n",
       " '0832362002',\n",
       " '0700701001',\n",
       " '0636323001',\n",
       " '0688537026',\n",
       " '0751471043',\n",
       " '0685813001',\n",
       " '0811835001',\n",
       " '0810557003',\n",
       " '0816166001',\n",
       " '0571706001',\n",
       " '0212629048',\n",
       " '0759814009',\n",
       " '0852775002',\n",
       " '0858052006',\n",
       " '0865171002',\n",
       " '0803757001',\n",
       " '0811907006',\n",
       " '0817477001',\n",
       " '0817166001',\n",
       " '0832361003',\n",
       " '0860949001',\n",
       " '0843793004',\n",
       " '0817110001',\n",
       " '0757303012',\n",
       " '0832481001',\n",
       " '0863565001',\n",
       " '0821163008',\n",
       " '0212629004',\n",
       " '0841260007',\n",
       " '0855793001',\n",
       " '0783346023',\n",
       " '0621381012',\n",
       " '0716672003',\n",
       " '0714790021',\n",
       " '0901607003',\n",
       " '0811777007',\n",
       " '0854193002',\n",
       " '0832298006',\n",
       " '0852775004',\n",
       " '0811907003',\n",
       " '0599580047',\n",
       " '0554479001',\n",
       " '0153115020',\n",
       " '0858052001',\n",
       " '0757995009',\n",
       " '0832331002',\n",
       " '0863565004',\n",
       " '0572998001',\n",
       " '0832481005',\n",
       " '0835008005',\n",
       " '0850244001',\n",
       " '0821336004',\n",
       " '0842607001',\n",
       " '0636323002',\n",
       " '0854683001',\n",
       " '0812658001',\n",
       " '0808628002',\n",
       " '0624486076',\n",
       " '0885710002',\n",
       " '0658298007',\n",
       " '0832465007',\n",
       " '0817069001',\n",
       " '0895002004',\n",
       " '0811783002',\n",
       " '0816521005',\n",
       " '0808028001',\n",
       " '0823118004',\n",
       " '0843685002',\n",
       " '0855200007',\n",
       " '0878013004',\n",
       " '0810838011',\n",
       " '0700701002',\n",
       " '0820484003',\n",
       " '0844160002',\n",
       " '0536139006',\n",
       " '0867044001',\n",
       " '0901955001',\n",
       " '0855706004',\n",
       " '0621381001',\n",
       " '0797078010',\n",
       " '0687704022',\n",
       " '0816588001',\n",
       " '0805510026',\n",
       " '0758002011',\n",
       " '0810557002',\n",
       " '0816841004',\n",
       " '0832359006',\n",
       " '0884319001',\n",
       " '0715624010',\n",
       " '0843685001',\n",
       " '0845790003',\n",
       " '0685811001',\n",
       " '0811783001',\n",
       " '0762143001',\n",
       " '0817110002',\n",
       " '0624486069',\n",
       " '0721990006',\n",
       " '0868762003',\n",
       " '0811835009',\n",
       " '0792469001',\n",
       " '0816563003',\n",
       " '0870304001',\n",
       " '0599580074',\n",
       " '0845032001',\n",
       " '0842952001',\n",
       " '0841228002',\n",
       " '0800389001',\n",
       " '0854677004',\n",
       " '0868018002',\n",
       " '0800691009',\n",
       " '0841260013',\n",
       " '0832527002',\n",
       " '0854193004',\n",
       " '0562245100',\n",
       " '0552716001',\n",
       " '0868164002',\n",
       " '0852374005',\n",
       " '0868018001',\n",
       " '0470789001',\n",
       " '0857277001',\n",
       " '0690936013',\n",
       " '0804992001',\n",
       " '0840607001',\n",
       " '0850241001',\n",
       " '0516859008',\n",
       " '0880839002',\n",
       " '0490176004',\n",
       " '0878794002',\n",
       " '0847673001',\n",
       " '0809549001',\n",
       " '0832036005',\n",
       " '0879781004',\n",
       " '0767799003',\n",
       " '0768921001',\n",
       " '0827968003',\n",
       " '0812464001',\n",
       " '0913030001',\n",
       " '0921226001',\n",
       " '0832473004',\n",
       " '0852498001',\n",
       " '0832475002',\n",
       " '0753737015',\n",
       " '0768759006',\n",
       " '0826508002',\n",
       " '0797078011',\n",
       " '0855706001',\n",
       " '0827687001',\n",
       " '0600886022',\n",
       " '0874320001',\n",
       " '0746994001',\n",
       " '0456163086',\n",
       " '0832479003',\n",
       " '0865921001']"
      ]
     },
     "execution_count": 14,
     "metadata": {},
     "output_type": "execute_result"
    }
   ],
   "source": [
    "articles_bought_by_most_customers.head(200).article_id.to_list()"
   ]
  },
  {
   "cell_type": "code",
   "execution_count": 15,
   "id": "96b5dcbe",
   "metadata": {},
   "outputs": [],
   "source": [
    "articles_sold_most = (transactions\n",
    "    .groupby(['article_id'])['customer_id']\n",
    "    .size()\n",
    "    .reset_index(name='sales_sum_count')\n",
    "    .sort_values(by='sales_sum_count', ascending=False)\n",
    ")"
   ]
  },
  {
   "cell_type": "code",
   "execution_count": 16,
   "id": "479665fb",
   "metadata": {},
   "outputs": [
    {
     "data": {
      "text/html": [
       "<div>\n",
       "<style scoped>\n",
       "    .dataframe tbody tr th:only-of-type {\n",
       "        vertical-align: middle;\n",
       "    }\n",
       "\n",
       "    .dataframe tbody tr th {\n",
       "        vertical-align: top;\n",
       "    }\n",
       "\n",
       "    .dataframe thead th {\n",
       "        text-align: right;\n",
       "    }\n",
       "</style>\n",
       "<table border=\"1\" class=\"dataframe\">\n",
       "  <thead>\n",
       "    <tr style=\"text-align: right;\">\n",
       "      <th></th>\n",
       "      <th>article_id</th>\n",
       "      <th>sales_sum_count</th>\n",
       "    </tr>\n",
       "  </thead>\n",
       "  <tbody>\n",
       "    <tr>\n",
       "      <th>576</th>\n",
       "      <td>0599580038</td>\n",
       "      <td>874</td>\n",
       "    </tr>\n",
       "    <tr>\n",
       "      <th>1578</th>\n",
       "      <td>0714790020</td>\n",
       "      <td>665</td>\n",
       "    </tr>\n",
       "    <tr>\n",
       "      <th>578</th>\n",
       "      <td>0599580052</td>\n",
       "      <td>658</td>\n",
       "    </tr>\n",
       "    <tr>\n",
       "      <th>1671</th>\n",
       "      <td>0720125001</td>\n",
       "      <td>619</td>\n",
       "    </tr>\n",
       "    <tr>\n",
       "      <th>1134</th>\n",
       "      <td>0684209013</td>\n",
       "      <td>613</td>\n",
       "    </tr>\n",
       "  </tbody>\n",
       "</table>\n",
       "</div>"
      ],
      "text/plain": [
       "      article_id  sales_sum_count\n",
       "576   0599580038              874\n",
       "1578  0714790020              665\n",
       "578   0599580052              658\n",
       "1671  0720125001              619\n",
       "1134  0684209013              613"
      ]
     },
     "execution_count": 16,
     "metadata": {},
     "output_type": "execute_result"
    }
   ],
   "source": [
    "articles_sold_most.head()"
   ]
  },
  {
   "cell_type": "markdown",
   "id": "8b1fa623",
   "metadata": {},
   "source": [
    "### trending articles (nope)"
   ]
  },
  {
   "cell_type": "markdown",
   "id": "c07e7742",
   "metadata": {},
   "source": [
    "Trending articles seem to much engineered by hand, you can just take popularity items from last 7 days. I suspect result will be comparable"
   ]
  },
  {
   "cell_type": "code",
   "execution_count": 92,
   "id": "867c309b",
   "metadata": {},
   "outputs": [],
   "source": [
    "tmp = transactions[['t_dat']].copy()"
   ]
  },
  {
   "cell_type": "code",
   "execution_count": 100,
   "id": "57ffbc02",
   "metadata": {},
   "outputs": [],
   "source": [
    "tmp['day_of_week'] = tmp['t_dat'].dt.dayofweek"
   ]
  },
  {
   "cell_type": "code",
   "execution_count": 101,
   "id": "8e12d970",
   "metadata": {},
   "outputs": [],
   "source": [
    "tmp['ldbw'] = tmp['t_dat'] - pd.TimedeltaIndex(tmp['day_of_week'] - 1, unit='D')"
   ]
  },
  {
   "cell_type": "code",
   "execution_count": 102,
   "id": "8a65c8d1",
   "metadata": {},
   "outputs": [],
   "source": [
    "tmp.loc[tmp['day_of_week'] >=2 , 'ldbw'] = tmp.loc[tmp['day_of_week'] >=2 , 'ldbw'] + pd.TimedeltaIndex(np.ones(len(tmp.loc[tmp['day_of_week'] >=2])) * 7, unit='D')"
   ]
  },
  {
   "cell_type": "markdown",
   "id": "4be856e0",
   "metadata": {},
   "source": [
    "ldbw - next nearest last day (in our case thursday) or current"
   ]
  },
  {
   "cell_type": "markdown",
   "id": "7a0af2ca",
   "metadata": {},
   "source": [
    "## segment articles"
   ]
  },
  {
   "cell_type": "code",
   "execution_count": 17,
   "id": "7934f217",
   "metadata": {},
   "outputs": [
    {
     "data": {
      "text/html": [
       "<div>\n",
       "<style scoped>\n",
       "    .dataframe tbody tr th:only-of-type {\n",
       "        vertical-align: middle;\n",
       "    }\n",
       "\n",
       "    .dataframe tbody tr th {\n",
       "        vertical-align: top;\n",
       "    }\n",
       "\n",
       "    .dataframe thead th {\n",
       "        text-align: right;\n",
       "    }\n",
       "</style>\n",
       "<table border=\"1\" class=\"dataframe\">\n",
       "  <thead>\n",
       "    <tr style=\"text-align: right;\">\n",
       "      <th></th>\n",
       "      <th>t_dat</th>\n",
       "      <th>customer_id</th>\n",
       "      <th>article_id</th>\n",
       "      <th>price</th>\n",
       "      <th>sales_channel_id</th>\n",
       "    </tr>\n",
       "  </thead>\n",
       "  <tbody>\n",
       "    <tr>\n",
       "      <th>0</th>\n",
       "      <td>2020-04-01</td>\n",
       "      <td>0090852ad6a446ccf02a7d57ec7385c360ab33a813b870...</td>\n",
       "      <td>0817352006</td>\n",
       "      <td>0.0508</td>\n",
       "      <td>2</td>\n",
       "    </tr>\n",
       "    <tr>\n",
       "      <th>1</th>\n",
       "      <td>2020-04-01</td>\n",
       "      <td>02001d047023157327d7a41fbcb9227dfe589ddccfab3c...</td>\n",
       "      <td>0795790001</td>\n",
       "      <td>0.0339</td>\n",
       "      <td>2</td>\n",
       "    </tr>\n",
       "    <tr>\n",
       "      <th>2</th>\n",
       "      <td>2020-04-01</td>\n",
       "      <td>02001d047023157327d7a41fbcb9227dfe589ddccfab3c...</td>\n",
       "      <td>0756347001</td>\n",
       "      <td>0.0305</td>\n",
       "      <td>2</td>\n",
       "    </tr>\n",
       "    <tr>\n",
       "      <th>3</th>\n",
       "      <td>2020-04-01</td>\n",
       "      <td>021950aab71ee5b077953803dfa182e04996f69baad474...</td>\n",
       "      <td>0351484002</td>\n",
       "      <td>0.0220</td>\n",
       "      <td>2</td>\n",
       "    </tr>\n",
       "    <tr>\n",
       "      <th>4</th>\n",
       "      <td>2020-04-01</td>\n",
       "      <td>026a83da294520e421e709d14b3bcc1da4025bd006d820...</td>\n",
       "      <td>0825318005</td>\n",
       "      <td>0.0163</td>\n",
       "      <td>2</td>\n",
       "    </tr>\n",
       "  </tbody>\n",
       "</table>\n",
       "</div>"
      ],
      "text/plain": [
       "       t_dat                                        customer_id  article_id  \\\n",
       "0 2020-04-01  0090852ad6a446ccf02a7d57ec7385c360ab33a813b870...  0817352006   \n",
       "1 2020-04-01  02001d047023157327d7a41fbcb9227dfe589ddccfab3c...  0795790001   \n",
       "2 2020-04-01  02001d047023157327d7a41fbcb9227dfe589ddccfab3c...  0756347001   \n",
       "3 2020-04-01  021950aab71ee5b077953803dfa182e04996f69baad474...  0351484002   \n",
       "4 2020-04-01  026a83da294520e421e709d14b3bcc1da4025bd006d820...  0825318005   \n",
       "\n",
       "   price  sales_channel_id  \n",
       "0 0.0508                 2  \n",
       "1 0.0339                 2  \n",
       "2 0.0305                 2  \n",
       "3 0.0220                 2  \n",
       "4 0.0163                 2  "
      ]
     },
     "execution_count": 17,
     "metadata": {},
     "output_type": "execute_result"
    }
   ],
   "source": [
    "transactions.head()"
   ]
  },
  {
   "cell_type": "code",
   "execution_count": 18,
   "id": "cfae6f7d",
   "metadata": {},
   "outputs": [
    {
     "data": {
      "text/html": [
       "<div>\n",
       "<style scoped>\n",
       "    .dataframe tbody tr th:only-of-type {\n",
       "        vertical-align: middle;\n",
       "    }\n",
       "\n",
       "    .dataframe tbody tr th {\n",
       "        vertical-align: top;\n",
       "    }\n",
       "\n",
       "    .dataframe thead th {\n",
       "        text-align: right;\n",
       "    }\n",
       "</style>\n",
       "<table border=\"1\" class=\"dataframe\">\n",
       "  <thead>\n",
       "    <tr style=\"text-align: right;\">\n",
       "      <th></th>\n",
       "      <th>customer_id</th>\n",
       "      <th>FN</th>\n",
       "      <th>Active</th>\n",
       "      <th>club_member_status</th>\n",
       "      <th>fashion_news_frequency</th>\n",
       "      <th>age</th>\n",
       "      <th>postal_code</th>\n",
       "    </tr>\n",
       "  </thead>\n",
       "  <tbody>\n",
       "    <tr>\n",
       "      <th>0</th>\n",
       "      <td>ff18c106287931d170618b59fd402ed0ecc292869aad5f...</td>\n",
       "      <td>NaN</td>\n",
       "      <td>NaN</td>\n",
       "      <td>ACTIVE</td>\n",
       "      <td>NONE</td>\n",
       "      <td>31.0000</td>\n",
       "      <td>926144af52424f28ab3fb56d84d77b3c81ecadf337126f...</td>\n",
       "    </tr>\n",
       "    <tr>\n",
       "      <th>1</th>\n",
       "      <td>136601b1d1f36b13b9a4bbe185f164f24f522c5d476d09...</td>\n",
       "      <td>1.0000</td>\n",
       "      <td>1.0000</td>\n",
       "      <td>ACTIVE</td>\n",
       "      <td>Regularly</td>\n",
       "      <td>51.0000</td>\n",
       "      <td>3c22277b09bfb33d55eae1cf76a6a7084b03082fc10ed4...</td>\n",
       "    </tr>\n",
       "    <tr>\n",
       "      <th>2</th>\n",
       "      <td>247a3ee3fe8a153bbf14e41f18c8bb5ebc9d53fe83830d...</td>\n",
       "      <td>NaN</td>\n",
       "      <td>NaN</td>\n",
       "      <td>PRE-CREATE</td>\n",
       "      <td>NONE</td>\n",
       "      <td>69.0000</td>\n",
       "      <td>7c5c76766ed0879c1f95a0f922a19cd3458bf642014dba...</td>\n",
       "    </tr>\n",
       "    <tr>\n",
       "      <th>3</th>\n",
       "      <td>d1e601dc9ea370b6dee95cbb983adf7fe5294386410be9...</td>\n",
       "      <td>NaN</td>\n",
       "      <td>NaN</td>\n",
       "      <td>ACTIVE</td>\n",
       "      <td>NONE</td>\n",
       "      <td>24.0000</td>\n",
       "      <td>39b66dcc48ef29464261279d3e7d911a67867632b851f2...</td>\n",
       "    </tr>\n",
       "    <tr>\n",
       "      <th>4</th>\n",
       "      <td>abc428504037054226353c4194380c7f16aff32b0633ac...</td>\n",
       "      <td>NaN</td>\n",
       "      <td>NaN</td>\n",
       "      <td>ACTIVE</td>\n",
       "      <td>NONE</td>\n",
       "      <td>28.0000</td>\n",
       "      <td>4fd351ec2879e063a3b2d3f61c86d09311acfab1b2b9de...</td>\n",
       "    </tr>\n",
       "  </tbody>\n",
       "</table>\n",
       "</div>"
      ],
      "text/plain": [
       "                                         customer_id     FN  Active  \\\n",
       "0  ff18c106287931d170618b59fd402ed0ecc292869aad5f...    NaN     NaN   \n",
       "1  136601b1d1f36b13b9a4bbe185f164f24f522c5d476d09... 1.0000  1.0000   \n",
       "2  247a3ee3fe8a153bbf14e41f18c8bb5ebc9d53fe83830d...    NaN     NaN   \n",
       "3  d1e601dc9ea370b6dee95cbb983adf7fe5294386410be9...    NaN     NaN   \n",
       "4  abc428504037054226353c4194380c7f16aff32b0633ac...    NaN     NaN   \n",
       "\n",
       "  club_member_status fashion_news_frequency     age  \\\n",
       "0             ACTIVE                   NONE 31.0000   \n",
       "1             ACTIVE              Regularly 51.0000   \n",
       "2         PRE-CREATE                   NONE 69.0000   \n",
       "3             ACTIVE                   NONE 24.0000   \n",
       "4             ACTIVE                   NONE 28.0000   \n",
       "\n",
       "                                         postal_code  \n",
       "0  926144af52424f28ab3fb56d84d77b3c81ecadf337126f...  \n",
       "1  3c22277b09bfb33d55eae1cf76a6a7084b03082fc10ed4...  \n",
       "2  7c5c76766ed0879c1f95a0f922a19cd3458bf642014dba...  \n",
       "3  39b66dcc48ef29464261279d3e7d911a67867632b851f2...  \n",
       "4  4fd351ec2879e063a3b2d3f61c86d09311acfab1b2b9de...  "
      ]
     },
     "execution_count": 18,
     "metadata": {},
     "output_type": "execute_result"
    }
   ],
   "source": [
    "customers.head()"
   ]
  },
  {
   "cell_type": "code",
   "execution_count": 144,
   "id": "6eaeb057",
   "metadata": {},
   "outputs": [],
   "source": [
    "customers['age_bin'] = pd.qcut(customers['age'], q=5, labels=False).astype(str).str.zfill(2)"
   ]
  },
  {
   "cell_type": "code",
   "execution_count": 146,
   "id": "81fbcd35",
   "metadata": {},
   "outputs": [],
   "source": [
    "cols = ['age']"
   ]
  },
  {
   "cell_type": "code",
   "execution_count": 145,
   "id": "15cd591f",
   "metadata": {},
   "outputs": [
    {
     "data": {
      "text/html": [
       "<div>\n",
       "<style scoped>\n",
       "    .dataframe tbody tr th:only-of-type {\n",
       "        vertical-align: middle;\n",
       "    }\n",
       "\n",
       "    .dataframe tbody tr th {\n",
       "        vertical-align: top;\n",
       "    }\n",
       "\n",
       "    .dataframe thead th {\n",
       "        text-align: right;\n",
       "    }\n",
       "</style>\n",
       "<table border=\"1\" class=\"dataframe\">\n",
       "  <thead>\n",
       "    <tr style=\"text-align: right;\">\n",
       "      <th></th>\n",
       "      <th>min</th>\n",
       "      <th>max</th>\n",
       "    </tr>\n",
       "    <tr>\n",
       "      <th>age_bin</th>\n",
       "      <th></th>\n",
       "      <th></th>\n",
       "    </tr>\n",
       "  </thead>\n",
       "  <tbody>\n",
       "    <tr>\n",
       "      <th>00</th>\n",
       "      <td>16.0000</td>\n",
       "      <td>23.0000</td>\n",
       "    </tr>\n",
       "    <tr>\n",
       "      <th>01</th>\n",
       "      <td>24.0000</td>\n",
       "      <td>28.0000</td>\n",
       "    </tr>\n",
       "    <tr>\n",
       "      <th>02</th>\n",
       "      <td>29.0000</td>\n",
       "      <td>38.0000</td>\n",
       "    </tr>\n",
       "    <tr>\n",
       "      <th>03</th>\n",
       "      <td>39.0000</td>\n",
       "      <td>51.0000</td>\n",
       "    </tr>\n",
       "    <tr>\n",
       "      <th>04</th>\n",
       "      <td>52.0000</td>\n",
       "      <td>98.0000</td>\n",
       "    </tr>\n",
       "  </tbody>\n",
       "</table>\n",
       "</div>"
      ],
      "text/plain": [
       "            min     max\n",
       "age_bin                \n",
       "00      16.0000 23.0000\n",
       "01      24.0000 28.0000\n",
       "02      29.0000 38.0000\n",
       "03      39.0000 51.0000\n",
       "04      52.0000 98.0000"
      ]
     },
     "execution_count": 145,
     "metadata": {},
     "output_type": "execute_result"
    }
   ],
   "source": [
    "customers.groupby(['age_bin'])['age'].agg(['min', 'max'])"
   ]
  },
  {
   "cell_type": "markdown",
   "id": "46ae49f3",
   "metadata": {},
   "source": [
    "- first question -> what about age_bin (WHERE to do it)\n",
    "- second -> filling NA -> it's done in SAMPLING, but nowhere else"
   ]
  },
  {
   "cell_type": "code",
   "execution_count": 21,
   "id": "c52b041e",
   "metadata": {},
   "outputs": [],
   "source": [
    "articles_sold_most_by_segment = (transactions\n",
    "    .merge(customers, on='customer_id')\n",
    "    .groupby(['age_bin', 'article_id'])['customer_id']\n",
    "    .size()\n",
    "    .reset_index(name='most_sold_by_segment')\n",
    "    .sort_values(by='most_sold_by_segment', ascending=False)\n",
    ")"
   ]
  },
  {
   "cell_type": "code",
   "execution_count": 22,
   "id": "61db0963",
   "metadata": {},
   "outputs": [
    {
     "data": {
      "text/html": [
       "<div>\n",
       "<style scoped>\n",
       "    .dataframe tbody tr th:only-of-type {\n",
       "        vertical-align: middle;\n",
       "    }\n",
       "\n",
       "    .dataframe tbody tr th {\n",
       "        vertical-align: top;\n",
       "    }\n",
       "\n",
       "    .dataframe thead th {\n",
       "        text-align: right;\n",
       "    }\n",
       "</style>\n",
       "<table border=\"1\" class=\"dataframe\">\n",
       "  <thead>\n",
       "    <tr style=\"text-align: right;\">\n",
       "      <th></th>\n",
       "      <th>age_bin</th>\n",
       "      <th>article_id</th>\n",
       "      <th>most_sold_by_segment</th>\n",
       "    </tr>\n",
       "  </thead>\n",
       "  <tbody>\n",
       "    <tr>\n",
       "      <th>305</th>\n",
       "      <td>1</td>\n",
       "      <td>0599580038</td>\n",
       "      <td>229</td>\n",
       "    </tr>\n",
       "    <tr>\n",
       "      <th>571</th>\n",
       "      <td>1</td>\n",
       "      <td>0684209013</td>\n",
       "      <td>224</td>\n",
       "    </tr>\n",
       "    <tr>\n",
       "      <th>1199</th>\n",
       "      <td>1</td>\n",
       "      <td>0759871001</td>\n",
       "      <td>223</td>\n",
       "    </tr>\n",
       "    <tr>\n",
       "      <th>307</th>\n",
       "      <td>1</td>\n",
       "      <td>0599580052</td>\n",
       "      <td>191</td>\n",
       "    </tr>\n",
       "    <tr>\n",
       "      <th>787</th>\n",
       "      <td>1</td>\n",
       "      <td>0714790020</td>\n",
       "      <td>189</td>\n",
       "    </tr>\n",
       "    <tr>\n",
       "      <th>...</th>\n",
       "      <td>...</td>\n",
       "      <td>...</td>\n",
       "      <td>...</td>\n",
       "    </tr>\n",
       "    <tr>\n",
       "      <th>2442</th>\n",
       "      <td>1</td>\n",
       "      <td>0849493010</td>\n",
       "      <td>1</td>\n",
       "    </tr>\n",
       "    <tr>\n",
       "      <th>2450</th>\n",
       "      <td>1</td>\n",
       "      <td>0849747001</td>\n",
       "      <td>1</td>\n",
       "    </tr>\n",
       "    <tr>\n",
       "      <th>2461</th>\n",
       "      <td>1</td>\n",
       "      <td>0850541003</td>\n",
       "      <td>1</td>\n",
       "    </tr>\n",
       "    <tr>\n",
       "      <th>2463</th>\n",
       "      <td>1</td>\n",
       "      <td>0850606010</td>\n",
       "      <td>1</td>\n",
       "    </tr>\n",
       "    <tr>\n",
       "      <th>1</th>\n",
       "      <td>1</td>\n",
       "      <td>0123173001</td>\n",
       "      <td>1</td>\n",
       "    </tr>\n",
       "  </tbody>\n",
       "</table>\n",
       "<p>3787 rows × 3 columns</p>\n",
       "</div>"
      ],
      "text/plain": [
       "     age_bin  article_id  most_sold_by_segment\n",
       "305        1  0599580038                   229\n",
       "571        1  0684209013                   224\n",
       "1199       1  0759871001                   223\n",
       "307        1  0599580052                   191\n",
       "787        1  0714790020                   189\n",
       "...      ...         ...                   ...\n",
       "2442       1  0849493010                     1\n",
       "2450       1  0849747001                     1\n",
       "2461       1  0850541003                     1\n",
       "2463       1  0850606010                     1\n",
       "1          1  0123173001                     1\n",
       "\n",
       "[3787 rows x 3 columns]"
      ]
     },
     "execution_count": 22,
     "metadata": {},
     "output_type": "execute_result"
    }
   ],
   "source": [
    "articles_sold_most_by_segment.query('age_bin==\"1\"')"
   ]
  },
  {
   "cell_type": "code",
   "execution_count": 23,
   "id": "954f6252",
   "metadata": {},
   "outputs": [
    {
     "data": {
      "text/html": [
       "<div>\n",
       "<style scoped>\n",
       "    .dataframe tbody tr th:only-of-type {\n",
       "        vertical-align: middle;\n",
       "    }\n",
       "\n",
       "    .dataframe tbody tr th {\n",
       "        vertical-align: top;\n",
       "    }\n",
       "\n",
       "    .dataframe thead th {\n",
       "        text-align: right;\n",
       "    }\n",
       "</style>\n",
       "<table border=\"1\" class=\"dataframe\">\n",
       "  <thead>\n",
       "    <tr style=\"text-align: right;\">\n",
       "      <th></th>\n",
       "      <th>age_bin</th>\n",
       "      <th>article_id</th>\n",
       "      <th>most_sold_by_segment</th>\n",
       "    </tr>\n",
       "  </thead>\n",
       "  <tbody>\n",
       "    <tr>\n",
       "      <th>18679</th>\n",
       "      <td>5</td>\n",
       "      <td>0783346016</td>\n",
       "      <td>118</td>\n",
       "    </tr>\n",
       "    <tr>\n",
       "      <th>17376</th>\n",
       "      <td>5</td>\n",
       "      <td>0399256005</td>\n",
       "      <td>110</td>\n",
       "    </tr>\n",
       "    <tr>\n",
       "      <th>18680</th>\n",
       "      <td>5</td>\n",
       "      <td>0783346020</td>\n",
       "      <td>109</td>\n",
       "    </tr>\n",
       "    <tr>\n",
       "      <th>19131</th>\n",
       "      <td>5</td>\n",
       "      <td>0817110001</td>\n",
       "      <td>108</td>\n",
       "    </tr>\n",
       "    <tr>\n",
       "      <th>18362</th>\n",
       "      <td>5</td>\n",
       "      <td>0751471043</td>\n",
       "      <td>92</td>\n",
       "    </tr>\n",
       "    <tr>\n",
       "      <th>...</th>\n",
       "      <td>...</td>\n",
       "      <td>...</td>\n",
       "      <td>...</td>\n",
       "    </tr>\n",
       "    <tr>\n",
       "      <th>20244</th>\n",
       "      <td>5</td>\n",
       "      <td>0871869001</td>\n",
       "      <td>1</td>\n",
       "    </tr>\n",
       "    <tr>\n",
       "      <th>18296</th>\n",
       "      <td>5</td>\n",
       "      <td>0745186006</td>\n",
       "      <td>1</td>\n",
       "    </tr>\n",
       "    <tr>\n",
       "      <th>20241</th>\n",
       "      <td>5</td>\n",
       "      <td>0871690007</td>\n",
       "      <td>1</td>\n",
       "    </tr>\n",
       "    <tr>\n",
       "      <th>18046</th>\n",
       "      <td>5</td>\n",
       "      <td>0708516001</td>\n",
       "      <td>1</td>\n",
       "    </tr>\n",
       "    <tr>\n",
       "      <th>21098</th>\n",
       "      <td>5</td>\n",
       "      <td>0949551002</td>\n",
       "      <td>1</td>\n",
       "    </tr>\n",
       "  </tbody>\n",
       "</table>\n",
       "<p>3784 rows × 3 columns</p>\n",
       "</div>"
      ],
      "text/plain": [
       "      age_bin  article_id  most_sold_by_segment\n",
       "18679       5  0783346016                   118\n",
       "17376       5  0399256005                   110\n",
       "18680       5  0783346020                   109\n",
       "19131       5  0817110001                   108\n",
       "18362       5  0751471043                    92\n",
       "...       ...         ...                   ...\n",
       "20244       5  0871869001                     1\n",
       "18296       5  0745186006                     1\n",
       "20241       5  0871690007                     1\n",
       "18046       5  0708516001                     1\n",
       "21098       5  0949551002                     1\n",
       "\n",
       "[3784 rows x 3 columns]"
      ]
     },
     "execution_count": 23,
     "metadata": {},
     "output_type": "execute_result"
    }
   ],
   "source": [
    "articles_sold_most_by_segment.query('age_bin==\"5\"')"
   ]
  },
  {
   "cell_type": "code",
   "execution_count": null,
   "id": "5691c80a",
   "metadata": {},
   "outputs": [],
   "source": []
  },
  {
   "cell_type": "markdown",
   "id": "483d0551",
   "metadata": {},
   "source": [
    "check how much they intersect, maybe there is no point in doing for different days?"
   ]
  },
  {
   "cell_type": "markdown",
   "id": "dd234ae8",
   "metadata": {},
   "source": [
    "## Previously bought"
   ]
  },
  {
   "cell_type": "markdown",
   "id": "4e66feb7",
   "metadata": {},
   "source": [
    "### previously bought the same `prod_name`"
   ]
  },
  {
   "cell_type": "code",
   "execution_count": 29,
   "id": "8d8028f6",
   "metadata": {},
   "outputs": [],
   "source": [
    "customers_prod_name = (\n",
    "    transactions\n",
    "    .merge(articles[['article_id', 'prod_name']], on='article_id')[['customer_id', 'prod_name']]\n",
    "    .drop_duplicates()\n",
    "    .sort_values(by='customer_id')\n",
    ")"
   ]
  },
  {
   "cell_type": "code",
   "execution_count": 31,
   "id": "8a190a81",
   "metadata": {},
   "outputs": [
    {
     "data": {
      "text/plain": [
       "(134380, 2)"
      ]
     },
     "execution_count": 31,
     "metadata": {},
     "output_type": "execute_result"
    }
   ],
   "source": [
    "customers_prod_name.shape"
   ]
  },
  {
   "cell_type": "code",
   "execution_count": 35,
   "id": "fd2b7e14",
   "metadata": {},
   "outputs": [],
   "source": [
    "prev_bought_prod_name = (\n",
    "    customers_prod_name\n",
    "    .merge(articles[['article_id', 'prod_name']], on='prod_name')\n",
    "    .drop(['prod_name'], axis=1)\n",
    ")"
   ]
  },
  {
   "cell_type": "code",
   "execution_count": 36,
   "id": "16f0c5ef",
   "metadata": {},
   "outputs": [
    {
     "data": {
      "text/plain": [
       "(297283, 2)"
      ]
     },
     "execution_count": 36,
     "metadata": {},
     "output_type": "execute_result"
    }
   ],
   "source": [
    "prev_bought_prod_name.shape"
   ]
  },
  {
   "cell_type": "markdown",
   "id": "94254ce3",
   "metadata": {},
   "source": [
    "### previously bought"
   ]
  },
  {
   "cell_type": "code",
   "execution_count": 17,
   "id": "289a2977",
   "metadata": {},
   "outputs": [],
   "source": [
    "prev_bought = transactions[['customer_id', 'article_id']].drop_duplicates()"
   ]
  },
  {
   "cell_type": "code",
   "execution_count": 22,
   "id": "7610c1d0",
   "metadata": {},
   "outputs": [
    {
     "data": {
      "text/html": [
       "<div>\n",
       "<style scoped>\n",
       "    .dataframe tbody tr th:only-of-type {\n",
       "        vertical-align: middle;\n",
       "    }\n",
       "\n",
       "    .dataframe tbody tr th {\n",
       "        vertical-align: top;\n",
       "    }\n",
       "\n",
       "    .dataframe thead th {\n",
       "        text-align: right;\n",
       "    }\n",
       "</style>\n",
       "<table border=\"1\" class=\"dataframe\">\n",
       "  <thead>\n",
       "    <tr style=\"text-align: right;\">\n",
       "      <th></th>\n",
       "      <th>customer_id</th>\n",
       "      <th>previously_bought</th>\n",
       "    </tr>\n",
       "  </thead>\n",
       "  <tbody>\n",
       "    <tr>\n",
       "      <th>0</th>\n",
       "      <td>0000423b00ade91418cceaf3b26c6af3dd342b51fd051e...</td>\n",
       "      <td>[0351484002]</td>\n",
       "    </tr>\n",
       "    <tr>\n",
       "      <th>1</th>\n",
       "      <td>0000b2f1829e23b24feec422ef13df3ccedaedc85368e6...</td>\n",
       "      <td>[0715411001, 0706016015]</td>\n",
       "    </tr>\n",
       "    <tr>\n",
       "      <th>2</th>\n",
       "      <td>000346516dd355b40badca0c0f5f37a318ddae31f0e0f7...</td>\n",
       "      <td>[0816588001, 0854193002, 0816423002]</td>\n",
       "    </tr>\n",
       "    <tr>\n",
       "      <th>3</th>\n",
       "      <td>000531ecd2754a0cf214373cc7b6dbcf7ce9a77c3284a2...</td>\n",
       "      <td>[0688105016]</td>\n",
       "    </tr>\n",
       "    <tr>\n",
       "      <th>4</th>\n",
       "      <td>000989f72a2b8e5da2f4abafc86c2e213816fa2ff2a060...</td>\n",
       "      <td>[0488561003, 0570002002, 0716545008]</td>\n",
       "    </tr>\n",
       "    <tr>\n",
       "      <th>...</th>\n",
       "      <td>...</td>\n",
       "      <td>...</td>\n",
       "    </tr>\n",
       "    <tr>\n",
       "      <th>49140</th>\n",
       "      <td>fff4d3a8b1f3b60af93e78c30a7cb4cf75edaf2590d3e5...</td>\n",
       "      <td>[0826164016, 0832330002, 0913064001, 071479002...</td>\n",
       "    </tr>\n",
       "    <tr>\n",
       "      <th>49141</th>\n",
       "      <td>fff69e3ab1bd701315881c7706c38d5cbcda1f4e0cf213...</td>\n",
       "      <td>[0852174001]</td>\n",
       "    </tr>\n",
       "    <tr>\n",
       "      <th>49142</th>\n",
       "      <td>fff94b7e15cd61eaf699f0e7d29e4023d28733119f323d...</td>\n",
       "      <td>[0824352001, 0817472004]</td>\n",
       "    </tr>\n",
       "    <tr>\n",
       "      <th>49143</th>\n",
       "      <td>fffdd9c81f64c0228a54e1c0240cf40877acec6ce985d4...</td>\n",
       "      <td>[0832361003, 0832361001, 0915611003]</td>\n",
       "    </tr>\n",
       "    <tr>\n",
       "      <th>49144</th>\n",
       "      <td>ffff61677073258d461e043cc9ed4ed97be5617a920640...</td>\n",
       "      <td>[0817417002, 0878510001]</td>\n",
       "    </tr>\n",
       "  </tbody>\n",
       "</table>\n",
       "<p>49145 rows × 2 columns</p>\n",
       "</div>"
      ],
      "text/plain": [
       "                                             customer_id  \\\n",
       "0      0000423b00ade91418cceaf3b26c6af3dd342b51fd051e...   \n",
       "1      0000b2f1829e23b24feec422ef13df3ccedaedc85368e6...   \n",
       "2      000346516dd355b40badca0c0f5f37a318ddae31f0e0f7...   \n",
       "3      000531ecd2754a0cf214373cc7b6dbcf7ce9a77c3284a2...   \n",
       "4      000989f72a2b8e5da2f4abafc86c2e213816fa2ff2a060...   \n",
       "...                                                  ...   \n",
       "49140  fff4d3a8b1f3b60af93e78c30a7cb4cf75edaf2590d3e5...   \n",
       "49141  fff69e3ab1bd701315881c7706c38d5cbcda1f4e0cf213...   \n",
       "49142  fff94b7e15cd61eaf699f0e7d29e4023d28733119f323d...   \n",
       "49143  fffdd9c81f64c0228a54e1c0240cf40877acec6ce985d4...   \n",
       "49144  ffff61677073258d461e043cc9ed4ed97be5617a920640...   \n",
       "\n",
       "                                       previously_bought  \n",
       "0                                           [0351484002]  \n",
       "1                               [0715411001, 0706016015]  \n",
       "2                   [0816588001, 0854193002, 0816423002]  \n",
       "3                                           [0688105016]  \n",
       "4                   [0488561003, 0570002002, 0716545008]  \n",
       "...                                                  ...  \n",
       "49140  [0826164016, 0832330002, 0913064001, 071479002...  \n",
       "49141                                       [0852174001]  \n",
       "49142                           [0824352001, 0817472004]  \n",
       "49143               [0832361003, 0832361001, 0915611003]  \n",
       "49144                           [0817417002, 0878510001]  \n",
       "\n",
       "[49145 rows x 2 columns]"
      ]
     },
     "execution_count": 22,
     "metadata": {},
     "output_type": "execute_result"
    }
   ],
   "source": [
    "prev_bought.groupby(['customer_id'])['article_id'].apply(list).reset_index(name='previously_bought')"
   ]
  },
  {
   "cell_type": "code",
   "execution_count": null,
   "id": "82c76397",
   "metadata": {},
   "outputs": [],
   "source": []
  }
 ],
 "metadata": {
  "kernelspec": {
   "display_name": "GetInDataMLFramework",
   "language": "python",
   "name": "python3"
  },
  "language_info": {
   "codemirror_mode": {
    "name": "ipython",
    "version": 3
   },
   "file_extension": ".py",
   "mimetype": "text/x-python",
   "name": "python",
   "nbconvert_exporter": "python",
   "pygments_lexer": "ipython3",
   "version": "3.8.12"
  }
 },
 "nbformat": 4,
 "nbformat_minor": 5
}
