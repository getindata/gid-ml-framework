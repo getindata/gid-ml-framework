{
 "cells": [
  {
   "cell_type": "code",
   "execution_count": null,
   "id": "9b6289f9",
   "metadata": {
    "scrolled": true
   },
   "outputs": [],
   "source": [
    "%load_ext kedro.extras.extensions.ipython"
   ]
  },
  {
   "cell_type": "code",
   "execution_count": null,
   "id": "c272c8b9",
   "metadata": {},
   "outputs": [],
   "source": [
    "%reload_kedro"
   ]
  },
  {
   "cell_type": "code",
   "execution_count": null,
   "id": "b74d3fbd",
   "metadata": {},
   "outputs": [],
   "source": [
    "import pandas as pd\n",
    "import numpy as np"
   ]
  },
  {
   "cell_type": "code",
   "execution_count": null,
   "id": "fc8169e0",
   "metadata": {},
   "outputs": [],
   "source": [
    "pd.set_option('display.float_format', lambda x: '%.4f' % x)"
   ]
  },
  {
   "cell_type": "code",
   "execution_count": null,
   "id": "22fe7d97",
   "metadata": {},
   "outputs": [],
   "source": [
    "catalog.list()"
   ]
  },
  {
   "cell_type": "code",
   "execution_count": null,
   "id": "c6ef2855",
   "metadata": {},
   "outputs": [],
   "source": [
    "candidates = context.catalog.load('train_candidates')"
   ]
  },
  {
   "cell_type": "code",
   "execution_count": null,
   "id": "8e882393",
   "metadata": {},
   "outputs": [],
   "source": [
    "val_transactions = context.catalog.load('val_transactions')"
   ]
  },
  {
   "cell_type": "code",
   "execution_count": null,
   "id": "a861982f",
   "metadata": {
    "scrolled": true
   },
   "outputs": [],
   "source": [
    "val_transactions.shape, candidates.shape"
   ]
  },
  {
   "cell_type": "code",
   "execution_count": null,
   "id": "98126588",
   "metadata": {},
   "outputs": [],
   "source": [
    "candidates.head(3)"
   ]
  },
  {
   "cell_type": "code",
   "execution_count": null,
   "id": "8c5b8ba6",
   "metadata": {},
   "outputs": [],
   "source": [
    "val_transactions = val_transactions[['customer_id', 'article_id']]"
   ]
  },
  {
   "cell_type": "code",
   "execution_count": null,
   "id": "0517b849",
   "metadata": {},
   "outputs": [],
   "source": [
    "val_transactions.drop_duplicates(inplace=True)"
   ]
  },
  {
   "cell_type": "code",
   "execution_count": null,
   "id": "0b17a617",
   "metadata": {},
   "outputs": [],
   "source": [
    "val_transactions.shape"
   ]
  },
  {
   "cell_type": "code",
   "execution_count": null,
   "id": "7e711db5",
   "metadata": {},
   "outputs": [],
   "source": [
    "val_transactions"
   ]
  },
  {
   "cell_type": "code",
   "execution_count": null,
   "id": "84733f6c",
   "metadata": {},
   "outputs": [],
   "source": [
    "col_list = [col for col in list(candidates.columns) if col != 'customer_id']"
   ]
  },
  {
   "cell_type": "code",
   "execution_count": null,
   "id": "e9c099d8",
   "metadata": {},
   "outputs": [],
   "source": [
    "col_list"
   ]
  },
  {
   "cell_type": "markdown",
   "id": "8d15f4e5",
   "metadata": {},
   "source": [
    "I don't think that is efficient - for worst case scenario - ALL CUSTOMERS x 500"
   ]
  },
  {
   "cell_type": "code",
   "execution_count": null,
   "id": "4731b854",
   "metadata": {},
   "outputs": [],
   "source": [
    "join_df = candidates[['customer_id', 'global_articles']].explode('global_articles')"
   ]
  },
  {
   "cell_type": "code",
   "execution_count": null,
   "id": "963fb974",
   "metadata": {},
   "outputs": [],
   "source": [
    "join_df['dummy'] = 1"
   ]
  },
  {
   "cell_type": "code",
   "execution_count": null,
   "id": "19e5ef77",
   "metadata": {},
   "outputs": [],
   "source": [
    "first = val_transactions.merge(join_df,\n",
    "                       left_on=['customer_id', 'article_id'], right_on=['customer_id', 'global_articles'],\n",
    "                       how='left')"
   ]
  },
  {
   "cell_type": "code",
   "execution_count": null,
   "id": "b6bf691f",
   "metadata": {},
   "outputs": [],
   "source": [
    "first['dummy'] = first['dummy'].fillna(0)"
   ]
  },
  {
   "cell_type": "code",
   "execution_count": null,
   "id": "f1317cd6",
   "metadata": {},
   "outputs": [],
   "source": [
    "first.dummy.value_counts()"
   ]
  },
  {
   "cell_type": "code",
   "execution_count": null,
   "id": "132da6a3",
   "metadata": {},
   "outputs": [],
   "source": [
    "first['dummy'].mean()"
   ]
  },
  {
   "cell_type": "code",
   "execution_count": null,
   "id": "105dd893",
   "metadata": {},
   "outputs": [],
   "source": []
  },
  {
   "cell_type": "code",
   "execution_count": null,
   "id": "e5ea7868",
   "metadata": {},
   "outputs": [],
   "source": []
  },
  {
   "cell_type": "code",
   "execution_count": null,
   "id": "7428fc57",
   "metadata": {},
   "outputs": [],
   "source": []
  },
  {
   "cell_type": "code",
   "execution_count": null,
   "id": "6c0415aa",
   "metadata": {},
   "outputs": [],
   "source": [
    "candidates['global_articles']"
   ]
  },
  {
   "cell_type": "code",
   "execution_count": null,
   "id": "d186aaf2",
   "metadata": {},
   "outputs": [],
   "source": [
    "candidates.head()"
   ]
  },
  {
   "cell_type": "code",
   "execution_count": null,
   "id": "de542a62",
   "metadata": {},
   "outputs": [],
   "source": [
    "candidates.columns"
   ]
  },
  {
   "cell_type": "code",
   "execution_count": null,
   "id": "b8baec98",
   "metadata": {},
   "outputs": [],
   "source": [
    "def add_lists_or_none(*args):\n",
    "    empty_set = set()\n",
    "    for arg in args:\n",
    "        if arg is None:\n",
    "            continue\n",
    "        new_item = set(arg)\n",
    "        empty_set |= new_item\n",
    "    return list(empty_set)"
   ]
  },
  {
   "cell_type": "code",
   "execution_count": null,
   "id": "d89f6926",
   "metadata": {},
   "outputs": [],
   "source": [
    "mylist = ['global_articles', 'segment_articles',\n",
    "       'previously_bought', 'previously_bought_prod_name',\n",
    "       'closest_image_embeddings', 'closest_text_embeddings']"
   ]
  },
  {
   "cell_type": "code",
   "execution_count": null,
   "id": "e5afdf97",
   "metadata": {},
   "outputs": [],
   "source": [
    "results = "
   ]
  },
  {
   "cell_type": "code",
   "execution_count": null,
   "id": "a09895c6",
   "metadata": {},
   "outputs": [],
   "source": [
    "candidates.apply(lambda x: *)"
   ]
  },
  {
   "cell_type": "code",
   "execution_count": null,
   "id": "eb50b494",
   "metadata": {},
   "outputs": [],
   "source": [
    "candidates['all_candidates'] = candidates.apply(lambda x: add_lists_or_none(x.global_articles,\n",
    "                                             x.segment_articles,\n",
    "                                             x.previously_bought,\n",
    "                                             x.previously_bought_prod_name,\n",
    "                                             x.closest_image_embeddings,\n",
    "                                             x.closest_text_embeddings\n",
    "                                            ), axis=1)"
   ]
  },
  {
   "cell_type": "code",
   "execution_count": null,
   "id": "f98eb347",
   "metadata": {},
   "outputs": [],
   "source": [
    "candidates.loc[137193,:]"
   ]
  },
  {
   "cell_type": "code",
   "execution_count": null,
   "id": "56779eda",
   "metadata": {},
   "outputs": [],
   "source": [
    "len(candidates.loc[137193,:].global_articles)"
   ]
  },
  {
   "cell_type": "code",
   "execution_count": null,
   "id": "8e8689c1",
   "metadata": {},
   "outputs": [],
   "source": [
    "len(candidates.loc[137193,:].segment_articles)"
   ]
  },
  {
   "cell_type": "code",
   "execution_count": null,
   "id": "3ac41c36",
   "metadata": {},
   "outputs": [],
   "source": [
    "len(candidates.loc[137193,:].closest_text_embeddings)"
   ]
  },
  {
   "cell_type": "code",
   "execution_count": null,
   "id": "d2525ef7",
   "metadata": {},
   "outputs": [],
   "source": [
    "len(candidates.loc[137193,:].all_candidates)"
   ]
  },
  {
   "cell_type": "code",
   "execution_count": null,
   "id": "ee116d4a",
   "metadata": {},
   "outputs": [],
   "source": []
  },
  {
   "cell_type": "code",
   "execution_count": null,
   "id": "0c8d0c2f",
   "metadata": {},
   "outputs": [],
   "source": [
    "df['E']=(df.B+df.C).map(set).map(list)"
   ]
  },
  {
   "cell_type": "code",
   "execution_count": null,
   "id": "3e7eb83e",
   "metadata": {},
   "outputs": [],
   "source": []
  },
  {
   "cell_type": "code",
   "execution_count": null,
   "id": "40c4467e",
   "metadata": {},
   "outputs": [],
   "source": []
  },
  {
   "cell_type": "code",
   "execution_count": null,
   "id": "862012de",
   "metadata": {},
   "outputs": [],
   "source": []
  },
  {
   "cell_type": "code",
   "execution_count": null,
   "id": "917f2347",
   "metadata": {},
   "outputs": [],
   "source": []
  },
  {
   "cell_type": "markdown",
   "id": "e7e76112",
   "metadata": {},
   "source": [
    "pandas + looping = inefficient too :D :D :D"
   ]
  },
  {
   "cell_type": "code",
   "execution_count": null,
   "id": "bda3e8d1",
   "metadata": {},
   "outputs": [],
   "source": [
    "val = val_transactions.groupby(['customer_id'])['article_id'].apply(list).reset_index()"
   ]
  },
  {
   "cell_type": "code",
   "execution_count": null,
   "id": "20e92258",
   "metadata": {},
   "outputs": [],
   "source": [
    "val.head()"
   ]
  },
  {
   "cell_type": "code",
   "execution_count": null,
   "id": "c7e8d759",
   "metadata": {},
   "outputs": [],
   "source": [
    "val.shape"
   ]
  },
  {
   "cell_type": "code",
   "execution_count": null,
   "id": "46a88149",
   "metadata": {},
   "outputs": [],
   "source": [
    "val = val.merge(candidates, on='customer_id', how='left')"
   ]
  },
  {
   "cell_type": "code",
   "execution_count": null,
   "id": "b76cb183",
   "metadata": {},
   "outputs": [],
   "source": [
    "val.head()"
   ]
  },
  {
   "cell_type": "code",
   "execution_count": null,
   "id": "f85fd714",
   "metadata": {},
   "outputs": [],
   "source": [
    "def _concatenate_all_lists(*args):\n",
    "    articles_set = set()\n",
    "    for arg in args:\n",
    "        if arg is None:\n",
    "            continue\n",
    "        new_items = set(arg)\n",
    "        articles_set |= new_items\n",
    "    return list(articles_set) "
   ]
  },
  {
   "cell_type": "code",
   "execution_count": null,
   "id": "31de783a",
   "metadata": {},
   "outputs": [],
   "source": [
    "candidates"
   ]
  },
  {
   "cell_type": "code",
   "execution_count": null,
   "id": "84dd2805",
   "metadata": {},
   "outputs": [],
   "source": [
    "aa = [col for col in candidates.columns if col != 'customer_id']"
   ]
  },
  {
   "cell_type": "code",
   "execution_count": null,
   "id": "5470a53b",
   "metadata": {},
   "outputs": [],
   "source": [
    "candidates.global_articles[0]"
   ]
  },
  {
   "cell_type": "code",
   "execution_count": null,
   "id": "c000cd2f",
   "metadata": {},
   "outputs": [],
   "source": [
    "aa"
   ]
  },
  {
   "cell_type": "code",
   "execution_count": null,
   "id": "f99712e1",
   "metadata": {},
   "outputs": [],
   "source": [
    "candidates[aa].values.shape"
   ]
  },
  {
   "cell_type": "code",
   "execution_count": null,
   "id": "7bd69cbe",
   "metadata": {},
   "outputs": [],
   "source": [
    "aa + ['all_candidates']"
   ]
  },
  {
   "cell_type": "code",
   "execution_count": null,
   "id": "77e17e5b",
   "metadata": {},
   "outputs": [],
   "source": [
    "def add_lists(x, number):\n",
    "    empty_set = set()\n",
    "    for i in range(number):\n",
    "        if x[i] is None:\n",
    "            continue\n",
    "        empty_set |= set(x[i])\n",
    "    return empty_set"
   ]
  },
  {
   "cell_type": "code",
   "execution_count": null,
   "id": "751a819f",
   "metadata": {},
   "outputs": [],
   "source": [
    "candidates['all_candidssates'] = np.apply_along_axis(add_lists, axis=1, arr=candidates[aa].values, number=6)"
   ]
  },
  {
   "cell_type": "code",
   "execution_count": null,
   "id": "35ca10db",
   "metadata": {},
   "outputs": [],
   "source": []
  },
  {
   "cell_type": "code",
   "execution_count": null,
   "id": "8219c151",
   "metadata": {},
   "outputs": [],
   "source": [
    "candidates.apply(lambda x: _concatenate_all_lists(x.global_articles,\n",
    "                                             x.segment_articles,\n",
    "                                             x.previously_bought,\n",
    "                                             x.previously_bought_prod_name,\n",
    "                                             x.closest_image_embeddings,\n",
    "                                             x.closest_text_embeddings\n",
    "                                            ), axis=1)"
   ]
  },
  {
   "cell_type": "code",
   "execution_count": null,
   "id": "a48743df",
   "metadata": {},
   "outputs": [],
   "source": [
    "candidates['all_candidates_proper'] = candidates.apply(lambda x: _concatenate_all_lists(x.global_articles,\n",
    "                                             x.segment_articles,\n",
    "                                             x.previously_bought,\n",
    "                                             x.previously_bought_prod_name,\n",
    "                                             x.closest_image_embeddings,\n",
    "                                             x.closest_text_embeddings\n",
    "                                            ), axis=1)"
   ]
  },
  {
   "cell_type": "code",
   "execution_count": null,
   "id": "c802f471",
   "metadata": {},
   "outputs": [],
   "source": [
    "(candidates.all_candidates.apply(list)==candidates.all_candidates_proper).mean()"
   ]
  },
  {
   "cell_type": "code",
   "execution_count": null,
   "id": "a765781d",
   "metadata": {},
   "outputs": [],
   "source": []
  },
  {
   "cell_type": "code",
   "execution_count": null,
   "id": "b3103bf6",
   "metadata": {},
   "outputs": [],
   "source": []
  },
  {
   "cell_type": "code",
   "execution_count": null,
   "id": "e74eda31",
   "metadata": {},
   "outputs": [],
   "source": []
  },
  {
   "cell_type": "code",
   "execution_count": null,
   "id": "e4919681",
   "metadata": {},
   "outputs": [],
   "source": []
  },
  {
   "cell_type": "code",
   "execution_count": null,
   "id": "f87116a1",
   "metadata": {},
   "outputs": [],
   "source": []
  }
 ],
 "metadata": {
  "kernelspec": {
   "display_name": "GetInDataMLFramework",
   "language": "python",
   "name": "python3"
  },
  "language_info": {
   "codemirror_mode": {
    "name": "ipython",
    "version": 3
   },
   "file_extension": ".py",
   "mimetype": "text/x-python",
   "name": "python",
   "nbconvert_exporter": "python",
   "pygments_lexer": "ipython3",
   "version": "3.8.12"
  }
 },
 "nbformat": 4,
 "nbformat_minor": 5
}
