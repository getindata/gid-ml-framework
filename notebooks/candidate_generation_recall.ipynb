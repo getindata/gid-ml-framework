{
 "cells": [
  {
   "cell_type": "code",
   "execution_count": 1,
   "id": "9b6289f9",
   "metadata": {
    "scrolled": true
   },
   "outputs": [
    {
     "name": "stdout",
     "output_type": "stream",
     "text": [
      "The kedro.extras.extensions.ipython extension is already loaded. To reload it, use:\n",
      "  %reload_ext kedro.extras.extensions.ipython\n"
     ]
    }
   ],
   "source": [
    "%load_ext kedro.extras.extensions.ipython"
   ]
  },
  {
   "cell_type": "code",
   "execution_count": 2,
   "id": "c272c8b9",
   "metadata": {},
   "outputs": [
    {
     "name": "stdout",
     "output_type": "stream",
     "text": [
      "2022-08-04 10:08:53,654 - kedro.framework.hooks.manager - INFO - Registered hooks from 1 installed plugin(s): kedro-mlflow-0.8.1\n",
      "2022-08-04 10:08:53,700 - kedro.framework.session.store - INFO - `read()` not implemented for `BaseSessionStore`. Assuming empty store.\n",
      "2022-08-04 10:08:54,268 - root - INFO - ** Kedro project GetInData ML Framework\n",
      "2022-08-04 10:08:54,269 - root - INFO - Defined global variable `context`, `session`, `catalog` and `pipelines`\n",
      "2022-08-04 10:08:54,278 - root - INFO - Registered line magic `run_viz`\n",
      "2022-08-04 10:08:54,279 - root - INFO - Registered line magic `reload_kedro_mlflow`\n"
     ]
    }
   ],
   "source": [
    "%reload_kedro"
   ]
  },
  {
   "cell_type": "code",
   "execution_count": 3,
   "id": "b74d3fbd",
   "metadata": {},
   "outputs": [],
   "source": [
    "import pandas as pd\n",
    "import numpy as np"
   ]
  },
  {
   "cell_type": "code",
   "execution_count": 4,
   "id": "fc8169e0",
   "metadata": {},
   "outputs": [],
   "source": [
    "pd.set_option('display.float_format', lambda x: '%.4f' % x)"
   ]
  },
  {
   "cell_type": "code",
   "execution_count": 5,
   "id": "22fe7d97",
   "metadata": {},
   "outputs": [
    {
     "data": {
      "text/plain": [
       "['articles',\n",
       " 'customers',\n",
       " 'transactions',\n",
       " 'customers_sample',\n",
       " 'transactions_sample',\n",
       " 'articles_sample',\n",
       " 'input_images',\n",
       " 'resized_images',\n",
       " 'image_embeddings',\n",
       " 'text_embeddings',\n",
       " 'candidates',\n",
       " 'train_transactions',\n",
       " 'val_transactions',\n",
       " 'train_candidates',\n",
       " 'parameters',\n",
       " 'params:image_embeddings_inference',\n",
       " 'params:image_embeddings_inference.run_id',\n",
       " 'params:image_embeddings_inference.image_path',\n",
       " 'params:image_embeddings_inference.batch_size',\n",
       " 'params:candidate_generation',\n",
       " 'params:candidate_generation.global_articles',\n",
       " 'params:candidate_generation.global_articles.n_days',\n",
       " 'params:candidate_generation.global_articles.top_n',\n",
       " 'params:candidate_generation.segment_articles',\n",
       " 'params:candidate_generation.segment_articles.no_segments',\n",
       " 'params:candidate_generation.segment_articles.n_days',\n",
       " 'params:candidate_generation.segment_articles.top_n',\n",
       " 'params:candidate_generation.image_embeddings',\n",
       " 'params:candidate_generation.image_embeddings.n_last_bought',\n",
       " 'params:candidate_generation.image_embeddings.k_closest',\n",
       " 'params:candidate_generation.image_embeddings.name',\n",
       " 'params:candidate_generation.text_embeddings',\n",
       " 'params:candidate_generation.text_embeddings.n_last_bought',\n",
       " 'params:candidate_generation.text_embeddings.k_closest',\n",
       " 'params:candidate_generation.text_embeddings.name',\n",
       " 'params:customers',\n",
       " 'params:transactions',\n",
       " 'params:articles',\n",
       " 'params:image_embeddings',\n",
       " 'params:image_embeddings.image_path',\n",
       " 'params:image_embeddings.encoder',\n",
       " 'params:image_embeddings.decoder',\n",
       " 'params:image_embeddings.batch_size',\n",
       " 'params:image_embeddings.image_size',\n",
       " 'params:image_embeddings.embedding_size',\n",
       " 'params:image_embeddings.num_epochs',\n",
       " 'params:image_embeddings.shuffle_reconstructions',\n",
       " 'params:image_embeddings.save_model',\n",
       " 'params:image_embeddings.model_name',\n",
       " 'params:image_embeddings.seed',\n",
       " 'params:image_resizer',\n",
       " 'params:image_resizer.output_size',\n",
       " 'params:image_resizer.method',\n",
       " 'params:sampling',\n",
       " 'params:sampling.cutoff_date',\n",
       " 'params:sampling.customers_sample_size',\n",
       " 'params:sampling.articles_sample_size',\n",
       " 'params:sampling.article_img_dir',\n",
       " 'params:sampling.article_img_sample_dir',\n",
       " 'params:text_embeddings',\n",
       " 'params:text_embeddings.transformer_model',\n",
       " 'params:train_val_split',\n",
       " 'params:train_val_split.candidate_selection',\n",
       " 'params:train_val_split.candidate_selection.date_column',\n",
       " 'params:train_val_split.candidate_selection.no_week']"
      ]
     },
     "execution_count": 5,
     "metadata": {},
     "output_type": "execute_result"
    }
   ],
   "source": [
    "catalog.list()"
   ]
  },
  {
   "cell_type": "code",
   "execution_count": 6,
   "id": "c6ef2855",
   "metadata": {},
   "outputs": [
    {
     "name": "stdout",
     "output_type": "stream",
     "text": [
      "2022-08-04 10:08:58,410 - kedro.io.data_catalog - INFO - Loading data from `train_candidates` (ParquetDataSet)...\n"
     ]
    }
   ],
   "source": [
    "candidates = context.catalog.load('train_candidates')"
   ]
  },
  {
   "cell_type": "code",
   "execution_count": 7,
   "id": "8e882393",
   "metadata": {},
   "outputs": [
    {
     "name": "stdout",
     "output_type": "stream",
     "text": [
      "2022-08-04 09:30:34,563 - kedro.io.data_catalog - INFO - Loading data from `val_transactions` (CSVDataSet)...\n"
     ]
    }
   ],
   "source": [
    "val_transactions = context.catalog.load('val_transactions')"
   ]
  },
  {
   "cell_type": "code",
   "execution_count": 9,
   "id": "a861982f",
   "metadata": {
    "scrolled": true
   },
   "outputs": [
    {
     "data": {
      "text/plain": [
       "((4461, 5), (137198, 7))"
      ]
     },
     "execution_count": 9,
     "metadata": {},
     "output_type": "execute_result"
    }
   ],
   "source": [
    "val_transactions.shape, candidates.shape"
   ]
  },
  {
   "cell_type": "code",
   "execution_count": 9,
   "id": "98126588",
   "metadata": {},
   "outputs": [
    {
     "data": {
      "text/html": [
       "<div>\n",
       "<style scoped>\n",
       "    .dataframe tbody tr th:only-of-type {\n",
       "        vertical-align: middle;\n",
       "    }\n",
       "\n",
       "    .dataframe tbody tr th {\n",
       "        vertical-align: top;\n",
       "    }\n",
       "\n",
       "    .dataframe thead th {\n",
       "        text-align: right;\n",
       "    }\n",
       "</style>\n",
       "<table border=\"1\" class=\"dataframe\">\n",
       "  <thead>\n",
       "    <tr style=\"text-align: right;\">\n",
       "      <th></th>\n",
       "      <th>customer_id</th>\n",
       "      <th>global_articles</th>\n",
       "      <th>segment_articles</th>\n",
       "      <th>previously_bought</th>\n",
       "      <th>previously_bought_prod_name</th>\n",
       "      <th>closest_image_embeddings</th>\n",
       "      <th>closest_text_embeddings</th>\n",
       "    </tr>\n",
       "  </thead>\n",
       "  <tbody>\n",
       "    <tr>\n",
       "      <th>0</th>\n",
       "      <td>ff18c106287931d170618b59fd402ed0ecc292869aad5f...</td>\n",
       "      <td>[0757995009, 0769748013, 0879248001, 081183500...</td>\n",
       "      <td>[0806451001, 0769748013, 0879248001, 081183500...</td>\n",
       "      <td>None</td>\n",
       "      <td>None</td>\n",
       "      <td>None</td>\n",
       "      <td>None</td>\n",
       "    </tr>\n",
       "    <tr>\n",
       "      <th>1</th>\n",
       "      <td>136601b1d1f36b13b9a4bbe185f164f24f522c5d476d09...</td>\n",
       "      <td>[0757995009, 0769748013, 0879248001, 081183500...</td>\n",
       "      <td>[0490176004, 0769748013, 0879248001, 081183500...</td>\n",
       "      <td>None</td>\n",
       "      <td>None</td>\n",
       "      <td>None</td>\n",
       "      <td>None</td>\n",
       "    </tr>\n",
       "    <tr>\n",
       "      <th>2</th>\n",
       "      <td>247a3ee3fe8a153bbf14e41f18c8bb5ebc9d53fe83830d...</td>\n",
       "      <td>[0757995009, 0769748013, 0879248001, 081183500...</td>\n",
       "      <td>[0793012001, 0879248001, 0930380003, 072490500...</td>\n",
       "      <td>None</td>\n",
       "      <td>None</td>\n",
       "      <td>None</td>\n",
       "      <td>None</td>\n",
       "    </tr>\n",
       "  </tbody>\n",
       "</table>\n",
       "</div>"
      ],
      "text/plain": [
       "                                         customer_id  \\\n",
       "0  ff18c106287931d170618b59fd402ed0ecc292869aad5f...   \n",
       "1  136601b1d1f36b13b9a4bbe185f164f24f522c5d476d09...   \n",
       "2  247a3ee3fe8a153bbf14e41f18c8bb5ebc9d53fe83830d...   \n",
       "\n",
       "                                     global_articles  \\\n",
       "0  [0757995009, 0769748013, 0879248001, 081183500...   \n",
       "1  [0757995009, 0769748013, 0879248001, 081183500...   \n",
       "2  [0757995009, 0769748013, 0879248001, 081183500...   \n",
       "\n",
       "                                    segment_articles previously_bought  \\\n",
       "0  [0806451001, 0769748013, 0879248001, 081183500...              None   \n",
       "1  [0490176004, 0769748013, 0879248001, 081183500...              None   \n",
       "2  [0793012001, 0879248001, 0930380003, 072490500...              None   \n",
       "\n",
       "  previously_bought_prod_name closest_image_embeddings closest_text_embeddings  \n",
       "0                        None                     None                    None  \n",
       "1                        None                     None                    None  \n",
       "2                        None                     None                    None  "
      ]
     },
     "execution_count": 9,
     "metadata": {},
     "output_type": "execute_result"
    }
   ],
   "source": [
    "candidates.head(3)"
   ]
  },
  {
   "cell_type": "code",
   "execution_count": 10,
   "id": "8c5b8ba6",
   "metadata": {},
   "outputs": [],
   "source": [
    "val_transactions = val_transactions[['customer_id', 'article_id']]"
   ]
  },
  {
   "cell_type": "code",
   "execution_count": 11,
   "id": "0517b849",
   "metadata": {},
   "outputs": [],
   "source": [
    "val_transactions.drop_duplicates(inplace=True)"
   ]
  },
  {
   "cell_type": "code",
   "execution_count": 12,
   "id": "0b17a617",
   "metadata": {},
   "outputs": [
    {
     "data": {
      "text/plain": [
       "(3979, 2)"
      ]
     },
     "execution_count": 12,
     "metadata": {},
     "output_type": "execute_result"
    }
   ],
   "source": [
    "val_transactions.shape"
   ]
  },
  {
   "cell_type": "code",
   "execution_count": 13,
   "id": "7e711db5",
   "metadata": {},
   "outputs": [
    {
     "data": {
      "text/html": [
       "<div>\n",
       "<style scoped>\n",
       "    .dataframe tbody tr th:only-of-type {\n",
       "        vertical-align: middle;\n",
       "    }\n",
       "\n",
       "    .dataframe tbody tr th {\n",
       "        vertical-align: top;\n",
       "    }\n",
       "\n",
       "    .dataframe thead th {\n",
       "        text-align: right;\n",
       "    }\n",
       "</style>\n",
       "<table border=\"1\" class=\"dataframe\">\n",
       "  <thead>\n",
       "    <tr style=\"text-align: right;\">\n",
       "      <th></th>\n",
       "      <th>customer_id</th>\n",
       "      <th>article_id</th>\n",
       "    </tr>\n",
       "  </thead>\n",
       "  <tbody>\n",
       "    <tr>\n",
       "      <th>0</th>\n",
       "      <td>017f1c01901a5113dffb00e2ff99024a99915d3cd86af4...</td>\n",
       "      <td>0916256001</td>\n",
       "    </tr>\n",
       "    <tr>\n",
       "      <th>1</th>\n",
       "      <td>01a39571fd15b542ac4832adcd4b80962823ee855a398a...</td>\n",
       "      <td>0855706004</td>\n",
       "    </tr>\n",
       "    <tr>\n",
       "      <th>2</th>\n",
       "      <td>02c8d36c490fc65c03d720c1220694573c34006cdcc2f9...</td>\n",
       "      <td>0903473003</td>\n",
       "    </tr>\n",
       "    <tr>\n",
       "      <th>3</th>\n",
       "      <td>0329f6a6682ad231723108c556d0861d8ff8a2fc5d843e...</td>\n",
       "      <td>0946764002</td>\n",
       "    </tr>\n",
       "    <tr>\n",
       "      <th>4</th>\n",
       "      <td>051aa83b1a3978fa888ae1d5a05e7eccceff95e00f7d7f...</td>\n",
       "      <td>0863692003</td>\n",
       "    </tr>\n",
       "    <tr>\n",
       "      <th>...</th>\n",
       "      <td>...</td>\n",
       "      <td>...</td>\n",
       "    </tr>\n",
       "    <tr>\n",
       "      <th>4456</th>\n",
       "      <td>fea6572677bb4067304af23467abc83e47c3926d35f625...</td>\n",
       "      <td>0906705001</td>\n",
       "    </tr>\n",
       "    <tr>\n",
       "      <th>4457</th>\n",
       "      <td>ff411f623177338bde6299009234da653cd417a6986780...</td>\n",
       "      <td>0903096002</td>\n",
       "    </tr>\n",
       "    <tr>\n",
       "      <th>4458</th>\n",
       "      <td>ff411f623177338bde6299009234da653cd417a6986780...</td>\n",
       "      <td>0923569007</td>\n",
       "    </tr>\n",
       "    <tr>\n",
       "      <th>4459</th>\n",
       "      <td>ff411f623177338bde6299009234da653cd417a6986780...</td>\n",
       "      <td>0873274001</td>\n",
       "    </tr>\n",
       "    <tr>\n",
       "      <th>4460</th>\n",
       "      <td>ffcd5ff3fd5b9ee6b984c143c973fd2697ca141483d381...</td>\n",
       "      <td>0918485001</td>\n",
       "    </tr>\n",
       "  </tbody>\n",
       "</table>\n",
       "<p>3979 rows × 2 columns</p>\n",
       "</div>"
      ],
      "text/plain": [
       "                                            customer_id  article_id\n",
       "0     017f1c01901a5113dffb00e2ff99024a99915d3cd86af4...  0916256001\n",
       "1     01a39571fd15b542ac4832adcd4b80962823ee855a398a...  0855706004\n",
       "2     02c8d36c490fc65c03d720c1220694573c34006cdcc2f9...  0903473003\n",
       "3     0329f6a6682ad231723108c556d0861d8ff8a2fc5d843e...  0946764002\n",
       "4     051aa83b1a3978fa888ae1d5a05e7eccceff95e00f7d7f...  0863692003\n",
       "...                                                 ...         ...\n",
       "4456  fea6572677bb4067304af23467abc83e47c3926d35f625...  0906705001\n",
       "4457  ff411f623177338bde6299009234da653cd417a6986780...  0903096002\n",
       "4458  ff411f623177338bde6299009234da653cd417a6986780...  0923569007\n",
       "4459  ff411f623177338bde6299009234da653cd417a6986780...  0873274001\n",
       "4460  ffcd5ff3fd5b9ee6b984c143c973fd2697ca141483d381...  0918485001\n",
       "\n",
       "[3979 rows x 2 columns]"
      ]
     },
     "execution_count": 13,
     "metadata": {},
     "output_type": "execute_result"
    }
   ],
   "source": [
    "val_transactions"
   ]
  },
  {
   "cell_type": "code",
   "execution_count": 14,
   "id": "84733f6c",
   "metadata": {},
   "outputs": [],
   "source": [
    "col_list = [col for col in list(candidates.columns) if col != 'customer_id']"
   ]
  },
  {
   "cell_type": "code",
   "execution_count": 15,
   "id": "e9c099d8",
   "metadata": {},
   "outputs": [
    {
     "data": {
      "text/plain": [
       "['global_articles',\n",
       " 'segment_articles',\n",
       " 'previously_bought',\n",
       " 'previously_bought_prod_name',\n",
       " 'closest_image_embeddings',\n",
       " 'closest_text_embeddings']"
      ]
     },
     "execution_count": 15,
     "metadata": {},
     "output_type": "execute_result"
    }
   ],
   "source": [
    "col_list"
   ]
  },
  {
   "cell_type": "markdown",
   "id": "8d15f4e5",
   "metadata": {},
   "source": [
    "I don't think that is efficient - for worst case scenario - ALL CUSTOMERS x 500"
   ]
  },
  {
   "cell_type": "code",
   "execution_count": 16,
   "id": "4731b854",
   "metadata": {},
   "outputs": [],
   "source": [
    "join_df = candidates[['customer_id', 'global_articles']].explode('global_articles')"
   ]
  },
  {
   "cell_type": "code",
   "execution_count": 17,
   "id": "963fb974",
   "metadata": {},
   "outputs": [],
   "source": [
    "join_df['dummy'] = 1"
   ]
  },
  {
   "cell_type": "code",
   "execution_count": 18,
   "id": "19e5ef77",
   "metadata": {},
   "outputs": [],
   "source": [
    "first = val_transactions.merge(join_df,\n",
    "                       left_on=['customer_id', 'article_id'], right_on=['customer_id', 'global_articles'],\n",
    "                       how='left')"
   ]
  },
  {
   "cell_type": "code",
   "execution_count": 19,
   "id": "b6bf691f",
   "metadata": {},
   "outputs": [],
   "source": [
    "first['dummy'] = first['dummy'].fillna(0)"
   ]
  },
  {
   "cell_type": "code",
   "execution_count": 20,
   "id": "f1317cd6",
   "metadata": {},
   "outputs": [
    {
     "data": {
      "text/plain": [
       "0.0000    2482\n",
       "1.0000    1497\n",
       "Name: dummy, dtype: int64"
      ]
     },
     "execution_count": 20,
     "metadata": {},
     "output_type": "execute_result"
    }
   ],
   "source": [
    "first.dummy.value_counts()"
   ]
  },
  {
   "cell_type": "code",
   "execution_count": 21,
   "id": "132da6a3",
   "metadata": {},
   "outputs": [
    {
     "data": {
      "text/plain": [
       "0.3762251822065846"
      ]
     },
     "execution_count": 21,
     "metadata": {},
     "output_type": "execute_result"
    }
   ],
   "source": [
    "first['dummy'].mean()"
   ]
  },
  {
   "cell_type": "code",
   "execution_count": null,
   "id": "105dd893",
   "metadata": {},
   "outputs": [],
   "source": []
  },
  {
   "cell_type": "code",
   "execution_count": null,
   "id": "e5ea7868",
   "metadata": {},
   "outputs": [],
   "source": []
  },
  {
   "cell_type": "code",
   "execution_count": null,
   "id": "7428fc57",
   "metadata": {},
   "outputs": [],
   "source": []
  },
  {
   "cell_type": "code",
   "execution_count": 22,
   "id": "6c0415aa",
   "metadata": {},
   "outputs": [
    {
     "data": {
      "text/plain": [
       "0         [0757995009, 0769748013, 0879248001, 081183500...\n",
       "1         [0757995009, 0769748013, 0879248001, 081183500...\n",
       "2         [0757995009, 0769748013, 0879248001, 081183500...\n",
       "3         [0757995009, 0769748013, 0879248001, 081183500...\n",
       "4         [0757995009, 0769748013, 0879248001, 081183500...\n",
       "                                ...                        \n",
       "137193    [0757995009, 0769748013, 0879248001, 081183500...\n",
       "137194    [0757995009, 0769748013, 0879248001, 081183500...\n",
       "137195    [0757995009, 0769748013, 0879248001, 081183500...\n",
       "137196    [0757995009, 0769748013, 0879248001, 081183500...\n",
       "137197    [0757995009, 0769748013, 0879248001, 081183500...\n",
       "Name: global_articles, Length: 137198, dtype: object"
      ]
     },
     "execution_count": 22,
     "metadata": {},
     "output_type": "execute_result"
    }
   ],
   "source": [
    "candidates['global_articles']"
   ]
  },
  {
   "cell_type": "code",
   "execution_count": 33,
   "id": "d186aaf2",
   "metadata": {},
   "outputs": [
    {
     "data": {
      "text/html": [
       "<div>\n",
       "<style scoped>\n",
       "    .dataframe tbody tr th:only-of-type {\n",
       "        vertical-align: middle;\n",
       "    }\n",
       "\n",
       "    .dataframe tbody tr th {\n",
       "        vertical-align: top;\n",
       "    }\n",
       "\n",
       "    .dataframe thead th {\n",
       "        text-align: right;\n",
       "    }\n",
       "</style>\n",
       "<table border=\"1\" class=\"dataframe\">\n",
       "  <thead>\n",
       "    <tr style=\"text-align: right;\">\n",
       "      <th></th>\n",
       "      <th>customer_id</th>\n",
       "      <th>global_articles</th>\n",
       "      <th>segment_articles</th>\n",
       "      <th>previously_bought</th>\n",
       "      <th>previously_bought_prod_name</th>\n",
       "      <th>closest_image_embeddings</th>\n",
       "      <th>closest_text_embeddings</th>\n",
       "    </tr>\n",
       "  </thead>\n",
       "  <tbody>\n",
       "    <tr>\n",
       "      <th>0</th>\n",
       "      <td>ff18c106287931d170618b59fd402ed0ecc292869aad5f...</td>\n",
       "      <td>[0757995009, 0769748013, 0879248001, 081183500...</td>\n",
       "      <td>[0806451001, 0769748013, 0879248001, 081183500...</td>\n",
       "      <td>None</td>\n",
       "      <td>None</td>\n",
       "      <td>None</td>\n",
       "      <td>None</td>\n",
       "    </tr>\n",
       "    <tr>\n",
       "      <th>1</th>\n",
       "      <td>136601b1d1f36b13b9a4bbe185f164f24f522c5d476d09...</td>\n",
       "      <td>[0757995009, 0769748013, 0879248001, 081183500...</td>\n",
       "      <td>[0490176004, 0769748013, 0879248001, 081183500...</td>\n",
       "      <td>None</td>\n",
       "      <td>None</td>\n",
       "      <td>None</td>\n",
       "      <td>None</td>\n",
       "    </tr>\n",
       "    <tr>\n",
       "      <th>2</th>\n",
       "      <td>247a3ee3fe8a153bbf14e41f18c8bb5ebc9d53fe83830d...</td>\n",
       "      <td>[0757995009, 0769748013, 0879248001, 081183500...</td>\n",
       "      <td>[0793012001, 0879248001, 0930380003, 072490500...</td>\n",
       "      <td>None</td>\n",
       "      <td>None</td>\n",
       "      <td>None</td>\n",
       "      <td>None</td>\n",
       "    </tr>\n",
       "    <tr>\n",
       "      <th>3</th>\n",
       "      <td>d1e601dc9ea370b6dee95cbb983adf7fe5294386410be9...</td>\n",
       "      <td>[0757995009, 0769748013, 0879248001, 081183500...</td>\n",
       "      <td>[0757995009, 0867044001, 0879248001, 076974801...</td>\n",
       "      <td>None</td>\n",
       "      <td>None</td>\n",
       "      <td>None</td>\n",
       "      <td>None</td>\n",
       "    </tr>\n",
       "    <tr>\n",
       "      <th>4</th>\n",
       "      <td>abc428504037054226353c4194380c7f16aff32b0633ac...</td>\n",
       "      <td>[0757995009, 0769748013, 0879248001, 081183500...</td>\n",
       "      <td>[0757995009, 0867044001, 0879248001, 076974801...</td>\n",
       "      <td>None</td>\n",
       "      <td>None</td>\n",
       "      <td>None</td>\n",
       "      <td>None</td>\n",
       "    </tr>\n",
       "  </tbody>\n",
       "</table>\n",
       "</div>"
      ],
      "text/plain": [
       "                                         customer_id  \\\n",
       "0  ff18c106287931d170618b59fd402ed0ecc292869aad5f...   \n",
       "1  136601b1d1f36b13b9a4bbe185f164f24f522c5d476d09...   \n",
       "2  247a3ee3fe8a153bbf14e41f18c8bb5ebc9d53fe83830d...   \n",
       "3  d1e601dc9ea370b6dee95cbb983adf7fe5294386410be9...   \n",
       "4  abc428504037054226353c4194380c7f16aff32b0633ac...   \n",
       "\n",
       "                                     global_articles  \\\n",
       "0  [0757995009, 0769748013, 0879248001, 081183500...   \n",
       "1  [0757995009, 0769748013, 0879248001, 081183500...   \n",
       "2  [0757995009, 0769748013, 0879248001, 081183500...   \n",
       "3  [0757995009, 0769748013, 0879248001, 081183500...   \n",
       "4  [0757995009, 0769748013, 0879248001, 081183500...   \n",
       "\n",
       "                                    segment_articles previously_bought  \\\n",
       "0  [0806451001, 0769748013, 0879248001, 081183500...              None   \n",
       "1  [0490176004, 0769748013, 0879248001, 081183500...              None   \n",
       "2  [0793012001, 0879248001, 0930380003, 072490500...              None   \n",
       "3  [0757995009, 0867044001, 0879248001, 076974801...              None   \n",
       "4  [0757995009, 0867044001, 0879248001, 076974801...              None   \n",
       "\n",
       "  previously_bought_prod_name closest_image_embeddings closest_text_embeddings  \n",
       "0                        None                     None                    None  \n",
       "1                        None                     None                    None  \n",
       "2                        None                     None                    None  \n",
       "3                        None                     None                    None  \n",
       "4                        None                     None                    None  "
      ]
     },
     "execution_count": 33,
     "metadata": {},
     "output_type": "execute_result"
    }
   ],
   "source": [
    "candidates.head()"
   ]
  },
  {
   "cell_type": "code",
   "execution_count": 64,
   "id": "de542a62",
   "metadata": {},
   "outputs": [
    {
     "data": {
      "text/plain": [
       "Index(['customer_id', 'global_articles', 'segment_articles',\n",
       "       'previously_bought', 'previously_bought_prod_name',\n",
       "       'closest_image_embeddings', 'closest_text_embeddings'],\n",
       "      dtype='object')"
      ]
     },
     "execution_count": 64,
     "metadata": {},
     "output_type": "execute_result"
    }
   ],
   "source": [
    "candidates.columns"
   ]
  },
  {
   "cell_type": "code",
   "execution_count": 60,
   "id": "b8baec98",
   "metadata": {},
   "outputs": [],
   "source": [
    "def add_lists_or_none(*args):\n",
    "    empty_set = set()\n",
    "    for arg in args:\n",
    "        if arg is None:\n",
    "            continue\n",
    "        new_item = set(arg)\n",
    "        empty_set |= new_item\n",
    "    return list(empty_set)"
   ]
  },
  {
   "cell_type": "code",
   "execution_count": 73,
   "id": "d89f6926",
   "metadata": {},
   "outputs": [],
   "source": [
    "mylist = ['global_articles', 'segment_articles',\n",
    "       'previously_bought', 'previously_bought_prod_name',\n",
    "       'closest_image_embeddings', 'closest_text_embeddings']"
   ]
  },
  {
   "cell_type": "code",
   "execution_count": 75,
   "id": "e5afdf97",
   "metadata": {},
   "outputs": [],
   "source": [
    "results = "
   ]
  },
  {
   "cell_type": "code",
   "execution_count": null,
   "id": "a09895c6",
   "metadata": {},
   "outputs": [],
   "source": [
    "candidates.apply(lambda x: *)"
   ]
  },
  {
   "cell_type": "code",
   "execution_count": 61,
   "id": "eb50b494",
   "metadata": {},
   "outputs": [],
   "source": [
    "candidates['all_candidates'] = candidates.apply(lambda x: add_lists_or_none(x.global_articles,\n",
    "                                             x.segment_articles,\n",
    "                                             x.previously_bought,\n",
    "                                             x.previously_bought_prod_name,\n",
    "                                             x.closest_image_embeddings,\n",
    "                                             x.closest_text_embeddings\n",
    "                                            ), axis=1)"
   ]
  },
  {
   "cell_type": "code",
   "execution_count": 67,
   "id": "f98eb347",
   "metadata": {},
   "outputs": [
    {
     "data": {
      "text/plain": [
       "customer_id                    a4092d95d91ec0ff90527962935550346d993a299353c6...\n",
       "global_articles                [0757995009, 0769748013, 0879248001, 081183500...\n",
       "segment_articles               [0757995009, 0867044001, 0879248001, 076974801...\n",
       "previously_bought                                                   [0870765002]\n",
       "previously_bought_prod_name                 [0870765002, 0702933008, 0870765004]\n",
       "closest_image_embeddings        [0721390005, 0607367012, 0547780046, 0737948002]\n",
       "closest_text_embeddings         [0870765004, 0810594001, 0859987001, 0779930001]\n",
       "all_candidates                 [0843793004, 0883026001, 0846181003, 075987100...\n",
       "Name: 137193, dtype: object"
      ]
     },
     "execution_count": 67,
     "metadata": {},
     "output_type": "execute_result"
    }
   ],
   "source": [
    "candidates.loc[137193,:]"
   ]
  },
  {
   "cell_type": "code",
   "execution_count": 68,
   "id": "56779eda",
   "metadata": {},
   "outputs": [
    {
     "data": {
      "text/plain": [
       "248"
      ]
     },
     "execution_count": 68,
     "metadata": {},
     "output_type": "execute_result"
    }
   ],
   "source": [
    "len(candidates.loc[137193,:].global_articles)"
   ]
  },
  {
   "cell_type": "code",
   "execution_count": 69,
   "id": "8e8689c1",
   "metadata": {},
   "outputs": [
    {
     "data": {
      "text/plain": [
       "246"
      ]
     },
     "execution_count": 69,
     "metadata": {},
     "output_type": "execute_result"
    }
   ],
   "source": [
    "len(candidates.loc[137193,:].segment_articles)"
   ]
  },
  {
   "cell_type": "code",
   "execution_count": 72,
   "id": "3ac41c36",
   "metadata": {},
   "outputs": [
    {
     "data": {
      "text/plain": [
       "4"
      ]
     },
     "execution_count": 72,
     "metadata": {},
     "output_type": "execute_result"
    }
   ],
   "source": [
    "len(candidates.loc[137193,:].closest_text_embeddings)"
   ]
  },
  {
   "cell_type": "code",
   "execution_count": 71,
   "id": "d2525ef7",
   "metadata": {},
   "outputs": [
    {
     "data": {
      "text/plain": [
       "317"
      ]
     },
     "execution_count": 71,
     "metadata": {},
     "output_type": "execute_result"
    }
   ],
   "source": [
    "len(candidates.loc[137193,:].all_candidates)"
   ]
  },
  {
   "cell_type": "code",
   "execution_count": null,
   "id": "ee116d4a",
   "metadata": {},
   "outputs": [],
   "source": []
  },
  {
   "cell_type": "code",
   "execution_count": null,
   "id": "0c8d0c2f",
   "metadata": {},
   "outputs": [],
   "source": [
    "df['E']=(df.B+df.C).map(set).map(list)"
   ]
  },
  {
   "cell_type": "code",
   "execution_count": null,
   "id": "3e7eb83e",
   "metadata": {},
   "outputs": [],
   "source": []
  },
  {
   "cell_type": "code",
   "execution_count": null,
   "id": "40c4467e",
   "metadata": {},
   "outputs": [],
   "source": []
  },
  {
   "cell_type": "code",
   "execution_count": null,
   "id": "862012de",
   "metadata": {},
   "outputs": [],
   "source": []
  },
  {
   "cell_type": "code",
   "execution_count": null,
   "id": "917f2347",
   "metadata": {},
   "outputs": [],
   "source": []
  },
  {
   "cell_type": "markdown",
   "id": "e7e76112",
   "metadata": {},
   "source": [
    "pandas + looping = inefficient too :D :D :D"
   ]
  },
  {
   "cell_type": "code",
   "execution_count": 40,
   "id": "bda3e8d1",
   "metadata": {},
   "outputs": [],
   "source": [
    "val = val_transactions.groupby(['customer_id'])['article_id'].apply(list).reset_index()"
   ]
  },
  {
   "cell_type": "code",
   "execution_count": 41,
   "id": "20e92258",
   "metadata": {},
   "outputs": [
    {
     "data": {
      "text/html": [
       "<div>\n",
       "<style scoped>\n",
       "    .dataframe tbody tr th:only-of-type {\n",
       "        vertical-align: middle;\n",
       "    }\n",
       "\n",
       "    .dataframe tbody tr th {\n",
       "        vertical-align: top;\n",
       "    }\n",
       "\n",
       "    .dataframe thead th {\n",
       "        text-align: right;\n",
       "    }\n",
       "</style>\n",
       "<table border=\"1\" class=\"dataframe\">\n",
       "  <thead>\n",
       "    <tr style=\"text-align: right;\">\n",
       "      <th></th>\n",
       "      <th>customer_id</th>\n",
       "      <th>article_id</th>\n",
       "    </tr>\n",
       "  </thead>\n",
       "  <tbody>\n",
       "    <tr>\n",
       "      <th>0</th>\n",
       "      <td>00459e5341c64d459a496c4cf5eb9016e2df3a34cbafaf...</td>\n",
       "      <td>[0832307007]</td>\n",
       "    </tr>\n",
       "    <tr>\n",
       "      <th>1</th>\n",
       "      <td>00462904b288681a9facb555f75dd2cf4d0f730a6e0ea7...</td>\n",
       "      <td>[0827968001, 0874819002, 0910457001]</td>\n",
       "    </tr>\n",
       "    <tr>\n",
       "      <th>2</th>\n",
       "      <td>00a69bed783860d6d82da6f451b20892f7e1355c241c0b...</td>\n",
       "      <td>[0730683062, 0862271003]</td>\n",
       "    </tr>\n",
       "    <tr>\n",
       "      <th>3</th>\n",
       "      <td>00bce12709bdc1536ee25bc63e229d3746960b20cbbb75...</td>\n",
       "      <td>[0869331006]</td>\n",
       "    </tr>\n",
       "    <tr>\n",
       "      <th>4</th>\n",
       "      <td>00c571917952c5c99ffb38e7f75b2e91a6b179591cd030...</td>\n",
       "      <td>[0752689002, 0843793004, 0505882002]</td>\n",
       "    </tr>\n",
       "  </tbody>\n",
       "</table>\n",
       "</div>"
      ],
      "text/plain": [
       "                                         customer_id  \\\n",
       "0  00459e5341c64d459a496c4cf5eb9016e2df3a34cbafaf...   \n",
       "1  00462904b288681a9facb555f75dd2cf4d0f730a6e0ea7...   \n",
       "2  00a69bed783860d6d82da6f451b20892f7e1355c241c0b...   \n",
       "3  00bce12709bdc1536ee25bc63e229d3746960b20cbbb75...   \n",
       "4  00c571917952c5c99ffb38e7f75b2e91a6b179591cd030...   \n",
       "\n",
       "                             article_id  \n",
       "0                          [0832307007]  \n",
       "1  [0827968001, 0874819002, 0910457001]  \n",
       "2              [0730683062, 0862271003]  \n",
       "3                          [0869331006]  \n",
       "4  [0752689002, 0843793004, 0505882002]  "
      ]
     },
     "execution_count": 41,
     "metadata": {},
     "output_type": "execute_result"
    }
   ],
   "source": [
    "val.head()"
   ]
  },
  {
   "cell_type": "code",
   "execution_count": 43,
   "id": "c7e8d759",
   "metadata": {},
   "outputs": [
    {
     "data": {
      "text/plain": [
       "(2865, 2)"
      ]
     },
     "execution_count": 43,
     "metadata": {},
     "output_type": "execute_result"
    }
   ],
   "source": [
    "val.shape"
   ]
  },
  {
   "cell_type": "code",
   "execution_count": 44,
   "id": "46a88149",
   "metadata": {},
   "outputs": [],
   "source": [
    "val = val.merge(candidates, on='customer_id', how='left')"
   ]
  },
  {
   "cell_type": "code",
   "execution_count": 45,
   "id": "b76cb183",
   "metadata": {},
   "outputs": [
    {
     "data": {
      "text/html": [
       "<div>\n",
       "<style scoped>\n",
       "    .dataframe tbody tr th:only-of-type {\n",
       "        vertical-align: middle;\n",
       "    }\n",
       "\n",
       "    .dataframe tbody tr th {\n",
       "        vertical-align: top;\n",
       "    }\n",
       "\n",
       "    .dataframe thead th {\n",
       "        text-align: right;\n",
       "    }\n",
       "</style>\n",
       "<table border=\"1\" class=\"dataframe\">\n",
       "  <thead>\n",
       "    <tr style=\"text-align: right;\">\n",
       "      <th></th>\n",
       "      <th>customer_id</th>\n",
       "      <th>article_id</th>\n",
       "      <th>global_articles</th>\n",
       "      <th>segment_articles</th>\n",
       "      <th>previously_bought</th>\n",
       "      <th>previously_bought_prod_name</th>\n",
       "      <th>closest_image_embeddings</th>\n",
       "      <th>closest_text_embeddings</th>\n",
       "    </tr>\n",
       "  </thead>\n",
       "  <tbody>\n",
       "    <tr>\n",
       "      <th>0</th>\n",
       "      <td>00459e5341c64d459a496c4cf5eb9016e2df3a34cbafaf...</td>\n",
       "      <td>[0832307007]</td>\n",
       "      <td>[0757995009, 0769748013, 0879248001, 081183500...</td>\n",
       "      <td>[0806451001, 0769748013, 0879248001, 081183500...</td>\n",
       "      <td>[0817484005, 0839284002, 0532123001, 083231100...</td>\n",
       "      <td>[0835008005, 0707269001, 0707269011, 087367900...</td>\n",
       "      <td>[0678924003, 0921226002, 0877961022, 092151900...</td>\n",
       "      <td>[0832481003, 0832481001, 0832481005, 077455200...</td>\n",
       "    </tr>\n",
       "    <tr>\n",
       "      <th>1</th>\n",
       "      <td>00462904b288681a9facb555f75dd2cf4d0f730a6e0ea7...</td>\n",
       "      <td>[0827968001, 0874819002, 0910457001]</td>\n",
       "      <td>[0757995009, 0769748013, 0879248001, 081183500...</td>\n",
       "      <td>[0757995009, 0867044001, 0879248001, 076974801...</td>\n",
       "      <td>[0903924001]</td>\n",
       "      <td>[0903924002, 0903924001]</td>\n",
       "      <td>[0814879002, 0765773004, 0800437002, 0711280006]</td>\n",
       "      <td>[0903924002, 0910961001, 0915444001, 0900183001]</td>\n",
       "    </tr>\n",
       "    <tr>\n",
       "      <th>2</th>\n",
       "      <td>00a69bed783860d6d82da6f451b20892f7e1355c241c0b...</td>\n",
       "      <td>[0730683062, 0862271003]</td>\n",
       "      <td>[0757995009, 0769748013, 0879248001, 081183500...</td>\n",
       "      <td>[0757995009, 0867044001, 0879248001, 076974801...</td>\n",
       "      <td>[0853556001, 0844160002, 0918525001]</td>\n",
       "      <td>[0818030001, 0853556001, 0844160002, 0918525001]</td>\n",
       "      <td>[0544515005, 0746344002, 0354246017, 089126500...</td>\n",
       "      <td>[0918525004, 0924320002, 0924320001, 090758500...</td>\n",
       "    </tr>\n",
       "    <tr>\n",
       "      <th>3</th>\n",
       "      <td>00bce12709bdc1536ee25bc63e229d3746960b20cbbb75...</td>\n",
       "      <td>[0869331006]</td>\n",
       "      <td>[0757995009, 0769748013, 0879248001, 081183500...</td>\n",
       "      <td>[0757995009, 0867044001, 0879248001, 076974801...</td>\n",
       "      <td>[0599580047, 0811835001, 0864216003]</td>\n",
       "      <td>[0599580074, 0599580038, 0599580047, 059958005...</td>\n",
       "      <td>[0609357004, 0902486002, 0785791001, 075662400...</td>\n",
       "      <td>[0864216001, 0864216017, 0864216004, 086421600...</td>\n",
       "    </tr>\n",
       "    <tr>\n",
       "      <th>4</th>\n",
       "      <td>00c571917952c5c99ffb38e7f75b2e91a6b179591cd030...</td>\n",
       "      <td>[0752689002, 0843793004, 0505882002]</td>\n",
       "      <td>[0757995009, 0769748013, 0879248001, 081183500...</td>\n",
       "      <td>[0757995009, 0867044001, 0879248001, 076974801...</td>\n",
       "      <td>[0739590030, 0802979002, 0599580047, 055960101...</td>\n",
       "      <td>[0776237034, 0776237020, 0589599031, 077623701...</td>\n",
       "      <td>[0845445001, 0730683019, 0661888004, 081190500...</td>\n",
       "      <td>[0880839006, 0880839002, 0880839003, 088304100...</td>\n",
       "    </tr>\n",
       "  </tbody>\n",
       "</table>\n",
       "</div>"
      ],
      "text/plain": [
       "                                         customer_id  \\\n",
       "0  00459e5341c64d459a496c4cf5eb9016e2df3a34cbafaf...   \n",
       "1  00462904b288681a9facb555f75dd2cf4d0f730a6e0ea7...   \n",
       "2  00a69bed783860d6d82da6f451b20892f7e1355c241c0b...   \n",
       "3  00bce12709bdc1536ee25bc63e229d3746960b20cbbb75...   \n",
       "4  00c571917952c5c99ffb38e7f75b2e91a6b179591cd030...   \n",
       "\n",
       "                             article_id  \\\n",
       "0                          [0832307007]   \n",
       "1  [0827968001, 0874819002, 0910457001]   \n",
       "2              [0730683062, 0862271003]   \n",
       "3                          [0869331006]   \n",
       "4  [0752689002, 0843793004, 0505882002]   \n",
       "\n",
       "                                     global_articles  \\\n",
       "0  [0757995009, 0769748013, 0879248001, 081183500...   \n",
       "1  [0757995009, 0769748013, 0879248001, 081183500...   \n",
       "2  [0757995009, 0769748013, 0879248001, 081183500...   \n",
       "3  [0757995009, 0769748013, 0879248001, 081183500...   \n",
       "4  [0757995009, 0769748013, 0879248001, 081183500...   \n",
       "\n",
       "                                    segment_articles  \\\n",
       "0  [0806451001, 0769748013, 0879248001, 081183500...   \n",
       "1  [0757995009, 0867044001, 0879248001, 076974801...   \n",
       "2  [0757995009, 0867044001, 0879248001, 076974801...   \n",
       "3  [0757995009, 0867044001, 0879248001, 076974801...   \n",
       "4  [0757995009, 0867044001, 0879248001, 076974801...   \n",
       "\n",
       "                                   previously_bought  \\\n",
       "0  [0817484005, 0839284002, 0532123001, 083231100...   \n",
       "1                                       [0903924001]   \n",
       "2               [0853556001, 0844160002, 0918525001]   \n",
       "3               [0599580047, 0811835001, 0864216003]   \n",
       "4  [0739590030, 0802979002, 0599580047, 055960101...   \n",
       "\n",
       "                         previously_bought_prod_name  \\\n",
       "0  [0835008005, 0707269001, 0707269011, 087367900...   \n",
       "1                           [0903924002, 0903924001]   \n",
       "2   [0818030001, 0853556001, 0844160002, 0918525001]   \n",
       "3  [0599580074, 0599580038, 0599580047, 059958005...   \n",
       "4  [0776237034, 0776237020, 0589599031, 077623701...   \n",
       "\n",
       "                            closest_image_embeddings  \\\n",
       "0  [0678924003, 0921226002, 0877961022, 092151900...   \n",
       "1   [0814879002, 0765773004, 0800437002, 0711280006]   \n",
       "2  [0544515005, 0746344002, 0354246017, 089126500...   \n",
       "3  [0609357004, 0902486002, 0785791001, 075662400...   \n",
       "4  [0845445001, 0730683019, 0661888004, 081190500...   \n",
       "\n",
       "                             closest_text_embeddings  \n",
       "0  [0832481003, 0832481001, 0832481005, 077455200...  \n",
       "1   [0903924002, 0910961001, 0915444001, 0900183001]  \n",
       "2  [0918525004, 0924320002, 0924320001, 090758500...  \n",
       "3  [0864216001, 0864216017, 0864216004, 086421600...  \n",
       "4  [0880839006, 0880839002, 0880839003, 088304100...  "
      ]
     },
     "execution_count": 45,
     "metadata": {},
     "output_type": "execute_result"
    }
   ],
   "source": [
    "val.head()"
   ]
  },
  {
   "cell_type": "code",
   "execution_count": 8,
   "id": "f85fd714",
   "metadata": {},
   "outputs": [],
   "source": [
    "def _concatenate_all_lists(*args):\n",
    "    articles_set = set()\n",
    "    for arg in args:\n",
    "        if arg is None:\n",
    "            continue\n",
    "        new_items = set(arg)\n",
    "        articles_set |= new_items\n",
    "    return list(articles_set) "
   ]
  },
  {
   "cell_type": "code",
   "execution_count": 9,
   "id": "31de783a",
   "metadata": {},
   "outputs": [
    {
     "data": {
      "text/html": [
       "<div>\n",
       "<style scoped>\n",
       "    .dataframe tbody tr th:only-of-type {\n",
       "        vertical-align: middle;\n",
       "    }\n",
       "\n",
       "    .dataframe tbody tr th {\n",
       "        vertical-align: top;\n",
       "    }\n",
       "\n",
       "    .dataframe thead th {\n",
       "        text-align: right;\n",
       "    }\n",
       "</style>\n",
       "<table border=\"1\" class=\"dataframe\">\n",
       "  <thead>\n",
       "    <tr style=\"text-align: right;\">\n",
       "      <th></th>\n",
       "      <th>customer_id</th>\n",
       "      <th>global_articles</th>\n",
       "      <th>segment_articles</th>\n",
       "      <th>previously_bought</th>\n",
       "      <th>previously_bought_prod_name</th>\n",
       "      <th>closest_image_embeddings</th>\n",
       "      <th>closest_text_embeddings</th>\n",
       "    </tr>\n",
       "  </thead>\n",
       "  <tbody>\n",
       "    <tr>\n",
       "      <th>0</th>\n",
       "      <td>ff18c106287931d170618b59fd402ed0ecc292869aad5f...</td>\n",
       "      <td>[0717490010, 0903926001, 0456163086, 090595700...</td>\n",
       "      <td>[0717490010, 0903926001, 0897687001, 045616308...</td>\n",
       "      <td>None</td>\n",
       "      <td>None</td>\n",
       "      <td>None</td>\n",
       "      <td>None</td>\n",
       "    </tr>\n",
       "    <tr>\n",
       "      <th>1</th>\n",
       "      <td>136601b1d1f36b13b9a4bbe185f164f24f522c5d476d09...</td>\n",
       "      <td>[0717490010, 0903926001, 0456163086, 090595700...</td>\n",
       "      <td>[0717490010, 0903926001, 0750423025, 085024100...</td>\n",
       "      <td>None</td>\n",
       "      <td>None</td>\n",
       "      <td>None</td>\n",
       "      <td>None</td>\n",
       "    </tr>\n",
       "    <tr>\n",
       "      <th>2</th>\n",
       "      <td>247a3ee3fe8a153bbf14e41f18c8bb5ebc9d53fe83830d...</td>\n",
       "      <td>[0717490010, 0903926001, 0456163086, 090595700...</td>\n",
       "      <td>[0717490010, 0903926001, 0750423025, 085024100...</td>\n",
       "      <td>None</td>\n",
       "      <td>None</td>\n",
       "      <td>None</td>\n",
       "      <td>None</td>\n",
       "    </tr>\n",
       "    <tr>\n",
       "      <th>3</th>\n",
       "      <td>d1e601dc9ea370b6dee95cbb983adf7fe5294386410be9...</td>\n",
       "      <td>[0717490010, 0903926001, 0456163086, 090595700...</td>\n",
       "      <td>[0717490010, 0903926001, 0854677004, 089465100...</td>\n",
       "      <td>None</td>\n",
       "      <td>None</td>\n",
       "      <td>None</td>\n",
       "      <td>None</td>\n",
       "    </tr>\n",
       "    <tr>\n",
       "      <th>4</th>\n",
       "      <td>abc428504037054226353c4194380c7f16aff32b0633ac...</td>\n",
       "      <td>[0717490010, 0903926001, 0456163086, 090595700...</td>\n",
       "      <td>[0717490010, 0903926001, 0897687001, 045616308...</td>\n",
       "      <td>None</td>\n",
       "      <td>None</td>\n",
       "      <td>None</td>\n",
       "      <td>None</td>\n",
       "    </tr>\n",
       "    <tr>\n",
       "      <th>...</th>\n",
       "      <td>...</td>\n",
       "      <td>...</td>\n",
       "      <td>...</td>\n",
       "      <td>...</td>\n",
       "      <td>...</td>\n",
       "      <td>...</td>\n",
       "      <td>...</td>\n",
       "    </tr>\n",
       "    <tr>\n",
       "      <th>137193</th>\n",
       "      <td>a4092d95d91ec0ff90527962935550346d993a299353c6...</td>\n",
       "      <td>[0717490010, 0903926001, 0456163086, 090595700...</td>\n",
       "      <td>[0717490010, 0903926001, 0897687001, 045616308...</td>\n",
       "      <td>[0870765002]</td>\n",
       "      <td>[0870765002, 0702933008, 0870765004]</td>\n",
       "      <td>[0721390005, 0607367012, 0547780046, 0737948002]</td>\n",
       "      <td>[0870765004, 0810594001, 0859987001, 0779930001]</td>\n",
       "    </tr>\n",
       "    <tr>\n",
       "      <th>137194</th>\n",
       "      <td>c321175e12787427aa6d00985519c41650614b362e206f...</td>\n",
       "      <td>[0717490010, 0903926001, 0456163086, 090595700...</td>\n",
       "      <td>[0717490010, 0903926001, 0854677004, 089465100...</td>\n",
       "      <td>None</td>\n",
       "      <td>None</td>\n",
       "      <td>None</td>\n",
       "      <td>None</td>\n",
       "    </tr>\n",
       "    <tr>\n",
       "      <th>137195</th>\n",
       "      <td>016a81548c36c010144819354910dc0763b9b10eeeeacf...</td>\n",
       "      <td>[0717490010, 0903926001, 0456163086, 090595700...</td>\n",
       "      <td>[0889828001, 0717490010, 0903926001, 085024100...</td>\n",
       "      <td>[0904422001]</td>\n",
       "      <td>[0904422001]</td>\n",
       "      <td>[0650388001, 0711138001, 0485544020, 0560209005]</td>\n",
       "      <td>[0933032002, 0933032001, 0933032003, 0806735001]</td>\n",
       "    </tr>\n",
       "    <tr>\n",
       "      <th>137196</th>\n",
       "      <td>dc066cb0d1be0a395c472b1a31679fcd64035db1a42121...</td>\n",
       "      <td>[0717490010, 0903926001, 0456163086, 090595700...</td>\n",
       "      <td>[0717490010, 0903926001, 0897687001, 045616308...</td>\n",
       "      <td>None</td>\n",
       "      <td>None</td>\n",
       "      <td>None</td>\n",
       "      <td>None</td>\n",
       "    </tr>\n",
       "    <tr>\n",
       "      <th>137197</th>\n",
       "      <td>4bb1952ea5ae562246737b4904e5db79ee65ec732f7c31...</td>\n",
       "      <td>[0717490010, 0903926001, 0456163086, 090595700...</td>\n",
       "      <td>[0717490010, 0903926001, 0854677004, 089465100...</td>\n",
       "      <td>None</td>\n",
       "      <td>None</td>\n",
       "      <td>None</td>\n",
       "      <td>None</td>\n",
       "    </tr>\n",
       "  </tbody>\n",
       "</table>\n",
       "<p>137198 rows × 7 columns</p>\n",
       "</div>"
      ],
      "text/plain": [
       "                                              customer_id  \\\n",
       "0       ff18c106287931d170618b59fd402ed0ecc292869aad5f...   \n",
       "1       136601b1d1f36b13b9a4bbe185f164f24f522c5d476d09...   \n",
       "2       247a3ee3fe8a153bbf14e41f18c8bb5ebc9d53fe83830d...   \n",
       "3       d1e601dc9ea370b6dee95cbb983adf7fe5294386410be9...   \n",
       "4       abc428504037054226353c4194380c7f16aff32b0633ac...   \n",
       "...                                                   ...   \n",
       "137193  a4092d95d91ec0ff90527962935550346d993a299353c6...   \n",
       "137194  c321175e12787427aa6d00985519c41650614b362e206f...   \n",
       "137195  016a81548c36c010144819354910dc0763b9b10eeeeacf...   \n",
       "137196  dc066cb0d1be0a395c472b1a31679fcd64035db1a42121...   \n",
       "137197  4bb1952ea5ae562246737b4904e5db79ee65ec732f7c31...   \n",
       "\n",
       "                                          global_articles  \\\n",
       "0       [0717490010, 0903926001, 0456163086, 090595700...   \n",
       "1       [0717490010, 0903926001, 0456163086, 090595700...   \n",
       "2       [0717490010, 0903926001, 0456163086, 090595700...   \n",
       "3       [0717490010, 0903926001, 0456163086, 090595700...   \n",
       "4       [0717490010, 0903926001, 0456163086, 090595700...   \n",
       "...                                                   ...   \n",
       "137193  [0717490010, 0903926001, 0456163086, 090595700...   \n",
       "137194  [0717490010, 0903926001, 0456163086, 090595700...   \n",
       "137195  [0717490010, 0903926001, 0456163086, 090595700...   \n",
       "137196  [0717490010, 0903926001, 0456163086, 090595700...   \n",
       "137197  [0717490010, 0903926001, 0456163086, 090595700...   \n",
       "\n",
       "                                         segment_articles previously_bought  \\\n",
       "0       [0717490010, 0903926001, 0897687001, 045616308...              None   \n",
       "1       [0717490010, 0903926001, 0750423025, 085024100...              None   \n",
       "2       [0717490010, 0903926001, 0750423025, 085024100...              None   \n",
       "3       [0717490010, 0903926001, 0854677004, 089465100...              None   \n",
       "4       [0717490010, 0903926001, 0897687001, 045616308...              None   \n",
       "...                                                   ...               ...   \n",
       "137193  [0717490010, 0903926001, 0897687001, 045616308...      [0870765002]   \n",
       "137194  [0717490010, 0903926001, 0854677004, 089465100...              None   \n",
       "137195  [0889828001, 0717490010, 0903926001, 085024100...      [0904422001]   \n",
       "137196  [0717490010, 0903926001, 0897687001, 045616308...              None   \n",
       "137197  [0717490010, 0903926001, 0854677004, 089465100...              None   \n",
       "\n",
       "                 previously_bought_prod_name  \\\n",
       "0                                       None   \n",
       "1                                       None   \n",
       "2                                       None   \n",
       "3                                       None   \n",
       "4                                       None   \n",
       "...                                      ...   \n",
       "137193  [0870765002, 0702933008, 0870765004]   \n",
       "137194                                  None   \n",
       "137195                          [0904422001]   \n",
       "137196                                  None   \n",
       "137197                                  None   \n",
       "\n",
       "                                closest_image_embeddings  \\\n",
       "0                                                   None   \n",
       "1                                                   None   \n",
       "2                                                   None   \n",
       "3                                                   None   \n",
       "4                                                   None   \n",
       "...                                                  ...   \n",
       "137193  [0721390005, 0607367012, 0547780046, 0737948002]   \n",
       "137194                                              None   \n",
       "137195  [0650388001, 0711138001, 0485544020, 0560209005]   \n",
       "137196                                              None   \n",
       "137197                                              None   \n",
       "\n",
       "                                 closest_text_embeddings  \n",
       "0                                                   None  \n",
       "1                                                   None  \n",
       "2                                                   None  \n",
       "3                                                   None  \n",
       "4                                                   None  \n",
       "...                                                  ...  \n",
       "137193  [0870765004, 0810594001, 0859987001, 0779930001]  \n",
       "137194                                              None  \n",
       "137195  [0933032002, 0933032001, 0933032003, 0806735001]  \n",
       "137196                                              None  \n",
       "137197                                              None  \n",
       "\n",
       "[137198 rows x 7 columns]"
      ]
     },
     "execution_count": 9,
     "metadata": {},
     "output_type": "execute_result"
    }
   ],
   "source": [
    "candidates"
   ]
  },
  {
   "cell_type": "code",
   "execution_count": 60,
   "id": "84dd2805",
   "metadata": {},
   "outputs": [],
   "source": [
    "aa = [col for col in candidates.columns if col != 'customer_id']"
   ]
  },
  {
   "cell_type": "code",
   "execution_count": 39,
   "id": "5470a53b",
   "metadata": {},
   "outputs": [
    {
     "data": {
      "text/plain": [
       "array(['0717490010', '0903926001', '0456163086', '0905957007',\n",
       "       '0904422001', '0874113026', '0552716001', '0896343002',\n",
       "       '0918525001', '0898573003', '0816563002', '0853881001',\n",
       "       '0763469002', '0759814009', '0935840001', '0908081003',\n",
       "       '0832298006', '0706016015', '0873279001', '0852174001',\n",
       "       '0678942054', '0759871001', '0882888002', '0698276009',\n",
       "       '0816423002', '0748355002', '0867969002', '0860819001',\n",
       "       '0895002004', '0855706004', '0811835009', '0850917003',\n",
       "       '0879088001', '0918894001', '0898692006', '0865929002',\n",
       "       '0817353008', '0933706001', '0880839001', '0883307004',\n",
       "       '0399256005', '0556255001', '0913688003', '0685813042',\n",
       "       '0832473001', '0776237020', '0571706001', '0677930066',\n",
       "       '0817477001', '0572998001', '0873279003', '0916468002',\n",
       "       '0923037002', '0869331006', '0811907003', '0926500001',\n",
       "       '0874819003', '0909916001', '0879248001', '0599580047',\n",
       "       '0212629048', '0783346020', '0824352001', '0942187001',\n",
       "       '0685813001', '0769748013', '0803757001', '0554598003',\n",
       "       '0857570001', '0884319001', '0715624010', '0636323001',\n",
       "       '0832453002', '0898713001', '0621381012', '0759871004',\n",
       "       '0919741001', '0841434003', '0923460001', '0832307007',\n",
       "       '0913030001', '0884319009', '0903420001', '0909371001',\n",
       "       '0805947006', '0783346032', '0827968001', '0720125001',\n",
       "       '0351484002', '0915526001', '0714790020', '0832481002',\n",
       "       '0751471043', '0784926001', '0850244003', '0811835001',\n",
       "       '0881942001', '0846181003', '0893141002', '0783346016',\n",
       "       '0907409001', '0821397007', '0158340001', '0832361001',\n",
       "       '0832330002', '0684209013', '0873279004', '0885710002',\n",
       "       '0600886011', '0863937003', '0759469001', '0599580038',\n",
       "       '0794575017', '0817401002', '0720125041', '0901330002',\n",
       "       '0860949002', '0873678003', '0821163003', '0921226001',\n",
       "       '0700765009', '0816521005', '0768912001', '0904545002',\n",
       "       '0762143001', '0914441003', '0599580052', '0778064003',\n",
       "       '0850244001', '0730683062', '0833530002'], dtype=object)"
      ]
     },
     "execution_count": 39,
     "metadata": {},
     "output_type": "execute_result"
    }
   ],
   "source": [
    "candidates.global_articles[0]"
   ]
  },
  {
   "cell_type": "code",
   "execution_count": 67,
   "id": "c000cd2f",
   "metadata": {},
   "outputs": [
    {
     "data": {
      "text/plain": [
       "['global_articles',\n",
       " 'segment_articles',\n",
       " 'previously_bought',\n",
       " 'previously_bought_prod_name',\n",
       " 'closest_image_embeddings',\n",
       " 'closest_text_embeddings']"
      ]
     },
     "execution_count": 67,
     "metadata": {},
     "output_type": "execute_result"
    }
   ],
   "source": [
    "aa"
   ]
  },
  {
   "cell_type": "code",
   "execution_count": 93,
   "id": "f99712e1",
   "metadata": {},
   "outputs": [
    {
     "data": {
      "text/plain": [
       "(137198, 6)"
      ]
     },
     "execution_count": 93,
     "metadata": {},
     "output_type": "execute_result"
    }
   ],
   "source": [
    "candidates[aa].values.shape"
   ]
  },
  {
   "cell_type": "code",
   "execution_count": 137,
   "id": "7bd69cbe",
   "metadata": {},
   "outputs": [
    {
     "data": {
      "text/plain": [
       "['global_articles',\n",
       " 'segment_articles',\n",
       " 'previously_bought',\n",
       " 'previously_bought_prod_name',\n",
       " 'closest_image_embeddings',\n",
       " 'closest_text_embeddings',\n",
       " 'all_candidates']"
      ]
     },
     "execution_count": 137,
     "metadata": {},
     "output_type": "execute_result"
    }
   ],
   "source": [
    "aa + ['all_candidates']"
   ]
  },
  {
   "cell_type": "code",
   "execution_count": 142,
   "id": "77e17e5b",
   "metadata": {},
   "outputs": [],
   "source": [
    "def add_lists(x, number):\n",
    "    empty_set = set()\n",
    "    for i in range(number):\n",
    "        if x[i] is None:\n",
    "            continue\n",
    "        empty_set |= set(x[i])\n",
    "    return empty_set"
   ]
  },
  {
   "cell_type": "code",
   "execution_count": 143,
   "id": "751a819f",
   "metadata": {},
   "outputs": [],
   "source": [
    "candidates['all_candidssates'] = np.apply_along_axis(add_lists, axis=1, arr=candidates[aa].values, number=6)"
   ]
  },
  {
   "cell_type": "code",
   "execution_count": null,
   "id": "35ca10db",
   "metadata": {},
   "outputs": [],
   "source": []
  },
  {
   "cell_type": "code",
   "execution_count": null,
   "id": "8219c151",
   "metadata": {},
   "outputs": [],
   "source": [
    "candidates.apply(lambda x: _concatenate_all_lists(x.global_articles,\n",
    "                                             x.segment_articles,\n",
    "                                             x.previously_bought,\n",
    "                                             x.previously_bought_prod_name,\n",
    "                                             x.closest_image_embeddings,\n",
    "                                             x.closest_text_embeddings\n",
    "                                            ), axis=1)"
   ]
  },
  {
   "cell_type": "code",
   "execution_count": 130,
   "id": "a48743df",
   "metadata": {},
   "outputs": [],
   "source": [
    "candidates['all_candidates_proper'] = candidates.apply(lambda x: _concatenate_all_lists(x.global_articles,\n",
    "                                             x.segment_articles,\n",
    "                                             x.previously_bought,\n",
    "                                             x.previously_bought_prod_name,\n",
    "                                             x.closest_image_embeddings,\n",
    "                                             x.closest_text_embeddings\n",
    "                                            ), axis=1)"
   ]
  },
  {
   "cell_type": "code",
   "execution_count": 135,
   "id": "c802f471",
   "metadata": {},
   "outputs": [
    {
     "data": {
      "text/plain": [
       "1.0"
      ]
     },
     "execution_count": 135,
     "metadata": {},
     "output_type": "execute_result"
    }
   ],
   "source": [
    "(candidates.all_candidates.apply(list)==candidates.all_candidates_proper).mean()"
   ]
  },
  {
   "cell_type": "code",
   "execution_count": null,
   "id": "a765781d",
   "metadata": {},
   "outputs": [],
   "source": []
  },
  {
   "cell_type": "code",
   "execution_count": null,
   "id": "b3103bf6",
   "metadata": {},
   "outputs": [],
   "source": []
  },
  {
   "cell_type": "code",
   "execution_count": null,
   "id": "e74eda31",
   "metadata": {},
   "outputs": [],
   "source": []
  },
  {
   "cell_type": "code",
   "execution_count": null,
   "id": "e4919681",
   "metadata": {},
   "outputs": [],
   "source": []
  },
  {
   "cell_type": "code",
   "execution_count": null,
   "id": "f87116a1",
   "metadata": {},
   "outputs": [],
   "source": []
  }
 ],
 "metadata": {
  "kernelspec": {
   "display_name": "GetInDataMLFramework",
   "language": "python",
   "name": "python3"
  },
  "language_info": {
   "codemirror_mode": {
    "name": "ipython",
    "version": 3
   },
   "file_extension": ".py",
   "mimetype": "text/x-python",
   "name": "python",
   "nbconvert_exporter": "python",
   "pygments_lexer": "ipython3",
   "version": "3.8.12"
  }
 },
 "nbformat": 4,
 "nbformat_minor": 5
}
