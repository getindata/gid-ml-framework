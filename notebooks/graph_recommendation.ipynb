{
 "cells": [
  {
   "cell_type": "markdown",
   "metadata": {},
   "source": [
    "# Graph recommendation"
   ]
  },
  {
   "cell_type": "code",
   "execution_count": 8,
   "metadata": {},
   "outputs": [
    {
     "data": {
      "text/html": [
       "<pre style=\"white-space:pre;overflow-x:auto;line-height:normal;font-family:Menlo,'DejaVu Sans Mono',consolas,'Courier New',monospace\"><span style=\"color: #7fbfbf; text-decoration-color: #7fbfbf\">[09/02/22 13:41:47] </span><span style=\"color: #000080; text-decoration-color: #000080\">INFO    </span> Updated path to Kedro project: <span style=\"color: #800080; text-decoration-color: #800080\">/home/michal/projects/</span><span style=\"color: #ff00ff; text-decoration-color: #ff00ff\">gid-ml-framework</span>    <a href=\"file:///home/michal/projects/gid-ml-framework/.venv/lib/python3.8/site-packages/kedro/extras/extensions/ipython.py\" target=\"_blank\"><span style=\"color: #7f7f7f; text-decoration-color: #7f7f7f\">ipython.py</span></a><span style=\"color: #7f7f7f; text-decoration-color: #7f7f7f\">:</span><a href=\"file:///home/michal/projects/gid-ml-framework/.venv/lib/python3.8/site-packages/kedro/extras/extensions/ipython.py#53\" target=\"_blank\"><span style=\"color: #7f7f7f; text-decoration-color: #7f7f7f\">53</span></a>\n",
       "</pre>\n"
      ],
      "text/plain": [
       "\u001b[2;36m[09/02/22 13:41:47]\u001b[0m\u001b[2;36m \u001b[0m\u001b[34mINFO    \u001b[0m Updated path to Kedro project: \u001b[35m/home/michal/projects/\u001b[0m\u001b[95mgid-ml-framework\u001b[0m    \u001b]8;id=632252;file:///home/michal/projects/gid-ml-framework/.venv/lib/python3.8/site-packages/kedro/extras/extensions/ipython.py\u001b\\\u001b[2mipython.py\u001b[0m\u001b]8;;\u001b\\\u001b[2m:\u001b[0m\u001b]8;id=707072;file:///home/michal/projects/gid-ml-framework/.venv/lib/python3.8/site-packages/kedro/extras/extensions/ipython.py#53\u001b\\\u001b[2m53\u001b[0m\u001b]8;;\u001b\\\n"
      ]
     },
     "metadata": {},
     "output_type": "display_data"
    },
    {
     "data": {
      "text/html": [
       "<pre style=\"white-space:pre;overflow-x:auto;line-height:normal;font-family:Menlo,'DejaVu Sans Mono',consolas,'Courier New',monospace\"><span style=\"color: #7fbfbf; text-decoration-color: #7fbfbf\">[09/02/22 13:41:48] </span><span style=\"color: #000080; text-decoration-color: #000080\">INFO    </span> The <span style=\"color: #008000; text-decoration-color: #008000\">'mlflow_tracking_uri'</span> key in mlflow.yml is relative     <a href=\"file:///home/michal/projects/gid-ml-framework/.venv/lib/python3.8/site-packages/kedro_mlflow/config/kedro_mlflow_config.py\" target=\"_blank\"><span style=\"color: #7f7f7f; text-decoration-color: #7f7f7f\">kedro_mlflow_config.py</span></a><span style=\"color: #7f7f7f; text-decoration-color: #7f7f7f\">:</span><a href=\"file:///home/michal/projects/gid-ml-framework/.venv/lib/python3.8/site-packages/kedro_mlflow/config/kedro_mlflow_config.py#202\" target=\"_blank\"><span style=\"color: #7f7f7f; text-decoration-color: #7f7f7f\">202</span></a>\n",
       "<span style=\"color: #7fbfbf; text-decoration-color: #7fbfbf\">                    </span>         <span style=\"font-weight: bold\">(</span><span style=\"color: #008000; text-decoration-color: #008000\">'server.mlflow_tracking_uri = mlruns'</span><span style=\"font-weight: bold\">)</span>. It is converted to <span style=\"color: #7f7f7f; text-decoration-color: #7f7f7f\">                          </span>\n",
       "<span style=\"color: #7fbfbf; text-decoration-color: #7fbfbf\">                    </span>         a valid uri:                                                <span style=\"color: #7f7f7f; text-decoration-color: #7f7f7f\">                          </span>\n",
       "<span style=\"color: #7fbfbf; text-decoration-color: #7fbfbf\">                    </span>         <span style=\"color: #008000; text-decoration-color: #008000\">'file:///home/michal/projects/gid-ml-framework/mlruns'</span>      <span style=\"color: #7f7f7f; text-decoration-color: #7f7f7f\">                          </span>\n",
       "</pre>\n"
      ],
      "text/plain": [
       "\u001b[2;36m[09/02/22 13:41:48]\u001b[0m\u001b[2;36m \u001b[0m\u001b[34mINFO    \u001b[0m The \u001b[32m'mlflow_tracking_uri'\u001b[0m key in mlflow.yml is relative     \u001b]8;id=817193;file:///home/michal/projects/gid-ml-framework/.venv/lib/python3.8/site-packages/kedro_mlflow/config/kedro_mlflow_config.py\u001b\\\u001b[2mkedro_mlflow_config.py\u001b[0m\u001b]8;;\u001b\\\u001b[2m:\u001b[0m\u001b]8;id=567961;file:///home/michal/projects/gid-ml-framework/.venv/lib/python3.8/site-packages/kedro_mlflow/config/kedro_mlflow_config.py#202\u001b\\\u001b[2m202\u001b[0m\u001b]8;;\u001b\\\n",
       "\u001b[2;36m                    \u001b[0m         \u001b[1m(\u001b[0m\u001b[32m'server.mlflow_tracking_uri = mlruns'\u001b[0m\u001b[1m)\u001b[0m. It is converted to \u001b[2m                          \u001b[0m\n",
       "\u001b[2;36m                    \u001b[0m         a valid uri:                                                \u001b[2m                          \u001b[0m\n",
       "\u001b[2;36m                    \u001b[0m         \u001b[32m'file:///home/michal/projects/gid-ml-framework/mlruns'\u001b[0m      \u001b[2m                          \u001b[0m\n"
      ]
     },
     "metadata": {},
     "output_type": "display_data"
    },
    {
     "data": {
      "text/html": [
       "<pre style=\"white-space:pre;overflow-x:auto;line-height:normal;font-family:Menlo,'DejaVu Sans Mono',consolas,'Courier New',monospace\"><span style=\"color: #7fbfbf; text-decoration-color: #7fbfbf\">                    </span><span style=\"color: #800000; text-decoration-color: #800000\">WARNING </span> <span style=\"color: #800080; text-decoration-color: #800080\">/home/michal/projects/gid-ml-framework/.venv/lib/python3.8/site-packag</span> <a href=\"file:///home/michal/.pyenv/versions/3.8.12/lib/python3.8/warnings.py\" target=\"_blank\"><span style=\"color: #7f7f7f; text-decoration-color: #7f7f7f\">warnings.py</span></a><span style=\"color: #7f7f7f; text-decoration-color: #7f7f7f\">:</span><a href=\"file:///home/michal/.pyenv/versions/3.8.12/lib/python3.8/warnings.py#109\" target=\"_blank\"><span style=\"color: #7f7f7f; text-decoration-color: #7f7f7f\">109</span></a>\n",
       "<span style=\"color: #7fbfbf; text-decoration-color: #7fbfbf\">                    </span>         <span style=\"color: #800080; text-decoration-color: #800080\">es/kedro/framework/context/</span><span style=\"color: #ff00ff; text-decoration-color: #ff00ff\">context.py</span>:<span style=\"color: #008080; text-decoration-color: #008080; font-weight: bold\">344</span>: UserWarning: Credentials    <span style=\"color: #7f7f7f; text-decoration-color: #7f7f7f\">               </span>\n",
       "<span style=\"color: #7fbfbf; text-decoration-color: #7fbfbf\">                    </span>         not found in your Kedro project config.                                <span style=\"color: #7f7f7f; text-decoration-color: #7f7f7f\">               </span>\n",
       "<span style=\"color: #7fbfbf; text-decoration-color: #7fbfbf\">                    </span>         No files found in <span style=\"font-weight: bold\">[</span><span style=\"color: #008000; text-decoration-color: #008000\">'/home/michal/projects/gid-ml-framework/conf/base'</span>, <span style=\"color: #7f7f7f; text-decoration-color: #7f7f7f\">               </span>\n",
       "<span style=\"color: #7fbfbf; text-decoration-color: #7fbfbf\">                    </span>         <span style=\"color: #008000; text-decoration-color: #008000\">'/home/michal/projects/gid-ml-framework/conf/local'</span><span style=\"font-weight: bold\">]</span> matching the glob <span style=\"color: #7f7f7f; text-decoration-color: #7f7f7f\">               </span>\n",
       "<span style=\"color: #7fbfbf; text-decoration-color: #7fbfbf\">                    </span>         <span style=\"color: #800080; text-decoration-color: #800080; font-weight: bold\">pattern</span><span style=\"font-weight: bold\">(</span>s<span style=\"font-weight: bold\">)</span>: <span style=\"font-weight: bold\">[</span><span style=\"color: #008000; text-decoration-color: #008000\">'credentials*'</span>, <span style=\"color: #008000; text-decoration-color: #008000\">'credentials*/**'</span>, <span style=\"color: #008000; text-decoration-color: #008000\">'**/credentials*'</span><span style=\"font-weight: bold\">]</span>     <span style=\"color: #7f7f7f; text-decoration-color: #7f7f7f\">               </span>\n",
       "<span style=\"color: #7fbfbf; text-decoration-color: #7fbfbf\">                    </span>           <span style=\"color: #800080; text-decoration-color: #800080; font-weight: bold\">warn</span><span style=\"font-weight: bold\">(</span>f\"Credentials not found in your Kedro project                   <span style=\"color: #7f7f7f; text-decoration-color: #7f7f7f\">               </span>\n",
       "<span style=\"color: #7fbfbf; text-decoration-color: #7fbfbf\">                    </span>         config.\\n<span style=\"font-weight: bold\">{</span><span style=\"color: #800080; text-decoration-color: #800080; font-weight: bold\">str</span><span style=\"font-weight: bold\">(</span>exc<span style=\"font-weight: bold\">)}</span>\"<span style=\"font-weight: bold\">)</span>                                                  <span style=\"color: #7f7f7f; text-decoration-color: #7f7f7f\">               </span>\n",
       "<span style=\"color: #7fbfbf; text-decoration-color: #7fbfbf\">                    </span>                                                                                <span style=\"color: #7f7f7f; text-decoration-color: #7f7f7f\">               </span>\n",
       "</pre>\n"
      ],
      "text/plain": [
       "\u001b[2;36m                   \u001b[0m\u001b[2;36m \u001b[0m\u001b[31mWARNING \u001b[0m \u001b[35m/home/michal/projects/gid-ml-framework/.venv/lib/python3.8/site-packag\u001b[0m \u001b]8;id=148926;file:///home/michal/.pyenv/versions/3.8.12/lib/python3.8/warnings.py\u001b\\\u001b[2mwarnings.py\u001b[0m\u001b]8;;\u001b\\\u001b[2m:\u001b[0m\u001b]8;id=945193;file:///home/michal/.pyenv/versions/3.8.12/lib/python3.8/warnings.py#109\u001b\\\u001b[2m109\u001b[0m\u001b]8;;\u001b\\\n",
       "\u001b[2;36m                    \u001b[0m         \u001b[35mes/kedro/framework/context/\u001b[0m\u001b[95mcontext.py\u001b[0m:\u001b[1;36m344\u001b[0m: UserWarning: Credentials    \u001b[2m               \u001b[0m\n",
       "\u001b[2;36m                    \u001b[0m         not found in your Kedro project config.                                \u001b[2m               \u001b[0m\n",
       "\u001b[2;36m                    \u001b[0m         No files found in \u001b[1m[\u001b[0m\u001b[32m'/home/michal/projects/gid-ml-framework/conf/base'\u001b[0m, \u001b[2m               \u001b[0m\n",
       "\u001b[2;36m                    \u001b[0m         \u001b[32m'/home/michal/projects/gid-ml-framework/conf/local'\u001b[0m\u001b[1m]\u001b[0m matching the glob \u001b[2m               \u001b[0m\n",
       "\u001b[2;36m                    \u001b[0m         \u001b[1;35mpattern\u001b[0m\u001b[1m(\u001b[0ms\u001b[1m)\u001b[0m: \u001b[1m[\u001b[0m\u001b[32m'credentials*'\u001b[0m, \u001b[32m'credentials*/**'\u001b[0m, \u001b[32m'**/credentials*'\u001b[0m\u001b[1m]\u001b[0m     \u001b[2m               \u001b[0m\n",
       "\u001b[2;36m                    \u001b[0m           \u001b[1;35mwarn\u001b[0m\u001b[1m(\u001b[0mf\"Credentials not found in your Kedro project                   \u001b[2m               \u001b[0m\n",
       "\u001b[2;36m                    \u001b[0m         config.\\n\u001b[1m{\u001b[0m\u001b[1;35mstr\u001b[0m\u001b[1m(\u001b[0mexc\u001b[1m)\u001b[0m\u001b[1m}\u001b[0m\"\u001b[1m)\u001b[0m                                                  \u001b[2m               \u001b[0m\n",
       "\u001b[2;36m                    \u001b[0m                                                                                \u001b[2m               \u001b[0m\n"
      ]
     },
     "metadata": {},
     "output_type": "display_data"
    },
    {
     "data": {
      "text/html": [
       "<pre style=\"white-space:pre;overflow-x:auto;line-height:normal;font-family:Menlo,'DejaVu Sans Mono',consolas,'Courier New',monospace\"><span style=\"color: #7fbfbf; text-decoration-color: #7fbfbf\">                    </span><span style=\"color: #000080; text-decoration-color: #000080\">INFO    </span> Kedro project GetInData ML Framework                                     <a href=\"file:///home/michal/projects/gid-ml-framework/.venv/lib/python3.8/site-packages/kedro/extras/extensions/ipython.py\" target=\"_blank\"><span style=\"color: #7f7f7f; text-decoration-color: #7f7f7f\">ipython.py</span></a><span style=\"color: #7f7f7f; text-decoration-color: #7f7f7f\">:</span><a href=\"file:///home/michal/projects/gid-ml-framework/.venv/lib/python3.8/site-packages/kedro/extras/extensions/ipython.py#78\" target=\"_blank\"><span style=\"color: #7f7f7f; text-decoration-color: #7f7f7f\">78</span></a>\n",
       "</pre>\n"
      ],
      "text/plain": [
       "\u001b[2;36m                   \u001b[0m\u001b[2;36m \u001b[0m\u001b[34mINFO    \u001b[0m Kedro project GetInData ML Framework                                     \u001b]8;id=43488;file:///home/michal/projects/gid-ml-framework/.venv/lib/python3.8/site-packages/kedro/extras/extensions/ipython.py\u001b\\\u001b[2mipython.py\u001b[0m\u001b]8;;\u001b\\\u001b[2m:\u001b[0m\u001b]8;id=601942;file:///home/michal/projects/gid-ml-framework/.venv/lib/python3.8/site-packages/kedro/extras/extensions/ipython.py#78\u001b\\\u001b[2m78\u001b[0m\u001b]8;;\u001b\\\n"
      ]
     },
     "metadata": {},
     "output_type": "display_data"
    },
    {
     "data": {
      "text/html": [
       "<pre style=\"white-space:pre;overflow-x:auto;line-height:normal;font-family:Menlo,'DejaVu Sans Mono',consolas,'Courier New',monospace\"><span style=\"color: #7fbfbf; text-decoration-color: #7fbfbf\">                    </span><span style=\"color: #000080; text-decoration-color: #000080\">INFO    </span> Defined global variable <span style=\"color: #008000; text-decoration-color: #008000\">'context'</span>, <span style=\"color: #008000; text-decoration-color: #008000\">'session'</span>, <span style=\"color: #008000; text-decoration-color: #008000\">'catalog'</span> and <span style=\"color: #008000; text-decoration-color: #008000\">'pipelines'</span>  <a href=\"file:///home/michal/projects/gid-ml-framework/.venv/lib/python3.8/site-packages/kedro/extras/extensions/ipython.py\" target=\"_blank\"><span style=\"color: #7f7f7f; text-decoration-color: #7f7f7f\">ipython.py</span></a><span style=\"color: #7f7f7f; text-decoration-color: #7f7f7f\">:</span><a href=\"file:///home/michal/projects/gid-ml-framework/.venv/lib/python3.8/site-packages/kedro/extras/extensions/ipython.py#79\" target=\"_blank\"><span style=\"color: #7f7f7f; text-decoration-color: #7f7f7f\">79</span></a>\n",
       "</pre>\n"
      ],
      "text/plain": [
       "\u001b[2;36m                   \u001b[0m\u001b[2;36m \u001b[0m\u001b[34mINFO    \u001b[0m Defined global variable \u001b[32m'context'\u001b[0m, \u001b[32m'session'\u001b[0m, \u001b[32m'catalog'\u001b[0m and \u001b[32m'pipelines'\u001b[0m  \u001b]8;id=204946;file:///home/michal/projects/gid-ml-framework/.venv/lib/python3.8/site-packages/kedro/extras/extensions/ipython.py\u001b\\\u001b[2mipython.py\u001b[0m\u001b]8;;\u001b\\\u001b[2m:\u001b[0m\u001b]8;id=719586;file:///home/michal/projects/gid-ml-framework/.venv/lib/python3.8/site-packages/kedro/extras/extensions/ipython.py#79\u001b\\\u001b[2m79\u001b[0m\u001b]8;;\u001b\\\n"
      ]
     },
     "metadata": {},
     "output_type": "display_data"
    },
    {
     "data": {
      "text/html": [
       "<pre style=\"white-space:pre;overflow-x:auto;line-height:normal;font-family:Menlo,'DejaVu Sans Mono',consolas,'Courier New',monospace\"><span style=\"color: #7fbfbf; text-decoration-color: #7fbfbf\">[09/02/22 13:41:49] </span><span style=\"color: #800000; text-decoration-color: #800000\">WARNING </span> <span style=\"color: #800080; text-decoration-color: #800080\">/home/michal/projects/gid-ml-framework/.venv/lib/python3.8/site-packag</span> <a href=\"file:///home/michal/.pyenv/versions/3.8.12/lib/python3.8/warnings.py\" target=\"_blank\"><span style=\"color: #7f7f7f; text-decoration-color: #7f7f7f\">warnings.py</span></a><span style=\"color: #7f7f7f; text-decoration-color: #7f7f7f\">:</span><a href=\"file:///home/michal/.pyenv/versions/3.8.12/lib/python3.8/warnings.py#109\" target=\"_blank\"><span style=\"color: #7f7f7f; text-decoration-color: #7f7f7f\">109</span></a>\n",
       "<span style=\"color: #7fbfbf; text-decoration-color: #7fbfbf\">                    </span>         <span style=\"color: #800080; text-decoration-color: #800080\">es/plotly/graph_objects/</span><span style=\"color: #ff00ff; text-decoration-color: #ff00ff\">__init__.py</span>:<span style=\"color: #008080; text-decoration-color: #008080; font-weight: bold\">288</span>: DeprecationWarning: distutils <span style=\"color: #7f7f7f; text-decoration-color: #7f7f7f\">               </span>\n",
       "<span style=\"color: #7fbfbf; text-decoration-color: #7fbfbf\">                    </span>         Version classes are deprecated. Use packaging.version instead.         <span style=\"color: #7f7f7f; text-decoration-color: #7f7f7f\">               </span>\n",
       "<span style=\"color: #7fbfbf; text-decoration-color: #7fbfbf\">                    </span>           if <span style=\"color: #800080; text-decoration-color: #800080; font-weight: bold\">LooseVersion</span><span style=\"font-weight: bold\">(</span>ipywidgets.__version__<span style=\"font-weight: bold\">)</span> &gt;= <span style=\"color: #800080; text-decoration-color: #800080; font-weight: bold\">LooseVersion</span><span style=\"font-weight: bold\">(</span><span style=\"color: #008000; text-decoration-color: #008000\">\"7.0.0\"</span><span style=\"font-weight: bold\">)</span>:    <span style=\"color: #7f7f7f; text-decoration-color: #7f7f7f\">               </span>\n",
       "<span style=\"color: #7fbfbf; text-decoration-color: #7fbfbf\">                    </span>                                                                                <span style=\"color: #7f7f7f; text-decoration-color: #7f7f7f\">               </span>\n",
       "</pre>\n"
      ],
      "text/plain": [
       "\u001b[2;36m[09/02/22 13:41:49]\u001b[0m\u001b[2;36m \u001b[0m\u001b[31mWARNING \u001b[0m \u001b[35m/home/michal/projects/gid-ml-framework/.venv/lib/python3.8/site-packag\u001b[0m \u001b]8;id=400815;file:///home/michal/.pyenv/versions/3.8.12/lib/python3.8/warnings.py\u001b\\\u001b[2mwarnings.py\u001b[0m\u001b]8;;\u001b\\\u001b[2m:\u001b[0m\u001b]8;id=728003;file:///home/michal/.pyenv/versions/3.8.12/lib/python3.8/warnings.py#109\u001b\\\u001b[2m109\u001b[0m\u001b]8;;\u001b\\\n",
       "\u001b[2;36m                    \u001b[0m         \u001b[35mes/plotly/graph_objects/\u001b[0m\u001b[95m__init__.py\u001b[0m:\u001b[1;36m288\u001b[0m: DeprecationWarning: distutils \u001b[2m               \u001b[0m\n",
       "\u001b[2;36m                    \u001b[0m         Version classes are deprecated. Use packaging.version instead.         \u001b[2m               \u001b[0m\n",
       "\u001b[2;36m                    \u001b[0m           if \u001b[1;35mLooseVersion\u001b[0m\u001b[1m(\u001b[0mipywidgets.__version__\u001b[1m)\u001b[0m >= \u001b[1;35mLooseVersion\u001b[0m\u001b[1m(\u001b[0m\u001b[32m\"7.0.0\"\u001b[0m\u001b[1m)\u001b[0m:    \u001b[2m               \u001b[0m\n",
       "\u001b[2;36m                    \u001b[0m                                                                                \u001b[2m               \u001b[0m\n"
      ]
     },
     "metadata": {},
     "output_type": "display_data"
    },
    {
     "data": {
      "text/html": [
       "<pre style=\"white-space:pre;overflow-x:auto;line-height:normal;font-family:Menlo,'DejaVu Sans Mono',consolas,'Courier New',monospace\"><span style=\"color: #7fbfbf; text-decoration-color: #7fbfbf\">                    </span><span style=\"color: #000080; text-decoration-color: #000080\">INFO    </span> Registered line magic <span style=\"color: #008000; text-decoration-color: #008000\">'run_viz'</span>                                          <a href=\"file:///home/michal/projects/gid-ml-framework/.venv/lib/python3.8/site-packages/kedro/extras/extensions/ipython.py\" target=\"_blank\"><span style=\"color: #7f7f7f; text-decoration-color: #7f7f7f\">ipython.py</span></a><span style=\"color: #7f7f7f; text-decoration-color: #7f7f7f\">:</span><a href=\"file:///home/michal/projects/gid-ml-framework/.venv/lib/python3.8/site-packages/kedro/extras/extensions/ipython.py#85\" target=\"_blank\"><span style=\"color: #7f7f7f; text-decoration-color: #7f7f7f\">85</span></a>\n",
       "</pre>\n"
      ],
      "text/plain": [
       "\u001b[2;36m                   \u001b[0m\u001b[2;36m \u001b[0m\u001b[34mINFO    \u001b[0m Registered line magic \u001b[32m'run_viz'\u001b[0m                                          \u001b]8;id=804716;file:///home/michal/projects/gid-ml-framework/.venv/lib/python3.8/site-packages/kedro/extras/extensions/ipython.py\u001b\\\u001b[2mipython.py\u001b[0m\u001b]8;;\u001b\\\u001b[2m:\u001b[0m\u001b]8;id=622963;file:///home/michal/projects/gid-ml-framework/.venv/lib/python3.8/site-packages/kedro/extras/extensions/ipython.py#85\u001b\\\u001b[2m85\u001b[0m\u001b]8;;\u001b\\\n"
      ]
     },
     "metadata": {},
     "output_type": "display_data"
    },
    {
     "data": {
      "text/html": [
       "<pre style=\"white-space:pre;overflow-x:auto;line-height:normal;font-family:Menlo,'DejaVu Sans Mono',consolas,'Courier New',monospace\"><span style=\"color: #7fbfbf; text-decoration-color: #7fbfbf\">                    </span><span style=\"color: #000080; text-decoration-color: #000080\">INFO    </span> Registered line magic <span style=\"color: #008000; text-decoration-color: #008000\">'reload_kedro_mlflow'</span>                              <a href=\"file:///home/michal/projects/gid-ml-framework/.venv/lib/python3.8/site-packages/kedro/extras/extensions/ipython.py\" target=\"_blank\"><span style=\"color: #7f7f7f; text-decoration-color: #7f7f7f\">ipython.py</span></a><span style=\"color: #7f7f7f; text-decoration-color: #7f7f7f\">:</span><a href=\"file:///home/michal/projects/gid-ml-framework/.venv/lib/python3.8/site-packages/kedro/extras/extensions/ipython.py#85\" target=\"_blank\"><span style=\"color: #7f7f7f; text-decoration-color: #7f7f7f\">85</span></a>\n",
       "</pre>\n"
      ],
      "text/plain": [
       "\u001b[2;36m                   \u001b[0m\u001b[2;36m \u001b[0m\u001b[34mINFO    \u001b[0m Registered line magic \u001b[32m'reload_kedro_mlflow'\u001b[0m                              \u001b]8;id=326927;file:///home/michal/projects/gid-ml-framework/.venv/lib/python3.8/site-packages/kedro/extras/extensions/ipython.py\u001b\\\u001b[2mipython.py\u001b[0m\u001b]8;;\u001b\\\u001b[2m:\u001b[0m\u001b]8;id=639170;file:///home/michal/projects/gid-ml-framework/.venv/lib/python3.8/site-packages/kedro/extras/extensions/ipython.py#85\u001b\\\u001b[2m85\u001b[0m\u001b]8;;\u001b\\\n"
      ]
     },
     "metadata": {},
     "output_type": "display_data"
    }
   ],
   "source": [
    "%load_ext kedro.extras.extensions.ipython"
   ]
  },
  {
   "cell_type": "code",
   "execution_count": 9,
   "metadata": {},
   "outputs": [
    {
     "data": {
      "text/html": [
       "<pre style=\"white-space:pre;overflow-x:auto;line-height:normal;font-family:Menlo,'DejaVu Sans Mono',consolas,'Courier New',monospace\"><span style=\"color: #7fbfbf; text-decoration-color: #7fbfbf\">[09/02/22 13:41:50] </span><span style=\"color: #000080; text-decoration-color: #000080\">INFO    </span> No path argument was provided. Using:                                    <a href=\"file:///home/michal/projects/gid-ml-framework/.venv/lib/python3.8/site-packages/kedro/extras/extensions/ipython.py\" target=\"_blank\"><span style=\"color: #7f7f7f; text-decoration-color: #7f7f7f\">ipython.py</span></a><span style=\"color: #7f7f7f; text-decoration-color: #7f7f7f\">:</span><a href=\"file:///home/michal/projects/gid-ml-framework/.venv/lib/python3.8/site-packages/kedro/extras/extensions/ipython.py#55\" target=\"_blank\"><span style=\"color: #7f7f7f; text-decoration-color: #7f7f7f\">55</span></a>\n",
       "<span style=\"color: #7fbfbf; text-decoration-color: #7fbfbf\">                    </span>         <span style=\"color: #800080; text-decoration-color: #800080\">/home/michal/projects/</span><span style=\"color: #ff00ff; text-decoration-color: #ff00ff\">gid-ml-framework</span>                                   <span style=\"color: #7f7f7f; text-decoration-color: #7f7f7f\">             </span>\n",
       "</pre>\n"
      ],
      "text/plain": [
       "\u001b[2;36m[09/02/22 13:41:50]\u001b[0m\u001b[2;36m \u001b[0m\u001b[34mINFO    \u001b[0m No path argument was provided. Using:                                    \u001b]8;id=218777;file:///home/michal/projects/gid-ml-framework/.venv/lib/python3.8/site-packages/kedro/extras/extensions/ipython.py\u001b\\\u001b[2mipython.py\u001b[0m\u001b]8;;\u001b\\\u001b[2m:\u001b[0m\u001b]8;id=517659;file:///home/michal/projects/gid-ml-framework/.venv/lib/python3.8/site-packages/kedro/extras/extensions/ipython.py#55\u001b\\\u001b[2m55\u001b[0m\u001b]8;;\u001b\\\n",
       "\u001b[2;36m                    \u001b[0m         \u001b[35m/home/michal/projects/\u001b[0m\u001b[95mgid-ml-framework\u001b[0m                                   \u001b[2m             \u001b[0m\n"
      ]
     },
     "metadata": {},
     "output_type": "display_data"
    },
    {
     "data": {
      "text/html": [
       "<pre style=\"white-space:pre;overflow-x:auto;line-height:normal;font-family:Menlo,'DejaVu Sans Mono',consolas,'Courier New',monospace\"><span style=\"color: #7fbfbf; text-decoration-color: #7fbfbf\">[09/02/22 13:41:51] </span><span style=\"color: #000080; text-decoration-color: #000080\">INFO    </span> The <span style=\"color: #008000; text-decoration-color: #008000\">'mlflow_tracking_uri'</span> key in mlflow.yml is relative     <a href=\"file:///home/michal/projects/gid-ml-framework/.venv/lib/python3.8/site-packages/kedro_mlflow/config/kedro_mlflow_config.py\" target=\"_blank\"><span style=\"color: #7f7f7f; text-decoration-color: #7f7f7f\">kedro_mlflow_config.py</span></a><span style=\"color: #7f7f7f; text-decoration-color: #7f7f7f\">:</span><a href=\"file:///home/michal/projects/gid-ml-framework/.venv/lib/python3.8/site-packages/kedro_mlflow/config/kedro_mlflow_config.py#202\" target=\"_blank\"><span style=\"color: #7f7f7f; text-decoration-color: #7f7f7f\">202</span></a>\n",
       "<span style=\"color: #7fbfbf; text-decoration-color: #7fbfbf\">                    </span>         <span style=\"font-weight: bold\">(</span><span style=\"color: #008000; text-decoration-color: #008000\">'server.mlflow_tracking_uri = mlruns'</span><span style=\"font-weight: bold\">)</span>. It is converted to <span style=\"color: #7f7f7f; text-decoration-color: #7f7f7f\">                          </span>\n",
       "<span style=\"color: #7fbfbf; text-decoration-color: #7fbfbf\">                    </span>         a valid uri:                                                <span style=\"color: #7f7f7f; text-decoration-color: #7f7f7f\">                          </span>\n",
       "<span style=\"color: #7fbfbf; text-decoration-color: #7fbfbf\">                    </span>         <span style=\"color: #008000; text-decoration-color: #008000\">'file:///home/michal/projects/gid-ml-framework/mlruns'</span>      <span style=\"color: #7f7f7f; text-decoration-color: #7f7f7f\">                          </span>\n",
       "</pre>\n"
      ],
      "text/plain": [
       "\u001b[2;36m[09/02/22 13:41:51]\u001b[0m\u001b[2;36m \u001b[0m\u001b[34mINFO    \u001b[0m The \u001b[32m'mlflow_tracking_uri'\u001b[0m key in mlflow.yml is relative     \u001b]8;id=853619;file:///home/michal/projects/gid-ml-framework/.venv/lib/python3.8/site-packages/kedro_mlflow/config/kedro_mlflow_config.py\u001b\\\u001b[2mkedro_mlflow_config.py\u001b[0m\u001b]8;;\u001b\\\u001b[2m:\u001b[0m\u001b]8;id=586008;file:///home/michal/projects/gid-ml-framework/.venv/lib/python3.8/site-packages/kedro_mlflow/config/kedro_mlflow_config.py#202\u001b\\\u001b[2m202\u001b[0m\u001b]8;;\u001b\\\n",
       "\u001b[2;36m                    \u001b[0m         \u001b[1m(\u001b[0m\u001b[32m'server.mlflow_tracking_uri = mlruns'\u001b[0m\u001b[1m)\u001b[0m. It is converted to \u001b[2m                          \u001b[0m\n",
       "\u001b[2;36m                    \u001b[0m         a valid uri:                                                \u001b[2m                          \u001b[0m\n",
       "\u001b[2;36m                    \u001b[0m         \u001b[32m'file:///home/michal/projects/gid-ml-framework/mlruns'\u001b[0m      \u001b[2m                          \u001b[0m\n"
      ]
     },
     "metadata": {},
     "output_type": "display_data"
    },
    {
     "data": {
      "text/html": [
       "<pre style=\"white-space:pre;overflow-x:auto;line-height:normal;font-family:Menlo,'DejaVu Sans Mono',consolas,'Courier New',monospace\"><span style=\"color: #7fbfbf; text-decoration-color: #7fbfbf\">                    </span><span style=\"color: #800000; text-decoration-color: #800000\">WARNING </span> <span style=\"color: #800080; text-decoration-color: #800080\">/home/michal/projects/gid-ml-framework/.venv/lib/python3.8/site-packag</span> <a href=\"file:///home/michal/.pyenv/versions/3.8.12/lib/python3.8/warnings.py\" target=\"_blank\"><span style=\"color: #7f7f7f; text-decoration-color: #7f7f7f\">warnings.py</span></a><span style=\"color: #7f7f7f; text-decoration-color: #7f7f7f\">:</span><a href=\"file:///home/michal/.pyenv/versions/3.8.12/lib/python3.8/warnings.py#109\" target=\"_blank\"><span style=\"color: #7f7f7f; text-decoration-color: #7f7f7f\">109</span></a>\n",
       "<span style=\"color: #7fbfbf; text-decoration-color: #7fbfbf\">                    </span>         <span style=\"color: #800080; text-decoration-color: #800080\">es/kedro/framework/context/</span><span style=\"color: #ff00ff; text-decoration-color: #ff00ff\">context.py</span>:<span style=\"color: #008080; text-decoration-color: #008080; font-weight: bold\">344</span>: UserWarning: Credentials    <span style=\"color: #7f7f7f; text-decoration-color: #7f7f7f\">               </span>\n",
       "<span style=\"color: #7fbfbf; text-decoration-color: #7fbfbf\">                    </span>         not found in your Kedro project config.                                <span style=\"color: #7f7f7f; text-decoration-color: #7f7f7f\">               </span>\n",
       "<span style=\"color: #7fbfbf; text-decoration-color: #7fbfbf\">                    </span>         No files found in <span style=\"font-weight: bold\">[</span><span style=\"color: #008000; text-decoration-color: #008000\">'/home/michal/projects/gid-ml-framework/conf/base'</span>, <span style=\"color: #7f7f7f; text-decoration-color: #7f7f7f\">               </span>\n",
       "<span style=\"color: #7fbfbf; text-decoration-color: #7fbfbf\">                    </span>         <span style=\"color: #008000; text-decoration-color: #008000\">'/home/michal/projects/gid-ml-framework/conf/local'</span><span style=\"font-weight: bold\">]</span> matching the glob <span style=\"color: #7f7f7f; text-decoration-color: #7f7f7f\">               </span>\n",
       "<span style=\"color: #7fbfbf; text-decoration-color: #7fbfbf\">                    </span>         <span style=\"color: #800080; text-decoration-color: #800080; font-weight: bold\">pattern</span><span style=\"font-weight: bold\">(</span>s<span style=\"font-weight: bold\">)</span>: <span style=\"font-weight: bold\">[</span><span style=\"color: #008000; text-decoration-color: #008000\">'credentials*'</span>, <span style=\"color: #008000; text-decoration-color: #008000\">'credentials*/**'</span>, <span style=\"color: #008000; text-decoration-color: #008000\">'**/credentials*'</span><span style=\"font-weight: bold\">]</span>     <span style=\"color: #7f7f7f; text-decoration-color: #7f7f7f\">               </span>\n",
       "<span style=\"color: #7fbfbf; text-decoration-color: #7fbfbf\">                    </span>           <span style=\"color: #800080; text-decoration-color: #800080; font-weight: bold\">warn</span><span style=\"font-weight: bold\">(</span>f\"Credentials not found in your Kedro project                   <span style=\"color: #7f7f7f; text-decoration-color: #7f7f7f\">               </span>\n",
       "<span style=\"color: #7fbfbf; text-decoration-color: #7fbfbf\">                    </span>         config.\\n<span style=\"font-weight: bold\">{</span><span style=\"color: #800080; text-decoration-color: #800080; font-weight: bold\">str</span><span style=\"font-weight: bold\">(</span>exc<span style=\"font-weight: bold\">)}</span>\"<span style=\"font-weight: bold\">)</span>                                                  <span style=\"color: #7f7f7f; text-decoration-color: #7f7f7f\">               </span>\n",
       "<span style=\"color: #7fbfbf; text-decoration-color: #7fbfbf\">                    </span>                                                                                <span style=\"color: #7f7f7f; text-decoration-color: #7f7f7f\">               </span>\n",
       "</pre>\n"
      ],
      "text/plain": [
       "\u001b[2;36m                   \u001b[0m\u001b[2;36m \u001b[0m\u001b[31mWARNING \u001b[0m \u001b[35m/home/michal/projects/gid-ml-framework/.venv/lib/python3.8/site-packag\u001b[0m \u001b]8;id=500903;file:///home/michal/.pyenv/versions/3.8.12/lib/python3.8/warnings.py\u001b\\\u001b[2mwarnings.py\u001b[0m\u001b]8;;\u001b\\\u001b[2m:\u001b[0m\u001b]8;id=755277;file:///home/michal/.pyenv/versions/3.8.12/lib/python3.8/warnings.py#109\u001b\\\u001b[2m109\u001b[0m\u001b]8;;\u001b\\\n",
       "\u001b[2;36m                    \u001b[0m         \u001b[35mes/kedro/framework/context/\u001b[0m\u001b[95mcontext.py\u001b[0m:\u001b[1;36m344\u001b[0m: UserWarning: Credentials    \u001b[2m               \u001b[0m\n",
       "\u001b[2;36m                    \u001b[0m         not found in your Kedro project config.                                \u001b[2m               \u001b[0m\n",
       "\u001b[2;36m                    \u001b[0m         No files found in \u001b[1m[\u001b[0m\u001b[32m'/home/michal/projects/gid-ml-framework/conf/base'\u001b[0m, \u001b[2m               \u001b[0m\n",
       "\u001b[2;36m                    \u001b[0m         \u001b[32m'/home/michal/projects/gid-ml-framework/conf/local'\u001b[0m\u001b[1m]\u001b[0m matching the glob \u001b[2m               \u001b[0m\n",
       "\u001b[2;36m                    \u001b[0m         \u001b[1;35mpattern\u001b[0m\u001b[1m(\u001b[0ms\u001b[1m)\u001b[0m: \u001b[1m[\u001b[0m\u001b[32m'credentials*'\u001b[0m, \u001b[32m'credentials*/**'\u001b[0m, \u001b[32m'**/credentials*'\u001b[0m\u001b[1m]\u001b[0m     \u001b[2m               \u001b[0m\n",
       "\u001b[2;36m                    \u001b[0m           \u001b[1;35mwarn\u001b[0m\u001b[1m(\u001b[0mf\"Credentials not found in your Kedro project                   \u001b[2m               \u001b[0m\n",
       "\u001b[2;36m                    \u001b[0m         config.\\n\u001b[1m{\u001b[0m\u001b[1;35mstr\u001b[0m\u001b[1m(\u001b[0mexc\u001b[1m)\u001b[0m\u001b[1m}\u001b[0m\"\u001b[1m)\u001b[0m                                                  \u001b[2m               \u001b[0m\n",
       "\u001b[2;36m                    \u001b[0m                                                                                \u001b[2m               \u001b[0m\n"
      ]
     },
     "metadata": {},
     "output_type": "display_data"
    },
    {
     "data": {
      "text/html": [
       "<pre style=\"white-space:pre;overflow-x:auto;line-height:normal;font-family:Menlo,'DejaVu Sans Mono',consolas,'Courier New',monospace\"><span style=\"color: #7fbfbf; text-decoration-color: #7fbfbf\">                    </span><span style=\"color: #000080; text-decoration-color: #000080\">INFO    </span> Kedro project GetInData ML Framework                                     <a href=\"file:///home/michal/projects/gid-ml-framework/.venv/lib/python3.8/site-packages/kedro/extras/extensions/ipython.py\" target=\"_blank\"><span style=\"color: #7f7f7f; text-decoration-color: #7f7f7f\">ipython.py</span></a><span style=\"color: #7f7f7f; text-decoration-color: #7f7f7f\">:</span><a href=\"file:///home/michal/projects/gid-ml-framework/.venv/lib/python3.8/site-packages/kedro/extras/extensions/ipython.py#78\" target=\"_blank\"><span style=\"color: #7f7f7f; text-decoration-color: #7f7f7f\">78</span></a>\n",
       "</pre>\n"
      ],
      "text/plain": [
       "\u001b[2;36m                   \u001b[0m\u001b[2;36m \u001b[0m\u001b[34mINFO    \u001b[0m Kedro project GetInData ML Framework                                     \u001b]8;id=274812;file:///home/michal/projects/gid-ml-framework/.venv/lib/python3.8/site-packages/kedro/extras/extensions/ipython.py\u001b\\\u001b[2mipython.py\u001b[0m\u001b]8;;\u001b\\\u001b[2m:\u001b[0m\u001b]8;id=198661;file:///home/michal/projects/gid-ml-framework/.venv/lib/python3.8/site-packages/kedro/extras/extensions/ipython.py#78\u001b\\\u001b[2m78\u001b[0m\u001b]8;;\u001b\\\n"
      ]
     },
     "metadata": {},
     "output_type": "display_data"
    },
    {
     "data": {
      "text/html": [
       "<pre style=\"white-space:pre;overflow-x:auto;line-height:normal;font-family:Menlo,'DejaVu Sans Mono',consolas,'Courier New',monospace\"><span style=\"color: #7fbfbf; text-decoration-color: #7fbfbf\">                    </span><span style=\"color: #000080; text-decoration-color: #000080\">INFO    </span> Defined global variable <span style=\"color: #008000; text-decoration-color: #008000\">'context'</span>, <span style=\"color: #008000; text-decoration-color: #008000\">'session'</span>, <span style=\"color: #008000; text-decoration-color: #008000\">'catalog'</span> and <span style=\"color: #008000; text-decoration-color: #008000\">'pipelines'</span>  <a href=\"file:///home/michal/projects/gid-ml-framework/.venv/lib/python3.8/site-packages/kedro/extras/extensions/ipython.py\" target=\"_blank\"><span style=\"color: #7f7f7f; text-decoration-color: #7f7f7f\">ipython.py</span></a><span style=\"color: #7f7f7f; text-decoration-color: #7f7f7f\">:</span><a href=\"file:///home/michal/projects/gid-ml-framework/.venv/lib/python3.8/site-packages/kedro/extras/extensions/ipython.py#79\" target=\"_blank\"><span style=\"color: #7f7f7f; text-decoration-color: #7f7f7f\">79</span></a>\n",
       "</pre>\n"
      ],
      "text/plain": [
       "\u001b[2;36m                   \u001b[0m\u001b[2;36m \u001b[0m\u001b[34mINFO    \u001b[0m Defined global variable \u001b[32m'context'\u001b[0m, \u001b[32m'session'\u001b[0m, \u001b[32m'catalog'\u001b[0m and \u001b[32m'pipelines'\u001b[0m  \u001b]8;id=254618;file:///home/michal/projects/gid-ml-framework/.venv/lib/python3.8/site-packages/kedro/extras/extensions/ipython.py\u001b\\\u001b[2mipython.py\u001b[0m\u001b]8;;\u001b\\\u001b[2m:\u001b[0m\u001b]8;id=213715;file:///home/michal/projects/gid-ml-framework/.venv/lib/python3.8/site-packages/kedro/extras/extensions/ipython.py#79\u001b\\\u001b[2m79\u001b[0m\u001b]8;;\u001b\\\n"
      ]
     },
     "metadata": {},
     "output_type": "display_data"
    },
    {
     "data": {
      "text/html": [
       "<pre style=\"white-space:pre;overflow-x:auto;line-height:normal;font-family:Menlo,'DejaVu Sans Mono',consolas,'Courier New',monospace\"><span style=\"color: #7fbfbf; text-decoration-color: #7fbfbf\">                    </span><span style=\"color: #000080; text-decoration-color: #000080\">INFO    </span> Registered line magic <span style=\"color: #008000; text-decoration-color: #008000\">'run_viz'</span>                                          <a href=\"file:///home/michal/projects/gid-ml-framework/.venv/lib/python3.8/site-packages/kedro/extras/extensions/ipython.py\" target=\"_blank\"><span style=\"color: #7f7f7f; text-decoration-color: #7f7f7f\">ipython.py</span></a><span style=\"color: #7f7f7f; text-decoration-color: #7f7f7f\">:</span><a href=\"file:///home/michal/projects/gid-ml-framework/.venv/lib/python3.8/site-packages/kedro/extras/extensions/ipython.py#85\" target=\"_blank\"><span style=\"color: #7f7f7f; text-decoration-color: #7f7f7f\">85</span></a>\n",
       "</pre>\n"
      ],
      "text/plain": [
       "\u001b[2;36m                   \u001b[0m\u001b[2;36m \u001b[0m\u001b[34mINFO    \u001b[0m Registered line magic \u001b[32m'run_viz'\u001b[0m                                          \u001b]8;id=992996;file:///home/michal/projects/gid-ml-framework/.venv/lib/python3.8/site-packages/kedro/extras/extensions/ipython.py\u001b\\\u001b[2mipython.py\u001b[0m\u001b]8;;\u001b\\\u001b[2m:\u001b[0m\u001b]8;id=835220;file:///home/michal/projects/gid-ml-framework/.venv/lib/python3.8/site-packages/kedro/extras/extensions/ipython.py#85\u001b\\\u001b[2m85\u001b[0m\u001b]8;;\u001b\\\n"
      ]
     },
     "metadata": {},
     "output_type": "display_data"
    },
    {
     "data": {
      "text/html": [
       "<pre style=\"white-space:pre;overflow-x:auto;line-height:normal;font-family:Menlo,'DejaVu Sans Mono',consolas,'Courier New',monospace\"><span style=\"color: #7fbfbf; text-decoration-color: #7fbfbf\">                    </span><span style=\"color: #000080; text-decoration-color: #000080\">INFO    </span> Registered line magic <span style=\"color: #008000; text-decoration-color: #008000\">'reload_kedro_mlflow'</span>                              <a href=\"file:///home/michal/projects/gid-ml-framework/.venv/lib/python3.8/site-packages/kedro/extras/extensions/ipython.py\" target=\"_blank\"><span style=\"color: #7f7f7f; text-decoration-color: #7f7f7f\">ipython.py</span></a><span style=\"color: #7f7f7f; text-decoration-color: #7f7f7f\">:</span><a href=\"file:///home/michal/projects/gid-ml-framework/.venv/lib/python3.8/site-packages/kedro/extras/extensions/ipython.py#85\" target=\"_blank\"><span style=\"color: #7f7f7f; text-decoration-color: #7f7f7f\">85</span></a>\n",
       "</pre>\n"
      ],
      "text/plain": [
       "\u001b[2;36m                   \u001b[0m\u001b[2;36m \u001b[0m\u001b[34mINFO    \u001b[0m Registered line magic \u001b[32m'reload_kedro_mlflow'\u001b[0m                              \u001b]8;id=445828;file:///home/michal/projects/gid-ml-framework/.venv/lib/python3.8/site-packages/kedro/extras/extensions/ipython.py\u001b\\\u001b[2mipython.py\u001b[0m\u001b]8;;\u001b\\\u001b[2m:\u001b[0m\u001b]8;id=852846;file:///home/michal/projects/gid-ml-framework/.venv/lib/python3.8/site-packages/kedro/extras/extensions/ipython.py#85\u001b\\\u001b[2m85\u001b[0m\u001b]8;;\u001b\\\n"
      ]
     },
     "metadata": {},
     "output_type": "display_data"
    }
   ],
   "source": [
    "%reload_kedro"
   ]
  },
  {
   "cell_type": "code",
   "execution_count": 83,
   "metadata": {},
   "outputs": [],
   "source": [
    "from typing import Iterator, Tuple\n",
    "import re\n",
    "\n",
    "from kedro.extras.datasets.pandas import CSVDataSet\n",
    "from kedro.io.core import get_filepath_str\n",
    "import numpy as np\n",
    "import pandas as pd\n",
    "import dgl\n",
    "from dgl.sampling import sample_neighbors, select_topk\n",
    "from dgl import save_graphs\n",
    "import torch\n",
    "\n",
    "import gid_ml_framework.pipelines.santander_preprocessing.nodes\n",
    "from gid_ml_framework.extras.datasets.chunks_dataset import (\n",
    " _concat_chunks,\n",
    ")\n",
    "\n",
    "pd.options.mode.chained_assignment = None\n",
    "pd.set_option('expand_frame_repr', True)\n",
    "pd.set_option(\"display.max_rows\", 999)\n",
    "pd.set_option('max_colwidth', 100)\n",
    "pd.set_option('display.max_columns', 500)\n",
    "pd.set_option('display.width', 1000)\n",
    "pd.set_option('display.expand_frame_repr', False)"
   ]
  },
  {
   "cell_type": "code",
   "execution_count": 110,
   "metadata": {},
   "outputs": [],
   "source": [
    "dataset = \"santander\""
   ]
  },
  {
   "cell_type": "code",
   "execution_count": 111,
   "metadata": {},
   "outputs": [],
   "source": [
    "transactions_graph_path = f\"{dataset}.transactions_graph\"\n",
    "transactions_mapped_path = f\"{dataset}_transactions_mapped\"\n",
    "users_mapping_path = f\"{dataset}_users_mapping\"\n",
    "items_mapping_path = f\"{dataset}_items_mapping\""
   ]
  },
  {
   "cell_type": "code",
   "execution_count": 112,
   "metadata": {},
   "outputs": [
    {
     "data": {
      "text/html": [
       "<pre style=\"white-space:pre;overflow-x:auto;line-height:normal;font-family:Menlo,'DejaVu Sans Mono',consolas,'Courier New',monospace\"><span style=\"color: #7fbfbf; text-decoration-color: #7fbfbf\">[09/02/22 14:58:51] </span><span style=\"color: #800000; text-decoration-color: #800000\">WARNING </span> <span style=\"color: #800080; text-decoration-color: #800080\">/home/michal/projects/gid-ml-framework/.venv/lib/python3.8/site-packag</span> <a href=\"file:///home/michal/.pyenv/versions/3.8.12/lib/python3.8/warnings.py\" target=\"_blank\"><span style=\"color: #7f7f7f; text-decoration-color: #7f7f7f\">warnings.py</span></a><span style=\"color: #7f7f7f; text-decoration-color: #7f7f7f\">:</span><a href=\"file:///home/michal/.pyenv/versions/3.8.12/lib/python3.8/warnings.py#109\" target=\"_blank\"><span style=\"color: #7f7f7f; text-decoration-color: #7f7f7f\">109</span></a>\n",
       "<span style=\"color: #7fbfbf; text-decoration-color: #7fbfbf\">                    </span>         <span style=\"color: #800080; text-decoration-color: #800080\">es/kedro/framework/context/</span><span style=\"color: #ff00ff; text-decoration-color: #ff00ff\">context.py</span>:<span style=\"color: #008080; text-decoration-color: #008080; font-weight: bold\">344</span>: UserWarning: Credentials    <span style=\"color: #7f7f7f; text-decoration-color: #7f7f7f\">               </span>\n",
       "<span style=\"color: #7fbfbf; text-decoration-color: #7fbfbf\">                    </span>         not found in your Kedro project config.                                <span style=\"color: #7f7f7f; text-decoration-color: #7f7f7f\">               </span>\n",
       "<span style=\"color: #7fbfbf; text-decoration-color: #7fbfbf\">                    </span>         No files found in <span style=\"font-weight: bold\">[</span><span style=\"color: #008000; text-decoration-color: #008000\">'/home/michal/projects/gid-ml-framework/conf/base'</span>, <span style=\"color: #7f7f7f; text-decoration-color: #7f7f7f\">               </span>\n",
       "<span style=\"color: #7fbfbf; text-decoration-color: #7fbfbf\">                    </span>         <span style=\"color: #008000; text-decoration-color: #008000\">'/home/michal/projects/gid-ml-framework/conf/local'</span><span style=\"font-weight: bold\">]</span> matching the glob <span style=\"color: #7f7f7f; text-decoration-color: #7f7f7f\">               </span>\n",
       "<span style=\"color: #7fbfbf; text-decoration-color: #7fbfbf\">                    </span>         <span style=\"color: #800080; text-decoration-color: #800080; font-weight: bold\">pattern</span><span style=\"font-weight: bold\">(</span>s<span style=\"font-weight: bold\">)</span>: <span style=\"font-weight: bold\">[</span><span style=\"color: #008000; text-decoration-color: #008000\">'credentials*'</span>, <span style=\"color: #008000; text-decoration-color: #008000\">'credentials*/**'</span>, <span style=\"color: #008000; text-decoration-color: #008000\">'**/credentials*'</span><span style=\"font-weight: bold\">]</span>     <span style=\"color: #7f7f7f; text-decoration-color: #7f7f7f\">               </span>\n",
       "<span style=\"color: #7fbfbf; text-decoration-color: #7fbfbf\">                    </span>           <span style=\"color: #800080; text-decoration-color: #800080; font-weight: bold\">warn</span><span style=\"font-weight: bold\">(</span>f\"Credentials not found in your Kedro project                   <span style=\"color: #7f7f7f; text-decoration-color: #7f7f7f\">               </span>\n",
       "<span style=\"color: #7fbfbf; text-decoration-color: #7fbfbf\">                    </span>         config.\\n<span style=\"font-weight: bold\">{</span><span style=\"color: #800080; text-decoration-color: #800080; font-weight: bold\">str</span><span style=\"font-weight: bold\">(</span>exc<span style=\"font-weight: bold\">)}</span>\"<span style=\"font-weight: bold\">)</span>                                                  <span style=\"color: #7f7f7f; text-decoration-color: #7f7f7f\">               </span>\n",
       "<span style=\"color: #7fbfbf; text-decoration-color: #7fbfbf\">                    </span>                                                                                <span style=\"color: #7f7f7f; text-decoration-color: #7f7f7f\">               </span>\n",
       "</pre>\n"
      ],
      "text/plain": [
       "\u001b[2;36m[09/02/22 14:58:51]\u001b[0m\u001b[2;36m \u001b[0m\u001b[31mWARNING \u001b[0m \u001b[35m/home/michal/projects/gid-ml-framework/.venv/lib/python3.8/site-packag\u001b[0m \u001b]8;id=472819;file:///home/michal/.pyenv/versions/3.8.12/lib/python3.8/warnings.py\u001b\\\u001b[2mwarnings.py\u001b[0m\u001b]8;;\u001b\\\u001b[2m:\u001b[0m\u001b]8;id=742555;file:///home/michal/.pyenv/versions/3.8.12/lib/python3.8/warnings.py#109\u001b\\\u001b[2m109\u001b[0m\u001b]8;;\u001b\\\n",
       "\u001b[2;36m                    \u001b[0m         \u001b[35mes/kedro/framework/context/\u001b[0m\u001b[95mcontext.py\u001b[0m:\u001b[1;36m344\u001b[0m: UserWarning: Credentials    \u001b[2m               \u001b[0m\n",
       "\u001b[2;36m                    \u001b[0m         not found in your Kedro project config.                                \u001b[2m               \u001b[0m\n",
       "\u001b[2;36m                    \u001b[0m         No files found in \u001b[1m[\u001b[0m\u001b[32m'/home/michal/projects/gid-ml-framework/conf/base'\u001b[0m, \u001b[2m               \u001b[0m\n",
       "\u001b[2;36m                    \u001b[0m         \u001b[32m'/home/michal/projects/gid-ml-framework/conf/local'\u001b[0m\u001b[1m]\u001b[0m matching the glob \u001b[2m               \u001b[0m\n",
       "\u001b[2;36m                    \u001b[0m         \u001b[1;35mpattern\u001b[0m\u001b[1m(\u001b[0ms\u001b[1m)\u001b[0m: \u001b[1m[\u001b[0m\u001b[32m'credentials*'\u001b[0m, \u001b[32m'credentials*/**'\u001b[0m, \u001b[32m'**/credentials*'\u001b[0m\u001b[1m]\u001b[0m     \u001b[2m               \u001b[0m\n",
       "\u001b[2;36m                    \u001b[0m           \u001b[1;35mwarn\u001b[0m\u001b[1m(\u001b[0mf\"Credentials not found in your Kedro project                   \u001b[2m               \u001b[0m\n",
       "\u001b[2;36m                    \u001b[0m         config.\\n\u001b[1m{\u001b[0m\u001b[1;35mstr\u001b[0m\u001b[1m(\u001b[0mexc\u001b[1m)\u001b[0m\u001b[1m}\u001b[0m\"\u001b[1m)\u001b[0m                                                  \u001b[2m               \u001b[0m\n",
       "\u001b[2;36m                    \u001b[0m                                                                                \u001b[2m               \u001b[0m\n"
      ]
     },
     "metadata": {},
     "output_type": "display_data"
    },
    {
     "data": {
      "text/html": [
       "<pre style=\"white-space:pre;overflow-x:auto;line-height:normal;font-family:Menlo,'DejaVu Sans Mono',consolas,'Courier New',monospace\"><span style=\"color: #7fbfbf; text-decoration-color: #7fbfbf\">                    </span><span style=\"color: #000080; text-decoration-color: #000080\">INFO    </span> Loading data from <span style=\"color: #008000; text-decoration-color: #008000\">'santander_transactions_mapped'</span> <span style=\"font-weight: bold\">(</span>CSVDataSet<span style=\"font-weight: bold\">)</span><span style=\"color: #808000; text-decoration-color: #808000\">...</span>  <a href=\"file:///home/michal/projects/gid-ml-framework/.venv/lib/python3.8/site-packages/kedro/io/data_catalog.py\" target=\"_blank\"><span style=\"color: #7f7f7f; text-decoration-color: #7f7f7f\">data_catalog.py</span></a><span style=\"color: #7f7f7f; text-decoration-color: #7f7f7f\">:</span><a href=\"file:///home/michal/projects/gid-ml-framework/.venv/lib/python3.8/site-packages/kedro/io/data_catalog.py#343\" target=\"_blank\"><span style=\"color: #7f7f7f; text-decoration-color: #7f7f7f\">343</span></a>\n",
       "</pre>\n"
      ],
      "text/plain": [
       "\u001b[2;36m                   \u001b[0m\u001b[2;36m \u001b[0m\u001b[34mINFO    \u001b[0m Loading data from \u001b[32m'santander_transactions_mapped'\u001b[0m \u001b[1m(\u001b[0mCSVDataSet\u001b[1m)\u001b[0m\u001b[33m...\u001b[0m  \u001b]8;id=303047;file:///home/michal/projects/gid-ml-framework/.venv/lib/python3.8/site-packages/kedro/io/data_catalog.py\u001b\\\u001b[2mdata_catalog.py\u001b[0m\u001b]8;;\u001b\\\u001b[2m:\u001b[0m\u001b]8;id=250870;file:///home/michal/projects/gid-ml-framework/.venv/lib/python3.8/site-packages/kedro/io/data_catalog.py#343\u001b\\\u001b[2m343\u001b[0m\u001b]8;;\u001b\\\n"
      ]
     },
     "metadata": {},
     "output_type": "display_data"
    }
   ],
   "source": [
    "transactions_mapped = _concat_chunks(context.catalog.load(transactions_mapped_path))"
   ]
  },
  {
   "cell_type": "code",
   "execution_count": 113,
   "metadata": {},
   "outputs": [
    {
     "data": {
      "text/html": [
       "<pre style=\"white-space:pre;overflow-x:auto;line-height:normal;font-family:Menlo,'DejaVu Sans Mono',consolas,'Courier New',monospace\">\n",
       "<span style=\"color: #800080; text-decoration-color: #800080; font-weight: bold\">array</span><span style=\"font-weight: bold\">([</span> <span style=\"color: #008080; text-decoration-color: #008080; font-weight: bold\">0</span>,  <span style=\"color: #008080; text-decoration-color: #008080; font-weight: bold\">1</span>,  <span style=\"color: #008080; text-decoration-color: #008080; font-weight: bold\">2</span>,  <span style=\"color: #008080; text-decoration-color: #008080; font-weight: bold\">3</span>,  <span style=\"color: #008080; text-decoration-color: #008080; font-weight: bold\">4</span>,  <span style=\"color: #008080; text-decoration-color: #008080; font-weight: bold\">5</span>,  <span style=\"color: #008080; text-decoration-color: #008080; font-weight: bold\">6</span>,  <span style=\"color: #008080; text-decoration-color: #008080; font-weight: bold\">7</span>,  <span style=\"color: #008080; text-decoration-color: #008080; font-weight: bold\">8</span>,  <span style=\"color: #008080; text-decoration-color: #008080; font-weight: bold\">9</span>, <span style=\"color: #008080; text-decoration-color: #008080; font-weight: bold\">10</span>, <span style=\"color: #008080; text-decoration-color: #008080; font-weight: bold\">11</span>, <span style=\"color: #008080; text-decoration-color: #008080; font-weight: bold\">12</span>, <span style=\"color: #008080; text-decoration-color: #008080; font-weight: bold\">13</span>, <span style=\"color: #008080; text-decoration-color: #008080; font-weight: bold\">14</span>, <span style=\"color: #008080; text-decoration-color: #008080; font-weight: bold\">15</span>, <span style=\"color: #008080; text-decoration-color: #008080; font-weight: bold\">16</span>,\n",
       "       <span style=\"color: #008080; text-decoration-color: #008080; font-weight: bold\">17</span>, <span style=\"color: #008080; text-decoration-color: #008080; font-weight: bold\">18</span>, <span style=\"color: #008080; text-decoration-color: #008080; font-weight: bold\">19</span>, <span style=\"color: #008080; text-decoration-color: #008080; font-weight: bold\">20</span>, <span style=\"color: #008080; text-decoration-color: #008080; font-weight: bold\">21</span>, <span style=\"color: #008080; text-decoration-color: #008080; font-weight: bold\">22</span><span style=\"font-weight: bold\">]</span>, <span style=\"color: #808000; text-decoration-color: #808000\">dtype</span>=<span style=\"color: #800080; text-decoration-color: #800080\">int32</span><span style=\"font-weight: bold\">)</span>\n",
       "</pre>\n"
      ],
      "text/plain": [
       "\n",
       "\u001b[1;35marray\u001b[0m\u001b[1m(\u001b[0m\u001b[1m[\u001b[0m \u001b[1;36m0\u001b[0m,  \u001b[1;36m1\u001b[0m,  \u001b[1;36m2\u001b[0m,  \u001b[1;36m3\u001b[0m,  \u001b[1;36m4\u001b[0m,  \u001b[1;36m5\u001b[0m,  \u001b[1;36m6\u001b[0m,  \u001b[1;36m7\u001b[0m,  \u001b[1;36m8\u001b[0m,  \u001b[1;36m9\u001b[0m, \u001b[1;36m10\u001b[0m, \u001b[1;36m11\u001b[0m, \u001b[1;36m12\u001b[0m, \u001b[1;36m13\u001b[0m, \u001b[1;36m14\u001b[0m, \u001b[1;36m15\u001b[0m, \u001b[1;36m16\u001b[0m,\n",
       "       \u001b[1;36m17\u001b[0m, \u001b[1;36m18\u001b[0m, \u001b[1;36m19\u001b[0m, \u001b[1;36m20\u001b[0m, \u001b[1;36m21\u001b[0m, \u001b[1;36m22\u001b[0m\u001b[1m]\u001b[0m, \u001b[33mdtype\u001b[0m=\u001b[35mint32\u001b[0m\u001b[1m)\u001b[0m\n"
      ]
     },
     "metadata": {},
     "output_type": "display_data"
    }
   ],
   "source": [
    "np.sort(transactions_mapped.item_id.unique())"
   ]
  },
  {
   "cell_type": "code",
   "execution_count": 101,
   "metadata": {},
   "outputs": [],
   "source": [
    "# 计算item序列的相对次序\n",
    "def cal_order(data):\n",
    "    data = data.sort_values(['time'], kind='mergesort')\n",
    "    data['order'] = range(len(data))\n",
    "    return data\n",
    "\n",
    "# 计算user序列的相对次序\n",
    "def cal_u_order(data):\n",
    "    data = data.sort_values(['time'], kind='mergesort')\n",
    "    data['u_order'] = range(len(data))\n",
    "    return data\n",
    "\n",
    "def refine_time(data):\n",
    "    data = data.sort_values(['time'], kind='mergesort')\n",
    "    time_seq = data['time'].values\n",
    "    time_gap = 1\n",
    "    for i, da in enumerate(time_seq[0:-1]):\n",
    "        if time_seq[i] == time_seq[i+1] or time_seq[i] > time_seq[i+1]:\n",
    "            time_seq[i+1] = time_seq[i+1] + time_gap\n",
    "            time_gap += 1\n",
    "    data['time'] = time_seq\n",
    "    return  data"
   ]
  },
  {
   "cell_type": "code",
   "execution_count": 18,
   "metadata": {},
   "outputs": [],
   "source": [
    "\n",
    "data = data.groupby('user_id').apply(refine_time).reset_index(drop=True)\n",
    "data = data.groupby('user_id').apply(cal_order).reset_index(drop=True)\n",
    "data = data.groupby('item_id').apply(cal_u_order).reset_index(drop=True)\n",
    "user = data['user_id'].values\n",
    "item = data['item_id'].values\n",
    "time = data['time'].values\n",
    "graph_data = {('item','by','user'):(torch.tensor(item), torch.tensor(user)),\n",
    "            ('user','pby','item'):(torch.tensor(user), torch.tensor(item))}\n",
    "graph = dgl.heterograph(graph_data)\n",
    "graph.edges['by'].data['time'] = torch.LongTensor(time)\n",
    "graph.edges['pby'].data['time'] = torch.LongTensor(time)\n",
    "#graph.edges['by'].data['t'] = torch.tensor(data['order'])\n",
    "# graph.edges['by'].data['rt'] = torch.tensor(data['re_order'])\n",
    "# graph.edges['pby'].data['t'] = torch.tensor(data['u_order'])\n",
    "#graph.edges['pby'].data['rt'] = torch.tensor(data['u_re_order'])\n",
    "graph.nodes['user'].data['user_id'] = torch.LongTensor(np.unique(user))\n",
    "graph.nodes['item'].data['item_id'] = torch.LongTensor(np.unique(item))\n",
    "# graph.nodes['item'].data['last_user'] = torch.tensor(data['u_last'])\n",
    "# graph.nodes['user'].data['last_item'] = torch.tensor(data['last'])\n"
   ]
  },
  {
   "cell_type": "code",
   "execution_count": 114,
   "metadata": {},
   "outputs": [],
   "source": [
    "data = transactions_mapped.groupby('user_id').apply(refine_time).reset_index(drop=True)\n",
    "data['time'] = data['time'].astype('int64')"
   ]
  },
  {
   "cell_type": "code",
   "execution_count": 115,
   "metadata": {},
   "outputs": [],
   "source": [
    "data = data.groupby('user_id').apply(refine_time).reset_index(drop=True)\n",
    "data = data.groupby('user_id').apply(cal_order).reset_index(drop=True)\n",
    "data = data.groupby('item_id').apply(cal_u_order).reset_index(drop=True)\n",
    "user = data['user_id'].values\n",
    "item = data['item_id'].values\n",
    "time = data['time'].values"
   ]
  },
  {
   "cell_type": "code",
   "execution_count": 117,
   "metadata": {},
   "outputs": [
    {
     "data": {
      "text/html": [
       "<pre style=\"white-space:pre;overflow-x:auto;line-height:normal;font-family:Menlo,'DejaVu Sans Mono',consolas,'Courier New',monospace\">\n",
       "<span style=\"color: #800080; text-decoration-color: #800080; font-weight: bold\">array</span><span style=\"font-weight: bold\">([</span> <span style=\"color: #008080; text-decoration-color: #008080; font-weight: bold\">0</span>,  <span style=\"color: #008080; text-decoration-color: #008080; font-weight: bold\">1</span>,  <span style=\"color: #008080; text-decoration-color: #008080; font-weight: bold\">2</span>,  <span style=\"color: #008080; text-decoration-color: #008080; font-weight: bold\">3</span>,  <span style=\"color: #008080; text-decoration-color: #008080; font-weight: bold\">4</span>,  <span style=\"color: #008080; text-decoration-color: #008080; font-weight: bold\">5</span>,  <span style=\"color: #008080; text-decoration-color: #008080; font-weight: bold\">6</span>,  <span style=\"color: #008080; text-decoration-color: #008080; font-weight: bold\">7</span>,  <span style=\"color: #008080; text-decoration-color: #008080; font-weight: bold\">8</span>,  <span style=\"color: #008080; text-decoration-color: #008080; font-weight: bold\">9</span>, <span style=\"color: #008080; text-decoration-color: #008080; font-weight: bold\">10</span>, <span style=\"color: #008080; text-decoration-color: #008080; font-weight: bold\">11</span>, <span style=\"color: #008080; text-decoration-color: #008080; font-weight: bold\">12</span>, <span style=\"color: #008080; text-decoration-color: #008080; font-weight: bold\">13</span>, <span style=\"color: #008080; text-decoration-color: #008080; font-weight: bold\">14</span>, <span style=\"color: #008080; text-decoration-color: #008080; font-weight: bold\">15</span>, <span style=\"color: #008080; text-decoration-color: #008080; font-weight: bold\">16</span>,\n",
       "       <span style=\"color: #008080; text-decoration-color: #008080; font-weight: bold\">17</span>, <span style=\"color: #008080; text-decoration-color: #008080; font-weight: bold\">18</span>, <span style=\"color: #008080; text-decoration-color: #008080; font-weight: bold\">19</span>, <span style=\"color: #008080; text-decoration-color: #008080; font-weight: bold\">20</span>, <span style=\"color: #008080; text-decoration-color: #008080; font-weight: bold\">21</span>, <span style=\"color: #008080; text-decoration-color: #008080; font-weight: bold\">22</span><span style=\"font-weight: bold\">]</span>, <span style=\"color: #808000; text-decoration-color: #808000\">dtype</span>=<span style=\"color: #800080; text-decoration-color: #800080\">int32</span><span style=\"font-weight: bold\">)</span>\n",
       "</pre>\n"
      ],
      "text/plain": [
       "\n",
       "\u001b[1;35marray\u001b[0m\u001b[1m(\u001b[0m\u001b[1m[\u001b[0m \u001b[1;36m0\u001b[0m,  \u001b[1;36m1\u001b[0m,  \u001b[1;36m2\u001b[0m,  \u001b[1;36m3\u001b[0m,  \u001b[1;36m4\u001b[0m,  \u001b[1;36m5\u001b[0m,  \u001b[1;36m6\u001b[0m,  \u001b[1;36m7\u001b[0m,  \u001b[1;36m8\u001b[0m,  \u001b[1;36m9\u001b[0m, \u001b[1;36m10\u001b[0m, \u001b[1;36m11\u001b[0m, \u001b[1;36m12\u001b[0m, \u001b[1;36m13\u001b[0m, \u001b[1;36m14\u001b[0m, \u001b[1;36m15\u001b[0m, \u001b[1;36m16\u001b[0m,\n",
       "       \u001b[1;36m17\u001b[0m, \u001b[1;36m18\u001b[0m, \u001b[1;36m19\u001b[0m, \u001b[1;36m20\u001b[0m, \u001b[1;36m21\u001b[0m, \u001b[1;36m22\u001b[0m\u001b[1m]\u001b[0m, \u001b[33mdtype\u001b[0m=\u001b[35mint32\u001b[0m\u001b[1m)\u001b[0m\n"
      ]
     },
     "metadata": {},
     "output_type": "display_data"
    }
   ],
   "source": [
    "np.unique(item)"
   ]
  },
  {
   "cell_type": "code",
   "execution_count": 118,
   "metadata": {},
   "outputs": [],
   "source": [
    "graph_data = {('item','by','user'):(torch.tensor(item), torch.tensor(user)),\n",
    "            ('user','pby','item'):(torch.tensor(user), torch.tensor(item))}\n",
    "graph = dgl.heterograph(graph_data)\n",
    "graph.edges['by'].data['time'] = torch.LongTensor(time)\n",
    "graph.edges['pby'].data['time'] = torch.LongTensor(time)"
   ]
  },
  {
   "cell_type": "code",
   "execution_count": 119,
   "metadata": {},
   "outputs": [
    {
     "data": {
      "text/html": [
       "<pre style=\"white-space:pre;overflow-x:auto;line-height:normal;font-family:Menlo,'DejaVu Sans Mono',consolas,'Courier New',monospace\">\n",
       "<span style=\"color: #800080; text-decoration-color: #800080; font-weight: bold\">Graph</span><span style=\"font-weight: bold\">(</span><span style=\"color: #808000; text-decoration-color: #808000\">num_nodes</span>=<span style=\"font-weight: bold\">{</span><span style=\"color: #008000; text-decoration-color: #008000\">'item'</span>: <span style=\"color: #008080; text-decoration-color: #008080; font-weight: bold\">23</span>, <span style=\"color: #008000; text-decoration-color: #008000\">'user'</span>: <span style=\"color: #008080; text-decoration-color: #008080; font-weight: bold\">20587</span><span style=\"font-weight: bold\">}</span>,\n",
       "      <span style=\"color: #808000; text-decoration-color: #808000\">num_edges</span>=<span style=\"font-weight: bold\">{(</span><span style=\"color: #008000; text-decoration-color: #008000\">'item'</span>, <span style=\"color: #008000; text-decoration-color: #008000\">'by'</span>, <span style=\"color: #008000; text-decoration-color: #008000\">'user'</span><span style=\"font-weight: bold\">)</span>: <span style=\"color: #008080; text-decoration-color: #008080; font-weight: bold\">57335</span>, <span style=\"font-weight: bold\">(</span><span style=\"color: #008000; text-decoration-color: #008000\">'user'</span>, <span style=\"color: #008000; text-decoration-color: #008000\">'pby'</span>, <span style=\"color: #008000; text-decoration-color: #008000\">'item'</span><span style=\"font-weight: bold\">)</span>: <span style=\"color: #008080; text-decoration-color: #008080; font-weight: bold\">57335</span><span style=\"font-weight: bold\">}</span>,\n",
       "      <span style=\"color: #808000; text-decoration-color: #808000\">metagraph</span>=<span style=\"font-weight: bold\">[(</span><span style=\"color: #008000; text-decoration-color: #008000\">'item'</span>, <span style=\"color: #008000; text-decoration-color: #008000\">'user'</span>, <span style=\"color: #008000; text-decoration-color: #008000\">'by'</span><span style=\"font-weight: bold\">)</span>, <span style=\"font-weight: bold\">(</span><span style=\"color: #008000; text-decoration-color: #008000\">'user'</span>, <span style=\"color: #008000; text-decoration-color: #008000\">'item'</span>, <span style=\"color: #008000; text-decoration-color: #008000\">'pby'</span><span style=\"font-weight: bold\">)])</span>\n",
       "</pre>\n"
      ],
      "text/plain": [
       "\n",
       "\u001b[1;35mGraph\u001b[0m\u001b[1m(\u001b[0m\u001b[33mnum_nodes\u001b[0m=\u001b[1m{\u001b[0m\u001b[32m'item'\u001b[0m: \u001b[1;36m23\u001b[0m, \u001b[32m'user'\u001b[0m: \u001b[1;36m20587\u001b[0m\u001b[1m}\u001b[0m,\n",
       "      \u001b[33mnum_edges\u001b[0m=\u001b[1m{\u001b[0m\u001b[1m(\u001b[0m\u001b[32m'item'\u001b[0m, \u001b[32m'by'\u001b[0m, \u001b[32m'user'\u001b[0m\u001b[1m)\u001b[0m: \u001b[1;36m57335\u001b[0m, \u001b[1m(\u001b[0m\u001b[32m'user'\u001b[0m, \u001b[32m'pby'\u001b[0m, \u001b[32m'item'\u001b[0m\u001b[1m)\u001b[0m: \u001b[1;36m57335\u001b[0m\u001b[1m}\u001b[0m,\n",
       "      \u001b[33mmetagraph\u001b[0m=\u001b[1m[\u001b[0m\u001b[1m(\u001b[0m\u001b[32m'item'\u001b[0m, \u001b[32m'user'\u001b[0m, \u001b[32m'by'\u001b[0m\u001b[1m)\u001b[0m, \u001b[1m(\u001b[0m\u001b[32m'user'\u001b[0m, \u001b[32m'item'\u001b[0m, \u001b[32m'pby'\u001b[0m\u001b[1m)\u001b[0m\u001b[1m]\u001b[0m\u001b[1m)\u001b[0m\n"
      ]
     },
     "metadata": {},
     "output_type": "display_data"
    }
   ],
   "source": [
    "graph"
   ]
  },
  {
   "cell_type": "code",
   "execution_count": 57,
   "metadata": {},
   "outputs": [
    {
     "data": {
      "text/html": [
       "<pre style=\"white-space:pre;overflow-x:auto;line-height:normal;font-family:Menlo,'DejaVu Sans Mono',consolas,'Courier New',monospace\"><span style=\"color: #008080; text-decoration-color: #008080; font-weight: bold\">20587</span>\n",
       "</pre>\n"
      ],
      "text/plain": [
       "\u001b[1;36m20587\u001b[0m\n"
      ]
     },
     "metadata": {},
     "output_type": "display_data"
    }
   ],
   "source": [
    "len(np.unique(torch.tensor(user)))"
   ]
  },
  {
   "cell_type": "code",
   "execution_count": 54,
   "metadata": {},
   "outputs": [
    {
     "data": {
      "text/html": [
       "<div>\n",
       "<style scoped>\n",
       "    .dataframe tbody tr th:only-of-type {\n",
       "        vertical-align: middle;\n",
       "    }\n",
       "\n",
       "    .dataframe tbody tr th {\n",
       "        vertical-align: top;\n",
       "    }\n",
       "\n",
       "    .dataframe thead th {\n",
       "        text-align: right;\n",
       "    }\n",
       "</style>\n",
       "<table border=\"1\" class=\"dataframe\">\n",
       "  <thead>\n",
       "    <tr style=\"text-align: right;\">\n",
       "      <th></th>\n",
       "      <th>user_id</th>\n",
       "      <th>item_id</th>\n",
       "      <th>time</th>\n",
       "    </tr>\n",
       "  </thead>\n",
       "  <tbody>\n",
       "    <tr>\n",
       "      <th>0</th>\n",
       "      <td>15596</td>\n",
       "      <td>2</td>\n",
       "      <td>1425081600</td>\n",
       "    </tr>\n",
       "    <tr>\n",
       "      <th>1</th>\n",
       "      <td>73485</td>\n",
       "      <td>2</td>\n",
       "      <td>1425081600</td>\n",
       "    </tr>\n",
       "    <tr>\n",
       "      <th>2</th>\n",
       "      <td>42249</td>\n",
       "      <td>2</td>\n",
       "      <td>1425081600</td>\n",
       "    </tr>\n",
       "    <tr>\n",
       "      <th>3</th>\n",
       "      <td>73754</td>\n",
       "      <td>2</td>\n",
       "      <td>1425081600</td>\n",
       "    </tr>\n",
       "    <tr>\n",
       "      <th>4</th>\n",
       "      <td>15798</td>\n",
       "      <td>2</td>\n",
       "      <td>1425081600</td>\n",
       "    </tr>\n",
       "    <tr>\n",
       "      <th>...</th>\n",
       "      <td>...</td>\n",
       "      <td>...</td>\n",
       "      <td>...</td>\n",
       "    </tr>\n",
       "    <tr>\n",
       "      <th>57330</th>\n",
       "      <td>85158</td>\n",
       "      <td>20</td>\n",
       "      <td>1464393600</td>\n",
       "    </tr>\n",
       "    <tr>\n",
       "      <th>57331</th>\n",
       "      <td>17044</td>\n",
       "      <td>20</td>\n",
       "      <td>1464393600</td>\n",
       "    </tr>\n",
       "    <tr>\n",
       "      <th>57332</th>\n",
       "      <td>31896</td>\n",
       "      <td>20</td>\n",
       "      <td>1464393600</td>\n",
       "    </tr>\n",
       "    <tr>\n",
       "      <th>57333</th>\n",
       "      <td>85133</td>\n",
       "      <td>20</td>\n",
       "      <td>1464393600</td>\n",
       "    </tr>\n",
       "    <tr>\n",
       "      <th>57334</th>\n",
       "      <td>17066</td>\n",
       "      <td>20</td>\n",
       "      <td>1464393600</td>\n",
       "    </tr>\n",
       "  </tbody>\n",
       "</table>\n",
       "<p>57335 rows × 3 columns</p>\n",
       "</div>"
      ]
     },
     "execution_count": 54,
     "metadata": {},
     "output_type": "execute_result"
    }
   ],
   "source": [
    "transactions_mapped"
   ]
  },
  {
   "cell_type": "code",
   "execution_count": 51,
   "metadata": {},
   "outputs": [
    {
     "data": {
      "text/html": [
       "<pre style=\"white-space:pre;overflow-x:auto;line-height:normal;font-family:Menlo,'DejaVu Sans Mono',consolas,'Courier New',monospace\">\n",
       "<span style=\"color: #800080; text-decoration-color: #800080; font-weight: bold\">Graph</span><span style=\"font-weight: bold\">(</span><span style=\"color: #808000; text-decoration-color: #808000\">num_nodes</span>=<span style=\"font-weight: bold\">{</span><span style=\"color: #008000; text-decoration-color: #008000\">'item'</span>: <span style=\"color: #008080; text-decoration-color: #008080; font-weight: bold\">24</span>, <span style=\"color: #008000; text-decoration-color: #008000\">'user'</span>: <span style=\"color: #008080; text-decoration-color: #008080; font-weight: bold\">95234</span><span style=\"font-weight: bold\">}</span>,\n",
       "      <span style=\"color: #808000; text-decoration-color: #808000\">num_edges</span>=<span style=\"font-weight: bold\">{(</span><span style=\"color: #008000; text-decoration-color: #008000\">'item'</span>, <span style=\"color: #008000; text-decoration-color: #008000\">'by'</span>, <span style=\"color: #008000; text-decoration-color: #008000\">'user'</span><span style=\"font-weight: bold\">)</span>: <span style=\"color: #008080; text-decoration-color: #008080; font-weight: bold\">57335</span>, <span style=\"font-weight: bold\">(</span><span style=\"color: #008000; text-decoration-color: #008000\">'user'</span>, <span style=\"color: #008000; text-decoration-color: #008000\">'pby'</span>, <span style=\"color: #008000; text-decoration-color: #008000\">'item'</span><span style=\"font-weight: bold\">)</span>: <span style=\"color: #008080; text-decoration-color: #008080; font-weight: bold\">57335</span><span style=\"font-weight: bold\">}</span>,\n",
       "      <span style=\"color: #808000; text-decoration-color: #808000\">metagraph</span>=<span style=\"font-weight: bold\">[(</span><span style=\"color: #008000; text-decoration-color: #008000\">'item'</span>, <span style=\"color: #008000; text-decoration-color: #008000\">'user'</span>, <span style=\"color: #008000; text-decoration-color: #008000\">'by'</span><span style=\"font-weight: bold\">)</span>, <span style=\"font-weight: bold\">(</span><span style=\"color: #008000; text-decoration-color: #008000\">'user'</span>, <span style=\"color: #008000; text-decoration-color: #008000\">'item'</span>, <span style=\"color: #008000; text-decoration-color: #008000\">'pby'</span><span style=\"font-weight: bold\">)])</span>\n",
       "</pre>\n"
      ],
      "text/plain": [
       "\n",
       "\u001b[1;35mGraph\u001b[0m\u001b[1m(\u001b[0m\u001b[33mnum_nodes\u001b[0m=\u001b[1m{\u001b[0m\u001b[32m'item'\u001b[0m: \u001b[1;36m24\u001b[0m, \u001b[32m'user'\u001b[0m: \u001b[1;36m95234\u001b[0m\u001b[1m}\u001b[0m,\n",
       "      \u001b[33mnum_edges\u001b[0m=\u001b[1m{\u001b[0m\u001b[1m(\u001b[0m\u001b[32m'item'\u001b[0m, \u001b[32m'by'\u001b[0m, \u001b[32m'user'\u001b[0m\u001b[1m)\u001b[0m: \u001b[1;36m57335\u001b[0m, \u001b[1m(\u001b[0m\u001b[32m'user'\u001b[0m, \u001b[32m'pby'\u001b[0m, \u001b[32m'item'\u001b[0m\u001b[1m)\u001b[0m: \u001b[1;36m57335\u001b[0m\u001b[1m}\u001b[0m,\n",
       "      \u001b[33mmetagraph\u001b[0m=\u001b[1m[\u001b[0m\u001b[1m(\u001b[0m\u001b[32m'item'\u001b[0m, \u001b[32m'user'\u001b[0m, \u001b[32m'by'\u001b[0m\u001b[1m)\u001b[0m, \u001b[1m(\u001b[0m\u001b[32m'user'\u001b[0m, \u001b[32m'item'\u001b[0m, \u001b[32m'pby'\u001b[0m\u001b[1m)\u001b[0m\u001b[1m]\u001b[0m\u001b[1m)\u001b[0m\n"
      ]
     },
     "metadata": {},
     "output_type": "display_data"
    }
   ],
   "source": [
    "graph"
   ]
  },
  {
   "cell_type": "code",
   "execution_count": 109,
   "metadata": {},
   "outputs": [],
   "source": [
    "graph.nodes['user'].data['user_id'] = torch.LongTensor(np.unique(user))\n",
    "graph.nodes['item'].data['item_id'] = torch.LongTensor(np.unique(item))"
   ]
  }
 ],
 "metadata": {
  "kernelspec": {
   "display_name": "Python 3.8.12 ('.venv': poetry)",
   "language": "python",
   "name": "python3"
  },
  "language_info": {
   "codemirror_mode": {
    "name": "ipython",
    "version": 3
   },
   "file_extension": ".py",
   "mimetype": "text/x-python",
   "name": "python",
   "nbconvert_exporter": "python",
   "pygments_lexer": "ipython3",
   "version": "3.8.12"
  },
  "orig_nbformat": 4,
  "vscode": {
   "interpreter": {
    "hash": "01160ca8384e24209bc91a68f15e58a26dc4fe2713be7d3644a89fb318c96c05"
   }
  }
 },
 "nbformat": 4,
 "nbformat_minor": 2
}
