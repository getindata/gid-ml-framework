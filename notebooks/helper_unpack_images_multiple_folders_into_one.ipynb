{
 "cells": [
  {
   "cell_type": "code",
   "execution_count": null,
   "id": "0c1f6a07",
   "metadata": {},
   "outputs": [],
   "source": [
    "import os\n",
    "import shutil\n",
    "from pathlib import Path"
   ]
  },
  {
   "cell_type": "code",
   "execution_count": null,
   "id": "9f7e1a6e",
   "metadata": {},
   "outputs": [],
   "source": [
    "Path.cwd()"
   ]
  },
  {
   "cell_type": "code",
   "execution_count": null,
   "id": "9f184a47",
   "metadata": {},
   "outputs": [],
   "source": [
    "os.chdir('/Users/mmadej/Desktop/Projects/gid-ml-framework/data/01_raw/images_128_copy/')"
   ]
  },
  {
   "cell_type": "code",
   "execution_count": null,
   "id": "e274cabd",
   "metadata": {},
   "outputs": [],
   "source": [
    "Path.cwd()"
   ]
  },
  {
   "cell_type": "code",
   "execution_count": null,
   "id": "8c5dc424",
   "metadata": {},
   "outputs": [],
   "source": [
    "path = Path.cwd()"
   ]
  },
  {
   "cell_type": "code",
   "execution_count": null,
   "id": "025c9214",
   "metadata": {},
   "outputs": [],
   "source": [
    "destination = Path.cwd()"
   ]
  },
  {
   "cell_type": "code",
   "execution_count": null,
   "id": "e0640314",
   "metadata": {},
   "outputs": [],
   "source": [
    "for child in path.iterdir():\n",
    "    if not child.is_dir():\n",
    "        continue\n",
    "    for image in child.iterdir():\n",
    "        if image.suffix=='.jpg':\n",
    "            image.rename(destination/image.name)\n",
    "    child.rmdir()"
   ]
  },
  {
   "cell_type": "markdown",
   "id": "0eb435e6",
   "metadata": {},
   "source": [
    "### check, if any directories left"
   ]
  },
  {
   "cell_type": "code",
   "execution_count": null,
   "id": "113cb931",
   "metadata": {},
   "outputs": [],
   "source": [
    "for child in path.iterdir():\n",
    "    if child.is_dir():\n",
    "        print(child)"
   ]
  },
  {
   "cell_type": "code",
   "execution_count": null,
   "id": "854ec551",
   "metadata": {},
   "outputs": [],
   "source": []
  }
 ],
 "metadata": {
  "kernelspec": {
   "display_name": "GetInDataMLFramework",
   "language": "python",
   "name": "python3"
  },
  "language_info": {
   "codemirror_mode": {
    "name": "ipython",
    "version": 3
   },
   "file_extension": ".py",
   "mimetype": "text/x-python",
   "name": "python",
   "nbconvert_exporter": "python",
   "pygments_lexer": "ipython3",
   "version": "3.8.12"
  }
 },
 "nbformat": 4,
 "nbformat_minor": 5
}
