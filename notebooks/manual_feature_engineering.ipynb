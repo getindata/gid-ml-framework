{
 "cells": [
  {
   "cell_type": "code",
   "execution_count": 1,
   "id": "9b6289f9",
   "metadata": {
    "scrolled": true
   },
   "outputs": [
    {
     "name": "stdout",
     "output_type": "stream",
     "text": [
      "The kedro.extras.extensions.ipython extension is already loaded. To reload it, use:\n",
      "  %reload_ext kedro.extras.extensions.ipython\n"
     ]
    }
   ],
   "source": [
    "%load_ext kedro.extras.extensions.ipython"
   ]
  },
  {
   "cell_type": "code",
   "execution_count": 2,
   "id": "c272c8b9",
   "metadata": {},
   "outputs": [
    {
     "name": "stdout",
     "output_type": "stream",
     "text": [
      "2022-08-11 13:09:39,612 - kedro.framework.hooks.manager - INFO - Registered hooks from 1 installed plugin(s): kedro-mlflow-0.8.1\n",
      "2022-08-11 13:09:39,655 - kedro.framework.session.store - INFO - `read()` not implemented for `BaseSessionStore`. Assuming empty store.\n",
      "2022-08-11 13:09:40,157 - root - INFO - ** Kedro project GetInData ML Framework\n",
      "2022-08-11 13:09:40,158 - root - INFO - Defined global variable `context`, `session`, `catalog` and `pipelines`\n",
      "2022-08-11 13:09:40,168 - root - INFO - Registered line magic `run_viz`\n",
      "2022-08-11 13:09:40,169 - root - INFO - Registered line magic `reload_kedro_mlflow`\n"
     ]
    }
   ],
   "source": [
    "%reload_kedro"
   ]
  },
  {
   "cell_type": "code",
   "execution_count": 3,
   "id": "b74d3fbd",
   "metadata": {},
   "outputs": [],
   "source": [
    "import pandas as pd\n",
    "import numpy as np"
   ]
  },
  {
   "cell_type": "code",
   "execution_count": 4,
   "id": "fc8169e0",
   "metadata": {},
   "outputs": [],
   "source": [
    "pd.set_option('display.float_format', lambda x: '%.4f' % x)"
   ]
  },
  {
   "cell_type": "code",
   "execution_count": 5,
   "id": "22fe7d97",
   "metadata": {},
   "outputs": [
    {
     "data": {
      "text/plain": [
       "['articles',\n",
       " 'customers',\n",
       " 'transactions',\n",
       " 'customers_sample',\n",
       " 'transactions_sample',\n",
       " 'articles_sample',\n",
       " 'input_images',\n",
       " 'resized_images',\n",
       " 'image_embeddings',\n",
       " 'text_embeddings',\n",
       " 'parameters',\n",
       " 'params:image_embeddings_inference',\n",
       " 'params:image_embeddings_inference.run_id',\n",
       " 'params:image_embeddings_inference.image_path',\n",
       " 'params:image_embeddings_inference.batch_size',\n",
       " 'params:customers',\n",
       " 'params:transactions',\n",
       " 'params:articles',\n",
       " 'params:image_embeddings',\n",
       " 'params:image_embeddings.image_path',\n",
       " 'params:image_embeddings.encoder',\n",
       " 'params:image_embeddings.decoder',\n",
       " 'params:image_embeddings.batch_size',\n",
       " 'params:image_embeddings.image_size',\n",
       " 'params:image_embeddings.embedding_size',\n",
       " 'params:image_embeddings.num_epochs',\n",
       " 'params:image_embeddings.shuffle_reconstructions',\n",
       " 'params:image_embeddings.save_model',\n",
       " 'params:image_embeddings.model_name',\n",
       " 'params:image_embeddings.seed',\n",
       " 'params:image_resizer',\n",
       " 'params:image_resizer.output_size',\n",
       " 'params:image_resizer.method',\n",
       " 'params:sampling',\n",
       " 'params:sampling.cutoff_date',\n",
       " 'params:sampling.customers_sample_size',\n",
       " 'params:sampling.articles_sample_size',\n",
       " 'params:sampling.article_img_dir',\n",
       " 'params:sampling.article_img_sample_dir',\n",
       " 'params:text_embeddings',\n",
       " 'params:text_embeddings.transformer_model']"
      ]
     },
     "execution_count": 5,
     "metadata": {},
     "output_type": "execute_result"
    }
   ],
   "source": [
    "catalog.list()"
   ]
  },
  {
   "cell_type": "code",
   "execution_count": 8,
   "id": "c6ef2855",
   "metadata": {},
   "outputs": [
    {
     "name": "stdout",
     "output_type": "stream",
     "text": [
      "2022-08-11 13:10:29,528 - kedro.io.data_catalog - INFO - Loading data from `articles_sample` (CSVDataSet)...\n"
     ]
    }
   ],
   "source": [
    "articles = context.catalog.load('articles_sample')"
   ]
  },
  {
   "cell_type": "code",
   "execution_count": 9,
   "id": "553a691b",
   "metadata": {},
   "outputs": [
    {
     "name": "stdout",
     "output_type": "stream",
     "text": [
      "2022-08-11 13:10:29,773 - kedro.io.data_catalog - INFO - Loading data from `customers_sample` (CSVDataSet)...\n"
     ]
    }
   ],
   "source": [
    "customers = context.catalog.load('customers_sample')"
   ]
  },
  {
   "cell_type": "code",
   "execution_count": 10,
   "id": "e97acae1",
   "metadata": {},
   "outputs": [
    {
     "name": "stdout",
     "output_type": "stream",
     "text": [
      "2022-08-11 13:10:29,975 - kedro.io.data_catalog - INFO - Loading data from `transactions_sample` (CSVDataSet)...\n"
     ]
    }
   ],
   "source": [
    "transactions = context.catalog.load('transactions_sample')"
   ]
  },
  {
   "cell_type": "code",
   "execution_count": 11,
   "id": "2b245807",
   "metadata": {},
   "outputs": [
    {
     "data": {
      "text/plain": [
       "((21108, 25), (137198, 7), (157785, 5))"
      ]
     },
     "execution_count": 11,
     "metadata": {},
     "output_type": "execute_result"
    }
   ],
   "source": [
    "articles.shape, customers.shape, transactions.shape"
   ]
  },
  {
   "cell_type": "markdown",
   "id": "06144725",
   "metadata": {},
   "source": [
    "### articles, customer features (non-interaction)"
   ]
  },
  {
   "cell_type": "markdown",
   "id": "0d6eda62",
   "metadata": {},
   "source": [
    "##### count -> user-item, user-category of last week/month/season/same week of last year"
   ]
  },
  {
   "cell_type": "code",
   "execution_count": 18,
   "id": "a765781d",
   "metadata": {},
   "outputs": [
    {
     "data": {
      "text/html": [
       "<div>\n",
       "<style scoped>\n",
       "    .dataframe tbody tr th:only-of-type {\n",
       "        vertical-align: middle;\n",
       "    }\n",
       "\n",
       "    .dataframe tbody tr th {\n",
       "        vertical-align: top;\n",
       "    }\n",
       "\n",
       "    .dataframe thead th {\n",
       "        text-align: right;\n",
       "    }\n",
       "</style>\n",
       "<table border=\"1\" class=\"dataframe\">\n",
       "  <thead>\n",
       "    <tr style=\"text-align: right;\">\n",
       "      <th></th>\n",
       "      <th>customer_id</th>\n",
       "      <th>count_of_article_per_customer</th>\n",
       "    </tr>\n",
       "  </thead>\n",
       "  <tbody>\n",
       "    <tr>\n",
       "      <th>0</th>\n",
       "      <td>0000423b00ade91418cceaf3b26c6af3dd342b51fd051e...</td>\n",
       "      <td>1</td>\n",
       "    </tr>\n",
       "    <tr>\n",
       "      <th>1</th>\n",
       "      <td>0000b2f1829e23b24feec422ef13df3ccedaedc85368e6...</td>\n",
       "      <td>2</td>\n",
       "    </tr>\n",
       "    <tr>\n",
       "      <th>2</th>\n",
       "      <td>000346516dd355b40badca0c0f5f37a318ddae31f0e0f7...</td>\n",
       "      <td>3</td>\n",
       "    </tr>\n",
       "    <tr>\n",
       "      <th>3</th>\n",
       "      <td>000531ecd2754a0cf214373cc7b6dbcf7ce9a77c3284a2...</td>\n",
       "      <td>1</td>\n",
       "    </tr>\n",
       "    <tr>\n",
       "      <th>4</th>\n",
       "      <td>000989f72a2b8e5da2f4abafc86c2e213816fa2ff2a060...</td>\n",
       "      <td>4</td>\n",
       "    </tr>\n",
       "    <tr>\n",
       "      <th>...</th>\n",
       "      <td>...</td>\n",
       "      <td>...</td>\n",
       "    </tr>\n",
       "    <tr>\n",
       "      <th>49140</th>\n",
       "      <td>fff4d3a8b1f3b60af93e78c30a7cb4cf75edaf2590d3e5...</td>\n",
       "      <td>5</td>\n",
       "    </tr>\n",
       "    <tr>\n",
       "      <th>49141</th>\n",
       "      <td>fff69e3ab1bd701315881c7706c38d5cbcda1f4e0cf213...</td>\n",
       "      <td>2</td>\n",
       "    </tr>\n",
       "    <tr>\n",
       "      <th>49142</th>\n",
       "      <td>fff94b7e15cd61eaf699f0e7d29e4023d28733119f323d...</td>\n",
       "      <td>2</td>\n",
       "    </tr>\n",
       "    <tr>\n",
       "      <th>49143</th>\n",
       "      <td>fffdd9c81f64c0228a54e1c0240cf40877acec6ce985d4...</td>\n",
       "      <td>3</td>\n",
       "    </tr>\n",
       "    <tr>\n",
       "      <th>49144</th>\n",
       "      <td>ffff61677073258d461e043cc9ed4ed97be5617a920640...</td>\n",
       "      <td>2</td>\n",
       "    </tr>\n",
       "  </tbody>\n",
       "</table>\n",
       "<p>49145 rows × 2 columns</p>\n",
       "</div>"
      ],
      "text/plain": [
       "                                             customer_id  \\\n",
       "0      0000423b00ade91418cceaf3b26c6af3dd342b51fd051e...   \n",
       "1      0000b2f1829e23b24feec422ef13df3ccedaedc85368e6...   \n",
       "2      000346516dd355b40badca0c0f5f37a318ddae31f0e0f7...   \n",
       "3      000531ecd2754a0cf214373cc7b6dbcf7ce9a77c3284a2...   \n",
       "4      000989f72a2b8e5da2f4abafc86c2e213816fa2ff2a060...   \n",
       "...                                                  ...   \n",
       "49140  fff4d3a8b1f3b60af93e78c30a7cb4cf75edaf2590d3e5...   \n",
       "49141  fff69e3ab1bd701315881c7706c38d5cbcda1f4e0cf213...   \n",
       "49142  fff94b7e15cd61eaf699f0e7d29e4023d28733119f323d...   \n",
       "49143  fffdd9c81f64c0228a54e1c0240cf40877acec6ce985d4...   \n",
       "49144  ffff61677073258d461e043cc9ed4ed97be5617a920640...   \n",
       "\n",
       "       count_of_article_per_customer  \n",
       "0                                  1  \n",
       "1                                  2  \n",
       "2                                  3  \n",
       "3                                  1  \n",
       "4                                  4  \n",
       "...                              ...  \n",
       "49140                              5  \n",
       "49141                              2  \n",
       "49142                              2  \n",
       "49143                              3  \n",
       "49144                              2  \n",
       "\n",
       "[49145 rows x 2 columns]"
      ]
     },
     "execution_count": 18,
     "metadata": {},
     "output_type": "execute_result"
    }
   ],
   "source": [
    "# count of article id per customer_id\n",
    "transactions.groupby(['customer_id'])['article_id'].count().reset_index(name='count_of_article_per_customer')"
   ]
  },
  {
   "cell_type": "code",
   "execution_count": 72,
   "id": "a44c5c61",
   "metadata": {},
   "outputs": [
    {
     "data": {
      "text/html": [
       "<div>\n",
       "<style scoped>\n",
       "    .dataframe tbody tr th:only-of-type {\n",
       "        vertical-align: middle;\n",
       "    }\n",
       "\n",
       "    .dataframe tbody tr th {\n",
       "        vertical-align: top;\n",
       "    }\n",
       "\n",
       "    .dataframe thead th {\n",
       "        text-align: right;\n",
       "    }\n",
       "</style>\n",
       "<table border=\"1\" class=\"dataframe\">\n",
       "  <thead>\n",
       "    <tr style=\"text-align: right;\">\n",
       "      <th></th>\n",
       "      <th>customer_id</th>\n",
       "      <th>count_of_product_group_name_per_customer</th>\n",
       "    </tr>\n",
       "  </thead>\n",
       "  <tbody>\n",
       "    <tr>\n",
       "      <th>0</th>\n",
       "      <td>0000423b00ade91418cceaf3b26c6af3dd342b51fd051e...</td>\n",
       "      <td>1</td>\n",
       "    </tr>\n",
       "    <tr>\n",
       "      <th>1</th>\n",
       "      <td>0000b2f1829e23b24feec422ef13df3ccedaedc85368e6...</td>\n",
       "      <td>1</td>\n",
       "    </tr>\n",
       "    <tr>\n",
       "      <th>2</th>\n",
       "      <td>000346516dd355b40badca0c0f5f37a318ddae31f0e0f7...</td>\n",
       "      <td>3</td>\n",
       "    </tr>\n",
       "    <tr>\n",
       "      <th>3</th>\n",
       "      <td>000531ecd2754a0cf214373cc7b6dbcf7ce9a77c3284a2...</td>\n",
       "      <td>1</td>\n",
       "    </tr>\n",
       "    <tr>\n",
       "      <th>4</th>\n",
       "      <td>000989f72a2b8e5da2f4abafc86c2e213816fa2ff2a060...</td>\n",
       "      <td>3</td>\n",
       "    </tr>\n",
       "    <tr>\n",
       "      <th>...</th>\n",
       "      <td>...</td>\n",
       "      <td>...</td>\n",
       "    </tr>\n",
       "    <tr>\n",
       "      <th>49140</th>\n",
       "      <td>fff4d3a8b1f3b60af93e78c30a7cb4cf75edaf2590d3e5...</td>\n",
       "      <td>5</td>\n",
       "    </tr>\n",
       "    <tr>\n",
       "      <th>49141</th>\n",
       "      <td>fff69e3ab1bd701315881c7706c38d5cbcda1f4e0cf213...</td>\n",
       "      <td>1</td>\n",
       "    </tr>\n",
       "    <tr>\n",
       "      <th>49142</th>\n",
       "      <td>fff94b7e15cd61eaf699f0e7d29e4023d28733119f323d...</td>\n",
       "      <td>1</td>\n",
       "    </tr>\n",
       "    <tr>\n",
       "      <th>49143</th>\n",
       "      <td>fffdd9c81f64c0228a54e1c0240cf40877acec6ce985d4...</td>\n",
       "      <td>1</td>\n",
       "    </tr>\n",
       "    <tr>\n",
       "      <th>49144</th>\n",
       "      <td>ffff61677073258d461e043cc9ed4ed97be5617a920640...</td>\n",
       "      <td>2</td>\n",
       "    </tr>\n",
       "  </tbody>\n",
       "</table>\n",
       "<p>49145 rows × 2 columns</p>\n",
       "</div>"
      ],
      "text/plain": [
       "                                             customer_id  \\\n",
       "0      0000423b00ade91418cceaf3b26c6af3dd342b51fd051e...   \n",
       "1      0000b2f1829e23b24feec422ef13df3ccedaedc85368e6...   \n",
       "2      000346516dd355b40badca0c0f5f37a318ddae31f0e0f7...   \n",
       "3      000531ecd2754a0cf214373cc7b6dbcf7ce9a77c3284a2...   \n",
       "4      000989f72a2b8e5da2f4abafc86c2e213816fa2ff2a060...   \n",
       "...                                                  ...   \n",
       "49140  fff4d3a8b1f3b60af93e78c30a7cb4cf75edaf2590d3e5...   \n",
       "49141  fff69e3ab1bd701315881c7706c38d5cbcda1f4e0cf213...   \n",
       "49142  fff94b7e15cd61eaf699f0e7d29e4023d28733119f323d...   \n",
       "49143  fffdd9c81f64c0228a54e1c0240cf40877acec6ce985d4...   \n",
       "49144  ffff61677073258d461e043cc9ed4ed97be5617a920640...   \n",
       "\n",
       "       count_of_product_group_name_per_customer  \n",
       "0                                             1  \n",
       "1                                             1  \n",
       "2                                             3  \n",
       "3                                             1  \n",
       "4                                             3  \n",
       "...                                         ...  \n",
       "49140                                         5  \n",
       "49141                                         1  \n",
       "49142                                         1  \n",
       "49143                                         1  \n",
       "49144                                         2  \n",
       "\n",
       "[49145 rows x 2 columns]"
      ]
     },
     "execution_count": 72,
     "metadata": {},
     "output_type": "execute_result"
    }
   ],
   "source": [
    "# count of prod_group_name per customer_id\n",
    "(transactions\n",
    "    .merge(articles[['article_id', 'product_group_name']], on='article_id')[['customer_id', 'product_group_name']]\n",
    "    .drop_duplicates()\n",
    "    .groupby(['customer_id'])['product_group_name']\n",
    "    .count()\n",
    "    .reset_index(name='count_of_product_group_name_per_customer')\n",
    ")"
   ]
  },
  {
   "cell_type": "markdown",
   "id": "95b48e90",
   "metadata": {},
   "source": [
    "##### time -> first, last days of transactions"
   ]
  },
  {
   "cell_type": "code",
   "execution_count": 25,
   "id": "b8ceb31b",
   "metadata": {},
   "outputs": [],
   "source": [
    "transactions['t_dat'] = pd.to_datetime(transactions['t_dat'])"
   ]
  },
  {
   "cell_type": "code",
   "execution_count": 26,
   "id": "f68d2efd",
   "metadata": {},
   "outputs": [],
   "source": [
    "max_date = transactions['t_dat'].max()"
   ]
  },
  {
   "cell_type": "code",
   "execution_count": 27,
   "id": "ee42bb48",
   "metadata": {},
   "outputs": [
    {
     "data": {
      "text/plain": [
       "Timestamp('2020-09-22 00:00:00')"
      ]
     },
     "execution_count": 27,
     "metadata": {},
     "output_type": "execute_result"
    }
   ],
   "source": [
    "max_date"
   ]
  },
  {
   "cell_type": "code",
   "execution_count": 40,
   "id": "b3103bf6",
   "metadata": {},
   "outputs": [
    {
     "data": {
      "text/html": [
       "<div>\n",
       "<style scoped>\n",
       "    .dataframe tbody tr th:only-of-type {\n",
       "        vertical-align: middle;\n",
       "    }\n",
       "\n",
       "    .dataframe tbody tr th {\n",
       "        vertical-align: top;\n",
       "    }\n",
       "\n",
       "    .dataframe thead th {\n",
       "        text-align: right;\n",
       "    }\n",
       "</style>\n",
       "<table border=\"1\" class=\"dataframe\">\n",
       "  <thead>\n",
       "    <tr style=\"text-align: right;\">\n",
       "      <th></th>\n",
       "      <th>customer_id</th>\n",
       "      <th>days_since_first_transaction</th>\n",
       "    </tr>\n",
       "  </thead>\n",
       "  <tbody>\n",
       "    <tr>\n",
       "      <th>0</th>\n",
       "      <td>0000423b00ade91418cceaf3b26c6af3dd342b51fd051e...</td>\n",
       "      <td>153</td>\n",
       "    </tr>\n",
       "    <tr>\n",
       "      <th>1</th>\n",
       "      <td>0000b2f1829e23b24feec422ef13df3ccedaedc85368e6...</td>\n",
       "      <td>91</td>\n",
       "    </tr>\n",
       "    <tr>\n",
       "      <th>2</th>\n",
       "      <td>000346516dd355b40badca0c0f5f37a318ddae31f0e0f7...</td>\n",
       "      <td>92</td>\n",
       "    </tr>\n",
       "    <tr>\n",
       "      <th>3</th>\n",
       "      <td>000531ecd2754a0cf214373cc7b6dbcf7ce9a77c3284a2...</td>\n",
       "      <td>95</td>\n",
       "    </tr>\n",
       "    <tr>\n",
       "      <th>4</th>\n",
       "      <td>000989f72a2b8e5da2f4abafc86c2e213816fa2ff2a060...</td>\n",
       "      <td>123</td>\n",
       "    </tr>\n",
       "    <tr>\n",
       "      <th>...</th>\n",
       "      <td>...</td>\n",
       "      <td>...</td>\n",
       "    </tr>\n",
       "    <tr>\n",
       "      <th>49140</th>\n",
       "      <td>fff4d3a8b1f3b60af93e78c30a7cb4cf75edaf2590d3e5...</td>\n",
       "      <td>55</td>\n",
       "    </tr>\n",
       "    <tr>\n",
       "      <th>49141</th>\n",
       "      <td>fff69e3ab1bd701315881c7706c38d5cbcda1f4e0cf213...</td>\n",
       "      <td>60</td>\n",
       "    </tr>\n",
       "    <tr>\n",
       "      <th>49142</th>\n",
       "      <td>fff94b7e15cd61eaf699f0e7d29e4023d28733119f323d...</td>\n",
       "      <td>105</td>\n",
       "    </tr>\n",
       "    <tr>\n",
       "      <th>49143</th>\n",
       "      <td>fffdd9c81f64c0228a54e1c0240cf40877acec6ce985d4...</td>\n",
       "      <td>109</td>\n",
       "    </tr>\n",
       "    <tr>\n",
       "      <th>49144</th>\n",
       "      <td>ffff61677073258d461e043cc9ed4ed97be5617a920640...</td>\n",
       "      <td>95</td>\n",
       "    </tr>\n",
       "  </tbody>\n",
       "</table>\n",
       "<p>49145 rows × 2 columns</p>\n",
       "</div>"
      ],
      "text/plain": [
       "                                             customer_id  \\\n",
       "0      0000423b00ade91418cceaf3b26c6af3dd342b51fd051e...   \n",
       "1      0000b2f1829e23b24feec422ef13df3ccedaedc85368e6...   \n",
       "2      000346516dd355b40badca0c0f5f37a318ddae31f0e0f7...   \n",
       "3      000531ecd2754a0cf214373cc7b6dbcf7ce9a77c3284a2...   \n",
       "4      000989f72a2b8e5da2f4abafc86c2e213816fa2ff2a060...   \n",
       "...                                                  ...   \n",
       "49140  fff4d3a8b1f3b60af93e78c30a7cb4cf75edaf2590d3e5...   \n",
       "49141  fff69e3ab1bd701315881c7706c38d5cbcda1f4e0cf213...   \n",
       "49142  fff94b7e15cd61eaf699f0e7d29e4023d28733119f323d...   \n",
       "49143  fffdd9c81f64c0228a54e1c0240cf40877acec6ce985d4...   \n",
       "49144  ffff61677073258d461e043cc9ed4ed97be5617a920640...   \n",
       "\n",
       "       days_since_first_transaction  \n",
       "0                               153  \n",
       "1                                91  \n",
       "2                                92  \n",
       "3                                95  \n",
       "4                               123  \n",
       "...                             ...  \n",
       "49140                            55  \n",
       "49141                            60  \n",
       "49142                           105  \n",
       "49143                           109  \n",
       "49144                            95  \n",
       "\n",
       "[49145 rows x 2 columns]"
      ]
     },
     "execution_count": 40,
     "metadata": {},
     "output_type": "execute_result"
    }
   ],
   "source": [
    "# days since first transaction for each customer\n",
    "(max_date - \n",
    "    (transactions\n",
    "        .groupby(['customer_id'])['t_dat']\n",
    "        .min()\n",
    "    )\n",
    ").dt.days.reset_index(name='days_since_first_transaction')"
   ]
  },
  {
   "cell_type": "code",
   "execution_count": 41,
   "id": "684a6c77",
   "metadata": {
    "scrolled": false
   },
   "outputs": [
    {
     "data": {
      "text/html": [
       "<div>\n",
       "<style scoped>\n",
       "    .dataframe tbody tr th:only-of-type {\n",
       "        vertical-align: middle;\n",
       "    }\n",
       "\n",
       "    .dataframe tbody tr th {\n",
       "        vertical-align: top;\n",
       "    }\n",
       "\n",
       "    .dataframe thead th {\n",
       "        text-align: right;\n",
       "    }\n",
       "</style>\n",
       "<table border=\"1\" class=\"dataframe\">\n",
       "  <thead>\n",
       "    <tr style=\"text-align: right;\">\n",
       "      <th></th>\n",
       "      <th>customer_id</th>\n",
       "      <th>days_since_last_transaction</th>\n",
       "    </tr>\n",
       "  </thead>\n",
       "  <tbody>\n",
       "    <tr>\n",
       "      <th>0</th>\n",
       "      <td>0000423b00ade91418cceaf3b26c6af3dd342b51fd051e...</td>\n",
       "      <td>153</td>\n",
       "    </tr>\n",
       "    <tr>\n",
       "      <th>1</th>\n",
       "      <td>0000b2f1829e23b24feec422ef13df3ccedaedc85368e6...</td>\n",
       "      <td>24</td>\n",
       "    </tr>\n",
       "    <tr>\n",
       "      <th>2</th>\n",
       "      <td>000346516dd355b40badca0c0f5f37a318ddae31f0e0f7...</td>\n",
       "      <td>53</td>\n",
       "    </tr>\n",
       "    <tr>\n",
       "      <th>3</th>\n",
       "      <td>000531ecd2754a0cf214373cc7b6dbcf7ce9a77c3284a2...</td>\n",
       "      <td>95</td>\n",
       "    </tr>\n",
       "    <tr>\n",
       "      <th>4</th>\n",
       "      <td>000989f72a2b8e5da2f4abafc86c2e213816fa2ff2a060...</td>\n",
       "      <td>102</td>\n",
       "    </tr>\n",
       "    <tr>\n",
       "      <th>...</th>\n",
       "      <td>...</td>\n",
       "      <td>...</td>\n",
       "    </tr>\n",
       "    <tr>\n",
       "      <th>49140</th>\n",
       "      <td>fff4d3a8b1f3b60af93e78c30a7cb4cf75edaf2590d3e5...</td>\n",
       "      <td>11</td>\n",
       "    </tr>\n",
       "    <tr>\n",
       "      <th>49141</th>\n",
       "      <td>fff69e3ab1bd701315881c7706c38d5cbcda1f4e0cf213...</td>\n",
       "      <td>60</td>\n",
       "    </tr>\n",
       "    <tr>\n",
       "      <th>49142</th>\n",
       "      <td>fff94b7e15cd61eaf699f0e7d29e4023d28733119f323d...</td>\n",
       "      <td>105</td>\n",
       "    </tr>\n",
       "    <tr>\n",
       "      <th>49143</th>\n",
       "      <td>fffdd9c81f64c0228a54e1c0240cf40877acec6ce985d4...</td>\n",
       "      <td>57</td>\n",
       "    </tr>\n",
       "    <tr>\n",
       "      <th>49144</th>\n",
       "      <td>ffff61677073258d461e043cc9ed4ed97be5617a920640...</td>\n",
       "      <td>95</td>\n",
       "    </tr>\n",
       "  </tbody>\n",
       "</table>\n",
       "<p>49145 rows × 2 columns</p>\n",
       "</div>"
      ],
      "text/plain": [
       "                                             customer_id  \\\n",
       "0      0000423b00ade91418cceaf3b26c6af3dd342b51fd051e...   \n",
       "1      0000b2f1829e23b24feec422ef13df3ccedaedc85368e6...   \n",
       "2      000346516dd355b40badca0c0f5f37a318ddae31f0e0f7...   \n",
       "3      000531ecd2754a0cf214373cc7b6dbcf7ce9a77c3284a2...   \n",
       "4      000989f72a2b8e5da2f4abafc86c2e213816fa2ff2a060...   \n",
       "...                                                  ...   \n",
       "49140  fff4d3a8b1f3b60af93e78c30a7cb4cf75edaf2590d3e5...   \n",
       "49141  fff69e3ab1bd701315881c7706c38d5cbcda1f4e0cf213...   \n",
       "49142  fff94b7e15cd61eaf699f0e7d29e4023d28733119f323d...   \n",
       "49143  fffdd9c81f64c0228a54e1c0240cf40877acec6ce985d4...   \n",
       "49144  ffff61677073258d461e043cc9ed4ed97be5617a920640...   \n",
       "\n",
       "       days_since_last_transaction  \n",
       "0                              153  \n",
       "1                               24  \n",
       "2                               53  \n",
       "3                               95  \n",
       "4                              102  \n",
       "...                            ...  \n",
       "49140                           11  \n",
       "49141                           60  \n",
       "49142                          105  \n",
       "49143                           57  \n",
       "49144                           95  \n",
       "\n",
       "[49145 rows x 2 columns]"
      ]
     },
     "execution_count": 41,
     "metadata": {},
     "output_type": "execute_result"
    }
   ],
   "source": [
    "# days since last transaction for each customer\n",
    "(max_date - \n",
    "    (transactions\n",
    "        .groupby(['customer_id'])['t_dat']\n",
    "        .max()\n",
    "    )\n",
    ").dt.days.reset_index(name='days_since_last_transaction')"
   ]
  },
  {
   "cell_type": "code",
   "execution_count": 57,
   "id": "6deab8bb",
   "metadata": {},
   "outputs": [
    {
     "data": {
      "text/html": [
       "<div>\n",
       "<style scoped>\n",
       "    .dataframe tbody tr th:only-of-type {\n",
       "        vertical-align: middle;\n",
       "    }\n",
       "\n",
       "    .dataframe tbody tr th {\n",
       "        vertical-align: top;\n",
       "    }\n",
       "\n",
       "    .dataframe thead th {\n",
       "        text-align: right;\n",
       "    }\n",
       "</style>\n",
       "<table border=\"1\" class=\"dataframe\">\n",
       "  <thead>\n",
       "    <tr style=\"text-align: right;\">\n",
       "      <th></th>\n",
       "      <th>customer_id</th>\n",
       "      <th>avg_purchase_span</th>\n",
       "    </tr>\n",
       "  </thead>\n",
       "  <tbody>\n",
       "    <tr>\n",
       "      <th>0</th>\n",
       "      <td>0000b2f1829e23b24feec422ef13df3ccedaedc85368e6...</td>\n",
       "      <td>67</td>\n",
       "    </tr>\n",
       "    <tr>\n",
       "      <th>1</th>\n",
       "      <td>000346516dd355b40badca0c0f5f37a318ddae31f0e0f7...</td>\n",
       "      <td>39</td>\n",
       "    </tr>\n",
       "    <tr>\n",
       "      <th>2</th>\n",
       "      <td>000989f72a2b8e5da2f4abafc86c2e213816fa2ff2a060...</td>\n",
       "      <td>10</td>\n",
       "    </tr>\n",
       "    <tr>\n",
       "      <th>3</th>\n",
       "      <td>000fab9caf56e8060680e5fd82d709ade7496318832201...</td>\n",
       "      <td>72</td>\n",
       "    </tr>\n",
       "    <tr>\n",
       "      <th>4</th>\n",
       "      <td>00159bfc26c2cf788c09789f006fa698b24d0f1dbd8309...</td>\n",
       "      <td>32</td>\n",
       "    </tr>\n",
       "    <tr>\n",
       "      <th>...</th>\n",
       "      <td>...</td>\n",
       "      <td>...</td>\n",
       "    </tr>\n",
       "    <tr>\n",
       "      <th>22183</th>\n",
       "      <td>fff187d1386edced8ef49b1df0155241943c9c4cc7abbf...</td>\n",
       "      <td>41</td>\n",
       "    </tr>\n",
       "    <tr>\n",
       "      <th>22184</th>\n",
       "      <td>fff3573d9131d15da6a46c1ca8f03b5d37e4f6b804171e...</td>\n",
       "      <td>18</td>\n",
       "    </tr>\n",
       "    <tr>\n",
       "      <th>22185</th>\n",
       "      <td>fff4381593e170ca0aea188998487c830d9a4070c9ec4b...</td>\n",
       "      <td>49</td>\n",
       "    </tr>\n",
       "    <tr>\n",
       "      <th>22186</th>\n",
       "      <td>fff4d3a8b1f3b60af93e78c30a7cb4cf75edaf2590d3e5...</td>\n",
       "      <td>22</td>\n",
       "    </tr>\n",
       "    <tr>\n",
       "      <th>22187</th>\n",
       "      <td>fffdd9c81f64c0228a54e1c0240cf40877acec6ce985d4...</td>\n",
       "      <td>52</td>\n",
       "    </tr>\n",
       "  </tbody>\n",
       "</table>\n",
       "<p>22188 rows × 2 columns</p>\n",
       "</div>"
      ],
      "text/plain": [
       "                                             customer_id  avg_purchase_span\n",
       "0      0000b2f1829e23b24feec422ef13df3ccedaedc85368e6...                 67\n",
       "1      000346516dd355b40badca0c0f5f37a318ddae31f0e0f7...                 39\n",
       "2      000989f72a2b8e5da2f4abafc86c2e213816fa2ff2a060...                 10\n",
       "3      000fab9caf56e8060680e5fd82d709ade7496318832201...                 72\n",
       "4      00159bfc26c2cf788c09789f006fa698b24d0f1dbd8309...                 32\n",
       "...                                                  ...                ...\n",
       "22183  fff187d1386edced8ef49b1df0155241943c9c4cc7abbf...                 41\n",
       "22184  fff3573d9131d15da6a46c1ca8f03b5d37e4f6b804171e...                 18\n",
       "22185  fff4381593e170ca0aea188998487c830d9a4070c9ec4b...                 49\n",
       "22186  fff4d3a8b1f3b60af93e78c30a7cb4cf75edaf2590d3e5...                 22\n",
       "22187  fffdd9c81f64c0228a54e1c0240cf40877acec6ce985d4...                 52\n",
       "\n",
       "[22188 rows x 2 columns]"
      ]
     },
     "execution_count": 57,
     "metadata": {},
     "output_type": "execute_result"
    }
   ],
   "source": [
    "# average purchase span for each customer\n",
    "sorted_transactions = transactions.sort_values(by=['customer_id', 't_dat'], ascending=[True, False])[['customer_id', 't_dat']].drop_duplicates()\n",
    "sorted_transactions['t_dat_next'] = sorted_transactions['t_dat'].shift(1)\n",
    "sorted_transactions['customer_id_next'] = sorted_transactions['customer_id'].shift(1)\n",
    "sorted_transactions = sorted_transactions.assign(avg_purchase_span = lambda x: x.t_dat_next-x.t_dat)\n",
    "(\n",
    "    sorted_transactions[sorted_transactions['customer_id']==sorted_transactions['customer_id_next']]\n",
    "    .groupby(['customer_id'])['avg_purchase_span']\n",
    "    .mean().dt.days\n",
    "    .reset_index()\n",
    ")"
   ]
  },
  {
   "cell_type": "code",
   "execution_count": 58,
   "id": "6bb88c6c",
   "metadata": {},
   "outputs": [
    {
     "name": "stdout",
     "output_type": "stream",
     "text": [
      "todo later\n"
     ]
    }
   ],
   "source": [
    "# average/median purchase span for each customer/article pair\n",
    "print('todo later')"
   ]
  },
  {
   "cell_type": "markdown",
   "id": "8e1326f1",
   "metadata": {},
   "source": [
    "##### sales_channel_id percentage"
   ]
  },
  {
   "cell_type": "code",
   "execution_count": 61,
   "id": "bfc21d54",
   "metadata": {},
   "outputs": [
    {
     "data": {
      "text/plain": [
       "2    113798\n",
       "1     43987\n",
       "Name: sales_channel_id, dtype: int64"
      ]
     },
     "execution_count": 61,
     "metadata": {},
     "output_type": "execute_result"
    }
   ],
   "source": [
    "transactions.sales_channel_id.value_counts()"
   ]
  },
  {
   "cell_type": "code",
   "execution_count": 69,
   "id": "c8488646",
   "metadata": {},
   "outputs": [
    {
     "data": {
      "text/html": [
       "<div>\n",
       "<style scoped>\n",
       "    .dataframe tbody tr th:only-of-type {\n",
       "        vertical-align: middle;\n",
       "    }\n",
       "\n",
       "    .dataframe tbody tr th {\n",
       "        vertical-align: top;\n",
       "    }\n",
       "\n",
       "    .dataframe thead th {\n",
       "        text-align: right;\n",
       "    }\n",
       "</style>\n",
       "<table border=\"1\" class=\"dataframe\">\n",
       "  <thead>\n",
       "    <tr style=\"text-align: right;\">\n",
       "      <th></th>\n",
       "      <th>customer_id</th>\n",
       "      <th>perc_customer_sales_offline</th>\n",
       "    </tr>\n",
       "  </thead>\n",
       "  <tbody>\n",
       "    <tr>\n",
       "      <th>0</th>\n",
       "      <td>0000423b00ade91418cceaf3b26c6af3dd342b51fd051e...</td>\n",
       "      <td>1.0000</td>\n",
       "    </tr>\n",
       "    <tr>\n",
       "      <th>1</th>\n",
       "      <td>0000b2f1829e23b24feec422ef13df3ccedaedc85368e6...</td>\n",
       "      <td>0.0000</td>\n",
       "    </tr>\n",
       "    <tr>\n",
       "      <th>2</th>\n",
       "      <td>000346516dd355b40badca0c0f5f37a318ddae31f0e0f7...</td>\n",
       "      <td>0.3333</td>\n",
       "    </tr>\n",
       "    <tr>\n",
       "      <th>3</th>\n",
       "      <td>000531ecd2754a0cf214373cc7b6dbcf7ce9a77c3284a2...</td>\n",
       "      <td>1.0000</td>\n",
       "    </tr>\n",
       "    <tr>\n",
       "      <th>4</th>\n",
       "      <td>000989f72a2b8e5da2f4abafc86c2e213816fa2ff2a060...</td>\n",
       "      <td>1.0000</td>\n",
       "    </tr>\n",
       "    <tr>\n",
       "      <th>...</th>\n",
       "      <td>...</td>\n",
       "      <td>...</td>\n",
       "    </tr>\n",
       "    <tr>\n",
       "      <th>49140</th>\n",
       "      <td>fff4d3a8b1f3b60af93e78c30a7cb4cf75edaf2590d3e5...</td>\n",
       "      <td>1.0000</td>\n",
       "    </tr>\n",
       "    <tr>\n",
       "      <th>49141</th>\n",
       "      <td>fff69e3ab1bd701315881c7706c38d5cbcda1f4e0cf213...</td>\n",
       "      <td>1.0000</td>\n",
       "    </tr>\n",
       "    <tr>\n",
       "      <th>49142</th>\n",
       "      <td>fff94b7e15cd61eaf699f0e7d29e4023d28733119f323d...</td>\n",
       "      <td>1.0000</td>\n",
       "    </tr>\n",
       "    <tr>\n",
       "      <th>49143</th>\n",
       "      <td>fffdd9c81f64c0228a54e1c0240cf40877acec6ce985d4...</td>\n",
       "      <td>1.0000</td>\n",
       "    </tr>\n",
       "    <tr>\n",
       "      <th>49144</th>\n",
       "      <td>ffff61677073258d461e043cc9ed4ed97be5617a920640...</td>\n",
       "      <td>0.0000</td>\n",
       "    </tr>\n",
       "  </tbody>\n",
       "</table>\n",
       "<p>49145 rows × 2 columns</p>\n",
       "</div>"
      ],
      "text/plain": [
       "                                             customer_id  \\\n",
       "0      0000423b00ade91418cceaf3b26c6af3dd342b51fd051e...   \n",
       "1      0000b2f1829e23b24feec422ef13df3ccedaedc85368e6...   \n",
       "2      000346516dd355b40badca0c0f5f37a318ddae31f0e0f7...   \n",
       "3      000531ecd2754a0cf214373cc7b6dbcf7ce9a77c3284a2...   \n",
       "4      000989f72a2b8e5da2f4abafc86c2e213816fa2ff2a060...   \n",
       "...                                                  ...   \n",
       "49140  fff4d3a8b1f3b60af93e78c30a7cb4cf75edaf2590d3e5...   \n",
       "49141  fff69e3ab1bd701315881c7706c38d5cbcda1f4e0cf213...   \n",
       "49142  fff94b7e15cd61eaf699f0e7d29e4023d28733119f323d...   \n",
       "49143  fffdd9c81f64c0228a54e1c0240cf40877acec6ce985d4...   \n",
       "49144  ffff61677073258d461e043cc9ed4ed97be5617a920640...   \n",
       "\n",
       "       perc_customer_sales_offline  \n",
       "0                           1.0000  \n",
       "1                           0.0000  \n",
       "2                           0.3333  \n",
       "3                           1.0000  \n",
       "4                           1.0000  \n",
       "...                            ...  \n",
       "49140                       1.0000  \n",
       "49141                       1.0000  \n",
       "49142                       1.0000  \n",
       "49143                       1.0000  \n",
       "49144                       0.0000  \n",
       "\n",
       "[49145 rows x 2 columns]"
      ]
     },
     "execution_count": 69,
     "metadata": {},
     "output_type": "execute_result"
    }
   ],
   "source": [
    "# mean percentage sales offline per customer\n",
    "(\n",
    "    transactions.assign(if_offline=lambda x: x.sales_channel_id-1)\n",
    "    .groupby(['customer_id'])['if_offline']\n",
    "    .mean()\n",
    "    .reset_index(name='perc_customer_sales_offline')\n",
    ")"
   ]
  },
  {
   "cell_type": "code",
   "execution_count": 70,
   "id": "5ebb19f0",
   "metadata": {},
   "outputs": [
    {
     "data": {
      "text/html": [
       "<div>\n",
       "<style scoped>\n",
       "    .dataframe tbody tr th:only-of-type {\n",
       "        vertical-align: middle;\n",
       "    }\n",
       "\n",
       "    .dataframe tbody tr th {\n",
       "        vertical-align: top;\n",
       "    }\n",
       "\n",
       "    .dataframe thead th {\n",
       "        text-align: right;\n",
       "    }\n",
       "</style>\n",
       "<table border=\"1\" class=\"dataframe\">\n",
       "  <thead>\n",
       "    <tr style=\"text-align: right;\">\n",
       "      <th></th>\n",
       "      <th>article_id</th>\n",
       "      <th>perc_article_sales_offline</th>\n",
       "    </tr>\n",
       "  </thead>\n",
       "  <tbody>\n",
       "    <tr>\n",
       "      <th>0</th>\n",
       "      <td>0108775015</td>\n",
       "      <td>0.0000</td>\n",
       "    </tr>\n",
       "    <tr>\n",
       "      <th>1</th>\n",
       "      <td>0110065002</td>\n",
       "      <td>0.0000</td>\n",
       "    </tr>\n",
       "    <tr>\n",
       "      <th>2</th>\n",
       "      <td>0123173001</td>\n",
       "      <td>0.5682</td>\n",
       "    </tr>\n",
       "    <tr>\n",
       "      <th>3</th>\n",
       "      <td>0129085001</td>\n",
       "      <td>0.0000</td>\n",
       "    </tr>\n",
       "    <tr>\n",
       "      <th>4</th>\n",
       "      <td>0129085026</td>\n",
       "      <td>0.0000</td>\n",
       "    </tr>\n",
       "    <tr>\n",
       "      <th>...</th>\n",
       "      <td>...</td>\n",
       "      <td>...</td>\n",
       "    </tr>\n",
       "    <tr>\n",
       "      <th>6775</th>\n",
       "      <td>0945600001</td>\n",
       "      <td>1.0000</td>\n",
       "    </tr>\n",
       "    <tr>\n",
       "      <th>6776</th>\n",
       "      <td>0945995002</td>\n",
       "      <td>0.4500</td>\n",
       "    </tr>\n",
       "    <tr>\n",
       "      <th>6777</th>\n",
       "      <td>0946748001</td>\n",
       "      <td>0.0000</td>\n",
       "    </tr>\n",
       "    <tr>\n",
       "      <th>6778</th>\n",
       "      <td>0946764002</td>\n",
       "      <td>1.0000</td>\n",
       "    </tr>\n",
       "    <tr>\n",
       "      <th>6779</th>\n",
       "      <td>0949551002</td>\n",
       "      <td>0.5714</td>\n",
       "    </tr>\n",
       "  </tbody>\n",
       "</table>\n",
       "<p>6780 rows × 2 columns</p>\n",
       "</div>"
      ],
      "text/plain": [
       "      article_id  perc_article_sales_offline\n",
       "0     0108775015                      0.0000\n",
       "1     0110065002                      0.0000\n",
       "2     0123173001                      0.5682\n",
       "3     0129085001                      0.0000\n",
       "4     0129085026                      0.0000\n",
       "...          ...                         ...\n",
       "6775  0945600001                      1.0000\n",
       "6776  0945995002                      0.4500\n",
       "6777  0946748001                      0.0000\n",
       "6778  0946764002                      1.0000\n",
       "6779  0949551002                      0.5714\n",
       "\n",
       "[6780 rows x 2 columns]"
      ]
     },
     "execution_count": 70,
     "metadata": {},
     "output_type": "execute_result"
    }
   ],
   "source": [
    "# mean percentage sales offline per article\n",
    "(\n",
    "    transactions.assign(if_offline=lambda x: x.sales_channel_id-1)\n",
    "    .groupby(['article_id'])['if_offline']\n",
    "    .mean()\n",
    "    .reset_index(name='perc_article_sales_offline')\n",
    ")"
   ]
  },
  {
   "cell_type": "markdown",
   "id": "4ebc2750",
   "metadata": {},
   "source": [
    "##### item attributes count"
   ]
  },
  {
   "cell_type": "code",
   "execution_count": 75,
   "id": "23aa15f6",
   "metadata": {
    "scrolled": true
   },
   "outputs": [
    {
     "name": "stdout",
     "output_type": "stream",
     "text": [
      "todo - attribute last 7/30/90 days\n"
     ]
    }
   ],
   "source": [
    "print('todo - attribute last 7/30/90 days')"
   ]
  },
  {
   "cell_type": "code",
   "execution_count": null,
   "id": "160cd0db",
   "metadata": {},
   "outputs": [],
   "source": []
  },
  {
   "cell_type": "markdown",
   "id": "5916fa9a",
   "metadata": {},
   "source": [
    "##### has bought from this category"
   ]
  },
  {
   "cell_type": "code",
   "execution_count": 74,
   "id": "0350573b",
   "metadata": {},
   "outputs": [
    {
     "data": {
      "text/html": [
       "<div>\n",
       "<style scoped>\n",
       "    .dataframe tbody tr th:only-of-type {\n",
       "        vertical-align: middle;\n",
       "    }\n",
       "\n",
       "    .dataframe tbody tr th {\n",
       "        vertical-align: top;\n",
       "    }\n",
       "\n",
       "    .dataframe thead th {\n",
       "        text-align: right;\n",
       "    }\n",
       "</style>\n",
       "<table border=\"1\" class=\"dataframe\">\n",
       "  <thead>\n",
       "    <tr style=\"text-align: right;\">\n",
       "      <th></th>\n",
       "      <th>customer_id</th>\n",
       "      <th>product_group_name</th>\n",
       "      <th>has_bought_prod_group</th>\n",
       "    </tr>\n",
       "  </thead>\n",
       "  <tbody>\n",
       "    <tr>\n",
       "      <th>0</th>\n",
       "      <td>0090852ad6a446ccf02a7d57ec7385c360ab33a813b870...</td>\n",
       "      <td>Garment Upper body</td>\n",
       "      <td>1</td>\n",
       "    </tr>\n",
       "    <tr>\n",
       "      <th>1</th>\n",
       "      <td>02d85f158c762390dd85c03f661ba0da839dc77fdfcb74...</td>\n",
       "      <td>Garment Upper body</td>\n",
       "      <td>1</td>\n",
       "    </tr>\n",
       "    <tr>\n",
       "      <th>2</th>\n",
       "      <td>218f9e1dd7e16d5fb334f04e5ff0e00cfadf5a538a2073...</td>\n",
       "      <td>Garment Upper body</td>\n",
       "      <td>1</td>\n",
       "    </tr>\n",
       "    <tr>\n",
       "      <th>3</th>\n",
       "      <td>695cf42cd265a49672ed66412c7929a5770c1d3445efab...</td>\n",
       "      <td>Garment Upper body</td>\n",
       "      <td>1</td>\n",
       "    </tr>\n",
       "    <tr>\n",
       "      <th>4</th>\n",
       "      <td>6df54cad7fb153888242c3a4891b8adb0654c5696e9a95...</td>\n",
       "      <td>Garment Upper body</td>\n",
       "      <td>1</td>\n",
       "    </tr>\n",
       "    <tr>\n",
       "      <th>...</th>\n",
       "      <td>...</td>\n",
       "      <td>...</td>\n",
       "      <td>...</td>\n",
       "    </tr>\n",
       "    <tr>\n",
       "      <th>157779</th>\n",
       "      <td>a2d7c7d05b2db3ad9e5dc611746208272bb93b39f54434...</td>\n",
       "      <td>Underwear</td>\n",
       "      <td>1</td>\n",
       "    </tr>\n",
       "    <tr>\n",
       "      <th>157780</th>\n",
       "      <td>b02bd7f6859bde6124b6748638fc78789e0e092d282fe2...</td>\n",
       "      <td>Socks &amp; Tights</td>\n",
       "      <td>1</td>\n",
       "    </tr>\n",
       "    <tr>\n",
       "      <th>157782</th>\n",
       "      <td>d9dc75b5ba9fa1a3947fd743dadb3b404b9d38ff790525...</td>\n",
       "      <td>Garment Upper body</td>\n",
       "      <td>1</td>\n",
       "    </tr>\n",
       "    <tr>\n",
       "      <th>157783</th>\n",
       "      <td>eebf05b7cc90e72b62da284ded1234db8b4e3a2a06978c...</td>\n",
       "      <td>Garment Lower body</td>\n",
       "      <td>1</td>\n",
       "    </tr>\n",
       "    <tr>\n",
       "      <th>157784</th>\n",
       "      <td>f2a03ea23cc372df8c860fae410b3ff5257910f3989953...</td>\n",
       "      <td>Accessories</td>\n",
       "      <td>1</td>\n",
       "    </tr>\n",
       "  </tbody>\n",
       "</table>\n",
       "<p>89897 rows × 3 columns</p>\n",
       "</div>"
      ],
      "text/plain": [
       "                                              customer_id  product_group_name  \\\n",
       "0       0090852ad6a446ccf02a7d57ec7385c360ab33a813b870...  Garment Upper body   \n",
       "1       02d85f158c762390dd85c03f661ba0da839dc77fdfcb74...  Garment Upper body   \n",
       "2       218f9e1dd7e16d5fb334f04e5ff0e00cfadf5a538a2073...  Garment Upper body   \n",
       "3       695cf42cd265a49672ed66412c7929a5770c1d3445efab...  Garment Upper body   \n",
       "4       6df54cad7fb153888242c3a4891b8adb0654c5696e9a95...  Garment Upper body   \n",
       "...                                                   ...                 ...   \n",
       "157779  a2d7c7d05b2db3ad9e5dc611746208272bb93b39f54434...           Underwear   \n",
       "157780  b02bd7f6859bde6124b6748638fc78789e0e092d282fe2...      Socks & Tights   \n",
       "157782  d9dc75b5ba9fa1a3947fd743dadb3b404b9d38ff790525...  Garment Upper body   \n",
       "157783  eebf05b7cc90e72b62da284ded1234db8b4e3a2a06978c...  Garment Lower body   \n",
       "157784  f2a03ea23cc372df8c860fae410b3ff5257910f3989953...         Accessories   \n",
       "\n",
       "        has_bought_prod_group  \n",
       "0                           1  \n",
       "1                           1  \n",
       "2                           1  \n",
       "3                           1  \n",
       "4                           1  \n",
       "...                       ...  \n",
       "157779                      1  \n",
       "157780                      1  \n",
       "157782                      1  \n",
       "157783                      1  \n",
       "157784                      1  \n",
       "\n",
       "[89897 rows x 3 columns]"
      ]
     },
     "execution_count": 74,
     "metadata": {},
     "output_type": "execute_result"
    }
   ],
   "source": [
    "# has bought from this product_group_name\n",
    "(transactions\n",
    "    .merge(articles[['article_id', 'product_group_name']], on='article_id')[['customer_id', 'product_group_name']]\n",
    "    .drop_duplicates()\n",
    "    .assign(has_bought_prod_group=lambda x: 1)\n",
    ")"
   ]
  },
  {
   "cell_type": "code",
   "execution_count": null,
   "id": "f247d7f0",
   "metadata": {},
   "outputs": [],
   "source": []
  },
  {
   "cell_type": "markdown",
   "id": "3eb1a099",
   "metadata": {},
   "source": [
    "- count of user-item and user-item attributes in the last 7/30/all days"
   ]
  },
  {
   "cell_type": "markdown",
   "id": "731b75ef",
   "metadata": {},
   "source": [
    "- percentage of items with the same attributes as the candidate item among the customer’s past purchases"
   ]
  },
  {
   "cell_type": "code",
   "execution_count": null,
   "id": "3cdf6484",
   "metadata": {},
   "outputs": [],
   "source": []
  },
  {
   "cell_type": "code",
   "execution_count": null,
   "id": "a3da171f",
   "metadata": {},
   "outputs": [],
   "source": []
  },
  {
   "cell_type": "markdown",
   "id": "fe2cce2c",
   "metadata": {},
   "source": [
    "- age-product combination features: products popularity under each age group"
   ]
  },
  {
   "cell_type": "code",
   "execution_count": null,
   "id": "f87116a1",
   "metadata": {},
   "outputs": [],
   "source": []
  },
  {
   "cell_type": "code",
   "execution_count": null,
   "id": "3e683193",
   "metadata": {},
   "outputs": [],
   "source": []
  },
  {
   "cell_type": "code",
   "execution_count": null,
   "id": "e40e8da2",
   "metadata": {},
   "outputs": [],
   "source": []
  },
  {
   "cell_type": "code",
   "execution_count": null,
   "id": "19aaa77c",
   "metadata": {},
   "outputs": [],
   "source": []
  },
  {
   "cell_type": "markdown",
   "id": "f3be4faa",
   "metadata": {},
   "source": [
    "- difference/ratio -> difference between age and mean age of who purchased item; ratio of one user’s purchased item count and the item’s count\n",
    "- similarity -> CF score of item2item, cosine similarity of item2item (word2vec), cosine similarity of user2item (ProNE graph embedding)\n",
    "- scores used in retrieval strategies used as FEATURES for ranking model\n",
    "- USER basic features - num, price, sales_channel_id\n",
    "- PRODUCT basic features - statistics based on EACH ATTRIBUTE of the product including times, price, age, sales_channel_id, FN, Active, club_member_status, last_purchase_time, average_purchase_interval\n",
    "- USER-PRODUCT INTERACTION features - statistics based on each attributes\n",
    "- user-product REPURCHASE features - whether user will repurchase product and whether product will be repurchased\n",
    "- higher-order combinational features - for example, predict when the user will next purchase the product\n",
    "- itemCF - calculate the similarity of each item through itemCF, and then calculate the score whether user will buy the product\n",
    "- SIMILARITY BASED MEASURES - average similarity of items vs the items that customers bought\n",
    "- streaks - number of times a customer bought a product/category/section IN A ROW\n",
    "- DAY DIFF of user-item and user-item attributes last seen in the transactions\n",
    "- SIMILARITIES between user and item:\n",
    "- BPR factorization user2item similarity\n",
    "- word2vec item2item similarity\n",
    "- Jaccard similarity between the attributes of items purchased and the attributes of the target item\n",
    "- text/image similarity by the embeddings\n",
    "- TIME WEIGHTED POPULARITY 1/days-purchase date\n",
    "- features about RECALL STRATEGY:\n",
    "- whether this articles is recalled by strategy_name\n",
    "- the rank of this article under the strategy_name\n",
    "- cosine similarity between EACH PAIR of customer and article,\n",
    "- customer’s bought history aggregated features of this particular article\n",
    "- MEAN EMBEDDING for each customer’s based on CUSTOMER’s TRANSACTION HISTORY -> COSINE DISTANCE - how close the customer and the article are\n",
    "- last purchase date with the same attributes as the candidate item\n",
    "- purchase rate of the candidate item by customers of the same AGE\n",
    "- collaborative filtering features"
   ]
  }
 ],
 "metadata": {
  "kernelspec": {
   "display_name": "GetInDataMLFramework",
   "language": "python",
   "name": "python3"
  },
  "language_info": {
   "codemirror_mode": {
    "name": "ipython",
    "version": 3
   },
   "file_extension": ".py",
   "mimetype": "text/x-python",
   "name": "python",
   "nbconvert_exporter": "python",
   "pygments_lexer": "ipython3",
   "version": "3.8.12"
  }
 },
 "nbformat": 4,
 "nbformat_minor": 5
}
