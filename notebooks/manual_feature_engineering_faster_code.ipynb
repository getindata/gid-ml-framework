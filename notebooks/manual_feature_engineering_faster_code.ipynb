{
 "cells": [
  {
   "cell_type": "code",
   "execution_count": 1,
   "id": "9b6289f9",
   "metadata": {
    "scrolled": true
   },
   "outputs": [
    {
     "name": "stdout",
     "output_type": "stream",
     "text": [
      "The kedro.extras.extensions.ipython extension is already loaded. To reload it, use:\n",
      "  %reload_ext kedro.extras.extensions.ipython\n"
     ]
    }
   ],
   "source": [
    "%load_ext kedro.extras.extensions.ipython"
   ]
  },
  {
   "cell_type": "code",
   "execution_count": 2,
   "id": "c272c8b9",
   "metadata": {},
   "outputs": [
    {
     "name": "stdout",
     "output_type": "stream",
     "text": [
      "2022-08-16 14:15:52,557 - kedro.framework.hooks.manager - INFO - Registered hooks from 1 installed plugin(s): kedro-mlflow-0.8.1\n",
      "2022-08-16 14:15:52,604 - kedro.framework.session.store - INFO - `read()` not implemented for `BaseSessionStore`. Assuming empty store.\n",
      "2022-08-16 14:15:53,147 - root - INFO - ** Kedro project GetInData ML Framework\n",
      "2022-08-16 14:15:53,147 - root - INFO - Defined global variable `context`, `session`, `catalog` and `pipelines`\n",
      "2022-08-16 14:15:53,157 - root - INFO - Registered line magic `run_viz`\n",
      "2022-08-16 14:15:53,157 - root - INFO - Registered line magic `reload_kedro_mlflow`\n"
     ]
    }
   ],
   "source": [
    "%reload_kedro"
   ]
  },
  {
   "cell_type": "code",
   "execution_count": 3,
   "id": "b74d3fbd",
   "metadata": {},
   "outputs": [],
   "source": [
    "import pandas as pd\n",
    "import numpy as np"
   ]
  },
  {
   "cell_type": "code",
   "execution_count": 4,
   "id": "fc8169e0",
   "metadata": {},
   "outputs": [],
   "source": [
    "pd.set_option('display.float_format', lambda x: '%.4f' % x)"
   ]
  },
  {
   "cell_type": "code",
   "execution_count": 5,
   "id": "22fe7d97",
   "metadata": {},
   "outputs": [
    {
     "data": {
      "text/plain": [
       "['articles',\n",
       " 'customers',\n",
       " 'transactions',\n",
       " 'customers_sample',\n",
       " 'transactions_sample',\n",
       " 'articles_sample',\n",
       " 'input_images',\n",
       " 'resized_images',\n",
       " 'image_embeddings',\n",
       " 'text_embeddings',\n",
       " 'candidates_sample',\n",
       " 'automated_articles_features',\n",
       " 'automated_customers_features',\n",
       " 'manual_article_features',\n",
       " 'manual_customer_features',\n",
       " 'manual_customer_prod_group_features',\n",
       " 'jaccard_similarity_features',\n",
       " 'image_cosine_similarity_features',\n",
       " 'text_cosine_similarity_features',\n",
       " 'parameters',\n",
       " 'params:automated_feature_engineering',\n",
       " 'params:automated_feature_engineering.articles',\n",
       " 'params:automated_feature_engineering.articles.feature_selection',\n",
       " 'params:automated_feature_engineering.articles.feature_selection_params',\n",
       " 'params:automated_feature_engineering.articles.feature_selection_params.pct_null_threshold',\n",
       " 'params:automated_feature_engineering.articles.feature_selection_params.corr_threshold',\n",
       " 'params:automated_feature_engineering.customers',\n",
       " 'params:automated_feature_engineering.customers.feature_selection',\n",
       " 'params:automated_feature_engineering.customers.feature_selection_params',\n",
       " 'params:automated_feature_engineering.customers.feature_selection_params.pct_null_threshold',\n",
       " 'params:automated_feature_engineering.customers.feature_selection_params.corr_threshold',\n",
       " 'params:automated_feature_engineering.n_days',\n",
       " 'params:image_embeddings_inference',\n",
       " 'params:image_embeddings_inference.run_id',\n",
       " 'params:image_embeddings_inference.image_path',\n",
       " 'params:image_embeddings_inference.batch_size',\n",
       " 'params:candidates_feature_engineering',\n",
       " 'params:candidates_feature_engineering.last_n_rows',\n",
       " 'params:candidates_feature_engineering.jaccard',\n",
       " 'params:candidates_feature_engineering.jaccard.attribute_cols',\n",
       " 'params:candidates_feature_engineering.cosine',\n",
       " 'params:candidates_feature_engineering.cosine.image',\n",
       " 'params:candidates_feature_engineering.cosine.image.col_name',\n",
       " 'params:candidates_feature_engineering.cosine.text',\n",
       " 'params:candidates_feature_engineering.cosine.text.col_name',\n",
       " 'params:customers',\n",
       " 'params:transactions',\n",
       " 'params:articles',\n",
       " 'params:image_embeddings',\n",
       " 'params:image_embeddings.image_path',\n",
       " 'params:image_embeddings.encoder',\n",
       " 'params:image_embeddings.decoder',\n",
       " 'params:image_embeddings.batch_size',\n",
       " 'params:image_embeddings.image_size',\n",
       " 'params:image_embeddings.embedding_size',\n",
       " 'params:image_embeddings.num_epochs',\n",
       " 'params:image_embeddings.shuffle_reconstructions',\n",
       " 'params:image_embeddings.save_model',\n",
       " 'params:image_embeddings.model_name',\n",
       " 'params:image_embeddings.seed',\n",
       " 'params:image_resizer',\n",
       " 'params:image_resizer.output_size',\n",
       " 'params:image_resizer.method',\n",
       " 'params:manual_feature_engineering',\n",
       " 'params:manual_feature_engineering.articles',\n",
       " 'params:manual_feature_engineering.customers',\n",
       " 'params:manual_feature_engineering.customers.n_days',\n",
       " 'params:manual_feature_engineering.customers_prod_group',\n",
       " 'params:sampling',\n",
       " 'params:sampling.cutoff_date',\n",
       " 'params:sampling.customers_sample_size',\n",
       " 'params:sampling.articles_sample_size',\n",
       " 'params:sampling.article_img_dir',\n",
       " 'params:sampling.article_img_sample_dir',\n",
       " 'params:text_embeddings',\n",
       " 'params:text_embeddings.transformer_model']"
      ]
     },
     "execution_count": 5,
     "metadata": {},
     "output_type": "execute_result"
    }
   ],
   "source": [
    "catalog.list()"
   ]
  },
  {
   "cell_type": "code",
   "execution_count": 6,
   "id": "ea4bccf4",
   "metadata": {},
   "outputs": [
    {
     "name": "stdout",
     "output_type": "stream",
     "text": [
      "2022-08-16 14:15:54,076 - kedro.io.data_catalog - INFO - Loading data from `candidates_sample` (ParquetDataSet)...\n"
     ]
    }
   ],
   "source": [
    "candidates = context.catalog.load('candidates_sample')"
   ]
  },
  {
   "cell_type": "code",
   "execution_count": 7,
   "id": "5d33c72a",
   "metadata": {
    "scrolled": true
   },
   "outputs": [
    {
     "data": {
      "text/plain": [
       "(137198, 7)"
      ]
     },
     "execution_count": 7,
     "metadata": {},
     "output_type": "execute_result"
    }
   ],
   "source": [
    "candidates.shape"
   ]
  },
  {
   "cell_type": "code",
   "execution_count": 8,
   "id": "723268c9",
   "metadata": {},
   "outputs": [
    {
     "data": {
      "text/plain": [
       "customer_id                   0.0000\n",
       "global_articles               0.0000\n",
       "segment_articles              0.0000\n",
       "previously_bought             0.6418\n",
       "previously_bought_prod_name   0.6418\n",
       "closest_image_embeddings      0.6421\n",
       "closest_text_embeddings       0.6418\n",
       "dtype: float64"
      ]
     },
     "execution_count": 8,
     "metadata": {},
     "output_type": "execute_result"
    }
   ],
   "source": [
    "candidates.isna().sum()/candidates.shape[0]"
   ]
  },
  {
   "cell_type": "code",
   "execution_count": 9,
   "id": "659f081b",
   "metadata": {},
   "outputs": [],
   "source": [
    "candidates.set_index('customer_id', inplace=True)"
   ]
  },
  {
   "cell_type": "code",
   "execution_count": 10,
   "id": "2d8a7ef9",
   "metadata": {},
   "outputs": [],
   "source": [
    "dfs = list()"
   ]
  },
  {
   "cell_type": "code",
   "execution_count": 11,
   "id": "7e227a8a",
   "metadata": {},
   "outputs": [
    {
     "name": "stdout",
     "output_type": "stream",
     "text": [
      "global_articles\n",
      "(33339114, 2)\n",
      "segment_articles\n",
      "(34022483, 2)\n",
      "previously_bought\n",
      "(137416, 2)\n",
      "previously_bought_prod_name\n",
      "(297283, 2)\n",
      "closest_image_embeddings\n",
      "(451864, 2)\n",
      "closest_text_embeddings\n",
      "(478981, 2)\n",
      "CPU times: user 8.13 s, sys: 1.02 s, total: 9.14 s\n",
      "Wall time: 9.23 s\n"
     ]
    }
   ],
   "source": [
    "%%time\n",
    "for column in candidates.columns:\n",
    "    print(column)\n",
    "    df = candidates[[column]].explode(column).rename({column: 'article_id'}, axis=1).dropna()\n",
    "    df = df.assign(strategy_name=lambda x: column)\n",
    "    print(df.shape)\n",
    "    dfs.append(df)"
   ]
  },
  {
   "cell_type": "code",
   "execution_count": 12,
   "id": "616f4bf3",
   "metadata": {},
   "outputs": [
    {
     "data": {
      "text/html": [
       "<div>\n",
       "<style scoped>\n",
       "    .dataframe tbody tr th:only-of-type {\n",
       "        vertical-align: middle;\n",
       "    }\n",
       "\n",
       "    .dataframe tbody tr th {\n",
       "        vertical-align: top;\n",
       "    }\n",
       "\n",
       "    .dataframe thead th {\n",
       "        text-align: right;\n",
       "    }\n",
       "</style>\n",
       "<table border=\"1\" class=\"dataframe\">\n",
       "  <thead>\n",
       "    <tr style=\"text-align: right;\">\n",
       "      <th></th>\n",
       "      <th>article_id</th>\n",
       "      <th>strategy_name</th>\n",
       "    </tr>\n",
       "    <tr>\n",
       "      <th>customer_id</th>\n",
       "      <th></th>\n",
       "      <th></th>\n",
       "    </tr>\n",
       "  </thead>\n",
       "  <tbody>\n",
       "    <tr>\n",
       "      <th>64965f0125720360bbb29e1ace87acd0f483703d732d26e8ee4d35cf379fa14e</th>\n",
       "      <td>0905507002</td>\n",
       "      <td>closest_image_embeddings</td>\n",
       "    </tr>\n",
       "    <tr>\n",
       "      <th>64965f0125720360bbb29e1ace87acd0f483703d732d26e8ee4d35cf379fa14e</th>\n",
       "      <td>0701084002</td>\n",
       "      <td>closest_image_embeddings</td>\n",
       "    </tr>\n",
       "    <tr>\n",
       "      <th>64965f0125720360bbb29e1ace87acd0f483703d732d26e8ee4d35cf379fa14e</th>\n",
       "      <td>0713875002</td>\n",
       "      <td>closest_image_embeddings</td>\n",
       "    </tr>\n",
       "    <tr>\n",
       "      <th>64965f0125720360bbb29e1ace87acd0f483703d732d26e8ee4d35cf379fa14e</th>\n",
       "      <td>0757740006</td>\n",
       "      <td>closest_image_embeddings</td>\n",
       "    </tr>\n",
       "    <tr>\n",
       "      <th>64965f0125720360bbb29e1ace87acd0f483703d732d26e8ee4d35cf379fa14e</th>\n",
       "      <td>0788580001</td>\n",
       "      <td>closest_image_embeddings</td>\n",
       "    </tr>\n",
       "    <tr>\n",
       "      <th>...</th>\n",
       "      <td>...</td>\n",
       "      <td>...</td>\n",
       "    </tr>\n",
       "    <tr>\n",
       "      <th>a4092d95d91ec0ff90527962935550346d993a299353c6cf3d00d9fc7b9cc74b</th>\n",
       "      <td>0737948002</td>\n",
       "      <td>closest_image_embeddings</td>\n",
       "    </tr>\n",
       "    <tr>\n",
       "      <th>016a81548c36c010144819354910dc0763b9b10eeeeacf5145832c28c480c5e0</th>\n",
       "      <td>0650388001</td>\n",
       "      <td>closest_image_embeddings</td>\n",
       "    </tr>\n",
       "    <tr>\n",
       "      <th>016a81548c36c010144819354910dc0763b9b10eeeeacf5145832c28c480c5e0</th>\n",
       "      <td>0711138001</td>\n",
       "      <td>closest_image_embeddings</td>\n",
       "    </tr>\n",
       "    <tr>\n",
       "      <th>016a81548c36c010144819354910dc0763b9b10eeeeacf5145832c28c480c5e0</th>\n",
       "      <td>0485544020</td>\n",
       "      <td>closest_image_embeddings</td>\n",
       "    </tr>\n",
       "    <tr>\n",
       "      <th>016a81548c36c010144819354910dc0763b9b10eeeeacf5145832c28c480c5e0</th>\n",
       "      <td>0560209005</td>\n",
       "      <td>closest_image_embeddings</td>\n",
       "    </tr>\n",
       "  </tbody>\n",
       "</table>\n",
       "<p>451864 rows × 2 columns</p>\n",
       "</div>"
      ],
      "text/plain": [
       "                                                    article_id  \\\n",
       "customer_id                                                      \n",
       "64965f0125720360bbb29e1ace87acd0f483703d732d26e...  0905507002   \n",
       "64965f0125720360bbb29e1ace87acd0f483703d732d26e...  0701084002   \n",
       "64965f0125720360bbb29e1ace87acd0f483703d732d26e...  0713875002   \n",
       "64965f0125720360bbb29e1ace87acd0f483703d732d26e...  0757740006   \n",
       "64965f0125720360bbb29e1ace87acd0f483703d732d26e...  0788580001   \n",
       "...                                                        ...   \n",
       "a4092d95d91ec0ff90527962935550346d993a299353c6c...  0737948002   \n",
       "016a81548c36c010144819354910dc0763b9b10eeeeacf5...  0650388001   \n",
       "016a81548c36c010144819354910dc0763b9b10eeeeacf5...  0711138001   \n",
       "016a81548c36c010144819354910dc0763b9b10eeeeacf5...  0485544020   \n",
       "016a81548c36c010144819354910dc0763b9b10eeeeacf5...  0560209005   \n",
       "\n",
       "                                                               strategy_name  \n",
       "customer_id                                                                   \n",
       "64965f0125720360bbb29e1ace87acd0f483703d732d26e...  closest_image_embeddings  \n",
       "64965f0125720360bbb29e1ace87acd0f483703d732d26e...  closest_image_embeddings  \n",
       "64965f0125720360bbb29e1ace87acd0f483703d732d26e...  closest_image_embeddings  \n",
       "64965f0125720360bbb29e1ace87acd0f483703d732d26e...  closest_image_embeddings  \n",
       "64965f0125720360bbb29e1ace87acd0f483703d732d26e...  closest_image_embeddings  \n",
       "...                                                                      ...  \n",
       "a4092d95d91ec0ff90527962935550346d993a299353c6c...  closest_image_embeddings  \n",
       "016a81548c36c010144819354910dc0763b9b10eeeeacf5...  closest_image_embeddings  \n",
       "016a81548c36c010144819354910dc0763b9b10eeeeacf5...  closest_image_embeddings  \n",
       "016a81548c36c010144819354910dc0763b9b10eeeeacf5...  closest_image_embeddings  \n",
       "016a81548c36c010144819354910dc0763b9b10eeeeacf5...  closest_image_embeddings  \n",
       "\n",
       "[451864 rows x 2 columns]"
      ]
     },
     "execution_count": 12,
     "metadata": {},
     "output_type": "execute_result"
    }
   ],
   "source": [
    "dfs[4]"
   ]
  },
  {
   "cell_type": "code",
   "execution_count": 13,
   "id": "6ff0a98d",
   "metadata": {},
   "outputs": [],
   "source": [
    "candidates = pd.concat(dfs, axis=0).reset_index()"
   ]
  },
  {
   "cell_type": "code",
   "execution_count": 14,
   "id": "0ae5bfc8",
   "metadata": {},
   "outputs": [
    {
     "data": {
      "text/plain": [
       "(68727141, 3)"
      ]
     },
     "execution_count": 14,
     "metadata": {},
     "output_type": "execute_result"
    }
   ],
   "source": [
    "candidates.shape"
   ]
  },
  {
   "cell_type": "code",
   "execution_count": 15,
   "id": "d21b18de",
   "metadata": {},
   "outputs": [
    {
     "data": {
      "text/html": [
       "<div>\n",
       "<style scoped>\n",
       "    .dataframe tbody tr th:only-of-type {\n",
       "        vertical-align: middle;\n",
       "    }\n",
       "\n",
       "    .dataframe tbody tr th {\n",
       "        vertical-align: top;\n",
       "    }\n",
       "\n",
       "    .dataframe thead th {\n",
       "        text-align: right;\n",
       "    }\n",
       "</style>\n",
       "<table border=\"1\" class=\"dataframe\">\n",
       "  <thead>\n",
       "    <tr style=\"text-align: right;\">\n",
       "      <th></th>\n",
       "      <th>customer_id</th>\n",
       "      <th>article_id</th>\n",
       "      <th>strategy_name</th>\n",
       "    </tr>\n",
       "  </thead>\n",
       "  <tbody>\n",
       "    <tr>\n",
       "      <th>0</th>\n",
       "      <td>ff18c106287931d170618b59fd402ed0ecc292869aad5f...</td>\n",
       "      <td>0554479001</td>\n",
       "      <td>global_articles</td>\n",
       "    </tr>\n",
       "    <tr>\n",
       "      <th>1</th>\n",
       "      <td>ff18c106287931d170618b59fd402ed0ecc292869aad5f...</td>\n",
       "      <td>0904571001</td>\n",
       "      <td>global_articles</td>\n",
       "    </tr>\n",
       "    <tr>\n",
       "      <th>2</th>\n",
       "      <td>ff18c106287931d170618b59fd402ed0ecc292869aad5f...</td>\n",
       "      <td>0869331006</td>\n",
       "      <td>global_articles</td>\n",
       "    </tr>\n",
       "    <tr>\n",
       "      <th>3</th>\n",
       "      <td>ff18c106287931d170618b59fd402ed0ecc292869aad5f...</td>\n",
       "      <td>0792469001</td>\n",
       "      <td>global_articles</td>\n",
       "    </tr>\n",
       "    <tr>\n",
       "      <th>4</th>\n",
       "      <td>ff18c106287931d170618b59fd402ed0ecc292869aad5f...</td>\n",
       "      <td>0902528006</td>\n",
       "      <td>global_articles</td>\n",
       "    </tr>\n",
       "  </tbody>\n",
       "</table>\n",
       "</div>"
      ],
      "text/plain": [
       "                                         customer_id  article_id  \\\n",
       "0  ff18c106287931d170618b59fd402ed0ecc292869aad5f...  0554479001   \n",
       "1  ff18c106287931d170618b59fd402ed0ecc292869aad5f...  0904571001   \n",
       "2  ff18c106287931d170618b59fd402ed0ecc292869aad5f...  0869331006   \n",
       "3  ff18c106287931d170618b59fd402ed0ecc292869aad5f...  0792469001   \n",
       "4  ff18c106287931d170618b59fd402ed0ecc292869aad5f...  0902528006   \n",
       "\n",
       "     strategy_name  \n",
       "0  global_articles  \n",
       "1  global_articles  \n",
       "2  global_articles  \n",
       "3  global_articles  \n",
       "4  global_articles  "
      ]
     },
     "execution_count": 15,
     "metadata": {},
     "output_type": "execute_result"
    }
   ],
   "source": [
    "candidates.head()"
   ]
  },
  {
   "cell_type": "markdown",
   "id": "64e46026",
   "metadata": {},
   "source": [
    "#### other dataframes"
   ]
  },
  {
   "cell_type": "code",
   "execution_count": 16,
   "id": "0fef359d",
   "metadata": {
    "scrolled": true
   },
   "outputs": [
    {
     "name": "stdout",
     "output_type": "stream",
     "text": [
      "2022-08-16 14:16:15,310 - kedro.io.data_catalog - INFO - Loading data from `articles` (CSVDataSet)...\n"
     ]
    }
   ],
   "source": [
    "articles = context.catalog.load('articles')"
   ]
  },
  {
   "cell_type": "code",
   "execution_count": 17,
   "id": "bce63875",
   "metadata": {},
   "outputs": [
    {
     "name": "stdout",
     "output_type": "stream",
     "text": [
      "2022-08-16 14:16:15,639 - kedro.io.data_catalog - INFO - Loading data from `customers_sample` (CSVDataSet)...\n"
     ]
    }
   ],
   "source": [
    "customers = context.catalog.load('customers_sample')"
   ]
  },
  {
   "cell_type": "code",
   "execution_count": 18,
   "id": "c7e3cabe",
   "metadata": {
    "scrolled": true
   },
   "outputs": [
    {
     "name": "stdout",
     "output_type": "stream",
     "text": [
      "2022-08-16 14:16:15,854 - kedro.io.data_catalog - INFO - Loading data from `transactions_sample` (CSVDataSet)...\n"
     ]
    }
   ],
   "source": [
    "transactions = context.catalog.load('transactions_sample')"
   ]
  },
  {
   "cell_type": "code",
   "execution_count": 19,
   "id": "e8a5b736",
   "metadata": {},
   "outputs": [
    {
     "data": {
      "text/plain": [
       "((105542, 25), (137198, 7), (157785, 5))"
      ]
     },
     "execution_count": 19,
     "metadata": {},
     "output_type": "execute_result"
    }
   ],
   "source": [
    "articles.shape, customers.shape, transactions.shape"
   ]
  },
  {
   "cell_type": "code",
   "execution_count": null,
   "id": "72dcedfc",
   "metadata": {},
   "outputs": [],
   "source": []
  },
  {
   "cell_type": "markdown",
   "id": "f15e7ac6",
   "metadata": {},
   "source": [
    "### candidate features"
   ]
  },
  {
   "cell_type": "markdown",
   "id": "083e9973",
   "metadata": {},
   "source": [
    "##### jaccard similarity"
   ]
  },
  {
   "cell_type": "markdown",
   "id": "48a5508c",
   "metadata": {},
   "source": [
    "The actual comparison was actually simpler. I calculated average jaccard index of attributes. So when a customer had 3 items in the history:\n",
    "\n",
    "item_1 attributes A,B,C  \n",
    "item_2 attributes B,C,D  \n",
    "item_3 attributes A,B,D\n",
    "\n",
    "Then you consider a new item_4 with attributes A,B so the average jaccard is calculated like this\n",
    "\n",
    "item_1 attributes A,B,C = jaccard 0.66  \n",
    "item_2 attributes B,C,D = jaccard 0.33  \n",
    "item_3 attributes A,B,D = jaccard 0.66\n",
    "\n",
    "so the average similarity is 0.55\n",
    "\n",
    "I had a different version to calculate \"fuzzy\" attribute similarity based on their cooccurence in baskets so if the attribute=X cooccured with attribute=Y in 50% of the baskets its similarity is 50% not 0 or 1 like in the original."
   ]
  },
  {
   "cell_type": "code",
   "execution_count": 20,
   "id": "bb790097",
   "metadata": {},
   "outputs": [
    {
     "data": {
      "text/plain": [
       "Index(['article_id', 'product_code', 'prod_name', 'product_type_no',\n",
       "       'product_type_name', 'product_group_name', 'graphical_appearance_no',\n",
       "       'graphical_appearance_name', 'colour_group_code', 'colour_group_name',\n",
       "       'perceived_colour_value_id', 'perceived_colour_value_name',\n",
       "       'perceived_colour_master_id', 'perceived_colour_master_name',\n",
       "       'department_no', 'department_name', 'index_code', 'index_name',\n",
       "       'index_group_no', 'index_group_name', 'section_no', 'section_name',\n",
       "       'garment_group_no', 'garment_group_name', 'detail_desc'],\n",
       "      dtype='object')"
      ]
     },
     "execution_count": 20,
     "metadata": {},
     "output_type": "execute_result"
    }
   ],
   "source": [
    "articles.columns"
   ]
  },
  {
   "cell_type": "code",
   "execution_count": 21,
   "id": "90ba8b48",
   "metadata": {},
   "outputs": [],
   "source": [
    "cat_articles = articles[['product_type_name', 'product_group_name', 'graphical_appearance_name', 'colour_group_name', 'perceived_colour_value_name', 'perceived_colour_master_name', 'index_name', 'index_group_name', 'section_name', 'garment_group_name']]"
   ]
  },
  {
   "cell_type": "code",
   "execution_count": 22,
   "id": "0a76834c",
   "metadata": {},
   "outputs": [],
   "source": [
    "jaccard_articles = articles[['article_id']].copy()"
   ]
  },
  {
   "cell_type": "code",
   "execution_count": 23,
   "id": "1fd731d3",
   "metadata": {},
   "outputs": [],
   "source": [
    "jaccard_articles['set_of_attributes'] = cat_articles.apply(set, axis=1)"
   ]
  },
  {
   "cell_type": "code",
   "execution_count": 24,
   "id": "ffd0c1e9",
   "metadata": {},
   "outputs": [
    {
     "data": {
      "text/html": [
       "<div>\n",
       "<style scoped>\n",
       "    .dataframe tbody tr th:only-of-type {\n",
       "        vertical-align: middle;\n",
       "    }\n",
       "\n",
       "    .dataframe tbody tr th {\n",
       "        vertical-align: top;\n",
       "    }\n",
       "\n",
       "    .dataframe thead th {\n",
       "        text-align: right;\n",
       "    }\n",
       "</style>\n",
       "<table border=\"1\" class=\"dataframe\">\n",
       "  <thead>\n",
       "    <tr style=\"text-align: right;\">\n",
       "      <th></th>\n",
       "      <th>article_id</th>\n",
       "      <th>set_of_attributes</th>\n",
       "    </tr>\n",
       "  </thead>\n",
       "  <tbody>\n",
       "    <tr>\n",
       "      <th>0</th>\n",
       "      <td>0108775015</td>\n",
       "      <td>{Garment Upper body, Vest top, Black, Solid, W...</td>\n",
       "    </tr>\n",
       "    <tr>\n",
       "      <th>1</th>\n",
       "      <td>0108775044</td>\n",
       "      <td>{Garment Upper body, Vest top, Light, Solid, W...</td>\n",
       "    </tr>\n",
       "    <tr>\n",
       "      <th>2</th>\n",
       "      <td>0108775051</td>\n",
       "      <td>{Garment Upper body, Vest top, Dusty Light, Wo...</td>\n",
       "    </tr>\n",
       "    <tr>\n",
       "      <th>3</th>\n",
       "      <td>0110065001</td>\n",
       "      <td>{Bra, Black, Solid, Underwear, Lingeries/Tight...</td>\n",
       "    </tr>\n",
       "    <tr>\n",
       "      <th>4</th>\n",
       "      <td>0110065002</td>\n",
       "      <td>{Light, Bra, Solid, Underwear, White, Lingerie...</td>\n",
       "    </tr>\n",
       "    <tr>\n",
       "      <th>...</th>\n",
       "      <td>...</td>\n",
       "      <td>...</td>\n",
       "    </tr>\n",
       "    <tr>\n",
       "      <th>105537</th>\n",
       "      <td>0953450001</td>\n",
       "      <td>{Men Underwear, Socks &amp; Tights, Socks and Tigh...</td>\n",
       "    </tr>\n",
       "    <tr>\n",
       "      <th>105538</th>\n",
       "      <td>0953763001</td>\n",
       "      <td>{Garment Upper body, Vest top, H&amp;M+, Black, So...</td>\n",
       "    </tr>\n",
       "    <tr>\n",
       "      <th>105539</th>\n",
       "      <td>0956217002</td>\n",
       "      <td>{Garment Full body, Womens Trend, Black, Solid...</td>\n",
       "    </tr>\n",
       "    <tr>\n",
       "      <th>105540</th>\n",
       "      <td>0957375001</td>\n",
       "      <td>{Divided, Hair clip, Divided Accessories, Acce...</td>\n",
       "    </tr>\n",
       "    <tr>\n",
       "      <th>105541</th>\n",
       "      <td>0959461001</td>\n",
       "      <td>{Garment Full body, Womens Trend, Dusty Light,...</td>\n",
       "    </tr>\n",
       "  </tbody>\n",
       "</table>\n",
       "<p>105542 rows × 2 columns</p>\n",
       "</div>"
      ],
      "text/plain": [
       "        article_id                                  set_of_attributes\n",
       "0       0108775015  {Garment Upper body, Vest top, Black, Solid, W...\n",
       "1       0108775044  {Garment Upper body, Vest top, Light, Solid, W...\n",
       "2       0108775051  {Garment Upper body, Vest top, Dusty Light, Wo...\n",
       "3       0110065001  {Bra, Black, Solid, Underwear, Lingeries/Tight...\n",
       "4       0110065002  {Light, Bra, Solid, Underwear, White, Lingerie...\n",
       "...            ...                                                ...\n",
       "105537  0953450001  {Men Underwear, Socks & Tights, Socks and Tigh...\n",
       "105538  0953763001  {Garment Upper body, Vest top, H&M+, Black, So...\n",
       "105539  0956217002  {Garment Full body, Womens Trend, Black, Solid...\n",
       "105540  0957375001  {Divided, Hair clip, Divided Accessories, Acce...\n",
       "105541  0959461001  {Garment Full body, Womens Trend, Dusty Light,...\n",
       "\n",
       "[105542 rows x 2 columns]"
      ]
     },
     "execution_count": 24,
     "metadata": {},
     "output_type": "execute_result"
    }
   ],
   "source": [
    "jaccard_articles"
   ]
  },
  {
   "cell_type": "code",
   "execution_count": 25,
   "id": "10ea45bf",
   "metadata": {},
   "outputs": [],
   "source": [
    "jaccard_articles.set_index(['article_id'], inplace=True)"
   ]
  },
  {
   "cell_type": "code",
   "execution_count": 26,
   "id": "7d817154",
   "metadata": {},
   "outputs": [
    {
     "data": {
      "text/html": [
       "<div>\n",
       "<style scoped>\n",
       "    .dataframe tbody tr th:only-of-type {\n",
       "        vertical-align: middle;\n",
       "    }\n",
       "\n",
       "    .dataframe tbody tr th {\n",
       "        vertical-align: top;\n",
       "    }\n",
       "\n",
       "    .dataframe thead th {\n",
       "        text-align: right;\n",
       "    }\n",
       "</style>\n",
       "<table border=\"1\" class=\"dataframe\">\n",
       "  <thead>\n",
       "    <tr style=\"text-align: right;\">\n",
       "      <th></th>\n",
       "      <th>set_of_attributes</th>\n",
       "    </tr>\n",
       "    <tr>\n",
       "      <th>article_id</th>\n",
       "      <th></th>\n",
       "    </tr>\n",
       "  </thead>\n",
       "  <tbody>\n",
       "    <tr>\n",
       "      <th>0108775015</th>\n",
       "      <td>{Garment Upper body, Vest top, Black, Solid, W...</td>\n",
       "    </tr>\n",
       "    <tr>\n",
       "      <th>0108775044</th>\n",
       "      <td>{Garment Upper body, Vest top, Light, Solid, W...</td>\n",
       "    </tr>\n",
       "    <tr>\n",
       "      <th>0108775051</th>\n",
       "      <td>{Garment Upper body, Vest top, Dusty Light, Wo...</td>\n",
       "    </tr>\n",
       "    <tr>\n",
       "      <th>0110065001</th>\n",
       "      <td>{Bra, Black, Solid, Underwear, Lingeries/Tight...</td>\n",
       "    </tr>\n",
       "    <tr>\n",
       "      <th>0110065002</th>\n",
       "      <td>{Light, Bra, Solid, Underwear, White, Lingerie...</td>\n",
       "    </tr>\n",
       "    <tr>\n",
       "      <th>...</th>\n",
       "      <td>...</td>\n",
       "    </tr>\n",
       "    <tr>\n",
       "      <th>0953450001</th>\n",
       "      <td>{Men Underwear, Socks &amp; Tights, Socks and Tigh...</td>\n",
       "    </tr>\n",
       "    <tr>\n",
       "      <th>0953763001</th>\n",
       "      <td>{Garment Upper body, Vest top, H&amp;M+, Black, So...</td>\n",
       "    </tr>\n",
       "    <tr>\n",
       "      <th>0956217002</th>\n",
       "      <td>{Garment Full body, Womens Trend, Black, Solid...</td>\n",
       "    </tr>\n",
       "    <tr>\n",
       "      <th>0957375001</th>\n",
       "      <td>{Divided, Hair clip, Divided Accessories, Acce...</td>\n",
       "    </tr>\n",
       "    <tr>\n",
       "      <th>0959461001</th>\n",
       "      <td>{Garment Full body, Womens Trend, Dusty Light,...</td>\n",
       "    </tr>\n",
       "  </tbody>\n",
       "</table>\n",
       "<p>105542 rows × 1 columns</p>\n",
       "</div>"
      ],
      "text/plain": [
       "                                            set_of_attributes\n",
       "article_id                                                   \n",
       "0108775015  {Garment Upper body, Vest top, Black, Solid, W...\n",
       "0108775044  {Garment Upper body, Vest top, Light, Solid, W...\n",
       "0108775051  {Garment Upper body, Vest top, Dusty Light, Wo...\n",
       "0110065001  {Bra, Black, Solid, Underwear, Lingeries/Tight...\n",
       "0110065002  {Light, Bra, Solid, Underwear, White, Lingerie...\n",
       "...                                                       ...\n",
       "0953450001  {Men Underwear, Socks & Tights, Socks and Tigh...\n",
       "0953763001  {Garment Upper body, Vest top, H&M+, Black, So...\n",
       "0956217002  {Garment Full body, Womens Trend, Black, Solid...\n",
       "0957375001  {Divided, Hair clip, Divided Accessories, Acce...\n",
       "0959461001  {Garment Full body, Womens Trend, Dusty Light,...\n",
       "\n",
       "[105542 rows x 1 columns]"
      ]
     },
     "execution_count": 26,
     "metadata": {},
     "output_type": "execute_result"
    }
   ],
   "source": [
    "jaccard_articles"
   ]
  },
  {
   "cell_type": "markdown",
   "id": "aba16c77",
   "metadata": {},
   "source": [
    "### works"
   ]
  },
  {
   "cell_type": "code",
   "execution_count": 102,
   "id": "29ed54db",
   "metadata": {},
   "outputs": [],
   "source": [
    "def jaccard(x, y):\n",
    "    \"\"\" returns the jaccard similarity between two sets\"\"\"\n",
    "    intersection_cardinality = len(x.intersection(y))\n",
    "    union_cardinality = len(x.union(y))\n",
    "    return float(intersection_cardinality/union_cardinality)"
   ]
  },
  {
   "cell_type": "code",
   "execution_count": 111,
   "id": "0ae8e731",
   "metadata": {},
   "outputs": [],
   "source": [
    "df_cust_article = transactions[['customer_id', 'article_id']].drop_duplicates().groupby(['customer_id'])['article_id'].apply(list).reset_index().set_index('customer_id')"
   ]
  },
  {
   "cell_type": "code",
   "execution_count": 112,
   "id": "466723b2",
   "metadata": {},
   "outputs": [
    {
     "data": {
      "text/html": [
       "<div>\n",
       "<style scoped>\n",
       "    .dataframe tbody tr th:only-of-type {\n",
       "        vertical-align: middle;\n",
       "    }\n",
       "\n",
       "    .dataframe tbody tr th {\n",
       "        vertical-align: top;\n",
       "    }\n",
       "\n",
       "    .dataframe thead th {\n",
       "        text-align: right;\n",
       "    }\n",
       "</style>\n",
       "<table border=\"1\" class=\"dataframe\">\n",
       "  <thead>\n",
       "    <tr style=\"text-align: right;\">\n",
       "      <th></th>\n",
       "      <th>article_id</th>\n",
       "    </tr>\n",
       "    <tr>\n",
       "      <th>customer_id</th>\n",
       "      <th></th>\n",
       "    </tr>\n",
       "  </thead>\n",
       "  <tbody>\n",
       "    <tr>\n",
       "      <th>0000423b00ade91418cceaf3b26c6af3dd342b51fd051eec9c12fb36984420fa</th>\n",
       "      <td>[0351484002]</td>\n",
       "    </tr>\n",
       "    <tr>\n",
       "      <th>0000b2f1829e23b24feec422ef13df3ccedaedc85368e6664d04ca30b2f8daff</th>\n",
       "      <td>[0715411001, 0706016015]</td>\n",
       "    </tr>\n",
       "    <tr>\n",
       "      <th>000346516dd355b40badca0c0f5f37a318ddae31f0e0f76a3a0454eb591b6384</th>\n",
       "      <td>[0816588001, 0854193002, 0816423002]</td>\n",
       "    </tr>\n",
       "    <tr>\n",
       "      <th>000531ecd2754a0cf214373cc7b6dbcf7ce9a77c3284a2facbe072f763618bbc</th>\n",
       "      <td>[0688105016]</td>\n",
       "    </tr>\n",
       "    <tr>\n",
       "      <th>000989f72a2b8e5da2f4abafc86c2e213816fa2ff2a060ccf17ba290e00c5d85</th>\n",
       "      <td>[0488561003, 0570002002, 0716545008]</td>\n",
       "    </tr>\n",
       "  </tbody>\n",
       "</table>\n",
       "</div>"
      ],
      "text/plain": [
       "                                                                              article_id\n",
       "customer_id                                                                             \n",
       "0000423b00ade91418cceaf3b26c6af3dd342b51fd051ee...                          [0351484002]\n",
       "0000b2f1829e23b24feec422ef13df3ccedaedc85368e66...              [0715411001, 0706016015]\n",
       "000346516dd355b40badca0c0f5f37a318ddae31f0e0f76...  [0816588001, 0854193002, 0816423002]\n",
       "000531ecd2754a0cf214373cc7b6dbcf7ce9a77c3284a2f...                          [0688105016]\n",
       "000989f72a2b8e5da2f4abafc86c2e213816fa2ff2a060c...  [0488561003, 0570002002, 0716545008]"
      ]
     },
     "execution_count": 112,
     "metadata": {},
     "output_type": "execute_result"
    }
   ],
   "source": [
    "df_cust_article.head()"
   ]
  },
  {
   "cell_type": "code",
   "execution_count": 114,
   "id": "ce7f1953",
   "metadata": {},
   "outputs": [
    {
     "data": {
      "text/plain": [
       "['0816588001', '0854193002', '0816423002']"
      ]
     },
     "execution_count": 114,
     "metadata": {},
     "output_type": "execute_result"
    }
   ],
   "source": [
    "df_cust_article.loc['000346516dd355b40badca0c0f5f37a318ddae31f0e0f76a3a0454eb591b6384'][0]"
   ]
  },
  {
   "cell_type": "code",
   "execution_count": 126,
   "id": "a00e05fa",
   "metadata": {},
   "outputs": [],
   "source": [
    "def calculate_avg_jaccard_similarity(\n",
    "    candidates_df: pd.DataFrame,\n",
    "    articles_attributes: pd.DataFrame,\n",
    "    df_cust_article: pd.DataFrame):\n",
    "    \n",
    "    candidate_item, candidate_user = candidates_df.article_id, candidates_df.customer_id\n",
    "    candidate_item_attributes = articles_attributes.loc[candidate_item]['set_of_attributes']\n",
    "    try:\n",
    "        bought_items = df_cust_article.loc[candidate_user][0]\n",
    "    except KeyError:\n",
    "        return 0\n",
    "    jaccard_similarity_list = []\n",
    "    for item in bought_items:\n",
    "        item_attributes = articles_attributes.loc[item]['set_of_attributes']\n",
    "        jaccard_similarity = jaccard(candidate_item_attributes, item_attributes)\n",
    "        jaccard_similarity_list.append(jaccard_similarity)\n",
    "    return sum(jaccard_similarity_list)/len(jaccard_similarity_list)    "
   ]
  },
  {
   "cell_type": "code",
   "execution_count": 127,
   "id": "c29d725e",
   "metadata": {},
   "outputs": [
    {
     "data": {
      "text/html": [
       "<div>\n",
       "<style scoped>\n",
       "    .dataframe tbody tr th:only-of-type {\n",
       "        vertical-align: middle;\n",
       "    }\n",
       "\n",
       "    .dataframe tbody tr th {\n",
       "        vertical-align: top;\n",
       "    }\n",
       "\n",
       "    .dataframe thead th {\n",
       "        text-align: right;\n",
       "    }\n",
       "</style>\n",
       "<table border=\"1\" class=\"dataframe\">\n",
       "  <thead>\n",
       "    <tr style=\"text-align: right;\">\n",
       "      <th></th>\n",
       "      <th>customer_id</th>\n",
       "      <th>article_id</th>\n",
       "      <th>strategy_name</th>\n",
       "    </tr>\n",
       "  </thead>\n",
       "  <tbody>\n",
       "    <tr>\n",
       "      <th>0</th>\n",
       "      <td>ff18c106287931d170618b59fd402ed0ecc292869aad5f...</td>\n",
       "      <td>0554479001</td>\n",
       "      <td>global_articles</td>\n",
       "    </tr>\n",
       "    <tr>\n",
       "      <th>1</th>\n",
       "      <td>ff18c106287931d170618b59fd402ed0ecc292869aad5f...</td>\n",
       "      <td>0904571001</td>\n",
       "      <td>global_articles</td>\n",
       "    </tr>\n",
       "    <tr>\n",
       "      <th>2</th>\n",
       "      <td>ff18c106287931d170618b59fd402ed0ecc292869aad5f...</td>\n",
       "      <td>0869331006</td>\n",
       "      <td>global_articles</td>\n",
       "    </tr>\n",
       "    <tr>\n",
       "      <th>3</th>\n",
       "      <td>ff18c106287931d170618b59fd402ed0ecc292869aad5f...</td>\n",
       "      <td>0792469001</td>\n",
       "      <td>global_articles</td>\n",
       "    </tr>\n",
       "    <tr>\n",
       "      <th>4</th>\n",
       "      <td>ff18c106287931d170618b59fd402ed0ecc292869aad5f...</td>\n",
       "      <td>0902528006</td>\n",
       "      <td>global_articles</td>\n",
       "    </tr>\n",
       "  </tbody>\n",
       "</table>\n",
       "</div>"
      ],
      "text/plain": [
       "                                         customer_id  article_id  \\\n",
       "0  ff18c106287931d170618b59fd402ed0ecc292869aad5f...  0554479001   \n",
       "1  ff18c106287931d170618b59fd402ed0ecc292869aad5f...  0904571001   \n",
       "2  ff18c106287931d170618b59fd402ed0ecc292869aad5f...  0869331006   \n",
       "3  ff18c106287931d170618b59fd402ed0ecc292869aad5f...  0792469001   \n",
       "4  ff18c106287931d170618b59fd402ed0ecc292869aad5f...  0902528006   \n",
       "\n",
       "     strategy_name  \n",
       "0  global_articles  \n",
       "1  global_articles  \n",
       "2  global_articles  \n",
       "3  global_articles  \n",
       "4  global_articles  "
      ]
     },
     "execution_count": 127,
     "metadata": {},
     "output_type": "execute_result"
    }
   ],
   "source": [
    "candidates.head()"
   ]
  },
  {
   "cell_type": "code",
   "execution_count": 128,
   "id": "5f4d48eb",
   "metadata": {},
   "outputs": [],
   "source": [
    "sample_candidates = candidates.sample(100_000)"
   ]
  },
  {
   "cell_type": "code",
   "execution_count": 129,
   "id": "312db085",
   "metadata": {},
   "outputs": [
    {
     "data": {
      "text/plain": [
       "(100000, 3)"
      ]
     },
     "execution_count": 129,
     "metadata": {},
     "output_type": "execute_result"
    }
   ],
   "source": [
    "sample_candidates.shape"
   ]
  },
  {
   "cell_type": "markdown",
   "id": "cfacd5b0",
   "metadata": {},
   "source": [
    "### apply"
   ]
  },
  {
   "cell_type": "code",
   "execution_count": 134,
   "id": "2b37359b",
   "metadata": {},
   "outputs": [
    {
     "name": "stdout",
     "output_type": "stream",
     "text": [
      "CPU times: user 6.62 s, sys: 29.3 ms, total: 6.65 s\n",
      "Wall time: 6.65 s\n"
     ]
    },
    {
     "data": {
      "text/plain": [
       "38424402   0.0000\n",
       "41710740   0.0000\n",
       "6535910    0.0000\n",
       "41639791   0.0667\n",
       "42162267   0.0778\n",
       "            ...  \n",
       "51526204   0.0000\n",
       "64710650   0.0000\n",
       "63483160   0.0000\n",
       "50661274   0.0000\n",
       "32157985   0.0000\n",
       "Length: 100000, dtype: float64"
      ]
     },
     "execution_count": 134,
     "metadata": {},
     "output_type": "execute_result"
    }
   ],
   "source": [
    "%%time\n",
    "sample_candidates.apply(lambda x: calculate_avg_jaccard_similarity(x, jaccard_articles, df_cust_article), axis=1)"
   ]
  },
  {
   "cell_type": "code",
   "execution_count": 34,
   "id": "1af8a4cc",
   "metadata": {},
   "outputs": [
    {
     "data": {
      "text/plain": [
       "103.0907115"
      ]
     },
     "execution_count": 34,
     "metadata": {},
     "output_type": "execute_result"
    }
   ],
   "source": [
    "9*candidates.shape[0]/sample_candidates.shape[0]/60"
   ]
  },
  {
   "cell_type": "code",
   "execution_count": 133,
   "id": "6418e8ec",
   "metadata": {},
   "outputs": [
    {
     "data": {
      "text/plain": [
       "81.94233687405159"
      ]
     },
     "execution_count": 133,
     "metadata": {},
     "output_type": "execute_result"
    }
   ],
   "source": [
    "(9*60)/6.59"
   ]
  },
  {
   "cell_type": "markdown",
   "id": "530b68a5",
   "metadata": {},
   "source": [
    "after"
   ]
  },
  {
   "cell_type": "code",
   "execution_count": 137,
   "id": "24f7dc72",
   "metadata": {},
   "outputs": [
    {
     "data": {
      "text/plain": [
       "1.25808849775"
      ]
     },
     "execution_count": 137,
     "metadata": {},
     "output_type": "execute_result"
    }
   ],
   "source": [
    "6.59*candidates.shape[0]/sample_candidates.shape[0]/60/60"
   ]
  },
  {
   "cell_type": "markdown",
   "id": "07f8dd81",
   "metadata": {},
   "source": [
    "### itertuples"
   ]
  },
  {
   "cell_type": "code",
   "execution_count": 135,
   "id": "d55de1ef",
   "metadata": {},
   "outputs": [
    {
     "name": "stdout",
     "output_type": "stream",
     "text": [
      "CPU times: user 5.61 s, sys: 14.9 ms, total: 5.62 s\n",
      "Wall time: 5.62 s\n"
     ]
    },
    {
     "data": {
      "text/plain": [
       "0       0.0000\n",
       "1       0.0000\n",
       "2       0.0000\n",
       "3       0.0667\n",
       "4       0.0778\n",
       "         ...  \n",
       "99995   0.0000\n",
       "99996   0.0000\n",
       "99997   0.0000\n",
       "99998   0.0000\n",
       "99999   0.0000\n",
       "Length: 100000, dtype: float64"
      ]
     },
     "execution_count": 135,
     "metadata": {},
     "output_type": "execute_result"
    }
   ],
   "source": [
    "%%time\n",
    "pd.Series(\n",
    "    calculate_avg_jaccard_similarity(row, jaccard_articles, df_cust_article)\n",
    "    for row in sample_candidates.itertuples()\n",
    ")"
   ]
  },
  {
   "cell_type": "code",
   "execution_count": 34,
   "id": "e1354f46",
   "metadata": {},
   "outputs": [
    {
     "data": {
      "text/plain": [
       "103.0907115"
      ]
     },
     "execution_count": 34,
     "metadata": {},
     "output_type": "execute_result"
    }
   ],
   "source": [
    "9*candidates.shape[0]/sample_candidates.shape[0]/60"
   ]
  },
  {
   "cell_type": "code",
   "execution_count": null,
   "id": "4f5b87fa",
   "metadata": {},
   "outputs": [],
   "source": []
  },
  {
   "cell_type": "code",
   "execution_count": null,
   "id": "06c1d65d",
   "metadata": {},
   "outputs": [],
   "source": []
  },
  {
   "cell_type": "markdown",
   "id": "31813c1a",
   "metadata": {},
   "source": [
    "### maybe faster jaccard_similarity"
   ]
  },
  {
   "cell_type": "code",
   "execution_count": 27,
   "id": "6dbf7a0c",
   "metadata": {},
   "outputs": [],
   "source": [
    "def jaccard(x, y):\n",
    "    \"\"\" returns the jaccard similarity between two lists \"\"\"\n",
    "    intersection_cardinality = len(set.intersection(*[set(x), set(y)]))\n",
    "    union_cardinality = len(set.union(*[set(x), set(y)]))\n",
    "    return intersection_cardinality/float(union_cardinality)"
   ]
  },
  {
   "cell_type": "code",
   "execution_count": 85,
   "id": "390e7428",
   "metadata": {},
   "outputs": [],
   "source": [
    "def jaccard2(x, y):\n",
    "    \"\"\" returns the jaccard similarity between two lists \"\"\"\n",
    "    intersection_cardinality = len(x.intersection(y))\n",
    "    union_cardinality = len(x.union(y))\n",
    "    return intersection_cardinality/float(union_cardinality)"
   ]
  },
  {
   "cell_type": "code",
   "execution_count": 92,
   "id": "2b9cb8df",
   "metadata": {},
   "outputs": [],
   "source": [
    "def jaccard3(x, y):\n",
    "    \"\"\" returns the jaccard similarity between two lists \"\"\"\n",
    "    intersection_cardinality = len(x.intersection(y))\n",
    "    union_cardinality = len(x.union(y))\n",
    "    return float(intersection_cardinality/union_cardinality)"
   ]
  },
  {
   "cell_type": "code",
   "execution_count": 77,
   "id": "58efe8b8",
   "metadata": {},
   "outputs": [],
   "source": [
    "a = jaccard_articles.sample(1).set_of_attributes[0]"
   ]
  },
  {
   "cell_type": "code",
   "execution_count": 78,
   "id": "f01fd134",
   "metadata": {},
   "outputs": [],
   "source": [
    "b = jaccard_articles.sample(1).set_of_attributes[0]"
   ]
  },
  {
   "cell_type": "code",
   "execution_count": 90,
   "id": "b8b56a74",
   "metadata": {},
   "outputs": [
    {
     "name": "stdout",
     "output_type": "stream",
     "text": [
      "1.01 µs ± 20 ns per loop (mean ± std. dev. of 7 runs, 5000 loops each)\n"
     ]
    }
   ],
   "source": [
    "%timeit -n 5000 jaccard(a, b)"
   ]
  },
  {
   "cell_type": "code",
   "execution_count": 100,
   "id": "ec682c51",
   "metadata": {
    "scrolled": true
   },
   "outputs": [
    {
     "name": "stdout",
     "output_type": "stream",
     "text": [
      "457 ns ± 34.8 ns per loop (mean ± std. dev. of 7 runs, 5000 loops each)\n"
     ]
    }
   ],
   "source": [
    "%timeit -n 5000 jaccard2(a, b)"
   ]
  },
  {
   "cell_type": "code",
   "execution_count": 101,
   "id": "8a621309",
   "metadata": {},
   "outputs": [
    {
     "name": "stdout",
     "output_type": "stream",
     "text": [
      "443 ns ± 11.6 ns per loop (mean ± std. dev. of 7 runs, 5000 loops each)\n"
     ]
    }
   ],
   "source": [
    "%timeit -n 5000 jaccard3(a, b)"
   ]
  },
  {
   "cell_type": "code",
   "execution_count": null,
   "id": "7fd920b6",
   "metadata": {},
   "outputs": [],
   "source": []
  },
  {
   "cell_type": "code",
   "execution_count": null,
   "id": "495c7a7c",
   "metadata": {},
   "outputs": [],
   "source": []
  },
  {
   "cell_type": "code",
   "execution_count": null,
   "id": "8216d0f2",
   "metadata": {},
   "outputs": [],
   "source": []
  },
  {
   "cell_type": "code",
   "execution_count": null,
   "id": "bb6d36d1",
   "metadata": {},
   "outputs": [],
   "source": []
  },
  {
   "cell_type": "code",
   "execution_count": null,
   "id": "497f1466",
   "metadata": {},
   "outputs": [],
   "source": []
  },
  {
   "cell_type": "markdown",
   "id": "31ddd7c3",
   "metadata": {},
   "source": [
    "### image/text embeddings"
   ]
  },
  {
   "cell_type": "code",
   "execution_count": 20,
   "id": "5e69fa8b",
   "metadata": {},
   "outputs": [
    {
     "name": "stdout",
     "output_type": "stream",
     "text": [
      "2022-08-16 14:16:15,987 - kedro.io.data_catalog - INFO - Loading data from `image_embeddings` (ParquetDataSet)...\n"
     ]
    }
   ],
   "source": [
    "image_embeddings = context.catalog.load('image_embeddings')"
   ]
  },
  {
   "cell_type": "code",
   "execution_count": 21,
   "id": "1cfcd76f",
   "metadata": {},
   "outputs": [
    {
     "data": {
      "text/html": [
       "<div>\n",
       "<style scoped>\n",
       "    .dataframe tbody tr th:only-of-type {\n",
       "        vertical-align: middle;\n",
       "    }\n",
       "\n",
       "    .dataframe tbody tr th {\n",
       "        vertical-align: top;\n",
       "    }\n",
       "\n",
       "    .dataframe thead th {\n",
       "        text-align: right;\n",
       "    }\n",
       "</style>\n",
       "<table border=\"1\" class=\"dataframe\">\n",
       "  <thead>\n",
       "    <tr style=\"text-align: right;\">\n",
       "      <th></th>\n",
       "      <th>img_emb_1</th>\n",
       "      <th>img_emb_2</th>\n",
       "      <th>img_emb_3</th>\n",
       "      <th>img_emb_4</th>\n",
       "      <th>img_emb_5</th>\n",
       "      <th>img_emb_6</th>\n",
       "      <th>img_emb_7</th>\n",
       "      <th>img_emb_8</th>\n",
       "      <th>img_emb_9</th>\n",
       "      <th>img_emb_10</th>\n",
       "      <th>...</th>\n",
       "      <th>img_emb_23</th>\n",
       "      <th>img_emb_24</th>\n",
       "      <th>img_emb_25</th>\n",
       "      <th>img_emb_26</th>\n",
       "      <th>img_emb_27</th>\n",
       "      <th>img_emb_28</th>\n",
       "      <th>img_emb_29</th>\n",
       "      <th>img_emb_30</th>\n",
       "      <th>img_emb_31</th>\n",
       "      <th>img_emb_32</th>\n",
       "    </tr>\n",
       "  </thead>\n",
       "  <tbody>\n",
       "    <tr>\n",
       "      <th>0520567001</th>\n",
       "      <td>1.1136</td>\n",
       "      <td>1.6530</td>\n",
       "      <td>-2.1507</td>\n",
       "      <td>2.0899</td>\n",
       "      <td>1.1859</td>\n",
       "      <td>2.2600</td>\n",
       "      <td>0.3472</td>\n",
       "      <td>2.0131</td>\n",
       "      <td>-4.7345</td>\n",
       "      <td>2.4018</td>\n",
       "      <td>...</td>\n",
       "      <td>2.0007</td>\n",
       "      <td>-0.2031</td>\n",
       "      <td>-2.8428</td>\n",
       "      <td>0.4911</td>\n",
       "      <td>-0.0419</td>\n",
       "      <td>2.5446</td>\n",
       "      <td>0.1087</td>\n",
       "      <td>1.5822</td>\n",
       "      <td>4.2004</td>\n",
       "      <td>-2.0204</td>\n",
       "    </tr>\n",
       "    <tr>\n",
       "      <th>0878510001</th>\n",
       "      <td>1.4409</td>\n",
       "      <td>1.3867</td>\n",
       "      <td>-2.2826</td>\n",
       "      <td>2.1407</td>\n",
       "      <td>0.8620</td>\n",
       "      <td>2.1601</td>\n",
       "      <td>0.0811</td>\n",
       "      <td>1.7678</td>\n",
       "      <td>-4.8009</td>\n",
       "      <td>1.9922</td>\n",
       "      <td>...</td>\n",
       "      <td>1.6910</td>\n",
       "      <td>-0.1554</td>\n",
       "      <td>-3.0912</td>\n",
       "      <td>0.5878</td>\n",
       "      <td>-0.4512</td>\n",
       "      <td>2.7649</td>\n",
       "      <td>0.4721</td>\n",
       "      <td>1.5510</td>\n",
       "      <td>4.1647</td>\n",
       "      <td>-2.0769</td>\n",
       "    </tr>\n",
       "    <tr>\n",
       "      <th>0573864007</th>\n",
       "      <td>-0.7568</td>\n",
       "      <td>1.5158</td>\n",
       "      <td>-0.5756</td>\n",
       "      <td>0.6109</td>\n",
       "      <td>1.7299</td>\n",
       "      <td>1.2196</td>\n",
       "      <td>1.0663</td>\n",
       "      <td>1.6654</td>\n",
       "      <td>-1.9784</td>\n",
       "      <td>2.5785</td>\n",
       "      <td>...</td>\n",
       "      <td>1.9107</td>\n",
       "      <td>-0.5298</td>\n",
       "      <td>-0.3629</td>\n",
       "      <td>-0.1672</td>\n",
       "      <td>1.4940</td>\n",
       "      <td>0.2434</td>\n",
       "      <td>-1.1655</td>\n",
       "      <td>1.0513</td>\n",
       "      <td>2.0177</td>\n",
       "      <td>-0.7936</td>\n",
       "    </tr>\n",
       "    <tr>\n",
       "      <th>0832893002</th>\n",
       "      <td>1.1667</td>\n",
       "      <td>1.3586</td>\n",
       "      <td>-2.2046</td>\n",
       "      <td>1.9648</td>\n",
       "      <td>1.0202</td>\n",
       "      <td>2.0245</td>\n",
       "      <td>0.1760</td>\n",
       "      <td>1.7535</td>\n",
       "      <td>-4.6813</td>\n",
       "      <td>2.1408</td>\n",
       "      <td>...</td>\n",
       "      <td>1.7510</td>\n",
       "      <td>-0.3855</td>\n",
       "      <td>-2.8435</td>\n",
       "      <td>0.4786</td>\n",
       "      <td>-0.1807</td>\n",
       "      <td>2.4874</td>\n",
       "      <td>0.3440</td>\n",
       "      <td>1.6696</td>\n",
       "      <td>4.0890</td>\n",
       "      <td>-2.0683</td>\n",
       "    </tr>\n",
       "    <tr>\n",
       "      <th>0654410024</th>\n",
       "      <td>0.9548</td>\n",
       "      <td>1.6560</td>\n",
       "      <td>-1.9917</td>\n",
       "      <td>1.9652</td>\n",
       "      <td>1.2261</td>\n",
       "      <td>2.1809</td>\n",
       "      <td>0.4167</td>\n",
       "      <td>1.9897</td>\n",
       "      <td>-4.4603</td>\n",
       "      <td>2.4084</td>\n",
       "      <td>...</td>\n",
       "      <td>1.9925</td>\n",
       "      <td>-0.1926</td>\n",
       "      <td>-2.6166</td>\n",
       "      <td>0.4386</td>\n",
       "      <td>0.0854</td>\n",
       "      <td>2.3450</td>\n",
       "      <td>-0.0179</td>\n",
       "      <td>1.5020</td>\n",
       "      <td>3.9832</td>\n",
       "      <td>-1.8879</td>\n",
       "    </tr>\n",
       "    <tr>\n",
       "      <th>...</th>\n",
       "      <td>...</td>\n",
       "      <td>...</td>\n",
       "      <td>...</td>\n",
       "      <td>...</td>\n",
       "      <td>...</td>\n",
       "      <td>...</td>\n",
       "      <td>...</td>\n",
       "      <td>...</td>\n",
       "      <td>...</td>\n",
       "      <td>...</td>\n",
       "      <td>...</td>\n",
       "      <td>...</td>\n",
       "      <td>...</td>\n",
       "      <td>...</td>\n",
       "      <td>...</td>\n",
       "      <td>...</td>\n",
       "      <td>...</td>\n",
       "      <td>...</td>\n",
       "      <td>...</td>\n",
       "      <td>...</td>\n",
       "      <td>...</td>\n",
       "    </tr>\n",
       "    <tr>\n",
       "      <th>0633529002</th>\n",
       "      <td>1.3275</td>\n",
       "      <td>1.4195</td>\n",
       "      <td>-2.1956</td>\n",
       "      <td>2.0770</td>\n",
       "      <td>0.9209</td>\n",
       "      <td>2.1351</td>\n",
       "      <td>0.1450</td>\n",
       "      <td>1.7867</td>\n",
       "      <td>-4.6704</td>\n",
       "      <td>2.0465</td>\n",
       "      <td>...</td>\n",
       "      <td>1.7254</td>\n",
       "      <td>-0.1601</td>\n",
       "      <td>-2.9580</td>\n",
       "      <td>0.5514</td>\n",
       "      <td>-0.3419</td>\n",
       "      <td>2.6463</td>\n",
       "      <td>0.3709</td>\n",
       "      <td>1.5213</td>\n",
       "      <td>4.0722</td>\n",
       "      <td>-2.0117</td>\n",
       "    </tr>\n",
       "    <tr>\n",
       "      <th>0822895002</th>\n",
       "      <td>0.4658</td>\n",
       "      <td>1.8164</td>\n",
       "      <td>-1.5941</td>\n",
       "      <td>1.6946</td>\n",
       "      <td>1.4782</td>\n",
       "      <td>2.0865</td>\n",
       "      <td>0.7031</td>\n",
       "      <td>2.0820</td>\n",
       "      <td>-3.8644</td>\n",
       "      <td>2.6402</td>\n",
       "      <td>...</td>\n",
       "      <td>2.1455</td>\n",
       "      <td>-0.1754</td>\n",
       "      <td>-2.0297</td>\n",
       "      <td>0.2855</td>\n",
       "      <td>0.5559</td>\n",
       "      <td>1.8323</td>\n",
       "      <td>-0.4750</td>\n",
       "      <td>1.3414</td>\n",
       "      <td>3.5597</td>\n",
       "      <td>-1.5813</td>\n",
       "    </tr>\n",
       "    <tr>\n",
       "      <th>0759602003</th>\n",
       "      <td>0.2192</td>\n",
       "      <td>1.4499</td>\n",
       "      <td>-1.8595</td>\n",
       "      <td>1.4416</td>\n",
       "      <td>1.6240</td>\n",
       "      <td>1.7125</td>\n",
       "      <td>0.6022</td>\n",
       "      <td>1.8542</td>\n",
       "      <td>-4.2194</td>\n",
       "      <td>2.7570</td>\n",
       "      <td>...</td>\n",
       "      <td>2.0814</td>\n",
       "      <td>-0.9784</td>\n",
       "      <td>-1.9779</td>\n",
       "      <td>0.1264</td>\n",
       "      <td>0.7923</td>\n",
       "      <td>1.5771</td>\n",
       "      <td>-0.2489</td>\n",
       "      <td>1.9445</td>\n",
       "      <td>3.8230</td>\n",
       "      <td>-1.9520</td>\n",
       "    </tr>\n",
       "    <tr>\n",
       "      <th>0808866004</th>\n",
       "      <td>1.3212</td>\n",
       "      <td>1.3889</td>\n",
       "      <td>-2.2574</td>\n",
       "      <td>2.0748</td>\n",
       "      <td>0.9433</td>\n",
       "      <td>2.1152</td>\n",
       "      <td>0.1294</td>\n",
       "      <td>1.7773</td>\n",
       "      <td>-4.7725</td>\n",
       "      <td>2.0773</td>\n",
       "      <td>...</td>\n",
       "      <td>1.7342</td>\n",
       "      <td>-0.2571</td>\n",
       "      <td>-2.9936</td>\n",
       "      <td>0.5410</td>\n",
       "      <td>-0.3257</td>\n",
       "      <td>2.6536</td>\n",
       "      <td>0.4098</td>\n",
       "      <td>1.6110</td>\n",
       "      <td>4.1551</td>\n",
       "      <td>-2.0828</td>\n",
       "    </tr>\n",
       "    <tr>\n",
       "      <th>0634775004</th>\n",
       "      <td>0.3640</td>\n",
       "      <td>1.3234</td>\n",
       "      <td>-1.8909</td>\n",
       "      <td>1.4511</td>\n",
       "      <td>1.4617</td>\n",
       "      <td>1.6562</td>\n",
       "      <td>0.4813</td>\n",
       "      <td>1.7300</td>\n",
       "      <td>-4.1936</td>\n",
       "      <td>2.5452</td>\n",
       "      <td>...</td>\n",
       "      <td>1.9228</td>\n",
       "      <td>-0.9314</td>\n",
       "      <td>-2.0648</td>\n",
       "      <td>0.1704</td>\n",
       "      <td>0.6000</td>\n",
       "      <td>1.6597</td>\n",
       "      <td>-0.0919</td>\n",
       "      <td>1.8983</td>\n",
       "      <td>3.7579</td>\n",
       "      <td>-1.9470</td>\n",
       "    </tr>\n",
       "  </tbody>\n",
       "</table>\n",
       "<p>105100 rows × 32 columns</p>\n",
       "</div>"
      ],
      "text/plain": [
       "            img_emb_1  img_emb_2  img_emb_3  img_emb_4  img_emb_5  img_emb_6  \\\n",
       "0520567001     1.1136     1.6530    -2.1507     2.0899     1.1859     2.2600   \n",
       "0878510001     1.4409     1.3867    -2.2826     2.1407     0.8620     2.1601   \n",
       "0573864007    -0.7568     1.5158    -0.5756     0.6109     1.7299     1.2196   \n",
       "0832893002     1.1667     1.3586    -2.2046     1.9648     1.0202     2.0245   \n",
       "0654410024     0.9548     1.6560    -1.9917     1.9652     1.2261     2.1809   \n",
       "...               ...        ...        ...        ...        ...        ...   \n",
       "0633529002     1.3275     1.4195    -2.1956     2.0770     0.9209     2.1351   \n",
       "0822895002     0.4658     1.8164    -1.5941     1.6946     1.4782     2.0865   \n",
       "0759602003     0.2192     1.4499    -1.8595     1.4416     1.6240     1.7125   \n",
       "0808866004     1.3212     1.3889    -2.2574     2.0748     0.9433     2.1152   \n",
       "0634775004     0.3640     1.3234    -1.8909     1.4511     1.4617     1.6562   \n",
       "\n",
       "            img_emb_7  img_emb_8  img_emb_9  img_emb_10  ...  img_emb_23  \\\n",
       "0520567001     0.3472     2.0131    -4.7345      2.4018  ...      2.0007   \n",
       "0878510001     0.0811     1.7678    -4.8009      1.9922  ...      1.6910   \n",
       "0573864007     1.0663     1.6654    -1.9784      2.5785  ...      1.9107   \n",
       "0832893002     0.1760     1.7535    -4.6813      2.1408  ...      1.7510   \n",
       "0654410024     0.4167     1.9897    -4.4603      2.4084  ...      1.9925   \n",
       "...               ...        ...        ...         ...  ...         ...   \n",
       "0633529002     0.1450     1.7867    -4.6704      2.0465  ...      1.7254   \n",
       "0822895002     0.7031     2.0820    -3.8644      2.6402  ...      2.1455   \n",
       "0759602003     0.6022     1.8542    -4.2194      2.7570  ...      2.0814   \n",
       "0808866004     0.1294     1.7773    -4.7725      2.0773  ...      1.7342   \n",
       "0634775004     0.4813     1.7300    -4.1936      2.5452  ...      1.9228   \n",
       "\n",
       "            img_emb_24  img_emb_25  img_emb_26  img_emb_27  img_emb_28  \\\n",
       "0520567001     -0.2031     -2.8428      0.4911     -0.0419      2.5446   \n",
       "0878510001     -0.1554     -3.0912      0.5878     -0.4512      2.7649   \n",
       "0573864007     -0.5298     -0.3629     -0.1672      1.4940      0.2434   \n",
       "0832893002     -0.3855     -2.8435      0.4786     -0.1807      2.4874   \n",
       "0654410024     -0.1926     -2.6166      0.4386      0.0854      2.3450   \n",
       "...                ...         ...         ...         ...         ...   \n",
       "0633529002     -0.1601     -2.9580      0.5514     -0.3419      2.6463   \n",
       "0822895002     -0.1754     -2.0297      0.2855      0.5559      1.8323   \n",
       "0759602003     -0.9784     -1.9779      0.1264      0.7923      1.5771   \n",
       "0808866004     -0.2571     -2.9936      0.5410     -0.3257      2.6536   \n",
       "0634775004     -0.9314     -2.0648      0.1704      0.6000      1.6597   \n",
       "\n",
       "            img_emb_29  img_emb_30  img_emb_31  img_emb_32  \n",
       "0520567001      0.1087      1.5822      4.2004     -2.0204  \n",
       "0878510001      0.4721      1.5510      4.1647     -2.0769  \n",
       "0573864007     -1.1655      1.0513      2.0177     -0.7936  \n",
       "0832893002      0.3440      1.6696      4.0890     -2.0683  \n",
       "0654410024     -0.0179      1.5020      3.9832     -1.8879  \n",
       "...                ...         ...         ...         ...  \n",
       "0633529002      0.3709      1.5213      4.0722     -2.0117  \n",
       "0822895002     -0.4750      1.3414      3.5597     -1.5813  \n",
       "0759602003     -0.2489      1.9445      3.8230     -1.9520  \n",
       "0808866004      0.4098      1.6110      4.1551     -2.0828  \n",
       "0634775004     -0.0919      1.8983      3.7579     -1.9470  \n",
       "\n",
       "[105100 rows x 32 columns]"
      ]
     },
     "execution_count": 21,
     "metadata": {},
     "output_type": "execute_result"
    }
   ],
   "source": [
    "image_embeddings"
   ]
  },
  {
   "cell_type": "code",
   "execution_count": 23,
   "id": "c8fe73f4",
   "metadata": {},
   "outputs": [],
   "source": [
    "df_cust_article = transactions[['customer_id', 'article_id']].drop_duplicates().groupby(['customer_id'])['article_id'].apply(list).reset_index().set_index('customer_id')"
   ]
  },
  {
   "cell_type": "code",
   "execution_count": 24,
   "id": "2c27c9e5",
   "metadata": {},
   "outputs": [
    {
     "data": {
      "text/html": [
       "<div>\n",
       "<style scoped>\n",
       "    .dataframe tbody tr th:only-of-type {\n",
       "        vertical-align: middle;\n",
       "    }\n",
       "\n",
       "    .dataframe tbody tr th {\n",
       "        vertical-align: top;\n",
       "    }\n",
       "\n",
       "    .dataframe thead th {\n",
       "        text-align: right;\n",
       "    }\n",
       "</style>\n",
       "<table border=\"1\" class=\"dataframe\">\n",
       "  <thead>\n",
       "    <tr style=\"text-align: right;\">\n",
       "      <th></th>\n",
       "      <th>article_id</th>\n",
       "    </tr>\n",
       "    <tr>\n",
       "      <th>customer_id</th>\n",
       "      <th></th>\n",
       "    </tr>\n",
       "  </thead>\n",
       "  <tbody>\n",
       "    <tr>\n",
       "      <th>0000423b00ade91418cceaf3b26c6af3dd342b51fd051eec9c12fb36984420fa</th>\n",
       "      <td>[0351484002]</td>\n",
       "    </tr>\n",
       "    <tr>\n",
       "      <th>0000b2f1829e23b24feec422ef13df3ccedaedc85368e6664d04ca30b2f8daff</th>\n",
       "      <td>[0715411001, 0706016015]</td>\n",
       "    </tr>\n",
       "    <tr>\n",
       "      <th>000346516dd355b40badca0c0f5f37a318ddae31f0e0f76a3a0454eb591b6384</th>\n",
       "      <td>[0816588001, 0854193002, 0816423002]</td>\n",
       "    </tr>\n",
       "    <tr>\n",
       "      <th>000531ecd2754a0cf214373cc7b6dbcf7ce9a77c3284a2facbe072f763618bbc</th>\n",
       "      <td>[0688105016]</td>\n",
       "    </tr>\n",
       "    <tr>\n",
       "      <th>000989f72a2b8e5da2f4abafc86c2e213816fa2ff2a060ccf17ba290e00c5d85</th>\n",
       "      <td>[0488561003, 0570002002, 0716545008]</td>\n",
       "    </tr>\n",
       "  </tbody>\n",
       "</table>\n",
       "</div>"
      ],
      "text/plain": [
       "                                                                              article_id\n",
       "customer_id                                                                             \n",
       "0000423b00ade91418cceaf3b26c6af3dd342b51fd051ee...                          [0351484002]\n",
       "0000b2f1829e23b24feec422ef13df3ccedaedc85368e66...              [0715411001, 0706016015]\n",
       "000346516dd355b40badca0c0f5f37a318ddae31f0e0f76...  [0816588001, 0854193002, 0816423002]\n",
       "000531ecd2754a0cf214373cc7b6dbcf7ce9a77c3284a2f...                          [0688105016]\n",
       "000989f72a2b8e5da2f4abafc86c2e213816fa2ff2a060c...  [0488561003, 0570002002, 0716545008]"
      ]
     },
     "execution_count": 24,
     "metadata": {},
     "output_type": "execute_result"
    }
   ],
   "source": [
    "df_cust_article.head()"
   ]
  },
  {
   "cell_type": "code",
   "execution_count": 25,
   "id": "d971dce7",
   "metadata": {},
   "outputs": [],
   "source": [
    "def calculate_customer_embedding(df: pd.DataFrame, embeddings: pd.DataFrame):\n",
    "    list_of_articles = df.article_id[0]\n",
    "    mean_embeddings = list(embeddings[embeddings.index.isin(list_of_articles)].mean(axis=0))\n",
    "    return mean_embeddings"
   ]
  },
  {
   "cell_type": "code",
   "execution_count": 26,
   "id": "45d6e6dc",
   "metadata": {},
   "outputs": [
    {
     "name": "stdout",
     "output_type": "stream",
     "text": [
      "CPU times: user 2min 4s, sys: 312 ms, total: 2min 4s\n",
      "Wall time: 2min 4s\n"
     ]
    },
    {
     "data": {
      "text/html": [
       "<div>\n",
       "<style scoped>\n",
       "    .dataframe tbody tr th:only-of-type {\n",
       "        vertical-align: middle;\n",
       "    }\n",
       "\n",
       "    .dataframe tbody tr th {\n",
       "        vertical-align: top;\n",
       "    }\n",
       "\n",
       "    .dataframe thead th {\n",
       "        text-align: right;\n",
       "    }\n",
       "</style>\n",
       "<table border=\"1\" class=\"dataframe\">\n",
       "  <thead>\n",
       "    <tr style=\"text-align: right;\">\n",
       "      <th></th>\n",
       "      <th>customer_id</th>\n",
       "      <th>embeddings</th>\n",
       "    </tr>\n",
       "  </thead>\n",
       "  <tbody>\n",
       "    <tr>\n",
       "      <th>0</th>\n",
       "      <td>0000423b00ade91418cceaf3b26c6af3dd342b51fd051e...</td>\n",
       "      <td>[0.29205620288848877, 1.5997645854949951, -1.8...</td>\n",
       "    </tr>\n",
       "    <tr>\n",
       "      <th>1</th>\n",
       "      <td>0000b2f1829e23b24feec422ef13df3ccedaedc85368e6...</td>\n",
       "      <td>[-0.3882942795753479, 2.040398120880127, -1.24...</td>\n",
       "    </tr>\n",
       "    <tr>\n",
       "      <th>2</th>\n",
       "      <td>000346516dd355b40badca0c0f5f37a318ddae31f0e0f7...</td>\n",
       "      <td>[0.35325416922569275, 1.3315706253051758, -1.9...</td>\n",
       "    </tr>\n",
       "    <tr>\n",
       "      <th>3</th>\n",
       "      <td>000531ecd2754a0cf214373cc7b6dbcf7ce9a77c3284a2...</td>\n",
       "      <td>[0.435394287109375, 1.4381957054138184, -1.931...</td>\n",
       "    </tr>\n",
       "    <tr>\n",
       "      <th>4</th>\n",
       "      <td>000989f72a2b8e5da2f4abafc86c2e213816fa2ff2a060...</td>\n",
       "      <td>[0.7979548573493958, 1.5542672872543335, -1.89...</td>\n",
       "    </tr>\n",
       "    <tr>\n",
       "      <th>...</th>\n",
       "      <td>...</td>\n",
       "      <td>...</td>\n",
       "    </tr>\n",
       "    <tr>\n",
       "      <th>49140</th>\n",
       "      <td>fff4d3a8b1f3b60af93e78c30a7cb4cf75edaf2590d3e5...</td>\n",
       "      <td>[0.7364576458930969, 1.5763212442398071, -1.94...</td>\n",
       "    </tr>\n",
       "    <tr>\n",
       "      <th>49141</th>\n",
       "      <td>fff69e3ab1bd701315881c7706c38d5cbcda1f4e0cf213...</td>\n",
       "      <td>[-0.35780400037765503, 1.5779448747634888, -1....</td>\n",
       "    </tr>\n",
       "    <tr>\n",
       "      <th>49142</th>\n",
       "      <td>fff94b7e15cd61eaf699f0e7d29e4023d28733119f323d...</td>\n",
       "      <td>[-0.7281959056854248, 1.4384605884552002, -1.4...</td>\n",
       "    </tr>\n",
       "    <tr>\n",
       "      <th>49143</th>\n",
       "      <td>fffdd9c81f64c0228a54e1c0240cf40877acec6ce985d4...</td>\n",
       "      <td>[1.3642925024032593, 1.3897253274917603, -2.20...</td>\n",
       "    </tr>\n",
       "    <tr>\n",
       "      <th>49144</th>\n",
       "      <td>ffff61677073258d461e043cc9ed4ed97be5617a920640...</td>\n",
       "      <td>[0.9121177196502686, 1.3799214363098145, -2.08...</td>\n",
       "    </tr>\n",
       "  </tbody>\n",
       "</table>\n",
       "<p>49145 rows × 2 columns</p>\n",
       "</div>"
      ],
      "text/plain": [
       "                                             customer_id  \\\n",
       "0      0000423b00ade91418cceaf3b26c6af3dd342b51fd051e...   \n",
       "1      0000b2f1829e23b24feec422ef13df3ccedaedc85368e6...   \n",
       "2      000346516dd355b40badca0c0f5f37a318ddae31f0e0f7...   \n",
       "3      000531ecd2754a0cf214373cc7b6dbcf7ce9a77c3284a2...   \n",
       "4      000989f72a2b8e5da2f4abafc86c2e213816fa2ff2a060...   \n",
       "...                                                  ...   \n",
       "49140  fff4d3a8b1f3b60af93e78c30a7cb4cf75edaf2590d3e5...   \n",
       "49141  fff69e3ab1bd701315881c7706c38d5cbcda1f4e0cf213...   \n",
       "49142  fff94b7e15cd61eaf699f0e7d29e4023d28733119f323d...   \n",
       "49143  fffdd9c81f64c0228a54e1c0240cf40877acec6ce985d4...   \n",
       "49144  ffff61677073258d461e043cc9ed4ed97be5617a920640...   \n",
       "\n",
       "                                              embeddings  \n",
       "0      [0.29205620288848877, 1.5997645854949951, -1.8...  \n",
       "1      [-0.3882942795753479, 2.040398120880127, -1.24...  \n",
       "2      [0.35325416922569275, 1.3315706253051758, -1.9...  \n",
       "3      [0.435394287109375, 1.4381957054138184, -1.931...  \n",
       "4      [0.7979548573493958, 1.5542672872543335, -1.89...  \n",
       "...                                                  ...  \n",
       "49140  [0.7364576458930969, 1.5763212442398071, -1.94...  \n",
       "49141  [-0.35780400037765503, 1.5779448747634888, -1....  \n",
       "49142  [-0.7281959056854248, 1.4384605884552002, -1.4...  \n",
       "49143  [1.3642925024032593, 1.3897253274917603, -2.20...  \n",
       "49144  [0.9121177196502686, 1.3799214363098145, -2.08...  \n",
       "\n",
       "[49145 rows x 2 columns]"
      ]
     },
     "execution_count": 26,
     "metadata": {},
     "output_type": "execute_result"
    }
   ],
   "source": [
    "%%time\n",
    "cust_embeddings = df_cust_article.groupby(['customer_id']).apply(lambda x: calculate_customer_embedding(x, image_embeddings)).reset_index(name='embeddings')"
   ]
  },
  {
   "cell_type": "code",
   "execution_count": 27,
   "id": "7caf5e8e",
   "metadata": {},
   "outputs": [],
   "source": [
    "def calculate_customer_embedding(df: pd.DataFrame, embeddings: pd.DataFrame):\n",
    "    list_of_articles = list(df.article_id.unique())\n",
    "    mean_embeddings = list(embeddings[embeddings.index.isin(list_of_articles)].mean(axis=0))\n",
    "    return mean_embeddings"
   ]
  },
  {
   "cell_type": "code",
   "execution_count": 28,
   "id": "cc20e7e6",
   "metadata": {},
   "outputs": [
    {
     "name": "stdout",
     "output_type": "stream",
     "text": [
      "CPU times: user 2min 4s, sys: 292 ms, total: 2min 5s\n",
      "Wall time: 2min 5s\n"
     ]
    },
    {
     "data": {
      "text/html": [
       "<div>\n",
       "<style scoped>\n",
       "    .dataframe tbody tr th:only-of-type {\n",
       "        vertical-align: middle;\n",
       "    }\n",
       "\n",
       "    .dataframe tbody tr th {\n",
       "        vertical-align: top;\n",
       "    }\n",
       "\n",
       "    .dataframe thead th {\n",
       "        text-align: right;\n",
       "    }\n",
       "</style>\n",
       "<table border=\"1\" class=\"dataframe\">\n",
       "  <thead>\n",
       "    <tr style=\"text-align: right;\">\n",
       "      <th></th>\n",
       "      <th>customer_id</th>\n",
       "      <th>embeddings</th>\n",
       "    </tr>\n",
       "  </thead>\n",
       "  <tbody>\n",
       "    <tr>\n",
       "      <th>0</th>\n",
       "      <td>0000423b00ade91418cceaf3b26c6af3dd342b51fd051e...</td>\n",
       "      <td>[0.29205620288848877, 1.5997645854949951, -1.8...</td>\n",
       "    </tr>\n",
       "    <tr>\n",
       "      <th>1</th>\n",
       "      <td>0000b2f1829e23b24feec422ef13df3ccedaedc85368e6...</td>\n",
       "      <td>[-0.3882942795753479, 2.040398120880127, -1.24...</td>\n",
       "    </tr>\n",
       "    <tr>\n",
       "      <th>2</th>\n",
       "      <td>000346516dd355b40badca0c0f5f37a318ddae31f0e0f7...</td>\n",
       "      <td>[0.35325416922569275, 1.3315706253051758, -1.9...</td>\n",
       "    </tr>\n",
       "    <tr>\n",
       "      <th>3</th>\n",
       "      <td>000531ecd2754a0cf214373cc7b6dbcf7ce9a77c3284a2...</td>\n",
       "      <td>[0.435394287109375, 1.4381957054138184, -1.931...</td>\n",
       "    </tr>\n",
       "    <tr>\n",
       "      <th>4</th>\n",
       "      <td>000989f72a2b8e5da2f4abafc86c2e213816fa2ff2a060...</td>\n",
       "      <td>[0.7979548573493958, 1.5542672872543335, -1.89...</td>\n",
       "    </tr>\n",
       "    <tr>\n",
       "      <th>...</th>\n",
       "      <td>...</td>\n",
       "      <td>...</td>\n",
       "    </tr>\n",
       "    <tr>\n",
       "      <th>49140</th>\n",
       "      <td>fff4d3a8b1f3b60af93e78c30a7cb4cf75edaf2590d3e5...</td>\n",
       "      <td>[0.7364576458930969, 1.5763212442398071, -1.94...</td>\n",
       "    </tr>\n",
       "    <tr>\n",
       "      <th>49141</th>\n",
       "      <td>fff69e3ab1bd701315881c7706c38d5cbcda1f4e0cf213...</td>\n",
       "      <td>[-0.35780400037765503, 1.5779448747634888, -1....</td>\n",
       "    </tr>\n",
       "    <tr>\n",
       "      <th>49142</th>\n",
       "      <td>fff94b7e15cd61eaf699f0e7d29e4023d28733119f323d...</td>\n",
       "      <td>[-0.7281959056854248, 1.4384605884552002, -1.4...</td>\n",
       "    </tr>\n",
       "    <tr>\n",
       "      <th>49143</th>\n",
       "      <td>fffdd9c81f64c0228a54e1c0240cf40877acec6ce985d4...</td>\n",
       "      <td>[1.3642925024032593, 1.3897253274917603, -2.20...</td>\n",
       "    </tr>\n",
       "    <tr>\n",
       "      <th>49144</th>\n",
       "      <td>ffff61677073258d461e043cc9ed4ed97be5617a920640...</td>\n",
       "      <td>[0.9121177196502686, 1.3799214363098145, -2.08...</td>\n",
       "    </tr>\n",
       "  </tbody>\n",
       "</table>\n",
       "<p>49145 rows × 2 columns</p>\n",
       "</div>"
      ],
      "text/plain": [
       "                                             customer_id  \\\n",
       "0      0000423b00ade91418cceaf3b26c6af3dd342b51fd051e...   \n",
       "1      0000b2f1829e23b24feec422ef13df3ccedaedc85368e6...   \n",
       "2      000346516dd355b40badca0c0f5f37a318ddae31f0e0f7...   \n",
       "3      000531ecd2754a0cf214373cc7b6dbcf7ce9a77c3284a2...   \n",
       "4      000989f72a2b8e5da2f4abafc86c2e213816fa2ff2a060...   \n",
       "...                                                  ...   \n",
       "49140  fff4d3a8b1f3b60af93e78c30a7cb4cf75edaf2590d3e5...   \n",
       "49141  fff69e3ab1bd701315881c7706c38d5cbcda1f4e0cf213...   \n",
       "49142  fff94b7e15cd61eaf699f0e7d29e4023d28733119f323d...   \n",
       "49143  fffdd9c81f64c0228a54e1c0240cf40877acec6ce985d4...   \n",
       "49144  ffff61677073258d461e043cc9ed4ed97be5617a920640...   \n",
       "\n",
       "                                              embeddings  \n",
       "0      [0.29205620288848877, 1.5997645854949951, -1.8...  \n",
       "1      [-0.3882942795753479, 2.040398120880127, -1.24...  \n",
       "2      [0.35325416922569275, 1.3315706253051758, -1.9...  \n",
       "3      [0.435394287109375, 1.4381957054138184, -1.931...  \n",
       "4      [0.7979548573493958, 1.5542672872543335, -1.89...  \n",
       "...                                                  ...  \n",
       "49140  [0.7364576458930969, 1.5763212442398071, -1.94...  \n",
       "49141  [-0.35780400037765503, 1.5779448747634888, -1....  \n",
       "49142  [-0.7281959056854248, 1.4384605884552002, -1.4...  \n",
       "49143  [1.3642925024032593, 1.3897253274917603, -2.20...  \n",
       "49144  [0.9121177196502686, 1.3799214363098145, -2.08...  \n",
       "\n",
       "[49145 rows x 2 columns]"
      ]
     },
     "execution_count": 28,
     "metadata": {},
     "output_type": "execute_result"
    }
   ],
   "source": [
    "%%time\n",
    "cust_embeddings = transactions.groupby(['customer_id']).apply(lambda x: calculate_customer_embedding(x, image_embeddings)).reset_index(name='embeddings')"
   ]
  },
  {
   "cell_type": "code",
   "execution_count": 184,
   "id": "e2350f45",
   "metadata": {},
   "outputs": [
    {
     "data": {
      "text/plain": [
       "(49145, 2)"
      ]
     },
     "execution_count": 184,
     "metadata": {},
     "output_type": "execute_result"
    }
   ],
   "source": [
    "cust_embeddings.shape"
   ]
  },
  {
   "cell_type": "code",
   "execution_count": 185,
   "id": "af436245",
   "metadata": {},
   "outputs": [
    {
     "data": {
      "text/plain": [
       "(105100, 32)"
      ]
     },
     "execution_count": 185,
     "metadata": {},
     "output_type": "execute_result"
    }
   ],
   "source": [
    "image_embeddings.shape"
   ]
  },
  {
   "cell_type": "code",
   "execution_count": null,
   "id": "1db4bbbc",
   "metadata": {},
   "outputs": [],
   "source": []
  },
  {
   "cell_type": "code",
   "execution_count": null,
   "id": "74fd5fc4",
   "metadata": {},
   "outputs": [],
   "source": []
  },
  {
   "cell_type": "markdown",
   "id": "eb0004d0",
   "metadata": {},
   "source": [
    "### text"
   ]
  },
  {
   "cell_type": "code",
   "execution_count": 29,
   "id": "bbf667d5",
   "metadata": {},
   "outputs": [
    {
     "name": "stdout",
     "output_type": "stream",
     "text": [
      "2022-08-16 14:27:47,878 - kedro.io.data_catalog - INFO - Loading data from `text_embeddings` (ParquetDataSet)...\n"
     ]
    }
   ],
   "source": [
    "text_embeddings = context.catalog.load('text_embeddings')"
   ]
  },
  {
   "cell_type": "code",
   "execution_count": 30,
   "id": "a3da171f",
   "metadata": {},
   "outputs": [
    {
     "data": {
      "text/plain": [
       "(105542, 384)"
      ]
     },
     "execution_count": 30,
     "metadata": {},
     "output_type": "execute_result"
    }
   ],
   "source": [
    "text_embeddings.shape"
   ]
  },
  {
   "cell_type": "code",
   "execution_count": 31,
   "id": "f4a2df94",
   "metadata": {},
   "outputs": [],
   "source": [
    "def calculate_customer_embedding(df: pd.DataFrame, embeddings: pd.DataFrame):\n",
    "    list_of_articles = df.article_id[0]\n",
    "    mean_embeddings = list(embeddings[embeddings.index.isin(list_of_articles)].mean(axis=0))\n",
    "    return mean_embeddings"
   ]
  },
  {
   "cell_type": "code",
   "execution_count": 32,
   "id": "89662fa6",
   "metadata": {},
   "outputs": [
    {
     "name": "stdout",
     "output_type": "stream",
     "text": [
      "CPU times: user 2min 3s, sys: 719 ms, total: 2min 4s\n",
      "Wall time: 2min 4s\n"
     ]
    }
   ],
   "source": [
    "%%time\n",
    "cust_embeddings = df_cust_article.groupby(['customer_id']).apply(lambda x: calculate_customer_embedding(x, text_embeddings)).reset_index(name='embeddings')"
   ]
  },
  {
   "cell_type": "code",
   "execution_count": 33,
   "id": "2adedd62",
   "metadata": {},
   "outputs": [],
   "source": [
    "def calculate_customer_embedding(df: pd.DataFrame, embeddings: pd.DataFrame):\n",
    "    list_of_articles = list(df.article_id.unique())\n",
    "    mean_embeddings = list(embeddings[embeddings.index.isin(list_of_articles)].mean(axis=0))\n",
    "    return mean_embeddings"
   ]
  },
  {
   "cell_type": "code",
   "execution_count": 34,
   "id": "2ade03d6",
   "metadata": {},
   "outputs": [
    {
     "name": "stdout",
     "output_type": "stream",
     "text": [
      "CPU times: user 2min 4s, sys: 805 ms, total: 2min 5s\n",
      "Wall time: 2min 5s\n"
     ]
    }
   ],
   "source": [
    "%%time\n",
    "cust_embeddings = transactions.groupby(['customer_id']).apply(lambda x: calculate_customer_embedding(x, text_embeddings)).reset_index(name='embeddings')"
   ]
  },
  {
   "cell_type": "code",
   "execution_count": 137,
   "id": "523084d1",
   "metadata": {},
   "outputs": [
    {
     "name": "stdout",
     "output_type": "stream",
     "text": [
      "CPU times: user 1min 56s, sys: 702 ms, total: 1min 56s\n",
      "Wall time: 1min 56s\n"
     ]
    },
    {
     "data": {
      "text/html": [
       "<div>\n",
       "<style scoped>\n",
       "    .dataframe tbody tr th:only-of-type {\n",
       "        vertical-align: middle;\n",
       "    }\n",
       "\n",
       "    .dataframe tbody tr th {\n",
       "        vertical-align: top;\n",
       "    }\n",
       "\n",
       "    .dataframe thead th {\n",
       "        text-align: right;\n",
       "    }\n",
       "</style>\n",
       "<table border=\"1\" class=\"dataframe\">\n",
       "  <thead>\n",
       "    <tr style=\"text-align: right;\">\n",
       "      <th></th>\n",
       "      <th>customer_id</th>\n",
       "      <th>embeddings</th>\n",
       "    </tr>\n",
       "  </thead>\n",
       "  <tbody>\n",
       "    <tr>\n",
       "      <th>0</th>\n",
       "      <td>0000423b00ade91418cceaf3b26c6af3dd342b51fd051e...</td>\n",
       "      <td>[0.060339782387018204, 0.017903417348861694, 0...</td>\n",
       "    </tr>\n",
       "    <tr>\n",
       "      <th>1</th>\n",
       "      <td>0000b2f1829e23b24feec422ef13df3ccedaedc85368e6...</td>\n",
       "      <td>[-0.03108256496489048, 0.07063155621290207, -0...</td>\n",
       "    </tr>\n",
       "    <tr>\n",
       "      <th>2</th>\n",
       "      <td>000346516dd355b40badca0c0f5f37a318ddae31f0e0f7...</td>\n",
       "      <td>[-0.03189806267619133, 0.08947073668241501, -0...</td>\n",
       "    </tr>\n",
       "    <tr>\n",
       "      <th>3</th>\n",
       "      <td>000531ecd2754a0cf214373cc7b6dbcf7ce9a77c3284a2...</td>\n",
       "      <td>[-0.007199143059551716, 0.10448223352432251, 0...</td>\n",
       "    </tr>\n",
       "    <tr>\n",
       "      <th>4</th>\n",
       "      <td>000989f72a2b8e5da2f4abafc86c2e213816fa2ff2a060...</td>\n",
       "      <td>[-0.02177959680557251, 0.09326094388961792, 0....</td>\n",
       "    </tr>\n",
       "    <tr>\n",
       "      <th>...</th>\n",
       "      <td>...</td>\n",
       "      <td>...</td>\n",
       "    </tr>\n",
       "    <tr>\n",
       "      <th>49140</th>\n",
       "      <td>fff4d3a8b1f3b60af93e78c30a7cb4cf75edaf2590d3e5...</td>\n",
       "      <td>[-0.04204563423991203, 0.05189591646194458, 0....</td>\n",
       "    </tr>\n",
       "    <tr>\n",
       "      <th>49141</th>\n",
       "      <td>fff69e3ab1bd701315881c7706c38d5cbcda1f4e0cf213...</td>\n",
       "      <td>[0.07588859647512436, 0.014239171519875526, -0...</td>\n",
       "    </tr>\n",
       "    <tr>\n",
       "      <th>49142</th>\n",
       "      <td>fff94b7e15cd61eaf699f0e7d29e4023d28733119f323d...</td>\n",
       "      <td>[0.04923105612397194, 0.0729655772447586, 0.03...</td>\n",
       "    </tr>\n",
       "    <tr>\n",
       "      <th>49143</th>\n",
       "      <td>fffdd9c81f64c0228a54e1c0240cf40877acec6ce985d4...</td>\n",
       "      <td>[-0.049292903393507004, 0.0693088248372078, 0....</td>\n",
       "    </tr>\n",
       "    <tr>\n",
       "      <th>49144</th>\n",
       "      <td>ffff61677073258d461e043cc9ed4ed97be5617a920640...</td>\n",
       "      <td>[-0.03424421697854996, 0.08993425965309143, 0....</td>\n",
       "    </tr>\n",
       "  </tbody>\n",
       "</table>\n",
       "<p>49145 rows × 2 columns</p>\n",
       "</div>"
      ],
      "text/plain": [
       "                                             customer_id  \\\n",
       "0      0000423b00ade91418cceaf3b26c6af3dd342b51fd051e...   \n",
       "1      0000b2f1829e23b24feec422ef13df3ccedaedc85368e6...   \n",
       "2      000346516dd355b40badca0c0f5f37a318ddae31f0e0f7...   \n",
       "3      000531ecd2754a0cf214373cc7b6dbcf7ce9a77c3284a2...   \n",
       "4      000989f72a2b8e5da2f4abafc86c2e213816fa2ff2a060...   \n",
       "...                                                  ...   \n",
       "49140  fff4d3a8b1f3b60af93e78c30a7cb4cf75edaf2590d3e5...   \n",
       "49141  fff69e3ab1bd701315881c7706c38d5cbcda1f4e0cf213...   \n",
       "49142  fff94b7e15cd61eaf699f0e7d29e4023d28733119f323d...   \n",
       "49143  fffdd9c81f64c0228a54e1c0240cf40877acec6ce985d4...   \n",
       "49144  ffff61677073258d461e043cc9ed4ed97be5617a920640...   \n",
       "\n",
       "                                              embeddings  \n",
       "0      [0.060339782387018204, 0.017903417348861694, 0...  \n",
       "1      [-0.03108256496489048, 0.07063155621290207, -0...  \n",
       "2      [-0.03189806267619133, 0.08947073668241501, -0...  \n",
       "3      [-0.007199143059551716, 0.10448223352432251, 0...  \n",
       "4      [-0.02177959680557251, 0.09326094388961792, 0....  \n",
       "...                                                  ...  \n",
       "49140  [-0.04204563423991203, 0.05189591646194458, 0....  \n",
       "49141  [0.07588859647512436, 0.014239171519875526, -0...  \n",
       "49142  [0.04923105612397194, 0.0729655772447586, 0.03...  \n",
       "49143  [-0.049292903393507004, 0.0693088248372078, 0....  \n",
       "49144  [-0.03424421697854996, 0.08993425965309143, 0....  \n",
       "\n",
       "[49145 rows x 2 columns]"
      ]
     },
     "execution_count": 137,
     "metadata": {},
     "output_type": "execute_result"
    }
   ],
   "source": [
    "%%time\n",
    "transactions.groupby(['customer_id']).apply(lambda x: calculate_customer_embedding(x, text_embeddings)).reset_index(name='embeddings')"
   ]
  },
  {
   "cell_type": "markdown",
   "id": "52fced32",
   "metadata": {},
   "source": [
    "to split embeddings from list to single columns"
   ]
  },
  {
   "cell_type": "markdown",
   "id": "c2479438",
   "metadata": {},
   "source": [
    "df3 = df2.teams.apply(pd.Series) <br>\n",
    "df3.columns = ['team1', 'team2']"
   ]
  },
  {
   "cell_type": "code",
   "execution_count": null,
   "id": "b80399e8",
   "metadata": {},
   "outputs": [],
   "source": []
  },
  {
   "cell_type": "code",
   "execution_count": 198,
   "id": "4092d63e",
   "metadata": {},
   "outputs": [
    {
     "data": {
      "text/plain": [
       "array([ 0.43539429,  1.43819571, -1.93127227,  1.56413281,  1.48725712,\n",
       "        1.79077113,  0.50990307,  1.83755374, -4.31625366,  2.61858845,\n",
       "        0.31816185,  1.70420766, -2.99186277,  1.39999628, -0.2818093 ,\n",
       "       -0.97360808, -0.16821225, -0.3271288 , -2.23177528,  6.11882687,\n",
       "        0.79731834,  2.77756238,  2.01025057, -0.82952678, -2.17244005,\n",
       "        0.2082431 ,  0.57116681,  1.78582966, -0.12209548,  1.87108564,\n",
       "        3.87817287, -1.97070253])"
      ]
     },
     "execution_count": 198,
     "metadata": {},
     "output_type": "execute_result"
    }
   ],
   "source": [
    "np.array(cust_embeddings.set_index('customer_id').loc['000531ecd2754a0cf214373cc7b6dbcf7ce9a77c3284a2facbe072f763618bbc'].embeddings)"
   ]
  },
  {
   "cell_type": "code",
   "execution_count": 194,
   "id": "4e75fb01",
   "metadata": {},
   "outputs": [
    {
     "data": {
      "text/plain": [
       "array([ 1.4408963e+00,  1.3866708e+00, -2.2826171e+00,  2.1407368e+00,\n",
       "        8.6195004e-01,  2.1600864e+00,  8.1075065e-02,  1.7677919e+00,\n",
       "       -4.8008981e+00,  1.9921565e+00,  1.2470684e+00,  1.4888606e+00,\n",
       "       -2.9717569e+00,  5.6244093e-01, -1.0710030e+00, -1.5912099e+00,\n",
       "        6.6585618e-01,  6.0829879e-03, -1.7968456e+00,  6.5001235e+00,\n",
       "        9.7213534e-04,  2.9396386e+00,  1.6909531e+00, -1.5535519e-01,\n",
       "       -3.0912085e+00,  5.8781457e-01, -4.5122060e-01,  2.7648869e+00,\n",
       "        4.7212821e-01,  1.5510160e+00,  4.1646776e+00, -2.0769293e+00],\n",
       "      dtype=float32)"
      ]
     },
     "execution_count": 194,
     "metadata": {},
     "output_type": "execute_result"
    }
   ],
   "source": [
    "image_embeddings.loc['0878510001'].values"
   ]
  },
  {
   "cell_type": "code",
   "execution_count": 230,
   "id": "fae87464",
   "metadata": {},
   "outputs": [],
   "source": [
    "def cosine_similarity(A, B):\n",
    "    return np.dot(A,B)/(np.linalg.norm(A)*np.linalg.norm(B))"
   ]
  },
  {
   "cell_type": "code",
   "execution_count": 235,
   "id": "80276e32",
   "metadata": {},
   "outputs": [],
   "source": [
    "def cosine_embedding_similarity(candidates_df, customers_embeddings, items_embeddings):\n",
    "    \"\"\"\n",
    "    \"\"\"\n",
    "    candidate_item, candidate_user = candidates_df.article_id, candidates_df.customer_id\n",
    "    try:\n",
    "        customer_embeddings = np.array(cust_embeddings.set_index('customer_id').loc[candidate_user].embeddings)\n",
    "    except KeyError:\n",
    "        return 0\n",
    "    try:\n",
    "        candidate_embeddings = items_embeddings.loc[candidate_item].values\n",
    "    except KeyError:\n",
    "        return 0\n",
    "    return cosine_similarity(customer_embeddings, candidate_embeddings)"
   ]
  },
  {
   "cell_type": "code",
   "execution_count": null,
   "id": "f160f024",
   "metadata": {},
   "outputs": [],
   "source": []
  },
  {
   "cell_type": "code",
   "execution_count": 239,
   "id": "6193c6d1",
   "metadata": {},
   "outputs": [],
   "source": [
    "candidates_df = pd.DataFrame({'customer_id': sorted(customers['customer_id'].sample(5).to_list()*3),\n",
    "                              'article_id': articles['article_id'].sample(15).to_list()\n",
    "                             })"
   ]
  },
  {
   "cell_type": "code",
   "execution_count": 240,
   "id": "2a0f41df",
   "metadata": {},
   "outputs": [
    {
     "data": {
      "text/html": [
       "<div>\n",
       "<style scoped>\n",
       "    .dataframe tbody tr th:only-of-type {\n",
       "        vertical-align: middle;\n",
       "    }\n",
       "\n",
       "    .dataframe tbody tr th {\n",
       "        vertical-align: top;\n",
       "    }\n",
       "\n",
       "    .dataframe thead th {\n",
       "        text-align: right;\n",
       "    }\n",
       "</style>\n",
       "<table border=\"1\" class=\"dataframe\">\n",
       "  <thead>\n",
       "    <tr style=\"text-align: right;\">\n",
       "      <th></th>\n",
       "      <th>customer_id</th>\n",
       "      <th>article_id</th>\n",
       "    </tr>\n",
       "  </thead>\n",
       "  <tbody>\n",
       "    <tr>\n",
       "      <th>0</th>\n",
       "      <td>43be7a90d1b3b4ddc4486a2b9ca4d8dc69d73791e99cb7...</td>\n",
       "      <td>0584198001</td>\n",
       "    </tr>\n",
       "    <tr>\n",
       "      <th>1</th>\n",
       "      <td>43be7a90d1b3b4ddc4486a2b9ca4d8dc69d73791e99cb7...</td>\n",
       "      <td>0863587003</td>\n",
       "    </tr>\n",
       "    <tr>\n",
       "      <th>2</th>\n",
       "      <td>43be7a90d1b3b4ddc4486a2b9ca4d8dc69d73791e99cb7...</td>\n",
       "      <td>0695545008</td>\n",
       "    </tr>\n",
       "    <tr>\n",
       "      <th>3</th>\n",
       "      <td>a60d2b71f2728406f419fb65e761435c5338554170f3cb...</td>\n",
       "      <td>0539816001</td>\n",
       "    </tr>\n",
       "    <tr>\n",
       "      <th>4</th>\n",
       "      <td>a60d2b71f2728406f419fb65e761435c5338554170f3cb...</td>\n",
       "      <td>0841874001</td>\n",
       "    </tr>\n",
       "  </tbody>\n",
       "</table>\n",
       "</div>"
      ],
      "text/plain": [
       "                                         customer_id  article_id\n",
       "0  43be7a90d1b3b4ddc4486a2b9ca4d8dc69d73791e99cb7...  0584198001\n",
       "1  43be7a90d1b3b4ddc4486a2b9ca4d8dc69d73791e99cb7...  0863587003\n",
       "2  43be7a90d1b3b4ddc4486a2b9ca4d8dc69d73791e99cb7...  0695545008\n",
       "3  a60d2b71f2728406f419fb65e761435c5338554170f3cb...  0539816001\n",
       "4  a60d2b71f2728406f419fb65e761435c5338554170f3cb...  0841874001"
      ]
     },
     "execution_count": 240,
     "metadata": {},
     "output_type": "execute_result"
    }
   ],
   "source": [
    "candidates_df.head()"
   ]
  },
  {
   "cell_type": "code",
   "execution_count": 241,
   "id": "69738bf1",
   "metadata": {},
   "outputs": [
    {
     "data": {
      "text/plain": [
       "0    0.0000\n",
       "1    0.0000\n",
       "2    0.0000\n",
       "3    0.9625\n",
       "4    0.8308\n",
       "5    0.9894\n",
       "6    0.0000\n",
       "7    0.0000\n",
       "8    0.0000\n",
       "9    0.0000\n",
       "10   0.0000\n",
       "11   0.0000\n",
       "12   0.0000\n",
       "13   0.0000\n",
       "14   0.0000\n",
       "dtype: float64"
      ]
     },
     "execution_count": 241,
     "metadata": {},
     "output_type": "execute_result"
    }
   ],
   "source": [
    "candidates_df.apply(lambda x: cosine_embedding_similarity(x, cust_embeddings, image_embeddings), axis=1)"
   ]
  },
  {
   "cell_type": "code",
   "execution_count": null,
   "id": "2a62d49f",
   "metadata": {},
   "outputs": [],
   "source": []
  },
  {
   "cell_type": "markdown",
   "id": "a1f481a1",
   "metadata": {},
   "source": [
    "text similarities"
   ]
  },
  {
   "cell_type": "code",
   "execution_count": 242,
   "id": "8bd094a0",
   "metadata": {},
   "outputs": [
    {
     "name": "stdout",
     "output_type": "stream",
     "text": [
      "CPU times: user 1min 56s, sys: 707 ms, total: 1min 57s\n",
      "Wall time: 1min 57s\n"
     ]
    }
   ],
   "source": [
    "%%time\n",
    "cust_embeddings = transactions.groupby(['customer_id']).apply(lambda x: calculate_customer_embedding(x, text_embeddings)).reset_index(name='embeddings')"
   ]
  },
  {
   "cell_type": "code",
   "execution_count": 243,
   "id": "54b90859",
   "metadata": {},
   "outputs": [
    {
     "data": {
      "text/plain": [
       "0    0.0000\n",
       "1    0.0000\n",
       "2    0.0000\n",
       "3    0.4155\n",
       "4    0.3849\n",
       "5    0.4410\n",
       "6    0.0000\n",
       "7    0.0000\n",
       "8    0.0000\n",
       "9    0.0000\n",
       "10   0.0000\n",
       "11   0.0000\n",
       "12   0.0000\n",
       "13   0.0000\n",
       "14   0.0000\n",
       "dtype: float64"
      ]
     },
     "execution_count": 243,
     "metadata": {},
     "output_type": "execute_result"
    }
   ],
   "source": [
    "candidates_df.apply(lambda x: cosine_embedding_similarity(x, cust_embeddings, text_embeddings), axis=1)"
   ]
  },
  {
   "cell_type": "code",
   "execution_count": null,
   "id": "f87116a1",
   "metadata": {},
   "outputs": [],
   "source": []
  },
  {
   "cell_type": "code",
   "execution_count": null,
   "id": "3e683193",
   "metadata": {},
   "outputs": [],
   "source": []
  },
  {
   "cell_type": "markdown",
   "id": "9738a2ef",
   "metadata": {},
   "source": [
    "all similarities"
   ]
  },
  {
   "cell_type": "code",
   "execution_count": null,
   "id": "e40e8da2",
   "metadata": {},
   "outputs": [],
   "source": []
  },
  {
   "cell_type": "code",
   "execution_count": null,
   "id": "19aaa77c",
   "metadata": {},
   "outputs": [],
   "source": []
  },
  {
   "cell_type": "markdown",
   "id": "a418e4e3",
   "metadata": {},
   "source": [
    "collaborative filtering still AWAITS :<<<"
   ]
  },
  {
   "cell_type": "markdown",
   "id": "723949d7",
   "metadata": {},
   "source": [
    "candidates -> STRATEGY FEATURE, MAYBE SCORE?"
   ]
  },
  {
   "cell_type": "code",
   "execution_count": null,
   "id": "efbf5678",
   "metadata": {},
   "outputs": [],
   "source": []
  }
 ],
 "metadata": {
  "kernelspec": {
   "display_name": "GetInDataMLFramework",
   "language": "python",
   "name": "python3"
  },
  "language_info": {
   "codemirror_mode": {
    "name": "ipython",
    "version": 3
   },
   "file_extension": ".py",
   "mimetype": "text/x-python",
   "name": "python",
   "nbconvert_exporter": "python",
   "pygments_lexer": "ipython3",
   "version": "3.8.12"
  }
 },
 "nbformat": 4,
 "nbformat_minor": 5
}
