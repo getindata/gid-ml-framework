{
 "cells": [
  {
   "cell_type": "code",
   "execution_count": 1,
   "id": "1c1d0c3a",
   "metadata": {
    "scrolled": true
   },
   "outputs": [
    {
     "name": "stdout",
     "output_type": "stream",
     "text": [
      "The kedro.extras.extensions.ipython extension is already loaded. To reload it, use:\n",
      "  %reload_ext kedro.extras.extensions.ipython\n"
     ]
    }
   ],
   "source": [
    "%load_ext kedro.extras.extensions.ipython"
   ]
  },
  {
   "cell_type": "code",
   "execution_count": 2,
   "id": "426fd428",
   "metadata": {},
   "outputs": [
    {
     "name": "stdout",
     "output_type": "stream",
     "text": [
      "2022-08-22 15:05:57,262 - kedro.framework.hooks.manager - INFO - Registered hooks from 1 installed plugin(s): kedro-mlflow-0.8.1\n",
      "2022-08-22 15:05:57,308 - kedro.framework.session.store - INFO - `read()` not implemented for `BaseSessionStore`. Assuming empty store.\n",
      "2022-08-22 15:05:57,812 - root - INFO - ** Kedro project GetInData ML Framework\n",
      "2022-08-22 15:05:57,813 - root - INFO - Defined global variable `context`, `session`, `catalog` and `pipelines`\n",
      "2022-08-22 15:05:57,822 - root - INFO - Registered line magic `run_viz`\n",
      "2022-08-22 15:05:57,823 - root - INFO - Registered line magic `reload_kedro_mlflow`\n"
     ]
    }
   ],
   "source": [
    "%reload_kedro"
   ]
  },
  {
   "cell_type": "code",
   "execution_count": 3,
   "id": "a000d97b",
   "metadata": {},
   "outputs": [],
   "source": [
    "import pandas as pd\n",
    "import numpy as np"
   ]
  },
  {
   "cell_type": "code",
   "execution_count": 4,
   "id": "312b41af",
   "metadata": {},
   "outputs": [],
   "source": [
    "pd.set_option('display.float_format', lambda x: '%.4f' % x)"
   ]
  },
  {
   "cell_type": "code",
   "execution_count": 5,
   "id": "665e8650",
   "metadata": {},
   "outputs": [
    {
     "data": {
      "text/plain": [
       "['articles',\n",
       " 'customers',\n",
       " 'transactions',\n",
       " 'customers_sample',\n",
       " 'transactions_sample',\n",
       " 'articles_sample',\n",
       " 'input_images',\n",
       " 'resized_images',\n",
       " 'image_embeddings',\n",
       " 'text_embeddings',\n",
       " 'candidates_sample',\n",
       " 'val_transactions',\n",
       " 'automated_articles_features',\n",
       " 'automated_customers_features',\n",
       " 'manual_article_features',\n",
       " 'manual_customer_features',\n",
       " 'manual_customer_prod_group_features',\n",
       " 'jaccard_similarity_features',\n",
       " 'image_cosine_similarity_features',\n",
       " 'text_cosine_similarity_features',\n",
       " 'candidates_similarity_features',\n",
       " 'parameters',\n",
       " 'params:automated_feature_engineering',\n",
       " 'params:automated_feature_engineering.articles',\n",
       " 'params:automated_feature_engineering.articles.feature_selection',\n",
       " 'params:automated_feature_engineering.articles.feature_selection_params',\n",
       " 'params:automated_feature_engineering.articles.feature_selection_params.pct_null_threshold',\n",
       " 'params:automated_feature_engineering.articles.feature_selection_params.corr_threshold',\n",
       " 'params:automated_feature_engineering.customers',\n",
       " 'params:automated_feature_engineering.customers.feature_selection',\n",
       " 'params:automated_feature_engineering.customers.feature_selection_params',\n",
       " 'params:automated_feature_engineering.customers.feature_selection_params.pct_null_threshold',\n",
       " 'params:automated_feature_engineering.customers.feature_selection_params.corr_threshold',\n",
       " 'params:automated_feature_engineering.n_days',\n",
       " 'params:image_embeddings_inference',\n",
       " 'params:image_embeddings_inference.run_id',\n",
       " 'params:image_embeddings_inference.image_path',\n",
       " 'params:image_embeddings_inference.batch_size',\n",
       " 'params:candidates_feature_engineering',\n",
       " 'params:candidates_feature_engineering.drop_random_strategies',\n",
       " 'params:candidates_feature_engineering.last_n_rows',\n",
       " 'params:candidates_feature_engineering.jaccard',\n",
       " 'params:candidates_feature_engineering.jaccard.attribute_cols',\n",
       " 'params:candidates_feature_engineering.cosine',\n",
       " 'params:candidates_feature_engineering.cosine.image',\n",
       " 'params:candidates_feature_engineering.cosine.image.col_name',\n",
       " 'params:candidates_feature_engineering.cosine.text',\n",
       " 'params:candidates_feature_engineering.cosine.text.col_name',\n",
       " 'params:customers',\n",
       " 'params:transactions',\n",
       " 'params:articles',\n",
       " 'params:image_embeddings',\n",
       " 'params:image_embeddings.image_path',\n",
       " 'params:image_embeddings.encoder',\n",
       " 'params:image_embeddings.decoder',\n",
       " 'params:image_embeddings.batch_size',\n",
       " 'params:image_embeddings.image_size',\n",
       " 'params:image_embeddings.embedding_size',\n",
       " 'params:image_embeddings.num_epochs',\n",
       " 'params:image_embeddings.shuffle_reconstructions',\n",
       " 'params:image_embeddings.save_model',\n",
       " 'params:image_embeddings.model_name',\n",
       " 'params:image_embeddings.seed',\n",
       " 'params:image_resizer',\n",
       " 'params:image_resizer.output_size',\n",
       " 'params:image_resizer.method',\n",
       " 'params:manual_feature_engineering',\n",
       " 'params:manual_feature_engineering.articles',\n",
       " 'params:manual_feature_engineering.customers',\n",
       " 'params:manual_feature_engineering.customers.n_days',\n",
       " 'params:manual_feature_engineering.customers_prod_group',\n",
       " 'params:ranking',\n",
       " 'params:ranking.data',\n",
       " 'params:ranking.data.fill_na_pattern',\n",
       " 'params:ranking.data.categorical_cols',\n",
       " 'params:ranking.data.drop_cols',\n",
       " 'params:ranking.training',\n",
       " 'params:ranking.training.models',\n",
       " 'params:sampling',\n",
       " 'params:sampling.cutoff_date',\n",
       " 'params:sampling.customers_sample_size',\n",
       " 'params:sampling.articles_sample_size',\n",
       " 'params:sampling.article_img_dir',\n",
       " 'params:sampling.article_img_sample_dir',\n",
       " 'params:text_embeddings',\n",
       " 'params:text_embeddings.transformer_model']"
      ]
     },
     "execution_count": 5,
     "metadata": {},
     "output_type": "execute_result"
    }
   ],
   "source": [
    "catalog.list()"
   ]
  },
  {
   "cell_type": "code",
   "execution_count": 6,
   "id": "c718a64e",
   "metadata": {},
   "outputs": [
    {
     "data": {
      "text/plain": [
       "['articles',\n",
       " 'customers',\n",
       " 'transactions',\n",
       " 'customers_sample',\n",
       " 'transactions_sample',\n",
       " 'articles_sample',\n",
       " 'input_images',\n",
       " 'resized_images',\n",
       " 'image_embeddings',\n",
       " 'text_embeddings',\n",
       " 'candidates_sample',\n",
       " 'val_transactions',\n",
       " 'automated_articles_features',\n",
       " 'automated_customers_features',\n",
       " 'manual_article_features',\n",
       " 'manual_customer_features',\n",
       " 'manual_customer_prod_group_features',\n",
       " 'jaccard_similarity_features',\n",
       " 'image_cosine_similarity_features',\n",
       " 'text_cosine_similarity_features',\n",
       " 'candidates_similarity_features',\n",
       " 'parameters']"
      ]
     },
     "execution_count": 6,
     "metadata": {},
     "output_type": "execute_result"
    }
   ],
   "source": [
    "[data for data in catalog.list() if not data.startswith('params:')]"
   ]
  },
  {
   "cell_type": "markdown",
   "id": "31318e25",
   "metadata": {},
   "source": [
    "### loading data"
   ]
  },
  {
   "cell_type": "code",
   "execution_count": 7,
   "id": "580b9342",
   "metadata": {},
   "outputs": [
    {
     "name": "stdout",
     "output_type": "stream",
     "text": [
      "2022-08-22 15:05:57,864 - kedro.io.data_catalog - INFO - Loading data from `candidates_similarity_features` (ParquetDataSet)...\n"
     ]
    }
   ],
   "source": [
    "candidates = context.catalog.load('candidates_similarity_features')"
   ]
  },
  {
   "cell_type": "code",
   "execution_count": 8,
   "id": "440f7577",
   "metadata": {},
   "outputs": [
    {
     "name": "stdout",
     "output_type": "stream",
     "text": [
      "2022-08-22 15:06:02,437 - kedro.io.data_catalog - INFO - Loading data from `val_transactions` (CSVDataSet)...\n"
     ]
    }
   ],
   "source": [
    "val_transactions = context.catalog.load('val_transactions')"
   ]
  },
  {
   "cell_type": "code",
   "execution_count": 9,
   "id": "da8f02c8",
   "metadata": {},
   "outputs": [],
   "source": [
    "val_transactions = val_transactions[['customer_id', 'article_id']].assign(label=lambda x: 1)"
   ]
  },
  {
   "cell_type": "code",
   "execution_count": 10,
   "id": "7c262684",
   "metadata": {},
   "outputs": [
    {
     "data": {
      "text/plain": [
       "(4461, 3)"
      ]
     },
     "execution_count": 10,
     "metadata": {},
     "output_type": "execute_result"
    }
   ],
   "source": [
    "val_transactions.shape"
   ]
  },
  {
   "cell_type": "code",
   "execution_count": 11,
   "id": "e9adba11",
   "metadata": {},
   "outputs": [
    {
     "data": {
      "text/html": [
       "<div>\n",
       "<style scoped>\n",
       "    .dataframe tbody tr th:only-of-type {\n",
       "        vertical-align: middle;\n",
       "    }\n",
       "\n",
       "    .dataframe tbody tr th {\n",
       "        vertical-align: top;\n",
       "    }\n",
       "\n",
       "    .dataframe thead th {\n",
       "        text-align: right;\n",
       "    }\n",
       "</style>\n",
       "<table border=\"1\" class=\"dataframe\">\n",
       "  <thead>\n",
       "    <tr style=\"text-align: right;\">\n",
       "      <th></th>\n",
       "      <th>customer_id</th>\n",
       "      <th>article_id</th>\n",
       "      <th>label</th>\n",
       "    </tr>\n",
       "  </thead>\n",
       "  <tbody>\n",
       "    <tr>\n",
       "      <th>0</th>\n",
       "      <td>017f1c01901a5113dffb00e2ff99024a99915d3cd86af4...</td>\n",
       "      <td>0916256001</td>\n",
       "      <td>1</td>\n",
       "    </tr>\n",
       "    <tr>\n",
       "      <th>1</th>\n",
       "      <td>01a39571fd15b542ac4832adcd4b80962823ee855a398a...</td>\n",
       "      <td>0855706004</td>\n",
       "      <td>1</td>\n",
       "    </tr>\n",
       "    <tr>\n",
       "      <th>2</th>\n",
       "      <td>02c8d36c490fc65c03d720c1220694573c34006cdcc2f9...</td>\n",
       "      <td>0903473003</td>\n",
       "      <td>1</td>\n",
       "    </tr>\n",
       "    <tr>\n",
       "      <th>3</th>\n",
       "      <td>0329f6a6682ad231723108c556d0861d8ff8a2fc5d843e...</td>\n",
       "      <td>0946764002</td>\n",
       "      <td>1</td>\n",
       "    </tr>\n",
       "    <tr>\n",
       "      <th>4</th>\n",
       "      <td>051aa83b1a3978fa888ae1d5a05e7eccceff95e00f7d7f...</td>\n",
       "      <td>0863692003</td>\n",
       "      <td>1</td>\n",
       "    </tr>\n",
       "  </tbody>\n",
       "</table>\n",
       "</div>"
      ],
      "text/plain": [
       "                                         customer_id  article_id  label\n",
       "0  017f1c01901a5113dffb00e2ff99024a99915d3cd86af4...  0916256001      1\n",
       "1  01a39571fd15b542ac4832adcd4b80962823ee855a398a...  0855706004      1\n",
       "2  02c8d36c490fc65c03d720c1220694573c34006cdcc2f9...  0903473003      1\n",
       "3  0329f6a6682ad231723108c556d0861d8ff8a2fc5d843e...  0946764002      1\n",
       "4  051aa83b1a3978fa888ae1d5a05e7eccceff95e00f7d7f...  0863692003      1"
      ]
     },
     "execution_count": 11,
     "metadata": {},
     "output_type": "execute_result"
    }
   ],
   "source": [
    "val_transactions.head()"
   ]
  },
  {
   "cell_type": "code",
   "execution_count": 12,
   "id": "540b4fd3",
   "metadata": {},
   "outputs": [],
   "source": [
    "candidates = candidates.merge(val_transactions, on=['customer_id', 'article_id'], how='left').fillna({'label': 0})"
   ]
  },
  {
   "cell_type": "code",
   "execution_count": 13,
   "id": "751727ad",
   "metadata": {},
   "outputs": [],
   "source": [
    "candidates['label'] = candidates['label'].astype(int)"
   ]
  },
  {
   "cell_type": "markdown",
   "id": "b67d4ab9",
   "metadata": {},
   "source": [
    "### filter"
   ]
  },
  {
   "cell_type": "code",
   "execution_count": 14,
   "id": "65908b38",
   "metadata": {},
   "outputs": [],
   "source": [
    "user_ids = list(candidates.customer_id.unique())[:10_000]"
   ]
  },
  {
   "cell_type": "code",
   "execution_count": 15,
   "id": "3049dd50",
   "metadata": {},
   "outputs": [],
   "source": [
    "candidates = candidates[candidates.customer_id.isin(user_ids)]"
   ]
  },
  {
   "cell_type": "code",
   "execution_count": 16,
   "id": "7ccd7712",
   "metadata": {},
   "outputs": [
    {
     "data": {
      "text/plain": [
       "(3346992, 7)"
      ]
     },
     "execution_count": 16,
     "metadata": {},
     "output_type": "execute_result"
    }
   ],
   "source": [
    "candidates.shape"
   ]
  },
  {
   "cell_type": "markdown",
   "id": "3c73fb4d",
   "metadata": {},
   "source": [
    "### downsampling (not used right now)"
   ]
  },
  {
   "cell_type": "markdown",
   "id": "0442eaff",
   "metadata": {},
   "source": [
    "i mean, it doesn't make sense, 2 millions negative samples = 14.5 per CUSTOMER, so basically we are randomly choosing articles for each customer. Doesn't make sense"
   ]
  },
  {
   "cell_type": "code",
   "execution_count": 17,
   "id": "9ead50a1",
   "metadata": {},
   "outputs": [],
   "source": [
    "neg_samples = 2_000_000\n",
    "seed = 42"
   ]
  },
  {
   "cell_type": "code",
   "execution_count": 21,
   "id": "911501ae",
   "metadata": {},
   "outputs": [],
   "source": [
    "candidates = pd.concat([candidates[candidates['label']>0],\n",
    "                        candidates[candidates['label']==0].sample(neg_samples, random_state=42)], axis=0)"
   ]
  },
  {
   "cell_type": "code",
   "execution_count": 24,
   "id": "c36db9ce",
   "metadata": {},
   "outputs": [
    {
     "data": {
      "text/plain": [
       "14.577471974810129"
      ]
     },
     "execution_count": 24,
     "metadata": {},
     "output_type": "execute_result"
    }
   ],
   "source": [
    "2_000_000/137_198"
   ]
  },
  {
   "cell_type": "code",
   "execution_count": 22,
   "id": "32d895cd",
   "metadata": {},
   "outputs": [
    {
     "data": {
      "text/plain": [
       "(2004461, 7)"
      ]
     },
     "execution_count": 22,
     "metadata": {},
     "output_type": "execute_result"
    }
   ],
   "source": [
    "candidates.shape"
   ]
  },
  {
   "cell_type": "code",
   "execution_count": 23,
   "id": "868065f4",
   "metadata": {},
   "outputs": [
    {
     "data": {
      "text/plain": [
       "137198"
      ]
     },
     "execution_count": 23,
     "metadata": {},
     "output_type": "execute_result"
    }
   ],
   "source": [
    "candidates.customer_id.nunique()"
   ]
  },
  {
   "cell_type": "markdown",
   "id": "675a7c5c",
   "metadata": {},
   "source": [
    "### continue"
   ]
  },
  {
   "cell_type": "code",
   "execution_count": 17,
   "id": "c2f54471",
   "metadata": {},
   "outputs": [
    {
     "data": {
      "text/plain": [
       "(3346992, 7)"
      ]
     },
     "execution_count": 17,
     "metadata": {},
     "output_type": "execute_result"
    }
   ],
   "source": [
    "candidates.shape"
   ]
  },
  {
   "cell_type": "code",
   "execution_count": 18,
   "id": "8f72a4d4",
   "metadata": {},
   "outputs": [
    {
     "data": {
      "text/plain": [
       "10000"
      ]
     },
     "execution_count": 18,
     "metadata": {},
     "output_type": "execute_result"
    }
   ],
   "source": [
    "candidates.customer_id.nunique()"
   ]
  },
  {
   "cell_type": "code",
   "execution_count": 19,
   "id": "c91c7d71",
   "metadata": {},
   "outputs": [
    {
     "data": {
      "text/html": [
       "<div>\n",
       "<style scoped>\n",
       "    .dataframe tbody tr th:only-of-type {\n",
       "        vertical-align: middle;\n",
       "    }\n",
       "\n",
       "    .dataframe tbody tr th {\n",
       "        vertical-align: top;\n",
       "    }\n",
       "\n",
       "    .dataframe thead th {\n",
       "        text-align: right;\n",
       "    }\n",
       "</style>\n",
       "<table border=\"1\" class=\"dataframe\">\n",
       "  <thead>\n",
       "    <tr style=\"text-align: right;\">\n",
       "      <th></th>\n",
       "      <th>customer_id</th>\n",
       "      <th>article_id</th>\n",
       "      <th>strategy_name</th>\n",
       "      <th>articles_jaccard_similarity</th>\n",
       "      <th>image_cosine_similarity</th>\n",
       "      <th>text_cosine_similarity</th>\n",
       "      <th>label</th>\n",
       "    </tr>\n",
       "  </thead>\n",
       "  <tbody>\n",
       "    <tr>\n",
       "      <th>0</th>\n",
       "      <td>ff18c106287931d170618b59fd402ed0ecc292869aad5f...</td>\n",
       "      <td>0554479001</td>\n",
       "      <td>global_articles</td>\n",
       "      <td>0.0000</td>\n",
       "      <td>0.0000</td>\n",
       "      <td>0.0000</td>\n",
       "      <td>0</td>\n",
       "    </tr>\n",
       "    <tr>\n",
       "      <th>1</th>\n",
       "      <td>ff18c106287931d170618b59fd402ed0ecc292869aad5f...</td>\n",
       "      <td>0904571001</td>\n",
       "      <td>multiple_strategies</td>\n",
       "      <td>0.0000</td>\n",
       "      <td>0.0000</td>\n",
       "      <td>0.0000</td>\n",
       "      <td>0</td>\n",
       "    </tr>\n",
       "    <tr>\n",
       "      <th>2</th>\n",
       "      <td>ff18c106287931d170618b59fd402ed0ecc292869aad5f...</td>\n",
       "      <td>0869331006</td>\n",
       "      <td>multiple_strategies</td>\n",
       "      <td>0.0000</td>\n",
       "      <td>0.0000</td>\n",
       "      <td>0.0000</td>\n",
       "      <td>0</td>\n",
       "    </tr>\n",
       "    <tr>\n",
       "      <th>3</th>\n",
       "      <td>ff18c106287931d170618b59fd402ed0ecc292869aad5f...</td>\n",
       "      <td>0792469001</td>\n",
       "      <td>multiple_strategies</td>\n",
       "      <td>0.0000</td>\n",
       "      <td>0.0000</td>\n",
       "      <td>0.0000</td>\n",
       "      <td>0</td>\n",
       "    </tr>\n",
       "    <tr>\n",
       "      <th>4</th>\n",
       "      <td>ff18c106287931d170618b59fd402ed0ecc292869aad5f...</td>\n",
       "      <td>0902528006</td>\n",
       "      <td>multiple_strategies</td>\n",
       "      <td>0.0000</td>\n",
       "      <td>0.0000</td>\n",
       "      <td>0.0000</td>\n",
       "      <td>0</td>\n",
       "    </tr>\n",
       "  </tbody>\n",
       "</table>\n",
       "</div>"
      ],
      "text/plain": [
       "                                         customer_id  article_id  \\\n",
       "0  ff18c106287931d170618b59fd402ed0ecc292869aad5f...  0554479001   \n",
       "1  ff18c106287931d170618b59fd402ed0ecc292869aad5f...  0904571001   \n",
       "2  ff18c106287931d170618b59fd402ed0ecc292869aad5f...  0869331006   \n",
       "3  ff18c106287931d170618b59fd402ed0ecc292869aad5f...  0792469001   \n",
       "4  ff18c106287931d170618b59fd402ed0ecc292869aad5f...  0902528006   \n",
       "\n",
       "         strategy_name  articles_jaccard_similarity  image_cosine_similarity  \\\n",
       "0      global_articles                       0.0000                   0.0000   \n",
       "1  multiple_strategies                       0.0000                   0.0000   \n",
       "2  multiple_strategies                       0.0000                   0.0000   \n",
       "3  multiple_strategies                       0.0000                   0.0000   \n",
       "4  multiple_strategies                       0.0000                   0.0000   \n",
       "\n",
       "   text_cosine_similarity  label  \n",
       "0                  0.0000      0  \n",
       "1                  0.0000      0  \n",
       "2                  0.0000      0  \n",
       "3                  0.0000      0  \n",
       "4                  0.0000      0  "
      ]
     },
     "execution_count": 19,
     "metadata": {},
     "output_type": "execute_result"
    }
   ],
   "source": [
    "candidates.head()"
   ]
  },
  {
   "cell_type": "markdown",
   "id": "9d665117",
   "metadata": {},
   "source": [
    "### optimizing data"
   ]
  },
  {
   "cell_type": "code",
   "execution_count": 20,
   "id": "715c9e9b",
   "metadata": {},
   "outputs": [],
   "source": [
    "def reduce_mem_usage(df, verbose=True):\n",
    "    numerics = ['int16', 'int32', 'int64', 'float16', 'float32', 'float64',\n",
    "               # fucking pandas types\n",
    "                'Int16', 'Int32', 'Int64', 'Float16', 'Float32', 'Float64'\n",
    "               ]\n",
    "    start_mem = df.memory_usage().sum() / 1024**2\n",
    "    print(f'Starting usage memory: {start_mem:.2f}')\n",
    "\n",
    "    for col in df.columns:\n",
    "        col_type = df[col].dtypes\n",
    "        if col_type in numerics:\n",
    "            c_min = df[col].min()\n",
    "            c_max = df[col].max()\n",
    "            if str(col_type).lower()[:3] == 'int':\n",
    "                if c_min > np.iinfo(np.int8).min and c_max < np.iinfo(np.int8).max:\n",
    "                    df[col] = df[col].astype(np.int8)\n",
    "                elif c_min > np.iinfo(np.int16).min and c_max < np.iinfo(np.int16).max:\n",
    "                    df[col] = df[col].astype(np.int16)\n",
    "                elif c_min > np.iinfo(np.int32).min and c_max < np.iinfo(np.int32).max:\n",
    "                    df[col] = df[col].astype(np.int32)\n",
    "                elif c_min > np.iinfo(np.int64).min and c_max < np.iinfo(np.int64).max:\n",
    "                    df[col] = df[col].astype(np.int64)\n",
    "            else:\n",
    "                if c_min > np.finfo(np.float32).min and c_max < np.finfo(np. float32).max:\n",
    "                    df[col] = df[col].astype(np.float32)\n",
    "                else:\n",
    "                    df[col] = df[col].astype(np.float64)\n",
    "        # if col_type == 'object':\n",
    "            # here\n",
    "    end_mem = df.memory_usage().sum() / 1024**2\n",
    "    if verbose:\n",
    "        print('Mem. usage decreased to {:5.2f} Mb ({:.1f}% reduction)'.format(end_mem, 100 * (start_mem - end_mem) / start_mem))\n",
    "    return df"
   ]
  },
  {
   "cell_type": "code",
   "execution_count": 21,
   "id": "055d35fc",
   "metadata": {},
   "outputs": [
    {
     "name": "stdout",
     "output_type": "stream",
     "text": [
      "Starting usage memory: 204.28\n",
      "Mem. usage decreased to 143.64 Mb (29.7% reduction)\n"
     ]
    }
   ],
   "source": [
    "candidates = reduce_mem_usage(candidates)"
   ]
  },
  {
   "cell_type": "markdown",
   "id": "ce2bf116",
   "metadata": {},
   "source": [
    "### regex"
   ]
  },
  {
   "cell_type": "code",
   "execution_count": 22,
   "id": "ed2529e5",
   "metadata": {},
   "outputs": [],
   "source": [
    "import re"
   ]
  },
  {
   "cell_type": "code",
   "execution_count": 23,
   "id": "1c20f650",
   "metadata": {},
   "outputs": [],
   "source": [
    "count_pattern = '^[Cc][Oo][Uu][Nn][Tt]'"
   ]
  },
  {
   "cell_type": "code",
   "execution_count": 24,
   "id": "89741771",
   "metadata": {},
   "outputs": [],
   "source": [
    "def fill_na_int(df, regex_pattern, fill_na_value):\n",
    "    cols = [col for col in df.columns if re.match(regex_pattern, col)]\n",
    "    df.loc[:, cols] = df.loc[:, cols].fillna(fill_na_value).astype(int)\n",
    "    return df"
   ]
  },
  {
   "cell_type": "markdown",
   "id": "6ce6bc8d",
   "metadata": {},
   "source": [
    "### not now"
   ]
  },
  {
   "cell_type": "markdown",
   "id": "c8ee8082",
   "metadata": {},
   "source": [
    "##### customer_id optimization -> index -> customer_id (mapping)\n",
    "id_to_index_dict = dict(zip(customers[\"customer_id\"], customers.index))\n",
    "index_to_id_dict = dict(zip(customers.index, customers[\"customer_id\"]))\n",
    "\n",
    "#for memory efficiency\n",
    "transactions[\"customer_id\"] = transactions[\"customer_id\"].map(id_to_index_dict)\n",
    "\n",
    "#for switching back for submission\n",
    "sub[\"customer_id\"] = sub[\"customer_id\"].map(index_to_id_dict)"
   ]
  },
  {
   "cell_type": "markdown",
   "id": "38f440cf",
   "metadata": {},
   "source": [
    "###### article_id optimization str -> int32 -> str\n",
    "train['article_id'] = train.article_id.astype('int32')\n",
    "train['article_id'] = '0' + train.article_id.astype('str')"
   ]
  },
  {
   "cell_type": "code",
   "execution_count": 15,
   "id": "c0f0e743",
   "metadata": {},
   "outputs": [],
   "source": [
    "candidates['article_id'] = candidates['article_id'].astype('int32')"
   ]
  },
  {
   "cell_type": "code",
   "execution_count": 20,
   "id": "d94de87e",
   "metadata": {},
   "outputs": [
    {
     "data": {
      "text/plain": [
       "1750.9048461914062"
      ]
     },
     "execution_count": 20,
     "metadata": {},
     "output_type": "execute_result"
    }
   ],
   "source": [
    "candidates.memory_usage().sum() / 1024**2"
   ]
  },
  {
   "cell_type": "markdown",
   "id": "6639c90c",
   "metadata": {},
   "source": [
    "### continue"
   ]
  },
  {
   "cell_type": "markdown",
   "id": "9118049d",
   "metadata": {},
   "source": [
    "### articles"
   ]
  },
  {
   "cell_type": "code",
   "execution_count": 25,
   "id": "43506c9a",
   "metadata": {},
   "outputs": [
    {
     "name": "stdout",
     "output_type": "stream",
     "text": [
      "2022-08-22 15:06:19,317 - kedro.io.data_catalog - INFO - Loading data from `automated_articles_features` (ParquetDataSet)...\n"
     ]
    }
   ],
   "source": [
    "automated_articles_features = context.catalog.load('automated_articles_features')"
   ]
  },
  {
   "cell_type": "code",
   "execution_count": 26,
   "id": "10087bb7",
   "metadata": {},
   "outputs": [
    {
     "name": "stdout",
     "output_type": "stream",
     "text": [
      "2022-08-22 15:06:19,351 - kedro.io.data_catalog - INFO - Loading data from `manual_article_features` (ParquetDataSet)...\n"
     ]
    }
   ],
   "source": [
    "manual_article_features = context.catalog.load('manual_article_features')"
   ]
  },
  {
   "cell_type": "code",
   "execution_count": 27,
   "id": "d105a734",
   "metadata": {},
   "outputs": [],
   "source": [
    "automated_articles_features = fill_na_int(automated_articles_features, count_pattern, 0)"
   ]
  },
  {
   "cell_type": "code",
   "execution_count": 28,
   "id": "9d385fe2",
   "metadata": {},
   "outputs": [
    {
     "data": {
      "text/plain": [
       "((21108, 37), (6780, 2))"
      ]
     },
     "execution_count": 28,
     "metadata": {},
     "output_type": "execute_result"
    }
   ],
   "source": [
    "automated_articles_features.shape, manual_article_features.shape"
   ]
  },
  {
   "cell_type": "code",
   "execution_count": 29,
   "id": "31f10446",
   "metadata": {},
   "outputs": [
    {
     "data": {
      "text/plain": [
       "COUNT(transactions)_7                       int64\n",
       "MAX(transactions.price)_7                 float64\n",
       "MIN(transactions.price)_7                 float64\n",
       "SUM(transactions.price)_7                 float64\n",
       "NUM_CHARACTERS(detail_desc)_7             float64\n",
       "NUM_WORDS(detail_desc)_7                  float64\n",
       "MAX(transactions.customers.age)_7         float64\n",
       "MEAN(transactions.customers.age)_7        float64\n",
       "MEDIAN(transactions.customers.age)_7      float64\n",
       "MIN(transactions.customers.age)_7         float64\n",
       "SUM(transactions.customers.age)_7         float64\n",
       "COUNT(transactions)_30                      int64\n",
       "MAX(transactions.price)_30                float64\n",
       "MIN(transactions.price)_30                float64\n",
       "SUM(transactions.price)_30                float64\n",
       "MAX(transactions.customers.age)_30        float64\n",
       "MEAN(transactions.customers.age)_30       float64\n",
       "MEDIAN(transactions.customers.age)_30     float64\n",
       "MIN(transactions.customers.age)_30        float64\n",
       "COUNT(transactions)_90                      int64\n",
       "MAX(transactions.price)_90                float64\n",
       "MEAN(transactions.price)_90               float64\n",
       "MIN(transactions.price)_90                float64\n",
       "SUM(transactions.price)_90                float64\n",
       "MAX(transactions.customers.age)_90        float64\n",
       "MEAN(transactions.customers.age)_90       float64\n",
       "MEDIAN(transactions.customers.age)_90     float64\n",
       "MIN(transactions.customers.age)_90        float64\n",
       "COUNT(transactions)_all                     int64\n",
       "MAX(transactions.price)_all               float64\n",
       "MEAN(transactions.price)_all              float64\n",
       "MIN(transactions.price)_all               float64\n",
       "SUM(transactions.price)_all               float64\n",
       "MAX(transactions.customers.age)_all       float64\n",
       "MEAN(transactions.customers.age)_all      float64\n",
       "MEDIAN(transactions.customers.age)_all    float64\n",
       "MIN(transactions.customers.age)_all       float64\n",
       "dtype: object"
      ]
     },
     "execution_count": 29,
     "metadata": {},
     "output_type": "execute_result"
    }
   ],
   "source": [
    "automated_articles_features.dtypes"
   ]
  },
  {
   "cell_type": "code",
   "execution_count": 30,
   "id": "6e3f02b0",
   "metadata": {},
   "outputs": [
    {
     "name": "stdout",
     "output_type": "stream",
     "text": [
      "Starting usage memory: 6.66\n",
      "Mem. usage decreased to  3.50 Mb (47.4% reduction)\n"
     ]
    }
   ],
   "source": [
    "automated_articles_features = reduce_mem_usage(automated_articles_features)"
   ]
  },
  {
   "cell_type": "code",
   "execution_count": 31,
   "id": "0780b595",
   "metadata": {},
   "outputs": [
    {
     "data": {
      "text/plain": [
       "COUNT(transactions)_7                        int8\n",
       "MAX(transactions.price)_7                 float32\n",
       "MIN(transactions.price)_7                 float32\n",
       "SUM(transactions.price)_7                 float32\n",
       "NUM_CHARACTERS(detail_desc)_7             float32\n",
       "NUM_WORDS(detail_desc)_7                  float32\n",
       "MAX(transactions.customers.age)_7         float32\n",
       "MEAN(transactions.customers.age)_7        float32\n",
       "MEDIAN(transactions.customers.age)_7      float32\n",
       "MIN(transactions.customers.age)_7         float32\n",
       "SUM(transactions.customers.age)_7         float32\n",
       "COUNT(transactions)_30                      int16\n",
       "MAX(transactions.price)_30                float32\n",
       "MIN(transactions.price)_30                float32\n",
       "SUM(transactions.price)_30                float32\n",
       "MAX(transactions.customers.age)_30        float32\n",
       "MEAN(transactions.customers.age)_30       float32\n",
       "MEDIAN(transactions.customers.age)_30     float32\n",
       "MIN(transactions.customers.age)_30        float32\n",
       "COUNT(transactions)_90                      int16\n",
       "MAX(transactions.price)_90                float32\n",
       "MEAN(transactions.price)_90               float32\n",
       "MIN(transactions.price)_90                float32\n",
       "SUM(transactions.price)_90                float32\n",
       "MAX(transactions.customers.age)_90        float32\n",
       "MEAN(transactions.customers.age)_90       float32\n",
       "MEDIAN(transactions.customers.age)_90     float32\n",
       "MIN(transactions.customers.age)_90        float32\n",
       "COUNT(transactions)_all                     int16\n",
       "MAX(transactions.price)_all               float32\n",
       "MEAN(transactions.price)_all              float32\n",
       "MIN(transactions.price)_all               float32\n",
       "SUM(transactions.price)_all               float32\n",
       "MAX(transactions.customers.age)_all       float32\n",
       "MEAN(transactions.customers.age)_all      float32\n",
       "MEDIAN(transactions.customers.age)_all    float32\n",
       "MIN(transactions.customers.age)_all       float32\n",
       "dtype: object"
      ]
     },
     "execution_count": 31,
     "metadata": {},
     "output_type": "execute_result"
    }
   ],
   "source": [
    "automated_articles_features.dtypes"
   ]
  },
  {
   "cell_type": "code",
   "execution_count": 32,
   "id": "ff76fa86",
   "metadata": {},
   "outputs": [
    {
     "data": {
      "text/plain": [
       "perc_rebought                 float64\n",
       "perc_article_sales_offline    float64\n",
       "dtype: object"
      ]
     },
     "execution_count": 32,
     "metadata": {},
     "output_type": "execute_result"
    }
   ],
   "source": [
    "manual_article_features.dtypes"
   ]
  },
  {
   "cell_type": "code",
   "execution_count": 33,
   "id": "6f2e5439",
   "metadata": {},
   "outputs": [
    {
     "name": "stdout",
     "output_type": "stream",
     "text": [
      "Starting usage memory: 0.16\n",
      "Mem. usage decreased to  0.10 Mb (33.3% reduction)\n"
     ]
    }
   ],
   "source": [
    "manual_article_features = reduce_mem_usage(manual_article_features)"
   ]
  },
  {
   "cell_type": "code",
   "execution_count": 34,
   "id": "d7437bd4",
   "metadata": {},
   "outputs": [
    {
     "data": {
      "text/plain": [
       "perc_rebought                 float32\n",
       "perc_article_sales_offline    float32\n",
       "dtype: object"
      ]
     },
     "execution_count": 34,
     "metadata": {},
     "output_type": "execute_result"
    }
   ],
   "source": [
    "manual_article_features.dtypes"
   ]
  },
  {
   "cell_type": "code",
   "execution_count": 35,
   "id": "f9216b37",
   "metadata": {},
   "outputs": [],
   "source": [
    "candidates = candidates.merge(automated_articles_features, how='left', on='article_id').merge(manual_article_features, how='left', on='article_id')"
   ]
  },
  {
   "cell_type": "code",
   "execution_count": 36,
   "id": "7025b4ce",
   "metadata": {},
   "outputs": [],
   "source": [
    "import gc"
   ]
  },
  {
   "cell_type": "code",
   "execution_count": 37,
   "id": "e7dd0a5a",
   "metadata": {},
   "outputs": [
    {
     "data": {
      "text/plain": [
       "1561"
      ]
     },
     "execution_count": 37,
     "metadata": {},
     "output_type": "execute_result"
    }
   ],
   "source": [
    "del automated_articles_features\n",
    "gc.collect()"
   ]
  },
  {
   "cell_type": "code",
   "execution_count": 38,
   "id": "b9d9cf42",
   "metadata": {},
   "outputs": [
    {
     "data": {
      "text/plain": [
       "0"
      ]
     },
     "execution_count": 38,
     "metadata": {},
     "output_type": "execute_result"
    }
   ],
   "source": [
    "del manual_article_features\n",
    "gc.collect()"
   ]
  },
  {
   "cell_type": "code",
   "execution_count": 39,
   "id": "7198b231",
   "metadata": {},
   "outputs": [
    {
     "data": {
      "text/plain": [
       "(3346992, 46)"
      ]
     },
     "execution_count": 39,
     "metadata": {},
     "output_type": "execute_result"
    }
   ],
   "source": [
    "candidates.shape"
   ]
  },
  {
   "cell_type": "markdown",
   "id": "d798ae2b",
   "metadata": {},
   "source": [
    "### customers"
   ]
  },
  {
   "cell_type": "code",
   "execution_count": 40,
   "id": "777039ad",
   "metadata": {},
   "outputs": [
    {
     "name": "stdout",
     "output_type": "stream",
     "text": [
      "2022-08-22 15:06:21,002 - kedro.io.data_catalog - INFO - Loading data from `automated_customers_features` (ParquetDataSet)...\n"
     ]
    }
   ],
   "source": [
    "automated_customers_features = context.catalog.load('automated_customers_features')"
   ]
  },
  {
   "cell_type": "code",
   "execution_count": 41,
   "id": "c37b7800",
   "metadata": {},
   "outputs": [
    {
     "name": "stdout",
     "output_type": "stream",
     "text": [
      "2022-08-22 15:06:21,079 - kedro.io.data_catalog - INFO - Loading data from `manual_customer_features` (ParquetDataSet)...\n"
     ]
    }
   ],
   "source": [
    "manual_customer_features = context.catalog.load('manual_customer_features')"
   ]
  },
  {
   "cell_type": "code",
   "execution_count": 42,
   "id": "7aeb9ca3",
   "metadata": {},
   "outputs": [],
   "source": [
    "automated_customers_features = fill_na_int(automated_customers_features, count_pattern, 0)"
   ]
  },
  {
   "cell_type": "code",
   "execution_count": 43,
   "id": "0c7ee06c",
   "metadata": {},
   "outputs": [],
   "source": [
    "manual_customer_features = fill_na_int(manual_customer_features, count_pattern, 0)"
   ]
  },
  {
   "cell_type": "code",
   "execution_count": 44,
   "id": "120650ea",
   "metadata": {},
   "outputs": [
    {
     "data": {
      "text/plain": [
       "COUNT(transactions)_7               int64\n",
       "SUM(transactions.price)_7         float64\n",
       "COUNT(transactions)_30              int64\n",
       "MAX(transactions.price)_30        float64\n",
       "MEAN(transactions.price)_30       float64\n",
       "MEDIAN(transactions.price)_30     float64\n",
       "MIN(transactions.price)_30        float64\n",
       "SUM(transactions.price)_30        float64\n",
       "COUNT(transactions)_90              int64\n",
       "MAX(transactions.price)_90        float64\n",
       "MEAN(transactions.price)_90       float64\n",
       "MEDIAN(transactions.price)_90     float64\n",
       "MIN(transactions.price)_90        float64\n",
       "SUM(transactions.price)_90        float64\n",
       "COUNT(transactions)_all             int64\n",
       "MAX(transactions.price)_all       float64\n",
       "MEAN(transactions.price)_all      float64\n",
       "MEDIAN(transactions.price)_all    float64\n",
       "MIN(transactions.price)_all       float64\n",
       "SUM(transactions.price)_all       float64\n",
       "dtype: object"
      ]
     },
     "execution_count": 44,
     "metadata": {},
     "output_type": "execute_result"
    }
   ],
   "source": [
    "automated_customers_features.dtypes"
   ]
  },
  {
   "cell_type": "code",
   "execution_count": 45,
   "id": "a6e50d61",
   "metadata": {},
   "outputs": [
    {
     "name": "stdout",
     "output_type": "stream",
     "text": [
      "Starting usage memory: 26.54\n",
      "Mem. usage decreased to 14.50 Mb (45.4% reduction)\n"
     ]
    }
   ],
   "source": [
    "automated_customers_features = reduce_mem_usage(automated_customers_features)"
   ]
  },
  {
   "cell_type": "code",
   "execution_count": 46,
   "id": "60ddf1a3",
   "metadata": {},
   "outputs": [
    {
     "data": {
      "text/plain": [
       "COUNT(transactions)_7                int8\n",
       "SUM(transactions.price)_7         float32\n",
       "COUNT(transactions)_30               int8\n",
       "MAX(transactions.price)_30        float32\n",
       "MEAN(transactions.price)_30       float32\n",
       "MEDIAN(transactions.price)_30     float32\n",
       "MIN(transactions.price)_30        float32\n",
       "SUM(transactions.price)_30        float32\n",
       "COUNT(transactions)_90               int8\n",
       "MAX(transactions.price)_90        float32\n",
       "MEAN(transactions.price)_90       float32\n",
       "MEDIAN(transactions.price)_90     float32\n",
       "MIN(transactions.price)_90        float32\n",
       "SUM(transactions.price)_90        float32\n",
       "COUNT(transactions)_all              int8\n",
       "MAX(transactions.price)_all       float32\n",
       "MEAN(transactions.price)_all      float32\n",
       "MEDIAN(transactions.price)_all    float32\n",
       "MIN(transactions.price)_all       float32\n",
       "SUM(transactions.price)_all       float32\n",
       "dtype: object"
      ]
     },
     "execution_count": 46,
     "metadata": {},
     "output_type": "execute_result"
    }
   ],
   "source": [
    "automated_customers_features.dtypes"
   ]
  },
  {
   "cell_type": "code",
   "execution_count": 47,
   "id": "0dfbea52",
   "metadata": {},
   "outputs": [
    {
     "data": {
      "text/plain": [
       "days_since_first_transaction                      int64\n",
       "days_since_last_transaction                       int64\n",
       "avg_purchase_span                               float64\n",
       "perc_customer_sales_offline                     float64\n",
       "count_of_article_per_customer_7                   int64\n",
       "count_of_product_group_name_per_customer_7        int64\n",
       "count_of_article_per_customer_30                  int64\n",
       "count_of_product_group_name_per_customer_30       int64\n",
       "count_of_article_per_customer_90                  int64\n",
       "count_of_product_group_name_per_customer_90       int64\n",
       "count_of_article_per_customer_all                 int64\n",
       "count_of_product_group_name_per_customer_all      int64\n",
       "dtype: object"
      ]
     },
     "execution_count": 47,
     "metadata": {},
     "output_type": "execute_result"
    }
   ],
   "source": [
    "manual_customer_features.dtypes"
   ]
  },
  {
   "cell_type": "code",
   "execution_count": 48,
   "id": "49809e2f",
   "metadata": {},
   "outputs": [
    {
     "name": "stdout",
     "output_type": "stream",
     "text": [
      "Starting usage memory: 4.87\n",
      "Mem. usage decreased to  1.31 Mb (73.1% reduction)\n"
     ]
    }
   ],
   "source": [
    "manual_customer_features = reduce_mem_usage(manual_customer_features)"
   ]
  },
  {
   "cell_type": "code",
   "execution_count": 49,
   "id": "b61c8304",
   "metadata": {},
   "outputs": [
    {
     "data": {
      "text/plain": [
       "days_since_first_transaction                      int16\n",
       "days_since_last_transaction                       int16\n",
       "avg_purchase_span                               float32\n",
       "perc_customer_sales_offline                     float32\n",
       "count_of_article_per_customer_7                    int8\n",
       "count_of_product_group_name_per_customer_7         int8\n",
       "count_of_article_per_customer_30                   int8\n",
       "count_of_product_group_name_per_customer_30        int8\n",
       "count_of_article_per_customer_90                   int8\n",
       "count_of_product_group_name_per_customer_90        int8\n",
       "count_of_article_per_customer_all                  int8\n",
       "count_of_product_group_name_per_customer_all       int8\n",
       "dtype: object"
      ]
     },
     "execution_count": 49,
     "metadata": {},
     "output_type": "execute_result"
    }
   ],
   "source": [
    "manual_customer_features.dtypes"
   ]
  },
  {
   "cell_type": "code",
   "execution_count": 50,
   "id": "e0910c3f",
   "metadata": {},
   "outputs": [
    {
     "data": {
      "text/plain": [
       "days_since_first_transaction                        0\n",
       "days_since_last_transaction                         0\n",
       "avg_purchase_span                               26957\n",
       "perc_customer_sales_offline                         0\n",
       "count_of_article_per_customer_7                     0\n",
       "count_of_product_group_name_per_customer_7          0\n",
       "count_of_article_per_customer_30                    0\n",
       "count_of_product_group_name_per_customer_30         0\n",
       "count_of_article_per_customer_90                    0\n",
       "count_of_product_group_name_per_customer_90         0\n",
       "count_of_article_per_customer_all                   0\n",
       "count_of_product_group_name_per_customer_all        0\n",
       "dtype: int64"
      ]
     },
     "execution_count": 50,
     "metadata": {},
     "output_type": "execute_result"
    }
   ],
   "source": [
    "manual_customer_features.isna().sum()"
   ]
  },
  {
   "cell_type": "code",
   "execution_count": 51,
   "id": "f602d032",
   "metadata": {},
   "outputs": [
    {
     "data": {
      "text/plain": [
       "((137198, 20), (49145, 12))"
      ]
     },
     "execution_count": 51,
     "metadata": {},
     "output_type": "execute_result"
    }
   ],
   "source": [
    "automated_customers_features.shape, manual_customer_features.shape"
   ]
  },
  {
   "cell_type": "code",
   "execution_count": 52,
   "id": "d001a9a1",
   "metadata": {},
   "outputs": [],
   "source": [
    "candidates = candidates.merge(automated_customers_features, how='left', on='customer_id').merge(manual_customer_features, how='left', on='customer_id')"
   ]
  },
  {
   "cell_type": "code",
   "execution_count": 53,
   "id": "b7bec76c",
   "metadata": {},
   "outputs": [],
   "source": [
    "candidates = fill_na_int(candidates, count_pattern, 0)"
   ]
  },
  {
   "cell_type": "code",
   "execution_count": 54,
   "id": "27ad1f8b",
   "metadata": {},
   "outputs": [
    {
     "name": "stdout",
     "output_type": "stream",
     "text": [
      "Starting usage memory: 1279.97\n",
      "Mem. usage decreased to 906.51 Mb (29.2% reduction)\n"
     ]
    }
   ],
   "source": [
    "candidates = reduce_mem_usage(candidates)"
   ]
  },
  {
   "cell_type": "code",
   "execution_count": null,
   "id": "4cb19700",
   "metadata": {},
   "outputs": [],
   "source": []
  },
  {
   "cell_type": "code",
   "execution_count": 55,
   "id": "eaae7c4e",
   "metadata": {},
   "outputs": [
    {
     "data": {
      "text/plain": [
       "44"
      ]
     },
     "execution_count": 55,
     "metadata": {},
     "output_type": "execute_result"
    }
   ],
   "source": [
    "del automated_customers_features\n",
    "gc.collect()"
   ]
  },
  {
   "cell_type": "code",
   "execution_count": 56,
   "id": "6cd95086",
   "metadata": {},
   "outputs": [
    {
     "data": {
      "text/plain": [
       "0"
      ]
     },
     "execution_count": 56,
     "metadata": {},
     "output_type": "execute_result"
    }
   ],
   "source": [
    "del manual_customer_features\n",
    "gc.collect()"
   ]
  },
  {
   "cell_type": "code",
   "execution_count": 57,
   "id": "03d9807f",
   "metadata": {},
   "outputs": [
    {
     "data": {
      "text/plain": [
       "(3346992, 78)"
      ]
     },
     "execution_count": 57,
     "metadata": {},
     "output_type": "execute_result"
    }
   ],
   "source": [
    "candidates.shape"
   ]
  },
  {
   "cell_type": "code",
   "execution_count": 58,
   "id": "15b82286",
   "metadata": {},
   "outputs": [],
   "source": [
    "pd.set_option('display.max_rows', None)"
   ]
  },
  {
   "cell_type": "code",
   "execution_count": 59,
   "id": "5a4da2c7",
   "metadata": {},
   "outputs": [
    {
     "data": {
      "text/plain": [
       "customer_id                                      object\n",
       "article_id                                       object\n",
       "strategy_name                                    object\n",
       "articles_jaccard_similarity                     float32\n",
       "image_cosine_similarity                         float32\n",
       "text_cosine_similarity                          float32\n",
       "label                                              int8\n",
       "COUNT(transactions)_7_x                            int8\n",
       "MAX(transactions.price)_7                       float32\n",
       "MIN(transactions.price)_7                       float32\n",
       "SUM(transactions.price)_7_x                     float32\n",
       "NUM_CHARACTERS(detail_desc)_7                   float32\n",
       "NUM_WORDS(detail_desc)_7                        float32\n",
       "MAX(transactions.customers.age)_7               float32\n",
       "MEAN(transactions.customers.age)_7              float32\n",
       "MEDIAN(transactions.customers.age)_7            float32\n",
       "MIN(transactions.customers.age)_7               float32\n",
       "SUM(transactions.customers.age)_7               float32\n",
       "COUNT(transactions)_30_x                          int16\n",
       "MAX(transactions.price)_30_x                    float32\n",
       "MIN(transactions.price)_30_x                    float32\n",
       "SUM(transactions.price)_30_x                    float32\n",
       "MAX(transactions.customers.age)_30              float32\n",
       "MEAN(transactions.customers.age)_30             float32\n",
       "MEDIAN(transactions.customers.age)_30           float32\n",
       "MIN(transactions.customers.age)_30              float32\n",
       "COUNT(transactions)_90_x                          int16\n",
       "MAX(transactions.price)_90_x                    float32\n",
       "MEAN(transactions.price)_90_x                   float32\n",
       "MIN(transactions.price)_90_x                    float32\n",
       "SUM(transactions.price)_90_x                    float32\n",
       "MAX(transactions.customers.age)_90              float32\n",
       "MEAN(transactions.customers.age)_90             float32\n",
       "MEDIAN(transactions.customers.age)_90           float32\n",
       "MIN(transactions.customers.age)_90              float32\n",
       "COUNT(transactions)_all_x                         int16\n",
       "MAX(transactions.price)_all_x                   float32\n",
       "MEAN(transactions.price)_all_x                  float32\n",
       "MIN(transactions.price)_all_x                   float32\n",
       "SUM(transactions.price)_all_x                   float32\n",
       "MAX(transactions.customers.age)_all             float32\n",
       "MEAN(transactions.customers.age)_all            float32\n",
       "MEDIAN(transactions.customers.age)_all          float32\n",
       "MIN(transactions.customers.age)_all             float32\n",
       "perc_rebought                                   float32\n",
       "perc_article_sales_offline                      float32\n",
       "COUNT(transactions)_7_y                            int8\n",
       "SUM(transactions.price)_7_y                     float32\n",
       "COUNT(transactions)_30_y                           int8\n",
       "MAX(transactions.price)_30_y                    float32\n",
       "MEAN(transactions.price)_30                     float32\n",
       "MEDIAN(transactions.price)_30                   float32\n",
       "MIN(transactions.price)_30_y                    float32\n",
       "SUM(transactions.price)_30_y                    float32\n",
       "COUNT(transactions)_90_y                           int8\n",
       "MAX(transactions.price)_90_y                    float32\n",
       "MEAN(transactions.price)_90_y                   float32\n",
       "MEDIAN(transactions.price)_90                   float32\n",
       "MIN(transactions.price)_90_y                    float32\n",
       "SUM(transactions.price)_90_y                    float32\n",
       "COUNT(transactions)_all_y                          int8\n",
       "MAX(transactions.price)_all_y                   float32\n",
       "MEAN(transactions.price)_all_y                  float32\n",
       "MEDIAN(transactions.price)_all                  float32\n",
       "MIN(transactions.price)_all_y                   float32\n",
       "SUM(transactions.price)_all_y                   float32\n",
       "days_since_first_transaction                    float32\n",
       "days_since_last_transaction                     float32\n",
       "avg_purchase_span                               float32\n",
       "perc_customer_sales_offline                     float32\n",
       "count_of_article_per_customer_7                    int8\n",
       "count_of_product_group_name_per_customer_7         int8\n",
       "count_of_article_per_customer_30                   int8\n",
       "count_of_product_group_name_per_customer_30        int8\n",
       "count_of_article_per_customer_90                   int8\n",
       "count_of_product_group_name_per_customer_90        int8\n",
       "count_of_article_per_customer_all                  int8\n",
       "count_of_product_group_name_per_customer_all       int8\n",
       "dtype: object"
      ]
     },
     "execution_count": 59,
     "metadata": {},
     "output_type": "execute_result"
    }
   ],
   "source": [
    "candidates.dtypes"
   ]
  },
  {
   "cell_type": "code",
   "execution_count": 60,
   "id": "8122b5ea",
   "metadata": {},
   "outputs": [],
   "source": [
    "pd.set_option('display.max_rows', 10)"
   ]
  },
  {
   "cell_type": "code",
   "execution_count": 61,
   "id": "e9b214e8",
   "metadata": {},
   "outputs": [],
   "source": [
    "candidates['strategy_name'] = candidates['strategy_name'].astype('category')"
   ]
  },
  {
   "cell_type": "code",
   "execution_count": 62,
   "id": "ced49669",
   "metadata": {
    "scrolled": true
   },
   "outputs": [
    {
     "data": {
      "text/plain": [
       "884.1676750183105"
      ]
     },
     "execution_count": 62,
     "metadata": {},
     "output_type": "execute_result"
    }
   ],
   "source": [
    "candidates.memory_usage().sum() / 1024**2"
   ]
  },
  {
   "cell_type": "markdown",
   "id": "174f22eb",
   "metadata": {},
   "source": [
    "### dictionary features"
   ]
  },
  {
   "cell_type": "code",
   "execution_count": 63,
   "id": "9d974b68",
   "metadata": {},
   "outputs": [
    {
     "name": "stdout",
     "output_type": "stream",
     "text": [
      "2022-08-22 15:06:28,659 - kedro.io.data_catalog - INFO - Loading data from `articles` (CSVDataSet)...\n"
     ]
    }
   ],
   "source": [
    "articles = context.catalog.load('articles')"
   ]
  },
  {
   "cell_type": "code",
   "execution_count": 64,
   "id": "302f2961",
   "metadata": {},
   "outputs": [
    {
     "name": "stdout",
     "output_type": "stream",
     "text": [
      "2022-08-22 15:06:28,975 - kedro.io.data_catalog - INFO - Loading data from `customers` (CSVDataSet)...\n"
     ]
    }
   ],
   "source": [
    "customers = context.catalog.load('customers')"
   ]
  },
  {
   "cell_type": "code",
   "execution_count": 65,
   "id": "51af7c4b",
   "metadata": {},
   "outputs": [],
   "source": [
    "drop_cols_articles = ['prod_name', 'product_type_name', 'graphical_appearance_name', 'colour_group_name', 'perceived_colour_value_name', 'perceived_colour_master_name', 'index_name', 'index_group_name', 'section_name', 'garment_group_name', 'detail_desc']"
   ]
  },
  {
   "cell_type": "code",
   "execution_count": 66,
   "id": "e358bf64",
   "metadata": {},
   "outputs": [],
   "source": [
    "# these cols are just the same values as _no (OR SIMILAR, HAVEN'T CHECKED) but mostly DUPLICATES\n",
    "articles.drop(drop_cols_articles, axis=1, inplace=True)"
   ]
  },
  {
   "cell_type": "code",
   "execution_count": null,
   "id": "ee082620",
   "metadata": {},
   "outputs": [],
   "source": []
  },
  {
   "cell_type": "code",
   "execution_count": 67,
   "id": "a213d47c",
   "metadata": {},
   "outputs": [
    {
     "data": {
      "text/plain": [
       "article_id                 object\n",
       "product_code                int64\n",
       "product_type_no             int64\n",
       "product_group_name         object\n",
       "graphical_appearance_no     int64\n",
       "                            ...  \n",
       "department_name            object\n",
       "index_code                 object\n",
       "index_group_no              int64\n",
       "section_no                  int64\n",
       "garment_group_no            int64\n",
       "Length: 14, dtype: object"
      ]
     },
     "execution_count": 67,
     "metadata": {},
     "output_type": "execute_result"
    }
   ],
   "source": [
    "articles.dtypes"
   ]
  },
  {
   "cell_type": "code",
   "execution_count": 68,
   "id": "cd2704fa",
   "metadata": {},
   "outputs": [
    {
     "name": "stdout",
     "output_type": "stream",
     "text": [
      "Starting usage memory: 11.27\n",
      "Mem. usage decreased to  5.13 Mb (54.5% reduction)\n"
     ]
    }
   ],
   "source": [
    "articles = reduce_mem_usage(articles)"
   ]
  },
  {
   "cell_type": "code",
   "execution_count": 69,
   "id": "5652fca9",
   "metadata": {},
   "outputs": [
    {
     "data": {
      "text/plain": [
       "article_id                 object\n",
       "product_code                int32\n",
       "product_type_no             int16\n",
       "product_group_name         object\n",
       "graphical_appearance_no     int32\n",
       "                            ...  \n",
       "department_name            object\n",
       "index_code                 object\n",
       "index_group_no               int8\n",
       "section_no                   int8\n",
       "garment_group_no            int16\n",
       "Length: 14, dtype: object"
      ]
     },
     "execution_count": 69,
     "metadata": {},
     "output_type": "execute_result"
    }
   ],
   "source": [
    "articles.dtypes"
   ]
  },
  {
   "cell_type": "code",
   "execution_count": 70,
   "id": "b2db58fa",
   "metadata": {},
   "outputs": [
    {
     "data": {
      "text/plain": [
       "customer_id                object\n",
       "FN                        float64\n",
       "Active                    float64\n",
       "club_member_status         object\n",
       "fashion_news_frequency     object\n",
       "age                       float64\n",
       "postal_code                object\n",
       "dtype: object"
      ]
     },
     "execution_count": 70,
     "metadata": {},
     "output_type": "execute_result"
    }
   ],
   "source": [
    "customers.dtypes"
   ]
  },
  {
   "cell_type": "code",
   "execution_count": 71,
   "id": "48e3feb1",
   "metadata": {},
   "outputs": [
    {
     "name": "stdout",
     "output_type": "stream",
     "text": [
      "Starting usage memory: 73.27\n",
      "Mem. usage decreased to 57.57 Mb (21.4% reduction)\n"
     ]
    }
   ],
   "source": [
    "customers = reduce_mem_usage(customers)"
   ]
  },
  {
   "cell_type": "code",
   "execution_count": 72,
   "id": "c8ea5faf",
   "metadata": {},
   "outputs": [
    {
     "data": {
      "text/plain": [
       "customer_id                object\n",
       "FN                        float32\n",
       "Active                    float32\n",
       "club_member_status         object\n",
       "fashion_news_frequency     object\n",
       "age                       float32\n",
       "postal_code                object\n",
       "dtype: object"
      ]
     },
     "execution_count": 72,
     "metadata": {},
     "output_type": "execute_result"
    }
   ],
   "source": [
    "customers.dtypes"
   ]
  },
  {
   "cell_type": "code",
   "execution_count": 73,
   "id": "ee565365",
   "metadata": {},
   "outputs": [],
   "source": [
    "candidates = candidates.merge(customers, how='left', on='customer_id')"
   ]
  },
  {
   "cell_type": "code",
   "execution_count": 74,
   "id": "fb49c357",
   "metadata": {},
   "outputs": [
    {
     "data": {
      "text/plain": [
       "44"
      ]
     },
     "execution_count": 74,
     "metadata": {},
     "output_type": "execute_result"
    }
   ],
   "source": [
    "del customers\n",
    "gc.collect()"
   ]
  },
  {
   "cell_type": "code",
   "execution_count": null,
   "id": "8d8a06b2",
   "metadata": {},
   "outputs": [],
   "source": []
  },
  {
   "cell_type": "code",
   "execution_count": null,
   "id": "234bb4b9",
   "metadata": {},
   "outputs": [],
   "source": []
  },
  {
   "cell_type": "code",
   "execution_count": 75,
   "id": "d9383643",
   "metadata": {},
   "outputs": [],
   "source": [
    "candidates = candidates.merge(articles, how='left', on='article_id')"
   ]
  },
  {
   "cell_type": "code",
   "execution_count": 76,
   "id": "7c8e5204",
   "metadata": {},
   "outputs": [
    {
     "data": {
      "text/plain": [
       "0"
      ]
     },
     "execution_count": 76,
     "metadata": {},
     "output_type": "execute_result"
    }
   ],
   "source": [
    "del articles\n",
    "gc.collect()"
   ]
  },
  {
   "cell_type": "code",
   "execution_count": 77,
   "id": "ee895271",
   "metadata": {},
   "outputs": [
    {
     "name": "stdout",
     "output_type": "stream",
     "text": [
      "Starting usage memory: 1136.33\n",
      "Mem. usage decreased to 1136.33 Mb (0.0% reduction)\n"
     ]
    }
   ],
   "source": [
    "candidates = reduce_mem_usage(candidates)"
   ]
  },
  {
   "cell_type": "code",
   "execution_count": 78,
   "id": "4d185419",
   "metadata": {},
   "outputs": [
    {
     "data": {
      "text/plain": [
       "(3346992, 97)"
      ]
     },
     "execution_count": 78,
     "metadata": {},
     "output_type": "execute_result"
    }
   ],
   "source": [
    "candidates.shape"
   ]
  },
  {
   "cell_type": "code",
   "execution_count": 79,
   "id": "2f3a6146",
   "metadata": {},
   "outputs": [],
   "source": [
    "candidates.loc[:, ['index_code', 'club_member_status',\n",
    "       'fashion_news_frequency', 'postal_code', 'product_group_name',\n",
    "       'department_name', 'FN', 'Active']] = candidates.loc[:, ['index_code',\n",
    "                                                                'club_member_status',\n",
    "       'fashion_news_frequency', 'postal_code', 'product_group_name',\n",
    "       'department_name', 'FN', 'Active']].astype('category')"
   ]
  },
  {
   "cell_type": "code",
   "execution_count": null,
   "id": "190eef7c",
   "metadata": {},
   "outputs": [],
   "source": []
  },
  {
   "cell_type": "code",
   "execution_count": null,
   "id": "5ce4528f",
   "metadata": {},
   "outputs": [],
   "source": []
  },
  {
   "cell_type": "code",
   "execution_count": 80,
   "id": "f8f2a5bd",
   "metadata": {},
   "outputs": [],
   "source": [
    "pd.set_option('display.max_rows', None)"
   ]
  },
  {
   "cell_type": "code",
   "execution_count": 81,
   "id": "75ad3b44",
   "metadata": {},
   "outputs": [
    {
     "data": {
      "text/plain": [
       "customer_id                                       object\n",
       "article_id                                        object\n",
       "strategy_name                                   category\n",
       "articles_jaccard_similarity                      float32\n",
       "image_cosine_similarity                          float32\n",
       "text_cosine_similarity                           float32\n",
       "label                                               int8\n",
       "COUNT(transactions)_7_x                             int8\n",
       "MAX(transactions.price)_7                        float32\n",
       "MIN(transactions.price)_7                        float32\n",
       "SUM(transactions.price)_7_x                      float32\n",
       "NUM_CHARACTERS(detail_desc)_7                    float32\n",
       "NUM_WORDS(detail_desc)_7                         float32\n",
       "MAX(transactions.customers.age)_7                float32\n",
       "MEAN(transactions.customers.age)_7               float32\n",
       "MEDIAN(transactions.customers.age)_7             float32\n",
       "MIN(transactions.customers.age)_7                float32\n",
       "SUM(transactions.customers.age)_7                float32\n",
       "COUNT(transactions)_30_x                           int16\n",
       "MAX(transactions.price)_30_x                     float32\n",
       "MIN(transactions.price)_30_x                     float32\n",
       "SUM(transactions.price)_30_x                     float32\n",
       "MAX(transactions.customers.age)_30               float32\n",
       "MEAN(transactions.customers.age)_30              float32\n",
       "MEDIAN(transactions.customers.age)_30            float32\n",
       "MIN(transactions.customers.age)_30               float32\n",
       "COUNT(transactions)_90_x                           int16\n",
       "MAX(transactions.price)_90_x                     float32\n",
       "MEAN(transactions.price)_90_x                    float32\n",
       "MIN(transactions.price)_90_x                     float32\n",
       "SUM(transactions.price)_90_x                     float32\n",
       "MAX(transactions.customers.age)_90               float32\n",
       "MEAN(transactions.customers.age)_90              float32\n",
       "MEDIAN(transactions.customers.age)_90            float32\n",
       "MIN(transactions.customers.age)_90               float32\n",
       "COUNT(transactions)_all_x                          int16\n",
       "MAX(transactions.price)_all_x                    float32\n",
       "MEAN(transactions.price)_all_x                   float32\n",
       "MIN(transactions.price)_all_x                    float32\n",
       "SUM(transactions.price)_all_x                    float32\n",
       "MAX(transactions.customers.age)_all              float32\n",
       "MEAN(transactions.customers.age)_all             float32\n",
       "MEDIAN(transactions.customers.age)_all           float32\n",
       "MIN(transactions.customers.age)_all              float32\n",
       "perc_rebought                                    float32\n",
       "perc_article_sales_offline                       float32\n",
       "COUNT(transactions)_7_y                             int8\n",
       "SUM(transactions.price)_7_y                      float32\n",
       "COUNT(transactions)_30_y                            int8\n",
       "MAX(transactions.price)_30_y                     float32\n",
       "MEAN(transactions.price)_30                      float32\n",
       "MEDIAN(transactions.price)_30                    float32\n",
       "MIN(transactions.price)_30_y                     float32\n",
       "SUM(transactions.price)_30_y                     float32\n",
       "COUNT(transactions)_90_y                            int8\n",
       "MAX(transactions.price)_90_y                     float32\n",
       "MEAN(transactions.price)_90_y                    float32\n",
       "MEDIAN(transactions.price)_90                    float32\n",
       "MIN(transactions.price)_90_y                     float32\n",
       "SUM(transactions.price)_90_y                     float32\n",
       "COUNT(transactions)_all_y                           int8\n",
       "MAX(transactions.price)_all_y                    float32\n",
       "MEAN(transactions.price)_all_y                   float32\n",
       "MEDIAN(transactions.price)_all                   float32\n",
       "MIN(transactions.price)_all_y                    float32\n",
       "SUM(transactions.price)_all_y                    float32\n",
       "days_since_first_transaction                     float32\n",
       "days_since_last_transaction                      float32\n",
       "avg_purchase_span                                float32\n",
       "perc_customer_sales_offline                      float32\n",
       "count_of_article_per_customer_7                     int8\n",
       "count_of_product_group_name_per_customer_7          int8\n",
       "count_of_article_per_customer_30                    int8\n",
       "count_of_product_group_name_per_customer_30         int8\n",
       "count_of_article_per_customer_90                    int8\n",
       "count_of_product_group_name_per_customer_90         int8\n",
       "count_of_article_per_customer_all                   int8\n",
       "count_of_product_group_name_per_customer_all        int8\n",
       "FN                                              category\n",
       "Active                                          category\n",
       "club_member_status                              category\n",
       "fashion_news_frequency                          category\n",
       "age                                              float32\n",
       "postal_code                                     category\n",
       "product_code                                       int32\n",
       "product_type_no                                    int16\n",
       "product_group_name                              category\n",
       "graphical_appearance_no                            int32\n",
       "colour_group_code                                   int8\n",
       "perceived_colour_value_id                           int8\n",
       "perceived_colour_master_id                          int8\n",
       "department_no                                      int16\n",
       "department_name                                 category\n",
       "index_code                                      category\n",
       "index_group_no                                      int8\n",
       "section_no                                          int8\n",
       "garment_group_no                                   int16\n",
       "dtype: object"
      ]
     },
     "execution_count": 81,
     "metadata": {},
     "output_type": "execute_result"
    }
   ],
   "source": [
    "candidates.dtypes"
   ]
  },
  {
   "cell_type": "code",
   "execution_count": 82,
   "id": "ff9c17d7",
   "metadata": {},
   "outputs": [],
   "source": [
    "pd.set_option('display.max_rows', 10)"
   ]
  },
  {
   "cell_type": "code",
   "execution_count": 83,
   "id": "77928285",
   "metadata": {
    "scrolled": true
   },
   "outputs": [
    {
     "data": {
      "text/plain": [
       "989.833179473877"
      ]
     },
     "execution_count": 83,
     "metadata": {},
     "output_type": "execute_result"
    }
   ],
   "source": [
    "candidates.memory_usage().sum() / 1024**2"
   ]
  },
  {
   "cell_type": "markdown",
   "id": "8c1c704a",
   "metadata": {},
   "source": [
    "### why would anybody do that?"
   ]
  },
  {
   "cell_type": "markdown",
   "id": "05ecd3ad",
   "metadata": {},
   "source": [
    "lol, bad"
   ]
  },
  {
   "cell_type": "code",
   "execution_count": 54,
   "id": "e7b43a2c",
   "metadata": {},
   "outputs": [],
   "source": [
    "candidates = candidates.convert_dtypes(convert_string=False, convert_floating=False)"
   ]
  },
  {
   "cell_type": "code",
   "execution_count": 55,
   "id": "a2439479",
   "metadata": {
    "scrolled": true
   },
   "outputs": [
    {
     "data": {
      "text/plain": [
       "9676.534309387207"
      ]
     },
     "execution_count": 55,
     "metadata": {},
     "output_type": "execute_result"
    }
   ],
   "source": [
    "candidates.memory_usage().sum() / 1024**2"
   ]
  },
  {
   "cell_type": "code",
   "execution_count": null,
   "id": "fbd081b7",
   "metadata": {},
   "outputs": [],
   "source": []
  },
  {
   "cell_type": "markdown",
   "id": "2781d365",
   "metadata": {},
   "source": [
    "### import lightgbm"
   ]
  },
  {
   "cell_type": "code",
   "execution_count": 84,
   "id": "54ebc5aa",
   "metadata": {},
   "outputs": [],
   "source": [
    "import lightgbm as lgb"
   ]
  },
  {
   "cell_type": "code",
   "execution_count": 85,
   "id": "b701b71b",
   "metadata": {},
   "outputs": [
    {
     "data": {
      "text/plain": [
       "Index(['strategy_name', 'FN', 'Active', 'club_member_status',\n",
       "       'fashion_news_frequency', 'postal_code', 'product_group_name',\n",
       "       'department_name', 'index_code'],\n",
       "      dtype='object')"
      ]
     },
     "execution_count": 85,
     "metadata": {},
     "output_type": "execute_result"
    }
   ],
   "source": [
    "candidates.select_dtypes(include='category').columns"
   ]
  },
  {
   "cell_type": "code",
   "execution_count": 86,
   "id": "5919886f",
   "metadata": {},
   "outputs": [
    {
     "data": {
      "text/plain": [
       "0.0009560823569342263"
      ]
     },
     "execution_count": 86,
     "metadata": {},
     "output_type": "execute_result"
    }
   ],
   "source": [
    "# train positive rate\n",
    "candidates.label.mean() * 10"
   ]
  },
  {
   "cell_type": "markdown",
   "id": "0b214867",
   "metadata": {},
   "source": [
    "# \n",
    "ignore customers with full negative samples\n",
    "candidates.groupby(['customer_id'])['label'].max().reset_index().where()"
   ]
  },
  {
   "cell_type": "code",
   "execution_count": 87,
   "id": "7521fd09",
   "metadata": {},
   "outputs": [],
   "source": [
    "features = [col for col in candidates.columns if col not in ['label', 'customer_id', 'article_id']]"
   ]
  },
  {
   "cell_type": "code",
   "execution_count": 88,
   "id": "b900853f",
   "metadata": {},
   "outputs": [],
   "source": [
    "cat_features = candidates.select_dtypes(include='category').columns.to_list()"
   ]
  },
  {
   "cell_type": "code",
   "execution_count": 89,
   "id": "8f2a048a",
   "metadata": {},
   "outputs": [],
   "source": [
    "cat_features = ['strategy_name',\n",
    " 'FN',\n",
    " 'Active',\n",
    " 'club_member_status',\n",
    " 'fashion_news_frequency',\n",
    " 'postal_code',\n",
    " 'product_group_name',\n",
    " 'department_name',\n",
    " 'index_code']"
   ]
  },
  {
   "cell_type": "code",
   "execution_count": 90,
   "id": "d084514b",
   "metadata": {},
   "outputs": [
    {
     "data": {
      "text/plain": [
       "['strategy_name',\n",
       " 'FN',\n",
       " 'Active',\n",
       " 'club_member_status',\n",
       " 'fashion_news_frequency',\n",
       " 'postal_code',\n",
       " 'product_group_name',\n",
       " 'department_name',\n",
       " 'index_code']"
      ]
     },
     "execution_count": 90,
     "metadata": {},
     "output_type": "execute_result"
    }
   ],
   "source": [
    "cat_features"
   ]
  },
  {
   "cell_type": "code",
   "execution_count": 91,
   "id": "757cd64b",
   "metadata": {},
   "outputs": [],
   "source": [
    "params = {\n",
    "    \"objective\": \"lambdarank\",\n",
    "    \"boosting_type\": \"gbdt\",\n",
    "    \"metric\": \"map\",\n",
    "    \"max_depth\": 8,\n",
    "    \"num_leaves\": 128,\n",
    "    \"learning_rate\": 0.03,\n",
    "    \"verbose\": -1,\n",
    "    \"eval_at\": 12,\n",
    "    # 'device':'gpu'\n",
    "}"
   ]
  },
  {
   "cell_type": "code",
   "execution_count": 92,
   "id": "75f256bf",
   "metadata": {},
   "outputs": [],
   "source": [
    "validation_customers = pd.DataFrame(candidates.customer_id.unique()).sample(frac=0.2).iloc[:, 0].values"
   ]
  },
  {
   "cell_type": "code",
   "execution_count": 93,
   "id": "f187b8d5",
   "metadata": {},
   "outputs": [
    {
     "data": {
      "text/plain": [
       "2000"
      ]
     },
     "execution_count": 93,
     "metadata": {},
     "output_type": "execute_result"
    }
   ],
   "source": [
    "len(validation_customers)"
   ]
  },
  {
   "cell_type": "code",
   "execution_count": 94,
   "id": "9471d3cc",
   "metadata": {},
   "outputs": [],
   "source": [
    "train_candidates = candidates[~(candidates.customer_id.isin(validation_customers))]\n",
    "val_candidates = candidates[candidates.customer_id.isin(validation_customers)]"
   ]
  },
  {
   "cell_type": "code",
   "execution_count": 95,
   "id": "c4c51cda",
   "metadata": {},
   "outputs": [
    {
     "data": {
      "text/plain": [
       "((2677606, 97), (669386, 97))"
      ]
     },
     "execution_count": 95,
     "metadata": {},
     "output_type": "execute_result"
    }
   ],
   "source": [
    "train_candidates.shape, val_candidates.shape"
   ]
  },
  {
   "cell_type": "code",
   "execution_count": 96,
   "id": "0f30121d",
   "metadata": {},
   "outputs": [
    {
     "data": {
      "text/plain": [
       "(8000, 2000)"
      ]
     },
     "execution_count": 96,
     "metadata": {},
     "output_type": "execute_result"
    }
   ],
   "source": [
    "train_candidates.customer_id.nunique(), val_candidates.customer_id.nunique()"
   ]
  },
  {
   "cell_type": "markdown",
   "id": "32cca9fa",
   "metadata": {},
   "source": [
    "##### groups"
   ]
  },
  {
   "cell_type": "code",
   "execution_count": 97,
   "id": "ee215415",
   "metadata": {},
   "outputs": [],
   "source": [
    "train_group = train_candidates[['customer_id', 'article_id']]"
   ]
  },
  {
   "cell_type": "code",
   "execution_count": 98,
   "id": "f6cbb0ef",
   "metadata": {},
   "outputs": [],
   "source": [
    "train_group = train_group.groupby(['customer_id']).size().values"
   ]
  },
  {
   "cell_type": "code",
   "execution_count": 99,
   "id": "1b142408",
   "metadata": {},
   "outputs": [],
   "source": [
    "val_group = val_candidates[['customer_id', 'article_id']]"
   ]
  },
  {
   "cell_type": "code",
   "execution_count": 100,
   "id": "dea74252",
   "metadata": {},
   "outputs": [],
   "source": [
    "val_group = val_group.groupby(['customer_id']).size().values"
   ]
  },
  {
   "cell_type": "markdown",
   "id": "79fc96e2",
   "metadata": {},
   "source": [
    "##### datasets"
   ]
  },
  {
   "cell_type": "code",
   "execution_count": 101,
   "id": "6c3e109a",
   "metadata": {},
   "outputs": [],
   "source": [
    "train_set = lgb.Dataset(\n",
    "        data=train_candidates[features],\n",
    "        label=train_candidates[\"label\"],\n",
    "        group=train_group,\n",
    "        feature_name=features,\n",
    "        categorical_feature=cat_features,\n",
    "        params=params,\n",
    "    )"
   ]
  },
  {
   "cell_type": "code",
   "execution_count": 102,
   "id": "6ff27e34",
   "metadata": {},
   "outputs": [],
   "source": [
    "val_set = lgb.Dataset(\n",
    "        data=val_candidates[features],\n",
    "        label=val_candidates[\"label\"],\n",
    "        group=val_group,\n",
    "        feature_name=features,\n",
    "        categorical_feature=cat_features,\n",
    "        params=params,\n",
    "    )"
   ]
  },
  {
   "cell_type": "markdown",
   "id": "06ed6510",
   "metadata": {},
   "source": [
    "del candidates\n",
    "gc.collect()"
   ]
  },
  {
   "cell_type": "code",
   "execution_count": 103,
   "id": "82592a75",
   "metadata": {},
   "outputs": [
    {
     "name": "stderr",
     "output_type": "stream",
     "text": [
      "/Users/mmadej/Desktop/Projects/gid-ml-framework/.venv/lib/python3.8/site-packages/lightgbm/basic.py:2065: UserWarning: Using categorical_feature in Dataset.\n",
      "  _log_warning('Using categorical_feature in Dataset.')\n",
      "/Users/mmadej/Desktop/Projects/gid-ml-framework/.venv/lib/python3.8/site-packages/lightgbm/basic.py:1780: UserWarning: Overriding the parameters from Reference Dataset.\n",
      "  _log_warning('Overriding the parameters from Reference Dataset.')\n",
      "/Users/mmadej/Desktop/Projects/gid-ml-framework/.venv/lib/python3.8/site-packages/lightgbm/basic.py:1513: UserWarning: categorical_column in param dict is overridden.\n",
      "  _log_warning(f'{cat_alias} in param dict is overridden.')\n"
     ]
    },
    {
     "name": "stdout",
     "output_type": "stream",
     "text": [
      "[1]\tvalid_0's map@12: 0.990436\n",
      "[2]\tvalid_0's map@12: 0.993439\n",
      "[3]\tvalid_0's map@12: 0.994622\n",
      "[4]\tvalid_0's map@12: 0.995803\n",
      "[5]\tvalid_0's map@12: 0.996042\n",
      "[6]\tvalid_0's map@12: 0.996086\n",
      "[7]\tvalid_0's map@12: 0.996132\n",
      "[8]\tvalid_0's map@12: 0.995635\n",
      "[9]\tvalid_0's map@12: 0.995471\n",
      "[10]\tvalid_0's map@12: 0.995491\n",
      "[11]\tvalid_0's map@12: 0.995782\n",
      "[12]\tvalid_0's map@12: 0.995719\n",
      "[13]\tvalid_0's map@12: 0.995764\n",
      "[14]\tvalid_0's map@12: 0.995777\n",
      "[15]\tvalid_0's map@12: 0.995519\n",
      "[16]\tvalid_0's map@12: 0.995648\n",
      "[17]\tvalid_0's map@12: 0.995654\n",
      "[18]\tvalid_0's map@12: 0.995604\n",
      "[19]\tvalid_0's map@12: 0.995582\n",
      "[20]\tvalid_0's map@12: 0.995582\n",
      "[21]\tvalid_0's map@12: 0.99561\n",
      "[22]\tvalid_0's map@12: 0.995619\n",
      "[23]\tvalid_0's map@12: 0.995656\n",
      "[24]\tvalid_0's map@12: 0.995671\n",
      "[25]\tvalid_0's map@12: 0.995648\n",
      "[26]\tvalid_0's map@12: 0.995648\n",
      "[27]\tvalid_0's map@12: 0.995898\n",
      "[28]\tvalid_0's map@12: 0.996186\n",
      "[29]\tvalid_0's map@12: 0.996186\n",
      "[30]\tvalid_0's map@12: 0.996186\n"
     ]
    }
   ],
   "source": [
    "ranker = lgb.train(\n",
    "        params,\n",
    "        train_set,\n",
    "        valid_sets=[val_set],\n",
    "        num_boost_round=30,\n",
    "    )"
   ]
  },
  {
   "cell_type": "code",
   "execution_count": 104,
   "id": "7d39d486",
   "metadata": {},
   "outputs": [
    {
     "data": {
      "text/plain": [
       "<lightgbm.basic.Booster at 0x13f7ebcd0>"
      ]
     },
     "execution_count": 104,
     "metadata": {},
     "output_type": "execute_result"
    }
   ],
   "source": [
    "ranker"
   ]
  },
  {
   "cell_type": "code",
   "execution_count": 105,
   "id": "5ba74423",
   "metadata": {},
   "outputs": [],
   "source": [
    "feat_importance = pd.DataFrame(\n",
    "    {\"feature\": features, \"importance\": ranker.feature_importance()}\n",
    ").sort_values(by=\"importance\", ascending=False)"
   ]
  },
  {
   "cell_type": "code",
   "execution_count": 106,
   "id": "b268d37b",
   "metadata": {},
   "outputs": [
    {
     "name": "stderr",
     "output_type": "stream",
     "text": [
      "/Users/mmadej/Desktop/Projects/gid-ml-framework/.venv/lib/python3.8/site-packages/seaborn/rcmod.py:82: DeprecationWarning: distutils Version classes are deprecated. Use packaging.version instead.\n",
      "  if LooseVersion(mpl.__version__) >= \"3.0\":\n",
      "/Users/mmadej/Desktop/Projects/gid-ml-framework/.venv/lib/python3.8/site-packages/setuptools/_distutils/version.py:351: DeprecationWarning: distutils Version classes are deprecated. Use packaging.version instead.\n",
      "  other = LooseVersion(other)\n"
     ]
    }
   ],
   "source": [
    "import matplotlib.pyplot as plt\n",
    "import seaborn as sns"
   ]
  },
  {
   "cell_type": "code",
   "execution_count": 107,
   "id": "444ad80a",
   "metadata": {},
   "outputs": [
    {
     "data": {
      "text/plain": [
       "<AxesSubplot:xlabel='importance', ylabel='feature'>"
      ]
     },
     "execution_count": 107,
     "metadata": {},
     "output_type": "execute_result"
    },
    {
     "data": {
      "image/png": "[encoded data removed]",
      "text/plain": [
       "<Figure size 576x1728 with 1 Axes>"
      ]
     },
     "metadata": {
      "needs_background": "light"
     },
     "output_type": "display_data"
    }
   ],
   "source": [
    "plt.figure(figsize=(8, 24))\n",
    "sns.barplot(y=\"feature\", x=\"importance\", data=feat_importance)"
   ]
  },
  {
   "cell_type": "code",
   "execution_count": 108,
   "id": "1f130214",
   "metadata": {},
   "outputs": [],
   "source": [
    "def predict(ranker, candidates, batch_size = 1_000_000):\n",
    "    probs = np.zeros(candidates.shape[0])\n",
    "    for batch in range(0, candidates.shape[0], batch_size):\n",
    "        outputs = ranker.predict(candidates.loc[batch : batch + batch_size - 1, features])\n",
    "        probs[batch : batch + batch_size] = outputs\n",
    "    candidates[\"prob\"] = probs\n",
    "    pred_lgb = candidates[['customer_id', 'article_id', 'prob']]\n",
    "    pred_lgb = pred_lgb.sort_values(by=['customer_id', 'prob'], ascending=False).reset_index(drop=True)\n",
    "    pred_lgb.rename(columns={'article_id': 'prediction'}, inplace=True)\n",
    "    pred_lgb = pred_lgb.drop_duplicates(['customer_id', 'prediction'], keep='first')\n",
    "    pred_lgb = pred_lgb.groupby(\"customer_id\")[\"prediction\"].apply(list).reset_index()\n",
    "    return pred_lgb"
   ]
  },
  {
   "cell_type": "code",
   "execution_count": 109,
   "id": "ee0ef39f",
   "metadata": {},
   "outputs": [
    {
     "ename": "ValueError",
     "evalue": "could not broadcast input array from shape (205582,) into shape (669386,)",
     "output_type": "error",
     "traceback": [
      "\u001b[0;31m---------------------------------------------------------------------------\u001b[0m",
      "\u001b[0;31mValueError\u001b[0m                                Traceback (most recent call last)",
      "\u001b[0;32m/var/folders/dl/55k0mmrx765_h9n3c5rmqz8c0000gn/T/ipykernel_5583/1068417414.py\u001b[0m in \u001b[0;36m<cell line: 1>\u001b[0;34m()\u001b[0m\n\u001b[0;32m----> 1\u001b[0;31m \u001b[0mpred\u001b[0m \u001b[0;34m=\u001b[0m \u001b[0mpredict\u001b[0m\u001b[0;34m(\u001b[0m\u001b[0mranker\u001b[0m\u001b[0;34m,\u001b[0m \u001b[0mval_candidates\u001b[0m\u001b[0;34m)\u001b[0m\u001b[0;34m\u001b[0m\u001b[0;34m\u001b[0m\u001b[0m\n\u001b[0m",
      "\u001b[0;32m/var/folders/dl/55k0mmrx765_h9n3c5rmqz8c0000gn/T/ipykernel_5583/573178375.py\u001b[0m in \u001b[0;36mpredict\u001b[0;34m(ranker, candidates, batch_size)\u001b[0m\n\u001b[1;32m      3\u001b[0m     \u001b[0;32mfor\u001b[0m \u001b[0mbatch\u001b[0m \u001b[0;32min\u001b[0m \u001b[0mrange\u001b[0m\u001b[0;34m(\u001b[0m\u001b[0;36m0\u001b[0m\u001b[0;34m,\u001b[0m \u001b[0mcandidates\u001b[0m\u001b[0;34m.\u001b[0m\u001b[0mshape\u001b[0m\u001b[0;34m[\u001b[0m\u001b[0;36m0\u001b[0m\u001b[0;34m]\u001b[0m\u001b[0;34m,\u001b[0m \u001b[0mbatch_size\u001b[0m\u001b[0;34m)\u001b[0m\u001b[0;34m:\u001b[0m\u001b[0;34m\u001b[0m\u001b[0;34m\u001b[0m\u001b[0m\n\u001b[1;32m      4\u001b[0m         \u001b[0moutputs\u001b[0m \u001b[0;34m=\u001b[0m \u001b[0mranker\u001b[0m\u001b[0;34m.\u001b[0m\u001b[0mpredict\u001b[0m\u001b[0;34m(\u001b[0m\u001b[0mcandidates\u001b[0m\u001b[0;34m.\u001b[0m\u001b[0mloc\u001b[0m\u001b[0;34m[\u001b[0m\u001b[0mbatch\u001b[0m \u001b[0;34m:\u001b[0m \u001b[0mbatch\u001b[0m \u001b[0;34m+\u001b[0m \u001b[0mbatch_size\u001b[0m \u001b[0;34m-\u001b[0m \u001b[0;36m1\u001b[0m\u001b[0;34m,\u001b[0m \u001b[0mfeatures\u001b[0m\u001b[0;34m]\u001b[0m\u001b[0;34m)\u001b[0m\u001b[0;34m\u001b[0m\u001b[0;34m\u001b[0m\u001b[0m\n\u001b[0;32m----> 5\u001b[0;31m         \u001b[0mprobs\u001b[0m\u001b[0;34m[\u001b[0m\u001b[0mbatch\u001b[0m \u001b[0;34m:\u001b[0m \u001b[0mbatch\u001b[0m \u001b[0;34m+\u001b[0m \u001b[0mbatch_size\u001b[0m\u001b[0;34m]\u001b[0m \u001b[0;34m=\u001b[0m \u001b[0moutputs\u001b[0m\u001b[0;34m\u001b[0m\u001b[0;34m\u001b[0m\u001b[0m\n\u001b[0m\u001b[1;32m      6\u001b[0m     \u001b[0mcandidates\u001b[0m\u001b[0;34m[\u001b[0m\u001b[0;34m\"prob\"\u001b[0m\u001b[0;34m]\u001b[0m \u001b[0;34m=\u001b[0m \u001b[0mprobs\u001b[0m\u001b[0;34m\u001b[0m\u001b[0;34m\u001b[0m\u001b[0m\n\u001b[1;32m      7\u001b[0m     \u001b[0mpred_lgb\u001b[0m \u001b[0;34m=\u001b[0m \u001b[0mcandidates\u001b[0m\u001b[0;34m[\u001b[0m\u001b[0;34m[\u001b[0m\u001b[0;34m'customer_id'\u001b[0m\u001b[0;34m,\u001b[0m \u001b[0;34m'article_id'\u001b[0m\u001b[0;34m,\u001b[0m \u001b[0;34m'prob'\u001b[0m\u001b[0;34m]\u001b[0m\u001b[0;34m]\u001b[0m\u001b[0;34m\u001b[0m\u001b[0;34m\u001b[0m\u001b[0m\n",
      "\u001b[0;31mValueError\u001b[0m: could not broadcast input array from shape (205582,) into shape (669386,)"
     ]
    }
   ],
   "source": [
    "pred = predict(ranker, val_candidates)"
   ]
  },
  {
   "cell_type": "code",
   "execution_count": 111,
   "id": "434a26b3",
   "metadata": {},
   "outputs": [
    {
     "data": {
      "text/html": [
       "<div>\n",
       "<style scoped>\n",
       "    .dataframe tbody tr th:only-of-type {\n",
       "        vertical-align: middle;\n",
       "    }\n",
       "\n",
       "    .dataframe tbody tr th {\n",
       "        vertical-align: top;\n",
       "    }\n",
       "\n",
       "    .dataframe thead th {\n",
       "        text-align: right;\n",
       "    }\n",
       "</style>\n",
       "<table border=\"1\" class=\"dataframe\">\n",
       "  <thead>\n",
       "    <tr style=\"text-align: right;\">\n",
       "      <th></th>\n",
       "      <th>customer_id</th>\n",
       "      <th>prediction</th>\n",
       "    </tr>\n",
       "  </thead>\n",
       "  <tbody>\n",
       "    <tr>\n",
       "      <th>0</th>\n",
       "      <td>0003e56a4332b2503e34640be92031ad48f1280ee6e3a7...</td>\n",
       "      <td>[]</td>\n",
       "    </tr>\n",
       "    <tr>\n",
       "      <th>1</th>\n",
       "      <td>0006a10483f4b1d47dd0c640429a1c059f224c3a87464c...</td>\n",
       "      <td>[]</td>\n",
       "    </tr>\n",
       "    <tr>\n",
       "      <th>2</th>\n",
       "      <td>000df6cf5f902e6bb2a45b94d96c82c62324fe04bea329...</td>\n",
       "      <td>[]</td>\n",
       "    </tr>\n",
       "    <tr>\n",
       "      <th>3</th>\n",
       "      <td>00208fb274f1f5a739702ce60ed1bf6106910fa990b4bc...</td>\n",
       "      <td>[]</td>\n",
       "    </tr>\n",
       "    <tr>\n",
       "      <th>4</th>\n",
       "      <td>003292a63d9ca49d46dd66ffbbd6cca6e02f50f6b5f488...</td>\n",
       "      <td>[]</td>\n",
       "    </tr>\n",
       "    <tr>\n",
       "      <th>...</th>\n",
       "      <td>...</td>\n",
       "      <td>...</td>\n",
       "    </tr>\n",
       "    <tr>\n",
       "      <th>9995</th>\n",
       "      <td>ffe98d88192feecce39e53d5f0cfa5343e3a1b51677e1d...</td>\n",
       "      <td>[]</td>\n",
       "    </tr>\n",
       "    <tr>\n",
       "      <th>9996</th>\n",
       "      <td>fff187d1386edced8ef49b1df0155241943c9c4cc7abbf...</td>\n",
       "      <td>[]</td>\n",
       "    </tr>\n",
       "    <tr>\n",
       "      <th>9997</th>\n",
       "      <td>fff62d5b7df1ffc31c733ccf4b59af21d645e2b2d11256...</td>\n",
       "      <td>[]</td>\n",
       "    </tr>\n",
       "    <tr>\n",
       "      <th>9998</th>\n",
       "      <td>fff69e3ab1bd701315881c7706c38d5cbcda1f4e0cf213...</td>\n",
       "      <td>[]</td>\n",
       "    </tr>\n",
       "    <tr>\n",
       "      <th>9999</th>\n",
       "      <td>fff808bb2e407718ef9560f560ae66efe97b5b7ffed24c...</td>\n",
       "      <td>[0554479001, 0904571001, 0869331006, 079246900...</td>\n",
       "    </tr>\n",
       "  </tbody>\n",
       "</table>\n",
       "<p>10000 rows × 2 columns</p>\n",
       "</div>"
      ],
      "text/plain": [
       "                                            customer_id  \\\n",
       "0     0003e56a4332b2503e34640be92031ad48f1280ee6e3a7...   \n",
       "1     0006a10483f4b1d47dd0c640429a1c059f224c3a87464c...   \n",
       "2     000df6cf5f902e6bb2a45b94d96c82c62324fe04bea329...   \n",
       "3     00208fb274f1f5a739702ce60ed1bf6106910fa990b4bc...   \n",
       "4     003292a63d9ca49d46dd66ffbbd6cca6e02f50f6b5f488...   \n",
       "...                                                 ...   \n",
       "9995  ffe98d88192feecce39e53d5f0cfa5343e3a1b51677e1d...   \n",
       "9996  fff187d1386edced8ef49b1df0155241943c9c4cc7abbf...   \n",
       "9997  fff62d5b7df1ffc31c733ccf4b59af21d645e2b2d11256...   \n",
       "9998  fff69e3ab1bd701315881c7706c38d5cbcda1f4e0cf213...   \n",
       "9999  fff808bb2e407718ef9560f560ae66efe97b5b7ffed24c...   \n",
       "\n",
       "                                             prediction  \n",
       "0                                                    []  \n",
       "1                                                    []  \n",
       "2                                                    []  \n",
       "3                                                    []  \n",
       "4                                                    []  \n",
       "...                                                 ...  \n",
       "9995                                                 []  \n",
       "9996                                                 []  \n",
       "9997                                                 []  \n",
       "9998                                                 []  \n",
       "9999  [0554479001, 0904571001, 0869331006, 079246900...  \n",
       "\n",
       "[10000 rows x 2 columns]"
      ]
     },
     "execution_count": 111,
     "metadata": {},
     "output_type": "execute_result"
    }
   ],
   "source": [
    "pred"
   ]
  },
  {
   "cell_type": "code",
   "execution_count": null,
   "id": "65c4ba00",
   "metadata": {},
   "outputs": [],
   "source": []
  },
  {
   "cell_type": "code",
   "execution_count": 110,
   "id": "5ebb600b",
   "metadata": {},
   "outputs": [],
   "source": [
    "probs = np.zeros(val_candidates.shape[0])"
   ]
  },
  {
   "cell_type": "code",
   "execution_count": 111,
   "id": "2c774c01",
   "metadata": {},
   "outputs": [
    {
     "data": {
      "text/plain": [
       "array([0., 0., 0., ..., 0., 0., 0.])"
      ]
     },
     "execution_count": 111,
     "metadata": {},
     "output_type": "execute_result"
    }
   ],
   "source": [
    "probs"
   ]
  },
  {
   "cell_type": "code",
   "execution_count": 112,
   "id": "af7e4659",
   "metadata": {},
   "outputs": [],
   "source": [
    "for batch in range(0, val_candidates.shape[0], 5_000_000):\n",
    "    outputs = ranker.predict(val_candidates.loc[batch : batch + 5_000_000 - 1, features])\n",
    "    probs[batch : batch + 5_000_000] = outputs"
   ]
  },
  {
   "cell_type": "code",
   "execution_count": 113,
   "id": "334c964b",
   "metadata": {},
   "outputs": [
    {
     "name": "stderr",
     "output_type": "stream",
     "text": [
      "/var/folders/dl/55k0mmrx765_h9n3c5rmqz8c0000gn/T/ipykernel_5583/3238427657.py:1: SettingWithCopyWarning: \n",
      "A value is trying to be set on a copy of a slice from a DataFrame.\n",
      "Try using .loc[row_indexer,col_indexer] = value instead\n",
      "\n",
      "See the caveats in the documentation: https://pandas.pydata.org/pandas-docs/stable/user_guide/indexing.html#returning-a-view-versus-a-copy\n",
      "  val_candidates[\"prob\"] = probs\n"
     ]
    }
   ],
   "source": [
    "val_candidates[\"prob\"] = probs"
   ]
  },
  {
   "cell_type": "code",
   "execution_count": 114,
   "id": "fb4540cd",
   "metadata": {},
   "outputs": [],
   "source": [
    "pred_lgb = val_candidates[['customer_id', 'article_id', 'prob']].sort_values(by=['customer_id', 'prob'], ascending=False).reset_index(drop=True)"
   ]
  },
  {
   "cell_type": "code",
   "execution_count": 115,
   "id": "8a1b808c",
   "metadata": {},
   "outputs": [
    {
     "data": {
      "text/html": [
       "<div>\n",
       "<style scoped>\n",
       "    .dataframe tbody tr th:only-of-type {\n",
       "        vertical-align: middle;\n",
       "    }\n",
       "\n",
       "    .dataframe tbody tr th {\n",
       "        vertical-align: top;\n",
       "    }\n",
       "\n",
       "    .dataframe thead th {\n",
       "        text-align: right;\n",
       "    }\n",
       "</style>\n",
       "<table border=\"1\" class=\"dataframe\">\n",
       "  <thead>\n",
       "    <tr style=\"text-align: right;\">\n",
       "      <th></th>\n",
       "      <th>customer_id</th>\n",
       "      <th>article_id</th>\n",
       "      <th>prob</th>\n",
       "    </tr>\n",
       "  </thead>\n",
       "  <tbody>\n",
       "    <tr>\n",
       "      <th>0</th>\n",
       "      <td>fff62d5b7df1ffc31c733ccf4b59af21d645e2b2d11256...</td>\n",
       "      <td>0554479001</td>\n",
       "      <td>-1.2214</td>\n",
       "    </tr>\n",
       "    <tr>\n",
       "      <th>1</th>\n",
       "      <td>fff62d5b7df1ffc31c733ccf4b59af21d645e2b2d11256...</td>\n",
       "      <td>0904571001</td>\n",
       "      <td>-1.2214</td>\n",
       "    </tr>\n",
       "    <tr>\n",
       "      <th>2</th>\n",
       "      <td>fff62d5b7df1ffc31c733ccf4b59af21d645e2b2d11256...</td>\n",
       "      <td>0869331006</td>\n",
       "      <td>-1.2214</td>\n",
       "    </tr>\n",
       "    <tr>\n",
       "      <th>3</th>\n",
       "      <td>fff62d5b7df1ffc31c733ccf4b59af21d645e2b2d11256...</td>\n",
       "      <td>0792469001</td>\n",
       "      <td>-1.2214</td>\n",
       "    </tr>\n",
       "    <tr>\n",
       "      <th>4</th>\n",
       "      <td>fff62d5b7df1ffc31c733ccf4b59af21d645e2b2d11256...</td>\n",
       "      <td>0902528006</td>\n",
       "      <td>-1.2214</td>\n",
       "    </tr>\n",
       "    <tr>\n",
       "      <th>...</th>\n",
       "      <td>...</td>\n",
       "      <td>...</td>\n",
       "      <td>...</td>\n",
       "    </tr>\n",
       "    <tr>\n",
       "      <th>669381</th>\n",
       "      <td>0003e56a4332b2503e34640be92031ad48f1280ee6e3a7...</td>\n",
       "      <td>0579541086</td>\n",
       "      <td>-1.2215</td>\n",
       "    </tr>\n",
       "    <tr>\n",
       "      <th>669382</th>\n",
       "      <td>0003e56a4332b2503e34640be92031ad48f1280ee6e3a7...</td>\n",
       "      <td>0863565004</td>\n",
       "      <td>-1.2215</td>\n",
       "    </tr>\n",
       "    <tr>\n",
       "      <th>669383</th>\n",
       "      <td>0003e56a4332b2503e34640be92031ad48f1280ee6e3a7...</td>\n",
       "      <td>0720504008</td>\n",
       "      <td>-1.2215</td>\n",
       "    </tr>\n",
       "    <tr>\n",
       "      <th>669384</th>\n",
       "      <td>0003e56a4332b2503e34640be92031ad48f1280ee6e3a7...</td>\n",
       "      <td>0907951001</td>\n",
       "      <td>-1.2215</td>\n",
       "    </tr>\n",
       "    <tr>\n",
       "      <th>669385</th>\n",
       "      <td>0003e56a4332b2503e34640be92031ad48f1280ee6e3a7...</td>\n",
       "      <td>0301656029</td>\n",
       "      <td>-1.2229</td>\n",
       "    </tr>\n",
       "  </tbody>\n",
       "</table>\n",
       "<p>669386 rows × 3 columns</p>\n",
       "</div>"
      ],
      "text/plain": [
       "                                              customer_id  article_id    prob\n",
       "0       fff62d5b7df1ffc31c733ccf4b59af21d645e2b2d11256...  0554479001 -1.2214\n",
       "1       fff62d5b7df1ffc31c733ccf4b59af21d645e2b2d11256...  0904571001 -1.2214\n",
       "2       fff62d5b7df1ffc31c733ccf4b59af21d645e2b2d11256...  0869331006 -1.2214\n",
       "3       fff62d5b7df1ffc31c733ccf4b59af21d645e2b2d11256...  0792469001 -1.2214\n",
       "4       fff62d5b7df1ffc31c733ccf4b59af21d645e2b2d11256...  0902528006 -1.2214\n",
       "...                                                   ...         ...     ...\n",
       "669381  0003e56a4332b2503e34640be92031ad48f1280ee6e3a7...  0579541086 -1.2215\n",
       "669382  0003e56a4332b2503e34640be92031ad48f1280ee6e3a7...  0863565004 -1.2215\n",
       "669383  0003e56a4332b2503e34640be92031ad48f1280ee6e3a7...  0720504008 -1.2215\n",
       "669384  0003e56a4332b2503e34640be92031ad48f1280ee6e3a7...  0907951001 -1.2215\n",
       "669385  0003e56a4332b2503e34640be92031ad48f1280ee6e3a7...  0301656029 -1.2229\n",
       "\n",
       "[669386 rows x 3 columns]"
      ]
     },
     "execution_count": 115,
     "metadata": {},
     "output_type": "execute_result"
    }
   ],
   "source": [
    "pred_lgb"
   ]
  },
  {
   "cell_type": "code",
   "execution_count": 116,
   "id": "e7089017",
   "metadata": {},
   "outputs": [
    {
     "data": {
      "text/plain": [
       "count   669386.0000\n",
       "mean        -1.2203\n",
       "std          0.0497\n",
       "min         -1.3059\n",
       "25%         -1.2225\n",
       "50%         -1.2215\n",
       "75%         -1.2215\n",
       "max          1.2125\n",
       "Name: prob, dtype: float64"
      ]
     },
     "execution_count": 116,
     "metadata": {},
     "output_type": "execute_result"
    }
   ],
   "source": [
    "pred_lgb.prob.describe()"
   ]
  },
  {
   "cell_type": "code",
   "execution_count": 117,
   "id": "c0a1fd89",
   "metadata": {},
   "outputs": [],
   "source": [
    "pred_lgb = pred_lgb.groupby(['customer_id']).head(12)"
   ]
  },
  {
   "cell_type": "markdown",
   "id": "8500d82a",
   "metadata": {},
   "source": [
    "pred_lgb.loc[:, ['customer_id', 'article_id']] = pred_lgb.loc[:, ['customer_id', 'article_id']].astype(str)"
   ]
  },
  {
   "cell_type": "code",
   "execution_count": 118,
   "id": "40b1f8c6",
   "metadata": {},
   "outputs": [
    {
     "data": {
      "text/plain": [
       "2000"
      ]
     },
     "execution_count": 118,
     "metadata": {},
     "output_type": "execute_result"
    }
   ],
   "source": [
    "pred_lgb.customer_id.nunique()"
   ]
  },
  {
   "cell_type": "code",
   "execution_count": 119,
   "id": "e62ca835",
   "metadata": {},
   "outputs": [
    {
     "data": {
      "text/html": [
       "<div>\n",
       "<style scoped>\n",
       "    .dataframe tbody tr th:only-of-type {\n",
       "        vertical-align: middle;\n",
       "    }\n",
       "\n",
       "    .dataframe tbody tr th {\n",
       "        vertical-align: top;\n",
       "    }\n",
       "\n",
       "    .dataframe thead th {\n",
       "        text-align: right;\n",
       "    }\n",
       "</style>\n",
       "<table border=\"1\" class=\"dataframe\">\n",
       "  <thead>\n",
       "    <tr style=\"text-align: right;\">\n",
       "      <th></th>\n",
       "      <th>customer_id</th>\n",
       "      <th>article_id</th>\n",
       "      <th>prob</th>\n",
       "    </tr>\n",
       "  </thead>\n",
       "  <tbody>\n",
       "    <tr>\n",
       "      <th>0</th>\n",
       "      <td>fff62d5b7df1ffc31c733ccf4b59af21d645e2b2d11256...</td>\n",
       "      <td>0554479001</td>\n",
       "      <td>-1.2214</td>\n",
       "    </tr>\n",
       "    <tr>\n",
       "      <th>1</th>\n",
       "      <td>fff62d5b7df1ffc31c733ccf4b59af21d645e2b2d11256...</td>\n",
       "      <td>0904571001</td>\n",
       "      <td>-1.2214</td>\n",
       "    </tr>\n",
       "    <tr>\n",
       "      <th>2</th>\n",
       "      <td>fff62d5b7df1ffc31c733ccf4b59af21d645e2b2d11256...</td>\n",
       "      <td>0869331006</td>\n",
       "      <td>-1.2214</td>\n",
       "    </tr>\n",
       "    <tr>\n",
       "      <th>3</th>\n",
       "      <td>fff62d5b7df1ffc31c733ccf4b59af21d645e2b2d11256...</td>\n",
       "      <td>0792469001</td>\n",
       "      <td>-1.2214</td>\n",
       "    </tr>\n",
       "    <tr>\n",
       "      <th>4</th>\n",
       "      <td>fff62d5b7df1ffc31c733ccf4b59af21d645e2b2d11256...</td>\n",
       "      <td>0902528006</td>\n",
       "      <td>-1.2214</td>\n",
       "    </tr>\n",
       "    <tr>\n",
       "      <th>...</th>\n",
       "      <td>...</td>\n",
       "      <td>...</td>\n",
       "      <td>...</td>\n",
       "    </tr>\n",
       "    <tr>\n",
       "      <th>8</th>\n",
       "      <td>fff62d5b7df1ffc31c733ccf4b59af21d645e2b2d11256...</td>\n",
       "      <td>0832481002</td>\n",
       "      <td>-1.2214</td>\n",
       "    </tr>\n",
       "    <tr>\n",
       "      <th>9</th>\n",
       "      <td>fff62d5b7df1ffc31c733ccf4b59af21d645e2b2d11256...</td>\n",
       "      <td>0688728023</td>\n",
       "      <td>-1.2214</td>\n",
       "    </tr>\n",
       "    <tr>\n",
       "      <th>10</th>\n",
       "      <td>fff62d5b7df1ffc31c733ccf4b59af21d645e2b2d11256...</td>\n",
       "      <td>0158340001</td>\n",
       "      <td>-1.2214</td>\n",
       "    </tr>\n",
       "    <tr>\n",
       "      <th>11</th>\n",
       "      <td>fff62d5b7df1ffc31c733ccf4b59af21d645e2b2d11256...</td>\n",
       "      <td>0706016015</td>\n",
       "      <td>-1.2214</td>\n",
       "    </tr>\n",
       "    <tr>\n",
       "      <th>318</th>\n",
       "      <td>ffd11fc7ac9aa1e2da89d1c3137a4218c15a51eaa74ce1...</td>\n",
       "      <td>0907951001</td>\n",
       "      <td>-1.2215</td>\n",
       "    </tr>\n",
       "  </tbody>\n",
       "</table>\n",
       "<p>13 rows × 3 columns</p>\n",
       "</div>"
      ],
      "text/plain": [
       "                                           customer_id  article_id    prob\n",
       "0    fff62d5b7df1ffc31c733ccf4b59af21d645e2b2d11256...  0554479001 -1.2214\n",
       "1    fff62d5b7df1ffc31c733ccf4b59af21d645e2b2d11256...  0904571001 -1.2214\n",
       "2    fff62d5b7df1ffc31c733ccf4b59af21d645e2b2d11256...  0869331006 -1.2214\n",
       "3    fff62d5b7df1ffc31c733ccf4b59af21d645e2b2d11256...  0792469001 -1.2214\n",
       "4    fff62d5b7df1ffc31c733ccf4b59af21d645e2b2d11256...  0902528006 -1.2214\n",
       "..                                                 ...         ...     ...\n",
       "8    fff62d5b7df1ffc31c733ccf4b59af21d645e2b2d11256...  0832481002 -1.2214\n",
       "9    fff62d5b7df1ffc31c733ccf4b59af21d645e2b2d11256...  0688728023 -1.2214\n",
       "10   fff62d5b7df1ffc31c733ccf4b59af21d645e2b2d11256...  0158340001 -1.2214\n",
       "11   fff62d5b7df1ffc31c733ccf4b59af21d645e2b2d11256...  0706016015 -1.2214\n",
       "318  ffd11fc7ac9aa1e2da89d1c3137a4218c15a51eaa74ce1...  0907951001 -1.2215\n",
       "\n",
       "[13 rows x 3 columns]"
      ]
     },
     "execution_count": 119,
     "metadata": {},
     "output_type": "execute_result"
    }
   ],
   "source": [
    "pred_lgb.head(13)"
   ]
  },
  {
   "cell_type": "code",
   "execution_count": 120,
   "id": "b73eca3b",
   "metadata": {},
   "outputs": [
    {
     "data": {
      "text/html": [
       "<div>\n",
       "<style scoped>\n",
       "    .dataframe tbody tr th:only-of-type {\n",
       "        vertical-align: middle;\n",
       "    }\n",
       "\n",
       "    .dataframe tbody tr th {\n",
       "        vertical-align: top;\n",
       "    }\n",
       "\n",
       "    .dataframe thead th {\n",
       "        text-align: right;\n",
       "    }\n",
       "</style>\n",
       "<table border=\"1\" class=\"dataframe\">\n",
       "  <thead>\n",
       "    <tr style=\"text-align: right;\">\n",
       "      <th></th>\n",
       "      <th>customer_id</th>\n",
       "      <th>article_id</th>\n",
       "    </tr>\n",
       "  </thead>\n",
       "  <tbody>\n",
       "    <tr>\n",
       "      <th>0</th>\n",
       "      <td>0003e56a4332b2503e34640be92031ad48f1280ee6e3a7...</td>\n",
       "      <td>[0554479001, 0904571001, 0869331006, 079246900...</td>\n",
       "    </tr>\n",
       "    <tr>\n",
       "      <th>1</th>\n",
       "      <td>000df6cf5f902e6bb2a45b94d96c82c62324fe04bea329...</td>\n",
       "      <td>[0907951001, 0867994001, 0831269009, 090402600...</td>\n",
       "    </tr>\n",
       "    <tr>\n",
       "      <th>2</th>\n",
       "      <td>0065848cb03f4147bfe8f8c4c5ae3fce496ad9c3389fc3...</td>\n",
       "      <td>[0832473001, 0861514001, 0783346020, 076346900...</td>\n",
       "    </tr>\n",
       "    <tr>\n",
       "      <th>3</th>\n",
       "      <td>009ce0498e522ba4d20a80b7aaecd8567b15b52eb78c0c...</td>\n",
       "      <td>[0907951001, 0867994001, 0831269009, 090402600...</td>\n",
       "    </tr>\n",
       "    <tr>\n",
       "      <th>4</th>\n",
       "      <td>00cd746a1260bc81b14b21a23e29fd520b37cd32d92b09...</td>\n",
       "      <td>[0554479001, 0904571001, 0869331006, 079246900...</td>\n",
       "    </tr>\n",
       "    <tr>\n",
       "      <th>...</th>\n",
       "      <td>...</td>\n",
       "      <td>...</td>\n",
       "    </tr>\n",
       "    <tr>\n",
       "      <th>1995</th>\n",
       "      <td>ff4a33dfcf512d6beb354aef28c2d8a2b4cc690db15817...</td>\n",
       "      <td>[0554479001, 0904571001, 0869331006, 079246900...</td>\n",
       "    </tr>\n",
       "    <tr>\n",
       "      <th>1996</th>\n",
       "      <td>ff7dceb4dbc99277091f7adaa81932a7ea237b7e108a69...</td>\n",
       "      <td>[0554479001, 0904571001, 0869331006, 079246900...</td>\n",
       "    </tr>\n",
       "    <tr>\n",
       "      <th>1997</th>\n",
       "      <td>ff993b649c572f16988976c8706f64ed23daa0a1b0e246...</td>\n",
       "      <td>[0907951001, 0904026002, 0554479001, 090457100...</td>\n",
       "    </tr>\n",
       "    <tr>\n",
       "      <th>1998</th>\n",
       "      <td>ffd11fc7ac9aa1e2da89d1c3137a4218c15a51eaa74ce1...</td>\n",
       "      <td>[0907951001, 0867994001, 0831269009, 090402600...</td>\n",
       "    </tr>\n",
       "    <tr>\n",
       "      <th>1999</th>\n",
       "      <td>fff62d5b7df1ffc31c733ccf4b59af21d645e2b2d11256...</td>\n",
       "      <td>[0554479001, 0904571001, 0869331006, 079246900...</td>\n",
       "    </tr>\n",
       "  </tbody>\n",
       "</table>\n",
       "<p>2000 rows × 2 columns</p>\n",
       "</div>"
      ],
      "text/plain": [
       "                                            customer_id  \\\n",
       "0     0003e56a4332b2503e34640be92031ad48f1280ee6e3a7...   \n",
       "1     000df6cf5f902e6bb2a45b94d96c82c62324fe04bea329...   \n",
       "2     0065848cb03f4147bfe8f8c4c5ae3fce496ad9c3389fc3...   \n",
       "3     009ce0498e522ba4d20a80b7aaecd8567b15b52eb78c0c...   \n",
       "4     00cd746a1260bc81b14b21a23e29fd520b37cd32d92b09...   \n",
       "...                                                 ...   \n",
       "1995  ff4a33dfcf512d6beb354aef28c2d8a2b4cc690db15817...   \n",
       "1996  ff7dceb4dbc99277091f7adaa81932a7ea237b7e108a69...   \n",
       "1997  ff993b649c572f16988976c8706f64ed23daa0a1b0e246...   \n",
       "1998  ffd11fc7ac9aa1e2da89d1c3137a4218c15a51eaa74ce1...   \n",
       "1999  fff62d5b7df1ffc31c733ccf4b59af21d645e2b2d11256...   \n",
       "\n",
       "                                             article_id  \n",
       "0     [0554479001, 0904571001, 0869331006, 079246900...  \n",
       "1     [0907951001, 0867994001, 0831269009, 090402600...  \n",
       "2     [0832473001, 0861514001, 0783346020, 076346900...  \n",
       "3     [0907951001, 0867994001, 0831269009, 090402600...  \n",
       "4     [0554479001, 0904571001, 0869331006, 079246900...  \n",
       "...                                                 ...  \n",
       "1995  [0554479001, 0904571001, 0869331006, 079246900...  \n",
       "1996  [0554479001, 0904571001, 0869331006, 079246900...  \n",
       "1997  [0907951001, 0904026002, 0554479001, 090457100...  \n",
       "1998  [0907951001, 0867994001, 0831269009, 090402600...  \n",
       "1999  [0554479001, 0904571001, 0869331006, 079246900...  \n",
       "\n",
       "[2000 rows x 2 columns]"
      ]
     },
     "execution_count": 120,
     "metadata": {},
     "output_type": "execute_result"
    }
   ],
   "source": [
    "pred_lgb.groupby(['customer_id'])['article_id'].apply(list).reset_index()"
   ]
  },
  {
   "cell_type": "code",
   "execution_count": null,
   "id": "291bbf7b",
   "metadata": {},
   "outputs": [],
   "source": []
  }
 ],
 "metadata": {
  "kernelspec": {
   "display_name": "GetInDataMLFramework",
   "language": "python",
   "name": "python3"
  },
  "language_info": {
   "codemirror_mode": {
    "name": "ipython",
    "version": 3
   },
   "file_extension": ".py",
   "mimetype": "text/x-python",
   "name": "python",
   "nbconvert_exporter": "python",
   "pygments_lexer": "ipython3",
   "version": "3.8.12"
  }
 },
 "nbformat": 4,
 "nbformat_minor": 5
}
