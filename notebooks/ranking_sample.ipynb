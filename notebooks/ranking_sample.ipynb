{
 "cells": [
  {
   "cell_type": "code",
   "execution_count": 1,
   "id": "1c1d0c3a",
   "metadata": {
    "scrolled": false
   },
   "outputs": [
    {
     "name": "stdout",
     "output_type": "stream",
     "text": [
      "The kedro.extras.extensions.ipython extension is already loaded. To reload it, use:\n",
      "  %reload_ext kedro.extras.extensions.ipython\n"
     ]
    }
   ],
   "source": [
    "%load_ext kedro.extras.extensions.ipython"
   ]
  },
  {
   "cell_type": "code",
   "execution_count": 2,
   "id": "426fd428",
   "metadata": {},
   "outputs": [
    {
     "name": "stdout",
     "output_type": "stream",
     "text": [
      "2022-08-25 18:18:18,895 - kedro.framework.hooks.manager - INFO - Registered hooks from 1 installed plugin(s): kedro-mlflow-0.8.1\n",
      "2022-08-25 18:18:18,937 - kedro.framework.session.store - INFO - `read()` not implemented for `BaseSessionStore`. Assuming empty store.\n",
      "2022-08-25 18:18:19,451 - root - INFO - ** Kedro project GetInData ML Framework\n",
      "2022-08-25 18:18:19,451 - root - INFO - Defined global variable `context`, `session`, `catalog` and `pipelines`\n",
      "2022-08-25 18:18:19,460 - root - INFO - Registered line magic `run_viz`\n",
      "2022-08-25 18:18:19,461 - root - INFO - Registered line magic `reload_kedro_mlflow`\n"
     ]
    }
   ],
   "source": [
    "%reload_kedro"
   ]
  },
  {
   "cell_type": "code",
   "execution_count": 3,
   "id": "a000d97b",
   "metadata": {},
   "outputs": [],
   "source": [
    "import pandas as pd\n",
    "import numpy as np"
   ]
  },
  {
   "cell_type": "code",
   "execution_count": 4,
   "id": "312b41af",
   "metadata": {},
   "outputs": [],
   "source": [
    "pd.set_option('display.float_format', lambda x: '%.4f' % x)"
   ]
  },
  {
   "cell_type": "code",
   "execution_count": 5,
   "id": "c718a64e",
   "metadata": {},
   "outputs": [
    {
     "data": {
      "text/plain": [
       "['articles',\n",
       " 'customers',\n",
       " 'transactions',\n",
       " 'customers_sample',\n",
       " 'transactions_sample',\n",
       " 'articles_sample',\n",
       " 'input_images',\n",
       " 'resized_images',\n",
       " 'image_embeddings',\n",
       " 'text_embeddings',\n",
       " 'candidates',\n",
       " 'train_transactions',\n",
       " 'val_transactions',\n",
       " 'train_candidates',\n",
       " 'automated_articles_features',\n",
       " 'automated_customers_features',\n",
       " 'manual_article_features',\n",
       " 'manual_customer_features',\n",
       " 'manual_customer_prod_group_features',\n",
       " 'jaccard_similarity_features',\n",
       " 'image_cosine_similarity_features',\n",
       " 'text_cosine_similarity_features',\n",
       " 'candidates_similarity_features',\n",
       " 'recommendations',\n",
       " 'parameters']"
      ]
     },
     "execution_count": 5,
     "metadata": {},
     "output_type": "execute_result"
    }
   ],
   "source": [
    "[data for data in catalog.list() if not data.startswith('params:')]"
   ]
  },
  {
   "cell_type": "code",
   "execution_count": 6,
   "id": "7e7e3db0",
   "metadata": {},
   "outputs": [
    {
     "name": "stdout",
     "output_type": "stream",
     "text": [
      "2022-08-25 18:18:20,109 - kedro.io.data_catalog - INFO - Loading data from `recommendations` (ParquetDataSet)...\n"
     ]
    },
    {
     "data": {
      "text/html": [
       "<div>\n",
       "<style scoped>\n",
       "    .dataframe tbody tr th:only-of-type {\n",
       "        vertical-align: middle;\n",
       "    }\n",
       "\n",
       "    .dataframe tbody tr th {\n",
       "        vertical-align: top;\n",
       "    }\n",
       "\n",
       "    .dataframe thead th {\n",
       "        text-align: right;\n",
       "    }\n",
       "</style>\n",
       "<table border=\"1\" class=\"dataframe\">\n",
       "  <thead>\n",
       "    <tr style=\"text-align: right;\">\n",
       "      <th></th>\n",
       "      <th>customer_id</th>\n",
       "      <th>prediction</th>\n",
       "    </tr>\n",
       "  </thead>\n",
       "  <tbody>\n",
       "    <tr>\n",
       "      <th>0</th>\n",
       "      <td>00000dbacae5abe5e23885899a1fa44253a17956c6d1c3...</td>\n",
       "      <td>0908799002 0568601043 0568601045 0865799006 07...</td>\n",
       "    </tr>\n",
       "    <tr>\n",
       "      <th>1</th>\n",
       "      <td>0000423b00ade91418cceaf3b26c6af3dd342b51fd051e...</td>\n",
       "      <td>0918292001 0762846031 0881942001 0916468003 09...</td>\n",
       "    </tr>\n",
       "    <tr>\n",
       "      <th>2</th>\n",
       "      <td>000058a12d5b43e67d225668fa1f8d618c13dc232df0ca...</td>\n",
       "      <td>0881942001 0915529003 0863646001 0915529001 07...</td>\n",
       "    </tr>\n",
       "    <tr>\n",
       "      <th>3</th>\n",
       "      <td>00005ca1c9ed5f5146b52ac8639a40ca9d57aeff4d1bd2...</td>\n",
       "      <td>0918522001 0923758001 0751471043 0865799006 09...</td>\n",
       "    </tr>\n",
       "    <tr>\n",
       "      <th>4</th>\n",
       "      <td>00006413d8573cd20ed7128e53b7b13819fe5cfc2d801f...</td>\n",
       "      <td>0908799002 0915526002 0910601001 0791587018 07...</td>\n",
       "    </tr>\n",
       "  </tbody>\n",
       "</table>\n",
       "</div>"
      ],
      "text/plain": [
       "                                         customer_id  \\\n",
       "0  00000dbacae5abe5e23885899a1fa44253a17956c6d1c3...   \n",
       "1  0000423b00ade91418cceaf3b26c6af3dd342b51fd051e...   \n",
       "2  000058a12d5b43e67d225668fa1f8d618c13dc232df0ca...   \n",
       "3  00005ca1c9ed5f5146b52ac8639a40ca9d57aeff4d1bd2...   \n",
       "4  00006413d8573cd20ed7128e53b7b13819fe5cfc2d801f...   \n",
       "\n",
       "                                          prediction  \n",
       "0  0908799002 0568601043 0568601045 0865799006 07...  \n",
       "1  0918292001 0762846031 0881942001 0916468003 09...  \n",
       "2  0881942001 0915529003 0863646001 0915529001 07...  \n",
       "3  0918522001 0923758001 0751471043 0865799006 09...  \n",
       "4  0908799002 0915526002 0910601001 0791587018 07...  "
      ]
     },
     "execution_count": 6,
     "metadata": {},
     "output_type": "execute_result"
    }
   ],
   "source": [
    "context.catalog.load('recommendations').head()"
   ]
  },
  {
   "cell_type": "markdown",
   "id": "31318e25",
   "metadata": {},
   "source": [
    "### loading data"
   ]
  },
  {
   "cell_type": "code",
   "execution_count": null,
   "id": "580b9342",
   "metadata": {},
   "outputs": [
    {
     "name": "stdout",
     "output_type": "stream",
     "text": [
      "2022-08-25 18:17:52,294 - kedro.io.data_catalog - INFO - Loading data from `candidates_similarity_features` (ParquetDataSet)...\n"
     ]
    }
   ],
   "source": [
    "candidates = context.catalog.load('candidates_similarity_features')"
   ]
  },
  {
   "cell_type": "code",
   "execution_count": null,
   "id": "fd0a7532",
   "metadata": {},
   "outputs": [],
   "source": [
    "candidates.shape"
   ]
  },
  {
   "cell_type": "code",
   "execution_count": 8,
   "id": "440f7577",
   "metadata": {},
   "outputs": [
    {
     "name": "stdout",
     "output_type": "stream",
     "text": [
      "2022-08-25 13:20:02,753 - kedro.io.data_catalog - INFO - Loading data from `val_transactions` (CSVDataSet)...\n"
     ]
    }
   ],
   "source": [
    "val_transactions = context.catalog.load('val_transactions')"
   ]
  },
  {
   "cell_type": "code",
   "execution_count": 9,
   "id": "da8f02c8",
   "metadata": {},
   "outputs": [],
   "source": [
    "val_transactions = val_transactions[['customer_id', 'article_id']].assign(label=lambda x: 1)"
   ]
  },
  {
   "cell_type": "code",
   "execution_count": 10,
   "id": "734b8f58",
   "metadata": {},
   "outputs": [
    {
     "data": {
      "text/plain": [
       "(240311, 3)"
      ]
     },
     "execution_count": 10,
     "metadata": {},
     "output_type": "execute_result"
    }
   ],
   "source": [
    "val_transactions.shape"
   ]
  },
  {
   "cell_type": "code",
   "execution_count": 11,
   "id": "4de787f1",
   "metadata": {},
   "outputs": [],
   "source": [
    "val_transactions = val_transactions.drop_duplicates()"
   ]
  },
  {
   "cell_type": "code",
   "execution_count": 12,
   "id": "e5c1970e",
   "metadata": {},
   "outputs": [
    {
     "data": {
      "text/plain": [
       "(213728, 3)"
      ]
     },
     "execution_count": 12,
     "metadata": {},
     "output_type": "execute_result"
    }
   ],
   "source": [
    "val_transactions.shape"
   ]
  },
  {
   "cell_type": "code",
   "execution_count": 13,
   "id": "55d0240b",
   "metadata": {},
   "outputs": [
    {
     "data": {
      "text/plain": [
       "count   1371980.0000\n",
       "mean        134.1674\n",
       "std          24.8531\n",
       "min         120.0000\n",
       "0.1%        120.0000\n",
       "10%         120.0000\n",
       "20%         121.0000\n",
       "50%         127.0000\n",
       "80%         138.0000\n",
       "90%         165.0000\n",
       "99%         235.0000\n",
       "max         770.0000\n",
       "Name: article_id, dtype: float64"
      ]
     },
     "execution_count": 13,
     "metadata": {},
     "output_type": "execute_result"
    }
   ],
   "source": [
    "candidates.groupby(['customer_id'])['article_id'].nunique().describe(percentiles=\n",
    "                                                                     [0.001, 0.1, 0.2, 0.5, 0.8, 0.9, 0.99])"
   ]
  },
  {
   "cell_type": "markdown",
   "id": "6f3b277e",
   "metadata": {},
   "source": [
    "##### only 1 way needed"
   ]
  },
  {
   "cell_type": "markdown",
   "id": "5035ff8a",
   "metadata": {},
   "source": [
    "sample frac=1 is inefficient, but probably more correct"
   ]
  },
  {
   "cell_type": "markdown",
   "id": "79ff076b",
   "metadata": {},
   "source": [
    "## maybe keep all positive examples??"
   ]
  },
  {
   "cell_type": "markdown",
   "id": "9e4180f9",
   "metadata": {},
   "source": [
    "candidates = candidates.merge(val_transactions, on=['customer_id', 'article_id'], how='left').fillna({'label': 0})\n",
    "\n",
    "candidates['label'] = candidates['label'].astype(int)\n",
    "\n",
    "positive_candidates = candidates.groupby(['customer_id'])['label'].max().reset_index()\n",
    "\n",
    "positive_candidates.shape\n",
    "\n",
    "positive_candidates = positive_candidates[positive_candidates.label>0]\n",
    "\n",
    "positive_candidates.shape\n",
    "\n",
    "candidates.shape\n",
    "\n",
    "candidates = candidates[candidates.customer_id.isin(positive_candidates.customer_id.to_list())]\n",
    "\n",
    "candidates.shape"
   ]
  },
  {
   "cell_type": "code",
   "execution_count": null,
   "id": "58bd86bb",
   "metadata": {},
   "outputs": [],
   "source": []
  },
  {
   "cell_type": "code",
   "execution_count": null,
   "id": "fa984010",
   "metadata": {},
   "outputs": [],
   "source": []
  },
  {
   "cell_type": "code",
   "execution_count": 13,
   "id": "2c79055c",
   "metadata": {},
   "outputs": [],
   "source": [
    "candidates = candidates.sample(frac=1, random_state=888).groupby(['customer_id']).head(10).reset_index(drop=True)"
   ]
  },
  {
   "cell_type": "markdown",
   "id": "a0bdaa34",
   "metadata": {},
   "source": [
    "candidates = candidates.groupby(['customer_id']).sample(n=200, random_state=888).reset_index(drop=True)"
   ]
  },
  {
   "cell_type": "code",
   "execution_count": 14,
   "id": "cb72d6d5",
   "metadata": {},
   "outputs": [
    {
     "data": {
      "text/plain": [
       "(13719800, 6)"
      ]
     },
     "execution_count": 14,
     "metadata": {},
     "output_type": "execute_result"
    }
   ],
   "source": [
    "candidates.shape"
   ]
  },
  {
   "cell_type": "code",
   "execution_count": 15,
   "id": "9fe0f8f7",
   "metadata": {},
   "outputs": [
    {
     "data": {
      "text/plain": [
       "(213728, 3)"
      ]
     },
     "execution_count": 15,
     "metadata": {},
     "output_type": "execute_result"
    }
   ],
   "source": [
    "val_transactions.shape"
   ]
  },
  {
   "cell_type": "code",
   "execution_count": 16,
   "id": "540b4fd3",
   "metadata": {},
   "outputs": [],
   "source": [
    "candidates = candidates.merge(val_transactions, on=['customer_id', 'article_id'], how='left').fillna({'label': 0})"
   ]
  },
  {
   "cell_type": "code",
   "execution_count": 17,
   "id": "751727ad",
   "metadata": {},
   "outputs": [],
   "source": [
    "candidates['label'] = candidates['label'].astype(int)"
   ]
  },
  {
   "cell_type": "code",
   "execution_count": 18,
   "id": "c2f54471",
   "metadata": {},
   "outputs": [
    {
     "data": {
      "text/plain": [
       "(13719800, 7)"
      ]
     },
     "execution_count": 18,
     "metadata": {},
     "output_type": "execute_result"
    }
   ],
   "source": [
    "candidates.shape"
   ]
  },
  {
   "cell_type": "code",
   "execution_count": 19,
   "id": "8f72a4d4",
   "metadata": {},
   "outputs": [
    {
     "data": {
      "text/plain": [
       "1371980"
      ]
     },
     "execution_count": 19,
     "metadata": {},
     "output_type": "execute_result"
    }
   ],
   "source": [
    "candidates.customer_id.nunique()"
   ]
  },
  {
   "cell_type": "code",
   "execution_count": 20,
   "id": "c91c7d71",
   "metadata": {},
   "outputs": [
    {
     "data": {
      "text/html": [
       "<div>\n",
       "<style scoped>\n",
       "    .dataframe tbody tr th:only-of-type {\n",
       "        vertical-align: middle;\n",
       "    }\n",
       "\n",
       "    .dataframe tbody tr th {\n",
       "        vertical-align: top;\n",
       "    }\n",
       "\n",
       "    .dataframe thead th {\n",
       "        text-align: right;\n",
       "    }\n",
       "</style>\n",
       "<table border=\"1\" class=\"dataframe\">\n",
       "  <thead>\n",
       "    <tr style=\"text-align: right;\">\n",
       "      <th></th>\n",
       "      <th>customer_id</th>\n",
       "      <th>article_id</th>\n",
       "      <th>strategy_name</th>\n",
       "      <th>articles_jaccard_similarity</th>\n",
       "      <th>image_cosine_similarity</th>\n",
       "      <th>text_cosine_similarity</th>\n",
       "      <th>label</th>\n",
       "    </tr>\n",
       "  </thead>\n",
       "  <tbody>\n",
       "    <tr>\n",
       "      <th>0</th>\n",
       "      <td>3c7ae318f27e2457d45166db351c874b3d77f8ae3cec7f...</td>\n",
       "      <td>0896169002</td>\n",
       "      <td>global_articles</td>\n",
       "      <td>0.0000</td>\n",
       "      <td>0.0000</td>\n",
       "      <td>0.0000</td>\n",
       "      <td>0</td>\n",
       "    </tr>\n",
       "    <tr>\n",
       "      <th>1</th>\n",
       "      <td>584a2cf30e5cb9599325689d40f8dd82a5f1431c78eb9d...</td>\n",
       "      <td>0706016002</td>\n",
       "      <td>global_articles</td>\n",
       "      <td>0.0000</td>\n",
       "      <td>0.0000</td>\n",
       "      <td>0.0000</td>\n",
       "      <td>0</td>\n",
       "    </tr>\n",
       "    <tr>\n",
       "      <th>2</th>\n",
       "      <td>5e6083a51cd0fcc515db5fff30096431a30dac77d34242...</td>\n",
       "      <td>0898694002</td>\n",
       "      <td>global_articles</td>\n",
       "      <td>0.0000</td>\n",
       "      <td>0.0000</td>\n",
       "      <td>0.0000</td>\n",
       "      <td>0</td>\n",
       "    </tr>\n",
       "    <tr>\n",
       "      <th>3</th>\n",
       "      <td>251a455e496cffd99e2d22971627ec85768e81619e2c1b...</td>\n",
       "      <td>0573085028</td>\n",
       "      <td>global_articles</td>\n",
       "      <td>0.0000</td>\n",
       "      <td>0.0000</td>\n",
       "      <td>0.0000</td>\n",
       "      <td>0</td>\n",
       "    </tr>\n",
       "    <tr>\n",
       "      <th>4</th>\n",
       "      <td>1bc213ee255670e7b385ecef93d40d4c4d5e8982af1643...</td>\n",
       "      <td>0910601003</td>\n",
       "      <td>global_articles</td>\n",
       "      <td>0.0323</td>\n",
       "      <td>0.8796</td>\n",
       "      <td>0.5787</td>\n",
       "      <td>0</td>\n",
       "    </tr>\n",
       "  </tbody>\n",
       "</table>\n",
       "</div>"
      ],
      "text/plain": [
       "                                         customer_id  article_id  \\\n",
       "0  3c7ae318f27e2457d45166db351c874b3d77f8ae3cec7f...  0896169002   \n",
       "1  584a2cf30e5cb9599325689d40f8dd82a5f1431c78eb9d...  0706016002   \n",
       "2  5e6083a51cd0fcc515db5fff30096431a30dac77d34242...  0898694002   \n",
       "3  251a455e496cffd99e2d22971627ec85768e81619e2c1b...  0573085028   \n",
       "4  1bc213ee255670e7b385ecef93d40d4c4d5e8982af1643...  0910601003   \n",
       "\n",
       "     strategy_name  articles_jaccard_similarity  image_cosine_similarity  \\\n",
       "0  global_articles                       0.0000                   0.0000   \n",
       "1  global_articles                       0.0000                   0.0000   \n",
       "2  global_articles                       0.0000                   0.0000   \n",
       "3  global_articles                       0.0000                   0.0000   \n",
       "4  global_articles                       0.0323                   0.8796   \n",
       "\n",
       "   text_cosine_similarity  label  \n",
       "0                  0.0000      0  \n",
       "1                  0.0000      0  \n",
       "2                  0.0000      0  \n",
       "3                  0.0000      0  \n",
       "4                  0.5787      0  "
      ]
     },
     "execution_count": 20,
     "metadata": {},
     "output_type": "execute_result"
    }
   ],
   "source": [
    "candidates.head()"
   ]
  },
  {
   "cell_type": "code",
   "execution_count": 21,
   "id": "791db0b0",
   "metadata": {},
   "outputs": [
    {
     "data": {
      "text/plain": [
       "0   0.9998\n",
       "1   0.0002\n",
       "Name: label, dtype: float64"
      ]
     },
     "execution_count": 21,
     "metadata": {},
     "output_type": "execute_result"
    }
   ],
   "source": [
    "candidates.label.value_counts(normalize=True)"
   ]
  },
  {
   "cell_type": "code",
   "execution_count": 22,
   "id": "3805885b",
   "metadata": {},
   "outputs": [
    {
     "data": {
      "text/plain": [
       "0    137175296\n",
       "1        22704\n",
       "Name: label, dtype: int64"
      ]
     },
     "execution_count": 22,
     "metadata": {},
     "output_type": "execute_result"
    }
   ],
   "source": [
    "candidates.label.value_counts(normalize=False)"
   ]
  },
  {
   "cell_type": "code",
   "execution_count": 14,
   "id": "80d45161",
   "metadata": {},
   "outputs": [
    {
     "data": {
      "text/plain": [
       "6041.899929527836"
      ]
     },
     "execution_count": 14,
     "metadata": {},
     "output_type": "execute_result"
    }
   ],
   "source": [
    "137175296/22704"
   ]
  },
  {
   "cell_type": "code",
   "execution_count": 23,
   "id": "4a7c6a1b",
   "metadata": {},
   "outputs": [
    {
     "data": {
      "text/plain": [
       "count   1371980.0000\n",
       "mean        100.0000\n",
       "std           0.0000\n",
       "min         100.0000\n",
       "25%         100.0000\n",
       "50%         100.0000\n",
       "75%         100.0000\n",
       "max         100.0000\n",
       "Name: article_id, dtype: float64"
      ]
     },
     "execution_count": 23,
     "metadata": {},
     "output_type": "execute_result"
    }
   ],
   "source": [
    "candidates.groupby(['customer_id'])['article_id'].nunique().describe()"
   ]
  },
  {
   "cell_type": "markdown",
   "id": "9d665117",
   "metadata": {},
   "source": [
    "### optimizing data"
   ]
  },
  {
   "cell_type": "code",
   "execution_count": 19,
   "id": "715c9e9b",
   "metadata": {},
   "outputs": [],
   "source": [
    "def reduce_mem_usage(df, verbose=True):\n",
    "    numerics = ['int16', 'int32', 'int64', 'float16', 'float32', 'float64',\n",
    "               # fucking pandas types\n",
    "                'Int16', 'Int32', 'Int64', 'Float16', 'Float32', 'Float64'\n",
    "               ]\n",
    "    start_mem = df.memory_usage().sum() / 1024**2\n",
    "    print(f'Starting usage memory: {start_mem:.2f}')\n",
    "\n",
    "    for col in df.columns:\n",
    "        col_type = df[col].dtypes\n",
    "        if col_type in numerics:\n",
    "            c_min = df[col].min()\n",
    "            c_max = df[col].max()\n",
    "            if str(col_type).lower()[:3] == 'int':\n",
    "                if c_min > np.iinfo(np.int8).min and c_max < np.iinfo(np.int8).max:\n",
    "                    df[col] = df[col].astype(np.int8)\n",
    "                elif c_min > np.iinfo(np.int16).min and c_max < np.iinfo(np.int16).max:\n",
    "                    df[col] = df[col].astype(np.int16)\n",
    "                elif c_min > np.iinfo(np.int32).min and c_max < np.iinfo(np.int32).max:\n",
    "                    df[col] = df[col].astype(np.int32)\n",
    "                elif c_min > np.iinfo(np.int64).min and c_max < np.iinfo(np.int64).max:\n",
    "                    df[col] = df[col].astype(np.int64)\n",
    "            else:\n",
    "                if c_min > np.finfo(np.float32).min and c_max < np.finfo(np. float32).max:\n",
    "                    df[col] = df[col].astype(np.float32)\n",
    "                else:\n",
    "                    df[col] = df[col].astype(np.float64)\n",
    "        # if col_type == 'object':\n",
    "            # here\n",
    "    end_mem = df.memory_usage().sum() / 1024**2\n",
    "    if verbose:\n",
    "        print('Mem. usage decreased to {:5.2f} Mb ({:.1f}% reduction)'.format(end_mem, 100 * (start_mem - end_mem) / start_mem))\n",
    "    return df"
   ]
  },
  {
   "cell_type": "code",
   "execution_count": 20,
   "id": "055d35fc",
   "metadata": {},
   "outputs": [
    {
     "name": "stdout",
     "output_type": "stream",
     "text": [
      "Starting usage memory: 837.39\n",
      "Mem. usage decreased to 588.79 Mb (29.7% reduction)\n"
     ]
    }
   ],
   "source": [
    "candidates = reduce_mem_usage(candidates)"
   ]
  },
  {
   "cell_type": "markdown",
   "id": "ce2bf116",
   "metadata": {},
   "source": [
    "### regex"
   ]
  },
  {
   "cell_type": "code",
   "execution_count": 21,
   "id": "ed2529e5",
   "metadata": {},
   "outputs": [],
   "source": [
    "import re"
   ]
  },
  {
   "cell_type": "code",
   "execution_count": 22,
   "id": "1c20f650",
   "metadata": {},
   "outputs": [],
   "source": [
    "count_pattern = '^[Cc][Oo][Uu][Nn][Tt]'"
   ]
  },
  {
   "cell_type": "code",
   "execution_count": 23,
   "id": "89741771",
   "metadata": {},
   "outputs": [],
   "source": [
    "def fill_na_int(df, regex_pattern, fill_na_value):\n",
    "    cols = [col for col in df.columns if re.match(regex_pattern, col)]\n",
    "    df.loc[:, cols] = df.loc[:, cols].fillna(fill_na_value).astype(int)\n",
    "    return df"
   ]
  },
  {
   "cell_type": "markdown",
   "id": "9118049d",
   "metadata": {},
   "source": [
    "### articles"
   ]
  },
  {
   "cell_type": "code",
   "execution_count": 26,
   "id": "43506c9a",
   "metadata": {},
   "outputs": [
    {
     "name": "stdout",
     "output_type": "stream",
     "text": [
      "2022-08-24 11:12:48,427 - kedro.io.data_catalog - INFO - Loading data from `automated_articles_features` (ParquetDataSet)...\n"
     ]
    }
   ],
   "source": [
    "automated_articles_features = context.catalog.load('automated_articles_features')"
   ]
  },
  {
   "cell_type": "code",
   "execution_count": 27,
   "id": "10087bb7",
   "metadata": {},
   "outputs": [
    {
     "name": "stdout",
     "output_type": "stream",
     "text": [
      "2022-08-24 11:12:48,522 - kedro.io.data_catalog - INFO - Loading data from `manual_article_features` (ParquetDataSet)...\n"
     ]
    }
   ],
   "source": [
    "manual_article_features = context.catalog.load('manual_article_features')"
   ]
  },
  {
   "cell_type": "code",
   "execution_count": 28,
   "id": "d105a734",
   "metadata": {},
   "outputs": [],
   "source": [
    "automated_articles_features = fill_na_int(automated_articles_features, count_pattern, 0)"
   ]
  },
  {
   "cell_type": "code",
   "execution_count": 29,
   "id": "6e3f02b0",
   "metadata": {},
   "outputs": [
    {
     "name": "stdout",
     "output_type": "stream",
     "text": [
      "Starting usage memory: 19.73\n",
      "Mem. usage decreased to 12.08 Mb (38.8% reduction)\n"
     ]
    }
   ],
   "source": [
    "automated_articles_features = reduce_mem_usage(automated_articles_features)"
   ]
  },
  {
   "cell_type": "code",
   "execution_count": 30,
   "id": "6f2e5439",
   "metadata": {},
   "outputs": [
    {
     "name": "stdout",
     "output_type": "stream",
     "text": [
      "Starting usage memory: 0.75\n",
      "Mem. usage decreased to  0.50 Mb (33.3% reduction)\n"
     ]
    }
   ],
   "source": [
    "manual_article_features = reduce_mem_usage(manual_article_features)"
   ]
  },
  {
   "cell_type": "code",
   "execution_count": 31,
   "id": "36632c9f",
   "metadata": {},
   "outputs": [],
   "source": [
    "candidates = candidates.merge(automated_articles_features, how='left', on='article_id')"
   ]
  },
  {
   "cell_type": "code",
   "execution_count": 32,
   "id": "f9216b37",
   "metadata": {},
   "outputs": [],
   "source": [
    "candidates = candidates.merge(manual_article_features, how='left', on='article_id')"
   ]
  },
  {
   "cell_type": "code",
   "execution_count": 24,
   "id": "7025b4ce",
   "metadata": {},
   "outputs": [],
   "source": [
    "import gc"
   ]
  },
  {
   "cell_type": "code",
   "execution_count": 34,
   "id": "e7dd0a5a",
   "metadata": {},
   "outputs": [
    {
     "data": {
      "text/plain": [
       "1766"
      ]
     },
     "execution_count": 34,
     "metadata": {},
     "output_type": "execute_result"
    }
   ],
   "source": [
    "del automated_articles_features\n",
    "gc.collect()"
   ]
  },
  {
   "cell_type": "code",
   "execution_count": 35,
   "id": "b9d9cf42",
   "metadata": {},
   "outputs": [
    {
     "data": {
      "text/plain": [
       "0"
      ]
     },
     "execution_count": 35,
     "metadata": {},
     "output_type": "execute_result"
    }
   ],
   "source": [
    "del manual_article_features\n",
    "gc.collect()"
   ]
  },
  {
   "cell_type": "code",
   "execution_count": 36,
   "id": "7198b231",
   "metadata": {},
   "outputs": [
    {
     "data": {
      "text/plain": [
       "(137198000, 27)"
      ]
     },
     "execution_count": 36,
     "metadata": {},
     "output_type": "execute_result"
    }
   ],
   "source": [
    "candidates.shape"
   ]
  },
  {
   "cell_type": "markdown",
   "id": "d798ae2b",
   "metadata": {},
   "source": [
    "### customers"
   ]
  },
  {
   "cell_type": "code",
   "execution_count": 34,
   "id": "777039ad",
   "metadata": {},
   "outputs": [
    {
     "name": "stdout",
     "output_type": "stream",
     "text": [
      "2022-08-23 19:14:25,818 - kedro.io.data_catalog - INFO - Loading data from `automated_customers_features` (ParquetDataSet)...\n"
     ]
    }
   ],
   "source": [
    "automated_customers_features = context.catalog.load('automated_customers_features')"
   ]
  },
  {
   "cell_type": "code",
   "execution_count": 37,
   "id": "c37b7800",
   "metadata": {},
   "outputs": [
    {
     "name": "stdout",
     "output_type": "stream",
     "text": [
      "2022-08-24 11:15:01,103 - kedro.io.data_catalog - INFO - Loading data from `manual_customer_features` (ParquetDataSet)...\n"
     ]
    }
   ],
   "source": [
    "manual_customer_features = context.catalog.load('manual_customer_features')"
   ]
  },
  {
   "cell_type": "code",
   "execution_count": 36,
   "id": "7aeb9ca3",
   "metadata": {},
   "outputs": [],
   "source": [
    "automated_customers_features = fill_na_int(automated_customers_features, count_pattern, 0)"
   ]
  },
  {
   "cell_type": "code",
   "execution_count": 38,
   "id": "0c7ee06c",
   "metadata": {},
   "outputs": [],
   "source": [
    "manual_customer_features = fill_na_int(manual_customer_features, count_pattern, 0)"
   ]
  },
  {
   "cell_type": "code",
   "execution_count": 38,
   "id": "a6e50d61",
   "metadata": {},
   "outputs": [
    {
     "name": "stdout",
     "output_type": "stream",
     "text": [
      "Starting usage memory: 194.49\n",
      "Mem. usage decreased to 112.06 Mb (42.4% reduction)\n"
     ]
    }
   ],
   "source": [
    "automated_customers_features = reduce_mem_usage(automated_customers_features)"
   ]
  },
  {
   "cell_type": "code",
   "execution_count": 39,
   "id": "49809e2f",
   "metadata": {},
   "outputs": [
    {
     "name": "stdout",
     "output_type": "stream",
     "text": [
      "Starting usage memory: 26.20\n",
      "Mem. usage decreased to  7.74 Mb (70.5% reduction)\n"
     ]
    }
   ],
   "source": [
    "manual_customer_features = reduce_mem_usage(manual_customer_features)"
   ]
  },
  {
   "cell_type": "code",
   "execution_count": null,
   "id": "ab28c828",
   "metadata": {},
   "outputs": [],
   "source": [
    "candidates = candidates.merge(automated_customers_features, how='left', on='customer_id')"
   ]
  },
  {
   "cell_type": "code",
   "execution_count": 40,
   "id": "d001a9a1",
   "metadata": {},
   "outputs": [],
   "source": [
    "candidates = candidates.merge(manual_customer_features, how='left', on='customer_id')"
   ]
  },
  {
   "cell_type": "code",
   "execution_count": 41,
   "id": "b7bec76c",
   "metadata": {},
   "outputs": [],
   "source": [
    "candidates = fill_na_int(candidates, count_pattern, 0)"
   ]
  },
  {
   "cell_type": "code",
   "execution_count": 42,
   "id": "27ad1f8b",
   "metadata": {},
   "outputs": [
    {
     "name": "stdout",
     "output_type": "stream",
     "text": [
      "Starting usage memory: 26822.65\n",
      "Mem. usage decreased to 18972.12 Mb (29.3% reduction)\n"
     ]
    }
   ],
   "source": [
    "candidates = reduce_mem_usage(candidates)"
   ]
  },
  {
   "cell_type": "code",
   "execution_count": null,
   "id": "4cb19700",
   "metadata": {},
   "outputs": [],
   "source": []
  },
  {
   "cell_type": "code",
   "execution_count": 43,
   "id": "eaae7c4e",
   "metadata": {},
   "outputs": [
    {
     "data": {
      "text/plain": [
       "60"
      ]
     },
     "execution_count": 43,
     "metadata": {},
     "output_type": "execute_result"
    }
   ],
   "source": [
    "del automated_customers_features\n",
    "gc.collect()"
   ]
  },
  {
   "cell_type": "code",
   "execution_count": 43,
   "id": "6cd95086",
   "metadata": {},
   "outputs": [
    {
     "data": {
      "text/plain": [
       "30"
      ]
     },
     "execution_count": 43,
     "metadata": {},
     "output_type": "execute_result"
    }
   ],
   "source": [
    "del manual_customer_features\n",
    "gc.collect()"
   ]
  },
  {
   "cell_type": "code",
   "execution_count": 44,
   "id": "03d9807f",
   "metadata": {},
   "outputs": [
    {
     "data": {
      "text/plain": [
       "(137198000, 37)"
      ]
     },
     "execution_count": 44,
     "metadata": {},
     "output_type": "execute_result"
    }
   ],
   "source": [
    "candidates.shape"
   ]
  },
  {
   "cell_type": "code",
   "execution_count": 25,
   "id": "e9b214e8",
   "metadata": {},
   "outputs": [],
   "source": [
    "candidates['strategy_name'] = candidates['strategy_name'].astype('category')"
   ]
  },
  {
   "cell_type": "code",
   "execution_count": 25,
   "id": "ced49669",
   "metadata": {
    "scrolled": true
   },
   "outputs": [
    {
     "data": {
      "text/plain": [
       "497.2006034851074"
      ]
     },
     "execution_count": 25,
     "metadata": {},
     "output_type": "execute_result"
    }
   ],
   "source": [
    "candidates.memory_usage().sum() / 1024**2"
   ]
  },
  {
   "cell_type": "markdown",
   "id": "174f22eb",
   "metadata": {},
   "source": [
    "### dictionary features"
   ]
  },
  {
   "cell_type": "code",
   "execution_count": 26,
   "id": "9d974b68",
   "metadata": {},
   "outputs": [
    {
     "name": "stdout",
     "output_type": "stream",
     "text": [
      "2022-08-25 13:22:19,524 - kedro.io.data_catalog - INFO - Loading data from `articles` (CSVDataSet)...\n"
     ]
    }
   ],
   "source": [
    "articles = context.catalog.load('articles')"
   ]
  },
  {
   "cell_type": "code",
   "execution_count": 27,
   "id": "302f2961",
   "metadata": {},
   "outputs": [
    {
     "name": "stdout",
     "output_type": "stream",
     "text": [
      "2022-08-25 13:22:19,870 - kedro.io.data_catalog - INFO - Loading data from `customers` (CSVDataSet)...\n"
     ]
    }
   ],
   "source": [
    "customers = context.catalog.load('customers')"
   ]
  },
  {
   "cell_type": "code",
   "execution_count": 28,
   "id": "51af7c4b",
   "metadata": {},
   "outputs": [],
   "source": [
    "drop_cols_articles = ['prod_name', 'product_type_name', 'graphical_appearance_name', 'colour_group_name', 'perceived_colour_value_name', 'perceived_colour_master_name', 'index_name', 'index_group_name', 'section_name', 'garment_group_name', 'detail_desc']"
   ]
  },
  {
   "cell_type": "code",
   "execution_count": 29,
   "id": "e358bf64",
   "metadata": {},
   "outputs": [],
   "source": [
    "# these cols are just the same values as _no (OR SIMILAR, HAVEN'T CHECKED) but mostly DUPLICATES\n",
    "articles.drop(drop_cols_articles, axis=1, inplace=True)"
   ]
  },
  {
   "cell_type": "code",
   "execution_count": 30,
   "id": "cd2704fa",
   "metadata": {},
   "outputs": [
    {
     "name": "stdout",
     "output_type": "stream",
     "text": [
      "Starting usage memory: 11.27\n",
      "Mem. usage decreased to  5.13 Mb (54.5% reduction)\n"
     ]
    }
   ],
   "source": [
    "articles = reduce_mem_usage(articles)"
   ]
  },
  {
   "cell_type": "code",
   "execution_count": 31,
   "id": "48e3feb1",
   "metadata": {},
   "outputs": [
    {
     "name": "stdout",
     "output_type": "stream",
     "text": [
      "Starting usage memory: 73.27\n",
      "Mem. usage decreased to 57.57 Mb (21.4% reduction)\n"
     ]
    }
   ],
   "source": [
    "customers = reduce_mem_usage(customers)"
   ]
  },
  {
   "cell_type": "code",
   "execution_count": 32,
   "id": "ee565365",
   "metadata": {},
   "outputs": [],
   "source": [
    "candidates = candidates.merge(customers, how='left', on='customer_id')"
   ]
  },
  {
   "cell_type": "code",
   "execution_count": 32,
   "id": "688dee11",
   "metadata": {},
   "outputs": [],
   "source": [
    "import gc"
   ]
  },
  {
   "cell_type": "code",
   "execution_count": 33,
   "id": "fb49c357",
   "metadata": {},
   "outputs": [
    {
     "data": {
      "text/plain": [
       "1930"
      ]
     },
     "execution_count": 33,
     "metadata": {},
     "output_type": "execute_result"
    }
   ],
   "source": [
    "del customers\n",
    "gc.collect()"
   ]
  },
  {
   "cell_type": "code",
   "execution_count": 34,
   "id": "d9383643",
   "metadata": {},
   "outputs": [],
   "source": [
    "candidates = candidates.merge(articles, how='left', on='article_id')"
   ]
  },
  {
   "cell_type": "code",
   "execution_count": 35,
   "id": "7c8e5204",
   "metadata": {},
   "outputs": [
    {
     "data": {
      "text/plain": [
       "0"
      ]
     },
     "execution_count": 35,
     "metadata": {},
     "output_type": "execute_result"
    }
   ],
   "source": [
    "del articles\n",
    "gc.collect()"
   ]
  },
  {
   "cell_type": "code",
   "execution_count": 36,
   "id": "ee895271",
   "metadata": {},
   "outputs": [
    {
     "name": "stdout",
     "output_type": "stream",
     "text": [
      "Starting usage memory: 1530.85\n",
      "Mem. usage decreased to 1530.85 Mb (0.0% reduction)\n"
     ]
    }
   ],
   "source": [
    "candidates = reduce_mem_usage(candidates)"
   ]
  },
  {
   "cell_type": "code",
   "execution_count": 37,
   "id": "4d185419",
   "metadata": {},
   "outputs": [
    {
     "data": {
      "text/plain": [
       "(13719800, 26)"
      ]
     },
     "execution_count": 37,
     "metadata": {},
     "output_type": "execute_result"
    }
   ],
   "source": [
    "candidates.shape"
   ]
  },
  {
   "cell_type": "code",
   "execution_count": 38,
   "id": "2f3a6146",
   "metadata": {},
   "outputs": [],
   "source": [
    "candidates.loc[:, ['index_code', 'club_member_status',\n",
    "       'fashion_news_frequency', 'postal_code', 'product_group_name',\n",
    "       'department_name', 'FN', 'Active']] = candidates.loc[:, ['index_code',\n",
    "                                                                'club_member_status',\n",
    "       'fashion_news_frequency', 'postal_code', 'product_group_name',\n",
    "       'department_name', 'FN', 'Active']].astype('category')"
   ]
  },
  {
   "cell_type": "code",
   "execution_count": 55,
   "id": "f1397af6",
   "metadata": {},
   "outputs": [],
   "source": [
    "candidates.loc[:, ['index_code', 'product_group_name', 'department_name']] = candidates.loc[:, ['index_code', 'product_group_name', 'department_name']].astype('category')"
   ]
  },
  {
   "cell_type": "code",
   "execution_count": 46,
   "id": "ec2da5ec",
   "metadata": {},
   "outputs": [],
   "source": [
    "candidates.loc[:, ['club_member_status', 'fashion_news_frequency', 'postal_code', 'FN', 'Active']] = (\n",
    "    candidates.loc[:, ['club_member_status', 'fashion_news_frequency', 'postal_code', 'FN', 'Active']].astype('category')\n",
    ")"
   ]
  },
  {
   "cell_type": "code",
   "execution_count": 39,
   "id": "77928285",
   "metadata": {
    "scrolled": true
   },
   "outputs": [
    {
     "data": {
      "text/plain": [
       "965.914623260498"
      ]
     },
     "execution_count": 39,
     "metadata": {},
     "output_type": "execute_result"
    }
   ],
   "source": [
    "candidates.memory_usage().sum() / 1024**2"
   ]
  },
  {
   "cell_type": "markdown",
   "id": "2781d365",
   "metadata": {},
   "source": [
    "### import lightgbm"
   ]
  },
  {
   "cell_type": "code",
   "execution_count": 40,
   "id": "54ebc5aa",
   "metadata": {},
   "outputs": [],
   "source": [
    "import lightgbm as lgb"
   ]
  },
  {
   "cell_type": "code",
   "execution_count": 41,
   "id": "b701b71b",
   "metadata": {},
   "outputs": [
    {
     "data": {
      "text/plain": [
       "Index(['strategy_name', 'FN', 'Active', 'club_member_status',\n",
       "       'fashion_news_frequency', 'postal_code', 'product_group_name',\n",
       "       'department_name', 'index_code'],\n",
       "      dtype='object')"
      ]
     },
     "execution_count": 41,
     "metadata": {},
     "output_type": "execute_result"
    }
   ],
   "source": [
    "candidates.select_dtypes(include='category').columns"
   ]
  },
  {
   "cell_type": "code",
   "execution_count": 42,
   "id": "5919886f",
   "metadata": {},
   "outputs": [
    {
     "data": {
      "text/plain": [
       "0.0016618318051283545"
      ]
     },
     "execution_count": 42,
     "metadata": {},
     "output_type": "execute_result"
    }
   ],
   "source": [
    "# train positive rate\n",
    "candidates.label.mean() * 10"
   ]
  },
  {
   "cell_type": "code",
   "execution_count": 43,
   "id": "7521fd09",
   "metadata": {},
   "outputs": [],
   "source": [
    "features = [col for col in candidates.columns if col not in ['label', 'customer_id', 'article_id']]"
   ]
  },
  {
   "cell_type": "code",
   "execution_count": 44,
   "id": "b900853f",
   "metadata": {},
   "outputs": [],
   "source": [
    "cat_features = candidates.select_dtypes(include='category').columns.to_list()"
   ]
  },
  {
   "cell_type": "code",
   "execution_count": 45,
   "id": "e7c9f4c3",
   "metadata": {},
   "outputs": [
    {
     "data": {
      "text/plain": [
       "['strategy_name',\n",
       " 'FN',\n",
       " 'Active',\n",
       " 'club_member_status',\n",
       " 'fashion_news_frequency',\n",
       " 'postal_code',\n",
       " 'product_group_name',\n",
       " 'department_name',\n",
       " 'index_code']"
      ]
     },
     "execution_count": 45,
     "metadata": {},
     "output_type": "execute_result"
    }
   ],
   "source": [
    "cat_features"
   ]
  },
  {
   "cell_type": "markdown",
   "id": "1a25d6a8",
   "metadata": {},
   "source": [
    "### ranker"
   ]
  },
  {
   "cell_type": "code",
   "execution_count": 46,
   "id": "757cd64b",
   "metadata": {},
   "outputs": [],
   "source": [
    "params = {\n",
    "    \"objective\": \"lambdarank\",\n",
    "    \"boosting_type\": \"gbdt\",\n",
    "    \"metric\": \"map\",\n",
    "    \"max_depth\": 8,\n",
    "    \"num_leaves\": 128,\n",
    "    \"learning_rate\": 0.03,\n",
    "    \"verbose\": 1,\n",
    "    \"eval_at\": [1, 2, 3, 4, 5, 6, 7, 8, 9, 10, 11, 12],\n",
    "    # 'device':'gpu'\n",
    "}"
   ]
  },
  {
   "cell_type": "code",
   "execution_count": 47,
   "id": "d1017f92",
   "metadata": {},
   "outputs": [
    {
     "data": {
      "text/html": [
       "<div>\n",
       "<style scoped>\n",
       "    .dataframe tbody tr th:only-of-type {\n",
       "        vertical-align: middle;\n",
       "    }\n",
       "\n",
       "    .dataframe tbody tr th {\n",
       "        vertical-align: top;\n",
       "    }\n",
       "\n",
       "    .dataframe thead th {\n",
       "        text-align: right;\n",
       "    }\n",
       "</style>\n",
       "<table border=\"1\" class=\"dataframe\">\n",
       "  <thead>\n",
       "    <tr style=\"text-align: right;\">\n",
       "      <th></th>\n",
       "      <th>customer_id</th>\n",
       "      <th>article_id</th>\n",
       "      <th>strategy_name</th>\n",
       "      <th>articles_jaccard_similarity</th>\n",
       "      <th>image_cosine_similarity</th>\n",
       "      <th>text_cosine_similarity</th>\n",
       "      <th>label</th>\n",
       "      <th>FN</th>\n",
       "      <th>Active</th>\n",
       "      <th>club_member_status</th>\n",
       "      <th>...</th>\n",
       "      <th>graphical_appearance_no</th>\n",
       "      <th>colour_group_code</th>\n",
       "      <th>perceived_colour_value_id</th>\n",
       "      <th>perceived_colour_master_id</th>\n",
       "      <th>department_no</th>\n",
       "      <th>department_name</th>\n",
       "      <th>index_code</th>\n",
       "      <th>index_group_no</th>\n",
       "      <th>section_no</th>\n",
       "      <th>garment_group_no</th>\n",
       "    </tr>\n",
       "  </thead>\n",
       "  <tbody>\n",
       "    <tr>\n",
       "      <th>0</th>\n",
       "      <td>3c7ae318f27e2457d45166db351c874b3d77f8ae3cec7f...</td>\n",
       "      <td>0896169002</td>\n",
       "      <td>global_articles</td>\n",
       "      <td>0.0000</td>\n",
       "      <td>0.0000</td>\n",
       "      <td>0.0000</td>\n",
       "      <td>0</td>\n",
       "      <td>1.0000</td>\n",
       "      <td>1.0000</td>\n",
       "      <td>ACTIVE</td>\n",
       "      <td>...</td>\n",
       "      <td>1010010</td>\n",
       "      <td>7</td>\n",
       "      <td>2</td>\n",
       "      <td>12</td>\n",
       "      <td>1626</td>\n",
       "      <td>Knitwear</td>\n",
       "      <td>A</td>\n",
       "      <td>1</td>\n",
       "      <td>15</td>\n",
       "      <td>1003</td>\n",
       "    </tr>\n",
       "    <tr>\n",
       "      <th>1</th>\n",
       "      <td>584a2cf30e5cb9599325689d40f8dd82a5f1431c78eb9d...</td>\n",
       "      <td>0706016002</td>\n",
       "      <td>global_articles</td>\n",
       "      <td>0.0000</td>\n",
       "      <td>0.0000</td>\n",
       "      <td>0.0000</td>\n",
       "      <td>0</td>\n",
       "      <td>1.0000</td>\n",
       "      <td>1.0000</td>\n",
       "      <td>ACTIVE</td>\n",
       "      <td>...</td>\n",
       "      <td>1010016</td>\n",
       "      <td>71</td>\n",
       "      <td>3</td>\n",
       "      <td>2</td>\n",
       "      <td>1747</td>\n",
       "      <td>Trousers</td>\n",
       "      <td>D</td>\n",
       "      <td>2</td>\n",
       "      <td>53</td>\n",
       "      <td>1009</td>\n",
       "    </tr>\n",
       "    <tr>\n",
       "      <th>2</th>\n",
       "      <td>5e6083a51cd0fcc515db5fff30096431a30dac77d34242...</td>\n",
       "      <td>0898694002</td>\n",
       "      <td>global_articles</td>\n",
       "      <td>0.0000</td>\n",
       "      <td>0.0000</td>\n",
       "      <td>0.0000</td>\n",
       "      <td>0</td>\n",
       "      <td>NaN</td>\n",
       "      <td>NaN</td>\n",
       "      <td>ACTIVE</td>\n",
       "      <td>...</td>\n",
       "      <td>1010010</td>\n",
       "      <td>8</td>\n",
       "      <td>4</td>\n",
       "      <td>12</td>\n",
       "      <td>1222</td>\n",
       "      <td>Suit jacket</td>\n",
       "      <td>A</td>\n",
       "      <td>1</td>\n",
       "      <td>15</td>\n",
       "      <td>1008</td>\n",
       "    </tr>\n",
       "    <tr>\n",
       "      <th>3</th>\n",
       "      <td>251a455e496cffd99e2d22971627ec85768e81619e2c1b...</td>\n",
       "      <td>0573085028</td>\n",
       "      <td>global_articles</td>\n",
       "      <td>0.0000</td>\n",
       "      <td>0.0000</td>\n",
       "      <td>0.0000</td>\n",
       "      <td>0</td>\n",
       "      <td>NaN</td>\n",
       "      <td>NaN</td>\n",
       "      <td>ACTIVE</td>\n",
       "      <td>...</td>\n",
       "      <td>1010016</td>\n",
       "      <td>9</td>\n",
       "      <td>4</td>\n",
       "      <td>5</td>\n",
       "      <td>1722</td>\n",
       "      <td>Trouser</td>\n",
       "      <td>A</td>\n",
       "      <td>1</td>\n",
       "      <td>15</td>\n",
       "      <td>1009</td>\n",
       "    </tr>\n",
       "    <tr>\n",
       "      <th>4</th>\n",
       "      <td>1bc213ee255670e7b385ecef93d40d4c4d5e8982af1643...</td>\n",
       "      <td>0910601003</td>\n",
       "      <td>global_articles</td>\n",
       "      <td>0.0323</td>\n",
       "      <td>0.8796</td>\n",
       "      <td>0.5787</td>\n",
       "      <td>0</td>\n",
       "      <td>NaN</td>\n",
       "      <td>NaN</td>\n",
       "      <td>ACTIVE</td>\n",
       "      <td>...</td>\n",
       "      <td>1010018</td>\n",
       "      <td>13</td>\n",
       "      <td>1</td>\n",
       "      <td>1</td>\n",
       "      <td>1722</td>\n",
       "      <td>Trouser</td>\n",
       "      <td>A</td>\n",
       "      <td>1</td>\n",
       "      <td>15</td>\n",
       "      <td>1009</td>\n",
       "    </tr>\n",
       "  </tbody>\n",
       "</table>\n",
       "<p>5 rows × 26 columns</p>\n",
       "</div>"
      ],
      "text/plain": [
       "                                         customer_id  article_id  \\\n",
       "0  3c7ae318f27e2457d45166db351c874b3d77f8ae3cec7f...  0896169002   \n",
       "1  584a2cf30e5cb9599325689d40f8dd82a5f1431c78eb9d...  0706016002   \n",
       "2  5e6083a51cd0fcc515db5fff30096431a30dac77d34242...  0898694002   \n",
       "3  251a455e496cffd99e2d22971627ec85768e81619e2c1b...  0573085028   \n",
       "4  1bc213ee255670e7b385ecef93d40d4c4d5e8982af1643...  0910601003   \n",
       "\n",
       "     strategy_name  articles_jaccard_similarity  image_cosine_similarity  \\\n",
       "0  global_articles                       0.0000                   0.0000   \n",
       "1  global_articles                       0.0000                   0.0000   \n",
       "2  global_articles                       0.0000                   0.0000   \n",
       "3  global_articles                       0.0000                   0.0000   \n",
       "4  global_articles                       0.0323                   0.8796   \n",
       "\n",
       "   text_cosine_similarity  label     FN Active club_member_status  ...  \\\n",
       "0                  0.0000      0 1.0000 1.0000             ACTIVE  ...   \n",
       "1                  0.0000      0 1.0000 1.0000             ACTIVE  ...   \n",
       "2                  0.0000      0    NaN    NaN             ACTIVE  ...   \n",
       "3                  0.0000      0    NaN    NaN             ACTIVE  ...   \n",
       "4                  0.5787      0    NaN    NaN             ACTIVE  ...   \n",
       "\n",
       "  graphical_appearance_no  colour_group_code perceived_colour_value_id  \\\n",
       "0                 1010010                  7                         2   \n",
       "1                 1010016                 71                         3   \n",
       "2                 1010010                  8                         4   \n",
       "3                 1010016                  9                         4   \n",
       "4                 1010018                 13                         1   \n",
       "\n",
       "   perceived_colour_master_id  department_no department_name  index_code  \\\n",
       "0                          12           1626        Knitwear           A   \n",
       "1                           2           1747        Trousers           D   \n",
       "2                          12           1222     Suit jacket           A   \n",
       "3                           5           1722         Trouser           A   \n",
       "4                           1           1722         Trouser           A   \n",
       "\n",
       "   index_group_no  section_no  garment_group_no  \n",
       "0               1          15              1003  \n",
       "1               2          53              1009  \n",
       "2               1          15              1008  \n",
       "3               1          15              1009  \n",
       "4               1          15              1009  \n",
       "\n",
       "[5 rows x 26 columns]"
      ]
     },
     "execution_count": 47,
     "metadata": {},
     "output_type": "execute_result"
    }
   ],
   "source": [
    "candidates.head()"
   ]
  },
  {
   "cell_type": "code",
   "execution_count": 48,
   "id": "bf28636a",
   "metadata": {},
   "outputs": [],
   "source": [
    "df_split = candidates.groupby(['customer_id'])['label'].max().reset_index()"
   ]
  },
  {
   "cell_type": "code",
   "execution_count": 49,
   "id": "f39a9dd4",
   "metadata": {},
   "outputs": [],
   "source": [
    "from sklearn.model_selection import train_test_split"
   ]
  },
  {
   "cell_type": "code",
   "execution_count": 50,
   "id": "a6a42be7",
   "metadata": {},
   "outputs": [],
   "source": [
    "train_candidates, val_candidates = train_test_split(df_split, test_size=0.15, random_state=42, stratify=df_split['label'])"
   ]
  },
  {
   "cell_type": "code",
   "execution_count": 51,
   "id": "bff2f979",
   "metadata": {},
   "outputs": [],
   "source": [
    "train_candidates = candidates[candidates.customer_id.isin(train_candidates['customer_id'].unique())]"
   ]
  },
  {
   "cell_type": "code",
   "execution_count": 52,
   "id": "d122ebd4",
   "metadata": {},
   "outputs": [],
   "source": [
    "val_candidates = candidates[candidates.customer_id.isin(val_candidates['customer_id'].unique())]"
   ]
  },
  {
   "cell_type": "code",
   "execution_count": null,
   "id": "df12616c",
   "metadata": {},
   "outputs": [],
   "source": []
  },
  {
   "cell_type": "code",
   "execution_count": 53,
   "id": "4451cb06",
   "metadata": {},
   "outputs": [
    {
     "data": {
      "text/plain": [
       "0"
      ]
     },
     "execution_count": 53,
     "metadata": {},
     "output_type": "execute_result"
    }
   ],
   "source": [
    "del candidates\n",
    "gc.collect()"
   ]
  },
  {
   "cell_type": "code",
   "execution_count": 54,
   "id": "581f0f6b",
   "metadata": {},
   "outputs": [
    {
     "data": {
      "text/plain": [
       "0.001662689303479814"
      ]
     },
     "execution_count": 54,
     "metadata": {},
     "output_type": "execute_result"
    }
   ],
   "source": [
    "# train positive rate\n",
    "train_candidates.label.mean() * 10"
   ]
  },
  {
   "cell_type": "code",
   "execution_count": 55,
   "id": "88ce1e4f",
   "metadata": {},
   "outputs": [
    {
     "data": {
      "text/plain": [
       "0.001656972647803418"
      ]
     },
     "execution_count": 55,
     "metadata": {},
     "output_type": "execute_result"
    }
   ],
   "source": [
    "# val positive rate\n",
    "val_candidates.label.mean() * 10"
   ]
  },
  {
   "cell_type": "markdown",
   "id": "68c429d6",
   "metadata": {},
   "source": [
    "##### groups"
   ]
  },
  {
   "cell_type": "code",
   "execution_count": 56,
   "id": "0b2e5897",
   "metadata": {},
   "outputs": [],
   "source": [
    "train_group = train_candidates[['customer_id', 'article_id']]"
   ]
  },
  {
   "cell_type": "code",
   "execution_count": 57,
   "id": "c16e51c8",
   "metadata": {},
   "outputs": [],
   "source": [
    "train_group = train_group.groupby(['customer_id']).size().values"
   ]
  },
  {
   "cell_type": "code",
   "execution_count": 58,
   "id": "052f043f",
   "metadata": {},
   "outputs": [],
   "source": [
    "val_group = val_candidates[['customer_id', 'article_id']]"
   ]
  },
  {
   "cell_type": "code",
   "execution_count": 59,
   "id": "e1078fa8",
   "metadata": {},
   "outputs": [],
   "source": [
    "val_group = val_group.groupby(['customer_id']).size().values"
   ]
  },
  {
   "cell_type": "markdown",
   "id": "126175a1",
   "metadata": {},
   "source": [
    "##### datasets"
   ]
  },
  {
   "cell_type": "code",
   "execution_count": 60,
   "id": "7714c9c3",
   "metadata": {},
   "outputs": [],
   "source": [
    "train_set = lgb.Dataset(\n",
    "        data=train_candidates[features],\n",
    "        label=train_candidates[\"label\"],\n",
    "        group=train_group,\n",
    "        feature_name=features,\n",
    "        categorical_feature=cat_features,\n",
    "    )"
   ]
  },
  {
   "cell_type": "code",
   "execution_count": 61,
   "id": "d3da6691",
   "metadata": {},
   "outputs": [],
   "source": [
    "val_set = lgb.Dataset(\n",
    "        data=val_candidates[features],\n",
    "        label=val_candidates[\"label\"],\n",
    "        group=val_group,\n",
    "        feature_name=features,\n",
    "        categorical_feature=cat_features,\n",
    "    )"
   ]
  },
  {
   "cell_type": "code",
   "execution_count": 62,
   "id": "e63b1234",
   "metadata": {},
   "outputs": [
    {
     "name": "stderr",
     "output_type": "stream",
     "text": [
      "/Users/mmadej/Desktop/Projects/gid-ml-framework/.venv/lib/python3.8/site-packages/lightgbm/basic.py:2065: UserWarning: Using categorical_feature in Dataset.\n",
      "  _log_warning('Using categorical_feature in Dataset.')\n"
     ]
    },
    {
     "name": "stdout",
     "output_type": "stream",
     "text": [
      "[LightGBM] [Info] Total groups: 1166183, total data: 11661830\n",
      "[LightGBM] [Warning] Auto-choosing row-wise multi-threading, the overhead of testing was 0.499043 seconds.\n",
      "You can set `force_row_wise=true` to remove the overhead.\n",
      "And if memory is not enough, you can set `force_col_wise=true`.\n",
      "[LightGBM] [Info] Total Bins 13448\n",
      "[LightGBM] [Info] Number of data points in the train set: 11661830, number of used features: 23\n"
     ]
    },
    {
     "name": "stderr",
     "output_type": "stream",
     "text": [
      "/Users/mmadej/Desktop/Projects/gid-ml-framework/.venv/lib/python3.8/site-packages/lightgbm/basic.py:1780: UserWarning: Overriding the parameters from Reference Dataset.\n",
      "  _log_warning('Overriding the parameters from Reference Dataset.')\n",
      "/Users/mmadej/Desktop/Projects/gid-ml-framework/.venv/lib/python3.8/site-packages/lightgbm/basic.py:1513: UserWarning: categorical_column in param dict is overridden.\n",
      "  _log_warning(f'{cat_alias} in param dict is overridden.')\n"
     ]
    },
    {
     "name": "stdout",
     "output_type": "stream",
     "text": [
      "[LightGBM] [Info] Total groups: 205797, total data: 2057970\n",
      "Training until validation scores don't improve for 10 rounds\n",
      "Early stopping, best iteration is:\n",
      "[9]\ttrain's map@1: 0.999287\ttrain's map@2: 0.999404\ttrain's map@3: 0.999451\ttrain's map@4: 0.999476\ttrain's map@5: 0.999492\ttrain's map@6: 0.9995\ttrain's map@7: 0.999507\ttrain's map@8: 0.999511\ttrain's map@9: 0.999513\ttrain's map@10: 0.999514\ttrain's map@11: 0.999514\ttrain's map@12: 0.999514\tvalid's map@1: 0.999004\tvalid's map@2: 0.999172\tvalid's map@3: 0.999225\tvalid's map@4: 0.999263\tvalid's map@5: 0.999286\tvalid's map@6: 0.999297\tvalid's map@7: 0.999307\tvalid's map@8: 0.999309\tvalid's map@9: 0.999315\tvalid's map@10: 0.999318\tvalid's map@11: 0.999318\tvalid's map@12: 0.999318\n"
     ]
    }
   ],
   "source": [
    "ranker = lgb.train(\n",
    "        params,\n",
    "        train_set,\n",
    "        valid_sets=[train_set, val_set],\n",
    "        valid_names=['train', 'valid'],\n",
    "        num_boost_round=500,\n",
    "        callbacks=[lgb.early_stopping(stopping_rounds=10)]\n",
    "    )"
   ]
  },
  {
   "cell_type": "code",
   "execution_count": 63,
   "id": "de11fabe",
   "metadata": {},
   "outputs": [
    {
     "data": {
      "text/plain": [
       "defaultdict(collections.OrderedDict,\n",
       "            {'train': OrderedDict([('map@1', 0.9992865613715858),\n",
       "                          ('map@2', 0.9994044673949114),\n",
       "                          ('map@3', 0.999451058138674),\n",
       "                          ('map@4', 0.9994759255908663),\n",
       "                          ('map@5', 0.9994923895592143),\n",
       "                          ('map@6', 0.9995003928771614),\n",
       "                          ('map@7', 0.999506517865386),\n",
       "                          ('map@8', 0.9995110197317312),\n",
       "                          ('map@9', 0.9995130205612178),\n",
       "                          ('map@10', 0.9995141353090747),\n",
       "                          ('map@11', 0.9995141353090747),\n",
       "                          ('map@12', 0.9995141353090747)]),\n",
       "             'valid': OrderedDict([('map@1', 0.999003872748388),\n",
       "                          ('map@2', 0.9991715136760982),\n",
       "                          ('map@3', 0.9992249644066726),\n",
       "                          ('map@4', 0.9992626228759408),\n",
       "                          ('map@5', 0.9992859468311005),\n",
       "                          ('map@6', 0.9992972848648586),\n",
       "                          ('map@7', 0.9993070031795085),\n",
       "                          ('map@8', 0.999309432758171),\n",
       "                          ('map@9', 0.9993148318218655),\n",
       "                          ('map@10', 0.9993177473162604),\n",
       "                          ('map@11', 0.9993177473162604),\n",
       "                          ('map@12', 0.9993177473162604)])})"
      ]
     },
     "execution_count": 63,
     "metadata": {},
     "output_type": "execute_result"
    }
   ],
   "source": [
    "ranker.best_score"
   ]
  },
  {
   "cell_type": "code",
   "execution_count": 75,
   "id": "f645bca0",
   "metadata": {},
   "outputs": [
    {
     "data": {
      "text/plain": [
       "<lightgbm.basic.Booster at 0x296fff910>"
      ]
     },
     "execution_count": 75,
     "metadata": {},
     "output_type": "execute_result"
    }
   ],
   "source": [
    "ranker.save_model('ranker_model_20220824.txt',\n",
    "        num_iteration=ranker.best_iteration,\n",
    "    )"
   ]
  },
  {
   "cell_type": "code",
   "execution_count": null,
   "id": "4ba6fc99",
   "metadata": {},
   "outputs": [],
   "source": []
  },
  {
   "cell_type": "code",
   "execution_count": 64,
   "id": "f9f4caee",
   "metadata": {},
   "outputs": [],
   "source": [
    "import numpy as np\n",
    "\n",
    "\n",
    "def _ap_at_k(actual, predicted, k=10):\n",
    "    if len(predicted) > k:\n",
    "        predicted = predicted[:k]\n",
    "\n",
    "    score = 0.0\n",
    "    num_hits = 0.0\n",
    "\n",
    "    for i, p in enumerate(predicted):\n",
    "        if p in actual and p not in predicted[:i]:\n",
    "            num_hits += 1.0\n",
    "            score += num_hits / (i + 1.0)\n",
    "\n",
    "    if actual is None:\n",
    "        return 0.0\n",
    "\n",
    "    return score / min(len(actual), k)\n",
    "\n",
    "\n",
    "\n",
    "def map_at_k(actual, predicted, k=12):\n",
    "    \"\"\"Compute mean average precision @ k.\n",
    "    Parameters\n",
    "    ----------\n",
    "    actual : Iterable\n",
    "        Label.\n",
    "    predicted : Iterable\n",
    "        Predictions.\n",
    "    k : int, optional\n",
    "        k, by default ``12``.\n",
    "    Returns\n",
    "    -------\n",
    "    float\n",
    "        MAP@k.\n",
    "    \"\"\"\n",
    "    return np.mean(\n",
    "        [_ap_at_k(a, p, k) for a, p in zip(actual, predicted) if a is not None]\n",
    "    )"
   ]
  },
  {
   "cell_type": "code",
   "execution_count": 65,
   "id": "6e2b3ba5",
   "metadata": {},
   "outputs": [],
   "source": [
    "def predict(ranker, candidates):\n",
    "    candidates['prob'] = ranker.predict(candidates.drop(['customer_id', 'article_id', 'label'], axis=1))\n",
    "    pred_lgb = candidates[['customer_id', 'article_id', 'prob']].sort_values(by=['customer_id', 'prob'], ascending=False).reset_index(drop=True)\n",
    "    pred_lgb = pred_lgb.groupby(['customer_id']).head(12)\n",
    "    return pred_lgb.groupby(['customer_id'])['article_id'].apply(list).reset_index()"
   ]
  },
  {
   "cell_type": "code",
   "execution_count": 82,
   "id": "e8fd1551",
   "metadata": {},
   "outputs": [
    {
     "data": {
      "text/plain": [
       "defaultdict(collections.OrderedDict,\n",
       "            {'train': OrderedDict([('map@12', 0.98846550363035)]),\n",
       "             'valid': OrderedDict([('map@12', 0.9874103684432558)])})"
      ]
     },
     "execution_count": 82,
     "metadata": {},
     "output_type": "execute_result"
    }
   ],
   "source": [
    "ranker.best_score"
   ]
  },
  {
   "cell_type": "code",
   "execution_count": null,
   "id": "6d44458e",
   "metadata": {},
   "outputs": [],
   "source": [
    "ranker.best_score"
   ]
  },
  {
   "cell_type": "code",
   "execution_count": 151,
   "id": "7a874d54",
   "metadata": {},
   "outputs": [],
   "source": [
    "val_candidates.drop(['prob'],axis=1, inplace=True)"
   ]
  },
  {
   "cell_type": "code",
   "execution_count": 152,
   "id": "349f9a18",
   "metadata": {},
   "outputs": [],
   "source": [
    "preds = predict(ranker, val_candidates)"
   ]
  },
  {
   "cell_type": "code",
   "execution_count": 153,
   "id": "7181886d",
   "metadata": {},
   "outputs": [
    {
     "data": {
      "text/html": [
       "<div>\n",
       "<style scoped>\n",
       "    .dataframe tbody tr th:only-of-type {\n",
       "        vertical-align: middle;\n",
       "    }\n",
       "\n",
       "    .dataframe tbody tr th {\n",
       "        vertical-align: top;\n",
       "    }\n",
       "\n",
       "    .dataframe thead th {\n",
       "        text-align: right;\n",
       "    }\n",
       "</style>\n",
       "<table border=\"1\" class=\"dataframe\">\n",
       "  <thead>\n",
       "    <tr style=\"text-align: right;\">\n",
       "      <th></th>\n",
       "      <th>customer_id</th>\n",
       "      <th>article_id</th>\n",
       "    </tr>\n",
       "  </thead>\n",
       "  <tbody>\n",
       "    <tr>\n",
       "      <th>0</th>\n",
       "      <td>00007e8d4e54114b5b2a9b51586325a8d0fa74ea23ef77...</td>\n",
       "      <td>[0865799006, 0685814001, 0905957001, 089616900...</td>\n",
       "    </tr>\n",
       "    <tr>\n",
       "      <th>1</th>\n",
       "      <td>0000f1c71aafe5963c3d195cf273f7bfd50bbf17761c91...</td>\n",
       "      <td>[0896169005, 0866731001, 0863595006, 091444100...</td>\n",
       "    </tr>\n",
       "    <tr>\n",
       "      <th>2</th>\n",
       "      <td>00012315fd38859ff2c446876ca507abbcbcf582d0e266...</td>\n",
       "      <td>[0456163086, 0448509014, 0874754002, 086359500...</td>\n",
       "    </tr>\n",
       "    <tr>\n",
       "      <th>3</th>\n",
       "      <td>0001bc8e81a72aaf228a103a85d2ac530c09defffbc6ab...</td>\n",
       "      <td>[0896169005, 0896152003, 0456163086, 086796900...</td>\n",
       "    </tr>\n",
       "    <tr>\n",
       "      <th>4</th>\n",
       "      <td>00022754ec18c5e53757eea8b281632a5c4a499368ecc5...</td>\n",
       "      <td>[0852584001, 0874754002, 0915526002, 091552900...</td>\n",
       "    </tr>\n",
       "    <tr>\n",
       "      <th>...</th>\n",
       "      <td>...</td>\n",
       "      <td>...</td>\n",
       "    </tr>\n",
       "    <tr>\n",
       "      <th>205792</th>\n",
       "      <td>fffd5330e36a95750bd023e6f146ebbc4d2838a6e75cb2...</td>\n",
       "      <td>[0730683050, 0865799006, 0912204001, 092916500...</td>\n",
       "    </tr>\n",
       "    <tr>\n",
       "      <th>205793</th>\n",
       "      <td>fffdaab7d9d79ceee4ffd2ab98bb68411438ea90e46a67...</td>\n",
       "      <td>[0896152002, 0852584001, 0919273002, 080375700...</td>\n",
       "    </tr>\n",
       "    <tr>\n",
       "      <th>205794</th>\n",
       "      <td>fffdc8b7c7c181c658b354b2b408bc690dfaeb80ebe56a...</td>\n",
       "      <td>[0874754002, 0863583001, 0909370001, 089615200...</td>\n",
       "    </tr>\n",
       "    <tr>\n",
       "      <th>205795</th>\n",
       "      <td>ffff12aa623c69eae8959d673f1f12ad0194ad760d77fd...</td>\n",
       "      <td>[0918522001, 0898694001, 0706016001, 089616900...</td>\n",
       "    </tr>\n",
       "    <tr>\n",
       "      <th>205796</th>\n",
       "      <td>ffffbbf78b6eaac697a8a5dfbfd2bfa8113ee5b403e474...</td>\n",
       "      <td>[0720125001, 0852584022, 0907527001, 091220400...</td>\n",
       "    </tr>\n",
       "  </tbody>\n",
       "</table>\n",
       "<p>205797 rows × 2 columns</p>\n",
       "</div>"
      ],
      "text/plain": [
       "                                              customer_id  \\\n",
       "0       00007e8d4e54114b5b2a9b51586325a8d0fa74ea23ef77...   \n",
       "1       0000f1c71aafe5963c3d195cf273f7bfd50bbf17761c91...   \n",
       "2       00012315fd38859ff2c446876ca507abbcbcf582d0e266...   \n",
       "3       0001bc8e81a72aaf228a103a85d2ac530c09defffbc6ab...   \n",
       "4       00022754ec18c5e53757eea8b281632a5c4a499368ecc5...   \n",
       "...                                                   ...   \n",
       "205792  fffd5330e36a95750bd023e6f146ebbc4d2838a6e75cb2...   \n",
       "205793  fffdaab7d9d79ceee4ffd2ab98bb68411438ea90e46a67...   \n",
       "205794  fffdc8b7c7c181c658b354b2b408bc690dfaeb80ebe56a...   \n",
       "205795  ffff12aa623c69eae8959d673f1f12ad0194ad760d77fd...   \n",
       "205796  ffffbbf78b6eaac697a8a5dfbfd2bfa8113ee5b403e474...   \n",
       "\n",
       "                                               article_id  \n",
       "0       [0865799006, 0685814001, 0905957001, 089616900...  \n",
       "1       [0896169005, 0866731001, 0863595006, 091444100...  \n",
       "2       [0456163086, 0448509014, 0874754002, 086359500...  \n",
       "3       [0896169005, 0896152003, 0456163086, 086796900...  \n",
       "4       [0852584001, 0874754002, 0915526002, 091552900...  \n",
       "...                                                   ...  \n",
       "205792  [0730683050, 0865799006, 0912204001, 092916500...  \n",
       "205793  [0896152002, 0852584001, 0919273002, 080375700...  \n",
       "205794  [0874754002, 0863583001, 0909370001, 089615200...  \n",
       "205795  [0918522001, 0898694001, 0706016001, 089616900...  \n",
       "205796  [0720125001, 0852584022, 0907527001, 091220400...  \n",
       "\n",
       "[205797 rows x 2 columns]"
      ]
     },
     "execution_count": 153,
     "metadata": {},
     "output_type": "execute_result"
    }
   ],
   "source": [
    "preds"
   ]
  },
  {
   "cell_type": "code",
   "execution_count": 154,
   "id": "c458f576",
   "metadata": {},
   "outputs": [],
   "source": [
    "preds['dsada'] = preds.article_id.sample(frac=1).reset_index(drop=True)"
   ]
  },
  {
   "cell_type": "code",
   "execution_count": 155,
   "id": "e046bd46",
   "metadata": {},
   "outputs": [],
   "source": [
    "preds.columns = ['customer_id', 'prediction_0', 'prediction_1']"
   ]
  },
  {
   "cell_type": "code",
   "execution_count": 156,
   "id": "52bb23f4",
   "metadata": {},
   "outputs": [
    {
     "data": {
      "text/plain": [
       "(205797, 3)"
      ]
     },
     "execution_count": 156,
     "metadata": {},
     "output_type": "execute_result"
    }
   ],
   "source": [
    "preds.shape"
   ]
  },
  {
   "cell_type": "code",
   "execution_count": 157,
   "id": "8264bce9",
   "metadata": {},
   "outputs": [
    {
     "data": {
      "text/html": [
       "<div>\n",
       "<style scoped>\n",
       "    .dataframe tbody tr th:only-of-type {\n",
       "        vertical-align: middle;\n",
       "    }\n",
       "\n",
       "    .dataframe tbody tr th {\n",
       "        vertical-align: top;\n",
       "    }\n",
       "\n",
       "    .dataframe thead th {\n",
       "        text-align: right;\n",
       "    }\n",
       "</style>\n",
       "<table border=\"1\" class=\"dataframe\">\n",
       "  <thead>\n",
       "    <tr style=\"text-align: right;\">\n",
       "      <th></th>\n",
       "      <th>customer_id</th>\n",
       "      <th>prediction_0</th>\n",
       "      <th>prediction_1</th>\n",
       "    </tr>\n",
       "  </thead>\n",
       "  <tbody>\n",
       "    <tr>\n",
       "      <th>0</th>\n",
       "      <td>00007e8d4e54114b5b2a9b51586325a8d0fa74ea23ef77...</td>\n",
       "      <td>[0865799006, 0685814001, 0905957001, 089616900...</td>\n",
       "      <td>[0924243001, 0893059005, 0579541001, 076284602...</td>\n",
       "    </tr>\n",
       "    <tr>\n",
       "      <th>1</th>\n",
       "      <td>0000f1c71aafe5963c3d195cf273f7bfd50bbf17761c91...</td>\n",
       "      <td>[0896169005, 0866731001, 0863595006, 091444100...</td>\n",
       "      <td>[0896169002, 0874754002, 0706016001, 082796800...</td>\n",
       "    </tr>\n",
       "    <tr>\n",
       "      <th>2</th>\n",
       "      <td>00012315fd38859ff2c446876ca507abbcbcf582d0e266...</td>\n",
       "      <td>[0456163086, 0448509014, 0874754002, 086359500...</td>\n",
       "      <td>[0658298007, 0893059005, 0898694001, 089230900...</td>\n",
       "    </tr>\n",
       "    <tr>\n",
       "      <th>3</th>\n",
       "      <td>0001bc8e81a72aaf228a103a85d2ac530c09defffbc6ab...</td>\n",
       "      <td>[0896169005, 0896152003, 0456163086, 086796900...</td>\n",
       "      <td>[0863646001, 0915526001, 0579541001, 093370600...</td>\n",
       "    </tr>\n",
       "    <tr>\n",
       "      <th>4</th>\n",
       "      <td>00022754ec18c5e53757eea8b281632a5c4a499368ecc5...</td>\n",
       "      <td>[0852584001, 0874754002, 0915526002, 091552900...</td>\n",
       "      <td>[0896152002, 0762846006, 0898694001, 089616900...</td>\n",
       "    </tr>\n",
       "  </tbody>\n",
       "</table>\n",
       "</div>"
      ],
      "text/plain": [
       "                                         customer_id  \\\n",
       "0  00007e8d4e54114b5b2a9b51586325a8d0fa74ea23ef77...   \n",
       "1  0000f1c71aafe5963c3d195cf273f7bfd50bbf17761c91...   \n",
       "2  00012315fd38859ff2c446876ca507abbcbcf582d0e266...   \n",
       "3  0001bc8e81a72aaf228a103a85d2ac530c09defffbc6ab...   \n",
       "4  00022754ec18c5e53757eea8b281632a5c4a499368ecc5...   \n",
       "\n",
       "                                        prediction_0  \\\n",
       "0  [0865799006, 0685814001, 0905957001, 089616900...   \n",
       "1  [0896169005, 0866731001, 0863595006, 091444100...   \n",
       "2  [0456163086, 0448509014, 0874754002, 086359500...   \n",
       "3  [0896169005, 0896152003, 0456163086, 086796900...   \n",
       "4  [0852584001, 0874754002, 0915526002, 091552900...   \n",
       "\n",
       "                                        prediction_1  \n",
       "0  [0924243001, 0893059005, 0579541001, 076284602...  \n",
       "1  [0896169002, 0874754002, 0706016001, 082796800...  \n",
       "2  [0658298007, 0893059005, 0898694001, 089230900...  \n",
       "3  [0863646001, 0915526001, 0579541001, 093370600...  \n",
       "4  [0896152002, 0762846006, 0898694001, 089616900...  "
      ]
     },
     "execution_count": 157,
     "metadata": {},
     "output_type": "execute_result"
    }
   ],
   "source": [
    "preds.head()"
   ]
  },
  {
   "cell_type": "code",
   "execution_count": 77,
   "id": "914cd009",
   "metadata": {},
   "outputs": [],
   "source": [
    "preds['prediction_0'] = preds['prediction_0'].apply(lambda x: ' '.join(x))\n",
    "preds['prediction_1'] = preds['prediction_1'].apply(lambda x: ' '.join(x))"
   ]
  },
  {
   "cell_type": "code",
   "execution_count": 158,
   "id": "ca7552c3",
   "metadata": {},
   "outputs": [
    {
     "data": {
      "text/html": [
       "<div>\n",
       "<style scoped>\n",
       "    .dataframe tbody tr th:only-of-type {\n",
       "        vertical-align: middle;\n",
       "    }\n",
       "\n",
       "    .dataframe tbody tr th {\n",
       "        vertical-align: top;\n",
       "    }\n",
       "\n",
       "    .dataframe thead th {\n",
       "        text-align: right;\n",
       "    }\n",
       "</style>\n",
       "<table border=\"1\" class=\"dataframe\">\n",
       "  <thead>\n",
       "    <tr style=\"text-align: right;\">\n",
       "      <th></th>\n",
       "      <th>customer_id</th>\n",
       "      <th>prediction_0</th>\n",
       "      <th>prediction_1</th>\n",
       "    </tr>\n",
       "  </thead>\n",
       "  <tbody>\n",
       "    <tr>\n",
       "      <th>0</th>\n",
       "      <td>00007e8d4e54114b5b2a9b51586325a8d0fa74ea23ef77...</td>\n",
       "      <td>[0865799006, 0685814001, 0905957001, 089616900...</td>\n",
       "      <td>[0924243001, 0893059005, 0579541001, 076284602...</td>\n",
       "    </tr>\n",
       "    <tr>\n",
       "      <th>1</th>\n",
       "      <td>0000f1c71aafe5963c3d195cf273f7bfd50bbf17761c91...</td>\n",
       "      <td>[0896169005, 0866731001, 0863595006, 091444100...</td>\n",
       "      <td>[0896169002, 0874754002, 0706016001, 082796800...</td>\n",
       "    </tr>\n",
       "    <tr>\n",
       "      <th>2</th>\n",
       "      <td>00012315fd38859ff2c446876ca507abbcbcf582d0e266...</td>\n",
       "      <td>[0456163086, 0448509014, 0874754002, 086359500...</td>\n",
       "      <td>[0658298007, 0893059005, 0898694001, 089230900...</td>\n",
       "    </tr>\n",
       "    <tr>\n",
       "      <th>3</th>\n",
       "      <td>0001bc8e81a72aaf228a103a85d2ac530c09defffbc6ab...</td>\n",
       "      <td>[0896169005, 0896152003, 0456163086, 086796900...</td>\n",
       "      <td>[0863646001, 0915526001, 0579541001, 093370600...</td>\n",
       "    </tr>\n",
       "    <tr>\n",
       "      <th>4</th>\n",
       "      <td>00022754ec18c5e53757eea8b281632a5c4a499368ecc5...</td>\n",
       "      <td>[0852584001, 0874754002, 0915526002, 091552900...</td>\n",
       "      <td>[0896152002, 0762846006, 0898694001, 089616900...</td>\n",
       "    </tr>\n",
       "  </tbody>\n",
       "</table>\n",
       "</div>"
      ],
      "text/plain": [
       "                                         customer_id  \\\n",
       "0  00007e8d4e54114b5b2a9b51586325a8d0fa74ea23ef77...   \n",
       "1  0000f1c71aafe5963c3d195cf273f7bfd50bbf17761c91...   \n",
       "2  00012315fd38859ff2c446876ca507abbcbcf582d0e266...   \n",
       "3  0001bc8e81a72aaf228a103a85d2ac530c09defffbc6ab...   \n",
       "4  00022754ec18c5e53757eea8b281632a5c4a499368ecc5...   \n",
       "\n",
       "                                        prediction_0  \\\n",
       "0  [0865799006, 0685814001, 0905957001, 089616900...   \n",
       "1  [0896169005, 0866731001, 0863595006, 091444100...   \n",
       "2  [0456163086, 0448509014, 0874754002, 086359500...   \n",
       "3  [0896169005, 0896152003, 0456163086, 086796900...   \n",
       "4  [0852584001, 0874754002, 0915526002, 091552900...   \n",
       "\n",
       "                                        prediction_1  \n",
       "0  [0924243001, 0893059005, 0579541001, 076284602...  \n",
       "1  [0896169002, 0874754002, 0706016001, 082796800...  \n",
       "2  [0658298007, 0893059005, 0898694001, 089230900...  \n",
       "3  [0863646001, 0915526001, 0579541001, 093370600...  \n",
       "4  [0896152002, 0762846006, 0898694001, 089616900...  "
      ]
     },
     "execution_count": 158,
     "metadata": {},
     "output_type": "execute_result"
    }
   ],
   "source": [
    "preds.head()"
   ]
  },
  {
   "cell_type": "code",
   "execution_count": 136,
   "id": "27ef0ebb",
   "metadata": {},
   "outputs": [],
   "source": [
    "def weight_predictions(preds):\n",
    "    rec = []\n",
    "    rec.append(preds['prediction_0'])\n",
    "    rec.append(preds['prediction_1'])\n",
    "    \n",
    "    res = dict()\n",
    "    for prediction_no in range(len(rec)):\n",
    "        for i, article_id in enumerate(rec[prediction_no]):\n",
    "            res[article_id] = res.get(article_id, 0) + 1/(i+1)\n",
    "    res = list(dict(sorted(res.items(), key=lambda item: -item[1])).keys())\n",
    "    res = ' '.join(res[:12])\n",
    "    return res"
   ]
  },
  {
   "cell_type": "code",
   "execution_count": 174,
   "id": "c3b27532",
   "metadata": {},
   "outputs": [],
   "source": [
    "def weight_predictions(preds):\n",
    "    #Create a list of all model predictions\n",
    "    REC = []\n",
    "\n",
    "    # Second Try\n",
    "    REC.append(preds['prediction_0'])\n",
    "    REC.append(preds['prediction_1'])\n",
    "\n",
    "    #Create a dictionary of items recommended.\n",
    "    #Assign a weight according the order of appearance and multiply by global weights\n",
    "    res = {}\n",
    "    for M in range(len(REC)):\n",
    "        for n, article_id in enumerate(REC[M]):\n",
    "            res[article_id] = res.get(article_id, 0) + 1/(n+1)\n",
    "\n",
    "    # Sort dictionary by item weights\n",
    "    res = list(dict(sorted(res.items(), key=lambda item: -item[1])).keys())\n",
    "    res = ' '.join(res[:12])\n",
    "\n",
    "    # Return the top 12 items only\n",
    "    return res"
   ]
  },
  {
   "cell_type": "code",
   "execution_count": 175,
   "id": "03752f9e",
   "metadata": {},
   "outputs": [],
   "source": [
    "preds['prediction'] = preds.apply(weight_predictions, axis=1)"
   ]
  },
  {
   "cell_type": "code",
   "execution_count": 177,
   "id": "88076bab",
   "metadata": {},
   "outputs": [
    {
     "data": {
      "text/plain": [
       "[(0, '0865799006'),\n",
       " (1, '0685814001'),\n",
       " (2, '0905957001'),\n",
       " (3, '0896169005'),\n",
       " (4, '0898694001'),\n",
       " (5, '0762846027'),\n",
       " (6, '0579541001'),\n",
       " (7, '0911870003'),\n",
       " (8, '0797988002'),\n",
       " (9, '0748355003')]"
      ]
     },
     "execution_count": 177,
     "metadata": {},
     "output_type": "execute_result"
    }
   ],
   "source": [
    "list(enumerate(preds.iloc[0].prediction_0))"
   ]
  },
  {
   "cell_type": "code",
   "execution_count": 178,
   "id": "deab4467",
   "metadata": {},
   "outputs": [
    {
     "data": {
      "text/plain": [
       "[(0, '0924243001'),\n",
       " (1, '0893059005'),\n",
       " (2, '0579541001'),\n",
       " (3, '0762846027'),\n",
       " (4, '0923758001'),\n",
       " (5, '0896152003'),\n",
       " (6, '0896169002'),\n",
       " (7, '0896152001'),\n",
       " (8, '0893133001'),\n",
       " (9, '0929744001')]"
      ]
     },
     "execution_count": 178,
     "metadata": {},
     "output_type": "execute_result"
    }
   ],
   "source": [
    "list(enumerate(preds.iloc[0].prediction_1))"
   ]
  },
  {
   "cell_type": "code",
   "execution_count": 180,
   "id": "1adf2eeb",
   "metadata": {},
   "outputs": [
    {
     "data": {
      "text/plain": [
       "[(0, '0865799006'),\n",
       " (1, '0924243001'),\n",
       " (2, '0685814001'),\n",
       " (3, '0893059005'),\n",
       " (4, '0579541001'),\n",
       " (5, '0762846027'),\n",
       " (6, '0905957001'),\n",
       " (7, '0896169005'),\n",
       " (8, '0898694001'),\n",
       " (9, '0923758001'),\n",
       " (10, '0896152003'),\n",
       " (11, '0896169002')]"
      ]
     },
     "execution_count": 180,
     "metadata": {},
     "output_type": "execute_result"
    }
   ],
   "source": [
    "list(enumerate(preds.iloc[0].prediction.split()))"
   ]
  },
  {
   "cell_type": "code",
   "execution_count": 181,
   "id": "3d8509bc",
   "metadata": {},
   "outputs": [
    {
     "data": {
      "text/html": [
       "<div>\n",
       "<style scoped>\n",
       "    .dataframe tbody tr th:only-of-type {\n",
       "        vertical-align: middle;\n",
       "    }\n",
       "\n",
       "    .dataframe tbody tr th {\n",
       "        vertical-align: top;\n",
       "    }\n",
       "\n",
       "    .dataframe thead th {\n",
       "        text-align: right;\n",
       "    }\n",
       "</style>\n",
       "<table border=\"1\" class=\"dataframe\">\n",
       "  <thead>\n",
       "    <tr style=\"text-align: right;\">\n",
       "      <th></th>\n",
       "      <th>customer_id</th>\n",
       "      <th>prediction_0</th>\n",
       "      <th>prediction_1</th>\n",
       "      <th>prediction</th>\n",
       "    </tr>\n",
       "  </thead>\n",
       "  <tbody>\n",
       "    <tr>\n",
       "      <th>0</th>\n",
       "      <td>00007e8d4e54114b5b2a9b51586325a8d0fa74ea23ef77...</td>\n",
       "      <td>[0865799006, 0685814001, 0905957001, 089616900...</td>\n",
       "      <td>[0924243001, 0893059005, 0579541001, 076284602...</td>\n",
       "      <td>0865799006 0924243001 0685814001 0893059005 05...</td>\n",
       "    </tr>\n",
       "    <tr>\n",
       "      <th>1</th>\n",
       "      <td>0000f1c71aafe5963c3d195cf273f7bfd50bbf17761c91...</td>\n",
       "      <td>[0896169005, 0866731001, 0863595006, 091444100...</td>\n",
       "      <td>[0896169002, 0874754002, 0706016001, 082796800...</td>\n",
       "      <td>0896169005 0896169002 0866731001 0874754002 08...</td>\n",
       "    </tr>\n",
       "    <tr>\n",
       "      <th>2</th>\n",
       "      <td>00012315fd38859ff2c446876ca507abbcbcf582d0e266...</td>\n",
       "      <td>[0456163086, 0448509014, 0874754002, 086359500...</td>\n",
       "      <td>[0658298007, 0893059005, 0898694001, 089230900...</td>\n",
       "      <td>0456163086 0658298007 0448509014 0893059005 08...</td>\n",
       "    </tr>\n",
       "    <tr>\n",
       "      <th>3</th>\n",
       "      <td>0001bc8e81a72aaf228a103a85d2ac530c09defffbc6ab...</td>\n",
       "      <td>[0896169005, 0896152003, 0456163086, 086796900...</td>\n",
       "      <td>[0863646001, 0915526001, 0579541001, 093370600...</td>\n",
       "      <td>0896169005 0863646001 0896152003 0915526001 04...</td>\n",
       "    </tr>\n",
       "    <tr>\n",
       "      <th>4</th>\n",
       "      <td>00022754ec18c5e53757eea8b281632a5c4a499368ecc5...</td>\n",
       "      <td>[0852584001, 0874754002, 0915526002, 091552900...</td>\n",
       "      <td>[0896152002, 0762846006, 0898694001, 089616900...</td>\n",
       "      <td>0852584001 0896152002 0762846006 0874754002 09...</td>\n",
       "    </tr>\n",
       "    <tr>\n",
       "      <th>...</th>\n",
       "      <td>...</td>\n",
       "      <td>...</td>\n",
       "      <td>...</td>\n",
       "      <td>...</td>\n",
       "    </tr>\n",
       "    <tr>\n",
       "      <th>205792</th>\n",
       "      <td>fffd5330e36a95750bd023e6f146ebbc4d2838a6e75cb2...</td>\n",
       "      <td>[0730683050, 0865799006, 0912204001, 092916500...</td>\n",
       "      <td>[0751471043, 0806131012, 0866731001, 089869400...</td>\n",
       "      <td>0730683050 0751471043 0865799006 0806131012 09...</td>\n",
       "    </tr>\n",
       "    <tr>\n",
       "      <th>205793</th>\n",
       "      <td>fffdaab7d9d79ceee4ffd2ab98bb68411438ea90e46a67...</td>\n",
       "      <td>[0896152002, 0852584001, 0919273002, 080375700...</td>\n",
       "      <td>[0924243001, 0863595006, 0706016003, 090462500...</td>\n",
       "      <td>0896152002 0924243001 0852584001 0863595006 08...</td>\n",
       "    </tr>\n",
       "    <tr>\n",
       "      <th>205794</th>\n",
       "      <td>fffdc8b7c7c181c658b354b2b408bc690dfaeb80ebe56a...</td>\n",
       "      <td>[0874754002, 0863583001, 0909370001, 089615200...</td>\n",
       "      <td>[0896152002, 0715624001, 0865929003, 080375700...</td>\n",
       "      <td>0874754002 0896152002 0863583001 0715624001 09...</td>\n",
       "    </tr>\n",
       "    <tr>\n",
       "      <th>205795</th>\n",
       "      <td>ffff12aa623c69eae8959d673f1f12ad0194ad760d77fd...</td>\n",
       "      <td>[0918522001, 0898694001, 0706016001, 089616900...</td>\n",
       "      <td>[0924243001, 0929165002, 0926502001, 092424300...</td>\n",
       "      <td>0918522001 0924243001 0898694001 0929165002 07...</td>\n",
       "    </tr>\n",
       "    <tr>\n",
       "      <th>205796</th>\n",
       "      <td>ffffbbf78b6eaac697a8a5dfbfd2bfa8113ee5b403e474...</td>\n",
       "      <td>[0720125001, 0852584022, 0907527001, 091220400...</td>\n",
       "      <td>[0711053036, 0898692003, 0767423001, 091220400...</td>\n",
       "      <td>0720125001 0711053036 0852584022 0912204001 08...</td>\n",
       "    </tr>\n",
       "  </tbody>\n",
       "</table>\n",
       "<p>205797 rows × 4 columns</p>\n",
       "</div>"
      ],
      "text/plain": [
       "                                              customer_id  \\\n",
       "0       00007e8d4e54114b5b2a9b51586325a8d0fa74ea23ef77...   \n",
       "1       0000f1c71aafe5963c3d195cf273f7bfd50bbf17761c91...   \n",
       "2       00012315fd38859ff2c446876ca507abbcbcf582d0e266...   \n",
       "3       0001bc8e81a72aaf228a103a85d2ac530c09defffbc6ab...   \n",
       "4       00022754ec18c5e53757eea8b281632a5c4a499368ecc5...   \n",
       "...                                                   ...   \n",
       "205792  fffd5330e36a95750bd023e6f146ebbc4d2838a6e75cb2...   \n",
       "205793  fffdaab7d9d79ceee4ffd2ab98bb68411438ea90e46a67...   \n",
       "205794  fffdc8b7c7c181c658b354b2b408bc690dfaeb80ebe56a...   \n",
       "205795  ffff12aa623c69eae8959d673f1f12ad0194ad760d77fd...   \n",
       "205796  ffffbbf78b6eaac697a8a5dfbfd2bfa8113ee5b403e474...   \n",
       "\n",
       "                                             prediction_0  \\\n",
       "0       [0865799006, 0685814001, 0905957001, 089616900...   \n",
       "1       [0896169005, 0866731001, 0863595006, 091444100...   \n",
       "2       [0456163086, 0448509014, 0874754002, 086359500...   \n",
       "3       [0896169005, 0896152003, 0456163086, 086796900...   \n",
       "4       [0852584001, 0874754002, 0915526002, 091552900...   \n",
       "...                                                   ...   \n",
       "205792  [0730683050, 0865799006, 0912204001, 092916500...   \n",
       "205793  [0896152002, 0852584001, 0919273002, 080375700...   \n",
       "205794  [0874754002, 0863583001, 0909370001, 089615200...   \n",
       "205795  [0918522001, 0898694001, 0706016001, 089616900...   \n",
       "205796  [0720125001, 0852584022, 0907527001, 091220400...   \n",
       "\n",
       "                                             prediction_1  \\\n",
       "0       [0924243001, 0893059005, 0579541001, 076284602...   \n",
       "1       [0896169002, 0874754002, 0706016001, 082796800...   \n",
       "2       [0658298007, 0893059005, 0898694001, 089230900...   \n",
       "3       [0863646001, 0915526001, 0579541001, 093370600...   \n",
       "4       [0896152002, 0762846006, 0898694001, 089616900...   \n",
       "...                                                   ...   \n",
       "205792  [0751471043, 0806131012, 0866731001, 089869400...   \n",
       "205793  [0924243001, 0863595006, 0706016003, 090462500...   \n",
       "205794  [0896152002, 0715624001, 0865929003, 080375700...   \n",
       "205795  [0924243001, 0929165002, 0926502001, 092424300...   \n",
       "205796  [0711053036, 0898692003, 0767423001, 091220400...   \n",
       "\n",
       "                                               prediction  \n",
       "0       0865799006 0924243001 0685814001 0893059005 05...  \n",
       "1       0896169005 0896169002 0866731001 0874754002 08...  \n",
       "2       0456163086 0658298007 0448509014 0893059005 08...  \n",
       "3       0896169005 0863646001 0896152003 0915526001 04...  \n",
       "4       0852584001 0896152002 0762846006 0874754002 09...  \n",
       "...                                                   ...  \n",
       "205792  0730683050 0751471043 0865799006 0806131012 09...  \n",
       "205793  0896152002 0924243001 0852584001 0863595006 08...  \n",
       "205794  0874754002 0896152002 0863583001 0715624001 09...  \n",
       "205795  0918522001 0924243001 0898694001 0929165002 07...  \n",
       "205796  0720125001 0711053036 0852584022 0912204001 08...  \n",
       "\n",
       "[205797 rows x 4 columns]"
      ]
     },
     "execution_count": 181,
     "metadata": {},
     "output_type": "execute_result"
    }
   ],
   "source": [
    "preds"
   ]
  },
  {
   "cell_type": "code",
   "execution_count": 161,
   "id": "5c00d7bc",
   "metadata": {},
   "outputs": [
    {
     "data": {
      "text/html": [
       "<div>\n",
       "<style scoped>\n",
       "    .dataframe tbody tr th:only-of-type {\n",
       "        vertical-align: middle;\n",
       "    }\n",
       "\n",
       "    .dataframe tbody tr th {\n",
       "        vertical-align: top;\n",
       "    }\n",
       "\n",
       "    .dataframe thead th {\n",
       "        text-align: right;\n",
       "    }\n",
       "</style>\n",
       "<table border=\"1\" class=\"dataframe\">\n",
       "  <thead>\n",
       "    <tr style=\"text-align: right;\">\n",
       "      <th></th>\n",
       "      <th>customer_id</th>\n",
       "      <th>prediction_0</th>\n",
       "      <th>prediction_1</th>\n",
       "      <th>prediction</th>\n",
       "    </tr>\n",
       "  </thead>\n",
       "  <tbody>\n",
       "    <tr>\n",
       "      <th>0</th>\n",
       "      <td>00007e8d4e54114b5b2a9b51586325a8d0fa74ea23ef77...</td>\n",
       "      <td>[0865799006, 0685814001, 0905957001, 089616900...</td>\n",
       "      <td>[0924243001, 0893059005, 0579541001, 076284602...</td>\n",
       "      <td>[0865799006, 0924243001, 0685814001, 089305900...</td>\n",
       "    </tr>\n",
       "    <tr>\n",
       "      <th>1</th>\n",
       "      <td>0000f1c71aafe5963c3d195cf273f7bfd50bbf17761c91...</td>\n",
       "      <td>[0896169005, 0866731001, 0863595006, 091444100...</td>\n",
       "      <td>[0896169002, 0874754002, 0706016001, 082796800...</td>\n",
       "      <td>[0896169005, 0896169002, 0866731001, 087475400...</td>\n",
       "    </tr>\n",
       "    <tr>\n",
       "      <th>2</th>\n",
       "      <td>00012315fd38859ff2c446876ca507abbcbcf582d0e266...</td>\n",
       "      <td>[0456163086, 0448509014, 0874754002, 086359500...</td>\n",
       "      <td>[0658298007, 0893059005, 0898694001, 089230900...</td>\n",
       "      <td>[0456163086, 0658298007, 0448509014, 089305900...</td>\n",
       "    </tr>\n",
       "    <tr>\n",
       "      <th>3</th>\n",
       "      <td>0001bc8e81a72aaf228a103a85d2ac530c09defffbc6ab...</td>\n",
       "      <td>[0896169005, 0896152003, 0456163086, 086796900...</td>\n",
       "      <td>[0863646001, 0915526001, 0579541001, 093370600...</td>\n",
       "      <td>[0896169005, 0863646001, 0896152003, 091552600...</td>\n",
       "    </tr>\n",
       "    <tr>\n",
       "      <th>4</th>\n",
       "      <td>00022754ec18c5e53757eea8b281632a5c4a499368ecc5...</td>\n",
       "      <td>[0852584001, 0874754002, 0915526002, 091552900...</td>\n",
       "      <td>[0896152002, 0762846006, 0898694001, 089616900...</td>\n",
       "      <td>[0852584001, 0896152002, 0762846006, 087475400...</td>\n",
       "    </tr>\n",
       "    <tr>\n",
       "      <th>...</th>\n",
       "      <td>...</td>\n",
       "      <td>...</td>\n",
       "      <td>...</td>\n",
       "      <td>...</td>\n",
       "    </tr>\n",
       "    <tr>\n",
       "      <th>205792</th>\n",
       "      <td>fffd5330e36a95750bd023e6f146ebbc4d2838a6e75cb2...</td>\n",
       "      <td>[0730683050, 0865799006, 0912204001, 092916500...</td>\n",
       "      <td>[0751471043, 0806131012, 0866731001, 089869400...</td>\n",
       "      <td>[0730683050, 0751471043, 0865799006, 080613101...</td>\n",
       "    </tr>\n",
       "    <tr>\n",
       "      <th>205793</th>\n",
       "      <td>fffdaab7d9d79ceee4ffd2ab98bb68411438ea90e46a67...</td>\n",
       "      <td>[0896152002, 0852584001, 0919273002, 080375700...</td>\n",
       "      <td>[0924243001, 0863595006, 0706016003, 090462500...</td>\n",
       "      <td>[0896152002, 0924243001, 0852584001, 086359500...</td>\n",
       "    </tr>\n",
       "    <tr>\n",
       "      <th>205794</th>\n",
       "      <td>fffdc8b7c7c181c658b354b2b408bc690dfaeb80ebe56a...</td>\n",
       "      <td>[0874754002, 0863583001, 0909370001, 089615200...</td>\n",
       "      <td>[0896152002, 0715624001, 0865929003, 080375700...</td>\n",
       "      <td>[0874754002, 0896152002, 0863583001, 071562400...</td>\n",
       "    </tr>\n",
       "    <tr>\n",
       "      <th>205795</th>\n",
       "      <td>ffff12aa623c69eae8959d673f1f12ad0194ad760d77fd...</td>\n",
       "      <td>[0918522001, 0898694001, 0706016001, 089616900...</td>\n",
       "      <td>[0924243001, 0929165002, 0926502001, 092424300...</td>\n",
       "      <td>[0918522001, 0924243001, 0898694001, 092916500...</td>\n",
       "    </tr>\n",
       "    <tr>\n",
       "      <th>205796</th>\n",
       "      <td>ffffbbf78b6eaac697a8a5dfbfd2bfa8113ee5b403e474...</td>\n",
       "      <td>[0720125001, 0852584022, 0907527001, 091220400...</td>\n",
       "      <td>[0711053036, 0898692003, 0767423001, 091220400...</td>\n",
       "      <td>[0720125001, 0711053036, 0852584022, 091220400...</td>\n",
       "    </tr>\n",
       "  </tbody>\n",
       "</table>\n",
       "<p>205797 rows × 4 columns</p>\n",
       "</div>"
      ],
      "text/plain": [
       "                                              customer_id  \\\n",
       "0       00007e8d4e54114b5b2a9b51586325a8d0fa74ea23ef77...   \n",
       "1       0000f1c71aafe5963c3d195cf273f7bfd50bbf17761c91...   \n",
       "2       00012315fd38859ff2c446876ca507abbcbcf582d0e266...   \n",
       "3       0001bc8e81a72aaf228a103a85d2ac530c09defffbc6ab...   \n",
       "4       00022754ec18c5e53757eea8b281632a5c4a499368ecc5...   \n",
       "...                                                   ...   \n",
       "205792  fffd5330e36a95750bd023e6f146ebbc4d2838a6e75cb2...   \n",
       "205793  fffdaab7d9d79ceee4ffd2ab98bb68411438ea90e46a67...   \n",
       "205794  fffdc8b7c7c181c658b354b2b408bc690dfaeb80ebe56a...   \n",
       "205795  ffff12aa623c69eae8959d673f1f12ad0194ad760d77fd...   \n",
       "205796  ffffbbf78b6eaac697a8a5dfbfd2bfa8113ee5b403e474...   \n",
       "\n",
       "                                             prediction_0  \\\n",
       "0       [0865799006, 0685814001, 0905957001, 089616900...   \n",
       "1       [0896169005, 0866731001, 0863595006, 091444100...   \n",
       "2       [0456163086, 0448509014, 0874754002, 086359500...   \n",
       "3       [0896169005, 0896152003, 0456163086, 086796900...   \n",
       "4       [0852584001, 0874754002, 0915526002, 091552900...   \n",
       "...                                                   ...   \n",
       "205792  [0730683050, 0865799006, 0912204001, 092916500...   \n",
       "205793  [0896152002, 0852584001, 0919273002, 080375700...   \n",
       "205794  [0874754002, 0863583001, 0909370001, 089615200...   \n",
       "205795  [0918522001, 0898694001, 0706016001, 089616900...   \n",
       "205796  [0720125001, 0852584022, 0907527001, 091220400...   \n",
       "\n",
       "                                             prediction_1  \\\n",
       "0       [0924243001, 0893059005, 0579541001, 076284602...   \n",
       "1       [0896169002, 0874754002, 0706016001, 082796800...   \n",
       "2       [0658298007, 0893059005, 0898694001, 089230900...   \n",
       "3       [0863646001, 0915526001, 0579541001, 093370600...   \n",
       "4       [0896152002, 0762846006, 0898694001, 089616900...   \n",
       "...                                                   ...   \n",
       "205792  [0751471043, 0806131012, 0866731001, 089869400...   \n",
       "205793  [0924243001, 0863595006, 0706016003, 090462500...   \n",
       "205794  [0896152002, 0715624001, 0865929003, 080375700...   \n",
       "205795  [0924243001, 0929165002, 0926502001, 092424300...   \n",
       "205796  [0711053036, 0898692003, 0767423001, 091220400...   \n",
       "\n",
       "                                               prediction  \n",
       "0       [0865799006, 0924243001, 0685814001, 089305900...  \n",
       "1       [0896169005, 0896169002, 0866731001, 087475400...  \n",
       "2       [0456163086, 0658298007, 0448509014, 089305900...  \n",
       "3       [0896169005, 0863646001, 0896152003, 091552600...  \n",
       "4       [0852584001, 0896152002, 0762846006, 087475400...  \n",
       "...                                                   ...  \n",
       "205792  [0730683050, 0751471043, 0865799006, 080613101...  \n",
       "205793  [0896152002, 0924243001, 0852584001, 086359500...  \n",
       "205794  [0874754002, 0896152002, 0863583001, 071562400...  \n",
       "205795  [0918522001, 0924243001, 0898694001, 092916500...  \n",
       "205796  [0720125001, 0711053036, 0852584022, 091220400...  \n",
       "\n",
       "[205797 rows x 4 columns]"
      ]
     },
     "execution_count": 161,
     "metadata": {},
     "output_type": "execute_result"
    }
   ],
   "source": [
    "preds"
   ]
  },
  {
   "cell_type": "code",
   "execution_count": 133,
   "id": "e14ff204",
   "metadata": {},
   "outputs": [
    {
     "data": {
      "text/plain": [
       "{'0865799006 0685814001 0905957001 0896169005 0898694001 0762846027 0579541001 0911870003 0797988002 0748355003': 1.000011006670042,\n",
       " '0896169005 0866731001 0863595006 0914441004 0915529003 0929165002 0909371001 0456163060 0881942001 0933032002': 0.5000061191271677,\n",
       " '0456163086 0448509014 0874754002 0863595006 0372860001 0924243001 0915526001 0781613006 0863595004 0933706001': 0.3333424106264845,\n",
       " '0896169005 0896152003 0456163086 0867969003 0936622001 0909911001 0706016003 0372860002 0893133001 0926502001': 0.2500058686134814,\n",
       " '0852584001 0874754002 0915526002 0915529005 0758034001 0762846006 0685814003 0896169002 0781613006 0909371001': 0.2000122285267071,\n",
       " '0751471001 0896152003 0865929003 0762846027 0762846026 0909370001 0905957001 0908799002 0827968001 0923037001': 0.1666755556345686,\n",
       " '0865799006 0762846006 0863646001 0884319003 0856840001 0456163086 0730683050 0916468001 0935689001 0158340001': 0.14286543266896412,\n",
       " '0918292001 0852584001 0579541001 0884319003 0912204001 0918292004 0863583001 0896169002 0910601002 0706016062': 0.1250210371305354,\n",
       " '0448509014 0781613006 0881942001 0915526001 0915529001 0832307007 0915529005 0935892001 0909911001 0936622001': 0.11112258992695646,\n",
       " '0448509014 0706016001 0915529003 0673677002 0896169005 0866731001 0898694001 0915526001 0906352001 0924243002': 0.10002725464010248,\n",
       " '0866731001 0914805002 0893141002 0926502001 0898694001 0896152003 0919273002 0158340001 0933989001 0929744001': 0.09091455336020197,\n",
       " '0751471001 0673677002 0910601003 0905957001 0706016019 0573085028 0915526002 0873279003 0924243002 0878190005': 0.08344834195898025,\n",
       " '0715624001 0762846027 0898694001 0909370001 0885951001 0456163086 0878190005 0768912001 0730683050 0929744001': 0.0769609413683628,\n",
       " '0865799006 0915529003 0706016062 0914805002 0805947001 0827968001 0714790020 0893059004 0570319011 0935892001': 0.07143617859452175,\n",
       " '0805947001 0905914002 0809238001 0924243002 0910601001 0827968001 0706016019 0722803004 0781613006 0756672002': 0.06697313310859128,\n",
       " '0783346001 0914805002 0909370001 0762846006 0908799002 0715624001 0852584001 0893133001 0898713001 0926502001': 0.06250524087040375,\n",
       " '0918292001 0852584001 0926502001 0456163060 0762846006 0794575017 0915526002 0909911001 0929744001 0715624001': 0.058986981520296904,\n",
       " '0918292001 0714790020 0926502001 0865929003 0678942001 0896152003 0685814001 0873279003 0911870004 0884319001': 0.05558825025247571,\n",
       " '0912204001 0768912001 0911870003 0372860001 0762846006 0904625001 0905957007 0910601002 0809238001 0805947001': 0.05263878901261951,\n",
       " '0910601002 0909370001 0865799005 0918525001 0573085028 0911870004 0919273002 0935892001 0905957001 0372860002': 0.05001295521382581,\n",
       " '0926502001 0706016002 0809238005 0456163060 0768912001 0906352001 0914805002 0372860001 0748355003 0761406001': 0.04762686708325793,\n",
       " '0896169005 0923758001 0863583001 0878190005 0896152003 0916468003 0915526002 0910601002 0552716001 0909912001': 0.045477949311501085,\n",
       " '0918525001 0751471043 0863595004 0915529001 0874754002 0923758001 0573085028 0916468001 0923037001 0909912001': 0.04348817177056523,\n",
       " '0865799006 0871710001 0898713001 0448509014 0878190005 0874754002 0456163060 0751471001 0760565002 0746874002': 0.04167713414421392,\n",
       " '0874754002 0863583001 0448509014 0893141002 0872537001 0916468002 0832307007 0783346001 0158340001 0909371001': 0.040012050806198934,\n",
       " '0866482001 0924243001 0915526002 0929744001 0866482008 0758034001 0678942001 0814299004 0610776002 0909911001': 0.038466760175513856,\n",
       " '0863583001 0915529003 0929165002 0896152003 0903926001 0873279003 0863595004 0552716001 0910601001 0158340001': 0.03737556107224353,\n",
       " '0918292001 0863583001 0905957001 0714790020 0706016003 0926502001 0911870001 0748355003 0762846006 0904625001': 0.0357208375062008,\n",
       " '0865799006 0751471038 0730683050 0903926001 0914805002 0884319003 0706016002 0372860002 0863583002 0871710001': 0.03448763345921063,\n",
       " '0568601007 0762846027 0918522001 0924243002 0552716001 0678942001 0706016019 0929165002 0762846026 0568601043': 0.03334929680890123,\n",
       " '0923758001 0751471043 0751471001 0673677002 0935892001 0237347045 0456163086 0237347028 0237347063 0914441004': 0.03229704783127015,\n",
       " '0751471038 0751471001 0896152001 0915529003 0896152003 0678942001 0762846006 0781613006 0685814001 0809238005': 0.03125782313457356,\n",
       " '0874754002 0929165002 0769748013 0579541001 0706016002 0685814001 0915526001 0719655001 0898713001 0910601002': 0.03033985864612315,\n",
       " '0893059004 0673677002 0903926001 0715624001 0884319001 0803757001 0918292004 0911870003 0893133001 0898713001': 0.029417416403087024,\n",
       " '0929165002 0850917001 0896152001 0610776002 0678942001 0768912001 0884319005 0896169002 0685814003 0933706001': 0.028576641629095414,\n",
       " '0915526002 0898713001 0898694001 0827968001 0914805002 0933032002 0904625001 0832307007 0158340001 0935892001': 0.02778816447449662,\n",
       " '0893059004 0929165002 0914805002 0884319001 0909912001 0911870004 0915529001 0911870001 0916468001 0894668003': 0.02703655020167253,\n",
       " '0927530006 0927530005 0829147001 0884319005 0924243002 0910601001 0372860001 0874754002 0574680001 0783926002': 0.02632113566639307,\n",
       " '0865799006 0915529001 0898694001 0898713001 0896152003 0894780001 0768912001 0850917001 0933032002 0896169002': 0.025647004213820743,\n",
       " '0918292001 0852584001 0762846006 0762846026 0889460003 0906352001 0898713001 0898694001 0827968001 0781613006': 0.025143822810297714,\n",
       " '0762846006 0926502001 0715624001 0911870001 0918292004 0894668003 0898713001 0910601001 0898694002 0909912001': 0.024397013420652414,\n",
       " '0893059004 0673677002 0896152002 0865799006 0852584001 0916468003 0909911001 0573085028 0878190005 0881942001': 0.02381792900729811,\n",
       " '0910601002 0896152001 0762846031 0884319001 0909370001 0850917003 0906352001 0893141002 0891591003 0894668003': 0.023262360812632697,\n",
       " '0372860002 0926502001 0706016019 0915529005 0872537001 0767423011 0809238001 0905957007 0884319005 0871710001': 0.02282695374800638,\n",
       " '0865799006 0874754002 0909371001 0911870003 0906352001 0873274002 0929744001 0891591003 0933032002 0158340001': 0.022228562371215725,\n",
       " '0863583001 0865929003 0915529005 0911870004 0873279003 0916468002 0905957007 0863595004 0898692003 0805947001': 0.021748626028826972,\n",
       " '0863583001 0929165002 0852584001 0863595006 0762846031 0898713001 0872537001 0905957007 0805947001 0884319001': 0.021284291485857684,\n",
       " '0730683050 0751471001 0926502001 0889460003 0907527001 0893133001 0832307007 0158340001 0933032002 0706016062': 0.020841048549282228,\n",
       " '0918292001 0918525001 0751471038 0863595006 0685814001 0936622001 0714790020 0866731001 0372860001 0873279003': 0.020413710069237697,\n",
       " '0714790020 0866731001 0865799006 0894668003 0933706001 0867969003 0918522001 0929165002 0907527001 0896169002': 0.020012440905697936,\n",
       " '0863595004 0706016001 0885951001 0372860001 0923758001 0915526002 0906352001 0863583001 0910601002 0781613006': 0.019685350500454404,\n",
       " '0882759006 0916468003 0762846027 0896152002 0872537001 0573085028 0893059005 0751471038 0912204001 0861574001': 0.019240684848859286,\n",
       " '0751471001 0852584001 0685814003 0874754002 0889460003 0573085028 0893133001 0898713001 0911870003 0884319003': 0.018873229005280455,\n",
       " '0685814001 0909370001 0863595006 0914805002 0456163060 0907527001 0896152001 0915526001 0158340001 0881942001': 0.018527945455046956,\n",
       " '0809238001 0929744001 0909912001 0706016019 0896169002 0911870003 0685814001 0841551002 0896152001 0639845003': 0.01819272306938879,\n",
       " '0678942001 0372860002 0884319003 0915526002 0915526001 0783346001 0872537001 0894780001 0909912001 0706016001': 0.017890537413830118,\n",
       " '0863583002 0896152002 0673677002 0915529001 0448509014 0909370001 0158340001 0906352001 0884319005 0685814003': 0.017550680047570485,\n",
       " '0929165002 0863583002 0751471001 0915529003 0898713001 0706016003 0885951001 0884319005 0805947001 0908799002': 0.017250040243473763,\n",
       " '0910601001 0896152003 0874754002 0936622001 0803757001 0893141002 0929744001 0891591003 0809238001 0706016001': 0.01708209590849891,\n",
       " '0912204001 0863583002 0915529001 0893141002 0803757001 0924243002 0762846026 0841383002 0884319003 0894668003': 0.016672982269996254,\n",
       " '0918292001 0924243001 0863646001 0448509014 0915529003 0915526001 0827968001 0871710001 0610776002 0809238005': 0.016408375796996964,\n",
       " '0918522001 0850917001 0706016019 0768912001 0896152001 0867969003 0865929003 0706016003 0884319003 0936622001': 0.016133920727631347,\n",
       " '0863595006 0678942001 0715624001 0803757001 0907188001 0863595004 0863583002 0926502001 0805947001 0761406001': 0.015879380516150333,\n",
       " '0751471001 0898694001 0907527001 0809238001 0803757001 0924243002 0884319003 0929744001 0910601002 0933989001': 0.01566699386889514,\n",
       " '0865799006 0918522001 0878190005 0827968001 0809238005 0884319003 0794575017 0751471038 0751471043 0910601003': 0.015389518090418719,\n",
       " '0923758001 0926502001 0685814001 0714790020 0909370001 0706016001 0911870003 0907527001 0898692003 0909371001': 0.015157564319149686,\n",
       " '0808666002 0893059004 0865799006 0762846027 0898694002 0803757001 0730683050 0854677001 0714790020 0738064001': 0.014942875847248861,\n",
       " '0884319001 0852584001 0914805002 0889460003 0573085028 0898694001 0896152003 0911870001 0372860002 0761406001': 0.01478108728638481,\n",
       " '0865799006 0893059005 0685814003 0903926001 0884319001 0865929007 0933706001 0896152003 0372860001 0929744001': 0.014589148456425345,\n",
       " '0918522001 0866731001 0865929003 0573085028 0906352001 0903926001 0579541001 0812668001 0905957007 0893059005': 0.014296745116887414,\n",
       " '0729928001 0456163060 0706016002 0673677002 0871710001 0911870004 0884319001 0158340001 0832307007 0762846031': 0.014103739660774533,\n",
       " '0918522001 0863595006 0915529001 0809238001 0758034001 0903926001 0907527001 0919273002 0898692003 0909912001': 0.013898768261746299,\n",
       " '0924243002 0706016003 0781613006 0610776002 0911870003 0748355003 0767423011 0797988002 0706016062 0923758001': 0.013746561882181143,\n",
       " '0863583002 0714790020 0867969003 0893141002 0762846006 0915526001 0884319003 0719655001 0910601003 0909911001': 0.013522931749101259,\n",
       " '0914441004 0933706001 0919273002 0936622001 0803757001 0871710001 0916468001 0905957007 0685814003 0933032002': 0.013340866006302337,\n",
       " '0926502001 0905957001 0893141002 0935892001 0894668003 0873279003 0863595004 0456163060 0916468001 0761406001': 0.013166298310041428,\n",
       " '0706016001 0915529005 0706016053 0903926001 0896152003 0908799002 0810156004 0758034001 0685814003 0893444002': 0.013000113995790664,\n",
       " '0896169005 0910601003 0874754002 0803757001 0866731001 0881942001 0448509014 0158340001 0871710001 0904625001': 0.012825500102942623,\n",
       " '0923758001 0896169005 0905957001 0827968001 0872537001 0894780001 0878190005 0906352001 0863595004 0910601001': 0.012663568815457273,\n",
       " '0673677002 0751471038 0730683050 0910601003 0850917001 0456163060 0909911001 0768912001 0915529005 0878190005': 0.01250738525165245,\n",
       " '0893059005 0915529003 0762846006 0933706001 0915529005 0898713001 0805947001 0923037001 0909912001 0936622001': 0.012360620888447641,\n",
       " '0762846006 0915529003 0863646001 0906352001 0915526001 0915529005 0865929007 0885951001 0872537001 0936622001': 0.012201611707139792,\n",
       " '0865799006 0874754002 0896169005 0706016019 0911870004 0896169002 0915526002 0916468003 0898694001 0761406001': 0.012054764670954872,\n",
       " '0751471001 0896152002 0915529001 0909370001 0573085028 0896152003 0905957001 0456163060 0898694001 0898713001': 0.0119371694622043,\n",
       " '0706016003 0685814003 0867969003 0865929003 0915526001 0881942001 0923758001 0911870003 0878190005 0926502001': 0.011771703391239778,\n",
       " '0751471001 0863646001 0751471038 0865929003 0806131012 0905957007 0905957001 0907527001 0933032002 0935892001': 0.011633753049644716,\n",
       " '0893059005 0863583001 0863646001 0915529003 0762846006 0809238005 0910601002 0871710001 0918522001 0915526002': 0.011499168617708567,\n",
       " '0893141002 0897191003 0850917001 0905957001 0448509014 0881942001 0896152001 0456163060 0776237029 0915526002': 0.011370169535818117,\n",
       " '0863583001 0863595006 0915529003 0762846006 0715624001 0903926001 0884319003 0871710001 0923037001 0909911001': 0.011243307835162591,\n",
       " '0372860002 0914441004 0762846027 0929165002 0827968001 0903926001 0884319005 0893059005 0909912001 0908799002': 0.011163906634050766,\n",
       " '0673677002 0762846027 0909370001 0769748013 0751471038 0916468003 0935892001 0894780001 0923037001 0909912001': 0.010999802433553757,\n",
       " '0852584001 0924243001 0448509014 0710695006 0914441004 0907527001 0912204001 0827968001 0783346001 0372860001': 0.010888437058716862,\n",
       " '0751471038 0751471043 0929165002 0762846006 0915529005 0884319005 0448509014 0915529001 0885951001 0809238001': 0.01078873979797134,\n",
       " '0918522001 0893133001 0924243001 0866731001 0909370001 0456163060 0803757001 0809238005 0850917001 0916468001': 0.010646002032586959,\n",
       " '0918522001 0916468001 0715624001 0673677002 0706016001 0911870003 0911870001 0748355003 0678942001 0783346001': 0.010548732288016612,\n",
       " '0918292001 0730683050 0884319001 0456163060 0905957007 0706016002 0915529005 0906352001 0158340001 0894668003': 0.010426230461963192,\n",
       " '0448509014 0761406001 0706016003 0871710001 0867969003 0714790020 0874754002 0579541001 0923037001 0803757001': 0.010323518901909613,\n",
       " '0685814001 0909370001 0914441004 0706016002 0706016019 0896152001 0873279003 0896169002 0884319003 0910601001': 0.010232068534782864,\n",
       " '0372860002 0914441004 0850917001 0762846027 0881942001 0706016001 0918525001 0884319001 0909912001 0935892001': 0.010117354243269516,\n",
       " '0852584001 0918525001 0579541001 0763988007 0911870003 0911870004 0910601001 0763988005 0372860002 0720572005': 0.010005848261019586,\n",
       " '0915526001 0673677002 0898694002 0873274002 0919273002 0796210001 0872537001 0878190005 0933032002 0871710001': 0.009907147317424909,\n",
       " '0905957001 0916468001 0915529003 0706016019 0573085028 0911870003 0893133001 0767423001 0884319005 0783346001': 0.009824271588977472,\n",
       " '0852584001 0448509014 0898694001 0906352001 0911870003 0873279003 0872537001 0905957007 0893059005 0936622001': 0.009716955128550326,\n",
       " '0866731001 0903926001 0894668003 0907527001 0919273002 0929165002 0893059005 0933706001 0898694001 0448509014': 0.009623086936093846,\n",
       " '0783346001 0865929003 0919273002 0912204001 0372860002 0881942001 0896169002 0923758001 0809238005 0909912001': 0.009528852693340712,\n",
       " '0865799006 0448509014 0904625001 0911870003 0911870004 0456163060 0809238005 0456163086 0762846031 0839079001': 0.009442986068947997,\n",
       " '0918292004 0896169005 0914441004 0878190005 0678942001 0896152001 0832307007 0910601002 0905957007 0929744001': 0.009378470927503595,\n",
       " '0783346001 0914441004 0806131012 0905957001 0918292004 0456163086 0915526002 0906352001 0871710001 0894668003': 0.009295934972601883,\n",
       " '0903926001 0783346001 0884319001 0884319003 0865929007 0909911001 0911870004 0923758001 0893141002 0706016062': 0.009567393687611794,\n",
       " '0865799006 0926502001 0863595006 0673677002 0909370001 0871710001 0884319003 0910601002 0907527001 0908799002': 0.009098432413208218,\n",
       " '0918292001 0893059005 0751471038 0863646001 0919273002 0893141002 0905957007 0706016002 0768912001 0863583002': 0.009014979122620271,\n",
       " '0863646001 0866731001 0915526002 0809238001 0803757001 0911870004 0872537001 0894668003 0863595004 0909912001': 0.008939579794929861,\n",
       " '0751471001 0918525001 0924243001 0933032002 0916468001 0896169002 0910601002 0884319005 0884319003 0909370001': 0.008856640076376258,\n",
       " '0730683050 0915529003 0867969003 0863595004 0926502001 0915526001 0827968001 0885951001 0809238005 0809238001': 0.00878148914011441,\n",
       " '0372860002 0685814001 0762846027 0706016001 0903926001 0872537001 0762846006 0372860001 0751471038 0156231001': 0.008711511595995702,\n",
       " '0918292011 0915529001 0863595006 0872537001 0730683036 0730683014 0867969003 0905957001 0866731001 0561064004': 0.008631359850116876,\n",
       " '0914805002 0924243002 0903926001 0935892001 0923037001 0873279003 0715624013 0573085028 0456163086 0871710001': 0.008551953216160734,\n",
       " '0923758001 0906352001 0863595006 0456163060 0706016001 0926502001 0573085028 0935892001 0894780001 0909912001': 0.008481936843544547,\n",
       " '0893059005 0874754002 0909371001 0915526001 0832307007 0768912001 0911870001 0809238005 0909912001 0935892001': 0.008414388526541453,\n",
       " '0910601002 0893059005 0923758001 0579541001 0762846027 0926502001 0715624001 0905957007 0893133001 0827968001': 0.008359987916588924,\n",
       " '0865799006 0916468001 0873274002 0893141002 0685816002 0685816008 0372860002 0685816061 0701760008 0617534006': 0.008270093060125674,\n",
       " '0863646001 0905957001 0915526002 0715624001 0706016002 0894780001 0809238001 0767423011 0863583002 0919273002': 0.008295819517797875,\n",
       " '0918522001 0863646001 0926502001 0872537001 0905957007 0884319005 0552716001 0910601003 0893059004 0908799002': 0.008144718945908666,\n",
       " '0918522001 0918292001 0916468001 0610776002 0911870003 0903926001 0865929003 0898694002 0912204001 0936622001': 0.0080708088012155,\n",
       " '0915526001 0863583002 0907527001 0911870003 0896152003 0933706001 0610776002 0751471043 0832307007 0597901004': 0.00800766353994237,\n",
       " '0903926001 0579541001 0863595006 0914805002 0685814003 0909371001 0372860002 0924243002 0933032002 0909912001': 0.00794545736329715,\n",
       " '0915526002 0762846027 0872537001 0867969003 0916468001 0904625001 0884319005 0871710001 0909371001 0929744001': 0.008004461873781562,\n",
       " '0893133001 0915529003 0881942001 0865929003 0812668001 0579541001 0933032002 0751471038 0907527001 0909911001': 0.007817359724064868,\n",
       " '0841793003 0715624001 0896152001 0878190005 0905957001 0929165002 0761406001 0768912001 0867969003 0809238005': 0.007780599492091423,\n",
       " '0762846026 0912204001 0867969003 0909912001 0866731001 0918525001 0906352001 0915529001 0758034001 0891591003': 0.0077081854967248975,\n",
       " '0874754002 0863646001 0863595006 0878190005 0809238001 0372860001 0863595004 0871710001 0923037001 0936622001': 0.00765217860239637,\n",
       " '0924243001 0866731001 0905957007 0769748013 0678942001 0706016002 0372860002 0918522001 0884319001 0896169002': 0.007589726397347786,\n",
       " '0910601003 0796210001 0909912001 0803757001 0805947001 0863583002 0685814003 0761406001 0706016001 0929744001': 0.00752564870095471,\n",
       " '0910601002 0915526002 0923758001 0935892001 0914441004 0905957001 0893133001 0915529005 0911870003 0933032002': 0.00746772176318436,\n",
       " '0685814001 0852584001 0706016003 0673677002 0767423013 0803757001 0579541001 0871710001 0907527001 0935892001': 0.007423281431154947,\n",
       " '0894780001 0879248001 0761406001 0865624001 0898692003 0933032002 0914441004 0751471001 0863595006 0893141002': 0.00749755433626813,\n",
       " '0448509014 0865799006 0918292004 0456163060 0762846031 0863595006 0918525001 0872537001 0919273002 0730683050': 0.007306323104738397,\n",
       " '0751471001 0910601003 0856840001 0456163086 0866731001 0905957001 0916468001 0781613006 0872537001 0706016062': 0.007254310171372069,\n",
       " '0865929003 0918522001 0918525001 0898694002 0832307007 0827968001 0911870001 0885951001 0936622001 0758034001': 0.007204812859391951,\n",
       " '0863646001 0896152003 0579541001 0874754002 0898694002 0936622001 0914441004 0918836001 0905957007 0878190005': 0.007156390041333338,\n",
       " '0751471043 0915526002 0673677002 0850917001 0762846006 0706016019 0610776002 0929744001 0894780001 0935689001': 0.007098494700632487,\n",
       " '0706016001 0685814001 0896152001 0916468003 0809238005 0372860001 0929744001 0827968001 0856232002 0868405002': 0.007067931417593482,\n",
       " '0843772004 0863583001 0911870004 0827411006 0715624001 0923037001 0806388002 0626366004 0515833020 0798407005': 0.00699973628696947,\n",
       " '0918292004 0863583001 0762846026 0881942001 0158340001 0872537001 0809238001 0914441004 0827968004 0893059005': 0.006949855114285371,\n",
       " '0893059005 0865799006 0893059004 0915529001 0904625001 0907527001 0896152001 0456163086 0832307007 0933032002': 0.006902762364206496,\n",
       " '0797710006 0761406001 0906352001 0911870004 0783346001 0884319005 0579541001 0909370001 0692226004 0872537001': 0.006857371722886847,\n",
       " '0916468001 0715624001 0912204001 0706016019 0872537001 0873279003 0933032002 0896169002 0884319005 0832307007': 0.0068079572114004856,\n",
       " '0673677002 0884319003 0762846031 0762846027 0926502001 0866731001 0909371001 0893133001 0456163086 0916468001': 0.006766086072264878,\n",
       " '0935892001 0918292001 0924243001 0863595006 0863595004 0907527001 0898694002 0911870004 0893141002 0911870003': 0.0070079693010739845,\n",
       " '0910601003 0714790020 0448509014 0706016019 0803757001 0863595004 0610776002 0908799002 0894780001 0923037001': 0.006677837105218085,\n",
       " '0918292001 0863583001 0898692003 0678942001 0706016062 0867969003 0893059004 0762846031 0909912001 0372860001': 0.006635574966560524,\n",
       " '0896169005 0905957001 0751471001 0915526002 0914805002 0706016003 0573085028 0809238001 0911870004 0871710001': 0.006584608151647019,\n",
       " '0881942001 0852584001 0911870001 0863583002 0673677002 0893133001 0867969003 0863595004 0904625001 0933706001': 0.0065596674401158265,\n",
       " '0863583002 0914441004 0898694001 0909370001 0715624001 0678942001 0911870003 0908799002 0685814003 0933032002': 0.006505202947141752,\n",
       " '0918292001 0905957001 0827968001 0867969003 0706016019 0573085028 0911870004 0915526001 0685814001 0908799002': 0.006469731471134199,\n",
       " '0863583002 0910601001 0904625001 0579541001 0717464001 0685814001 0906352001 0809238005 0832307007 0878190005': 0.0064463979404888,\n",
       " '0730683050 0885951001 0372860001 0893141002 0758034001 0898713001 0871710001 0809238001 0909912001 0923037001': 0.006394630905236878,\n",
       " '0918292001 0893133001 0685814001 0874754002 0762846031 0706016003 0909370001 0827968004 0893141002 0751471038': 0.0063340446716998984,\n",
       " '0852584001 0863595006 0914441004 0884319003 0884319001 0806131012 0768912001 0758034001 0871710001 0936622001': 0.006294257519570218,\n",
       " '0863583001 0898694001 0827968001 0715624001 0896152003 0758034001 0873279003 0884319001 0908799002 0894780001': 0.006289627501486031,\n",
       " '0905957001 0852584001 0915526002 0916468001 0706016001 0898713001 0933032002 0904625001 0863595004 0832307007': 0.006218815518858974,\n",
       " '0915526001 0866731001 0852584001 0916468003 0809238001 0893133001 0896169002 0884319005 0898692003 0923037001': 0.006296007383990304,\n",
       " '0898713001 0456163060 0850917001 0863646001 0906352001 0929165002 0797988002 0863583002 0748355003 0552716001': 0.006169251121519504,\n",
       " '0918292001 0893059005 0896152002 0685814003 0762846031 0924243002 0893141002 0911870004 0805947001 0809238001': 0.006103244473006714,\n",
       " '0893059005 0918525001 0914441004 0929165002 0885951001 0884319001 0907527001 0916468001 0911870001 0933032002': 0.006151013799508511,\n",
       " '0918292001 0866731001 0905957001 0762846026 0914805002 0894780001 0911870003 0832307007 0893059005 0935892001': 0.00605389376337292,\n",
       " '0751471038 0865929003 0915529005 0832307007 0706016019 0372860002 0918836001 0904625001 0916468003 0935689001': 0.005997136150595941,\n",
       " '0762846027 0754238024 0754238007 0893133001 0610776002 0610776093 0893059005 0762846031 0781613006 0738464001': 0.005960237708012282,\n",
       " '0896169005 0921906003 0867969003 0935892001 0909912001 0781613006 0872537001 0372860001 0918836001 0923037001': 0.005925507566171897,\n",
       " '0863595006 0915529003 0924243002 0809238001 0914441004 0573085028 0768912001 0912204001 0894668003 0884319003': 0.0058880864587468355,\n",
       " '0751471043 0915526002 0715624001 0881942001 0456163086 0706016001 0885951001 0751471038 0905957007 0894668003': 0.005855309673504515,\n",
       " '0909370001 0827968001 0762846031 0852584001 0809238001 0579541001 0769748013 0896169002 0924243002 0783346001': 0.0058190138073746026,\n",
       " '0706016001 0910601003 0918525001 0797710001 0911870003 0933706001 0781613006 0863583002 0372860002 0935892001': 0.0058593982042084575,\n",
       " '0863583001 0893133001 0914805002 0909370001 0573085028 0706016019 0863595004 0873279003 0915526001 0872537001': 0.005855904855143406,\n",
       " '0908799002 0783346001 0863067002 0679853016 0915526002 0809238005 0715919001 0679853009 0679853008 0761406001': 0.005730443674504817,\n",
       " '0865799006 0863595006 0884319003 0768912001 0372860002 0918836001 0893133001 0915529001 0158340001 0894668003': 0.005725896288222731,\n",
       " '0783346001 0896152002 0929165002 0903926001 0884319003 0867969003 0873279003 0871710001 0905957007 0935689001': 0.005665128209146639,\n",
       " '0865799006 0929165002 0905957001 0456163086 0894780001 0903926001 0906352001 0911870003 0923037001 0873279003': 0.005627698440689163,\n",
       " '0762846026 0924243001 0762846027 0809238001 0865799006 0579541001 0867969003 0910601001 0706016062 0936622001': 0.005592461102234319,\n",
       " '0865799006 0852584001 0881942001 0894780001 0706016019 0762846026 0610776002 0762846006 0579541001 0552716001': 0.005561821416014843,\n",
       " '0918292004 0685814003 0809238005 0797988002 0767423001 0916468002 0919273002 0898694002 0893059004 0909911001': 0.005534526702359947,\n",
       " '0918292001 0863583001 0924243002 0916468001 0715624001 0706016003 0878190005 0912204001 0884319001 0898692003': 0.005509829051409523,\n",
       " '0448509014 0762846031 0914441004 0803757001 0903926001 0896152002 0762846026 0573085028 0896152003 0911870003': 0.005470708842878155,\n",
       " '0915526001 0914441004 0781613006 0896152003 0748355003 0761406001 0910601002 0910601001 0898694002 0730683050': 0.005447671199714882,\n",
       " '0730683050 0866731001 0867969003 0456163086 0456163060 0896152003 0706016019 0884319005 0884319001 0915529005': 0.005413181878463815,\n",
       " '0778064006 0865799006 0673677002 0874754002 0685814003 0751471001 0903926001 0706016062 0935892001 0719702002': 0.005381396019901796,\n",
       " '0751471043 0898694001 0898694002 0867969003 0573085028 0685814001 0918525001 0873279003 0706016002 0894668003': 0.0053527808429769215,\n",
       " '0914805002 0908799002 0762846006 0799365027 0740958002 0651464002 0710194001 0907527001 0905957007 0896064002': 0.00534057322274147,\n",
       " '0918292001 0751471001 0898694001 0926502001 0933706001 0769748013 0915526002 0898694002 0894668003 0904625001': 0.0053043894842730414,\n",
       " '0706016003 0884319005 0762846027 0762846031 0762846026 0806131012 0896169002 0809238005 0871710001 0706016062': 0.005303999226164246,\n",
       " '0852584001 0915529003 0915526002 0706016019 0911870003 0809238005 0907527001 0893059004 0912204001 0805947001': 0.005240505136578609,\n",
       " '0926502001 0796210001 0881942001 0914441004 0911870001 0911870004 0519749008 0372860002 0693242031 0647109001': 0.005215539813400209,\n",
       " '0918292001 0866731001 0916468003 0803757001 0832307007 0871710001 0805947001 0907527001 0893059004 0908799002': 0.005190333248764679,\n",
       " '0852584001 0751471001 0865929003 0914441004 0762846006 0909371001 0896152001 0911870001 0910601002 0809238001': 0.0052046391752577316,\n",
       " '0918292001 0896169005 0685814003 0915529003 0914441004 0706016001 0797710001 0878190005 0916468003 0894668003': 0.005145945690226133,\n",
       " '0918525001 0863646001 0730683050 0915529003 0867969003 0919273002 0909371001 0610776002 0573085028 0871710001': 0.005108513601501263,\n",
       " '0924243002 0916468003 0448509014 0762846027 0893133001 0911870004 0871710001 0898694002 0893059004 0933706001': 0.0051531244260520585,\n",
       " '0918292001 0863583001 0685814003 0866731001 0714790020 0916468001 0915526002 0762846026 0872537001 0923758001': 0.005061831104960721,\n",
       " '0926502001 0910601001 0867969003 0905957001 0896152003 0910601003 0717464001 0911870003 0871710001 0753294001': 0.005035920917076612,\n",
       " '0915526001 0924243001 0448509014 0865929003 0573085028 0610776002 0896152002 0767423001 0893059005 0893059004': 0.0050054443101514605,\n",
       " '0915529003 0448509014 0850917001 0762846027 0878190005 0903926001 0905957007 0762846006 0910601002 0929744001': 0.0050255352265240315,\n",
       " '0936622001 0673677002 0924243001 0866731001 0865929007 0832307007 0761406001 0884319001 0762846027 0884319005': 0.004955375598078611,\n",
       " '0924243001 0448509014 0893141002 0929165002 0706016002 0915526002 0924243002 0783346001 0871710001 0904625001': 0.004938241793460398,\n",
       " '0918292001 0915529003 0714790020 0874754002 0865929007 0915529005 0803757001 0832307007 0372860002 0929744001': 0.004908533677701395,\n",
       " '0827687001 0916468003 0845790007 0907527001 0911870003 0884319001 0898713001 0682236009 0741716001 0822344002': 0.0049094666698339985,\n",
       " '0456163060 0905957001 0929744001 0781613006 0909371001 0761406001 0762846031 0909911001 0935892001 0916468003': 0.004865286200974837,\n",
       " '0865799006 0751471043 0898694001 0762846026 0448509014 0863583001 0610776002 0158340001 0685814001 0706016062': 0.004838823950215402,\n",
       " '0916468003 0751471001 0878190005 0873279003 0884319005 0898713001 0896169005 0739533004 0739533001 0696826001': 0.00482046598370079,\n",
       " '0896152001 0678942001 0762846027 0762846026 0909371001 0918292001 0768912001 0372860001 0915529001 0898713001': 0.004795680663530728,\n",
       " '0751471001 0878190005 0827968001 0915529005 0906352001 0748355003 0919273002 0761406001 0909911001 0909912001': 0.004767392724059775,\n",
       " '0918522001 0918292004 0918292001 0898694001 0762846026 0896152001 0918525001 0678942001 0919273002 0907527001': 0.004753689667095471,\n",
       " '0915529001 0865929007 0896152003 0911870004 0781613006 0915526002 0871710001 0894668003 0762846027 0610776002': 0.004723777241982161,\n",
       " '0918292004 0915526001 0852584001 0914805002 0898713001 0893141002 0905957007 0893059005 0909911001 0936622001': 0.004704434636384801,\n",
       " '0873977001 0910601002 0865929003 0579541001 0871854001 0873274002 0923037001 0935892001 0863583001 0875260002': 0.004682027531801513,\n",
       " '0873279003 0673677002 0896152002 0898694001 0911870004 0914805002 0933706001 0878190005 0896169005 0610776002': 0.004683555651311195,\n",
       " '0918525001 0905957001 0715624001 0610776002 0678942001 0906352001 0706016062 0372860001 0863595004 0884319005': 0.00475241941351961,\n",
       " '0909370001 0929165002 0852584001 0706016003 0910601002 0863595006 0781613006 0894668003 0669359001 0749182001': 0.004613534840120348,\n",
       " '0706016003 0706016001 0751471038 0730683050 0896169005 0706016019 0863583001 0915526001 0898713001 0781613006': 0.004592370026674479,\n",
       " '0867969003 0915529001 0912204001 0889460003 0909370001 0893141002 0909371001 0910601001 0911870001 0809238005': 0.0045717240622923745,\n",
       " '0863646001 0685814003 0678942001 0884319003 0850917001 0803757001 0909371001 0573085028 0924243002 0809238001': 0.004554478675979569,\n",
       " '0916468001 0915529001 0456163086 0863583001 0936622001 0894780001 0706016002 0158340001 0563276001 0872231009': 0.004530115991441006,\n",
       " '0918522001 0751471038 0884319001 0850917001 0896152003 0797710001 0873279003 0916468003 0809238005 0809238001': 0.004510497696238695,\n",
       " '0762846027 0706016003 0158340001 0924243002 0896152003 0911870004 0706016062 0762846006 0372860002 0905957007': 0.004489179581151409,\n",
       " '0918522001 0783346001 0898694001 0909911001 0918525001 0911870004 0898713001 0878190005 0761406001 0926502001': 0.004469859508534673,\n",
       " '0898713001 0898694001 0915529003 0919273002 0918522001 0568601023 0929744001 0568601024 0896169002 0885951001': 0.004498072373870089,\n",
       " '0685814001 0896169005 0865929003 0762846026 0809238005 0762846006 0579541001 0794575017 0910601001 0898694002': 0.00453195989718199,\n",
       " '0863646001 0852584001 0714790020 0762846027 0456163086 0706016001 0881942001 0841383002 0781613006 0923037001': 0.004448116564616276,\n",
       " '0912204001 0554598003 0908799002 0907188001 0916468001 0918292001 0866731001 0781613006 0815092001 0881114001': 0.004391302772119178,\n",
       " '0803757001 0751471043 0158340001 0456163060 0916468003 0909912001 0751471038 0706016003 0633133001 0594177024': 0.004378056773469234,\n",
       " '0924243001 0915526001 0929165002 0903926001 0898694001 0893133001 0911870004 0850917003 0905957001 0916468003': 0.004365031868098986,\n",
       " '0816521001 0918292004 0863595006 0396135045 0879248010 0871710001 0915526002 0156231001 0827968001 0884319003': 0.0043398657481573556,\n",
       " '0372860001 0915529005 0873279003 0910601002 0559630004 0894668003 0456163086 0933032002 0673677002 0679011018': 0.004323758463888872,\n",
       " '0863646001 0852584001 0915529003 0706016001 0758034001 0918525001 0896152001 0894668003 0761406001 0923037001': 0.004298912131962345,\n",
       " '0896169005 0751471043 0730683050 0762846027 0762846031 0762846006 0933706001 0372860002 0372860001 0758034001': 0.004300881282292294,\n",
       " '0874754002 0456163060 0915529003 0896152003 0915529001 0767423001 0832307007 0783346001 0910601003 0923758001': 0.004262521995501133,\n",
       " '0915526001 0905957001 0898694001 0781613006 0885951001 0863583002 0748355003 0863595004 0579541001 0907527001': 0.004245958154667263,\n",
       " '0751471043 0865929003 0863646001 0903926001 0905957007 0866731001 0912204001 0896152003 0158340001 0910601001': 0.004230248686099659,\n",
       " '0896152002 0783346001 0685814003 0456163060 0907527001 0865929007 0915526002 0898694002 0872537001 0809238001': 0.004209705195211019,\n",
       " '0783346001 0896152003 0923758001 0910601001 0915529003 0921906003 0781613006 0762846027 0918292001 0748355003': 0.004201901297773482,\n",
       " '0909371001 0896169002 0783346024 0752814015 0863583002 0878190005 0885951001 0796210001 0372860001 0869912002': 0.004175278150942097,\n",
       " '0918522001 0852584001 0448509014 0706016002 0850917001 0911870004 0762846006 0894668003 0923758001 0935892001': 0.004154811814827257,\n",
       " '0652218001 0924243001 0730683050 0863595006 0893133001 0873279003 0933706001 0706016019 0909912001 0706016003': 0.004146800381779435,\n",
       " '0715624001 0873279003 0706016002 0456163060 0893059005 0767869002 0768912001 0762846031 0776781001 0921266006': 0.004130403147283133,\n",
       " '0884319005 0904625001 0911870003 0915529005 0908799002 0909371001 0706016002 0372860001 0372860002 0935892001': 0.004113517682535328,\n",
       " '0751471043 0685814001 0850917001 0865929003 0806131012 0919273002 0715624001 0907527001 0865929007 0885951001': 0.004109126329515641,\n",
       " '0448509014 0904625001 0884319001 0903926001 0456163086 0905957007 0896152003 0924243002 0911870003 0761406001': 0.004103252343184495,\n",
       " '0751471001 0685814003 0898694001 0762846027 0867969003 0903926001 0884319001 0898692003 0768912001 0918522001': 0.004104129293790666,\n",
       " '0915529001 0803757001 0909370001 0918292001 0916468003 0911870003 0918292004 0894668003 0762846026 0594542022': 0.0040400754503822954,\n",
       " '0926502001 0915529003 0715624001 0762846031 0762846026 0706016003 0898694002 0706016002 0610776002 0706016062': 0.004021336321937775,\n",
       " '0852584001 0866731001 0923758001 0905957007 0929165002 0910601002 0884319003 0715624001 0678942001 0781613006': 0.004186811133943583,\n",
       " '0865799006 0926502001 0863595006 0863583002 0911870001 0751471043 0827968001 0573085028 0809238005 0933032002': 0.003989507432791764,\n",
       " '0896152001 0863595006 0762846031 0898694002 0933706001 0914805002 0573085028 0871710001 0761406001 0923037001': 0.003975036526227882,\n",
       " '0750422018 0706016038 0884319005 0706016053 0685814003 0842000001 0918292001 0867969003 0750422006 0885951001': 0.003997713858687846,\n",
       " '0865799006 0924243002 0850917001 0878190005 0758034001 0762846006 0894668003 0751471038 0832307007 0923758001': 0.003980063070777997,\n",
       " '0865799006 0751471001 0896152001 0762846027 0914441004 0768912001 0827968001 0758034001 0926502001 0923037001': 0.003928273062434722,\n",
       " '0893059005 0929165002 0914805002 0850917001 0714790020 0918292001 0866731001 0706016019 0873274002 0926502001': 0.0039124677454455015,\n",
       " '0372860002 0905957001 0924243002 0929165002 0706016001 0873279003 0905957007 0907527001 0910601001 0893059004': 0.00392070657416767,\n",
       " '0918522001 0893133001 0896169005 0852584001 0673677002 0610776002 0730683050 0933706001 0761406001 0935892001': 0.0038810337707652974,\n",
       " '0714790020 0905957001 0894780001 0896169005 0610776002 0805947001 0706016019 0783346001 0803757001 0935892001': 0.003869589394380122,\n",
       " '0924243001 0905957001 0867969003 0874754002 0926502001 0769748013 0916468001 0915529005 0719655001 0910601001': 0.003858938954060157,\n",
       " '0926502001 0448509014 0573085028 0909924004 0706016062 0610776002 0699923114 0699923041 0699923066 0621522024': 0.0038589150810063476,\n",
       " '0863646001 0896152002 0916468003 0929165002 0909912001 0919273002 0706016019 0783346001 0896152001 0898713001': 0.0038252496946551973,\n",
       " '0918292004 0898694001 0924243002 0863595006 0871710001 0573085028 0395730018 0395730016 0570303003 0807241017': 0.0038150376098121976,\n",
       " '0918522001 0915526002 0867969003 0894780001 0768912001 0906352001 0751471038 0871710001 0910601002 0761406001': 0.003797290286848229,\n",
       " '0896169005 0929165002 0863583001 0896152002 0910601002 0751471043 0768912001 0894668003 0158340001 0730683050': 0.0038127499078144523,\n",
       " '0916468003 0706016002 0673677002 0881942001 0903926001 0911870004 0893133001 0805947001 0832307007 0909911001': 0.0037844103768839067,\n",
       " '0448509014 0751471038 0911870004 0916468001 0933032002 0863583002 0781613006 0809238001 0768912001 0456163060': 0.0037811747829107983,\n",
       " '0865799006 0910601001 0456163086 0912204001 0918292004 0907527001 0803757001 0863595004 0916468003 0761406001': 0.003761542903066884,\n",
       " '0863583002 0893141002 0909371001 0915529005 0924243002 0911870003 0783346001 0910601001 0910601002 0909911001': 0.003737494143185757,\n",
       " '0896152002 0673677002 0923758001 0762846026 0456163060 0896152003 0706016019 0929744001 0933032002 0809238005': 0.0037121117990178724,\n",
       " '0751471001 0715624001 0914441004 0926502001 0881942001 0809238005 0448509014 0827968001 0896152002 0933706001': 0.0037238893038896537,\n",
       " '0924243001 0865929003 0762846027 0456163086 0456163060 0706016002 0448509014 0768912001 0372860002 0891591003': 0.0036960622970241344,\n",
       " '0874754002 0706016003 0809238005 0809238001 0903926001 0896169002 0894668003 0919273002 0884319001 0893059004': 0.0036683682684101123,\n",
       " '0863595006 0448509014 0929165002 0762846006 0805947001 0158340001 0896152001 0915529005 0898694002 0751471038': 0.0037013627418553403,\n",
       " '0905957001 0915529003 0809238001 0896152003 0706016019 0762846026 0871710001 0910601001 0909911001 0909912001': 0.0036539962779096663,\n",
       " '0866260002 0918836001 0868213004 0902023001 0809238001 0711053011 0372860002 0905957001 0706016002 0786336001': 0.0036282225625506744,\n",
       " '0896169005 0926502001 0915526002 0914441004 0678942001 0751471038 0884319005 0910601002 0910601001 0909912001': 0.003615231962771675,\n",
       " '0915526002 0809238001 0865929003 0903926001 0914805002 0915529001 0911870001 0919273002 0783346001 0832307007': 0.003602999607531306,\n",
       " '0910601001 0915526002 0884319001 0936622001 0706016019 0573085028 0863583001 0758034001 0706016001 0894668003': 0.003594234393182254,\n",
       " '0884319003 0898694001 0898694002 0372860002 0918836001 0856840001 0907188001 0918525001 0885951001 0926502001': 0.0035864251222218887,\n",
       " '0751471043 0730683050 0863595006 0685814003 0850917001 0907527001 0827968001 0915526002 0158340001 0805947001': 0.00364402125820732,\n",
       " '0918525001 0762846026 0762846031 0898694001 0894780001 0758034001 0896152001 0850917001 0579541001 0919273002': 0.003555120002333869,\n",
       " '0874754002 0827968001 0706016062 0904625001 0579541001 0919273002 0751471038 0898694002 0456163086 0730683050': 0.0035389779355116603,\n",
       " '0896169002 0896152002 0908799002 0907527001 0885951001 0919273002 0915529001 0916468003 0781613006 0904625001': 0.003531832252480734,\n",
       " '0715624001 0898694001 0448509014 0706016001 0573085028 0878190005 0678942001 0911870003 0884319003 0884319001': 0.0035171305479778084,\n",
       " '0827968001 0800691007 0456163085 0898694002 0456163064 0769748013 0456163090 0510210003 0898287001 0736780004': 0.003518258706876381,\n",
       " '0714790020 0915526002 0715624001 0706016019 0923037001 0878190005 0933032002 0781613006 0904625001 0909911001': 0.0034916287894838057,\n",
       " '0842112005 0856840003 0910601002 0762846006 0762846027 0884319001 0896152002 0916468003 0872537001 0914441004': 0.0034875801384601467,\n",
       " '0915529003 0850917001 0832307007 0809238001 0715624001 0678942001 0685814001 0911870003 0878190005 0761406001': 0.0035120345106168928,\n",
       " '0863583002 0905957001 0863646001 0905957007 0929165002 0865929003 0717464001 0372860002 0372860001 0910601001': 0.003850205122519126,\n",
       " '0685814003 0863595004 0866731001 0896152003 0827968001 0923758001 0893141002 0873279003 0929744001 0872537001': 0.0034963278779502646,\n",
       " '0915526002 0706016003 0926502001 0909370001 0768912001 0918525001 0896152001 0748355003 0896169002 0909371001': 0.003432740432450555,\n",
       " '0809238001 0863583001 0896152003 0805947001 0865929003 0767423011 0933706001 0747807002 0770315020 0910601003': 0.0034182856609093868,\n",
       " '0926502001 0915529001 0915529005 0923037001 0678942001 0912204001 0706016062 0832307007 0909911001 0935892001': 0.0034133833876201516,\n",
       " '0865799006 0730683050 0685814001 0867969003 0914441004 0907527001 0827968001 0911870001 0929744001 0884319005': 0.0033972175604498737,\n",
       " '0923758001 0924243001 0929165002 0852584001 0914805002 0915529001 0456163060 0872537001 0885951001 0832307007': 0.003388353241722751,\n",
       " '0896152002 0866731001 0915529003 0874754002 0809238005 0911870004 0896152001 0372860001 0579541001 0893059004': 0.003374443455689224,\n",
       " '0448509014 0809238001 0610776002 0372860002 0579541001 0915526001 0884319001 0907527001 0730683050 0893059004': 0.0033707079987127368,\n",
       " '0896169005 0863595006 0918522001 0783346001 0579541001 0769748013 0898713001 0933989001 0706016001 0158340001': 0.0033516323794224637,\n",
       " '0805000010 0898692003 0916468003 0896169005 0863595006 0863646001 0158340001 0827968004 0702118005 0706016002': 0.003341592540284282,\n",
       " '0893141002 0803757001 0907527001 0903926001 0706016002 0911870001 0911870003 0916468003 0878190005 0904625001': 0.0033301141021220724,\n",
       " '0918525001 0914805002 0865929003 0865929007 0909911001 0896152001 0910601002 0878190005 0809238005 0909912001': 0.0033161541430981566,\n",
       " '0866731001 0673677002 0863646001 0898694001 0852584001 0878190005 0579541001 0893059005 0910601003 0885951001': 0.003306154891168004,\n",
       " '0896169005 0762846026 0915529005 0673677002 0158340001 0573085028 0903926001 0884319005 0910601001 0909912001': 0.003296098087186208,\n",
       " '0896169005 0918525001 0456163086 0158340001 0924243002 0911870004 0762846006 0783346001 0884319003 0909371001': 0.003299435412556969,\n",
       " '0926502001 0915526002 0905957001 0624486009 0624486078 0552716001 0624486013 0874754002 0903926001 0803757001': 0.0032757418721801913,\n",
       " '0865799006 0898694001 0809238001 0914441004 0573085028 0878190005 0911870003 0783346001 0761406001 0910601001': 0.003279928881748534,\n",
       " '0865929003 0884319005 0884319001 0905957007 0827968001 0573085028 0896169002 0933706001 0898694002 0936622001': 0.0033108640301870206,\n",
       " '0776179006 0924243001 0929165002 0673677002 0448509014 0678942001 0915526002 0573152003 0685814003 0888320002': 0.0032555041297878846,\n",
       " '0893059005 0751471001 0874754002 0884319003 0884319001 0762846031 0907527001 0865929007 0456163086 0881942001': 0.003235930163370582,\n",
       " '0926502001 0751471001 0715624001 0898694001 0867969003 0456163060 0768912001 0893133001 0918525001 0909911001': 0.0032206350759506263,\n",
       " '0896169005 0806388002 0767423001 0894668003 0805947001 0783346001 0751471038 0832307007 0910601002 0933706001': 0.0032158558621006457,\n",
       " '0914441004 0762846027 0865929003 0867969003 0906352001 0885951001 0748355003 0884319003 0783346001 0923037001': 0.003202828089669141,\n",
       " '0892309002 0905957001 0929165002 0748355003 0863595004 0834020001 0512075001 0762173002 0671505001 0632534005': 0.0031946771078116424,\n",
       " '0863583002 0158340001 0914441004 0610776002 0678942001 0893141002 0923037001 0884319003 0910601002 0909912001': 0.003180357212499268,\n",
       " '0915526001 0866731001 0916468003 0878190005 0372860001 0678942001 0911870004 0905957007 0893059005 0909371001': 0.003174968964982325,\n",
       " '0685814001 0863646001 0714790020 0706016019 0573085028 0372860002 0873279003 0781613006 0832307007 0730683050': 0.0032568236212446697,\n",
       " '0448509014 0918525001 0910601001 0884319005 0929165002 0865929003 0714790020 0912204001 0573085028 0863583001': 0.0031608744251089187,\n",
       " '0673677002 0762846031 0909370001 0915529005 0893141002 0907527001 0909371001 0706016002 0832307007 0872537001': 0.004618475763467066,\n",
       " '0918522001 0909911001 0706016002 0372860002 0873279003 0893133001 0929744001 0933706001 0926502001 0805947001': 0.0031384829036781364,\n",
       " '0874754002 0863595004 0884319001 0904625001 0762846006 0706016002 0893141002 0916468001 0923758001 0805947001': 0.00319076498625826,\n",
       " '0933032002 0909912001 0573085028 0796210001 0803757001 0852584001 0884319005 0706016003 0158340001 0915526002': 0.00311054811696772,\n",
       " '0909371001 0909911001 0579541001 0762846006 0873279003 0878190005 0827968001 0918836001 0923037001 0706016001': 0.0031075211097425655,\n",
       " '0874754002 0714790020 0706016002 0809238001 0873279003 0685814003 0783346001 0884319001 0910601001 0929744001': 0.0030947432369638314,\n",
       " '0863595006 0905957001 0916468003 0914805002 0865929003 0158340001 0372860001 0911870004 0910601001 0936622001': 0.003132300195097847,\n",
       " '0673677002 0456163086 0714790020 0909371001 0907188001 0915529001 0758034001 0878190005 0933032002 0894780001': 0.003073327968485438,\n",
       " '0751471001 0912204001 0905957001 0832307007 0673677002 0881942001 0918522001 0874754002 0933032002 0685814001': 0.003063620395158176,\n",
       " '0910601002 0924243001 0903926001 0898694002 0909911001 0907527001 0730683050 0885951001 0916468001 0926502001': 0.0030554702564726775,\n",
       " '0751471038 0896152001 0915526002 0714790020 0912204001 0762846026 0898694002 0768912001 0803757001 0885951001': 0.0030454160989847154,\n",
       " '0685814003 0916468003 0706016003 0850917001 0809238005 0896152001 0372860001 0919273002 0910601002 0156231001': 0.0031046027553940474,\n",
       " '0918522001 0915526002 0874754002 0911870004 0898713001 0866731001 0852584001 0781613006 0923037001 0929744001': 0.0032184256057941197,\n",
       " '0863583001 0926502001 0762846027 0827968004 0706016062 0762846006 0863595004 0904625001 0893059005 0935892001': 0.0030280081014804065,\n",
       " '0924243001 0673677002 0915529001 0827968001 0809238005 0909371001 0706016019 0924243002 0911870004 0878190005': 0.0030149675878319094,\n",
       " '0915526001 0924243002 0911870001 0767423001 0898694002 0919273002 0884319001 0893059004 0923037001 0909371001': 0.003080502202652298,\n",
       " '0893133001 0863646001 0866731001 0850917001 0769748013 0372860001 0685814001 0911870003 0872537001 0933989001': 0.002993243026594481,\n",
       " '0874754002 0863646001 0781613006 0806388002 0794575017 0762846026 0456163086 0797988002 0910601002 0910601003': 0.002984331743460139,\n",
       " '0685814003 0915526002 0448509014 0673677002 0806388002 0893133001 0863595004 0909911001 0923037001 0908799002': 0.0029722736108131064,\n",
       " '0918522001 0916468003 0914805002 0933032002 0806388002 0751471038 0156231001 0158340001 0761406001 0936622001': 0.0029638445912554233,\n",
       " '0866731001 0730683050 0898694001 0805947001 0768912001 0841383002 0911870003 0911870004 0918522001 0719655001': 0.00295907479210345,\n",
       " '0924243001 0866731001 0762846026 0768912001 0910601002 0896152003 0579541001 0873279003 0781613006 0872537001': 0.0030519061793691012,\n",
       " '0832307007 0893141002 0559633008 0926502001 0911870004 0896152003 0610776002 0751471038 0923037001 0910601002': 0.002939110632232135,\n",
       " '0874754002 0905957001 0762846027 0878190005 0706016003 0918525001 0914805002 0456163086 0910601001 0893059004': 0.002930930275899169,\n",
       " '0918292001 0866731001 0714790020 0909371001 0896152003 0706016003 0911870004 0918522001 0610776002 0884319001': 0.0029347725797687985,\n",
       " '0850917001 0673677002 0806388002 0903926001 0915529005 0884319001 0910601002 0768912001 0910601003 0156231001': 0.0029252857265728055,\n",
       " '0916468003 0448509014 0805947001 0872834001 0807244030 0877961019 0807241015 0807241091 0854471002 0807241033': 0.002910426503985701,\n",
       " '0863646001 0762846006 0896169005 0916468003 0863583001 0372860001 0893141002 0926433002 0714790020 0448509014': 0.0029837187799088335,\n",
       " '0918292001 0863583001 0730683050 0893141002 0872537001 0894780001 0910601002 0884319001 0898694001 0809238001': 0.0029053621716125075,\n",
       " '0910601002 0896169002 0893059004 0923758001 0762846031 0911870003 0909912001 0610776002 0809238001 0923037001': 0.00288342573491052,\n",
       " '0896169005 0874754002 0751471001 0866731001 0914805002 0905957007 0809238005 0685814003 0884319005 0884319001': 0.002870464933947155,\n",
       " '0893059005 0884319001 0935892001 0909911001 0907188001 0929744001 0894780001 0809238001 0923037001 0926502001': 0.002864248763572281,\n",
       " '0865799006 0915529003 0867969003 0865929007 0706016019 0706016002 0909911001 0896169002 0916468001 0894668003': 0.0028565841777065176,\n",
       " '0863646001 0915529003 0898713001 0827968001 0924243002 0911870004 0904625001 0933706001 0908799002 0909371001': 0.0028468664718061536,\n",
       " '0863646001 0915526002 0762846027 0914441004 0909371001 0372860001 0915529005 0832307007 0926502001 0923037001': 0.002849146508586815,\n",
       " '0678942001 0896152002 0715624001 0867969003 0909370001 0919273002 0827968001 0915526002 0893141002 0898694001': 0.002831348555099632,\n",
       " '0929165002 0579541001 0884319005 0714790020 0907527001 0456163086 0832307007 0809238005 0871710001 0706016062': 0.0028220638711519115,\n",
       " '0863583001 0852584001 0910601002 0915526001 0918522001 0755611007 0769748013 0565200017 0870525007 0922625005': 0.0028323893350188753,\n",
       " '0918522001 0867969003 0865929003 0909370001 0706016002 0372860002 0915526001 0929744001 0909912001 0894668003': 0.0028234783080849216,\n",
       " '0893059005 0865929003 0912204001 0762846027 0850917003 0865799005 0448509014 0873279003 0832307007 0915529001': 0.0028060941236074184,\n",
       " '0751471043 0914441004 0706016003 0926502001 0921906003 0865799005 0909371001 0456163060 0832307007 0372860001': 0.0027925091098491726,\n",
       " '0918525001 0762846026 0867969003 0706016002 0873279003 0908799002 0909371001 0372860002 0610776002 0909912001': 0.002881222486580923,\n",
       " '0863583001 0905957001 0915529003 0916468003 0924243001 0762846027 0768912001 0809238005 0706016062 0751471043': 0.002829898869929371,\n",
       " '0739590027 0893141002 0914805002 0936622001 0832307007 0933989001 0910601001 0706016003 0610776002 0599580022': 0.0027701541993690906,\n",
       " '0896169005 0918525001 0730683050 0905957007 0832307007 0706016003 0372860001 0873279003 0916468001 0909911001': 0.0027628100075900576,\n",
       " '0579541001 0678942001 0921906003 0893141002 0911870003 0884319005 0916468001 0907527001 0916468003 0158340001': 0.002849324810129138,\n",
       " '0874754002 0685814003 0918292001 0885951001 0706016003 0751471038 0456163060 0910601001 0156231001 0933706001': 0.00276305889407326,\n",
       " '0914805002 0915529005 0852584001 0706016001 0730683050 0933706001 0905957007 0885951001 0850917001 0832307007': 0.002745430613115417,\n",
       " '0915529003 0898694001 0907527001 0809238005 0706016002 0915526002 0896169002 0908799002 0933989001 0909911001': 0.002733413135565809,\n",
       " '0893059005 0751471043 0863595006 0706016003 0863583002 0873279003 0915529001 0758034001 0871710001 0923037001': 0.0027224230293741167,\n",
       " '0926502001 0781613006 0863595004 0852584001 0863583001 0673677002 0884319003 0909912001 0865799005 0769008001': 0.0027167711890771643,\n",
       " '0762846027 0673677002 0730683050 0924243002 0911870001 0894780001 0762846026 0865799006 0714790020 0585480002': 0.00270982287700457,\n",
       " '0863646001 0715624001 0762846031 0898694001 0914805002 0896152002 0767423001 0916468002 0730683050 0936622001': 0.002704851218053924,\n",
       " '0706016001 0867969003 0573085028 0768912001 0610776002 0911870004 0911870003 0863583002 0751471038 0893059004': 0.003030286309175652,\n",
       " '0751471043 0685814001 0456163060 0706016002 0923758001 0916468001 0915526002 0916468003 0898694001 0933032002': 0.0027435982427806544,\n",
       " '0762846031 0456163086 0610776002 0905957001 0866731001 0929165002 0898694002 0929744001 0809238005 0936622001': 0.00267888393419925,\n",
       " '0893059005 0896152002 0914805002 0714790020 0909911001 0873279003 0915526001 0929744001 0809238005 0936622001': 0.002672280670237173,\n",
       " '0751471001 0706016001 0884319003 0896169005 0797710001 0896152003 0898694002 0933032002 0915529005 0781613006': 0.0026650363224939152,\n",
       " '0916468003 0832481002 0893133001 0911870003 0898694002 0805947001 0767423013 0579541001 0898694001 0751471038': 0.0026703837356970212,\n",
       " '0929165002 0762846031 0924243002 0912204001 0706016002 0803757001 0911870004 0907527001 0761406001 0893059005': 0.0026588283387718376,\n",
       " '0918522001 0783346001 0914805002 0908799002 0909912001 0919273002 0706016003 0796210001 0158340001 0916468003': 0.002652374953448751,\n",
       " '0863595006 0865929003 0762846027 0926502001 0898694002 0908799002 0909911001 0781613006 0891591003 0761406001': 0.0026479963432410876,\n",
       " '0569189002 0898694001 0827968001 0863595006 0881942001 0898692003 0874754002 0936622001 0909371001 0740498001': 0.0026410820377736023,\n",
       " '0918522001 0685814001 0874754002 0706016003 0768912001 0573085028 0906352001 0915529005 0915526001 0935892001': 0.003063433845694394,\n",
       " '0762846031 0809238005 0863646001 0610776002 0158340001 0915529001 0898694002 0894668003 0748355003 0863595004': 0.002624390497977694,\n",
       " '0923758001 0911870001 0714790020 0456163060 0579541001 0905957007 0805947001 0893059004 0909911001 0909371001': 0.002611104606792243,\n",
       " '0865799006 0905957001 0762846026 0758034001 0912204001 0906352001 0579541001 0783346001 0685814003 0730683050': 0.0026121777928045566,\n",
       " '0751471001 0783346001 0898694001 0866731001 0685814003 0706016002 0781613006 0865799005 0872537001 0891591003': 0.002745520276894786,\n",
       " '0865929003 0881577002 0881942001 0372860002 0827968001 0778064005 0893133001 0873279003 0872537001 0448509014': 0.002589562863436567,\n",
       " '0893059005 0579541001 0863595004 0884319005 0904625001 0909370001 0908799002 0893141002 0915529005 0923758001': 0.0025836641614321205,\n",
       " '0783346001 0806131012 0915529001 0884319003 0915529005 0456163060 0915526001 0896169002 0898694001 0898694002': 0.0025784197939194595,\n",
       " '0918522001 0372860002 0706016003 0850917001 0809238005 0911870003 0706016062 0894668003 0884319005 0909912001': 0.002571304321331328,\n",
       " '0874754002 0929165002 0809238001 0809238005 0878190005 0903926001 0863595004 0783346001 0905957007 0929744001': 0.002563771717280334,\n",
       " '0911870001 0896152002 0714790020 0874754002 0762846027 0715624001 0809238005 0678942001 0896152001 0923037001': 0.002562467687717279,\n",
       " '0918522001 0910601003 0863595004 0884319005 0762846006 0706016019 0911870001 0898694002 0898713001 0935892001': 0.002563621976306768,\n",
       " '0910601003 0863646004 0924243001 0918522001 0909370001 0915529005 0693243006 0863583001 0637515002 0735779002': 0.002546642249670314,\n",
       " '0916468003 0893133001 0599580022 0599580072 0909912001 0911870004 0918522001 0908799002 0758034001 0801592003': 0.0025786248047983047,\n",
       " '0673677002 0751471043 0158340001 0903926001 0911870004 0918522001 0929744001 0916468003 0898713001 0894780001': 0.002533800118250337,\n",
       " '0685814001 0926502001 0573085028 0610776002 0905957007 0806388002 0898692003 0893059005 0909911001 0909371001': 0.002538678387038107,\n",
       " '0893059005 0893133001 0863595006 0926502001 0909370001 0456163086 0863595004 0910601001 0872537001 0933989001': 0.0025179860428438342,\n",
       " '0884319003 0914805002 0896169005 0929744001 0851545001 0898694001 0850917001 0832307007 0905957007 0581831016': 0.0025120935775342964,\n",
       " '0929165002 0867969003 0907527001 0918292004 0456163086 0372860002 0923758001 0926502001 0894668003 0935892001': 0.002509201833005135,\n",
       " '0923037001 0809238001 0758034001 0924243001 0936622001 0751593002 0915526002 0893059004 0903926001 0885951001': 0.002505530983999499,\n",
       " '0924243002 0751471001 0714790020 0610776002 0803757001 0896152002 0456163086 0767423001 0898692003 0158340001': 0.0024935866846538322,\n",
       " '0915529003 0448509014 0867969003 0806388002 0456163060 0610776002 0914805002 0872537001 0910601003 0898692003': 0.0024872367107299613,\n",
       " '0910601002 0896152002 0907527001 0911870001 0898713001 0796210001 0865799005 0706016001 0706016062 0926502001': 0.002481079720807578,\n",
       " '0896152003 0751471001 0863595006 0863646001 0856840001 0905957007 0911870003 0898694001 0706016001 0681114011': 0.0028688160582644993,\n",
       " '0884319005 0918836001 0893133001 0894780001 0761406001 0918292001 0832307007 0904625001 0915529005 0608769009': 0.0024745341890289184,\n",
       " '0929165002 0706016003 0884319003 0905957007 0610776002 0372860002 0911870004 0910601002 0923037001 0936622001': 0.0024786897265752176,\n",
       " '0878190005 0903926001 0685814001 0714790020 0850917001 0910601002 0910601003 0923037001 0885951001 0762846027': 0.0025327465409712537,\n",
       " '0918522001 0923758001 0896152003 0903926001 0867969003 0762846006 0715624001 0898694002 0610776002 0885951001': 0.0024663206532930556,\n",
       " '0564358005 0863583002 0564358045 0564358046 0911870003 0564358003 0836705001 0936622001 0778305001 0783707164': 0.002447849970305152,\n",
       " '0918522001 0894780001 0916468001 0911870001 0863583002 0906352001 0896169005 0933032002 0608007012 0909911001': 0.0024545294686205044,\n",
       " '0863583001 0762846031 0924243002 0706016002 0873279003 0706016062 0751471038 0919273002 0884319003 0898692003': 0.002624773875227084,\n",
       " '0903926001 0783346001 0762846031 0706016001 0924243002 0911870003 0908799002 0881942001 0871710001 0916468001': 0.0024342953624075774,\n",
       " '0706016001 0905957007 0827968001 0919273002 0911870004 0933032002 0878190005 0908799002 0916468001 0916468003': 0.0025562048907519026,\n",
       " '0915526001 0910601003 0912204001 0893141002 0573085028 0852584001 0158340001 0809238001 0894780001 0904625001': 0.002425371719729769,\n",
       " '0751471043 0827968001 0935892001 0863595006 0758034001 0673677002 0926502001 0918522001 0911870003 0916468003': 0.0024108881098198454,\n",
       " '0918292004 0863595006 0714790020 0926502001 0878190005 0896152001 0911870003 0893141002 0678942001 0751471038': 0.0024035600562288114,\n",
       " '0924243001 0865799006 0706016001 0910601001 0751471031 0826498004 0751471027 0706016062 0905781001 0907527001': 0.002429164704537218,\n",
       " '0685814001 0863646001 0751471001 0448509014 0865929003 0918525001 0896169002 0919273002 0751471038 0552716001': 0.0024042727734704004,\n",
       " '0893059005 0865929003 0904625001 0456163060 0889460003 0865929007 0885951001 0893133001 0911870001 0809238001': 0.0023889805759732944,\n",
       " '0918522001 0715624001 0448509014 0929165002 0912204001 0906352001 0907527001 0552716001 0910601002 0923037001': 0.002392601842288621,\n",
       " '0896152002 0850917001 0909370001 0714790020 0730683050 0803757001 0573085028 0915529001 0915529005 0906352001': 0.0023769945758079607,\n",
       " '0918292001 0893059005 0863595006 0865929003 0715624001 0909370001 0915526001 0881942001 0893141002 0832307007': 0.002374769394110305,\n",
       " '0918292001 0685814001 0865929003 0805947001 0767423013 0806388002 0915529005 0863583002 0935892001 0908799002': 0.002365901541692681,\n",
       " '0910601001 0579541001 0762846006 0715624001 0867969003 0907527001 0911870001 0873274002 0871710001 0894668003': 0.0023616373579772886,\n",
       " '0863595006 0915529001 0158340001 0573085028 0809238005 0850917001 0910601002 0905957007 0730683050 0909371001': 0.002352606042404174,\n",
       " '0751471001 0751471043 0914805002 0894780001 0908799002 0863583001 0881942001 0915526002 0781613006 0809238005': 0.002352549174503187,\n",
       " '0158340001 0919273002 0924243002 0865929003 0893059004 0579541001 0706016019 0933032002 0719655001 0719450001': 0.0023530477615330055,\n",
       " '0923758001 0915526001 0915526002 0867969003 0923037001 0896169002 0832307007 0805947001 0910601003 0909911001': 0.002347324331426703,\n",
       " '0893133001 0909370001 0717464001 0911870001 0911870003 0873279003 0933032002 0751471038 0884319003 0894780001': 0.002342094762919886,\n",
       " '0915526001 0926502001 0715624001 0865929003 0158340001 0878190005 0579541001 0751471038 0893059005 0761406001': 0.002341321901626327,\n",
       " '0909370001 0751471001 0809238001 0874754002 0610776002 0933706001 0907527001 0933032002 0893059004 0916468003': 0.0023208642752029483,\n",
       " '0924243001 0896152001 0903926001 0867969003 0448509014 0706016019 0850917003 0803757001 0805947001 0907188001': 0.0023148965546271123,\n",
       " '0918522001 0852584001 0896152002 0867969003 0874754002 0762846026 0904625001 0896152003 0911870004 0158340001': 0.0023115152505342323,\n",
       " '0751471001 0910601003 0912204001 0933706001 0456163060 0898713001 0909911001 0915529001 0863583002 0758034001': 0.0023485400157064323,\n",
       " '0863595006 0762846031 0929165002 0673677002 0912204001 0893141002 0893059004 0909912001 0929744001 0909371001': 0.002299430247063317,\n",
       " '0852584001 0905957001 0916468003 0850917001 0706016001 0610776002 0903926001 0872537001 0894668003 0935892001': 0.0022992301277047415,\n",
       " '0918292004 0926502001 0715624001 0898713001 0867969003 0372860001 0933032002 0884319005 0905957007 0907527001': 0.00228897318861847,\n",
       " '0918522001 0867969003 0456163060 0706016001 0915526002 0881942001 0909371001 0758034001 0894668003 0884319005': 0.0026170023273400273,\n",
       " '0706016001 0685814003 0915529003 0715624001 0918522001 0767423013 0673677002 0806388002 0898694002 0863595004': 0.0022800638145749072,\n",
       " '0865799006 0706016003 0809238005 0719655001 0903926001 0911870003 0579541001 0610776002 0894668003 0910601003': 0.0022816285099188423,\n",
       " '0866731001 0878190005 0809238005 0706016019 0827968001 0893133001 0884319003 0910601002 0730683050 0909911001': 0.002268294300453389,\n",
       " '0910601001 0867969003 0898694002 0907527001 0866731001 0918292001 0448509014 0916468001 0878190005 0809238005': 0.005382336343115125,\n",
       " '0935892001 0573085028 0915526001 0751471001 0871710001 0783346001 0898694001 0894668003 0762846031 0915529003': 0.002262075917461742,\n",
       " '0918525001 0673677002 0762846031 0896169005 0706016001 0919273002 0905957007 0906352001 0910601001 0809238005': 0.002257587642727352,\n",
       " '0903926001 0874754002 0894780001 0706016001 0919273002 0806131012 0866731001 0907527001 0372860001 0827968001': 0.0022489530593794234,\n",
       " '0874754002 0852584001 0916468001 0573085028 0678942001 0610776002 0896152003 0797988002 0910601003 0933706001': 0.0022513642521921375,\n",
       " '0762846026 0695632107 0685814001 0915529001 0903926001 0884319003 0770315014 0768912001 0752566001 0486639003': 0.00224126944288713,\n",
       " '0915529003 0915529001 0898694001 0894780001 0898713001 0929165002 0896169002 0212629035 0884319005 0764520001': 0.0022406132557642785,\n",
       " '0924243001 0896152002 0456163086 0907527001 0706016002 0803757001 0881942001 0781613006 0796210001 0933032002': 0.0022957840877511322,\n",
       " '0893059005 0762846006 0924243001 0873279003 0850917003 0711190002 0929165002 0918836001 0852584001 0803757001': 0.0022273521258354715,\n",
       " '0918292001 0923758001 0905957007 0884319001 0715624001 0924243002 0908799002 0915526002 0898694002 0894668003': 0.002259789484811203,\n",
       " '0416961004 0706016028 0706016039 0893133001 0923758001 0894668003 0896169002 0579541001 0850917001 0751471038': 0.0022373973104777923,\n",
       " '0918522001 0678942001 0806131012 0762846027 0910601002 0926502001 0889460003 0933706001 0910601001 0832307007': 0.002209962315759091,\n",
       " '0893059005 0903926001 0685814001 0762846031 0884319001 0926502001 0908799002 0803757001 0893133001 0933032002': 0.002204579377682106,\n",
       " '0673677002 0919273002 0865929007 0456163086 0906352001 0915526002 0910601001 0781613006 0761406001 0909912001': 0.0022015580500002255,\n",
       " '0884319003 0885951001 0372860001 0918836001 0881942001 0918525001 0915529005 0893141002 0933032002 0871710001': 0.003596634511665177,\n",
       " '0924243002 0929165002 0762846026 0715624001 0456163060 0706016002 0936622001 0933032002 0894780001 0929744001': 0.0021894142124544583,\n",
       " '0885951004 0871520001 0916468003 0918522001 0926502001 0896169005 0924243002 0907527001 0873678010 0832307007': 0.002184829363423734,\n",
       " '0228257004 0918292001 0892313001 0909093003 0904625001 0878190005 0903049004 0914441005 0706016003 0933706001': 0.0021924921160109603,\n",
       " '0918292001 0915529001 0893141002 0914441004 0715624001 0685814003 0924243002 0783346001 0894668003 0936622001': 0.002176074077451918,\n",
       " '0706016002 0677459005 0903735003 0675068001 0730683050 0893059005 0832307007 0744893002 0836115001 0744893004': 0.002178425281052573,\n",
       " '0865799006 0863583001 0685814001 0905957001 0706016001 0781613006 0918525001 0678942001 0863595004 0933706001': 0.0021801478738379316,\n",
       " '0706016001 0866731001 0809238005 0610776002 0896169005 0893059005 0805947001 0706016003 0896152001 0717464001': 0.0021611071318939938,\n",
       " '0918525001 0915529003 0884319003 0919273002 0896152003 0797710001 0768912001 0610776002 0372860002 0781613006': 0.002889635934482512,\n",
       " '0863595006 0915529003 0918525001 0919273002 0909911001 0909371001 0827968001 0911870001 0781613006 0685814003': 0.0021532310855957035,\n",
       " '0898694001 0915529005 0912204001 0809238005 0678942001 0685814003 0832307007 0907527001 0909371001 0929744001': 0.0021569753612457935,\n",
       " '0898713001 0706016001 0852584001 0805947001 0896152001 0579541001 0898692003 0885951001 0923758001 0893059005': 0.002143221111549011,\n",
       " '0714790020 0872537001 0865929003 0805947001 0762846006 0896152001 0783346001 0896169002 0935892001 0909912001': 0.002137225128895959,\n",
       " '0751471001 0929165002 0884319003 0850917001 0935892001 0914441004 0863583002 0706016002 0929744001 0916468003': 0.002133546914332441,\n",
       " '0918292001 0865799006 0863646001 0852584001 0914805002 0803757001 0911870003 0896169002 0809238001 0805947001': 0.002130076822841038,\n",
       " '0673677002 0896152002 0884319003 0908799002 0909911001 0905957001 0573085028 0933706001 0910601001 0809238001': 0.0021243239173941927,\n",
       " '0896152002 0910601003 0884319001 0912204001 0456163060 0850917003 0921906003 0372860002 0911870004 0805947001': 0.0021202905917052164,\n",
       " '0918525001 0706016001 0885951001 0803757001 0809238001 0706016003 0911870003 0910601003 0933989001 0923037001': 0.002116030952478192,\n",
       " '0863646001 0685814003 0884319005 0762846031 0904625001 0909370001 0706016019 0832307007 0933032002 0894668003': 0.002147765708047746,\n",
       " '0878190005 0914805002 0758034001 0863583002 0873279003 0715624001 0783346001 0911870003 0898694002 0863595004': 0.0021059853218313935,\n",
       " '0783346001 0852584001 0889460003 0706016019 0910601002 0910601001 0896169002 0916468001 0916468003 0884319003': 0.0021110354513654748,\n",
       " '0918292001 0905957001 0714790020 0929165002 0896152003 0706016003 0158340001 0783346001 0916468003 0805947001': 0.002099441028329504,\n",
       " '0865799006 0914805002 0893141002 0867969003 0850917001 0909370001 0809238001 0158340001 0896169002 0898713001': 0.002095979706044233,\n",
       " '0918525001 0783346001 0863595006 0762846031 0909370001 0866731001 0915529005 0881942001 0893133001 0898694001': 0.0020884148665335305,\n",
       " '0918292004 0918525001 0685814001 0863583002 0827968001 0827968004 0372860002 0894668003 0929744001 0909371001': 0.0023977779795439982,\n",
       " '0896152002 0835348001 0914805002 0863646001 0935689001 0456163060 0911870004 0706016062 0714790020 0706016002': 0.002106948942496357,\n",
       " '0918292001 0852584001 0905957001 0863583002 0863646001 0678942001 0873279003 0896169002 0805947001 0730683050': 0.0021562892689174595,\n",
       " '0863646001 0916468003 0762846027 0896152003 0794575017 0893133001 0911870004 0885951001 0884319003 0751471043': 0.0021126879826581764,\n",
       " '0918292004 0372860002 0915529003 0706016002 0809238005 0456163060 0758034001 0911870001 0767423001 0923758001': 0.0020684334057833624,\n",
       " '0912204001 0915529003 0456163086 0751471038 0893059004 0781613006 0863595004 0894780001 0936622001 0909371001': 0.0020685047538855843,\n",
       " '0762846027 0809238001 0896152003 0768912001 0896152001 0832307007 0884319003 0910601002 0909371001 0936622001': 0.002065820025504102,\n",
       " '0893133001 0905957001 0874754002 0914441004 0903926001 0372860002 0372860001 0910601002 0910601003 0893059004': 0.0020737878380809693,\n",
       " '0923758001 0929165002 0685814001 0914805002 0827968004 0812668001 0706016062 0919273002 0884319003 0908799002': 0.002059142253857788,\n",
       " '0915526002 0678942001 0714790020 0921906003 0918525001 0873279003 0926502001 0158340001 0809238005 0809238001': 0.002129351076419944,\n",
       " '0866731001 0874754002 0914805002 0865929003 0898694002 0610776002 0809238005 0850917001 0832307007 0909911001': 0.002048332030378786,\n",
       " '0456163086 0898694002 0893141002 0933706001 0867969003 0912204001 0871710001 0781613006 0158340001 0706016001': 0.00205348336735993,\n",
       " '0918292001 0685814003 0803757001 0610776002 0905957007 0898694002 0910601002 0929744001 0909912001 0923037001': 0.0020342952876330244,\n",
       " '0893059005 0730683050 0863595006 0866731001 0762846031 0926502001 0706016001 0911870003 0898694002 0910601002': 0.0020315686179826946,\n",
       " '0915529005 0923758001 0896169005 0809238001 0852584001 0158340001 0933032002 0896152003 0758034001 0827955003': 0.0020253954764471514,\n",
       " '0918525001 0905957001 0714790020 0673677002 0456163060 0456163086 0768912001 0878190005 0911870003 0898692003': 0.002031484825999043,\n",
       " '0685814001 0852584001 0896152003 0867969003 0762846026 0767423013 0832307007 0706016062 0910601003 0579541001': 0.0020182481713730423,\n",
       " '0863595006 0751471001 0907188001 0907527001 0923758001 0910601001 0685816002 0909911001 0903049004 0776179001': 0.002015939329602087,\n",
       " '0602673012 0751471043 0916468003 0448509014 0911870003 0912204001 0685813021 0910601003 0602673025 0777280001': 0.0020111429737574393,\n",
       " '0863595006 0885951001 0892309001 0924243001 0915529001 0896152001 0893059004 0809238001 0706016006 0850917001': 0.002010077495943808,\n",
       " '0865799006 0863583002 0866731001 0863646001 0914805002 0827968001 0579541001 0896152001 0918522001 0781613006': 0.0020190213548003525,\n",
       " '0910601001 0915529003 0896152002 0896152003 0929165002 0762846031 0867969003 0918292001 0866731001 0805947001': 0.0020009204453607034,\n",
       " '0685814003 0911870004 0896152001 0885951001 0933032002 0907527001 0751471043 0832307007 0908799002 0936622001': 0.0019931691899882755,\n",
       " '0762846006 0863595006 0685814053 0910601003 0809238005 0914805002 0573085028 0915529005 0768912001 0714790020': 0.00199208275006835,\n",
       " '0863595004 0903926001 0914441004 0884319005 0904625001 0905957007 0898713001 0878190005 0871710001 0372860002': 0.0020394046509446683,\n",
       " '0685814003 0866731001 0673677002 0827968001 0915529001 0911870001 0456163086 0916468002 0706016062 0806388002': 0.0019865688418398363,\n",
       " '0572998009 0805947001 0572998016 0898692003 0706016001 0907527001 0896152001 0751471038 0832307007 0909371001': 0.0019967068368105536,\n",
       " '0936622001 0918525001 0915529001 0714790020 0929165002 0905957007 0933032002 0158340001 0850917001 0884319003': 0.0019745599918515066,\n",
       " '0685814003 0850917001 0552716001 0933032002 0904625001 0915529001 0766346011 0158340001 0573716009 0806388002': 0.001972320397690997,\n",
       " '0916468001 0706016001 0911870004 0906352001 0881942001 0910601001 0904625001 0767423011 0610776002 0935892001': 0.0019727540542215163,\n",
       " '0909370001 0448509014 0915526002 0873279003 0894780001 0863646001 0911870001 0904625001 0730683050 0910601001': 0.001962045275614923,\n",
       " '0456163086 0898694001 0850917001 0881942001 0915529001 0767423001 0884319005 0898694002 0751471038 0908799002': 0.001963736881062037,\n",
       " '0918292001 0914441004 0878190005 0896152003 0896152001 0885951001 0372860001 0456163086 0905957007 0552716001': 0.0019547105221687073,\n",
       " '0865799006 0372860002 0715624001 0706016003 0706016002 0896169002 0910601002 0929744001 0908799002 0936622001': 0.001952019979174545,\n",
       " '0918525001 0762846027 0706016001 0762846006 0805947001 0809238001 0933706001 0706016002 0911870003 0923037001': 0.00196740175444714,\n",
       " '0910601003 0884319001 0850917001 0909912001 0863583002 0873274002 0850917003 0706016019 0781613006 0761406001': 0.001952897627135887,\n",
       " '0456163086 0914805002 0865929003 0918525001 0685814003 0936622001 0911870004 0761406001 0758034001 0923037001': 0.001943524822742947,\n",
       " '0914805002 0865929003 0867969003 0896152003 0456163060 0911870003 0908799002 0878190005 0915526002 0894668003': 0.002008529396169846,\n",
       " '0871710001 0924243001 0916468003 0915529001 0809238005 0884319001 0706016062 0827968001 0598859001 0751471038': 0.0019359402020796615,\n",
       " '0893059005 0915529003 0715624001 0866731001 0610776002 0915529005 0863583002 0933706001 0898694002 0909912001': 0.001953009873268494,\n",
       " '0579541001 0910601003 0867969003 0865799005 0863583001 0850917003 0911870001 0918292004 0918836001 0894780001': 0.001929509303327855,\n",
       " '0915526001 0905957001 0852584001 0915529003 0915529005 0573085028 0906352001 0911870003 0910601003 0936622001': 0.0019250336910371121,\n",
       " '0924243002 0896152001 0867969003 0706016003 0762846026 0911870003 0852584001 0781613006 0891591003 0918292004': 0.001917329821192243,\n",
       " '0783346001 0850917001 0874754002 0914805002 0929165002 0678942001 0730683050 0912204001 0865799005 0881942001': 0.0019175337055737298,\n",
       " '0863595006 0685814001 0915529001 0884319001 0908799002 0762846026 0806131012 0706016002 0781613006 0894668003': 0.0019099771646122268,\n",
       " '0762846031 0730683050 0898694002 0456163086 0916468003 0758034001 0372860001 0909912001 0894668003 0909911001': 0.0019096466896503456,\n",
       " '0914441004 0929165002 0867969003 0573085028 0896152002 0903926001 0748355003 0456163086 0805947001 0929744001': 0.002099757675991888,\n",
       " '0874754002 0863646001 0909370001 0894780001 0573085028 0911870004 0783346001 0904625001 0910601002 0898692003': 0.0020666211414786793,\n",
       " '0156231001 0924243002 0915529003 0762846026 0706016019 0893141002 0758034001 0783346001 0894668003 0923758001': 0.002031962113583229,\n",
       " '0918292001 0896169005 0919273002 0717464001 0678942001 0719655001 0863595004 0916468001 0805947001 0758034001': 0.0018938768133958041,\n",
       " '0865929003 0573085028 0685814003 0832307007 0762846006 0894668003 0884319005 0910601002 0909370001 0762846031': 0.0018939062931719612,\n",
       " '0915526001 0685814001 0911870001 0909370001 0896152003 0706016002 0685814003 0751471038 0909911001 0909371001': 0.001891982751375429,\n",
       " '0579541001 0762846027 0850917001 0762846006 0867969003 0885951001 0372860001 0911870001 0916468001 0894668003': 0.0019060278101489204,\n",
       " '0372860002 0915526001 0918292004 0827968001 0915529001 0797988002 0832307007 0751471043 0910601003 0929744001': 0.0018775992528975586,\n",
       " '0914805002 0915526001 0863595004 0372860001 0863583002 0896152003 0893141002 0926502001 0372860002 0885951001': 0.0018751373083298636,\n",
       " '0678942001 0842302001 0865929003 0637515010 0923758001 0870970002 0573085028 0894668003 0870548003 0824878002': 0.0018730946650399535,\n",
       " '0914441004 0924243001 0918522001 0871710001 0762846027 0873279003 0158340001 0884319003 0935892001 0767799017': 0.0018671110115089208,\n",
       " '0456163086 0923758001 0893059005 0579541001 0863583001 0573085028 0873279003 0896169002 0933032002 0863595004': 0.0018638115317522487,\n",
       " '0918522001 0751471001 0909912001 0918292004 0685814003 0915529005 0863595004 0894780001 0809238001 0706016062': 0.0018631828466185553,\n",
       " '0372860002 0685814001 0918522001 0610776002 0915526001 0893133001 0884319001 0896169002 0872537001 0936622001': 0.0018605352717299367,\n",
       " '0918522001 0923758001 0751471001 0673677002 0916468003 0872537001 0158340001 0809238001 0906352001 0805947001': 0.0018543473960958943,\n",
       " '0893133001 0915529003 0762846026 0909370001 0579541001 0907527001 0783346001 0719655001 0871710001 0893059004': 0.001849989172629302,\n",
       " '0926502001 0916468001 0809238001 0911870001 0893133001 0706016062 0748355003 0923758001 0730683050 0909911001': 0.0018492844597538577,\n",
       " '0896152002 0762846031 0909370001 0926502001 0456163086 0911870001 0929744001 0933032002 0894780001 0923037001': 0.0018472146147422487,\n",
       " '0896169005 0762846027 0762846026 0706016002 0803757001 0768912001 0906352001 0873279003 0898692003 0893059005': 0.001841347469627197,\n",
       " '0872454002 0909370001 0929165002 0898694001 0863646001 0923037001 0573085028 0878190005 0910601001 0827968001': 0.0019116364576738003,\n",
       " '0923758001 0863595006 0865929003 0915529003 0678942001 0910601003 0884319005 0929744001 0909371001 0809238005': 0.0018417966880832108,\n",
       " '0809238005 0918292004 0903926001 0706016002 0863595004 0911870001 0896152001 0915526002 0933032002 0872537001': 0.0018304216114778701,\n",
       " '0852584001 0751471043 0762846031 0898694001 0885951001 0896152003 0896169002 0884319005 0893059004 0929744001': 0.0018266742471722884,\n",
       " '0863646001 0915526002 0706016001 0865929003 0706016019 0803757001 0372860001 0805947001 0898692003 0910601002': 0.0018260240943240456,\n",
       " '0919273002 0716672003 0916468001 0898694002 0918522001 0751471001 0908799002 0628469001 0702890001 0594793002': 0.0020172702131981335,\n",
       " '0896152001 0859743006 0673677002 0898713001 0873279003 0857812007 0919273002 0857812006 0652031001 0679394002': 0.0018172328342899394,\n",
       " '0865799006 0874754002 0898713001 0448509014 0872537001 0706016002 0893141002 0805947001 0910601003 0893059004': 0.001815213151455429,\n",
       " '0866731001 0867969003 0809238005 0715624001 0865929003 0758034001 0610776002 0881942001 0911870001 0884319005': 0.001814432903125149,\n",
       " '0914805002 0762846006 0894780001 0903926001 0884319005 0579541001 0456163060 0768912001 0372860002 0673396001': 0.0018247771033526347,\n",
       " '0827968001 0898692003 0809238005 0751471001 0885951001 0827968004 0678942001 0762846006 0935892001 0448509025': 0.0018079416621293789,\n",
       " '0915526001 0918292001 0891898002 0872537001 0871710010 0773351001 0706016062 0898694002 0783346001 0751471038': 0.0018122991186977789,\n",
       " '0891542003 0908799002 0896169005 0873279003 0915529003 0896169002 0852584001 0706016019 0832307007 0797418001': 0.001798376592945952,\n",
       " '0896169005 0852584001 0896152002 0714790020 0706016002 0905957007 0884319005 0871710001 0910601002 0909911001': 0.0017937852920057002,\n",
       " '0852584001 0915529005 0863583002 0918525001 0898694002 0730683050 0933706001 0936622001 0742365001 0717647003': 0.0018096148593280525,\n",
       " '0874754002 0706016001 0872537001 0767423011 0863595004 0805947001 0871710001 0907527001 0923758001 0909371001': 0.0017890452157270306,\n",
       " '0852584001 0863583002 0905957007 0832307007 0926502001 0706016001 0809238005 0936622001 0719655001 0871710001': 0.0017843674183454282,\n",
       " '0893059005 0903926001 0685814001 0909371001 0911870003 0881942001 0871710001 0915526002 0781613006 0935892001': 0.0018276736859149628,\n",
       " '0874754002 0863646001 0912204001 0456163060 0905957007 0909911001 0896152001 0898694002 0809238001 0805947001': 0.001785985586609154,\n",
       " '0762846027 0706016001 0881942001 0896152001 0911870001 0929744001 0910601001 0894780001 0904625001 0909912001': 0.001807781685444244,\n",
       " '0751471043 0850917001 0884319001 0912204001 0909911001 0865929007 0768912001 0827968001 0906352001 0923037001': 0.0017761501159009145,\n",
       " '0852584001 0894780001 0806388002 0767423013 0906352001 0885951001 0797988002 0907527001 0863595004 0884319005': 0.0017696323841979499,\n",
       " '0751471001 0915529003 0915526001 0903926001 0874754002 0456163060 0863595004 0863583002 0850917003 0884319001': 0.0017739746779588533,\n",
       " '0673677002 0783346001 0863595006 0914805002 0762846026 0912204001 0905957001 0906352001 0910601002 0909912001': 0.001764820996210708,\n",
       " '0803757001 0751471038 0673677002 0714790020 0695324015 0876225001 0766402035 0592743053 0804659004 0853612004': 0.0017777319050532902,\n",
       " '0864415002 0735607005 0865799006 0761406001 0687704028 0863646001 0872537001 0768912001 0896169002 0821029007': 0.0017953644079806695,\n",
       " '0924243001 0673677002 0898694001 0903926001 0918525001 0767423011 0797988002 0919273002 0923758001 0933706001': 0.0017696907329014353,\n",
       " '0918292004 0911870001 0874754002 0673677002 0762846026 0915529005 0372860001 0933032002 0896169002 0761406001': 0.0017501624922650564,\n",
       " '0865799006 0706016003 0706016002 0903926001 0911870001 0456163060 0915526002 0909911001 0908799002 0715624001': 0.0017787046436045833,\n",
       " '0896152003 0673677002 0910601003 0874754002 0912204001 0573085028 0863583001 0884319005 0871710001 0923037001': 0.0017590162899738112,\n",
       " '0783346001 0914805002 0850917001 0866731001 0706016019 0896152001 0863583001 0898713001 0158340001 0923037001': 0.001749903263376472,\n",
       " '0916468003 0762846026 0898713001 0924243002 0896152003 0906352001 0896152001 0706016062 0762846006 0871710001': 0.001742885648653881,\n",
       " '0448509014 0762846031 0768912001 0706016003 0719655001 0872537001 0761406001 0916468001 0781613006 0909912001': 0.0017420729736530877,\n",
       " '0673677002 0905957001 0809238005 0918292004 0706016002 0706016019 0911870003 0884319005 0909911001 0706016062': 0.0017331120350136105,\n",
       " '0896169002 0874754002 0658298001 0757971001 0881942001 0896152001 0910601002 0803757001 0715624001 0685816002': 0.0017792434581188493,\n",
       " '0860797001 0916468001 0924243002 0914441004 0863646001 0915526002 0908799002 0610776002 0904625001 0708042024': 0.0017277773794508369,\n",
       " '0896152002 0896169005 0893059005 0893141002 0762846006 0910601001 0915526002 0805947001 0799421004 0884319001': 0.0017255526695666454,\n",
       " '0865799006 0905957007 0706016003 0896169002 0906352001 0803757001 0758034001 0871710001 0884319003 0909911001': 0.0017275961703978667,\n",
       " '0678942001 0912204001 0889460003 0896152003 0866731001 0909371001 0909911001 0456163086 0781613006 0933032002': 0.0017172302713949485,\n",
       " '0714790020 0809238001 0751471001 0809238005 0896152001 0893133001 0874754002 0456163086 0909911001 0556539018': 0.0018681822746605217,\n",
       " '0919273002 0884319004 0863583001 0873279003 0863646001 0904625001 0929165002 0933706001 0923037001 0694298045': 0.0017129014382450231,\n",
       " '0751471043 0923758001 0903926001 0896152001 0624486050 0624486081 0624486059 0624486092 0456163086 0781613006': 0.0027198376753784573,\n",
       " '0783346001 0910278001 0873279003 0919273002 0762846027 0863646001 0915526001 0905957001 0905957007 0914441004': 0.0017263180108602857,\n",
       " '0863595006 0673677002 0874754002 0762846031 0909370001 0762846006 0715624001 0706016019 0909912001 0904625001': 0.0017029329096706666,\n",
       " '0909294001 0918525001 0865799006 0751471043 0914441004 0872537001 0908799002 0678942001 0909911001 0758034001': 0.0017044871969587828,\n",
       " '0898713001 0762846031 0915529001 0911870001 0898694002 0758034001 0935892001 0909912001 0909911001 0552716001': 0.0017007467361838174,\n",
       " '0751471043 0706016003 0929165002 0909370001 0919273002 0908799002 0827968001 0906352001 0781613006 0805947001': 0.001699784654330109,\n",
       " '0915526001 0863583002 0706016002 0912204001 0906352001 0923037001 0871710001 0805947001 0730683050 0909911001': 0.0016972813204444623,\n",
       " '0923758001 0929165002 0896152002 0751471043 0448509014 0914805002 0885951001 0894780001 0903926001 0783346001': 0.0016920621546700166,\n",
       " '0802871009 0915526001 0863646001 0863595006 0904625001 0910601003 0803757002 0907527001 0751471043 0885951001': 0.001686754513012348,\n",
       " '0863583001 0915526002 0878190005 0805947001 0896169002 0867969003 0762846006 0905957007 0850917001 0909912001': 0.001687351460826332,\n",
       " '0730683050 0372860002 0898692003 0850917001 0873279003 0915526002 0871710001 0903926001 0910601003 0935892001': 0.0016974197488063168,\n",
       " '0893059004 0805947001 0910601001 0938208001 0863595006 0751471043 0762846026 0931800004 0708246001 0816928003': 0.001687156825467268,\n",
       " '0924243002 0929165002 0827968001 0768912001 0873279003 0884319001 0910601003 0929744001 0909371001 0908799002': 0.0016838051407776953,\n",
       " '0673677002 0933706001 0910601001 0884319001 0894668003 0816481001 0881942001 0706016003 0711584002 0719655001': 0.0016736501019581553,\n",
       " '0918522001 0863595006 0916468003 0915526002 0914441004 0762846027 0827968001 0767423011 0905957007 0923758001': 0.0017094204855478369,\n",
       " '0924243001 0863646001 0863583002 0911870001 0863595006 0762846031 0881942001 0872537001 0783346001 0909911001': 0.0017034379113115925,\n",
       " '0924243001 0863583002 0905957001 0915529005 0885951001 0896152001 0898692003 0910601003 0907527001 0908799002': 0.0016760566952758677,\n",
       " '0852584001 0910601003 0863595004 0884319001 0884319003 0929165002 0806131012 0456163060 0907527001 0916468003': 0.0016617964204118877,\n",
       " '0865799006 0863646001 0547780002 0547780040 0910601001 0898694002 0706016062 0768912001 0884319003 0933032002': 0.001660572050836693,\n",
       " '0842000008 0924243002 0706016001 0842000001 0805947001 0859805001 0806388010 0573085028 0856060001 0561552023': 0.0016568877959675925,\n",
       " '0874754002 0916468003 0850917001 0762846031 0926502001 0903926001 0914805002 0797988002 0806388002 0794575017': 0.0016742906542748786,\n",
       " '0762846027 0803757001 0865929007 0706016002 0372860002 0915526002 0911870001 0906352001 0158340001 0805947001': 0.0016549194156489004,\n",
       " '0893059005 0706016003 0706016001 0918292004 0905957007 0908799002 0889460003 0781613006 0871710001 0909912001': 0.002324164364903886,\n",
       " '0706016001 0914441004 0924243001 0915529001 0911870001 0929165002 0898692003 0797988002 0935892001 0156231001': 0.0016543174602707056,\n",
       " '0918522001 0730683050 0678942001 0706016003 0910601001 0915526001 0896152001 0881942001 0878190005 0372860001': 0.0016454362969057599,\n",
       " '0906169002 0456163060 0706016002 0920610001 0894668003 0372860002 0910601002 0903926001 0573085028 0929744001': 0.0016799280316098814,\n",
       " '0874754002 0926502001 0863646001 0762846026 0158340001 0872537001 0896152003 0762846006 0919273002 0884319001': 0.0016457322534088675,\n",
       " '0934296001 0850917001 0916468001 0903926001 0878190005 0711053027 0717490005 0803468002 0719655001 0819927001': 0.0016351193146049794,\n",
       " '0874754002 0914441004 0914805002 0865799005 0933706001 0936622001 0898713001 0852584001 0891591003 0894668003': 0.0016319630129382485,\n",
       " '0924243001 0929165002 0896152002 0915526002 0448509014 0878190005 0809238001 0914441004 0884319005 0919273002': 0.0016308014654131092,\n",
       " '0918292004 0863583001 0924243001 0926502001 0706016002 0758034001 0911870004 0456163086 0783346001 0898692003': 0.0016554737943822971,\n",
       " '0751471043 0865929003 0850917001 0762846006 0717464001 0911870003 0915526001 0158340001 0758034001 0894780001': 0.00168661612803121,\n",
       " '0924243002 0673677002 0865929003 0827968001 0372860001 0678942001 0863583002 0579541001 0929744001 0936622001': 0.0016235814088504568,\n",
       " '0896169005 0918522001 0706016003 0865929003 0748355003 0767423001 0896169002 0884319005 0898692003 0929744001': 0.0016194816105498616,\n",
       " '0918292004 0905957001 0863595006 0751471043 0898694001 0865929003 0906352001 0911870004 0923037001 0936622001': 0.001616274610768399,\n",
       " '0918525001 0915529003 0926502001 0706016001 0573085028 0873279003 0908799002 0898694002 0781613006 0918292004': 0.0016306155327900868,\n",
       " '0910601002 0863595006 0896152003 0850917001 0863595004 0911870003 0893133001 0871710001 0761406001 0904625001': 0.0016197612373342006,\n",
       " '0872537001 0926502001 0898692003 0904625001 0573085028 0832311003 0881942001 0762846006 0935092001 0685814003': 0.0016165777518585152,\n",
       " '0673677002 0850917001 0456163060 0706016019 0893133001 0909912001 0909911001 0803757001 0911870001 0894668003': 0.001629256875365711,\n",
       " '0863595006 0874754002 0912204001 0866731001 0706016002 0898694001 0896169002 0906352001 0878190005 0706016003': 0.0016207704248895724,\n",
       " '0867969003 0832307007 0809238005 0865929003 0372860001 0610776002 0918522001 0910601002 0894668003 0933989001': 0.0016229972703097853,\n",
       " '0918292004 0865799006 0852584001 0915529001 0158340001 0809238005 0912204001 0894668003 0884319003 0907527001': 0.0015979509683058005,\n",
       " '0924243002 0809238001 0456163060 0918525001 0896152002 0872537001 0456163086 0832307007 0783346001 0910601003': 0.0016013177869149055,\n",
       " '0924243001 0884319003 0896169005 0870052003 0751471043 0884319005 0933706001 0908799002 0805947001 0751257001': 0.0016107818286784687,\n",
       " '0893059005 0905957001 0893133001 0906352001 0832307007 0781613006 0878190005 0805947001 0904625001 0706016001': 0.001641798596642133,\n",
       " '0909371001 0892093001 0884319005 0916468003 0610776028 0610776018 0610776017 0909912001 0569999006 0752820001': 0.0015984770101862091,\n",
       " '0918522001 0924243002 0896152002 0715624001 0918292001 0918292004 0856840001 0921906003 0919273002 0894668003': 0.0015894990821349554,\n",
       " '0863646001 0762846026 0881942001 0924243002 0758034001 0906352001 0850917001 0910601001 0936622001 0935892001': 0.001582369787535035,\n",
       " '0762846027 0924243002 0706016002 0933706001 0372860002 0918292004 0916468003 0884319005 0936622001 0898713001': 0.0015803235890332777,\n",
       " '0924243002 0924243001 0751471043 0678942001 0933706001 0715624001 0905957007 0768912001 0884319005 0863583001': 0.001581085758946504,\n",
       " '0865799006 0924243001 0896169002 0751471038 0915526002 0456163086 0850917003 0768912001 0805947001 0685814003': 0.0015823746705621096,\n",
       " '0714790020 0762846027 0915529005 0898694002 0908799002 0881942001 0768912001 0885951001 0685814001 0894668003': 0.001637691947324141,\n",
       " '0863646001 0893141002 0915529005 0915529001 0794575017 0751471038 0910601003 0893059004 0909371001 0908799002': 0.0029217973300378177,\n",
       " '0730683050 0714790020 0907527001 0706016019 0827968001 0916468001 0915529005 0781613006 0761406001 0706016062': 0.0015804959689029658,\n",
       " '0751471038 0685814001 0903926001 0884319005 0884319003 0909370001 0907527001 0456163086 0805947001 0809238001': 0.0015650368091737433,\n",
       " '0924243001 0903926001 0673677002 0863595006 0685814001 0762846027 0850917001 0904625001 0916468003 0898713001': 0.001566379162451326,\n",
       " '0685813002 0871710001 0918292001 0909370001 0915526002 0706016001 0896152003 0768912001 0898694002 0701760008': 0.0015620273294719772,\n",
       " '0918522001 0893059004 0715624001 0884319001 0894780001 0909370001 0905957001 0896152001 0758034001 0372860001': 0.0015589370467426085,\n",
       " '0874754002 0916468003 0706016003 0898694001 0767423013 0885951001 0797988002 0896169002 0910601002 0923037001': 0.0016055782807117972,\n",
       " '0918292001 0865799006 0906352001 0762846026 0924243002 0884319001 0678942005 0896152003 0812668001 0768912001': 0.001569921769769752,\n",
       " '0448509014 0894668003 0912204001 0573085028 0372860001 0923037001 0898713001 0906352001 0896152003 0660618003': 0.0015510538077531917,\n",
       " '0896152003 0903926001 0884319001 0921906003 0852584001 0796210001 0456163060 0908799002 0372860002 0918292004': 0.0015501147617494931,\n",
       " '0893059004 0929165002 0918292001 0852584001 0936622001 0935892001 0856840001 0685814003 0863595004 0893133001': 0.001552074952224159,\n",
       " '0751471038 0929744001 0372860001 0863583002 0919273002 0863595004 0878190005 0933032002 0762846026 0935689001': 0.0015504595707842375,\n",
       " '0906352001 0884319001 0762846026 0893059004 0908799002 0911870001 0904625001 0909371001 0918292001 0852584001': 0.0015468838188825162,\n",
       " '0914805002 0685814001 0803757001 0885951001 0748355003 0919273002 0158340001 0898694001 0909370001 0706016003': 0.0015421174705250334,\n",
       " '0924243002 0896169005 0896169002 0751471043 0915529003 0579541001 0918292001 0906352001 0809238001 0904625001': 0.0015452351649136169,\n",
       " '0863595004 0678942001 0914805002 0909370001 0706016001 0372860001 0929744001 0910601001 0761406001 0809238005': 0.0015468601581561585,\n",
       " '0918525001 0896152002 0827968001 0762846006 0809238001 0579541001 0372860002 0685814001 0783346001 0706016062': 0.0015376982422270371,\n",
       " '0905507001 0762856007 0910601003 0893141002 0881362002 0863583002 0896169005 0158340001 0719523001 0872215003': 0.0015427935712240188,\n",
       " '0884319001 0762846031 0884319005 0896152002 0673677002 0893133001 0911870004 0898713001 0933032002 0894668003': 0.0015669231212982959,\n",
       " '0924243002 0783346001 0896152001 0762846027 0456163060 0852584001 0730683050 0832307007 0781613006 0805947001': 0.0015253000147020523,\n",
       " '0865799006 0762846026 0878190005 0885951001 0838055002 0599580014 0684209025 0351484002 0599580076 0599580038': 0.0015645516201614597,\n",
       " '0865929003 0806131012 0918292004 0905957001 0768912001 0911870003 0881942001 0923758001 0893141002 0935892001': 0.0015766370045760109,\n",
       " '0905957001 0866731001 0898694001 0898694002 0923037001 0911870003 0905957007 0805947001 0919273002 0935892001': 0.0015401065180570914,\n",
       " '0910601002 0896169002 0762846027 0762846006 0456163086 0905957001 0856840001 0768912001 0933032002 0926502001': 0.0015196429145328846,\n",
       " '0865799006 0929165002 0863595006 0863583002 0714790020 0762846031 0898694001 0850917001 0832307007 0910601003': 0.0015144760192629158,\n",
       " '0916468001 0914441004 0715624001 0767423013 0706016019 0915529001 0906352001 0781613006 0767423001 0909911001': 0.001518304884320896,\n",
       " '0924243002 0685814003 0914441004 0706016001 0767423013 0610776002 0914805002 0915529001 0372860001 0751471038': 0.001514381085857495,\n",
       " '0863595006 0910601003 0898694001 0715624001 0909912001 0456163086 0905957001 0873274002 0873279003 0863583001': 0.0015077542761702607,\n",
       " '0926502001 0866731001 0915529003 0915526002 0898694002 0832307007 0894668003 0884319005 0898692003 0910601002': 0.0015066465509895103,\n",
       " '0918522001 0865799006 0898694002 0809238001 0610776002 0803757001 0893141002 0706016062 0898692003 0893059005': 0.0015051057118233707,\n",
       " '0918525001 0579541001 0896152002 0806131012 0905957001 0915526002 0906352001 0898694001 0872537001 0871710001': 0.001503711015006673,\n",
       " '0745256003 0904625001 0805947001 0915529005 0762846031 0919273002 0783707038 0686923001 0783707111 0783707019': 0.001508378395695576,\n",
       " '0863595006 0715624001 0762846027 0919273002 0803757001 0372860001 0916468001 0896152001 0898713001 0158340001': 0.0015066325688300542,\n",
       " '0916468003 0762846031 0898694002 0706016001 0924243002 0812668001 0894668003 0871710001 0910601003 0909912001': 0.0014968859059222728,\n",
       " '0622955006 0673677002 0863595006 0706016002 0871710001 0893059005 0832307007 0762846031 0156231001 0908799002': 0.0014907726661973594,\n",
       " '0918522001 0811835001 0909370001 0806131012 0714790001 0881942001 0768912001 0573085028 0896152003 0696545002': 0.001491933142370267,\n",
       " '0456163086 0762846031 0673677002 0919273002 0924243002 0678942001 0893133001 0706016019 0456163060 0918292004': 0.001502377066244421,\n",
       " '0915526001 0863583002 0898713001 0867969003 0781613006 0751471038 0905957007 0884319003 0910601003 0935892001': 0.0015187174533466375,\n",
       " '0783346001 0685814003 0929165002 0715624001 0762846031 0915529005 0909911001 0915526001 0873279003 0878190005': 0.0014931980863293133,\n",
       " '0884319001 0850917001 0898694001 0907527001 0852584001 0730683050 0909371001 0856840001 0881942001 0809238005': 0.0014918524554476406,\n",
       " '0783346001 0911870003 0884319005 0898694002 0908799002 0456163086 0827968001 0907527001 0872537001 0706016001': 0.0014804770716285909,\n",
       " '0909371001 0898889002 0893059004 0579541001 0911870001 0536139007 0915529005 0649357001 0910601002 0863583002': 0.0014844185374862206,\n",
       " '0865799006 0910601001 0678942001 0914805002 0865929003 0456163060 0706016002 0827968001 0893133001 0863583002': 0.0014739120189463336,\n",
       " '0547780006 0768931019 0806131012 0547780028 0789407004 0873279003 0805947001 0715624001 0787060001 0456163086': 0.001474913625410392,\n",
       " '0918522001 0881942001 0767423013 0762846026 0918525001 0911870004 0678942001 0871710001 0884319005 0923758001': 0.0014748905574640397,\n",
       " '0896152002 0809238001 0158340001 0935892001 0717464001 0896169002 0916468001 0781613006 0923037001 0706016062': 0.0014716344822777705,\n",
       " '0852584001 0809238005 0456163060 0706016062 0884319001 0910601002 0893059005 0923037001 0909371001 0908799002': 0.0014774206800940957,\n",
       " '0924243001 0852584001 0898694002 0881942001 0919273002 0811925004 0678942001 0372860002 0687821001 0611415007': 0.0014638007649736015,\n",
       " '0685814001 0909370001 0865929007 0898713001 0916468003 0758034001 0372860002 0918292004 0929744001 0936622001': 0.00147418694600156,\n",
       " '0863595006 0909370001 0456163086 0158340001 0456163060 0907527001 0706016019 0751471038 0910601003 0909912001': 0.001475063345124307,\n",
       " '0918522001 0874754002 0884319003 0762846031 0889460003 0827968001 0911870001 0896169002 0893141002 0893133001': 0.0014618921776164662,\n",
       " '0924243002 0924243001 0893059004 0910601003 0678942001 0762846031 0909370001 0881942001 0158340001 0933032002': 0.0015682097105586123,\n",
       " '0863595006 0893141002 0914441004 0456163086 0717464001 0933032002 0935892001 0898694001 0936622001 0885951001': 0.0014582394603519905,\n",
       " '0918522001 0924243001 0678942001 0893059004 0706016019 0610776002 0573085028 0915526002 0878190005 0761406001': 0.0014637229078896525,\n",
       " '0863646001 0863595006 0926502001 0878190005 0768912001 0872537001 0767423011 0896169002 0448509014 0730683050': 0.0014497068670189307,\n",
       " '0915529003 0706016003 0762846031 0881942001 0767423013 0762846026 0827968001 0803757001 0797988002 0884319003': 0.001449995283037615,\n",
       " '0783346001 0896152002 0903926001 0762846031 0610776002 0907527001 0758034001 0781613006 0872537001 0809238001': 0.0014466446721788425,\n",
       " '0896169005 0923758001 0915529003 0865929003 0878190005 0863583002 0372860001 0885951001 0918836001 0809238005': 0.0014428613387690308,\n",
       " '0918292001 0685814001 0714790020 0924243002 0809238001 0878190005 0912204001 0933032002 0884319003 0730683050': 0.0014402971633570327,\n",
       " '0915526002 0884319003 0866731001 0909371001 0856840001 0873274002 0915529001 0832307007 0158340001 0706016062': 0.0014420821050866554,\n",
       " '0898694001 0898713001 0751471001 0748355003 0910601002 0911870004 0909911001 0894668003 0751471043 0699341003': 0.001436743779637586,\n",
       " '0832453003 0863583002 0898694002 0933032002 0768912001 0706016001 0673677002 0769748013 0910601001 0719655001': 0.0014360551141368958,\n",
       " '0865799006 0924243002 0914805002 0762846027 0884319001 0909911001 0909912001 0873274002 0911870004 0796210001': 0.001447420815709246,\n",
       " '0715624001 0706016003 0881942001 0896152002 0767423001 0797988002 0894668003 0552716001 0156231001 0923037001': 0.0014323605882863978,\n",
       " '0915526001 0924243001 0916468003 0448509014 0894780001 0865929003 0884319001 0884319005 0905957007 0929744001': 0.0014279131402926807,\n",
       " '0915529001 0918292001 0873279003 0827968004 0906352001 0911870003 0885951001 0896152003 0893141002 0762846031': 0.0014268424034141359,\n",
       " '0924243001 0896169002 0850917001 0706016002 0706016019 0873274002 0863583001 0827968001 0911870001 0809238005': 0.0014254080175099078,\n",
       " '0923758001 0896169005 0929165002 0896152002 0915526002 0706016001 0803757001 0832307007 0909911001 0935892001': 0.001432104084760102,\n",
       " '0706016003 0714790020 0863595004 0865929007 0933706001 0896152003 0706016002 0878190005 0805947001 0909912001': 0.001420610837033075,\n",
       " '0677930003 0909370001 0893141002 0827968001 0874754002 0610776002 0448509014 0832307007 0372860001 0885951001': 0.0014190928911351076,\n",
       " '0865799006 0896152003 0898694002 0912204001 0685814003 0873279003 0915529005 0885951001 0894780001 0805947001': 0.0014169444748467438,\n",
       " '0896169005 0715624001 0921906003 0706016003 0372860002 0573085028 0915529001 0916468003 0898713001 0894780001': 0.0014142012677805806,\n",
       " '0865799006 0610776002 0678942001 0372860002 0706016019 0850917001 0906352001 0768912001 0884319005 0907527001': 0.0014151481317963561,\n",
       " '0893133001 0905957001 0915529005 0898713001 0865929003 0768912001 0893141002 0916468001 0685814003 0909911001': 0.0014127743783792735,\n",
       " '0929165002 0896152003 0758034001 0918525001 0915529001 0896152001 0916468002 0751471043 0898692003 0156231001': 0.0014117528714529216,\n",
       " '0706016002 0881942001 0898713001 0909370001 0767423013 0912204001 0915529001 0767423001 0678942001 0909911001': 0.0014069106803699196,\n",
       " '0924243001 0866731001 0894780001 0809238001 0873279003 0914441004 0706016019 0919273002 0156231001 0935892001': 0.0014050816080417676,\n",
       " '0863646001 0916468001 0715624001 0909370001 0794575017 0456163060 0915529001 0456163086 0748355003 0751471043': 0.0014166021502499558,\n",
       " '0896169005 0906352001 0874754002 0863646001 0923758001 0929165002 0762846006 0579541001 0896169002 0872537001': 0.001403798575448869,\n",
       " '0909370001 0456163060 0896152001 0929165002 0678942001 0894668003 0910601001 0871710001 0909912001 0156231001': 0.0014026770158057887,\n",
       " '0714790020 0918292001 0914441004 0456163086 0158340001 0893133001 0898694002 0885951001 0910601001 0936622001': 0.0013973493630018478,\n",
       " '0896169002 0673677002 0912204001 0911870004 0878190005 0918292004 0809238001 0706016062 0904625001 0935689001': 0.0014171934459225714,\n",
       " '0893059005 0751471001 0863583002 0768912001 0910601002 0706016003 0678942001 0873279003 0896169002 0916468001': 0.0013921071671424378,\n",
       " '0896152002 0863595006 0762846006 0885951001 0456163060 0706016002 0896169002 0915526001 0894780001 0909912001': 0.001413473258286228,\n",
       " '0865594003 0894780001 0910601002 0878190005 0865594001 0811907007 0867969003 0610776002 0884319003 0751471038': 0.001390972078655313,\n",
       " '0893059005 0806131012 0894780001 0910601001 0910601002 0909371001 0908799002 0872537001 0158340001 0809238001': 0.001387718984763198,\n",
       " '0903926001 0893059005 0910601003 0573085028 0806131012 0889460003 0905957007 0911870004 0706016019 0481245003': 0.0014392192832411975,\n",
       " '0929165002 0685814001 0863583002 0863646001 0909370001 0158340001 0872537001 0878190005 0372860002 0832307007': 0.0013828252691361113,\n",
       " '0874754002 0926502001 0863646001 0911870001 0898694002 0706016001 0872537001 0914441004 0579541001 0910601001': 0.001438090125421462,\n",
       " '0863583001 0898694001 0906352001 0885951001 0767423011 0884319005 0806388002 0910601003 0898694002 0893059004': 0.001396060473458118,\n",
       " '0912204001 0863595006 0706016003 0863477001 0915526001 0903926001 0894668003 0914441004 0818754004 0456163086': 0.0013839686955196917,\n",
       " '0852584001 0915529001 0898713001 0827968004 0768912001 0903926001 0706016062 0905957007 0730683050 0909912001': 0.0013857284745902691,\n",
       " '0751471043 0869198003 0915529001 0865799006 0915526001 0892309001 0719655001 0894668003 0904625001 0872537001': 0.0013848436514929886,\n",
       " '0905957001 0456163060 0827968001 0911870004 0915529001 0873279003 0372860001 0767423001 0916468002 0936622001': 0.0013719937267081702,\n",
       " '0893059004 0915529003 0874754002 0678942001 0856840001 0918525001 0706016003 0850917003 0907527001 0706016019': 0.0013765422471572822,\n",
       " '0751471043 0448509014 0805947001 0768912001 0158340001 0573085028 0893059004 0911870004 0918522001 0915529005': 0.0013721602037470634,\n",
       " '0865799006 0673677002 0874754002 0884319001 0909370001 0904625001 0923758001 0905957001 0873279003 0872537001': 0.0013738518229835016,\n",
       " '0896169005 0863595006 0916468003 0881942001 0896152003 0916468002 0863595004 0805947001 0898692003 0929744001': 0.0013833778686369513,\n",
       " '0886241003 0898713001 0929165002 0905957007 0884319003 0751471043 0708682001 0869297003 0712230003 0796783008': 0.0013700110367207807,\n",
       " '0714790020 0905957007 0850917001 0914805002 0809238001 0762846006 0907527001 0706016003 0898694002 0871710001': 0.0013699487314486026,\n",
       " '0918292004 0751471001 0714790020 0915529003 0706016001 0911870003 0372860002 0884319001 0884319003 0910601002': 0.001382142813611814,\n",
       " '0751471038 0909370001 0914441004 0762846027 0865929003 0918525001 0866731001 0924243002 0894668003 0923037001': 0.00135669414499129,\n",
       " '0814631004 0781613006 0914805002 0905957007 0706016019 0911870001 0806388002 0814631007 0762846026 0767423011': 0.0013737824374435547,\n",
       " '0896152002 0751471001 0852584001 0448509014 0850917001 0914441004 0884319005 0873279003 0898713001 0872537001': 0.001363208685631531,\n",
       " '0751471043 0905957007 0915529003 0924243002 0896169002 0910601001 0751471038 0456163060 0916468003 0372860002': 0.001389831751295631,\n",
       " '0863646001 0714790020 0881942001 0781613006 0762846026 0610776002 0768912001 0896152002 0579541001 0751471038': 0.0013503917881289536,\n",
       " '0751471001 0909911001 0865929003 0874754002 0896152002 0715624001 0907527001 0896169002 0924243002 0936622001': 0.001349927197583915,\n",
       " '0910601001 0893059004 0896169002 0678942001 0610776002 0863583001 0685814001 0933032002 0894780001 0758034001': 0.0013454592579609035,\n",
       " '0714790020 0935892001 0809238005 0896169005 0906352001 0769748013 0918522001 0881942001 0915526002 0717464001': 0.0013694138277027075,\n",
       " '0909370001 0874754002 0903926001 0896152002 0919273002 0573085028 0806131012 0372860001 0915526002 0915529005': 0.001344493774693359,\n",
       " '0751471001 0762846027 0706016001 0896152003 0767423013 0573085028 0907527001 0923758001 0893059005 0929744001': 0.001342107567651972,\n",
       " '0918292001 0715624001 0914805002 0767423011 0912204001 0884319005 0783346001 0832307007 0923037001 0909371001': 0.001342793892263155,\n",
       " '0762846006 0568601007 0884319003 0762846008 0896152001 0865799006 0909911001 0568601012 0914441004 0863583002': 0.0013377248618094482,\n",
       " '0918522001 0730683050 0685814003 0874754002 0448509014 0898694001 0878190005 0872537001 0894668003 0929744001': 0.0013371235067758283,\n",
       " '0910601003 0915529001 0751471038 0896152002 0915526002 0912204001 0926502001 0905957007 0867969003 0158340001': 0.0013420447236376215,\n",
       " '0923758001 0812668001 0762846006 0783346001 0893141002 0884319005 0910601001 0909911001 0893059005 0909371001': 0.0013485549996774017,\n",
       " '0924243001 0893059005 0863595006 0910601003 0706016003 0803757001 0898694001 0827968001 0872537001 0885951001': 0.0013506991513588702,\n",
       " '0915529001 0909370001 0914441004 0805947001 0717464001 0896169002 0884319003 0871710001 0904625001 0909911001': 0.0013285561302929286,\n",
       " '0910601002 0863595006 0896152003 0579541001 0873274002 0803757001 0827968001 0768912001 0915529001 0885951001': 0.0013713260242035155,\n",
       " '0448509014 0158340001 0905957007 0896169005 0706016001 0719655001 0914805002 0685814001 0884319005 0610776002': 0.0013302718830589056,\n",
       " '0911870004 0456163060 0904625001 0751471001 0685814001 0809238001 0158340001 0834759001 0942187001 0682739002': 0.001492593084664696,\n",
       " '0924243001 0929165002 0874754002 0914805002 0448509014 0706016019 0809238001 0893141002 0911870004 0706016062': 0.0013412717252959628,\n",
       " '0678942001 0863595006 0896152002 0852584001 0884319005 0762846031 0894780001 0806131012 0372860002 0372860001': 0.0013214446077552612,\n",
       " '0924243001 0893059005 0783346001 0751471043 0762846027 0885951001 0905957001 0685814003 0863595004 0916468001': 0.0013180252110063303,\n",
       " '0924243001 0673677002 0905957007 0898694001 0706016001 0881942001 0924243002 0751471038 0678942001 0706016062': 0.0013198452536658414,\n",
       " '0918292001 0896169005 0865799006 0896152002 0916468003 0915529005 0881942001 0678942001 0894668003 0904625001': 0.001366690629894005,\n",
       " '0673677002 0714790020 0863595004 0914441004 0884319005 0919273002 0706016002 0906352001 0871710001 0706016062': 0.0013190207816876542,\n",
       " '0894780001 0871710001 0706016019 0706016003 0715624001 0923037001 0933032002 0827968004 0874754002 0909371001': 0.0013142248987814702,\n",
       " '0751471001 0554598003 0767862001 0884319005 0929165002 0894780001 0751471038 0865799006 0805947001 0916468003': 0.001309411405210963,\n",
       " '0909370001 0751471043 0863595006 0918522001 0915529001 0933032002 0910601003 0874754002 0544914005 0815791001': 0.0013140474887237835,\n",
       " '0893059005 0863646001 0762846026 0918525001 0852584001 0893133001 0919273002 0916468001 0916468003 0685814003': 0.0013101497375810638,\n",
       " '0918522001 0896169005 0910601001 0896152003 0762846006 0908799002 0918525001 0881942001 0781613006 0706016062': 0.0013089551849241772,\n",
       " '0896169005 0915526001 0910601003 0918525001 0456163086 0863583001 0909371001 0907188001 0372860001 0809238001': 0.0013126577464933023,\n",
       " '0673677002 0914805002 0929165002 0719655001 0706016002 0915529005 0911870003 0908799002 0911870001 0685814001': 0.0013023875317708178,\n",
       " '0874754002 0905957001 0706016003 0781613006 0794575017 0748355003 0767423011 0907527001 0552716001 0908799002': 0.001303834932265378,\n",
       " '0898713001 0896169005 0809238005 0573085028 0372860001 0767423001 0910601002 0912204001 0935892001 0923037001': 0.0013112660293312561,\n",
       " '0918292004 0863595006 0781613006 0896152001 0903926001 0896169002 0748355003 0751471043 0898694002 0912204001': 0.001297028679171161,\n",
       " '0918522001 0924243002 0673677002 0884319005 0872537001 0914441004 0573085028 0923037001 0794575017 0909912001': 0.0012984129416428946,\n",
       " '0914541001 0927922003 0893059004 0872537001 0923037001 0918292001 0796210001 0158340001 0750623009 0681373007': 0.0012930840120621142,\n",
       " '0865929003 0926502001 0809238001 0924243002 0907527001 0769748013 0915529005 0935892001 0936622001 0685814001': 0.0013049008263810587,\n",
       " '0915526002 0762846031 0924243002 0706016002 0678942001 0911870004 0873279003 0781613006 0919273002 0884319001': 0.0012896023616890322,\n",
       " '0751471001 0751471038 0673677002 0685814001 0762846027 0898694002 0911870001 0803757001 0805947001 0909370001': 0.0012879860353732602,\n",
       " '0863583001 0751471001 0852584001 0893133001 0906352001 0903926001 0827968001 0905957007 0910601003 0762846027': 0.0012853655991094564,\n",
       " '0730683050 0715343003 0841383002 0933032002 0924243002 0717874003 0914441004 0898713001 0876069003 0609185012': 0.001293721402345368,\n",
       " '0910601001 0905957007 0918292001 0909912001 0706016019 0885951001 0685814001 0832307007 0871710001 0935689001': 0.0012826017786408501,\n",
       " '0863646001 0916468001 0898713001 0456163060 0706016019 0758034001 0885951001 0871710001 0884319003 0794575017': 0.0012832763498987865,\n",
       " '0896152002 0915529001 0685814001 0865929007 0878190005 0758034001 0926502001 0706016001 0762846006 0884319005': 0.0012844362107411386,\n",
       " '0924243002 0910601001 0896152001 0909370001 0715624001 0912204001 0873274002 0893133001 0865799005 0706016001': 0.0012816120852641001,\n",
       " '0783346001 0685814001 0884319003 0909371001 0863646001 0903926001 0896169005 0706016002 0910601002 0809238001': 0.0012779621958395745,\n",
       " '0893133001 0863583002 0914805002 0915529003 0874754002 0762846026 0865929003 0896152003 0893059004 0909911001': 0.0012818486536304546,\n",
       " '0865799006 0896152001 0874754002 0714790020 0768912001 0916468001 0911870003 0881942001 0865799005 0809238005': 0.0012728480879806274,\n",
       " '0924243002 0915526001 0909370001 0933706001 0714790020 0866731001 0915529001 0929744001 0871710001 0706016001': 0.0014289815382772502,\n",
       " '0898694002 0909371001 0924243001 0884319005 0909370001 0915529003 0914441004 0911870004 0809238005 0803757001': 0.0012797574490212701,\n",
       " '0865799006 0783346001 0915529001 0894780001 0714790020 0905957001 0827968001 0573085028 0863583001 0758034001': 0.0012801695067229612,\n",
       " '0906352001 0852584001 0456163060 0896152003 0706016019 0717464001 0896152001 0908799002 0761406001 0923037001': 0.0012693564927206786,\n",
       " '0918522001 0918292001 0929165002 0866731001 0911870001 0909370001 0872537001 0923037001 0919273002 0909371001': 0.0012679362496701146,\n",
       " '0863595004 0372860002 0898713001 0910601001 0910601002 0911870001 0863583001 0893133001 0706016003 0803757001': 0.0012684273220954295,\n",
       " '0896169005 0850917001 0762846027 0915529003 0867969003 0456163086 0933032002 0916468001 0907527001 0898713001': 0.0012616030752717346,\n",
       " '0918292001 0893059005 0832307007 0898694001 0579541001 0719655001 0781613006 0872537001 0685814001 0929744001': 0.0012622131027270336,\n",
       " '0914805002 0863583001 0915529005 0926502001 0898694001 0884319005 0929744001 0910601001 0907527001 0844660003': 0.0012656276779562765,\n",
       " '0751471001 0908799002 0863583001 0936622001 0898713001 0905957001 0852584001 0918836001 0685814003 0706016062': 0.001271673446299217,\n",
       " '0762846027 0921906003 0893141002 0873279003 0610776002 0866731001 0758034001 0372860002 0706016062 0706016001': 0.0012560254394051687,\n",
       " '0918522001 0896169002 0914805002 0936622001 0909912001 0909911001 0905957007 0372860001 0885951001 0809238001': 0.0012559073759476457,\n",
       " '0751471001 0685814001 0874754002 0767423001 0896152002 0914805002 0898694002 0905957007 0863595004 0893059005': 0.0012608785942770785,\n",
       " '0751471038 0730683050 0903926001 0706016003 0884319003 0926502001 0456163086 0915526002 0158340001 0929744001': 0.001257968562558832,\n",
       " '0863583001 0863646001 0762846031 0881942001 0911870001 0748355003 0678942001 0751471038 0898694002 0935892001': 0.0012488605370077565,\n",
       " '0456163086 0909911001 0856840001 0768912001 0372860002 0610776002 0893133001 0911870001 0871710001 0809238005': 0.0012711168912707134,\n",
       " '0918525001 0863646001 0685814003 0884319003 0762846027 0865929007 0894780001 0911870003 0706016062 0929744001': 0.0012481976214010863,\n",
       " '0915526001 0863595006 0673677002 0762846031 0448509014 0911870003 0832307007 0805947001 0909371001 0935892001': 0.0013206968380874782,\n",
       " '0918522001 0896152001 0678942001 0903926001 0914441004 0714790020 0850917003 0706016019 0685814001 0918525001': 0.0013606855393882976,\n",
       " '0914805002 0885951001 0915529005 0903926001 0863595004 0884319005 0881942001 0805947001 0904625001 0893059004': 0.0012415105624109266,\n",
       " '0456163086 0762846006 0874754002 0685814003 0873279003 0905957007 0919273002 0918525001 0867969003 0762846026': 0.0012515906265728946,\n",
       " '0912204001 0874754002 0372860001 0719655001 0893059004 0827968001 0706016062 0903420001 0762846031 0916468003': 0.0012399508893349111,\n",
       " '0867969003 0874754002 0863646001 0915529001 0885951001 0933032002 0863595004 0158340001 0898694001 0761406001': 0.0012730622323234224,\n",
       " '0896169005 0762846006 0832307007 0905492001 0865929003 0751471001 0884319001 0909911001 0908799002 0706016002': 0.0014016271962959891,\n",
       " '0924243001 0730683050 0919273002 0905957001 0372860001 0827968001 0896169002 0898713001 0832307007 0933032002': 0.0012344326376854224,\n",
       " '0685813005 0805947001 0372860002 0673677002 0685813010 0685813024 0806388002 0685813027 0158340001 0898694002': 0.0014426970574379226,\n",
       " '0893059005 0893059004 0884319005 0911870003 0573085028 0896152003 0885951001 0918292004 0933032002 0706016062': 0.0012519046923539874,\n",
       " '0865799006 0905957007 0762846006 0768912001 0909371001 0936622001 0769748013 0758034001 0910601002 0898713001': 0.0012313633712390628,\n",
       " '0893059005 0903926001 0762846031 0919273002 0865929007 0915526002 0915529005 0898694002 0910601002 0909912001': 0.0012619743249738093,\n",
       " '0714790020 0909370001 0751471001 0914441004 0881942001 0898692003 0884319003 0907527001 0762846006 0751471043': 0.0012260404260162378,\n",
       " '0865799006 0896169005 0863646001 0896152002 0898694001 0863595004 0926502001 0911870004 0891591003 0809238005': 0.0012325528951467285,\n",
       " '0884920005 0850917001 0918292001 0852584001 0751471001 0456163060 0783346001 0784784002 0464454013 0684209027': 0.0012351494978668784,\n",
       " '0751471038 0914805002 0923758001 0762846027 0914441004 0706016062 0918525001 0761406001 0695421029 0706016002': 0.0012238769817524402,\n",
       " '0751471001 0762846026 0910601002 0456163060 0893059004 0915526002 0916468003 0872537001 0761406001 0923037001': 0.0012251605998094104,\n",
       " '0929165002 0579541001 0762846031 0884319005 0762846027 0896169002 0758034001 0898694002 0158340001 0871710001': 0.0012187642276928982,\n",
       " '0865799006 0685814003 0863646001 0850917001 0673677002 0898694001 0456163060 0751471043 0158340001 0908799002': 0.0013235915052880831,\n",
       " '0783346001 0893059004 0884319001 0762846006 0911870003 0796210001 0893133001 0871710001 0911870001 0894780001': 0.0012175140633870752,\n",
       " '0751471038 0898694001 0933706001 0898694002 0935892001 0706016002 0768912001 0685814003 0158340001 0894780001': 0.0012161603783515664,\n",
       " '0874754002 0158340001 0867969003 0768912001 0685814003 0896169002 0907527001 0884319003 0761406001 0910601002': 0.0012143238607279672,\n",
       " '0751471038 0865929003 0762846027 0929165002 0905957007 0907527001 0706016019 0911870004 0878190005 0871710001': 0.0012193933943615638,\n",
       " '0918292001 0448509014 0865799006 0924243001 0751471043 0909371001 0865929007 0863583001 0832307007 0871710001': 0.0012135026215853925,\n",
       " '0884319005 0904625001 0933706001 0907527001 0909371001 0706016002 0893141002 0758034001 0809238001 0923037001': 0.0012088445363901401,\n",
       " '0924243002 0783346001 0915529003 0850917001 0918292004 0730683050 0918836001 0685814001 0915529005 0915529001': 0.001241594596739001,\n",
       " '0905957001 0914441004 0924243001 0781613006 0809238005 0809238001 0762846006 0904625001 0898692003 0871710001': 0.0012072893981234056,\n",
       " '0852584001 0579541001 0863595004 0915529001 0448509014 0762846006 0909370001 0573085028 0893133001 0909912001': 0.0012196886994956903,\n",
       " '0893059005 0865929003 0673677002 0893059004 0904625001 0806131012 0372860001 0863583002 0916468003 0936622001': 0.0012545978372674462,\n",
       " '0751471001 0896152002 0929165002 0456163060 0881942001 0916468003 0933706001 0158340001 0805947001 0761406001': 0.001201235950166976,\n",
       " '0893059004 0915526002 0865929003 0867969003 0706016003 0863595004 0909912001 0610776002 0905957007 0935689001': 0.0012114281504158756,\n",
       " '0706016001 0866731001 0896169005 0914805002 0916468003 0372860002 0579541001 0812668001 0884319005 0893059004': 0.0012009262669552387,\n",
       " '0929165002 0762846026 0714790020 0918292004 0885951001 0873279003 0906352001 0898694002 0910601002 0809238001': 0.0011979142057916411,\n",
       " '0905957001 0762846031 0926502001 0898694001 0894780001 0878190005 0872537001 0767423001 0907527001 0761406001': 0.0013391971898813065,\n",
       " '0751471001 0865799006 0898713001 0448509014 0894780001 0573085028 0871710001 0884319001 0768912001 0909911001': 0.001686573079903692,\n",
       " '0918292001 0893059005 0863583001 0866731001 0905957007 0762846031 0809238001 0456163060 0915526001 0908799002': 0.001206424977894102,\n",
       " '0912204001 0865799006 0751471001 0762846031 0850917001 0717464001 0706016019 0803757001 0909912001 0894780001': 0.001206631553354646,\n",
       " '0918292001 0685814003 0903926001 0919273002 0907527001 0866731001 0372860002 0911870001 0781613006 0898713001': 0.0011908690898192087,\n",
       " '0918522001 0863583001 0673677002 0912204001 0872537001 0797988002 0751471043 0923758001 0929744001 0909912001': 0.0011900477220105393,\n",
       " '0918522001 0863583001 0915526001 0751471001 0767423013 0896152001 0863583002 0552716001 0929744001 0908799002': 0.001188928126989045,\n",
       " '0896169005 0448509014 0730683050 0852584001 0909371001 0158340001 0863595004 0916468001 0907527001 0916468003': 0.001186390953168678,\n",
       " '0915526001 0863583002 0905957001 0881942001 0898694002 0573085028 0706016062 0832307007 0884319003 0905957007': 0.001185215040228842,\n",
       " '0910601002 0896169005 0579541001 0714790020 0921906003 0762846006 0873274002 0919273002 0909371001 0918292004': 0.001184807407452165,\n",
       " '0909371001 0610776002 0852584001 0678942001 0863583002 0715624001 0911870001 0769748013 0706016062 0909911001': 0.0011875766399228585,\n",
       " '0852584001 0706016003 0914441004 0456163060 0896152001 0893133001 0916468002 0805947001 0884319003 0909911001': 0.0011932112966394114,\n",
       " '0852584001 0706016003 0865929003 0706016019 0893141002 0812668001 0751471038 0907527001 0910601001 0936622001': 0.0012464997194307692,\n",
       " '0924243002 0852584001 0863646001 0909370001 0781613006 0893141002 0867969003 0871710001 0898692003 0910601003': 0.0011791986223953035,\n",
       " '0896152001 0878190005 0911870004 0762846006 0803757001 0759871018 0685814003 0916468003 0758034001 0936622001': 0.0012358362740280818,\n",
       " '0874754002 0863583001 0916468001 0762846027 0911870003 0903926001 0919273002 0893059005 0912204001 0552716001': 0.0011794197157052886,\n",
       " '0929165002 0685814001 0904625001 0894780001 0912204001 0896152003 0706016002 0915529005 0893133001 0758034001': 0.0011760456591999478,\n",
       " '0905957001 0915529001 0918292004 0865929003 0678942001 0884319005 0884319003 0448509014 0885951001 0933706001': 0.0011798702889531574,\n",
       " '0915526002 0850917001 0867969003 0896152002 0914805002 0915529005 0863583002 0678942001 0552716001 0923758001': 0.0011710515099000354,\n",
       " '0554598001 0923758001 0915526002 0894780001 0448509014 0554598038 0372860001 0554598010 0827968016 0768912001': 0.0011781776689899072,\n",
       " '0866731001 0914805002 0910601002 0678942001 0456163060 0863595004 0873279003 0781613006 0372860002 0904625001': 0.0011684759722447539,\n",
       " '0916468001 0909370001 0896152003 0893133001 0915529001 0933032002 0905957007 0552716001 0156231001 0158340001': 0.0011670299007549686,\n",
       " '0759871005 0915526001 0685814003 0866731001 0852584001 0767423011 0933032002 0896152001 0762846006 0936622001': 0.0011668582495462365,\n",
       " '0751471043 0448509014 0158340001 0898694002 0715624001 0915526002 0874754002 0706016019 0936622001 0909371001': 0.001170552000532099,\n",
       " '0865799006 0884319003 0893059004 0874754002 0896169005 0863646001 0865929007 0918292004 0872537001 0761406001': 0.001184926051288637,\n",
       " '0751471001 0863646001 0579541001 0685814003 0889460003 0896152001 0894668003 0850917001 0908799002 0909911001': 0.0011624850492287012,\n",
       " '0893059004 0893059005 0884319005 0915529001 0865929003 0803757001 0715624001 0866731001 0910601002 0781613006': 0.0011687884347524261,\n",
       " '0865799006 0905957007 0714790020 0915529001 0919273002 0685814001 0893059004 0916468001 0783346001 0933032002': 0.001161130811375609,\n",
       " '0874754002 0730683050 0706016001 0907527001 0903926001 0685814001 0719655001 0910601003 0751471038 0933032002': 0.0011658453714061814,\n",
       " '0863583001 0915526002 0809238001 0867969003 0863583002 0678942001 0806388002 0751471038 0910601002 0898694002': 0.001160359858776041,\n",
       " '0865799006 0910601001 0896152003 0914805002 0884319003 0935892001 0909912001 0827968001 0863583001 0761406001': 0.001156893045311351,\n",
       " '0896169005 0918525001 0893141002 0896152003 0717464001 0573085028 0685814003 0911870004 0768912001 0762846027': 0.0011550249874756374,\n",
       " '0893133001 0896152002 0915526002 0916468003 0872537001 0893141002 0812668001 0781613006 0893059004 0909912001': 0.0011524075680895533,\n",
       " '0912204001 0751471043 0852584001 0896152002 0762846026 0916468001 0863595004 0923037001 0761406001 0832307007': 0.001156306440114474,\n",
       " '0863595006 0751471043 0885951001 0827968004 0872537001 0896152001 0685814003 0919273002 0910601002 0893059005': 0.0011521996633467315,\n",
       " '0865799006 0893059004 0915526001 0903926001 0912204001 0898694002 0372860001 0918836001 0871710001 0706016062': 0.001155140796998577,\n",
       " '0863595006 0915529003 0872537001 0706016002 0706016019 0768912001 0610776002 0832307007 0919273002 0893059005': 0.0011472487644202986,\n",
       " '0918292004 0865799006 0924243001 0915526002 0762846027 0762846026 0827968001 0918525001 0885951001 0783346001': 0.0011518803848899603,\n",
       " '0923758001 0918292001 0896152002 0762846031 0762846027 0706016001 0911870004 0903926001 0706016062 0730683050': 0.0011578858204768486,\n",
       " '0918292001 0874754002 0751471001 0915529001 0914441004 0865929007 0911870001 0610776002 0809238001 0871710001': 0.0011474212898789637,\n",
       " '0751471001 0918525001 0924243001 0769748013 0911870004 0884465002 0918292004 0867969003 0685814003 0706016003': 0.001151643175532735,\n",
       " '0893059004 0456163086 0852584001 0907527001 0803757001 0768912001 0915529001 0907188001 0809238001 0923037001': 0.0011839209857355069,\n",
       " '0745256002 0863646001 0916468001 0929165002 0706016062 0751994010 0910601002 0446224043 0783707038 0783707175': 0.0011394376191202718,\n",
       " '0706016003 0610776002 0896152002 0893141002 0767423001 0767423011 0805947001 0884319001 0761406001 0898694002': 0.0011422165674514306,\n",
       " '0865799006 0896169002 0762846031 0918525001 0873274002 0881942001 0909911001 0827968001 0863583002 0372860002': 0.0011379017908001755,\n",
       " '0923758001 0914805002 0762846031 0456163060 0809238005 0909371001 0372860002 0915529005 0884319005 0904625001': 0.0011720558585900404,\n",
       " '0926502001 0918292001 0898694001 0881942001 0933032002 0908799002 0898694002 0823324001 0852171001 0818834001': 0.001140057693197653,\n",
       " '0896152003 0714790020 0918292004 0850917003 0856840001 0827968001 0781613006 0872537001 0894780001 0809238001': 0.0011858410694906688,\n",
       " '0918525001 0893141002 0896152003 0678942001 0706016019 0916468001 0884319001 0719655001 0751471038 0933989001': 0.0011434454423595213,\n",
       " '0918836001 0751471038 0751471043 0929165002 0673677010 0893133001 0637411014 0637411013 0685814001 0706016003': 0.0011513712301113876,\n",
       " '0918522001 0910601001 0929165002 0865929003 0863595004 0911870003 0715624001 0768912001 0852584001 0929744001': 0.0011297572387902843,\n",
       " '0740498009 0878190005 0915526002 0372860001 0762846006 0908799002 0610776002 0871710001 0896169005 0936622001': 0.0011278107269841753,\n",
       " '0915526002 0929165002 0874754002 0867969003 0936622001 0685814003 0863583001 0906352001 0933032002 0809238001': 0.0011282081377589732,\n",
       " '0910601002 0924243002 0863595006 0896152001 0898694001 0912204001 0915529001 0706016019 0832307007 0781613006': 0.0011584846084385237,\n",
       " '0905957001 0706016003 0909370001 0865929003 0806388002 0827968001 0678942001 0871710001 0923758001 0158340001': 0.0011448501323178995,\n",
       " '0918292001 0579541001 0914805002 0915529003 0850917001 0803757001 0907527001 0610776002 0898694001 0935892001': 0.0011236188389799962,\n",
       " '0896169005 0916468003 0896152003 0806388002 0762846026 0758034001 0911870001 0885951001 0910601003 0898692003': 0.001122856103348043,\n",
       " '0863646001 0863595004 0803757001 0905957001 0896152003 0706016002 0923758001 0933032002 0878190005 0761406001': 0.0011883998916012632,\n",
       " '0923758001 0918292001 0866731001 0762846006 0918522001 0706016062 0916468003 0769748013 0918292004 0908799002': 0.0011253914246338234,\n",
       " '0906305001 0865799006 0873279003 0762846027 0894668003 0685816002 0832458002 0914441005 0706016003 0909370001': 0.0011186104010423605,\n",
       " '0783346001 0768912001 0892309001 0911870003 0893059004 0781613006 0762846006 0761406001 0762846026 0914441005': 0.0011321770474919833,\n",
       " '0804992016 0685814001 0552716001 0706016003 0536139069 0850917001 0706016019 0884319001 0754238002 0751471043': 0.0011189817333923792,\n",
       " '0751471043 0915529001 0924243002 0923037001 0916468001 0832307007 0751471038 0907527001 0761406001 0936622001': 0.001115837504827181,\n",
       " '0863646001 0903926001 0915529001 0896169005 0908799002 0912204001 0456163060 0906352001 0910601001 0871710001': 0.0011236017273790614,\n",
       " '0730683050 0910601003 0706016001 0905957007 0865929007 0911870001 0916468001 0929744001 0761406001 0706016062': 0.001120720495358234,\n",
       " '0918292001 0896152002 0933706001 0678942001 0372860002 0863595004 0910601003 0884319005 0909911001 0871710001': 0.0011227337340792975,\n",
       " '0915529003 0909370001 0926502001 0919273002 0158340001 0933706001 0719655001 0751471038 0904625001 0894668003': 0.0011101605923168783,\n",
       " '0918522001 0865799006 0751471043 0863646001 0896152003 0762846006 0863595004 0448509014 0850917003 0918836001': 0.0012005846607310551,\n",
       " '0918292004 0916468002 0907527001 0919273002 0751471043 0893059005 0929744001 0871710001 0805947001 0761406001': 0.0013175378021193,\n",
       " '0918525001 0863583002 0751471043 0456163086 0919273002 0717464001 0915526001 0781613006 0923037001 0933989001': 0.0011067527196319713,\n",
       " '0918292001 0929165002 0762846026 0898713001 0898694002 0809238005 0906352001 0873279003 0863595004 0908799002': 0.0011069418170980483,\n",
       " '0448509014 0797710001 0372860001 0906352001 0915526002 0911870001 0873279003 0933706001 0878190005 0871710001': 0.0011147439764430727,\n",
       " '0935892001 0408875011 0926502001 0408875010 0914441004 0624486076 0624486007 0408875028 0715624001 0910601002': 0.0011623500268056865,\n",
       " '0918522001 0863583001 0915526001 0916468003 0914441004 0850917001 0767423013 0762846026 0896152002 0916468002': 0.0011008605377838287,\n",
       " '0751471043 0852584001 0685814001 0914805002 0762846031 0797710001 0865929007 0456163086 0896152001 0761406001': 0.001099219819581069,\n",
       " '0935892001 0579541001 0751471043 0903926001 0912204001 0706016002 0915529005 0906352001 0809238001 0909370001': 0.0011425930240831475,\n",
       " '0863595004 0715624001 0896169005 0919273002 0806131012 0797710001 0911870003 0781613006 0898694001 0158340001': 0.001102214766813549,\n",
       " '0915529003 0579541001 0678942001 0904625001 0896169002 0910601001 0893133001 0872537001 0884319001 0762846031': 0.0011525742302134036,\n",
       " '0865799006 0863595006 0673677002 0874754002 0904625001 0706016001 0919273002 0372860002 0881942001 0781613006': 0.0011136732917337053,\n",
       " '0852584001 0915529003 0863646001 0624486006 0456163086 0717490083 0825580001 0893141002 0911870003 0700153001': 0.0010931114624773413,\n",
       " '0751471043 0919273002 0803757001 0903926001 0909371001 0896169002 0898694002 0898713001 0894780001 0909911001': 0.0011078639020443782,\n",
       " '0751471038 0915529003 0678942001 0850917001 0896169005 0456163086 0372860001 0911870004 0809238001 0935892001': 0.001091544873057418,\n",
       " '0751471001 0896152003 0673677002 0898694001 0762846006 0909371001 0911870004 0706016019 0929744001 0781613006': 0.00108945988723666,\n",
       " '0918522001 0924243001 0915529003 0898694002 0914805002 0372860001 0706016062 0907527001 0884319001 0910601001': 0.0010889070969148287,\n",
       " '0915526001 0863595006 0915529005 0715624001 0448509014 0909370001 0867969003 0706016002 0573085028 0850917001': 0.0010871622635375171,\n",
       " '0783346001 0715624001 0456163060 0893141002 0610776002 0881942001 0916468001 0911870001 0916468003 0761406001': 0.0010994044892349978,\n",
       " '0673677002 0730683050 0769748013 0841383002 0573085028 0873279003 0910601001 0761406001 0933989001 0894668003': 0.0011918956897781885,\n",
       " '0762846006 0915526002 0783346001 0893059004 0856840001 0891591003 0936622001 0893141002 0762846026 0685814003': 0.0010855058192297867,\n",
       " '0579541001 0863595006 0714790020 0914441004 0896152003 0827968001 0781613006 0893141002 0706016003 0762846027': 0.0010856417579768012,\n",
       " '0669091046 0678942057 0911870002 0761406001 0891591007 0907188001 0669091004 0678942058 0526250009 0526250006': 0.0010946398740096619,\n",
       " '0918292001 0865799006 0706016002 0894780001 0906352001 0911870003 0797988002 0935892001 0730683050 0908799002': 0.0010809057004588119,\n",
       " '0929165002 0918292004 0926502001 0865929003 0884319001 0706016001 0579541001 0878190005 0685814003 0819910002': 0.0011716653144630462,\n",
       " '0894780001 0762846006 0905957001 0865929007 0706016019 0881942001 0929744001 0909912001 0894668003 0935892001': 0.0010825439560882466,\n",
       " '0898694001 0867969003 0912204001 0827968004 0610776002 0768912001 0873279003 0919273002 0893059004 0935892001': 0.0010804036075573163,\n",
       " '0910601002 0896152002 0921906003 0911870003 0850917003 0832307007 0827968001 0768912001 0685814001 0761406001': 0.0010767307787469438,\n",
       " '0914805002 0761406001 0863646001 0893059004 0894668003 0762846006 0610776002 0808840005 0914912001 0857097003': 0.001104654516444024,\n",
       " '0852584001 0863595006 0867969003 0850917001 0717464001 0881942001 0911870003 0893059004 0908799002 0923037001': 0.0010754285032292016,\n",
       " '0918292001 0863595006 0884319003 0909371001 0909911001 0866731001 0898694001 0158340001 0805947001 0935892001': 0.0010739713172707298,\n",
       " '0826646006 0456163086 0893141002 0896152001 0935892001 0678942002 0929744001 0907527001 0706016062 0936622001': 0.0010721105147363725,\n",
       " '0896169005 0918525001 0751471001 0911870001 0915529003 0898713001 0896152003 0912204001 0909912001 0909371001': 0.0010739727093658112,\n",
       " '0751471038 0915526001 0456163086 0865799005 0881942001 0803757001 0907188001 0918292001 0904625001 0894668003': 0.0011049837441870036,\n",
       " '0924243001 0664074019 0929165002 0664074021 0863646001 0758034001 0456163060 0664074012 0456163086 0706016002': 0.0010854585988207032,\n",
       " '0918292001 0915526001 0905957001 0706016002 0809238001 0911870003 0907527001 0904625001 0884319005 0919273002': 0.001069644235350322,\n",
       " '0918522001 0783346001 0863646001 0673677002 0903926001 0866731001 0911870001 0850917003 0923037001 0926502001': 0.0012338457685434057,\n",
       " '0896169005 0866731001 0863646001 0762846031 0919273002 0768912001 0706016002 0935892001 0933032002 0909912001': 0.0010677758338813975,\n",
       " '0918292001 0751471043 0852584001 0893059005 0884319005 0579541001 0910601003 0456163086 0926502001 0896169002': 0.0011160814772552922,\n",
       " '0893133001 0923758001 0769748013 0809238005 0678942001 0936622001 0910601003 0933032002 0706016062 0904625001': 0.0010940332708919186,\n",
       " '0929165002 0751471001 0918522001 0909370001 0767423011 0906352001 0643739002 0884319005 0768912001 0803757001': 0.0010614723622074278,\n",
       " '0918292004 0751471001 0852584001 0673677002 0762846027 0809238001 0884319001 0761406001 0910601002 0936622001': 0.00359938158276162,\n",
       " '0916468003 0915526001 0915529001 0914441004 0873045006 0857571001 0868399001 0936622001 0739214002 0872393001': 0.0010606689142294106,\n",
       " '0865799006 0914441004 0714790020 0867969003 0905957001 0706016019 0448509014 0893133001 0909371001 0894668003': 0.0010578752799515372,\n",
       " '0918522001 0863583002 0852584001 0827968001 0456163060 0894780001 0706016019 0758034001 0827968004 0911870004': 0.0010580708842650235,\n",
       " '0751471043 0863595006 0730683050 0909371001 0866731001 0797710001 0873279003 0906352001 0915526002 0871710001': 0.0010689044564221252,\n",
       " '0910601002 0865799006 0896152003 0912204001 0918292004 0850917003 0856840001 0448509014 0911870004 0926502001': 0.0010555435079955457,\n",
       " '0915529003 0751471043 0751471001 0884319001 0866731001 0803757001 0685814001 0372860001 0655403001 0819826002': 0.0010610293443034716,\n",
       " '0916468001 0706016003 0809238001 0610776002 0894668003 0751471043 0910601003 0730683050 0923037001 0936622001': 0.0010522577130353192,\n",
       " '0924243001 0685814001 0914441004 0706016001 0762846026 0456163060 0907527001 0915529005 0933706001 0781613006': 0.0010531016444575829,\n",
       " '0730683050 0905957001 0762846006 0456163086 0918292004 0805947001 0706016002 0719655001 0910601003 0894780001': 0.0010549283807833318,\n",
       " '0866731001 0915529001 0762846027 0898694001 0909371001 0372860001 0924243002 0916468003 0910601003 0909912001': 0.0010597042802793467,\n",
       " '0751471001 0893141002 0867969003 0762846006 0456163086 0715624001 0685814001 0878190005 0894780001 0871710001': 0.0010624697333773971,\n",
       " '0673677002 0706016001 0910601002 0803757001 0893141002 0896152001 0832307007 0158340001 0809238005 0936622001': 0.0010576679467690748,\n",
       " '0893059005 0865799006 0926502001 0706016003 0896169002 0915526001 0911870001 0805947001 0935892001 0827968001': 0.0010631123527855364,\n",
       " '0924243002 0903926001 0762846027 0850917001 0714790020 0866731001 0911870004 0878190005 0805947001 0904625001': 0.00105861309347348,\n",
       " '0896152002 0912204005 0898694002 0730683017 0918522001 0884319001 0936622001 0809238005 0769434001 0923037001': 0.0010456782299156071,\n",
       " '0874891002 0926502001 0884319001 0784467003 0916468002 0911870001 0903926001 0893059005 0885951001 0765701001': 0.0010444801197616847,\n",
       " '0893059005 0884319001 0850917001 0706016001 0909371001 0915529005 0916468003 0781613006 0898694001 0158340001': 0.0010412874699050859,\n",
       " '0918525001 0762846031 0926502001 0762846006 0884319005 0884319003 0769748013 0911870003 0933989001 0706016062': 0.0010431498590954844,\n",
       " '0915526001 0863595006 0762846031 0781613006 0768912001 0610776002 0911870004 0912204001 0923037001 0936622001': 0.0010613674393733009,\n",
       " '0915529003 0871710001 0916468003 0685814003 0872537001 0893133001 0910601003 0896169005 0909912001 0768912001': 0.0013818545027918145,\n",
       " '0751471038 0852584001 0914441004 0907527001 0885951001 0762846027 0706016003 0898713001 0827968001 0610776002': 0.0010374431178122314,\n",
       " '0906352001 0673677002 0884319001 0769748013 0919273002 0878190005 0933989001 0918292004 0909912001 0904625001': 0.0010489089189512839,\n",
       " '0863595006 0685814003 0915529001 0706016003 0919273002 0911870003 0911870004 0898694001 0911870001 0781613006': 0.0010391929965377106,\n",
       " '0866731001 0852584001 0372860002 0372860001 0903926001 0911870004 0873279003 0907527001 0894668003 0761406001': 0.0010374011199564093,\n",
       " '0832307007 0714790020 0827968001 0929165002 0809238005 0678942001 0915526002 0761406001 0769748013 0610776002': 0.0010565842926252176,\n",
       " '0924243001 0751471001 0863595004 0907527001 0584298009 0905957007 0896152001 0898713001 0584298011 0805947001': 0.0010320273216195893,\n",
       " '0896169005 0673677002 0893141002 0832307007 0678942001 0610776002 0884319005 0910601003 0761406001 0894668003': 0.0010310625784821904,\n",
       " '0893059005 0867969003 0915529001 0919273002 0714790020 0456163086 0797710001 0863583001 0915526001 0809238005': 0.0010528755064699244,\n",
       " '0783346001 0874754002 0896169005 0762846031 0912204001 0905957007 0893141002 0878190005 0809238005 0916468003': 0.0010303680909685437,\n",
       " '0905957001 0809238001 0896152003 0768912001 0893141002 0762846006 0748355003 0751471038 0923037001 0909911001': 0.0010482753923078461,\n",
       " '0865799006 0863583001 0852584001 0850917001 0896152001 0372860001 0933032002 0910601002 0730683050 0935892001': 0.0010359583519461144,\n",
       " '0896152002 0762846027 0803757001 0372860002 0812668001 0894668003 0904625001 0919273002 0884319005 0935892001': 0.0010260832744974863,\n",
       " '0903926001 0915529001 0896169005 0933706001 0832307007 0878190005 0761406001 0805947001 0923037001 0936622001': 0.001024227408909385,\n",
       " '0874754002 0865799006 0912204001 0905957001 0706016019 0916468003 0685814003 0933706001 0809238001 0929744001': 0.0010332444044403308,\n",
       " '0865799006 0893059004 0730683050 0935892001 0768912001 0372860001 0573085028 0685814001 0919273002 0923037001': 0.0010282984877972633,\n",
       " '0918292001 0833499009 0856840001 0909912001 0874754002 0921906003 0739590016 0854678003 0833499010 0701303002': 0.0010450595174960765,\n",
       " '0751471043 0929165002 0924243002 0896152003 0678942001 0873279003 0751471038 0907527001 0898694002 0910601003': 0.0010570099923690318,\n",
       " '0893059005 0915526001 0915529003 0896152003 0910601003 0866731001 0906352001 0796210001 0761406001 0904625001': 0.0011360905430784765,\n",
       " '0896169005 0924243001 0863646001 0915529003 0926502001 0863595004 0911870004 0878190005 0685814003 0923037001': 0.001023442279028257,\n",
       " '0536139007 0762846006 0909370001 0903926001 0910601001 0574109032 0911870004 0574109028 0574109022 0907702003': 0.0010174207617797604,\n",
       " '0893059005 0673677002 0929165002 0448509014 0889460003 0909370001 0706016019 0916468003 0909912001 0929744001': 0.0010179996411011478,\n",
       " '0918292001 0865799006 0852584001 0579541001 0884319005 0909370001 0866731001 0768912001 0898694001 0878190005': 0.0010154789155144097,\n",
       " '0916468001 0898692003 0448509014 0767423001 0809238001 0905957007 0783346001 0751471038 0884319005 0884319003': 0.001026530697407359,\n",
       " '0715624001 0898694002 0924243002 0706016002 0678942001 0911870004 0896152001 0783346001 0904625001 0893059005': 0.0010467746930345407,\n",
       " '0924243001 0751471043 0730683050 0912204001 0715624001 0918836001 0768912001 0929744001 0923758001 0916468003': 0.0010262465195938868,\n",
       " '0905957001 0863646001 0850917001 0762846006 0803757001 0909371001 0715624001 0685814001 0898694002 0751471038': 0.0010210539382144977,\n",
       " '0865799006 0924243002 0863595006 0915526002 0794575017 0706016019 0906352001 0706016062 0884319003 0909912001': 0.0010218967829310377,\n",
       " '0918292001 0865799006 0893059004 0579541001 0685814001 0762846027 0850917001 0872537001 0761406001 0923037001': 0.001009635999290579,\n",
       " '0923758001 0673677002 0898694001 0827968001 0706016001 0885951001 0809238005 0809238001 0896152001 0915529005': 0.0010298669219594432,\n",
       " '0896152003 0865929003 0918522001 0911870004 0878183003 0915529003 0907188001 0919273002 0809238001 0933706001': 0.0010132375648971472,\n",
       " '0863583001 0914441004 0926502001 0715624001 0573085028 0903926001 0767423011 0751471038 0832307007 0751471043': 0.0010063144125831756,\n",
       " '0751471001 0896152002 0929165002 0874754002 0908799002 0714790020 0610776002 0906352001 0884319005 0911870004': 0.0010064479105545848,\n",
       " ...}"
      ]
     },
     "execution_count": 133,
     "metadata": {},
     "output_type": "execute_result"
    }
   ],
   "source": [
    "res"
   ]
  },
  {
   "cell_type": "code",
   "execution_count": null,
   "id": "fe898cb2",
   "metadata": {},
   "outputs": [],
   "source": [
    "res = list(dict(sorted(res.items(), key=lambda item: -item[1])).keys())"
   ]
  },
  {
   "cell_type": "code",
   "execution_count": null,
   "id": "d6d488f9",
   "metadata": {},
   "outputs": [],
   "source": [
    "def cust_blend(dt, W = [1,1,1,1]):\n",
    "    #Create a list of all model predictions\n",
    "    REC = []\n",
    "\n",
    "    # Second Try\n",
    "    REC.append(dt['large_rank'])\n",
    "    REC.append(dt['large_binary'])\n",
    "    REC.append(dt['small_rank'])\n",
    "    REC.append(dt['small_binary'])\n",
    "\n",
    "    #Create a dictionary of items recommended.\n",
    "    #Assign a weight according the order of appearance and multiply by global weights\n",
    "    res = {}\n",
    "    for M in range(len(REC)):\n",
    "        for n, v in enumerate(REC[M]):\n",
    "            if v in res:\n",
    "                res[v] += (W[M]/(n+1))\n",
    "            else:\n",
    "                res[v] = (W[M]/(n+1))\n",
    "\n",
    "    # Sort dictionary by item weights\n",
    "    res = list(dict(sorted(res.items(), key=lambda item: -item[1])).keys())\n",
    "\n",
    "    # Return the top 12 items only\n",
    "    return res\n"
   ]
  },
  {
   "cell_type": "code",
   "execution_count": 98,
   "id": "aedd7cc6",
   "metadata": {},
   "outputs": [
    {
     "data": {
      "text/plain": [
       "205797"
      ]
     },
     "execution_count": 98,
     "metadata": {},
     "output_type": "execute_result"
    }
   ],
   "source": [
    "len(res)"
   ]
  },
  {
   "cell_type": "code",
   "execution_count": 99,
   "id": "fb93fe9b",
   "metadata": {},
   "outputs": [
    {
     "data": {
      "text/plain": [
       "['0865799006 0685814001 0905957001 0896169005 0898694001 0762846027 0579541001 0911870003 0797988002 0748355003',\n",
       " '0896169005 0866731001 0863595006 0914441004 0915529003 0929165002 0909371001 0456163060 0881942001 0933032002',\n",
       " '0456163086 0448509014 0874754002 0863595006 0372860001 0924243001 0915526001 0781613006 0863595004 0933706001',\n",
       " '0896169005 0896152003 0456163086 0867969003 0936622001 0909911001 0706016003 0372860002 0893133001 0926502001',\n",
       " '0852584001 0874754002 0915526002 0915529005 0758034001 0762846006 0685814003 0896169002 0781613006 0909371001',\n",
       " '0751471001 0896152003 0865929003 0762846027 0762846026 0909370001 0905957001 0908799002 0827968001 0923037001',\n",
       " '0865799006 0762846006 0863646001 0884319003 0856840001 0456163086 0730683050 0916468001 0935689001 0158340001',\n",
       " '0918292001 0852584001 0579541001 0884319003 0912204001 0918292004 0863583001 0896169002 0910601002 0706016062',\n",
       " '0448509014 0781613006 0881942001 0915526001 0915529001 0832307007 0915529005 0935892001 0909911001 0936622001',\n",
       " '0448509014 0706016001 0915529003 0673677002 0896169005 0866731001 0898694001 0915526001 0906352001 0924243002',\n",
       " '0866731001 0914805002 0893141002 0926502001 0898694001 0896152003 0919273002 0158340001 0933989001 0929744001',\n",
       " '0751471001 0673677002 0910601003 0905957001 0706016019 0573085028 0915526002 0873279003 0924243002 0878190005',\n",
       " '0715624001 0762846027 0898694001 0909370001 0885951001 0456163086 0878190005 0768912001 0730683050 0929744001',\n",
       " '0865799006 0915529003 0706016062 0914805002 0805947001 0827968001 0714790020 0893059004 0570319011 0935892001',\n",
       " '0805947001 0905914002 0809238001 0924243002 0910601001 0827968001 0706016019 0722803004 0781613006 0756672002',\n",
       " '0783346001 0914805002 0909370001 0762846006 0908799002 0715624001 0852584001 0893133001 0898713001 0926502001',\n",
       " '0918292001 0852584001 0926502001 0456163060 0762846006 0794575017 0915526002 0909911001 0929744001 0715624001',\n",
       " '0918292001 0714790020 0926502001 0865929003 0678942001 0896152003 0685814001 0873279003 0911870004 0884319001',\n",
       " '0912204001 0768912001 0911870003 0372860001 0762846006 0904625001 0905957007 0910601002 0809238001 0805947001',\n",
       " '0910601002 0909370001 0865799005 0918525001 0573085028 0911870004 0919273002 0935892001 0905957001 0372860002',\n",
       " '0926502001 0706016002 0809238005 0456163060 0768912001 0906352001 0914805002 0372860001 0748355003 0761406001',\n",
       " '0896169005 0923758001 0863583001 0878190005 0896152003 0916468003 0915526002 0910601002 0552716001 0909912001',\n",
       " '0918525001 0751471043 0863595004 0915529001 0874754002 0923758001 0573085028 0916468001 0923037001 0909912001',\n",
       " '0865799006 0871710001 0898713001 0448509014 0878190005 0874754002 0456163060 0751471001 0760565002 0746874002',\n",
       " '0874754002 0863583001 0448509014 0893141002 0872537001 0916468002 0832307007 0783346001 0158340001 0909371001',\n",
       " '0866482001 0924243001 0915526002 0929744001 0866482008 0758034001 0678942001 0814299004 0610776002 0909911001',\n",
       " '0863583001 0915529003 0929165002 0896152003 0903926001 0873279003 0863595004 0552716001 0910601001 0158340001',\n",
       " '0918292001 0863583001 0905957001 0714790020 0706016003 0926502001 0911870001 0748355003 0762846006 0904625001',\n",
       " '0865799006 0751471038 0730683050 0903926001 0914805002 0884319003 0706016002 0372860002 0863583002 0871710001',\n",
       " '0568601007 0762846027 0918522001 0924243002 0552716001 0678942001 0706016019 0929165002 0762846026 0568601043',\n",
       " '0923758001 0751471043 0751471001 0673677002 0935892001 0237347045 0456163086 0237347028 0237347063 0914441004',\n",
       " '0751471038 0751471001 0896152001 0915529003 0896152003 0678942001 0762846006 0781613006 0685814001 0809238005',\n",
       " '0874754002 0929165002 0769748013 0579541001 0706016002 0685814001 0915526001 0719655001 0898713001 0910601002',\n",
       " '0893059004 0673677002 0903926001 0715624001 0884319001 0803757001 0918292004 0911870003 0893133001 0898713001',\n",
       " '0929165002 0850917001 0896152001 0610776002 0678942001 0768912001 0884319005 0896169002 0685814003 0933706001',\n",
       " '0915526002 0898713001 0898694001 0827968001 0914805002 0933032002 0904625001 0832307007 0158340001 0935892001',\n",
       " '0893059004 0929165002 0914805002 0884319001 0909912001 0911870004 0915529001 0911870001 0916468001 0894668003',\n",
       " '0927530006 0927530005 0829147001 0884319005 0924243002 0910601001 0372860001 0874754002 0574680001 0783926002',\n",
       " '0865799006 0915529001 0898694001 0898713001 0896152003 0894780001 0768912001 0850917001 0933032002 0896169002',\n",
       " '0918292001 0852584001 0762846006 0762846026 0889460003 0906352001 0898713001 0898694001 0827968001 0781613006',\n",
       " '0762846006 0926502001 0715624001 0911870001 0918292004 0894668003 0898713001 0910601001 0898694002 0909912001',\n",
       " '0893059004 0673677002 0896152002 0865799006 0852584001 0916468003 0909911001 0573085028 0878190005 0881942001',\n",
       " '0910601002 0896152001 0762846031 0884319001 0909370001 0850917003 0906352001 0893141002 0891591003 0894668003',\n",
       " '0372860002 0926502001 0706016019 0915529005 0872537001 0767423011 0809238001 0905957007 0884319005 0871710001',\n",
       " '0865799006 0874754002 0909371001 0911870003 0906352001 0873274002 0929744001 0891591003 0933032002 0158340001',\n",
       " '0863583001 0865929003 0915529005 0911870004 0873279003 0916468002 0905957007 0863595004 0898692003 0805947001',\n",
       " '0863583001 0929165002 0852584001 0863595006 0762846031 0898713001 0872537001 0905957007 0805947001 0884319001',\n",
       " '0730683050 0751471001 0926502001 0889460003 0907527001 0893133001 0832307007 0158340001 0933032002 0706016062',\n",
       " '0918292001 0918525001 0751471038 0863595006 0685814001 0936622001 0714790020 0866731001 0372860001 0873279003',\n",
       " '0714790020 0866731001 0865799006 0894668003 0933706001 0867969003 0918522001 0929165002 0907527001 0896169002',\n",
       " '0863595004 0706016001 0885951001 0372860001 0923758001 0915526002 0906352001 0863583001 0910601002 0781613006',\n",
       " '0882759006 0916468003 0762846027 0896152002 0872537001 0573085028 0893059005 0751471038 0912204001 0861574001',\n",
       " '0751471001 0852584001 0685814003 0874754002 0889460003 0573085028 0893133001 0898713001 0911870003 0884319003',\n",
       " '0685814001 0909370001 0863595006 0914805002 0456163060 0907527001 0896152001 0915526001 0158340001 0881942001',\n",
       " '0809238001 0929744001 0909912001 0706016019 0896169002 0911870003 0685814001 0841551002 0896152001 0639845003',\n",
       " '0678942001 0372860002 0884319003 0915526002 0915526001 0783346001 0872537001 0894780001 0909912001 0706016001',\n",
       " '0863583002 0896152002 0673677002 0915529001 0448509014 0909370001 0158340001 0906352001 0884319005 0685814003',\n",
       " '0929165002 0863583002 0751471001 0915529003 0898713001 0706016003 0885951001 0884319005 0805947001 0908799002',\n",
       " '0910601001 0896152003 0874754002 0936622001 0803757001 0893141002 0929744001 0891591003 0809238001 0706016001',\n",
       " '0912204001 0863583002 0915529001 0893141002 0803757001 0924243002 0762846026 0841383002 0884319003 0894668003',\n",
       " '0918292001 0924243001 0863646001 0448509014 0915529003 0915526001 0827968001 0871710001 0610776002 0809238005',\n",
       " '0918522001 0850917001 0706016019 0768912001 0896152001 0867969003 0865929003 0706016003 0884319003 0936622001',\n",
       " '0863595006 0678942001 0715624001 0803757001 0907188001 0863595004 0863583002 0926502001 0805947001 0761406001',\n",
       " '0751471001 0898694001 0907527001 0809238001 0803757001 0924243002 0884319003 0929744001 0910601002 0933989001',\n",
       " '0865799006 0918522001 0878190005 0827968001 0809238005 0884319003 0794575017 0751471038 0751471043 0910601003',\n",
       " '0923758001 0926502001 0685814001 0714790020 0909370001 0706016001 0911870003 0907527001 0898692003 0909371001',\n",
       " '0808666002 0893059004 0865799006 0762846027 0898694002 0803757001 0730683050 0854677001 0714790020 0738064001',\n",
       " '0884319001 0852584001 0914805002 0889460003 0573085028 0898694001 0896152003 0911870001 0372860002 0761406001',\n",
       " '0865799006 0893059005 0685814003 0903926001 0884319001 0865929007 0933706001 0896152003 0372860001 0929744001',\n",
       " '0918522001 0866731001 0865929003 0573085028 0906352001 0903926001 0579541001 0812668001 0905957007 0893059005',\n",
       " '0729928001 0456163060 0706016002 0673677002 0871710001 0911870004 0884319001 0158340001 0832307007 0762846031',\n",
       " '0918522001 0863595006 0915529001 0809238001 0758034001 0903926001 0907527001 0919273002 0898692003 0909912001',\n",
       " '0924243002 0706016003 0781613006 0610776002 0911870003 0748355003 0767423011 0797988002 0706016062 0923758001',\n",
       " '0863583002 0714790020 0867969003 0893141002 0762846006 0915526001 0884319003 0719655001 0910601003 0909911001',\n",
       " '0914441004 0933706001 0919273002 0936622001 0803757001 0871710001 0916468001 0905957007 0685814003 0933032002',\n",
       " '0926502001 0905957001 0893141002 0935892001 0894668003 0873279003 0863595004 0456163060 0916468001 0761406001',\n",
       " '0706016001 0915529005 0706016053 0903926001 0896152003 0908799002 0810156004 0758034001 0685814003 0893444002',\n",
       " '0896169005 0910601003 0874754002 0803757001 0866731001 0881942001 0448509014 0158340001 0871710001 0904625001',\n",
       " '0923758001 0896169005 0905957001 0827968001 0872537001 0894780001 0878190005 0906352001 0863595004 0910601001',\n",
       " '0673677002 0751471038 0730683050 0910601003 0850917001 0456163060 0909911001 0768912001 0915529005 0878190005',\n",
       " '0893059005 0915529003 0762846006 0933706001 0915529005 0898713001 0805947001 0923037001 0909912001 0936622001',\n",
       " '0762846006 0915529003 0863646001 0906352001 0915526001 0915529005 0865929007 0885951001 0872537001 0936622001',\n",
       " '0865799006 0874754002 0896169005 0706016019 0911870004 0896169002 0915526002 0916468003 0898694001 0761406001',\n",
       " '0751471001 0896152002 0915529001 0909370001 0573085028 0896152003 0905957001 0456163060 0898694001 0898713001',\n",
       " '0706016003 0685814003 0867969003 0865929003 0915526001 0881942001 0923758001 0911870003 0878190005 0926502001',\n",
       " '0751471001 0863646001 0751471038 0865929003 0806131012 0905957007 0905957001 0907527001 0933032002 0935892001',\n",
       " '0893059005 0863583001 0863646001 0915529003 0762846006 0809238005 0910601002 0871710001 0918522001 0915526002',\n",
       " '0893141002 0897191003 0850917001 0905957001 0448509014 0881942001 0896152001 0456163060 0776237029 0915526002',\n",
       " '0863583001 0863595006 0915529003 0762846006 0715624001 0903926001 0884319003 0871710001 0923037001 0909911001',\n",
       " '0372860002 0914441004 0762846027 0929165002 0827968001 0903926001 0884319005 0893059005 0909912001 0908799002',\n",
       " '0673677002 0762846027 0909370001 0769748013 0751471038 0916468003 0935892001 0894780001 0923037001 0909912001',\n",
       " '0852584001 0924243001 0448509014 0710695006 0914441004 0907527001 0912204001 0827968001 0783346001 0372860001',\n",
       " '0751471038 0751471043 0929165002 0762846006 0915529005 0884319005 0448509014 0915529001 0885951001 0809238001',\n",
       " '0918522001 0893133001 0924243001 0866731001 0909370001 0456163060 0803757001 0809238005 0850917001 0916468001',\n",
       " '0918522001 0916468001 0715624001 0673677002 0706016001 0911870003 0911870001 0748355003 0678942001 0783346001',\n",
       " '0918292001 0730683050 0884319001 0456163060 0905957007 0706016002 0915529005 0906352001 0158340001 0894668003',\n",
       " '0448509014 0761406001 0706016003 0871710001 0867969003 0714790020 0874754002 0579541001 0923037001 0803757001',\n",
       " '0685814001 0909370001 0914441004 0706016002 0706016019 0896152001 0873279003 0896169002 0884319003 0910601001',\n",
       " '0372860002 0914441004 0850917001 0762846027 0881942001 0706016001 0918525001 0884319001 0909912001 0935892001',\n",
       " '0852584001 0918525001 0579541001 0763988007 0911870003 0911870004 0910601001 0763988005 0372860002 0720572005',\n",
       " '0915526001 0673677002 0898694002 0873274002 0919273002 0796210001 0872537001 0878190005 0933032002 0871710001',\n",
       " '0905957001 0916468001 0915529003 0706016019 0573085028 0911870003 0893133001 0767423001 0884319005 0783346001',\n",
       " '0852584001 0448509014 0898694001 0906352001 0911870003 0873279003 0872537001 0905957007 0893059005 0936622001',\n",
       " '0866731001 0903926001 0894668003 0907527001 0919273002 0929165002 0893059005 0933706001 0898694001 0448509014',\n",
       " '0783346001 0865929003 0919273002 0912204001 0372860002 0881942001 0896169002 0923758001 0809238005 0909912001',\n",
       " '0865799006 0448509014 0904625001 0911870003 0911870004 0456163060 0809238005 0456163086 0762846031 0839079001',\n",
       " '0918292004 0896169005 0914441004 0878190005 0678942001 0896152001 0832307007 0910601002 0905957007 0929744001',\n",
       " '0783346001 0914441004 0806131012 0905957001 0918292004 0456163086 0915526002 0906352001 0871710001 0894668003',\n",
       " '0903926001 0783346001 0884319001 0884319003 0865929007 0909911001 0911870004 0923758001 0893141002 0706016062',\n",
       " '0865799006 0926502001 0863595006 0673677002 0909370001 0871710001 0884319003 0910601002 0907527001 0908799002',\n",
       " '0918292001 0893059005 0751471038 0863646001 0919273002 0893141002 0905957007 0706016002 0768912001 0863583002',\n",
       " '0863646001 0866731001 0915526002 0809238001 0803757001 0911870004 0872537001 0894668003 0863595004 0909912001',\n",
       " '0751471001 0918525001 0924243001 0933032002 0916468001 0896169002 0910601002 0884319005 0884319003 0909370001',\n",
       " '0730683050 0915529003 0867969003 0863595004 0926502001 0915526001 0827968001 0885951001 0809238005 0809238001',\n",
       " '0372860002 0685814001 0762846027 0706016001 0903926001 0872537001 0762846006 0372860001 0751471038 0156231001',\n",
       " '0918292011 0915529001 0863595006 0872537001 0730683036 0730683014 0867969003 0905957001 0866731001 0561064004',\n",
       " '0914805002 0924243002 0903926001 0935892001 0923037001 0873279003 0715624013 0573085028 0456163086 0871710001',\n",
       " '0923758001 0906352001 0863595006 0456163060 0706016001 0926502001 0573085028 0935892001 0894780001 0909912001',\n",
       " '0893059005 0874754002 0909371001 0915526001 0832307007 0768912001 0911870001 0809238005 0909912001 0935892001',\n",
       " '0910601002 0893059005 0923758001 0579541001 0762846027 0926502001 0715624001 0905957007 0893133001 0827968001',\n",
       " '0865799006 0916468001 0873274002 0893141002 0685816002 0685816008 0372860002 0685816061 0701760008 0617534006',\n",
       " '0863646001 0905957001 0915526002 0715624001 0706016002 0894780001 0809238001 0767423011 0863583002 0919273002',\n",
       " '0918522001 0863646001 0926502001 0872537001 0905957007 0884319005 0552716001 0910601003 0893059004 0908799002',\n",
       " '0918522001 0918292001 0916468001 0610776002 0911870003 0903926001 0865929003 0898694002 0912204001 0936622001',\n",
       " '0915526001 0863583002 0907527001 0911870003 0896152003 0933706001 0610776002 0751471043 0832307007 0597901004',\n",
       " '0903926001 0579541001 0863595006 0914805002 0685814003 0909371001 0372860002 0924243002 0933032002 0909912001',\n",
       " '0915526002 0762846027 0872537001 0867969003 0916468001 0904625001 0884319005 0871710001 0909371001 0929744001',\n",
       " '0893133001 0915529003 0881942001 0865929003 0812668001 0579541001 0933032002 0751471038 0907527001 0909911001',\n",
       " '0841793003 0715624001 0896152001 0878190005 0905957001 0929165002 0761406001 0768912001 0867969003 0809238005',\n",
       " '0762846026 0912204001 0867969003 0909912001 0866731001 0918525001 0906352001 0915529001 0758034001 0891591003',\n",
       " '0874754002 0863646001 0863595006 0878190005 0809238001 0372860001 0863595004 0871710001 0923037001 0936622001',\n",
       " '0924243001 0866731001 0905957007 0769748013 0678942001 0706016002 0372860002 0918522001 0884319001 0896169002',\n",
       " '0910601003 0796210001 0909912001 0803757001 0805947001 0863583002 0685814003 0761406001 0706016001 0929744001',\n",
       " '0910601002 0915526002 0923758001 0935892001 0914441004 0905957001 0893133001 0915529005 0911870003 0933032002',\n",
       " '0685814001 0852584001 0706016003 0673677002 0767423013 0803757001 0579541001 0871710001 0907527001 0935892001',\n",
       " '0894780001 0879248001 0761406001 0865624001 0898692003 0933032002 0914441004 0751471001 0863595006 0893141002',\n",
       " '0448509014 0865799006 0918292004 0456163060 0762846031 0863595006 0918525001 0872537001 0919273002 0730683050',\n",
       " '0751471001 0910601003 0856840001 0456163086 0866731001 0905957001 0916468001 0781613006 0872537001 0706016062',\n",
       " '0865929003 0918522001 0918525001 0898694002 0832307007 0827968001 0911870001 0885951001 0936622001 0758034001',\n",
       " '0863646001 0896152003 0579541001 0874754002 0898694002 0936622001 0914441004 0918836001 0905957007 0878190005',\n",
       " '0751471043 0915526002 0673677002 0850917001 0762846006 0706016019 0610776002 0929744001 0894780001 0935689001',\n",
       " '0706016001 0685814001 0896152001 0916468003 0809238005 0372860001 0929744001 0827968001 0856232002 0868405002',\n",
       " '0843772004 0863583001 0911870004 0827411006 0715624001 0923037001 0806388002 0626366004 0515833020 0798407005',\n",
       " '0918292004 0863583001 0762846026 0881942001 0158340001 0872537001 0809238001 0914441004 0827968004 0893059005',\n",
       " '0893059005 0865799006 0893059004 0915529001 0904625001 0907527001 0896152001 0456163086 0832307007 0933032002',\n",
       " '0797710006 0761406001 0906352001 0911870004 0783346001 0884319005 0579541001 0909370001 0692226004 0872537001',\n",
       " '0916468001 0715624001 0912204001 0706016019 0872537001 0873279003 0933032002 0896169002 0884319005 0832307007',\n",
       " '0673677002 0884319003 0762846031 0762846027 0926502001 0866731001 0909371001 0893133001 0456163086 0916468001',\n",
       " '0935892001 0918292001 0924243001 0863595006 0863595004 0907527001 0898694002 0911870004 0893141002 0911870003',\n",
       " '0910601003 0714790020 0448509014 0706016019 0803757001 0863595004 0610776002 0908799002 0894780001 0923037001',\n",
       " '0918292001 0863583001 0898692003 0678942001 0706016062 0867969003 0893059004 0762846031 0909912001 0372860001',\n",
       " '0896169005 0905957001 0751471001 0915526002 0914805002 0706016003 0573085028 0809238001 0911870004 0871710001',\n",
       " '0881942001 0852584001 0911870001 0863583002 0673677002 0893133001 0867969003 0863595004 0904625001 0933706001',\n",
       " '0863583002 0914441004 0898694001 0909370001 0715624001 0678942001 0911870003 0908799002 0685814003 0933032002',\n",
       " '0918292001 0905957001 0827968001 0867969003 0706016019 0573085028 0911870004 0915526001 0685814001 0908799002',\n",
       " '0863583002 0910601001 0904625001 0579541001 0717464001 0685814001 0906352001 0809238005 0832307007 0878190005',\n",
       " '0730683050 0885951001 0372860001 0893141002 0758034001 0898713001 0871710001 0809238001 0909912001 0923037001',\n",
       " '0918292001 0893133001 0685814001 0874754002 0762846031 0706016003 0909370001 0827968004 0893141002 0751471038',\n",
       " '0852584001 0863595006 0914441004 0884319003 0884319001 0806131012 0768912001 0758034001 0871710001 0936622001',\n",
       " '0863583001 0898694001 0827968001 0715624001 0896152003 0758034001 0873279003 0884319001 0908799002 0894780001',\n",
       " '0905957001 0852584001 0915526002 0916468001 0706016001 0898713001 0933032002 0904625001 0863595004 0832307007',\n",
       " '0915526001 0866731001 0852584001 0916468003 0809238001 0893133001 0896169002 0884319005 0898692003 0923037001',\n",
       " '0898713001 0456163060 0850917001 0863646001 0906352001 0929165002 0797988002 0863583002 0748355003 0552716001',\n",
       " '0918292001 0893059005 0896152002 0685814003 0762846031 0924243002 0893141002 0911870004 0805947001 0809238001',\n",
       " '0893059005 0918525001 0914441004 0929165002 0885951001 0884319001 0907527001 0916468001 0911870001 0933032002',\n",
       " '0918292001 0866731001 0905957001 0762846026 0914805002 0894780001 0911870003 0832307007 0893059005 0935892001',\n",
       " '0751471038 0865929003 0915529005 0832307007 0706016019 0372860002 0918836001 0904625001 0916468003 0935689001',\n",
       " '0762846027 0754238024 0754238007 0893133001 0610776002 0610776093 0893059005 0762846031 0781613006 0738464001',\n",
       " '0896169005 0921906003 0867969003 0935892001 0909912001 0781613006 0872537001 0372860001 0918836001 0923037001',\n",
       " '0863595006 0915529003 0924243002 0809238001 0914441004 0573085028 0768912001 0912204001 0894668003 0884319003',\n",
       " '0751471043 0915526002 0715624001 0881942001 0456163086 0706016001 0885951001 0751471038 0905957007 0894668003',\n",
       " '0909370001 0827968001 0762846031 0852584001 0809238001 0579541001 0769748013 0896169002 0924243002 0783346001',\n",
       " '0706016001 0910601003 0918525001 0797710001 0911870003 0933706001 0781613006 0863583002 0372860002 0935892001',\n",
       " '0863583001 0893133001 0914805002 0909370001 0573085028 0706016019 0863595004 0873279003 0915526001 0872537001',\n",
       " '0908799002 0783346001 0863067002 0679853016 0915526002 0809238005 0715919001 0679853009 0679853008 0761406001',\n",
       " '0865799006 0863595006 0884319003 0768912001 0372860002 0918836001 0893133001 0915529001 0158340001 0894668003',\n",
       " '0783346001 0896152002 0929165002 0903926001 0884319003 0867969003 0873279003 0871710001 0905957007 0935689001',\n",
       " '0865799006 0929165002 0905957001 0456163086 0894780001 0903926001 0906352001 0911870003 0923037001 0873279003',\n",
       " '0762846026 0924243001 0762846027 0809238001 0865799006 0579541001 0867969003 0910601001 0706016062 0936622001',\n",
       " '0865799006 0852584001 0881942001 0894780001 0706016019 0762846026 0610776002 0762846006 0579541001 0552716001',\n",
       " '0918292004 0685814003 0809238005 0797988002 0767423001 0916468002 0919273002 0898694002 0893059004 0909911001',\n",
       " '0918292001 0863583001 0924243002 0916468001 0715624001 0706016003 0878190005 0912204001 0884319001 0898692003',\n",
       " '0448509014 0762846031 0914441004 0803757001 0903926001 0896152002 0762846026 0573085028 0896152003 0911870003',\n",
       " '0915526001 0914441004 0781613006 0896152003 0748355003 0761406001 0910601002 0910601001 0898694002 0730683050',\n",
       " '0730683050 0866731001 0867969003 0456163086 0456163060 0896152003 0706016019 0884319005 0884319001 0915529005',\n",
       " '0778064006 0865799006 0673677002 0874754002 0685814003 0751471001 0903926001 0706016062 0935892001 0719702002',\n",
       " '0751471043 0898694001 0898694002 0867969003 0573085028 0685814001 0918525001 0873279003 0706016002 0894668003',\n",
       " '0914805002 0908799002 0762846006 0799365027 0740958002 0651464002 0710194001 0907527001 0905957007 0896064002',\n",
       " '0918292001 0751471001 0898694001 0926502001 0933706001 0769748013 0915526002 0898694002 0894668003 0904625001',\n",
       " '0706016003 0884319005 0762846027 0762846031 0762846026 0806131012 0896169002 0809238005 0871710001 0706016062',\n",
       " '0852584001 0915529003 0915526002 0706016019 0911870003 0809238005 0907527001 0893059004 0912204001 0805947001',\n",
       " '0926502001 0796210001 0881942001 0914441004 0911870001 0911870004 0519749008 0372860002 0693242031 0647109001',\n",
       " '0918292001 0866731001 0916468003 0803757001 0832307007 0871710001 0805947001 0907527001 0893059004 0908799002',\n",
       " '0852584001 0751471001 0865929003 0914441004 0762846006 0909371001 0896152001 0911870001 0910601002 0809238001',\n",
       " '0918292001 0896169005 0685814003 0915529003 0914441004 0706016001 0797710001 0878190005 0916468003 0894668003',\n",
       " '0918525001 0863646001 0730683050 0915529003 0867969003 0919273002 0909371001 0610776002 0573085028 0871710001',\n",
       " '0924243002 0916468003 0448509014 0762846027 0893133001 0911870004 0871710001 0898694002 0893059004 0933706001',\n",
       " '0918292001 0863583001 0685814003 0866731001 0714790020 0916468001 0915526002 0762846026 0872537001 0923758001',\n",
       " '0926502001 0910601001 0867969003 0905957001 0896152003 0910601003 0717464001 0911870003 0871710001 0753294001',\n",
       " '0915526001 0924243001 0448509014 0865929003 0573085028 0610776002 0896152002 0767423001 0893059005 0893059004',\n",
       " '0915529003 0448509014 0850917001 0762846027 0878190005 0903926001 0905957007 0762846006 0910601002 0929744001',\n",
       " '0936622001 0673677002 0924243001 0866731001 0865929007 0832307007 0761406001 0884319001 0762846027 0884319005',\n",
       " '0924243001 0448509014 0893141002 0929165002 0706016002 0915526002 0924243002 0783346001 0871710001 0904625001',\n",
       " '0918292001 0915529003 0714790020 0874754002 0865929007 0915529005 0803757001 0832307007 0372860002 0929744001',\n",
       " '0827687001 0916468003 0845790007 0907527001 0911870003 0884319001 0898713001 0682236009 0741716001 0822344002',\n",
       " '0456163060 0905957001 0929744001 0781613006 0909371001 0761406001 0762846031 0909911001 0935892001 0916468003',\n",
       " '0865799006 0751471043 0898694001 0762846026 0448509014 0863583001 0610776002 0158340001 0685814001 0706016062',\n",
       " '0916468003 0751471001 0878190005 0873279003 0884319005 0898713001 0896169005 0739533004 0739533001 0696826001',\n",
       " '0896152001 0678942001 0762846027 0762846026 0909371001 0918292001 0768912001 0372860001 0915529001 0898713001',\n",
       " '0751471001 0878190005 0827968001 0915529005 0906352001 0748355003 0919273002 0761406001 0909911001 0909912001',\n",
       " '0918522001 0918292004 0918292001 0898694001 0762846026 0896152001 0918525001 0678942001 0919273002 0907527001',\n",
       " '0915529001 0865929007 0896152003 0911870004 0781613006 0915526002 0871710001 0894668003 0762846027 0610776002',\n",
       " '0918292004 0915526001 0852584001 0914805002 0898713001 0893141002 0905957007 0893059005 0909911001 0936622001',\n",
       " '0873977001 0910601002 0865929003 0579541001 0871854001 0873274002 0923037001 0935892001 0863583001 0875260002',\n",
       " '0873279003 0673677002 0896152002 0898694001 0911870004 0914805002 0933706001 0878190005 0896169005 0610776002',\n",
       " '0918525001 0905957001 0715624001 0610776002 0678942001 0906352001 0706016062 0372860001 0863595004 0884319005',\n",
       " '0909370001 0929165002 0852584001 0706016003 0910601002 0863595006 0781613006 0894668003 0669359001 0749182001',\n",
       " '0706016003 0706016001 0751471038 0730683050 0896169005 0706016019 0863583001 0915526001 0898713001 0781613006',\n",
       " '0867969003 0915529001 0912204001 0889460003 0909370001 0893141002 0909371001 0910601001 0911870001 0809238005',\n",
       " '0863646001 0685814003 0678942001 0884319003 0850917001 0803757001 0909371001 0573085028 0924243002 0809238001',\n",
       " '0916468001 0915529001 0456163086 0863583001 0936622001 0894780001 0706016002 0158340001 0563276001 0872231009',\n",
       " '0918522001 0751471038 0884319001 0850917001 0896152003 0797710001 0873279003 0916468003 0809238005 0809238001',\n",
       " '0762846027 0706016003 0158340001 0924243002 0896152003 0911870004 0706016062 0762846006 0372860002 0905957007',\n",
       " '0918522001 0783346001 0898694001 0909911001 0918525001 0911870004 0898713001 0878190005 0761406001 0926502001',\n",
       " '0898713001 0898694001 0915529003 0919273002 0918522001 0568601023 0929744001 0568601024 0896169002 0885951001',\n",
       " '0685814001 0896169005 0865929003 0762846026 0809238005 0762846006 0579541001 0794575017 0910601001 0898694002',\n",
       " '0863646001 0852584001 0714790020 0762846027 0456163086 0706016001 0881942001 0841383002 0781613006 0923037001',\n",
       " '0912204001 0554598003 0908799002 0907188001 0916468001 0918292001 0866731001 0781613006 0815092001 0881114001',\n",
       " '0803757001 0751471043 0158340001 0456163060 0916468003 0909912001 0751471038 0706016003 0633133001 0594177024',\n",
       " '0924243001 0915526001 0929165002 0903926001 0898694001 0893133001 0911870004 0850917003 0905957001 0916468003',\n",
       " '0816521001 0918292004 0863595006 0396135045 0879248010 0871710001 0915526002 0156231001 0827968001 0884319003',\n",
       " '0372860001 0915529005 0873279003 0910601002 0559630004 0894668003 0456163086 0933032002 0673677002 0679011018',\n",
       " '0863646001 0852584001 0915529003 0706016001 0758034001 0918525001 0896152001 0894668003 0761406001 0923037001',\n",
       " '0896169005 0751471043 0730683050 0762846027 0762846031 0762846006 0933706001 0372860002 0372860001 0758034001',\n",
       " '0874754002 0456163060 0915529003 0896152003 0915529001 0767423001 0832307007 0783346001 0910601003 0923758001',\n",
       " '0915526001 0905957001 0898694001 0781613006 0885951001 0863583002 0748355003 0863595004 0579541001 0907527001',\n",
       " '0751471043 0865929003 0863646001 0903926001 0905957007 0866731001 0912204001 0896152003 0158340001 0910601001',\n",
       " '0896152002 0783346001 0685814003 0456163060 0907527001 0865929007 0915526002 0898694002 0872537001 0809238001',\n",
       " '0783346001 0896152003 0923758001 0910601001 0915529003 0921906003 0781613006 0762846027 0918292001 0748355003',\n",
       " '0909371001 0896169002 0783346024 0752814015 0863583002 0878190005 0885951001 0796210001 0372860001 0869912002',\n",
       " '0918522001 0852584001 0448509014 0706016002 0850917001 0911870004 0762846006 0894668003 0923758001 0935892001',\n",
       " '0652218001 0924243001 0730683050 0863595006 0893133001 0873279003 0933706001 0706016019 0909912001 0706016003',\n",
       " '0715624001 0873279003 0706016002 0456163060 0893059005 0767869002 0768912001 0762846031 0776781001 0921266006',\n",
       " '0884319005 0904625001 0911870003 0915529005 0908799002 0909371001 0706016002 0372860001 0372860002 0935892001',\n",
       " '0751471043 0685814001 0850917001 0865929003 0806131012 0919273002 0715624001 0907527001 0865929007 0885951001',\n",
       " '0448509014 0904625001 0884319001 0903926001 0456163086 0905957007 0896152003 0924243002 0911870003 0761406001',\n",
       " '0751471001 0685814003 0898694001 0762846027 0867969003 0903926001 0884319001 0898692003 0768912001 0918522001',\n",
       " '0915529001 0803757001 0909370001 0918292001 0916468003 0911870003 0918292004 0894668003 0762846026 0594542022',\n",
       " '0926502001 0915529003 0715624001 0762846031 0762846026 0706016003 0898694002 0706016002 0610776002 0706016062',\n",
       " '0852584001 0866731001 0923758001 0905957007 0929165002 0910601002 0884319003 0715624001 0678942001 0781613006',\n",
       " '0865799006 0926502001 0863595006 0863583002 0911870001 0751471043 0827968001 0573085028 0809238005 0933032002',\n",
       " '0896152001 0863595006 0762846031 0898694002 0933706001 0914805002 0573085028 0871710001 0761406001 0923037001',\n",
       " '0750422018 0706016038 0884319005 0706016053 0685814003 0842000001 0918292001 0867969003 0750422006 0885951001',\n",
       " '0865799006 0924243002 0850917001 0878190005 0758034001 0762846006 0894668003 0751471038 0832307007 0923758001',\n",
       " '0865799006 0751471001 0896152001 0762846027 0914441004 0768912001 0827968001 0758034001 0926502001 0923037001',\n",
       " '0893059005 0929165002 0914805002 0850917001 0714790020 0918292001 0866731001 0706016019 0873274002 0926502001',\n",
       " '0372860002 0905957001 0924243002 0929165002 0706016001 0873279003 0905957007 0907527001 0910601001 0893059004',\n",
       " '0918522001 0893133001 0896169005 0852584001 0673677002 0610776002 0730683050 0933706001 0761406001 0935892001',\n",
       " '0714790020 0905957001 0894780001 0896169005 0610776002 0805947001 0706016019 0783346001 0803757001 0935892001',\n",
       " '0924243001 0905957001 0867969003 0874754002 0926502001 0769748013 0916468001 0915529005 0719655001 0910601001',\n",
       " '0926502001 0448509014 0573085028 0909924004 0706016062 0610776002 0699923114 0699923041 0699923066 0621522024',\n",
       " '0863646001 0896152002 0916468003 0929165002 0909912001 0919273002 0706016019 0783346001 0896152001 0898713001',\n",
       " '0918292004 0898694001 0924243002 0863595006 0871710001 0573085028 0395730018 0395730016 0570303003 0807241017',\n",
       " '0918522001 0915526002 0867969003 0894780001 0768912001 0906352001 0751471038 0871710001 0910601002 0761406001',\n",
       " '0896169005 0929165002 0863583001 0896152002 0910601002 0751471043 0768912001 0894668003 0158340001 0730683050',\n",
       " '0916468003 0706016002 0673677002 0881942001 0903926001 0911870004 0893133001 0805947001 0832307007 0909911001',\n",
       " '0448509014 0751471038 0911870004 0916468001 0933032002 0863583002 0781613006 0809238001 0768912001 0456163060',\n",
       " '0865799006 0910601001 0456163086 0912204001 0918292004 0907527001 0803757001 0863595004 0916468003 0761406001',\n",
       " '0863583002 0893141002 0909371001 0915529005 0924243002 0911870003 0783346001 0910601001 0910601002 0909911001',\n",
       " '0896152002 0673677002 0923758001 0762846026 0456163060 0896152003 0706016019 0929744001 0933032002 0809238005',\n",
       " '0751471001 0715624001 0914441004 0926502001 0881942001 0809238005 0448509014 0827968001 0896152002 0933706001',\n",
       " '0924243001 0865929003 0762846027 0456163086 0456163060 0706016002 0448509014 0768912001 0372860002 0891591003',\n",
       " '0874754002 0706016003 0809238005 0809238001 0903926001 0896169002 0894668003 0919273002 0884319001 0893059004',\n",
       " '0863595006 0448509014 0929165002 0762846006 0805947001 0158340001 0896152001 0915529005 0898694002 0751471038',\n",
       " '0905957001 0915529003 0809238001 0896152003 0706016019 0762846026 0871710001 0910601001 0909911001 0909912001',\n",
       " '0866260002 0918836001 0868213004 0902023001 0809238001 0711053011 0372860002 0905957001 0706016002 0786336001',\n",
       " '0896169005 0926502001 0915526002 0914441004 0678942001 0751471038 0884319005 0910601002 0910601001 0909912001',\n",
       " '0915526002 0809238001 0865929003 0903926001 0914805002 0915529001 0911870001 0919273002 0783346001 0832307007',\n",
       " '0910601001 0915526002 0884319001 0936622001 0706016019 0573085028 0863583001 0758034001 0706016001 0894668003',\n",
       " '0884319003 0898694001 0898694002 0372860002 0918836001 0856840001 0907188001 0918525001 0885951001 0926502001',\n",
       " '0751471043 0730683050 0863595006 0685814003 0850917001 0907527001 0827968001 0915526002 0158340001 0805947001',\n",
       " '0918525001 0762846026 0762846031 0898694001 0894780001 0758034001 0896152001 0850917001 0579541001 0919273002',\n",
       " '0874754002 0827968001 0706016062 0904625001 0579541001 0919273002 0751471038 0898694002 0456163086 0730683050',\n",
       " '0896169002 0896152002 0908799002 0907527001 0885951001 0919273002 0915529001 0916468003 0781613006 0904625001',\n",
       " '0715624001 0898694001 0448509014 0706016001 0573085028 0878190005 0678942001 0911870003 0884319003 0884319001',\n",
       " '0827968001 0800691007 0456163085 0898694002 0456163064 0769748013 0456163090 0510210003 0898287001 0736780004',\n",
       " '0714790020 0915526002 0715624001 0706016019 0923037001 0878190005 0933032002 0781613006 0904625001 0909911001',\n",
       " '0842112005 0856840003 0910601002 0762846006 0762846027 0884319001 0896152002 0916468003 0872537001 0914441004',\n",
       " '0915529003 0850917001 0832307007 0809238001 0715624001 0678942001 0685814001 0911870003 0878190005 0761406001',\n",
       " '0863583002 0905957001 0863646001 0905957007 0929165002 0865929003 0717464001 0372860002 0372860001 0910601001',\n",
       " '0685814003 0863595004 0866731001 0896152003 0827968001 0923758001 0893141002 0873279003 0929744001 0872537001',\n",
       " '0915526002 0706016003 0926502001 0909370001 0768912001 0918525001 0896152001 0748355003 0896169002 0909371001',\n",
       " '0809238001 0863583001 0896152003 0805947001 0865929003 0767423011 0933706001 0747807002 0770315020 0910601003',\n",
       " '0926502001 0915529001 0915529005 0923037001 0678942001 0912204001 0706016062 0832307007 0909911001 0935892001',\n",
       " '0865799006 0730683050 0685814001 0867969003 0914441004 0907527001 0827968001 0911870001 0929744001 0884319005',\n",
       " '0923758001 0924243001 0929165002 0852584001 0914805002 0915529001 0456163060 0872537001 0885951001 0832307007',\n",
       " '0896152002 0866731001 0915529003 0874754002 0809238005 0911870004 0896152001 0372860001 0579541001 0893059004',\n",
       " '0448509014 0809238001 0610776002 0372860002 0579541001 0915526001 0884319001 0907527001 0730683050 0893059004',\n",
       " '0896169005 0863595006 0918522001 0783346001 0579541001 0769748013 0898713001 0933989001 0706016001 0158340001',\n",
       " '0805000010 0898692003 0916468003 0896169005 0863595006 0863646001 0158340001 0827968004 0702118005 0706016002',\n",
       " '0893141002 0803757001 0907527001 0903926001 0706016002 0911870001 0911870003 0916468003 0878190005 0904625001',\n",
       " '0918525001 0914805002 0865929003 0865929007 0909911001 0896152001 0910601002 0878190005 0809238005 0909912001',\n",
       " '0866731001 0673677002 0863646001 0898694001 0852584001 0878190005 0579541001 0893059005 0910601003 0885951001',\n",
       " '0896169005 0762846026 0915529005 0673677002 0158340001 0573085028 0903926001 0884319005 0910601001 0909912001',\n",
       " '0896169005 0918525001 0456163086 0158340001 0924243002 0911870004 0762846006 0783346001 0884319003 0909371001',\n",
       " '0926502001 0915526002 0905957001 0624486009 0624486078 0552716001 0624486013 0874754002 0903926001 0803757001',\n",
       " '0865799006 0898694001 0809238001 0914441004 0573085028 0878190005 0911870003 0783346001 0761406001 0910601001',\n",
       " '0865929003 0884319005 0884319001 0905957007 0827968001 0573085028 0896169002 0933706001 0898694002 0936622001',\n",
       " '0776179006 0924243001 0929165002 0673677002 0448509014 0678942001 0915526002 0573152003 0685814003 0888320002',\n",
       " '0893059005 0751471001 0874754002 0884319003 0884319001 0762846031 0907527001 0865929007 0456163086 0881942001',\n",
       " '0926502001 0751471001 0715624001 0898694001 0867969003 0456163060 0768912001 0893133001 0918525001 0909911001',\n",
       " '0896169005 0806388002 0767423001 0894668003 0805947001 0783346001 0751471038 0832307007 0910601002 0933706001',\n",
       " '0914441004 0762846027 0865929003 0867969003 0906352001 0885951001 0748355003 0884319003 0783346001 0923037001',\n",
       " '0892309002 0905957001 0929165002 0748355003 0863595004 0834020001 0512075001 0762173002 0671505001 0632534005',\n",
       " '0863583002 0158340001 0914441004 0610776002 0678942001 0893141002 0923037001 0884319003 0910601002 0909912001',\n",
       " '0915526001 0866731001 0916468003 0878190005 0372860001 0678942001 0911870004 0905957007 0893059005 0909371001',\n",
       " '0685814001 0863646001 0714790020 0706016019 0573085028 0372860002 0873279003 0781613006 0832307007 0730683050',\n",
       " '0448509014 0918525001 0910601001 0884319005 0929165002 0865929003 0714790020 0912204001 0573085028 0863583001',\n",
       " '0673677002 0762846031 0909370001 0915529005 0893141002 0907527001 0909371001 0706016002 0832307007 0872537001',\n",
       " '0918522001 0909911001 0706016002 0372860002 0873279003 0893133001 0929744001 0933706001 0926502001 0805947001',\n",
       " '0874754002 0863595004 0884319001 0904625001 0762846006 0706016002 0893141002 0916468001 0923758001 0805947001',\n",
       " '0933032002 0909912001 0573085028 0796210001 0803757001 0852584001 0884319005 0706016003 0158340001 0915526002',\n",
       " '0909371001 0909911001 0579541001 0762846006 0873279003 0878190005 0827968001 0918836001 0923037001 0706016001',\n",
       " '0874754002 0714790020 0706016002 0809238001 0873279003 0685814003 0783346001 0884319001 0910601001 0929744001',\n",
       " '0863595006 0905957001 0916468003 0914805002 0865929003 0158340001 0372860001 0911870004 0910601001 0936622001',\n",
       " '0673677002 0456163086 0714790020 0909371001 0907188001 0915529001 0758034001 0878190005 0933032002 0894780001',\n",
       " '0751471001 0912204001 0905957001 0832307007 0673677002 0881942001 0918522001 0874754002 0933032002 0685814001',\n",
       " '0910601002 0924243001 0903926001 0898694002 0909911001 0907527001 0730683050 0885951001 0916468001 0926502001',\n",
       " '0751471038 0896152001 0915526002 0714790020 0912204001 0762846026 0898694002 0768912001 0803757001 0885951001',\n",
       " '0685814003 0916468003 0706016003 0850917001 0809238005 0896152001 0372860001 0919273002 0910601002 0156231001',\n",
       " '0918522001 0915526002 0874754002 0911870004 0898713001 0866731001 0852584001 0781613006 0923037001 0929744001',\n",
       " '0863583001 0926502001 0762846027 0827968004 0706016062 0762846006 0863595004 0904625001 0893059005 0935892001',\n",
       " '0924243001 0673677002 0915529001 0827968001 0809238005 0909371001 0706016019 0924243002 0911870004 0878190005',\n",
       " '0915526001 0924243002 0911870001 0767423001 0898694002 0919273002 0884319001 0893059004 0923037001 0909371001',\n",
       " '0893133001 0863646001 0866731001 0850917001 0769748013 0372860001 0685814001 0911870003 0872537001 0933989001',\n",
       " '0874754002 0863646001 0781613006 0806388002 0794575017 0762846026 0456163086 0797988002 0910601002 0910601003',\n",
       " '0685814003 0915526002 0448509014 0673677002 0806388002 0893133001 0863595004 0909911001 0923037001 0908799002',\n",
       " '0918522001 0916468003 0914805002 0933032002 0806388002 0751471038 0156231001 0158340001 0761406001 0936622001',\n",
       " '0866731001 0730683050 0898694001 0805947001 0768912001 0841383002 0911870003 0911870004 0918522001 0719655001',\n",
       " '0924243001 0866731001 0762846026 0768912001 0910601002 0896152003 0579541001 0873279003 0781613006 0872537001',\n",
       " '0832307007 0893141002 0559633008 0926502001 0911870004 0896152003 0610776002 0751471038 0923037001 0910601002',\n",
       " '0874754002 0905957001 0762846027 0878190005 0706016003 0918525001 0914805002 0456163086 0910601001 0893059004',\n",
       " '0918292001 0866731001 0714790020 0909371001 0896152003 0706016003 0911870004 0918522001 0610776002 0884319001',\n",
       " '0850917001 0673677002 0806388002 0903926001 0915529005 0884319001 0910601002 0768912001 0910601003 0156231001',\n",
       " '0916468003 0448509014 0805947001 0872834001 0807244030 0877961019 0807241015 0807241091 0854471002 0807241033',\n",
       " '0863646001 0762846006 0896169005 0916468003 0863583001 0372860001 0893141002 0926433002 0714790020 0448509014',\n",
       " '0918292001 0863583001 0730683050 0893141002 0872537001 0894780001 0910601002 0884319001 0898694001 0809238001',\n",
       " '0910601002 0896169002 0893059004 0923758001 0762846031 0911870003 0909912001 0610776002 0809238001 0923037001',\n",
       " '0896169005 0874754002 0751471001 0866731001 0914805002 0905957007 0809238005 0685814003 0884319005 0884319001',\n",
       " '0893059005 0884319001 0935892001 0909911001 0907188001 0929744001 0894780001 0809238001 0923037001 0926502001',\n",
       " '0865799006 0915529003 0867969003 0865929007 0706016019 0706016002 0909911001 0896169002 0916468001 0894668003',\n",
       " '0863646001 0915529003 0898713001 0827968001 0924243002 0911870004 0904625001 0933706001 0908799002 0909371001',\n",
       " '0863646001 0915526002 0762846027 0914441004 0909371001 0372860001 0915529005 0832307007 0926502001 0923037001',\n",
       " '0678942001 0896152002 0715624001 0867969003 0909370001 0919273002 0827968001 0915526002 0893141002 0898694001',\n",
       " '0929165002 0579541001 0884319005 0714790020 0907527001 0456163086 0832307007 0809238005 0871710001 0706016062',\n",
       " '0863583001 0852584001 0910601002 0915526001 0918522001 0755611007 0769748013 0565200017 0870525007 0922625005',\n",
       " '0918522001 0867969003 0865929003 0909370001 0706016002 0372860002 0915526001 0929744001 0909912001 0894668003',\n",
       " '0893059005 0865929003 0912204001 0762846027 0850917003 0865799005 0448509014 0873279003 0832307007 0915529001',\n",
       " '0751471043 0914441004 0706016003 0926502001 0921906003 0865799005 0909371001 0456163060 0832307007 0372860001',\n",
       " '0918525001 0762846026 0867969003 0706016002 0873279003 0908799002 0909371001 0372860002 0610776002 0909912001',\n",
       " '0863583001 0905957001 0915529003 0916468003 0924243001 0762846027 0768912001 0809238005 0706016062 0751471043',\n",
       " '0739590027 0893141002 0914805002 0936622001 0832307007 0933989001 0910601001 0706016003 0610776002 0599580022',\n",
       " '0896169005 0918525001 0730683050 0905957007 0832307007 0706016003 0372860001 0873279003 0916468001 0909911001',\n",
       " '0579541001 0678942001 0921906003 0893141002 0911870003 0884319005 0916468001 0907527001 0916468003 0158340001',\n",
       " '0874754002 0685814003 0918292001 0885951001 0706016003 0751471038 0456163060 0910601001 0156231001 0933706001',\n",
       " '0914805002 0915529005 0852584001 0706016001 0730683050 0933706001 0905957007 0885951001 0850917001 0832307007',\n",
       " '0915529003 0898694001 0907527001 0809238005 0706016002 0915526002 0896169002 0908799002 0933989001 0909911001',\n",
       " '0893059005 0751471043 0863595006 0706016003 0863583002 0873279003 0915529001 0758034001 0871710001 0923037001',\n",
       " '0926502001 0781613006 0863595004 0852584001 0863583001 0673677002 0884319003 0909912001 0865799005 0769008001',\n",
       " '0762846027 0673677002 0730683050 0924243002 0911870001 0894780001 0762846026 0865799006 0714790020 0585480002',\n",
       " '0863646001 0715624001 0762846031 0898694001 0914805002 0896152002 0767423001 0916468002 0730683050 0936622001',\n",
       " '0706016001 0867969003 0573085028 0768912001 0610776002 0911870004 0911870003 0863583002 0751471038 0893059004',\n",
       " '0751471043 0685814001 0456163060 0706016002 0923758001 0916468001 0915526002 0916468003 0898694001 0933032002',\n",
       " '0762846031 0456163086 0610776002 0905957001 0866731001 0929165002 0898694002 0929744001 0809238005 0936622001',\n",
       " '0893059005 0896152002 0914805002 0714790020 0909911001 0873279003 0915526001 0929744001 0809238005 0936622001',\n",
       " '0751471001 0706016001 0884319003 0896169005 0797710001 0896152003 0898694002 0933032002 0915529005 0781613006',\n",
       " '0916468003 0832481002 0893133001 0911870003 0898694002 0805947001 0767423013 0579541001 0898694001 0751471038',\n",
       " '0929165002 0762846031 0924243002 0912204001 0706016002 0803757001 0911870004 0907527001 0761406001 0893059005',\n",
       " '0918522001 0783346001 0914805002 0908799002 0909912001 0919273002 0706016003 0796210001 0158340001 0916468003',\n",
       " '0863595006 0865929003 0762846027 0926502001 0898694002 0908799002 0909911001 0781613006 0891591003 0761406001',\n",
       " '0569189002 0898694001 0827968001 0863595006 0881942001 0898692003 0874754002 0936622001 0909371001 0740498001',\n",
       " '0918522001 0685814001 0874754002 0706016003 0768912001 0573085028 0906352001 0915529005 0915526001 0935892001',\n",
       " '0762846031 0809238005 0863646001 0610776002 0158340001 0915529001 0898694002 0894668003 0748355003 0863595004',\n",
       " '0923758001 0911870001 0714790020 0456163060 0579541001 0905957007 0805947001 0893059004 0909911001 0909371001',\n",
       " '0865799006 0905957001 0762846026 0758034001 0912204001 0906352001 0579541001 0783346001 0685814003 0730683050',\n",
       " '0751471001 0783346001 0898694001 0866731001 0685814003 0706016002 0781613006 0865799005 0872537001 0891591003',\n",
       " '0865929003 0881577002 0881942001 0372860002 0827968001 0778064005 0893133001 0873279003 0872537001 0448509014',\n",
       " '0893059005 0579541001 0863595004 0884319005 0904625001 0909370001 0908799002 0893141002 0915529005 0923758001',\n",
       " '0783346001 0806131012 0915529001 0884319003 0915529005 0456163060 0915526001 0896169002 0898694001 0898694002',\n",
       " '0918522001 0372860002 0706016003 0850917001 0809238005 0911870003 0706016062 0894668003 0884319005 0909912001',\n",
       " '0874754002 0929165002 0809238001 0809238005 0878190005 0903926001 0863595004 0783346001 0905957007 0929744001',\n",
       " '0911870001 0896152002 0714790020 0874754002 0762846027 0715624001 0809238005 0678942001 0896152001 0923037001',\n",
       " '0918522001 0910601003 0863595004 0884319005 0762846006 0706016019 0911870001 0898694002 0898713001 0935892001',\n",
       " '0910601003 0863646004 0924243001 0918522001 0909370001 0915529005 0693243006 0863583001 0637515002 0735779002',\n",
       " '0916468003 0893133001 0599580022 0599580072 0909912001 0911870004 0918522001 0908799002 0758034001 0801592003',\n",
       " '0673677002 0751471043 0158340001 0903926001 0911870004 0918522001 0929744001 0916468003 0898713001 0894780001',\n",
       " '0685814001 0926502001 0573085028 0610776002 0905957007 0806388002 0898692003 0893059005 0909911001 0909371001',\n",
       " '0893059005 0893133001 0863595006 0926502001 0909370001 0456163086 0863595004 0910601001 0872537001 0933989001',\n",
       " '0884319003 0914805002 0896169005 0929744001 0851545001 0898694001 0850917001 0832307007 0905957007 0581831016',\n",
       " '0929165002 0867969003 0907527001 0918292004 0456163086 0372860002 0923758001 0926502001 0894668003 0935892001',\n",
       " '0923037001 0809238001 0758034001 0924243001 0936622001 0751593002 0915526002 0893059004 0903926001 0885951001',\n",
       " '0924243002 0751471001 0714790020 0610776002 0803757001 0896152002 0456163086 0767423001 0898692003 0158340001',\n",
       " '0915529003 0448509014 0867969003 0806388002 0456163060 0610776002 0914805002 0872537001 0910601003 0898692003',\n",
       " '0910601002 0896152002 0907527001 0911870001 0898713001 0796210001 0865799005 0706016001 0706016062 0926502001',\n",
       " '0896152003 0751471001 0863595006 0863646001 0856840001 0905957007 0911870003 0898694001 0706016001 0681114011',\n",
       " '0884319005 0918836001 0893133001 0894780001 0761406001 0918292001 0832307007 0904625001 0915529005 0608769009',\n",
       " '0929165002 0706016003 0884319003 0905957007 0610776002 0372860002 0911870004 0910601002 0923037001 0936622001',\n",
       " '0878190005 0903926001 0685814001 0714790020 0850917001 0910601002 0910601003 0923037001 0885951001 0762846027',\n",
       " '0918522001 0923758001 0896152003 0903926001 0867969003 0762846006 0715624001 0898694002 0610776002 0885951001',\n",
       " '0564358005 0863583002 0564358045 0564358046 0911870003 0564358003 0836705001 0936622001 0778305001 0783707164',\n",
       " '0918522001 0894780001 0916468001 0911870001 0863583002 0906352001 0896169005 0933032002 0608007012 0909911001',\n",
       " '0863583001 0762846031 0924243002 0706016002 0873279003 0706016062 0751471038 0919273002 0884319003 0898692003',\n",
       " '0903926001 0783346001 0762846031 0706016001 0924243002 0911870003 0908799002 0881942001 0871710001 0916468001',\n",
       " '0706016001 0905957007 0827968001 0919273002 0911870004 0933032002 0878190005 0908799002 0916468001 0916468003',\n",
       " '0915526001 0910601003 0912204001 0893141002 0573085028 0852584001 0158340001 0809238001 0894780001 0904625001',\n",
       " '0751471043 0827968001 0935892001 0863595006 0758034001 0673677002 0926502001 0918522001 0911870003 0916468003',\n",
       " '0918292004 0863595006 0714790020 0926502001 0878190005 0896152001 0911870003 0893141002 0678942001 0751471038',\n",
       " '0924243001 0865799006 0706016001 0910601001 0751471031 0826498004 0751471027 0706016062 0905781001 0907527001',\n",
       " '0685814001 0863646001 0751471001 0448509014 0865929003 0918525001 0896169002 0919273002 0751471038 0552716001',\n",
       " '0893059005 0865929003 0904625001 0456163060 0889460003 0865929007 0885951001 0893133001 0911870001 0809238001',\n",
       " '0918522001 0715624001 0448509014 0929165002 0912204001 0906352001 0907527001 0552716001 0910601002 0923037001',\n",
       " '0896152002 0850917001 0909370001 0714790020 0730683050 0803757001 0573085028 0915529001 0915529005 0906352001',\n",
       " '0918292001 0893059005 0863595006 0865929003 0715624001 0909370001 0915526001 0881942001 0893141002 0832307007',\n",
       " '0918292001 0685814001 0865929003 0805947001 0767423013 0806388002 0915529005 0863583002 0935892001 0908799002',\n",
       " '0910601001 0579541001 0762846006 0715624001 0867969003 0907527001 0911870001 0873274002 0871710001 0894668003',\n",
       " '0863595006 0915529001 0158340001 0573085028 0809238005 0850917001 0910601002 0905957007 0730683050 0909371001',\n",
       " '0751471001 0751471043 0914805002 0894780001 0908799002 0863583001 0881942001 0915526002 0781613006 0809238005',\n",
       " '0158340001 0919273002 0924243002 0865929003 0893059004 0579541001 0706016019 0933032002 0719655001 0719450001',\n",
       " '0923758001 0915526001 0915526002 0867969003 0923037001 0896169002 0832307007 0805947001 0910601003 0909911001',\n",
       " '0893133001 0909370001 0717464001 0911870001 0911870003 0873279003 0933032002 0751471038 0884319003 0894780001',\n",
       " '0915526001 0926502001 0715624001 0865929003 0158340001 0878190005 0579541001 0751471038 0893059005 0761406001',\n",
       " '0909370001 0751471001 0809238001 0874754002 0610776002 0933706001 0907527001 0933032002 0893059004 0916468003',\n",
       " '0924243001 0896152001 0903926001 0867969003 0448509014 0706016019 0850917003 0803757001 0805947001 0907188001',\n",
       " '0918522001 0852584001 0896152002 0867969003 0874754002 0762846026 0904625001 0896152003 0911870004 0158340001',\n",
       " '0751471001 0910601003 0912204001 0933706001 0456163060 0898713001 0909911001 0915529001 0863583002 0758034001',\n",
       " '0863595006 0762846031 0929165002 0673677002 0912204001 0893141002 0893059004 0909912001 0929744001 0909371001',\n",
       " '0852584001 0905957001 0916468003 0850917001 0706016001 0610776002 0903926001 0872537001 0894668003 0935892001',\n",
       " '0918292004 0926502001 0715624001 0898713001 0867969003 0372860001 0933032002 0884319005 0905957007 0907527001',\n",
       " '0918522001 0867969003 0456163060 0706016001 0915526002 0881942001 0909371001 0758034001 0894668003 0884319005',\n",
       " '0706016001 0685814003 0915529003 0715624001 0918522001 0767423013 0673677002 0806388002 0898694002 0863595004',\n",
       " '0865799006 0706016003 0809238005 0719655001 0903926001 0911870003 0579541001 0610776002 0894668003 0910601003',\n",
       " '0866731001 0878190005 0809238005 0706016019 0827968001 0893133001 0884319003 0910601002 0730683050 0909911001',\n",
       " '0910601001 0867969003 0898694002 0907527001 0866731001 0918292001 0448509014 0916468001 0878190005 0809238005',\n",
       " '0935892001 0573085028 0915526001 0751471001 0871710001 0783346001 0898694001 0894668003 0762846031 0915529003',\n",
       " '0918525001 0673677002 0762846031 0896169005 0706016001 0919273002 0905957007 0906352001 0910601001 0809238005',\n",
       " '0903926001 0874754002 0894780001 0706016001 0919273002 0806131012 0866731001 0907527001 0372860001 0827968001',\n",
       " '0874754002 0852584001 0916468001 0573085028 0678942001 0610776002 0896152003 0797988002 0910601003 0933706001',\n",
       " '0762846026 0695632107 0685814001 0915529001 0903926001 0884319003 0770315014 0768912001 0752566001 0486639003',\n",
       " '0915529003 0915529001 0898694001 0894780001 0898713001 0929165002 0896169002 0212629035 0884319005 0764520001',\n",
       " '0924243001 0896152002 0456163086 0907527001 0706016002 0803757001 0881942001 0781613006 0796210001 0933032002',\n",
       " '0893059005 0762846006 0924243001 0873279003 0850917003 0711190002 0929165002 0918836001 0852584001 0803757001',\n",
       " '0918292001 0923758001 0905957007 0884319001 0715624001 0924243002 0908799002 0915526002 0898694002 0894668003',\n",
       " '0416961004 0706016028 0706016039 0893133001 0923758001 0894668003 0896169002 0579541001 0850917001 0751471038',\n",
       " '0918522001 0678942001 0806131012 0762846027 0910601002 0926502001 0889460003 0933706001 0910601001 0832307007',\n",
       " '0893059005 0903926001 0685814001 0762846031 0884319001 0926502001 0908799002 0803757001 0893133001 0933032002',\n",
       " '0673677002 0919273002 0865929007 0456163086 0906352001 0915526002 0910601001 0781613006 0761406001 0909912001',\n",
       " '0884319003 0885951001 0372860001 0918836001 0881942001 0918525001 0915529005 0893141002 0933032002 0871710001',\n",
       " '0924243002 0929165002 0762846026 0715624001 0456163060 0706016002 0936622001 0933032002 0894780001 0929744001',\n",
       " '0885951004 0871520001 0916468003 0918522001 0926502001 0896169005 0924243002 0907527001 0873678010 0832307007',\n",
       " '0228257004 0918292001 0892313001 0909093003 0904625001 0878190005 0903049004 0914441005 0706016003 0933706001',\n",
       " '0918292001 0915529001 0893141002 0914441004 0715624001 0685814003 0924243002 0783346001 0894668003 0936622001',\n",
       " '0706016002 0677459005 0903735003 0675068001 0730683050 0893059005 0832307007 0744893002 0836115001 0744893004',\n",
       " '0865799006 0863583001 0685814001 0905957001 0706016001 0781613006 0918525001 0678942001 0863595004 0933706001',\n",
       " '0706016001 0866731001 0809238005 0610776002 0896169005 0893059005 0805947001 0706016003 0896152001 0717464001',\n",
       " '0918525001 0915529003 0884319003 0919273002 0896152003 0797710001 0768912001 0610776002 0372860002 0781613006',\n",
       " '0863595006 0915529003 0918525001 0919273002 0909911001 0909371001 0827968001 0911870001 0781613006 0685814003',\n",
       " '0898694001 0915529005 0912204001 0809238005 0678942001 0685814003 0832307007 0907527001 0909371001 0929744001',\n",
       " '0898713001 0706016001 0852584001 0805947001 0896152001 0579541001 0898692003 0885951001 0923758001 0893059005',\n",
       " '0714790020 0872537001 0865929003 0805947001 0762846006 0896152001 0783346001 0896169002 0935892001 0909912001',\n",
       " '0751471001 0929165002 0884319003 0850917001 0935892001 0914441004 0863583002 0706016002 0929744001 0916468003',\n",
       " '0918292001 0865799006 0863646001 0852584001 0914805002 0803757001 0911870003 0896169002 0809238001 0805947001',\n",
       " '0673677002 0896152002 0884319003 0908799002 0909911001 0905957001 0573085028 0933706001 0910601001 0809238001',\n",
       " '0896152002 0910601003 0884319001 0912204001 0456163060 0850917003 0921906003 0372860002 0911870004 0805947001',\n",
       " '0918525001 0706016001 0885951001 0803757001 0809238001 0706016003 0911870003 0910601003 0933989001 0923037001',\n",
       " '0863646001 0685814003 0884319005 0762846031 0904625001 0909370001 0706016019 0832307007 0933032002 0894668003',\n",
       " '0878190005 0914805002 0758034001 0863583002 0873279003 0715624001 0783346001 0911870003 0898694002 0863595004',\n",
       " '0783346001 0852584001 0889460003 0706016019 0910601002 0910601001 0896169002 0916468001 0916468003 0884319003',\n",
       " '0918292001 0905957001 0714790020 0929165002 0896152003 0706016003 0158340001 0783346001 0916468003 0805947001',\n",
       " '0865799006 0914805002 0893141002 0867969003 0850917001 0909370001 0809238001 0158340001 0896169002 0898713001',\n",
       " '0918525001 0783346001 0863595006 0762846031 0909370001 0866731001 0915529005 0881942001 0893133001 0898694001',\n",
       " '0918292004 0918525001 0685814001 0863583002 0827968001 0827968004 0372860002 0894668003 0929744001 0909371001',\n",
       " '0896152002 0835348001 0914805002 0863646001 0935689001 0456163060 0911870004 0706016062 0714790020 0706016002',\n",
       " '0918292001 0852584001 0905957001 0863583002 0863646001 0678942001 0873279003 0896169002 0805947001 0730683050',\n",
       " '0863646001 0916468003 0762846027 0896152003 0794575017 0893133001 0911870004 0885951001 0884319003 0751471043',\n",
       " '0918292004 0372860002 0915529003 0706016002 0809238005 0456163060 0758034001 0911870001 0767423001 0923758001',\n",
       " '0912204001 0915529003 0456163086 0751471038 0893059004 0781613006 0863595004 0894780001 0936622001 0909371001',\n",
       " '0762846027 0809238001 0896152003 0768912001 0896152001 0832307007 0884319003 0910601002 0909371001 0936622001',\n",
       " '0893133001 0905957001 0874754002 0914441004 0903926001 0372860002 0372860001 0910601002 0910601003 0893059004',\n",
       " '0923758001 0929165002 0685814001 0914805002 0827968004 0812668001 0706016062 0919273002 0884319003 0908799002',\n",
       " '0915526002 0678942001 0714790020 0921906003 0918525001 0873279003 0926502001 0158340001 0809238005 0809238001',\n",
       " '0866731001 0874754002 0914805002 0865929003 0898694002 0610776002 0809238005 0850917001 0832307007 0909911001',\n",
       " '0456163086 0898694002 0893141002 0933706001 0867969003 0912204001 0871710001 0781613006 0158340001 0706016001',\n",
       " '0918292001 0685814003 0803757001 0610776002 0905957007 0898694002 0910601002 0929744001 0909912001 0923037001',\n",
       " '0893059005 0730683050 0863595006 0866731001 0762846031 0926502001 0706016001 0911870003 0898694002 0910601002',\n",
       " '0915529005 0923758001 0896169005 0809238001 0852584001 0158340001 0933032002 0896152003 0758034001 0827955003',\n",
       " '0918525001 0905957001 0714790020 0673677002 0456163060 0456163086 0768912001 0878190005 0911870003 0898692003',\n",
       " '0685814001 0852584001 0896152003 0867969003 0762846026 0767423013 0832307007 0706016062 0910601003 0579541001',\n",
       " '0863595006 0751471001 0907188001 0907527001 0923758001 0910601001 0685816002 0909911001 0903049004 0776179001',\n",
       " '0602673012 0751471043 0916468003 0448509014 0911870003 0912204001 0685813021 0910601003 0602673025 0777280001',\n",
       " '0863595006 0885951001 0892309001 0924243001 0915529001 0896152001 0893059004 0809238001 0706016006 0850917001',\n",
       " '0865799006 0863583002 0866731001 0863646001 0914805002 0827968001 0579541001 0896152001 0918522001 0781613006',\n",
       " '0910601001 0915529003 0896152002 0896152003 0929165002 0762846031 0867969003 0918292001 0866731001 0805947001',\n",
       " '0685814003 0911870004 0896152001 0885951001 0933032002 0907527001 0751471043 0832307007 0908799002 0936622001',\n",
       " '0762846006 0863595006 0685814053 0910601003 0809238005 0914805002 0573085028 0915529005 0768912001 0714790020',\n",
       " '0863595004 0903926001 0914441004 0884319005 0904625001 0905957007 0898713001 0878190005 0871710001 0372860002',\n",
       " '0685814003 0866731001 0673677002 0827968001 0915529001 0911870001 0456163086 0916468002 0706016062 0806388002',\n",
       " '0572998009 0805947001 0572998016 0898692003 0706016001 0907527001 0896152001 0751471038 0832307007 0909371001',\n",
       " '0936622001 0918525001 0915529001 0714790020 0929165002 0905957007 0933032002 0158340001 0850917001 0884319003',\n",
       " '0685814003 0850917001 0552716001 0933032002 0904625001 0915529001 0766346011 0158340001 0573716009 0806388002',\n",
       " '0916468001 0706016001 0911870004 0906352001 0881942001 0910601001 0904625001 0767423011 0610776002 0935892001',\n",
       " '0909370001 0448509014 0915526002 0873279003 0894780001 0863646001 0911870001 0904625001 0730683050 0910601001',\n",
       " '0456163086 0898694001 0850917001 0881942001 0915529001 0767423001 0884319005 0898694002 0751471038 0908799002',\n",
       " '0918292001 0914441004 0878190005 0896152003 0896152001 0885951001 0372860001 0456163086 0905957007 0552716001',\n",
       " '0865799006 0372860002 0715624001 0706016003 0706016002 0896169002 0910601002 0929744001 0908799002 0936622001',\n",
       " '0918525001 0762846027 0706016001 0762846006 0805947001 0809238001 0933706001 0706016002 0911870003 0923037001',\n",
       " '0910601003 0884319001 0850917001 0909912001 0863583002 0873274002 0850917003 0706016019 0781613006 0761406001',\n",
       " '0456163086 0914805002 0865929003 0918525001 0685814003 0936622001 0911870004 0761406001 0758034001 0923037001',\n",
       " '0914805002 0865929003 0867969003 0896152003 0456163060 0911870003 0908799002 0878190005 0915526002 0894668003',\n",
       " '0871710001 0924243001 0916468003 0915529001 0809238005 0884319001 0706016062 0827968001 0598859001 0751471038',\n",
       " '0893059005 0915529003 0715624001 0866731001 0610776002 0915529005 0863583002 0933706001 0898694002 0909912001',\n",
       " '0579541001 0910601003 0867969003 0865799005 0863583001 0850917003 0911870001 0918292004 0918836001 0894780001',\n",
       " '0915526001 0905957001 0852584001 0915529003 0915529005 0573085028 0906352001 0911870003 0910601003 0936622001',\n",
       " '0924243002 0896152001 0867969003 0706016003 0762846026 0911870003 0852584001 0781613006 0891591003 0918292004',\n",
       " '0783346001 0850917001 0874754002 0914805002 0929165002 0678942001 0730683050 0912204001 0865799005 0881942001',\n",
       " '0863595006 0685814001 0915529001 0884319001 0908799002 0762846026 0806131012 0706016002 0781613006 0894668003',\n",
       " '0762846031 0730683050 0898694002 0456163086 0916468003 0758034001 0372860001 0909912001 0894668003 0909911001',\n",
       " '0914441004 0929165002 0867969003 0573085028 0896152002 0903926001 0748355003 0456163086 0805947001 0929744001',\n",
       " '0874754002 0863646001 0909370001 0894780001 0573085028 0911870004 0783346001 0904625001 0910601002 0898692003',\n",
       " '0156231001 0924243002 0915529003 0762846026 0706016019 0893141002 0758034001 0783346001 0894668003 0923758001',\n",
       " '0918292001 0896169005 0919273002 0717464001 0678942001 0719655001 0863595004 0916468001 0805947001 0758034001',\n",
       " '0865929003 0573085028 0685814003 0832307007 0762846006 0894668003 0884319005 0910601002 0909370001 0762846031',\n",
       " '0915526001 0685814001 0911870001 0909370001 0896152003 0706016002 0685814003 0751471038 0909911001 0909371001',\n",
       " '0579541001 0762846027 0850917001 0762846006 0867969003 0885951001 0372860001 0911870001 0916468001 0894668003',\n",
       " '0372860002 0915526001 0918292004 0827968001 0915529001 0797988002 0832307007 0751471043 0910601003 0929744001',\n",
       " '0914805002 0915526001 0863595004 0372860001 0863583002 0896152003 0893141002 0926502001 0372860002 0885951001',\n",
       " '0678942001 0842302001 0865929003 0637515010 0923758001 0870970002 0573085028 0894668003 0870548003 0824878002',\n",
       " '0914441004 0924243001 0918522001 0871710001 0762846027 0873279003 0158340001 0884319003 0935892001 0767799017',\n",
       " '0456163086 0923758001 0893059005 0579541001 0863583001 0573085028 0873279003 0896169002 0933032002 0863595004',\n",
       " '0918522001 0751471001 0909912001 0918292004 0685814003 0915529005 0863595004 0894780001 0809238001 0706016062',\n",
       " '0372860002 0685814001 0918522001 0610776002 0915526001 0893133001 0884319001 0896169002 0872537001 0936622001',\n",
       " '0918522001 0923758001 0751471001 0673677002 0916468003 0872537001 0158340001 0809238001 0906352001 0805947001',\n",
       " '0893133001 0915529003 0762846026 0909370001 0579541001 0907527001 0783346001 0719655001 0871710001 0893059004',\n",
       " '0926502001 0916468001 0809238001 0911870001 0893133001 0706016062 0748355003 0923758001 0730683050 0909911001',\n",
       " '0896152002 0762846031 0909370001 0926502001 0456163086 0911870001 0929744001 0933032002 0894780001 0923037001',\n",
       " '0896169005 0762846027 0762846026 0706016002 0803757001 0768912001 0906352001 0873279003 0898692003 0893059005',\n",
       " '0872454002 0909370001 0929165002 0898694001 0863646001 0923037001 0573085028 0878190005 0910601001 0827968001',\n",
       " '0923758001 0863595006 0865929003 0915529003 0678942001 0910601003 0884319005 0929744001 0909371001 0809238005',\n",
       " '0809238005 0918292004 0903926001 0706016002 0863595004 0911870001 0896152001 0915526002 0933032002 0872537001',\n",
       " '0852584001 0751471043 0762846031 0898694001 0885951001 0896152003 0896169002 0884319005 0893059004 0929744001',\n",
       " '0863646001 0915526002 0706016001 0865929003 0706016019 0803757001 0372860001 0805947001 0898692003 0910601002',\n",
       " '0919273002 0716672003 0916468001 0898694002 0918522001 0751471001 0908799002 0628469001 0702890001 0594793002',\n",
       " '0896152001 0859743006 0673677002 0898713001 0873279003 0857812007 0919273002 0857812006 0652031001 0679394002',\n",
       " '0865799006 0874754002 0898713001 0448509014 0872537001 0706016002 0893141002 0805947001 0910601003 0893059004',\n",
       " '0866731001 0867969003 0809238005 0715624001 0865929003 0758034001 0610776002 0881942001 0911870001 0884319005',\n",
       " '0914805002 0762846006 0894780001 0903926001 0884319005 0579541001 0456163060 0768912001 0372860002 0673396001',\n",
       " '0827968001 0898692003 0809238005 0751471001 0885951001 0827968004 0678942001 0762846006 0935892001 0448509025',\n",
       " '0915526001 0918292001 0891898002 0872537001 0871710010 0773351001 0706016062 0898694002 0783346001 0751471038',\n",
       " '0891542003 0908799002 0896169005 0873279003 0915529003 0896169002 0852584001 0706016019 0832307007 0797418001',\n",
       " '0896169005 0852584001 0896152002 0714790020 0706016002 0905957007 0884319005 0871710001 0910601002 0909911001',\n",
       " '0852584001 0915529005 0863583002 0918525001 0898694002 0730683050 0933706001 0936622001 0742365001 0717647003',\n",
       " '0874754002 0706016001 0872537001 0767423011 0863595004 0805947001 0871710001 0907527001 0923758001 0909371001',\n",
       " '0852584001 0863583002 0905957007 0832307007 0926502001 0706016001 0809238005 0936622001 0719655001 0871710001',\n",
       " '0893059005 0903926001 0685814001 0909371001 0911870003 0881942001 0871710001 0915526002 0781613006 0935892001',\n",
       " '0874754002 0863646001 0912204001 0456163060 0905957007 0909911001 0896152001 0898694002 0809238001 0805947001',\n",
       " '0762846027 0706016001 0881942001 0896152001 0911870001 0929744001 0910601001 0894780001 0904625001 0909912001',\n",
       " '0751471043 0850917001 0884319001 0912204001 0909911001 0865929007 0768912001 0827968001 0906352001 0923037001',\n",
       " '0852584001 0894780001 0806388002 0767423013 0906352001 0885951001 0797988002 0907527001 0863595004 0884319005',\n",
       " '0751471001 0915529003 0915526001 0903926001 0874754002 0456163060 0863595004 0863583002 0850917003 0884319001',\n",
       " '0673677002 0783346001 0863595006 0914805002 0762846026 0912204001 0905957001 0906352001 0910601002 0909912001',\n",
       " '0803757001 0751471038 0673677002 0714790020 0695324015 0876225001 0766402035 0592743053 0804659004 0853612004',\n",
       " '0864415002 0735607005 0865799006 0761406001 0687704028 0863646001 0872537001 0768912001 0896169002 0821029007',\n",
       " '0924243001 0673677002 0898694001 0903926001 0918525001 0767423011 0797988002 0919273002 0923758001 0933706001',\n",
       " '0918292004 0911870001 0874754002 0673677002 0762846026 0915529005 0372860001 0933032002 0896169002 0761406001',\n",
       " '0865799006 0706016003 0706016002 0903926001 0911870001 0456163060 0915526002 0909911001 0908799002 0715624001',\n",
       " '0896152003 0673677002 0910601003 0874754002 0912204001 0573085028 0863583001 0884319005 0871710001 0923037001',\n",
       " '0783346001 0914805002 0850917001 0866731001 0706016019 0896152001 0863583001 0898713001 0158340001 0923037001',\n",
       " '0916468003 0762846026 0898713001 0924243002 0896152003 0906352001 0896152001 0706016062 0762846006 0871710001',\n",
       " '0448509014 0762846031 0768912001 0706016003 0719655001 0872537001 0761406001 0916468001 0781613006 0909912001',\n",
       " '0673677002 0905957001 0809238005 0918292004 0706016002 0706016019 0911870003 0884319005 0909911001 0706016062',\n",
       " '0896169002 0874754002 0658298001 0757971001 0881942001 0896152001 0910601002 0803757001 0715624001 0685816002',\n",
       " '0860797001 0916468001 0924243002 0914441004 0863646001 0915526002 0908799002 0610776002 0904625001 0708042024',\n",
       " '0896152002 0896169005 0893059005 0893141002 0762846006 0910601001 0915526002 0805947001 0799421004 0884319001',\n",
       " '0865799006 0905957007 0706016003 0896169002 0906352001 0803757001 0758034001 0871710001 0884319003 0909911001',\n",
       " '0678942001 0912204001 0889460003 0896152003 0866731001 0909371001 0909911001 0456163086 0781613006 0933032002',\n",
       " '0714790020 0809238001 0751471001 0809238005 0896152001 0893133001 0874754002 0456163086 0909911001 0556539018',\n",
       " '0919273002 0884319004 0863583001 0873279003 0863646001 0904625001 0929165002 0933706001 0923037001 0694298045',\n",
       " '0751471043 0923758001 0903926001 0896152001 0624486050 0624486081 0624486059 0624486092 0456163086 0781613006',\n",
       " '0783346001 0910278001 0873279003 0919273002 0762846027 0863646001 0915526001 0905957001 0905957007 0914441004',\n",
       " '0863595006 0673677002 0874754002 0762846031 0909370001 0762846006 0715624001 0706016019 0909912001 0904625001',\n",
       " '0909294001 0918525001 0865799006 0751471043 0914441004 0872537001 0908799002 0678942001 0909911001 0758034001',\n",
       " '0898713001 0762846031 0915529001 0911870001 0898694002 0758034001 0935892001 0909912001 0909911001 0552716001',\n",
       " '0751471043 0706016003 0929165002 0909370001 0919273002 0908799002 0827968001 0906352001 0781613006 0805947001',\n",
       " '0915526001 0863583002 0706016002 0912204001 0906352001 0923037001 0871710001 0805947001 0730683050 0909911001',\n",
       " '0923758001 0929165002 0896152002 0751471043 0448509014 0914805002 0885951001 0894780001 0903926001 0783346001',\n",
       " '0802871009 0915526001 0863646001 0863595006 0904625001 0910601003 0803757002 0907527001 0751471043 0885951001',\n",
       " '0863583001 0915526002 0878190005 0805947001 0896169002 0867969003 0762846006 0905957007 0850917001 0909912001',\n",
       " '0730683050 0372860002 0898692003 0850917001 0873279003 0915526002 0871710001 0903926001 0910601003 0935892001',\n",
       " '0893059004 0805947001 0910601001 0938208001 0863595006 0751471043 0762846026 0931800004 0708246001 0816928003',\n",
       " '0924243002 0929165002 0827968001 0768912001 0873279003 0884319001 0910601003 0929744001 0909371001 0908799002',\n",
       " '0673677002 0933706001 0910601001 0884319001 0894668003 0816481001 0881942001 0706016003 0711584002 0719655001',\n",
       " '0918522001 0863595006 0916468003 0915526002 0914441004 0762846027 0827968001 0767423011 0905957007 0923758001',\n",
       " '0924243001 0863646001 0863583002 0911870001 0863595006 0762846031 0881942001 0872537001 0783346001 0909911001',\n",
       " '0924243001 0863583002 0905957001 0915529005 0885951001 0896152001 0898692003 0910601003 0907527001 0908799002',\n",
       " '0852584001 0910601003 0863595004 0884319001 0884319003 0929165002 0806131012 0456163060 0907527001 0916468003',\n",
       " '0865799006 0863646001 0547780002 0547780040 0910601001 0898694002 0706016062 0768912001 0884319003 0933032002',\n",
       " '0842000008 0924243002 0706016001 0842000001 0805947001 0859805001 0806388010 0573085028 0856060001 0561552023',\n",
       " '0874754002 0916468003 0850917001 0762846031 0926502001 0903926001 0914805002 0797988002 0806388002 0794575017',\n",
       " '0762846027 0803757001 0865929007 0706016002 0372860002 0915526002 0911870001 0906352001 0158340001 0805947001',\n",
       " '0893059005 0706016003 0706016001 0918292004 0905957007 0908799002 0889460003 0781613006 0871710001 0909912001',\n",
       " '0706016001 0914441004 0924243001 0915529001 0911870001 0929165002 0898692003 0797988002 0935892001 0156231001',\n",
       " '0918522001 0730683050 0678942001 0706016003 0910601001 0915526001 0896152001 0881942001 0878190005 0372860001',\n",
       " '0906169002 0456163060 0706016002 0920610001 0894668003 0372860002 0910601002 0903926001 0573085028 0929744001',\n",
       " '0874754002 0926502001 0863646001 0762846026 0158340001 0872537001 0896152003 0762846006 0919273002 0884319001',\n",
       " '0934296001 0850917001 0916468001 0903926001 0878190005 0711053027 0717490005 0803468002 0719655001 0819927001',\n",
       " '0874754002 0914441004 0914805002 0865799005 0933706001 0936622001 0898713001 0852584001 0891591003 0894668003',\n",
       " '0924243001 0929165002 0896152002 0915526002 0448509014 0878190005 0809238001 0914441004 0884319005 0919273002',\n",
       " '0918292004 0863583001 0924243001 0926502001 0706016002 0758034001 0911870004 0456163086 0783346001 0898692003',\n",
       " '0751471043 0865929003 0850917001 0762846006 0717464001 0911870003 0915526001 0158340001 0758034001 0894780001',\n",
       " '0924243002 0673677002 0865929003 0827968001 0372860001 0678942001 0863583002 0579541001 0929744001 0936622001',\n",
       " '0896169005 0918522001 0706016003 0865929003 0748355003 0767423001 0896169002 0884319005 0898692003 0929744001',\n",
       " '0918292004 0905957001 0863595006 0751471043 0898694001 0865929003 0906352001 0911870004 0923037001 0936622001',\n",
       " '0918525001 0915529003 0926502001 0706016001 0573085028 0873279003 0908799002 0898694002 0781613006 0918292004',\n",
       " '0910601002 0863595006 0896152003 0850917001 0863595004 0911870003 0893133001 0871710001 0761406001 0904625001',\n",
       " '0872537001 0926502001 0898692003 0904625001 0573085028 0832311003 0881942001 0762846006 0935092001 0685814003',\n",
       " '0673677002 0850917001 0456163060 0706016019 0893133001 0909912001 0909911001 0803757001 0911870001 0894668003',\n",
       " '0863595006 0874754002 0912204001 0866731001 0706016002 0898694001 0896169002 0906352001 0878190005 0706016003',\n",
       " '0867969003 0832307007 0809238005 0865929003 0372860001 0610776002 0918522001 0910601002 0894668003 0933989001',\n",
       " '0918292004 0865799006 0852584001 0915529001 0158340001 0809238005 0912204001 0894668003 0884319003 0907527001',\n",
       " '0924243002 0809238001 0456163060 0918525001 0896152002 0872537001 0456163086 0832307007 0783346001 0910601003',\n",
       " '0924243001 0884319003 0896169005 0870052003 0751471043 0884319005 0933706001 0908799002 0805947001 0751257001',\n",
       " '0893059005 0905957001 0893133001 0906352001 0832307007 0781613006 0878190005 0805947001 0904625001 0706016001',\n",
       " '0909371001 0892093001 0884319005 0916468003 0610776028 0610776018 0610776017 0909912001 0569999006 0752820001',\n",
       " '0918522001 0924243002 0896152002 0715624001 0918292001 0918292004 0856840001 0921906003 0919273002 0894668003',\n",
       " '0863646001 0762846026 0881942001 0924243002 0758034001 0906352001 0850917001 0910601001 0936622001 0935892001',\n",
       " '0762846027 0924243002 0706016002 0933706001 0372860002 0918292004 0916468003 0884319005 0936622001 0898713001',\n",
       " '0924243002 0924243001 0751471043 0678942001 0933706001 0715624001 0905957007 0768912001 0884319005 0863583001',\n",
       " '0865799006 0924243001 0896169002 0751471038 0915526002 0456163086 0850917003 0768912001 0805947001 0685814003',\n",
       " '0714790020 0762846027 0915529005 0898694002 0908799002 0881942001 0768912001 0885951001 0685814001 0894668003',\n",
       " '0863646001 0893141002 0915529005 0915529001 0794575017 0751471038 0910601003 0893059004 0909371001 0908799002',\n",
       " '0730683050 0714790020 0907527001 0706016019 0827968001 0916468001 0915529005 0781613006 0761406001 0706016062',\n",
       " '0751471038 0685814001 0903926001 0884319005 0884319003 0909370001 0907527001 0456163086 0805947001 0809238001',\n",
       " '0924243001 0903926001 0673677002 0863595006 0685814001 0762846027 0850917001 0904625001 0916468003 0898713001',\n",
       " '0685813002 0871710001 0918292001 0909370001 0915526002 0706016001 0896152003 0768912001 0898694002 0701760008',\n",
       " '0918522001 0893059004 0715624001 0884319001 0894780001 0909370001 0905957001 0896152001 0758034001 0372860001',\n",
       " '0874754002 0916468003 0706016003 0898694001 0767423013 0885951001 0797988002 0896169002 0910601002 0923037001',\n",
       " '0918292001 0865799006 0906352001 0762846026 0924243002 0884319001 0678942005 0896152003 0812668001 0768912001',\n",
       " '0448509014 0894668003 0912204001 0573085028 0372860001 0923037001 0898713001 0906352001 0896152003 0660618003',\n",
       " '0896152003 0903926001 0884319001 0921906003 0852584001 0796210001 0456163060 0908799002 0372860002 0918292004',\n",
       " '0893059004 0929165002 0918292001 0852584001 0936622001 0935892001 0856840001 0685814003 0863595004 0893133001',\n",
       " '0751471038 0929744001 0372860001 0863583002 0919273002 0863595004 0878190005 0933032002 0762846026 0935689001',\n",
       " '0906352001 0884319001 0762846026 0893059004 0908799002 0911870001 0904625001 0909371001 0918292001 0852584001',\n",
       " '0914805002 0685814001 0803757001 0885951001 0748355003 0919273002 0158340001 0898694001 0909370001 0706016003',\n",
       " '0924243002 0896169005 0896169002 0751471043 0915529003 0579541001 0918292001 0906352001 0809238001 0904625001',\n",
       " '0863595004 0678942001 0914805002 0909370001 0706016001 0372860001 0929744001 0910601001 0761406001 0809238005',\n",
       " '0918525001 0896152002 0827968001 0762846006 0809238001 0579541001 0372860002 0685814001 0783346001 0706016062',\n",
       " '0905507001 0762856007 0910601003 0893141002 0881362002 0863583002 0896169005 0158340001 0719523001 0872215003',\n",
       " '0884319001 0762846031 0884319005 0896152002 0673677002 0893133001 0911870004 0898713001 0933032002 0894668003',\n",
       " '0924243002 0783346001 0896152001 0762846027 0456163060 0852584001 0730683050 0832307007 0781613006 0805947001',\n",
       " '0865799006 0762846026 0878190005 0885951001 0838055002 0599580014 0684209025 0351484002 0599580076 0599580038',\n",
       " '0865929003 0806131012 0918292004 0905957001 0768912001 0911870003 0881942001 0923758001 0893141002 0935892001',\n",
       " '0905957001 0866731001 0898694001 0898694002 0923037001 0911870003 0905957007 0805947001 0919273002 0935892001',\n",
       " '0910601002 0896169002 0762846027 0762846006 0456163086 0905957001 0856840001 0768912001 0933032002 0926502001',\n",
       " '0865799006 0929165002 0863595006 0863583002 0714790020 0762846031 0898694001 0850917001 0832307007 0910601003',\n",
       " '0916468001 0914441004 0715624001 0767423013 0706016019 0915529001 0906352001 0781613006 0767423001 0909911001',\n",
       " '0924243002 0685814003 0914441004 0706016001 0767423013 0610776002 0914805002 0915529001 0372860001 0751471038',\n",
       " '0863595006 0910601003 0898694001 0715624001 0909912001 0456163086 0905957001 0873274002 0873279003 0863583001',\n",
       " '0926502001 0866731001 0915529003 0915526002 0898694002 0832307007 0894668003 0884319005 0898692003 0910601002',\n",
       " '0918522001 0865799006 0898694002 0809238001 0610776002 0803757001 0893141002 0706016062 0898692003 0893059005',\n",
       " '0918525001 0579541001 0896152002 0806131012 0905957001 0915526002 0906352001 0898694001 0872537001 0871710001',\n",
       " '0745256003 0904625001 0805947001 0915529005 0762846031 0919273002 0783707038 0686923001 0783707111 0783707019',\n",
       " '0863595006 0715624001 0762846027 0919273002 0803757001 0372860001 0916468001 0896152001 0898713001 0158340001',\n",
       " '0916468003 0762846031 0898694002 0706016001 0924243002 0812668001 0894668003 0871710001 0910601003 0909912001',\n",
       " '0622955006 0673677002 0863595006 0706016002 0871710001 0893059005 0832307007 0762846031 0156231001 0908799002',\n",
       " '0918522001 0811835001 0909370001 0806131012 0714790001 0881942001 0768912001 0573085028 0896152003 0696545002',\n",
       " '0456163086 0762846031 0673677002 0919273002 0924243002 0678942001 0893133001 0706016019 0456163060 0918292004',\n",
       " '0915526001 0863583002 0898713001 0867969003 0781613006 0751471038 0905957007 0884319003 0910601003 0935892001',\n",
       " '0783346001 0685814003 0929165002 0715624001 0762846031 0915529005 0909911001 0915526001 0873279003 0878190005',\n",
       " '0884319001 0850917001 0898694001 0907527001 0852584001 0730683050 0909371001 0856840001 0881942001 0809238005',\n",
       " '0783346001 0911870003 0884319005 0898694002 0908799002 0456163086 0827968001 0907527001 0872537001 0706016001',\n",
       " '0909371001 0898889002 0893059004 0579541001 0911870001 0536139007 0915529005 0649357001 0910601002 0863583002',\n",
       " '0865799006 0910601001 0678942001 0914805002 0865929003 0456163060 0706016002 0827968001 0893133001 0863583002',\n",
       " '0547780006 0768931019 0806131012 0547780028 0789407004 0873279003 0805947001 0715624001 0787060001 0456163086',\n",
       " '0918522001 0881942001 0767423013 0762846026 0918525001 0911870004 0678942001 0871710001 0884319005 0923758001',\n",
       " '0896152002 0809238001 0158340001 0935892001 0717464001 0896169002 0916468001 0781613006 0923037001 0706016062',\n",
       " '0852584001 0809238005 0456163060 0706016062 0884319001 0910601002 0893059005 0923037001 0909371001 0908799002',\n",
       " '0924243001 0852584001 0898694002 0881942001 0919273002 0811925004 0678942001 0372860002 0687821001 0611415007',\n",
       " '0685814001 0909370001 0865929007 0898713001 0916468003 0758034001 0372860002 0918292004 0929744001 0936622001',\n",
       " '0863595006 0909370001 0456163086 0158340001 0456163060 0907527001 0706016019 0751471038 0910601003 0909912001',\n",
       " '0918522001 0874754002 0884319003 0762846031 0889460003 0827968001 0911870001 0896169002 0893141002 0893133001',\n",
       " '0924243002 0924243001 0893059004 0910601003 0678942001 0762846031 0909370001 0881942001 0158340001 0933032002',\n",
       " '0863595006 0893141002 0914441004 0456163086 0717464001 0933032002 0935892001 0898694001 0936622001 0885951001',\n",
       " '0918522001 0924243001 0678942001 0893059004 0706016019 0610776002 0573085028 0915526002 0878190005 0761406001',\n",
       " '0863646001 0863595006 0926502001 0878190005 0768912001 0872537001 0767423011 0896169002 0448509014 0730683050',\n",
       " '0915529003 0706016003 0762846031 0881942001 0767423013 0762846026 0827968001 0803757001 0797988002 0884319003',\n",
       " '0783346001 0896152002 0903926001 0762846031 0610776002 0907527001 0758034001 0781613006 0872537001 0809238001',\n",
       " '0896169005 0923758001 0915529003 0865929003 0878190005 0863583002 0372860001 0885951001 0918836001 0809238005',\n",
       " '0918292001 0685814001 0714790020 0924243002 0809238001 0878190005 0912204001 0933032002 0884319003 0730683050',\n",
       " '0915526002 0884319003 0866731001 0909371001 0856840001 0873274002 0915529001 0832307007 0158340001 0706016062',\n",
       " '0898694001 0898713001 0751471001 0748355003 0910601002 0911870004 0909911001 0894668003 0751471043 0699341003',\n",
       " '0832453003 0863583002 0898694002 0933032002 0768912001 0706016001 0673677002 0769748013 0910601001 0719655001',\n",
       " '0865799006 0924243002 0914805002 0762846027 0884319001 0909911001 0909912001 0873274002 0911870004 0796210001',\n",
       " '0715624001 0706016003 0881942001 0896152002 0767423001 0797988002 0894668003 0552716001 0156231001 0923037001',\n",
       " '0915526001 0924243001 0916468003 0448509014 0894780001 0865929003 0884319001 0884319005 0905957007 0929744001',\n",
       " '0915529001 0918292001 0873279003 0827968004 0906352001 0911870003 0885951001 0896152003 0893141002 0762846031',\n",
       " '0924243001 0896169002 0850917001 0706016002 0706016019 0873274002 0863583001 0827968001 0911870001 0809238005',\n",
       " '0923758001 0896169005 0929165002 0896152002 0915526002 0706016001 0803757001 0832307007 0909911001 0935892001',\n",
       " '0706016003 0714790020 0863595004 0865929007 0933706001 0896152003 0706016002 0878190005 0805947001 0909912001',\n",
       " '0677930003 0909370001 0893141002 0827968001 0874754002 0610776002 0448509014 0832307007 0372860001 0885951001',\n",
       " '0865799006 0896152003 0898694002 0912204001 0685814003 0873279003 0915529005 0885951001 0894780001 0805947001',\n",
       " '0896169005 0715624001 0921906003 0706016003 0372860002 0573085028 0915529001 0916468003 0898713001 0894780001',\n",
       " '0865799006 0610776002 0678942001 0372860002 0706016019 0850917001 0906352001 0768912001 0884319005 0907527001',\n",
       " '0893133001 0905957001 0915529005 0898713001 0865929003 0768912001 0893141002 0916468001 0685814003 0909911001',\n",
       " '0929165002 0896152003 0758034001 0918525001 0915529001 0896152001 0916468002 0751471043 0898692003 0156231001',\n",
       " '0706016002 0881942001 0898713001 0909370001 0767423013 0912204001 0915529001 0767423001 0678942001 0909911001',\n",
       " '0924243001 0866731001 0894780001 0809238001 0873279003 0914441004 0706016019 0919273002 0156231001 0935892001',\n",
       " '0863646001 0916468001 0715624001 0909370001 0794575017 0456163060 0915529001 0456163086 0748355003 0751471043',\n",
       " '0896169005 0906352001 0874754002 0863646001 0923758001 0929165002 0762846006 0579541001 0896169002 0872537001',\n",
       " '0909370001 0456163060 0896152001 0929165002 0678942001 0894668003 0910601001 0871710001 0909912001 0156231001',\n",
       " '0714790020 0918292001 0914441004 0456163086 0158340001 0893133001 0898694002 0885951001 0910601001 0936622001',\n",
       " '0896169002 0673677002 0912204001 0911870004 0878190005 0918292004 0809238001 0706016062 0904625001 0935689001',\n",
       " '0893059005 0751471001 0863583002 0768912001 0910601002 0706016003 0678942001 0873279003 0896169002 0916468001',\n",
       " '0896152002 0863595006 0762846006 0885951001 0456163060 0706016002 0896169002 0915526001 0894780001 0909912001',\n",
       " '0865594003 0894780001 0910601002 0878190005 0865594001 0811907007 0867969003 0610776002 0884319003 0751471038',\n",
       " '0893059005 0806131012 0894780001 0910601001 0910601002 0909371001 0908799002 0872537001 0158340001 0809238001',\n",
       " '0903926001 0893059005 0910601003 0573085028 0806131012 0889460003 0905957007 0911870004 0706016019 0481245003',\n",
       " '0929165002 0685814001 0863583002 0863646001 0909370001 0158340001 0872537001 0878190005 0372860002 0832307007',\n",
       " '0874754002 0926502001 0863646001 0911870001 0898694002 0706016001 0872537001 0914441004 0579541001 0910601001',\n",
       " '0863583001 0898694001 0906352001 0885951001 0767423011 0884319005 0806388002 0910601003 0898694002 0893059004',\n",
       " '0912204001 0863595006 0706016003 0863477001 0915526001 0903926001 0894668003 0914441004 0818754004 0456163086',\n",
       " '0852584001 0915529001 0898713001 0827968004 0768912001 0903926001 0706016062 0905957007 0730683050 0909912001',\n",
       " '0751471043 0869198003 0915529001 0865799006 0915526001 0892309001 0719655001 0894668003 0904625001 0872537001',\n",
       " '0905957001 0456163060 0827968001 0911870004 0915529001 0873279003 0372860001 0767423001 0916468002 0936622001',\n",
       " '0893059004 0915529003 0874754002 0678942001 0856840001 0918525001 0706016003 0850917003 0907527001 0706016019',\n",
       " '0751471043 0448509014 0805947001 0768912001 0158340001 0573085028 0893059004 0911870004 0918522001 0915529005',\n",
       " '0865799006 0673677002 0874754002 0884319001 0909370001 0904625001 0923758001 0905957001 0873279003 0872537001',\n",
       " '0896169005 0863595006 0916468003 0881942001 0896152003 0916468002 0863595004 0805947001 0898692003 0929744001',\n",
       " '0886241003 0898713001 0929165002 0905957007 0884319003 0751471043 0708682001 0869297003 0712230003 0796783008',\n",
       " '0714790020 0905957007 0850917001 0914805002 0809238001 0762846006 0907527001 0706016003 0898694002 0871710001',\n",
       " '0918292004 0751471001 0714790020 0915529003 0706016001 0911870003 0372860002 0884319001 0884319003 0910601002',\n",
       " '0751471038 0909370001 0914441004 0762846027 0865929003 0918525001 0866731001 0924243002 0894668003 0923037001',\n",
       " '0814631004 0781613006 0914805002 0905957007 0706016019 0911870001 0806388002 0814631007 0762846026 0767423011',\n",
       " '0896152002 0751471001 0852584001 0448509014 0850917001 0914441004 0884319005 0873279003 0898713001 0872537001',\n",
       " '0751471043 0905957007 0915529003 0924243002 0896169002 0910601001 0751471038 0456163060 0916468003 0372860002',\n",
       " '0863646001 0714790020 0881942001 0781613006 0762846026 0610776002 0768912001 0896152002 0579541001 0751471038',\n",
       " '0751471001 0909911001 0865929003 0874754002 0896152002 0715624001 0907527001 0896169002 0924243002 0936622001',\n",
       " '0910601001 0893059004 0896169002 0678942001 0610776002 0863583001 0685814001 0933032002 0894780001 0758034001',\n",
       " '0714790020 0935892001 0809238005 0896169005 0906352001 0769748013 0918522001 0881942001 0915526002 0717464001',\n",
       " '0909370001 0874754002 0903926001 0896152002 0919273002 0573085028 0806131012 0372860001 0915526002 0915529005',\n",
       " '0751471001 0762846027 0706016001 0896152003 0767423013 0573085028 0907527001 0923758001 0893059005 0929744001',\n",
       " '0918292001 0715624001 0914805002 0767423011 0912204001 0884319005 0783346001 0832307007 0923037001 0909371001',\n",
       " '0762846006 0568601007 0884319003 0762846008 0896152001 0865799006 0909911001 0568601012 0914441004 0863583002',\n",
       " '0918522001 0730683050 0685814003 0874754002 0448509014 0898694001 0878190005 0872537001 0894668003 0929744001',\n",
       " '0910601003 0915529001 0751471038 0896152002 0915526002 0912204001 0926502001 0905957007 0867969003 0158340001',\n",
       " '0923758001 0812668001 0762846006 0783346001 0893141002 0884319005 0910601001 0909911001 0893059005 0909371001',\n",
       " '0924243001 0893059005 0863595006 0910601003 0706016003 0803757001 0898694001 0827968001 0872537001 0885951001',\n",
       " '0915529001 0909370001 0914441004 0805947001 0717464001 0896169002 0884319003 0871710001 0904625001 0909911001',\n",
       " '0910601002 0863595006 0896152003 0579541001 0873274002 0803757001 0827968001 0768912001 0915529001 0885951001',\n",
       " '0448509014 0158340001 0905957007 0896169005 0706016001 0719655001 0914805002 0685814001 0884319005 0610776002',\n",
       " '0911870004 0456163060 0904625001 0751471001 0685814001 0809238001 0158340001 0834759001 0942187001 0682739002',\n",
       " '0924243001 0929165002 0874754002 0914805002 0448509014 0706016019 0809238001 0893141002 0911870004 0706016062',\n",
       " '0678942001 0863595006 0896152002 0852584001 0884319005 0762846031 0894780001 0806131012 0372860002 0372860001',\n",
       " '0924243001 0893059005 0783346001 0751471043 0762846027 0885951001 0905957001 0685814003 0863595004 0916468001',\n",
       " '0924243001 0673677002 0905957007 0898694001 0706016001 0881942001 0924243002 0751471038 0678942001 0706016062',\n",
       " '0918292001 0896169005 0865799006 0896152002 0916468003 0915529005 0881942001 0678942001 0894668003 0904625001',\n",
       " '0673677002 0714790020 0863595004 0914441004 0884319005 0919273002 0706016002 0906352001 0871710001 0706016062',\n",
       " '0894780001 0871710001 0706016019 0706016003 0715624001 0923037001 0933032002 0827968004 0874754002 0909371001',\n",
       " '0751471001 0554598003 0767862001 0884319005 0929165002 0894780001 0751471038 0865799006 0805947001 0916468003',\n",
       " '0909370001 0751471043 0863595006 0918522001 0915529001 0933032002 0910601003 0874754002 0544914005 0815791001',\n",
       " '0893059005 0863646001 0762846026 0918525001 0852584001 0893133001 0919273002 0916468001 0916468003 0685814003',\n",
       " '0918522001 0896169005 0910601001 0896152003 0762846006 0908799002 0918525001 0881942001 0781613006 0706016062',\n",
       " '0896169005 0915526001 0910601003 0918525001 0456163086 0863583001 0909371001 0907188001 0372860001 0809238001',\n",
       " '0673677002 0914805002 0929165002 0719655001 0706016002 0915529005 0911870003 0908799002 0911870001 0685814001',\n",
       " '0874754002 0905957001 0706016003 0781613006 0794575017 0748355003 0767423011 0907527001 0552716001 0908799002',\n",
       " '0898713001 0896169005 0809238005 0573085028 0372860001 0767423001 0910601002 0912204001 0935892001 0923037001',\n",
       " '0918292004 0863595006 0781613006 0896152001 0903926001 0896169002 0748355003 0751471043 0898694002 0912204001',\n",
       " '0918522001 0924243002 0673677002 0884319005 0872537001 0914441004 0573085028 0923037001 0794575017 0909912001',\n",
       " '0914541001 0927922003 0893059004 0872537001 0923037001 0918292001 0796210001 0158340001 0750623009 0681373007',\n",
       " '0865929003 0926502001 0809238001 0924243002 0907527001 0769748013 0915529005 0935892001 0936622001 0685814001',\n",
       " '0915526002 0762846031 0924243002 0706016002 0678942001 0911870004 0873279003 0781613006 0919273002 0884319001',\n",
       " '0751471001 0751471038 0673677002 0685814001 0762846027 0898694002 0911870001 0803757001 0805947001 0909370001',\n",
       " '0863583001 0751471001 0852584001 0893133001 0906352001 0903926001 0827968001 0905957007 0910601003 0762846027',\n",
       " '0730683050 0715343003 0841383002 0933032002 0924243002 0717874003 0914441004 0898713001 0876069003 0609185012',\n",
       " '0910601001 0905957007 0918292001 0909912001 0706016019 0885951001 0685814001 0832307007 0871710001 0935689001',\n",
       " '0863646001 0916468001 0898713001 0456163060 0706016019 0758034001 0885951001 0871710001 0884319003 0794575017',\n",
       " '0896152002 0915529001 0685814001 0865929007 0878190005 0758034001 0926502001 0706016001 0762846006 0884319005',\n",
       " '0924243002 0910601001 0896152001 0909370001 0715624001 0912204001 0873274002 0893133001 0865799005 0706016001',\n",
       " '0783346001 0685814001 0884319003 0909371001 0863646001 0903926001 0896169005 0706016002 0910601002 0809238001',\n",
       " '0893133001 0863583002 0914805002 0915529003 0874754002 0762846026 0865929003 0896152003 0893059004 0909911001',\n",
       " '0865799006 0896152001 0874754002 0714790020 0768912001 0916468001 0911870003 0881942001 0865799005 0809238005',\n",
       " '0924243002 0915526001 0909370001 0933706001 0714790020 0866731001 0915529001 0929744001 0871710001 0706016001',\n",
       " '0898694002 0909371001 0924243001 0884319005 0909370001 0915529003 0914441004 0911870004 0809238005 0803757001',\n",
       " '0865799006 0783346001 0915529001 0894780001 0714790020 0905957001 0827968001 0573085028 0863583001 0758034001',\n",
       " '0906352001 0852584001 0456163060 0896152003 0706016019 0717464001 0896152001 0908799002 0761406001 0923037001',\n",
       " '0918522001 0918292001 0929165002 0866731001 0911870001 0909370001 0872537001 0923037001 0919273002 0909371001',\n",
       " '0863595004 0372860002 0898713001 0910601001 0910601002 0911870001 0863583001 0893133001 0706016003 0803757001',\n",
       " '0896169005 0850917001 0762846027 0915529003 0867969003 0456163086 0933032002 0916468001 0907527001 0898713001',\n",
       " '0918292001 0893059005 0832307007 0898694001 0579541001 0719655001 0781613006 0872537001 0685814001 0929744001',\n",
       " '0914805002 0863583001 0915529005 0926502001 0898694001 0884319005 0929744001 0910601001 0907527001 0844660003',\n",
       " '0751471001 0908799002 0863583001 0936622001 0898713001 0905957001 0852584001 0918836001 0685814003 0706016062',\n",
       " '0762846027 0921906003 0893141002 0873279003 0610776002 0866731001 0758034001 0372860002 0706016062 0706016001',\n",
       " '0918522001 0896169002 0914805002 0936622001 0909912001 0909911001 0905957007 0372860001 0885951001 0809238001',\n",
       " '0751471001 0685814001 0874754002 0767423001 0896152002 0914805002 0898694002 0905957007 0863595004 0893059005',\n",
       " '0751471038 0730683050 0903926001 0706016003 0884319003 0926502001 0456163086 0915526002 0158340001 0929744001',\n",
       " '0863583001 0863646001 0762846031 0881942001 0911870001 0748355003 0678942001 0751471038 0898694002 0935892001',\n",
       " '0456163086 0909911001 0856840001 0768912001 0372860002 0610776002 0893133001 0911870001 0871710001 0809238005',\n",
       " '0918525001 0863646001 0685814003 0884319003 0762846027 0865929007 0894780001 0911870003 0706016062 0929744001',\n",
       " '0915526001 0863595006 0673677002 0762846031 0448509014 0911870003 0832307007 0805947001 0909371001 0935892001',\n",
       " '0918522001 0896152001 0678942001 0903926001 0914441004 0714790020 0850917003 0706016019 0685814001 0918525001',\n",
       " '0914805002 0885951001 0915529005 0903926001 0863595004 0884319005 0881942001 0805947001 0904625001 0893059004',\n",
       " '0456163086 0762846006 0874754002 0685814003 0873279003 0905957007 0919273002 0918525001 0867969003 0762846026',\n",
       " '0912204001 0874754002 0372860001 0719655001 0893059004 0827968001 0706016062 0903420001 0762846031 0916468003',\n",
       " '0867969003 0874754002 0863646001 0915529001 0885951001 0933032002 0863595004 0158340001 0898694001 0761406001',\n",
       " '0896169005 0762846006 0832307007 0905492001 0865929003 0751471001 0884319001 0909911001 0908799002 0706016002',\n",
       " '0924243001 0730683050 0919273002 0905957001 0372860001 0827968001 0896169002 0898713001 0832307007 0933032002',\n",
       " '0685813005 0805947001 0372860002 0673677002 0685813010 0685813024 0806388002 0685813027 0158340001 0898694002',\n",
       " '0893059005 0893059004 0884319005 0911870003 0573085028 0896152003 0885951001 0918292004 0933032002 0706016062',\n",
       " '0865799006 0905957007 0762846006 0768912001 0909371001 0936622001 0769748013 0758034001 0910601002 0898713001',\n",
       " '0893059005 0903926001 0762846031 0919273002 0865929007 0915526002 0915529005 0898694002 0910601002 0909912001',\n",
       " '0714790020 0909370001 0751471001 0914441004 0881942001 0898692003 0884319003 0907527001 0762846006 0751471043',\n",
       " '0865799006 0896169005 0863646001 0896152002 0898694001 0863595004 0926502001 0911870004 0891591003 0809238005',\n",
       " '0884920005 0850917001 0918292001 0852584001 0751471001 0456163060 0783346001 0784784002 0464454013 0684209027',\n",
       " '0751471038 0914805002 0923758001 0762846027 0914441004 0706016062 0918525001 0761406001 0695421029 0706016002',\n",
       " '0751471001 0762846026 0910601002 0456163060 0893059004 0915526002 0916468003 0872537001 0761406001 0923037001',\n",
       " '0929165002 0579541001 0762846031 0884319005 0762846027 0896169002 0758034001 0898694002 0158340001 0871710001',\n",
       " '0865799006 0685814003 0863646001 0850917001 0673677002 0898694001 0456163060 0751471043 0158340001 0908799002',\n",
       " '0783346001 0893059004 0884319001 0762846006 0911870003 0796210001 0893133001 0871710001 0911870001 0894780001',\n",
       " '0751471038 0898694001 0933706001 0898694002 0935892001 0706016002 0768912001 0685814003 0158340001 0894780001',\n",
       " '0874754002 0158340001 0867969003 0768912001 0685814003 0896169002 0907527001 0884319003 0761406001 0910601002',\n",
       " '0751471038 0865929003 0762846027 0929165002 0905957007 0907527001 0706016019 0911870004 0878190005 0871710001',\n",
       " '0918292001 0448509014 0865799006 0924243001 0751471043 0909371001 0865929007 0863583001 0832307007 0871710001',\n",
       " '0884319005 0904625001 0933706001 0907527001 0909371001 0706016002 0893141002 0758034001 0809238001 0923037001',\n",
       " '0924243002 0783346001 0915529003 0850917001 0918292004 0730683050 0918836001 0685814001 0915529005 0915529001',\n",
       " '0905957001 0914441004 0924243001 0781613006 0809238005 0809238001 0762846006 0904625001 0898692003 0871710001',\n",
       " '0852584001 0579541001 0863595004 0915529001 0448509014 0762846006 0909370001 0573085028 0893133001 0909912001',\n",
       " '0893059005 0865929003 0673677002 0893059004 0904625001 0806131012 0372860001 0863583002 0916468003 0936622001',\n",
       " '0751471001 0896152002 0929165002 0456163060 0881942001 0916468003 0933706001 0158340001 0805947001 0761406001',\n",
       " '0893059004 0915526002 0865929003 0867969003 0706016003 0863595004 0909912001 0610776002 0905957007 0935689001',\n",
       " '0706016001 0866731001 0896169005 0914805002 0916468003 0372860002 0579541001 0812668001 0884319005 0893059004',\n",
       " '0929165002 0762846026 0714790020 0918292004 0885951001 0873279003 0906352001 0898694002 0910601002 0809238001',\n",
       " '0905957001 0762846031 0926502001 0898694001 0894780001 0878190005 0872537001 0767423001 0907527001 0761406001',\n",
       " '0751471001 0865799006 0898713001 0448509014 0894780001 0573085028 0871710001 0884319001 0768912001 0909911001',\n",
       " '0918292001 0893059005 0863583001 0866731001 0905957007 0762846031 0809238001 0456163060 0915526001 0908799002',\n",
       " '0912204001 0865799006 0751471001 0762846031 0850917001 0717464001 0706016019 0803757001 0909912001 0894780001',\n",
       " '0918292001 0685814003 0903926001 0919273002 0907527001 0866731001 0372860002 0911870001 0781613006 0898713001',\n",
       " '0918522001 0863583001 0673677002 0912204001 0872537001 0797988002 0751471043 0923758001 0929744001 0909912001',\n",
       " '0918522001 0863583001 0915526001 0751471001 0767423013 0896152001 0863583002 0552716001 0929744001 0908799002',\n",
       " '0896169005 0448509014 0730683050 0852584001 0909371001 0158340001 0863595004 0916468001 0907527001 0916468003',\n",
       " '0915526001 0863583002 0905957001 0881942001 0898694002 0573085028 0706016062 0832307007 0884319003 0905957007',\n",
       " '0910601002 0896169005 0579541001 0714790020 0921906003 0762846006 0873274002 0919273002 0909371001 0918292004',\n",
       " '0909371001 0610776002 0852584001 0678942001 0863583002 0715624001 0911870001 0769748013 0706016062 0909911001',\n",
       " '0852584001 0706016003 0914441004 0456163060 0896152001 0893133001 0916468002 0805947001 0884319003 0909911001',\n",
       " '0852584001 0706016003 0865929003 0706016019 0893141002 0812668001 0751471038 0907527001 0910601001 0936622001',\n",
       " '0924243002 0852584001 0863646001 0909370001 0781613006 0893141002 0867969003 0871710001 0898692003 0910601003',\n",
       " '0896152001 0878190005 0911870004 0762846006 0803757001 0759871018 0685814003 0916468003 0758034001 0936622001',\n",
       " '0874754002 0863583001 0916468001 0762846027 0911870003 0903926001 0919273002 0893059005 0912204001 0552716001',\n",
       " '0929165002 0685814001 0904625001 0894780001 0912204001 0896152003 0706016002 0915529005 0893133001 0758034001',\n",
       " '0905957001 0915529001 0918292004 0865929003 0678942001 0884319005 0884319003 0448509014 0885951001 0933706001',\n",
       " '0915526002 0850917001 0867969003 0896152002 0914805002 0915529005 0863583002 0678942001 0552716001 0923758001',\n",
       " '0554598001 0923758001 0915526002 0894780001 0448509014 0554598038 0372860001 0554598010 0827968016 0768912001',\n",
       " '0866731001 0914805002 0910601002 0678942001 0456163060 0863595004 0873279003 0781613006 0372860002 0904625001',\n",
       " '0916468001 0909370001 0896152003 0893133001 0915529001 0933032002 0905957007 0552716001 0156231001 0158340001',\n",
       " '0759871005 0915526001 0685814003 0866731001 0852584001 0767423011 0933032002 0896152001 0762846006 0936622001',\n",
       " '0751471043 0448509014 0158340001 0898694002 0715624001 0915526002 0874754002 0706016019 0936622001 0909371001',\n",
       " '0865799006 0884319003 0893059004 0874754002 0896169005 0863646001 0865929007 0918292004 0872537001 0761406001',\n",
       " '0751471001 0863646001 0579541001 0685814003 0889460003 0896152001 0894668003 0850917001 0908799002 0909911001',\n",
       " '0893059004 0893059005 0884319005 0915529001 0865929003 0803757001 0715624001 0866731001 0910601002 0781613006',\n",
       " '0865799006 0905957007 0714790020 0915529001 0919273002 0685814001 0893059004 0916468001 0783346001 0933032002',\n",
       " '0874754002 0730683050 0706016001 0907527001 0903926001 0685814001 0719655001 0910601003 0751471038 0933032002',\n",
       " '0863583001 0915526002 0809238001 0867969003 0863583002 0678942001 0806388002 0751471038 0910601002 0898694002',\n",
       " '0865799006 0910601001 0896152003 0914805002 0884319003 0935892001 0909912001 0827968001 0863583001 0761406001',\n",
       " '0896169005 0918525001 0893141002 0896152003 0717464001 0573085028 0685814003 0911870004 0768912001 0762846027',\n",
       " '0893133001 0896152002 0915526002 0916468003 0872537001 0893141002 0812668001 0781613006 0893059004 0909912001',\n",
       " '0912204001 0751471043 0852584001 0896152002 0762846026 0916468001 0863595004 0923037001 0761406001 0832307007',\n",
       " '0863595006 0751471043 0885951001 0827968004 0872537001 0896152001 0685814003 0919273002 0910601002 0893059005',\n",
       " '0865799006 0893059004 0915526001 0903926001 0912204001 0898694002 0372860001 0918836001 0871710001 0706016062',\n",
       " '0863595006 0915529003 0872537001 0706016002 0706016019 0768912001 0610776002 0832307007 0919273002 0893059005',\n",
       " '0918292004 0865799006 0924243001 0915526002 0762846027 0762846026 0827968001 0918525001 0885951001 0783346001',\n",
       " '0923758001 0918292001 0896152002 0762846031 0762846027 0706016001 0911870004 0903926001 0706016062 0730683050',\n",
       " '0918292001 0874754002 0751471001 0915529001 0914441004 0865929007 0911870001 0610776002 0809238001 0871710001',\n",
       " '0751471001 0918525001 0924243001 0769748013 0911870004 0884465002 0918292004 0867969003 0685814003 0706016003',\n",
       " '0893059004 0456163086 0852584001 0907527001 0803757001 0768912001 0915529001 0907188001 0809238001 0923037001',\n",
       " '0745256002 0863646001 0916468001 0929165002 0706016062 0751994010 0910601002 0446224043 0783707038 0783707175',\n",
       " '0706016003 0610776002 0896152002 0893141002 0767423001 0767423011 0805947001 0884319001 0761406001 0898694002',\n",
       " '0865799006 0896169002 0762846031 0918525001 0873274002 0881942001 0909911001 0827968001 0863583002 0372860002',\n",
       " '0923758001 0914805002 0762846031 0456163060 0809238005 0909371001 0372860002 0915529005 0884319005 0904625001',\n",
       " '0926502001 0918292001 0898694001 0881942001 0933032002 0908799002 0898694002 0823324001 0852171001 0818834001',\n",
       " '0896152003 0714790020 0918292004 0850917003 0856840001 0827968001 0781613006 0872537001 0894780001 0809238001',\n",
       " '0918525001 0893141002 0896152003 0678942001 0706016019 0916468001 0884319001 0719655001 0751471038 0933989001',\n",
       " '0918836001 0751471038 0751471043 0929165002 0673677010 0893133001 0637411014 0637411013 0685814001 0706016003',\n",
       " '0918522001 0910601001 0929165002 0865929003 0863595004 0911870003 0715624001 0768912001 0852584001 0929744001',\n",
       " '0740498009 0878190005 0915526002 0372860001 0762846006 0908799002 0610776002 0871710001 0896169005 0936622001',\n",
       " '0915526002 0929165002 0874754002 0867969003 0936622001 0685814003 0863583001 0906352001 0933032002 0809238001',\n",
       " '0910601002 0924243002 0863595006 0896152001 0898694001 0912204001 0915529001 0706016019 0832307007 0781613006',\n",
       " '0905957001 0706016003 0909370001 0865929003 0806388002 0827968001 0678942001 0871710001 0923758001 0158340001',\n",
       " '0918292001 0579541001 0914805002 0915529003 0850917001 0803757001 0907527001 0610776002 0898694001 0935892001',\n",
       " '0896169005 0916468003 0896152003 0806388002 0762846026 0758034001 0911870001 0885951001 0910601003 0898692003',\n",
       " '0863646001 0863595004 0803757001 0905957001 0896152003 0706016002 0923758001 0933032002 0878190005 0761406001',\n",
       " '0923758001 0918292001 0866731001 0762846006 0918522001 0706016062 0916468003 0769748013 0918292004 0908799002',\n",
       " '0906305001 0865799006 0873279003 0762846027 0894668003 0685816002 0832458002 0914441005 0706016003 0909370001',\n",
       " '0783346001 0768912001 0892309001 0911870003 0893059004 0781613006 0762846006 0761406001 0762846026 0914441005',\n",
       " '0804992016 0685814001 0552716001 0706016003 0536139069 0850917001 0706016019 0884319001 0754238002 0751471043',\n",
       " '0751471043 0915529001 0924243002 0923037001 0916468001 0832307007 0751471038 0907527001 0761406001 0936622001',\n",
       " '0863646001 0903926001 0915529001 0896169005 0908799002 0912204001 0456163060 0906352001 0910601001 0871710001',\n",
       " '0730683050 0910601003 0706016001 0905957007 0865929007 0911870001 0916468001 0929744001 0761406001 0706016062',\n",
       " '0918292001 0896152002 0933706001 0678942001 0372860002 0863595004 0910601003 0884319005 0909911001 0871710001',\n",
       " '0915529003 0909370001 0926502001 0919273002 0158340001 0933706001 0719655001 0751471038 0904625001 0894668003',\n",
       " '0918522001 0865799006 0751471043 0863646001 0896152003 0762846006 0863595004 0448509014 0850917003 0918836001',\n",
       " '0918292004 0916468002 0907527001 0919273002 0751471043 0893059005 0929744001 0871710001 0805947001 0761406001',\n",
       " '0918525001 0863583002 0751471043 0456163086 0919273002 0717464001 0915526001 0781613006 0923037001 0933989001',\n",
       " '0918292001 0929165002 0762846026 0898713001 0898694002 0809238005 0906352001 0873279003 0863595004 0908799002',\n",
       " '0448509014 0797710001 0372860001 0906352001 0915526002 0911870001 0873279003 0933706001 0878190005 0871710001',\n",
       " '0935892001 0408875011 0926502001 0408875010 0914441004 0624486076 0624486007 0408875028 0715624001 0910601002',\n",
       " '0918522001 0863583001 0915526001 0916468003 0914441004 0850917001 0767423013 0762846026 0896152002 0916468002',\n",
       " '0751471043 0852584001 0685814001 0914805002 0762846031 0797710001 0865929007 0456163086 0896152001 0761406001',\n",
       " '0935892001 0579541001 0751471043 0903926001 0912204001 0706016002 0915529005 0906352001 0809238001 0909370001',\n",
       " '0863595004 0715624001 0896169005 0919273002 0806131012 0797710001 0911870003 0781613006 0898694001 0158340001',\n",
       " '0915529003 0579541001 0678942001 0904625001 0896169002 0910601001 0893133001 0872537001 0884319001 0762846031',\n",
       " '0865799006 0863595006 0673677002 0874754002 0904625001 0706016001 0919273002 0372860002 0881942001 0781613006',\n",
       " '0852584001 0915529003 0863646001 0624486006 0456163086 0717490083 0825580001 0893141002 0911870003 0700153001',\n",
       " '0751471043 0919273002 0803757001 0903926001 0909371001 0896169002 0898694002 0898713001 0894780001 0909911001',\n",
       " '0751471038 0915529003 0678942001 0850917001 0896169005 0456163086 0372860001 0911870004 0809238001 0935892001',\n",
       " '0751471001 0896152003 0673677002 0898694001 0762846006 0909371001 0911870004 0706016019 0929744001 0781613006',\n",
       " '0918522001 0924243001 0915529003 0898694002 0914805002 0372860001 0706016062 0907527001 0884319001 0910601001',\n",
       " '0915526001 0863595006 0915529005 0715624001 0448509014 0909370001 0867969003 0706016002 0573085028 0850917001',\n",
       " '0783346001 0715624001 0456163060 0893141002 0610776002 0881942001 0916468001 0911870001 0916468003 0761406001',\n",
       " '0673677002 0730683050 0769748013 0841383002 0573085028 0873279003 0910601001 0761406001 0933989001 0894668003',\n",
       " '0762846006 0915526002 0783346001 0893059004 0856840001 0891591003 0936622001 0893141002 0762846026 0685814003',\n",
       " '0579541001 0863595006 0714790020 0914441004 0896152003 0827968001 0781613006 0893141002 0706016003 0762846027',\n",
       " '0669091046 0678942057 0911870002 0761406001 0891591007 0907188001 0669091004 0678942058 0526250009 0526250006',\n",
       " '0918292001 0865799006 0706016002 0894780001 0906352001 0911870003 0797988002 0935892001 0730683050 0908799002',\n",
       " '0929165002 0918292004 0926502001 0865929003 0884319001 0706016001 0579541001 0878190005 0685814003 0819910002',\n",
       " '0894780001 0762846006 0905957001 0865929007 0706016019 0881942001 0929744001 0909912001 0894668003 0935892001',\n",
       " '0898694001 0867969003 0912204001 0827968004 0610776002 0768912001 0873279003 0919273002 0893059004 0935892001',\n",
       " '0910601002 0896152002 0921906003 0911870003 0850917003 0832307007 0827968001 0768912001 0685814001 0761406001',\n",
       " '0914805002 0761406001 0863646001 0893059004 0894668003 0762846006 0610776002 0808840005 0914912001 0857097003',\n",
       " '0852584001 0863595006 0867969003 0850917001 0717464001 0881942001 0911870003 0893059004 0908799002 0923037001',\n",
       " '0918292001 0863595006 0884319003 0909371001 0909911001 0866731001 0898694001 0158340001 0805947001 0935892001',\n",
       " '0826646006 0456163086 0893141002 0896152001 0935892001 0678942002 0929744001 0907527001 0706016062 0936622001',\n",
       " '0896169005 0918525001 0751471001 0911870001 0915529003 0898713001 0896152003 0912204001 0909912001 0909371001',\n",
       " '0751471038 0915526001 0456163086 0865799005 0881942001 0803757001 0907188001 0918292001 0904625001 0894668003',\n",
       " '0924243001 0664074019 0929165002 0664074021 0863646001 0758034001 0456163060 0664074012 0456163086 0706016002',\n",
       " '0918292001 0915526001 0905957001 0706016002 0809238001 0911870003 0907527001 0904625001 0884319005 0919273002',\n",
       " '0918522001 0783346001 0863646001 0673677002 0903926001 0866731001 0911870001 0850917003 0923037001 0926502001',\n",
       " '0896169005 0866731001 0863646001 0762846031 0919273002 0768912001 0706016002 0935892001 0933032002 0909912001',\n",
       " '0918292001 0751471043 0852584001 0893059005 0884319005 0579541001 0910601003 0456163086 0926502001 0896169002',\n",
       " '0893133001 0923758001 0769748013 0809238005 0678942001 0936622001 0910601003 0933032002 0706016062 0904625001',\n",
       " '0929165002 0751471001 0918522001 0909370001 0767423011 0906352001 0643739002 0884319005 0768912001 0803757001',\n",
       " '0918292004 0751471001 0852584001 0673677002 0762846027 0809238001 0884319001 0761406001 0910601002 0936622001',\n",
       " '0916468003 0915526001 0915529001 0914441004 0873045006 0857571001 0868399001 0936622001 0739214002 0872393001',\n",
       " '0865799006 0914441004 0714790020 0867969003 0905957001 0706016019 0448509014 0893133001 0909371001 0894668003',\n",
       " '0918522001 0863583002 0852584001 0827968001 0456163060 0894780001 0706016019 0758034001 0827968004 0911870004',\n",
       " '0751471043 0863595006 0730683050 0909371001 0866731001 0797710001 0873279003 0906352001 0915526002 0871710001',\n",
       " '0910601002 0865799006 0896152003 0912204001 0918292004 0850917003 0856840001 0448509014 0911870004 0926502001',\n",
       " '0915529003 0751471043 0751471001 0884319001 0866731001 0803757001 0685814001 0372860001 0655403001 0819826002',\n",
       " '0916468001 0706016003 0809238001 0610776002 0894668003 0751471043 0910601003 0730683050 0923037001 0936622001',\n",
       " '0924243001 0685814001 0914441004 0706016001 0762846026 0456163060 0907527001 0915529005 0933706001 0781613006',\n",
       " '0730683050 0905957001 0762846006 0456163086 0918292004 0805947001 0706016002 0719655001 0910601003 0894780001',\n",
       " '0866731001 0915529001 0762846027 0898694001 0909371001 0372860001 0924243002 0916468003 0910601003 0909912001',\n",
       " '0751471001 0893141002 0867969003 0762846006 0456163086 0715624001 0685814001 0878190005 0894780001 0871710001',\n",
       " '0673677002 0706016001 0910601002 0803757001 0893141002 0896152001 0832307007 0158340001 0809238005 0936622001',\n",
       " '0893059005 0865799006 0926502001 0706016003 0896169002 0915526001 0911870001 0805947001 0935892001 0827968001',\n",
       " '0924243002 0903926001 0762846027 0850917001 0714790020 0866731001 0911870004 0878190005 0805947001 0904625001',\n",
       " '0896152002 0912204005 0898694002 0730683017 0918522001 0884319001 0936622001 0809238005 0769434001 0923037001',\n",
       " '0874891002 0926502001 0884319001 0784467003 0916468002 0911870001 0903926001 0893059005 0885951001 0765701001',\n",
       " '0893059005 0884319001 0850917001 0706016001 0909371001 0915529005 0916468003 0781613006 0898694001 0158340001',\n",
       " '0918525001 0762846031 0926502001 0762846006 0884319005 0884319003 0769748013 0911870003 0933989001 0706016062',\n",
       " '0915526001 0863595006 0762846031 0781613006 0768912001 0610776002 0911870004 0912204001 0923037001 0936622001',\n",
       " '0915529003 0871710001 0916468003 0685814003 0872537001 0893133001 0910601003 0896169005 0909912001 0768912001',\n",
       " '0751471038 0852584001 0914441004 0907527001 0885951001 0762846027 0706016003 0898713001 0827968001 0610776002',\n",
       " '0906352001 0673677002 0884319001 0769748013 0919273002 0878190005 0933989001 0918292004 0909912001 0904625001',\n",
       " '0863595006 0685814003 0915529001 0706016003 0919273002 0911870003 0911870004 0898694001 0911870001 0781613006',\n",
       " '0866731001 0852584001 0372860002 0372860001 0903926001 0911870004 0873279003 0907527001 0894668003 0761406001',\n",
       " '0832307007 0714790020 0827968001 0929165002 0809238005 0678942001 0915526002 0761406001 0769748013 0610776002',\n",
       " '0924243001 0751471001 0863595004 0907527001 0584298009 0905957007 0896152001 0898713001 0584298011 0805947001',\n",
       " '0896169005 0673677002 0893141002 0832307007 0678942001 0610776002 0884319005 0910601003 0761406001 0894668003',\n",
       " '0893059005 0867969003 0915529001 0919273002 0714790020 0456163086 0797710001 0863583001 0915526001 0809238005',\n",
       " '0783346001 0874754002 0896169005 0762846031 0912204001 0905957007 0893141002 0878190005 0809238005 0916468003',\n",
       " '0905957001 0809238001 0896152003 0768912001 0893141002 0762846006 0748355003 0751471038 0923037001 0909911001',\n",
       " '0865799006 0863583001 0852584001 0850917001 0896152001 0372860001 0933032002 0910601002 0730683050 0935892001',\n",
       " '0896152002 0762846027 0803757001 0372860002 0812668001 0894668003 0904625001 0919273002 0884319005 0935892001',\n",
       " '0903926001 0915529001 0896169005 0933706001 0832307007 0878190005 0761406001 0805947001 0923037001 0936622001',\n",
       " '0874754002 0865799006 0912204001 0905957001 0706016019 0916468003 0685814003 0933706001 0809238001 0929744001',\n",
       " '0865799006 0893059004 0730683050 0935892001 0768912001 0372860001 0573085028 0685814001 0919273002 0923037001',\n",
       " '0918292001 0833499009 0856840001 0909912001 0874754002 0921906003 0739590016 0854678003 0833499010 0701303002',\n",
       " '0751471043 0929165002 0924243002 0896152003 0678942001 0873279003 0751471038 0907527001 0898694002 0910601003',\n",
       " '0893059005 0915526001 0915529003 0896152003 0910601003 0866731001 0906352001 0796210001 0761406001 0904625001',\n",
       " '0896169005 0924243001 0863646001 0915529003 0926502001 0863595004 0911870004 0878190005 0685814003 0923037001',\n",
       " '0536139007 0762846006 0909370001 0903926001 0910601001 0574109032 0911870004 0574109028 0574109022 0907702003',\n",
       " '0893059005 0673677002 0929165002 0448509014 0889460003 0909370001 0706016019 0916468003 0909912001 0929744001',\n",
       " '0918292001 0865799006 0852584001 0579541001 0884319005 0909370001 0866731001 0768912001 0898694001 0878190005',\n",
       " '0916468001 0898692003 0448509014 0767423001 0809238001 0905957007 0783346001 0751471038 0884319005 0884319003',\n",
       " '0715624001 0898694002 0924243002 0706016002 0678942001 0911870004 0896152001 0783346001 0904625001 0893059005',\n",
       " '0924243001 0751471043 0730683050 0912204001 0715624001 0918836001 0768912001 0929744001 0923758001 0916468003',\n",
       " '0905957001 0863646001 0850917001 0762846006 0803757001 0909371001 0715624001 0685814001 0898694002 0751471038',\n",
       " '0865799006 0924243002 0863595006 0915526002 0794575017 0706016019 0906352001 0706016062 0884319003 0909912001',\n",
       " '0918292001 0865799006 0893059004 0579541001 0685814001 0762846027 0850917001 0872537001 0761406001 0923037001',\n",
       " '0923758001 0673677002 0898694001 0827968001 0706016001 0885951001 0809238005 0809238001 0896152001 0915529005',\n",
       " '0896152003 0865929003 0918522001 0911870004 0878183003 0915529003 0907188001 0919273002 0809238001 0933706001',\n",
       " '0863583001 0914441004 0926502001 0715624001 0573085028 0903926001 0767423011 0751471038 0832307007 0751471043',\n",
       " '0751471001 0896152002 0929165002 0874754002 0908799002 0714790020 0610776002 0906352001 0884319005 0911870004',\n",
       " ...]"
      ]
     },
     "execution_count": 99,
     "metadata": {},
     "output_type": "execute_result"
    }
   ],
   "source": [
    "list(dict(sorted(res.items(), key=lambda item: -item[1])).keys())"
   ]
  },
  {
   "cell_type": "code",
   "execution_count": null,
   "id": "91adcef8",
   "metadata": {},
   "outputs": [],
   "source": [
    "def cust_blend(dt, W = [1,1,1]):\n",
    "    #Global ensemble weights\n",
    "    #W = [1.15,0.95,0.85]\n",
    "    \n",
    "    #Create a list of all model predictions\n",
    "    REC = []\n",
    "    REC.append(dt['prediction0'].split())\n",
    "    REC.append(dt['prediction1'].split())\n",
    "    REC.append(dt['prediction2'].split())\n",
    "    \n",
    "    #Create a dictionary of items recommended. \n",
    "    #Assign a weight according the order of appearance and multiply by global weights\n",
    "    res = {}\n",
    "    for M in range(len(REC)):\n",
    "        for n, v in enumerate(REC[M]):\n",
    "            res[v] = res.get(v, 1/n+1)\n",
    "            if v in res:\n",
    "                res[v] = re(W[M]/(n+1))\n",
    "            else:\n",
    "                res[v] = (W[M]/(n+1))\n",
    "    \n",
    "    # Sort dictionary by item weights\n",
    "    res = list(dict(sorted(res.items(), key=lambda item: -item[1])).keys())\n",
    "    \n",
    "    # Return the top 12 itens only\n",
    "    return ' '.join(res[:12])\n",
    "\n",
    "sub0['prediction'] = sub0.apply(cust_blend, W = [1.05,1.00,0.95], axis=1)\n",
    "\"\"\""
   ]
  },
  {
   "cell_type": "code",
   "execution_count": 90,
   "id": "8325782d",
   "metadata": {},
   "outputs": [],
   "source": [
    "preds = (\n",
    "    val_transactions\n",
    "        .groupby(['customer_id'])['article_id']\n",
    "        .apply(list)\n",
    "        .reset_index()\n",
    "        .merge(preds, on='customer_id', how='inner')\n",
    ")"
   ]
  },
  {
   "cell_type": "code",
   "execution_count": null,
   "id": "f0a1c731",
   "metadata": {},
   "outputs": [],
   "source": [
    "preds.columns = ['customer_id', 'y_true', 'y_pred']"
   ]
  },
  {
   "cell_type": "code",
   "execution_count": null,
   "id": "fce17e42",
   "metadata": {},
   "outputs": [],
   "source": [
    "preds.head()"
   ]
  },
  {
   "cell_type": "code",
   "execution_count": null,
   "id": "d4d3b001",
   "metadata": {},
   "outputs": [],
   "source": [
    "map_at_k(preds['y_true'], preds['y_pred'], k=12)"
   ]
  },
  {
   "cell_type": "code",
   "execution_count": null,
   "id": "fc693dbf",
   "metadata": {},
   "outputs": [],
   "source": []
  },
  {
   "cell_type": "code",
   "execution_count": null,
   "id": "fce26fdc",
   "metadata": {},
   "outputs": [],
   "source": []
  },
  {
   "cell_type": "code",
   "execution_count": null,
   "id": "9f19272f",
   "metadata": {},
   "outputs": [],
   "source": []
  },
  {
   "cell_type": "code",
   "execution_count": null,
   "id": "cb0407ea",
   "metadata": {},
   "outputs": [],
   "source": []
  },
  {
   "cell_type": "markdown",
   "id": "9def900d",
   "metadata": {},
   "source": [
    "train"
   ]
  },
  {
   "cell_type": "code",
   "execution_count": 86,
   "id": "5b0db13d",
   "metadata": {},
   "outputs": [],
   "source": [
    "train_candidates.drop(['prob'],axis=1, inplace=True)"
   ]
  },
  {
   "cell_type": "code",
   "execution_count": null,
   "id": "e84fac1a",
   "metadata": {},
   "outputs": [],
   "source": [
    "preds = predict(ranker, train_candidates)"
   ]
  },
  {
   "cell_type": "code",
   "execution_count": null,
   "id": "2ef82355",
   "metadata": {},
   "outputs": [],
   "source": [
    "preds"
   ]
  },
  {
   "cell_type": "code",
   "execution_count": null,
   "id": "2ecaf71b",
   "metadata": {},
   "outputs": [],
   "source": [
    "preds = (\n",
    "    val_transactions\n",
    "        .groupby(['customer_id'])['article_id']\n",
    "        .apply(list)\n",
    "        .reset_index()\n",
    "        .merge(preds, on='customer_id', how='inner')\n",
    ")"
   ]
  },
  {
   "cell_type": "code",
   "execution_count": null,
   "id": "73102bdf",
   "metadata": {},
   "outputs": [],
   "source": [
    "preds"
   ]
  },
  {
   "cell_type": "code",
   "execution_count": null,
   "id": "c62e9a16",
   "metadata": {},
   "outputs": [],
   "source": [
    "preds.columns = ['customer_id', 'y_true', 'y_pred']"
   ]
  },
  {
   "cell_type": "code",
   "execution_count": null,
   "id": "2cf94228",
   "metadata": {},
   "outputs": [],
   "source": [
    "preds.head()"
   ]
  },
  {
   "cell_type": "code",
   "execution_count": null,
   "id": "31198817",
   "metadata": {
    "scrolled": true
   },
   "outputs": [],
   "source": [
    "map_at_k(preds['y_true'], preds['y_pred'], k=12)"
   ]
  },
  {
   "cell_type": "code",
   "execution_count": null,
   "id": "aa93565d",
   "metadata": {},
   "outputs": [],
   "source": []
  },
  {
   "cell_type": "code",
   "execution_count": null,
   "id": "7968b862",
   "metadata": {},
   "outputs": [],
   "source": []
  },
  {
   "cell_type": "markdown",
   "id": "97b87334",
   "metadata": {},
   "source": [
    "### binary model"
   ]
  },
  {
   "cell_type": "code",
   "execution_count": 65,
   "id": "c5a443b4",
   "metadata": {},
   "outputs": [],
   "source": [
    "params = {\n",
    "    \"objective\": \"binary\",\n",
    "    \"boosting_type\": \"gbdt\",\n",
    "    \"metric\": \"auc\",\n",
    "    \"max_depth\": 8,\n",
    "    \"num_leaves\": 128,\n",
    "    \"learning_rate\": 0.03,\n",
    "    \"verbose\": 1,\n",
    "    \"eval_at\": 12,\n",
    "    # 'device':'gpu'\n",
    "}"
   ]
  },
  {
   "cell_type": "code",
   "execution_count": 54,
   "id": "85f317be",
   "metadata": {},
   "outputs": [],
   "source": [
    "df_split = candidates.groupby(['customer_id'])['label'].max().reset_index()"
   ]
  },
  {
   "cell_type": "code",
   "execution_count": 55,
   "id": "1258e803",
   "metadata": {},
   "outputs": [],
   "source": [
    "from sklearn.model_selection import train_test_split"
   ]
  },
  {
   "cell_type": "code",
   "execution_count": 56,
   "id": "2fda666f",
   "metadata": {},
   "outputs": [],
   "source": [
    "train_candidates, val_candidates = train_test_split(df_split, test_size=0.15, random_state=42, stratify=df_split['label'])"
   ]
  },
  {
   "cell_type": "code",
   "execution_count": 57,
   "id": "b8aa6894",
   "metadata": {},
   "outputs": [],
   "source": [
    "train_candidates = candidates[candidates.customer_id.isin(train_candidates['customer_id'].unique())]"
   ]
  },
  {
   "cell_type": "code",
   "execution_count": 58,
   "id": "0bd78c9b",
   "metadata": {},
   "outputs": [],
   "source": [
    "val_candidates = candidates[candidates.customer_id.isin(val_candidates['customer_id'].unique())]"
   ]
  },
  {
   "cell_type": "code",
   "execution_count": 59,
   "id": "c664ba01",
   "metadata": {},
   "outputs": [
    {
     "data": {
      "text/plain": [
       "0"
      ]
     },
     "execution_count": 59,
     "metadata": {},
     "output_type": "execute_result"
    }
   ],
   "source": [
    "del candidates\n",
    "gc.collect()"
   ]
  },
  {
   "cell_type": "code",
   "execution_count": 60,
   "id": "5aabf520",
   "metadata": {},
   "outputs": [
    {
     "data": {
      "text/plain": [
       "0.0016562580658438684"
      ]
     },
     "execution_count": 60,
     "metadata": {},
     "output_type": "execute_result"
    }
   ],
   "source": [
    "# train positive rate\n",
    "train_candidates.label.mean() * 10"
   ]
  },
  {
   "cell_type": "code",
   "execution_count": 61,
   "id": "684cb17c",
   "metadata": {},
   "outputs": [
    {
     "data": {
      "text/plain": [
       "0.0016467684174210507"
      ]
     },
     "execution_count": 61,
     "metadata": {},
     "output_type": "execute_result"
    }
   ],
   "source": [
    "# val positive rate\n",
    "val_candidates.label.mean() * 10"
   ]
  },
  {
   "cell_type": "code",
   "execution_count": 63,
   "id": "1f815f37",
   "metadata": {},
   "outputs": [],
   "source": [
    "train_set = lgb.Dataset(\n",
    "        data=train_candidates[features],\n",
    "        label=train_candidates[\"label\"],\n",
    "        feature_name=features,\n",
    "        categorical_feature=cat_features,\n",
    "        params=params,\n",
    "    )"
   ]
  },
  {
   "cell_type": "code",
   "execution_count": 64,
   "id": "ab95b529",
   "metadata": {},
   "outputs": [],
   "source": [
    "val_set = lgb.Dataset(\n",
    "        data=val_candidates[features],\n",
    "        label=val_candidates[\"label\"],\n",
    "        feature_name=features,\n",
    "        categorical_feature=cat_features,\n",
    "        params=params,\n",
    "    )"
   ]
  },
  {
   "cell_type": "code",
   "execution_count": 66,
   "id": "b3096118",
   "metadata": {},
   "outputs": [
    {
     "name": "stderr",
     "output_type": "stream",
     "text": [
      "/Users/mmadej/Desktop/Projects/gid-ml-framework/.venv/lib/python3.8/site-packages/lightgbm/basic.py:2065: UserWarning: Using categorical_feature in Dataset.\n",
      "  _log_warning('Using categorical_feature in Dataset.')\n"
     ]
    },
    {
     "name": "stdout",
     "output_type": "stream",
     "text": [
      "[LightGBM] [Info] Number of positive: 19315, number of negative: 116598985\n",
      "[LightGBM] [Warning] Auto-choosing row-wise multi-threading, the overhead of testing was 3.428738 seconds.\n",
      "You can set `force_row_wise=true` to remove the overhead.\n",
      "And if memory is not enough, you can set `force_col_wise=true`.\n",
      "[LightGBM] [Info] Total Bins 13595\n",
      "[LightGBM] [Info] Number of data points in the train set: 116618300, number of used features: 22\n"
     ]
    },
    {
     "name": "stderr",
     "output_type": "stream",
     "text": [
      "/Users/mmadej/Desktop/Projects/gid-ml-framework/.venv/lib/python3.8/site-packages/lightgbm/basic.py:1780: UserWarning: Overriding the parameters from Reference Dataset.\n",
      "  _log_warning('Overriding the parameters from Reference Dataset.')\n",
      "/Users/mmadej/Desktop/Projects/gid-ml-framework/.venv/lib/python3.8/site-packages/lightgbm/basic.py:1513: UserWarning: categorical_column in param dict is overridden.\n",
      "  _log_warning(f'{cat_alias} in param dict is overridden.')\n"
     ]
    },
    {
     "name": "stdout",
     "output_type": "stream",
     "text": [
      "[LightGBM] [Info] [binary:BoostFromScore]: pavg=0.000166 -> initscore=-8.705614\n",
      "[LightGBM] [Info] Start training from score -8.705614\n",
      "Training until validation scores don't improve for 10 rounds\n",
      "Early stopping, best iteration is:\n",
      "[59]\ttrain's auc: 0.792685\tvalid's auc: 0.767252\n"
     ]
    }
   ],
   "source": [
    "ranker = lgb.train(\n",
    "        params,\n",
    "        train_set,\n",
    "        valid_sets=[train_set, val_set],\n",
    "        valid_names=['train', 'valid'],\n",
    "        num_boost_round=500,\n",
    "        callbacks=[lgb.early_stopping(stopping_rounds=10)]\n",
    "    )"
   ]
  },
  {
   "cell_type": "code",
   "execution_count": 77,
   "id": "0d58daa1",
   "metadata": {},
   "outputs": [
    {
     "data": {
      "text/plain": [
       "<lightgbm.basic.Booster at 0x135fb8ac0>"
      ]
     },
     "execution_count": 77,
     "metadata": {},
     "output_type": "execute_result"
    }
   ],
   "source": [
    "ranker.save_model('binary_model_20220824.txt',\n",
    "        num_iteration=ranker.best_iteration,\n",
    "    )"
   ]
  },
  {
   "cell_type": "markdown",
   "id": "02ceb0a3",
   "metadata": {},
   "source": [
    "val"
   ]
  },
  {
   "cell_type": "code",
   "execution_count": 86,
   "id": "cf785645",
   "metadata": {},
   "outputs": [],
   "source": [
    "val_candidates.drop(['prob'],axis=1, inplace=True)"
   ]
  },
  {
   "cell_type": "code",
   "execution_count": 87,
   "id": "1347beda",
   "metadata": {},
   "outputs": [],
   "source": [
    "preds = predict(ranker, val_candidates)"
   ]
  },
  {
   "cell_type": "code",
   "execution_count": 88,
   "id": "c3ccc04f",
   "metadata": {},
   "outputs": [
    {
     "data": {
      "text/html": [
       "<div>\n",
       "<style scoped>\n",
       "    .dataframe tbody tr th:only-of-type {\n",
       "        vertical-align: middle;\n",
       "    }\n",
       "\n",
       "    .dataframe tbody tr th {\n",
       "        vertical-align: top;\n",
       "    }\n",
       "\n",
       "    .dataframe thead th {\n",
       "        text-align: right;\n",
       "    }\n",
       "</style>\n",
       "<table border=\"1\" class=\"dataframe\">\n",
       "  <thead>\n",
       "    <tr style=\"text-align: right;\">\n",
       "      <th></th>\n",
       "      <th>customer_id</th>\n",
       "      <th>article_id</th>\n",
       "    </tr>\n",
       "  </thead>\n",
       "  <tbody>\n",
       "    <tr>\n",
       "      <th>0</th>\n",
       "      <td>00007e8d4e54114b5b2a9b51586325a8d0fa74ea23ef77...</td>\n",
       "      <td>[0898692003, 0873279003, 0456163060, 092916500...</td>\n",
       "    </tr>\n",
       "    <tr>\n",
       "      <th>1</th>\n",
       "      <td>0000f1c71aafe5963c3d195cf273f7bfd50bbf17761c91...</td>\n",
       "      <td>[0866731001, 0909371001, 0898694001, 076284602...</td>\n",
       "    </tr>\n",
       "    <tr>\n",
       "      <th>2</th>\n",
       "      <td>00012315fd38859ff2c446876ca507abbcbcf582d0e266...</td>\n",
       "      <td>[0372860001, 0873279003, 0898692003, 045616306...</td>\n",
       "    </tr>\n",
       "    <tr>\n",
       "      <th>3</th>\n",
       "      <td>0001bc8e81a72aaf228a103a85d2ac530c09defffbc6ab...</td>\n",
       "      <td>[0896152003, 0896152001, 0918522001, 090937100...</td>\n",
       "    </tr>\n",
       "    <tr>\n",
       "      <th>4</th>\n",
       "      <td>00022754ec18c5e53757eea8b281632a5c4a499368ecc5...</td>\n",
       "      <td>[0751471001, 0915526002, 0852584001, 089871300...</td>\n",
       "    </tr>\n",
       "    <tr>\n",
       "      <th>...</th>\n",
       "      <td>...</td>\n",
       "      <td>...</td>\n",
       "    </tr>\n",
       "    <tr>\n",
       "      <th>205792</th>\n",
       "      <td>fffd5330e36a95750bd023e6f146ebbc4d2838a6e75cb2...</td>\n",
       "      <td>[0730683050, 0915529005, 0448509014, 070601600...</td>\n",
       "    </tr>\n",
       "    <tr>\n",
       "      <th>205793</th>\n",
       "      <td>fffdaab7d9d79ceee4ffd2ab98bb68411438ea90e46a67...</td>\n",
       "      <td>[0803757001, 0896152002, 0919273002, 085258400...</td>\n",
       "    </tr>\n",
       "    <tr>\n",
       "      <th>205794</th>\n",
       "      <td>fffdc8b7c7c181c658b354b2b408bc690dfaeb80ebe56a...</td>\n",
       "      <td>[0850917001, 0751471001, 0448509014, 070601600...</td>\n",
       "    </tr>\n",
       "    <tr>\n",
       "      <th>205795</th>\n",
       "      <td>ffff12aa623c69eae8959d673f1f12ad0194ad760d77fd...</td>\n",
       "      <td>[0862167001, 0872537001, 0762846027, 092424300...</td>\n",
       "    </tr>\n",
       "    <tr>\n",
       "      <th>205796</th>\n",
       "      <td>ffffbbf78b6eaac697a8a5dfbfd2bfa8113ee5b403e474...</td>\n",
       "      <td>[0918292001, 0866731001, 0740922001, 072012500...</td>\n",
       "    </tr>\n",
       "  </tbody>\n",
       "</table>\n",
       "<p>205797 rows × 2 columns</p>\n",
       "</div>"
      ],
      "text/plain": [
       "                                              customer_id  \\\n",
       "0       00007e8d4e54114b5b2a9b51586325a8d0fa74ea23ef77...   \n",
       "1       0000f1c71aafe5963c3d195cf273f7bfd50bbf17761c91...   \n",
       "2       00012315fd38859ff2c446876ca507abbcbcf582d0e266...   \n",
       "3       0001bc8e81a72aaf228a103a85d2ac530c09defffbc6ab...   \n",
       "4       00022754ec18c5e53757eea8b281632a5c4a499368ecc5...   \n",
       "...                                                   ...   \n",
       "205792  fffd5330e36a95750bd023e6f146ebbc4d2838a6e75cb2...   \n",
       "205793  fffdaab7d9d79ceee4ffd2ab98bb68411438ea90e46a67...   \n",
       "205794  fffdc8b7c7c181c658b354b2b408bc690dfaeb80ebe56a...   \n",
       "205795  ffff12aa623c69eae8959d673f1f12ad0194ad760d77fd...   \n",
       "205796  ffffbbf78b6eaac697a8a5dfbfd2bfa8113ee5b403e474...   \n",
       "\n",
       "                                               article_id  \n",
       "0       [0898692003, 0873279003, 0456163060, 092916500...  \n",
       "1       [0866731001, 0909371001, 0898694001, 076284602...  \n",
       "2       [0372860001, 0873279003, 0898692003, 045616306...  \n",
       "3       [0896152003, 0896152001, 0918522001, 090937100...  \n",
       "4       [0751471001, 0915526002, 0852584001, 089871300...  \n",
       "...                                                   ...  \n",
       "205792  [0730683050, 0915529005, 0448509014, 070601600...  \n",
       "205793  [0803757001, 0896152002, 0919273002, 085258400...  \n",
       "205794  [0850917001, 0751471001, 0448509014, 070601600...  \n",
       "205795  [0862167001, 0872537001, 0762846027, 092424300...  \n",
       "205796  [0918292001, 0866731001, 0740922001, 072012500...  \n",
       "\n",
       "[205797 rows x 2 columns]"
      ]
     },
     "execution_count": 88,
     "metadata": {},
     "output_type": "execute_result"
    }
   ],
   "source": [
    "preds"
   ]
  },
  {
   "cell_type": "code",
   "execution_count": 89,
   "id": "888e8e44",
   "metadata": {},
   "outputs": [],
   "source": [
    "preds.columns = ['customer_id', 'y_pred']"
   ]
  },
  {
   "cell_type": "code",
   "execution_count": 90,
   "id": "4b2369be",
   "metadata": {},
   "outputs": [],
   "source": [
    "preds = (\n",
    "    val_transactions\n",
    "        .groupby(['customer_id'])['article_id']\n",
    "        .apply(list)\n",
    "        .reset_index()\n",
    "        .merge(preds, on='customer_id', how='inner')\n",
    ")"
   ]
  },
  {
   "cell_type": "code",
   "execution_count": 91,
   "id": "487eadc1",
   "metadata": {},
   "outputs": [
    {
     "data": {
      "text/html": [
       "<div>\n",
       "<style scoped>\n",
       "    .dataframe tbody tr th:only-of-type {\n",
       "        vertical-align: middle;\n",
       "    }\n",
       "\n",
       "    .dataframe tbody tr th {\n",
       "        vertical-align: top;\n",
       "    }\n",
       "\n",
       "    .dataframe thead th {\n",
       "        text-align: right;\n",
       "    }\n",
       "</style>\n",
       "<table border=\"1\" class=\"dataframe\">\n",
       "  <thead>\n",
       "    <tr style=\"text-align: right;\">\n",
       "      <th></th>\n",
       "      <th>customer_id</th>\n",
       "      <th>article_id</th>\n",
       "      <th>y_pred</th>\n",
       "    </tr>\n",
       "  </thead>\n",
       "  <tbody>\n",
       "    <tr>\n",
       "      <th>0</th>\n",
       "      <td>0003e867a930d0d6842f923d6ba7c9b77aba33fe2a0fbf...</td>\n",
       "      <td>[0827487003]</td>\n",
       "      <td>[0706016001, 0640021012, 0448509014, 064002101...</td>\n",
       "    </tr>\n",
       "    <tr>\n",
       "      <th>1</th>\n",
       "      <td>0016df4fbb49288b9ed4a8a0fa3d2f7038fc4ab7f02e3c...</td>\n",
       "      <td>[0863937003]</td>\n",
       "      <td>[0751471001, 0910601003, 0865799006, 088431900...</td>\n",
       "    </tr>\n",
       "    <tr>\n",
       "      <th>2</th>\n",
       "      <td>002faf80a68267264102e08eb4f1f21a59236773e4ab90...</td>\n",
       "      <td>[0894340001, 0785034009, 0909014002, 068581402...</td>\n",
       "      <td>[0850917001, 0918522001, 0762846031, 088431900...</td>\n",
       "    </tr>\n",
       "    <tr>\n",
       "      <th>3</th>\n",
       "      <td>00356a94bb9bed341f6dba58ad722974b01a1cbd9f06ef...</td>\n",
       "      <td>[0920012003, 0572797002, 0568601044, 062495902...</td>\n",
       "      <td>[0762846031, 0893059004, 0673677002, 080375700...</td>\n",
       "    </tr>\n",
       "    <tr>\n",
       "      <th>4</th>\n",
       "      <td>003ca8034fe32b9bab8e1c03d74c972abd80dccf84a302...</td>\n",
       "      <td>[0895376004, 0873771001, 0926285002, 090304900...</td>\n",
       "      <td>[0903850001, 0817353008, 0845610003, 088571000...</td>\n",
       "    </tr>\n",
       "    <tr>\n",
       "      <th>...</th>\n",
       "      <td>...</td>\n",
       "      <td>...</td>\n",
       "      <td>...</td>\n",
       "    </tr>\n",
       "    <tr>\n",
       "      <th>10302</th>\n",
       "      <td>ffd4cf2217de4a0a3f9f610cdec334c803692a18af08ac...</td>\n",
       "      <td>[0896169005, 0791587021, 0910949002, 070147200...</td>\n",
       "      <td>[0909916002, 0768912001, 0305931001, 086673100...</td>\n",
       "    </tr>\n",
       "    <tr>\n",
       "      <th>10303</th>\n",
       "      <td>ffd8e32e538255ececbef268d6f04ffcdf66fe00a1b459...</td>\n",
       "      <td>[0910601003]</td>\n",
       "      <td>[0743633007, 0743633005, 0779659002, 077965900...</td>\n",
       "    </tr>\n",
       "    <tr>\n",
       "      <th>10304</th>\n",
       "      <td>ffdad449fbf100d246035d3acf125248b6134ae6f3346e...</td>\n",
       "      <td>[0610776002]</td>\n",
       "      <td>[0759871002, 0759871001, 0610776002, 070601600...</td>\n",
       "    </tr>\n",
       "    <tr>\n",
       "      <th>10305</th>\n",
       "      <td>ffe1791c9c6e3df9aafeebc77cf2cf03dd0123ac76ef90...</td>\n",
       "      <td>[0853740002, 0853740017, 0853740001]</td>\n",
       "      <td>[0720504011, 0853740017, 0606395006, 081199300...</td>\n",
       "    </tr>\n",
       "    <tr>\n",
       "      <th>10306</th>\n",
       "      <td>fff98edc27fc5d64c3027bf0e3702510143d1a79c3dc9a...</td>\n",
       "      <td>[0898918002, 0855198005, 0902163001, 091368800...</td>\n",
       "      <td>[0865929003, 0751471043, 0762846027, 092916500...</td>\n",
       "    </tr>\n",
       "  </tbody>\n",
       "</table>\n",
       "<p>10307 rows × 3 columns</p>\n",
       "</div>"
      ],
      "text/plain": [
       "                                             customer_id  \\\n",
       "0      0003e867a930d0d6842f923d6ba7c9b77aba33fe2a0fbf...   \n",
       "1      0016df4fbb49288b9ed4a8a0fa3d2f7038fc4ab7f02e3c...   \n",
       "2      002faf80a68267264102e08eb4f1f21a59236773e4ab90...   \n",
       "3      00356a94bb9bed341f6dba58ad722974b01a1cbd9f06ef...   \n",
       "4      003ca8034fe32b9bab8e1c03d74c972abd80dccf84a302...   \n",
       "...                                                  ...   \n",
       "10302  ffd4cf2217de4a0a3f9f610cdec334c803692a18af08ac...   \n",
       "10303  ffd8e32e538255ececbef268d6f04ffcdf66fe00a1b459...   \n",
       "10304  ffdad449fbf100d246035d3acf125248b6134ae6f3346e...   \n",
       "10305  ffe1791c9c6e3df9aafeebc77cf2cf03dd0123ac76ef90...   \n",
       "10306  fff98edc27fc5d64c3027bf0e3702510143d1a79c3dc9a...   \n",
       "\n",
       "                                              article_id  \\\n",
       "0                                           [0827487003]   \n",
       "1                                           [0863937003]   \n",
       "2      [0894340001, 0785034009, 0909014002, 068581402...   \n",
       "3      [0920012003, 0572797002, 0568601044, 062495902...   \n",
       "4      [0895376004, 0873771001, 0926285002, 090304900...   \n",
       "...                                                  ...   \n",
       "10302  [0896169005, 0791587021, 0910949002, 070147200...   \n",
       "10303                                       [0910601003]   \n",
       "10304                                       [0610776002]   \n",
       "10305               [0853740002, 0853740017, 0853740001]   \n",
       "10306  [0898918002, 0855198005, 0902163001, 091368800...   \n",
       "\n",
       "                                                  y_pred  \n",
       "0      [0706016001, 0640021012, 0448509014, 064002101...  \n",
       "1      [0751471001, 0910601003, 0865799006, 088431900...  \n",
       "2      [0850917001, 0918522001, 0762846031, 088431900...  \n",
       "3      [0762846031, 0893059004, 0673677002, 080375700...  \n",
       "4      [0903850001, 0817353008, 0845610003, 088571000...  \n",
       "...                                                  ...  \n",
       "10302  [0909916002, 0768912001, 0305931001, 086673100...  \n",
       "10303  [0743633007, 0743633005, 0779659002, 077965900...  \n",
       "10304  [0759871002, 0759871001, 0610776002, 070601600...  \n",
       "10305  [0720504011, 0853740017, 0606395006, 081199300...  \n",
       "10306  [0865929003, 0751471043, 0762846027, 092916500...  \n",
       "\n",
       "[10307 rows x 3 columns]"
      ]
     },
     "execution_count": 91,
     "metadata": {},
     "output_type": "execute_result"
    }
   ],
   "source": [
    "preds"
   ]
  },
  {
   "cell_type": "code",
   "execution_count": 93,
   "id": "847c4282",
   "metadata": {},
   "outputs": [],
   "source": [
    "preds.columns = ['customer_id', 'y_true', 'y_pred']"
   ]
  },
  {
   "cell_type": "code",
   "execution_count": 94,
   "id": "f898475a",
   "metadata": {},
   "outputs": [
    {
     "data": {
      "text/html": [
       "<div>\n",
       "<style scoped>\n",
       "    .dataframe tbody tr th:only-of-type {\n",
       "        vertical-align: middle;\n",
       "    }\n",
       "\n",
       "    .dataframe tbody tr th {\n",
       "        vertical-align: top;\n",
       "    }\n",
       "\n",
       "    .dataframe thead th {\n",
       "        text-align: right;\n",
       "    }\n",
       "</style>\n",
       "<table border=\"1\" class=\"dataframe\">\n",
       "  <thead>\n",
       "    <tr style=\"text-align: right;\">\n",
       "      <th></th>\n",
       "      <th>customer_id</th>\n",
       "      <th>y_true</th>\n",
       "      <th>y_pred</th>\n",
       "    </tr>\n",
       "  </thead>\n",
       "  <tbody>\n",
       "    <tr>\n",
       "      <th>0</th>\n",
       "      <td>0003e867a930d0d6842f923d6ba7c9b77aba33fe2a0fbf...</td>\n",
       "      <td>[0827487003]</td>\n",
       "      <td>[0706016001, 0640021012, 0448509014, 064002101...</td>\n",
       "    </tr>\n",
       "    <tr>\n",
       "      <th>1</th>\n",
       "      <td>0016df4fbb49288b9ed4a8a0fa3d2f7038fc4ab7f02e3c...</td>\n",
       "      <td>[0863937003]</td>\n",
       "      <td>[0751471001, 0910601003, 0865799006, 088431900...</td>\n",
       "    </tr>\n",
       "    <tr>\n",
       "      <th>2</th>\n",
       "      <td>002faf80a68267264102e08eb4f1f21a59236773e4ab90...</td>\n",
       "      <td>[0894340001, 0785034009, 0909014002, 068581402...</td>\n",
       "      <td>[0850917001, 0918522001, 0762846031, 088431900...</td>\n",
       "    </tr>\n",
       "    <tr>\n",
       "      <th>3</th>\n",
       "      <td>00356a94bb9bed341f6dba58ad722974b01a1cbd9f06ef...</td>\n",
       "      <td>[0920012003, 0572797002, 0568601044, 062495902...</td>\n",
       "      <td>[0762846031, 0893059004, 0673677002, 080375700...</td>\n",
       "    </tr>\n",
       "    <tr>\n",
       "      <th>4</th>\n",
       "      <td>003ca8034fe32b9bab8e1c03d74c972abd80dccf84a302...</td>\n",
       "      <td>[0895376004, 0873771001, 0926285002, 090304900...</td>\n",
       "      <td>[0903850001, 0817353008, 0845610003, 088571000...</td>\n",
       "    </tr>\n",
       "  </tbody>\n",
       "</table>\n",
       "</div>"
      ],
      "text/plain": [
       "                                         customer_id  \\\n",
       "0  0003e867a930d0d6842f923d6ba7c9b77aba33fe2a0fbf...   \n",
       "1  0016df4fbb49288b9ed4a8a0fa3d2f7038fc4ab7f02e3c...   \n",
       "2  002faf80a68267264102e08eb4f1f21a59236773e4ab90...   \n",
       "3  00356a94bb9bed341f6dba58ad722974b01a1cbd9f06ef...   \n",
       "4  003ca8034fe32b9bab8e1c03d74c972abd80dccf84a302...   \n",
       "\n",
       "                                              y_true  \\\n",
       "0                                       [0827487003]   \n",
       "1                                       [0863937003]   \n",
       "2  [0894340001, 0785034009, 0909014002, 068581402...   \n",
       "3  [0920012003, 0572797002, 0568601044, 062495902...   \n",
       "4  [0895376004, 0873771001, 0926285002, 090304900...   \n",
       "\n",
       "                                              y_pred  \n",
       "0  [0706016001, 0640021012, 0448509014, 064002101...  \n",
       "1  [0751471001, 0910601003, 0865799006, 088431900...  \n",
       "2  [0850917001, 0918522001, 0762846031, 088431900...  \n",
       "3  [0762846031, 0893059004, 0673677002, 080375700...  \n",
       "4  [0903850001, 0817353008, 0845610003, 088571000...  "
      ]
     },
     "execution_count": 94,
     "metadata": {},
     "output_type": "execute_result"
    }
   ],
   "source": [
    "preds.head()"
   ]
  },
  {
   "cell_type": "code",
   "execution_count": 95,
   "id": "99bb7fa6",
   "metadata": {
    "scrolled": true
   },
   "outputs": [
    {
     "data": {
      "text/plain": [
       "0.017808669560567043"
      ]
     },
     "execution_count": 95,
     "metadata": {},
     "output_type": "execute_result"
    }
   ],
   "source": [
    "map_at_k(preds['y_true'], preds['y_pred'], k=12)"
   ]
  },
  {
   "cell_type": "code",
   "execution_count": null,
   "id": "91044a00",
   "metadata": {},
   "outputs": [],
   "source": []
  },
  {
   "cell_type": "markdown",
   "id": "81aed762",
   "metadata": {},
   "source": [
    "train"
   ]
  },
  {
   "cell_type": "code",
   "execution_count": 86,
   "id": "7fb3eca8",
   "metadata": {},
   "outputs": [],
   "source": [
    "train_candidates.drop(['prob'],axis=1, inplace=True)"
   ]
  },
  {
   "cell_type": "code",
   "execution_count": 96,
   "id": "681f7ac0",
   "metadata": {},
   "outputs": [],
   "source": [
    "preds = predict(ranker, train_candidates)"
   ]
  },
  {
   "cell_type": "code",
   "execution_count": 97,
   "id": "469131dd",
   "metadata": {},
   "outputs": [
    {
     "data": {
      "text/html": [
       "<div>\n",
       "<style scoped>\n",
       "    .dataframe tbody tr th:only-of-type {\n",
       "        vertical-align: middle;\n",
       "    }\n",
       "\n",
       "    .dataframe tbody tr th {\n",
       "        vertical-align: top;\n",
       "    }\n",
       "\n",
       "    .dataframe thead th {\n",
       "        text-align: right;\n",
       "    }\n",
       "</style>\n",
       "<table border=\"1\" class=\"dataframe\">\n",
       "  <thead>\n",
       "    <tr style=\"text-align: right;\">\n",
       "      <th></th>\n",
       "      <th>customer_id</th>\n",
       "      <th>article_id</th>\n",
       "    </tr>\n",
       "  </thead>\n",
       "  <tbody>\n",
       "    <tr>\n",
       "      <th>0</th>\n",
       "      <td>00000dbacae5abe5e23885899a1fa44253a17956c6d1c3...</td>\n",
       "      <td>[0568601006, 0568601043, 0568601007, 056860102...</td>\n",
       "    </tr>\n",
       "    <tr>\n",
       "      <th>1</th>\n",
       "      <td>0000423b00ade91418cceaf3b26c6af3dd342b51fd051e...</td>\n",
       "      <td>[0448509014, 0706016001, 0158340001, 091829200...</td>\n",
       "    </tr>\n",
       "    <tr>\n",
       "      <th>2</th>\n",
       "      <td>000058a12d5b43e67d225668fa1f8d618c13dc232df0ca...</td>\n",
       "      <td>[0794321001, 0872537001, 0794321008, 089869400...</td>\n",
       "    </tr>\n",
       "    <tr>\n",
       "      <th>3</th>\n",
       "      <td>00005ca1c9ed5f5146b52ac8639a40ca9d57aeff4d1bd2...</td>\n",
       "      <td>[0918522001, 0751471043, 0673677002, 091060100...</td>\n",
       "    </tr>\n",
       "    <tr>\n",
       "      <th>4</th>\n",
       "      <td>00006413d8573cd20ed7128e53b7b13819fe5cfc2d801f...</td>\n",
       "      <td>[0893059004, 0863646001, 0915526002, 067894200...</td>\n",
       "    </tr>\n",
       "    <tr>\n",
       "      <th>...</th>\n",
       "      <td>...</td>\n",
       "      <td>...</td>\n",
       "    </tr>\n",
       "    <tr>\n",
       "      <th>1166178</th>\n",
       "      <td>ffffaff3905b803d1c7e153a1378a5151e1f34f236ba54...</td>\n",
       "      <td>[0873279003, 0863595004, 0874754002, 091187000...</td>\n",
       "    </tr>\n",
       "    <tr>\n",
       "      <th>1166179</th>\n",
       "      <td>ffffcd5046a6143d29a04fb8c424ce494a76e5cdf4fab5...</td>\n",
       "      <td>[0853654012, 0759871030, 0759871002, 076284603...</td>\n",
       "    </tr>\n",
       "    <tr>\n",
       "      <th>1166180</th>\n",
       "      <td>ffffcf35913a0bee60e8741cb2b4e78b8a98ee5ff2e6a1...</td>\n",
       "      <td>[0762846027, 0762846006, 0850917001, 087171000...</td>\n",
       "    </tr>\n",
       "    <tr>\n",
       "      <th>1166181</th>\n",
       "      <td>ffffd7744cebcf3aca44ae7049d2a94b87074c3d4ffe38...</td>\n",
       "      <td>[0751471001, 0850917001, 0762846027, 091444100...</td>\n",
       "    </tr>\n",
       "    <tr>\n",
       "      <th>1166182</th>\n",
       "      <td>ffffd9ac14e89946416d80e791d064701994755c3ab686...</td>\n",
       "      <td>[0893059005, 0935892001, 0936622001, 091480500...</td>\n",
       "    </tr>\n",
       "  </tbody>\n",
       "</table>\n",
       "<p>1166183 rows × 2 columns</p>\n",
       "</div>"
      ],
      "text/plain": [
       "                                               customer_id  \\\n",
       "0        00000dbacae5abe5e23885899a1fa44253a17956c6d1c3...   \n",
       "1        0000423b00ade91418cceaf3b26c6af3dd342b51fd051e...   \n",
       "2        000058a12d5b43e67d225668fa1f8d618c13dc232df0ca...   \n",
       "3        00005ca1c9ed5f5146b52ac8639a40ca9d57aeff4d1bd2...   \n",
       "4        00006413d8573cd20ed7128e53b7b13819fe5cfc2d801f...   \n",
       "...                                                    ...   \n",
       "1166178  ffffaff3905b803d1c7e153a1378a5151e1f34f236ba54...   \n",
       "1166179  ffffcd5046a6143d29a04fb8c424ce494a76e5cdf4fab5...   \n",
       "1166180  ffffcf35913a0bee60e8741cb2b4e78b8a98ee5ff2e6a1...   \n",
       "1166181  ffffd7744cebcf3aca44ae7049d2a94b87074c3d4ffe38...   \n",
       "1166182  ffffd9ac14e89946416d80e791d064701994755c3ab686...   \n",
       "\n",
       "                                                article_id  \n",
       "0        [0568601006, 0568601043, 0568601007, 056860102...  \n",
       "1        [0448509014, 0706016001, 0158340001, 091829200...  \n",
       "2        [0794321001, 0872537001, 0794321008, 089869400...  \n",
       "3        [0918522001, 0751471043, 0673677002, 091060100...  \n",
       "4        [0893059004, 0863646001, 0915526002, 067894200...  \n",
       "...                                                    ...  \n",
       "1166178  [0873279003, 0863595004, 0874754002, 091187000...  \n",
       "1166179  [0853654012, 0759871030, 0759871002, 076284603...  \n",
       "1166180  [0762846027, 0762846006, 0850917001, 087171000...  \n",
       "1166181  [0751471001, 0850917001, 0762846027, 091444100...  \n",
       "1166182  [0893059005, 0935892001, 0936622001, 091480500...  \n",
       "\n",
       "[1166183 rows x 2 columns]"
      ]
     },
     "execution_count": 97,
     "metadata": {},
     "output_type": "execute_result"
    }
   ],
   "source": [
    "preds"
   ]
  },
  {
   "cell_type": "code",
   "execution_count": 98,
   "id": "e37dd53d",
   "metadata": {},
   "outputs": [],
   "source": [
    "preds = (\n",
    "    val_transactions\n",
    "        .groupby(['customer_id'])['article_id']\n",
    "        .apply(list)\n",
    "        .reset_index()\n",
    "        .merge(preds, on='customer_id', how='inner')\n",
    ")"
   ]
  },
  {
   "cell_type": "code",
   "execution_count": 99,
   "id": "1f9b7029",
   "metadata": {},
   "outputs": [
    {
     "data": {
      "text/html": [
       "<div>\n",
       "<style scoped>\n",
       "    .dataframe tbody tr th:only-of-type {\n",
       "        vertical-align: middle;\n",
       "    }\n",
       "\n",
       "    .dataframe tbody tr th {\n",
       "        vertical-align: top;\n",
       "    }\n",
       "\n",
       "    .dataframe thead th {\n",
       "        text-align: right;\n",
       "    }\n",
       "</style>\n",
       "<table border=\"1\" class=\"dataframe\">\n",
       "  <thead>\n",
       "    <tr style=\"text-align: right;\">\n",
       "      <th></th>\n",
       "      <th>customer_id</th>\n",
       "      <th>article_id_x</th>\n",
       "      <th>article_id_y</th>\n",
       "    </tr>\n",
       "  </thead>\n",
       "  <tbody>\n",
       "    <tr>\n",
       "      <th>0</th>\n",
       "      <td>00039306476aaf41a07fed942884f16b30abfa83a2a8be...</td>\n",
       "      <td>[0624486001]</td>\n",
       "      <td>[0915526001, 0866731001, 0881942001, 089615200...</td>\n",
       "    </tr>\n",
       "    <tr>\n",
       "      <th>1</th>\n",
       "      <td>000493dd9fc463df1acc2081450c9e75ef8e87d5dd17ed...</td>\n",
       "      <td>[0757926001, 0788575004, 0640021019]</td>\n",
       "      <td>[0732842014, 0732842021, 0732842015, 057689700...</td>\n",
       "    </tr>\n",
       "    <tr>\n",
       "      <th>2</th>\n",
       "      <td>000525e3fe01600d717da8423643a8303390a055c578ed...</td>\n",
       "      <td>[0874110016]</td>\n",
       "      <td>[0918292001, 0915526001, 0866731001, 091829200...</td>\n",
       "    </tr>\n",
       "    <tr>\n",
       "      <th>3</th>\n",
       "      <td>00077dbd5c4a4991e092e63893ccf29294a9d5c46e8501...</td>\n",
       "      <td>[0903762001, 0879189005, 0158340001, 086796600...</td>\n",
       "      <td>[0158340001, 0933989002, 0865799005, 092974400...</td>\n",
       "    </tr>\n",
       "    <tr>\n",
       "      <th>4</th>\n",
       "      <td>0008daf19b2a7cd6fa00836c717aa0f143c83d88c35e02...</td>\n",
       "      <td>[0786304008]</td>\n",
       "      <td>[0751471001, 0850917001, 0706016001, 091829200...</td>\n",
       "    </tr>\n",
       "    <tr>\n",
       "      <th>...</th>\n",
       "      <td>...</td>\n",
       "      <td>...</td>\n",
       "      <td>...</td>\n",
       "    </tr>\n",
       "    <tr>\n",
       "      <th>58672</th>\n",
       "      <td>fffa67737587e52ff1afa9c7c6490b5eb7acbc439fe82b...</td>\n",
       "      <td>[0874816003, 0911870004]</td>\n",
       "      <td>[0751471001, 0448509014, 0706016001, 015834000...</td>\n",
       "    </tr>\n",
       "    <tr>\n",
       "      <th>58673</th>\n",
       "      <td>fffa7d7799eb390a76308454cbdd76e473d65b1497fbe4...</td>\n",
       "      <td>[0861803014, 0849886010]</td>\n",
       "      <td>[0914441004, 0852584001, 0919273002, 068581400...</td>\n",
       "    </tr>\n",
       "    <tr>\n",
       "      <th>58674</th>\n",
       "      <td>fffae8eb3a282d8c43c77dd2ca0621703b71e90904dfde...</td>\n",
       "      <td>[0396135007, 0817472007, 0715624050, 081747200...</td>\n",
       "      <td>[0914441004, 0914441005, 0914441007, 091444100...</td>\n",
       "    </tr>\n",
       "    <tr>\n",
       "      <th>58675</th>\n",
       "      <td>fffd870c6324ad3bda24e4d6aeae221c199479086bfdfd...</td>\n",
       "      <td>[0750423010, 0761269001]</td>\n",
       "      <td>[0724906009, 0724906019, 0724906007, 070601600...</td>\n",
       "    </tr>\n",
       "    <tr>\n",
       "      <th>58676</th>\n",
       "      <td>fffef3b6b73545df065b521e19f64bf6fe93bfd450ab20...</td>\n",
       "      <td>[0898573003]</td>\n",
       "      <td>[0893133001, 0906352001, 0873276003, 086794800...</td>\n",
       "    </tr>\n",
       "  </tbody>\n",
       "</table>\n",
       "<p>58677 rows × 3 columns</p>\n",
       "</div>"
      ],
      "text/plain": [
       "                                             customer_id  \\\n",
       "0      00039306476aaf41a07fed942884f16b30abfa83a2a8be...   \n",
       "1      000493dd9fc463df1acc2081450c9e75ef8e87d5dd17ed...   \n",
       "2      000525e3fe01600d717da8423643a8303390a055c578ed...   \n",
       "3      00077dbd5c4a4991e092e63893ccf29294a9d5c46e8501...   \n",
       "4      0008daf19b2a7cd6fa00836c717aa0f143c83d88c35e02...   \n",
       "...                                                  ...   \n",
       "58672  fffa67737587e52ff1afa9c7c6490b5eb7acbc439fe82b...   \n",
       "58673  fffa7d7799eb390a76308454cbdd76e473d65b1497fbe4...   \n",
       "58674  fffae8eb3a282d8c43c77dd2ca0621703b71e90904dfde...   \n",
       "58675  fffd870c6324ad3bda24e4d6aeae221c199479086bfdfd...   \n",
       "58676  fffef3b6b73545df065b521e19f64bf6fe93bfd450ab20...   \n",
       "\n",
       "                                            article_id_x  \\\n",
       "0                                           [0624486001]   \n",
       "1                   [0757926001, 0788575004, 0640021019]   \n",
       "2                                           [0874110016]   \n",
       "3      [0903762001, 0879189005, 0158340001, 086796600...   \n",
       "4                                           [0786304008]   \n",
       "...                                                  ...   \n",
       "58672                           [0874816003, 0911870004]   \n",
       "58673                           [0861803014, 0849886010]   \n",
       "58674  [0396135007, 0817472007, 0715624050, 081747200...   \n",
       "58675                           [0750423010, 0761269001]   \n",
       "58676                                       [0898573003]   \n",
       "\n",
       "                                            article_id_y  \n",
       "0      [0915526001, 0866731001, 0881942001, 089615200...  \n",
       "1      [0732842014, 0732842021, 0732842015, 057689700...  \n",
       "2      [0918292001, 0915526001, 0866731001, 091829200...  \n",
       "3      [0158340001, 0933989002, 0865799005, 092974400...  \n",
       "4      [0751471001, 0850917001, 0706016001, 091829200...  \n",
       "...                                                  ...  \n",
       "58672  [0751471001, 0448509014, 0706016001, 015834000...  \n",
       "58673  [0914441004, 0852584001, 0919273002, 068581400...  \n",
       "58674  [0914441004, 0914441005, 0914441007, 091444100...  \n",
       "58675  [0724906009, 0724906019, 0724906007, 070601600...  \n",
       "58676  [0893133001, 0906352001, 0873276003, 086794800...  \n",
       "\n",
       "[58677 rows x 3 columns]"
      ]
     },
     "execution_count": 99,
     "metadata": {},
     "output_type": "execute_result"
    }
   ],
   "source": [
    "preds"
   ]
  },
  {
   "cell_type": "code",
   "execution_count": 100,
   "id": "8608698d",
   "metadata": {},
   "outputs": [],
   "source": [
    "preds.columns = ['customer_id', 'y_true', 'y_pred']"
   ]
  },
  {
   "cell_type": "code",
   "execution_count": 101,
   "id": "e0dff01e",
   "metadata": {},
   "outputs": [
    {
     "data": {
      "text/html": [
       "<div>\n",
       "<style scoped>\n",
       "    .dataframe tbody tr th:only-of-type {\n",
       "        vertical-align: middle;\n",
       "    }\n",
       "\n",
       "    .dataframe tbody tr th {\n",
       "        vertical-align: top;\n",
       "    }\n",
       "\n",
       "    .dataframe thead th {\n",
       "        text-align: right;\n",
       "    }\n",
       "</style>\n",
       "<table border=\"1\" class=\"dataframe\">\n",
       "  <thead>\n",
       "    <tr style=\"text-align: right;\">\n",
       "      <th></th>\n",
       "      <th>customer_id</th>\n",
       "      <th>y_true</th>\n",
       "      <th>y_pred</th>\n",
       "    </tr>\n",
       "  </thead>\n",
       "  <tbody>\n",
       "    <tr>\n",
       "      <th>0</th>\n",
       "      <td>00039306476aaf41a07fed942884f16b30abfa83a2a8be...</td>\n",
       "      <td>[0624486001]</td>\n",
       "      <td>[0915526001, 0866731001, 0881942001, 089615200...</td>\n",
       "    </tr>\n",
       "    <tr>\n",
       "      <th>1</th>\n",
       "      <td>000493dd9fc463df1acc2081450c9e75ef8e87d5dd17ed...</td>\n",
       "      <td>[0757926001, 0788575004, 0640021019]</td>\n",
       "      <td>[0732842014, 0732842021, 0732842015, 057689700...</td>\n",
       "    </tr>\n",
       "    <tr>\n",
       "      <th>2</th>\n",
       "      <td>000525e3fe01600d717da8423643a8303390a055c578ed...</td>\n",
       "      <td>[0874110016]</td>\n",
       "      <td>[0918292001, 0915526001, 0866731001, 091829200...</td>\n",
       "    </tr>\n",
       "    <tr>\n",
       "      <th>3</th>\n",
       "      <td>00077dbd5c4a4991e092e63893ccf29294a9d5c46e8501...</td>\n",
       "      <td>[0903762001, 0879189005, 0158340001, 086796600...</td>\n",
       "      <td>[0158340001, 0933989002, 0865799005, 092974400...</td>\n",
       "    </tr>\n",
       "    <tr>\n",
       "      <th>4</th>\n",
       "      <td>0008daf19b2a7cd6fa00836c717aa0f143c83d88c35e02...</td>\n",
       "      <td>[0786304008]</td>\n",
       "      <td>[0751471001, 0850917001, 0706016001, 091829200...</td>\n",
       "    </tr>\n",
       "  </tbody>\n",
       "</table>\n",
       "</div>"
      ],
      "text/plain": [
       "                                         customer_id  \\\n",
       "0  00039306476aaf41a07fed942884f16b30abfa83a2a8be...   \n",
       "1  000493dd9fc463df1acc2081450c9e75ef8e87d5dd17ed...   \n",
       "2  000525e3fe01600d717da8423643a8303390a055c578ed...   \n",
       "3  00077dbd5c4a4991e092e63893ccf29294a9d5c46e8501...   \n",
       "4  0008daf19b2a7cd6fa00836c717aa0f143c83d88c35e02...   \n",
       "\n",
       "                                              y_true  \\\n",
       "0                                       [0624486001]   \n",
       "1               [0757926001, 0788575004, 0640021019]   \n",
       "2                                       [0874110016]   \n",
       "3  [0903762001, 0879189005, 0158340001, 086796600...   \n",
       "4                                       [0786304008]   \n",
       "\n",
       "                                              y_pred  \n",
       "0  [0915526001, 0866731001, 0881942001, 089615200...  \n",
       "1  [0732842014, 0732842021, 0732842015, 057689700...  \n",
       "2  [0918292001, 0915526001, 0866731001, 091829200...  \n",
       "3  [0158340001, 0933989002, 0865799005, 092974400...  \n",
       "4  [0751471001, 0850917001, 0706016001, 091829200...  "
      ]
     },
     "execution_count": 101,
     "metadata": {},
     "output_type": "execute_result"
    }
   ],
   "source": [
    "preds.head()"
   ]
  },
  {
   "cell_type": "code",
   "execution_count": 102,
   "id": "a6593f39",
   "metadata": {
    "scrolled": true
   },
   "outputs": [
    {
     "data": {
      "text/plain": [
       "0.023871722278462845"
      ]
     },
     "execution_count": 102,
     "metadata": {},
     "output_type": "execute_result"
    }
   ],
   "source": [
    "map_at_k(preds['y_true'], preds['y_pred'], k=12)"
   ]
  },
  {
   "cell_type": "code",
   "execution_count": null,
   "id": "29ca02c2",
   "metadata": {},
   "outputs": [],
   "source": []
  },
  {
   "cell_type": "code",
   "execution_count": null,
   "id": "2c466884",
   "metadata": {},
   "outputs": [],
   "source": []
  },
  {
   "cell_type": "code",
   "execution_count": 103,
   "id": "b62beef3",
   "metadata": {},
   "outputs": [
    {
     "data": {
      "text/plain": [
       "<AxesSubplot:xlabel='importance', ylabel='feature'>"
      ]
     },
     "execution_count": 103,
     "metadata": {},
     "output_type": "execute_result"
    },
    {
     "data": {
      "image/png": "[encoded data removed]",
      "text/plain": [
       "<Figure size 576x1728 with 1 Axes>"
      ]
     },
     "metadata": {
      "needs_background": "light"
     },
     "output_type": "display_data"
    }
   ],
   "source": [
    "import matplotlib.pyplot as plt\n",
    "import seaborn as sns\n",
    "\n",
    "feat_importance = pd.DataFrame(\n",
    "    {\"feature\": features, \"importance\": ranker.feature_importance()}\n",
    ").sort_values(by=\"importance\", ascending=False)\n",
    "\n",
    "plt.figure(figsize=(8, 24))\n",
    "sns.barplot(y=\"feature\", x=\"importance\", data=feat_importance)"
   ]
  },
  {
   "cell_type": "code",
   "execution_count": null,
   "id": "8bd75279",
   "metadata": {},
   "outputs": [],
   "source": []
  },
  {
   "cell_type": "markdown",
   "id": "bcf9306a",
   "metadata": {},
   "source": [
    "def predict(ranker, candidates, batch_size = 10_000):\n",
    "    probs = np.zeros(candidates.shape[0])\n",
    "    for batch in range(0, candidates.shape[0], batch_size):\n",
    "        outputs = ranker.predict(candidates.loc[batch : batch + batch_size - 1, features])\n",
    "        probs[batch : batch + batch_size] = outputs\n",
    "    candidates['prob'] = probs\n",
    "    pred_lgb = val_candidates[['customer_id', 'article_id', 'prob']].sort_values(by=['customer_id', 'prob'], ascending=False).reset_index(drop=True)\n",
    "    pred_lgb = pred_lgb.groupby(['customer_id']).head(12)\n",
    "    return pred_lgb.groupby(['customer_id'])['article_id'].apply(list).reset_index()"
   ]
  },
  {
   "cell_type": "code",
   "execution_count": null,
   "id": "69a28b6b",
   "metadata": {},
   "outputs": [],
   "source": []
  },
  {
   "cell_type": "code",
   "execution_count": null,
   "id": "cfcbba8e",
   "metadata": {},
   "outputs": [],
   "source": []
  },
  {
   "cell_type": "code",
   "execution_count": null,
   "id": "7cde3e13",
   "metadata": {},
   "outputs": [],
   "source": []
  },
  {
   "cell_type": "code",
   "execution_count": null,
   "id": "d146bcc5",
   "metadata": {},
   "outputs": [],
   "source": []
  },
  {
   "cell_type": "code",
   "execution_count": null,
   "id": "10829da6",
   "metadata": {},
   "outputs": [],
   "source": []
  },
  {
   "cell_type": "code",
   "execution_count": null,
   "id": "97105597",
   "metadata": {},
   "outputs": [],
   "source": []
  },
  {
   "cell_type": "code",
   "execution_count": null,
   "id": "e1c1c418",
   "metadata": {},
   "outputs": [],
   "source": []
  },
  {
   "cell_type": "markdown",
   "id": "1ce09f38",
   "metadata": {},
   "source": [
    "### Stratified Group K Fold"
   ]
  },
  {
   "cell_type": "code",
   "execution_count": 85,
   "id": "ca1b4149",
   "metadata": {},
   "outputs": [],
   "source": [
    "from sklearn.model_selection import StratifiedGroupKFold"
   ]
  },
  {
   "cell_type": "code",
   "execution_count": 86,
   "id": "e884700b",
   "metadata": {},
   "outputs": [],
   "source": [
    "sgkf = StratifiedGroupKFold(n_splits=4)"
   ]
  },
  {
   "cell_type": "code",
   "execution_count": 87,
   "id": "4a306b24",
   "metadata": {
    "scrolled": false
   },
   "outputs": [
    {
     "name": "stdout",
     "output_type": "stream",
     "text": [
      "0\n"
     ]
    },
    {
     "name": "stderr",
     "output_type": "stream",
     "text": [
      "/Users/mmadej/Desktop/Projects/gid-ml-framework/.venv/lib/python3.8/site-packages/lightgbm/basic.py:2065: UserWarning: Using categorical_feature in Dataset.\n",
      "  _log_warning('Using categorical_feature in Dataset.')\n",
      "/Users/mmadej/Desktop/Projects/gid-ml-framework/.venv/lib/python3.8/site-packages/lightgbm/basic.py:1780: UserWarning: Overriding the parameters from Reference Dataset.\n",
      "  _log_warning('Overriding the parameters from Reference Dataset.')\n",
      "/Users/mmadej/Desktop/Projects/gid-ml-framework/.venv/lib/python3.8/site-packages/lightgbm/basic.py:1513: UserWarning: categorical_column in param dict is overridden.\n",
      "  _log_warning(f'{cat_alias} in param dict is overridden.')\n"
     ]
    },
    {
     "name": "stdout",
     "output_type": "stream",
     "text": [
      "[1]\ttrain's map@12: 0.998845\tvalid's map@12: 0.998492\n",
      "[2]\ttrain's map@12: 0.99928\tvalid's map@12: 0.998895\n",
      "[3]\ttrain's map@12: 0.99958\tvalid's map@12: 0.999179\n",
      "[4]\ttrain's map@12: 0.999642\tvalid's map@12: 0.999228\n",
      "[5]\ttrain's map@12: 0.999664\tvalid's map@12: 0.999276\n",
      "[6]\ttrain's map@12: 0.999688\tvalid's map@12: 0.99926\n",
      "[7]\ttrain's map@12: 0.999737\tvalid's map@12: 0.999248\n",
      "[8]\ttrain's map@12: 0.999775\tvalid's map@12: 0.999272\n",
      "[9]\ttrain's map@12: 0.999788\tvalid's map@12: 0.999274\n",
      "[10]\ttrain's map@12: 0.999795\tvalid's map@12: 0.999308\n",
      "[11]\ttrain's map@12: 0.999811\tvalid's map@12: 0.999248\n",
      "[12]\ttrain's map@12: 0.999857\tvalid's map@12: 0.999267\n",
      "[13]\ttrain's map@12: 0.999865\tvalid's map@12: 0.999258\n",
      "[14]\ttrain's map@12: 0.99986\tvalid's map@12: 0.999338\n",
      "[15]\ttrain's map@12: 0.999886\tvalid's map@12: 0.999335\n",
      "[16]\ttrain's map@12: 0.999886\tvalid's map@12: 0.99934\n",
      "[17]\ttrain's map@12: 0.999883\tvalid's map@12: 0.999342\n",
      "[18]\ttrain's map@12: 0.999885\tvalid's map@12: 0.999358\n",
      "[19]\ttrain's map@12: 0.999891\tvalid's map@12: 0.999375\n",
      "[20]\ttrain's map@12: 0.999886\tvalid's map@12: 0.999373\n",
      "[21]\ttrain's map@12: 0.999891\tvalid's map@12: 0.999373\n",
      "[22]\ttrain's map@12: 0.999908\tvalid's map@12: 0.999392\n",
      "[23]\ttrain's map@12: 0.999908\tvalid's map@12: 0.999379\n",
      "[24]\ttrain's map@12: 0.999908\tvalid's map@12: 0.999379\n",
      "[25]\ttrain's map@12: 0.999908\tvalid's map@12: 0.99936\n",
      "[26]\ttrain's map@12: 0.999917\tvalid's map@12: 0.999363\n",
      "[27]\ttrain's map@12: 0.999917\tvalid's map@12: 0.999367\n",
      "[28]\ttrain's map@12: 0.999921\tvalid's map@12: 0.999367\n",
      "[29]\ttrain's map@12: 0.999953\tvalid's map@12: 0.999417\n",
      "[30]\ttrain's map@12: 0.999948\tvalid's map@12: 0.999399\n",
      "1\n"
     ]
    },
    {
     "name": "stderr",
     "output_type": "stream",
     "text": [
      "/Users/mmadej/Desktop/Projects/gid-ml-framework/.venv/lib/python3.8/site-packages/lightgbm/basic.py:2065: UserWarning: Using categorical_feature in Dataset.\n",
      "  _log_warning('Using categorical_feature in Dataset.')\n",
      "/Users/mmadej/Desktop/Projects/gid-ml-framework/.venv/lib/python3.8/site-packages/lightgbm/basic.py:1780: UserWarning: Overriding the parameters from Reference Dataset.\n",
      "  _log_warning('Overriding the parameters from Reference Dataset.')\n",
      "/Users/mmadej/Desktop/Projects/gid-ml-framework/.venv/lib/python3.8/site-packages/lightgbm/basic.py:1513: UserWarning: categorical_column in param dict is overridden.\n",
      "  _log_warning(f'{cat_alias} in param dict is overridden.')\n"
     ]
    },
    {
     "name": "stdout",
     "output_type": "stream",
     "text": [
      "[1]\ttrain's map@12: 0.998873\tvalid's map@12: 0.998525\n",
      "[2]\ttrain's map@12: 0.999397\tvalid's map@12: 0.998854\n",
      "[3]\ttrain's map@12: 0.999527\tvalid's map@12: 0.998925\n",
      "[4]\ttrain's map@12: 0.999646\tvalid's map@12: 0.998993\n",
      "[5]\ttrain's map@12: 0.999729\tvalid's map@12: 0.998995\n",
      "[6]\ttrain's map@12: 0.999765\tvalid's map@12: 0.998996\n",
      "[7]\ttrain's map@12: 0.999794\tvalid's map@12: 0.998982\n",
      "[8]\ttrain's map@12: 0.999808\tvalid's map@12: 0.99898\n",
      "[9]\ttrain's map@12: 0.999816\tvalid's map@12: 0.998993\n",
      "[10]\ttrain's map@12: 0.999825\tvalid's map@12: 0.998998\n",
      "[11]\ttrain's map@12: 0.999848\tvalid's map@12: 0.999025\n",
      "[12]\ttrain's map@12: 0.999856\tvalid's map@12: 0.999025\n",
      "[13]\ttrain's map@12: 0.999859\tvalid's map@12: 0.999038\n",
      "[14]\ttrain's map@12: 0.99986\tvalid's map@12: 0.999052\n",
      "[15]\ttrain's map@12: 0.999857\tvalid's map@12: 0.999037\n",
      "[16]\ttrain's map@12: 0.99986\tvalid's map@12: 0.999036\n",
      "[17]\ttrain's map@12: 0.999857\tvalid's map@12: 0.999051\n",
      "[18]\ttrain's map@12: 0.999857\tvalid's map@12: 0.999054\n",
      "[19]\ttrain's map@12: 0.999866\tvalid's map@12: 0.999049\n",
      "[20]\ttrain's map@12: 0.999864\tvalid's map@12: 0.999066\n",
      "[21]\ttrain's map@12: 0.99988\tvalid's map@12: 0.999078\n",
      "[22]\ttrain's map@12: 0.999888\tvalid's map@12: 0.999088\n",
      "[23]\ttrain's map@12: 0.99989\tvalid's map@12: 0.999083\n",
      "[24]\ttrain's map@12: 0.99989\tvalid's map@12: 0.999083\n",
      "[25]\ttrain's map@12: 0.999896\tvalid's map@12: 0.999074\n",
      "[26]\ttrain's map@12: 0.9999\tvalid's map@12: 0.999089\n",
      "[27]\ttrain's map@12: 0.9999\tvalid's map@12: 0.999103\n",
      "[28]\ttrain's map@12: 0.999896\tvalid's map@12: 0.999084\n",
      "[29]\ttrain's map@12: 0.999896\tvalid's map@12: 0.999099\n",
      "[30]\ttrain's map@12: 0.999899\tvalid's map@12: 0.999087\n",
      "2\n"
     ]
    },
    {
     "name": "stderr",
     "output_type": "stream",
     "text": [
      "/Users/mmadej/Desktop/Projects/gid-ml-framework/.venv/lib/python3.8/site-packages/lightgbm/basic.py:2065: UserWarning: Using categorical_feature in Dataset.\n",
      "  _log_warning('Using categorical_feature in Dataset.')\n",
      "/Users/mmadej/Desktop/Projects/gid-ml-framework/.venv/lib/python3.8/site-packages/lightgbm/basic.py:1780: UserWarning: Overriding the parameters from Reference Dataset.\n",
      "  _log_warning('Overriding the parameters from Reference Dataset.')\n",
      "/Users/mmadej/Desktop/Projects/gid-ml-framework/.venv/lib/python3.8/site-packages/lightgbm/basic.py:1513: UserWarning: categorical_column in param dict is overridden.\n",
      "  _log_warning(f'{cat_alias} in param dict is overridden.')\n"
     ]
    },
    {
     "name": "stdout",
     "output_type": "stream",
     "text": [
      "[1]\ttrain's map@12: 0.998744\tvalid's map@12: 0.99845\n",
      "[2]\ttrain's map@12: 0.999452\tvalid's map@12: 0.998874\n",
      "[3]\ttrain's map@12: 0.999559\tvalid's map@12: 0.999003\n",
      "[4]\ttrain's map@12: 0.999657\tvalid's map@12: 0.99912\n",
      "[5]\ttrain's map@12: 0.999699\tvalid's map@12: 0.999099\n",
      "[6]\ttrain's map@12: 0.999712\tvalid's map@12: 0.999114\n",
      "[7]\ttrain's map@12: 0.99972\tvalid's map@12: 0.99916\n",
      "[8]\ttrain's map@12: 0.99976\tvalid's map@12: 0.999166\n",
      "[9]\ttrain's map@12: 0.999756\tvalid's map@12: 0.999153\n",
      "[10]\ttrain's map@12: 0.999786\tvalid's map@12: 0.999138\n",
      "[11]\ttrain's map@12: 0.999818\tvalid's map@12: 0.999227\n",
      "[12]\ttrain's map@12: 0.999837\tvalid's map@12: 0.999221\n",
      "[13]\ttrain's map@12: 0.999844\tvalid's map@12: 0.999233\n",
      "[14]\ttrain's map@12: 0.999851\tvalid's map@12: 0.999217\n",
      "[15]\ttrain's map@12: 0.999861\tvalid's map@12: 0.999207\n",
      "[16]\ttrain's map@12: 0.999882\tvalid's map@12: 0.999214\n",
      "[17]\ttrain's map@12: 0.99987\tvalid's map@12: 0.999218\n",
      "[18]\ttrain's map@12: 0.999891\tvalid's map@12: 0.999218\n",
      "[19]\ttrain's map@12: 0.999901\tvalid's map@12: 0.999231\n",
      "[20]\ttrain's map@12: 0.999901\tvalid's map@12: 0.999238\n",
      "[21]\ttrain's map@12: 0.999907\tvalid's map@12: 0.999233\n",
      "[22]\ttrain's map@12: 0.999907\tvalid's map@12: 0.999221\n",
      "[23]\ttrain's map@12: 0.999913\tvalid's map@12: 0.99926\n",
      "[24]\ttrain's map@12: 0.999914\tvalid's map@12: 0.999251\n",
      "[25]\ttrain's map@12: 0.999914\tvalid's map@12: 0.99924\n",
      "[26]\ttrain's map@12: 0.999913\tvalid's map@12: 0.999244\n",
      "[27]\ttrain's map@12: 0.999913\tvalid's map@12: 0.999257\n",
      "[28]\ttrain's map@12: 0.999932\tvalid's map@12: 0.999281\n",
      "[29]\ttrain's map@12: 0.999932\tvalid's map@12: 0.999302\n",
      "[30]\ttrain's map@12: 0.999932\tvalid's map@12: 0.999302\n",
      "3\n"
     ]
    },
    {
     "name": "stderr",
     "output_type": "stream",
     "text": [
      "/Users/mmadej/Desktop/Projects/gid-ml-framework/.venv/lib/python3.8/site-packages/lightgbm/basic.py:2065: UserWarning: Using categorical_feature in Dataset.\n",
      "  _log_warning('Using categorical_feature in Dataset.')\n",
      "/Users/mmadej/Desktop/Projects/gid-ml-framework/.venv/lib/python3.8/site-packages/lightgbm/basic.py:1780: UserWarning: Overriding the parameters from Reference Dataset.\n",
      "  _log_warning('Overriding the parameters from Reference Dataset.')\n",
      "/Users/mmadej/Desktop/Projects/gid-ml-framework/.venv/lib/python3.8/site-packages/lightgbm/basic.py:1513: UserWarning: categorical_column in param dict is overridden.\n",
      "  _log_warning(f'{cat_alias} in param dict is overridden.')\n"
     ]
    },
    {
     "name": "stdout",
     "output_type": "stream",
     "text": [
      "[1]\ttrain's map@12: 0.998702\tvalid's map@12: 0.998429\n",
      "[2]\ttrain's map@12: 0.999386\tvalid's map@12: 0.998762\n",
      "[3]\ttrain's map@12: 0.99953\tvalid's map@12: 0.99896\n",
      "[4]\ttrain's map@12: 0.999599\tvalid's map@12: 0.998992\n",
      "[5]\ttrain's map@12: 0.999669\tvalid's map@12: 0.99905\n",
      "[6]\ttrain's map@12: 0.999695\tvalid's map@12: 0.99914\n",
      "[7]\ttrain's map@12: 0.999695\tvalid's map@12: 0.999083\n",
      "[8]\ttrain's map@12: 0.999729\tvalid's map@12: 0.999096\n",
      "[9]\ttrain's map@12: 0.999747\tvalid's map@12: 0.999133\n",
      "[10]\ttrain's map@12: 0.999764\tvalid's map@12: 0.999154\n",
      "[11]\ttrain's map@12: 0.999784\tvalid's map@12: 0.999143\n",
      "[12]\ttrain's map@12: 0.999796\tvalid's map@12: 0.999145\n",
      "[13]\ttrain's map@12: 0.999824\tvalid's map@12: 0.999137\n",
      "[14]\ttrain's map@12: 0.999838\tvalid's map@12: 0.999133\n",
      "[15]\ttrain's map@12: 0.999846\tvalid's map@12: 0.99915\n",
      "[16]\ttrain's map@12: 0.999855\tvalid's map@12: 0.999185\n",
      "[17]\ttrain's map@12: 0.999856\tvalid's map@12: 0.999187\n",
      "[18]\ttrain's map@12: 0.999855\tvalid's map@12: 0.999196\n",
      "[19]\ttrain's map@12: 0.99987\tvalid's map@12: 0.999195\n",
      "[20]\ttrain's map@12: 0.999869\tvalid's map@12: 0.999189\n",
      "[21]\ttrain's map@12: 0.999867\tvalid's map@12: 0.999184\n",
      "[22]\ttrain's map@12: 0.999895\tvalid's map@12: 0.999205\n",
      "[23]\ttrain's map@12: 0.999903\tvalid's map@12: 0.9992\n",
      "[24]\ttrain's map@12: 0.999908\tvalid's map@12: 0.999204\n",
      "[25]\ttrain's map@12: 0.999902\tvalid's map@12: 0.999242\n",
      "[26]\ttrain's map@12: 0.999921\tvalid's map@12: 0.999239\n",
      "[27]\ttrain's map@12: 0.999923\tvalid's map@12: 0.99924\n",
      "[28]\ttrain's map@12: 0.999932\tvalid's map@12: 0.999254\n",
      "[29]\ttrain's map@12: 0.999932\tvalid's map@12: 0.999269\n",
      "[30]\ttrain's map@12: 0.99994\tvalid's map@12: 0.999272\n"
     ]
    }
   ],
   "source": [
    "for i, (train_idxs, val_idxs) in enumerate(sgkf.split(candidates.index, candidates.label, candidates.customer_id)):\n",
    "    print(i)\n",
    "    # train\n",
    "    train_group = candidates.loc[train_idxs, :][['customer_id', 'article_id']]\n",
    "    train_group = train_group.groupby(['customer_id']).size().values\n",
    "    \n",
    "    train_set = lgb.Dataset(\n",
    "        data=candidates.loc[train_idxs, :][features],\n",
    "        label=candidates.loc[train_idxs, :][\"label\"],\n",
    "        group=train_group,\n",
    "        feature_name=features,\n",
    "        categorical_feature=cat_features,\n",
    "        params=params,\n",
    "    )\n",
    "    \n",
    "    # val\n",
    "    val_group = candidates.loc[val_idxs, :][['customer_id', 'article_id']]\n",
    "    val_group = val_group.groupby(['customer_id']).size().values\n",
    "    \n",
    "    val_set = lgb.Dataset(\n",
    "        data=candidates.loc[val_idxs, :][features],\n",
    "        label=candidates.loc[val_idxs, :][\"label\"],\n",
    "        group=val_group,\n",
    "        feature_name=features,\n",
    "        categorical_feature=cat_features,\n",
    "        params=params,\n",
    "    )\n",
    "    \n",
    "    ranker = lgb.train(\n",
    "        params,\n",
    "        train_set,\n",
    "        valid_sets=[train_set, val_set],\n",
    "        valid_names=['train', 'valid'],\n",
    "        num_boost_round=30,\n",
    "    )"
   ]
  },
  {
   "cell_type": "code",
   "execution_count": 88,
   "id": "d84cb513",
   "metadata": {},
   "outputs": [
    {
     "data": {
      "text/plain": [
       "<lightgbm.basic.Booster at 0x15fb77af0>"
      ]
     },
     "execution_count": 88,
     "metadata": {},
     "output_type": "execute_result"
    }
   ],
   "source": [
    "ranker"
   ]
  },
  {
   "cell_type": "code",
   "execution_count": 110,
   "id": "36acd5c9",
   "metadata": {},
   "outputs": [],
   "source": [
    "probs = np.zeros(val_candidates.shape[0])"
   ]
  },
  {
   "cell_type": "code",
   "execution_count": 111,
   "id": "a047d79d",
   "metadata": {},
   "outputs": [
    {
     "data": {
      "text/plain": [
       "array([0., 0., 0., ..., 0., 0., 0.])"
      ]
     },
     "execution_count": 111,
     "metadata": {},
     "output_type": "execute_result"
    }
   ],
   "source": [
    "probs"
   ]
  },
  {
   "cell_type": "code",
   "execution_count": 112,
   "id": "249cd9cb",
   "metadata": {},
   "outputs": [],
   "source": [
    "for batch in range(0, val_candidates.shape[0], 5_000_000):\n",
    "    outputs = ranker.predict(val_candidates.loc[batch : batch + 5_000_000 - 1, features])\n",
    "    probs[batch : batch + 5_000_000] = outputs"
   ]
  },
  {
   "cell_type": "code",
   "execution_count": 113,
   "id": "09e5be0e",
   "metadata": {},
   "outputs": [
    {
     "name": "stderr",
     "output_type": "stream",
     "text": [
      "/var/folders/dl/55k0mmrx765_h9n3c5rmqz8c0000gn/T/ipykernel_5583/3238427657.py:1: SettingWithCopyWarning: \n",
      "A value is trying to be set on a copy of a slice from a DataFrame.\n",
      "Try using .loc[row_indexer,col_indexer] = value instead\n",
      "\n",
      "See the caveats in the documentation: https://pandas.pydata.org/pandas-docs/stable/user_guide/indexing.html#returning-a-view-versus-a-copy\n",
      "  val_candidates[\"prob\"] = probs\n"
     ]
    }
   ],
   "source": [
    "val_candidates[\"prob\"] = probs"
   ]
  },
  {
   "cell_type": "code",
   "execution_count": 114,
   "id": "da6ae97a",
   "metadata": {},
   "outputs": [],
   "source": [
    "pred_lgb = val_candidates[['customer_id', 'article_id', 'prob']].sort_values(by=['customer_id', 'prob'], ascending=False).reset_index(drop=True)"
   ]
  },
  {
   "cell_type": "code",
   "execution_count": 115,
   "id": "c708ae4d",
   "metadata": {},
   "outputs": [
    {
     "data": {
      "text/html": [
       "<div>\n",
       "<style scoped>\n",
       "    .dataframe tbody tr th:only-of-type {\n",
       "        vertical-align: middle;\n",
       "    }\n",
       "\n",
       "    .dataframe tbody tr th {\n",
       "        vertical-align: top;\n",
       "    }\n",
       "\n",
       "    .dataframe thead th {\n",
       "        text-align: right;\n",
       "    }\n",
       "</style>\n",
       "<table border=\"1\" class=\"dataframe\">\n",
       "  <thead>\n",
       "    <tr style=\"text-align: right;\">\n",
       "      <th></th>\n",
       "      <th>customer_id</th>\n",
       "      <th>article_id</th>\n",
       "      <th>prob</th>\n",
       "    </tr>\n",
       "  </thead>\n",
       "  <tbody>\n",
       "    <tr>\n",
       "      <th>0</th>\n",
       "      <td>fff62d5b7df1ffc31c733ccf4b59af21d645e2b2d11256...</td>\n",
       "      <td>0554479001</td>\n",
       "      <td>-1.2214</td>\n",
       "    </tr>\n",
       "    <tr>\n",
       "      <th>1</th>\n",
       "      <td>fff62d5b7df1ffc31c733ccf4b59af21d645e2b2d11256...</td>\n",
       "      <td>0904571001</td>\n",
       "      <td>-1.2214</td>\n",
       "    </tr>\n",
       "    <tr>\n",
       "      <th>2</th>\n",
       "      <td>fff62d5b7df1ffc31c733ccf4b59af21d645e2b2d11256...</td>\n",
       "      <td>0869331006</td>\n",
       "      <td>-1.2214</td>\n",
       "    </tr>\n",
       "    <tr>\n",
       "      <th>3</th>\n",
       "      <td>fff62d5b7df1ffc31c733ccf4b59af21d645e2b2d11256...</td>\n",
       "      <td>0792469001</td>\n",
       "      <td>-1.2214</td>\n",
       "    </tr>\n",
       "    <tr>\n",
       "      <th>4</th>\n",
       "      <td>fff62d5b7df1ffc31c733ccf4b59af21d645e2b2d11256...</td>\n",
       "      <td>0902528006</td>\n",
       "      <td>-1.2214</td>\n",
       "    </tr>\n",
       "    <tr>\n",
       "      <th>...</th>\n",
       "      <td>...</td>\n",
       "      <td>...</td>\n",
       "      <td>...</td>\n",
       "    </tr>\n",
       "    <tr>\n",
       "      <th>669381</th>\n",
       "      <td>0003e56a4332b2503e34640be92031ad48f1280ee6e3a7...</td>\n",
       "      <td>0579541086</td>\n",
       "      <td>-1.2215</td>\n",
       "    </tr>\n",
       "    <tr>\n",
       "      <th>669382</th>\n",
       "      <td>0003e56a4332b2503e34640be92031ad48f1280ee6e3a7...</td>\n",
       "      <td>0863565004</td>\n",
       "      <td>-1.2215</td>\n",
       "    </tr>\n",
       "    <tr>\n",
       "      <th>669383</th>\n",
       "      <td>0003e56a4332b2503e34640be92031ad48f1280ee6e3a7...</td>\n",
       "      <td>0720504008</td>\n",
       "      <td>-1.2215</td>\n",
       "    </tr>\n",
       "    <tr>\n",
       "      <th>669384</th>\n",
       "      <td>0003e56a4332b2503e34640be92031ad48f1280ee6e3a7...</td>\n",
       "      <td>0907951001</td>\n",
       "      <td>-1.2215</td>\n",
       "    </tr>\n",
       "    <tr>\n",
       "      <th>669385</th>\n",
       "      <td>0003e56a4332b2503e34640be92031ad48f1280ee6e3a7...</td>\n",
       "      <td>0301656029</td>\n",
       "      <td>-1.2229</td>\n",
       "    </tr>\n",
       "  </tbody>\n",
       "</table>\n",
       "<p>669386 rows × 3 columns</p>\n",
       "</div>"
      ],
      "text/plain": [
       "                                              customer_id  article_id    prob\n",
       "0       fff62d5b7df1ffc31c733ccf4b59af21d645e2b2d11256...  0554479001 -1.2214\n",
       "1       fff62d5b7df1ffc31c733ccf4b59af21d645e2b2d11256...  0904571001 -1.2214\n",
       "2       fff62d5b7df1ffc31c733ccf4b59af21d645e2b2d11256...  0869331006 -1.2214\n",
       "3       fff62d5b7df1ffc31c733ccf4b59af21d645e2b2d11256...  0792469001 -1.2214\n",
       "4       fff62d5b7df1ffc31c733ccf4b59af21d645e2b2d11256...  0902528006 -1.2214\n",
       "...                                                   ...         ...     ...\n",
       "669381  0003e56a4332b2503e34640be92031ad48f1280ee6e3a7...  0579541086 -1.2215\n",
       "669382  0003e56a4332b2503e34640be92031ad48f1280ee6e3a7...  0863565004 -1.2215\n",
       "669383  0003e56a4332b2503e34640be92031ad48f1280ee6e3a7...  0720504008 -1.2215\n",
       "669384  0003e56a4332b2503e34640be92031ad48f1280ee6e3a7...  0907951001 -1.2215\n",
       "669385  0003e56a4332b2503e34640be92031ad48f1280ee6e3a7...  0301656029 -1.2229\n",
       "\n",
       "[669386 rows x 3 columns]"
      ]
     },
     "execution_count": 115,
     "metadata": {},
     "output_type": "execute_result"
    }
   ],
   "source": [
    "pred_lgb"
   ]
  },
  {
   "cell_type": "code",
   "execution_count": 116,
   "id": "424c3f76",
   "metadata": {},
   "outputs": [
    {
     "data": {
      "text/plain": [
       "count   669386.0000\n",
       "mean        -1.2203\n",
       "std          0.0497\n",
       "min         -1.3059\n",
       "25%         -1.2225\n",
       "50%         -1.2215\n",
       "75%         -1.2215\n",
       "max          1.2125\n",
       "Name: prob, dtype: float64"
      ]
     },
     "execution_count": 116,
     "metadata": {},
     "output_type": "execute_result"
    }
   ],
   "source": [
    "pred_lgb.prob.describe()"
   ]
  },
  {
   "cell_type": "code",
   "execution_count": 117,
   "id": "ff561cb9",
   "metadata": {},
   "outputs": [],
   "source": [
    "pred_lgb = pred_lgb.groupby(['customer_id']).head(12)"
   ]
  },
  {
   "cell_type": "markdown",
   "id": "bff7df1c",
   "metadata": {},
   "source": [
    "pred_lgb.loc[:, ['customer_id', 'article_id']] = pred_lgb.loc[:, ['customer_id', 'article_id']].astype(str)"
   ]
  },
  {
   "cell_type": "code",
   "execution_count": 118,
   "id": "2f500423",
   "metadata": {},
   "outputs": [
    {
     "data": {
      "text/plain": [
       "2000"
      ]
     },
     "execution_count": 118,
     "metadata": {},
     "output_type": "execute_result"
    }
   ],
   "source": [
    "pred_lgb.customer_id.nunique()"
   ]
  },
  {
   "cell_type": "code",
   "execution_count": 119,
   "id": "9897b045",
   "metadata": {},
   "outputs": [
    {
     "data": {
      "text/html": [
       "<div>\n",
       "<style scoped>\n",
       "    .dataframe tbody tr th:only-of-type {\n",
       "        vertical-align: middle;\n",
       "    }\n",
       "\n",
       "    .dataframe tbody tr th {\n",
       "        vertical-align: top;\n",
       "    }\n",
       "\n",
       "    .dataframe thead th {\n",
       "        text-align: right;\n",
       "    }\n",
       "</style>\n",
       "<table border=\"1\" class=\"dataframe\">\n",
       "  <thead>\n",
       "    <tr style=\"text-align: right;\">\n",
       "      <th></th>\n",
       "      <th>customer_id</th>\n",
       "      <th>article_id</th>\n",
       "      <th>prob</th>\n",
       "    </tr>\n",
       "  </thead>\n",
       "  <tbody>\n",
       "    <tr>\n",
       "      <th>0</th>\n",
       "      <td>fff62d5b7df1ffc31c733ccf4b59af21d645e2b2d11256...</td>\n",
       "      <td>0554479001</td>\n",
       "      <td>-1.2214</td>\n",
       "    </tr>\n",
       "    <tr>\n",
       "      <th>1</th>\n",
       "      <td>fff62d5b7df1ffc31c733ccf4b59af21d645e2b2d11256...</td>\n",
       "      <td>0904571001</td>\n",
       "      <td>-1.2214</td>\n",
       "    </tr>\n",
       "    <tr>\n",
       "      <th>2</th>\n",
       "      <td>fff62d5b7df1ffc31c733ccf4b59af21d645e2b2d11256...</td>\n",
       "      <td>0869331006</td>\n",
       "      <td>-1.2214</td>\n",
       "    </tr>\n",
       "    <tr>\n",
       "      <th>3</th>\n",
       "      <td>fff62d5b7df1ffc31c733ccf4b59af21d645e2b2d11256...</td>\n",
       "      <td>0792469001</td>\n",
       "      <td>-1.2214</td>\n",
       "    </tr>\n",
       "    <tr>\n",
       "      <th>4</th>\n",
       "      <td>fff62d5b7df1ffc31c733ccf4b59af21d645e2b2d11256...</td>\n",
       "      <td>0902528006</td>\n",
       "      <td>-1.2214</td>\n",
       "    </tr>\n",
       "    <tr>\n",
       "      <th>...</th>\n",
       "      <td>...</td>\n",
       "      <td>...</td>\n",
       "      <td>...</td>\n",
       "    </tr>\n",
       "    <tr>\n",
       "      <th>8</th>\n",
       "      <td>fff62d5b7df1ffc31c733ccf4b59af21d645e2b2d11256...</td>\n",
       "      <td>0832481002</td>\n",
       "      <td>-1.2214</td>\n",
       "    </tr>\n",
       "    <tr>\n",
       "      <th>9</th>\n",
       "      <td>fff62d5b7df1ffc31c733ccf4b59af21d645e2b2d11256...</td>\n",
       "      <td>0688728023</td>\n",
       "      <td>-1.2214</td>\n",
       "    </tr>\n",
       "    <tr>\n",
       "      <th>10</th>\n",
       "      <td>fff62d5b7df1ffc31c733ccf4b59af21d645e2b2d11256...</td>\n",
       "      <td>0158340001</td>\n",
       "      <td>-1.2214</td>\n",
       "    </tr>\n",
       "    <tr>\n",
       "      <th>11</th>\n",
       "      <td>fff62d5b7df1ffc31c733ccf4b59af21d645e2b2d11256...</td>\n",
       "      <td>0706016015</td>\n",
       "      <td>-1.2214</td>\n",
       "    </tr>\n",
       "    <tr>\n",
       "      <th>318</th>\n",
       "      <td>ffd11fc7ac9aa1e2da89d1c3137a4218c15a51eaa74ce1...</td>\n",
       "      <td>0907951001</td>\n",
       "      <td>-1.2215</td>\n",
       "    </tr>\n",
       "  </tbody>\n",
       "</table>\n",
       "<p>13 rows × 3 columns</p>\n",
       "</div>"
      ],
      "text/plain": [
       "                                           customer_id  article_id    prob\n",
       "0    fff62d5b7df1ffc31c733ccf4b59af21d645e2b2d11256...  0554479001 -1.2214\n",
       "1    fff62d5b7df1ffc31c733ccf4b59af21d645e2b2d11256...  0904571001 -1.2214\n",
       "2    fff62d5b7df1ffc31c733ccf4b59af21d645e2b2d11256...  0869331006 -1.2214\n",
       "3    fff62d5b7df1ffc31c733ccf4b59af21d645e2b2d11256...  0792469001 -1.2214\n",
       "4    fff62d5b7df1ffc31c733ccf4b59af21d645e2b2d11256...  0902528006 -1.2214\n",
       "..                                                 ...         ...     ...\n",
       "8    fff62d5b7df1ffc31c733ccf4b59af21d645e2b2d11256...  0832481002 -1.2214\n",
       "9    fff62d5b7df1ffc31c733ccf4b59af21d645e2b2d11256...  0688728023 -1.2214\n",
       "10   fff62d5b7df1ffc31c733ccf4b59af21d645e2b2d11256...  0158340001 -1.2214\n",
       "11   fff62d5b7df1ffc31c733ccf4b59af21d645e2b2d11256...  0706016015 -1.2214\n",
       "318  ffd11fc7ac9aa1e2da89d1c3137a4218c15a51eaa74ce1...  0907951001 -1.2215\n",
       "\n",
       "[13 rows x 3 columns]"
      ]
     },
     "execution_count": 119,
     "metadata": {},
     "output_type": "execute_result"
    }
   ],
   "source": [
    "pred_lgb.head(13)"
   ]
  },
  {
   "cell_type": "code",
   "execution_count": 120,
   "id": "8298f602",
   "metadata": {},
   "outputs": [
    {
     "data": {
      "text/html": [
       "<div>\n",
       "<style scoped>\n",
       "    .dataframe tbody tr th:only-of-type {\n",
       "        vertical-align: middle;\n",
       "    }\n",
       "\n",
       "    .dataframe tbody tr th {\n",
       "        vertical-align: top;\n",
       "    }\n",
       "\n",
       "    .dataframe thead th {\n",
       "        text-align: right;\n",
       "    }\n",
       "</style>\n",
       "<table border=\"1\" class=\"dataframe\">\n",
       "  <thead>\n",
       "    <tr style=\"text-align: right;\">\n",
       "      <th></th>\n",
       "      <th>customer_id</th>\n",
       "      <th>article_id</th>\n",
       "    </tr>\n",
       "  </thead>\n",
       "  <tbody>\n",
       "    <tr>\n",
       "      <th>0</th>\n",
       "      <td>0003e56a4332b2503e34640be92031ad48f1280ee6e3a7...</td>\n",
       "      <td>[0554479001, 0904571001, 0869331006, 079246900...</td>\n",
       "    </tr>\n",
       "    <tr>\n",
       "      <th>1</th>\n",
       "      <td>000df6cf5f902e6bb2a45b94d96c82c62324fe04bea329...</td>\n",
       "      <td>[0907951001, 0867994001, 0831269009, 090402600...</td>\n",
       "    </tr>\n",
       "    <tr>\n",
       "      <th>2</th>\n",
       "      <td>0065848cb03f4147bfe8f8c4c5ae3fce496ad9c3389fc3...</td>\n",
       "      <td>[0832473001, 0861514001, 0783346020, 076346900...</td>\n",
       "    </tr>\n",
       "    <tr>\n",
       "      <th>3</th>\n",
       "      <td>009ce0498e522ba4d20a80b7aaecd8567b15b52eb78c0c...</td>\n",
       "      <td>[0907951001, 0867994001, 0831269009, 090402600...</td>\n",
       "    </tr>\n",
       "    <tr>\n",
       "      <th>4</th>\n",
       "      <td>00cd746a1260bc81b14b21a23e29fd520b37cd32d92b09...</td>\n",
       "      <td>[0554479001, 0904571001, 0869331006, 079246900...</td>\n",
       "    </tr>\n",
       "    <tr>\n",
       "      <th>...</th>\n",
       "      <td>...</td>\n",
       "      <td>...</td>\n",
       "    </tr>\n",
       "    <tr>\n",
       "      <th>1995</th>\n",
       "      <td>ff4a33dfcf512d6beb354aef28c2d8a2b4cc690db15817...</td>\n",
       "      <td>[0554479001, 0904571001, 0869331006, 079246900...</td>\n",
       "    </tr>\n",
       "    <tr>\n",
       "      <th>1996</th>\n",
       "      <td>ff7dceb4dbc99277091f7adaa81932a7ea237b7e108a69...</td>\n",
       "      <td>[0554479001, 0904571001, 0869331006, 079246900...</td>\n",
       "    </tr>\n",
       "    <tr>\n",
       "      <th>1997</th>\n",
       "      <td>ff993b649c572f16988976c8706f64ed23daa0a1b0e246...</td>\n",
       "      <td>[0907951001, 0904026002, 0554479001, 090457100...</td>\n",
       "    </tr>\n",
       "    <tr>\n",
       "      <th>1998</th>\n",
       "      <td>ffd11fc7ac9aa1e2da89d1c3137a4218c15a51eaa74ce1...</td>\n",
       "      <td>[0907951001, 0867994001, 0831269009, 090402600...</td>\n",
       "    </tr>\n",
       "    <tr>\n",
       "      <th>1999</th>\n",
       "      <td>fff62d5b7df1ffc31c733ccf4b59af21d645e2b2d11256...</td>\n",
       "      <td>[0554479001, 0904571001, 0869331006, 079246900...</td>\n",
       "    </tr>\n",
       "  </tbody>\n",
       "</table>\n",
       "<p>2000 rows × 2 columns</p>\n",
       "</div>"
      ],
      "text/plain": [
       "                                            customer_id  \\\n",
       "0     0003e56a4332b2503e34640be92031ad48f1280ee6e3a7...   \n",
       "1     000df6cf5f902e6bb2a45b94d96c82c62324fe04bea329...   \n",
       "2     0065848cb03f4147bfe8f8c4c5ae3fce496ad9c3389fc3...   \n",
       "3     009ce0498e522ba4d20a80b7aaecd8567b15b52eb78c0c...   \n",
       "4     00cd746a1260bc81b14b21a23e29fd520b37cd32d92b09...   \n",
       "...                                                 ...   \n",
       "1995  ff4a33dfcf512d6beb354aef28c2d8a2b4cc690db15817...   \n",
       "1996  ff7dceb4dbc99277091f7adaa81932a7ea237b7e108a69...   \n",
       "1997  ff993b649c572f16988976c8706f64ed23daa0a1b0e246...   \n",
       "1998  ffd11fc7ac9aa1e2da89d1c3137a4218c15a51eaa74ce1...   \n",
       "1999  fff62d5b7df1ffc31c733ccf4b59af21d645e2b2d11256...   \n",
       "\n",
       "                                             article_id  \n",
       "0     [0554479001, 0904571001, 0869331006, 079246900...  \n",
       "1     [0907951001, 0867994001, 0831269009, 090402600...  \n",
       "2     [0832473001, 0861514001, 0783346020, 076346900...  \n",
       "3     [0907951001, 0867994001, 0831269009, 090402600...  \n",
       "4     [0554479001, 0904571001, 0869331006, 079246900...  \n",
       "...                                                 ...  \n",
       "1995  [0554479001, 0904571001, 0869331006, 079246900...  \n",
       "1996  [0554479001, 0904571001, 0869331006, 079246900...  \n",
       "1997  [0907951001, 0904026002, 0554479001, 090457100...  \n",
       "1998  [0907951001, 0867994001, 0831269009, 090402600...  \n",
       "1999  [0554479001, 0904571001, 0869331006, 079246900...  \n",
       "\n",
       "[2000 rows x 2 columns]"
      ]
     },
     "execution_count": 120,
     "metadata": {},
     "output_type": "execute_result"
    }
   ],
   "source": [
    "pred_lgb.groupby(['customer_id'])['article_id'].apply(list).reset_index()"
   ]
  },
  {
   "cell_type": "markdown",
   "id": "5759f430",
   "metadata": {},
   "source": [
    "### Stratified Group Split"
   ]
  },
  {
   "cell_type": "markdown",
   "id": "32cca9fa",
   "metadata": {},
   "source": [
    "##### groups"
   ]
  },
  {
   "cell_type": "code",
   "execution_count": 97,
   "id": "ee215415",
   "metadata": {},
   "outputs": [],
   "source": [
    "train_group = train_candidates[['customer_id', 'article_id']]"
   ]
  },
  {
   "cell_type": "code",
   "execution_count": 98,
   "id": "f6cbb0ef",
   "metadata": {},
   "outputs": [],
   "source": [
    "train_group = train_group.groupby(['customer_id']).size().values"
   ]
  },
  {
   "cell_type": "code",
   "execution_count": 99,
   "id": "1b142408",
   "metadata": {},
   "outputs": [],
   "source": [
    "val_group = val_candidates[['customer_id', 'article_id']]"
   ]
  },
  {
   "cell_type": "code",
   "execution_count": 100,
   "id": "dea74252",
   "metadata": {},
   "outputs": [],
   "source": [
    "val_group = val_group.groupby(['customer_id']).size().values"
   ]
  },
  {
   "cell_type": "markdown",
   "id": "79fc96e2",
   "metadata": {},
   "source": [
    "##### datasets"
   ]
  },
  {
   "cell_type": "code",
   "execution_count": 101,
   "id": "6c3e109a",
   "metadata": {},
   "outputs": [],
   "source": [
    "train_set = lgb.Dataset(\n",
    "        data=train_candidates[features],\n",
    "        label=train_candidates[\"label\"],\n",
    "        group=train_group,\n",
    "        feature_name=features,\n",
    "        categorical_feature=cat_features,\n",
    "        params=params,\n",
    "    )"
   ]
  },
  {
   "cell_type": "code",
   "execution_count": 102,
   "id": "6ff27e34",
   "metadata": {},
   "outputs": [],
   "source": [
    "val_set = lgb.Dataset(\n",
    "        data=val_candidates[features],\n",
    "        label=val_candidates[\"label\"],\n",
    "        group=val_group,\n",
    "        feature_name=features,\n",
    "        categorical_feature=cat_features,\n",
    "        params=params,\n",
    "    )"
   ]
  },
  {
   "cell_type": "markdown",
   "id": "06ed6510",
   "metadata": {},
   "source": [
    "del candidates\n",
    "gc.collect()"
   ]
  },
  {
   "cell_type": "code",
   "execution_count": 103,
   "id": "82592a75",
   "metadata": {},
   "outputs": [
    {
     "name": "stderr",
     "output_type": "stream",
     "text": [
      "/Users/mmadej/Desktop/Projects/gid-ml-framework/.venv/lib/python3.8/site-packages/lightgbm/basic.py:2065: UserWarning: Using categorical_feature in Dataset.\n",
      "  _log_warning('Using categorical_feature in Dataset.')\n",
      "/Users/mmadej/Desktop/Projects/gid-ml-framework/.venv/lib/python3.8/site-packages/lightgbm/basic.py:1780: UserWarning: Overriding the parameters from Reference Dataset.\n",
      "  _log_warning('Overriding the parameters from Reference Dataset.')\n",
      "/Users/mmadej/Desktop/Projects/gid-ml-framework/.venv/lib/python3.8/site-packages/lightgbm/basic.py:1513: UserWarning: categorical_column in param dict is overridden.\n",
      "  _log_warning(f'{cat_alias} in param dict is overridden.')\n"
     ]
    },
    {
     "name": "stdout",
     "output_type": "stream",
     "text": [
      "[1]\tvalid_0's map@12: 0.990436\n",
      "[2]\tvalid_0's map@12: 0.993439\n",
      "[3]\tvalid_0's map@12: 0.994622\n",
      "[4]\tvalid_0's map@12: 0.995803\n",
      "[5]\tvalid_0's map@12: 0.996042\n",
      "[6]\tvalid_0's map@12: 0.996086\n",
      "[7]\tvalid_0's map@12: 0.996132\n",
      "[8]\tvalid_0's map@12: 0.995635\n",
      "[9]\tvalid_0's map@12: 0.995471\n",
      "[10]\tvalid_0's map@12: 0.995491\n",
      "[11]\tvalid_0's map@12: 0.995782\n",
      "[12]\tvalid_0's map@12: 0.995719\n",
      "[13]\tvalid_0's map@12: 0.995764\n",
      "[14]\tvalid_0's map@12: 0.995777\n",
      "[15]\tvalid_0's map@12: 0.995519\n",
      "[16]\tvalid_0's map@12: 0.995648\n",
      "[17]\tvalid_0's map@12: 0.995654\n",
      "[18]\tvalid_0's map@12: 0.995604\n",
      "[19]\tvalid_0's map@12: 0.995582\n",
      "[20]\tvalid_0's map@12: 0.995582\n",
      "[21]\tvalid_0's map@12: 0.99561\n",
      "[22]\tvalid_0's map@12: 0.995619\n",
      "[23]\tvalid_0's map@12: 0.995656\n",
      "[24]\tvalid_0's map@12: 0.995671\n",
      "[25]\tvalid_0's map@12: 0.995648\n",
      "[26]\tvalid_0's map@12: 0.995648\n",
      "[27]\tvalid_0's map@12: 0.995898\n",
      "[28]\tvalid_0's map@12: 0.996186\n",
      "[29]\tvalid_0's map@12: 0.996186\n",
      "[30]\tvalid_0's map@12: 0.996186\n"
     ]
    }
   ],
   "source": [
    "ranker = lgb.train(\n",
    "        params,\n",
    "        train_set,\n",
    "        valid_sets=[val_set],\n",
    "        num_boost_round=30,\n",
    "    )"
   ]
  },
  {
   "cell_type": "code",
   "execution_count": 104,
   "id": "7d39d486",
   "metadata": {},
   "outputs": [
    {
     "data": {
      "text/plain": [
       "<lightgbm.basic.Booster at 0x13f7ebcd0>"
      ]
     },
     "execution_count": 104,
     "metadata": {},
     "output_type": "execute_result"
    }
   ],
   "source": [
    "ranker"
   ]
  },
  {
   "cell_type": "code",
   "execution_count": 105,
   "id": "5ba74423",
   "metadata": {},
   "outputs": [],
   "source": [
    "feat_importance = pd.DataFrame(\n",
    "    {\"feature\": features, \"importance\": ranker.feature_importance()}\n",
    ").sort_values(by=\"importance\", ascending=False)"
   ]
  },
  {
   "cell_type": "code",
   "execution_count": 106,
   "id": "b268d37b",
   "metadata": {},
   "outputs": [
    {
     "name": "stderr",
     "output_type": "stream",
     "text": [
      "/Users/mmadej/Desktop/Projects/gid-ml-framework/.venv/lib/python3.8/site-packages/seaborn/rcmod.py:82: DeprecationWarning: distutils Version classes are deprecated. Use packaging.version instead.\n",
      "  if LooseVersion(mpl.__version__) >= \"3.0\":\n",
      "/Users/mmadej/Desktop/Projects/gid-ml-framework/.venv/lib/python3.8/site-packages/setuptools/_distutils/version.py:351: DeprecationWarning: distutils Version classes are deprecated. Use packaging.version instead.\n",
      "  other = LooseVersion(other)\n"
     ]
    }
   ],
   "source": [
    "import matplotlib.pyplot as plt\n",
    "import seaborn as sns"
   ]
  },
  {
   "cell_type": "code",
   "execution_count": 107,
   "id": "444ad80a",
   "metadata": {},
   "outputs": [
    {
     "data": {
      "text/plain": [
       "<AxesSubplot:xlabel='importance', ylabel='feature'>"
      ]
     },
     "execution_count": 107,
     "metadata": {},
     "output_type": "execute_result"
    },
    {
     "data": {
      "image/png": "[encoded data removed]",
      "text/plain": [
       "<Figure size 576x1728 with 1 Axes>"
      ]
     },
     "metadata": {
      "needs_background": "light"
     },
     "output_type": "display_data"
    }
   ],
   "source": [
    "plt.figure(figsize=(8, 24))\n",
    "sns.barplot(y=\"feature\", x=\"importance\", data=feat_importance)"
   ]
  },
  {
   "cell_type": "code",
   "execution_count": 108,
   "id": "1f130214",
   "metadata": {},
   "outputs": [],
   "source": [
    "def predict(ranker, candidates, batch_size = 1_000_000):\n",
    "    probs = np.zeros(candidates.shape[0])\n",
    "    for batch in range(0, candidates.shape[0], batch_size):\n",
    "        outputs = ranker.predict(candidates.loc[batch : batch + batch_size - 1, features])\n",
    "        probs[batch : batch + batch_size] = outputs\n",
    "    candidates[\"prob\"] = probs\n",
    "    pred_lgb = candidates[['customer_id', 'article_id', 'prob']]\n",
    "    pred_lgb = pred_lgb.sort_values(by=['customer_id', 'prob'], ascending=False).reset_index(drop=True)\n",
    "    pred_lgb.rename(columns={'article_id': 'prediction'}, inplace=True)\n",
    "    pred_lgb = pred_lgb.drop_duplicates(['customer_id', 'prediction'], keep='first')\n",
    "    pred_lgb = pred_lgb.groupby(\"customer_id\")[\"prediction\"].apply(list).reset_index()\n",
    "    return pred_lgb"
   ]
  },
  {
   "cell_type": "code",
   "execution_count": 109,
   "id": "ee0ef39f",
   "metadata": {},
   "outputs": [
    {
     "ename": "ValueError",
     "evalue": "could not broadcast input array from shape (205582,) into shape (669386,)",
     "output_type": "error",
     "traceback": [
      "\u001b[0;31m---------------------------------------------------------------------------\u001b[0m",
      "\u001b[0;31mValueError\u001b[0m                                Traceback (most recent call last)",
      "\u001b[0;32m/var/folders/dl/55k0mmrx765_h9n3c5rmqz8c0000gn/T/ipykernel_5583/1068417414.py\u001b[0m in \u001b[0;36m<cell line: 1>\u001b[0;34m()\u001b[0m\n\u001b[0;32m----> 1\u001b[0;31m \u001b[0mpred\u001b[0m \u001b[0;34m=\u001b[0m \u001b[0mpredict\u001b[0m\u001b[0;34m(\u001b[0m\u001b[0mranker\u001b[0m\u001b[0;34m,\u001b[0m \u001b[0mval_candidates\u001b[0m\u001b[0;34m)\u001b[0m\u001b[0;34m\u001b[0m\u001b[0;34m\u001b[0m\u001b[0m\n\u001b[0m",
      "\u001b[0;32m/var/folders/dl/55k0mmrx765_h9n3c5rmqz8c0000gn/T/ipykernel_5583/573178375.py\u001b[0m in \u001b[0;36mpredict\u001b[0;34m(ranker, candidates, batch_size)\u001b[0m\n\u001b[1;32m      3\u001b[0m     \u001b[0;32mfor\u001b[0m \u001b[0mbatch\u001b[0m \u001b[0;32min\u001b[0m \u001b[0mrange\u001b[0m\u001b[0;34m(\u001b[0m\u001b[0;36m0\u001b[0m\u001b[0;34m,\u001b[0m \u001b[0mcandidates\u001b[0m\u001b[0;34m.\u001b[0m\u001b[0mshape\u001b[0m\u001b[0;34m[\u001b[0m\u001b[0;36m0\u001b[0m\u001b[0;34m]\u001b[0m\u001b[0;34m,\u001b[0m \u001b[0mbatch_size\u001b[0m\u001b[0;34m)\u001b[0m\u001b[0;34m:\u001b[0m\u001b[0;34m\u001b[0m\u001b[0;34m\u001b[0m\u001b[0m\n\u001b[1;32m      4\u001b[0m         \u001b[0moutputs\u001b[0m \u001b[0;34m=\u001b[0m \u001b[0mranker\u001b[0m\u001b[0;34m.\u001b[0m\u001b[0mpredict\u001b[0m\u001b[0;34m(\u001b[0m\u001b[0mcandidates\u001b[0m\u001b[0;34m.\u001b[0m\u001b[0mloc\u001b[0m\u001b[0;34m[\u001b[0m\u001b[0mbatch\u001b[0m \u001b[0;34m:\u001b[0m \u001b[0mbatch\u001b[0m \u001b[0;34m+\u001b[0m \u001b[0mbatch_size\u001b[0m \u001b[0;34m-\u001b[0m \u001b[0;36m1\u001b[0m\u001b[0;34m,\u001b[0m \u001b[0mfeatures\u001b[0m\u001b[0;34m]\u001b[0m\u001b[0;34m)\u001b[0m\u001b[0;34m\u001b[0m\u001b[0;34m\u001b[0m\u001b[0m\n\u001b[0;32m----> 5\u001b[0;31m         \u001b[0mprobs\u001b[0m\u001b[0;34m[\u001b[0m\u001b[0mbatch\u001b[0m \u001b[0;34m:\u001b[0m \u001b[0mbatch\u001b[0m \u001b[0;34m+\u001b[0m \u001b[0mbatch_size\u001b[0m\u001b[0;34m]\u001b[0m \u001b[0;34m=\u001b[0m \u001b[0moutputs\u001b[0m\u001b[0;34m\u001b[0m\u001b[0;34m\u001b[0m\u001b[0m\n\u001b[0m\u001b[1;32m      6\u001b[0m     \u001b[0mcandidates\u001b[0m\u001b[0;34m[\u001b[0m\u001b[0;34m\"prob\"\u001b[0m\u001b[0;34m]\u001b[0m \u001b[0;34m=\u001b[0m \u001b[0mprobs\u001b[0m\u001b[0;34m\u001b[0m\u001b[0;34m\u001b[0m\u001b[0m\n\u001b[1;32m      7\u001b[0m     \u001b[0mpred_lgb\u001b[0m \u001b[0;34m=\u001b[0m \u001b[0mcandidates\u001b[0m\u001b[0;34m[\u001b[0m\u001b[0;34m[\u001b[0m\u001b[0;34m'customer_id'\u001b[0m\u001b[0;34m,\u001b[0m \u001b[0;34m'article_id'\u001b[0m\u001b[0;34m,\u001b[0m \u001b[0;34m'prob'\u001b[0m\u001b[0;34m]\u001b[0m\u001b[0;34m]\u001b[0m\u001b[0;34m\u001b[0m\u001b[0;34m\u001b[0m\u001b[0m\n",
      "\u001b[0;31mValueError\u001b[0m: could not broadcast input array from shape (205582,) into shape (669386,)"
     ]
    }
   ],
   "source": [
    "pred = predict(ranker, val_candidates)"
   ]
  },
  {
   "cell_type": "code",
   "execution_count": 111,
   "id": "434a26b3",
   "metadata": {},
   "outputs": [
    {
     "data": {
      "text/html": [
       "<div>\n",
       "<style scoped>\n",
       "    .dataframe tbody tr th:only-of-type {\n",
       "        vertical-align: middle;\n",
       "    }\n",
       "\n",
       "    .dataframe tbody tr th {\n",
       "        vertical-align: top;\n",
       "    }\n",
       "\n",
       "    .dataframe thead th {\n",
       "        text-align: right;\n",
       "    }\n",
       "</style>\n",
       "<table border=\"1\" class=\"dataframe\">\n",
       "  <thead>\n",
       "    <tr style=\"text-align: right;\">\n",
       "      <th></th>\n",
       "      <th>customer_id</th>\n",
       "      <th>prediction</th>\n",
       "    </tr>\n",
       "  </thead>\n",
       "  <tbody>\n",
       "    <tr>\n",
       "      <th>0</th>\n",
       "      <td>0003e56a4332b2503e34640be92031ad48f1280ee6e3a7...</td>\n",
       "      <td>[]</td>\n",
       "    </tr>\n",
       "    <tr>\n",
       "      <th>1</th>\n",
       "      <td>0006a10483f4b1d47dd0c640429a1c059f224c3a87464c...</td>\n",
       "      <td>[]</td>\n",
       "    </tr>\n",
       "    <tr>\n",
       "      <th>2</th>\n",
       "      <td>000df6cf5f902e6bb2a45b94d96c82c62324fe04bea329...</td>\n",
       "      <td>[]</td>\n",
       "    </tr>\n",
       "    <tr>\n",
       "      <th>3</th>\n",
       "      <td>00208fb274f1f5a739702ce60ed1bf6106910fa990b4bc...</td>\n",
       "      <td>[]</td>\n",
       "    </tr>\n",
       "    <tr>\n",
       "      <th>4</th>\n",
       "      <td>003292a63d9ca49d46dd66ffbbd6cca6e02f50f6b5f488...</td>\n",
       "      <td>[]</td>\n",
       "    </tr>\n",
       "    <tr>\n",
       "      <th>...</th>\n",
       "      <td>...</td>\n",
       "      <td>...</td>\n",
       "    </tr>\n",
       "    <tr>\n",
       "      <th>9995</th>\n",
       "      <td>ffe98d88192feecce39e53d5f0cfa5343e3a1b51677e1d...</td>\n",
       "      <td>[]</td>\n",
       "    </tr>\n",
       "    <tr>\n",
       "      <th>9996</th>\n",
       "      <td>fff187d1386edced8ef49b1df0155241943c9c4cc7abbf...</td>\n",
       "      <td>[]</td>\n",
       "    </tr>\n",
       "    <tr>\n",
       "      <th>9997</th>\n",
       "      <td>fff62d5b7df1ffc31c733ccf4b59af21d645e2b2d11256...</td>\n",
       "      <td>[]</td>\n",
       "    </tr>\n",
       "    <tr>\n",
       "      <th>9998</th>\n",
       "      <td>fff69e3ab1bd701315881c7706c38d5cbcda1f4e0cf213...</td>\n",
       "      <td>[]</td>\n",
       "    </tr>\n",
       "    <tr>\n",
       "      <th>9999</th>\n",
       "      <td>fff808bb2e407718ef9560f560ae66efe97b5b7ffed24c...</td>\n",
       "      <td>[0554479001, 0904571001, 0869331006, 079246900...</td>\n",
       "    </tr>\n",
       "  </tbody>\n",
       "</table>\n",
       "<p>10000 rows × 2 columns</p>\n",
       "</div>"
      ],
      "text/plain": [
       "                                            customer_id  \\\n",
       "0     0003e56a4332b2503e34640be92031ad48f1280ee6e3a7...   \n",
       "1     0006a10483f4b1d47dd0c640429a1c059f224c3a87464c...   \n",
       "2     000df6cf5f902e6bb2a45b94d96c82c62324fe04bea329...   \n",
       "3     00208fb274f1f5a739702ce60ed1bf6106910fa990b4bc...   \n",
       "4     003292a63d9ca49d46dd66ffbbd6cca6e02f50f6b5f488...   \n",
       "...                                                 ...   \n",
       "9995  ffe98d88192feecce39e53d5f0cfa5343e3a1b51677e1d...   \n",
       "9996  fff187d1386edced8ef49b1df0155241943c9c4cc7abbf...   \n",
       "9997  fff62d5b7df1ffc31c733ccf4b59af21d645e2b2d11256...   \n",
       "9998  fff69e3ab1bd701315881c7706c38d5cbcda1f4e0cf213...   \n",
       "9999  fff808bb2e407718ef9560f560ae66efe97b5b7ffed24c...   \n",
       "\n",
       "                                             prediction  \n",
       "0                                                    []  \n",
       "1                                                    []  \n",
       "2                                                    []  \n",
       "3                                                    []  \n",
       "4                                                    []  \n",
       "...                                                 ...  \n",
       "9995                                                 []  \n",
       "9996                                                 []  \n",
       "9997                                                 []  \n",
       "9998                                                 []  \n",
       "9999  [0554479001, 0904571001, 0869331006, 079246900...  \n",
       "\n",
       "[10000 rows x 2 columns]"
      ]
     },
     "execution_count": 111,
     "metadata": {},
     "output_type": "execute_result"
    }
   ],
   "source": [
    "pred"
   ]
  },
  {
   "cell_type": "code",
   "execution_count": null,
   "id": "65c4ba00",
   "metadata": {},
   "outputs": [],
   "source": []
  },
  {
   "cell_type": "code",
   "execution_count": 110,
   "id": "5ebb600b",
   "metadata": {},
   "outputs": [],
   "source": [
    "probs = np.zeros(val_candidates.shape[0])"
   ]
  },
  {
   "cell_type": "code",
   "execution_count": 111,
   "id": "2c774c01",
   "metadata": {},
   "outputs": [
    {
     "data": {
      "text/plain": [
       "array([0., 0., 0., ..., 0., 0., 0.])"
      ]
     },
     "execution_count": 111,
     "metadata": {},
     "output_type": "execute_result"
    }
   ],
   "source": [
    "probs"
   ]
  },
  {
   "cell_type": "code",
   "execution_count": 112,
   "id": "af7e4659",
   "metadata": {},
   "outputs": [],
   "source": [
    "for batch in range(0, val_candidates.shape[0], 5_000_000):\n",
    "    outputs = ranker.predict(val_candidates.loc[batch : batch + 5_000_000 - 1, features])\n",
    "    probs[batch : batch + 5_000_000] = outputs"
   ]
  },
  {
   "cell_type": "code",
   "execution_count": 113,
   "id": "334c964b",
   "metadata": {},
   "outputs": [
    {
     "name": "stderr",
     "output_type": "stream",
     "text": [
      "/var/folders/dl/55k0mmrx765_h9n3c5rmqz8c0000gn/T/ipykernel_5583/3238427657.py:1: SettingWithCopyWarning: \n",
      "A value is trying to be set on a copy of a slice from a DataFrame.\n",
      "Try using .loc[row_indexer,col_indexer] = value instead\n",
      "\n",
      "See the caveats in the documentation: https://pandas.pydata.org/pandas-docs/stable/user_guide/indexing.html#returning-a-view-versus-a-copy\n",
      "  val_candidates[\"prob\"] = probs\n"
     ]
    }
   ],
   "source": [
    "val_candidates[\"prob\"] = probs"
   ]
  },
  {
   "cell_type": "code",
   "execution_count": 114,
   "id": "fb4540cd",
   "metadata": {},
   "outputs": [],
   "source": [
    "pred_lgb = val_candidates[['customer_id', 'article_id', 'prob']].sort_values(by=['customer_id', 'prob'], ascending=False).reset_index(drop=True)"
   ]
  },
  {
   "cell_type": "code",
   "execution_count": 115,
   "id": "8a1b808c",
   "metadata": {},
   "outputs": [
    {
     "data": {
      "text/html": [
       "<div>\n",
       "<style scoped>\n",
       "    .dataframe tbody tr th:only-of-type {\n",
       "        vertical-align: middle;\n",
       "    }\n",
       "\n",
       "    .dataframe tbody tr th {\n",
       "        vertical-align: top;\n",
       "    }\n",
       "\n",
       "    .dataframe thead th {\n",
       "        text-align: right;\n",
       "    }\n",
       "</style>\n",
       "<table border=\"1\" class=\"dataframe\">\n",
       "  <thead>\n",
       "    <tr style=\"text-align: right;\">\n",
       "      <th></th>\n",
       "      <th>customer_id</th>\n",
       "      <th>article_id</th>\n",
       "      <th>prob</th>\n",
       "    </tr>\n",
       "  </thead>\n",
       "  <tbody>\n",
       "    <tr>\n",
       "      <th>0</th>\n",
       "      <td>fff62d5b7df1ffc31c733ccf4b59af21d645e2b2d11256...</td>\n",
       "      <td>0554479001</td>\n",
       "      <td>-1.2214</td>\n",
       "    </tr>\n",
       "    <tr>\n",
       "      <th>1</th>\n",
       "      <td>fff62d5b7df1ffc31c733ccf4b59af21d645e2b2d11256...</td>\n",
       "      <td>0904571001</td>\n",
       "      <td>-1.2214</td>\n",
       "    </tr>\n",
       "    <tr>\n",
       "      <th>2</th>\n",
       "      <td>fff62d5b7df1ffc31c733ccf4b59af21d645e2b2d11256...</td>\n",
       "      <td>0869331006</td>\n",
       "      <td>-1.2214</td>\n",
       "    </tr>\n",
       "    <tr>\n",
       "      <th>3</th>\n",
       "      <td>fff62d5b7df1ffc31c733ccf4b59af21d645e2b2d11256...</td>\n",
       "      <td>0792469001</td>\n",
       "      <td>-1.2214</td>\n",
       "    </tr>\n",
       "    <tr>\n",
       "      <th>4</th>\n",
       "      <td>fff62d5b7df1ffc31c733ccf4b59af21d645e2b2d11256...</td>\n",
       "      <td>0902528006</td>\n",
       "      <td>-1.2214</td>\n",
       "    </tr>\n",
       "    <tr>\n",
       "      <th>...</th>\n",
       "      <td>...</td>\n",
       "      <td>...</td>\n",
       "      <td>...</td>\n",
       "    </tr>\n",
       "    <tr>\n",
       "      <th>669381</th>\n",
       "      <td>0003e56a4332b2503e34640be92031ad48f1280ee6e3a7...</td>\n",
       "      <td>0579541086</td>\n",
       "      <td>-1.2215</td>\n",
       "    </tr>\n",
       "    <tr>\n",
       "      <th>669382</th>\n",
       "      <td>0003e56a4332b2503e34640be92031ad48f1280ee6e3a7...</td>\n",
       "      <td>0863565004</td>\n",
       "      <td>-1.2215</td>\n",
       "    </tr>\n",
       "    <tr>\n",
       "      <th>669383</th>\n",
       "      <td>0003e56a4332b2503e34640be92031ad48f1280ee6e3a7...</td>\n",
       "      <td>0720504008</td>\n",
       "      <td>-1.2215</td>\n",
       "    </tr>\n",
       "    <tr>\n",
       "      <th>669384</th>\n",
       "      <td>0003e56a4332b2503e34640be92031ad48f1280ee6e3a7...</td>\n",
       "      <td>0907951001</td>\n",
       "      <td>-1.2215</td>\n",
       "    </tr>\n",
       "    <tr>\n",
       "      <th>669385</th>\n",
       "      <td>0003e56a4332b2503e34640be92031ad48f1280ee6e3a7...</td>\n",
       "      <td>0301656029</td>\n",
       "      <td>-1.2229</td>\n",
       "    </tr>\n",
       "  </tbody>\n",
       "</table>\n",
       "<p>669386 rows × 3 columns</p>\n",
       "</div>"
      ],
      "text/plain": [
       "                                              customer_id  article_id    prob\n",
       "0       fff62d5b7df1ffc31c733ccf4b59af21d645e2b2d11256...  0554479001 -1.2214\n",
       "1       fff62d5b7df1ffc31c733ccf4b59af21d645e2b2d11256...  0904571001 -1.2214\n",
       "2       fff62d5b7df1ffc31c733ccf4b59af21d645e2b2d11256...  0869331006 -1.2214\n",
       "3       fff62d5b7df1ffc31c733ccf4b59af21d645e2b2d11256...  0792469001 -1.2214\n",
       "4       fff62d5b7df1ffc31c733ccf4b59af21d645e2b2d11256...  0902528006 -1.2214\n",
       "...                                                   ...         ...     ...\n",
       "669381  0003e56a4332b2503e34640be92031ad48f1280ee6e3a7...  0579541086 -1.2215\n",
       "669382  0003e56a4332b2503e34640be92031ad48f1280ee6e3a7...  0863565004 -1.2215\n",
       "669383  0003e56a4332b2503e34640be92031ad48f1280ee6e3a7...  0720504008 -1.2215\n",
       "669384  0003e56a4332b2503e34640be92031ad48f1280ee6e3a7...  0907951001 -1.2215\n",
       "669385  0003e56a4332b2503e34640be92031ad48f1280ee6e3a7...  0301656029 -1.2229\n",
       "\n",
       "[669386 rows x 3 columns]"
      ]
     },
     "execution_count": 115,
     "metadata": {},
     "output_type": "execute_result"
    }
   ],
   "source": [
    "pred_lgb"
   ]
  },
  {
   "cell_type": "code",
   "execution_count": 116,
   "id": "e7089017",
   "metadata": {},
   "outputs": [
    {
     "data": {
      "text/plain": [
       "count   669386.0000\n",
       "mean        -1.2203\n",
       "std          0.0497\n",
       "min         -1.3059\n",
       "25%         -1.2225\n",
       "50%         -1.2215\n",
       "75%         -1.2215\n",
       "max          1.2125\n",
       "Name: prob, dtype: float64"
      ]
     },
     "execution_count": 116,
     "metadata": {},
     "output_type": "execute_result"
    }
   ],
   "source": [
    "pred_lgb.prob.describe()"
   ]
  },
  {
   "cell_type": "code",
   "execution_count": 117,
   "id": "c0a1fd89",
   "metadata": {},
   "outputs": [],
   "source": [
    "pred_lgb = pred_lgb.groupby(['customer_id']).head(12)"
   ]
  },
  {
   "cell_type": "markdown",
   "id": "8500d82a",
   "metadata": {},
   "source": [
    "pred_lgb.loc[:, ['customer_id', 'article_id']] = pred_lgb.loc[:, ['customer_id', 'article_id']].astype(str)"
   ]
  },
  {
   "cell_type": "code",
   "execution_count": 118,
   "id": "40b1f8c6",
   "metadata": {},
   "outputs": [
    {
     "data": {
      "text/plain": [
       "2000"
      ]
     },
     "execution_count": 118,
     "metadata": {},
     "output_type": "execute_result"
    }
   ],
   "source": [
    "pred_lgb.customer_id.nunique()"
   ]
  },
  {
   "cell_type": "code",
   "execution_count": 119,
   "id": "e62ca835",
   "metadata": {},
   "outputs": [
    {
     "data": {
      "text/html": [
       "<div>\n",
       "<style scoped>\n",
       "    .dataframe tbody tr th:only-of-type {\n",
       "        vertical-align: middle;\n",
       "    }\n",
       "\n",
       "    .dataframe tbody tr th {\n",
       "        vertical-align: top;\n",
       "    }\n",
       "\n",
       "    .dataframe thead th {\n",
       "        text-align: right;\n",
       "    }\n",
       "</style>\n",
       "<table border=\"1\" class=\"dataframe\">\n",
       "  <thead>\n",
       "    <tr style=\"text-align: right;\">\n",
       "      <th></th>\n",
       "      <th>customer_id</th>\n",
       "      <th>article_id</th>\n",
       "      <th>prob</th>\n",
       "    </tr>\n",
       "  </thead>\n",
       "  <tbody>\n",
       "    <tr>\n",
       "      <th>0</th>\n",
       "      <td>fff62d5b7df1ffc31c733ccf4b59af21d645e2b2d11256...</td>\n",
       "      <td>0554479001</td>\n",
       "      <td>-1.2214</td>\n",
       "    </tr>\n",
       "    <tr>\n",
       "      <th>1</th>\n",
       "      <td>fff62d5b7df1ffc31c733ccf4b59af21d645e2b2d11256...</td>\n",
       "      <td>0904571001</td>\n",
       "      <td>-1.2214</td>\n",
       "    </tr>\n",
       "    <tr>\n",
       "      <th>2</th>\n",
       "      <td>fff62d5b7df1ffc31c733ccf4b59af21d645e2b2d11256...</td>\n",
       "      <td>0869331006</td>\n",
       "      <td>-1.2214</td>\n",
       "    </tr>\n",
       "    <tr>\n",
       "      <th>3</th>\n",
       "      <td>fff62d5b7df1ffc31c733ccf4b59af21d645e2b2d11256...</td>\n",
       "      <td>0792469001</td>\n",
       "      <td>-1.2214</td>\n",
       "    </tr>\n",
       "    <tr>\n",
       "      <th>4</th>\n",
       "      <td>fff62d5b7df1ffc31c733ccf4b59af21d645e2b2d11256...</td>\n",
       "      <td>0902528006</td>\n",
       "      <td>-1.2214</td>\n",
       "    </tr>\n",
       "    <tr>\n",
       "      <th>...</th>\n",
       "      <td>...</td>\n",
       "      <td>...</td>\n",
       "      <td>...</td>\n",
       "    </tr>\n",
       "    <tr>\n",
       "      <th>8</th>\n",
       "      <td>fff62d5b7df1ffc31c733ccf4b59af21d645e2b2d11256...</td>\n",
       "      <td>0832481002</td>\n",
       "      <td>-1.2214</td>\n",
       "    </tr>\n",
       "    <tr>\n",
       "      <th>9</th>\n",
       "      <td>fff62d5b7df1ffc31c733ccf4b59af21d645e2b2d11256...</td>\n",
       "      <td>0688728023</td>\n",
       "      <td>-1.2214</td>\n",
       "    </tr>\n",
       "    <tr>\n",
       "      <th>10</th>\n",
       "      <td>fff62d5b7df1ffc31c733ccf4b59af21d645e2b2d11256...</td>\n",
       "      <td>0158340001</td>\n",
       "      <td>-1.2214</td>\n",
       "    </tr>\n",
       "    <tr>\n",
       "      <th>11</th>\n",
       "      <td>fff62d5b7df1ffc31c733ccf4b59af21d645e2b2d11256...</td>\n",
       "      <td>0706016015</td>\n",
       "      <td>-1.2214</td>\n",
       "    </tr>\n",
       "    <tr>\n",
       "      <th>318</th>\n",
       "      <td>ffd11fc7ac9aa1e2da89d1c3137a4218c15a51eaa74ce1...</td>\n",
       "      <td>0907951001</td>\n",
       "      <td>-1.2215</td>\n",
       "    </tr>\n",
       "  </tbody>\n",
       "</table>\n",
       "<p>13 rows × 3 columns</p>\n",
       "</div>"
      ],
      "text/plain": [
       "                                           customer_id  article_id    prob\n",
       "0    fff62d5b7df1ffc31c733ccf4b59af21d645e2b2d11256...  0554479001 -1.2214\n",
       "1    fff62d5b7df1ffc31c733ccf4b59af21d645e2b2d11256...  0904571001 -1.2214\n",
       "2    fff62d5b7df1ffc31c733ccf4b59af21d645e2b2d11256...  0869331006 -1.2214\n",
       "3    fff62d5b7df1ffc31c733ccf4b59af21d645e2b2d11256...  0792469001 -1.2214\n",
       "4    fff62d5b7df1ffc31c733ccf4b59af21d645e2b2d11256...  0902528006 -1.2214\n",
       "..                                                 ...         ...     ...\n",
       "8    fff62d5b7df1ffc31c733ccf4b59af21d645e2b2d11256...  0832481002 -1.2214\n",
       "9    fff62d5b7df1ffc31c733ccf4b59af21d645e2b2d11256...  0688728023 -1.2214\n",
       "10   fff62d5b7df1ffc31c733ccf4b59af21d645e2b2d11256...  0158340001 -1.2214\n",
       "11   fff62d5b7df1ffc31c733ccf4b59af21d645e2b2d11256...  0706016015 -1.2214\n",
       "318  ffd11fc7ac9aa1e2da89d1c3137a4218c15a51eaa74ce1...  0907951001 -1.2215\n",
       "\n",
       "[13 rows x 3 columns]"
      ]
     },
     "execution_count": 119,
     "metadata": {},
     "output_type": "execute_result"
    }
   ],
   "source": [
    "pred_lgb.head(13)"
   ]
  },
  {
   "cell_type": "code",
   "execution_count": 120,
   "id": "b73eca3b",
   "metadata": {},
   "outputs": [
    {
     "data": {
      "text/html": [
       "<div>\n",
       "<style scoped>\n",
       "    .dataframe tbody tr th:only-of-type {\n",
       "        vertical-align: middle;\n",
       "    }\n",
       "\n",
       "    .dataframe tbody tr th {\n",
       "        vertical-align: top;\n",
       "    }\n",
       "\n",
       "    .dataframe thead th {\n",
       "        text-align: right;\n",
       "    }\n",
       "</style>\n",
       "<table border=\"1\" class=\"dataframe\">\n",
       "  <thead>\n",
       "    <tr style=\"text-align: right;\">\n",
       "      <th></th>\n",
       "      <th>customer_id</th>\n",
       "      <th>article_id</th>\n",
       "    </tr>\n",
       "  </thead>\n",
       "  <tbody>\n",
       "    <tr>\n",
       "      <th>0</th>\n",
       "      <td>0003e56a4332b2503e34640be92031ad48f1280ee6e3a7...</td>\n",
       "      <td>[0554479001, 0904571001, 0869331006, 079246900...</td>\n",
       "    </tr>\n",
       "    <tr>\n",
       "      <th>1</th>\n",
       "      <td>000df6cf5f902e6bb2a45b94d96c82c62324fe04bea329...</td>\n",
       "      <td>[0907951001, 0867994001, 0831269009, 090402600...</td>\n",
       "    </tr>\n",
       "    <tr>\n",
       "      <th>2</th>\n",
       "      <td>0065848cb03f4147bfe8f8c4c5ae3fce496ad9c3389fc3...</td>\n",
       "      <td>[0832473001, 0861514001, 0783346020, 076346900...</td>\n",
       "    </tr>\n",
       "    <tr>\n",
       "      <th>3</th>\n",
       "      <td>009ce0498e522ba4d20a80b7aaecd8567b15b52eb78c0c...</td>\n",
       "      <td>[0907951001, 0867994001, 0831269009, 090402600...</td>\n",
       "    </tr>\n",
       "    <tr>\n",
       "      <th>4</th>\n",
       "      <td>00cd746a1260bc81b14b21a23e29fd520b37cd32d92b09...</td>\n",
       "      <td>[0554479001, 0904571001, 0869331006, 079246900...</td>\n",
       "    </tr>\n",
       "    <tr>\n",
       "      <th>...</th>\n",
       "      <td>...</td>\n",
       "      <td>...</td>\n",
       "    </tr>\n",
       "    <tr>\n",
       "      <th>1995</th>\n",
       "      <td>ff4a33dfcf512d6beb354aef28c2d8a2b4cc690db15817...</td>\n",
       "      <td>[0554479001, 0904571001, 0869331006, 079246900...</td>\n",
       "    </tr>\n",
       "    <tr>\n",
       "      <th>1996</th>\n",
       "      <td>ff7dceb4dbc99277091f7adaa81932a7ea237b7e108a69...</td>\n",
       "      <td>[0554479001, 0904571001, 0869331006, 079246900...</td>\n",
       "    </tr>\n",
       "    <tr>\n",
       "      <th>1997</th>\n",
       "      <td>ff993b649c572f16988976c8706f64ed23daa0a1b0e246...</td>\n",
       "      <td>[0907951001, 0904026002, 0554479001, 090457100...</td>\n",
       "    </tr>\n",
       "    <tr>\n",
       "      <th>1998</th>\n",
       "      <td>ffd11fc7ac9aa1e2da89d1c3137a4218c15a51eaa74ce1...</td>\n",
       "      <td>[0907951001, 0867994001, 0831269009, 090402600...</td>\n",
       "    </tr>\n",
       "    <tr>\n",
       "      <th>1999</th>\n",
       "      <td>fff62d5b7df1ffc31c733ccf4b59af21d645e2b2d11256...</td>\n",
       "      <td>[0554479001, 0904571001, 0869331006, 079246900...</td>\n",
       "    </tr>\n",
       "  </tbody>\n",
       "</table>\n",
       "<p>2000 rows × 2 columns</p>\n",
       "</div>"
      ],
      "text/plain": [
       "                                            customer_id  \\\n",
       "0     0003e56a4332b2503e34640be92031ad48f1280ee6e3a7...   \n",
       "1     000df6cf5f902e6bb2a45b94d96c82c62324fe04bea329...   \n",
       "2     0065848cb03f4147bfe8f8c4c5ae3fce496ad9c3389fc3...   \n",
       "3     009ce0498e522ba4d20a80b7aaecd8567b15b52eb78c0c...   \n",
       "4     00cd746a1260bc81b14b21a23e29fd520b37cd32d92b09...   \n",
       "...                                                 ...   \n",
       "1995  ff4a33dfcf512d6beb354aef28c2d8a2b4cc690db15817...   \n",
       "1996  ff7dceb4dbc99277091f7adaa81932a7ea237b7e108a69...   \n",
       "1997  ff993b649c572f16988976c8706f64ed23daa0a1b0e246...   \n",
       "1998  ffd11fc7ac9aa1e2da89d1c3137a4218c15a51eaa74ce1...   \n",
       "1999  fff62d5b7df1ffc31c733ccf4b59af21d645e2b2d11256...   \n",
       "\n",
       "                                             article_id  \n",
       "0     [0554479001, 0904571001, 0869331006, 079246900...  \n",
       "1     [0907951001, 0867994001, 0831269009, 090402600...  \n",
       "2     [0832473001, 0861514001, 0783346020, 076346900...  \n",
       "3     [0907951001, 0867994001, 0831269009, 090402600...  \n",
       "4     [0554479001, 0904571001, 0869331006, 079246900...  \n",
       "...                                                 ...  \n",
       "1995  [0554479001, 0904571001, 0869331006, 079246900...  \n",
       "1996  [0554479001, 0904571001, 0869331006, 079246900...  \n",
       "1997  [0907951001, 0904026002, 0554479001, 090457100...  \n",
       "1998  [0907951001, 0867994001, 0831269009, 090402600...  \n",
       "1999  [0554479001, 0904571001, 0869331006, 079246900...  \n",
       "\n",
       "[2000 rows x 2 columns]"
      ]
     },
     "execution_count": 120,
     "metadata": {},
     "output_type": "execute_result"
    }
   ],
   "source": [
    "pred_lgb.groupby(['customer_id'])['article_id'].apply(list).reset_index()"
   ]
  },
  {
   "cell_type": "code",
   "execution_count": null,
   "id": "291bbf7b",
   "metadata": {},
   "outputs": [],
   "source": []
  }
 ],
 "metadata": {
  "kernelspec": {
   "display_name": "GetInDataMLFramework",
   "language": "python",
   "name": "python3"
  },
  "language_info": {
   "codemirror_mode": {
    "name": "ipython",
    "version": 3
   },
   "file_extension": ".py",
   "mimetype": "text/x-python",
   "name": "python",
   "nbconvert_exporter": "python",
   "pygments_lexer": "ipython3",
   "version": "3.8.12"
  },
  "vscode": {
   "interpreter": {
    "hash": "b090d651ab6bb94fc3fcfd79ea14f79b2004aa048e2234831f7803cc80488031"
   }
  }
 },
 "nbformat": 4,
 "nbformat_minor": 5
}
