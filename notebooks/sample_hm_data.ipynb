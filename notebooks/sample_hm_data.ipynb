{
 "cells": [
  {
   "cell_type": "code",
   "execution_count": 1,
   "id": "daaf4c5e",
   "metadata": {
    "scrolled": false
   },
   "outputs": [
    {
     "name": "stdout",
     "output_type": "stream",
     "text": [
      "The kedro.extras.extensions.ipython extension is already loaded. To reload it, use:\n",
      "  %reload_ext kedro.extras.extensions.ipython\n"
     ]
    }
   ],
   "source": [
    "%load_ext kedro.extras.extensions.ipython"
   ]
  },
  {
   "cell_type": "code",
   "execution_count": 2,
   "id": "a6065bf0",
   "metadata": {},
   "outputs": [
    {
     "name": "stdout",
     "output_type": "stream",
     "text": [
      "2022-07-05 18:20:07,704 - kedro.framework.hooks.manager - INFO - Registered hooks from 1 installed plugin(s): kedro-mlflow-0.8.1\n",
      "2022-07-05 18:20:07,749 - kedro.framework.session.store - INFO - `read()` not implemented for `BaseSessionStore`. Assuming empty store.\n",
      "2022-07-05 18:20:08,264 - root - INFO - ** Kedro project GetInData ML Framework\n",
      "2022-07-05 18:20:08,265 - root - INFO - Defined global variable `context`, `session`, `catalog` and `pipelines`\n",
      "2022-07-05 18:20:08,275 - root - INFO - Registered line magic `run_viz`\n",
      "2022-07-05 18:20:08,275 - root - INFO - Registered line magic `reload_kedro_mlflow`\n"
     ]
    }
   ],
   "source": [
    "%reload_kedro"
   ]
  },
  {
   "cell_type": "code",
   "execution_count": 3,
   "id": "152b3fdb",
   "metadata": {},
   "outputs": [],
   "source": [
    "import pandas as pd\n",
    "import numpy as np\n",
    "from sklearn.model_selection import train_test_split"
   ]
  },
  {
   "cell_type": "code",
   "execution_count": 4,
   "id": "263e2aaa",
   "metadata": {},
   "outputs": [],
   "source": [
    "pd.set_option('display.float_format', lambda x: '%.4f' % x)"
   ]
  },
  {
   "cell_type": "markdown",
   "id": "07ee221c",
   "metadata": {},
   "source": [
    "### read catalog"
   ]
  },
  {
   "cell_type": "code",
   "execution_count": 5,
   "id": "1593f3b0",
   "metadata": {},
   "outputs": [
    {
     "data": {
      "text/plain": [
       "['articles',\n",
       " 'customers',\n",
       " 'transactions',\n",
       " 'customers_sample',\n",
       " 'transactions_sample',\n",
       " 'parameters',\n",
       " 'params:model_options',\n",
       " 'params:model_options.test_size',\n",
       " 'params:model_options.random_state',\n",
       " 'params:model_options.features',\n",
       " 'params:model_options_experimental',\n",
       " 'params:model_options_experimental.test_size',\n",
       " 'params:model_options_experimental.random_state',\n",
       " 'params:model_options_experimental.features',\n",
       " 'params:cutoff_date',\n",
       " 'params:sample_size']"
      ]
     },
     "execution_count": 5,
     "metadata": {},
     "output_type": "execute_result"
    }
   ],
   "source": [
    "catalog.list()"
   ]
  },
  {
   "cell_type": "code",
   "execution_count": 6,
   "id": "a35ba308",
   "metadata": {
    "scrolled": true
   },
   "outputs": [
    {
     "name": "stdout",
     "output_type": "stream",
     "text": [
      "2022-07-05 18:20:20,020 - kedro.io.data_catalog - INFO - Loading data from `transactions` (CSVDataSet)...\n"
     ]
    }
   ],
   "source": [
    "df = context.catalog.load('transactions')"
   ]
  },
  {
   "cell_type": "markdown",
   "id": "bed60be4",
   "metadata": {},
   "source": [
    "df_articles = context.catalog.load('articles')"
   ]
  },
  {
   "cell_type": "code",
   "execution_count": 7,
   "id": "e29a6627",
   "metadata": {},
   "outputs": [
    {
     "name": "stdout",
     "output_type": "stream",
     "text": [
      "2022-07-05 18:20:39,517 - kedro.io.data_catalog - INFO - Loading data from `customers` (CSVDataSet)...\n"
     ]
    }
   ],
   "source": [
    "df_customers = context.catalog.load('customers')"
   ]
  },
  {
   "cell_type": "markdown",
   "id": "dbf1f76b",
   "metadata": {},
   "source": [
    "### transactions"
   ]
  },
  {
   "cell_type": "code",
   "execution_count": 8,
   "id": "9922e9a9",
   "metadata": {},
   "outputs": [
    {
     "data": {
      "text/plain": [
       "(31788324, 5)"
      ]
     },
     "execution_count": 8,
     "metadata": {},
     "output_type": "execute_result"
    }
   ],
   "source": [
    "df.shape"
   ]
  },
  {
   "cell_type": "code",
   "execution_count": 9,
   "id": "6d046b6a",
   "metadata": {
    "scrolled": true
   },
   "outputs": [
    {
     "data": {
      "text/html": [
       "<div>\n",
       "<style scoped>\n",
       "    .dataframe tbody tr th:only-of-type {\n",
       "        vertical-align: middle;\n",
       "    }\n",
       "\n",
       "    .dataframe tbody tr th {\n",
       "        vertical-align: top;\n",
       "    }\n",
       "\n",
       "    .dataframe thead th {\n",
       "        text-align: right;\n",
       "    }\n",
       "</style>\n",
       "<table border=\"1\" class=\"dataframe\">\n",
       "  <thead>\n",
       "    <tr style=\"text-align: right;\">\n",
       "      <th></th>\n",
       "      <th>t_dat</th>\n",
       "      <th>customer_id</th>\n",
       "      <th>article_id</th>\n",
       "      <th>price</th>\n",
       "      <th>sales_channel_id</th>\n",
       "    </tr>\n",
       "  </thead>\n",
       "  <tbody>\n",
       "    <tr>\n",
       "      <th>0</th>\n",
       "      <td>2018-09-20</td>\n",
       "      <td>000058a12d5b43e67d225668fa1f8d618c13dc232df0ca...</td>\n",
       "      <td>0663713001</td>\n",
       "      <td>0.0508</td>\n",
       "      <td>2</td>\n",
       "    </tr>\n",
       "    <tr>\n",
       "      <th>1</th>\n",
       "      <td>2018-09-20</td>\n",
       "      <td>000058a12d5b43e67d225668fa1f8d618c13dc232df0ca...</td>\n",
       "      <td>0541518023</td>\n",
       "      <td>0.0305</td>\n",
       "      <td>2</td>\n",
       "    </tr>\n",
       "    <tr>\n",
       "      <th>2</th>\n",
       "      <td>2018-09-20</td>\n",
       "      <td>00007d2de826758b65a93dd24ce629ed66842531df6699...</td>\n",
       "      <td>0505221004</td>\n",
       "      <td>0.0152</td>\n",
       "      <td>2</td>\n",
       "    </tr>\n",
       "    <tr>\n",
       "      <th>3</th>\n",
       "      <td>2018-09-20</td>\n",
       "      <td>00007d2de826758b65a93dd24ce629ed66842531df6699...</td>\n",
       "      <td>0685687003</td>\n",
       "      <td>0.0169</td>\n",
       "      <td>2</td>\n",
       "    </tr>\n",
       "    <tr>\n",
       "      <th>4</th>\n",
       "      <td>2018-09-20</td>\n",
       "      <td>00007d2de826758b65a93dd24ce629ed66842531df6699...</td>\n",
       "      <td>0685687004</td>\n",
       "      <td>0.0169</td>\n",
       "      <td>2</td>\n",
       "    </tr>\n",
       "  </tbody>\n",
       "</table>\n",
       "</div>"
      ],
      "text/plain": [
       "        t_dat                                        customer_id  article_id  \\\n",
       "0  2018-09-20  000058a12d5b43e67d225668fa1f8d618c13dc232df0ca...  0663713001   \n",
       "1  2018-09-20  000058a12d5b43e67d225668fa1f8d618c13dc232df0ca...  0541518023   \n",
       "2  2018-09-20  00007d2de826758b65a93dd24ce629ed66842531df6699...  0505221004   \n",
       "3  2018-09-20  00007d2de826758b65a93dd24ce629ed66842531df6699...  0685687003   \n",
       "4  2018-09-20  00007d2de826758b65a93dd24ce629ed66842531df6699...  0685687004   \n",
       "\n",
       "   price  sales_channel_id  \n",
       "0 0.0508                 2  \n",
       "1 0.0305                 2  \n",
       "2 0.0152                 2  \n",
       "3 0.0169                 2  \n",
       "4 0.0169                 2  "
      ]
     },
     "execution_count": 9,
     "metadata": {},
     "output_type": "execute_result"
    }
   ],
   "source": [
    "df.head()"
   ]
  },
  {
   "cell_type": "code",
   "execution_count": 10,
   "id": "b658fb8e",
   "metadata": {},
   "outputs": [
    {
     "data": {
      "text/plain": [
       "t_dat                object\n",
       "customer_id          object\n",
       "article_id           object\n",
       "price               float64\n",
       "sales_channel_id      int64\n",
       "dtype: object"
      ]
     },
     "execution_count": 10,
     "metadata": {},
     "output_type": "execute_result"
    }
   ],
   "source": [
    "df.dtypes"
   ]
  },
  {
   "cell_type": "code",
   "execution_count": 11,
   "id": "8add8e78",
   "metadata": {},
   "outputs": [],
   "source": [
    "df.t_dat = pd.to_datetime(df.t_dat)"
   ]
  },
  {
   "cell_type": "code",
   "execution_count": 12,
   "id": "b61f5260",
   "metadata": {},
   "outputs": [
    {
     "data": {
      "text/plain": [
       "t_dat               datetime64[ns]\n",
       "customer_id                 object\n",
       "article_id                  object\n",
       "price                      float64\n",
       "sales_channel_id             int64\n",
       "dtype: object"
      ]
     },
     "execution_count": 12,
     "metadata": {},
     "output_type": "execute_result"
    }
   ],
   "source": [
    "df.dtypes"
   ]
  },
  {
   "cell_type": "markdown",
   "id": "66acfed4",
   "metadata": {},
   "source": [
    "### Sample step 1: only latest transactions"
   ]
  },
  {
   "cell_type": "code",
   "execution_count": 13,
   "id": "89105d1a",
   "metadata": {},
   "outputs": [
    {
     "data": {
      "text/plain": [
       "count                         31788324\n",
       "mean     2019-09-15 17:27:46.894452992\n",
       "min                2018-09-20 00:00:00\n",
       "25%                2019-03-28 00:00:00\n",
       "50%                2019-08-25 00:00:00\n",
       "75%                2020-03-29 00:00:00\n",
       "max                2020-09-22 00:00:00\n",
       "Name: t_dat, dtype: object"
      ]
     },
     "execution_count": 13,
     "metadata": {},
     "output_type": "execute_result"
    }
   ],
   "source": [
    "df.t_dat.describe(datetime_is_numeric=True)"
   ]
  },
  {
   "cell_type": "code",
   "execution_count": 14,
   "id": "fb48a26a",
   "metadata": {},
   "outputs": [
    {
     "data": {
      "text/plain": [
       "count                          7814649\n",
       "mean     2020-06-24 11:18:54.437897728\n",
       "min                2020-04-02 00:00:00\n",
       "25%                2020-05-19 00:00:00\n",
       "50%                2020-06-23 00:00:00\n",
       "75%                2020-08-03 00:00:00\n",
       "max                2020-09-22 00:00:00\n",
       "Name: t_dat, dtype: object"
      ]
     },
     "execution_count": 14,
     "metadata": {},
     "output_type": "execute_result"
    }
   ],
   "source": [
    "df[df.t_dat>'2020-04-01'].t_dat.describe(datetime_is_numeric=True)"
   ]
  },
  {
   "cell_type": "code",
   "execution_count": 15,
   "id": "e841e8d2",
   "metadata": {},
   "outputs": [],
   "source": [
    "df = df[df.t_dat>'2020-04-01'].reset_index(drop=True)"
   ]
  },
  {
   "cell_type": "code",
   "execution_count": 16,
   "id": "94b472d6",
   "metadata": {
    "scrolled": true
   },
   "outputs": [
    {
     "data": {
      "text/plain": [
       "(7814649, 5)"
      ]
     },
     "execution_count": 16,
     "metadata": {},
     "output_type": "execute_result"
    }
   ],
   "source": [
    "df.shape"
   ]
  },
  {
   "cell_type": "markdown",
   "id": "581600fd",
   "metadata": {},
   "source": [
    "### Sample step 2: stratified sampling"
   ]
  },
  {
   "cell_type": "code",
   "execution_count": 17,
   "id": "ad1ce23a",
   "metadata": {},
   "outputs": [
    {
     "data": {
      "text/html": [
       "<div>\n",
       "<style scoped>\n",
       "    .dataframe tbody tr th:only-of-type {\n",
       "        vertical-align: middle;\n",
       "    }\n",
       "\n",
       "    .dataframe tbody tr th {\n",
       "        vertical-align: top;\n",
       "    }\n",
       "\n",
       "    .dataframe thead th {\n",
       "        text-align: right;\n",
       "    }\n",
       "</style>\n",
       "<table border=\"1\" class=\"dataframe\">\n",
       "  <thead>\n",
       "    <tr style=\"text-align: right;\">\n",
       "      <th></th>\n",
       "      <th>customer_id</th>\n",
       "      <th>FN</th>\n",
       "      <th>Active</th>\n",
       "      <th>club_member_status</th>\n",
       "      <th>fashion_news_frequency</th>\n",
       "      <th>age</th>\n",
       "      <th>postal_code</th>\n",
       "    </tr>\n",
       "  </thead>\n",
       "  <tbody>\n",
       "    <tr>\n",
       "      <th>0</th>\n",
       "      <td>00000dbacae5abe5e23885899a1fa44253a17956c6d1c3...</td>\n",
       "      <td>NaN</td>\n",
       "      <td>NaN</td>\n",
       "      <td>ACTIVE</td>\n",
       "      <td>NONE</td>\n",
       "      <td>49.0000</td>\n",
       "      <td>52043ee2162cf5aa7ee79974281641c6f11a68d276429a...</td>\n",
       "    </tr>\n",
       "    <tr>\n",
       "      <th>1</th>\n",
       "      <td>0000423b00ade91418cceaf3b26c6af3dd342b51fd051e...</td>\n",
       "      <td>NaN</td>\n",
       "      <td>NaN</td>\n",
       "      <td>ACTIVE</td>\n",
       "      <td>NONE</td>\n",
       "      <td>25.0000</td>\n",
       "      <td>2973abc54daa8a5f8ccfe9362140c63247c5eee03f1d93...</td>\n",
       "    </tr>\n",
       "    <tr>\n",
       "      <th>2</th>\n",
       "      <td>000058a12d5b43e67d225668fa1f8d618c13dc232df0ca...</td>\n",
       "      <td>NaN</td>\n",
       "      <td>NaN</td>\n",
       "      <td>ACTIVE</td>\n",
       "      <td>NONE</td>\n",
       "      <td>24.0000</td>\n",
       "      <td>64f17e6a330a85798e4998f62d0930d14db8db1c054af6...</td>\n",
       "    </tr>\n",
       "    <tr>\n",
       "      <th>3</th>\n",
       "      <td>00005ca1c9ed5f5146b52ac8639a40ca9d57aeff4d1bd2...</td>\n",
       "      <td>NaN</td>\n",
       "      <td>NaN</td>\n",
       "      <td>ACTIVE</td>\n",
       "      <td>NONE</td>\n",
       "      <td>54.0000</td>\n",
       "      <td>5d36574f52495e81f019b680c843c443bd343d5ca5b1c2...</td>\n",
       "    </tr>\n",
       "    <tr>\n",
       "      <th>4</th>\n",
       "      <td>00006413d8573cd20ed7128e53b7b13819fe5cfc2d801f...</td>\n",
       "      <td>1.0000</td>\n",
       "      <td>1.0000</td>\n",
       "      <td>ACTIVE</td>\n",
       "      <td>Regularly</td>\n",
       "      <td>52.0000</td>\n",
       "      <td>25fa5ddee9aac01b35208d01736e57942317d756b32ddd...</td>\n",
       "    </tr>\n",
       "    <tr>\n",
       "      <th>...</th>\n",
       "      <td>...</td>\n",
       "      <td>...</td>\n",
       "      <td>...</td>\n",
       "      <td>...</td>\n",
       "      <td>...</td>\n",
       "      <td>...</td>\n",
       "      <td>...</td>\n",
       "    </tr>\n",
       "    <tr>\n",
       "      <th>1371975</th>\n",
       "      <td>ffffbbf78b6eaac697a8a5dfbfd2bfa8113ee5b403e474...</td>\n",
       "      <td>NaN</td>\n",
       "      <td>NaN</td>\n",
       "      <td>ACTIVE</td>\n",
       "      <td>NONE</td>\n",
       "      <td>24.0000</td>\n",
       "      <td>7aa399f7e669990daba2d92c577b52237380662f36480b...</td>\n",
       "    </tr>\n",
       "    <tr>\n",
       "      <th>1371976</th>\n",
       "      <td>ffffcd5046a6143d29a04fb8c424ce494a76e5cdf4fab5...</td>\n",
       "      <td>NaN</td>\n",
       "      <td>NaN</td>\n",
       "      <td>ACTIVE</td>\n",
       "      <td>NONE</td>\n",
       "      <td>21.0000</td>\n",
       "      <td>3f47f1279beb72215f4de557d950e0bfa73789d24acb5e...</td>\n",
       "    </tr>\n",
       "    <tr>\n",
       "      <th>1371977</th>\n",
       "      <td>ffffcf35913a0bee60e8741cb2b4e78b8a98ee5ff2e6a1...</td>\n",
       "      <td>1.0000</td>\n",
       "      <td>1.0000</td>\n",
       "      <td>ACTIVE</td>\n",
       "      <td>Regularly</td>\n",
       "      <td>21.0000</td>\n",
       "      <td>4563fc79215672cd6a863f2b4bf56b8f898f2d96ed590e...</td>\n",
       "    </tr>\n",
       "    <tr>\n",
       "      <th>1371978</th>\n",
       "      <td>ffffd7744cebcf3aca44ae7049d2a94b87074c3d4ffe38...</td>\n",
       "      <td>1.0000</td>\n",
       "      <td>1.0000</td>\n",
       "      <td>ACTIVE</td>\n",
       "      <td>Regularly</td>\n",
       "      <td>18.0000</td>\n",
       "      <td>8892c18e9bc3dca6aa4000cb8094fc4b51ee8db2ed14d7...</td>\n",
       "    </tr>\n",
       "    <tr>\n",
       "      <th>1371979</th>\n",
       "      <td>ffffd9ac14e89946416d80e791d064701994755c3ab686...</td>\n",
       "      <td>NaN</td>\n",
       "      <td>NaN</td>\n",
       "      <td>PRE-CREATE</td>\n",
       "      <td>NONE</td>\n",
       "      <td>65.0000</td>\n",
       "      <td>0a1a03306fb2f62164c2a439b38c0caa64b40deaae8687...</td>\n",
       "    </tr>\n",
       "  </tbody>\n",
       "</table>\n",
       "<p>1371980 rows × 7 columns</p>\n",
       "</div>"
      ],
      "text/plain": [
       "                                               customer_id     FN  Active  \\\n",
       "0        00000dbacae5abe5e23885899a1fa44253a17956c6d1c3...    NaN     NaN   \n",
       "1        0000423b00ade91418cceaf3b26c6af3dd342b51fd051e...    NaN     NaN   \n",
       "2        000058a12d5b43e67d225668fa1f8d618c13dc232df0ca...    NaN     NaN   \n",
       "3        00005ca1c9ed5f5146b52ac8639a40ca9d57aeff4d1bd2...    NaN     NaN   \n",
       "4        00006413d8573cd20ed7128e53b7b13819fe5cfc2d801f... 1.0000  1.0000   \n",
       "...                                                    ...    ...     ...   \n",
       "1371975  ffffbbf78b6eaac697a8a5dfbfd2bfa8113ee5b403e474...    NaN     NaN   \n",
       "1371976  ffffcd5046a6143d29a04fb8c424ce494a76e5cdf4fab5...    NaN     NaN   \n",
       "1371977  ffffcf35913a0bee60e8741cb2b4e78b8a98ee5ff2e6a1... 1.0000  1.0000   \n",
       "1371978  ffffd7744cebcf3aca44ae7049d2a94b87074c3d4ffe38... 1.0000  1.0000   \n",
       "1371979  ffffd9ac14e89946416d80e791d064701994755c3ab686...    NaN     NaN   \n",
       "\n",
       "        club_member_status fashion_news_frequency     age  \\\n",
       "0                   ACTIVE                   NONE 49.0000   \n",
       "1                   ACTIVE                   NONE 25.0000   \n",
       "2                   ACTIVE                   NONE 24.0000   \n",
       "3                   ACTIVE                   NONE 54.0000   \n",
       "4                   ACTIVE              Regularly 52.0000   \n",
       "...                    ...                    ...     ...   \n",
       "1371975             ACTIVE                   NONE 24.0000   \n",
       "1371976             ACTIVE                   NONE 21.0000   \n",
       "1371977             ACTIVE              Regularly 21.0000   \n",
       "1371978             ACTIVE              Regularly 18.0000   \n",
       "1371979         PRE-CREATE                   NONE 65.0000   \n",
       "\n",
       "                                               postal_code  \n",
       "0        52043ee2162cf5aa7ee79974281641c6f11a68d276429a...  \n",
       "1        2973abc54daa8a5f8ccfe9362140c63247c5eee03f1d93...  \n",
       "2        64f17e6a330a85798e4998f62d0930d14db8db1c054af6...  \n",
       "3        5d36574f52495e81f019b680c843c443bd343d5ca5b1c2...  \n",
       "4        25fa5ddee9aac01b35208d01736e57942317d756b32ddd...  \n",
       "...                                                    ...  \n",
       "1371975  7aa399f7e669990daba2d92c577b52237380662f36480b...  \n",
       "1371976  3f47f1279beb72215f4de557d950e0bfa73789d24acb5e...  \n",
       "1371977  4563fc79215672cd6a863f2b4bf56b8f898f2d96ed590e...  \n",
       "1371978  8892c18e9bc3dca6aa4000cb8094fc4b51ee8db2ed14d7...  \n",
       "1371979  0a1a03306fb2f62164c2a439b38c0caa64b40deaae8687...  \n",
       "\n",
       "[1371980 rows x 7 columns]"
      ]
     },
     "execution_count": 17,
     "metadata": {},
     "output_type": "execute_result"
    }
   ],
   "source": [
    "df_customers"
   ]
  },
  {
   "cell_type": "code",
   "execution_count": 18,
   "id": "ec23dba6",
   "metadata": {},
   "outputs": [],
   "source": [
    "cd_customers_trans = df.groupby(['customer_id'])['t_dat'].nunique().reset_index(name='no_transactions')"
   ]
  },
  {
   "cell_type": "code",
   "execution_count": 20,
   "id": "3181c093",
   "metadata": {},
   "outputs": [
    {
     "data": {
      "text/plain": [
       "Index(['customer_id', 'no_transactions'], dtype='object')"
      ]
     },
     "execution_count": 20,
     "metadata": {},
     "output_type": "execute_result"
    }
   ],
   "source": [
    "cd_customers_trans.columns"
   ]
  },
  {
   "cell_type": "code",
   "execution_count": 21,
   "id": "28e57e9a",
   "metadata": {},
   "outputs": [],
   "source": [
    "df_customers = df_customers.merge(cd_customers_trans, on='customer_id', how='left')"
   ]
  },
  {
   "cell_type": "code",
   "execution_count": 23,
   "id": "d8e802aa",
   "metadata": {},
   "outputs": [
    {
     "data": {
      "text/plain": [
       "Index(['customer_id', 'FN', 'Active', 'club_member_status',\n",
       "       'fashion_news_frequency', 'age', 'postal_code', 'no_transactions'],\n",
       "      dtype='object')"
      ]
     },
     "execution_count": 23,
     "metadata": {},
     "output_type": "execute_result"
    }
   ],
   "source": [
    "df_customers.columns"
   ]
  },
  {
   "cell_type": "markdown",
   "id": "6a7aafab",
   "metadata": {},
   "source": [
    "### fillna() for sampling"
   ]
  },
  {
   "cell_type": "code",
   "execution_count": 20,
   "id": "0585979a",
   "metadata": {},
   "outputs": [
    {
     "data": {
      "text/plain": [
       "customer_id                    0\n",
       "FN                        895050\n",
       "Active                    907576\n",
       "club_member_status          6062\n",
       "fashion_news_frequency     16009\n",
       "age                        15861\n",
       "postal_code                    0\n",
       "no_transactions           641191\n",
       "dtype: int64"
      ]
     },
     "execution_count": 20,
     "metadata": {},
     "output_type": "execute_result"
    }
   ],
   "source": [
    "df_customers.isna().sum()"
   ]
  },
  {
   "cell_type": "code",
   "execution_count": 21,
   "id": "7ca5886d",
   "metadata": {},
   "outputs": [],
   "source": [
    "df_customers['age'] = df_customers['age'].fillna(df_customers['age'].median())"
   ]
  },
  {
   "cell_type": "code",
   "execution_count": 22,
   "id": "a4b290c9",
   "metadata": {},
   "outputs": [],
   "source": [
    "df_customers['no_transactions'] = df_customers['no_transactions'].fillna(0)"
   ]
  },
  {
   "cell_type": "code",
   "execution_count": 23,
   "id": "322a4e61",
   "metadata": {},
   "outputs": [
    {
     "data": {
      "text/html": [
       "<div>\n",
       "<style scoped>\n",
       "    .dataframe tbody tr th:only-of-type {\n",
       "        vertical-align: middle;\n",
       "    }\n",
       "\n",
       "    .dataframe tbody tr th {\n",
       "        vertical-align: top;\n",
       "    }\n",
       "\n",
       "    .dataframe thead th {\n",
       "        text-align: right;\n",
       "    }\n",
       "</style>\n",
       "<table border=\"1\" class=\"dataframe\">\n",
       "  <thead>\n",
       "    <tr style=\"text-align: right;\">\n",
       "      <th></th>\n",
       "      <th>age</th>\n",
       "      <th>no_transactions</th>\n",
       "    </tr>\n",
       "  </thead>\n",
       "  <tbody>\n",
       "    <tr>\n",
       "      <th>count</th>\n",
       "      <td>1371980.0000</td>\n",
       "      <td>1371980.0000</td>\n",
       "    </tr>\n",
       "    <tr>\n",
       "      <th>mean</th>\n",
       "      <td>36.3362</td>\n",
       "      <td>1.5882</td>\n",
       "    </tr>\n",
       "    <tr>\n",
       "      <th>std</th>\n",
       "      <td>14.2384</td>\n",
       "      <td>2.7852</td>\n",
       "    </tr>\n",
       "    <tr>\n",
       "      <th>min</th>\n",
       "      <td>16.0000</td>\n",
       "      <td>0.0000</td>\n",
       "    </tr>\n",
       "    <tr>\n",
       "      <th>25%</th>\n",
       "      <td>24.0000</td>\n",
       "      <td>0.0000</td>\n",
       "    </tr>\n",
       "    <tr>\n",
       "      <th>50%</th>\n",
       "      <td>32.0000</td>\n",
       "      <td>1.0000</td>\n",
       "    </tr>\n",
       "    <tr>\n",
       "      <th>75%</th>\n",
       "      <td>49.0000</td>\n",
       "      <td>2.0000</td>\n",
       "    </tr>\n",
       "    <tr>\n",
       "      <th>max</th>\n",
       "      <td>99.0000</td>\n",
       "      <td>127.0000</td>\n",
       "    </tr>\n",
       "  </tbody>\n",
       "</table>\n",
       "</div>"
      ],
      "text/plain": [
       "               age  no_transactions\n",
       "count 1371980.0000     1371980.0000\n",
       "mean       36.3362           1.5882\n",
       "std        14.2384           2.7852\n",
       "min        16.0000           0.0000\n",
       "25%        24.0000           0.0000\n",
       "50%        32.0000           1.0000\n",
       "75%        49.0000           2.0000\n",
       "max        99.0000         127.0000"
      ]
     },
     "execution_count": 23,
     "metadata": {},
     "output_type": "execute_result"
    }
   ],
   "source": [
    "df_customers[['age', 'no_transactions']].describe()"
   ]
  },
  {
   "cell_type": "code",
   "execution_count": 24,
   "id": "79e23a62",
   "metadata": {},
   "outputs": [],
   "source": [
    "df_customers['age_bin'] = pd.qcut(df_customers['age'], 4, labels=['1', '2', '3', '4']).astype(str)"
   ]
  },
  {
   "cell_type": "code",
   "execution_count": 25,
   "id": "cc1fe017",
   "metadata": {},
   "outputs": [
    {
     "data": {
      "text/plain": [
       "<AxesSubplot:>"
      ]
     },
     "execution_count": 25,
     "metadata": {},
     "output_type": "execute_result"
    },
    {
     "data": {
      "image/png": "[encoded data removed]",
      "text/plain": [
       "<Figure size 432x288 with 1 Axes>"
      ]
     },
     "metadata": {
      "needs_background": "light"
     },
     "output_type": "display_data"
    }
   ],
   "source": [
    "df_customers.no_transactions.hist()"
   ]
  },
  {
   "cell_type": "markdown",
   "id": "820c2c9e",
   "metadata": {},
   "source": [
    "#### i'm doing custom bins for no_transactions, because the distribution is heavily concentrated around 0"
   ]
  },
  {
   "cell_type": "code",
   "execution_count": 26,
   "id": "97414e5f",
   "metadata": {},
   "outputs": [],
   "source": [
    "cond_list = [\n",
    "    df_customers['no_transactions']==0,\n",
    "    df_customers['no_transactions']<=1,\n",
    "    df_customers['no_transactions']<=3,\n",
    "    df_customers['no_transactions']<=6,\n",
    "    df_customers['no_transactions']<=9\n",
    "]"
   ]
  },
  {
   "cell_type": "code",
   "execution_count": 27,
   "id": "afe40209",
   "metadata": {},
   "outputs": [],
   "source": [
    "choice_list = [\n",
    "    '1',\n",
    "    '2',\n",
    "    '3',\n",
    "    '4',\n",
    "    '5'\n",
    "]"
   ]
  },
  {
   "cell_type": "code",
   "execution_count": 28,
   "id": "2a518ed8",
   "metadata": {},
   "outputs": [
    {
     "data": {
      "text/plain": [
       "(array(['1', '2', '3', '4', '5', '6'], dtype='<U1'),\n",
       " array([641191, 299884, 238523, 123263,  40266,  28853]))"
      ]
     },
     "execution_count": 28,
     "metadata": {},
     "output_type": "execute_result"
    }
   ],
   "source": [
    "np.unique(np.select(cond_list, choice_list, default='6'), return_counts=True)"
   ]
  },
  {
   "cell_type": "code",
   "execution_count": 29,
   "id": "50a5e795",
   "metadata": {},
   "outputs": [],
   "source": [
    "df_customers['no_transactions_bin'] = np.select(cond_list, choice_list, default='6')"
   ]
  },
  {
   "cell_type": "code",
   "execution_count": 30,
   "id": "32f02e44",
   "metadata": {},
   "outputs": [
    {
     "data": {
      "text/plain": [
       "(1371980, 10)"
      ]
     },
     "execution_count": 30,
     "metadata": {},
     "output_type": "execute_result"
    }
   ],
   "source": [
    "df_customers.shape"
   ]
  },
  {
   "cell_type": "code",
   "execution_count": 31,
   "id": "eb9da960",
   "metadata": {},
   "outputs": [],
   "source": [
    "_, df_customers_sample = train_test_split(df_customers, test_size=0.1,\n",
    "                                          stratify=df_customers[['age_bin', 'no_transactions_bin']])"
   ]
  },
  {
   "cell_type": "code",
   "execution_count": 32,
   "id": "e3cd55c9",
   "metadata": {},
   "outputs": [
    {
     "data": {
      "text/plain": [
       "(137198, 10)"
      ]
     },
     "execution_count": 32,
     "metadata": {},
     "output_type": "execute_result"
    }
   ],
   "source": [
    "df_customers_sample.shape"
   ]
  },
  {
   "cell_type": "markdown",
   "id": "cfe7ab9a",
   "metadata": {},
   "source": [
    "### check"
   ]
  },
  {
   "cell_type": "code",
   "execution_count": 33,
   "id": "d325cd13",
   "metadata": {},
   "outputs": [
    {
     "data": {
      "text/plain": [
       "age_bin\n",
       "2         0.2643\n",
       "1         0.2603\n",
       "3         0.2436\n",
       "4         0.2318\n",
       "dtype: float64"
      ]
     },
     "execution_count": 33,
     "metadata": {},
     "output_type": "execute_result"
    }
   ],
   "source": [
    "df_customers[['age_bin']].value_counts(normalize=True)"
   ]
  },
  {
   "cell_type": "code",
   "execution_count": 34,
   "id": "8fc314fa",
   "metadata": {},
   "outputs": [
    {
     "data": {
      "text/plain": [
       "no_transactions_bin\n",
       "1                     0.4673\n",
       "2                     0.2186\n",
       "3                     0.1739\n",
       "4                     0.0898\n",
       "5                     0.0293\n",
       "6                     0.0210\n",
       "dtype: float64"
      ]
     },
     "execution_count": 34,
     "metadata": {},
     "output_type": "execute_result"
    }
   ],
   "source": [
    "df_customers[['no_transactions_bin']].value_counts(normalize=True)"
   ]
  },
  {
   "cell_type": "code",
   "execution_count": 35,
   "id": "35d2fdc6",
   "metadata": {},
   "outputs": [
    {
     "data": {
      "text/plain": [
       "age_bin\n",
       "2         0.2643\n",
       "1         0.2603\n",
       "3         0.2436\n",
       "4         0.2318\n",
       "dtype: float64"
      ]
     },
     "execution_count": 35,
     "metadata": {},
     "output_type": "execute_result"
    }
   ],
   "source": [
    "df_customers_sample[['age_bin']].value_counts(normalize=True)"
   ]
  },
  {
   "cell_type": "code",
   "execution_count": 36,
   "id": "85458c49",
   "metadata": {},
   "outputs": [
    {
     "data": {
      "text/plain": [
       "no_transactions_bin\n",
       "1                     0.4673\n",
       "2                     0.2186\n",
       "3                     0.1739\n",
       "4                     0.0898\n",
       "5                     0.0293\n",
       "6                     0.0210\n",
       "dtype: float64"
      ]
     },
     "execution_count": 36,
     "metadata": {},
     "output_type": "execute_result"
    }
   ],
   "source": [
    "df_customers_sample[['no_transactions_bin']].value_counts(normalize=True)"
   ]
  },
  {
   "cell_type": "markdown",
   "id": "524af50d",
   "metadata": {},
   "source": [
    "### filter out other datasets"
   ]
  },
  {
   "cell_type": "code",
   "execution_count": 37,
   "id": "059ff51a",
   "metadata": {},
   "outputs": [],
   "source": [
    "df_customers_sample.drop(['no_transactions', 'age_bin', 'no_transactions_bin'], axis=1, inplace=True)"
   ]
  },
  {
   "cell_type": "code",
   "execution_count": 38,
   "id": "a490a991",
   "metadata": {},
   "outputs": [
    {
     "data": {
      "text/html": [
       "<div>\n",
       "<style scoped>\n",
       "    .dataframe tbody tr th:only-of-type {\n",
       "        vertical-align: middle;\n",
       "    }\n",
       "\n",
       "    .dataframe tbody tr th {\n",
       "        vertical-align: top;\n",
       "    }\n",
       "\n",
       "    .dataframe thead th {\n",
       "        text-align: right;\n",
       "    }\n",
       "</style>\n",
       "<table border=\"1\" class=\"dataframe\">\n",
       "  <thead>\n",
       "    <tr style=\"text-align: right;\">\n",
       "      <th></th>\n",
       "      <th>customer_id</th>\n",
       "      <th>FN</th>\n",
       "      <th>Active</th>\n",
       "      <th>club_member_status</th>\n",
       "      <th>fashion_news_frequency</th>\n",
       "      <th>age</th>\n",
       "      <th>postal_code</th>\n",
       "    </tr>\n",
       "  </thead>\n",
       "  <tbody>\n",
       "    <tr>\n",
       "      <th>141330</th>\n",
       "      <td>1a56e15ce7e11435919d6458012c68c36d0f752cb135a5...</td>\n",
       "      <td>NaN</td>\n",
       "      <td>NaN</td>\n",
       "      <td>ACTIVE</td>\n",
       "      <td>NONE</td>\n",
       "      <td>24.0000</td>\n",
       "      <td>2c29ae653a9282cce4151bd87643c907644e09541abc28...</td>\n",
       "    </tr>\n",
       "    <tr>\n",
       "      <th>1316855</th>\n",
       "      <td>f5b7c8940861818b38c8594c34d188d049204355715f7a...</td>\n",
       "      <td>NaN</td>\n",
       "      <td>NaN</td>\n",
       "      <td>ACTIVE</td>\n",
       "      <td>NONE</td>\n",
       "      <td>27.0000</td>\n",
       "      <td>bba5c13707adb11cc47e7a69ec6a8224bf75bcdf28991e...</td>\n",
       "    </tr>\n",
       "    <tr>\n",
       "      <th>774907</th>\n",
       "      <td>90ac6a41287d94361e2219e744885dd73705cddc95030e...</td>\n",
       "      <td>1.0000</td>\n",
       "      <td>1.0000</td>\n",
       "      <td>ACTIVE</td>\n",
       "      <td>Regularly</td>\n",
       "      <td>45.0000</td>\n",
       "      <td>2c29ae653a9282cce4151bd87643c907644e09541abc28...</td>\n",
       "    </tr>\n",
       "    <tr>\n",
       "      <th>1271123</th>\n",
       "      <td>ed34f711927c10d08922db0ef98067c980951557295cf2...</td>\n",
       "      <td>NaN</td>\n",
       "      <td>NaN</td>\n",
       "      <td>ACTIVE</td>\n",
       "      <td>NONE</td>\n",
       "      <td>48.0000</td>\n",
       "      <td>806c3236457061e2b5908e2a4b1c2c4dc8da339dcbcae3...</td>\n",
       "    </tr>\n",
       "    <tr>\n",
       "      <th>1157300</th>\n",
       "      <td>d7e94ea6ea38f4a3511a8a16abddb59c498f811b94468e...</td>\n",
       "      <td>NaN</td>\n",
       "      <td>NaN</td>\n",
       "      <td>ACTIVE</td>\n",
       "      <td>NONE</td>\n",
       "      <td>21.0000</td>\n",
       "      <td>b27605b7d5066e545608294db968e3794857d75ac79e1f...</td>\n",
       "    </tr>\n",
       "    <tr>\n",
       "      <th>...</th>\n",
       "      <td>...</td>\n",
       "      <td>...</td>\n",
       "      <td>...</td>\n",
       "      <td>...</td>\n",
       "      <td>...</td>\n",
       "      <td>...</td>\n",
       "      <td>...</td>\n",
       "    </tr>\n",
       "    <tr>\n",
       "      <th>551814</th>\n",
       "      <td>670189c52a0fd0608f8684a504740d695656a422447b0c...</td>\n",
       "      <td>1.0000</td>\n",
       "      <td>1.0000</td>\n",
       "      <td>ACTIVE</td>\n",
       "      <td>Regularly</td>\n",
       "      <td>65.0000</td>\n",
       "      <td>ea0f4adbd74116efcc746391f0bd687f9fc7fb6472fc65...</td>\n",
       "    </tr>\n",
       "    <tr>\n",
       "      <th>227851</th>\n",
       "      <td>2a846b86f2647e5ec4623e455a7d121d6e74e3dafdecc8...</td>\n",
       "      <td>NaN</td>\n",
       "      <td>NaN</td>\n",
       "      <td>PRE-CREATE</td>\n",
       "      <td>NONE</td>\n",
       "      <td>58.0000</td>\n",
       "      <td>77a1020f1f5c0985dc095e2a11201687b419834b0748e2...</td>\n",
       "    </tr>\n",
       "    <tr>\n",
       "      <th>784209</th>\n",
       "      <td>92675bcbb3f2d9d76a1f81d2984c3c27cb89679ac05f1e...</td>\n",
       "      <td>NaN</td>\n",
       "      <td>NaN</td>\n",
       "      <td>ACTIVE</td>\n",
       "      <td>NONE</td>\n",
       "      <td>19.0000</td>\n",
       "      <td>d05e587b5099edd2ecdb93bc72c2789dd6ee1d248517bf...</td>\n",
       "    </tr>\n",
       "    <tr>\n",
       "      <th>1078507</th>\n",
       "      <td>c94381600efb852db4764355d814d20ec48f09b46c7afc...</td>\n",
       "      <td>1.0000</td>\n",
       "      <td>1.0000</td>\n",
       "      <td>ACTIVE</td>\n",
       "      <td>Regularly</td>\n",
       "      <td>55.0000</td>\n",
       "      <td>5495fd921e34daf5e271bca153a638f091c19b50245547...</td>\n",
       "    </tr>\n",
       "    <tr>\n",
       "      <th>1357230</th>\n",
       "      <td>fd3d97c68cb4ada3ad7c2be05f32987332dc2f045054f4...</td>\n",
       "      <td>NaN</td>\n",
       "      <td>NaN</td>\n",
       "      <td>ACTIVE</td>\n",
       "      <td>NONE</td>\n",
       "      <td>27.0000</td>\n",
       "      <td>18604a9d0735943ecfd40e94275e26be11db5e1460e5d6...</td>\n",
       "    </tr>\n",
       "  </tbody>\n",
       "</table>\n",
       "<p>137198 rows × 7 columns</p>\n",
       "</div>"
      ],
      "text/plain": [
       "                                               customer_id     FN  Active  \\\n",
       "141330   1a56e15ce7e11435919d6458012c68c36d0f752cb135a5...    NaN     NaN   \n",
       "1316855  f5b7c8940861818b38c8594c34d188d049204355715f7a...    NaN     NaN   \n",
       "774907   90ac6a41287d94361e2219e744885dd73705cddc95030e... 1.0000  1.0000   \n",
       "1271123  ed34f711927c10d08922db0ef98067c980951557295cf2...    NaN     NaN   \n",
       "1157300  d7e94ea6ea38f4a3511a8a16abddb59c498f811b94468e...    NaN     NaN   \n",
       "...                                                    ...    ...     ...   \n",
       "551814   670189c52a0fd0608f8684a504740d695656a422447b0c... 1.0000  1.0000   \n",
       "227851   2a846b86f2647e5ec4623e455a7d121d6e74e3dafdecc8...    NaN     NaN   \n",
       "784209   92675bcbb3f2d9d76a1f81d2984c3c27cb89679ac05f1e...    NaN     NaN   \n",
       "1078507  c94381600efb852db4764355d814d20ec48f09b46c7afc... 1.0000  1.0000   \n",
       "1357230  fd3d97c68cb4ada3ad7c2be05f32987332dc2f045054f4...    NaN     NaN   \n",
       "\n",
       "        club_member_status fashion_news_frequency     age  \\\n",
       "141330              ACTIVE                   NONE 24.0000   \n",
       "1316855             ACTIVE                   NONE 27.0000   \n",
       "774907              ACTIVE              Regularly 45.0000   \n",
       "1271123             ACTIVE                   NONE 48.0000   \n",
       "1157300             ACTIVE                   NONE 21.0000   \n",
       "...                    ...                    ...     ...   \n",
       "551814              ACTIVE              Regularly 65.0000   \n",
       "227851          PRE-CREATE                   NONE 58.0000   \n",
       "784209              ACTIVE                   NONE 19.0000   \n",
       "1078507             ACTIVE              Regularly 55.0000   \n",
       "1357230             ACTIVE                   NONE 27.0000   \n",
       "\n",
       "                                               postal_code  \n",
       "141330   2c29ae653a9282cce4151bd87643c907644e09541abc28...  \n",
       "1316855  bba5c13707adb11cc47e7a69ec6a8224bf75bcdf28991e...  \n",
       "774907   2c29ae653a9282cce4151bd87643c907644e09541abc28...  \n",
       "1271123  806c3236457061e2b5908e2a4b1c2c4dc8da339dcbcae3...  \n",
       "1157300  b27605b7d5066e545608294db968e3794857d75ac79e1f...  \n",
       "...                                                    ...  \n",
       "551814   ea0f4adbd74116efcc746391f0bd687f9fc7fb6472fc65...  \n",
       "227851   77a1020f1f5c0985dc095e2a11201687b419834b0748e2...  \n",
       "784209   d05e587b5099edd2ecdb93bc72c2789dd6ee1d248517bf...  \n",
       "1078507  5495fd921e34daf5e271bca153a638f091c19b50245547...  \n",
       "1357230  18604a9d0735943ecfd40e94275e26be11db5e1460e5d6...  \n",
       "\n",
       "[137198 rows x 7 columns]"
      ]
     },
     "execution_count": 38,
     "metadata": {},
     "output_type": "execute_result"
    }
   ],
   "source": [
    "df_customers_sample"
   ]
  },
  {
   "cell_type": "code",
   "execution_count": 39,
   "id": "5fc577d6",
   "metadata": {},
   "outputs": [],
   "source": [
    "unique_customer_id_set = set(df_customers_sample.customer_id.unique())"
   ]
  },
  {
   "cell_type": "code",
   "execution_count": 40,
   "id": "a9f79982",
   "metadata": {},
   "outputs": [],
   "source": [
    "df_sample = df[df.customer_id.isin(unique_customer_id_set)]"
   ]
  },
  {
   "cell_type": "code",
   "execution_count": 42,
   "id": "5b56df67",
   "metadata": {},
   "outputs": [],
   "source": [
    "### i don't whether to sample ARTICLES -> if filtered off then no cold-start problem.\n",
    "### On the other hand, you NEED TO SAMPLE for EMBEDDINGS, maybe another pipeline for that?"
   ]
  },
  {
   "cell_type": "code",
   "execution_count": 41,
   "id": "b5ff5bb0",
   "metadata": {},
   "outputs": [
    {
     "data": {
      "text/plain": [
       "((778995, 5), (137198, 7))"
      ]
     },
     "execution_count": 41,
     "metadata": {},
     "output_type": "execute_result"
    }
   ],
   "source": [
    "df_sample.shape, df_customers_sample.shape"
   ]
  },
  {
   "cell_type": "code",
   "execution_count": null,
   "id": "4c03e81f",
   "metadata": {},
   "outputs": [],
   "source": []
  }
 ],
 "metadata": {
  "kernelspec": {
   "display_name": "GetInDataMLFramework",
   "language": "python",
   "name": "python3"
  },
  "language_info": {
   "codemirror_mode": {
    "name": "ipython",
    "version": 3
   },
   "file_extension": ".py",
   "mimetype": "text/x-python",
   "name": "python",
   "nbconvert_exporter": "python",
   "pygments_lexer": "ipython3",
   "version": "3.8.12"
  }
 },
 "nbformat": 4,
 "nbformat_minor": 5
}
