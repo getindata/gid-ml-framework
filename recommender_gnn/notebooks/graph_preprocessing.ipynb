{
 "cells": [
  {
   "cell_type": "markdown",
   "metadata": {},
   "source": [
    "# Preprocessing data to graph structure"
   ]
  },
  {
   "cell_type": "code",
   "execution_count": null,
   "metadata": {},
   "outputs": [],
   "source": [
    "%load_ext kedro.extras.extensions.ipython"
   ]
  },
  {
   "cell_type": "code",
   "execution_count": null,
   "metadata": {},
   "outputs": [],
   "source": [
    "%reload_kedro"
   ]
  },
  {
   "cell_type": "code",
   "execution_count": null,
   "metadata": {},
   "outputs": [],
   "source": [
    "from typing import Iterator, Tuple\n",
    "import re\n",
    "\n",
    "import pandas as pd\n",
    "import numpy as np\n",
    "from kedro.extras.datasets.pandas import CSVDataSet\n",
    "from kedro.io.core import get_filepath_str\n",
    "\n",
    "from recommender_gnn.extras.datasets.chunks_dataset import (\n",
    " _concat_chunks,\n",
    ")\n",
    "\n",
    "pd.options.mode.chained_assignment = None\n",
    "pd.set_option('expand_frame_repr', True)\n",
    "pd.set_option(\"display.max_rows\", 999)\n",
    "pd.set_option('max_colwidth', 100)\n",
    "pd.set_option('display.max_columns', 500)\n",
    "pd.set_option('display.width', 1000)\n",
    "pd.set_option('display.expand_frame_repr', False)"
   ]
  },
  {
   "cell_type": "code",
   "execution_count": null,
   "metadata": {},
   "outputs": [],
   "source": [
    "customers = context.catalog.load(customers_path)\n",
    "articles = context.catalog.load(articles_path)\n",
    "transactions_train = _concat_chunks(context.catalog.load(transactions_train_path))\n",
    "transactions_val = _concat_chunks(context.catalog.load(transactions_val_path))"
   ]
  },
  {
   "cell_type": "code",
   "execution_count": null,
   "metadata": {},
   "outputs": [],
   "source": [
    "customers.shape"
   ]
  },
  {
   "cell_type": "code",
   "execution_count": null,
   "metadata": {},
   "outputs": [],
   "source": [
    "articles.shape"
   ]
  },
  {
   "cell_type": "code",
   "execution_count": null,
   "metadata": {},
   "outputs": [],
   "source": [
    "transactions_train.shape"
   ]
  },
  {
   "cell_type": "code",
   "execution_count": null,
   "metadata": {},
   "outputs": [],
   "source": [
    "transactions_val.shape"
   ]
  },
  {
   "cell_type": "code",
   "execution_count": null,
   "metadata": {},
   "outputs": [],
   "source": [
    "def _create_mapping(df: pd.DataFrame, map_column: str):\n",
    "    \"\"\"Creates mapping into consecutive integers for given column.\"\"\"\n",
    "    ids = df.loc[:, map_column].sort_values().reset_index(drop=True)\n",
    "    mapping = {v: k for k, v in enumerate(ids)}\n",
    "    return mapping"
   ]
  },
  {
   "cell_type": "code",
   "execution_count": null,
   "metadata": {},
   "outputs": [],
   "source": [
    "users_mapping = _create_mapping(customers, map_column=\"customer_id\")\n",
    "items_mapping = _create_mapping(articles, map_column=\"article_id\")\n"
   ]
  },
  {
   "cell_type": "code",
   "execution_count": null,
   "metadata": {},
   "outputs": [],
   "source": [
    "set(transactions_train.customer_id).issubset(set(users_mapping.keys()))"
   ]
  },
  {
   "cell_type": "code",
   "execution_count": null,
   "metadata": {},
   "outputs": [],
   "source": [
    "transactions_train.replace({\"customer_id\": users_mapping, \"article_id\": items_mapping}, inplace=True)"
   ]
  },
  {
   "cell_type": "code",
   "execution_count": null,
   "metadata": {},
   "outputs": [],
   "source": [
    "set(transactions_train.customer_id).issubset(set(users_mapping.values()))"
   ]
  },
  {
   "cell_type": "code",
   "execution_count": null,
   "metadata": {},
   "outputs": [],
   "source": [
    "customers"
   ]
  },
  {
   "cell_type": "code",
   "execution_count": null,
   "metadata": {},
   "outputs": [],
   "source": [
    "transactions_train.sort_values(\"customer_id\")"
   ]
  },
  {
   "cell_type": "code",
   "execution_count": null,
   "metadata": {},
   "outputs": [],
   "source": [
    "customers.loc[customers.customer_id==92343, :]"
   ]
  },
  {
   "cell_type": "code",
   "execution_count": null,
   "metadata": {},
   "outputs": [],
   "source": [
    "customers.shape[0]"
   ]
  },
  {
   "cell_type": "code",
   "execution_count": null,
   "metadata": {},
   "outputs": [],
   "source": [
    "len(transactions.customer_id.unique())"
   ]
  },
  {
   "cell_type": "markdown",
   "metadata": {},
   "source": [
    "# Preprocessed data check"
   ]
  },
  {
   "cell_type": "code",
   "execution_count": null,
   "metadata": {},
   "outputs": [],
   "source": [
    "dataset = \"hm\""
   ]
  },
  {
   "cell_type": "code",
   "execution_count": null,
   "metadata": {},
   "outputs": [],
   "source": [
    "transactions_graph_path = f\"{dataset}.transactions_graph\"\n",
    "transactions_mapped_path = f\"{dataset}_transactions_mapped\"\n",
    "users_mapping_path = f\"{dataset}_users_mapping\"\n",
    "items_mapping_path = f\"{dataset}_items_mapping\""
   ]
  },
  {
   "cell_type": "code",
   "execution_count": null,
   "metadata": {},
   "outputs": [],
   "source": [
    "transactions_graph = _concat_chunks(context.catalog.load(transactions_graph_path))\n",
    "transactions_mapped = _concat_chunks(context.catalog.load(transactions_mapped_path))\n",
    "users_mapping = context.catalog.load(users_mapping_path)\n",
    "items_mapping = context.catalog.load(items_mapping_path)"
   ]
  },
  {
   "cell_type": "markdown",
   "metadata": {},
   "source": [
    "# Saving testing fixtures dataframes"
   ]
  },
  {
   "cell_type": "code",
   "execution_count": null,
   "metadata": {},
   "outputs": [],
   "source": [
    "transactions_graph"
   ]
  },
  {
   "cell_type": "code",
   "execution_count": null,
   "metadata": {},
   "outputs": [],
   "source": [
    "transactions_mapped"
   ]
  },
  {
   "cell_type": "code",
   "execution_count": null,
   "metadata": {},
   "outputs": [],
   "source": [
    "items_mapping"
   ]
  },
  {
   "cell_type": "code",
   "execution_count": null,
   "metadata": {},
   "outputs": [],
   "source": [
    "transactions_concat = transactions_graph.sample(frac=0.01)\n",
    "print(transactions_concat.shape)"
   ]
  },
  {
   "cell_type": "code",
   "execution_count": null,
   "metadata": {},
   "outputs": [],
   "source": [
    "transactions_concat.to_csv(\"../src/tests/fixtures/dataframes/bank_concat_transactions.csv\", index=False)"
   ]
  },
  {
   "cell_type": "code",
   "execution_count": null,
   "metadata": {},
   "outputs": [],
   "source": [
    "transactions_mapped.loc[:, 'user_id'].value_counts().value_counts()"
   ]
  },
  {
   "cell_type": "code",
   "execution_count": null,
   "metadata": {},
   "outputs": [],
   "source": [
    "transactions_mapped_sample = transactions_mapped.sample(frac=0.01)\n",
    "print(transactions_mapped_sample.shape)"
   ]
  },
  {
   "cell_type": "code",
   "execution_count": null,
   "metadata": {},
   "outputs": [],
   "source": [
    "transactions_mapped_sample.to_csv(\"../src/tests/fixtures/dataframes/bank_mapped_transactions.csv\", index=False)"
   ]
  },
  {
   "cell_type": "code",
   "execution_count": null,
   "metadata": {},
   "outputs": [],
   "source": [
    "transactions_mapped_sample_small = transactions_mapped.sort_values(by=\"user_id\").iloc[0:100]\n",
    "transactions_mapped_sample_small"
   ]
  },
  {
   "cell_type": "code",
   "execution_count": null,
   "metadata": {},
   "outputs": [],
   "source": [
    "transactions_mapped_sample_small.to_csv(\"../src/tests/fixtures/dataframes/bank_mapped_transactions_small.csv\", index=False)"
   ]
  }
 ],
 "metadata": {
  "kernelspec": {
   "display_name": "Python 3.8.12 ('gid-gnns')",
   "language": "python",
   "name": "python3"
  },
  "language_info": {
   "codemirror_mode": {
    "name": "ipython",
    "version": 3
   },
   "file_extension": ".py",
   "mimetype": "text/x-python",
   "name": "python",
   "nbconvert_exporter": "python",
   "pygments_lexer": "ipython3",
   "version": "3.8.12"
  },
  "vscode": {
   "interpreter": {
    "hash": "e87cc64cfde56b8b55d0221d0c3db975499f0cbfa29fbbe10a13999eb0ccf56e"
   }
  }
 },
 "nbformat": 4,
 "nbformat_minor": 2
}
