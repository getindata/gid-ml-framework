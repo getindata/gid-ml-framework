{
 "cells": [
  {
   "cell_type": "code",
   "execution_count": null,
   "id": "4038dbf0",
   "metadata": {},
   "outputs": [],
   "source": [
    "import numpy as np\n",
    "import pandas as pd"
   ]
  },
  {
   "cell_type": "code",
   "execution_count": null,
   "id": "c1c0c1f3",
   "metadata": {},
   "outputs": [],
   "source": [
    "id2type = ['clicks', 'carts', 'orders'] # I have analyzed the data\n",
    "                                          # and so I know we can expect these event types\n",
    "type2id = {a: i for i, a in enumerate(id2type)}\n",
    "\n",
    "id2type, type2id"
   ]
  },
  {
   "cell_type": "code",
   "execution_count": null,
   "id": "8d7a4eec",
   "metadata": {},
   "outputs": [],
   "source": [
    "pd.to_pickle(id2type, 'id2type.pkl')\n",
    "pd.to_pickle(type2id, 'type2id.pkl')"
   ]
  },
  {
   "cell_type": "code",
   "execution_count": null,
   "id": "f21b0a9d",
   "metadata": {},
   "outputs": [],
   "source": [
    "def jsonl_to_df(fn):\n",
    "    sessions = []\n",
    "    aids = []\n",
    "    tss = []\n",
    "    types = []\n",
    "\n",
    "    chunks = pd.read_json(fn, lines=True, chunksize=100_000)\n",
    "\n",
    "    for chunk in chunks:\n",
    "        for row_idx, session_data in chunk.iterrows():\n",
    "            num_events = len(session_data.events)\n",
    "            sessions += ([session_data.session] * num_events)\n",
    "            for event in session_data.events:\n",
    "                aids.append(event['aid'])\n",
    "                tss.append(event['ts'])\n",
    "                types.append(type2id[event['type']])\n",
    "        \n",
    "    return pd.DataFrame(data={'session': sessions, 'aid': aids, 'ts': tss, 'type': types})"
   ]
  },
  {
   "cell_type": "code",
   "execution_count": null,
   "id": "8c0988f6",
   "metadata": {},
   "outputs": [],
   "source": [
    "%%time\n",
    "\n",
    "train_df = jsonl_to_df('data/train.jsonl')\n",
    "train_df.type = train_df.type.astype(np.uint8) # a tiny bit of further memory footprint optimization\n",
    "train_df.to_parquet('train.parquet', index=False)\n",
    "train_df.to_csv('train.csv', index=False)\n",
    "\n",
    "del train_df"
   ]
  },
  {
   "cell_type": "code",
   "execution_count": null,
   "id": "6cb6524f",
   "metadata": {},
   "outputs": [],
   "source": [
    "%%time\n",
    "\n",
    "test_df = jsonl_to_df('data/test.jsonl')\n",
    "test_df.type = test_df.type.astype(np.uint8)\n",
    "test_df.to_parquet('test.parquet', index=False)\n",
    "test_df.to_csv('test.csv', index=False)"
   ]
  }
 ],
 "metadata": {
  "kernelspec": {
   "display_name": "Python 3 (ipykernel)",
   "language": "python",
   "name": "python3"
  }
 },
 "nbformat": 4,
 "nbformat_minor": 5
}
