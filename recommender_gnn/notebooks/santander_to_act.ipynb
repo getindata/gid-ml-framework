{
 "cells": [
  {
   "cell_type": "markdown",
   "metadata": {},
   "source": [
    "# Transformation of Santander dataset into Articles, Customers, Transaction (ACT) format"
   ]
  },
  {
   "cell_type": "code",
   "execution_count": null,
   "metadata": {},
   "outputs": [],
   "source": [
    "%load_ext kedro.extras.extensions.ipython"
   ]
  },
  {
   "cell_type": "code",
   "execution_count": null,
   "metadata": {},
   "outputs": [],
   "source": [
    "%reload_kedro"
   ]
  },
  {
   "cell_type": "code",
   "execution_count": null,
   "metadata": {},
   "outputs": [],
   "source": [
    "from typing import Iterator, Tuple\n",
    "import re\n",
    "\n",
    "import pandas as pd\n",
    "import numpy as np\n",
    "from kedro.extras.datasets.pandas import CSVDataSet\n",
    "from kedro.io.core import get_filepath_str\n",
    "\n",
    "import recommender_gnn.pipelines.santander_preprocessing.nodes\n",
    "from recommender_gnn.extras.datasets.chunks_dataset import (\n",
    " _load,\n",
    " _concat_chunks,\n",
    ")\n",
    "\n",
    "pd.options.mode.chained_assignment = None\n",
    "pd.set_option('expand_frame_repr', True)\n",
    "pd.set_option(\"display.max_rows\", 999)\n",
    "pd.set_option('max_colwidth', 100)\n",
    "pd.set_option('display.max_columns', 500)\n",
    "pd.set_option('display.width', 1000)\n",
    "pd.set_option('display.expand_frame_repr', False)"
   ]
  },
  {
   "cell_type": "markdown",
   "metadata": {},
   "source": [
    "## Final dataframes check"
   ]
  },
  {
   "cell_type": "code",
   "execution_count": null,
   "metadata": {},
   "outputs": [],
   "source": [
    "santander_articles_path = \"santander_articles\"\n",
    "santander_customers_path = \"santander_customers\"\n",
    "santander_trainsactions_train_path = \"santander_transactions_train\"\n",
    "santander_trainsactions_val_path = \"santander_transactions_val\""
   ]
  },
  {
   "cell_type": "code",
   "execution_count": null,
   "metadata": {},
   "outputs": [],
   "source": [
    "santander_customers = _concat_chunks(context\n",
    "                                     .catalog.load(santander_customers_path))\n",
    "santander_articles = _concat_chunks(context\n",
    "                                    .catalog.load(santander_articles_path))\n",
    "santander_transactions_train = _concat_chunks(context\n",
    "                                              .catalog\n",
    "                                              .load(santander_trainsactions_train_path))\n",
    "santander_transactions_val = _concat_chunks(context\n",
    "                                              .catalog\n",
    "                                              .load(santander_trainsactions_val_path))"
   ]
  },
  {
   "cell_type": "code",
   "execution_count": null,
   "metadata": {},
   "outputs": [],
   "source": [
    "santander_articles"
   ]
  },
  {
   "cell_type": "code",
   "execution_count": null,
   "metadata": {},
   "outputs": [],
   "source": [
    "santander_customers"
   ]
  },
  {
   "cell_type": "code",
   "execution_count": null,
   "metadata": {},
   "outputs": [],
   "source": [
    "santander_transactions_train"
   ]
  },
  {
   "cell_type": "markdown",
   "metadata": {},
   "source": [
    "# Saving testing fixtures"
   ]
  },
  {
   "cell_type": "code",
   "execution_count": null,
   "metadata": {},
   "outputs": [],
   "source": [
    "train_sample = santander_transactions_train.sample(frac=0.01)\n",
    "print(train_sample.shape)\n",
    "val_sample = santander_transactions_val.sample(frac=0.1)\n",
    "print(val_sample.shape)"
   ]
  },
  {
   "cell_type": "code",
   "execution_count": null,
   "metadata": {},
   "outputs": [],
   "source": [
    "train_sample.to_csv(\"../src/tests/fixtures/csv/santander_train_transactions.csv\", index=False)\n",
    "val_sample.to_csv(\"../src/tests/fixtures/csv/santander_val_transactions.csv\", index=False)"
   ]
  },
  {
   "cell_type": "markdown",
   "metadata": {},
   "source": [
    "## Transactions transformations optimization"
   ]
  },
  {
   "cell_type": "code",
   "execution_count": null,
   "metadata": {},
   "outputs": [],
   "source": [
    "train_path = \"santander_train\"\n",
    "val_path = \"santander_val\"\n",
    "test_path = \"santander_test\""
   ]
  },
  {
   "cell_type": "code",
   "execution_count": null,
   "metadata": {},
   "outputs": [],
   "source": [
    "train = _concat_chunks(context.catalog.load(train_path))\n",
    "val = _concat_chunks(context.catalog.load(val_path))\n",
    "test = _concat_chunks(context.catalog.load(test_path))"
   ]
  },
  {
   "cell_type": "code",
   "execution_count": null,
   "metadata": {},
   "outputs": [],
   "source": [
    "def _status_change(x: pd.Series) -> str:\n",
    "    \"\"\"Based on difference of the following rows create label which indicates\n",
    "    if given product was added, dropped or maintained in comparison with last \n",
    "    month for given customer.\n",
    "\n",
    "    Args:\n",
    "        x (pd.DataFrame): imputed santander train dataframe\n",
    "\n",
    "    Returns:\n",
    "        str: target label - added/dropped/maintained\n",
    "    \"\"\"\n",
    "    diffs = x.diff().fillna(0)\n",
    "    # First occurrence is considered as \"Maintained\"\n",
    "    label = [\"Added\" if i == 1 \\\n",
    "         else \"Dropped\" if i == -1 \\\n",
    "         else \"Maintained\" for i in diffs]\n",
    "    return label\n",
    "\n",
    "\n",
    "def _target_processing_santander(train_df: Iterator[pd.DataFrame],\n",
    "                                val_df: Iterator[pd.DataFrame]) -> Tuple:\n",
    "    \"\"\"Preprocess target columns to focus on products that will be bought\n",
    "    in the next month\n",
    "\n",
    "    Args:\n",
    "        input_train_df (Iterator[pd.DataFrame]): imputed santander train\n",
    "        dataframe\n",
    "        input_val_df (Iterator[pd.DataFrame]): imputed santander validation \n",
    "        dataframe\n",
    "\n",
    "    Returns:\n",
    "        Tuple: processed train and validation dataframes\n",
    "    \"\"\"\n",
    "    train_len = len(train_df)\n",
    "    df = pd.concat([train_df, val_df])\n",
    "    feature_cols = df.iloc[:1,].filter(regex=\"ind_+.*ult.*\").columns.values\n",
    "    df = df.sort_values(['ncodpers', 'fecha_dato']).reset_index(drop=True)\n",
    "    # Apply status change labeling\n",
    "    df.loc[:, feature_cols] = (df.loc[:, [i for i in feature_cols]\n",
    "                               + [\"ncodpers\"]].groupby(\"ncodpers\")\n",
    "                               .transform(_status_change))\n",
    "                               \n",
    "    df = df.sort_values(['fecha_dato']).reset_index(drop=True)\n",
    "\n",
    "    train_df = df.iloc[:train_len, :]\n",
    "    val_df = df.iloc[train_len:, :]\n",
    "    return (train_df, val_df)"
   ]
  },
  {
   "cell_type": "code",
   "execution_count": null,
   "metadata": {},
   "outputs": [],
   "source": [
    "transactions_train_1, transactions_val_1 = _target_processing_santander(train, val)"
   ]
  },
  {
   "cell_type": "code",
   "execution_count": null,
   "metadata": {},
   "outputs": [],
   "source": [
    "transactions_train_1"
   ]
  },
  {
   "cell_type": "code",
   "execution_count": null,
   "metadata": {},
   "outputs": [],
   "source": [
    "transactions_train_1.loc[transactions_train_1.loc[:, 'ind_cco_fin_ult1'] == 'Added'].sort_values('ncodpers').head()"
   ]
  },
  {
   "cell_type": "code",
   "execution_count": null,
   "metadata": {},
   "outputs": [],
   "source": [
    "train.loc[train.ncodpers == 360274, :]"
   ]
  },
  {
   "cell_type": "code",
   "execution_count": null,
   "metadata": {},
   "outputs": [],
   "source": [
    "def _status_change_faster(x: pd.Series) -> str:\n",
    "    \"\"\"Based on difference of the following rows create label which indicates\n",
    "    if given product was added, dropped or maintained in comparison with last \n",
    "    month for given customer.\n",
    "\n",
    "    Args:\n",
    "        x (pd.DataFrame): imputed santander train dataframe\n",
    "\n",
    "    Returns:\n",
    "        str: target label - added/dropped/maintained\n",
    "    \"\"\"\n",
    "    # First occurrence is considered as \"Maintained\"\n",
    "    label = [\"Added\" if i == 1 \\\n",
    "         else \"Dropped\" if i == -1 \\\n",
    "         else \"Maintained\" for i in x]\n",
    "    return label\n",
    "\n",
    "\n",
    "def _target_processing_santander_faster(train_df: Iterator[pd.DataFrame],\n",
    "                                val_df: Iterator[pd.DataFrame]) -> Tuple:\n",
    "    \"\"\"Preprocess target columns to focus on products that will be bought\n",
    "    in the next month\n",
    "\n",
    "    Args:\n",
    "        input_train_df (Iterator[pd.DataFrame]): imputed santander train\n",
    "        dataframe\n",
    "        input_val_df (Iterator[pd.DataFrame]): imputed santander validation \n",
    "        dataframe\n",
    "\n",
    "    Returns:\n",
    "        Tuple: processed train and validation dataframes\n",
    "    \"\"\"\n",
    "    train_len = len(train_df)\n",
    "    df = pd.concat([train_df, val_df])\n",
    "    feature_cols = df.iloc[:1,].filter(regex=\"ind_+.*ult.*\").columns.values\n",
    "    df = df.sort_values(['ncodpers', 'fecha_dato']).reset_index(drop=True)\n",
    "    # Apply status change labeling\n",
    "    s = df.loc[:, [i for i in feature_cols] + [\"ncodpers\"]]\n",
    "    df.loc[:, feature_cols] = (s.loc[:, [i for i in feature_cols]].diff()\n",
    "                               .where(s.duplicated([\"ncodpers\"],\n",
    "                               keep='first'))\n",
    "                               ).fillna(0).transform(_status_change_faster)\n",
    "    df = df.sort_values(['fecha_dato']).reset_index(drop=True)\n",
    "\n",
    "    train_df = df.iloc[:train_len, :]\n",
    "    val_df = df.iloc[train_len:, :]\n",
    "    return (train_df, val_df)"
   ]
  },
  {
   "cell_type": "code",
   "execution_count": null,
   "metadata": {},
   "outputs": [],
   "source": [
    "transactions_train_2, transactions_val_2 = _target_processing_santander_faster(train, val)"
   ]
  },
  {
   "cell_type": "code",
   "execution_count": null,
   "metadata": {},
   "outputs": [],
   "source": [
    "transactions_train_2.loc[transactions_train_2.loc[:, 'ind_cco_fin_ult1'] == 'Added'].sort_values('ncodpers').head()"
   ]
  },
  {
   "cell_type": "code",
   "execution_count": null,
   "metadata": {},
   "outputs": [],
   "source": [
    "train.loc[train.ncodpers == 348324, :]"
   ]
  },
  {
   "cell_type": "code",
   "execution_count": null,
   "metadata": {},
   "outputs": [],
   "source": [
    "transactions_train_2.equals(transactions_train_1)\n",
    "transactions_val_2.equals(transactions_val_1)"
   ]
  }
 ],
 "metadata": {
  "kernelspec": {
   "display_name": "Python 3.8.12 ('gnns')",
   "language": "python",
   "name": "python3"
  },
  "language_info": {
   "codemirror_mode": {
    "name": "ipython",
    "version": 3
   },
   "file_extension": ".py",
   "mimetype": "text/x-python",
   "name": "python",
   "nbconvert_exporter": "python",
   "pygments_lexer": "ipython3",
   "version": "3.8.12"
  },
  "vscode": {
   "interpreter": {
    "hash": "006e7305ebb1c4349e67bafac2623301d99fead928aac93f5fbf67ad799e5b13"
   }
  }
 },
 "nbformat": 4,
 "nbformat_minor": 2
}
