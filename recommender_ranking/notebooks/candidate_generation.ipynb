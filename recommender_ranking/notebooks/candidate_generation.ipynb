{
 "cells": [
  {
   "cell_type": "code",
   "execution_count": null,
   "id": "6f70d664",
   "metadata": {},
   "outputs": [],
   "source": [
    "%load_ext kedro.extras.extensions.ipython"
   ]
  },
  {
   "cell_type": "code",
   "execution_count": null,
   "id": "9292b74b",
   "metadata": {},
   "outputs": [],
   "source": [
    "%reload_kedro"
   ]
  },
  {
   "cell_type": "code",
   "execution_count": null,
   "id": "44b0eba7",
   "metadata": {},
   "outputs": [],
   "source": [
    "import pandas as pd\n",
    "import numpy as np"
   ]
  },
  {
   "cell_type": "code",
   "execution_count": null,
   "id": "f57be39e",
   "metadata": {},
   "outputs": [],
   "source": [
    "pd.set_option('display.float_format', lambda x: '%.4f' % x)"
   ]
  },
  {
   "cell_type": "code",
   "execution_count": null,
   "id": "99be5e6d",
   "metadata": {},
   "outputs": [],
   "source": [
    "catalog.list()"
   ]
  },
  {
   "cell_type": "code",
   "execution_count": null,
   "id": "cf81bcf6",
   "metadata": {},
   "outputs": [],
   "source": [
    "transactions = context.catalog.load('transactions_sample')"
   ]
  },
  {
   "cell_type": "code",
   "execution_count": null,
   "id": "b6c0eb71",
   "metadata": {},
   "outputs": [],
   "source": [
    "customers = context.catalog.load('customers_sample')"
   ]
  },
  {
   "cell_type": "code",
   "execution_count": null,
   "id": "def921f5",
   "metadata": {},
   "outputs": [],
   "source": [
    "articles = context.catalog.load('articles_sample')"
   ]
  },
  {
   "cell_type": "code",
   "execution_count": null,
   "id": "d0249256",
   "metadata": {},
   "outputs": [],
   "source": [
    "candidates = context.catalog.load('candidates')"
   ]
  },
  {
   "cell_type": "code",
   "execution_count": null,
   "id": "61886505",
   "metadata": {},
   "outputs": [],
   "source": [
    "candidates.shape"
   ]
  },
  {
   "cell_type": "code",
   "execution_count": null,
   "id": "65898995",
   "metadata": {},
   "outputs": [],
   "source": [
    "candidates[candidates.isna().any(axis=1)]"
   ]
  },
  {
   "cell_type": "code",
   "execution_count": null,
   "id": "57148748",
   "metadata": {},
   "outputs": [],
   "source": [
    "transactions[transactions.customer_id.isin(['ff18c106287931d170618b59fd402ed0ecc292869aad5f'])]"
   ]
  },
  {
   "cell_type": "code",
   "execution_count": null,
   "id": "93985b4c",
   "metadata": {},
   "outputs": [],
   "source": [
    "transactions[transactions.customer_id.isin(candidates[candidates.isna().any(axis=1)].customer_id.to_list())]"
   ]
  },
  {
   "cell_type": "code",
   "execution_count": null,
   "id": "42e40035",
   "metadata": {},
   "outputs": [],
   "source": [
    "transactions[~(transactions.customer_id.isin(candidates[candidates.isna().any(axis=1)].customer_id.to_list()))].shape"
   ]
  },
  {
   "cell_type": "code",
   "execution_count": null,
   "id": "c6488df6",
   "metadata": {},
   "outputs": [],
   "source": [
    "transactions.shape, customers.shape, articles.shape"
   ]
  },
  {
   "cell_type": "code",
   "execution_count": null,
   "id": "e6941a7f",
   "metadata": {},
   "outputs": [],
   "source": [
    "my_dict = {'01': {'0101', '02020', '03030'}, '02': {'02032', '32131', '321321', '32131321'}}"
   ]
  },
  {
   "cell_type": "code",
   "execution_count": null,
   "id": "e9c08349",
   "metadata": {},
   "outputs": [],
   "source": [
    "my_dict"
   ]
  },
  {
   "cell_type": "code",
   "execution_count": null,
   "id": "63cd6c3d",
   "metadata": {},
   "outputs": [],
   "source": [
    "my_df = pd.DataFrame(my_dict.keys(), columns=['blasda'])"
   ]
  },
  {
   "cell_type": "code",
   "execution_count": null,
   "id": "e0b64440",
   "metadata": {},
   "outputs": [],
   "source": [
    "my_df"
   ]
  },
  {
   "cell_type": "code",
   "execution_count": null,
   "id": "93c6e334",
   "metadata": {},
   "outputs": [],
   "source": [
    "my_df['blabla'] = my_df.loc[:, 'blasda'].map(my_dict)"
   ]
  },
  {
   "cell_type": "code",
   "execution_count": null,
   "id": "8d3b80a9",
   "metadata": {},
   "outputs": [],
   "source": [
    "my_df"
   ]
  },
  {
   "cell_type": "code",
   "execution_count": null,
   "id": "86c86360",
   "metadata": {},
   "outputs": [],
   "source": [
    "pd.DataFrame.from_dict(my_dict, orient='index')"
   ]
  },
  {
   "cell_type": "markdown",
   "id": "84a5ef53",
   "metadata": {},
   "source": [
    "### Popularity items"
   ]
  },
  {
   "cell_type": "markdown",
   "id": "6a39f40b",
   "metadata": {},
   "source": [
    "- recent popular items (1, 3, 7, 30, 90 days), most popular products (overall)\n",
    "- products purchased previously (all)\n",
    "- popular items by SEGMENTS (age, gender) (1, 3, 7, 30, 90 days)\n",
    "- items which have the same `prod_name`\n",
    "<br><br>\n",
    "- IMAGE/TEXT EMBEDDINGS\n",
    "- BASKET MARKET ANALYSIS\n",
    "<br><br>\n",
    "- just choose the `N` that maximizes recall for EACH METHOD"
   ]
  },
  {
   "cell_type": "code",
   "execution_count": null,
   "id": "96850709",
   "metadata": {},
   "outputs": [],
   "source": [
    "transactions.t_dat = pd.to_datetime(transactions.t_dat)"
   ]
  },
  {
   "cell_type": "code",
   "execution_count": null,
   "id": "a74a3782",
   "metadata": {},
   "outputs": [],
   "source": [
    "transactions.t_dat.describe(datetime_is_numeric=True)[['min', 'max']]"
   ]
  },
  {
   "cell_type": "code",
   "execution_count": null,
   "id": "a57a6aba",
   "metadata": {},
   "outputs": [],
   "source": [
    "transactions.head()"
   ]
  },
  {
   "cell_type": "markdown",
   "id": "d2de387b",
   "metadata": {},
   "source": [
    "## global articles"
   ]
  },
  {
   "cell_type": "code",
   "execution_count": null,
   "id": "fd3a8a33",
   "metadata": {},
   "outputs": [],
   "source": [
    "articles_bought_by_most_customers = (transactions\n",
    "    .groupby(['article_id'])['customer_id']\n",
    "    .nunique()\n",
    "    .reset_index(name='cd_customer_id')\n",
    "    .sort_values(by='cd_customer_id', ascending=False)\n",
    ")"
   ]
  },
  {
   "cell_type": "code",
   "execution_count": null,
   "id": "8164f14b",
   "metadata": {},
   "outputs": [],
   "source": [
    "articles_bought_by_most_customers.head(200).article_id.to_list()"
   ]
  },
  {
   "cell_type": "code",
   "execution_count": null,
   "id": "96b5dcbe",
   "metadata": {},
   "outputs": [],
   "source": [
    "articles_sold_most = (transactions\n",
    "    .groupby(['article_id'])['customer_id']\n",
    "    .size()\n",
    "    .reset_index(name='sales_sum_count')\n",
    "    .sort_values(by='sales_sum_count', ascending=False)\n",
    ")"
   ]
  },
  {
   "cell_type": "code",
   "execution_count": null,
   "id": "479665fb",
   "metadata": {},
   "outputs": [],
   "source": [
    "articles_sold_most.head()"
   ]
  },
  {
   "cell_type": "markdown",
   "id": "8b1fa623",
   "metadata": {},
   "source": [
    "### trending articles (nope)"
   ]
  },
  {
   "cell_type": "markdown",
   "id": "c07e7742",
   "metadata": {},
   "source": [
    "Trending articles seem to much engineered by hand, you can just take popularity items from last 7 days. I suspect result will be comparable"
   ]
  },
  {
   "cell_type": "code",
   "execution_count": null,
   "id": "867c309b",
   "metadata": {},
   "outputs": [],
   "source": [
    "tmp = transactions[['t_dat']].copy()"
   ]
  },
  {
   "cell_type": "code",
   "execution_count": null,
   "id": "57ffbc02",
   "metadata": {},
   "outputs": [],
   "source": [
    "tmp['day_of_week'] = tmp['t_dat'].dt.dayofweek"
   ]
  },
  {
   "cell_type": "code",
   "execution_count": null,
   "id": "8e12d970",
   "metadata": {},
   "outputs": [],
   "source": [
    "tmp['ldbw'] = tmp['t_dat'] - pd.TimedeltaIndex(tmp['day_of_week'] - 1, unit='D')"
   ]
  },
  {
   "cell_type": "code",
   "execution_count": null,
   "id": "8a65c8d1",
   "metadata": {},
   "outputs": [],
   "source": [
    "tmp.loc[tmp['day_of_week'] >=2 , 'ldbw'] = tmp.loc[tmp['day_of_week'] >=2 , 'ldbw'] + pd.TimedeltaIndex(np.ones(len(tmp.loc[tmp['day_of_week'] >=2])) * 7, unit='D')"
   ]
  },
  {
   "cell_type": "markdown",
   "id": "4be856e0",
   "metadata": {},
   "source": [
    "ldbw - next nearest last day (in our case thursday) or current"
   ]
  },
  {
   "cell_type": "markdown",
   "id": "7a0af2ca",
   "metadata": {},
   "source": [
    "## segment articles"
   ]
  },
  {
   "cell_type": "code",
   "execution_count": null,
   "id": "7934f217",
   "metadata": {},
   "outputs": [],
   "source": [
    "transactions.head()"
   ]
  },
  {
   "cell_type": "code",
   "execution_count": null,
   "id": "cfae6f7d",
   "metadata": {},
   "outputs": [],
   "source": [
    "customers.head()"
   ]
  },
  {
   "cell_type": "code",
   "execution_count": null,
   "id": "6eaeb057",
   "metadata": {},
   "outputs": [],
   "source": [
    "customers['age_bin'] = pd.qcut(customers['age'], q=5, labels=False).astype(str).str.zfill(2)"
   ]
  },
  {
   "cell_type": "code",
   "execution_count": null,
   "id": "81fbcd35",
   "metadata": {},
   "outputs": [],
   "source": [
    "cols = ['age']"
   ]
  },
  {
   "cell_type": "code",
   "execution_count": null,
   "id": "15cd591f",
   "metadata": {},
   "outputs": [],
   "source": [
    "customers.groupby(['age_bin'])['age'].agg(['min', 'max'])"
   ]
  },
  {
   "cell_type": "markdown",
   "id": "46ae49f3",
   "metadata": {},
   "source": [
    "- first question -> what about age_bin (WHERE to do it)\n",
    "- second -> filling NA -> it's done in SAMPLING, but nowhere else"
   ]
  },
  {
   "cell_type": "code",
   "execution_count": null,
   "id": "c52b041e",
   "metadata": {},
   "outputs": [],
   "source": [
    "articles_sold_most_by_segment = (transactions\n",
    "    .merge(customers, on='customer_id')\n",
    "    .groupby(['age_bin', 'article_id'])['customer_id']\n",
    "    .size()\n",
    "    .reset_index(name='most_sold_by_segment')\n",
    "    .sort_values(by='most_sold_by_segment', ascending=False)\n",
    ")"
   ]
  },
  {
   "cell_type": "code",
   "execution_count": null,
   "id": "61db0963",
   "metadata": {},
   "outputs": [],
   "source": [
    "articles_sold_most_by_segment.query('age_bin==\"1\"')"
   ]
  },
  {
   "cell_type": "code",
   "execution_count": null,
   "id": "954f6252",
   "metadata": {},
   "outputs": [],
   "source": [
    "articles_sold_most_by_segment.query('age_bin==\"5\"')"
   ]
  },
  {
   "cell_type": "code",
   "execution_count": null,
   "id": "5691c80a",
   "metadata": {},
   "outputs": [],
   "source": []
  },
  {
   "cell_type": "markdown",
   "id": "483d0551",
   "metadata": {},
   "source": [
    "check how much they intersect, maybe there is no point in doing for different days?"
   ]
  },
  {
   "cell_type": "markdown",
   "id": "dd234ae8",
   "metadata": {},
   "source": [
    "## Previously bought"
   ]
  },
  {
   "cell_type": "markdown",
   "id": "4e66feb7",
   "metadata": {},
   "source": [
    "### previously bought the same `prod_name`"
   ]
  },
  {
   "cell_type": "code",
   "execution_count": null,
   "id": "8d8028f6",
   "metadata": {},
   "outputs": [],
   "source": [
    "customers_prod_name = (\n",
    "    transactions\n",
    "    .merge(articles[['article_id', 'prod_name']], on='article_id')[['customer_id', 'prod_name']]\n",
    "    .drop_duplicates()\n",
    "    .sort_values(by='customer_id')\n",
    ")"
   ]
  },
  {
   "cell_type": "code",
   "execution_count": null,
   "id": "8a190a81",
   "metadata": {},
   "outputs": [],
   "source": [
    "customers_prod_name.shape"
   ]
  },
  {
   "cell_type": "code",
   "execution_count": null,
   "id": "fd2b7e14",
   "metadata": {},
   "outputs": [],
   "source": [
    "prev_bought_prod_name = (\n",
    "    customers_prod_name\n",
    "    .merge(articles[['article_id', 'prod_name']], on='prod_name')\n",
    "    .drop(['prod_name'], axis=1)\n",
    ")"
   ]
  },
  {
   "cell_type": "code",
   "execution_count": null,
   "id": "16f0c5ef",
   "metadata": {},
   "outputs": [],
   "source": [
    "prev_bought_prod_name.shape"
   ]
  },
  {
   "cell_type": "markdown",
   "id": "94254ce3",
   "metadata": {},
   "source": [
    "### previously bought"
   ]
  },
  {
   "cell_type": "code",
   "execution_count": null,
   "id": "289a2977",
   "metadata": {},
   "outputs": [],
   "source": [
    "prev_bought = transactions[['customer_id', 'article_id']].drop_duplicates()"
   ]
  },
  {
   "cell_type": "code",
   "execution_count": null,
   "id": "7610c1d0",
   "metadata": {},
   "outputs": [],
   "source": [
    "prev_bought.groupby(['customer_id'])['article_id'].apply(list).reset_index(name='previously_bought')"
   ]
  },
  {
   "cell_type": "code",
   "execution_count": null,
   "id": "54654fd5",
   "metadata": {},
   "outputs": [],
   "source": []
  },
  {
   "cell_type": "code",
   "execution_count": null,
   "id": "6c1abfba",
   "metadata": {},
   "outputs": [],
   "source": []
  },
  {
   "cell_type": "markdown",
   "id": "fec2687c",
   "metadata": {},
   "source": [
    "### embeddings search - faiss"
   ]
  },
  {
   "cell_type": "code",
   "execution_count": null,
   "id": "85279f50",
   "metadata": {},
   "outputs": [],
   "source": [
    "emb = context.catalog.load('text_embeddings')"
   ]
  },
  {
   "cell_type": "code",
   "execution_count": null,
   "id": "12c691c6",
   "metadata": {},
   "outputs": [],
   "source": [
    "emb"
   ]
  },
  {
   "cell_type": "code",
   "execution_count": null,
   "id": "95a40c2f",
   "metadata": {},
   "outputs": [],
   "source": [
    "from sklearn.neighbors import KDTree"
   ]
  },
  {
   "cell_type": "code",
   "execution_count": null,
   "id": "cf2f5f88",
   "metadata": {},
   "outputs": [],
   "source": [
    "tree = KDTree(emb.values, leaf_size=5)"
   ]
  },
  {
   "cell_type": "code",
   "execution_count": null,
   "id": "05087b58",
   "metadata": {},
   "outputs": [],
   "source": [
    "def find_similar_images(query_article_id, embeddings, tree):\n",
    "    _, ind = tree.query(embeddings.loc[query_article_id].values.reshape(1, -1), k=5)\n",
    "    closest_embeddings = embeddings.iloc[ind[0]].index.tolist()\n",
    "    return closest_embeddings"
   ]
  },
  {
   "cell_type": "code",
   "execution_count": null,
   "id": "9f42d864",
   "metadata": {},
   "outputs": [],
   "source": [
    "find_similar_images('0108775015', emb, tree)"
   ]
  },
  {
   "cell_type": "code",
   "execution_count": null,
   "id": "8c3d68eb",
   "metadata": {},
   "outputs": [],
   "source": [
    "emb.loc[['0108775051', '0108775044', '0108775015', '0623522001', '0623522010'], :]"
   ]
  },
  {
   "cell_type": "code",
   "execution_count": null,
   "id": "f380b7ac",
   "metadata": {},
   "outputs": [],
   "source": []
  },
  {
   "cell_type": "code",
   "execution_count": null,
   "id": "88b6d8b4",
   "metadata": {},
   "outputs": [],
   "source": [
    "transactions = context.catalog.load('transactions_sample')"
   ]
  },
  {
   "cell_type": "code",
   "execution_count": null,
   "id": "b3b1809c",
   "metadata": {},
   "outputs": [],
   "source": [
    "transactions.sort_values(by='t_dat', ascending=False, inplace=True)"
   ]
  },
  {
   "cell_type": "code",
   "execution_count": null,
   "id": "b5d87ca6",
   "metadata": {},
   "outputs": [],
   "source": [
    "sample = transactions.head(100)"
   ]
  },
  {
   "cell_type": "code",
   "execution_count": null,
   "id": "ffe16875",
   "metadata": {},
   "outputs": [],
   "source": [
    "sample['article_id'].apply(lambda x: find_similar_images(x, emb, tree))"
   ]
  },
  {
   "cell_type": "code",
   "execution_count": null,
   "id": "75ec3ea2",
   "metadata": {},
   "outputs": [],
   "source": [
    "transactions"
   ]
  },
  {
   "cell_type": "code",
   "execution_count": null,
   "id": "6809934d",
   "metadata": {},
   "outputs": [],
   "source": [
    "transactions.groupby(['customer_id']).head(5)"
   ]
  },
  {
   "cell_type": "code",
   "execution_count": null,
   "id": "5f99c5b9",
   "metadata": {},
   "outputs": [],
   "source": [
    "transactions.groupby(['customer_id'])['article_id'].count().reset_index().groupby(['article_id'])['customer_id'].nunique().to_clipboard()"
   ]
  },
  {
   "cell_type": "markdown",
   "id": "37a974d8",
   "metadata": {},
   "source": [
    "correct sum"
   ]
  },
  {
   "cell_type": "code",
   "execution_count": null,
   "id": "88ebb936",
   "metadata": {},
   "outputs": [],
   "source": []
  },
  {
   "cell_type": "code",
   "execution_count": null,
   "id": "c2333fa4",
   "metadata": {},
   "outputs": [],
   "source": [
    "candidates = context.catalog.load('candidates')"
   ]
  },
  {
   "cell_type": "code",
   "execution_count": null,
   "id": "e0ee8c96",
   "metadata": {},
   "outputs": [],
   "source": [
    "candidates.shape"
   ]
  },
  {
   "cell_type": "code",
   "execution_count": null,
   "id": "99774c6d",
   "metadata": {},
   "outputs": [],
   "source": [
    "candidates.customer_id.nunique()"
   ]
  },
  {
   "cell_type": "code",
   "execution_count": null,
   "id": "0b286412",
   "metadata": {},
   "outputs": [],
   "source": [
    "candidates"
   ]
  },
  {
   "cell_type": "code",
   "execution_count": null,
   "id": "7f301518",
   "metadata": {},
   "outputs": [],
   "source": []
  },
  {
   "cell_type": "code",
   "execution_count": null,
   "id": "bb9ca532",
   "metadata": {},
   "outputs": [],
   "source": [
    "my_list = ['321312', '123', '3213']"
   ]
  },
  {
   "cell_type": "code",
   "execution_count": null,
   "id": "0258d953",
   "metadata": {},
   "outputs": [],
   "source": [
    "[my_list for i in candidates.index]"
   ]
  },
  {
   "cell_type": "code",
   "execution_count": null,
   "id": "582cb9f7",
   "metadata": {},
   "outputs": [],
   "source": [
    "pd.Series(my_list * 8)"
   ]
  },
  {
   "cell_type": "code",
   "execution_count": null,
   "id": "4e51cdb0",
   "metadata": {},
   "outputs": [],
   "source": [
    "all_customers.loc[:, 'global_articles'] = pd.Series(list(articles) * len(all_customers))"
   ]
  },
  {
   "cell_type": "code",
   "execution_count": null,
   "id": "aa4d6fe3",
   "metadata": {},
   "outputs": [],
   "source": []
  }
 ],
 "metadata": {
  "kernelspec": {
   "display_name": "Python 3 (ipykernel)",
   "language": "python",
   "name": "python3"
  },
  "language_info": {
   "codemirror_mode": {
    "name": "ipython",
    "version": 3
   },
   "file_extension": ".py",
   "mimetype": "text/x-python",
   "name": "python",
   "nbconvert_exporter": "python",
   "pygments_lexer": "ipython3",
   "version": "3.8.12"
  }
 },
 "nbformat": 4,
 "nbformat_minor": 5
}
