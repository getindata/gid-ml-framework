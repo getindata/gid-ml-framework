{
 "cells": [
  {
   "cell_type": "code",
   "execution_count": null,
   "id": "ab8349ae",
   "metadata": {},
   "outputs": [],
   "source": [
    "%load_ext kedro.extras.extensions.ipython"
   ]
  },
  {
   "cell_type": "code",
   "execution_count": null,
   "id": "2a624ed5",
   "metadata": {},
   "outputs": [],
   "source": [
    "%reload_kedro"
   ]
  },
  {
   "cell_type": "code",
   "execution_count": null,
   "id": "9c025d46",
   "metadata": {},
   "outputs": [],
   "source": [
    "import pandas as pd\n",
    "import numpy as np"
   ]
  },
  {
   "cell_type": "code",
   "execution_count": null,
   "id": "63e8d492",
   "metadata": {},
   "outputs": [],
   "source": [
    "catalog.list()"
   ]
  },
  {
   "cell_type": "code",
   "execution_count": null,
   "id": "cd1bfac2",
   "metadata": {},
   "outputs": [],
   "source": [
    "articles = context.catalog.load('articles_sample')"
   ]
  },
  {
   "cell_type": "code",
   "execution_count": null,
   "id": "50bb97e7",
   "metadata": {},
   "outputs": [],
   "source": [
    "customers = context.catalog.load('customers_sample')"
   ]
  },
  {
   "cell_type": "code",
   "execution_count": null,
   "id": "82340f2a",
   "metadata": {},
   "outputs": [],
   "source": [
    "transactions = context.catalog.load('transactions_sample')"
   ]
  },
  {
   "cell_type": "code",
   "execution_count": null,
   "id": "2603e034",
   "metadata": {},
   "outputs": [],
   "source": []
  },
  {
   "cell_type": "markdown",
   "id": "866c824a",
   "metadata": {},
   "source": [
    "### check results"
   ]
  },
  {
   "cell_type": "code",
   "execution_count": null,
   "id": "c6c3b63c",
   "metadata": {},
   "outputs": [],
   "source": [
    "auto_articles = context.catalog.load('automated_articles_features')"
   ]
  },
  {
   "cell_type": "code",
   "execution_count": null,
   "id": "700ebc04",
   "metadata": {},
   "outputs": [],
   "source": [
    "auto_customers = context.catalog.load('automated_customers_features')"
   ]
  },
  {
   "cell_type": "code",
   "execution_count": null,
   "id": "8ff161db",
   "metadata": {},
   "outputs": [],
   "source": [
    "auto_articles.head()"
   ]
  },
  {
   "cell_type": "code",
   "execution_count": null,
   "id": "6818aaa1",
   "metadata": {},
   "outputs": [],
   "source": [
    "auto_articles.shape"
   ]
  },
  {
   "cell_type": "code",
   "execution_count": null,
   "id": "75216693",
   "metadata": {},
   "outputs": [],
   "source": [
    "auto_customers.head()"
   ]
  },
  {
   "cell_type": "code",
   "execution_count": null,
   "id": "c3c0c579",
   "metadata": {},
   "outputs": [],
   "source": [
    "auto_customers.shape"
   ]
  },
  {
   "cell_type": "code",
   "execution_count": null,
   "id": "adf03092",
   "metadata": {},
   "outputs": [],
   "source": [
    "auto_articles[sorted(auto_articles.columns.to_list())]"
   ]
  },
  {
   "cell_type": "code",
   "execution_count": null,
   "id": "e10647c4",
   "metadata": {},
   "outputs": [],
   "source": [
    "auto_customers[sorted(auto_customers.columns.to_list())].sort_values(by='COUNT(transactions)_all', ascending=False)"
   ]
  },
  {
   "cell_type": "code",
   "execution_count": null,
   "id": "da5a562a",
   "metadata": {},
   "outputs": [],
   "source": []
  },
  {
   "cell_type": "code",
   "execution_count": null,
   "id": "c1593f80",
   "metadata": {},
   "outputs": [],
   "source": [
    "from featuretools.selection import (\n",
    "    # remove_highly_correlated_features() does not work with Booleans in current version of featuretools\n",
    "    #remove_highly_correlated_features,\n",
    "    remove_highly_null_features,\n",
    "    remove_single_value_features,\n",
    ")"
   ]
  },
  {
   "cell_type": "markdown",
   "id": "c44ed701",
   "metadata": {},
   "source": [
    "### my custom correlation"
   ]
  },
  {
   "cell_type": "code",
   "execution_count": null,
   "id": "56a4358d",
   "metadata": {},
   "outputs": [],
   "source": [
    "cor_matrix = auto_articles.corr().abs()"
   ]
  },
  {
   "cell_type": "code",
   "execution_count": null,
   "id": "c8a3e1c0",
   "metadata": {},
   "outputs": [],
   "source": [
    "np.fill_diagonal(cor_matrix.values, 0)"
   ]
  },
  {
   "cell_type": "code",
   "execution_count": null,
   "id": "212e3686",
   "metadata": {},
   "outputs": [],
   "source": [
    "cor_matrix"
   ]
  },
  {
   "cell_type": "markdown",
   "id": "42a9043f",
   "metadata": {},
   "source": [
    "upper = cor_matrix.where(np.triu(np.ones(cor_matrix.shape), k=1).astype(np.bool_))"
   ]
  },
  {
   "cell_type": "code",
   "execution_count": null,
   "id": "30b14984",
   "metadata": {},
   "outputs": [],
   "source": [
    "def my_correlation(df):\n",
    "    col_list = df.columns.to_list()\n",
    "    correlated_columns = set()\n",
    "    non_correlated_columns = set()\n",
    "    for col in col_list:\n",
    "        if col in correlated_columns:\n",
    "            print('continue in a loop')\n",
    "            continue\n",
    "        non_correlated_columns.add(col)\n",
    "        \n",
    "        corr_cols_list = df.index[df.loc[:, col].ge(0.8)].to_list()\n",
    "        if len(corr_cols_list)>0:\n",
    "            correlated_columns |= set(corr_cols_list)\n",
    "    print(f'{len(correlated_columns)=}')\n",
    "    print(f'{len(non_correlated_columns)=}')\n",
    "    return correlated_columns"
   ]
  },
  {
   "cell_type": "code",
   "execution_count": null,
   "id": "2a440563",
   "metadata": {},
   "outputs": [],
   "source": [
    "my_correlation(cor_matrix)"
   ]
  },
  {
   "cell_type": "code",
   "execution_count": null,
   "id": "3727ad06",
   "metadata": {},
   "outputs": [],
   "source": [
    "pd.set_option('display.max_rows', None)"
   ]
  },
  {
   "cell_type": "code",
   "execution_count": null,
   "id": "90694e15",
   "metadata": {},
   "outputs": [],
   "source": [
    "auto_customers.isna().sum().reset_index().sort_values(by='index')"
   ]
  },
  {
   "cell_type": "code",
   "execution_count": null,
   "id": "e71f59ee",
   "metadata": {},
   "outputs": [],
   "source": [
    "auto_articles.isna().sum()"
   ]
  },
  {
   "cell_type": "code",
   "execution_count": null,
   "id": "3d7a4321",
   "metadata": {},
   "outputs": [],
   "source": [
    "pd.set_option('display.max_rows', 30)"
   ]
  },
  {
   "cell_type": "code",
   "execution_count": null,
   "id": "829fdf3d",
   "metadata": {},
   "outputs": [],
   "source": []
  },
  {
   "cell_type": "code",
   "execution_count": null,
   "id": "0ff92301",
   "metadata": {},
   "outputs": [],
   "source": [
    "articles.shape, customers.shape, transactions.shape"
   ]
  },
  {
   "cell_type": "code",
   "execution_count": null,
   "id": "f3a9fb50",
   "metadata": {},
   "outputs": [],
   "source": [
    "pd.set_option('display.max_columns', None)"
   ]
  },
  {
   "cell_type": "markdown",
   "id": "b1290bd2",
   "metadata": {},
   "source": [
    "### featuretools"
   ]
  },
  {
   "cell_type": "code",
   "execution_count": null,
   "id": "70295534",
   "metadata": {},
   "outputs": [],
   "source": [
    "import featuretools as ft"
   ]
  },
  {
   "cell_type": "code",
   "execution_count": null,
   "id": "806bf406",
   "metadata": {},
   "outputs": [],
   "source": [
    "es = ft.EntitySet(id=\"kaggle_hm_data\")"
   ]
  },
  {
   "cell_type": "code",
   "execution_count": null,
   "id": "7eeadcfb",
   "metadata": {},
   "outputs": [],
   "source": [
    "import woodwork as ww\n",
    "\n",
    "ww.list_logical_types()"
   ]
  },
  {
   "cell_type": "code",
   "execution_count": null,
   "id": "19063472",
   "metadata": {},
   "outputs": [],
   "source": [
    "from woodwork.logical_types import Categorical, Boolean, AgeNullable, Double, NaturalLanguage"
   ]
  },
  {
   "cell_type": "code",
   "execution_count": null,
   "id": "0b7aec96",
   "metadata": {},
   "outputs": [],
   "source": [
    "customers.head()"
   ]
  },
  {
   "cell_type": "code",
   "execution_count": null,
   "id": "30755a72",
   "metadata": {},
   "outputs": [],
   "source": [
    "es = es.add_dataframe(\n",
    "    dataframe_name=\"customers\",\n",
    "    dataframe=customers,\n",
    "    index=\"customer_id\",\n",
    "    logical_types={\n",
    "        \"customer_id\": Categorical,\n",
    "        \"FN\": Boolean,\n",
    "        \"Active\": Boolean,\n",
    "        \"club_member_status\": Categorical,\n",
    "        \"fashion_news_frequency\": Categorical,\n",
    "        \"age\": AgeNullable\n",
    "    },\n",
    ")"
   ]
  },
  {
   "cell_type": "code",
   "execution_count": null,
   "id": "1d0613fe",
   "metadata": {},
   "outputs": [],
   "source": [
    "transactions['_index'] = transactions.index"
   ]
  },
  {
   "cell_type": "code",
   "execution_count": null,
   "id": "03506a52",
   "metadata": {},
   "outputs": [],
   "source": [
    "es = es.add_dataframe(\n",
    "    dataframe_name=\"transactions\",\n",
    "    dataframe=transactions,\n",
    "    index=\"_index\",\n",
    "    time_index=\"t_dat\",\n",
    "    logical_types={\n",
    "        \"customer_id\": Categorical,\n",
    "        \"article_id\": Categorical,\n",
    "        \"price\": Double,\n",
    "        \"sales_channel_id\": Categorical,\n",
    "    },\n",
    ")"
   ]
  },
  {
   "cell_type": "code",
   "execution_count": null,
   "id": "ac092df8",
   "metadata": {},
   "outputs": [],
   "source": [
    "es = es.add_dataframe(\n",
    "    dataframe_name=\"articles\",\n",
    "    dataframe=articles,\n",
    "    index=\"article_id\",\n",
    "    logical_types={\n",
    "        \"article_id\": Categorical,\n",
    "        \"detail_desc\": NaturalLanguage,\n",
    "    },\n",
    ")"
   ]
  },
  {
   "cell_type": "code",
   "execution_count": null,
   "id": "03c05038",
   "metadata": {},
   "outputs": [],
   "source": [
    "es"
   ]
  },
  {
   "cell_type": "code",
   "execution_count": null,
   "id": "d349ef1c",
   "metadata": {},
   "outputs": [],
   "source": [
    "es = es.add_relationship(\"customers\", \"customer_id\", \"transactions\", \"customer_id\")"
   ]
  },
  {
   "cell_type": "code",
   "execution_count": null,
   "id": "aef9ad68",
   "metadata": {},
   "outputs": [],
   "source": [
    "es = es.add_relationship(\"articles\", \"article_id\", \"transactions\", \"article_id\")"
   ]
  },
  {
   "cell_type": "code",
   "execution_count": null,
   "id": "e5f997c4",
   "metadata": {},
   "outputs": [],
   "source": [
    "es"
   ]
  },
  {
   "cell_type": "code",
   "execution_count": null,
   "id": "0b825b18",
   "metadata": {},
   "outputs": [],
   "source": [
    "es['articles'].ww.schema"
   ]
  },
  {
   "cell_type": "code",
   "execution_count": null,
   "id": "5bc4be4b",
   "metadata": {},
   "outputs": [],
   "source": [
    "es['articles'].ww.schema"
   ]
  },
  {
   "cell_type": "markdown",
   "id": "893bd2b7",
   "metadata": {},
   "source": [
    "### articles"
   ]
  },
  {
   "cell_type": "code",
   "execution_count": null,
   "id": "6bbaf23f",
   "metadata": {},
   "outputs": [],
   "source": [
    "pd.set_option('display.max_rows', None)"
   ]
  },
  {
   "cell_type": "code",
   "execution_count": null,
   "id": "bb7dd1be",
   "metadata": {},
   "outputs": [],
   "source": [
    "ft.primitives.list_primitives()"
   ]
  },
  {
   "cell_type": "code",
   "execution_count": null,
   "id": "a4b907da",
   "metadata": {},
   "outputs": [],
   "source": [
    "pd.set_option('display.max_rows', 30)"
   ]
  },
  {
   "cell_type": "code",
   "execution_count": null,
   "id": "8a261d92",
   "metadata": {},
   "outputs": [],
   "source": [
    "articles_feature_matrix, articles_feature_defs = ft.dfs(\n",
    "    entityset=es,\n",
    "    target_dataframe_name=\"articles\",\n",
    "    agg_primitives=[\"sum\", \"mean\", \"median\", \"max\", \"min\", \"time_since_last\", \"count\", \"time_since_first\"]\n",
    ")"
   ]
  },
  {
   "cell_type": "code",
   "execution_count": null,
   "id": "86554225",
   "metadata": {},
   "outputs": [],
   "source": [
    "list(enumerate(articles_feature_defs))"
   ]
  },
  {
   "cell_type": "code",
   "execution_count": null,
   "id": "47141707",
   "metadata": {},
   "outputs": [],
   "source": [
    "articles_feature_defs[0].get_name()"
   ]
  },
  {
   "cell_type": "code",
   "execution_count": null,
   "id": "57caa268",
   "metadata": {},
   "outputs": [],
   "source": [
    "feats = [feature.get_name() for feature in articles_feature_defs if len(feature.base_features)>0]"
   ]
  },
  {
   "cell_type": "code",
   "execution_count": null,
   "id": "72f741e1",
   "metadata": {},
   "outputs": [],
   "source": [
    "feats"
   ]
  },
  {
   "cell_type": "code",
   "execution_count": null,
   "id": "03f07830",
   "metadata": {},
   "outputs": [],
   "source": [
    "articles_feature_matrix[feats]"
   ]
  },
  {
   "cell_type": "code",
   "execution_count": null,
   "id": "e48ade0b",
   "metadata": {},
   "outputs": [],
   "source": [
    "articles_feature_defs[21].base_features"
   ]
  },
  {
   "cell_type": "code",
   "execution_count": null,
   "id": "da3f0263",
   "metadata": {},
   "outputs": [],
   "source": [
    "articles_feature_defs[10].base_features"
   ]
  },
  {
   "cell_type": "code",
   "execution_count": null,
   "id": "3d29e518",
   "metadata": {},
   "outputs": [],
   "source": [
    "dir(articles_feature_matrix)"
   ]
  },
  {
   "cell_type": "code",
   "execution_count": null,
   "id": "7726eafc",
   "metadata": {},
   "outputs": [],
   "source": [
    "ft.describe_feature(articles_feature_defs[30])"
   ]
  },
  {
   "cell_type": "code",
   "execution_count": null,
   "id": "f6ebccde",
   "metadata": {},
   "outputs": [],
   "source": [
    "list(enumerate(articles_feature_defs))"
   ]
  },
  {
   "cell_type": "markdown",
   "id": "cbc377c2",
   "metadata": {},
   "source": [
    "### customers"
   ]
  },
  {
   "cell_type": "code",
   "execution_count": null,
   "id": "be536f7b",
   "metadata": {},
   "outputs": [],
   "source": [
    "customers_feature_matrix, customers_feature_defs = ft.dfs(\n",
    "    entityset=es,\n",
    "    target_dataframe_name=\"customers\",\n",
    "    ignore_dataframes=[\"articles\"],\n",
    "    agg_primitives=[\"sum\", \"mean\", \"median\", \"max\", \"min\", \"time_since_last\", \"count\", \"time_since_first\", \"avg_time_between\"],\n",
    ")"
   ]
  },
  {
   "cell_type": "code",
   "execution_count": null,
   "id": "5cc5a08e",
   "metadata": {},
   "outputs": [],
   "source": [
    "list(customers_feature_matrix.ww.select(exclude=[Boolean]).ww.schema.columns.keys())"
   ]
  },
  {
   "cell_type": "code",
   "execution_count": null,
   "id": "7e12ab03",
   "metadata": {},
   "outputs": [],
   "source": [
    "fm_to_check = customers_feature_matrix.ww.select(include=[Boolean])"
   ]
  },
  {
   "cell_type": "code",
   "execution_count": null,
   "id": "180d9e22",
   "metadata": {},
   "outputs": [],
   "source": [
    "ft.primitives.list_primitives()"
   ]
  },
  {
   "cell_type": "code",
   "execution_count": null,
   "id": "11310072",
   "metadata": {},
   "outputs": [],
   "source": [
    "customers_feature_matrix"
   ]
  },
  {
   "cell_type": "code",
   "execution_count": null,
   "id": "d407b16e",
   "metadata": {},
   "outputs": [],
   "source": [
    "list(enumerate(customers_feature_defs))"
   ]
  },
  {
   "cell_type": "code",
   "execution_count": null,
   "id": "a6c0427d",
   "metadata": {},
   "outputs": [],
   "source": []
  },
  {
   "cell_type": "markdown",
   "id": "8d9b3484",
   "metadata": {},
   "source": [
    "### transactions"
   ]
  },
  {
   "cell_type": "markdown",
   "id": "4a01765c",
   "metadata": {},
   "source": [
    "transactions features won't be used"
   ]
  },
  {
   "cell_type": "code",
   "execution_count": null,
   "id": "eafce6e1",
   "metadata": {},
   "outputs": [],
   "source": [
    "transactions_feature_matrix, transactions_feature_defs = ft.dfs(entityset=es, target_dataframe_name=\"transactions\")"
   ]
  },
  {
   "cell_type": "code",
   "execution_count": null,
   "id": "bfdec554",
   "metadata": {},
   "outputs": [],
   "source": [
    "transactions_feature_matrix.loc[0, :][0]"
   ]
  },
  {
   "cell_type": "code",
   "execution_count": null,
   "id": "4d036cda",
   "metadata": {},
   "outputs": [],
   "source": [
    "transactions[transactions.customer_id=='0090852ad6a446ccf02a7d57ec7385c360ab33a813b870e7e725beae6a76ddd4']"
   ]
  },
  {
   "cell_type": "code",
   "execution_count": null,
   "id": "60707bb3",
   "metadata": {},
   "outputs": [],
   "source": [
    "transactions_feature_matrix"
   ]
  },
  {
   "cell_type": "code",
   "execution_count": null,
   "id": "ffa4f841",
   "metadata": {},
   "outputs": [],
   "source": [
    "transactions_feature_defs"
   ]
  },
  {
   "cell_type": "code",
   "execution_count": null,
   "id": "3ee6b0d1",
   "metadata": {},
   "outputs": [],
   "source": []
  },
  {
   "cell_type": "markdown",
   "id": "6ce6b964",
   "metadata": {},
   "source": [
    "### remove"
   ]
  },
  {
   "cell_type": "code",
   "execution_count": null,
   "id": "eda0a107",
   "metadata": {},
   "outputs": [],
   "source": [
    "customers_feature_matrix"
   ]
  },
  {
   "cell_type": "code",
   "execution_count": null,
   "id": "1580203e",
   "metadata": {},
   "outputs": [],
   "source": [
    "articles_feature_matrix"
   ]
  },
  {
   "cell_type": "code",
   "execution_count": null,
   "id": "f66c0a34",
   "metadata": {},
   "outputs": [],
   "source": [
    "from featuretools.selection import (\n",
    "    remove_highly_correlated_features,\n",
    "    remove_highly_null_features,\n",
    "    remove_single_value_features,\n",
    ")"
   ]
  },
  {
   "cell_type": "code",
   "execution_count": null,
   "id": "97880bad",
   "metadata": {},
   "outputs": [],
   "source": [
    "remove_highly_null_features(customers_feature_matrix, pct_null_threshold=0.2)"
   ]
  },
  {
   "cell_type": "code",
   "execution_count": null,
   "id": "cc88dce2",
   "metadata": {},
   "outputs": [],
   "source": [
    "new_fm, new_features = remove_single_value_features(customers_feature_matrix, features=customers_feature_defs)"
   ]
  },
  {
   "cell_type": "code",
   "execution_count": null,
   "id": "6b031cdc",
   "metadata": {},
   "outputs": [],
   "source": [
    "new_fm.shape"
   ]
  },
  {
   "cell_type": "code",
   "execution_count": null,
   "id": "cbf126bd",
   "metadata": {},
   "outputs": [],
   "source": [
    "set(new_features)-set(customers_feature_defs)"
   ]
  },
  {
   "cell_type": "code",
   "execution_count": null,
   "id": "90a81d7a",
   "metadata": {},
   "outputs": [],
   "source": [
    "customers_feature_matrix"
   ]
  },
  {
   "cell_type": "markdown",
   "id": "0ee463d5",
   "metadata": {},
   "source": [
    "bug in featuretools -> can't call .corr() on Boolean features"
   ]
  },
  {
   "cell_type": "markdown",
   "id": "ba1877cc",
   "metadata": {},
   "source": [
    "https://github.com/alteryx/featuretools/issues/2229"
   ]
  },
  {
   "cell_type": "code",
   "execution_count": null,
   "id": "9d00463d",
   "metadata": {},
   "outputs": [],
   "source": [
    "new_fm, new_features = remove_highly_correlated_features(customers_feature_matrix, features=customers_feature_defs)"
   ]
  },
  {
   "cell_type": "code",
   "execution_count": null,
   "id": "2aeda717",
   "metadata": {},
   "outputs": [],
   "source": [
    "cols = list(customers_feature_matrix.ww.select(exclude=[Boolean]).ww.schema.columns.keys())"
   ]
  },
  {
   "cell_type": "code",
   "execution_count": null,
   "id": "c9388de0",
   "metadata": {},
   "outputs": [],
   "source": [
    "cols"
   ]
  },
  {
   "cell_type": "code",
   "execution_count": null,
   "id": "da7760fc",
   "metadata": {},
   "outputs": [],
   "source": [
    "customers_feature_matrix.ww.select(exclude=[Boolean])"
   ]
  },
  {
   "cell_type": "code",
   "execution_count": null,
   "id": "9399ed59",
   "metadata": {},
   "outputs": [],
   "source": [
    "new_fm, new_features = remove_highly_correlated_features(customers_feature_matrix.ww.select(exclude=[Boolean]),\n",
    "                                                        features=cols)"
   ]
  },
  {
   "cell_type": "code",
   "execution_count": null,
   "id": "a50419f2",
   "metadata": {},
   "outputs": [],
   "source": [
    "list(customers_feature_defs[2:])"
   ]
  },
  {
   "cell_type": "code",
   "execution_count": null,
   "id": "bb2bea9e",
   "metadata": {},
   "outputs": [],
   "source": [
    "new_fm, new_features = remove_highly_correlated_features(customers_feature_matrix.iloc[:, 2:], features=customers_feature_defs[2:])"
   ]
  },
  {
   "cell_type": "code",
   "execution_count": null,
   "id": "7ebd4f17",
   "metadata": {},
   "outputs": [],
   "source": [
    "new_fm"
   ]
  },
  {
   "cell_type": "code",
   "execution_count": null,
   "id": "51b00b3b",
   "metadata": {},
   "outputs": [],
   "source": []
  }
 ],
 "metadata": {
  "kernelspec": {
   "display_name": "GetInDataMLFramework",
   "language": "python",
   "name": "python3"
  },
  "language_info": {
   "codemirror_mode": {
    "name": "ipython",
    "version": 3
   },
   "file_extension": ".py",
   "mimetype": "text/x-python",
   "name": "python",
   "nbconvert_exporter": "python",
   "pygments_lexer": "ipython3",
   "version": "3.8.12"
  }
 },
 "nbformat": 4,
 "nbformat_minor": 5
}
