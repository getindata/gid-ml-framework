{
 "cells": [
  {
   "cell_type": "code",
   "execution_count": null,
   "id": "9b6289f9",
   "metadata": {},
   "outputs": [],
   "source": [
    "%load_ext kedro.extras.extensions.ipython"
   ]
  },
  {
   "cell_type": "code",
   "execution_count": null,
   "id": "c272c8b9",
   "metadata": {},
   "outputs": [],
   "source": [
    "%reload_kedro"
   ]
  },
  {
   "cell_type": "code",
   "execution_count": null,
   "id": "b74d3fbd",
   "metadata": {},
   "outputs": [],
   "source": [
    "import pandas as pd\n",
    "import numpy as np"
   ]
  },
  {
   "cell_type": "code",
   "execution_count": null,
   "id": "fc8169e0",
   "metadata": {},
   "outputs": [],
   "source": [
    "pd.set_option('display.float_format', lambda x: '%.4f' % x)"
   ]
  },
  {
   "cell_type": "code",
   "execution_count": null,
   "id": "22fe7d97",
   "metadata": {},
   "outputs": [],
   "source": [
    "catalog.list()"
   ]
  },
  {
   "cell_type": "code",
   "execution_count": null,
   "id": "269a5d4c",
   "metadata": {},
   "outputs": [],
   "source": []
  },
  {
   "cell_type": "code",
   "execution_count": null,
   "id": "bfbb4217",
   "metadata": {},
   "outputs": [],
   "source": []
  },
  {
   "cell_type": "code",
   "execution_count": null,
   "id": "ea4bccf4",
   "metadata": {},
   "outputs": [],
   "source": [
    "candidates = context.catalog.load('candidates_sample')"
   ]
  },
  {
   "cell_type": "code",
   "execution_count": null,
   "id": "5d33c72a",
   "metadata": {},
   "outputs": [],
   "source": [
    "candidates.shape"
   ]
  },
  {
   "cell_type": "code",
   "execution_count": null,
   "id": "723268c9",
   "metadata": {},
   "outputs": [],
   "source": [
    "candidates.isna().sum()/candidates.shape[0]"
   ]
  },
  {
   "cell_type": "code",
   "execution_count": null,
   "id": "659f081b",
   "metadata": {},
   "outputs": [],
   "source": [
    "candidates.set_index('customer_id', inplace=True)"
   ]
  },
  {
   "cell_type": "code",
   "execution_count": null,
   "id": "2d8a7ef9",
   "metadata": {},
   "outputs": [],
   "source": [
    "dfs = list()"
   ]
  },
  {
   "cell_type": "code",
   "execution_count": null,
   "id": "7e227a8a",
   "metadata": {},
   "outputs": [],
   "source": [
    "%%time\n",
    "for column in candidates.columns:\n",
    "    print(column)\n",
    "    df = candidates[[column]].explode(column).rename({column: 'article_id'}, axis=1).dropna()\n",
    "    df = df.assign(strategy_name=lambda x: column)\n",
    "    print(df.shape)\n",
    "    dfs.append(df)"
   ]
  },
  {
   "cell_type": "code",
   "execution_count": null,
   "id": "616f4bf3",
   "metadata": {},
   "outputs": [],
   "source": [
    "dfs[4]"
   ]
  },
  {
   "cell_type": "code",
   "execution_count": null,
   "id": "6ff0a98d",
   "metadata": {},
   "outputs": [],
   "source": [
    "unpacked_candidates = pd.concat(dfs, axis=0).reset_index()"
   ]
  },
  {
   "cell_type": "code",
   "execution_count": null,
   "id": "f37bb797",
   "metadata": {},
   "outputs": [],
   "source": [
    "unpacked_candidates.shape"
   ]
  },
  {
   "cell_type": "code",
   "execution_count": null,
   "id": "f0b7bc8a",
   "metadata": {},
   "outputs": [],
   "source": [
    "unpacked_candidates.head()"
   ]
  },
  {
   "cell_type": "code",
   "execution_count": null,
   "id": "0128aa70",
   "metadata": {},
   "outputs": [],
   "source": []
  },
  {
   "cell_type": "markdown",
   "id": "13a1e938",
   "metadata": {},
   "source": [
    "### random"
   ]
  },
  {
   "cell_type": "code",
   "execution_count": null,
   "id": "90eccad5",
   "metadata": {},
   "outputs": [],
   "source": [
    "unpacked_candidates.sample(frac=1).groupby(['customer_id', 'article_id']).head(1).shape"
   ]
  },
  {
   "cell_type": "code",
   "execution_count": null,
   "id": "4ac755d5",
   "metadata": {},
   "outputs": [],
   "source": [
    "unpacked_candidates.sample(frac=1).groupby(['customer_id', 'article_id']).head(1).head()"
   ]
  },
  {
   "cell_type": "markdown",
   "id": "165a81e5",
   "metadata": {},
   "source": [
    "### removing duplicate CANDIDATES (from multiple strategies)"
   ]
  },
  {
   "cell_type": "code",
   "execution_count": null,
   "id": "e6b2a663",
   "metadata": {},
   "outputs": [],
   "source": [
    "unpacked_candidates['count_strategy_name'] = (\n",
    "    unpacked_candidates\n",
    "    .groupby(['customer_id', 'article_id'])['strategy_name']\n",
    "    .transform('count'))"
   ]
  },
  {
   "cell_type": "code",
   "execution_count": null,
   "id": "4624016a",
   "metadata": {},
   "outputs": [],
   "source": [
    "unpacked_candidates.shape"
   ]
  },
  {
   "cell_type": "code",
   "execution_count": null,
   "id": "84dd9b63",
   "metadata": {},
   "outputs": [],
   "source": [
    "unpacked_candidates.head()"
   ]
  },
  {
   "cell_type": "code",
   "execution_count": null,
   "id": "9ee9eeff",
   "metadata": {},
   "outputs": [],
   "source": [
    "unpacked_candidates.strategy_name.value_counts()"
   ]
  },
  {
   "cell_type": "code",
   "execution_count": null,
   "id": "5ceb4ea4",
   "metadata": {},
   "outputs": [],
   "source": [
    "unpacked_candidates[['strategy_name', 'count_strategy_name']].value_counts()"
   ]
  },
  {
   "cell_type": "code",
   "execution_count": null,
   "id": "25642fc7",
   "metadata": {},
   "outputs": [],
   "source": [
    "unpacked_candidates['strategy_name'] = np.where(unpacked_candidates.count_strategy_name>1, 'multiple_strategies', unpacked_candidates.strategy_name)"
   ]
  },
  {
   "cell_type": "code",
   "execution_count": null,
   "id": "dc2776bf",
   "metadata": {},
   "outputs": [],
   "source": [
    "unpacked_candidates[['strategy_name', 'count_strategy_name']].value_counts()"
   ]
  },
  {
   "cell_type": "code",
   "execution_count": null,
   "id": "5496700b",
   "metadata": {},
   "outputs": [],
   "source": [
    "unpacked_candidates.drop(['count_strategy_name'], axis=1).drop_duplicates().shape"
   ]
  },
  {
   "cell_type": "code",
   "execution_count": null,
   "id": "2f214ffe",
   "metadata": {},
   "outputs": [],
   "source": [
    "unpacked_candidates.drop(['count_strategy_name'], axis=1).drop_duplicates().groupby(['customer_id'])['article_id'].count().describe(percentiles=[0.05, 0.1, 0.2, 0.8, 0.9, 0.95])"
   ]
  },
  {
   "cell_type": "code",
   "execution_count": null,
   "id": "a654aa79",
   "metadata": {},
   "outputs": [],
   "source": [
    "unpacked_candidates.drop(['count_strategy_name'], axis=1).drop_duplicates().strategy_name.value_counts()"
   ]
  },
  {
   "cell_type": "code",
   "execution_count": null,
   "id": "3a1d591d",
   "metadata": {},
   "outputs": [],
   "source": []
  },
  {
   "cell_type": "code",
   "execution_count": null,
   "id": "61a4780f",
   "metadata": {},
   "outputs": [],
   "source": []
  },
  {
   "cell_type": "code",
   "execution_count": null,
   "id": "8c195fc6",
   "metadata": {},
   "outputs": [],
   "source": []
  },
  {
   "cell_type": "code",
   "execution_count": null,
   "id": "c6ef2855",
   "metadata": {},
   "outputs": [],
   "source": [
    "articles = context.catalog.load('articles_sample')"
   ]
  },
  {
   "cell_type": "code",
   "execution_count": null,
   "id": "553a691b",
   "metadata": {},
   "outputs": [],
   "source": [
    "customers = context.catalog.load('customers_sample')"
   ]
  },
  {
   "cell_type": "code",
   "execution_count": null,
   "id": "e97acae1",
   "metadata": {},
   "outputs": [],
   "source": [
    "transactions = context.catalog.load('transactions_sample')"
   ]
  },
  {
   "cell_type": "code",
   "execution_count": null,
   "id": "2b245807",
   "metadata": {},
   "outputs": [],
   "source": [
    "articles.shape, customers.shape, transactions.shape"
   ]
  },
  {
   "cell_type": "markdown",
   "id": "06144725",
   "metadata": {},
   "source": [
    "### articles, customer features (non-interaction)"
   ]
  },
  {
   "cell_type": "markdown",
   "id": "0d6eda62",
   "metadata": {},
   "source": [
    "##### count -> user-item, user-category of last week/month/season/same week of last year"
   ]
  },
  {
   "cell_type": "code",
   "execution_count": null,
   "id": "a765781d",
   "metadata": {},
   "outputs": [],
   "source": [
    "# count of article id per customer_id\n",
    "transactions.groupby(['customer_id'])['article_id'].count().reset_index(name='count_of_article_per_customer')"
   ]
  },
  {
   "cell_type": "code",
   "execution_count": null,
   "id": "a44c5c61",
   "metadata": {},
   "outputs": [],
   "source": [
    "# count of prod_group_name per customer_id\n",
    "(transactions\n",
    "    .merge(articles[['article_id', 'product_group_name']], on='article_id')[['customer_id', 'product_group_name']]\n",
    "    .drop_duplicates()\n",
    "    .groupby(['customer_id'])['product_group_name']\n",
    "    .count()\n",
    "    .reset_index(name='count_of_product_group_name_per_customer')\n",
    ")"
   ]
  },
  {
   "cell_type": "markdown",
   "id": "95b48e90",
   "metadata": {},
   "source": [
    "##### time -> first, last days of transactions"
   ]
  },
  {
   "cell_type": "code",
   "execution_count": null,
   "id": "b8ceb31b",
   "metadata": {},
   "outputs": [],
   "source": [
    "transactions['t_dat'] = pd.to_datetime(transactions['t_dat'])"
   ]
  },
  {
   "cell_type": "code",
   "execution_count": null,
   "id": "f68d2efd",
   "metadata": {},
   "outputs": [],
   "source": [
    "max_date = transactions['t_dat'].max()"
   ]
  },
  {
   "cell_type": "code",
   "execution_count": null,
   "id": "ee42bb48",
   "metadata": {},
   "outputs": [],
   "source": [
    "max_date"
   ]
  },
  {
   "cell_type": "code",
   "execution_count": null,
   "id": "b3103bf6",
   "metadata": {},
   "outputs": [],
   "source": [
    "# days since first transaction for each customer\n",
    "(max_date - \n",
    "    (transactions\n",
    "        .groupby(['customer_id'])['t_dat']\n",
    "        .min()\n",
    "    )\n",
    ").dt.days.reset_index(name='days_since_first_transaction')"
   ]
  },
  {
   "cell_type": "code",
   "execution_count": null,
   "id": "684a6c77",
   "metadata": {},
   "outputs": [],
   "source": [
    "# days since last transaction for each customer\n",
    "(max_date - \n",
    "    (transactions\n",
    "        .groupby(['customer_id'])['t_dat']\n",
    "        .max()\n",
    "    )\n",
    ").dt.days.reset_index(name='days_since_last_transaction')"
   ]
  },
  {
   "cell_type": "code",
   "execution_count": null,
   "id": "6deab8bb",
   "metadata": {},
   "outputs": [],
   "source": [
    "# average purchase span for each customer\n",
    "sorted_transactions = transactions.sort_values(by=['customer_id', 't_dat'], ascending=[True, False])[['customer_id', 't_dat']].drop_duplicates()\n",
    "sorted_transactions['t_dat_next'] = sorted_transactions['t_dat'].shift(1)\n",
    "sorted_transactions['customer_id_next'] = sorted_transactions['customer_id'].shift(1)\n",
    "sorted_transactions = sorted_transactions.assign(avg_purchase_span = lambda x: x.t_dat_next-x.t_dat)\n",
    "(\n",
    "    sorted_transactions[sorted_transactions['customer_id']==sorted_transactions['customer_id_next']]\n",
    "    .groupby(['customer_id'])['avg_purchase_span']\n",
    "    .mean().dt.days\n",
    "    .reset_index()\n",
    ")"
   ]
  },
  {
   "cell_type": "code",
   "execution_count": null,
   "id": "6bb88c6c",
   "metadata": {},
   "outputs": [],
   "source": [
    "# average/median purchase span for each customer/article pair\n",
    "print('todo later')"
   ]
  },
  {
   "cell_type": "markdown",
   "id": "ca06d169",
   "metadata": {},
   "source": [
    "##### percentage of rebuying items"
   ]
  },
  {
   "cell_type": "code",
   "execution_count": null,
   "id": "eb637cac",
   "metadata": {},
   "outputs": [],
   "source": [
    "(\n",
    "    transactions\n",
    "    .groupby(['customer_id', 'article_id'])['t_dat'].count()\n",
    "    .reset_index()\n",
    "    .assign(rebought=lambda x: (x.t_dat>1).astype(int))\n",
    "    .groupby(['article_id'])['rebought'].mean()\n",
    "    .reset_index(name='perc_rebought')\n",
    ")"
   ]
  },
  {
   "cell_type": "markdown",
   "id": "8e1326f1",
   "metadata": {},
   "source": [
    "##### sales_channel_id percentage"
   ]
  },
  {
   "cell_type": "code",
   "execution_count": null,
   "id": "bfc21d54",
   "metadata": {},
   "outputs": [],
   "source": [
    "transactions.sales_channel_id.value_counts()"
   ]
  },
  {
   "cell_type": "code",
   "execution_count": null,
   "id": "c8488646",
   "metadata": {},
   "outputs": [],
   "source": [
    "# mean percentage sales offline per customer\n",
    "(\n",
    "    transactions.assign(if_offline=lambda x: x.sales_channel_id-1)\n",
    "    .groupby(['customer_id'])['if_offline']\n",
    "    .mean()\n",
    "    .reset_index(name='perc_customer_sales_offline')\n",
    ")"
   ]
  },
  {
   "cell_type": "code",
   "execution_count": null,
   "id": "5ebb19f0",
   "metadata": {},
   "outputs": [],
   "source": [
    "# mean percentage sales offline per article\n",
    "(\n",
    "    transactions.assign(if_offline=lambda x: x.sales_channel_id-1)\n",
    "    .groupby(['article_id'])['if_offline']\n",
    "    .mean()\n",
    "    .reset_index(name='perc_article_sales_offline')\n",
    ")"
   ]
  },
  {
   "cell_type": "markdown",
   "id": "4ebc2750",
   "metadata": {},
   "source": [
    "##### item attributes count"
   ]
  },
  {
   "cell_type": "markdown",
   "id": "5916fa9a",
   "metadata": {},
   "source": [
    "##### count prod_group_name"
   ]
  },
  {
   "cell_type": "code",
   "execution_count": null,
   "id": "ab85dc2f",
   "metadata": {},
   "outputs": [],
   "source": [
    "# count prod_group_name\n",
    "(\n",
    "    transactions\n",
    "    .merge(articles[['article_id', 'product_group_name']], on='article_id')\n",
    "    .groupby(['customer_id', 'product_group_name'])['article_id']\n",
    "    .count()\n",
    "    .reset_index(name='count_from_prod_group_name')\n",
    ")"
   ]
  },
  {
   "cell_type": "code",
   "execution_count": null,
   "id": "0350573b",
   "metadata": {},
   "outputs": [],
   "source": [
    "## YOU DID NOT IMPLEMENT THIS IN KEDRO\n",
    "## BECAUSE IT'S TOO SIMILAR ^ ABOVE\n",
    "# has bought from this product_group_name\n",
    "(\n",
    "    transactions\n",
    "    .merge(articles[['article_id', 'product_group_name']], on='article_id')[['customer_id', 'product_group_name']]\n",
    "    .drop_duplicates()\n",
    "    .assign(has_bought_prod_group=lambda x: 1)\n",
    ")"
   ]
  },
  {
   "cell_type": "code",
   "execution_count": null,
   "id": "f247d7f0",
   "metadata": {},
   "outputs": [],
   "source": []
  },
  {
   "cell_type": "markdown",
   "id": "3eb1a099",
   "metadata": {},
   "source": [
    "- count of user-item and user-item attributes in the last 7/30/all days"
   ]
  },
  {
   "cell_type": "code",
   "execution_count": null,
   "id": "ebddd0ce",
   "metadata": {},
   "outputs": [],
   "source": [
    "(\n",
    "    transactions\n",
    "    .groupby(['customer_id', 'article_id'])['t_dat']\n",
    "    .count()\n",
    "    .reset_index(name='count_customer_article_id')\n",
    ")"
   ]
  },
  {
   "cell_type": "code",
   "execution_count": null,
   "id": "f7fbf338",
   "metadata": {},
   "outputs": [],
   "source": []
  },
  {
   "cell_type": "code",
   "execution_count": null,
   "id": "ffd90cd5",
   "metadata": {},
   "outputs": [],
   "source": []
  },
  {
   "cell_type": "markdown",
   "id": "f15e7ac6",
   "metadata": {},
   "source": [
    "### candidate features"
   ]
  },
  {
   "cell_type": "markdown",
   "id": "083e9973",
   "metadata": {},
   "source": [
    "##### jaccard similarity"
   ]
  },
  {
   "cell_type": "markdown",
   "id": "48a5508c",
   "metadata": {},
   "source": [
    "The actual comparison was actually simpler. I calculated average jaccard index of attributes. So when a customer had 3 items in the history:\n",
    "\n",
    "item_1 attributes A,B,C  \n",
    "item_2 attributes B,C,D  \n",
    "item_3 attributes A,B,D\n",
    "\n",
    "Then you consider a new item_4 with attributes A,B so the average jaccard is calculated like this\n",
    "\n",
    "item_1 attributes A,B,C = jaccard 0.66  \n",
    "item_2 attributes B,C,D = jaccard 0.33  \n",
    "item_3 attributes A,B,D = jaccard 0.66\n",
    "\n",
    "so the average similarity is 0.55\n",
    "\n",
    "I had a different version to calculate \"fuzzy\" attribute similarity based on their cooccurence in baskets so if the attribute=X cooccured with attribute=Y in 50% of the baskets its similarity is 50% not 0 or 1 like in the original."
   ]
  },
  {
   "cell_type": "code",
   "execution_count": null,
   "id": "bb790097",
   "metadata": {},
   "outputs": [],
   "source": [
    "articles.columns"
   ]
  },
  {
   "cell_type": "code",
   "execution_count": null,
   "id": "90ba8b48",
   "metadata": {},
   "outputs": [],
   "source": [
    "cat_articles = articles[['product_type_name', 'product_group_name', 'graphical_appearance_name', 'colour_group_name', 'perceived_colour_value_name', 'perceived_colour_master_name', 'index_name', 'index_group_name', 'section_name', 'garment_group_name']]"
   ]
  },
  {
   "cell_type": "code",
   "execution_count": null,
   "id": "0a76834c",
   "metadata": {},
   "outputs": [],
   "source": [
    "jaccard_articles = articles[['article_id']].copy()"
   ]
  },
  {
   "cell_type": "code",
   "execution_count": null,
   "id": "1fd731d3",
   "metadata": {},
   "outputs": [],
   "source": [
    "jaccard_articles['set_of_attributes'] = cat_articles.apply(set, axis=1)"
   ]
  },
  {
   "cell_type": "code",
   "execution_count": null,
   "id": "ffd0c1e9",
   "metadata": {},
   "outputs": [],
   "source": [
    "jaccard_articles"
   ]
  },
  {
   "cell_type": "code",
   "execution_count": null,
   "id": "10ea45bf",
   "metadata": {},
   "outputs": [],
   "source": [
    "jaccard_articles.set_index(['article_id'], inplace=True)"
   ]
  },
  {
   "cell_type": "code",
   "execution_count": null,
   "id": "7d817154",
   "metadata": {},
   "outputs": [],
   "source": [
    "jaccard_articles"
   ]
  },
  {
   "cell_type": "code",
   "execution_count": null,
   "id": "0731540e",
   "metadata": {},
   "outputs": [],
   "source": [
    "type(jaccard_articles)"
   ]
  },
  {
   "cell_type": "markdown",
   "id": "c8896087",
   "metadata": {},
   "source": [
    "### so inefficient"
   ]
  },
  {
   "cell_type": "code",
   "execution_count": null,
   "id": "a6845e2a",
   "metadata": {},
   "outputs": [],
   "source": [
    "jaccard_articles.add_suffix('_first').merge(jaccard_articles.add_suffix('_second'), how='cross')"
   ]
  },
  {
   "cell_type": "code",
   "execution_count": null,
   "id": "9aabb1be",
   "metadata": {},
   "outputs": [],
   "source": []
  },
  {
   "cell_type": "markdown",
   "id": "aafe847f",
   "metadata": {},
   "source": [
    "### so inefficient :DD"
   ]
  },
  {
   "cell_type": "code",
   "execution_count": null,
   "id": "5794049b",
   "metadata": {},
   "outputs": [],
   "source": [
    "attributes_users = list(zip(jaccard_articles[\"set_of_attributes\"], jaccard_articles[\"article_id\"]))"
   ]
  },
  {
   "cell_type": "code",
   "execution_count": null,
   "id": "7cbde499",
   "metadata": {},
   "outputs": [],
   "source": [
    "result = []"
   ]
  },
  {
   "cell_type": "code",
   "execution_count": null,
   "id": "e7be5dee",
   "metadata": {},
   "outputs": [],
   "source": [
    "# create list of all possible combinations between sets of (wording, user) and loop through them\n",
    "for item in list(itertools.combinations(attributes_users, 2)):\n",
    "    similarity = jaccard_similarity(item[0][0], item[1][0])\n",
    "    data = {\"user1\": item[0][1], \"user2\": item[1][1], \"similarity\": similarity}\n",
    "    result.append(data)"
   ]
  },
  {
   "cell_type": "code",
   "execution_count": null,
   "id": "3d92e31c",
   "metadata": {},
   "outputs": [],
   "source": [
    "pd.DataFrame(result)"
   ]
  },
  {
   "cell_type": "code",
   "execution_count": null,
   "id": "26bebaf0",
   "metadata": {},
   "outputs": [],
   "source": []
  },
  {
   "cell_type": "code",
   "execution_count": null,
   "id": "96e9e5e3",
   "metadata": {},
   "outputs": [],
   "source": []
  },
  {
   "cell_type": "code",
   "execution_count": null,
   "id": "c70fcb10",
   "metadata": {},
   "outputs": [],
   "source": [
    "def filter_last_n_transactions_per_customer(transactions: pd.DataFrame, last_n_transactions: int) -> pd.DataFrame:\n",
    "    transactions['t_dat'] = pd.to_datetime(transactions['t_dat'])\n",
    "    sorted_transactions = transactions.sort_values(by='t_dat', ascending=False)\n",
    "    latest_transactions = sorted_transactions.groupby(['customer_id']).head(last_n_transactions)\n",
    "    return latest_transactions"
   ]
  },
  {
   "cell_type": "code",
   "execution_count": null,
   "id": "d5212349",
   "metadata": {},
   "outputs": [],
   "source": [
    "transactions.shape"
   ]
  },
  {
   "cell_type": "code",
   "execution_count": null,
   "id": "c88aba20",
   "metadata": {},
   "outputs": [],
   "source": [
    "for n in [1, 3, 5, 10]:\n",
    "    print(filter_last_n_transactions_per_customer(transactions, n).shape)"
   ]
  },
  {
   "cell_type": "code",
   "execution_count": null,
   "id": "967837ff",
   "metadata": {},
   "outputs": [],
   "source": [
    "transactions.customer_id.nunique()"
   ]
  },
  {
   "cell_type": "markdown",
   "id": "aba16c77",
   "metadata": {},
   "source": [
    "### works"
   ]
  },
  {
   "cell_type": "code",
   "execution_count": null,
   "id": "29ed54db",
   "metadata": {},
   "outputs": [],
   "source": [
    "def jaccard(x, y):\n",
    "    \"\"\" returns the jaccard similarity between two lists \"\"\"\n",
    "    intersection_cardinality = len(set.intersection(*[set(x), set(y)]))\n",
    "    union_cardinality = len(set.union(*[set(x), set(y)]))\n",
    "    return intersection_cardinality/float(union_cardinality)"
   ]
  },
  {
   "cell_type": "code",
   "execution_count": null,
   "id": "664c5f5f",
   "metadata": {},
   "outputs": [],
   "source": [
    "jaccard_articles.set_index(['article_id'], inplace=True)"
   ]
  },
  {
   "cell_type": "code",
   "execution_count": null,
   "id": "734ae5b5",
   "metadata": {},
   "outputs": [],
   "source": [
    "jaccard_articles"
   ]
  },
  {
   "cell_type": "code",
   "execution_count": null,
   "id": "351cae12",
   "metadata": {},
   "outputs": [],
   "source": [
    "jaccard_articles.loc['0679630001']['set_of_attributes']"
   ]
  },
  {
   "cell_type": "code",
   "execution_count": null,
   "id": "b4635b3d",
   "metadata": {},
   "outputs": [],
   "source": [
    "def avg_jaccard_similarity(\n",
    "    candidate_item: str,\n",
    "    customer_id: str,\n",
    "    articles_attributes: pd.DataFrame,\n",
    "    transactions: pd.DataFrame):\n",
    "    \n",
    "    candidate_item_attributes = articles_attributes.loc[candidate_item]['set_of_attributes']\n",
    "    bought_items = list(transactions[transactions['customer_id']==customer_id].article_id.unique())\n",
    "    jaccard_similarity_list = []\n",
    "    for item in bought_items:\n",
    "        item_attributes = articles_attributes.loc[item]['set_of_attributes']\n",
    "        jaccard_similarity = jaccard(candidate_item_attributes, item_attributes)\n",
    "        jaccard_similarity_list.append(jaccard_similarity)\n",
    "    print(jaccard_similarity_list)\n",
    "    return sum(jaccard_similarity_list)/len(jaccard_similarity_list)    "
   ]
  },
  {
   "cell_type": "code",
   "execution_count": null,
   "id": "addbf8f7",
   "metadata": {},
   "outputs": [],
   "source": [
    "avg_jaccard_similarity(candidate_item='0545612001',\n",
    "                       articles_attributes=jaccard_articles,\n",
    "                       customer_id='fff4d3a8b1f3b60af93e78c30a7cb4cf75edaf2590d3e593881ae6007d775f0f',\n",
    "                       transactions=transactions\n",
    "                      )"
   ]
  },
  {
   "cell_type": "markdown",
   "id": "226869ab",
   "metadata": {},
   "source": [
    "make it into whole dataframe calculation"
   ]
  },
  {
   "cell_type": "code",
   "execution_count": null,
   "id": "a00e05fa",
   "metadata": {},
   "outputs": [],
   "source": [
    "def calculate_avg_jaccard_similarity(\n",
    "    candidates_df: pd.DataFrame,\n",
    "    articles_attributes: pd.DataFrame,\n",
    "    transactions: pd.DataFrame):\n",
    "    candidate_item, candidate_user = candidates_df.article_id, candidates_df.customer_id\n",
    "    candidate_item_attributes = articles_attributes.loc[candidate_item]['set_of_attributes']\n",
    "    bought_items = list(transactions[transactions['customer_id']==candidate_user].article_id.unique())\n",
    "    if not bought_items:\n",
    "        return 0\n",
    "    jaccard_similarity_list = []\n",
    "    for item in bought_items:\n",
    "        item_attributes = articles_attributes.loc[item]['set_of_attributes']\n",
    "        jaccard_similarity = jaccard(candidate_item_attributes, item_attributes)\n",
    "        jaccard_similarity_list.append(jaccard_similarity)\n",
    "    return sum(jaccard_similarity_list)/len(jaccard_similarity_list)    "
   ]
  },
  {
   "cell_type": "code",
   "execution_count": null,
   "id": "ac269c1a",
   "metadata": {},
   "outputs": [],
   "source": []
  },
  {
   "cell_type": "code",
   "execution_count": null,
   "id": "63de7a38",
   "metadata": {},
   "outputs": [],
   "source": [
    "candidates_df = pd.DataFrame({'customer_id': sorted(customers['customer_id'].sample(5).to_list()*3),\n",
    "                              'article_id': articles['article_id'].sample(15).to_list()\n",
    "                             })"
   ]
  },
  {
   "cell_type": "code",
   "execution_count": null,
   "id": "c29d725e",
   "metadata": {},
   "outputs": [],
   "source": [
    "candidates_df.head()"
   ]
  },
  {
   "cell_type": "code",
   "execution_count": null,
   "id": "2b37359b",
   "metadata": {},
   "outputs": [],
   "source": [
    "candidates_df.apply(lambda x: calculate_avg_jaccard_similarity(x, jaccard_articles, transactions), axis=1)"
   ]
  },
  {
   "cell_type": "code",
   "execution_count": null,
   "id": "497f1466",
   "metadata": {},
   "outputs": [],
   "source": []
  },
  {
   "cell_type": "markdown",
   "id": "31ddd7c3",
   "metadata": {},
   "source": [
    "### image/text embeddings"
   ]
  },
  {
   "cell_type": "code",
   "execution_count": null,
   "id": "5e69fa8b",
   "metadata": {},
   "outputs": [],
   "source": [
    "image_embeddings = context.catalog.load('image_embeddings')"
   ]
  },
  {
   "cell_type": "code",
   "execution_count": null,
   "id": "1cfcd76f",
   "metadata": {},
   "outputs": [],
   "source": [
    "image_embeddings"
   ]
  },
  {
   "cell_type": "code",
   "execution_count": null,
   "id": "7caf5e8e",
   "metadata": {},
   "outputs": [],
   "source": [
    "def calculate_customer_embedding(df: pd.DataFrame, embeddings: pd.DataFrame):\n",
    "    list_of_articles = list(df.article_id.unique())\n",
    "    mean_embeddings = list(embeddings[embeddings.index.isin(list_of_articles)].mean(axis=0))\n",
    "    return mean_embeddings"
   ]
  },
  {
   "cell_type": "code",
   "execution_count": null,
   "id": "cc20e7e6",
   "metadata": {},
   "outputs": [],
   "source": [
    "%%time\n",
    "cust_embeddings = transactions.groupby(['customer_id']).apply(lambda x: calculate_customer_embedding(x, image_embeddings)).reset_index(name='embeddings')"
   ]
  },
  {
   "cell_type": "code",
   "execution_count": null,
   "id": "e2350f45",
   "metadata": {},
   "outputs": [],
   "source": [
    "cust_embeddings.shape"
   ]
  },
  {
   "cell_type": "code",
   "execution_count": null,
   "id": "af436245",
   "metadata": {},
   "outputs": [],
   "source": [
    "image_embeddings.shape"
   ]
  },
  {
   "cell_type": "code",
   "execution_count": null,
   "id": "1db4bbbc",
   "metadata": {},
   "outputs": [],
   "source": []
  },
  {
   "cell_type": "code",
   "execution_count": null,
   "id": "bbf667d5",
   "metadata": {},
   "outputs": [],
   "source": [
    "text_embeddings = context.catalog.load('text_embeddings')"
   ]
  },
  {
   "cell_type": "code",
   "execution_count": null,
   "id": "a3da171f",
   "metadata": {},
   "outputs": [],
   "source": [
    "text_embeddings.shape"
   ]
  },
  {
   "cell_type": "code",
   "execution_count": null,
   "id": "523084d1",
   "metadata": {},
   "outputs": [],
   "source": [
    "%%time\n",
    "transactions.groupby(['customer_id']).apply(lambda x: calculate_customer_embedding(x, text_embeddings)).reset_index(name='embeddings')"
   ]
  },
  {
   "cell_type": "markdown",
   "id": "52fced32",
   "metadata": {},
   "source": [
    "to split embeddings from list to single columns"
   ]
  },
  {
   "cell_type": "markdown",
   "id": "c2479438",
   "metadata": {},
   "source": [
    "df3 = df2.teams.apply(pd.Series) <br>\n",
    "df3.columns = ['team1', 'team2']"
   ]
  },
  {
   "cell_type": "code",
   "execution_count": null,
   "id": "b80399e8",
   "metadata": {},
   "outputs": [],
   "source": []
  },
  {
   "cell_type": "code",
   "execution_count": null,
   "id": "4092d63e",
   "metadata": {},
   "outputs": [],
   "source": [
    "np.array(cust_embeddings.set_index('customer_id').loc['000531ecd2754a0cf214373cc7b6dbcf7ce9a77c3284a2facbe072f763618bbc'].embeddings)"
   ]
  },
  {
   "cell_type": "code",
   "execution_count": null,
   "id": "4e75fb01",
   "metadata": {},
   "outputs": [],
   "source": [
    "image_embeddings.loc['0878510001'].values"
   ]
  },
  {
   "cell_type": "code",
   "execution_count": null,
   "id": "fae87464",
   "metadata": {},
   "outputs": [],
   "source": [
    "def cosine_similarity(A, B):\n",
    "    return np.dot(A,B)/(np.linalg.norm(A)*np.linalg.norm(B))"
   ]
  },
  {
   "cell_type": "code",
   "execution_count": null,
   "id": "80276e32",
   "metadata": {},
   "outputs": [],
   "source": [
    "def cosine_embedding_similarity(candidates_df, customers_embeddings, items_embeddings):\n",
    "    \"\"\"\n",
    "    \"\"\"\n",
    "    candidate_item, candidate_user = candidates_df.article_id, candidates_df.customer_id\n",
    "    try:\n",
    "        customer_embeddings = np.array(cust_embeddings.set_index('customer_id').loc[candidate_user].embeddings)\n",
    "    except KeyError:\n",
    "        return 0\n",
    "    try:\n",
    "        candidate_embeddings = items_embeddings.loc[candidate_item].values\n",
    "    except KeyError:\n",
    "        return 0\n",
    "    return cosine_similarity(customer_embeddings, candidate_embeddings)"
   ]
  },
  {
   "cell_type": "code",
   "execution_count": null,
   "id": "f160f024",
   "metadata": {},
   "outputs": [],
   "source": []
  },
  {
   "cell_type": "code",
   "execution_count": null,
   "id": "6193c6d1",
   "metadata": {},
   "outputs": [],
   "source": [
    "candidates_df = pd.DataFrame({'customer_id': sorted(customers['customer_id'].sample(5).to_list()*3),\n",
    "                              'article_id': articles['article_id'].sample(15).to_list()\n",
    "                             })"
   ]
  },
  {
   "cell_type": "code",
   "execution_count": null,
   "id": "2a0f41df",
   "metadata": {},
   "outputs": [],
   "source": [
    "candidates_df.head()"
   ]
  },
  {
   "cell_type": "code",
   "execution_count": null,
   "id": "69738bf1",
   "metadata": {},
   "outputs": [],
   "source": [
    "candidates_df.apply(lambda x: cosine_embedding_similarity(x, cust_embeddings, image_embeddings), axis=1)"
   ]
  },
  {
   "cell_type": "code",
   "execution_count": null,
   "id": "2a62d49f",
   "metadata": {},
   "outputs": [],
   "source": []
  },
  {
   "cell_type": "markdown",
   "id": "a1f481a1",
   "metadata": {},
   "source": [
    "text similarities"
   ]
  },
  {
   "cell_type": "code",
   "execution_count": null,
   "id": "8bd094a0",
   "metadata": {},
   "outputs": [],
   "source": [
    "%%time\n",
    "cust_embeddings = transactions.groupby(['customer_id']).apply(lambda x: calculate_customer_embedding(x, text_embeddings)).reset_index(name='embeddings')"
   ]
  },
  {
   "cell_type": "code",
   "execution_count": null,
   "id": "54b90859",
   "metadata": {},
   "outputs": [],
   "source": [
    "candidates_df.apply(lambda x: cosine_embedding_similarity(x, cust_embeddings, text_embeddings), axis=1)"
   ]
  },
  {
   "cell_type": "code",
   "execution_count": null,
   "id": "f87116a1",
   "metadata": {},
   "outputs": [],
   "source": []
  },
  {
   "cell_type": "code",
   "execution_count": null,
   "id": "3e683193",
   "metadata": {},
   "outputs": [],
   "source": []
  },
  {
   "cell_type": "markdown",
   "id": "9738a2ef",
   "metadata": {},
   "source": [
    "all similarities"
   ]
  },
  {
   "cell_type": "code",
   "execution_count": null,
   "id": "e40e8da2",
   "metadata": {},
   "outputs": [],
   "source": []
  },
  {
   "cell_type": "code",
   "execution_count": null,
   "id": "19aaa77c",
   "metadata": {},
   "outputs": [],
   "source": []
  },
  {
   "cell_type": "markdown",
   "id": "a418e4e3",
   "metadata": {},
   "source": [
    "collaborative filtering still AWAITS :<<<"
   ]
  },
  {
   "cell_type": "markdown",
   "id": "723949d7",
   "metadata": {},
   "source": [
    "candidates -> STRATEGY FEATURE, MAYBE SCORE?"
   ]
  },
  {
   "cell_type": "code",
   "execution_count": null,
   "id": "efbf5678",
   "metadata": {},
   "outputs": [],
   "source": []
  }
 ],
 "metadata": {
  "kernelspec": {
   "display_name": "GetInDataMLFramework",
   "language": "python",
   "name": "python3"
  },
  "language_info": {
   "codemirror_mode": {
    "name": "ipython",
    "version": 3
   },
   "file_extension": ".py",
   "mimetype": "text/x-python",
   "name": "python",
   "nbconvert_exporter": "python",
   "pygments_lexer": "ipython3",
   "version": "3.8.12"
  }
 },
 "nbformat": 4,
 "nbformat_minor": 5
}
