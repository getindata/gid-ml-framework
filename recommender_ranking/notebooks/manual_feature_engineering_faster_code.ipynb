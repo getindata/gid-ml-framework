{
 "cells": [
  {
   "cell_type": "code",
   "execution_count": null,
   "id": "9b6289f9",
   "metadata": {},
   "outputs": [],
   "source": [
    "%load_ext kedro.extras.extensions.ipython"
   ]
  },
  {
   "cell_type": "code",
   "execution_count": null,
   "id": "c272c8b9",
   "metadata": {},
   "outputs": [],
   "source": [
    "%reload_kedro"
   ]
  },
  {
   "cell_type": "code",
   "execution_count": null,
   "id": "b74d3fbd",
   "metadata": {},
   "outputs": [],
   "source": [
    "import pandas as pd\n",
    "import numpy as np"
   ]
  },
  {
   "cell_type": "code",
   "execution_count": null,
   "id": "fc8169e0",
   "metadata": {},
   "outputs": [],
   "source": [
    "pd.set_option('display.float_format', lambda x: '%.4f' % x)"
   ]
  },
  {
   "cell_type": "code",
   "execution_count": null,
   "id": "22fe7d97",
   "metadata": {},
   "outputs": [],
   "source": [
    "catalog.list()"
   ]
  },
  {
   "cell_type": "code",
   "execution_count": null,
   "id": "ea4bccf4",
   "metadata": {},
   "outputs": [],
   "source": [
    "candidates = context.catalog.load('candidates_sample')"
   ]
  },
  {
   "cell_type": "code",
   "execution_count": null,
   "id": "5d33c72a",
   "metadata": {},
   "outputs": [],
   "source": [
    "candidates.shape"
   ]
  },
  {
   "cell_type": "code",
   "execution_count": null,
   "id": "723268c9",
   "metadata": {},
   "outputs": [],
   "source": [
    "candidates.isna().sum()/candidates.shape[0]"
   ]
  },
  {
   "cell_type": "code",
   "execution_count": null,
   "id": "659f081b",
   "metadata": {},
   "outputs": [],
   "source": [
    "candidates.set_index('customer_id', inplace=True)"
   ]
  },
  {
   "cell_type": "code",
   "execution_count": null,
   "id": "2d8a7ef9",
   "metadata": {},
   "outputs": [],
   "source": [
    "dfs = list()"
   ]
  },
  {
   "cell_type": "code",
   "execution_count": null,
   "id": "7e227a8a",
   "metadata": {},
   "outputs": [],
   "source": [
    "%%time\n",
    "for column in candidates.columns:\n",
    "    print(column)\n",
    "    df = candidates[[column]].explode(column).rename({column: 'article_id'}, axis=1).dropna()\n",
    "    df = df.assign(strategy_name=lambda x: column)\n",
    "    print(df.shape)\n",
    "    dfs.append(df)"
   ]
  },
  {
   "cell_type": "code",
   "execution_count": null,
   "id": "616f4bf3",
   "metadata": {},
   "outputs": [],
   "source": [
    "dfs[4]"
   ]
  },
  {
   "cell_type": "code",
   "execution_count": null,
   "id": "6ff0a98d",
   "metadata": {},
   "outputs": [],
   "source": [
    "candidates = pd.concat(dfs, axis=0).reset_index()"
   ]
  },
  {
   "cell_type": "code",
   "execution_count": null,
   "id": "0ae5bfc8",
   "metadata": {},
   "outputs": [],
   "source": [
    "candidates.shape"
   ]
  },
  {
   "cell_type": "code",
   "execution_count": null,
   "id": "d21b18de",
   "metadata": {},
   "outputs": [],
   "source": [
    "candidates.head()"
   ]
  },
  {
   "cell_type": "markdown",
   "id": "64e46026",
   "metadata": {},
   "source": [
    "#### other dataframes"
   ]
  },
  {
   "cell_type": "code",
   "execution_count": null,
   "id": "0fef359d",
   "metadata": {},
   "outputs": [],
   "source": [
    "articles = context.catalog.load('articles')"
   ]
  },
  {
   "cell_type": "code",
   "execution_count": null,
   "id": "bce63875",
   "metadata": {},
   "outputs": [],
   "source": [
    "customers = context.catalog.load('customers_sample')"
   ]
  },
  {
   "cell_type": "code",
   "execution_count": null,
   "id": "c7e3cabe",
   "metadata": {},
   "outputs": [],
   "source": [
    "transactions = context.catalog.load('transactions_sample')"
   ]
  },
  {
   "cell_type": "code",
   "execution_count": null,
   "id": "e8a5b736",
   "metadata": {},
   "outputs": [],
   "source": [
    "articles.shape, customers.shape, transactions.shape"
   ]
  },
  {
   "cell_type": "code",
   "execution_count": null,
   "id": "72dcedfc",
   "metadata": {},
   "outputs": [],
   "source": []
  },
  {
   "cell_type": "markdown",
   "id": "f15e7ac6",
   "metadata": {},
   "source": [
    "### candidate features"
   ]
  },
  {
   "cell_type": "markdown",
   "id": "083e9973",
   "metadata": {},
   "source": [
    "##### jaccard similarity"
   ]
  },
  {
   "cell_type": "markdown",
   "id": "48a5508c",
   "metadata": {},
   "source": [
    "The actual comparison was actually simpler. I calculated average jaccard index of attributes. So when a customer had 3 items in the history:\n",
    "\n",
    "item_1 attributes A,B,C  \n",
    "item_2 attributes B,C,D  \n",
    "item_3 attributes A,B,D\n",
    "\n",
    "Then you consider a new item_4 with attributes A,B so the average jaccard is calculated like this\n",
    "\n",
    "item_1 attributes A,B,C = jaccard 0.66  \n",
    "item_2 attributes B,C,D = jaccard 0.33  \n",
    "item_3 attributes A,B,D = jaccard 0.66\n",
    "\n",
    "so the average similarity is 0.55\n",
    "\n",
    "I had a different version to calculate \"fuzzy\" attribute similarity based on their cooccurence in baskets so if the attribute=X cooccured with attribute=Y in 50% of the baskets its similarity is 50% not 0 or 1 like in the original."
   ]
  },
  {
   "cell_type": "code",
   "execution_count": null,
   "id": "bb790097",
   "metadata": {},
   "outputs": [],
   "source": [
    "articles.columns"
   ]
  },
  {
   "cell_type": "code",
   "execution_count": null,
   "id": "90ba8b48",
   "metadata": {},
   "outputs": [],
   "source": [
    "cat_articles = articles[['product_type_name', 'product_group_name', 'graphical_appearance_name', 'colour_group_name', 'perceived_colour_value_name', 'perceived_colour_master_name', 'index_name', 'index_group_name', 'section_name', 'garment_group_name']]"
   ]
  },
  {
   "cell_type": "code",
   "execution_count": null,
   "id": "0a76834c",
   "metadata": {},
   "outputs": [],
   "source": [
    "jaccard_articles = articles[['article_id']].copy()"
   ]
  },
  {
   "cell_type": "code",
   "execution_count": null,
   "id": "1fd731d3",
   "metadata": {},
   "outputs": [],
   "source": [
    "jaccard_articles['set_of_attributes'] = cat_articles.apply(set, axis=1)"
   ]
  },
  {
   "cell_type": "code",
   "execution_count": null,
   "id": "ffd0c1e9",
   "metadata": {},
   "outputs": [],
   "source": [
    "jaccard_articles"
   ]
  },
  {
   "cell_type": "code",
   "execution_count": null,
   "id": "10ea45bf",
   "metadata": {},
   "outputs": [],
   "source": [
    "jaccard_articles.set_index(['article_id'], inplace=True)"
   ]
  },
  {
   "cell_type": "code",
   "execution_count": null,
   "id": "7d817154",
   "metadata": {},
   "outputs": [],
   "source": [
    "jaccard_articles"
   ]
  },
  {
   "cell_type": "markdown",
   "id": "aba16c77",
   "metadata": {},
   "source": [
    "### works"
   ]
  },
  {
   "cell_type": "code",
   "execution_count": null,
   "id": "29ed54db",
   "metadata": {},
   "outputs": [],
   "source": [
    "def jaccard(x, y):\n",
    "    \"\"\" returns the jaccard similarity between two sets\"\"\"\n",
    "    intersection_cardinality = len(x.intersection(y))\n",
    "    union_cardinality = len(x.union(y))\n",
    "    return float(intersection_cardinality/union_cardinality)"
   ]
  },
  {
   "cell_type": "code",
   "execution_count": null,
   "id": "0ae8e731",
   "metadata": {},
   "outputs": [],
   "source": [
    "df_cust_article = transactions[['customer_id', 'article_id']].drop_duplicates().groupby(['customer_id'])['article_id'].apply(list).reset_index().set_index('customer_id')"
   ]
  },
  {
   "cell_type": "code",
   "execution_count": null,
   "id": "466723b2",
   "metadata": {},
   "outputs": [],
   "source": [
    "df_cust_article.head()"
   ]
  },
  {
   "cell_type": "code",
   "execution_count": null,
   "id": "ce7f1953",
   "metadata": {},
   "outputs": [],
   "source": [
    "df_cust_article.loc['000346516dd355b40badca0c0f5f37a318ddae31f0e0f76a3a0454eb591b6384'][0]"
   ]
  },
  {
   "cell_type": "code",
   "execution_count": null,
   "id": "a00e05fa",
   "metadata": {},
   "outputs": [],
   "source": [
    "def calculate_avg_jaccard_similarity(\n",
    "    candidates_df: pd.DataFrame,\n",
    "    articles_attributes: pd.DataFrame,\n",
    "    df_cust_article: pd.DataFrame):\n",
    "    \n",
    "    candidate_item, candidate_user = candidates_df.article_id, candidates_df.customer_id\n",
    "    candidate_item_attributes = articles_attributes.loc[candidate_item]['set_of_attributes']\n",
    "    try:\n",
    "        bought_items = df_cust_article.loc[candidate_user][0]\n",
    "    except KeyError:\n",
    "        return 0\n",
    "    jaccard_similarity_list = []\n",
    "    for item in bought_items:\n",
    "        item_attributes = articles_attributes.loc[item]['set_of_attributes']\n",
    "        jaccard_similarity = jaccard(candidate_item_attributes, item_attributes)\n",
    "        jaccard_similarity_list.append(jaccard_similarity)\n",
    "    return sum(jaccard_similarity_list)/len(jaccard_similarity_list)    "
   ]
  },
  {
   "cell_type": "code",
   "execution_count": null,
   "id": "c29d725e",
   "metadata": {},
   "outputs": [],
   "source": [
    "candidates.head()"
   ]
  },
  {
   "cell_type": "code",
   "execution_count": null,
   "id": "5f4d48eb",
   "metadata": {},
   "outputs": [],
   "source": [
    "sample_candidates = candidates.sample(100_000)"
   ]
  },
  {
   "cell_type": "code",
   "execution_count": null,
   "id": "312db085",
   "metadata": {},
   "outputs": [],
   "source": [
    "sample_candidates.shape"
   ]
  },
  {
   "cell_type": "markdown",
   "id": "cfacd5b0",
   "metadata": {},
   "source": [
    "### apply"
   ]
  },
  {
   "cell_type": "code",
   "execution_count": null,
   "id": "2b37359b",
   "metadata": {},
   "outputs": [],
   "source": [
    "%%time\n",
    "sample_candidates.apply(lambda x: calculate_avg_jaccard_similarity(x, jaccard_articles, df_cust_article), axis=1)"
   ]
  },
  {
   "cell_type": "code",
   "execution_count": null,
   "id": "1af8a4cc",
   "metadata": {},
   "outputs": [],
   "source": [
    "9*candidates.shape[0]/sample_candidates.shape[0]/60"
   ]
  },
  {
   "cell_type": "code",
   "execution_count": null,
   "id": "6418e8ec",
   "metadata": {},
   "outputs": [],
   "source": [
    "(9*60)/6.59"
   ]
  },
  {
   "cell_type": "markdown",
   "id": "530b68a5",
   "metadata": {},
   "source": [
    "after"
   ]
  },
  {
   "cell_type": "code",
   "execution_count": null,
   "id": "24f7dc72",
   "metadata": {},
   "outputs": [],
   "source": [
    "6.59*candidates.shape[0]/sample_candidates.shape[0]/60/60"
   ]
  },
  {
   "cell_type": "markdown",
   "id": "07f8dd81",
   "metadata": {},
   "source": [
    "### itertuples"
   ]
  },
  {
   "cell_type": "code",
   "execution_count": null,
   "id": "d55de1ef",
   "metadata": {},
   "outputs": [],
   "source": [
    "%%time\n",
    "pd.Series(\n",
    "    calculate_avg_jaccard_similarity(row, jaccard_articles, df_cust_article)\n",
    "    for row in sample_candidates.itertuples()\n",
    ")"
   ]
  },
  {
   "cell_type": "code",
   "execution_count": null,
   "id": "e1354f46",
   "metadata": {},
   "outputs": [],
   "source": [
    "9*candidates.shape[0]/sample_candidates.shape[0]/60"
   ]
  },
  {
   "cell_type": "code",
   "execution_count": null,
   "id": "4f5b87fa",
   "metadata": {},
   "outputs": [],
   "source": []
  },
  {
   "cell_type": "code",
   "execution_count": null,
   "id": "06c1d65d",
   "metadata": {},
   "outputs": [],
   "source": []
  },
  {
   "cell_type": "markdown",
   "id": "31813c1a",
   "metadata": {},
   "source": [
    "### maybe faster jaccard_similarity"
   ]
  },
  {
   "cell_type": "code",
   "execution_count": null,
   "id": "6dbf7a0c",
   "metadata": {},
   "outputs": [],
   "source": [
    "def jaccard(x, y):\n",
    "    \"\"\" returns the jaccard similarity between two lists \"\"\"\n",
    "    intersection_cardinality = len(set.intersection(*[set(x), set(y)]))\n",
    "    union_cardinality = len(set.union(*[set(x), set(y)]))\n",
    "    return intersection_cardinality/float(union_cardinality)"
   ]
  },
  {
   "cell_type": "code",
   "execution_count": null,
   "id": "390e7428",
   "metadata": {},
   "outputs": [],
   "source": [
    "def jaccard2(x, y):\n",
    "    \"\"\" returns the jaccard similarity between two lists \"\"\"\n",
    "    intersection_cardinality = len(x.intersection(y))\n",
    "    union_cardinality = len(x.union(y))\n",
    "    return intersection_cardinality/float(union_cardinality)"
   ]
  },
  {
   "cell_type": "code",
   "execution_count": null,
   "id": "2b9cb8df",
   "metadata": {},
   "outputs": [],
   "source": [
    "def jaccard3(x, y):\n",
    "    \"\"\" returns the jaccard similarity between two lists \"\"\"\n",
    "    intersection_cardinality = len(x.intersection(y))\n",
    "    union_cardinality = len(x.union(y))\n",
    "    return float(intersection_cardinality/union_cardinality)"
   ]
  },
  {
   "cell_type": "code",
   "execution_count": null,
   "id": "58efe8b8",
   "metadata": {},
   "outputs": [],
   "source": [
    "a = jaccard_articles.sample(1).set_of_attributes[0]"
   ]
  },
  {
   "cell_type": "code",
   "execution_count": null,
   "id": "f01fd134",
   "metadata": {},
   "outputs": [],
   "source": [
    "b = jaccard_articles.sample(1).set_of_attributes[0]"
   ]
  },
  {
   "cell_type": "code",
   "execution_count": null,
   "id": "b8b56a74",
   "metadata": {},
   "outputs": [],
   "source": [
    "%timeit -n 5000 jaccard(a, b)"
   ]
  },
  {
   "cell_type": "code",
   "execution_count": null,
   "id": "ec682c51",
   "metadata": {},
   "outputs": [],
   "source": [
    "%timeit -n 5000 jaccard2(a, b)"
   ]
  },
  {
   "cell_type": "code",
   "execution_count": null,
   "id": "8a621309",
   "metadata": {},
   "outputs": [],
   "source": [
    "%timeit -n 5000 jaccard3(a, b)"
   ]
  },
  {
   "cell_type": "code",
   "execution_count": null,
   "id": "7fd920b6",
   "metadata": {},
   "outputs": [],
   "source": []
  },
  {
   "cell_type": "code",
   "execution_count": null,
   "id": "495c7a7c",
   "metadata": {},
   "outputs": [],
   "source": []
  },
  {
   "cell_type": "code",
   "execution_count": null,
   "id": "8216d0f2",
   "metadata": {},
   "outputs": [],
   "source": []
  },
  {
   "cell_type": "code",
   "execution_count": null,
   "id": "bb6d36d1",
   "metadata": {},
   "outputs": [],
   "source": []
  },
  {
   "cell_type": "code",
   "execution_count": null,
   "id": "497f1466",
   "metadata": {},
   "outputs": [],
   "source": []
  },
  {
   "cell_type": "markdown",
   "id": "31ddd7c3",
   "metadata": {},
   "source": [
    "### image/text embeddings"
   ]
  },
  {
   "cell_type": "code",
   "execution_count": null,
   "id": "5e69fa8b",
   "metadata": {},
   "outputs": [],
   "source": [
    "image_embeddings = context.catalog.load('image_embeddings')"
   ]
  },
  {
   "cell_type": "code",
   "execution_count": null,
   "id": "1cfcd76f",
   "metadata": {},
   "outputs": [],
   "source": [
    "image_embeddings"
   ]
  },
  {
   "cell_type": "code",
   "execution_count": null,
   "id": "c8fe73f4",
   "metadata": {},
   "outputs": [],
   "source": [
    "df_cust_article = transactions[['customer_id', 'article_id']].drop_duplicates().groupby(['customer_id'])['article_id'].apply(list).reset_index().set_index('customer_id')"
   ]
  },
  {
   "cell_type": "code",
   "execution_count": null,
   "id": "2c27c9e5",
   "metadata": {},
   "outputs": [],
   "source": [
    "df_cust_article.head()"
   ]
  },
  {
   "cell_type": "code",
   "execution_count": null,
   "id": "d971dce7",
   "metadata": {},
   "outputs": [],
   "source": [
    "def calculate_customer_embedding(df: pd.DataFrame, embeddings: pd.DataFrame):\n",
    "    list_of_articles = df.article_id[0]\n",
    "    mean_embeddings = list(embeddings[embeddings.index.isin(list_of_articles)].mean(axis=0))\n",
    "    return mean_embeddings"
   ]
  },
  {
   "cell_type": "code",
   "execution_count": null,
   "id": "45d6e6dc",
   "metadata": {},
   "outputs": [],
   "source": [
    "%%time\n",
    "cust_embeddings = df_cust_article.groupby(['customer_id']).apply(lambda x: calculate_customer_embedding(x, image_embeddings)).reset_index(name='embeddings')"
   ]
  },
  {
   "cell_type": "code",
   "execution_count": null,
   "id": "7caf5e8e",
   "metadata": {},
   "outputs": [],
   "source": [
    "def calculate_customer_embedding(df: pd.DataFrame, embeddings: pd.DataFrame):\n",
    "    list_of_articles = list(df.article_id.unique())\n",
    "    mean_embeddings = list(embeddings[embeddings.index.isin(list_of_articles)].mean(axis=0))\n",
    "    return mean_embeddings"
   ]
  },
  {
   "cell_type": "code",
   "execution_count": null,
   "id": "cc20e7e6",
   "metadata": {},
   "outputs": [],
   "source": [
    "%%time\n",
    "cust_embeddings = transactions.groupby(['customer_id']).apply(lambda x: calculate_customer_embedding(x, image_embeddings)).reset_index(name='embeddings')"
   ]
  },
  {
   "cell_type": "code",
   "execution_count": null,
   "id": "e2350f45",
   "metadata": {},
   "outputs": [],
   "source": [
    "cust_embeddings.shape"
   ]
  },
  {
   "cell_type": "code",
   "execution_count": null,
   "id": "af436245",
   "metadata": {},
   "outputs": [],
   "source": [
    "image_embeddings.shape"
   ]
  },
  {
   "cell_type": "code",
   "execution_count": null,
   "id": "1db4bbbc",
   "metadata": {},
   "outputs": [],
   "source": []
  },
  {
   "cell_type": "code",
   "execution_count": null,
   "id": "74fd5fc4",
   "metadata": {},
   "outputs": [],
   "source": []
  },
  {
   "cell_type": "markdown",
   "id": "eb0004d0",
   "metadata": {},
   "source": [
    "### text"
   ]
  },
  {
   "cell_type": "code",
   "execution_count": null,
   "id": "bbf667d5",
   "metadata": {},
   "outputs": [],
   "source": [
    "text_embeddings = context.catalog.load('text_embeddings')"
   ]
  },
  {
   "cell_type": "code",
   "execution_count": null,
   "id": "a3da171f",
   "metadata": {},
   "outputs": [],
   "source": [
    "text_embeddings.shape"
   ]
  },
  {
   "cell_type": "code",
   "execution_count": null,
   "id": "f4a2df94",
   "metadata": {},
   "outputs": [],
   "source": [
    "def calculate_customer_embedding(df: pd.DataFrame, embeddings: pd.DataFrame):\n",
    "    list_of_articles = df.article_id[0]\n",
    "    mean_embeddings = list(embeddings[embeddings.index.isin(list_of_articles)].mean(axis=0))\n",
    "    return mean_embeddings"
   ]
  },
  {
   "cell_type": "code",
   "execution_count": null,
   "id": "89662fa6",
   "metadata": {},
   "outputs": [],
   "source": [
    "%%time\n",
    "cust_embeddings = df_cust_article.groupby(['customer_id']).apply(lambda x: calculate_customer_embedding(x, text_embeddings)).reset_index(name='embeddings')"
   ]
  },
  {
   "cell_type": "code",
   "execution_count": null,
   "id": "2adedd62",
   "metadata": {},
   "outputs": [],
   "source": [
    "def calculate_customer_embedding(df: pd.DataFrame, embeddings: pd.DataFrame):\n",
    "    list_of_articles = list(df.article_id.unique())\n",
    "    mean_embeddings = list(embeddings[embeddings.index.isin(list_of_articles)].mean(axis=0))\n",
    "    return mean_embeddings"
   ]
  },
  {
   "cell_type": "code",
   "execution_count": null,
   "id": "2ade03d6",
   "metadata": {},
   "outputs": [],
   "source": [
    "%%time\n",
    "cust_embeddings = transactions.groupby(['customer_id']).apply(lambda x: calculate_customer_embedding(x, text_embeddings)).reset_index(name='embeddings')"
   ]
  },
  {
   "cell_type": "code",
   "execution_count": null,
   "id": "523084d1",
   "metadata": {},
   "outputs": [],
   "source": [
    "%%time\n",
    "transactions.groupby(['customer_id']).apply(lambda x: calculate_customer_embedding(x, text_embeddings)).reset_index(name='embeddings')"
   ]
  },
  {
   "cell_type": "markdown",
   "id": "52fced32",
   "metadata": {},
   "source": [
    "to split embeddings from list to single columns"
   ]
  },
  {
   "cell_type": "markdown",
   "id": "c2479438",
   "metadata": {},
   "source": [
    "df3 = df2.teams.apply(pd.Series) <br>\n",
    "df3.columns = ['team1', 'team2']"
   ]
  },
  {
   "cell_type": "code",
   "execution_count": null,
   "id": "b80399e8",
   "metadata": {},
   "outputs": [],
   "source": []
  },
  {
   "cell_type": "code",
   "execution_count": null,
   "id": "4092d63e",
   "metadata": {},
   "outputs": [],
   "source": [
    "np.array(cust_embeddings.set_index('customer_id').loc['000531ecd2754a0cf214373cc7b6dbcf7ce9a77c3284a2facbe072f763618bbc'].embeddings)"
   ]
  },
  {
   "cell_type": "code",
   "execution_count": null,
   "id": "4e75fb01",
   "metadata": {},
   "outputs": [],
   "source": [
    "image_embeddings.loc['0878510001'].values"
   ]
  },
  {
   "cell_type": "code",
   "execution_count": null,
   "id": "fae87464",
   "metadata": {},
   "outputs": [],
   "source": [
    "def cosine_similarity(A, B):\n",
    "    return np.dot(A,B)/(np.linalg.norm(A)*np.linalg.norm(B))"
   ]
  },
  {
   "cell_type": "code",
   "execution_count": null,
   "id": "80276e32",
   "metadata": {},
   "outputs": [],
   "source": [
    "def cosine_embedding_similarity(candidates_df, customers_embeddings, items_embeddings):\n",
    "    \"\"\"\n",
    "    \"\"\"\n",
    "    candidate_item, candidate_user = candidates_df.article_id, candidates_df.customer_id\n",
    "    try:\n",
    "        customer_embeddings = np.array(cust_embeddings.set_index('customer_id').loc[candidate_user].embeddings)\n",
    "    except KeyError:\n",
    "        return 0\n",
    "    try:\n",
    "        candidate_embeddings = items_embeddings.loc[candidate_item].values\n",
    "    except KeyError:\n",
    "        return 0\n",
    "    return cosine_similarity(customer_embeddings, candidate_embeddings)"
   ]
  },
  {
   "cell_type": "code",
   "execution_count": null,
   "id": "f160f024",
   "metadata": {},
   "outputs": [],
   "source": []
  },
  {
   "cell_type": "code",
   "execution_count": null,
   "id": "6193c6d1",
   "metadata": {},
   "outputs": [],
   "source": [
    "candidates_df = pd.DataFrame({'customer_id': sorted(customers['customer_id'].sample(5).to_list()*3),\n",
    "                              'article_id': articles['article_id'].sample(15).to_list()\n",
    "                             })"
   ]
  },
  {
   "cell_type": "code",
   "execution_count": null,
   "id": "2a0f41df",
   "metadata": {},
   "outputs": [],
   "source": [
    "candidates_df.head()"
   ]
  },
  {
   "cell_type": "code",
   "execution_count": null,
   "id": "69738bf1",
   "metadata": {},
   "outputs": [],
   "source": [
    "candidates_df.apply(lambda x: cosine_embedding_similarity(x, cust_embeddings, image_embeddings), axis=1)"
   ]
  },
  {
   "cell_type": "code",
   "execution_count": null,
   "id": "2a62d49f",
   "metadata": {},
   "outputs": [],
   "source": []
  },
  {
   "cell_type": "markdown",
   "id": "a1f481a1",
   "metadata": {},
   "source": [
    "text similarities"
   ]
  },
  {
   "cell_type": "code",
   "execution_count": null,
   "id": "8bd094a0",
   "metadata": {},
   "outputs": [],
   "source": [
    "%%time\n",
    "cust_embeddings = transactions.groupby(['customer_id']).apply(lambda x: calculate_customer_embedding(x, text_embeddings)).reset_index(name='embeddings')"
   ]
  },
  {
   "cell_type": "code",
   "execution_count": null,
   "id": "54b90859",
   "metadata": {},
   "outputs": [],
   "source": [
    "candidates_df.apply(lambda x: cosine_embedding_similarity(x, cust_embeddings, text_embeddings), axis=1)"
   ]
  },
  {
   "cell_type": "code",
   "execution_count": null,
   "id": "f87116a1",
   "metadata": {},
   "outputs": [],
   "source": []
  },
  {
   "cell_type": "code",
   "execution_count": null,
   "id": "3e683193",
   "metadata": {},
   "outputs": [],
   "source": []
  },
  {
   "cell_type": "markdown",
   "id": "9738a2ef",
   "metadata": {},
   "source": [
    "all similarities"
   ]
  },
  {
   "cell_type": "code",
   "execution_count": null,
   "id": "e40e8da2",
   "metadata": {},
   "outputs": [],
   "source": []
  },
  {
   "cell_type": "code",
   "execution_count": null,
   "id": "19aaa77c",
   "metadata": {},
   "outputs": [],
   "source": []
  },
  {
   "cell_type": "markdown",
   "id": "a418e4e3",
   "metadata": {},
   "source": [
    "collaborative filtering still AWAITS :<<<"
   ]
  },
  {
   "cell_type": "markdown",
   "id": "723949d7",
   "metadata": {},
   "source": [
    "candidates -> STRATEGY FEATURE, MAYBE SCORE?"
   ]
  },
  {
   "cell_type": "code",
   "execution_count": null,
   "id": "efbf5678",
   "metadata": {},
   "outputs": [],
   "source": []
  }
 ],
 "metadata": {
  "kernelspec": {
   "display_name": "GetInDataMLFramework",
   "language": "python",
   "name": "python3"
  },
  "language_info": {
   "codemirror_mode": {
    "name": "ipython",
    "version": 3
   },
   "file_extension": ".py",
   "mimetype": "text/x-python",
   "name": "python",
   "nbconvert_exporter": "python",
   "pygments_lexer": "ipython3",
   "version": "3.8.12"
  }
 },
 "nbformat": 4,
 "nbformat_minor": 5
}
