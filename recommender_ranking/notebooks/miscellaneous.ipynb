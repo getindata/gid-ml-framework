{
 "cells": [
  {
   "cell_type": "code",
   "execution_count": null,
   "id": "b28dbe8b",
   "metadata": {},
   "outputs": [],
   "source": [
    "class AuthHandler:\n",
    "    \"\"\"\n",
    "    Utils for handling authorization\n",
    "    \"\"\"\n",
    "\n",
    "    log = logging.getLogger(__name__)\n",
    "\n",
    "    def obtain_id_token(self, client_id: str):\n",
    "        \"\"\"\n",
    "        Obtain OAuth2.0 token to be used with HTTPs requests\n",
    "        \"\"\"\n",
    "        # pylint: disable=import-outside-toplevel\n",
    "        from google.auth.exceptions import DefaultCredentialsError\n",
    "        from google.auth.transport.requests import Request\n",
    "        from google.oauth2 import id_token\n",
    "\n",
    "        # pylint enable=import-outside-toplevel\n",
    "\n",
    "        jwt_token = None\n",
    "\n",
    "        if not client_id:\n",
    "            self.log.debug(\n",
    "                \"No IAP_CLIENT_ID provided, skipping custom IAP authentication\"\n",
    "            )\n",
    "            return jwt_token\n",
    "\n",
    "        try:\n",
    "            self.log.debug(\"Attempt to get IAP token for %s\", client_id)\n",
    "            jwt_token = id_token.fetch_id_token(Request(), client_id)\n",
    "            self.log.info(\"Obtained JWT token for IAP proxy authentication.\")\n",
    "        except DefaultCredentialsError:\n",
    "            self.log.warning(\n",
    "                (\n",
    "                    \" Note that this authentication method does not work with default\"\n",
    "                    \" credentials obtained via 'gcloud auth application-default login'\"\n",
    "                    \" command. Refer to documentation on how to configure service account\"\n",
    "                    \" locally\"\n",
    "                    \" (https://cloud.google.com/docs/authentication/production#manually)\"\n",
    "                ),\n",
    "                exc_info=True,\n",
    "            )\n",
    "        except Exception:  # pylint: disable=broad-except\n",
    "            self.log.error(\"Failed to obtain IAP access token.\", exc_info=True)\n",
    "\n",
    "        return jwt_token\n",
    "\n",
    "    def obtain_dex_authservice_session(self, kfp_api):\n",
    "        \"\"\"\n",
    "        Obtain token for DEX-protected service\n",
    "        \"\"\"\n",
    "        if DEX_USERNAME not in os.environ or DEX_PASSWORD not in os.environ:\n",
    "            self.log.debug(\"Skipping DEX authentication due to missing env variables\")\n",
    "            return None\n",
    "\n",
    "        session = requests.Session()\n",
    "        response = session.get(kfp_api)\n",
    "        form_relative_url = re.search(\n",
    "            '/dex/auth/local\\\\?req=([^\"]*)', response.text\n",
    "        ).group(0)\n",
    "\n",
    "        kfp_url_parts = urlsplit(kfp_api)\n",
    "        form_absolute_url = urlunsplit(\n",
    "            [\n",
    "                kfp_url_parts.scheme,\n",
    "                kfp_url_parts.netloc,\n",
    "                form_relative_url,\n",
    "                None,\n",
    "                None,\n",
    "            ]\n",
    "        )\n",
    "\n",
    "        headers = {\n",
    "            \"Content-Type\": \"application/x-www-form-urlencoded\",\n",
    "        }\n",
    "        data = {\n",
    "            \"login\": os.environ[DEX_USERNAME],\n",
    "            \"password\": os.environ[DEX_PASSWORD],\n",
    "        }\n",
    "\n",
    "        session.post(form_absolute_url, headers=headers, data=data)\n",
    "        return session.cookies.get_dict()[\"authservice_session\"]\n",
    "\n",
    "\n",
    "class MLFlowGoogleOAuthCredentialsProvider(DynamicConfigProvider):\n",
    "    \"\"\"\n",
    "    Uses Google OAuth to generate MLFLOW_TRACKING_TOKEN\n",
    "    \"\"\"\n",
    "\n",
    "    def __init__(self, config: PluginConfig, *args, **kwargs):\n",
    "        super().__init__(config, *args, **kwargs)\n",
    "        self.client_id = kwargs[\"client_id\"]\n",
    "\n",
    "    @property\n",
    "    def target_config_file(self) -> str:\n",
    "        return \"credentials.yml\"\n",
    "\n",
    "    def generate_config(self) -> dict:\n",
    "        return {\n",
    "            \"gcp_credentials\": {\n",
    "                \"MLFLOW_TRACKING_TOKEN\": AuthHandler().obtain_id_token(self.client_id)\n",
    "            }\n",
    "        }\n",
    "\n",
    "\n",
    "class MLFlowGoogleIAMCredentialsProvider(DynamicConfigProvider):\n",
    "    \"\"\"\n",
    "    Uses Google IAM API to generate MLFLOW_TRACKING_TOKEN\n",
    "    \"\"\"\n",
    "\n",
    "    def __init__(self, config: PluginConfig, *args, **kwargs):\n",
    "        super().__init__(config, *args, **kwargs)\n",
    "        self.client_id = kwargs[\"client_id\"]\n",
    "        self.service_account = kwargs[\"service_account\"]\n",
    "\n",
    "    @property\n",
    "    def target_config_file(self) -> str:\n",
    "        return \"credentials.yml\"\n",
    "\n",
    "    def generate_config(self) -> dict:\n",
    "        return {\n",
    "            \"gcp_credentials\": {\"MLFLOW_TRACKING_TOKEN\": self._obtain_credentials()}\n",
    "        }\n",
    "\n",
    "    def _obtain_credentials(self):\n",
    "        from google.cloud import iam_credentials\n",
    "\n",
    "        client = iam_credentials.IAMCredentialsClient()\n",
    "        return client.generate_id_token(\n",
    "            name=f\"projects/-/serviceAccounts/{self.service_account}\",\n",
    "            audience=self.client_id,\n",
    "            include_email=True,\n",
    "        ).token"
   ]
  },
  {
   "cell_type": "code",
   "execution_count": null,
   "id": "48f55349",
   "metadata": {},
   "outputs": [],
   "source": [
    "import logging\n",
    "import os\n",
    "import re\n",
    "from urllib.parse import urlsplit, urlunsplit\n",
    "\n",
    "import requests\n",
    "\n",
    "from kedro_vertexai.config import PluginConfig\n",
    "from kedro_vertexai.dynamic_config import DynamicConfigProvider"
   ]
  },
  {
   "cell_type": "code",
   "execution_count": null,
   "id": "e42c97bf",
   "metadata": {},
   "outputs": [],
   "source": [
    "aa = AuthHandler()"
   ]
  },
  {
   "cell_type": "code",
   "execution_count": null,
   "id": "3c2b4457",
   "metadata": {},
   "outputs": [],
   "source": [
    "aa.obtain_id_token('iap-accessor@gid-advanced-analytics-infra.iam.gserviceaccount.com')"
   ]
  },
  {
   "cell_type": "code",
   "execution_count": null,
   "id": "403f49a9",
   "metadata": {},
   "outputs": [],
   "source": [
    "from google.cloud import iam_credentials"
   ]
  },
  {
   "cell_type": "code",
   "execution_count": null,
   "id": "86307b3b",
   "metadata": {},
   "outputs": [],
   "source": [
    "client = iam_credentials.IAMCredentialsClient()"
   ]
  },
  {
   "cell_type": "code",
   "execution_count": null,
   "id": "329c846a",
   "metadata": {},
   "outputs": [],
   "source": [
    "client.generate_id_token(\n",
    "            name=f\"projects/-/serviceAccounts/iap-accessor@gid-advanced-analytics-infra.iam.gserviceaccount.com\",\n",
    "            audience=\"260364966542-721p48q045h4o2hmsmg5dl0gksm7udiu.apps.googleusercontent.com\",\n",
    "            include_email=True,\n",
    ").token\n"
   ]
  },
  {
   "cell_type": "code",
   "execution_count": null,
   "id": "e7831d4a",
   "metadata": {},
   "outputs": [],
   "source": []
  },
  {
   "cell_type": "code",
   "execution_count": null,
   "id": "29c04cff",
   "metadata": {},
   "outputs": [],
   "source": [
    "\n",
    "        \n",
    "        return client.generate_id_token(\n",
    "            name=f\"projects/-/serviceAccounts/{self.service_account}\",\n",
    "            audience=self.client_id,\n",
    "            include_email=True,\n",
    "        ).token"
   ]
  },
  {
   "cell_type": "code",
   "execution_count": null,
   "id": "897cec01",
   "metadata": {},
   "outputs": [],
   "source": []
  },
  {
   "cell_type": "code",
   "execution_count": null,
   "id": "f91572a0",
   "metadata": {},
   "outputs": [],
   "source": [
    "import kedro_mlflow"
   ]
  },
  {
   "cell_type": "code",
   "execution_count": null,
   "id": "a2237fed",
   "metadata": {},
   "outputs": [],
   "source": [
    "dir(kedro_mlflow.config.kedro_mlflow_config)"
   ]
  },
  {
   "cell_type": "code",
   "execution_count": null,
   "id": "9a9917d9",
   "metadata": {},
   "outputs": [],
   "source": [
    "print(kedro_mlflow.config.kedro_mlflow_config.MlflowParamsOptions.Config)"
   ]
  },
  {
   "cell_type": "code",
   "execution_count": null,
   "id": "090793f5",
   "metadata": {},
   "outputs": [],
   "source": [
    "dir(kedro_mlflow.config.kedro_mlflow_config.DictParamsOptions)"
   ]
  },
  {
   "cell_type": "code",
   "execution_count": null,
   "id": "fdcc7853",
   "metadata": {},
   "outputs": [],
   "source": [
    "import mlflow"
   ]
  },
  {
   "cell_type": "code",
   "execution_count": null,
   "id": "be1aec6e",
   "metadata": {},
   "outputs": [],
   "source": [
    "from kedro.framework.context import KedroContext"
   ]
  },
  {
   "cell_type": "code",
   "execution_count": null,
   "id": "cdafc7aa",
   "metadata": {},
   "outputs": [],
   "source": [
    "dir(KedroContext)"
   ]
  },
  {
   "cell_type": "code",
   "execution_count": null,
   "id": "35e93885",
   "metadata": {},
   "outputs": [],
   "source": [
    "KedroContext.__dict__"
   ]
  },
  {
   "cell_type": "code",
   "execution_count": null,
   "id": "ad9ba50b",
   "metadata": {},
   "outputs": [],
   "source": [
    "KedroContext._get_catalog()"
   ]
  },
  {
   "cell_type": "code",
   "execution_count": null,
   "id": "878090b6",
   "metadata": {},
   "outputs": [],
   "source": [
    "KedroContext[\"context_helper\"].context"
   ]
  },
  {
   "cell_type": "code",
   "execution_count": null,
   "id": "767d5f9d",
   "metadata": {},
   "outputs": [],
   "source": []
  },
  {
   "cell_type": "code",
   "execution_count": null,
   "id": "ac567f2e",
   "metadata": {},
   "outputs": [],
   "source": []
  },
  {
   "cell_type": "code",
   "execution_count": null,
   "id": "b3c109b4",
   "metadata": {},
   "outputs": [],
   "source": [
    "import pandas as pd"
   ]
  },
  {
   "cell_type": "code",
   "execution_count": null,
   "id": "afd19639",
   "metadata": {},
   "outputs": [],
   "source": [
    "pd.read_parquet('gs://gid-ml-framework-hm-data/03_primary/train_candidates.pq')"
   ]
  },
  {
   "cell_type": "code",
   "execution_count": null,
   "id": "91afe3f7",
   "metadata": {},
   "outputs": [],
   "source": []
  },
  {
   "cell_type": "code",
   "execution_count": null,
   "id": "3d7ae9be",
   "metadata": {},
   "outputs": [],
   "source": []
  },
  {
   "cell_type": "code",
   "execution_count": null,
   "id": "73e7430b",
   "metadata": {},
   "outputs": [],
   "source": []
  },
  {
   "cell_type": "code",
   "execution_count": null,
   "id": "d42c786e",
   "metadata": {},
   "outputs": [],
   "source": [
    "import pandas as pd"
   ]
  },
  {
   "cell_type": "code",
   "execution_count": null,
   "id": "aae7db34",
   "metadata": {},
   "outputs": [],
   "source": [
    "transactions = pd.read_csv('gs://gid-ml-framework-hm-data/01_raw/transactions_train.csv', dtype={'article_id': str})"
   ]
  },
  {
   "cell_type": "code",
   "execution_count": null,
   "id": "40e1dbc5",
   "metadata": {},
   "outputs": [],
   "source": [
    "transactions.shape"
   ]
  },
  {
   "cell_type": "code",
   "execution_count": null,
   "id": "7c617afc",
   "metadata": {},
   "outputs": [],
   "source": [
    "transactions['t_dat'].min(), transactions['t_dat'].max()"
   ]
  },
  {
   "cell_type": "code",
   "execution_count": null,
   "id": "2ad0adb6",
   "metadata": {},
   "outputs": [],
   "source": [
    "transactions['t_dat'] = pd.to_datetime(transactions['t_dat'])"
   ]
  },
  {
   "cell_type": "code",
   "execution_count": null,
   "id": "16fa1e15",
   "metadata": {},
   "outputs": [],
   "source": [
    "max_date = transactions['t_dat'].max()"
   ]
  },
  {
   "cell_type": "code",
   "execution_count": null,
   "id": "4c9e3ebb",
   "metadata": {},
   "outputs": [],
   "source": [
    "start_train_date = max_date - pd.Timedelta(weeks=6)"
   ]
  },
  {
   "cell_type": "code",
   "execution_count": null,
   "id": "9c815600",
   "metadata": {},
   "outputs": [],
   "source": [
    "start_train_date"
   ]
  },
  {
   "cell_type": "code",
   "execution_count": null,
   "id": "06bc39a6",
   "metadata": {},
   "outputs": [],
   "source": [
    "transactions = transactions[(transactions['t_dat']>=start_train_date)]"
   ]
  },
  {
   "cell_type": "code",
   "execution_count": null,
   "id": "6e31f0ef",
   "metadata": {},
   "outputs": [],
   "source": [
    "transactions['t_dat'].min(), transactions['t_dat'].max()"
   ]
  },
  {
   "cell_type": "code",
   "execution_count": null,
   "id": "4fe3617f",
   "metadata": {},
   "outputs": [],
   "source": [
    "transactions.shape"
   ]
  },
  {
   "cell_type": "code",
   "execution_count": null,
   "id": "ae34f7ee",
   "metadata": {},
   "outputs": [],
   "source": [
    "transactions.to_csv('gs://gid-ml-framework-hm-data/01_raw/train_transactions_cut.csv')"
   ]
  },
  {
   "cell_type": "code",
   "execution_count": null,
   "id": "11641a6b",
   "metadata": {},
   "outputs": [],
   "source": []
  },
  {
   "cell_type": "code",
   "execution_count": null,
   "id": "95ca6676",
   "metadata": {},
   "outputs": [],
   "source": []
  },
  {
   "cell_type": "code",
   "execution_count": null,
   "id": "973063fe",
   "metadata": {},
   "outputs": [],
   "source": [
    "from pyarrow.parquet import ParquetFile"
   ]
  },
  {
   "cell_type": "code",
   "execution_count": null,
   "id": "3315e07d",
   "metadata": {},
   "outputs": [],
   "source": [
    "ParquetFile('/Users/mmadej/Downloads/02_intermediate_final_candidates.pq').__dir__()"
   ]
  },
  {
   "cell_type": "code",
   "execution_count": null,
   "id": "749e1bed",
   "metadata": {},
   "outputs": [],
   "source": [
    "ParquetFile('/Users/mmadej/Downloads/02_intermediate_final_candidates.pq').schema"
   ]
  },
  {
   "cell_type": "code",
   "execution_count": null,
   "id": "5c5ceae3",
   "metadata": {},
   "outputs": [],
   "source": []
  },
  {
   "cell_type": "code",
   "execution_count": null,
   "id": "bd688399",
   "metadata": {},
   "outputs": [],
   "source": []
  },
  {
   "cell_type": "code",
   "execution_count": null,
   "id": "31bf7256",
   "metadata": {},
   "outputs": [],
   "source": []
  },
  {
   "cell_type": "code",
   "execution_count": null,
   "id": "b2a25a3e",
   "metadata": {},
   "outputs": [],
   "source": [
    "import pandas as pd"
   ]
  },
  {
   "cell_type": "code",
   "execution_count": null,
   "id": "b137bbea",
   "metadata": {},
   "outputs": [],
   "source": [
    "import numpy as np"
   ]
  },
  {
   "cell_type": "code",
   "execution_count": null,
   "id": "6c1b26bb",
   "metadata": {},
   "outputs": [],
   "source": [
    "df = pd.read_csv('~/Downloads/message.csv')"
   ]
  },
  {
   "cell_type": "code",
   "execution_count": null,
   "id": "497f851f",
   "metadata": {},
   "outputs": [],
   "source": [
    "from sklearn.linear_model import LinearRegression"
   ]
  },
  {
   "cell_type": "code",
   "execution_count": null,
   "id": "0d48a3a5",
   "metadata": {},
   "outputs": [],
   "source": [
    "reg = LinearRegression(fit_intercept=False).fit(df.x.values.reshape(-1, 1), df.y.values)"
   ]
  },
  {
   "cell_type": "code",
   "execution_count": null,
   "id": "04fd22ee",
   "metadata": {},
   "outputs": [],
   "source": [
    "reg.coef_"
   ]
  },
  {
   "cell_type": "code",
   "execution_count": null,
   "id": "24c610e4",
   "metadata": {},
   "outputs": [],
   "source": [
    "reg.__dir__()"
   ]
  },
  {
   "cell_type": "code",
   "execution_count": null,
   "id": "fb500291",
   "metadata": {},
   "outputs": [],
   "source": [
    "df.y.dtype"
   ]
  },
  {
   "cell_type": "code",
   "execution_count": null,
   "id": "b1d8f777",
   "metadata": {},
   "outputs": [],
   "source": [
    "reg\n"
   ]
  },
  {
   "cell_type": "code",
   "execution_count": null,
   "id": "e10e4da8",
   "metadata": {},
   "outputs": [],
   "source": [
    "df.describe()"
   ]
  },
  {
   "cell_type": "code",
   "execution_count": null,
   "id": "75044698",
   "metadata": {},
   "outputs": [],
   "source": [
    "df.head(25)"
   ]
  },
  {
   "cell_type": "code",
   "execution_count": null,
   "id": "8d0e63d8",
   "metadata": {},
   "outputs": [],
   "source": [
    "df['x_lag_1'] = df.x.shift()"
   ]
  },
  {
   "cell_type": "code",
   "execution_count": null,
   "id": "da1a3011",
   "metadata": {},
   "outputs": [],
   "source": [
    "df['y_lag_1'] = df.y.shift()"
   ]
  },
  {
   "cell_type": "code",
   "execution_count": null,
   "id": "ce8ea7b0",
   "metadata": {},
   "outputs": [],
   "source": [
    "df['z'] = df.x+df.y"
   ]
  },
  {
   "cell_type": "code",
   "execution_count": null,
   "id": "971fd5c2",
   "metadata": {},
   "outputs": [],
   "source": [
    "(df.x - df.x_lag_1).plot()"
   ]
  },
  {
   "cell_type": "code",
   "execution_count": null,
   "id": "9d1d4c61",
   "metadata": {},
   "outputs": [],
   "source": [
    "(df.y - df.y_lag_1).plot()"
   ]
  },
  {
   "cell_type": "code",
   "execution_count": null,
   "id": "98a2647a",
   "metadata": {},
   "outputs": [],
   "source": [
    "df.x.plot()"
   ]
  },
  {
   "cell_type": "code",
   "execution_count": null,
   "id": "535b1797",
   "metadata": {},
   "outputs": [],
   "source": [
    "df.y.plot()"
   ]
  },
  {
   "cell_type": "code",
   "execution_count": null,
   "id": "d50b5c4c",
   "metadata": {},
   "outputs": [],
   "source": [
    "(df.x+df.y).plot()"
   ]
  },
  {
   "cell_type": "code",
   "execution_count": null,
   "id": "a0fd9914",
   "metadata": {},
   "outputs": [],
   "source": [
    "(df.y-df.x).plot()"
   ]
  },
  {
   "cell_type": "code",
   "execution_count": null,
   "id": "98a2597a",
   "metadata": {},
   "outputs": [],
   "source": [
    "(df.x-df.y).plot()"
   ]
  },
  {
   "cell_type": "code",
   "execution_count": null,
   "id": "2b783ac5",
   "metadata": {},
   "outputs": [],
   "source": []
  },
  {
   "cell_type": "code",
   "execution_count": null,
   "id": "6e944909",
   "metadata": {},
   "outputs": [],
   "source": [
    "df"
   ]
  },
  {
   "cell_type": "code",
   "execution_count": null,
   "id": "4b10145b",
   "metadata": {},
   "outputs": [],
   "source": [
    "df['x_delta'] = df.x - df.x_lag_1\n",
    "df['y_delta'] = df.y - df.y_lag_1"
   ]
  },
  {
   "cell_type": "code",
   "execution_count": null,
   "id": "087d0384",
   "metadata": {},
   "outputs": [],
   "source": [
    "df"
   ]
  },
  {
   "cell_type": "code",
   "execution_count": null,
   "id": "340bc39f",
   "metadata": {},
   "outputs": [],
   "source": [
    "df[df.x==df.y]"
   ]
  },
  {
   "cell_type": "code",
   "execution_count": null,
   "id": "30fac3e3",
   "metadata": {},
   "outputs": [],
   "source": [
    "df['x_sq'] = df.x*df.x\n",
    "df['y_sq'] = df.y*df.y"
   ]
  },
  {
   "cell_type": "code",
   "execution_count": null,
   "id": "635c7925",
   "metadata": {},
   "outputs": [],
   "source": [
    "df.describe()"
   ]
  },
  {
   "cell_type": "code",
   "execution_count": null,
   "id": "8296d7f4",
   "metadata": {},
   "outputs": [],
   "source": []
  },
  {
   "cell_type": "code",
   "execution_count": null,
   "id": "ee265cc4",
   "metadata": {},
   "outputs": [],
   "source": []
  },
  {
   "cell_type": "code",
   "execution_count": null,
   "id": "e87b81c8",
   "metadata": {},
   "outputs": [],
   "source": [
    "from gid_ml_framework.image_embeddings.model.pl_autoencoder_module import LitAutoEncoder"
   ]
  },
  {
   "cell_type": "code",
   "execution_count": null,
   "id": "e69e2f5e",
   "metadata": {},
   "outputs": [],
   "source": [
    "from pytorch_lightning.utilities.parsing import is_picklable"
   ]
  },
  {
   "cell_type": "code",
   "execution_count": null,
   "id": "b3758150",
   "metadata": {},
   "outputs": [],
   "source": [
    "from gid_ml_framework.image_embeddings.model.pl_encoders import SimpleEncoder\n",
    "from gid_ml_framework.image_embeddings.model.pl_decoders import SimpleDecoder"
   ]
  },
  {
   "cell_type": "code",
   "execution_count": null,
   "id": "cab994b5",
   "metadata": {},
   "outputs": [],
   "source": [
    "aa = LitAutoEncoder(encoder=SimpleEncoder, decoder=SimpleDecoder)"
   ]
  },
  {
   "cell_type": "code",
   "execution_count": null,
   "id": "ef0d62ec",
   "metadata": {},
   "outputs": [],
   "source": [
    "aa"
   ]
  },
  {
   "cell_type": "code",
   "execution_count": null,
   "id": "bee1c2ce",
   "metadata": {},
   "outputs": [],
   "source": [
    "is_picklable(aa)"
   ]
  },
  {
   "cell_type": "code",
   "execution_count": null,
   "id": "e2d1640e",
   "metadata": {},
   "outputs": [],
   "source": [
    "LitAutoEncoder"
   ]
  },
  {
   "cell_type": "code",
   "execution_count": null,
   "id": "9f799ed0",
   "metadata": {},
   "outputs": [],
   "source": []
  },
  {
   "cell_type": "code",
   "execution_count": null,
   "id": "dff960d8",
   "metadata": {},
   "outputs": [],
   "source": []
  },
  {
   "cell_type": "markdown",
   "id": "dc7914c3",
   "metadata": {},
   "source": [
    "### pyproject.toml to requirements.txt"
   ]
  },
  {
   "cell_type": "code",
   "execution_count": null,
   "id": "27165c9a",
   "metadata": {},
   "outputs": [],
   "source": [
    "import pathlib\n",
    "import os"
   ]
  },
  {
   "cell_type": "code",
   "execution_count": null,
   "id": "0a69eb77",
   "metadata": {},
   "outputs": [],
   "source": [
    "os.chdir('..')"
   ]
  },
  {
   "cell_type": "code",
   "execution_count": null,
   "id": "f275abcf",
   "metadata": {},
   "outputs": [],
   "source": [
    "pathlib.Path.cwd()"
   ]
  },
  {
   "cell_type": "code",
   "execution_count": null,
   "id": "579c5ef2",
   "metadata": {},
   "outputs": [],
   "source": [
    "import tomli"
   ]
  },
  {
   "cell_type": "code",
   "execution_count": null,
   "id": "f930a314",
   "metadata": {},
   "outputs": [],
   "source": [
    "with open(\"pyproject.toml\", mode=\"rb\") as fp:\n",
    "    config = tomli.load(fp)"
   ]
  },
  {
   "cell_type": "code",
   "execution_count": null,
   "id": "318ec609",
   "metadata": {},
   "outputs": [],
   "source": [
    "config"
   ]
  },
  {
   "cell_type": "code",
   "execution_count": null,
   "id": "69e11d85",
   "metadata": {},
   "outputs": [],
   "source": [
    "requires = config[\"tool\"][\"poetry\"][\"dependencies\"]"
   ]
  },
  {
   "cell_type": "code",
   "execution_count": null,
   "id": "458bab0d",
   "metadata": {},
   "outputs": [],
   "source": [
    "requires"
   ]
  },
  {
   "cell_type": "code",
   "execution_count": null,
   "id": "f11b1a56",
   "metadata": {},
   "outputs": [],
   "source": [
    "def _get_version(item):\n",
    "    if isinstance(item, dict):\n",
    "        return item.get('version')\n",
    "    else:\n",
    "        return item"
   ]
  },
  {
   "cell_type": "code",
   "execution_count": null,
   "id": "98d0ceac",
   "metadata": {},
   "outputs": [],
   "source": [
    "requires = [pkg_name+_get_version(pkg_version) for pkg_name, pkg_version in requires.items()]"
   ]
  },
  {
   "cell_type": "code",
   "execution_count": null,
   "id": "0b7ea7f3",
   "metadata": {},
   "outputs": [],
   "source": [
    "requires"
   ]
  },
  {
   "cell_type": "code",
   "execution_count": null,
   "id": "8b3ea4e1",
   "metadata": {},
   "outputs": [],
   "source": [
    "    print(config)\n",
    "    \n",
    "    print(requires)\n",
    "    requires = [pkg_name+pkg_version for pkg_name, pkg_version in requires.items()]"
   ]
  }
 ],
 "metadata": {
  "kernelspec": {
   "display_name": "Kedro (gid_ml_framework)",
   "language": "python",
   "name": "kedro_gid_ml_framework"
  },
  "language_info": {
   "codemirror_mode": {
    "name": "ipython",
    "version": 3
   },
   "file_extension": ".py",
   "mimetype": "text/x-python",
   "name": "python",
   "nbconvert_exporter": "python",
   "pygments_lexer": "ipython3",
   "version": "3.8.12"
  }
 },
 "nbformat": 4,
 "nbformat_minor": 5
}
