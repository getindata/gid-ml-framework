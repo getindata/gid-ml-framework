{
 "cells": [
  {
   "cell_type": "code",
   "execution_count": null,
   "id": "c4f4350e",
   "metadata": {},
   "outputs": [],
   "source": [
    "%load_ext kedro.extras.extensions.ipython"
   ]
  },
  {
   "cell_type": "code",
   "execution_count": null,
   "id": "566722e2",
   "metadata": {},
   "outputs": [],
   "source": [
    "%reload_kedro"
   ]
  },
  {
   "cell_type": "code",
   "execution_count": null,
   "id": "bc7d3371",
   "metadata": {},
   "outputs": [],
   "source": [
    "catalog.list()"
   ]
  },
  {
   "cell_type": "code",
   "execution_count": null,
   "id": "b5675f20",
   "metadata": {},
   "outputs": [],
   "source": [
    "context.catalog.load('params:image_resizer.output_size')"
   ]
  },
  {
   "cell_type": "code",
   "execution_count": null,
   "id": "82478ee5",
   "metadata": {},
   "outputs": [],
   "source": [
    "context.catalog.load('params:image_resizer.method')"
   ]
  },
  {
   "cell_type": "code",
   "execution_count": null,
   "id": "cf002a32",
   "metadata": {},
   "outputs": [],
   "source": [
    "context.catalog.load('input_images')"
   ]
  },
  {
   "cell_type": "code",
   "execution_count": null,
   "id": "1d03492c",
   "metadata": {},
   "outputs": [],
   "source": [
    "from pathlib import Path"
   ]
  },
  {
   "cell_type": "code",
   "execution_count": null,
   "id": "a4d4875c",
   "metadata": {},
   "outputs": [],
   "source": [
    "next(Path('../data/01_raw/images_128_128/').glob('*.jpg'))"
   ]
  },
  {
   "cell_type": "code",
   "execution_count": null,
   "id": "94ffa5f4",
   "metadata": {},
   "outputs": [],
   "source": [
    "context.catalog.load('resized_images')"
   ]
  },
  {
   "cell_type": "code",
   "execution_count": null,
   "id": "46d6ff3e",
   "metadata": {},
   "outputs": [],
   "source": []
  },
  {
   "cell_type": "code",
   "execution_count": null,
   "id": "39798b15",
   "metadata": {},
   "outputs": [],
   "source": []
  },
  {
   "cell_type": "code",
   "execution_count": null,
   "id": "d30dff6c",
   "metadata": {},
   "outputs": [],
   "source": [
    "from gid_ml_framework.extras.datasets import DirWithImagesDataSet"
   ]
  },
  {
   "cell_type": "markdown",
   "id": "822d2e79",
   "metadata": {},
   "source": [
    "### loading"
   ]
  },
  {
   "cell_type": "code",
   "execution_count": null,
   "id": "275e9cd4",
   "metadata": {},
   "outputs": [],
   "source": [
    "my_dataset = DirWithImagesDataSet('../data/01_raw/images/010/')"
   ]
  },
  {
   "cell_type": "code",
   "execution_count": null,
   "id": "760e9afe",
   "metadata": {},
   "outputs": [],
   "source": [
    "my_data = my_dataset.load()"
   ]
  },
  {
   "cell_type": "code",
   "execution_count": null,
   "id": "1e6b6af9",
   "metadata": {},
   "outputs": [],
   "source": [
    "new_dict = dict()"
   ]
  },
  {
   "cell_type": "code",
   "execution_count": null,
   "id": "fd94986b",
   "metadata": {},
   "outputs": [],
   "source": [
    "for i, (key, value) in enumerate(my_data.items()):\n",
    "    if i < 2:\n",
    "        print(i)\n",
    "        print(key)\n",
    "        new_dict[key] = value"
   ]
  },
  {
   "cell_type": "code",
   "execution_count": null,
   "id": "9da6e8d5",
   "metadata": {},
   "outputs": [],
   "source": [
    "len(new_dict)"
   ]
  },
  {
   "cell_type": "markdown",
   "id": "a4891b8b",
   "metadata": {},
   "source": [
    "### saving"
   ]
  },
  {
   "cell_type": "code",
   "execution_count": null,
   "id": "12405dbd",
   "metadata": {},
   "outputs": [],
   "source": [
    "saving_dataset = DirWithImagesDataSet('../data/02_intermediate/')"
   ]
  },
  {
   "cell_type": "code",
   "execution_count": null,
   "id": "5a07db7d",
   "metadata": {},
   "outputs": [],
   "source": [
    "saving_dataset._save(data=new_dict, folder_name='test_images', img_extension='jpg')"
   ]
  },
  {
   "cell_type": "code",
   "execution_count": null,
   "id": "f3bbb5c3",
   "metadata": {},
   "outputs": [],
   "source": []
  },
  {
   "cell_type": "code",
   "execution_count": null,
   "id": "1104f284",
   "metadata": {},
   "outputs": [],
   "source": []
  },
  {
   "cell_type": "code",
   "execution_count": null,
   "id": "09cf71ed",
   "metadata": {},
   "outputs": [],
   "source": [
    "from PIL import Image"
   ]
  },
  {
   "cell_type": "code",
   "execution_count": null,
   "id": "2402ff82",
   "metadata": {},
   "outputs": [],
   "source": [
    "Image.open('../data/01_raw/images/010/0108775015.jpg').convert('RGB')"
   ]
  },
  {
   "cell_type": "code",
   "execution_count": null,
   "id": "db368682",
   "metadata": {},
   "outputs": [],
   "source": [
    "# https://uvadlc-notebooks.readthedocs.io/en/latest/tutorial_notebooks/tutorial9/AE_CIFAR10.html#Building-the-autoencoder"
   ]
  },
  {
   "cell_type": "code",
   "execution_count": null,
   "id": "d6effade",
   "metadata": {},
   "outputs": [],
   "source": [
    "catalog.list()"
   ]
  },
  {
   "cell_type": "code",
   "execution_count": null,
   "id": "595fab46",
   "metadata": {},
   "outputs": [],
   "source": [
    "my_dict = context.catalog.load('parameters')['input']"
   ]
  },
  {
   "cell_type": "code",
   "execution_count": null,
   "id": "c0eba059",
   "metadata": {},
   "outputs": [],
   "source": [
    "img_path, suffix = my_dict['image_path'], my_dict['suffix']"
   ]
  },
  {
   "cell_type": "code",
   "execution_count": null,
   "id": "58a49bbf",
   "metadata": {},
   "outputs": [],
   "source": [
    "img_path, suffix"
   ]
  },
  {
   "cell_type": "code",
   "execution_count": null,
   "id": "3b31b1a6",
   "metadata": {},
   "outputs": [],
   "source": [
    "import os\n",
    "from torch import optim, nn, utils, Tensor\n",
    "import pytorch_lightning as pl\n",
    "from torch.utils.data import DataLoader, Dataset"
   ]
  },
  {
   "cell_type": "code",
   "execution_count": null,
   "id": "e74ad4b8",
   "metadata": {},
   "outputs": [],
   "source": [
    "import os\n",
    "from pathlib import Path\n",
    "from PIL import Image\n",
    "from torchvision import transforms"
   ]
  },
  {
   "cell_type": "code",
   "execution_count": null,
   "id": "c7a26dbb",
   "metadata": {},
   "outputs": [],
   "source": [
    "class HMDataset(Dataset):\n",
    "    \n",
    "    def __init__(self, img_dir, transform=None):\n",
    "        self.img_dir = Path(img_dir)\n",
    "        self.img_names = self._get_img_names()\n",
    "        self.transform = transform\n",
    "        \n",
    "    def _get_img_names(self):\n",
    "        return [img_name.name for img_name in self.img_dir.iterdir()]\n",
    "\n",
    "    def __getitem__(self, idx):\n",
    "        img_path = self.img_dir / self.img_names[idx]\n",
    "        img = Image.open(img_path)\n",
    "        \n",
    "        if self.transform is not None:\n",
    "            img = self.transform(img)\n",
    "        \n",
    "        article_id = img_path.name\n",
    "        return img, article_id\n",
    "\n",
    "    def __len__(self):\n",
    "        return len(self.img_names)"
   ]
  },
  {
   "cell_type": "code",
   "execution_count": null,
   "id": "d98be745",
   "metadata": {},
   "outputs": [],
   "source": [
    "dataset = HMDataset('/Users/mmadej/Desktop/Projects/gid-ml-framework/data/01_raw/images_128_128/', transform=transforms.ToTensor())"
   ]
  },
  {
   "cell_type": "code",
   "execution_count": null,
   "id": "c14ab631",
   "metadata": {},
   "outputs": [],
   "source": [
    "dataset"
   ]
  },
  {
   "cell_type": "code",
   "execution_count": null,
   "id": "2690ff30",
   "metadata": {},
   "outputs": [],
   "source": [
    "dataloader = DataLoader(dataset=dataset,\n",
    "                          batch_size=32,\n",
    "                          drop_last=True,\n",
    "                          shuffle=True,\n",
    "                          num_workers=0)"
   ]
  },
  {
   "cell_type": "code",
   "execution_count": null,
   "id": "54cb70e4",
   "metadata": {},
   "outputs": [],
   "source": [
    "class Encoder(nn.Module):\n",
    "\n",
    "    def __init__(self,\n",
    "                 num_input_channels : int,\n",
    "                 base_channel_size : int,\n",
    "                 latent_dim : int,\n",
    "                 act_fn : object = nn.GELU):\n",
    "        \"\"\"\n",
    "        Inputs:\n",
    "            - num_input_channels : Number of input channels of the image. For CIFAR, this parameter is 3\n",
    "            - base_channel_size : Number of channels we use in the first convolutional layers. Deeper layers might use a duplicate of it.\n",
    "            - latent_dim : Dimensionality of latent representation z\n",
    "            - act_fn : Activation function used throughout the encoder network\n",
    "        \"\"\"\n",
    "        super().__init__()\n",
    "        c_hid = base_channel_size\n",
    "        self.net = nn.Sequential(\n",
    "            nn.Conv2d(num_input_channels, c_hid, kernel_size=3, padding=1, stride=2), # 32x32 => 16x16\n",
    "            act_fn(),\n",
    "            nn.Conv2d(c_hid, c_hid, kernel_size=3, padding=1),\n",
    "            act_fn(),\n",
    "            nn.Conv2d(c_hid, 2*c_hid, kernel_size=3, padding=1, stride=2), # 16x16 => 8x8\n",
    "            act_fn(),\n",
    "            nn.Conv2d(2*c_hid, 2*c_hid, kernel_size=3, padding=1),\n",
    "            act_fn(),\n",
    "            nn.Conv2d(2*c_hid, 2*c_hid, kernel_size=3, padding=1, stride=2), # 8x8 => 4x4\n",
    "            act_fn(),\n",
    "            nn.Flatten(), # Image grid to single feature vector\n",
    "            nn.Linear(2*16*c_hid, latent_dim)\n",
    "        )\n",
    "\n",
    "    def forward(self, x):\n",
    "        return self.net(x)"
   ]
  },
  {
   "cell_type": "code",
   "execution_count": null,
   "id": "37a98f99",
   "metadata": {},
   "outputs": [],
   "source": [
    "class Decoder(nn.Module):\n",
    "\n",
    "    def __init__(self,\n",
    "                 num_input_channels : int,\n",
    "                 base_channel_size : int,\n",
    "                 latent_dim : int,\n",
    "                 act_fn : object = nn.GELU):\n",
    "        \"\"\"\n",
    "        Inputs:\n",
    "            - num_input_channels : Number of channels of the image to reconstruct. For CIFAR, this parameter is 3\n",
    "            - base_channel_size : Number of channels we use in the last convolutional layers. Early layers might use a duplicate of it.\n",
    "            - latent_dim : Dimensionality of latent representation z\n",
    "            - act_fn : Activation function used throughout the decoder network\n",
    "        \"\"\"\n",
    "        super().__init__()\n",
    "        c_hid = base_channel_size\n",
    "        self.linear = nn.Sequential(\n",
    "            nn.Linear(latent_dim, 2*16*c_hid),\n",
    "            act_fn()\n",
    "        )\n",
    "        self.net = nn.Sequential(\n",
    "            nn.ConvTranspose2d(2*c_hid, 2*c_hid, kernel_size=3, output_padding=1, padding=1, stride=2), # 4x4 => 8x8\n",
    "            act_fn(),\n",
    "            nn.Conv2d(2*c_hid, 2*c_hid, kernel_size=3, padding=1),\n",
    "            act_fn(),\n",
    "            nn.ConvTranspose2d(2*c_hid, c_hid, kernel_size=3, output_padding=1, padding=1, stride=2), # 8x8 => 16x16\n",
    "            act_fn(),\n",
    "            nn.Conv2d(c_hid, c_hid, kernel_size=3, padding=1),\n",
    "            act_fn(),\n",
    "            nn.ConvTranspose2d(c_hid, num_input_channels, kernel_size=3, output_padding=1, padding=1, stride=2), # 16x16 => 32x32\n",
    "            nn.Tanh() # The input images is scaled between -1 and 1, hence the output has to be bounded as well\n",
    "        )\n",
    "\n",
    "    def forward(self, x):\n",
    "        x = self.linear(x)\n",
    "        x = x.reshape(x.shape[0], -1, 4, 4)\n",
    "        x = self.net(x)\n",
    "        return x"
   ]
  },
  {
   "cell_type": "code",
   "execution_count": null,
   "id": "7c72a065",
   "metadata": {},
   "outputs": [],
   "source": [
    "class LitAutoEncoder(pl.LightningModule):\n",
    "\n",
    "    def __init__(self,\n",
    "                 base_channel_size: int,\n",
    "                 latent_dim: int,\n",
    "                 encoder_class : object = Encoder,\n",
    "                 decoder_class : object = Decoder,\n",
    "                 num_input_channels: int = 3,\n",
    "                 width: int = 32,\n",
    "                 height: int = 32):\n",
    "        super().__init__()\n",
    "        # Saving hyperparameters of autoencoder\n",
    "        self.save_hyperparameters()\n",
    "        # Creating encoder and decoder\n",
    "        self.encoder = encoder_class(num_input_channels, base_channel_size, latent_dim)\n",
    "        self.decoder = decoder_class(num_input_channels, base_channel_size, latent_dim)\n",
    "        # Example input array needed for visualizing the graph of the network\n",
    "        self.example_input_array = torch.zeros(2, num_input_channels, width, height)\n",
    "\n",
    "    def forward(self, x):\n",
    "        \"\"\"\n",
    "        The forward function takes in an image and returns the reconstructed image\n",
    "        \"\"\"\n",
    "        z = self.encoder(x)\n",
    "        x_hat = self.decoder(z)\n",
    "        return x_hat\n",
    "\n",
    "    def _get_reconstruction_loss(self, batch):\n",
    "        \"\"\"\n",
    "        Given a batch of images, this function returns the reconstruction loss (MSE in our case)\n",
    "        \"\"\"\n",
    "        x, _ = batch # We do not need the labels\n",
    "        x_hat = self.forward(x)\n",
    "        loss = F.mse_loss(x, x_hat, reduction=\"none\")\n",
    "        loss = loss.sum(dim=[1,2,3]).mean(dim=[0])\n",
    "        return loss\n",
    "\n",
    "    def configure_optimizers(self):\n",
    "        optimizer = optim.Adam(self.parameters(), lr=1e-3)\n",
    "        # Using a scheduler is optional but can be helpful.\n",
    "        # The scheduler reduces the LR if the validation performance hasn't improved for the last N epochs\n",
    "        scheduler = optim.lr_scheduler.ReduceLROnPlateau(optimizer,\n",
    "                                                         mode='min',\n",
    "                                                         factor=0.2,\n",
    "                                                         patience=20,\n",
    "                                                         min_lr=5e-5)\n",
    "        return {\"optimizer\": optimizer, \"lr_scheduler\": scheduler, \"monitor\": \"val_loss\"}\n",
    "\n",
    "    def training_step(self, batch, batch_idx):\n",
    "        loss = self._get_reconstruction_loss(batch)\n",
    "        self.log('train_loss', loss)\n",
    "        return loss\n",
    "\n",
    "    def validation_step(self, batch, batch_idx):\n",
    "        loss = self._get_reconstruction_loss(batch)\n",
    "        self.log('val_loss', loss)\n",
    "\n",
    "    def test_step(self, batch, batch_idx):\n",
    "        loss = self._get_reconstruction_loss(batch)\n",
    "        self.log('test_loss', loss)"
   ]
  },
  {
   "cell_type": "code",
   "execution_count": null,
   "id": "c2b409a8",
   "metadata": {},
   "outputs": [],
   "source": [
    "class GenerateCallback(pl.Callback):\n",
    "\n",
    "    def __init__(self, input_imgs, every_n_epochs=1):\n",
    "        super().__init__()\n",
    "        self.input_imgs = input_imgs # Images to reconstruct during training\n",
    "        self.every_n_epochs = every_n_epochs # Only save those images every N epochs (otherwise tensorboard gets quite large)\n",
    "\n",
    "    def on_epoch_end(self, trainer, pl_module):\n",
    "        if trainer.current_epoch % self.every_n_epochs == 0:\n",
    "            # Reconstruct images\n",
    "            input_imgs = self.input_imgs.to(pl_module.device)\n",
    "            with torch.no_grad():\n",
    "                pl_module.eval()\n",
    "                reconst_imgs = pl_module(input_imgs)\n",
    "                pl_module.train()\n",
    "            # Plot and add to tensorboard\n",
    "            imgs = torch.stack([input_imgs, reconst_imgs], dim=1).flatten(0,1)\n",
    "            grid = torchvision.utils.make_grid(imgs, nrow=2, normalize=True, range=(-1,1))\n",
    "            trainer.logger.experiment.add_image(\"Reconstructions\", grid, global_step=trainer.global_step)"
   ]
  },
  {
   "cell_type": "code",
   "execution_count": null,
   "id": "f7ecc67e",
   "metadata": {},
   "outputs": [],
   "source": [
    "def train_cifar(latent_dim):\n",
    "    # Create a PyTorch Lightning trainer with the generation callback\n",
    "    trainer = pl.Trainer(default_root_dir=os.path.join(CHECKPOINT_PATH, f\"cifar10_{latent_dim}\"),\n",
    "                         gpus=1 if str(device).startswith(\"cuda\") else 0,\n",
    "                         max_epochs=500,\n",
    "                         callbacks=[ModelCheckpoint(save_weights_only=True),\n",
    "                                    GenerateCallback(get_train_images(8), every_n_epochs=10),\n",
    "                                    LearningRateMonitor(\"epoch\")])\n",
    "    trainer.logger._log_graph = True         # If True, we plot the computation graph in tensorboard\n",
    "    trainer.logger._default_hp_metric = None # Optional logging argument that we don't need\n",
    "\n",
    "    # Check whether pretrained model exists. If yes, load it and skip training\n",
    "    pretrained_filename = os.path.join(CHECKPOINT_PATH, f\"cifar10_{latent_dim}.ckpt\")\n",
    "    if os.path.isfile(pretrained_filename):\n",
    "        print(\"Found pretrained model, loading...\")\n",
    "        model = Autoencoder.load_from_checkpoint(pretrained_filename)\n",
    "    else:\n",
    "        model = Autoencoder(base_channel_size=32, latent_dim=latent_dim)\n",
    "        trainer.fit(model, train_loader, val_loader)\n",
    "    # Test best model on validation and test set\n",
    "    val_result = trainer.test(model, val_loader, verbose=False)\n",
    "    test_result = trainer.test(model, test_loader, verbose=False)\n",
    "    result = {\"test\": test_result, \"val\": val_result}\n",
    "    return model, result"
   ]
  },
  {
   "cell_type": "code",
   "execution_count": null,
   "id": "14e4c193",
   "metadata": {},
   "outputs": [],
   "source": []
  },
  {
   "cell_type": "code",
   "execution_count": null,
   "id": "b4e66357",
   "metadata": {},
   "outputs": [],
   "source": []
  },
  {
   "cell_type": "code",
   "execution_count": null,
   "id": "1c27f487",
   "metadata": {},
   "outputs": [],
   "source": [
    "# define any number of nn.Modules (or use your current ones)\n",
    "encoder = nn.Sequential(nn.Linear(128 * 128 * 3, 64), nn.ReLU(), nn.Linear(64, 3))\n",
    "decoder = nn.Sequential(nn.Linear(3, 64), nn.ReLU(), nn.Linear(64, 128 * 128 * 3))"
   ]
  },
  {
   "cell_type": "code",
   "execution_count": null,
   "id": "40d8e907",
   "metadata": {},
   "outputs": [],
   "source": [
    "# define the LightningModule\n",
    "class LitAutoEncoder(pl.LightningModule):\n",
    "    def __init__(self, encoder, decoder):\n",
    "        super().__init__()\n",
    "        self.encoder = encoder\n",
    "        self.decoder = decoder\n",
    "\n",
    "    def training_step(self, batch, batch_idx):\n",
    "        # training_step defines the train loop.\n",
    "        # it is independent of forward\n",
    "        x, y = batch\n",
    "        x = x.view(x.size(0), -1)\n",
    "        z = self.encoder(x)\n",
    "        x_hat = self.decoder(z)\n",
    "        loss = nn.functional.mse_loss(x_hat, x)\n",
    "        # Logging to TensorBoard by default\n",
    "        self.log(\"train_loss\", loss)\n",
    "        return loss\n",
    "\n",
    "    def configure_optimizers(self):\n",
    "        optimizer = optim.Adam(self.parameters(), lr=1e-3)\n",
    "        return optimizer"
   ]
  },
  {
   "cell_type": "code",
   "execution_count": null,
   "id": "c45f3079",
   "metadata": {},
   "outputs": [],
   "source": [
    "# init the autoencoder\n",
    "autoencoder = LitAutoEncoder(encoder, decoder)"
   ]
  },
  {
   "cell_type": "code",
   "execution_count": null,
   "id": "410215c3",
   "metadata": {},
   "outputs": [],
   "source": [
    "dataloader"
   ]
  },
  {
   "cell_type": "code",
   "execution_count": null,
   "id": "a4687bf5",
   "metadata": {},
   "outputs": [],
   "source": [
    "# train the model (hint: here are some helpful Trainer arguments for rapid idea iteration)\n",
    "trainer = pl.Trainer(limit_train_batches=100, max_epochs=1)"
   ]
  },
  {
   "cell_type": "code",
   "execution_count": null,
   "id": "d5628929",
   "metadata": {},
   "outputs": [],
   "source": [
    "trainer.fit(model=autoencoder, train_dataloaders=dataloader)"
   ]
  },
  {
   "cell_type": "code",
   "execution_count": null,
   "id": "50254101",
   "metadata": {},
   "outputs": [],
   "source": []
  },
  {
   "cell_type": "code",
   "execution_count": null,
   "id": "07afa598",
   "metadata": {},
   "outputs": [],
   "source": [
    "trainer"
   ]
  },
  {
   "cell_type": "code",
   "execution_count": null,
   "id": "2d3d2374",
   "metadata": {},
   "outputs": [],
   "source": [
    "# load checkpoint\n",
    "checkpoint = \"./lightning_logs/version_0/checkpoints/epoch=0-step=100.ckpt\"\n",
    "autoencoder = LitAutoEncoder.load_from_checkpoint(checkpoint, encoder=encoder, decoder=decoder)"
   ]
  },
  {
   "cell_type": "code",
   "execution_count": null,
   "id": "8c0b9e09",
   "metadata": {},
   "outputs": [],
   "source": [
    "# choose your trained nn.Module\n",
    "encoder = autoencoder.encoder\n",
    "encoder.eval()"
   ]
  },
  {
   "cell_type": "code",
   "execution_count": null,
   "id": "39d37193",
   "metadata": {},
   "outputs": [],
   "source": [
    "fake_image_batch = Tensor(4, 128 * 128 * 3)\n",
    "embeddings = encoder(fake_image_batch)\n",
    "print(\"⚡\" * 20, \"\\nPredictions (4 image embeddings):\\n\", embeddings, \"\\n\", \"⚡\" * 20)"
   ]
  },
  {
   "cell_type": "code",
   "execution_count": null,
   "id": "d04a721a",
   "metadata": {},
   "outputs": [],
   "source": [
    "from torch import randn"
   ]
  },
  {
   "cell_type": "code",
   "execution_count": null,
   "id": "7155e499",
   "metadata": {},
   "outputs": [],
   "source": [
    "encoder(randn(1, 128*128*3))"
   ]
  },
  {
   "cell_type": "code",
   "execution_count": null,
   "id": "a78ebfee",
   "metadata": {},
   "outputs": [],
   "source": [
    "encoder(randn(1, 128*128*3))"
   ]
  },
  {
   "cell_type": "code",
   "execution_count": null,
   "id": "6051a20c",
   "metadata": {},
   "outputs": [],
   "source": []
  },
  {
   "cell_type": "code",
   "execution_count": null,
   "id": "02bc409a",
   "metadata": {},
   "outputs": [],
   "source": [
    "from torch import nn, randn, sigmoid"
   ]
  },
  {
   "cell_type": "code",
   "execution_count": null,
   "id": "cd27a550",
   "metadata": {},
   "outputs": [],
   "source": [
    "randn(1, 128, 128, 3).shape"
   ]
  },
  {
   "cell_type": "code",
   "execution_count": null,
   "id": "cf4d2f8a",
   "metadata": {},
   "outputs": [],
   "source": [
    "my_tensor = randn(32, 3, 128, 128)"
   ]
  },
  {
   "cell_type": "code",
   "execution_count": null,
   "id": "f5039a1d",
   "metadata": {},
   "outputs": [],
   "source": [
    "class SimpleEncoder(nn.Module):\n",
    "    def __init__(self):\n",
    "        super().__init__()\n",
    "        self.embedding_size = 32\n",
    "        self.image_size = [128, 128]\n",
    "        self.num_channels = 3\n",
    "\n",
    "        self.encoder = nn.Sequential(\n",
    "            nn.Flatten(),\n",
    "            nn.Linear(self.image_size[0]*self.image_size[1]*self.num_channels, 128),\n",
    "            nn.ReLU(),\n",
    "            nn.Linear(128, self.embedding_size)\n",
    "        )\n",
    "    \n",
    "    def forward(self, x):\n",
    "        x = self.encoder(x)\n",
    "        return x"
   ]
  },
  {
   "cell_type": "code",
   "execution_count": null,
   "id": "b57c40c1",
   "metadata": {},
   "outputs": [],
   "source": [
    "encoder = SimpleEncoder()"
   ]
  },
  {
   "cell_type": "code",
   "execution_count": null,
   "id": "f9de91dd",
   "metadata": {},
   "outputs": [],
   "source": [
    "encoder(my_tensor)"
   ]
  },
  {
   "cell_type": "code",
   "execution_count": null,
   "id": "a2067663",
   "metadata": {},
   "outputs": [],
   "source": [
    "encoder(my_tensor).shape"
   ]
  },
  {
   "cell_type": "code",
   "execution_count": null,
   "id": "cf52c818",
   "metadata": {},
   "outputs": [],
   "source": [
    "encoder"
   ]
  },
  {
   "cell_type": "code",
   "execution_count": null,
   "id": "5a2eb1d1",
   "metadata": {},
   "outputs": [],
   "source": []
  },
  {
   "cell_type": "code",
   "execution_count": null,
   "id": "d417e7f6",
   "metadata": {},
   "outputs": [],
   "source": []
  },
  {
   "cell_type": "markdown",
   "id": "ef2c195d",
   "metadata": {},
   "source": [
    "### convolutional"
   ]
  },
  {
   "cell_type": "code",
   "execution_count": null,
   "id": "41c3bd19",
   "metadata": {},
   "outputs": [],
   "source": [
    "class SimpleConvEncoder(nn.Module):\n",
    "    def __init__(self):\n",
    "        super().__init__()\n",
    "        self.embedding_size = 32\n",
    "        self.image_size = [128, 128]\n",
    "        self.num_channels = 3\n",
    "\n",
    "        self.conv_encoder = nn.Sequential(\n",
    "                    nn.Conv2d(3, 32, stride=(1, 1), kernel_size=(5, 5)),\n",
    "                    nn.LeakyReLU(0.01),\n",
    "                    nn.Conv2d(32, 64, stride=(2, 2), kernel_size=(3, 3)),\n",
    "                    nn.LeakyReLU(0.01),\n",
    "                    nn.Conv2d(64, 64, stride=(2, 2), kernel_size=(3, 3)),\n",
    "                    nn.LeakyReLU(0.01),\n",
    "                    nn.Conv2d(64, 64, stride=(1, 1), kernel_size=(3, 3))\n",
    "            )\n",
    "        \n",
    "        self.flatten = nn.Flatten()\n",
    "        self.lin_encoder = nn.Sequential(\n",
    "            nn.Flatten(),\n",
    "            nn.Linear(50176, 256),\n",
    "            nn.ReLU(),\n",
    "            nn.Linear(256, 128),\n",
    "            nn.Linear(128, self.embedding_size)\n",
    "        )\n",
    "    \n",
    "    def forward(self, x):\n",
    "        BS = x.shape[0]\n",
    "        x = x.view(BS, 3, self.image_size[0], self.image_size[1])\n",
    "        x = self.conv_encoder(x)\n",
    "        x = self.flatten(x)\n",
    "        x = self.lin_encoder(x)\n",
    "        return x"
   ]
  },
  {
   "cell_type": "code",
   "execution_count": null,
   "id": "49566323",
   "metadata": {},
   "outputs": [],
   "source": [
    "encoder = SimpleConvEncoder()"
   ]
  },
  {
   "cell_type": "code",
   "execution_count": null,
   "id": "f1ce1a9d",
   "metadata": {},
   "outputs": [],
   "source": [
    "encoder(my_tensor)"
   ]
  },
  {
   "cell_type": "code",
   "execution_count": null,
   "id": "2be9ac7f",
   "metadata": {},
   "outputs": [],
   "source": [
    "encoder(my_tensor).shape"
   ]
  },
  {
   "cell_type": "code",
   "execution_count": null,
   "id": "dd810c65",
   "metadata": {},
   "outputs": [],
   "source": [
    "encoder"
   ]
  },
  {
   "cell_type": "code",
   "execution_count": null,
   "id": "b979d61f",
   "metadata": {},
   "outputs": [],
   "source": [
    "class DecoderConvBase(nn.Module):\n",
    "    def __init__(self):\n",
    "        super().__init__()\n",
    "        self.image_size = [128, 128]\n",
    "        self.embedding_size = 32\n",
    "\n",
    "        self.decoder_lin = nn.Sequential(\n",
    "            nn.Linear(self.embedding_size, 128),\n",
    "            nn.ReLU(),\n",
    "            nn.Linear(128, 256),\n",
    "            nn.ReLU(),\n",
    "            nn.Linear(256, 262144),\n",
    "            nn.ReLU()\n",
    "        )\n",
    "\n",
    "        self.unflatten = nn.Unflatten(\n",
    "            dim=1, \n",
    "            unflattened_size=(256, 32, 32)\n",
    "        )\n",
    "\n",
    "        self.decoder_conv = nn.Sequential(\n",
    "            nn.ConvTranspose2d(256, 64, 2, stride=2, padding=0),\n",
    "            nn.LeakyReLU(0.01),\n",
    "            nn.ConvTranspose2d(64, 3, 2, stride=2)\n",
    "        )\n",
    "        self.sigmoid = sigmoid\n",
    "\n",
    "    def forward(self, x):\n",
    "        x = self.decoder_lin(x)\n",
    "        x = self.unflatten(x)\n",
    "        x = self.decoder_conv(x)\n",
    "        x = self.sigmoid(x)\n",
    "        return x"
   ]
  },
  {
   "cell_type": "code",
   "execution_count": null,
   "id": "1a2ca1f0",
   "metadata": {},
   "outputs": [],
   "source": [
    "decoder = DecoderConvBase()"
   ]
  },
  {
   "cell_type": "code",
   "execution_count": null,
   "id": "b045d33c",
   "metadata": {},
   "outputs": [],
   "source": [
    "decoder"
   ]
  },
  {
   "cell_type": "code",
   "execution_count": null,
   "id": "e7212f8f",
   "metadata": {},
   "outputs": [],
   "source": [
    "decoder(encoder(my_tensor))"
   ]
  },
  {
   "cell_type": "code",
   "execution_count": null,
   "id": "80b774bb",
   "metadata": {},
   "outputs": [],
   "source": [
    "decoder(encoder(my_tensor)).shape"
   ]
  },
  {
   "cell_type": "code",
   "execution_count": null,
   "id": "696727f7",
   "metadata": {},
   "outputs": [],
   "source": []
  }
 ],
 "metadata": {
  "kernelspec": {
   "display_name": "Python 3.8.12 ('.venv': poetry)",
   "language": "python",
   "name": "python3"
  },
  "language_info": {
   "codemirror_mode": {
    "name": "ipython",
    "version": 3
   },
   "file_extension": ".py",
   "mimetype": "text/x-python",
   "name": "python",
   "nbconvert_exporter": "python",
   "pygments_lexer": "ipython3",
   "version": "3.8.12"
  },
  "vscode": {
   "interpreter": {
    "hash": "b090d651ab6bb94fc3fcfd79ea14f79b2004aa048e2234831f7803cc80488031"
   }
  }
 },
 "nbformat": 4,
 "nbformat_minor": 5
}
