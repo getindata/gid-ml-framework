{
 "cells": [
  {
   "cell_type": "code",
   "execution_count": null,
   "id": "1c1d0c3a",
   "metadata": {},
   "outputs": [],
   "source": [
    "%load_ext kedro.extras.extensions.ipython"
   ]
  },
  {
   "cell_type": "code",
   "execution_count": null,
   "id": "426fd428",
   "metadata": {},
   "outputs": [],
   "source": [
    "%reload_kedro"
   ]
  },
  {
   "cell_type": "code",
   "execution_count": null,
   "id": "a000d97b",
   "metadata": {},
   "outputs": [],
   "source": [
    "import pandas as pd\n",
    "import numpy as np"
   ]
  },
  {
   "cell_type": "code",
   "execution_count": null,
   "id": "312b41af",
   "metadata": {},
   "outputs": [],
   "source": [
    "pd.set_option('display.float_format', lambda x: '%.4f' % x)"
   ]
  },
  {
   "cell_type": "code",
   "execution_count": null,
   "id": "665e8650",
   "metadata": {},
   "outputs": [],
   "source": [
    "catalog.list()"
   ]
  },
  {
   "cell_type": "code",
   "execution_count": null,
   "id": "c718a64e",
   "metadata": {},
   "outputs": [],
   "source": [
    "[data for data in catalog.list() if not data.startswith('params:')]"
   ]
  },
  {
   "cell_type": "markdown",
   "id": "31318e25",
   "metadata": {},
   "source": [
    "### loading data"
   ]
  },
  {
   "cell_type": "code",
   "execution_count": null,
   "id": "580b9342",
   "metadata": {},
   "outputs": [],
   "source": [
    "candidates = context.catalog.load('candidates_similarity_features')"
   ]
  },
  {
   "cell_type": "code",
   "execution_count": null,
   "id": "440f7577",
   "metadata": {},
   "outputs": [],
   "source": [
    "val_transactions = context.catalog.load('val_transactions')"
   ]
  },
  {
   "cell_type": "code",
   "execution_count": null,
   "id": "da8f02c8",
   "metadata": {},
   "outputs": [],
   "source": [
    "val_transactions = val_transactions[['customer_id', 'article_id']].assign(label=lambda x: 1)"
   ]
  },
  {
   "cell_type": "code",
   "execution_count": null,
   "id": "7c262684",
   "metadata": {},
   "outputs": [],
   "source": [
    "val_transactions.shape"
   ]
  },
  {
   "cell_type": "code",
   "execution_count": null,
   "id": "e9adba11",
   "metadata": {},
   "outputs": [],
   "source": [
    "val_transactions.head()"
   ]
  },
  {
   "cell_type": "code",
   "execution_count": null,
   "id": "540b4fd3",
   "metadata": {},
   "outputs": [],
   "source": [
    "candidates = candidates.merge(val_transactions, on=['customer_id', 'article_id'], how='left').fillna({'label': 0})"
   ]
  },
  {
   "cell_type": "code",
   "execution_count": null,
   "id": "751727ad",
   "metadata": {},
   "outputs": [],
   "source": [
    "candidates['label'] = candidates['label'].astype(int)"
   ]
  },
  {
   "cell_type": "markdown",
   "id": "b67d4ab9",
   "metadata": {},
   "source": [
    "### filter"
   ]
  },
  {
   "cell_type": "code",
   "execution_count": null,
   "id": "65908b38",
   "metadata": {},
   "outputs": [],
   "source": [
    "user_ids = list(candidates.customer_id.unique())[:10_000]"
   ]
  },
  {
   "cell_type": "code",
   "execution_count": null,
   "id": "3049dd50",
   "metadata": {},
   "outputs": [],
   "source": [
    "candidates = candidates[candidates.customer_id.isin(user_ids)]"
   ]
  },
  {
   "cell_type": "code",
   "execution_count": null,
   "id": "7ccd7712",
   "metadata": {},
   "outputs": [],
   "source": [
    "candidates.shape"
   ]
  },
  {
   "cell_type": "markdown",
   "id": "3c73fb4d",
   "metadata": {},
   "source": [
    "### downsampling (not used right now)"
   ]
  },
  {
   "cell_type": "markdown",
   "id": "0442eaff",
   "metadata": {},
   "source": [
    "i mean, it doesn't make sense, 2 millions negative samples = 14.5 per CUSTOMER, so basically we are randomly choosing articles for each customer. Doesn't make sense"
   ]
  },
  {
   "cell_type": "code",
   "execution_count": null,
   "id": "9ead50a1",
   "metadata": {},
   "outputs": [],
   "source": [
    "neg_samples = 2_000_000\n",
    "seed = 42"
   ]
  },
  {
   "cell_type": "code",
   "execution_count": null,
   "id": "911501ae",
   "metadata": {},
   "outputs": [],
   "source": [
    "candidates = pd.concat([candidates[candidates['label']>0],\n",
    "                        candidates[candidates['label']==0].sample(neg_samples, random_state=42)], axis=0)"
   ]
  },
  {
   "cell_type": "code",
   "execution_count": null,
   "id": "c36db9ce",
   "metadata": {},
   "outputs": [],
   "source": [
    "2_000_000/137_198"
   ]
  },
  {
   "cell_type": "code",
   "execution_count": null,
   "id": "32d895cd",
   "metadata": {},
   "outputs": [],
   "source": [
    "candidates.shape"
   ]
  },
  {
   "cell_type": "code",
   "execution_count": null,
   "id": "868065f4",
   "metadata": {},
   "outputs": [],
   "source": [
    "candidates.customer_id.nunique()"
   ]
  },
  {
   "cell_type": "markdown",
   "id": "675a7c5c",
   "metadata": {},
   "source": [
    "### continue"
   ]
  },
  {
   "cell_type": "code",
   "execution_count": null,
   "id": "c2f54471",
   "metadata": {},
   "outputs": [],
   "source": [
    "candidates.shape"
   ]
  },
  {
   "cell_type": "code",
   "execution_count": null,
   "id": "8f72a4d4",
   "metadata": {},
   "outputs": [],
   "source": [
    "candidates.customer_id.nunique()"
   ]
  },
  {
   "cell_type": "code",
   "execution_count": null,
   "id": "c91c7d71",
   "metadata": {},
   "outputs": [],
   "source": [
    "candidates.head()"
   ]
  },
  {
   "cell_type": "markdown",
   "id": "9d665117",
   "metadata": {},
   "source": [
    "### optimizing data"
   ]
  },
  {
   "cell_type": "code",
   "execution_count": null,
   "id": "715c9e9b",
   "metadata": {},
   "outputs": [],
   "source": [
    "def reduce_mem_usage(df, verbose=True):\n",
    "    numerics = ['int16', 'int32', 'int64', 'float16', 'float32', 'float64',\n",
    "               # fucking pandas types\n",
    "                'Int16', 'Int32', 'Int64', 'Float16', 'Float32', 'Float64'\n",
    "               ]\n",
    "    start_mem = df.memory_usage().sum() / 1024**2\n",
    "    print(f'Starting usage memory: {start_mem:.2f}')\n",
    "\n",
    "    for col in df.columns:\n",
    "        col_type = df[col].dtypes\n",
    "        if col_type in numerics:\n",
    "            c_min = df[col].min()\n",
    "            c_max = df[col].max()\n",
    "            if str(col_type).lower()[:3] == 'int':\n",
    "                if c_min > np.iinfo(np.int8).min and c_max < np.iinfo(np.int8).max:\n",
    "                    df[col] = df[col].astype(np.int8)\n",
    "                elif c_min > np.iinfo(np.int16).min and c_max < np.iinfo(np.int16).max:\n",
    "                    df[col] = df[col].astype(np.int16)\n",
    "                elif c_min > np.iinfo(np.int32).min and c_max < np.iinfo(np.int32).max:\n",
    "                    df[col] = df[col].astype(np.int32)\n",
    "                elif c_min > np.iinfo(np.int64).min and c_max < np.iinfo(np.int64).max:\n",
    "                    df[col] = df[col].astype(np.int64)\n",
    "            else:\n",
    "                if c_min > np.finfo(np.float32).min and c_max < np.finfo(np. float32).max:\n",
    "                    df[col] = df[col].astype(np.float32)\n",
    "                else:\n",
    "                    df[col] = df[col].astype(np.float64)\n",
    "        # if col_type == 'object':\n",
    "            # here\n",
    "    end_mem = df.memory_usage().sum() / 1024**2\n",
    "    if verbose:\n",
    "        print('Mem. usage decreased to {:5.2f} Mb ({:.1f}% reduction)'.format(end_mem, 100 * (start_mem - end_mem) / start_mem))\n",
    "    return df"
   ]
  },
  {
   "cell_type": "code",
   "execution_count": null,
   "id": "055d35fc",
   "metadata": {},
   "outputs": [],
   "source": [
    "candidates = reduce_mem_usage(candidates)"
   ]
  },
  {
   "cell_type": "markdown",
   "id": "ce2bf116",
   "metadata": {},
   "source": [
    "### regex"
   ]
  },
  {
   "cell_type": "code",
   "execution_count": null,
   "id": "ed2529e5",
   "metadata": {},
   "outputs": [],
   "source": [
    "import re"
   ]
  },
  {
   "cell_type": "code",
   "execution_count": null,
   "id": "1c20f650",
   "metadata": {},
   "outputs": [],
   "source": [
    "count_pattern = '^[Cc][Oo][Uu][Nn][Tt]'"
   ]
  },
  {
   "cell_type": "code",
   "execution_count": null,
   "id": "89741771",
   "metadata": {},
   "outputs": [],
   "source": [
    "def fill_na_int(df, regex_pattern, fill_na_value):\n",
    "    cols = [col for col in df.columns if re.match(regex_pattern, col)]\n",
    "    df.loc[:, cols] = df.loc[:, cols].fillna(fill_na_value).astype(int)\n",
    "    return df"
   ]
  },
  {
   "cell_type": "markdown",
   "id": "6ce6bc8d",
   "metadata": {},
   "source": [
    "### not now"
   ]
  },
  {
   "cell_type": "markdown",
   "id": "c8ee8082",
   "metadata": {},
   "source": [
    "##### customer_id optimization -> index -> customer_id (mapping)\n",
    "id_to_index_dict = dict(zip(customers[\"customer_id\"], customers.index))\n",
    "index_to_id_dict = dict(zip(customers.index, customers[\"customer_id\"]))\n",
    "\n",
    "#for memory efficiency\n",
    "transactions[\"customer_id\"] = transactions[\"customer_id\"].map(id_to_index_dict)\n",
    "\n",
    "#for switching back for submission\n",
    "sub[\"customer_id\"] = sub[\"customer_id\"].map(index_to_id_dict)"
   ]
  },
  {
   "cell_type": "markdown",
   "id": "38f440cf",
   "metadata": {},
   "source": [
    "###### article_id optimization str -> int32 -> str\n",
    "train['article_id'] = train.article_id.astype('int32')\n",
    "train['article_id'] = '0' + train.article_id.astype('str')"
   ]
  },
  {
   "cell_type": "code",
   "execution_count": null,
   "id": "c0f0e743",
   "metadata": {},
   "outputs": [],
   "source": [
    "candidates['article_id'] = candidates['article_id'].astype('int32')"
   ]
  },
  {
   "cell_type": "code",
   "execution_count": null,
   "id": "d94de87e",
   "metadata": {},
   "outputs": [],
   "source": [
    "candidates.memory_usage().sum() / 1024**2"
   ]
  },
  {
   "cell_type": "markdown",
   "id": "6639c90c",
   "metadata": {},
   "source": [
    "### continue"
   ]
  },
  {
   "cell_type": "markdown",
   "id": "9118049d",
   "metadata": {},
   "source": [
    "### articles"
   ]
  },
  {
   "cell_type": "code",
   "execution_count": null,
   "id": "43506c9a",
   "metadata": {},
   "outputs": [],
   "source": [
    "automated_articles_features = context.catalog.load('automated_articles_features')"
   ]
  },
  {
   "cell_type": "code",
   "execution_count": null,
   "id": "10087bb7",
   "metadata": {},
   "outputs": [],
   "source": [
    "manual_article_features = context.catalog.load('manual_article_features')"
   ]
  },
  {
   "cell_type": "code",
   "execution_count": null,
   "id": "d105a734",
   "metadata": {},
   "outputs": [],
   "source": [
    "automated_articles_features = fill_na_int(automated_articles_features, count_pattern, 0)"
   ]
  },
  {
   "cell_type": "code",
   "execution_count": null,
   "id": "9d385fe2",
   "metadata": {},
   "outputs": [],
   "source": [
    "automated_articles_features.shape, manual_article_features.shape"
   ]
  },
  {
   "cell_type": "code",
   "execution_count": null,
   "id": "31f10446",
   "metadata": {},
   "outputs": [],
   "source": [
    "automated_articles_features.dtypes"
   ]
  },
  {
   "cell_type": "code",
   "execution_count": null,
   "id": "6e3f02b0",
   "metadata": {},
   "outputs": [],
   "source": [
    "automated_articles_features = reduce_mem_usage(automated_articles_features)"
   ]
  },
  {
   "cell_type": "code",
   "execution_count": null,
   "id": "0780b595",
   "metadata": {},
   "outputs": [],
   "source": [
    "automated_articles_features.dtypes"
   ]
  },
  {
   "cell_type": "code",
   "execution_count": null,
   "id": "ff76fa86",
   "metadata": {},
   "outputs": [],
   "source": [
    "manual_article_features.dtypes"
   ]
  },
  {
   "cell_type": "code",
   "execution_count": null,
   "id": "6f2e5439",
   "metadata": {},
   "outputs": [],
   "source": [
    "manual_article_features = reduce_mem_usage(manual_article_features)"
   ]
  },
  {
   "cell_type": "code",
   "execution_count": null,
   "id": "d7437bd4",
   "metadata": {},
   "outputs": [],
   "source": [
    "manual_article_features.dtypes"
   ]
  },
  {
   "cell_type": "code",
   "execution_count": null,
   "id": "f9216b37",
   "metadata": {},
   "outputs": [],
   "source": [
    "candidates = candidates.merge(automated_articles_features, how='left', on='article_id').merge(manual_article_features, how='left', on='article_id')"
   ]
  },
  {
   "cell_type": "code",
   "execution_count": null,
   "id": "7025b4ce",
   "metadata": {},
   "outputs": [],
   "source": [
    "import gc"
   ]
  },
  {
   "cell_type": "code",
   "execution_count": null,
   "id": "e7dd0a5a",
   "metadata": {},
   "outputs": [],
   "source": [
    "del automated_articles_features\n",
    "gc.collect()"
   ]
  },
  {
   "cell_type": "code",
   "execution_count": null,
   "id": "b9d9cf42",
   "metadata": {},
   "outputs": [],
   "source": [
    "del manual_article_features\n",
    "gc.collect()"
   ]
  },
  {
   "cell_type": "code",
   "execution_count": null,
   "id": "7198b231",
   "metadata": {},
   "outputs": [],
   "source": [
    "candidates.shape"
   ]
  },
  {
   "cell_type": "markdown",
   "id": "d798ae2b",
   "metadata": {},
   "source": [
    "### customers"
   ]
  },
  {
   "cell_type": "code",
   "execution_count": null,
   "id": "777039ad",
   "metadata": {},
   "outputs": [],
   "source": [
    "automated_customers_features = context.catalog.load('automated_customers_features')"
   ]
  },
  {
   "cell_type": "code",
   "execution_count": null,
   "id": "c37b7800",
   "metadata": {},
   "outputs": [],
   "source": [
    "manual_customer_features = context.catalog.load('manual_customer_features')"
   ]
  },
  {
   "cell_type": "code",
   "execution_count": null,
   "id": "7aeb9ca3",
   "metadata": {},
   "outputs": [],
   "source": [
    "automated_customers_features = fill_na_int(automated_customers_features, count_pattern, 0)"
   ]
  },
  {
   "cell_type": "code",
   "execution_count": null,
   "id": "0c7ee06c",
   "metadata": {},
   "outputs": [],
   "source": [
    "manual_customer_features = fill_na_int(manual_customer_features, count_pattern, 0)"
   ]
  },
  {
   "cell_type": "code",
   "execution_count": null,
   "id": "120650ea",
   "metadata": {},
   "outputs": [],
   "source": [
    "automated_customers_features.dtypes"
   ]
  },
  {
   "cell_type": "code",
   "execution_count": null,
   "id": "a6e50d61",
   "metadata": {},
   "outputs": [],
   "source": [
    "automated_customers_features = reduce_mem_usage(automated_customers_features)"
   ]
  },
  {
   "cell_type": "code",
   "execution_count": null,
   "id": "60ddf1a3",
   "metadata": {},
   "outputs": [],
   "source": [
    "automated_customers_features.dtypes"
   ]
  },
  {
   "cell_type": "code",
   "execution_count": null,
   "id": "0dfbea52",
   "metadata": {},
   "outputs": [],
   "source": [
    "manual_customer_features.dtypes"
   ]
  },
  {
   "cell_type": "code",
   "execution_count": null,
   "id": "49809e2f",
   "metadata": {},
   "outputs": [],
   "source": [
    "manual_customer_features = reduce_mem_usage(manual_customer_features)"
   ]
  },
  {
   "cell_type": "code",
   "execution_count": null,
   "id": "b61c8304",
   "metadata": {},
   "outputs": [],
   "source": [
    "manual_customer_features.dtypes"
   ]
  },
  {
   "cell_type": "code",
   "execution_count": null,
   "id": "e0910c3f",
   "metadata": {},
   "outputs": [],
   "source": [
    "manual_customer_features.isna().sum()"
   ]
  },
  {
   "cell_type": "code",
   "execution_count": null,
   "id": "f602d032",
   "metadata": {},
   "outputs": [],
   "source": [
    "automated_customers_features.shape, manual_customer_features.shape"
   ]
  },
  {
   "cell_type": "code",
   "execution_count": null,
   "id": "d001a9a1",
   "metadata": {},
   "outputs": [],
   "source": [
    "candidates = candidates.merge(automated_customers_features, how='left', on='customer_id').merge(manual_customer_features, how='left', on='customer_id')"
   ]
  },
  {
   "cell_type": "code",
   "execution_count": null,
   "id": "b7bec76c",
   "metadata": {},
   "outputs": [],
   "source": [
    "candidates = fill_na_int(candidates, count_pattern, 0)"
   ]
  },
  {
   "cell_type": "code",
   "execution_count": null,
   "id": "27ad1f8b",
   "metadata": {},
   "outputs": [],
   "source": [
    "candidates = reduce_mem_usage(candidates)"
   ]
  },
  {
   "cell_type": "code",
   "execution_count": null,
   "id": "4cb19700",
   "metadata": {},
   "outputs": [],
   "source": []
  },
  {
   "cell_type": "code",
   "execution_count": null,
   "id": "eaae7c4e",
   "metadata": {},
   "outputs": [],
   "source": [
    "del automated_customers_features\n",
    "gc.collect()"
   ]
  },
  {
   "cell_type": "code",
   "execution_count": null,
   "id": "6cd95086",
   "metadata": {},
   "outputs": [],
   "source": [
    "del manual_customer_features\n",
    "gc.collect()"
   ]
  },
  {
   "cell_type": "code",
   "execution_count": null,
   "id": "03d9807f",
   "metadata": {},
   "outputs": [],
   "source": [
    "candidates.shape"
   ]
  },
  {
   "cell_type": "code",
   "execution_count": null,
   "id": "15b82286",
   "metadata": {},
   "outputs": [],
   "source": [
    "pd.set_option('display.max_rows', None)"
   ]
  },
  {
   "cell_type": "code",
   "execution_count": null,
   "id": "5a4da2c7",
   "metadata": {},
   "outputs": [],
   "source": [
    "candidates.dtypes"
   ]
  },
  {
   "cell_type": "code",
   "execution_count": null,
   "id": "8122b5ea",
   "metadata": {},
   "outputs": [],
   "source": [
    "pd.set_option('display.max_rows', 10)"
   ]
  },
  {
   "cell_type": "code",
   "execution_count": null,
   "id": "e9b214e8",
   "metadata": {},
   "outputs": [],
   "source": [
    "candidates['strategy_name'] = candidates['strategy_name'].astype('category')"
   ]
  },
  {
   "cell_type": "code",
   "execution_count": null,
   "id": "ced49669",
   "metadata": {},
   "outputs": [],
   "source": [
    "candidates.memory_usage().sum() / 1024**2"
   ]
  },
  {
   "cell_type": "markdown",
   "id": "174f22eb",
   "metadata": {},
   "source": [
    "### dictionary features"
   ]
  },
  {
   "cell_type": "code",
   "execution_count": null,
   "id": "9d974b68",
   "metadata": {},
   "outputs": [],
   "source": [
    "articles = context.catalog.load('articles')"
   ]
  },
  {
   "cell_type": "code",
   "execution_count": null,
   "id": "302f2961",
   "metadata": {},
   "outputs": [],
   "source": [
    "customers = context.catalog.load('customers')"
   ]
  },
  {
   "cell_type": "code",
   "execution_count": null,
   "id": "51af7c4b",
   "metadata": {},
   "outputs": [],
   "source": [
    "drop_cols_articles = ['prod_name', 'product_type_name', 'graphical_appearance_name', 'colour_group_name', 'perceived_colour_value_name', 'perceived_colour_master_name', 'index_name', 'index_group_name', 'section_name', 'garment_group_name', 'detail_desc']"
   ]
  },
  {
   "cell_type": "code",
   "execution_count": null,
   "id": "e358bf64",
   "metadata": {},
   "outputs": [],
   "source": [
    "# these cols are just the same values as _no (OR SIMILAR, HAVEN'T CHECKED) but mostly DUPLICATES\n",
    "articles.drop(drop_cols_articles, axis=1, inplace=True)"
   ]
  },
  {
   "cell_type": "code",
   "execution_count": null,
   "id": "ee082620",
   "metadata": {},
   "outputs": [],
   "source": []
  },
  {
   "cell_type": "code",
   "execution_count": null,
   "id": "a213d47c",
   "metadata": {},
   "outputs": [],
   "source": [
    "articles.dtypes"
   ]
  },
  {
   "cell_type": "code",
   "execution_count": null,
   "id": "cd2704fa",
   "metadata": {},
   "outputs": [],
   "source": [
    "articles = reduce_mem_usage(articles)"
   ]
  },
  {
   "cell_type": "code",
   "execution_count": null,
   "id": "5652fca9",
   "metadata": {},
   "outputs": [],
   "source": [
    "articles.dtypes"
   ]
  },
  {
   "cell_type": "code",
   "execution_count": null,
   "id": "b2db58fa",
   "metadata": {},
   "outputs": [],
   "source": [
    "customers.dtypes"
   ]
  },
  {
   "cell_type": "code",
   "execution_count": null,
   "id": "48e3feb1",
   "metadata": {},
   "outputs": [],
   "source": [
    "customers = reduce_mem_usage(customers)"
   ]
  },
  {
   "cell_type": "code",
   "execution_count": null,
   "id": "c8ea5faf",
   "metadata": {},
   "outputs": [],
   "source": [
    "customers.dtypes"
   ]
  },
  {
   "cell_type": "code",
   "execution_count": null,
   "id": "ee565365",
   "metadata": {},
   "outputs": [],
   "source": [
    "candidates = candidates.merge(customers, how='left', on='customer_id')"
   ]
  },
  {
   "cell_type": "code",
   "execution_count": null,
   "id": "fb49c357",
   "metadata": {},
   "outputs": [],
   "source": [
    "del customers\n",
    "gc.collect()"
   ]
  },
  {
   "cell_type": "code",
   "execution_count": null,
   "id": "8d8a06b2",
   "metadata": {},
   "outputs": [],
   "source": []
  },
  {
   "cell_type": "code",
   "execution_count": null,
   "id": "234bb4b9",
   "metadata": {},
   "outputs": [],
   "source": []
  },
  {
   "cell_type": "code",
   "execution_count": null,
   "id": "d9383643",
   "metadata": {},
   "outputs": [],
   "source": [
    "candidates = candidates.merge(articles, how='left', on='article_id')"
   ]
  },
  {
   "cell_type": "code",
   "execution_count": null,
   "id": "7c8e5204",
   "metadata": {},
   "outputs": [],
   "source": [
    "del articles\n",
    "gc.collect()"
   ]
  },
  {
   "cell_type": "code",
   "execution_count": null,
   "id": "ee895271",
   "metadata": {},
   "outputs": [],
   "source": [
    "candidates = reduce_mem_usage(candidates)"
   ]
  },
  {
   "cell_type": "code",
   "execution_count": null,
   "id": "4d185419",
   "metadata": {},
   "outputs": [],
   "source": [
    "candidates.shape"
   ]
  },
  {
   "cell_type": "code",
   "execution_count": null,
   "id": "2f3a6146",
   "metadata": {},
   "outputs": [],
   "source": [
    "candidates.loc[:, ['index_code', 'club_member_status',\n",
    "       'fashion_news_frequency', 'postal_code', 'product_group_name',\n",
    "       'department_name', 'FN', 'Active']] = candidates.loc[:, ['index_code',\n",
    "                                                                'club_member_status',\n",
    "       'fashion_news_frequency', 'postal_code', 'product_group_name',\n",
    "       'department_name', 'FN', 'Active']].astype('category')"
   ]
  },
  {
   "cell_type": "code",
   "execution_count": null,
   "id": "190eef7c",
   "metadata": {},
   "outputs": [],
   "source": []
  },
  {
   "cell_type": "code",
   "execution_count": null,
   "id": "5ce4528f",
   "metadata": {},
   "outputs": [],
   "source": []
  },
  {
   "cell_type": "code",
   "execution_count": null,
   "id": "f8f2a5bd",
   "metadata": {},
   "outputs": [],
   "source": [
    "pd.set_option('display.max_rows', None)"
   ]
  },
  {
   "cell_type": "code",
   "execution_count": null,
   "id": "75ad3b44",
   "metadata": {},
   "outputs": [],
   "source": [
    "candidates.dtypes"
   ]
  },
  {
   "cell_type": "code",
   "execution_count": null,
   "id": "ff9c17d7",
   "metadata": {},
   "outputs": [],
   "source": [
    "pd.set_option('display.max_rows', 10)"
   ]
  },
  {
   "cell_type": "code",
   "execution_count": null,
   "id": "77928285",
   "metadata": {},
   "outputs": [],
   "source": [
    "candidates.memory_usage().sum() / 1024**2"
   ]
  },
  {
   "cell_type": "markdown",
   "id": "8c1c704a",
   "metadata": {},
   "source": [
    "### why would anybody do that?"
   ]
  },
  {
   "cell_type": "markdown",
   "id": "05ecd3ad",
   "metadata": {},
   "source": [
    "lol, bad"
   ]
  },
  {
   "cell_type": "code",
   "execution_count": null,
   "id": "e7b43a2c",
   "metadata": {},
   "outputs": [],
   "source": [
    "candidates = candidates.convert_dtypes(convert_string=False, convert_floating=False)"
   ]
  },
  {
   "cell_type": "code",
   "execution_count": null,
   "id": "a2439479",
   "metadata": {},
   "outputs": [],
   "source": [
    "candidates.memory_usage().sum() / 1024**2"
   ]
  },
  {
   "cell_type": "code",
   "execution_count": null,
   "id": "fbd081b7",
   "metadata": {},
   "outputs": [],
   "source": []
  },
  {
   "cell_type": "markdown",
   "id": "2781d365",
   "metadata": {},
   "source": [
    "### import lightgbm"
   ]
  },
  {
   "cell_type": "code",
   "execution_count": null,
   "id": "54ebc5aa",
   "metadata": {},
   "outputs": [],
   "source": [
    "import lightgbm as lgb"
   ]
  },
  {
   "cell_type": "code",
   "execution_count": null,
   "id": "b701b71b",
   "metadata": {},
   "outputs": [],
   "source": [
    "candidates.select_dtypes(include='category').columns"
   ]
  },
  {
   "cell_type": "code",
   "execution_count": null,
   "id": "5919886f",
   "metadata": {},
   "outputs": [],
   "source": [
    "# train positive rate\n",
    "candidates.label.mean() * 10"
   ]
  },
  {
   "cell_type": "markdown",
   "id": "0b214867",
   "metadata": {},
   "source": [
    "# \n",
    "ignore customers with full negative samples\n",
    "candidates.groupby(['customer_id'])['label'].max().reset_index().where()"
   ]
  },
  {
   "cell_type": "code",
   "execution_count": null,
   "id": "7521fd09",
   "metadata": {},
   "outputs": [],
   "source": [
    "features = [col for col in candidates.columns if col not in ['label', 'customer_id', 'article_id']]"
   ]
  },
  {
   "cell_type": "code",
   "execution_count": null,
   "id": "b900853f",
   "metadata": {},
   "outputs": [],
   "source": [
    "cat_features = candidates.select_dtypes(include='category').columns.to_list()"
   ]
  },
  {
   "cell_type": "code",
   "execution_count": null,
   "id": "8f2a048a",
   "metadata": {},
   "outputs": [],
   "source": [
    "cat_features = ['strategy_name',\n",
    " 'FN',\n",
    " 'Active',\n",
    " 'club_member_status',\n",
    " 'fashion_news_frequency',\n",
    " 'postal_code',\n",
    " 'product_group_name',\n",
    " 'department_name',\n",
    " 'index_code']"
   ]
  },
  {
   "cell_type": "code",
   "execution_count": null,
   "id": "d084514b",
   "metadata": {},
   "outputs": [],
   "source": [
    "cat_features"
   ]
  },
  {
   "cell_type": "code",
   "execution_count": null,
   "id": "757cd64b",
   "metadata": {},
   "outputs": [],
   "source": [
    "params = {\n",
    "    \"objective\": \"lambdarank\",\n",
    "    \"boosting_type\": \"gbdt\",\n",
    "    \"metric\": \"map\",\n",
    "    \"max_depth\": 8,\n",
    "    \"num_leaves\": 128,\n",
    "    \"learning_rate\": 0.03,\n",
    "    \"verbose\": -1,\n",
    "    \"eval_at\": 12,\n",
    "    # 'device':'gpu'\n",
    "}"
   ]
  },
  {
   "cell_type": "code",
   "execution_count": null,
   "id": "75f256bf",
   "metadata": {},
   "outputs": [],
   "source": [
    "validation_customers = pd.DataFrame(candidates.customer_id.unique()).sample(frac=0.2).iloc[:, 0].values"
   ]
  },
  {
   "cell_type": "code",
   "execution_count": null,
   "id": "f187b8d5",
   "metadata": {},
   "outputs": [],
   "source": [
    "len(validation_customers)"
   ]
  },
  {
   "cell_type": "code",
   "execution_count": null,
   "id": "9471d3cc",
   "metadata": {},
   "outputs": [],
   "source": [
    "train_candidates = candidates[~(candidates.customer_id.isin(validation_customers))]\n",
    "val_candidates = candidates[candidates.customer_id.isin(validation_customers)]"
   ]
  },
  {
   "cell_type": "code",
   "execution_count": null,
   "id": "c4c51cda",
   "metadata": {},
   "outputs": [],
   "source": [
    "train_candidates.shape, val_candidates.shape"
   ]
  },
  {
   "cell_type": "code",
   "execution_count": null,
   "id": "0f30121d",
   "metadata": {},
   "outputs": [],
   "source": [
    "train_candidates.customer_id.nunique(), val_candidates.customer_id.nunique()"
   ]
  },
  {
   "cell_type": "markdown",
   "id": "32cca9fa",
   "metadata": {},
   "source": [
    "##### groups"
   ]
  },
  {
   "cell_type": "code",
   "execution_count": null,
   "id": "ee215415",
   "metadata": {},
   "outputs": [],
   "source": [
    "train_group = train_candidates[['customer_id', 'article_id']]"
   ]
  },
  {
   "cell_type": "code",
   "execution_count": null,
   "id": "f6cbb0ef",
   "metadata": {},
   "outputs": [],
   "source": [
    "train_group = train_group.groupby(['customer_id']).size().values"
   ]
  },
  {
   "cell_type": "code",
   "execution_count": null,
   "id": "1b142408",
   "metadata": {},
   "outputs": [],
   "source": [
    "val_group = val_candidates[['customer_id', 'article_id']]"
   ]
  },
  {
   "cell_type": "code",
   "execution_count": null,
   "id": "dea74252",
   "metadata": {},
   "outputs": [],
   "source": [
    "val_group = val_group.groupby(['customer_id']).size().values"
   ]
  },
  {
   "cell_type": "markdown",
   "id": "79fc96e2",
   "metadata": {},
   "source": [
    "##### datasets"
   ]
  },
  {
   "cell_type": "code",
   "execution_count": null,
   "id": "6c3e109a",
   "metadata": {},
   "outputs": [],
   "source": [
    "train_set = lgb.Dataset(\n",
    "        data=train_candidates[features],\n",
    "        label=train_candidates[\"label\"],\n",
    "        group=train_group,\n",
    "        feature_name=features,\n",
    "        categorical_feature=cat_features,\n",
    "        params=params,\n",
    "    )"
   ]
  },
  {
   "cell_type": "code",
   "execution_count": null,
   "id": "6ff27e34",
   "metadata": {},
   "outputs": [],
   "source": [
    "val_set = lgb.Dataset(\n",
    "        data=val_candidates[features],\n",
    "        label=val_candidates[\"label\"],\n",
    "        group=val_group,\n",
    "        feature_name=features,\n",
    "        categorical_feature=cat_features,\n",
    "        params=params,\n",
    "    )"
   ]
  },
  {
   "cell_type": "markdown",
   "id": "06ed6510",
   "metadata": {},
   "source": [
    "del candidates\n",
    "gc.collect()"
   ]
  },
  {
   "cell_type": "code",
   "execution_count": null,
   "id": "82592a75",
   "metadata": {},
   "outputs": [],
   "source": [
    "ranker = lgb.train(\n",
    "        params,\n",
    "        train_set,\n",
    "        valid_sets=[val_set],\n",
    "        num_boost_round=30,\n",
    "    )"
   ]
  },
  {
   "cell_type": "code",
   "execution_count": null,
   "id": "7d39d486",
   "metadata": {},
   "outputs": [],
   "source": [
    "ranker"
   ]
  },
  {
   "cell_type": "code",
   "execution_count": null,
   "id": "5ba74423",
   "metadata": {},
   "outputs": [],
   "source": [
    "feat_importance = pd.DataFrame(\n",
    "    {\"feature\": features, \"importance\": ranker.feature_importance()}\n",
    ").sort_values(by=\"importance\", ascending=False)"
   ]
  },
  {
   "cell_type": "code",
   "execution_count": null,
   "id": "b268d37b",
   "metadata": {},
   "outputs": [],
   "source": [
    "import matplotlib.pyplot as plt\n",
    "import seaborn as sns"
   ]
  },
  {
   "cell_type": "code",
   "execution_count": null,
   "id": "444ad80a",
   "metadata": {},
   "outputs": [],
   "source": [
    "plt.figure(figsize=(8, 24))\n",
    "sns.barplot(y=\"feature\", x=\"importance\", data=feat_importance)"
   ]
  },
  {
   "cell_type": "code",
   "execution_count": null,
   "id": "1f130214",
   "metadata": {},
   "outputs": [],
   "source": [
    "def predict(ranker, candidates, batch_size = 1_000_000):\n",
    "    probs = np.zeros(candidates.shape[0])\n",
    "    for batch in range(0, candidates.shape[0], batch_size):\n",
    "        outputs = ranker.predict(candidates.loc[batch : batch + batch_size - 1, features])\n",
    "        probs[batch : batch + batch_size] = outputs\n",
    "    candidates[\"prob\"] = probs\n",
    "    pred_lgb = candidates[['customer_id', 'article_id', 'prob']]\n",
    "    pred_lgb = pred_lgb.sort_values(by=['customer_id', 'prob'], ascending=False).reset_index(drop=True)\n",
    "    pred_lgb.rename(columns={'article_id': 'prediction'}, inplace=True)\n",
    "    pred_lgb = pred_lgb.drop_duplicates(['customer_id', 'prediction'], keep='first')\n",
    "    pred_lgb = pred_lgb.groupby(\"customer_id\")[\"prediction\"].apply(list).reset_index()\n",
    "    return pred_lgb"
   ]
  },
  {
   "cell_type": "code",
   "execution_count": null,
   "id": "ee0ef39f",
   "metadata": {},
   "outputs": [],
   "source": [
    "pred = predict(ranker, val_candidates)"
   ]
  },
  {
   "cell_type": "code",
   "execution_count": null,
   "id": "434a26b3",
   "metadata": {},
   "outputs": [],
   "source": [
    "pred"
   ]
  },
  {
   "cell_type": "code",
   "execution_count": null,
   "id": "65c4ba00",
   "metadata": {},
   "outputs": [],
   "source": []
  },
  {
   "cell_type": "code",
   "execution_count": null,
   "id": "5ebb600b",
   "metadata": {},
   "outputs": [],
   "source": [
    "probs = np.zeros(val_candidates.shape[0])"
   ]
  },
  {
   "cell_type": "code",
   "execution_count": null,
   "id": "2c774c01",
   "metadata": {},
   "outputs": [],
   "source": [
    "probs"
   ]
  },
  {
   "cell_type": "code",
   "execution_count": null,
   "id": "af7e4659",
   "metadata": {},
   "outputs": [],
   "source": [
    "for batch in range(0, val_candidates.shape[0], 5_000_000):\n",
    "    outputs = ranker.predict(val_candidates.loc[batch : batch + 5_000_000 - 1, features])\n",
    "    probs[batch : batch + 5_000_000] = outputs"
   ]
  },
  {
   "cell_type": "code",
   "execution_count": null,
   "id": "334c964b",
   "metadata": {},
   "outputs": [],
   "source": [
    "val_candidates[\"prob\"] = probs"
   ]
  },
  {
   "cell_type": "code",
   "execution_count": null,
   "id": "fb4540cd",
   "metadata": {},
   "outputs": [],
   "source": [
    "pred_lgb = val_candidates[['customer_id', 'article_id', 'prob']].sort_values(by=['customer_id', 'prob'], ascending=False).reset_index(drop=True)"
   ]
  },
  {
   "cell_type": "code",
   "execution_count": null,
   "id": "8a1b808c",
   "metadata": {},
   "outputs": [],
   "source": [
    "pred_lgb"
   ]
  },
  {
   "cell_type": "code",
   "execution_count": null,
   "id": "e7089017",
   "metadata": {},
   "outputs": [],
   "source": [
    "pred_lgb.prob.describe()"
   ]
  },
  {
   "cell_type": "code",
   "execution_count": null,
   "id": "c0a1fd89",
   "metadata": {},
   "outputs": [],
   "source": [
    "pred_lgb = pred_lgb.groupby(['customer_id']).head(12)"
   ]
  },
  {
   "cell_type": "markdown",
   "id": "8500d82a",
   "metadata": {},
   "source": [
    "pred_lgb.loc[:, ['customer_id', 'article_id']] = pred_lgb.loc[:, ['customer_id', 'article_id']].astype(str)"
   ]
  },
  {
   "cell_type": "code",
   "execution_count": null,
   "id": "40b1f8c6",
   "metadata": {},
   "outputs": [],
   "source": [
    "pred_lgb.customer_id.nunique()"
   ]
  },
  {
   "cell_type": "code",
   "execution_count": null,
   "id": "e62ca835",
   "metadata": {},
   "outputs": [],
   "source": [
    "pred_lgb.head(13)"
   ]
  },
  {
   "cell_type": "code",
   "execution_count": null,
   "id": "b73eca3b",
   "metadata": {},
   "outputs": [],
   "source": [
    "pred_lgb.groupby(['customer_id'])['article_id'].apply(list).reset_index()"
   ]
  },
  {
   "cell_type": "code",
   "execution_count": null,
   "id": "291bbf7b",
   "metadata": {},
   "outputs": [],
   "source": []
  }
 ],
 "metadata": {
  "kernelspec": {
   "display_name": "Python 3.8.12 ('.venv': poetry)",
   "language": "python",
   "name": "python3"
  },
  "language_info": {
   "codemirror_mode": {
    "name": "ipython",
    "version": 3
   },
   "file_extension": ".py",
   "mimetype": "text/x-python",
   "name": "python",
   "nbconvert_exporter": "python",
   "pygments_lexer": "ipython3",
   "version": "3.8.12"
  },
  "vscode": {
   "interpreter": {
    "hash": "b090d651ab6bb94fc3fcfd79ea14f79b2004aa048e2234831f7803cc80488031"
   }
  }
 },
 "nbformat": 4,
 "nbformat_minor": 5
}
