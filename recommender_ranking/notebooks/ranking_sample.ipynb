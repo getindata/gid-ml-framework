{
 "cells": [
  {
   "cell_type": "code",
   "execution_count": null,
   "id": "1c1d0c3a",
   "metadata": {},
   "outputs": [],
   "source": [
    "%load_ext kedro.extras.extensions.ipython"
   ]
  },
  {
   "cell_type": "code",
   "execution_count": null,
   "id": "426fd428",
   "metadata": {},
   "outputs": [],
   "source": [
    "%reload_kedro"
   ]
  },
  {
   "cell_type": "code",
   "execution_count": null,
   "id": "a000d97b",
   "metadata": {},
   "outputs": [],
   "source": [
    "import pandas as pd\n",
    "import numpy as np"
   ]
  },
  {
   "cell_type": "code",
   "execution_count": null,
   "id": "312b41af",
   "metadata": {},
   "outputs": [],
   "source": [
    "pd.set_option('display.float_format', lambda x: '%.4f' % x)"
   ]
  },
  {
   "cell_type": "code",
   "execution_count": null,
   "id": "c718a64e",
   "metadata": {},
   "outputs": [],
   "source": [
    "[data for data in catalog.list() if not data.startswith('params:')]"
   ]
  },
  {
   "cell_type": "code",
   "execution_count": null,
   "id": "47375ff9",
   "metadata": {},
   "outputs": [],
   "source": [
    "[data for data in catalog.list() if data.startswith('params:')]"
   ]
  },
  {
   "cell_type": "code",
   "execution_count": null,
   "id": "7e7e3db0",
   "metadata": {},
   "outputs": [],
   "source": [
    "context.catalog.load('recommendations').head()"
   ]
  },
  {
   "cell_type": "markdown",
   "id": "31318e25",
   "metadata": {},
   "source": [
    "### loading data"
   ]
  },
  {
   "cell_type": "code",
   "execution_count": null,
   "id": "580b9342",
   "metadata": {},
   "outputs": [],
   "source": [
    "candidates = context.catalog.load('candidates_similarity_features')"
   ]
  },
  {
   "cell_type": "code",
   "execution_count": null,
   "id": "fd0a7532",
   "metadata": {},
   "outputs": [],
   "source": [
    "candidates.shape"
   ]
  },
  {
   "cell_type": "code",
   "execution_count": null,
   "id": "440f7577",
   "metadata": {},
   "outputs": [],
   "source": [
    "val_transactions = context.catalog.load('val_transactions')"
   ]
  },
  {
   "cell_type": "code",
   "execution_count": null,
   "id": "da8f02c8",
   "metadata": {},
   "outputs": [],
   "source": [
    "val_transactions = val_transactions[['customer_id', 'article_id']].assign(label=lambda x: 1)"
   ]
  },
  {
   "cell_type": "code",
   "execution_count": null,
   "id": "734b8f58",
   "metadata": {},
   "outputs": [],
   "source": [
    "val_transactions.shape"
   ]
  },
  {
   "cell_type": "code",
   "execution_count": null,
   "id": "4de787f1",
   "metadata": {},
   "outputs": [],
   "source": [
    "val_transactions = val_transactions.drop_duplicates()"
   ]
  },
  {
   "cell_type": "code",
   "execution_count": null,
   "id": "e5c1970e",
   "metadata": {},
   "outputs": [],
   "source": [
    "val_transactions.shape"
   ]
  },
  {
   "cell_type": "code",
   "execution_count": null,
   "id": "55d0240b",
   "metadata": {},
   "outputs": [],
   "source": [
    "candidates.groupby(['customer_id'])['article_id'].nunique().describe(percentiles=\n",
    "                                                                     [0.001, 0.1, 0.2, 0.5, 0.8, 0.9, 0.99])"
   ]
  },
  {
   "cell_type": "markdown",
   "id": "6f3b277e",
   "metadata": {},
   "source": [
    "##### only 1 way needed"
   ]
  },
  {
   "cell_type": "markdown",
   "id": "5035ff8a",
   "metadata": {},
   "source": [
    "sample frac=1 is inefficient, but probably more correct"
   ]
  },
  {
   "cell_type": "markdown",
   "id": "79ff076b",
   "metadata": {},
   "source": [
    "## maybe keep all positive examples??"
   ]
  },
  {
   "cell_type": "markdown",
   "id": "9e4180f9",
   "metadata": {},
   "source": [
    "candidates = candidates.merge(val_transactions, on=['customer_id', 'article_id'], how='left').fillna({'label': 0})\n",
    "\n",
    "candidates['label'] = candidates['label'].astype(int)\n",
    "\n",
    "positive_candidates = candidates.groupby(['customer_id'])['label'].max().reset_index()\n",
    "\n",
    "positive_candidates.shape\n",
    "\n",
    "positive_candidates = positive_candidates[positive_candidates.label>0]\n",
    "\n",
    "positive_candidates.shape\n",
    "\n",
    "candidates.shape\n",
    "\n",
    "candidates = candidates[candidates.customer_id.isin(positive_candidates.customer_id.to_list())]\n",
    "\n",
    "candidates.shape"
   ]
  },
  {
   "cell_type": "code",
   "execution_count": null,
   "id": "58bd86bb",
   "metadata": {},
   "outputs": [],
   "source": []
  },
  {
   "cell_type": "code",
   "execution_count": null,
   "id": "fa984010",
   "metadata": {},
   "outputs": [],
   "source": []
  },
  {
   "cell_type": "code",
   "execution_count": null,
   "id": "2c79055c",
   "metadata": {},
   "outputs": [],
   "source": [
    "candidates = candidates.sample(frac=1, random_state=888).groupby(['customer_id']).head(10).reset_index(drop=True)"
   ]
  },
  {
   "cell_type": "markdown",
   "id": "a0bdaa34",
   "metadata": {},
   "source": [
    "candidates = candidates.groupby(['customer_id']).sample(n=200, random_state=888).reset_index(drop=True)"
   ]
  },
  {
   "cell_type": "code",
   "execution_count": null,
   "id": "cb72d6d5",
   "metadata": {},
   "outputs": [],
   "source": [
    "candidates.shape"
   ]
  },
  {
   "cell_type": "code",
   "execution_count": null,
   "id": "9fe0f8f7",
   "metadata": {},
   "outputs": [],
   "source": [
    "val_transactions.shape"
   ]
  },
  {
   "cell_type": "code",
   "execution_count": null,
   "id": "540b4fd3",
   "metadata": {},
   "outputs": [],
   "source": [
    "candidates = candidates.merge(val_transactions, on=['customer_id', 'article_id'], how='left').fillna({'label': 0})"
   ]
  },
  {
   "cell_type": "code",
   "execution_count": null,
   "id": "751727ad",
   "metadata": {},
   "outputs": [],
   "source": [
    "candidates['label'] = candidates['label'].astype(int)"
   ]
  },
  {
   "cell_type": "code",
   "execution_count": null,
   "id": "c2f54471",
   "metadata": {},
   "outputs": [],
   "source": [
    "candidates.shape"
   ]
  },
  {
   "cell_type": "code",
   "execution_count": null,
   "id": "8f72a4d4",
   "metadata": {},
   "outputs": [],
   "source": [
    "candidates.customer_id.nunique()"
   ]
  },
  {
   "cell_type": "code",
   "execution_count": null,
   "id": "c91c7d71",
   "metadata": {},
   "outputs": [],
   "source": [
    "candidates.head()"
   ]
  },
  {
   "cell_type": "code",
   "execution_count": null,
   "id": "791db0b0",
   "metadata": {},
   "outputs": [],
   "source": [
    "candidates.label.value_counts(normalize=True)"
   ]
  },
  {
   "cell_type": "code",
   "execution_count": null,
   "id": "3805885b",
   "metadata": {},
   "outputs": [],
   "source": [
    "candidates.label.value_counts(normalize=False)"
   ]
  },
  {
   "cell_type": "code",
   "execution_count": null,
   "id": "80d45161",
   "metadata": {},
   "outputs": [],
   "source": [
    "137175296/22704"
   ]
  },
  {
   "cell_type": "code",
   "execution_count": null,
   "id": "4a7c6a1b",
   "metadata": {},
   "outputs": [],
   "source": [
    "candidates.groupby(['customer_id'])['article_id'].nunique().describe()"
   ]
  },
  {
   "cell_type": "markdown",
   "id": "9d665117",
   "metadata": {},
   "source": [
    "### optimizing data"
   ]
  },
  {
   "cell_type": "code",
   "execution_count": null,
   "id": "715c9e9b",
   "metadata": {},
   "outputs": [],
   "source": [
    "def reduce_mem_usage(df, verbose=True):\n",
    "    numerics = ['int16', 'int32', 'int64', 'float16', 'float32', 'float64',\n",
    "               # fucking pandas types\n",
    "                'Int16', 'Int32', 'Int64', 'Float16', 'Float32', 'Float64'\n",
    "               ]\n",
    "    start_mem = df.memory_usage().sum() / 1024**2\n",
    "    print(f'Starting usage memory: {start_mem:.2f}')\n",
    "\n",
    "    for col in df.columns:\n",
    "        col_type = df[col].dtypes\n",
    "        if col_type in numerics:\n",
    "            c_min = df[col].min()\n",
    "            c_max = df[col].max()\n",
    "            if str(col_type).lower()[:3] == 'int':\n",
    "                if c_min > np.iinfo(np.int8).min and c_max < np.iinfo(np.int8).max:\n",
    "                    df[col] = df[col].astype(np.int8)\n",
    "                elif c_min > np.iinfo(np.int16).min and c_max < np.iinfo(np.int16).max:\n",
    "                    df[col] = df[col].astype(np.int16)\n",
    "                elif c_min > np.iinfo(np.int32).min and c_max < np.iinfo(np.int32).max:\n",
    "                    df[col] = df[col].astype(np.int32)\n",
    "                elif c_min > np.iinfo(np.int64).min and c_max < np.iinfo(np.int64).max:\n",
    "                    df[col] = df[col].astype(np.int64)\n",
    "            else:\n",
    "                if c_min > np.finfo(np.float32).min and c_max < np.finfo(np. float32).max:\n",
    "                    df[col] = df[col].astype(np.float32)\n",
    "                else:\n",
    "                    df[col] = df[col].astype(np.float64)\n",
    "        # if col_type == 'object':\n",
    "            # here\n",
    "    end_mem = df.memory_usage().sum() / 1024**2\n",
    "    if verbose:\n",
    "        print('Mem. usage decreased to {:5.2f} Mb ({:.1f}% reduction)'.format(end_mem, 100 * (start_mem - end_mem) / start_mem))\n",
    "    return df"
   ]
  },
  {
   "cell_type": "code",
   "execution_count": null,
   "id": "055d35fc",
   "metadata": {},
   "outputs": [],
   "source": [
    "candidates = reduce_mem_usage(candidates)"
   ]
  },
  {
   "cell_type": "markdown",
   "id": "ce2bf116",
   "metadata": {},
   "source": [
    "### regex"
   ]
  },
  {
   "cell_type": "code",
   "execution_count": null,
   "id": "ed2529e5",
   "metadata": {},
   "outputs": [],
   "source": [
    "import re"
   ]
  },
  {
   "cell_type": "code",
   "execution_count": null,
   "id": "1c20f650",
   "metadata": {},
   "outputs": [],
   "source": [
    "count_pattern = '^[Cc][Oo][Uu][Nn][Tt]'"
   ]
  },
  {
   "cell_type": "code",
   "execution_count": null,
   "id": "89741771",
   "metadata": {},
   "outputs": [],
   "source": [
    "def fill_na_int(df, regex_pattern, fill_na_value):\n",
    "    cols = [col for col in df.columns if re.match(regex_pattern, col)]\n",
    "    df.loc[:, cols] = df.loc[:, cols].fillna(fill_na_value).astype(int)\n",
    "    return df"
   ]
  },
  {
   "cell_type": "markdown",
   "id": "9118049d",
   "metadata": {},
   "source": [
    "### articles"
   ]
  },
  {
   "cell_type": "code",
   "execution_count": null,
   "id": "43506c9a",
   "metadata": {},
   "outputs": [],
   "source": [
    "automated_articles_features = context.catalog.load('automated_articles_features')"
   ]
  },
  {
   "cell_type": "code",
   "execution_count": null,
   "id": "10087bb7",
   "metadata": {},
   "outputs": [],
   "source": [
    "manual_article_features = context.catalog.load('manual_article_features')"
   ]
  },
  {
   "cell_type": "code",
   "execution_count": null,
   "id": "d105a734",
   "metadata": {},
   "outputs": [],
   "source": [
    "automated_articles_features = fill_na_int(automated_articles_features, count_pattern, 0)"
   ]
  },
  {
   "cell_type": "code",
   "execution_count": null,
   "id": "6e3f02b0",
   "metadata": {},
   "outputs": [],
   "source": [
    "automated_articles_features = reduce_mem_usage(automated_articles_features)"
   ]
  },
  {
   "cell_type": "code",
   "execution_count": null,
   "id": "6f2e5439",
   "metadata": {},
   "outputs": [],
   "source": [
    "manual_article_features = reduce_mem_usage(manual_article_features)"
   ]
  },
  {
   "cell_type": "code",
   "execution_count": null,
   "id": "36632c9f",
   "metadata": {},
   "outputs": [],
   "source": [
    "candidates = candidates.merge(automated_articles_features, how='left', on='article_id')"
   ]
  },
  {
   "cell_type": "code",
   "execution_count": null,
   "id": "f9216b37",
   "metadata": {},
   "outputs": [],
   "source": [
    "candidates = candidates.merge(manual_article_features, how='left', on='article_id')"
   ]
  },
  {
   "cell_type": "code",
   "execution_count": null,
   "id": "7025b4ce",
   "metadata": {},
   "outputs": [],
   "source": [
    "import gc"
   ]
  },
  {
   "cell_type": "code",
   "execution_count": null,
   "id": "e7dd0a5a",
   "metadata": {},
   "outputs": [],
   "source": [
    "del automated_articles_features\n",
    "gc.collect()"
   ]
  },
  {
   "cell_type": "code",
   "execution_count": null,
   "id": "b9d9cf42",
   "metadata": {},
   "outputs": [],
   "source": [
    "del manual_article_features\n",
    "gc.collect()"
   ]
  },
  {
   "cell_type": "code",
   "execution_count": null,
   "id": "7198b231",
   "metadata": {},
   "outputs": [],
   "source": [
    "candidates.shape"
   ]
  },
  {
   "cell_type": "markdown",
   "id": "d798ae2b",
   "metadata": {},
   "source": [
    "### customers"
   ]
  },
  {
   "cell_type": "code",
   "execution_count": null,
   "id": "777039ad",
   "metadata": {},
   "outputs": [],
   "source": [
    "automated_customers_features = context.catalog.load('automated_customers_features')"
   ]
  },
  {
   "cell_type": "code",
   "execution_count": null,
   "id": "c37b7800",
   "metadata": {},
   "outputs": [],
   "source": [
    "manual_customer_features = context.catalog.load('manual_customer_features')"
   ]
  },
  {
   "cell_type": "code",
   "execution_count": null,
   "id": "7aeb9ca3",
   "metadata": {},
   "outputs": [],
   "source": [
    "automated_customers_features = fill_na_int(automated_customers_features, count_pattern, 0)"
   ]
  },
  {
   "cell_type": "code",
   "execution_count": null,
   "id": "0c7ee06c",
   "metadata": {},
   "outputs": [],
   "source": [
    "manual_customer_features = fill_na_int(manual_customer_features, count_pattern, 0)"
   ]
  },
  {
   "cell_type": "code",
   "execution_count": null,
   "id": "a6e50d61",
   "metadata": {},
   "outputs": [],
   "source": [
    "automated_customers_features = reduce_mem_usage(automated_customers_features)"
   ]
  },
  {
   "cell_type": "code",
   "execution_count": null,
   "id": "49809e2f",
   "metadata": {},
   "outputs": [],
   "source": [
    "manual_customer_features = reduce_mem_usage(manual_customer_features)"
   ]
  },
  {
   "cell_type": "code",
   "execution_count": null,
   "id": "ab28c828",
   "metadata": {},
   "outputs": [],
   "source": [
    "candidates = candidates.merge(automated_customers_features, how='left', on='customer_id')"
   ]
  },
  {
   "cell_type": "code",
   "execution_count": null,
   "id": "d001a9a1",
   "metadata": {},
   "outputs": [],
   "source": [
    "candidates = candidates.merge(manual_customer_features, how='left', on='customer_id')"
   ]
  },
  {
   "cell_type": "code",
   "execution_count": null,
   "id": "b7bec76c",
   "metadata": {},
   "outputs": [],
   "source": [
    "candidates = fill_na_int(candidates, count_pattern, 0)"
   ]
  },
  {
   "cell_type": "code",
   "execution_count": null,
   "id": "27ad1f8b",
   "metadata": {},
   "outputs": [],
   "source": [
    "candidates = reduce_mem_usage(candidates)"
   ]
  },
  {
   "cell_type": "code",
   "execution_count": null,
   "id": "4cb19700",
   "metadata": {},
   "outputs": [],
   "source": []
  },
  {
   "cell_type": "code",
   "execution_count": null,
   "id": "eaae7c4e",
   "metadata": {},
   "outputs": [],
   "source": [
    "del automated_customers_features\n",
    "gc.collect()"
   ]
  },
  {
   "cell_type": "code",
   "execution_count": null,
   "id": "6cd95086",
   "metadata": {},
   "outputs": [],
   "source": [
    "del manual_customer_features\n",
    "gc.collect()"
   ]
  },
  {
   "cell_type": "code",
   "execution_count": null,
   "id": "03d9807f",
   "metadata": {},
   "outputs": [],
   "source": [
    "candidates.shape"
   ]
  },
  {
   "cell_type": "code",
   "execution_count": null,
   "id": "e9b214e8",
   "metadata": {},
   "outputs": [],
   "source": [
    "candidates['strategy_name'] = candidates['strategy_name'].astype('category')"
   ]
  },
  {
   "cell_type": "code",
   "execution_count": null,
   "id": "ced49669",
   "metadata": {},
   "outputs": [],
   "source": [
    "candidates.memory_usage().sum() / 1024**2"
   ]
  },
  {
   "cell_type": "markdown",
   "id": "174f22eb",
   "metadata": {},
   "source": [
    "### dictionary features"
   ]
  },
  {
   "cell_type": "code",
   "execution_count": null,
   "id": "9d974b68",
   "metadata": {},
   "outputs": [],
   "source": [
    "articles = context.catalog.load('articles')"
   ]
  },
  {
   "cell_type": "code",
   "execution_count": null,
   "id": "302f2961",
   "metadata": {},
   "outputs": [],
   "source": [
    "customers = context.catalog.load('customers')"
   ]
  },
  {
   "cell_type": "code",
   "execution_count": null,
   "id": "51af7c4b",
   "metadata": {},
   "outputs": [],
   "source": [
    "drop_cols_articles = ['prod_name', 'product_type_name', 'graphical_appearance_name', 'colour_group_name', 'perceived_colour_value_name', 'perceived_colour_master_name', 'index_name', 'index_group_name', 'section_name', 'garment_group_name', 'detail_desc']"
   ]
  },
  {
   "cell_type": "code",
   "execution_count": null,
   "id": "e358bf64",
   "metadata": {},
   "outputs": [],
   "source": [
    "# these cols are just the same values as _no (OR SIMILAR, HAVEN'T CHECKED) but mostly DUPLICATES\n",
    "articles.drop(drop_cols_articles, axis=1, inplace=True)"
   ]
  },
  {
   "cell_type": "code",
   "execution_count": null,
   "id": "cd2704fa",
   "metadata": {},
   "outputs": [],
   "source": [
    "articles = reduce_mem_usage(articles)"
   ]
  },
  {
   "cell_type": "code",
   "execution_count": null,
   "id": "48e3feb1",
   "metadata": {},
   "outputs": [],
   "source": [
    "customers = reduce_mem_usage(customers)"
   ]
  },
  {
   "cell_type": "code",
   "execution_count": null,
   "id": "ee565365",
   "metadata": {},
   "outputs": [],
   "source": [
    "candidates = candidates.merge(customers, how='left', on='customer_id')"
   ]
  },
  {
   "cell_type": "code",
   "execution_count": null,
   "id": "688dee11",
   "metadata": {},
   "outputs": [],
   "source": [
    "import gc"
   ]
  },
  {
   "cell_type": "code",
   "execution_count": null,
   "id": "fb49c357",
   "metadata": {},
   "outputs": [],
   "source": [
    "del customers\n",
    "gc.collect()"
   ]
  },
  {
   "cell_type": "code",
   "execution_count": null,
   "id": "d9383643",
   "metadata": {},
   "outputs": [],
   "source": [
    "candidates = candidates.merge(articles, how='left', on='article_id')"
   ]
  },
  {
   "cell_type": "code",
   "execution_count": null,
   "id": "7c8e5204",
   "metadata": {},
   "outputs": [],
   "source": [
    "del articles\n",
    "gc.collect()"
   ]
  },
  {
   "cell_type": "code",
   "execution_count": null,
   "id": "ee895271",
   "metadata": {},
   "outputs": [],
   "source": [
    "candidates = reduce_mem_usage(candidates)"
   ]
  },
  {
   "cell_type": "code",
   "execution_count": null,
   "id": "4d185419",
   "metadata": {},
   "outputs": [],
   "source": [
    "candidates.shape"
   ]
  },
  {
   "cell_type": "code",
   "execution_count": null,
   "id": "2f3a6146",
   "metadata": {},
   "outputs": [],
   "source": [
    "candidates.loc[:, ['index_code', 'club_member_status',\n",
    "       'fashion_news_frequency', 'postal_code', 'product_group_name',\n",
    "       'department_name', 'FN', 'Active']] = candidates.loc[:, ['index_code',\n",
    "                                                                'club_member_status',\n",
    "       'fashion_news_frequency', 'postal_code', 'product_group_name',\n",
    "       'department_name', 'FN', 'Active']].astype('category')"
   ]
  },
  {
   "cell_type": "code",
   "execution_count": null,
   "id": "f1397af6",
   "metadata": {},
   "outputs": [],
   "source": [
    "candidates.loc[:, ['index_code', 'product_group_name', 'department_name']] = candidates.loc[:, ['index_code', 'product_group_name', 'department_name']].astype('category')"
   ]
  },
  {
   "cell_type": "code",
   "execution_count": null,
   "id": "ec2da5ec",
   "metadata": {},
   "outputs": [],
   "source": [
    "candidates.loc[:, ['club_member_status', 'fashion_news_frequency', 'postal_code', 'FN', 'Active']] = (\n",
    "    candidates.loc[:, ['club_member_status', 'fashion_news_frequency', 'postal_code', 'FN', 'Active']].astype('category')\n",
    ")"
   ]
  },
  {
   "cell_type": "code",
   "execution_count": null,
   "id": "77928285",
   "metadata": {},
   "outputs": [],
   "source": [
    "candidates.memory_usage().sum() / 1024**2"
   ]
  },
  {
   "cell_type": "markdown",
   "id": "2781d365",
   "metadata": {},
   "source": [
    "### import lightgbm"
   ]
  },
  {
   "cell_type": "code",
   "execution_count": null,
   "id": "54ebc5aa",
   "metadata": {},
   "outputs": [],
   "source": [
    "import lightgbm as lgb"
   ]
  },
  {
   "cell_type": "code",
   "execution_count": null,
   "id": "b701b71b",
   "metadata": {},
   "outputs": [],
   "source": [
    "candidates.select_dtypes(include='category').columns"
   ]
  },
  {
   "cell_type": "code",
   "execution_count": null,
   "id": "5919886f",
   "metadata": {},
   "outputs": [],
   "source": [
    "# train positive rate\n",
    "candidates.label.mean() * 10"
   ]
  },
  {
   "cell_type": "code",
   "execution_count": null,
   "id": "7521fd09",
   "metadata": {},
   "outputs": [],
   "source": [
    "features = [col for col in candidates.columns if col not in ['label', 'customer_id', 'article_id']]"
   ]
  },
  {
   "cell_type": "code",
   "execution_count": null,
   "id": "b900853f",
   "metadata": {},
   "outputs": [],
   "source": [
    "cat_features = candidates.select_dtypes(include='category').columns.to_list()"
   ]
  },
  {
   "cell_type": "code",
   "execution_count": null,
   "id": "e7c9f4c3",
   "metadata": {},
   "outputs": [],
   "source": [
    "cat_features"
   ]
  },
  {
   "cell_type": "markdown",
   "id": "1a25d6a8",
   "metadata": {},
   "source": [
    "### ranker"
   ]
  },
  {
   "cell_type": "code",
   "execution_count": null,
   "id": "757cd64b",
   "metadata": {},
   "outputs": [],
   "source": [
    "params = {\n",
    "    \"objective\": \"lambdarank\",\n",
    "    \"boosting_type\": \"gbdt\",\n",
    "    \"metric\": \"map\",\n",
    "    \"max_depth\": 8,\n",
    "    \"num_leaves\": 128,\n",
    "    \"learning_rate\": 0.03,\n",
    "    \"verbose\": 1,\n",
    "    \"eval_at\": [1, 2, 3, 4, 5, 6, 7, 8, 9, 10, 11, 12],\n",
    "    # 'device':'gpu'\n",
    "}"
   ]
  },
  {
   "cell_type": "code",
   "execution_count": null,
   "id": "d1017f92",
   "metadata": {},
   "outputs": [],
   "source": [
    "candidates.head()"
   ]
  },
  {
   "cell_type": "code",
   "execution_count": null,
   "id": "bf28636a",
   "metadata": {},
   "outputs": [],
   "source": [
    "df_split = candidates.groupby(['customer_id'])['label'].max().reset_index()"
   ]
  },
  {
   "cell_type": "code",
   "execution_count": null,
   "id": "f39a9dd4",
   "metadata": {},
   "outputs": [],
   "source": [
    "from sklearn.model_selection import train_test_split"
   ]
  },
  {
   "cell_type": "code",
   "execution_count": null,
   "id": "a6a42be7",
   "metadata": {},
   "outputs": [],
   "source": [
    "train_candidates, val_candidates = train_test_split(df_split, test_size=0.15, random_state=42, stratify=df_split['label'])"
   ]
  },
  {
   "cell_type": "code",
   "execution_count": null,
   "id": "bff2f979",
   "metadata": {},
   "outputs": [],
   "source": [
    "train_candidates = candidates[candidates.customer_id.isin(train_candidates['customer_id'].unique())]"
   ]
  },
  {
   "cell_type": "code",
   "execution_count": null,
   "id": "d122ebd4",
   "metadata": {},
   "outputs": [],
   "source": [
    "val_candidates = candidates[candidates.customer_id.isin(val_candidates['customer_id'].unique())]"
   ]
  },
  {
   "cell_type": "code",
   "execution_count": null,
   "id": "df12616c",
   "metadata": {},
   "outputs": [],
   "source": []
  },
  {
   "cell_type": "code",
   "execution_count": null,
   "id": "4451cb06",
   "metadata": {},
   "outputs": [],
   "source": [
    "del candidates\n",
    "gc.collect()"
   ]
  },
  {
   "cell_type": "code",
   "execution_count": null,
   "id": "581f0f6b",
   "metadata": {},
   "outputs": [],
   "source": [
    "# train positive rate\n",
    "train_candidates.label.mean() * 10"
   ]
  },
  {
   "cell_type": "code",
   "execution_count": null,
   "id": "88ce1e4f",
   "metadata": {},
   "outputs": [],
   "source": [
    "# val positive rate\n",
    "val_candidates.label.mean() * 10"
   ]
  },
  {
   "cell_type": "markdown",
   "id": "68c429d6",
   "metadata": {},
   "source": [
    "##### groups"
   ]
  },
  {
   "cell_type": "code",
   "execution_count": null,
   "id": "0b2e5897",
   "metadata": {},
   "outputs": [],
   "source": [
    "train_group = train_candidates[['customer_id', 'article_id']]"
   ]
  },
  {
   "cell_type": "code",
   "execution_count": null,
   "id": "c16e51c8",
   "metadata": {},
   "outputs": [],
   "source": [
    "train_group = train_group.groupby(['customer_id']).size().values"
   ]
  },
  {
   "cell_type": "code",
   "execution_count": null,
   "id": "052f043f",
   "metadata": {},
   "outputs": [],
   "source": [
    "val_group = val_candidates[['customer_id', 'article_id']]"
   ]
  },
  {
   "cell_type": "code",
   "execution_count": null,
   "id": "e1078fa8",
   "metadata": {},
   "outputs": [],
   "source": [
    "val_group = val_group.groupby(['customer_id']).size().values"
   ]
  },
  {
   "cell_type": "markdown",
   "id": "126175a1",
   "metadata": {},
   "source": [
    "##### datasets"
   ]
  },
  {
   "cell_type": "code",
   "execution_count": null,
   "id": "7714c9c3",
   "metadata": {},
   "outputs": [],
   "source": [
    "train_set = lgb.Dataset(\n",
    "        data=train_candidates[features],\n",
    "        label=train_candidates[\"label\"],\n",
    "        group=train_group,\n",
    "        feature_name=features,\n",
    "        categorical_feature=cat_features,\n",
    "    )"
   ]
  },
  {
   "cell_type": "code",
   "execution_count": null,
   "id": "d3da6691",
   "metadata": {},
   "outputs": [],
   "source": [
    "val_set = lgb.Dataset(\n",
    "        data=val_candidates[features],\n",
    "        label=val_candidates[\"label\"],\n",
    "        group=val_group,\n",
    "        feature_name=features,\n",
    "        categorical_feature=cat_features,\n",
    "    )"
   ]
  },
  {
   "cell_type": "code",
   "execution_count": null,
   "id": "e63b1234",
   "metadata": {},
   "outputs": [],
   "source": [
    "ranker = lgb.train(\n",
    "        params,\n",
    "        train_set,\n",
    "        valid_sets=[train_set, val_set],\n",
    "        valid_names=['train', 'valid'],\n",
    "        num_boost_round=500,\n",
    "        callbacks=[lgb.early_stopping(stopping_rounds=10)]\n",
    "    )"
   ]
  },
  {
   "cell_type": "code",
   "execution_count": null,
   "id": "de11fabe",
   "metadata": {},
   "outputs": [],
   "source": [
    "ranker.best_score"
   ]
  },
  {
   "cell_type": "code",
   "execution_count": null,
   "id": "f645bca0",
   "metadata": {},
   "outputs": [],
   "source": [
    "ranker.save_model('ranker_model_20220824.txt',\n",
    "        num_iteration=ranker.best_iteration,\n",
    "    )"
   ]
  },
  {
   "cell_type": "code",
   "execution_count": null,
   "id": "4ba6fc99",
   "metadata": {},
   "outputs": [],
   "source": []
  },
  {
   "cell_type": "code",
   "execution_count": null,
   "id": "f9f4caee",
   "metadata": {},
   "outputs": [],
   "source": [
    "import numpy as np\n",
    "\n",
    "\n",
    "def _ap_at_k(actual, predicted, k=10):\n",
    "    if len(predicted) > k:\n",
    "        predicted = predicted[:k]\n",
    "\n",
    "    score = 0.0\n",
    "    num_hits = 0.0\n",
    "\n",
    "    for i, p in enumerate(predicted):\n",
    "        if p in actual and p not in predicted[:i]:\n",
    "            num_hits += 1.0\n",
    "            score += num_hits / (i + 1.0)\n",
    "\n",
    "    if actual is None:\n",
    "        return 0.0\n",
    "\n",
    "    return score / min(len(actual), k)\n",
    "\n",
    "\n",
    "\n",
    "def map_at_k(actual, predicted, k=12):\n",
    "    \"\"\"Compute mean average precision @ k.\n",
    "    Parameters\n",
    "    ----------\n",
    "    actual : Iterable\n",
    "        Label.\n",
    "    predicted : Iterable\n",
    "        Predictions.\n",
    "    k : int, optional\n",
    "        k, by default ``12``.\n",
    "    Returns\n",
    "    -------\n",
    "    float\n",
    "        MAP@k.\n",
    "    \"\"\"\n",
    "    return np.mean(\n",
    "        [_ap_at_k(a, p, k) for a, p in zip(actual, predicted) if a is not None]\n",
    "    )"
   ]
  },
  {
   "cell_type": "code",
   "execution_count": null,
   "id": "6e2b3ba5",
   "metadata": {},
   "outputs": [],
   "source": [
    "def predict(ranker, candidates):\n",
    "    candidates['prob'] = ranker.predict(candidates.drop(['customer_id', 'article_id', 'label'], axis=1))\n",
    "    pred_lgb = candidates[['customer_id', 'article_id', 'prob']].sort_values(by=['customer_id', 'prob'], ascending=False).reset_index(drop=True)\n",
    "    pred_lgb = pred_lgb.groupby(['customer_id']).head(12)\n",
    "    return pred_lgb.groupby(['customer_id'])['article_id'].apply(list).reset_index()"
   ]
  },
  {
   "cell_type": "code",
   "execution_count": null,
   "id": "e8fd1551",
   "metadata": {},
   "outputs": [],
   "source": [
    "ranker.best_score"
   ]
  },
  {
   "cell_type": "code",
   "execution_count": null,
   "id": "6d44458e",
   "metadata": {},
   "outputs": [],
   "source": [
    "ranker.best_score"
   ]
  },
  {
   "cell_type": "code",
   "execution_count": null,
   "id": "7a874d54",
   "metadata": {},
   "outputs": [],
   "source": [
    "val_candidates.drop(['prob'],axis=1, inplace=True)"
   ]
  },
  {
   "cell_type": "code",
   "execution_count": null,
   "id": "349f9a18",
   "metadata": {},
   "outputs": [],
   "source": [
    "preds = predict(ranker, val_candidates)"
   ]
  },
  {
   "cell_type": "code",
   "execution_count": null,
   "id": "7181886d",
   "metadata": {},
   "outputs": [],
   "source": [
    "preds"
   ]
  },
  {
   "cell_type": "code",
   "execution_count": null,
   "id": "c458f576",
   "metadata": {},
   "outputs": [],
   "source": [
    "preds['dsada'] = preds.article_id.sample(frac=1).reset_index(drop=True)"
   ]
  },
  {
   "cell_type": "code",
   "execution_count": null,
   "id": "e046bd46",
   "metadata": {},
   "outputs": [],
   "source": [
    "preds.columns = ['customer_id', 'prediction_0', 'prediction_1']"
   ]
  },
  {
   "cell_type": "code",
   "execution_count": null,
   "id": "52bb23f4",
   "metadata": {},
   "outputs": [],
   "source": [
    "preds.shape"
   ]
  },
  {
   "cell_type": "code",
   "execution_count": null,
   "id": "8264bce9",
   "metadata": {},
   "outputs": [],
   "source": [
    "preds.head()"
   ]
  },
  {
   "cell_type": "code",
   "execution_count": null,
   "id": "914cd009",
   "metadata": {},
   "outputs": [],
   "source": [
    "preds['prediction_0'] = preds['prediction_0'].apply(lambda x: ' '.join(x))\n",
    "preds['prediction_1'] = preds['prediction_1'].apply(lambda x: ' '.join(x))"
   ]
  },
  {
   "cell_type": "code",
   "execution_count": null,
   "id": "ca7552c3",
   "metadata": {},
   "outputs": [],
   "source": [
    "preds.head()"
   ]
  },
  {
   "cell_type": "code",
   "execution_count": null,
   "id": "27ef0ebb",
   "metadata": {},
   "outputs": [],
   "source": [
    "def weight_predictions(preds):\n",
    "    rec = []\n",
    "    rec.append(preds['prediction_0'])\n",
    "    rec.append(preds['prediction_1'])\n",
    "    \n",
    "    res = dict()\n",
    "    for prediction_no in range(len(rec)):\n",
    "        for i, article_id in enumerate(rec[prediction_no]):\n",
    "            res[article_id] = res.get(article_id, 0) + 1/(i+1)\n",
    "    res = list(dict(sorted(res.items(), key=lambda item: -item[1])).keys())\n",
    "    res = ' '.join(res[:12])\n",
    "    return res"
   ]
  },
  {
   "cell_type": "code",
   "execution_count": null,
   "id": "c3b27532",
   "metadata": {},
   "outputs": [],
   "source": [
    "def weight_predictions(preds):\n",
    "    #Create a list of all model predictions\n",
    "    REC = []\n",
    "\n",
    "    # Second Try\n",
    "    REC.append(preds['prediction_0'])\n",
    "    REC.append(preds['prediction_1'])\n",
    "\n",
    "    #Create a dictionary of items recommended.\n",
    "    #Assign a weight according the order of appearance and multiply by global weights\n",
    "    res = {}\n",
    "    for M in range(len(REC)):\n",
    "        for n, article_id in enumerate(REC[M]):\n",
    "            res[article_id] = res.get(article_id, 0) + 1/(n+1)\n",
    "\n",
    "    # Sort dictionary by item weights\n",
    "    res = list(dict(sorted(res.items(), key=lambda item: -item[1])).keys())\n",
    "    res = ' '.join(res[:12])\n",
    "\n",
    "    # Return the top 12 items only\n",
    "    return res"
   ]
  },
  {
   "cell_type": "code",
   "execution_count": null,
   "id": "03752f9e",
   "metadata": {},
   "outputs": [],
   "source": [
    "preds['prediction'] = preds.apply(weight_predictions, axis=1)"
   ]
  },
  {
   "cell_type": "code",
   "execution_count": null,
   "id": "88076bab",
   "metadata": {},
   "outputs": [],
   "source": [
    "list(enumerate(preds.iloc[0].prediction_0))"
   ]
  },
  {
   "cell_type": "code",
   "execution_count": null,
   "id": "deab4467",
   "metadata": {},
   "outputs": [],
   "source": [
    "list(enumerate(preds.iloc[0].prediction_1))"
   ]
  },
  {
   "cell_type": "code",
   "execution_count": null,
   "id": "1adf2eeb",
   "metadata": {},
   "outputs": [],
   "source": [
    "list(enumerate(preds.iloc[0].prediction.split()))"
   ]
  },
  {
   "cell_type": "code",
   "execution_count": null,
   "id": "3d8509bc",
   "metadata": {},
   "outputs": [],
   "source": [
    "preds"
   ]
  },
  {
   "cell_type": "code",
   "execution_count": null,
   "id": "5c00d7bc",
   "metadata": {},
   "outputs": [],
   "source": [
    "preds"
   ]
  },
  {
   "cell_type": "code",
   "execution_count": null,
   "id": "e14ff204",
   "metadata": {},
   "outputs": [],
   "source": [
    "res"
   ]
  },
  {
   "cell_type": "code",
   "execution_count": null,
   "id": "fe898cb2",
   "metadata": {},
   "outputs": [],
   "source": [
    "res = list(dict(sorted(res.items(), key=lambda item: -item[1])).keys())"
   ]
  },
  {
   "cell_type": "code",
   "execution_count": null,
   "id": "d6d488f9",
   "metadata": {},
   "outputs": [],
   "source": [
    "def cust_blend(dt, W = [1,1,1,1]):\n",
    "    #Create a list of all model predictions\n",
    "    REC = []\n",
    "\n",
    "    # Second Try\n",
    "    REC.append(dt['large_rank'])\n",
    "    REC.append(dt['large_binary'])\n",
    "    REC.append(dt['small_rank'])\n",
    "    REC.append(dt['small_binary'])\n",
    "\n",
    "    #Create a dictionary of items recommended.\n",
    "    #Assign a weight according the order of appearance and multiply by global weights\n",
    "    res = {}\n",
    "    for M in range(len(REC)):\n",
    "        for n, v in enumerate(REC[M]):\n",
    "            if v in res:\n",
    "                res[v] += (W[M]/(n+1))\n",
    "            else:\n",
    "                res[v] = (W[M]/(n+1))\n",
    "\n",
    "    # Sort dictionary by item weights\n",
    "    res = list(dict(sorted(res.items(), key=lambda item: -item[1])).keys())\n",
    "\n",
    "    # Return the top 12 items only\n",
    "    return res\n"
   ]
  },
  {
   "cell_type": "code",
   "execution_count": null,
   "id": "aedd7cc6",
   "metadata": {},
   "outputs": [],
   "source": [
    "len(res)"
   ]
  },
  {
   "cell_type": "code",
   "execution_count": null,
   "id": "fb93fe9b",
   "metadata": {},
   "outputs": [],
   "source": [
    "list(dict(sorted(res.items(), key=lambda item: -item[1])).keys())"
   ]
  },
  {
   "cell_type": "code",
   "execution_count": null,
   "id": "91adcef8",
   "metadata": {},
   "outputs": [],
   "source": [
    "def cust_blend(dt, W = [1,1,1]):\n",
    "    #Global ensemble weights\n",
    "    #W = [1.15,0.95,0.85]\n",
    "    \n",
    "    #Create a list of all model predictions\n",
    "    REC = []\n",
    "    REC.append(dt['prediction0'].split())\n",
    "    REC.append(dt['prediction1'].split())\n",
    "    REC.append(dt['prediction2'].split())\n",
    "    \n",
    "    #Create a dictionary of items recommended. \n",
    "    #Assign a weight according the order of appearance and multiply by global weights\n",
    "    res = {}\n",
    "    for M in range(len(REC)):\n",
    "        for n, v in enumerate(REC[M]):\n",
    "            res[v] = res.get(v, 1/n+1)\n",
    "            if v in res:\n",
    "                res[v] = re(W[M]/(n+1))\n",
    "            else:\n",
    "                res[v] = (W[M]/(n+1))\n",
    "    \n",
    "    # Sort dictionary by item weights\n",
    "    res = list(dict(sorted(res.items(), key=lambda item: -item[1])).keys())\n",
    "    \n",
    "    # Return the top 12 itens only\n",
    "    return ' '.join(res[:12])\n",
    "\n",
    "sub0['prediction'] = sub0.apply(cust_blend, W = [1.05,1.00,0.95], axis=1)\n",
    "\"\"\""
   ]
  },
  {
   "cell_type": "code",
   "execution_count": null,
   "id": "8325782d",
   "metadata": {},
   "outputs": [],
   "source": [
    "preds = (\n",
    "    val_transactions\n",
    "        .groupby(['customer_id'])['article_id']\n",
    "        .apply(list)\n",
    "        .reset_index()\n",
    "        .merge(preds, on='customer_id', how='inner')\n",
    ")"
   ]
  },
  {
   "cell_type": "code",
   "execution_count": null,
   "id": "f0a1c731",
   "metadata": {},
   "outputs": [],
   "source": [
    "preds.columns = ['customer_id', 'y_true', 'y_pred']"
   ]
  },
  {
   "cell_type": "code",
   "execution_count": null,
   "id": "fce17e42",
   "metadata": {},
   "outputs": [],
   "source": [
    "preds.head()"
   ]
  },
  {
   "cell_type": "code",
   "execution_count": null,
   "id": "d4d3b001",
   "metadata": {},
   "outputs": [],
   "source": [
    "map_at_k(preds['y_true'], preds['y_pred'], k=12)"
   ]
  },
  {
   "cell_type": "code",
   "execution_count": null,
   "id": "fc693dbf",
   "metadata": {},
   "outputs": [],
   "source": []
  },
  {
   "cell_type": "code",
   "execution_count": null,
   "id": "fce26fdc",
   "metadata": {},
   "outputs": [],
   "source": []
  },
  {
   "cell_type": "code",
   "execution_count": null,
   "id": "9f19272f",
   "metadata": {},
   "outputs": [],
   "source": []
  },
  {
   "cell_type": "code",
   "execution_count": null,
   "id": "cb0407ea",
   "metadata": {},
   "outputs": [],
   "source": []
  },
  {
   "cell_type": "markdown",
   "id": "9def900d",
   "metadata": {},
   "source": [
    "train"
   ]
  },
  {
   "cell_type": "code",
   "execution_count": null,
   "id": "5b0db13d",
   "metadata": {},
   "outputs": [],
   "source": [
    "train_candidates.drop(['prob'],axis=1, inplace=True)"
   ]
  },
  {
   "cell_type": "code",
   "execution_count": null,
   "id": "e84fac1a",
   "metadata": {},
   "outputs": [],
   "source": [
    "preds = predict(ranker, train_candidates)"
   ]
  },
  {
   "cell_type": "code",
   "execution_count": null,
   "id": "2ef82355",
   "metadata": {},
   "outputs": [],
   "source": [
    "preds"
   ]
  },
  {
   "cell_type": "code",
   "execution_count": null,
   "id": "2ecaf71b",
   "metadata": {},
   "outputs": [],
   "source": [
    "preds = (\n",
    "    val_transactions\n",
    "        .groupby(['customer_id'])['article_id']\n",
    "        .apply(list)\n",
    "        .reset_index()\n",
    "        .merge(preds, on='customer_id', how='inner')\n",
    ")"
   ]
  },
  {
   "cell_type": "code",
   "execution_count": null,
   "id": "73102bdf",
   "metadata": {},
   "outputs": [],
   "source": [
    "preds"
   ]
  },
  {
   "cell_type": "code",
   "execution_count": null,
   "id": "c62e9a16",
   "metadata": {},
   "outputs": [],
   "source": [
    "preds.columns = ['customer_id', 'y_true', 'y_pred']"
   ]
  },
  {
   "cell_type": "code",
   "execution_count": null,
   "id": "2cf94228",
   "metadata": {},
   "outputs": [],
   "source": [
    "preds.head()"
   ]
  },
  {
   "cell_type": "code",
   "execution_count": null,
   "id": "31198817",
   "metadata": {},
   "outputs": [],
   "source": [
    "map_at_k(preds['y_true'], preds['y_pred'], k=12)"
   ]
  },
  {
   "cell_type": "code",
   "execution_count": null,
   "id": "aa93565d",
   "metadata": {},
   "outputs": [],
   "source": []
  },
  {
   "cell_type": "code",
   "execution_count": null,
   "id": "7968b862",
   "metadata": {},
   "outputs": [],
   "source": []
  },
  {
   "cell_type": "markdown",
   "id": "97b87334",
   "metadata": {},
   "source": [
    "### binary model"
   ]
  },
  {
   "cell_type": "code",
   "execution_count": null,
   "id": "c5a443b4",
   "metadata": {},
   "outputs": [],
   "source": [
    "params = {\n",
    "    \"objective\": \"binary\",\n",
    "    \"boosting_type\": \"gbdt\",\n",
    "    \"metric\": \"auc\",\n",
    "    \"max_depth\": 8,\n",
    "    \"num_leaves\": 128,\n",
    "    \"learning_rate\": 0.03,\n",
    "    \"verbose\": 1,\n",
    "    \"eval_at\": 12,\n",
    "    # 'device':'gpu'\n",
    "}"
   ]
  },
  {
   "cell_type": "code",
   "execution_count": null,
   "id": "85f317be",
   "metadata": {},
   "outputs": [],
   "source": [
    "df_split = candidates.groupby(['customer_id'])['label'].max().reset_index()"
   ]
  },
  {
   "cell_type": "code",
   "execution_count": null,
   "id": "1258e803",
   "metadata": {},
   "outputs": [],
   "source": [
    "from sklearn.model_selection import train_test_split"
   ]
  },
  {
   "cell_type": "code",
   "execution_count": null,
   "id": "2fda666f",
   "metadata": {},
   "outputs": [],
   "source": [
    "train_candidates, val_candidates = train_test_split(df_split, test_size=0.15, random_state=42, stratify=df_split['label'])"
   ]
  },
  {
   "cell_type": "code",
   "execution_count": null,
   "id": "b8aa6894",
   "metadata": {},
   "outputs": [],
   "source": [
    "train_candidates = candidates[candidates.customer_id.isin(train_candidates['customer_id'].unique())]"
   ]
  },
  {
   "cell_type": "code",
   "execution_count": null,
   "id": "0bd78c9b",
   "metadata": {},
   "outputs": [],
   "source": [
    "val_candidates = candidates[candidates.customer_id.isin(val_candidates['customer_id'].unique())]"
   ]
  },
  {
   "cell_type": "code",
   "execution_count": null,
   "id": "c664ba01",
   "metadata": {},
   "outputs": [],
   "source": [
    "del candidates\n",
    "gc.collect()"
   ]
  },
  {
   "cell_type": "code",
   "execution_count": null,
   "id": "5aabf520",
   "metadata": {},
   "outputs": [],
   "source": [
    "# train positive rate\n",
    "train_candidates.label.mean() * 10"
   ]
  },
  {
   "cell_type": "code",
   "execution_count": null,
   "id": "684cb17c",
   "metadata": {},
   "outputs": [],
   "source": [
    "# val positive rate\n",
    "val_candidates.label.mean() * 10"
   ]
  },
  {
   "cell_type": "code",
   "execution_count": null,
   "id": "1f815f37",
   "metadata": {},
   "outputs": [],
   "source": [
    "train_set = lgb.Dataset(\n",
    "        data=train_candidates[features],\n",
    "        label=train_candidates[\"label\"],\n",
    "        feature_name=features,\n",
    "        categorical_feature=cat_features,\n",
    "        params=params,\n",
    "    )"
   ]
  },
  {
   "cell_type": "code",
   "execution_count": null,
   "id": "ab95b529",
   "metadata": {},
   "outputs": [],
   "source": [
    "val_set = lgb.Dataset(\n",
    "        data=val_candidates[features],\n",
    "        label=val_candidates[\"label\"],\n",
    "        feature_name=features,\n",
    "        categorical_feature=cat_features,\n",
    "        params=params,\n",
    "    )"
   ]
  },
  {
   "cell_type": "code",
   "execution_count": null,
   "id": "b3096118",
   "metadata": {},
   "outputs": [],
   "source": [
    "ranker = lgb.train(\n",
    "        params,\n",
    "        train_set,\n",
    "        valid_sets=[train_set, val_set],\n",
    "        valid_names=['train', 'valid'],\n",
    "        num_boost_round=500,\n",
    "        callbacks=[lgb.early_stopping(stopping_rounds=10)]\n",
    "    )"
   ]
  },
  {
   "cell_type": "code",
   "execution_count": null,
   "id": "0d58daa1",
   "metadata": {},
   "outputs": [],
   "source": [
    "ranker.save_model('binary_model_20220824.txt',\n",
    "        num_iteration=ranker.best_iteration,\n",
    "    )"
   ]
  },
  {
   "cell_type": "markdown",
   "id": "02ceb0a3",
   "metadata": {},
   "source": [
    "val"
   ]
  },
  {
   "cell_type": "code",
   "execution_count": null,
   "id": "cf785645",
   "metadata": {},
   "outputs": [],
   "source": [
    "val_candidates.drop(['prob'],axis=1, inplace=True)"
   ]
  },
  {
   "cell_type": "code",
   "execution_count": null,
   "id": "1347beda",
   "metadata": {},
   "outputs": [],
   "source": [
    "preds = predict(ranker, val_candidates)"
   ]
  },
  {
   "cell_type": "code",
   "execution_count": null,
   "id": "c3ccc04f",
   "metadata": {},
   "outputs": [],
   "source": [
    "preds"
   ]
  },
  {
   "cell_type": "code",
   "execution_count": null,
   "id": "888e8e44",
   "metadata": {},
   "outputs": [],
   "source": [
    "preds.columns = ['customer_id', 'y_pred']"
   ]
  },
  {
   "cell_type": "code",
   "execution_count": null,
   "id": "4b2369be",
   "metadata": {},
   "outputs": [],
   "source": [
    "preds = (\n",
    "    val_transactions\n",
    "        .groupby(['customer_id'])['article_id']\n",
    "        .apply(list)\n",
    "        .reset_index()\n",
    "        .merge(preds, on='customer_id', how='inner')\n",
    ")"
   ]
  },
  {
   "cell_type": "code",
   "execution_count": null,
   "id": "487eadc1",
   "metadata": {},
   "outputs": [],
   "source": [
    "preds"
   ]
  },
  {
   "cell_type": "code",
   "execution_count": null,
   "id": "847c4282",
   "metadata": {},
   "outputs": [],
   "source": [
    "preds.columns = ['customer_id', 'y_true', 'y_pred']"
   ]
  },
  {
   "cell_type": "code",
   "execution_count": null,
   "id": "f898475a",
   "metadata": {},
   "outputs": [],
   "source": [
    "preds.head()"
   ]
  },
  {
   "cell_type": "code",
   "execution_count": null,
   "id": "99bb7fa6",
   "metadata": {},
   "outputs": [],
   "source": [
    "map_at_k(preds['y_true'], preds['y_pred'], k=12)"
   ]
  },
  {
   "cell_type": "code",
   "execution_count": null,
   "id": "91044a00",
   "metadata": {},
   "outputs": [],
   "source": []
  },
  {
   "cell_type": "markdown",
   "id": "81aed762",
   "metadata": {},
   "source": [
    "train"
   ]
  },
  {
   "cell_type": "code",
   "execution_count": null,
   "id": "7fb3eca8",
   "metadata": {},
   "outputs": [],
   "source": [
    "train_candidates.drop(['prob'],axis=1, inplace=True)"
   ]
  },
  {
   "cell_type": "code",
   "execution_count": null,
   "id": "681f7ac0",
   "metadata": {},
   "outputs": [],
   "source": [
    "preds = predict(ranker, train_candidates)"
   ]
  },
  {
   "cell_type": "code",
   "execution_count": null,
   "id": "469131dd",
   "metadata": {},
   "outputs": [],
   "source": [
    "preds"
   ]
  },
  {
   "cell_type": "code",
   "execution_count": null,
   "id": "e37dd53d",
   "metadata": {},
   "outputs": [],
   "source": [
    "preds = (\n",
    "    val_transactions\n",
    "        .groupby(['customer_id'])['article_id']\n",
    "        .apply(list)\n",
    "        .reset_index()\n",
    "        .merge(preds, on='customer_id', how='inner')\n",
    ")"
   ]
  },
  {
   "cell_type": "code",
   "execution_count": null,
   "id": "1f9b7029",
   "metadata": {},
   "outputs": [],
   "source": [
    "preds"
   ]
  },
  {
   "cell_type": "code",
   "execution_count": null,
   "id": "8608698d",
   "metadata": {},
   "outputs": [],
   "source": [
    "preds.columns = ['customer_id', 'y_true', 'y_pred']"
   ]
  },
  {
   "cell_type": "code",
   "execution_count": null,
   "id": "e0dff01e",
   "metadata": {},
   "outputs": [],
   "source": [
    "preds.head()"
   ]
  },
  {
   "cell_type": "code",
   "execution_count": null,
   "id": "a6593f39",
   "metadata": {},
   "outputs": [],
   "source": [
    "map_at_k(preds['y_true'], preds['y_pred'], k=12)"
   ]
  },
  {
   "cell_type": "code",
   "execution_count": null,
   "id": "29ca02c2",
   "metadata": {},
   "outputs": [],
   "source": []
  },
  {
   "cell_type": "code",
   "execution_count": null,
   "id": "2c466884",
   "metadata": {},
   "outputs": [],
   "source": []
  },
  {
   "cell_type": "code",
   "execution_count": null,
   "id": "b62beef3",
   "metadata": {},
   "outputs": [],
   "source": [
    "import matplotlib.pyplot as plt\n",
    "import seaborn as sns\n",
    "\n",
    "feat_importance = pd.DataFrame(\n",
    "    {\"feature\": features, \"importance\": ranker.feature_importance()}\n",
    ").sort_values(by=\"importance\", ascending=False)\n",
    "\n",
    "plt.figure(figsize=(8, 24))\n",
    "sns.barplot(y=\"feature\", x=\"importance\", data=feat_importance)"
   ]
  },
  {
   "cell_type": "code",
   "execution_count": null,
   "id": "8bd75279",
   "metadata": {},
   "outputs": [],
   "source": []
  },
  {
   "cell_type": "markdown",
   "id": "bcf9306a",
   "metadata": {},
   "source": [
    "def predict(ranker, candidates, batch_size = 10_000):\n",
    "    probs = np.zeros(candidates.shape[0])\n",
    "    for batch in range(0, candidates.shape[0], batch_size):\n",
    "        outputs = ranker.predict(candidates.loc[batch : batch + batch_size - 1, features])\n",
    "        probs[batch : batch + batch_size] = outputs\n",
    "    candidates['prob'] = probs\n",
    "    pred_lgb = val_candidates[['customer_id', 'article_id', 'prob']].sort_values(by=['customer_id', 'prob'], ascending=False).reset_index(drop=True)\n",
    "    pred_lgb = pred_lgb.groupby(['customer_id']).head(12)\n",
    "    return pred_lgb.groupby(['customer_id'])['article_id'].apply(list).reset_index()"
   ]
  },
  {
   "cell_type": "code",
   "execution_count": null,
   "id": "69a28b6b",
   "metadata": {},
   "outputs": [],
   "source": []
  },
  {
   "cell_type": "code",
   "execution_count": null,
   "id": "cfcbba8e",
   "metadata": {},
   "outputs": [],
   "source": []
  },
  {
   "cell_type": "code",
   "execution_count": null,
   "id": "7cde3e13",
   "metadata": {},
   "outputs": [],
   "source": []
  },
  {
   "cell_type": "code",
   "execution_count": null,
   "id": "d146bcc5",
   "metadata": {},
   "outputs": [],
   "source": []
  },
  {
   "cell_type": "code",
   "execution_count": null,
   "id": "10829da6",
   "metadata": {},
   "outputs": [],
   "source": []
  },
  {
   "cell_type": "code",
   "execution_count": null,
   "id": "97105597",
   "metadata": {},
   "outputs": [],
   "source": []
  },
  {
   "cell_type": "code",
   "execution_count": null,
   "id": "e1c1c418",
   "metadata": {},
   "outputs": [],
   "source": []
  },
  {
   "cell_type": "markdown",
   "id": "1ce09f38",
   "metadata": {},
   "source": [
    "### Stratified Group K Fold"
   ]
  },
  {
   "cell_type": "code",
   "execution_count": null,
   "id": "ca1b4149",
   "metadata": {},
   "outputs": [],
   "source": [
    "from sklearn.model_selection import StratifiedGroupKFold"
   ]
  },
  {
   "cell_type": "code",
   "execution_count": null,
   "id": "e884700b",
   "metadata": {},
   "outputs": [],
   "source": [
    "sgkf = StratifiedGroupKFold(n_splits=4)"
   ]
  },
  {
   "cell_type": "code",
   "execution_count": null,
   "id": "4a306b24",
   "metadata": {},
   "outputs": [],
   "source": [
    "for i, (train_idxs, val_idxs) in enumerate(sgkf.split(candidates.index, candidates.label, candidates.customer_id)):\n",
    "    print(i)\n",
    "    # train\n",
    "    train_group = candidates.loc[train_idxs, :][['customer_id', 'article_id']]\n",
    "    train_group = train_group.groupby(['customer_id']).size().values\n",
    "    \n",
    "    train_set = lgb.Dataset(\n",
    "        data=candidates.loc[train_idxs, :][features],\n",
    "        label=candidates.loc[train_idxs, :][\"label\"],\n",
    "        group=train_group,\n",
    "        feature_name=features,\n",
    "        categorical_feature=cat_features,\n",
    "        params=params,\n",
    "    )\n",
    "    \n",
    "    # val\n",
    "    val_group = candidates.loc[val_idxs, :][['customer_id', 'article_id']]\n",
    "    val_group = val_group.groupby(['customer_id']).size().values\n",
    "    \n",
    "    val_set = lgb.Dataset(\n",
    "        data=candidates.loc[val_idxs, :][features],\n",
    "        label=candidates.loc[val_idxs, :][\"label\"],\n",
    "        group=val_group,\n",
    "        feature_name=features,\n",
    "        categorical_feature=cat_features,\n",
    "        params=params,\n",
    "    )\n",
    "    \n",
    "    ranker = lgb.train(\n",
    "        params,\n",
    "        train_set,\n",
    "        valid_sets=[train_set, val_set],\n",
    "        valid_names=['train', 'valid'],\n",
    "        num_boost_round=30,\n",
    "    )"
   ]
  },
  {
   "cell_type": "code",
   "execution_count": null,
   "id": "d84cb513",
   "metadata": {},
   "outputs": [],
   "source": [
    "ranker"
   ]
  },
  {
   "cell_type": "code",
   "execution_count": null,
   "id": "36acd5c9",
   "metadata": {},
   "outputs": [],
   "source": [
    "probs = np.zeros(val_candidates.shape[0])"
   ]
  },
  {
   "cell_type": "code",
   "execution_count": null,
   "id": "a047d79d",
   "metadata": {},
   "outputs": [],
   "source": [
    "probs"
   ]
  },
  {
   "cell_type": "code",
   "execution_count": null,
   "id": "249cd9cb",
   "metadata": {},
   "outputs": [],
   "source": [
    "for batch in range(0, val_candidates.shape[0], 5_000_000):\n",
    "    outputs = ranker.predict(val_candidates.loc[batch : batch + 5_000_000 - 1, features])\n",
    "    probs[batch : batch + 5_000_000] = outputs"
   ]
  },
  {
   "cell_type": "code",
   "execution_count": null,
   "id": "09e5be0e",
   "metadata": {},
   "outputs": [],
   "source": [
    "val_candidates[\"prob\"] = probs"
   ]
  },
  {
   "cell_type": "code",
   "execution_count": null,
   "id": "da6ae97a",
   "metadata": {},
   "outputs": [],
   "source": [
    "pred_lgb = val_candidates[['customer_id', 'article_id', 'prob']].sort_values(by=['customer_id', 'prob'], ascending=False).reset_index(drop=True)"
   ]
  },
  {
   "cell_type": "code",
   "execution_count": null,
   "id": "c708ae4d",
   "metadata": {},
   "outputs": [],
   "source": [
    "pred_lgb"
   ]
  },
  {
   "cell_type": "code",
   "execution_count": null,
   "id": "424c3f76",
   "metadata": {},
   "outputs": [],
   "source": [
    "pred_lgb.prob.describe()"
   ]
  },
  {
   "cell_type": "code",
   "execution_count": null,
   "id": "ff561cb9",
   "metadata": {},
   "outputs": [],
   "source": [
    "pred_lgb = pred_lgb.groupby(['customer_id']).head(12)"
   ]
  },
  {
   "cell_type": "markdown",
   "id": "bff7df1c",
   "metadata": {},
   "source": [
    "pred_lgb.loc[:, ['customer_id', 'article_id']] = pred_lgb.loc[:, ['customer_id', 'article_id']].astype(str)"
   ]
  },
  {
   "cell_type": "code",
   "execution_count": null,
   "id": "2f500423",
   "metadata": {},
   "outputs": [],
   "source": [
    "pred_lgb.customer_id.nunique()"
   ]
  },
  {
   "cell_type": "code",
   "execution_count": null,
   "id": "9897b045",
   "metadata": {},
   "outputs": [],
   "source": [
    "pred_lgb.head(13)"
   ]
  },
  {
   "cell_type": "code",
   "execution_count": null,
   "id": "8298f602",
   "metadata": {},
   "outputs": [],
   "source": [
    "pred_lgb.groupby(['customer_id'])['article_id'].apply(list).reset_index()"
   ]
  },
  {
   "cell_type": "markdown",
   "id": "5759f430",
   "metadata": {},
   "source": [
    "### Stratified Group Split"
   ]
  },
  {
   "cell_type": "markdown",
   "id": "32cca9fa",
   "metadata": {},
   "source": [
    "##### groups"
   ]
  },
  {
   "cell_type": "code",
   "execution_count": null,
   "id": "ee215415",
   "metadata": {},
   "outputs": [],
   "source": [
    "train_group = train_candidates[['customer_id', 'article_id']]"
   ]
  },
  {
   "cell_type": "code",
   "execution_count": null,
   "id": "f6cbb0ef",
   "metadata": {},
   "outputs": [],
   "source": [
    "train_group = train_group.groupby(['customer_id']).size().values"
   ]
  },
  {
   "cell_type": "code",
   "execution_count": null,
   "id": "1b142408",
   "metadata": {},
   "outputs": [],
   "source": [
    "val_group = val_candidates[['customer_id', 'article_id']]"
   ]
  },
  {
   "cell_type": "code",
   "execution_count": null,
   "id": "dea74252",
   "metadata": {},
   "outputs": [],
   "source": [
    "val_group = val_group.groupby(['customer_id']).size().values"
   ]
  },
  {
   "cell_type": "markdown",
   "id": "79fc96e2",
   "metadata": {},
   "source": [
    "##### datasets"
   ]
  },
  {
   "cell_type": "code",
   "execution_count": null,
   "id": "6c3e109a",
   "metadata": {},
   "outputs": [],
   "source": [
    "train_set = lgb.Dataset(\n",
    "        data=train_candidates[features],\n",
    "        label=train_candidates[\"label\"],\n",
    "        group=train_group,\n",
    "        feature_name=features,\n",
    "        categorical_feature=cat_features,\n",
    "        params=params,\n",
    "    )"
   ]
  },
  {
   "cell_type": "code",
   "execution_count": null,
   "id": "6ff27e34",
   "metadata": {},
   "outputs": [],
   "source": [
    "val_set = lgb.Dataset(\n",
    "        data=val_candidates[features],\n",
    "        label=val_candidates[\"label\"],\n",
    "        group=val_group,\n",
    "        feature_name=features,\n",
    "        categorical_feature=cat_features,\n",
    "        params=params,\n",
    "    )"
   ]
  },
  {
   "cell_type": "markdown",
   "id": "06ed6510",
   "metadata": {},
   "source": [
    "del candidates\n",
    "gc.collect()"
   ]
  },
  {
   "cell_type": "code",
   "execution_count": null,
   "id": "82592a75",
   "metadata": {},
   "outputs": [],
   "source": [
    "ranker = lgb.train(\n",
    "        params,\n",
    "        train_set,\n",
    "        valid_sets=[val_set],\n",
    "        num_boost_round=30,\n",
    "    )"
   ]
  },
  {
   "cell_type": "code",
   "execution_count": null,
   "id": "7d39d486",
   "metadata": {},
   "outputs": [],
   "source": [
    "ranker"
   ]
  },
  {
   "cell_type": "code",
   "execution_count": null,
   "id": "5ba74423",
   "metadata": {},
   "outputs": [],
   "source": [
    "feat_importance = pd.DataFrame(\n",
    "    {\"feature\": features, \"importance\": ranker.feature_importance()}\n",
    ").sort_values(by=\"importance\", ascending=False)"
   ]
  },
  {
   "cell_type": "code",
   "execution_count": null,
   "id": "b268d37b",
   "metadata": {},
   "outputs": [],
   "source": [
    "import matplotlib.pyplot as plt\n",
    "import seaborn as sns"
   ]
  },
  {
   "cell_type": "code",
   "execution_count": null,
   "id": "444ad80a",
   "metadata": {},
   "outputs": [],
   "source": [
    "plt.figure(figsize=(8, 24))\n",
    "sns.barplot(y=\"feature\", x=\"importance\", data=feat_importance)"
   ]
  },
  {
   "cell_type": "code",
   "execution_count": null,
   "id": "1f130214",
   "metadata": {},
   "outputs": [],
   "source": [
    "def predict(ranker, candidates, batch_size = 1_000_000):\n",
    "    probs = np.zeros(candidates.shape[0])\n",
    "    for batch in range(0, candidates.shape[0], batch_size):\n",
    "        outputs = ranker.predict(candidates.loc[batch : batch + batch_size - 1, features])\n",
    "        probs[batch : batch + batch_size] = outputs\n",
    "    candidates[\"prob\"] = probs\n",
    "    pred_lgb = candidates[['customer_id', 'article_id', 'prob']]\n",
    "    pred_lgb = pred_lgb.sort_values(by=['customer_id', 'prob'], ascending=False).reset_index(drop=True)\n",
    "    pred_lgb.rename(columns={'article_id': 'prediction'}, inplace=True)\n",
    "    pred_lgb = pred_lgb.drop_duplicates(['customer_id', 'prediction'], keep='first')\n",
    "    pred_lgb = pred_lgb.groupby(\"customer_id\")[\"prediction\"].apply(list).reset_index()\n",
    "    return pred_lgb"
   ]
  },
  {
   "cell_type": "code",
   "execution_count": null,
   "id": "ee0ef39f",
   "metadata": {},
   "outputs": [],
   "source": [
    "pred = predict(ranker, val_candidates)"
   ]
  },
  {
   "cell_type": "code",
   "execution_count": null,
   "id": "434a26b3",
   "metadata": {},
   "outputs": [],
   "source": [
    "pred"
   ]
  },
  {
   "cell_type": "code",
   "execution_count": null,
   "id": "65c4ba00",
   "metadata": {},
   "outputs": [],
   "source": []
  },
  {
   "cell_type": "code",
   "execution_count": null,
   "id": "5ebb600b",
   "metadata": {},
   "outputs": [],
   "source": [
    "probs = np.zeros(val_candidates.shape[0])"
   ]
  },
  {
   "cell_type": "code",
   "execution_count": null,
   "id": "2c774c01",
   "metadata": {},
   "outputs": [],
   "source": [
    "probs"
   ]
  },
  {
   "cell_type": "code",
   "execution_count": null,
   "id": "af7e4659",
   "metadata": {},
   "outputs": [],
   "source": [
    "for batch in range(0, val_candidates.shape[0], 5_000_000):\n",
    "    outputs = ranker.predict(val_candidates.loc[batch : batch + 5_000_000 - 1, features])\n",
    "    probs[batch : batch + 5_000_000] = outputs"
   ]
  },
  {
   "cell_type": "code",
   "execution_count": null,
   "id": "334c964b",
   "metadata": {},
   "outputs": [],
   "source": [
    "val_candidates[\"prob\"] = probs"
   ]
  },
  {
   "cell_type": "code",
   "execution_count": null,
   "id": "fb4540cd",
   "metadata": {},
   "outputs": [],
   "source": [
    "pred_lgb = val_candidates[['customer_id', 'article_id', 'prob']].sort_values(by=['customer_id', 'prob'], ascending=False).reset_index(drop=True)"
   ]
  },
  {
   "cell_type": "code",
   "execution_count": null,
   "id": "8a1b808c",
   "metadata": {},
   "outputs": [],
   "source": [
    "pred_lgb"
   ]
  },
  {
   "cell_type": "code",
   "execution_count": null,
   "id": "e7089017",
   "metadata": {},
   "outputs": [],
   "source": [
    "pred_lgb.prob.describe()"
   ]
  },
  {
   "cell_type": "code",
   "execution_count": null,
   "id": "c0a1fd89",
   "metadata": {},
   "outputs": [],
   "source": [
    "pred_lgb = pred_lgb.groupby(['customer_id']).head(12)"
   ]
  },
  {
   "cell_type": "markdown",
   "id": "8500d82a",
   "metadata": {},
   "source": [
    "pred_lgb.loc[:, ['customer_id', 'article_id']] = pred_lgb.loc[:, ['customer_id', 'article_id']].astype(str)"
   ]
  },
  {
   "cell_type": "code",
   "execution_count": null,
   "id": "40b1f8c6",
   "metadata": {},
   "outputs": [],
   "source": [
    "pred_lgb.customer_id.nunique()"
   ]
  },
  {
   "cell_type": "code",
   "execution_count": null,
   "id": "e62ca835",
   "metadata": {},
   "outputs": [],
   "source": [
    "pred_lgb.head(13)"
   ]
  },
  {
   "cell_type": "code",
   "execution_count": null,
   "id": "b73eca3b",
   "metadata": {},
   "outputs": [],
   "source": [
    "pred_lgb.groupby(['customer_id'])['article_id'].apply(list).reset_index()"
   ]
  },
  {
   "cell_type": "code",
   "execution_count": null,
   "id": "291bbf7b",
   "metadata": {},
   "outputs": [],
   "source": []
  }
 ],
 "metadata": {
  "kernelspec": {
   "display_name": "Python 3 (ipykernel)",
   "language": "python",
   "name": "python3"
  },
  "language_info": {
   "codemirror_mode": {
    "name": "ipython",
    "version": 3
   },
   "file_extension": ".py",
   "mimetype": "text/x-python",
   "name": "python",
   "nbconvert_exporter": "python",
   "pygments_lexer": "ipython3",
   "version": "3.8.12"
  },
  "vscode": {
   "interpreter": {
    "hash": "b090d651ab6bb94fc3fcfd79ea14f79b2004aa048e2234831f7803cc80488031"
   }
  }
 },
 "nbformat": 4,
 "nbformat_minor": 5
}
