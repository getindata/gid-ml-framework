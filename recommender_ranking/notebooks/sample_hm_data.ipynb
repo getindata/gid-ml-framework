{
 "cells": [
  {
   "cell_type": "code",
   "execution_count": null,
   "id": "daaf4c5e",
   "metadata": {},
   "outputs": [],
   "source": [
    "%load_ext kedro.extras.extensions.ipython"
   ]
  },
  {
   "cell_type": "code",
   "execution_count": null,
   "id": "a6065bf0",
   "metadata": {},
   "outputs": [],
   "source": [
    "%reload_kedro"
   ]
  },
  {
   "cell_type": "code",
   "execution_count": null,
   "id": "152b3fdb",
   "metadata": {},
   "outputs": [],
   "source": [
    "import pandas as pd\n",
    "import numpy as np\n",
    "from sklearn.model_selection import train_test_split"
   ]
  },
  {
   "cell_type": "code",
   "execution_count": null,
   "id": "263e2aaa",
   "metadata": {},
   "outputs": [],
   "source": [
    "pd.set_option('display.float_format', lambda x: '%.4f' % x)"
   ]
  },
  {
   "cell_type": "markdown",
   "id": "07ee221c",
   "metadata": {},
   "source": [
    "### read catalog"
   ]
  },
  {
   "cell_type": "code",
   "execution_count": null,
   "id": "1593f3b0",
   "metadata": {},
   "outputs": [],
   "source": [
    "catalog.list()"
   ]
  },
  {
   "cell_type": "code",
   "execution_count": null,
   "id": "e177ebdb",
   "metadata": {},
   "outputs": [],
   "source": [
    "pd.read_parquet"
   ]
  },
  {
   "cell_type": "code",
   "execution_count": null,
   "id": "a35ba308",
   "metadata": {},
   "outputs": [],
   "source": [
    "df = context.catalog.load('transactions')"
   ]
  },
  {
   "cell_type": "code",
   "execution_count": null,
   "id": "24af0991",
   "metadata": {},
   "outputs": [],
   "source": [
    "df = context.catalog.load('transactions_sample')"
   ]
  },
  {
   "cell_type": "code",
   "execution_count": null,
   "id": "9d695499",
   "metadata": {},
   "outputs": [],
   "source": [
    "df.loc[:, df.columns.isin({'article_id', 'price', 'customer_id', 'nla'})]"
   ]
  },
  {
   "cell_type": "code",
   "execution_count": null,
   "id": "d05bec5c",
   "metadata": {},
   "outputs": [],
   "source": [
    "df"
   ]
  },
  {
   "cell_type": "code",
   "execution_count": null,
   "id": "f8e46cb4",
   "metadata": {},
   "outputs": [],
   "source": [
    "pd.concat([df[df.sales_channel_id>1], df[df.sales_channel_id==1].sample(n=1_000)], axis=0)ss"
   ]
  },
  {
   "cell_type": "code",
   "execution_count": null,
   "id": "6db72b1d",
   "metadata": {},
   "outputs": [],
   "source": [
    "df.head()"
   ]
  },
  {
   "cell_type": "code",
   "execution_count": null,
   "id": "9b8742c5",
   "metadata": {},
   "outputs": [],
   "source": [
    "try:\n",
    "    pd.to_datetime(df.loc[:, 'customdsaer_id'])\n",
    "except KeyError:\n",
    "    print('Given date_column does not exist in df')\n",
    "    raise\n",
    "except ValueError:\n",
    "    print('Given date_column is not convertible to datetime')\n",
    "    raise\n",
    "except:\n",
    "    print('lol')"
   ]
  },
  {
   "cell_type": "code",
   "execution_count": null,
   "id": "6f1cee2f",
   "metadata": {},
   "outputs": [],
   "source": [
    "pd.to_datetime(df.loc[:, 'custodmer_id'])"
   ]
  },
  {
   "cell_type": "code",
   "execution_count": null,
   "id": "c3f2a92d",
   "metadata": {},
   "outputs": [],
   "source": [
    "df = context.catalog.load('transactions')"
   ]
  },
  {
   "cell_type": "markdown",
   "id": "bed60be4",
   "metadata": {},
   "source": [
    "df_articles = context.catalog.load('articles')"
   ]
  },
  {
   "cell_type": "code",
   "execution_count": null,
   "id": "e29a6627",
   "metadata": {},
   "outputs": [],
   "source": [
    "df_customers = context.catalog.load('customers')"
   ]
  },
  {
   "cell_type": "markdown",
   "id": "dbf1f76b",
   "metadata": {},
   "source": [
    "### transactions"
   ]
  },
  {
   "cell_type": "code",
   "execution_count": null,
   "id": "9922e9a9",
   "metadata": {},
   "outputs": [],
   "source": [
    "df.shape"
   ]
  },
  {
   "cell_type": "code",
   "execution_count": null,
   "id": "6d046b6a",
   "metadata": {},
   "outputs": [],
   "source": [
    "df.head()"
   ]
  },
  {
   "cell_type": "code",
   "execution_count": null,
   "id": "b658fb8e",
   "metadata": {},
   "outputs": [],
   "source": [
    "df.dtypes"
   ]
  },
  {
   "cell_type": "code",
   "execution_count": null,
   "id": "8add8e78",
   "metadata": {},
   "outputs": [],
   "source": [
    "df.t_dat = pd.to_datetime(df.t_dat)"
   ]
  },
  {
   "cell_type": "code",
   "execution_count": null,
   "id": "b61f5260",
   "metadata": {},
   "outputs": [],
   "source": [
    "df.dtypes"
   ]
  },
  {
   "cell_type": "markdown",
   "id": "66acfed4",
   "metadata": {},
   "source": [
    "### Sample step 1: only latest transactions"
   ]
  },
  {
   "cell_type": "code",
   "execution_count": null,
   "id": "89105d1a",
   "metadata": {},
   "outputs": [],
   "source": [
    "df.t_dat.describe(datetime_is_numeric=True)"
   ]
  },
  {
   "cell_type": "code",
   "execution_count": null,
   "id": "fb48a26a",
   "metadata": {},
   "outputs": [],
   "source": [
    "df[df.t_dat>'2020-04-01'].t_dat.describe(datetime_is_numeric=True)"
   ]
  },
  {
   "cell_type": "code",
   "execution_count": null,
   "id": "e841e8d2",
   "metadata": {},
   "outputs": [],
   "source": [
    "df = df[df.t_dat>'2020-04-01'].reset_index(drop=True)"
   ]
  },
  {
   "cell_type": "code",
   "execution_count": null,
   "id": "94b472d6",
   "metadata": {},
   "outputs": [],
   "source": [
    "df.shape"
   ]
  },
  {
   "cell_type": "markdown",
   "id": "581600fd",
   "metadata": {},
   "source": [
    "### Sample step 2: stratified sampling"
   ]
  },
  {
   "cell_type": "code",
   "execution_count": null,
   "id": "ad1ce23a",
   "metadata": {},
   "outputs": [],
   "source": [
    "df_customers"
   ]
  },
  {
   "cell_type": "code",
   "execution_count": null,
   "id": "ec23dba6",
   "metadata": {},
   "outputs": [],
   "source": [
    "cd_customers_trans = df.groupby(['customer_id'])['t_dat'].nunique().reset_index(name='no_transactions')"
   ]
  },
  {
   "cell_type": "code",
   "execution_count": null,
   "id": "3181c093",
   "metadata": {},
   "outputs": [],
   "source": [
    "cd_customers_trans.columns"
   ]
  },
  {
   "cell_type": "code",
   "execution_count": null,
   "id": "28e57e9a",
   "metadata": {},
   "outputs": [],
   "source": [
    "df_customers = df_customers.merge(cd_customers_trans, on='customer_id', how='left')"
   ]
  },
  {
   "cell_type": "code",
   "execution_count": null,
   "id": "d8e802aa",
   "metadata": {},
   "outputs": [],
   "source": [
    "df_customers.columns"
   ]
  },
  {
   "cell_type": "markdown",
   "id": "6a7aafab",
   "metadata": {},
   "source": [
    "### fillna() for sampling"
   ]
  },
  {
   "cell_type": "code",
   "execution_count": null,
   "id": "0585979a",
   "metadata": {},
   "outputs": [],
   "source": [
    "df_customers.isna().sum()"
   ]
  },
  {
   "cell_type": "code",
   "execution_count": null,
   "id": "7ca5886d",
   "metadata": {},
   "outputs": [],
   "source": [
    "df_customers['age'] = df_customers['age'].fillna(df_customers['age'].median())"
   ]
  },
  {
   "cell_type": "code",
   "execution_count": null,
   "id": "a4b290c9",
   "metadata": {},
   "outputs": [],
   "source": [
    "df_customers['no_transactions'] = df_customers['no_transactions'].fillna(0)"
   ]
  },
  {
   "cell_type": "code",
   "execution_count": null,
   "id": "322a4e61",
   "metadata": {},
   "outputs": [],
   "source": [
    "df_customers[['age', 'no_transactions']].describe()"
   ]
  },
  {
   "cell_type": "code",
   "execution_count": null,
   "id": "79e23a62",
   "metadata": {},
   "outputs": [],
   "source": [
    "df_customers['age_bin'] = pd.qcut(df_customers['age'], 4, labels=['1', '2', '3', '4']).astype(str)"
   ]
  },
  {
   "cell_type": "code",
   "execution_count": null,
   "id": "cc1fe017",
   "metadata": {},
   "outputs": [],
   "source": [
    "df_customers.no_transactions.hist()"
   ]
  },
  {
   "cell_type": "markdown",
   "id": "820c2c9e",
   "metadata": {},
   "source": [
    "#### i'm doing custom bins for no_transactions, because the distribution is heavily concentrated around 0"
   ]
  },
  {
   "cell_type": "code",
   "execution_count": null,
   "id": "97414e5f",
   "metadata": {},
   "outputs": [],
   "source": [
    "cond_list = [\n",
    "    df_customers['no_transactions']==0,\n",
    "    df_customers['no_transactions']<=1,\n",
    "    df_customers['no_transactions']<=3,\n",
    "    df_customers['no_transactions']<=6,\n",
    "    df_customers['no_transactions']<=9\n",
    "]"
   ]
  },
  {
   "cell_type": "code",
   "execution_count": null,
   "id": "afe40209",
   "metadata": {},
   "outputs": [],
   "source": [
    "choice_list = [\n",
    "    '1',\n",
    "    '2',\n",
    "    '3',\n",
    "    '4',\n",
    "    '5'\n",
    "]"
   ]
  },
  {
   "cell_type": "code",
   "execution_count": null,
   "id": "2a518ed8",
   "metadata": {},
   "outputs": [],
   "source": [
    "np.unique(np.select(cond_list, choice_list, default='6'), return_counts=True)"
   ]
  },
  {
   "cell_type": "code",
   "execution_count": null,
   "id": "50a5e795",
   "metadata": {},
   "outputs": [],
   "source": [
    "df_customers['no_transactions_bin'] = np.select(cond_list, choice_list, default='6')"
   ]
  },
  {
   "cell_type": "code",
   "execution_count": null,
   "id": "32f02e44",
   "metadata": {},
   "outputs": [],
   "source": [
    "df_customers.shape"
   ]
  },
  {
   "cell_type": "code",
   "execution_count": null,
   "id": "eb9da960",
   "metadata": {},
   "outputs": [],
   "source": [
    "_, df_customers_sample = train_test_split(df_customers, test_size=0.1,\n",
    "                                          stratify=df_customers[['age_bin', 'no_transactions_bin']])"
   ]
  },
  {
   "cell_type": "code",
   "execution_count": null,
   "id": "e3cd55c9",
   "metadata": {},
   "outputs": [],
   "source": [
    "df_customers_sample.shape"
   ]
  },
  {
   "cell_type": "markdown",
   "id": "cfe7ab9a",
   "metadata": {},
   "source": [
    "### check"
   ]
  },
  {
   "cell_type": "code",
   "execution_count": null,
   "id": "d325cd13",
   "metadata": {},
   "outputs": [],
   "source": [
    "df_customers[['age_bin']].value_counts(normalize=True)"
   ]
  },
  {
   "cell_type": "code",
   "execution_count": null,
   "id": "8fc314fa",
   "metadata": {},
   "outputs": [],
   "source": [
    "df_customers[['no_transactions_bin']].value_counts(normalize=True)"
   ]
  },
  {
   "cell_type": "code",
   "execution_count": null,
   "id": "35d2fdc6",
   "metadata": {},
   "outputs": [],
   "source": [
    "df_customers_sample[['age_bin']].value_counts(normalize=True)"
   ]
  },
  {
   "cell_type": "code",
   "execution_count": null,
   "id": "85458c49",
   "metadata": {},
   "outputs": [],
   "source": [
    "df_customers_sample[['no_transactions_bin']].value_counts(normalize=True)"
   ]
  },
  {
   "cell_type": "markdown",
   "id": "524af50d",
   "metadata": {},
   "source": [
    "### filter out other datasets"
   ]
  },
  {
   "cell_type": "code",
   "execution_count": null,
   "id": "059ff51a",
   "metadata": {},
   "outputs": [],
   "source": [
    "df_customers_sample.drop(['no_transactions', 'age_bin', 'no_transactions_bin'], axis=1, inplace=True)"
   ]
  },
  {
   "cell_type": "code",
   "execution_count": null,
   "id": "a490a991",
   "metadata": {},
   "outputs": [],
   "source": [
    "df_customers_sample"
   ]
  },
  {
   "cell_type": "code",
   "execution_count": null,
   "id": "5fc577d6",
   "metadata": {},
   "outputs": [],
   "source": [
    "unique_customer_id_set = set(df_customers_sample.customer_id.unique())"
   ]
  },
  {
   "cell_type": "code",
   "execution_count": null,
   "id": "a9f79982",
   "metadata": {},
   "outputs": [],
   "source": [
    "df_sample = df[df.customer_id.isin(unique_customer_id_set)]"
   ]
  },
  {
   "cell_type": "code",
   "execution_count": null,
   "id": "5b56df67",
   "metadata": {},
   "outputs": [],
   "source": [
    "### i don't whether to sample ARTICLES -> if filtered off then no cold-start problem.\n",
    "### On the other hand, you NEED TO SAMPLE for EMBEDDINGS, maybe another pipeline for that?"
   ]
  },
  {
   "cell_type": "code",
   "execution_count": null,
   "id": "b5ff5bb0",
   "metadata": {},
   "outputs": [],
   "source": [
    "df_sample.shape, df_customers_sample.shape"
   ]
  },
  {
   "cell_type": "code",
   "execution_count": null,
   "id": "dc1cd936",
   "metadata": {},
   "outputs": [],
   "source": []
  },
  {
   "cell_type": "code",
   "execution_count": null,
   "id": "00b9527e",
   "metadata": {},
   "outputs": [],
   "source": []
  },
  {
   "cell_type": "code",
   "execution_count": null,
   "id": "4e6cd135",
   "metadata": {},
   "outputs": [],
   "source": []
  },
  {
   "cell_type": "code",
   "execution_count": null,
   "id": "d7292ef6",
   "metadata": {},
   "outputs": [],
   "source": []
  },
  {
   "cell_type": "markdown",
   "id": "6124573d",
   "metadata": {},
   "source": [
    "### Tests"
   ]
  },
  {
   "cell_type": "code",
   "execution_count": null,
   "id": "338fb436",
   "metadata": {},
   "outputs": [],
   "source": [
    "transactions = context.catalog.load('transactions_sample')"
   ]
  },
  {
   "cell_type": "code",
   "execution_count": null,
   "id": "80d7f680",
   "metadata": {},
   "outputs": [],
   "source": [
    "articles = context.catalog.load('articles_sample')"
   ]
  },
  {
   "cell_type": "code",
   "execution_count": null,
   "id": "163df828",
   "metadata": {},
   "outputs": [],
   "source": [
    "customers = context.catalog.load('customers_sample')"
   ]
  },
  {
   "cell_type": "code",
   "execution_count": null,
   "id": "576e461c",
   "metadata": {},
   "outputs": [],
   "source": [
    "transactions['t_dat'].min(), transactions['t_dat'].max()"
   ]
  },
  {
   "cell_type": "code",
   "execution_count": null,
   "id": "12b67992",
   "metadata": {},
   "outputs": [],
   "source": [
    "transactions['article_id'].nunique()"
   ]
  },
  {
   "cell_type": "code",
   "execution_count": null,
   "id": "7f480dfb",
   "metadata": {},
   "outputs": [],
   "source": [
    "articles['article_id'].nunique()"
   ]
  },
  {
   "cell_type": "code",
   "execution_count": null,
   "id": "27ef99b3",
   "metadata": {},
   "outputs": [],
   "source": [
    "transactions['customer_id'].nunique()"
   ]
  },
  {
   "cell_type": "code",
   "execution_count": null,
   "id": "cecd9e02",
   "metadata": {},
   "outputs": [],
   "source": [
    "customers['customer_id'].nunique()"
   ]
  },
  {
   "cell_type": "code",
   "execution_count": null,
   "id": "9f843eca",
   "metadata": {},
   "outputs": [],
   "source": [
    "transactions.shape"
   ]
  },
  {
   "cell_type": "code",
   "execution_count": null,
   "id": "b911f489",
   "metadata": {},
   "outputs": [],
   "source": [
    "transactions.merge(articles['article_id'], on='article_id').shape"
   ]
  },
  {
   "cell_type": "code",
   "execution_count": null,
   "id": "dc82829f",
   "metadata": {},
   "outputs": [],
   "source": [
    "transactions.merge(customers['customer_id'], on='customer_id').shape"
   ]
  },
  {
   "cell_type": "code",
   "execution_count": null,
   "id": "71056636",
   "metadata": {},
   "outputs": [],
   "source": []
  }
 ],
 "metadata": {
  "kernelspec": {
   "display_name": "Python 3.8.12 ('.venv': poetry)",
   "language": "python",
   "name": "python3"
  },
  "language_info": {
   "codemirror_mode": {
    "name": "ipython",
    "version": 3
   },
   "file_extension": ".py",
   "mimetype": "text/x-python",
   "name": "python",
   "nbconvert_exporter": "python",
   "pygments_lexer": "ipython3",
   "version": "3.8.12"
  },
  "vscode": {
   "interpreter": {
    "hash": "b090d651ab6bb94fc3fcfd79ea14f79b2004aa048e2234831f7803cc80488031"
   }
  }
 },
 "nbformat": 4,
 "nbformat_minor": 5
}
