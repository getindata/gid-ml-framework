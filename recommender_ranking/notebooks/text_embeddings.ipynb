{
 "cells": [
  {
   "cell_type": "code",
   "execution_count": null,
   "id": "4fc917df",
   "metadata": {},
   "outputs": [],
   "source": [
    "%load_ext kedro.extras.extensions.ipython"
   ]
  },
  {
   "cell_type": "code",
   "execution_count": null,
   "id": "c7fd1a4d",
   "metadata": {},
   "outputs": [],
   "source": [
    "%reload_kedro"
   ]
  },
  {
   "cell_type": "code",
   "execution_count": null,
   "id": "311a6211",
   "metadata": {},
   "outputs": [],
   "source": [
    "import pandas as pd\n",
    "import numpy as np"
   ]
  },
  {
   "cell_type": "code",
   "execution_count": null,
   "id": "aca0237c",
   "metadata": {},
   "outputs": [],
   "source": [
    "catalog.list()"
   ]
  },
  {
   "cell_type": "code",
   "execution_count": null,
   "id": "25d0856e",
   "metadata": {},
   "outputs": [],
   "source": [
    "articles = context.catalog.load('articles')"
   ]
  },
  {
   "cell_type": "code",
   "execution_count": null,
   "id": "22e8fdbf",
   "metadata": {},
   "outputs": [],
   "source": [
    "article_descriptions = articles['detail_desc'].astype('str').to_list()"
   ]
  },
  {
   "cell_type": "code",
   "execution_count": null,
   "id": "6f14439a",
   "metadata": {},
   "outputs": [],
   "source": [
    "len(article_descriptions)"
   ]
  },
  {
   "cell_type": "code",
   "execution_count": null,
   "id": "fc692ded",
   "metadata": {},
   "outputs": [],
   "source": [
    "from sentence_transformers import SentenceTransformer\n",
    "model = SentenceTransformer('all-MiniLM-L6-v2')"
   ]
  },
  {
   "cell_type": "code",
   "execution_count": null,
   "id": "37ab07a3",
   "metadata": {},
   "outputs": [],
   "source": [
    "embeddings = model.encode(article_descriptions)"
   ]
  },
  {
   "cell_type": "code",
   "execution_count": null,
   "id": "b7868b6d",
   "metadata": {},
   "outputs": [],
   "source": [
    "embeddings[:5].shape"
   ]
  },
  {
   "cell_type": "code",
   "execution_count": null,
   "id": "407d1168",
   "metadata": {},
   "outputs": [],
   "source": []
  },
  {
   "cell_type": "code",
   "execution_count": null,
   "id": "50d4da2e",
   "metadata": {},
   "outputs": [],
   "source": [
    "text_embeddings = pd.DataFrame(data=embeddings, index=articles.article_id)"
   ]
  },
  {
   "cell_type": "code",
   "execution_count": null,
   "id": "960f9cef",
   "metadata": {},
   "outputs": [],
   "source": [
    "text_embeddings.columns = [f'emb_{i+1}' for i, _ in enumerate(text_embeddings.columns)]"
   ]
  },
  {
   "cell_type": "code",
   "execution_count": null,
   "id": "01da137b",
   "metadata": {},
   "outputs": [],
   "source": [
    "text_embeddings"
   ]
  },
  {
   "cell_type": "code",
   "execution_count": null,
   "id": "01848340",
   "metadata": {},
   "outputs": [],
   "source": [
    "text_embeddings.to_parquet('../data/04_feature/text_embeddings.pq')"
   ]
  },
  {
   "cell_type": "code",
   "execution_count": null,
   "id": "acc952e8",
   "metadata": {},
   "outputs": [],
   "source": [
    "pd.read_parquet('../data/04_feature/text_embeddings.pq')"
   ]
  },
  {
   "cell_type": "code",
   "execution_count": null,
   "id": "bf5ef2e9",
   "metadata": {},
   "outputs": [],
   "source": [
    "pd.read_parquet('../data/04_feature/image_embeddings.pq')"
   ]
  },
  {
   "cell_type": "code",
   "execution_count": null,
   "id": "272726d4",
   "metadata": {},
   "outputs": [],
   "source": []
  },
  {
   "cell_type": "markdown",
   "id": "ad93147b",
   "metadata": {},
   "source": [
    "### visualize embeddings"
   ]
  },
  {
   "cell_type": "code",
   "execution_count": null,
   "id": "22a81401",
   "metadata": {},
   "outputs": [],
   "source": [
    "from sklearn.neighbors import KDTree\n",
    "from PIL import Image\n",
    "import matplotlib.pyplot as plt\n",
    "import os"
   ]
  },
  {
   "cell_type": "code",
   "execution_count": null,
   "id": "c492179c",
   "metadata": {},
   "outputs": [],
   "source": [
    "tree = KDTree(text_embeddings.values, leaf_size=5)"
   ]
  },
  {
   "cell_type": "code",
   "execution_count": null,
   "id": "0023c080",
   "metadata": {},
   "outputs": [],
   "source": [
    "def find_similar_images(query_article_id, embeddings, tree):\n",
    "    _, ind = tree.query(embeddings.loc[query_article_id].values.reshape(1, -1), k=5)\n",
    "    closest_embeddings = embeddings.iloc[ind[0]].index.tolist()\n",
    "    imgs = [Image.open(f'../data/01_raw/images_128_128/{article_id}.jpg').convert('RGB') for article_id in closest_embeddings]\n",
    "    _, axs = plt.subplots(1, 5, figsize=(12, 12))\n",
    "    axs = axs.flatten()\n",
    "    for img, article_id, ax in zip(imgs, closest_embeddings, axs):\n",
    "        ax.title.set_text(f'{article_id}')\n",
    "        ax.imshow(img)\n",
    "    plt.show()"
   ]
  },
  {
   "cell_type": "code",
   "execution_count": null,
   "id": "c8c58642",
   "metadata": {},
   "outputs": [],
   "source": [
    "find_similar_images('0680263001', text_embeddings, tree)"
   ]
  },
  {
   "cell_type": "code",
   "execution_count": null,
   "id": "7dc18c83",
   "metadata": {},
   "outputs": [],
   "source": [
    "def plot_n_random_similar_images(n, articles, embeddings):\n",
    "    for i in range(n):\n",
    "        random_article = articles.sample(1)\n",
    "        print(f'''{i+1} random article:\n",
    "        {random_article.prod_name},\n",
    "        {random_article.article_id},\n",
    "        {random_article.product_group_name}\n",
    "        ''')\n",
    "        find_similar_images(random_article.article_id, embeddings, tree)\n",
    "        print('\\n\\n\\n')"
   ]
  },
  {
   "cell_type": "code",
   "execution_count": null,
   "id": "cecfdabd",
   "metadata": {},
   "outputs": [],
   "source": [
    "plot_n_random_similar_images(5, articles, text_embeddings)"
   ]
  },
  {
   "cell_type": "code",
   "execution_count": null,
   "id": "7c771624",
   "metadata": {},
   "outputs": [],
   "source": [
    "for product_group in articles.product_group_name.unique():\n",
    "    print(product_group)\n",
    "    random_article = articles[articles['product_group_name']==product_group].sample(1)\n",
    "    print(f'Random article id: {random_article.article_id}, random_article name: {random_article.prod_name}')\n",
    "    find_similar_images(random_article.article_id, text_embeddings, tree)\n",
    "    print('\\n\\n\\n')"
   ]
  },
  {
   "cell_type": "markdown",
   "id": "888c8899",
   "metadata": {},
   "source": [
    "### tensorboard"
   ]
  },
  {
   "cell_type": "code",
   "execution_count": null,
   "id": "a3af5f63",
   "metadata": {},
   "outputs": [],
   "source": [
    "articles_set = set([file.stem for file in Path('../data/01_raw/images_128_128').glob('*.jpg')])"
   ]
  },
  {
   "cell_type": "code",
   "execution_count": null,
   "id": "0a521257",
   "metadata": {},
   "outputs": [],
   "source": [
    "embeddings_sample = text_embeddings.filter(items=articles_set, axis=0).sample(n=4_000)"
   ]
  },
  {
   "cell_type": "code",
   "execution_count": null,
   "id": "3c63b3cd",
   "metadata": {},
   "outputs": [],
   "source": [
    "all_images = embeddings_sample.index.to_list()"
   ]
  },
  {
   "cell_type": "code",
   "execution_count": null,
   "id": "e54c46c1",
   "metadata": {},
   "outputs": [],
   "source": [
    "all_images[:5]"
   ]
  },
  {
   "cell_type": "code",
   "execution_count": null,
   "id": "f6f3b10f",
   "metadata": {},
   "outputs": [],
   "source": [
    "embeddings_sample.to_csv('tensorboard_embeddings/feature_vecs.tsv', sep=\"\\t\", index=False, header=False)"
   ]
  },
  {
   "cell_type": "code",
   "execution_count": null,
   "id": "34e77c20",
   "metadata": {},
   "outputs": [],
   "source": [
    "images_list = [Image.open(f'../data/01_raw/images_128_128/{article_id}.jpg').convert('RGB') for article_id in all_images]"
   ]
  },
  {
   "cell_type": "code",
   "execution_count": null,
   "id": "ec2b1d3b",
   "metadata": {},
   "outputs": [],
   "source": [
    "image_width, image_height = images_list[0].size"
   ]
  },
  {
   "cell_type": "code",
   "execution_count": null,
   "id": "e4dbc965",
   "metadata": {},
   "outputs": [],
   "source": [
    "one_square_size = int(np.ceil(np.sqrt(len(images_list))))"
   ]
  },
  {
   "cell_type": "code",
   "execution_count": null,
   "id": "b05e5244",
   "metadata": {},
   "outputs": [],
   "source": [
    "master_width = image_width * one_square_size\n",
    "master_height = image_height * one_square_size"
   ]
  },
  {
   "cell_type": "code",
   "execution_count": null,
   "id": "cde3cc66",
   "metadata": {},
   "outputs": [],
   "source": [
    "master_width, master_height"
   ]
  },
  {
   "cell_type": "code",
   "execution_count": null,
   "id": "b34dde75",
   "metadata": {},
   "outputs": [],
   "source": [
    "spriteimage = Image.new(\n",
    "    mode='RGBA',\n",
    "    size=(master_width, master_height),\n",
    "    color=(0,0,0,0))  # fully transparent"
   ]
  },
  {
   "cell_type": "code",
   "execution_count": null,
   "id": "256322a0",
   "metadata": {},
   "outputs": [],
   "source": [
    "for count, image in enumerate(images_list):\n",
    "    div, mod = divmod(count, one_square_size)\n",
    "    h_loc = image_width*div\n",
    "    w_loc = image_width*mod\n",
    "    spriteimage.paste(image, (w_loc, h_loc))"
   ]
  },
  {
   "cell_type": "code",
   "execution_count": null,
   "id": "f02bf4e4",
   "metadata": {},
   "outputs": [],
   "source": [
    "spriteimage.convert(\"RGB\").save('tensorboard_embeddings/sprite.jpg', transparency=0)"
   ]
  },
  {
   "cell_type": "code",
   "execution_count": null,
   "id": "720368ea",
   "metadata": {},
   "outputs": [],
   "source": [
    "sample_articles = articles[articles.article_id.isin(all_images)].copy()"
   ]
  },
  {
   "cell_type": "code",
   "execution_count": null,
   "id": "c4b558d9",
   "metadata": {},
   "outputs": [],
   "source": [
    "sample_articles['article_id'] = pd.Categorical(sample_articles.article_id, categories=all_images, ordered=True)"
   ]
  },
  {
   "cell_type": "code",
   "execution_count": null,
   "id": "a5e572ae",
   "metadata": {},
   "outputs": [],
   "source": [
    "sample_articles.sort_values(by='article_id', inplace=True)"
   ]
  },
  {
   "cell_type": "code",
   "execution_count": null,
   "id": "32943f24",
   "metadata": {},
   "outputs": [],
   "source": [
    "sample_articles[['article_id', 'product_group_name', 'colour_group_name']].to_csv('tensorboard_embeddings/metadata.tsv', sep='\\t', index=False)"
   ]
  },
  {
   "cell_type": "code",
   "execution_count": null,
   "id": "79ec1ce2",
   "metadata": {},
   "outputs": [],
   "source": []
  }
 ],
 "metadata": {
  "kernelspec": {
   "display_name": "Python 3.8.12 ('.venv': poetry)",
   "language": "python",
   "name": "python3"
  },
  "language_info": {
   "codemirror_mode": {
    "name": "ipython",
    "version": 3
   },
   "file_extension": ".py",
   "mimetype": "text/x-python",
   "name": "python",
   "nbconvert_exporter": "python",
   "pygments_lexer": "ipython3",
   "version": "3.8.12"
  },
  "vscode": {
   "interpreter": {
    "hash": "b090d651ab6bb94fc3fcfd79ea14f79b2004aa048e2234831f7803cc80488031"
   }
  }
 },
 "nbformat": 4,
 "nbformat_minor": 5
}
