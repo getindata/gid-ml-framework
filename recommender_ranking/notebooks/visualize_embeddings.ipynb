{
 "cells": [
  {
   "cell_type": "markdown",
   "id": "d45ba482",
   "metadata": {},
   "source": [
    "### kedro catalogs"
   ]
  },
  {
   "cell_type": "code",
   "execution_count": null,
   "id": "cc54524a",
   "metadata": {},
   "outputs": [],
   "source": [
    "%load_ext kedro.extras.extensions.ipython"
   ]
  },
  {
   "cell_type": "code",
   "execution_count": null,
   "id": "f2ee3b9c",
   "metadata": {},
   "outputs": [],
   "source": [
    "%reload_kedro"
   ]
  },
  {
   "cell_type": "code",
   "execution_count": null,
   "id": "4126262c",
   "metadata": {},
   "outputs": [],
   "source": [
    "catalog.list()"
   ]
  },
  {
   "cell_type": "markdown",
   "id": "efbed21b",
   "metadata": {},
   "source": [
    "### loading data"
   ]
  },
  {
   "cell_type": "code",
   "execution_count": null,
   "id": "c7cf6be4",
   "metadata": {},
   "outputs": [],
   "source": [
    "embeddings = context.catalog.load('image_embeddings')"
   ]
  },
  {
   "cell_type": "code",
   "execution_count": null,
   "id": "04e63614",
   "metadata": {},
   "outputs": [],
   "source": [
    "articles = context.catalog.load('articles')"
   ]
  },
  {
   "cell_type": "code",
   "execution_count": null,
   "id": "1d8eebbe",
   "metadata": {},
   "outputs": [],
   "source": [
    "embeddings"
   ]
  },
  {
   "cell_type": "code",
   "execution_count": null,
   "id": "91da0f28",
   "metadata": {},
   "outputs": [],
   "source": [
    "articles.head()"
   ]
  },
  {
   "cell_type": "markdown",
   "id": "7e76a99d",
   "metadata": {},
   "source": [
    "### show similar articles"
   ]
  },
  {
   "cell_type": "markdown",
   "id": "829f31a8",
   "metadata": {},
   "source": [
    "There is also `torch.cdist` for calculating distances between vectors, if you want to do these calculations in PyTorch"
   ]
  },
  {
   "cell_type": "code",
   "execution_count": null,
   "id": "a37f5970",
   "metadata": {},
   "outputs": [],
   "source": [
    "from sklearn.neighbors import KDTree\n",
    "import numpy as np\n",
    "from PIL import Image\n",
    "import matplotlib.pyplot as plt\n",
    "import os\n",
    "import pandas as pd"
   ]
  },
  {
   "cell_type": "code",
   "execution_count": null,
   "id": "b0f88cf3",
   "metadata": {},
   "outputs": [],
   "source": [
    "os.getcwd()"
   ]
  },
  {
   "cell_type": "code",
   "execution_count": null,
   "id": "c7042b52",
   "metadata": {},
   "outputs": [],
   "source": [
    "os.chdir('../data/01_raw/images_128_128')"
   ]
  },
  {
   "cell_type": "code",
   "execution_count": null,
   "id": "cac2d604",
   "metadata": {},
   "outputs": [],
   "source": [
    "os.getcwd()"
   ]
  },
  {
   "cell_type": "code",
   "execution_count": null,
   "id": "4fb0d6fa",
   "metadata": {},
   "outputs": [],
   "source": [
    "tree = KDTree(embeddings.values, leaf_size=5)"
   ]
  },
  {
   "cell_type": "code",
   "execution_count": null,
   "id": "59b178d2",
   "metadata": {},
   "outputs": [],
   "source": [
    "def find_similar_images(query_article_id, embeddings, tree):\n",
    "    _, ind = tree.query(embeddings.loc[query_article_id].values.reshape(1, -1), k=5)\n",
    "    closest_embeddings = embeddings.iloc[ind[0]].index.tolist()\n",
    "    imgs = [Image.open(f'{article_id}.jpg').convert('RGB') for article_id in closest_embeddings]\n",
    "    _, axs = plt.subplots(1, 5, figsize=(12, 12))\n",
    "    axs = axs.flatten()\n",
    "    for img, article_id, ax in zip(imgs, closest_embeddings, axs):\n",
    "        ax.title.set_text(f'{article_id}')\n",
    "        ax.imshow(img)\n",
    "    plt.show()"
   ]
  },
  {
   "cell_type": "code",
   "execution_count": null,
   "id": "1bb2a438",
   "metadata": {},
   "outputs": [],
   "source": [
    "find_similar_images('0680263001', embeddings, tree)"
   ]
  },
  {
   "cell_type": "code",
   "execution_count": null,
   "id": "d2c8a642",
   "metadata": {},
   "outputs": [],
   "source": [
    "def plot_n_random_similar_images(n, articles):\n",
    "    for i in range(n):\n",
    "        random_article = articles.sample(1)\n",
    "        print(f'''{i+1} random article:\n",
    "        {random_article.prod_name},\n",
    "        {random_article.article_id},\n",
    "        {random_article.product_group_name}\n",
    "        ''')\n",
    "        find_similar_images(random_article.article_id, embeddings, tree)\n",
    "        print('\\n\\n\\n')"
   ]
  },
  {
   "cell_type": "code",
   "execution_count": null,
   "id": "be204ec6",
   "metadata": {},
   "outputs": [],
   "source": [
    "plot_n_random_similar_images(5, articles)"
   ]
  },
  {
   "cell_type": "code",
   "execution_count": null,
   "id": "ef96a86d",
   "metadata": {},
   "outputs": [],
   "source": [
    "for product_group in articles.product_group_name.unique():\n",
    "    print(product_group)\n",
    "    random_article = articles[articles['product_group_name']==product_group].sample(1)\n",
    "    print(f'Random article id: {random_article.article_id}, random_article name: {random_article.prod_name}')\n",
    "    find_similar_images(random_article.article_id, embeddings, tree)\n",
    "    print('\\n\\n\\n')"
   ]
  },
  {
   "cell_type": "code",
   "execution_count": null,
   "id": "28842b35",
   "metadata": {},
   "outputs": [],
   "source": []
  },
  {
   "cell_type": "markdown",
   "id": "68d35bce",
   "metadata": {},
   "source": [
    "### Tensorboard clustering"
   ]
  },
  {
   "cell_type": "code",
   "execution_count": null,
   "id": "813529d1",
   "metadata": {},
   "outputs": [],
   "source": [
    "os.getcwd()"
   ]
  },
  {
   "cell_type": "code",
   "execution_count": null,
   "id": "0f7aff6f",
   "metadata": {},
   "outputs": [],
   "source": [
    "embeddings_sample = embeddings.sample(n=4_000)"
   ]
  },
  {
   "cell_type": "code",
   "execution_count": null,
   "id": "7584c838",
   "metadata": {},
   "outputs": [],
   "source": [
    "all_images = embeddings_sample.index.to_list()"
   ]
  },
  {
   "cell_type": "code",
   "execution_count": null,
   "id": "5dcb49c2",
   "metadata": {},
   "outputs": [],
   "source": [
    "embeddings_sample.to_csv('../../../notebooks/tensorboard_embeddings/feature_vecs.tsv', sep=\"\\t\", index=False, header=False)"
   ]
  },
  {
   "cell_type": "code",
   "execution_count": null,
   "id": "941ebf16",
   "metadata": {},
   "outputs": [],
   "source": [
    "images_list = [Image.open(f'{article_id}.jpg').convert('RGB') for article_id in all_images]"
   ]
  },
  {
   "cell_type": "code",
   "execution_count": null,
   "id": "cb3f6807",
   "metadata": {},
   "outputs": [],
   "source": [
    "image_width, image_height = images_list[0].size"
   ]
  },
  {
   "cell_type": "code",
   "execution_count": null,
   "id": "2e2136ae",
   "metadata": {},
   "outputs": [],
   "source": [
    "image_width, image_height"
   ]
  },
  {
   "cell_type": "code",
   "execution_count": null,
   "id": "a59a36ea",
   "metadata": {},
   "outputs": [],
   "source": [
    "one_square_size = int(np.ceil(np.sqrt(len(images_list))))"
   ]
  },
  {
   "cell_type": "code",
   "execution_count": null,
   "id": "513eeed8",
   "metadata": {},
   "outputs": [],
   "source": [
    "master_width = image_width * one_square_size\n",
    "master_height = image_height * one_square_size"
   ]
  },
  {
   "cell_type": "code",
   "execution_count": null,
   "id": "46515969",
   "metadata": {},
   "outputs": [],
   "source": [
    "master_width, master_height"
   ]
  },
  {
   "cell_type": "code",
   "execution_count": null,
   "id": "3faa7551",
   "metadata": {},
   "outputs": [],
   "source": [
    "spriteimage = Image.new(\n",
    "    mode='RGBA',\n",
    "    size=(master_width, master_height),\n",
    "    color=(0,0,0,0))  # fully transparent"
   ]
  },
  {
   "cell_type": "code",
   "execution_count": null,
   "id": "78b6c774",
   "metadata": {},
   "outputs": [],
   "source": [
    "for count, image in enumerate(images_list):\n",
    "    div, mod = divmod(count, one_square_size)\n",
    "    h_loc = image_width*div\n",
    "    w_loc = image_width*mod\n",
    "    spriteimage.paste(image, (w_loc, h_loc))"
   ]
  },
  {
   "cell_type": "code",
   "execution_count": null,
   "id": "79d5b962",
   "metadata": {},
   "outputs": [],
   "source": [
    "spriteimage.convert(\"RGB\").save('../../../notebooks/tensorboard_embeddings/sprite.jpg', transparency=0)"
   ]
  },
  {
   "cell_type": "code",
   "execution_count": null,
   "id": "33d3408a",
   "metadata": {},
   "outputs": [],
   "source": [
    "all_images[:10]"
   ]
  },
  {
   "cell_type": "code",
   "execution_count": null,
   "id": "b2a3156c",
   "metadata": {},
   "outputs": [],
   "source": [
    "sample_articles = articles[articles.article_id.isin(all_images)].copy()"
   ]
  },
  {
   "cell_type": "code",
   "execution_count": null,
   "id": "95831014",
   "metadata": {},
   "outputs": [],
   "source": [
    "sample_articles.shape"
   ]
  },
  {
   "cell_type": "code",
   "execution_count": null,
   "id": "7cee3323",
   "metadata": {},
   "outputs": [],
   "source": [
    "sample_articles['article_id'] = pd.Categorical(sample_articles.article_id, categories=all_images, ordered=True)"
   ]
  },
  {
   "cell_type": "code",
   "execution_count": null,
   "id": "79529c5d",
   "metadata": {},
   "outputs": [],
   "source": [
    "sample_articles.sort_values(by='article_id', inplace=True)"
   ]
  },
  {
   "cell_type": "code",
   "execution_count": null,
   "id": "e8b6a691",
   "metadata": {},
   "outputs": [],
   "source": [
    "sample_articles.head()"
   ]
  },
  {
   "cell_type": "code",
   "execution_count": null,
   "id": "19436b65",
   "metadata": {},
   "outputs": [],
   "source": [
    "sample_articles[['article_id', 'product_group_name', 'colour_group_name']].to_csv('../../../notebooks/tensorboard_embeddings/metadata.tsv', sep='\\t', index=False)"
   ]
  },
  {
   "cell_type": "code",
   "execution_count": null,
   "id": "708fda63",
   "metadata": {},
   "outputs": [],
   "source": [
    "# !cd to your folder with the files"
   ]
  },
  {
   "cell_type": "code",
   "execution_count": null,
   "id": "08e632c0",
   "metadata": {},
   "outputs": [],
   "source": [
    "# create a config in that folder\n",
    "#embeddings {\n",
    "#  tensor_path: \"feature_vecs.tsv\"\n",
    "#  metadata_path: \"metadata.tsv\"\n",
    "#  sprite {\n",
    "#    image_path: \"sprite.jpg\"\n",
    "#    single_image_dim: 50\n",
    "#    single_image_dim: 50\n",
    "#  }\n",
    "#}"
   ]
  },
  {
   "cell_type": "code",
   "execution_count": null,
   "id": "911c07c6",
   "metadata": {},
   "outputs": [],
   "source": [
    "# !tensorboard --logdir ."
   ]
  },
  {
   "cell_type": "code",
   "execution_count": null,
   "id": "9668fc66",
   "metadata": {},
   "outputs": [],
   "source": [
    "# go to Projections -> select dimensionality reduction technique"
   ]
  },
  {
   "cell_type": "code",
   "execution_count": null,
   "id": "dec73677",
   "metadata": {},
   "outputs": [],
   "source": []
  }
 ],
 "metadata": {
  "kernelspec": {
   "display_name": "Python 3 (ipykernel)",
   "language": "python",
   "name": "python3"
  },
  "language_info": {
   "codemirror_mode": {
    "name": "ipython",
    "version": 3
   },
   "file_extension": ".py",
   "mimetype": "text/x-python",
   "name": "python",
   "nbconvert_exporter": "python",
   "pygments_lexer": "ipython3",
   "version": "3.8.12"
  }
 },
 "nbformat": 4,
 "nbformat_minor": 5
}
